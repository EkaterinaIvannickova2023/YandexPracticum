{
 "cells": [
  {
   "cell_type": "markdown",
   "metadata": {},
   "source": [
    "# Определение стоимости автомобилей"
   ]
  },
  {
   "cell_type": "markdown",
   "metadata": {},
   "source": [
    "Сервис по продаже автомобилей с пробегом «Не бит, не крашен» разрабатывает приложение для привлечения новых клиентов. В нём можно быстро узнать рыночную стоимость своего автомобиля. В вашем распоряжении исторические данные: технические характеристики, комплектации и цены автомобилей. Вам нужно построить модель для определения стоимости. \n",
    "\n",
    "Заказчику важны:\n",
    "\n",
    "- качество предсказания;\n",
    "- скорость предсказания;\n",
    "- время обучения."
   ]
  },
  {
   "cell_type": "markdown",
   "metadata": {},
   "source": [
    "## Подготовка данных"
   ]
  },
  {
   "cell_type": "code",
   "execution_count": 1,
   "metadata": {},
   "outputs": [],
   "source": [
    "import pandas as pd #импорт нужных библиотек\n",
    "import numpy as np\n",
    "import seaborn as sns\n",
    "import matplotlib.pyplot as plt\n",
    "\n",
    "from sklearn.preprocessing import StandardScaler\n",
    "from sklearn.model_selection import train_test_split\n",
    "from sklearn.model_selection import cross_val_score,cross_validate, KFold, GridSearchCV\n",
    "from sklearn.preprocessing import OneHotEncoder, OrdinalEncoder, StandardScaler\n",
    "from sklearn.compose import ColumnTransformer\n",
    "from sklearn.linear_model import LinearRegression\n",
    "from sklearn import linear_model\n",
    "from sklearn.tree import DecisionTreeRegressor\n",
    "\n",
    "from lightgbm import LGBMRegressor\n",
    "\n",
    "from sklearn.metrics import mean_squared_error"
   ]
  },
  {
   "cell_type": "code",
   "execution_count": 2,
   "metadata": {},
   "outputs": [
    {
     "name": "stdout",
     "output_type": "stream",
     "text": [
      "<class 'pandas.core.frame.DataFrame'>\n",
      "RangeIndex: 354369 entries, 0 to 354368\n",
      "Data columns (total 16 columns):\n",
      " #   Column             Non-Null Count   Dtype \n",
      "---  ------             --------------   ----- \n",
      " 0   DateCrawled        354369 non-null  object\n",
      " 1   Price              354369 non-null  int64 \n",
      " 2   VehicleType        316879 non-null  object\n",
      " 3   RegistrationYear   354369 non-null  int64 \n",
      " 4   Gearbox            334536 non-null  object\n",
      " 5   Power              354369 non-null  int64 \n",
      " 6   Model              334664 non-null  object\n",
      " 7   Kilometer          354369 non-null  int64 \n",
      " 8   RegistrationMonth  354369 non-null  int64 \n",
      " 9   FuelType           321474 non-null  object\n",
      " 10  Brand              354369 non-null  object\n",
      " 11  Repaired           283215 non-null  object\n",
      " 12  DateCreated        354369 non-null  object\n",
      " 13  NumberOfPictures   354369 non-null  int64 \n",
      " 14  PostalCode         354369 non-null  int64 \n",
      " 15  LastSeen           354369 non-null  object\n",
      "dtypes: int64(7), object(9)\n",
      "memory usage: 43.3+ MB\n"
     ]
    }
   ],
   "source": [
    "cars = pd.read_csv('/datasets/autos.csv') #чтение файла\n",
    "cars.info()"
   ]
  },
  {
   "cell_type": "code",
   "execution_count": 3,
   "metadata": {},
   "outputs": [
    {
     "data": {
      "text/html": [
       "<div>\n",
       "<style scoped>\n",
       "    .dataframe tbody tr th:only-of-type {\n",
       "        vertical-align: middle;\n",
       "    }\n",
       "\n",
       "    .dataframe tbody tr th {\n",
       "        vertical-align: top;\n",
       "    }\n",
       "\n",
       "    .dataframe thead th {\n",
       "        text-align: right;\n",
       "    }\n",
       "</style>\n",
       "<table border=\"1\" class=\"dataframe\">\n",
       "  <thead>\n",
       "    <tr style=\"text-align: right;\">\n",
       "      <th></th>\n",
       "      <th>DateCrawled</th>\n",
       "      <th>Price</th>\n",
       "      <th>VehicleType</th>\n",
       "      <th>RegistrationYear</th>\n",
       "      <th>Gearbox</th>\n",
       "      <th>Power</th>\n",
       "      <th>Model</th>\n",
       "      <th>Kilometer</th>\n",
       "      <th>RegistrationMonth</th>\n",
       "      <th>FuelType</th>\n",
       "      <th>Brand</th>\n",
       "      <th>Repaired</th>\n",
       "      <th>DateCreated</th>\n",
       "      <th>NumberOfPictures</th>\n",
       "      <th>PostalCode</th>\n",
       "      <th>LastSeen</th>\n",
       "    </tr>\n",
       "  </thead>\n",
       "  <tbody>\n",
       "    <tr>\n",
       "      <th>0</th>\n",
       "      <td>2016-03-24 11:52:17</td>\n",
       "      <td>480</td>\n",
       "      <td>NaN</td>\n",
       "      <td>1993</td>\n",
       "      <td>manual</td>\n",
       "      <td>0</td>\n",
       "      <td>golf</td>\n",
       "      <td>150000</td>\n",
       "      <td>0</td>\n",
       "      <td>petrol</td>\n",
       "      <td>volkswagen</td>\n",
       "      <td>NaN</td>\n",
       "      <td>2016-03-24 00:00:00</td>\n",
       "      <td>0</td>\n",
       "      <td>70435</td>\n",
       "      <td>2016-04-07 03:16:57</td>\n",
       "    </tr>\n",
       "    <tr>\n",
       "      <th>1</th>\n",
       "      <td>2016-03-24 10:58:45</td>\n",
       "      <td>18300</td>\n",
       "      <td>coupe</td>\n",
       "      <td>2011</td>\n",
       "      <td>manual</td>\n",
       "      <td>190</td>\n",
       "      <td>NaN</td>\n",
       "      <td>125000</td>\n",
       "      <td>5</td>\n",
       "      <td>gasoline</td>\n",
       "      <td>audi</td>\n",
       "      <td>yes</td>\n",
       "      <td>2016-03-24 00:00:00</td>\n",
       "      <td>0</td>\n",
       "      <td>66954</td>\n",
       "      <td>2016-04-07 01:46:50</td>\n",
       "    </tr>\n",
       "    <tr>\n",
       "      <th>2</th>\n",
       "      <td>2016-03-14 12:52:21</td>\n",
       "      <td>9800</td>\n",
       "      <td>suv</td>\n",
       "      <td>2004</td>\n",
       "      <td>auto</td>\n",
       "      <td>163</td>\n",
       "      <td>grand</td>\n",
       "      <td>125000</td>\n",
       "      <td>8</td>\n",
       "      <td>gasoline</td>\n",
       "      <td>jeep</td>\n",
       "      <td>NaN</td>\n",
       "      <td>2016-03-14 00:00:00</td>\n",
       "      <td>0</td>\n",
       "      <td>90480</td>\n",
       "      <td>2016-04-05 12:47:46</td>\n",
       "    </tr>\n",
       "    <tr>\n",
       "      <th>3</th>\n",
       "      <td>2016-03-17 16:54:04</td>\n",
       "      <td>1500</td>\n",
       "      <td>small</td>\n",
       "      <td>2001</td>\n",
       "      <td>manual</td>\n",
       "      <td>75</td>\n",
       "      <td>golf</td>\n",
       "      <td>150000</td>\n",
       "      <td>6</td>\n",
       "      <td>petrol</td>\n",
       "      <td>volkswagen</td>\n",
       "      <td>no</td>\n",
       "      <td>2016-03-17 00:00:00</td>\n",
       "      <td>0</td>\n",
       "      <td>91074</td>\n",
       "      <td>2016-03-17 17:40:17</td>\n",
       "    </tr>\n",
       "    <tr>\n",
       "      <th>4</th>\n",
       "      <td>2016-03-31 17:25:20</td>\n",
       "      <td>3600</td>\n",
       "      <td>small</td>\n",
       "      <td>2008</td>\n",
       "      <td>manual</td>\n",
       "      <td>69</td>\n",
       "      <td>fabia</td>\n",
       "      <td>90000</td>\n",
       "      <td>7</td>\n",
       "      <td>gasoline</td>\n",
       "      <td>skoda</td>\n",
       "      <td>no</td>\n",
       "      <td>2016-03-31 00:00:00</td>\n",
       "      <td>0</td>\n",
       "      <td>60437</td>\n",
       "      <td>2016-04-06 10:17:21</td>\n",
       "    </tr>\n",
       "  </tbody>\n",
       "</table>\n",
       "</div>"
      ],
      "text/plain": [
       "           DateCrawled  Price VehicleType  RegistrationYear Gearbox  Power  \\\n",
       "0  2016-03-24 11:52:17    480         NaN              1993  manual      0   \n",
       "1  2016-03-24 10:58:45  18300       coupe              2011  manual    190   \n",
       "2  2016-03-14 12:52:21   9800         suv              2004    auto    163   \n",
       "3  2016-03-17 16:54:04   1500       small              2001  manual     75   \n",
       "4  2016-03-31 17:25:20   3600       small              2008  manual     69   \n",
       "\n",
       "   Model  Kilometer  RegistrationMonth  FuelType       Brand Repaired  \\\n",
       "0   golf     150000                  0    petrol  volkswagen      NaN   \n",
       "1    NaN     125000                  5  gasoline        audi      yes   \n",
       "2  grand     125000                  8  gasoline        jeep      NaN   \n",
       "3   golf     150000                  6    petrol  volkswagen       no   \n",
       "4  fabia      90000                  7  gasoline       skoda       no   \n",
       "\n",
       "           DateCreated  NumberOfPictures  PostalCode             LastSeen  \n",
       "0  2016-03-24 00:00:00                 0       70435  2016-04-07 03:16:57  \n",
       "1  2016-03-24 00:00:00                 0       66954  2016-04-07 01:46:50  \n",
       "2  2016-03-14 00:00:00                 0       90480  2016-04-05 12:47:46  \n",
       "3  2016-03-17 00:00:00                 0       91074  2016-03-17 17:40:17  \n",
       "4  2016-03-31 00:00:00                 0       60437  2016-04-06 10:17:21  "
      ]
     },
     "execution_count": 3,
     "metadata": {},
     "output_type": "execute_result"
    }
   ],
   "source": [
    "cars.head()"
   ]
  },
  {
   "cell_type": "code",
   "execution_count": 4,
   "metadata": {},
   "outputs": [
    {
     "data": {
      "text/html": [
       "<div>\n",
       "<style scoped>\n",
       "    .dataframe tbody tr th:only-of-type {\n",
       "        vertical-align: middle;\n",
       "    }\n",
       "\n",
       "    .dataframe tbody tr th {\n",
       "        vertical-align: top;\n",
       "    }\n",
       "\n",
       "    .dataframe thead th {\n",
       "        text-align: right;\n",
       "    }\n",
       "</style>\n",
       "<table border=\"1\" class=\"dataframe\">\n",
       "  <thead>\n",
       "    <tr style=\"text-align: right;\">\n",
       "      <th></th>\n",
       "      <th>Price</th>\n",
       "      <th>RegistrationYear</th>\n",
       "      <th>Power</th>\n",
       "      <th>Kilometer</th>\n",
       "      <th>RegistrationMonth</th>\n",
       "      <th>NumberOfPictures</th>\n",
       "      <th>PostalCode</th>\n",
       "    </tr>\n",
       "  </thead>\n",
       "  <tbody>\n",
       "    <tr>\n",
       "      <th>count</th>\n",
       "      <td>354369.000000</td>\n",
       "      <td>354369.000000</td>\n",
       "      <td>354369.000000</td>\n",
       "      <td>354369.000000</td>\n",
       "      <td>354369.000000</td>\n",
       "      <td>354369.0</td>\n",
       "      <td>354369.000000</td>\n",
       "    </tr>\n",
       "    <tr>\n",
       "      <th>mean</th>\n",
       "      <td>4416.656776</td>\n",
       "      <td>2004.234448</td>\n",
       "      <td>110.094337</td>\n",
       "      <td>128211.172535</td>\n",
       "      <td>5.714645</td>\n",
       "      <td>0.0</td>\n",
       "      <td>50508.689087</td>\n",
       "    </tr>\n",
       "    <tr>\n",
       "      <th>std</th>\n",
       "      <td>4514.158514</td>\n",
       "      <td>90.227958</td>\n",
       "      <td>189.850405</td>\n",
       "      <td>37905.341530</td>\n",
       "      <td>3.726421</td>\n",
       "      <td>0.0</td>\n",
       "      <td>25783.096248</td>\n",
       "    </tr>\n",
       "    <tr>\n",
       "      <th>min</th>\n",
       "      <td>0.000000</td>\n",
       "      <td>1000.000000</td>\n",
       "      <td>0.000000</td>\n",
       "      <td>5000.000000</td>\n",
       "      <td>0.000000</td>\n",
       "      <td>0.0</td>\n",
       "      <td>1067.000000</td>\n",
       "    </tr>\n",
       "    <tr>\n",
       "      <th>25%</th>\n",
       "      <td>1050.000000</td>\n",
       "      <td>1999.000000</td>\n",
       "      <td>69.000000</td>\n",
       "      <td>125000.000000</td>\n",
       "      <td>3.000000</td>\n",
       "      <td>0.0</td>\n",
       "      <td>30165.000000</td>\n",
       "    </tr>\n",
       "    <tr>\n",
       "      <th>50%</th>\n",
       "      <td>2700.000000</td>\n",
       "      <td>2003.000000</td>\n",
       "      <td>105.000000</td>\n",
       "      <td>150000.000000</td>\n",
       "      <td>6.000000</td>\n",
       "      <td>0.0</td>\n",
       "      <td>49413.000000</td>\n",
       "    </tr>\n",
       "    <tr>\n",
       "      <th>75%</th>\n",
       "      <td>6400.000000</td>\n",
       "      <td>2008.000000</td>\n",
       "      <td>143.000000</td>\n",
       "      <td>150000.000000</td>\n",
       "      <td>9.000000</td>\n",
       "      <td>0.0</td>\n",
       "      <td>71083.000000</td>\n",
       "    </tr>\n",
       "    <tr>\n",
       "      <th>max</th>\n",
       "      <td>20000.000000</td>\n",
       "      <td>9999.000000</td>\n",
       "      <td>20000.000000</td>\n",
       "      <td>150000.000000</td>\n",
       "      <td>12.000000</td>\n",
       "      <td>0.0</td>\n",
       "      <td>99998.000000</td>\n",
       "    </tr>\n",
       "  </tbody>\n",
       "</table>\n",
       "</div>"
      ],
      "text/plain": [
       "               Price  RegistrationYear          Power      Kilometer  \\\n",
       "count  354369.000000     354369.000000  354369.000000  354369.000000   \n",
       "mean     4416.656776       2004.234448     110.094337  128211.172535   \n",
       "std      4514.158514         90.227958     189.850405   37905.341530   \n",
       "min         0.000000       1000.000000       0.000000    5000.000000   \n",
       "25%      1050.000000       1999.000000      69.000000  125000.000000   \n",
       "50%      2700.000000       2003.000000     105.000000  150000.000000   \n",
       "75%      6400.000000       2008.000000     143.000000  150000.000000   \n",
       "max     20000.000000       9999.000000   20000.000000  150000.000000   \n",
       "\n",
       "       RegistrationMonth  NumberOfPictures     PostalCode  \n",
       "count      354369.000000          354369.0  354369.000000  \n",
       "mean            5.714645               0.0   50508.689087  \n",
       "std             3.726421               0.0   25783.096248  \n",
       "min             0.000000               0.0    1067.000000  \n",
       "25%             3.000000               0.0   30165.000000  \n",
       "50%             6.000000               0.0   49413.000000  \n",
       "75%             9.000000               0.0   71083.000000  \n",
       "max            12.000000               0.0   99998.000000  "
      ]
     },
     "execution_count": 4,
     "metadata": {},
     "output_type": "execute_result"
    }
   ],
   "source": [
    "cars.describe()"
   ]
  },
  {
   "cell_type": "markdown",
   "metadata": {},
   "source": [
    "Признаки:\n",
    "\n",
    "DateCrawled — дата скачивания анкеты из базы\n",
    "\n",
    "VehicleType — тип автомобильного кузова\n",
    "\n",
    "RegistrationYear — год регистрации автомобиля\n",
    "\n",
    "Gearbox — тип коробки передач\n",
    "\n",
    "Power — мощность (л. с.)\n",
    "\n",
    "Model — модель автомобиля\n",
    "\n",
    "Kilometer — пробег (км)\n",
    "\n",
    "RegistrationMonth — месяц регистрации автомобиля\n",
    "\n",
    "FuelType — тип топлива\n",
    "\n",
    "Brand — марка автомобиля\n",
    "\n",
    "NotRepaired — была машина в ремонте или нет\n",
    "\n",
    "DateCreated — дата создания анкеты\n",
    "\n",
    "NumberOfPictures — количество фотографий автомобиля\n",
    "\n",
    "PostalCode — почтовый индекс владельца анкеты (пользователя)\n",
    "\n",
    "LastSeen — дата последней активности пользователя\n",
    "\n",
    "Целевой признак:\n",
    "\n",
    "Price — цена (евро)"
   ]
  },
  {
   "cell_type": "markdown",
   "metadata": {},
   "source": [
    "Данные загружены и изучены , преобразование требуется для таких признаков ,как - дата создании анкеты,дата скачивания анкеты ,регистрации,год регистрации авто,мощности авто и цены ."
   ]
  },
  {
   "cell_type": "code",
   "execution_count": 5,
   "metadata": {},
   "outputs": [],
   "source": [
    "cars['DateCrawled'] = pd.to_datetime(cars['DateCrawled'], format='%Y-%m-%d %H:%M') # преобразуем дату анкеты\n",
    "cars['DateCreated'] = pd.to_datetime(cars['DateCreated'], format='%Y-%m-%d %H:%M')\n",
    "cars['LastSeen'] = pd.to_datetime(cars['LastSeen'], format='%Y-%m-%d %H:%M') \n",
    "#cars= cars.drop(['DateCrawled', 'DateCreated' , 'LastSeen'], axis=1)"
   ]
  },
  {
   "cell_type": "code",
   "execution_count": 6,
   "metadata": {},
   "outputs": [
    {
     "data": {
      "text/plain": [
       "Timestamp('2016-04-07 14:58:51')"
      ]
     },
     "execution_count": 6,
     "metadata": {},
     "output_type": "execute_result"
    }
   ],
   "source": [
    "cars['LastSeen'].max() #посмотрим на дату последней ативности"
   ]
  },
  {
   "cell_type": "code",
   "execution_count": 7,
   "metadata": {},
   "outputs": [],
   "source": [
    "cars= cars.drop(['DateCrawled', 'DateCreated' , 'LastSeen','NumberOfPictures', 'PostalCode'], axis=1)"
   ]
  },
  {
   "cell_type": "code",
   "execution_count": 8,
   "metadata": {},
   "outputs": [
    {
     "data": {
      "text/plain": [
       "Price                    0\n",
       "VehicleType          37490\n",
       "RegistrationYear         0\n",
       "Gearbox              19833\n",
       "Power                    0\n",
       "Model                19705\n",
       "Kilometer                0\n",
       "RegistrationMonth        0\n",
       "FuelType             32895\n",
       "Brand                    0\n",
       "Repaired             71154\n",
       "dtype: int64"
      ]
     },
     "execution_count": 8,
     "metadata": {},
     "output_type": "execute_result"
    }
   ],
   "source": [
    "cars.isna().sum()"
   ]
  },
  {
   "cell_type": "code",
   "execution_count": 9,
   "metadata": {},
   "outputs": [
    {
     "data": {
      "text/plain": [
       "no     247161\n",
       "yes     36054\n",
       "Name: Repaired, dtype: int64"
      ]
     },
     "execution_count": 9,
     "metadata": {},
     "output_type": "execute_result"
    }
   ],
   "source": [
    "cars['Repaired'].value_counts() #посмотрим на значения "
   ]
  },
  {
   "cell_type": "code",
   "execution_count": 10,
   "metadata": {},
   "outputs": [
    {
     "data": {
      "text/plain": [
       "0          no\n",
       "1         yes\n",
       "2          no\n",
       "3          no\n",
       "4          no\n",
       "         ... \n",
       "354364    yes\n",
       "354365     no\n",
       "354366     no\n",
       "354367     no\n",
       "354368     no\n",
       "Name: Repaired, Length: 354369, dtype: object"
      ]
     },
     "execution_count": 10,
     "metadata": {},
     "output_type": "execute_result"
    }
   ],
   "source": [
    "cars['Repaired'].fillna('no').copy() #заполним пропуски , предположим что 0 - машина не была в ремонте "
   ]
  },
  {
   "cell_type": "code",
   "execution_count": 11,
   "metadata": {},
   "outputs": [
    {
     "data": {
      "text/plain": [
       "0         manual\n",
       "1         manual\n",
       "2           auto\n",
       "3         manual\n",
       "4         manual\n",
       "           ...  \n",
       "354364    manual\n",
       "354365    manual\n",
       "354366      auto\n",
       "354367    manual\n",
       "354368    manual\n",
       "Name: Gearbox, Length: 354369, dtype: object"
      ]
     },
     "execution_count": 11,
     "metadata": {},
     "output_type": "execute_result"
    }
   ],
   "source": [
    "cars['Gearbox'].value_counts()\n",
    "cars['Gearbox'].fillna('manual').copy()"
   ]
  },
  {
   "cell_type": "code",
   "execution_count": 12,
   "metadata": {},
   "outputs": [],
   "source": [
    "def boxplot_print(colum, bins): #функция для построения диаграммы размаха\n",
    "    print(colum.describe())\n",
    "    q1 = colum.quantile(0.25)\n",
    "    q3 = colum.quantile(0.75)\n",
    "    iqr = q3 - q1\n",
    "    sns.boxplot(x=colum, color='blue')   \n",
    "    plt.show()"
   ]
  },
  {
   "cell_type": "markdown",
   "metadata": {},
   "source": [
    "Проанализируем выбросы и аномалии в признаках и избавимся от них. "
   ]
  },
  {
   "cell_type": "code",
   "execution_count": 13,
   "metadata": {},
   "outputs": [
    {
     "name": "stdout",
     "output_type": "stream",
     "text": [
      "count    354369.000000\n",
      "mean       2004.234448\n",
      "std          90.227958\n",
      "min        1000.000000\n",
      "25%        1999.000000\n",
      "50%        2003.000000\n",
      "75%        2008.000000\n",
      "max        9999.000000\n",
      "Name: RegistrationYear, dtype: float64\n"
     ]
    },
    {
     "data": {
      "image/png": "[encoded data removed]",
      "text/plain": [
       "<Figure size 432x288 with 1 Axes>"
      ]
     },
     "metadata": {
      "needs_background": "light"
     },
     "output_type": "display_data"
    }
   ],
   "source": [
    "plt.xlim(1970, 2020) \n",
    "boxplot_print(cars['RegistrationYear'], 10)"
   ]
  },
  {
   "cell_type": "code",
   "execution_count": 14,
   "metadata": {},
   "outputs": [],
   "source": [
    "cars=cars.loc[cars['RegistrationYear']>=1980]\n",
    "cars=cars.loc[cars['RegistrationYear']<=2016]"
   ]
  },
  {
   "cell_type": "code",
   "execution_count": 15,
   "metadata": {},
   "outputs": [
    {
     "data": {
      "image/png": "[encoded data removed]",
      "text/plain": [
       "<Figure size 1080x720 with 2 Axes>"
      ]
     },
     "metadata": {
      "needs_background": "light"
     },
     "output_type": "display_data"
    },
    {
     "data": {
      "image/png": "[encoded data removed]",
      "text/plain": [
       "<Figure size 1080x720 with 2 Axes>"
      ]
     },
     "metadata": {
      "needs_background": "light"
     },
     "output_type": "display_data"
    }
   ],
   "source": [
    "#КОД РЕВЬЮЕРА\n",
    "def hist_and_box_plot(x):\n",
    "    f, (ax_box, ax_hist) = plt.subplots(2, sharex=True, gridspec_kw={\"height_ratios\": (.15, .85)}, figsize=(15,10))\n",
    "\n",
    "    sns.boxplot(x=x, ax=ax_box)\n",
    "    sns.histplot(x=x, bins=30, kde=True, stat='density', ax=ax_hist)\n",
    "\n",
    "    ax_box.set(yticks=[])\n",
    "    sns.despine(ax=ax_hist)\n",
    "    sns.despine(ax=ax_box, left=True)\n",
    "    \n",
    "    \n",
    "df_primer = cars.copy()\n",
    "hist_and_box_plot(np.log1p(df_primer['Power']))\n",
    "hist_and_box_plot(df_primer['Power'])"
   ]
  },
  {
   "cell_type": "code",
   "execution_count": 16,
   "metadata": {},
   "outputs": [],
   "source": [
    "cars.loc[(cars['Power'] > 1000) | (cars['Power'] <= 0), 'Power'] = None\n",
    "cars['Power'] = cars['Power'].fillna(cars.groupby('Model')['Power'].transform('median'))\n",
    "cars=cars.loc[~cars['Power'].isna()]"
   ]
  },
  {
   "cell_type": "code",
   "execution_count": 17,
   "metadata": {},
   "outputs": [
    {
     "name": "stdout",
     "output_type": "stream",
     "text": [
      "count    331161.000000\n",
      "mean        119.629135\n",
      "std          53.682631\n",
      "min           1.000000\n",
      "25%          75.000000\n",
      "50%         110.000000\n",
      "75%         147.000000\n",
      "max        1000.000000\n",
      "Name: Power, dtype: float64\n"
     ]
    },
    {
     "data": {
      "image/png": "[encoded data removed]",
      "text/plain": [
       "<Figure size 432x288 with 1 Axes>"
      ]
     },
     "metadata": {
      "needs_background": "light"
     },
     "output_type": "display_data"
    }
   ],
   "source": [
    "plt.xlim(0,500)\n",
    "boxplot_print(cars['Power'], 10)"
   ]
  },
  {
   "cell_type": "code",
   "execution_count": 18,
   "metadata": {},
   "outputs": [],
   "source": [
    "cars=cars.loc[cars['Price'] != 0]"
   ]
  },
  {
   "cell_type": "code",
   "execution_count": 19,
   "metadata": {},
   "outputs": [],
   "source": [
    "cars=cars.loc[cars.loc[:,'Price'] > 100]\n",
    "cars=cars.loc[cars.loc[:,'Price'] <= 20000]"
   ]
  },
  {
   "cell_type": "code",
   "execution_count": 20,
   "metadata": {},
   "outputs": [
    {
     "name": "stdout",
     "output_type": "stream",
     "text": [
      "count    319543.000000\n",
      "mean       4655.730963\n",
      "std        4534.297865\n",
      "min         101.000000\n",
      "25%        1250.000000\n",
      "50%        2990.000000\n",
      "75%        6700.000000\n",
      "max       20000.000000\n",
      "Name: Price, dtype: float64\n"
     ]
    },
    {
     "data": {
      "image/png": "[encoded data removed]",
      "text/plain": [
       "<Figure size 432x288 with 1 Axes>"
      ]
     },
     "metadata": {
      "needs_background": "light"
     },
     "output_type": "display_data"
    }
   ],
   "source": [
    "boxplot_print(cars['Price'],10)"
   ]
  },
  {
   "cell_type": "code",
   "execution_count": 21,
   "metadata": {},
   "outputs": [],
   "source": [
    "cars=cars.drop_duplicates()#удалим дубликаты"
   ]
  },
  {
   "cell_type": "code",
   "execution_count": 22,
   "metadata": {},
   "outputs": [
    {
     "data": {
      "text/plain": [
       "Price                    0\n",
       "VehicleType          15970\n",
       "RegistrationYear         0\n",
       "Gearbox              11027\n",
       "Power                    0\n",
       "Model                10180\n",
       "Kilometer                0\n",
       "RegistrationMonth        0\n",
       "FuelType             19842\n",
       "Brand                    0\n",
       "Repaired             51364\n",
       "dtype: int64"
      ]
     },
     "execution_count": 22,
     "metadata": {},
     "output_type": "execute_result"
    }
   ],
   "source": [
    "cars.isna().sum()"
   ]
  },
  {
   "cell_type": "markdown",
   "metadata": {},
   "source": [
    "Все пропуски занимают меньше одного процента от исходных данных и находятся в категориальных переменных заполним'n/n'"
   ]
  },
  {
   "cell_type": "code",
   "execution_count": 23,
   "metadata": {},
   "outputs": [
    {
     "name": "stdout",
     "output_type": "stream",
     "text": [
      "<class 'pandas.core.frame.DataFrame'>\n",
      "Int64Index: 294208 entries, 0 to 354368\n",
      "Data columns (total 11 columns):\n",
      " #   Column             Non-Null Count   Dtype  \n",
      "---  ------             --------------   -----  \n",
      " 0   Price              294208 non-null  int64  \n",
      " 1   VehicleType        294208 non-null  object \n",
      " 2   RegistrationYear   294208 non-null  int64  \n",
      " 3   Gearbox            294208 non-null  object \n",
      " 4   Power              294208 non-null  float64\n",
      " 5   Model              294208 non-null  object \n",
      " 6   Kilometer          294208 non-null  int64  \n",
      " 7   RegistrationMonth  294208 non-null  int64  \n",
      " 8   FuelType           294208 non-null  object \n",
      " 9   Brand              294208 non-null  object \n",
      " 10  Repaired           294208 non-null  object \n",
      "dtypes: float64(1), int64(4), object(6)\n",
      "memory usage: 26.9+ MB\n"
     ]
    }
   ],
   "source": [
    "cars.fillna('n/a',inplace=True)\n",
    "cars.info()"
   ]
  },
  {
   "cell_type": "code",
   "execution_count": 26,
   "metadata": {},
   "outputs": [],
   "source": [
    "target = cars['Price']\n",
    "features = cars.drop(['Price'], axis=1)"
   ]
  },
  {
   "cell_type": "code",
   "execution_count": 27,
   "metadata": {},
   "outputs": [
    {
     "data": {
      "text/plain": [
       "((235366, 10), (58842, 10), (235366,), (58842,))"
      ]
     },
     "execution_count": 27,
     "metadata": {},
     "output_type": "execute_result"
    }
   ],
   "source": [
    "X_train, X_test, y_train, y_test = train_test_split(features, target, train_size=0.8)\n",
    "X_train.shape, X_test.shape, y_train.shape, y_test.shape"
   ]
  },
  {
   "cell_type": "code",
   "execution_count": 28,
   "metadata": {},
   "outputs": [
    {
     "data": {
      "text/html": [
       "<div>\n",
       "<style scoped>\n",
       "    .dataframe tbody tr th:only-of-type {\n",
       "        vertical-align: middle;\n",
       "    }\n",
       "\n",
       "    .dataframe tbody tr th {\n",
       "        vertical-align: top;\n",
       "    }\n",
       "\n",
       "    .dataframe thead th {\n",
       "        text-align: right;\n",
       "    }\n",
       "</style>\n",
       "<table border=\"1\" class=\"dataframe\">\n",
       "  <thead>\n",
       "    <tr style=\"text-align: right;\">\n",
       "      <th></th>\n",
       "      <th>Price</th>\n",
       "      <th>VehicleType</th>\n",
       "      <th>RegistrationYear</th>\n",
       "      <th>Gearbox</th>\n",
       "      <th>Power</th>\n",
       "      <th>Model</th>\n",
       "      <th>Kilometer</th>\n",
       "      <th>RegistrationMonth</th>\n",
       "      <th>FuelType</th>\n",
       "      <th>Brand</th>\n",
       "      <th>Repaired</th>\n",
       "    </tr>\n",
       "  </thead>\n",
       "  <tbody>\n",
       "    <tr>\n",
       "      <th>0</th>\n",
       "      <td>480</td>\n",
       "      <td>n/a</td>\n",
       "      <td>1993</td>\n",
       "      <td>manual</td>\n",
       "      <td>101.0</td>\n",
       "      <td>golf</td>\n",
       "      <td>150000</td>\n",
       "      <td>0</td>\n",
       "      <td>petrol</td>\n",
       "      <td>volkswagen</td>\n",
       "      <td>n/a</td>\n",
       "    </tr>\n",
       "    <tr>\n",
       "      <th>1</th>\n",
       "      <td>18300</td>\n",
       "      <td>coupe</td>\n",
       "      <td>2011</td>\n",
       "      <td>manual</td>\n",
       "      <td>190.0</td>\n",
       "      <td>n/a</td>\n",
       "      <td>125000</td>\n",
       "      <td>5</td>\n",
       "      <td>gasoline</td>\n",
       "      <td>audi</td>\n",
       "      <td>yes</td>\n",
       "    </tr>\n",
       "    <tr>\n",
       "      <th>2</th>\n",
       "      <td>9800</td>\n",
       "      <td>suv</td>\n",
       "      <td>2004</td>\n",
       "      <td>auto</td>\n",
       "      <td>163.0</td>\n",
       "      <td>grand</td>\n",
       "      <td>125000</td>\n",
       "      <td>8</td>\n",
       "      <td>gasoline</td>\n",
       "      <td>jeep</td>\n",
       "      <td>n/a</td>\n",
       "    </tr>\n",
       "    <tr>\n",
       "      <th>3</th>\n",
       "      <td>1500</td>\n",
       "      <td>small</td>\n",
       "      <td>2001</td>\n",
       "      <td>manual</td>\n",
       "      <td>75.0</td>\n",
       "      <td>golf</td>\n",
       "      <td>150000</td>\n",
       "      <td>6</td>\n",
       "      <td>petrol</td>\n",
       "      <td>volkswagen</td>\n",
       "      <td>no</td>\n",
       "    </tr>\n",
       "    <tr>\n",
       "      <th>4</th>\n",
       "      <td>3600</td>\n",
       "      <td>small</td>\n",
       "      <td>2008</td>\n",
       "      <td>manual</td>\n",
       "      <td>69.0</td>\n",
       "      <td>fabia</td>\n",
       "      <td>90000</td>\n",
       "      <td>7</td>\n",
       "      <td>gasoline</td>\n",
       "      <td>skoda</td>\n",
       "      <td>no</td>\n",
       "    </tr>\n",
       "    <tr>\n",
       "      <th>...</th>\n",
       "      <td>...</td>\n",
       "      <td>...</td>\n",
       "      <td>...</td>\n",
       "      <td>...</td>\n",
       "      <td>...</td>\n",
       "      <td>...</td>\n",
       "      <td>...</td>\n",
       "      <td>...</td>\n",
       "      <td>...</td>\n",
       "      <td>...</td>\n",
       "      <td>...</td>\n",
       "    </tr>\n",
       "    <tr>\n",
       "      <th>354361</th>\n",
       "      <td>5250</td>\n",
       "      <td>n/a</td>\n",
       "      <td>2016</td>\n",
       "      <td>auto</td>\n",
       "      <td>150.0</td>\n",
       "      <td>159</td>\n",
       "      <td>150000</td>\n",
       "      <td>12</td>\n",
       "      <td>n/a</td>\n",
       "      <td>alfa_romeo</td>\n",
       "      <td>no</td>\n",
       "    </tr>\n",
       "    <tr>\n",
       "      <th>354362</th>\n",
       "      <td>3200</td>\n",
       "      <td>sedan</td>\n",
       "      <td>2004</td>\n",
       "      <td>manual</td>\n",
       "      <td>225.0</td>\n",
       "      <td>leon</td>\n",
       "      <td>150000</td>\n",
       "      <td>5</td>\n",
       "      <td>petrol</td>\n",
       "      <td>seat</td>\n",
       "      <td>yes</td>\n",
       "    </tr>\n",
       "    <tr>\n",
       "      <th>354366</th>\n",
       "      <td>1199</td>\n",
       "      <td>convertible</td>\n",
       "      <td>2000</td>\n",
       "      <td>auto</td>\n",
       "      <td>101.0</td>\n",
       "      <td>fortwo</td>\n",
       "      <td>125000</td>\n",
       "      <td>3</td>\n",
       "      <td>petrol</td>\n",
       "      <td>smart</td>\n",
       "      <td>no</td>\n",
       "    </tr>\n",
       "    <tr>\n",
       "      <th>354367</th>\n",
       "      <td>9200</td>\n",
       "      <td>bus</td>\n",
       "      <td>1996</td>\n",
       "      <td>manual</td>\n",
       "      <td>102.0</td>\n",
       "      <td>transporter</td>\n",
       "      <td>150000</td>\n",
       "      <td>3</td>\n",
       "      <td>gasoline</td>\n",
       "      <td>volkswagen</td>\n",
       "      <td>no</td>\n",
       "    </tr>\n",
       "    <tr>\n",
       "      <th>354368</th>\n",
       "      <td>3400</td>\n",
       "      <td>wagon</td>\n",
       "      <td>2002</td>\n",
       "      <td>manual</td>\n",
       "      <td>100.0</td>\n",
       "      <td>golf</td>\n",
       "      <td>150000</td>\n",
       "      <td>6</td>\n",
       "      <td>gasoline</td>\n",
       "      <td>volkswagen</td>\n",
       "      <td>n/a</td>\n",
       "    </tr>\n",
       "  </tbody>\n",
       "</table>\n",
       "<p>294208 rows × 11 columns</p>\n",
       "</div>"
      ],
      "text/plain": [
       "        Price  VehicleType  RegistrationYear Gearbox  Power        Model  \\\n",
       "0         480          n/a              1993  manual  101.0         golf   \n",
       "1       18300        coupe              2011  manual  190.0          n/a   \n",
       "2        9800          suv              2004    auto  163.0        grand   \n",
       "3        1500        small              2001  manual   75.0         golf   \n",
       "4        3600        small              2008  manual   69.0        fabia   \n",
       "...       ...          ...               ...     ...    ...          ...   \n",
       "354361   5250          n/a              2016    auto  150.0          159   \n",
       "354362   3200        sedan              2004  manual  225.0         leon   \n",
       "354366   1199  convertible              2000    auto  101.0       fortwo   \n",
       "354367   9200          bus              1996  manual  102.0  transporter   \n",
       "354368   3400        wagon              2002  manual  100.0         golf   \n",
       "\n",
       "        Kilometer  RegistrationMonth  FuelType       Brand Repaired  \n",
       "0          150000                  0    petrol  volkswagen      n/a  \n",
       "1          125000                  5  gasoline        audi      yes  \n",
       "2          125000                  8  gasoline        jeep      n/a  \n",
       "3          150000                  6    petrol  volkswagen       no  \n",
       "4           90000                  7  gasoline       skoda       no  \n",
       "...           ...                ...       ...         ...      ...  \n",
       "354361     150000                 12       n/a  alfa_romeo       no  \n",
       "354362     150000                  5    petrol        seat      yes  \n",
       "354366     125000                  3    petrol       smart       no  \n",
       "354367     150000                  3  gasoline  volkswagen       no  \n",
       "354368     150000                  6  gasoline  volkswagen      n/a  \n",
       "\n",
       "[294208 rows x 11 columns]"
      ]
     },
     "execution_count": 28,
     "metadata": {},
     "output_type": "execute_result"
    }
   ],
   "source": [
    "cars"
   ]
  },
  {
   "cell_type": "markdown",
   "metadata": {},
   "source": [
    "Данные преобразованы , аномалии очищены , выборки подготовлены ."
   ]
  },
  {
   "cell_type": "markdown",
   "metadata": {},
   "source": [
    "## Обучение моделей"
   ]
  },
  {
   "cell_type": "code",
   "execution_count": 29,
   "metadata": {},
   "outputs": [],
   "source": [
    "kf = KFold(n_splits=3, shuffle=True, random_state=12345) #разобьем на подвыборки\n",
    "test_s = {}"
   ]
  },
  {
   "cell_type": "code",
   "execution_count": 30,
   "metadata": {},
   "outputs": [
    {
     "data": {
      "text/html": [
       "<div>\n",
       "<style scoped>\n",
       "    .dataframe tbody tr th:only-of-type {\n",
       "        vertical-align: middle;\n",
       "    }\n",
       "\n",
       "    .dataframe tbody tr th {\n",
       "        vertical-align: top;\n",
       "    }\n",
       "\n",
       "    .dataframe thead th {\n",
       "        text-align: right;\n",
       "    }\n",
       "</style>\n",
       "<table border=\"1\" class=\"dataframe\">\n",
       "  <thead>\n",
       "    <tr style=\"text-align: right;\">\n",
       "      <th></th>\n",
       "      <th>Price</th>\n",
       "      <th>VehicleType</th>\n",
       "      <th>RegistrationYear</th>\n",
       "      <th>Gearbox</th>\n",
       "      <th>Power</th>\n",
       "      <th>Model</th>\n",
       "      <th>Kilometer</th>\n",
       "      <th>RegistrationMonth</th>\n",
       "      <th>FuelType</th>\n",
       "      <th>Brand</th>\n",
       "      <th>Repaired</th>\n",
       "    </tr>\n",
       "  </thead>\n",
       "  <tbody>\n",
       "    <tr>\n",
       "      <th>0</th>\n",
       "      <td>480</td>\n",
       "      <td>n/a</td>\n",
       "      <td>1993</td>\n",
       "      <td>manual</td>\n",
       "      <td>101.0</td>\n",
       "      <td>golf</td>\n",
       "      <td>150000</td>\n",
       "      <td>0</td>\n",
       "      <td>petrol</td>\n",
       "      <td>volkswagen</td>\n",
       "      <td>n/a</td>\n",
       "    </tr>\n",
       "    <tr>\n",
       "      <th>1</th>\n",
       "      <td>18300</td>\n",
       "      <td>coupe</td>\n",
       "      <td>2011</td>\n",
       "      <td>manual</td>\n",
       "      <td>190.0</td>\n",
       "      <td>n/a</td>\n",
       "      <td>125000</td>\n",
       "      <td>5</td>\n",
       "      <td>gasoline</td>\n",
       "      <td>audi</td>\n",
       "      <td>yes</td>\n",
       "    </tr>\n",
       "    <tr>\n",
       "      <th>2</th>\n",
       "      <td>9800</td>\n",
       "      <td>suv</td>\n",
       "      <td>2004</td>\n",
       "      <td>auto</td>\n",
       "      <td>163.0</td>\n",
       "      <td>grand</td>\n",
       "      <td>125000</td>\n",
       "      <td>8</td>\n",
       "      <td>gasoline</td>\n",
       "      <td>jeep</td>\n",
       "      <td>n/a</td>\n",
       "    </tr>\n",
       "    <tr>\n",
       "      <th>3</th>\n",
       "      <td>1500</td>\n",
       "      <td>small</td>\n",
       "      <td>2001</td>\n",
       "      <td>manual</td>\n",
       "      <td>75.0</td>\n",
       "      <td>golf</td>\n",
       "      <td>150000</td>\n",
       "      <td>6</td>\n",
       "      <td>petrol</td>\n",
       "      <td>volkswagen</td>\n",
       "      <td>no</td>\n",
       "    </tr>\n",
       "    <tr>\n",
       "      <th>4</th>\n",
       "      <td>3600</td>\n",
       "      <td>small</td>\n",
       "      <td>2008</td>\n",
       "      <td>manual</td>\n",
       "      <td>69.0</td>\n",
       "      <td>fabia</td>\n",
       "      <td>90000</td>\n",
       "      <td>7</td>\n",
       "      <td>gasoline</td>\n",
       "      <td>skoda</td>\n",
       "      <td>no</td>\n",
       "    </tr>\n",
       "    <tr>\n",
       "      <th>...</th>\n",
       "      <td>...</td>\n",
       "      <td>...</td>\n",
       "      <td>...</td>\n",
       "      <td>...</td>\n",
       "      <td>...</td>\n",
       "      <td>...</td>\n",
       "      <td>...</td>\n",
       "      <td>...</td>\n",
       "      <td>...</td>\n",
       "      <td>...</td>\n",
       "      <td>...</td>\n",
       "    </tr>\n",
       "    <tr>\n",
       "      <th>354361</th>\n",
       "      <td>5250</td>\n",
       "      <td>n/a</td>\n",
       "      <td>2016</td>\n",
       "      <td>auto</td>\n",
       "      <td>150.0</td>\n",
       "      <td>159</td>\n",
       "      <td>150000</td>\n",
       "      <td>12</td>\n",
       "      <td>n/a</td>\n",
       "      <td>alfa_romeo</td>\n",
       "      <td>no</td>\n",
       "    </tr>\n",
       "    <tr>\n",
       "      <th>354362</th>\n",
       "      <td>3200</td>\n",
       "      <td>sedan</td>\n",
       "      <td>2004</td>\n",
       "      <td>manual</td>\n",
       "      <td>225.0</td>\n",
       "      <td>leon</td>\n",
       "      <td>150000</td>\n",
       "      <td>5</td>\n",
       "      <td>petrol</td>\n",
       "      <td>seat</td>\n",
       "      <td>yes</td>\n",
       "    </tr>\n",
       "    <tr>\n",
       "      <th>354366</th>\n",
       "      <td>1199</td>\n",
       "      <td>convertible</td>\n",
       "      <td>2000</td>\n",
       "      <td>auto</td>\n",
       "      <td>101.0</td>\n",
       "      <td>fortwo</td>\n",
       "      <td>125000</td>\n",
       "      <td>3</td>\n",
       "      <td>petrol</td>\n",
       "      <td>smart</td>\n",
       "      <td>no</td>\n",
       "    </tr>\n",
       "    <tr>\n",
       "      <th>354367</th>\n",
       "      <td>9200</td>\n",
       "      <td>bus</td>\n",
       "      <td>1996</td>\n",
       "      <td>manual</td>\n",
       "      <td>102.0</td>\n",
       "      <td>transporter</td>\n",
       "      <td>150000</td>\n",
       "      <td>3</td>\n",
       "      <td>gasoline</td>\n",
       "      <td>volkswagen</td>\n",
       "      <td>no</td>\n",
       "    </tr>\n",
       "    <tr>\n",
       "      <th>354368</th>\n",
       "      <td>3400</td>\n",
       "      <td>wagon</td>\n",
       "      <td>2002</td>\n",
       "      <td>manual</td>\n",
       "      <td>100.0</td>\n",
       "      <td>golf</td>\n",
       "      <td>150000</td>\n",
       "      <td>6</td>\n",
       "      <td>gasoline</td>\n",
       "      <td>volkswagen</td>\n",
       "      <td>n/a</td>\n",
       "    </tr>\n",
       "  </tbody>\n",
       "</table>\n",
       "<p>294208 rows × 11 columns</p>\n",
       "</div>"
      ],
      "text/plain": [
       "        Price  VehicleType  RegistrationYear Gearbox  Power        Model  \\\n",
       "0         480          n/a              1993  manual  101.0         golf   \n",
       "1       18300        coupe              2011  manual  190.0          n/a   \n",
       "2        9800          suv              2004    auto  163.0        grand   \n",
       "3        1500        small              2001  manual   75.0         golf   \n",
       "4        3600        small              2008  manual   69.0        fabia   \n",
       "...       ...          ...               ...     ...    ...          ...   \n",
       "354361   5250          n/a              2016    auto  150.0          159   \n",
       "354362   3200        sedan              2004  manual  225.0         leon   \n",
       "354366   1199  convertible              2000    auto  101.0       fortwo   \n",
       "354367   9200          bus              1996  manual  102.0  transporter   \n",
       "354368   3400        wagon              2002  manual  100.0         golf   \n",
       "\n",
       "        Kilometer  RegistrationMonth  FuelType       Brand Repaired  \n",
       "0          150000                  0    petrol  volkswagen      n/a  \n",
       "1          125000                  5  gasoline        audi      yes  \n",
       "2          125000                  8  gasoline        jeep      n/a  \n",
       "3          150000                  6    petrol  volkswagen       no  \n",
       "4           90000                  7  gasoline       skoda       no  \n",
       "...           ...                ...       ...         ...      ...  \n",
       "354361     150000                 12       n/a  alfa_romeo       no  \n",
       "354362     150000                  5    petrol        seat      yes  \n",
       "354366     125000                  3    petrol       smart       no  \n",
       "354367     150000                  3  gasoline  volkswagen       no  \n",
       "354368     150000                  6  gasoline  volkswagen      n/a  \n",
       "\n",
       "[294208 rows x 11 columns]"
      ]
     },
     "execution_count": 30,
     "metadata": {},
     "output_type": "execute_result"
    }
   ],
   "source": [
    "cars"
   ]
  },
  {
   "cell_type": "code",
   "execution_count": 31,
   "metadata": {},
   "outputs": [],
   "source": [
    "categories=['VehicleType', 'Gearbox', 'Model', 'FuelType', 'Brand', 'Repaired']\n",
    "numerics=['Power', 'RegistrationYear', 'Kilometer', 'RegistrationMonth']"
   ]
  },
  {
   "cell_type": "code",
   "execution_count": 32,
   "metadata": {},
   "outputs": [],
   "source": [
    "col_transformer = ColumnTransformer(transformers=[('scaler', StandardScaler(), numerics),\n",
    "                                                  ('ohe', OneHotEncoder(sparse=False, drop='first'), categories)],\n",
    "                                                   remainder='passthrough')\n",
    "\n",
    "transform_train = col_transformer.fit_transform(X_train)\n",
    "transform_test = col_transformer.transform(X_test)"
   ]
  },
  {
   "cell_type": "markdown",
   "metadata": {},
   "source": [
    "Линейная регрессия"
   ]
  },
  {
   "cell_type": "code",
   "execution_count": 33,
   "metadata": {},
   "outputs": [
    {
     "name": "stdout",
     "output_type": "stream",
     "text": [
      "Время обучения: 32.660392904281615,  время предсказания: 0.10301427841186524 и RMSE: 2443.858602970932\n"
     ]
    }
   ],
   "source": [
    "linear_model = LinearRegression()\n",
    "result = cross_validate(linear_model,\n",
    "                           transform_train,\n",
    "                           y_train,\n",
    "                           cv=5,\n",
    "                           scoring='neg_root_mean_squared_error')\n",
    "\n",
    "fit_time = result['fit_time'].mean()\n",
    "score_time = result['score_time'].mean()\n",
    "test_score = result['test_score'].mean() * -1\n",
    "\n",
    "print(f'Время обучения: {fit_time},  время предсказания: {score_time} и RMSE: {test_score}')   "
   ]
  },
  {
   "cell_type": "code",
   "execution_count": 34,
   "metadata": {},
   "outputs": [],
   "source": [
    "test_s['LN']=[fit_time,score_time,test_score]"
   ]
  },
  {
   "cell_type": "markdown",
   "metadata": {},
   "source": [
    "LidhtGBM"
   ]
  },
  {
   "cell_type": "code",
   "execution_count": 35,
   "metadata": {},
   "outputs": [],
   "source": [
    "col_transformer_ordinal = ColumnTransformer(transformers=[('scaler', StandardScaler(), numerics),\n",
    "                     ('ordinal', OrdinalEncoder(handle_unknown='use_encoded_value', unknown_value=-1), categories)],\n",
    "                                                   remainder='passthrough')\n",
    "\n",
    "transform_train_ordinal = col_transformer_ordinal.fit_transform(X_train)\n",
    "transform_test_ordinal = col_transformer_ordinal.transform(X_test) "
   ]
  },
  {
   "cell_type": "code",
   "execution_count": 36,
   "metadata": {},
   "outputs": [
    {
     "data": {
      "text/plain": [
       "GridSearchCV(cv=KFold(n_splits=3, random_state=12345, shuffle=True),\n",
       "             estimator=LGBMRegressor(), n_jobs=-1,\n",
       "             param_grid=[{'learning_rate': [0.05, 0.1],\n",
       "                          'n_estimators': [100, 200], 'num_leaves': [31, 62]}],\n",
       "             scoring='neg_root_mean_squared_error')"
      ]
     },
     "execution_count": 36,
     "metadata": {},
     "output_type": "execute_result"
    }
   ],
   "source": [
    "lgb_model = LGBMRegressor()\n",
    "params = [{'learning_rate': [0.05, 0.1],'n_estimators': [100, 200],'num_leaves': [31, 62]}]\n",
    "\n",
    " \n",
    "grid = GridSearchCV(estimator=lgb_model, param_grid=params,n_jobs=-1,scoring='neg_root_mean_squared_error',cv=kf)\n",
    "\n",
    "grid.fit(transform_train, y_train)"
   ]
  },
  {
   "cell_type": "code",
   "execution_count": 37,
   "metadata": {},
   "outputs": [],
   "source": [
    "results = grid.cv_results_"
   ]
  },
  {
   "cell_type": "code",
   "execution_count": 38,
   "metadata": {},
   "outputs": [
    {
     "name": "stdout",
     "output_type": "stream",
     "text": [
      "Fit time: 15.756566445032755, Predict time: 1.3784135182698567, Best RMSE: 1550.2155926056182\n"
     ]
    }
   ],
   "source": [
    "best_index = grid.best_index_\n",
    "\n",
    "fit_time = results['mean_fit_time'][best_index]\n",
    "score_time = results['mean_score_time'][best_index]\n",
    "RMSE = abs(grid.best_score_)\n",
    "\n",
    "print(f\"Fit time: {fit_time}, Predict time: {score_time}, Best RMSE: {RMSE}\")    "
   ]
  },
  {
   "cell_type": "code",
   "execution_count": 39,
   "metadata": {},
   "outputs": [],
   "source": [
    "test_s['LGB']=[fit_time,score_time,test_score]"
   ]
  },
  {
   "cell_type": "markdown",
   "metadata": {},
   "source": [
    "fOREST"
   ]
  },
  {
   "cell_type": "code",
   "execution_count": 41,
   "metadata": {},
   "outputs": [],
   "source": [
    "col_transformer_ordinal = ColumnTransformer(transformers=[('scaler', StandardScaler(), numerics),\n",
    "                     ('ordinal', OrdinalEncoder(handle_unknown='use_encoded_value', unknown_value=-1), categories)],\n",
    "                                                   remainder='passthrough')\n",
    "\n",
    "transform_train_ordinal = col_transformer_ordinal.fit_transform(X_train)\n",
    "transform_test_ordinal = col_transformer_ordinal.transform(X_test)    "
   ]
  },
  {
   "cell_type": "code",
   "execution_count": 42,
   "metadata": {},
   "outputs": [],
   "source": [
    "from sklearn.ensemble import RandomForestRegressor"
   ]
  },
  {
   "cell_type": "code",
   "execution_count": 43,
   "metadata": {},
   "outputs": [
    {
     "data": {
      "text/plain": [
       "{'max_depth': 13, 'n_estimators': 300}"
      ]
     },
     "execution_count": 43,
     "metadata": {},
     "output_type": "execute_result"
    }
   ],
   "source": [
    "forest_params = {\n",
    "    'max_depth': [11, 12, 13],\n",
    "    'n_estimators': [100, 200, 300]\n",
    "}\n",
    "\n",
    "     \n",
    "\n",
    "grid_rfr = GridSearchCV(RandomForestRegressor(random_state=42), \n",
    "                        forest_params, refit=False, cv=kf, n_jobs=-1, scoring='neg_mean_squared_error') \n",
    "grid_rfr.fit(transform_train_ordinal, y_train)"
   ]
  },
  {
   "cell_type": "code",
   "execution_count": 46,
   "metadata": {},
   "outputs": [],
   "source": [
    "results = grid_rfr.cv_results_"
   ]
  },
  {
   "cell_type": "code",
   "execution_count": 47,
   "metadata": {},
   "outputs": [
    {
     "name": "stdout",
     "output_type": "stream",
     "text": [
      "Fit time: 77.89232611656189, Predict time: 2.859623908996582, Best RMSE: 1550.2155926056182\n"
     ]
    }
   ],
   "source": [
    "best_index = grid_rfr.best_index_\n",
    "\n",
    "fit_time = results['mean_fit_time'][best_index]\n",
    "score_time = results['mean_score_time'][best_index]\n",
    "RMSE = abs(grid.best_score_)\n",
    "\n",
    "print(f\"Fit time: {fit_time}, Predict time: {score_time}, Best RMSE: {RMSE}\")    "
   ]
  },
  {
   "cell_type": "code",
   "execution_count": 48,
   "metadata": {},
   "outputs": [],
   "source": [
    "test_s['FOREST']=[fit_time,score_time,test_score]"
   ]
  },
  {
   "cell_type": "markdown",
   "metadata": {},
   "source": [
    "## Анализ моделей"
   ]
  },
  {
   "cell_type": "code",
   "execution_count": 51,
   "metadata": {},
   "outputs": [
    {
     "data": {
      "text/html": [
       "<div>\n",
       "<style scoped>\n",
       "    .dataframe tbody tr th:only-of-type {\n",
       "        vertical-align: middle;\n",
       "    }\n",
       "\n",
       "    .dataframe tbody tr th {\n",
       "        vertical-align: top;\n",
       "    }\n",
       "\n",
       "    .dataframe thead th {\n",
       "        text-align: right;\n",
       "    }\n",
       "</style>\n",
       "<table border=\"1\" class=\"dataframe\">\n",
       "  <thead>\n",
       "    <tr style=\"text-align: right;\">\n",
       "      <th></th>\n",
       "      <th>fit_time</th>\n",
       "      <th>score_time</th>\n",
       "      <th>test_score</th>\n",
       "    </tr>\n",
       "  </thead>\n",
       "  <tbody>\n",
       "    <tr>\n",
       "      <th>LN</th>\n",
       "      <td>32.660393</td>\n",
       "      <td>0.103014</td>\n",
       "      <td>2443.858603</td>\n",
       "    </tr>\n",
       "    <tr>\n",
       "      <th>LGB</th>\n",
       "      <td>15.756566</td>\n",
       "      <td>1.378414</td>\n",
       "      <td>2443.858603</td>\n",
       "    </tr>\n",
       "    <tr>\n",
       "      <th>FOREST</th>\n",
       "      <td>77.892326</td>\n",
       "      <td>2.859624</td>\n",
       "      <td>2443.858603</td>\n",
       "    </tr>\n",
       "  </tbody>\n",
       "</table>\n",
       "</div>"
      ],
      "text/plain": [
       "         fit_time  score_time   test_score\n",
       "LN      32.660393    0.103014  2443.858603\n",
       "LGB     15.756566    1.378414  2443.858603\n",
       "FOREST  77.892326    2.859624  2443.858603"
      ]
     },
     "execution_count": 51,
     "metadata": {},
     "output_type": "execute_result"
    }
   ],
   "source": [
    "df_score = pd.DataFrame.from_dict(data=test_s, columns=['fit_time', 'score_time', 'test_score'], orient='index')\n",
    "df_score"
   ]
  },
  {
   "cell_type": "markdown",
   "metadata": {},
   "source": [
    "В ходе работы обучили 3 модели такие как LinearRegression,LGBMRegressor,ForestRegressor\n",
    "\n",
    "Модель LGBMRegressor показала наилучший результат по качеству так и по времени."
   ]
  }
 ],
 "metadata": {
  "ExecuteTimeLog": [
   {
    "duration": 1185,
    "start_time": "2022-11-29T10:44:00.716Z"
   },
   {
    "duration": 2,
    "start_time": "2022-11-29T10:44:06.799Z"
   },
   {
    "duration": 58,
    "start_time": "2022-11-29T10:44:07.579Z"
   },
   {
    "duration": 48,
    "start_time": "2022-11-29T10:44:26.331Z"
   },
   {
    "duration": 56,
    "start_time": "2022-11-29T10:45:59.613Z"
   },
   {
    "duration": 3438,
    "start_time": "2022-11-29T10:46:10.153Z"
   },
   {
    "duration": 20,
    "start_time": "2022-11-29T10:52:58.772Z"
   },
   {
    "duration": 93,
    "start_time": "2022-11-29T10:53:15.873Z"
   },
   {
    "duration": 96,
    "start_time": "2022-11-29T10:54:16.665Z"
   },
   {
    "duration": 28,
    "start_time": "2022-11-29T10:58:15.887Z"
   },
   {
    "duration": 13,
    "start_time": "2022-11-29T10:59:38.288Z"
   },
   {
    "duration": 344,
    "start_time": "2022-11-29T10:59:43.894Z"
   },
   {
    "duration": 276,
    "start_time": "2022-11-29T11:00:15.957Z"
   },
   {
    "duration": 3,
    "start_time": "2022-11-29T11:00:20.437Z"
   },
   {
    "duration": 852,
    "start_time": "2022-11-29T11:00:20.443Z"
   },
   {
    "duration": 13,
    "start_time": "2022-11-29T11:00:21.297Z"
   },
   {
    "duration": 95,
    "start_time": "2022-11-29T11:00:21.312Z"
   },
   {
    "duration": 21,
    "start_time": "2022-11-29T11:00:21.409Z"
   },
   {
    "duration": 309,
    "start_time": "2022-11-29T11:00:21.431Z"
   },
   {
    "duration": 261,
    "start_time": "2022-11-29T11:00:21.771Z"
   },
   {
    "duration": 306,
    "start_time": "2022-11-29T11:00:36.193Z"
   },
   {
    "duration": 283,
    "start_time": "2022-11-29T11:00:36.501Z"
   },
   {
    "duration": 3,
    "start_time": "2022-11-29T11:00:40.131Z"
   },
   {
    "duration": 824,
    "start_time": "2022-11-29T11:00:40.291Z"
   },
   {
    "duration": 17,
    "start_time": "2022-11-29T11:00:41.117Z"
   },
   {
    "duration": 105,
    "start_time": "2022-11-29T11:00:41.136Z"
   },
   {
    "duration": 22,
    "start_time": "2022-11-29T11:00:41.244Z"
   },
   {
    "duration": 301,
    "start_time": "2022-11-29T11:00:41.268Z"
   },
   {
    "duration": 256,
    "start_time": "2022-11-29T11:00:41.571Z"
   },
   {
    "duration": 84,
    "start_time": "2022-11-29T11:02:04.735Z"
   },
   {
    "duration": 1005,
    "start_time": "2022-11-29T11:04:23.088Z"
   },
   {
    "duration": 892,
    "start_time": "2022-11-29T11:04:24.095Z"
   },
   {
    "duration": 18,
    "start_time": "2022-11-29T11:04:24.989Z"
   },
   {
    "duration": 100,
    "start_time": "2022-11-29T11:04:25.009Z"
   },
   {
    "duration": 30,
    "start_time": "2022-11-29T11:04:25.110Z"
   },
   {
    "duration": 334,
    "start_time": "2022-11-29T11:04:25.153Z"
   },
   {
    "duration": 85,
    "start_time": "2022-11-29T11:04:25.489Z"
   },
   {
    "duration": 54,
    "start_time": "2022-11-29T11:09:01.998Z"
   },
   {
    "duration": 1097,
    "start_time": "2022-11-29T12:22:48.224Z"
   },
   {
    "duration": 888,
    "start_time": "2022-11-29T12:22:49.323Z"
   },
   {
    "duration": 18,
    "start_time": "2022-11-29T12:22:50.213Z"
   },
   {
    "duration": 41,
    "start_time": "2022-11-29T12:22:50.234Z"
   },
   {
    "duration": 355,
    "start_time": "2022-11-29T12:22:50.277Z"
   },
   {
    "duration": 84,
    "start_time": "2022-11-29T12:22:50.633Z"
   },
   {
    "duration": 6,
    "start_time": "2022-11-29T12:22:50.718Z"
   },
   {
    "duration": 14,
    "start_time": "2022-11-29T12:24:01.747Z"
   },
   {
    "duration": 90,
    "start_time": "2022-11-29T12:27:09.905Z"
   },
   {
    "duration": 102,
    "start_time": "2022-11-29T12:27:26.887Z"
   },
   {
    "duration": 147,
    "start_time": "2022-11-29T12:27:33.880Z"
   },
   {
    "duration": 8,
    "start_time": "2022-11-29T12:28:27.424Z"
   },
   {
    "duration": 1076,
    "start_time": "2022-11-29T12:28:43.245Z"
   },
   {
    "duration": 897,
    "start_time": "2022-11-29T12:28:44.323Z"
   },
   {
    "duration": 21,
    "start_time": "2022-11-29T12:28:45.222Z"
   },
   {
    "duration": 32,
    "start_time": "2022-11-29T12:28:45.252Z"
   },
   {
    "duration": 386,
    "start_time": "2022-11-29T12:28:45.286Z"
   },
   {
    "duration": 98,
    "start_time": "2022-11-29T12:28:45.674Z"
   },
   {
    "duration": 115,
    "start_time": "2022-11-29T12:28:45.774Z"
   },
   {
    "duration": 110,
    "start_time": "2022-11-29T12:28:45.891Z"
   },
   {
    "duration": 9,
    "start_time": "2022-11-29T12:29:11.860Z"
   },
   {
    "duration": 9,
    "start_time": "2022-11-29T12:29:26.266Z"
   },
   {
    "duration": 8,
    "start_time": "2022-11-29T12:29:38.060Z"
   },
   {
    "duration": 8,
    "start_time": "2022-11-29T12:29:40.547Z"
   },
   {
    "duration": 3,
    "start_time": "2022-11-29T12:29:57.498Z"
   },
   {
    "duration": 851,
    "start_time": "2022-11-29T12:29:57.657Z"
   },
   {
    "duration": 13,
    "start_time": "2022-11-29T12:29:58.510Z"
   },
   {
    "duration": 37,
    "start_time": "2022-11-29T12:29:58.524Z"
   },
   {
    "duration": 305,
    "start_time": "2022-11-29T12:29:58.563Z"
   },
   {
    "duration": 96,
    "start_time": "2022-11-29T12:29:58.870Z"
   },
   {
    "duration": 168,
    "start_time": "2022-11-29T12:29:59.011Z"
   },
   {
    "duration": 1690,
    "start_time": "2022-11-29T12:30:48.907Z"
   },
   {
    "duration": 5,
    "start_time": "2022-11-29T12:30:55.454Z"
   },
   {
    "duration": 19,
    "start_time": "2022-11-29T12:31:08.989Z"
   },
   {
    "duration": 106,
    "start_time": "2022-11-29T12:36:28.924Z"
   },
   {
    "duration": 77,
    "start_time": "2022-11-29T12:36:33.726Z"
   },
   {
    "duration": 15,
    "start_time": "2022-11-29T12:36:44.773Z"
   },
   {
    "duration": 62,
    "start_time": "2022-11-29T12:37:49.175Z"
   },
   {
    "duration": 83,
    "start_time": "2022-11-29T12:40:34.758Z"
   },
   {
    "duration": 159,
    "start_time": "2022-11-29T12:40:42.294Z"
   },
   {
    "duration": 148,
    "start_time": "2022-11-29T12:40:54.784Z"
   },
   {
    "duration": 96,
    "start_time": "2022-11-29T12:41:01.356Z"
   },
   {
    "duration": 91,
    "start_time": "2022-11-29T12:41:14.043Z"
   },
   {
    "duration": 88,
    "start_time": "2022-11-29T12:41:22.787Z"
   },
   {
    "duration": 1012,
    "start_time": "2022-11-29T12:43:59.202Z"
   },
   {
    "duration": 928,
    "start_time": "2022-11-29T12:44:00.216Z"
   },
   {
    "duration": 22,
    "start_time": "2022-11-29T12:44:01.145Z"
   },
   {
    "duration": 31,
    "start_time": "2022-11-29T12:44:01.169Z"
   },
   {
    "duration": 365,
    "start_time": "2022-11-29T12:44:01.202Z"
   },
   {
    "duration": 87,
    "start_time": "2022-11-29T12:44:01.569Z"
   },
   {
    "duration": 190,
    "start_time": "2022-11-29T12:44:01.657Z"
   },
   {
    "duration": 17,
    "start_time": "2022-11-29T12:44:01.852Z"
   },
   {
    "duration": 124,
    "start_time": "2022-11-29T12:44:01.871Z"
   },
   {
    "duration": 74,
    "start_time": "2022-11-29T12:44:01.997Z"
   },
   {
    "duration": 324,
    "start_time": "2022-11-29T12:44:43.408Z"
   },
   {
    "duration": 140,
    "start_time": "2022-11-29T12:44:51.180Z"
   },
   {
    "duration": 114,
    "start_time": "2022-11-29T12:45:01.345Z"
   },
   {
    "duration": 104,
    "start_time": "2022-11-29T12:45:52.871Z"
   },
   {
    "duration": 9,
    "start_time": "2022-11-29T12:47:29.607Z"
   },
   {
    "duration": 9,
    "start_time": "2022-11-29T12:47:29.976Z"
   },
   {
    "duration": 9,
    "start_time": "2022-11-29T12:47:30.617Z"
   },
   {
    "duration": 24,
    "start_time": "2022-11-29T12:47:42.199Z"
   },
   {
    "duration": 127,
    "start_time": "2022-11-29T12:47:42.879Z"
   },
   {
    "duration": 4,
    "start_time": "2022-11-29T12:47:43.952Z"
   },
   {
    "duration": 4,
    "start_time": "2022-11-29T12:47:55.526Z"
   },
   {
    "duration": 3,
    "start_time": "2022-11-29T12:47:55.711Z"
   },
   {
    "duration": 11,
    "start_time": "2022-11-29T12:48:42.408Z"
   },
   {
    "duration": 2,
    "start_time": "2022-11-29T12:49:04.367Z"
   },
   {
    "duration": 923,
    "start_time": "2022-11-29T12:49:04.549Z"
   },
   {
    "duration": 13,
    "start_time": "2022-11-29T12:49:05.475Z"
   },
   {
    "duration": 32,
    "start_time": "2022-11-29T12:49:05.490Z"
   },
   {
    "duration": 336,
    "start_time": "2022-11-29T12:49:05.524Z"
   },
   {
    "duration": 94,
    "start_time": "2022-11-29T12:49:05.862Z"
   },
   {
    "duration": 183,
    "start_time": "2022-11-29T12:49:05.958Z"
   },
   {
    "duration": 23,
    "start_time": "2022-11-29T12:49:06.143Z"
   },
   {
    "duration": 74,
    "start_time": "2022-11-29T12:49:06.315Z"
   },
   {
    "duration": 27,
    "start_time": "2022-11-29T12:49:06.872Z"
   },
   {
    "duration": 116,
    "start_time": "2022-11-29T12:49:07.056Z"
   },
   {
    "duration": 3,
    "start_time": "2022-11-29T12:49:07.240Z"
   },
   {
    "duration": 4,
    "start_time": "2022-11-29T12:49:07.432Z"
   },
   {
    "duration": 85,
    "start_time": "2022-11-29T12:49:07.609Z"
   },
   {
    "duration": 4,
    "start_time": "2022-11-29T12:52:00.957Z"
   },
   {
    "duration": 830,
    "start_time": "2022-11-29T12:52:01.103Z"
   },
   {
    "duration": 18,
    "start_time": "2022-11-29T12:52:01.936Z"
   },
   {
    "duration": 27,
    "start_time": "2022-11-29T12:52:01.956Z"
   },
   {
    "duration": 303,
    "start_time": "2022-11-29T12:52:01.985Z"
   },
   {
    "duration": 88,
    "start_time": "2022-11-29T12:52:02.290Z"
   },
   {
    "duration": 249,
    "start_time": "2022-11-29T12:52:02.380Z"
   },
   {
    "duration": 29,
    "start_time": "2022-11-29T12:52:02.632Z"
   },
   {
    "duration": 76,
    "start_time": "2022-11-29T12:52:02.788Z"
   },
   {
    "duration": 26,
    "start_time": "2022-11-29T12:52:03.357Z"
   },
   {
    "duration": 109,
    "start_time": "2022-11-29T12:52:03.545Z"
   },
   {
    "duration": 4,
    "start_time": "2022-11-29T12:52:03.745Z"
   },
   {
    "duration": 4,
    "start_time": "2022-11-29T12:52:03.937Z"
   },
   {
    "duration": 83,
    "start_time": "2022-11-29T12:54:46.994Z"
   },
   {
    "duration": 1057,
    "start_time": "2022-11-29T12:54:53.579Z"
   },
   {
    "duration": 881,
    "start_time": "2022-11-29T12:54:54.638Z"
   },
   {
    "duration": 19,
    "start_time": "2022-11-29T12:54:55.521Z"
   },
   {
    "duration": 37,
    "start_time": "2022-11-29T12:54:55.542Z"
   },
   {
    "duration": 368,
    "start_time": "2022-11-29T12:54:55.581Z"
   },
   {
    "duration": 85,
    "start_time": "2022-11-29T12:54:55.951Z"
   },
   {
    "duration": 181,
    "start_time": "2022-11-29T12:54:56.038Z"
   },
   {
    "duration": 17,
    "start_time": "2022-11-29T12:54:56.221Z"
   },
   {
    "duration": 121,
    "start_time": "2022-11-29T12:54:56.239Z"
   },
   {
    "duration": 20,
    "start_time": "2022-11-29T12:54:56.362Z"
   },
   {
    "duration": 131,
    "start_time": "2022-11-29T12:54:56.384Z"
   },
   {
    "duration": 4,
    "start_time": "2022-11-29T12:54:56.517Z"
   },
   {
    "duration": 7,
    "start_time": "2022-11-29T12:54:56.522Z"
   },
   {
    "duration": 295,
    "start_time": "2022-11-29T12:54:56.530Z"
   },
   {
    "duration": 991,
    "start_time": "2022-11-29T12:55:27.707Z"
   },
   {
    "duration": 862,
    "start_time": "2022-11-29T12:55:28.700Z"
   },
   {
    "duration": 19,
    "start_time": "2022-11-29T12:55:29.564Z"
   },
   {
    "duration": 31,
    "start_time": "2022-11-29T12:55:29.586Z"
   },
   {
    "duration": 364,
    "start_time": "2022-11-29T12:55:29.619Z"
   },
   {
    "duration": 87,
    "start_time": "2022-11-29T12:55:29.985Z"
   },
   {
    "duration": 188,
    "start_time": "2022-11-29T12:55:30.074Z"
   },
   {
    "duration": 18,
    "start_time": "2022-11-29T12:55:30.264Z"
   },
   {
    "duration": 131,
    "start_time": "2022-11-29T12:55:30.283Z"
   },
   {
    "duration": 35,
    "start_time": "2022-11-29T12:55:30.417Z"
   },
   {
    "duration": 123,
    "start_time": "2022-11-29T12:55:30.454Z"
   },
   {
    "duration": 4,
    "start_time": "2022-11-29T12:55:30.579Z"
   },
   {
    "duration": 21,
    "start_time": "2022-11-29T12:55:30.585Z"
   },
   {
    "duration": 287,
    "start_time": "2022-11-29T12:55:30.608Z"
   },
   {
    "duration": 11,
    "start_time": "2022-11-29T12:56:23.078Z"
   },
   {
    "duration": 1120,
    "start_time": "2022-11-29T12:56:59.630Z"
   },
   {
    "duration": 914,
    "start_time": "2022-11-29T12:57:00.752Z"
   },
   {
    "duration": 18,
    "start_time": "2022-11-29T12:57:01.668Z"
   },
   {
    "duration": 46,
    "start_time": "2022-11-29T12:57:01.688Z"
   },
   {
    "duration": 367,
    "start_time": "2022-11-29T12:57:01.735Z"
   },
   {
    "duration": 88,
    "start_time": "2022-11-29T12:57:02.104Z"
   },
   {
    "duration": 182,
    "start_time": "2022-11-29T12:57:02.193Z"
   },
   {
    "duration": 19,
    "start_time": "2022-11-29T12:57:02.377Z"
   },
   {
    "duration": 137,
    "start_time": "2022-11-29T12:57:02.398Z"
   },
   {
    "duration": 29,
    "start_time": "2022-11-29T12:57:02.538Z"
   },
   {
    "duration": 148,
    "start_time": "2022-11-29T12:57:02.569Z"
   },
   {
    "duration": 3,
    "start_time": "2022-11-29T12:57:02.719Z"
   },
   {
    "duration": 6,
    "start_time": "2022-11-29T12:57:02.724Z"
   },
   {
    "duration": 97,
    "start_time": "2022-11-29T12:57:02.732Z"
   },
   {
    "duration": 0,
    "start_time": "2022-11-29T12:57:02.830Z"
   },
   {
    "duration": 1070,
    "start_time": "2022-11-29T12:57:22.335Z"
   },
   {
    "duration": 907,
    "start_time": "2022-11-29T12:57:23.407Z"
   },
   {
    "duration": 18,
    "start_time": "2022-11-29T12:57:24.316Z"
   },
   {
    "duration": 42,
    "start_time": "2022-11-29T12:57:24.336Z"
   },
   {
    "duration": 376,
    "start_time": "2022-11-29T12:57:24.379Z"
   },
   {
    "duration": 97,
    "start_time": "2022-11-29T12:57:24.756Z"
   },
   {
    "duration": 188,
    "start_time": "2022-11-29T12:57:24.855Z"
   },
   {
    "duration": 20,
    "start_time": "2022-11-29T12:57:25.044Z"
   },
   {
    "duration": 121,
    "start_time": "2022-11-29T12:57:25.066Z"
   },
   {
    "duration": 23,
    "start_time": "2022-11-29T12:57:25.189Z"
   },
   {
    "duration": 139,
    "start_time": "2022-11-29T12:57:25.213Z"
   },
   {
    "duration": 3,
    "start_time": "2022-11-29T12:57:25.354Z"
   },
   {
    "duration": 10,
    "start_time": "2022-11-29T12:57:25.358Z"
   },
   {
    "duration": 105,
    "start_time": "2022-11-29T12:57:25.369Z"
   },
   {
    "duration": 0,
    "start_time": "2022-11-29T12:57:25.475Z"
   },
   {
    "duration": 13,
    "start_time": "2022-11-29T12:57:51.406Z"
   },
   {
    "duration": 11,
    "start_time": "2022-11-29T12:58:54.936Z"
   },
   {
    "duration": 9,
    "start_time": "2022-11-29T12:59:10.135Z"
   },
   {
    "duration": 97,
    "start_time": "2022-11-29T13:02:13.189Z"
   },
   {
    "duration": 834,
    "start_time": "2022-11-29T13:02:14.966Z"
   },
   {
    "duration": 13,
    "start_time": "2022-11-29T13:02:15.802Z"
   },
   {
    "duration": 35,
    "start_time": "2022-11-29T13:02:15.817Z"
   },
   {
    "duration": 315,
    "start_time": "2022-11-29T13:02:15.937Z"
   },
   {
    "duration": 85,
    "start_time": "2022-11-29T13:02:16.254Z"
   },
   {
    "duration": 176,
    "start_time": "2022-11-29T13:02:16.427Z"
   },
   {
    "duration": 16,
    "start_time": "2022-11-29T13:02:16.778Z"
   },
   {
    "duration": 77,
    "start_time": "2022-11-29T13:02:16.955Z"
   },
   {
    "duration": 28,
    "start_time": "2022-11-29T13:02:17.299Z"
   },
   {
    "duration": 123,
    "start_time": "2022-11-29T13:02:17.481Z"
   },
   {
    "duration": 3,
    "start_time": "2022-11-29T13:02:17.650Z"
   },
   {
    "duration": 3,
    "start_time": "2022-11-29T13:02:17.851Z"
   },
   {
    "duration": 169,
    "start_time": "2022-11-29T13:02:18.295Z"
   },
   {
    "duration": 11,
    "start_time": "2022-11-29T13:02:18.761Z"
   },
   {
    "duration": 113,
    "start_time": "2022-11-29T13:02:19.369Z"
   },
   {
    "duration": 1215,
    "start_time": "2022-11-29T13:03:13.926Z"
   },
   {
    "duration": 932,
    "start_time": "2022-11-29T13:03:15.143Z"
   },
   {
    "duration": 18,
    "start_time": "2022-11-29T13:03:16.077Z"
   },
   {
    "duration": 32,
    "start_time": "2022-11-29T13:03:16.096Z"
   },
   {
    "duration": 350,
    "start_time": "2022-11-29T13:03:16.130Z"
   },
   {
    "duration": 91,
    "start_time": "2022-11-29T13:03:16.482Z"
   },
   {
    "duration": 195,
    "start_time": "2022-11-29T13:03:16.574Z"
   },
   {
    "duration": 18,
    "start_time": "2022-11-29T13:03:16.771Z"
   },
   {
    "duration": 114,
    "start_time": "2022-11-29T13:03:16.790Z"
   },
   {
    "duration": 23,
    "start_time": "2022-11-29T13:03:16.906Z"
   },
   {
    "duration": 142,
    "start_time": "2022-11-29T13:03:16.931Z"
   },
   {
    "duration": 3,
    "start_time": "2022-11-29T13:03:17.075Z"
   },
   {
    "duration": 5,
    "start_time": "2022-11-29T13:03:17.080Z"
   },
   {
    "duration": 294,
    "start_time": "2022-11-29T13:03:17.087Z"
   },
   {
    "duration": 8,
    "start_time": "2022-11-29T13:03:17.383Z"
   },
   {
    "duration": 0,
    "start_time": "2022-11-29T13:03:17.393Z"
   },
   {
    "duration": 81,
    "start_time": "2022-11-29T13:04:15.543Z"
   },
   {
    "duration": 1189,
    "start_time": "2022-11-29T13:05:50.930Z"
   },
   {
    "duration": 1185,
    "start_time": "2022-11-29T13:06:05.430Z"
   },
   {
    "duration": 899,
    "start_time": "2022-11-29T13:06:06.617Z"
   },
   {
    "duration": 18,
    "start_time": "2022-11-29T13:06:07.517Z"
   },
   {
    "duration": 305,
    "start_time": "2022-11-29T13:06:07.538Z"
   },
   {
    "duration": 23,
    "start_time": "2022-11-29T13:06:07.845Z"
   },
   {
    "duration": 197,
    "start_time": "2022-11-29T13:06:07.869Z"
   },
   {
    "duration": 69,
    "start_time": "2022-11-29T13:06:08.068Z"
   },
   {
    "duration": 140,
    "start_time": "2022-11-29T13:06:08.140Z"
   },
   {
    "duration": 16,
    "start_time": "2022-11-29T13:06:08.281Z"
   },
   {
    "duration": 55,
    "start_time": "2022-11-29T13:06:08.300Z"
   },
   {
    "duration": 15,
    "start_time": "2022-11-29T13:06:08.356Z"
   },
   {
    "duration": 65,
    "start_time": "2022-11-29T13:06:08.372Z"
   },
   {
    "duration": 15,
    "start_time": "2022-11-29T13:06:08.439Z"
   },
   {
    "duration": 6,
    "start_time": "2022-11-29T13:06:08.455Z"
   },
   {
    "duration": 164,
    "start_time": "2022-11-29T13:06:08.462Z"
   },
   {
    "duration": 79,
    "start_time": "2022-11-29T13:06:08.628Z"
   },
   {
    "duration": 10,
    "start_time": "2022-11-29T13:07:20.970Z"
   },
   {
    "duration": 9,
    "start_time": "2022-11-29T13:08:01.399Z"
   },
   {
    "duration": 10,
    "start_time": "2022-11-29T13:08:09.764Z"
   },
   {
    "duration": 1092,
    "start_time": "2022-11-29T13:08:20.597Z"
   },
   {
    "duration": 943,
    "start_time": "2022-11-29T13:08:21.691Z"
   },
   {
    "duration": 25,
    "start_time": "2022-11-29T13:08:22.636Z"
   },
   {
    "duration": 299,
    "start_time": "2022-11-29T13:08:22.663Z"
   },
   {
    "duration": 22,
    "start_time": "2022-11-29T13:08:22.964Z"
   },
   {
    "duration": 207,
    "start_time": "2022-11-29T13:08:22.988Z"
   },
   {
    "duration": 58,
    "start_time": "2022-11-29T13:08:23.197Z"
   },
   {
    "duration": 128,
    "start_time": "2022-11-29T13:08:23.257Z"
   },
   {
    "duration": 18,
    "start_time": "2022-11-29T13:08:23.386Z"
   },
   {
    "duration": 53,
    "start_time": "2022-11-29T13:08:23.407Z"
   },
   {
    "duration": 14,
    "start_time": "2022-11-29T13:08:23.462Z"
   },
   {
    "duration": 74,
    "start_time": "2022-11-29T13:08:23.478Z"
   },
   {
    "duration": 5,
    "start_time": "2022-11-29T13:08:23.554Z"
   },
   {
    "duration": 6,
    "start_time": "2022-11-29T13:08:23.561Z"
   },
   {
    "duration": 115,
    "start_time": "2022-11-29T13:08:23.568Z"
   },
   {
    "duration": 0,
    "start_time": "2022-11-29T13:08:23.685Z"
   },
   {
    "duration": 0,
    "start_time": "2022-11-29T13:08:23.686Z"
   },
   {
    "duration": 3,
    "start_time": "2022-11-29T13:09:07.139Z"
   },
   {
    "duration": 93,
    "start_time": "2022-11-29T13:09:08.129Z"
   },
   {
    "duration": 79,
    "start_time": "2022-11-29T13:09:08.800Z"
   },
   {
    "duration": 169,
    "start_time": "2022-11-29T13:09:54.531Z"
   },
   {
    "duration": 100,
    "start_time": "2022-11-29T13:10:29.291Z"
   },
   {
    "duration": 2145,
    "start_time": "2022-11-29T13:10:40.694Z"
   },
   {
    "duration": 463,
    "start_time": "2022-11-29T13:19:37.678Z"
   },
   {
    "duration": 61,
    "start_time": "2022-11-29T13:21:12.449Z"
   },
   {
    "duration": 1448,
    "start_time": "2022-11-29T13:21:28.575Z"
   },
   {
    "duration": 914,
    "start_time": "2022-11-29T13:21:30.025Z"
   },
   {
    "duration": 24,
    "start_time": "2022-11-29T13:21:30.941Z"
   },
   {
    "duration": 303,
    "start_time": "2022-11-29T13:21:30.967Z"
   },
   {
    "duration": 99,
    "start_time": "2022-11-29T13:21:31.272Z"
   },
   {
    "duration": 24,
    "start_time": "2022-11-29T13:21:31.373Z"
   },
   {
    "duration": 238,
    "start_time": "2022-11-29T13:21:31.399Z"
   },
   {
    "duration": 95,
    "start_time": "2022-11-29T13:21:31.639Z"
   },
   {
    "duration": 150,
    "start_time": "2022-11-29T13:21:31.736Z"
   },
   {
    "duration": 17,
    "start_time": "2022-11-29T13:21:31.889Z"
   },
   {
    "duration": 49,
    "start_time": "2022-11-29T13:21:31.911Z"
   },
   {
    "duration": 15,
    "start_time": "2022-11-29T13:21:31.962Z"
   },
   {
    "duration": 80,
    "start_time": "2022-11-29T13:21:31.979Z"
   },
   {
    "duration": 3,
    "start_time": "2022-11-29T13:21:32.061Z"
   },
   {
    "duration": 7,
    "start_time": "2022-11-29T13:21:32.066Z"
   },
   {
    "duration": 124,
    "start_time": "2022-11-29T13:21:32.075Z"
   },
   {
    "duration": 0,
    "start_time": "2022-11-29T13:21:32.201Z"
   },
   {
    "duration": 0,
    "start_time": "2022-11-29T13:21:32.203Z"
   },
   {
    "duration": 0,
    "start_time": "2022-11-29T13:21:32.203Z"
   },
   {
    "duration": 3,
    "start_time": "2022-11-29T13:23:04.640Z"
   },
   {
    "duration": 3,
    "start_time": "2022-11-29T13:23:43.302Z"
   },
   {
    "duration": 112,
    "start_time": "2022-11-29T13:23:43.704Z"
   },
   {
    "duration": 133,
    "start_time": "2022-11-29T13:23:49.060Z"
   },
   {
    "duration": 82,
    "start_time": "2022-11-29T13:25:26.875Z"
   },
   {
    "duration": 28,
    "start_time": "2022-11-29T13:25:33.300Z"
   },
   {
    "duration": 127,
    "start_time": "2022-11-29T13:25:49.963Z"
   },
   {
    "duration": 19,
    "start_time": "2022-11-29T13:26:18.583Z"
   },
   {
    "duration": 120,
    "start_time": "2022-11-29T13:27:18.316Z"
   },
   {
    "duration": 188,
    "start_time": "2022-11-29T13:27:28.294Z"
   },
   {
    "duration": 110,
    "start_time": "2022-11-29T13:27:56.668Z"
   },
   {
    "duration": 20,
    "start_time": "2022-11-29T13:28:20.276Z"
   },
   {
    "duration": 113,
    "start_time": "2022-11-29T13:28:21.084Z"
   },
   {
    "duration": 8,
    "start_time": "2022-11-29T13:29:11.707Z"
   },
   {
    "duration": 4,
    "start_time": "2022-11-29T13:29:13.989Z"
   },
   {
    "duration": 219,
    "start_time": "2022-11-29T13:29:57.841Z"
   },
   {
    "duration": 205,
    "start_time": "2022-11-29T13:31:25.765Z"
   },
   {
    "duration": 208,
    "start_time": "2022-11-29T13:32:28.708Z"
   },
   {
    "duration": 10,
    "start_time": "2022-11-29T13:32:29.195Z"
   },
   {
    "duration": 8,
    "start_time": "2022-11-29T13:32:29.676Z"
   },
   {
    "duration": 18,
    "start_time": "2022-11-29T13:32:32.498Z"
   },
   {
    "duration": 9,
    "start_time": "2022-11-29T13:32:38.638Z"
   },
   {
    "duration": 25,
    "start_time": "2022-11-29T13:33:40.381Z"
   },
   {
    "duration": 23,
    "start_time": "2022-11-29T13:33:44.009Z"
   },
   {
    "duration": 18,
    "start_time": "2022-11-29T13:34:44.379Z"
   },
   {
    "duration": 28,
    "start_time": "2022-11-29T13:34:55.016Z"
   },
   {
    "duration": 2,
    "start_time": "2022-11-29T13:35:13.949Z"
   },
   {
    "duration": 491,
    "start_time": "2022-11-29T13:35:14.739Z"
   },
   {
    "duration": 1384,
    "start_time": "2022-11-29T13:36:08.614Z"
   },
   {
    "duration": 886,
    "start_time": "2022-11-29T13:36:10.000Z"
   },
   {
    "duration": 17,
    "start_time": "2022-11-29T13:36:10.887Z"
   },
   {
    "duration": 307,
    "start_time": "2022-11-29T13:36:10.908Z"
   },
   {
    "duration": 87,
    "start_time": "2022-11-29T13:36:11.217Z"
   },
   {
    "duration": 3,
    "start_time": "2022-11-29T13:36:11.306Z"
   },
   {
    "duration": 141,
    "start_time": "2022-11-29T13:36:11.311Z"
   },
   {
    "duration": 30,
    "start_time": "2022-11-29T13:36:11.454Z"
   },
   {
    "duration": 132,
    "start_time": "2022-11-29T13:36:11.485Z"
   },
   {
    "duration": 14,
    "start_time": "2022-11-29T13:36:11.619Z"
   },
   {
    "duration": 236,
    "start_time": "2022-11-29T13:36:11.635Z"
   },
   {
    "duration": 11,
    "start_time": "2022-11-29T13:36:11.872Z"
   },
   {
    "duration": 7,
    "start_time": "2022-11-29T13:36:11.885Z"
   },
   {
    "duration": 14,
    "start_time": "2022-11-29T13:36:11.893Z"
   },
   {
    "duration": 47,
    "start_time": "2022-11-29T13:36:11.909Z"
   },
   {
    "duration": 119,
    "start_time": "2022-11-29T13:36:11.957Z"
   },
   {
    "duration": 2,
    "start_time": "2022-11-29T13:36:12.078Z"
   },
   {
    "duration": 194,
    "start_time": "2022-11-29T13:36:12.082Z"
   },
   {
    "duration": 128,
    "start_time": "2022-11-29T13:36:12.278Z"
   },
   {
    "duration": 5,
    "start_time": "2022-11-29T13:36:45.348Z"
   },
   {
    "duration": 2,
    "start_time": "2022-11-29T13:36:55.050Z"
   },
   {
    "duration": 126,
    "start_time": "2022-11-29T13:36:56.205Z"
   },
   {
    "duration": 346,
    "start_time": "2022-11-29T13:37:19.407Z"
   },
   {
    "duration": 45977,
    "start_time": "2022-11-29T13:37:45.282Z"
   },
   {
    "duration": 702,
    "start_time": "2022-11-29T13:38:31.261Z"
   },
   {
    "duration": 10,
    "start_time": "2022-11-29T13:38:31.964Z"
   },
   {
    "duration": 22,
    "start_time": "2022-11-29T13:42:54.696Z"
   },
   {
    "duration": 9,
    "start_time": "2022-11-29T13:42:58.032Z"
   },
   {
    "duration": 1403,
    "start_time": "2022-11-29T13:43:14.194Z"
   },
   {
    "duration": 942,
    "start_time": "2022-11-29T13:43:15.598Z"
   },
   {
    "duration": 18,
    "start_time": "2022-11-29T13:43:16.541Z"
   },
   {
    "duration": 284,
    "start_time": "2022-11-29T13:43:16.561Z"
   },
   {
    "duration": 93,
    "start_time": "2022-11-29T13:43:16.848Z"
   },
   {
    "duration": 3,
    "start_time": "2022-11-29T13:43:16.954Z"
   },
   {
    "duration": 140,
    "start_time": "2022-11-29T13:43:16.959Z"
   },
   {
    "duration": 31,
    "start_time": "2022-11-29T13:43:17.101Z"
   },
   {
    "duration": 139,
    "start_time": "2022-11-29T13:43:17.134Z"
   },
   {
    "duration": 15,
    "start_time": "2022-11-29T13:43:17.275Z"
   },
   {
    "duration": 225,
    "start_time": "2022-11-29T13:43:17.291Z"
   },
   {
    "duration": 12,
    "start_time": "2022-11-29T13:43:17.518Z"
   },
   {
    "duration": 22,
    "start_time": "2022-11-29T13:43:17.531Z"
   },
   {
    "duration": 17,
    "start_time": "2022-11-29T13:43:17.556Z"
   },
   {
    "duration": 23,
    "start_time": "2022-11-29T13:43:17.575Z"
   },
   {
    "duration": 124,
    "start_time": "2022-11-29T13:43:17.600Z"
   },
   {
    "duration": 5,
    "start_time": "2022-11-29T13:43:17.726Z"
   },
   {
    "duration": 9,
    "start_time": "2022-11-29T13:43:17.732Z"
   },
   {
    "duration": 402,
    "start_time": "2022-11-29T13:43:17.752Z"
   },
   {
    "duration": 44113,
    "start_time": "2022-11-29T13:43:18.156Z"
   },
   {
    "duration": 601,
    "start_time": "2022-11-29T13:44:02.353Z"
   },
   {
    "duration": 9,
    "start_time": "2022-11-29T13:44:02.955Z"
   },
   {
    "duration": 3,
    "start_time": "2022-11-29T13:46:15.932Z"
   },
   {
    "duration": 1348,
    "start_time": "2022-11-29T13:46:39.302Z"
   },
   {
    "duration": 912,
    "start_time": "2022-11-29T13:46:40.652Z"
   },
   {
    "duration": 18,
    "start_time": "2022-11-29T13:46:41.565Z"
   },
   {
    "duration": 304,
    "start_time": "2022-11-29T13:46:41.584Z"
   },
   {
    "duration": 96,
    "start_time": "2022-11-29T13:46:41.890Z"
   },
   {
    "duration": 2,
    "start_time": "2022-11-29T13:46:41.988Z"
   },
   {
    "duration": 140,
    "start_time": "2022-11-29T13:46:41.992Z"
   },
   {
    "duration": 43,
    "start_time": "2022-11-29T13:46:42.133Z"
   },
   {
    "duration": 133,
    "start_time": "2022-11-29T13:46:42.177Z"
   },
   {
    "duration": 14,
    "start_time": "2022-11-29T13:46:42.313Z"
   },
   {
    "duration": 286,
    "start_time": "2022-11-29T13:46:42.328Z"
   },
   {
    "duration": 18,
    "start_time": "2022-11-29T13:46:42.616Z"
   },
   {
    "duration": 18,
    "start_time": "2022-11-29T13:46:42.636Z"
   },
   {
    "duration": 19,
    "start_time": "2022-11-29T13:46:42.656Z"
   },
   {
    "duration": 24,
    "start_time": "2022-11-29T13:46:42.677Z"
   },
   {
    "duration": 126,
    "start_time": "2022-11-29T13:46:42.703Z"
   },
   {
    "duration": 5,
    "start_time": "2022-11-29T13:46:42.831Z"
   },
   {
    "duration": 3,
    "start_time": "2022-11-29T13:46:42.852Z"
   },
   {
    "duration": 502,
    "start_time": "2022-11-29T13:46:42.857Z"
   },
   {
    "duration": 92,
    "start_time": "2022-11-29T13:46:43.361Z"
   },
   {
    "duration": 45908,
    "start_time": "2022-11-29T13:46:43.455Z"
   },
   {
    "duration": 603,
    "start_time": "2022-11-29T13:47:29.365Z"
   },
   {
    "duration": 3,
    "start_time": "2022-11-29T13:47:29.970Z"
   },
   {
    "duration": 80,
    "start_time": "2022-11-29T13:47:29.975Z"
   },
   {
    "duration": 4,
    "start_time": "2022-11-29T13:48:59.231Z"
   },
   {
    "duration": 815,
    "start_time": "2022-11-29T13:49:10.661Z"
   },
   {
    "duration": 12,
    "start_time": "2022-11-29T13:49:14.989Z"
   },
   {
    "duration": 239,
    "start_time": "2022-11-29T13:49:31.157Z"
   },
   {
    "duration": 84,
    "start_time": "2022-11-29T13:49:33.868Z"
   },
   {
    "duration": 87,
    "start_time": "2022-11-29T13:49:54.891Z"
   },
   {
    "duration": 1496,
    "start_time": "2022-11-29T13:49:56.728Z"
   },
   {
    "duration": 1427,
    "start_time": "2022-11-29T13:50:03.081Z"
   },
   {
    "duration": 919,
    "start_time": "2022-11-29T13:50:04.511Z"
   },
   {
    "duration": 22,
    "start_time": "2022-11-29T13:50:05.432Z"
   },
   {
    "duration": 105,
    "start_time": "2022-11-29T13:50:05.455Z"
   },
   {
    "duration": 282,
    "start_time": "2022-11-29T13:50:05.561Z"
   },
   {
    "duration": 8,
    "start_time": "2022-11-29T13:50:05.845Z"
   },
   {
    "duration": 145,
    "start_time": "2022-11-29T13:50:05.855Z"
   },
   {
    "duration": 32,
    "start_time": "2022-11-29T13:50:06.001Z"
   },
   {
    "duration": 136,
    "start_time": "2022-11-29T13:50:06.034Z"
   },
   {
    "duration": 13,
    "start_time": "2022-11-29T13:50:06.172Z"
   },
   {
    "duration": 229,
    "start_time": "2022-11-29T13:50:06.187Z"
   },
   {
    "duration": 11,
    "start_time": "2022-11-29T13:50:06.418Z"
   },
   {
    "duration": 19,
    "start_time": "2022-11-29T13:50:06.431Z"
   },
   {
    "duration": 41,
    "start_time": "2022-11-29T13:50:06.454Z"
   },
   {
    "duration": 40,
    "start_time": "2022-11-29T13:50:06.497Z"
   },
   {
    "duration": 109,
    "start_time": "2022-11-29T13:50:06.538Z"
   },
   {
    "duration": 7,
    "start_time": "2022-11-29T13:50:06.648Z"
   },
   {
    "duration": 30,
    "start_time": "2022-11-29T13:50:06.657Z"
   },
   {
    "duration": 370,
    "start_time": "2022-11-29T13:50:06.689Z"
   },
   {
    "duration": 3,
    "start_time": "2022-11-29T13:50:07.061Z"
   },
   {
    "duration": 49495,
    "start_time": "2022-11-29T13:50:07.066Z"
   },
   {
    "duration": 998,
    "start_time": "2022-11-29T13:50:56.562Z"
   },
   {
    "duration": 3,
    "start_time": "2022-11-29T13:50:57.562Z"
   },
   {
    "duration": 12,
    "start_time": "2022-11-29T13:50:57.567Z"
   },
   {
    "duration": 3,
    "start_time": "2022-11-29T13:51:19.140Z"
   },
   {
    "duration": 89,
    "start_time": "2022-11-29T13:51:56.073Z"
   },
   {
    "duration": 6,
    "start_time": "2022-11-29T13:52:44.667Z"
   },
   {
    "duration": 84,
    "start_time": "2022-11-29T13:53:08.118Z"
   },
   {
    "duration": 6,
    "start_time": "2022-11-29T13:53:09.970Z"
   },
   {
    "duration": 85,
    "start_time": "2022-11-29T13:53:13.780Z"
   },
   {
    "duration": 5,
    "start_time": "2022-11-29T13:53:24.925Z"
   },
   {
    "duration": 7,
    "start_time": "2022-11-29T13:53:51.498Z"
   },
   {
    "duration": 241,
    "start_time": "2022-11-29T13:54:28.516Z"
   },
   {
    "duration": 7,
    "start_time": "2022-11-29T13:54:29.305Z"
   },
   {
    "duration": 11,
    "start_time": "2022-11-29T13:54:30.153Z"
   },
   {
    "duration": 6,
    "start_time": "2022-11-29T13:54:44.076Z"
   },
   {
    "duration": 207,
    "start_time": "2022-11-29T13:54:44.716Z"
   },
   {
    "duration": 6,
    "start_time": "2022-11-29T13:54:50.277Z"
   },
   {
    "duration": 196,
    "start_time": "2022-11-29T13:54:50.703Z"
   },
   {
    "duration": 11,
    "start_time": "2022-11-29T13:56:12.345Z"
   },
   {
    "duration": 7,
    "start_time": "2022-11-29T13:56:14.339Z"
   },
   {
    "duration": 16,
    "start_time": "2022-11-29T13:56:29.043Z"
   },
   {
    "duration": 33,
    "start_time": "2022-11-29T13:56:29.648Z"
   },
   {
    "duration": 24,
    "start_time": "2022-11-29T13:56:56.086Z"
   },
   {
    "duration": 36,
    "start_time": "2022-11-29T13:56:57.182Z"
   },
   {
    "duration": 5,
    "start_time": "2022-11-29T13:57:07.498Z"
   },
   {
    "duration": 3,
    "start_time": "2022-11-29T13:57:13.786Z"
   },
   {
    "duration": 220,
    "start_time": "2022-11-29T13:57:19.839Z"
   },
   {
    "duration": 1466,
    "start_time": "2022-11-29T13:58:13.395Z"
   },
   {
    "duration": 897,
    "start_time": "2022-11-29T13:58:14.863Z"
   },
   {
    "duration": 15,
    "start_time": "2022-11-29T13:58:15.763Z"
   },
   {
    "duration": 144,
    "start_time": "2022-11-29T13:58:15.780Z"
   },
   {
    "duration": 296,
    "start_time": "2022-11-29T13:58:15.926Z"
   },
   {
    "duration": 4,
    "start_time": "2022-11-29T13:58:16.223Z"
   },
   {
    "duration": 145,
    "start_time": "2022-11-29T13:58:16.228Z"
   },
   {
    "duration": 52,
    "start_time": "2022-11-29T13:58:16.375Z"
   },
   {
    "duration": 138,
    "start_time": "2022-11-29T13:58:16.429Z"
   },
   {
    "duration": 14,
    "start_time": "2022-11-29T13:58:16.570Z"
   },
   {
    "duration": 14,
    "start_time": "2022-11-29T13:58:16.586Z"
   },
   {
    "duration": 232,
    "start_time": "2022-11-29T13:58:16.601Z"
   },
   {
    "duration": 17,
    "start_time": "2022-11-29T13:58:16.835Z"
   },
   {
    "duration": 16,
    "start_time": "2022-11-29T13:58:16.854Z"
   },
   {
    "duration": 23,
    "start_time": "2022-11-29T13:58:16.872Z"
   },
   {
    "duration": 41,
    "start_time": "2022-11-29T13:58:16.897Z"
   },
   {
    "duration": 114,
    "start_time": "2022-11-29T13:58:16.939Z"
   },
   {
    "duration": 5,
    "start_time": "2022-11-29T13:58:17.054Z"
   },
   {
    "duration": 10,
    "start_time": "2022-11-29T13:58:17.061Z"
   },
   {
    "duration": 380,
    "start_time": "2022-11-29T13:58:17.072Z"
   },
   {
    "duration": 3,
    "start_time": "2022-11-29T13:58:17.456Z"
   },
   {
    "duration": 43899,
    "start_time": "2022-11-29T13:58:17.461Z"
   },
   {
    "duration": 606,
    "start_time": "2022-11-29T13:59:01.362Z"
   },
   {
    "duration": 84,
    "start_time": "2022-11-29T13:59:01.969Z"
   },
   {
    "duration": 23,
    "start_time": "2022-11-29T13:59:02.054Z"
   },
   {
    "duration": 1287,
    "start_time": "2022-11-29T14:05:04.842Z"
   },
   {
    "duration": 0,
    "start_time": "2022-11-29T14:05:06.131Z"
   },
   {
    "duration": 3,
    "start_time": "2022-11-29T14:07:06.225Z"
   },
   {
    "duration": 215,
    "start_time": "2022-11-29T14:07:07.846Z"
   },
   {
    "duration": 278,
    "start_time": "2022-11-29T14:08:17.773Z"
   },
   {
    "duration": 199,
    "start_time": "2022-11-29T14:08:56.156Z"
   },
   {
    "duration": 3,
    "start_time": "2022-11-29T14:09:06.090Z"
   },
   {
    "duration": 50697,
    "start_time": "2022-11-29T14:10:08.560Z"
   },
   {
    "duration": 518,
    "start_time": "2022-11-29T14:11:14.243Z"
   },
   {
    "duration": 3,
    "start_time": "2022-11-29T14:11:18.585Z"
   },
   {
    "duration": 9,
    "start_time": "2022-11-29T14:11:20.487Z"
   },
   {
    "duration": 338,
    "start_time": "2022-11-29T14:11:48.125Z"
   },
   {
    "duration": 1434,
    "start_time": "2022-11-29T14:14:49.129Z"
   },
   {
    "duration": 889,
    "start_time": "2022-11-29T14:14:50.565Z"
   },
   {
    "duration": 16,
    "start_time": "2022-11-29T14:14:51.456Z"
   },
   {
    "duration": 109,
    "start_time": "2022-11-29T14:14:51.474Z"
   },
   {
    "duration": 298,
    "start_time": "2022-11-29T14:14:51.585Z"
   },
   {
    "duration": 4,
    "start_time": "2022-11-29T14:14:51.884Z"
   },
   {
    "duration": 148,
    "start_time": "2022-11-29T14:14:51.889Z"
   },
   {
    "duration": 55,
    "start_time": "2022-11-29T14:14:52.039Z"
   },
   {
    "duration": 133,
    "start_time": "2022-11-29T14:14:52.096Z"
   },
   {
    "duration": 21,
    "start_time": "2022-11-29T14:14:52.231Z"
   },
   {
    "duration": 5,
    "start_time": "2022-11-29T14:14:52.254Z"
   },
   {
    "duration": 249,
    "start_time": "2022-11-29T14:14:52.261Z"
   },
   {
    "duration": 13,
    "start_time": "2022-11-29T14:14:52.512Z"
   },
   {
    "duration": 25,
    "start_time": "2022-11-29T14:14:52.527Z"
   },
   {
    "duration": 25,
    "start_time": "2022-11-29T14:14:52.554Z"
   },
   {
    "duration": 31,
    "start_time": "2022-11-29T14:14:52.581Z"
   },
   {
    "duration": 133,
    "start_time": "2022-11-29T14:14:52.613Z"
   },
   {
    "duration": 8,
    "start_time": "2022-11-29T14:14:52.747Z"
   },
   {
    "duration": 6,
    "start_time": "2022-11-29T14:14:52.757Z"
   },
   {
    "duration": 289,
    "start_time": "2022-11-29T14:14:52.765Z"
   },
   {
    "duration": 4,
    "start_time": "2022-11-29T14:14:53.056Z"
   },
   {
    "duration": 42997,
    "start_time": "2022-11-29T14:14:53.062Z"
   },
   {
    "duration": 1698,
    "start_time": "2022-11-29T14:15:36.061Z"
   },
   {
    "duration": 3,
    "start_time": "2022-11-29T14:15:37.760Z"
   },
   {
    "duration": 39,
    "start_time": "2022-11-29T14:15:37.764Z"
   },
   {
    "duration": 33,
    "start_time": "2022-11-29T14:18:48.710Z"
   },
   {
    "duration": 1419,
    "start_time": "2022-11-29T14:19:10.048Z"
   },
   {
    "duration": 885,
    "start_time": "2022-11-29T14:19:11.469Z"
   },
   {
    "duration": 15,
    "start_time": "2022-11-29T14:19:12.356Z"
   },
   {
    "duration": 127,
    "start_time": "2022-11-29T14:19:12.373Z"
   },
   {
    "duration": 306,
    "start_time": "2022-11-29T14:19:12.502Z"
   },
   {
    "duration": 4,
    "start_time": "2022-11-29T14:19:12.809Z"
   },
   {
    "duration": 140,
    "start_time": "2022-11-29T14:19:12.814Z"
   },
   {
    "duration": 53,
    "start_time": "2022-11-29T14:19:12.956Z"
   },
   {
    "duration": 146,
    "start_time": "2022-11-29T14:19:13.011Z"
   },
   {
    "duration": 14,
    "start_time": "2022-11-29T14:19:13.159Z"
   },
   {
    "duration": 5,
    "start_time": "2022-11-29T14:19:13.175Z"
   },
   {
    "duration": 224,
    "start_time": "2022-11-29T14:19:13.181Z"
   },
   {
    "duration": 10,
    "start_time": "2022-11-29T14:19:13.407Z"
   },
   {
    "duration": 8,
    "start_time": "2022-11-29T14:19:13.419Z"
   },
   {
    "duration": 31,
    "start_time": "2022-11-29T14:19:13.428Z"
   },
   {
    "duration": 26,
    "start_time": "2022-11-29T14:19:13.460Z"
   },
   {
    "duration": 119,
    "start_time": "2022-11-29T14:19:13.487Z"
   },
   {
    "duration": 4,
    "start_time": "2022-11-29T14:19:13.608Z"
   },
   {
    "duration": 15,
    "start_time": "2022-11-29T14:19:13.613Z"
   },
   {
    "duration": 324,
    "start_time": "2022-11-29T14:19:13.629Z"
   },
   {
    "duration": 6,
    "start_time": "2022-11-29T14:19:13.957Z"
   },
   {
    "duration": 42498,
    "start_time": "2022-11-29T14:19:13.965Z"
   },
   {
    "duration": 603,
    "start_time": "2022-11-29T14:19:56.465Z"
   },
   {
    "duration": 2,
    "start_time": "2022-11-29T14:19:57.069Z"
   },
   {
    "duration": 88,
    "start_time": "2022-11-29T14:19:57.073Z"
   },
   {
    "duration": 1453,
    "start_time": "2022-11-29T14:21:08.117Z"
   },
   {
    "duration": 843,
    "start_time": "2022-11-29T14:21:09.571Z"
   },
   {
    "duration": 17,
    "start_time": "2022-11-29T14:21:10.415Z"
   },
   {
    "duration": 97,
    "start_time": "2022-11-29T14:21:10.433Z"
   },
   {
    "duration": 282,
    "start_time": "2022-11-29T14:21:10.531Z"
   },
   {
    "duration": 4,
    "start_time": "2022-11-29T14:21:10.814Z"
   },
   {
    "duration": 141,
    "start_time": "2022-11-29T14:21:10.819Z"
   },
   {
    "duration": 48,
    "start_time": "2022-11-29T14:21:10.961Z"
   },
   {
    "duration": 133,
    "start_time": "2022-11-29T14:21:11.011Z"
   },
   {
    "duration": 14,
    "start_time": "2022-11-29T14:21:11.153Z"
   },
   {
    "duration": 6,
    "start_time": "2022-11-29T14:21:11.168Z"
   },
   {
    "duration": 221,
    "start_time": "2022-11-29T14:21:11.176Z"
   },
   {
    "duration": 10,
    "start_time": "2022-11-29T14:21:11.398Z"
   },
   {
    "duration": 7,
    "start_time": "2022-11-29T14:21:11.410Z"
   },
   {
    "duration": 16,
    "start_time": "2022-11-29T14:21:11.419Z"
   },
   {
    "duration": 24,
    "start_time": "2022-11-29T14:21:11.453Z"
   },
   {
    "duration": 117,
    "start_time": "2022-11-29T14:21:11.479Z"
   },
   {
    "duration": 3,
    "start_time": "2022-11-29T14:21:11.598Z"
   },
   {
    "duration": 359,
    "start_time": "2022-11-29T14:21:11.603Z"
   },
   {
    "duration": 3,
    "start_time": "2022-11-29T14:21:12.054Z"
   },
   {
    "duration": 43505,
    "start_time": "2022-11-29T14:21:12.059Z"
   },
   {
    "duration": 691,
    "start_time": "2022-11-29T14:21:55.566Z"
   },
   {
    "duration": 3,
    "start_time": "2022-11-29T14:21:56.258Z"
   },
   {
    "duration": 14,
    "start_time": "2022-11-29T14:21:56.262Z"
   },
   {
    "duration": 9,
    "start_time": "2022-11-29T14:22:30.324Z"
   },
   {
    "duration": 1467,
    "start_time": "2022-11-29T14:25:28.849Z"
   },
   {
    "duration": 875,
    "start_time": "2022-11-29T14:25:30.318Z"
   },
   {
    "duration": 16,
    "start_time": "2022-11-29T14:25:31.195Z"
   },
   {
    "duration": 104,
    "start_time": "2022-11-29T14:25:31.213Z"
   },
   {
    "duration": 263,
    "start_time": "2022-11-29T14:25:31.319Z"
   },
   {
    "duration": 4,
    "start_time": "2022-11-29T14:25:31.584Z"
   },
   {
    "duration": 139,
    "start_time": "2022-11-29T14:25:31.590Z"
   },
   {
    "duration": 61,
    "start_time": "2022-11-29T14:25:31.731Z"
   },
   {
    "duration": 131,
    "start_time": "2022-11-29T14:25:31.794Z"
   },
   {
    "duration": 13,
    "start_time": "2022-11-29T14:25:31.928Z"
   },
   {
    "duration": 14,
    "start_time": "2022-11-29T14:25:31.942Z"
   },
   {
    "duration": 225,
    "start_time": "2022-11-29T14:25:31.957Z"
   },
   {
    "duration": 11,
    "start_time": "2022-11-29T14:25:32.184Z"
   },
   {
    "duration": 8,
    "start_time": "2022-11-29T14:25:32.196Z"
   },
   {
    "duration": 21,
    "start_time": "2022-11-29T14:25:32.206Z"
   },
   {
    "duration": 43,
    "start_time": "2022-11-29T14:25:32.229Z"
   },
   {
    "duration": 117,
    "start_time": "2022-11-29T14:25:32.274Z"
   },
   {
    "duration": 3,
    "start_time": "2022-11-29T14:25:32.393Z"
   },
   {
    "duration": 365,
    "start_time": "2022-11-29T14:25:32.398Z"
   },
   {
    "duration": 87,
    "start_time": "2022-11-29T14:25:32.765Z"
   },
   {
    "duration": 49001,
    "start_time": "2022-11-29T14:25:32.859Z"
   },
   {
    "duration": 507,
    "start_time": "2022-11-29T14:26:21.862Z"
   },
   {
    "duration": 4,
    "start_time": "2022-11-29T14:26:22.453Z"
   },
   {
    "duration": 19,
    "start_time": "2022-11-29T14:26:22.458Z"
   },
   {
    "duration": 3,
    "start_time": "2022-11-29T15:16:34.573Z"
   },
   {
    "duration": 3,
    "start_time": "2022-11-29T15:16:47.554Z"
   },
   {
    "duration": 1457,
    "start_time": "2022-11-29T15:16:59.438Z"
   },
   {
    "duration": 891,
    "start_time": "2022-11-29T15:17:00.897Z"
   },
   {
    "duration": 18,
    "start_time": "2022-11-29T15:17:01.789Z"
   },
   {
    "duration": 116,
    "start_time": "2022-11-29T15:17:01.810Z"
   },
   {
    "duration": 291,
    "start_time": "2022-11-29T15:17:01.928Z"
   },
   {
    "duration": 4,
    "start_time": "2022-11-29T15:17:02.221Z"
   },
   {
    "duration": 184,
    "start_time": "2022-11-29T15:17:02.227Z"
   },
   {
    "duration": 53,
    "start_time": "2022-11-29T15:17:02.413Z"
   },
   {
    "duration": 160,
    "start_time": "2022-11-29T15:17:02.468Z"
   },
   {
    "duration": 25,
    "start_time": "2022-11-29T15:17:02.631Z"
   },
   {
    "duration": 13,
    "start_time": "2022-11-29T15:17:02.658Z"
   },
   {
    "duration": 254,
    "start_time": "2022-11-29T15:17:02.674Z"
   },
   {
    "duration": 11,
    "start_time": "2022-11-29T15:17:02.930Z"
   },
   {
    "duration": 33,
    "start_time": "2022-11-29T15:17:02.952Z"
   },
   {
    "duration": 36,
    "start_time": "2022-11-29T15:17:02.987Z"
   },
   {
    "duration": 57,
    "start_time": "2022-11-29T15:17:03.025Z"
   },
   {
    "duration": 107,
    "start_time": "2022-11-29T15:17:03.084Z"
   },
   {
    "duration": 10,
    "start_time": "2022-11-29T15:17:03.193Z"
   },
   {
    "duration": 249,
    "start_time": "2022-11-29T15:17:03.205Z"
   },
   {
    "duration": 103,
    "start_time": "2022-11-29T15:17:03.456Z"
   },
   {
    "duration": 82099,
    "start_time": "2022-11-29T15:17:03.561Z"
   },
   {
    "duration": 2501,
    "start_time": "2022-11-29T15:18:25.662Z"
   },
   {
    "duration": 4,
    "start_time": "2022-11-29T15:18:28.165Z"
   },
   {
    "duration": 86,
    "start_time": "2022-11-29T15:18:28.170Z"
   },
   {
    "duration": 1513,
    "start_time": "2022-11-29T15:22:02.847Z"
   },
   {
    "duration": 887,
    "start_time": "2022-11-29T15:22:04.362Z"
   },
   {
    "duration": 17,
    "start_time": "2022-11-29T15:22:05.252Z"
   },
   {
    "duration": 111,
    "start_time": "2022-11-29T15:22:05.271Z"
   },
   {
    "duration": 280,
    "start_time": "2022-11-29T15:22:05.383Z"
   },
   {
    "duration": 4,
    "start_time": "2022-11-29T15:22:05.664Z"
   },
   {
    "duration": 138,
    "start_time": "2022-11-29T15:22:05.669Z"
   },
   {
    "duration": 60,
    "start_time": "2022-11-29T15:22:05.808Z"
   },
   {
    "duration": 131,
    "start_time": "2022-11-29T15:22:05.870Z"
   },
   {
    "duration": 14,
    "start_time": "2022-11-29T15:22:06.004Z"
   },
   {
    "duration": 5,
    "start_time": "2022-11-29T15:22:06.020Z"
   },
   {
    "duration": 227,
    "start_time": "2022-11-29T15:22:06.027Z"
   },
   {
    "duration": 11,
    "start_time": "2022-11-29T15:22:06.256Z"
   },
   {
    "duration": 9,
    "start_time": "2022-11-29T15:22:06.269Z"
   },
   {
    "duration": 17,
    "start_time": "2022-11-29T15:22:06.279Z"
   },
   {
    "duration": 24,
    "start_time": "2022-11-29T15:22:06.298Z"
   },
   {
    "duration": 146,
    "start_time": "2022-11-29T15:22:06.324Z"
   },
   {
    "duration": 3,
    "start_time": "2022-11-29T15:22:06.472Z"
   },
   {
    "duration": 277,
    "start_time": "2022-11-29T15:22:06.476Z"
   },
   {
    "duration": 3,
    "start_time": "2022-11-29T15:22:06.755Z"
   },
   {
    "duration": 1357,
    "start_time": "2022-11-29T15:24:35.097Z"
   },
   {
    "duration": 869,
    "start_time": "2022-11-29T15:24:36.455Z"
   },
   {
    "duration": 15,
    "start_time": "2022-11-29T15:24:37.326Z"
   },
   {
    "duration": 128,
    "start_time": "2022-11-29T15:24:37.351Z"
   },
   {
    "duration": 285,
    "start_time": "2022-11-29T15:24:37.481Z"
   },
   {
    "duration": 3,
    "start_time": "2022-11-29T15:24:37.768Z"
   },
   {
    "duration": 137,
    "start_time": "2022-11-29T15:24:37.772Z"
   },
   {
    "duration": 63,
    "start_time": "2022-11-29T15:24:37.911Z"
   },
   {
    "duration": 129,
    "start_time": "2022-11-29T15:24:37.975Z"
   },
   {
    "duration": 13,
    "start_time": "2022-11-29T15:24:38.106Z"
   },
   {
    "duration": 5,
    "start_time": "2022-11-29T15:24:38.121Z"
   },
   {
    "duration": 235,
    "start_time": "2022-11-29T15:24:38.127Z"
   },
   {
    "duration": 10,
    "start_time": "2022-11-29T15:24:38.364Z"
   },
   {
    "duration": 8,
    "start_time": "2022-11-29T15:24:38.377Z"
   },
   {
    "duration": 18,
    "start_time": "2022-11-29T15:24:38.386Z"
   },
   {
    "duration": 52,
    "start_time": "2022-11-29T15:24:38.405Z"
   },
   {
    "duration": 121,
    "start_time": "2022-11-29T15:24:38.459Z"
   },
   {
    "duration": 3,
    "start_time": "2022-11-29T15:24:38.582Z"
   },
   {
    "duration": 382,
    "start_time": "2022-11-29T15:24:38.587Z"
   },
   {
    "duration": 5,
    "start_time": "2022-11-29T15:24:39.051Z"
   },
   {
    "duration": 1458,
    "start_time": "2022-11-29T15:30:25.514Z"
   },
   {
    "duration": 929,
    "start_time": "2022-11-29T15:30:26.974Z"
   },
   {
    "duration": 24,
    "start_time": "2022-11-29T15:30:27.905Z"
   },
   {
    "duration": 151,
    "start_time": "2022-11-29T15:30:27.932Z"
   },
   {
    "duration": 296,
    "start_time": "2022-11-29T15:30:28.084Z"
   },
   {
    "duration": 3,
    "start_time": "2022-11-29T15:30:28.381Z"
   },
   {
    "duration": 144,
    "start_time": "2022-11-29T15:30:28.386Z"
   },
   {
    "duration": 59,
    "start_time": "2022-11-29T15:30:28.532Z"
   },
   {
    "duration": 140,
    "start_time": "2022-11-29T15:30:28.593Z"
   },
   {
    "duration": 22,
    "start_time": "2022-11-29T15:30:28.735Z"
   },
   {
    "duration": 6,
    "start_time": "2022-11-29T15:30:28.758Z"
   },
   {
    "duration": 223,
    "start_time": "2022-11-29T15:30:28.765Z"
   },
   {
    "duration": 11,
    "start_time": "2022-11-29T15:30:28.989Z"
   },
   {
    "duration": 7,
    "start_time": "2022-11-29T15:30:29.001Z"
   },
   {
    "duration": 18,
    "start_time": "2022-11-29T15:30:29.009Z"
   },
   {
    "duration": 45,
    "start_time": "2022-11-29T15:30:29.029Z"
   },
   {
    "duration": 117,
    "start_time": "2022-11-29T15:30:29.076Z"
   },
   {
    "duration": 3,
    "start_time": "2022-11-29T15:30:29.194Z"
   },
   {
    "duration": 454,
    "start_time": "2022-11-29T15:30:29.198Z"
   },
   {
    "duration": 3,
    "start_time": "2022-11-29T15:30:29.654Z"
   },
   {
    "duration": 1443,
    "start_time": "2022-11-29T15:30:54.019Z"
   },
   {
    "duration": 913,
    "start_time": "2022-11-29T15:30:55.464Z"
   },
   {
    "duration": 16,
    "start_time": "2022-11-29T15:30:56.378Z"
   },
   {
    "duration": 108,
    "start_time": "2022-11-29T15:30:56.396Z"
   },
   {
    "duration": 289,
    "start_time": "2022-11-29T15:30:56.506Z"
   },
   {
    "duration": 4,
    "start_time": "2022-11-29T15:30:56.797Z"
   },
   {
    "duration": 149,
    "start_time": "2022-11-29T15:30:56.803Z"
   },
   {
    "duration": 52,
    "start_time": "2022-11-29T15:30:56.954Z"
   },
   {
    "duration": 144,
    "start_time": "2022-11-29T15:30:57.008Z"
   },
   {
    "duration": 17,
    "start_time": "2022-11-29T15:30:57.154Z"
   },
   {
    "duration": 6,
    "start_time": "2022-11-29T15:30:57.173Z"
   },
   {
    "duration": 246,
    "start_time": "2022-11-29T15:30:57.181Z"
   },
   {
    "duration": 10,
    "start_time": "2022-11-29T15:30:57.429Z"
   },
   {
    "duration": 16,
    "start_time": "2022-11-29T15:30:57.441Z"
   },
   {
    "duration": 18,
    "start_time": "2022-11-29T15:30:57.459Z"
   },
   {
    "duration": 29,
    "start_time": "2022-11-29T15:30:57.479Z"
   },
   {
    "duration": 60,
    "start_time": "2022-11-29T15:30:57.510Z"
   },
   {
    "duration": 3,
    "start_time": "2022-11-29T15:30:57.572Z"
   },
   {
    "duration": 287,
    "start_time": "2022-11-29T15:30:57.577Z"
   },
   {
    "duration": 3,
    "start_time": "2022-11-29T15:30:57.954Z"
   },
   {
    "duration": 1398,
    "start_time": "2022-11-29T15:39:40.724Z"
   },
   {
    "duration": 928,
    "start_time": "2022-11-29T15:39:42.124Z"
   },
   {
    "duration": 16,
    "start_time": "2022-11-29T15:39:43.056Z"
   },
   {
    "duration": 141,
    "start_time": "2022-11-29T15:39:43.073Z"
   },
   {
    "duration": 287,
    "start_time": "2022-11-29T15:39:43.215Z"
   },
   {
    "duration": 3,
    "start_time": "2022-11-29T15:39:43.504Z"
   },
   {
    "duration": 148,
    "start_time": "2022-11-29T15:39:43.509Z"
   },
   {
    "duration": 46,
    "start_time": "2022-11-29T15:39:43.659Z"
   },
   {
    "duration": 139,
    "start_time": "2022-11-29T15:39:43.708Z"
   },
   {
    "duration": 16,
    "start_time": "2022-11-29T15:39:43.849Z"
   },
   {
    "duration": 6,
    "start_time": "2022-11-29T15:39:43.867Z"
   },
   {
    "duration": 234,
    "start_time": "2022-11-29T15:39:43.874Z"
   },
   {
    "duration": 15,
    "start_time": "2022-11-29T15:39:44.110Z"
   },
   {
    "duration": 7,
    "start_time": "2022-11-29T15:39:44.127Z"
   },
   {
    "duration": 25,
    "start_time": "2022-11-29T15:39:44.136Z"
   },
   {
    "duration": 24,
    "start_time": "2022-11-29T15:39:44.162Z"
   },
   {
    "duration": 35,
    "start_time": "2022-11-29T15:39:44.188Z"
   },
   {
    "duration": 3,
    "start_time": "2022-11-29T15:39:44.225Z"
   },
   {
    "duration": 433,
    "start_time": "2022-11-29T15:39:44.229Z"
   },
   {
    "duration": 3,
    "start_time": "2022-11-29T15:39:44.756Z"
   },
   {
    "duration": 292,
    "start_time": "2022-11-29T15:39:44.761Z"
   },
   {
    "duration": 113303,
    "start_time": "2022-11-29T15:39:45.054Z"
   },
   {
    "duration": 2,
    "start_time": "2022-11-29T15:41:38.359Z"
   },
   {
    "duration": 23,
    "start_time": "2022-11-29T15:41:38.363Z"
   },
   {
    "duration": 0,
    "start_time": "2022-11-29T15:41:38.389Z"
   },
   {
    "duration": 1446,
    "start_time": "2022-11-29T15:42:33.545Z"
   },
   {
    "duration": 910,
    "start_time": "2022-11-29T15:42:34.993Z"
   },
   {
    "duration": 16,
    "start_time": "2022-11-29T15:42:35.905Z"
   },
   {
    "duration": 117,
    "start_time": "2022-11-29T15:42:35.924Z"
   },
   {
    "duration": 300,
    "start_time": "2022-11-29T15:42:36.042Z"
   },
   {
    "duration": 10,
    "start_time": "2022-11-29T15:42:36.344Z"
   },
   {
    "duration": 143,
    "start_time": "2022-11-29T15:42:36.356Z"
   },
   {
    "duration": 69,
    "start_time": "2022-11-29T15:42:36.500Z"
   },
   {
    "duration": 133,
    "start_time": "2022-11-29T15:42:36.571Z"
   },
   {
    "duration": 16,
    "start_time": "2022-11-29T15:42:36.707Z"
   },
   {
    "duration": 7,
    "start_time": "2022-11-29T15:42:36.725Z"
   },
   {
    "duration": 260,
    "start_time": "2022-11-29T15:42:36.734Z"
   },
   {
    "duration": 11,
    "start_time": "2022-11-29T15:42:36.996Z"
   },
   {
    "duration": 7,
    "start_time": "2022-11-29T15:42:37.009Z"
   },
   {
    "duration": 41,
    "start_time": "2022-11-29T15:42:37.018Z"
   },
   {
    "duration": 25,
    "start_time": "2022-11-29T15:42:37.061Z"
   },
   {
    "duration": 35,
    "start_time": "2022-11-29T15:42:37.088Z"
   },
   {
    "duration": 27,
    "start_time": "2022-11-29T15:42:37.125Z"
   },
   {
    "duration": 311,
    "start_time": "2022-11-29T15:42:37.154Z"
   },
   {
    "duration": 5,
    "start_time": "2022-11-29T15:42:37.467Z"
   },
   {
    "duration": 1434,
    "start_time": "2022-11-29T15:59:57.946Z"
   },
   {
    "duration": 898,
    "start_time": "2022-11-29T15:59:59.382Z"
   },
   {
    "duration": 19,
    "start_time": "2022-11-29T16:00:00.282Z"
   },
   {
    "duration": 118,
    "start_time": "2022-11-29T16:00:00.304Z"
   },
   {
    "duration": 287,
    "start_time": "2022-11-29T16:00:00.423Z"
   },
   {
    "duration": 3,
    "start_time": "2022-11-29T16:00:00.712Z"
   },
   {
    "duration": 173,
    "start_time": "2022-11-29T16:00:00.717Z"
   },
   {
    "duration": 48,
    "start_time": "2022-11-29T16:00:00.891Z"
   },
   {
    "duration": 182,
    "start_time": "2022-11-29T16:00:00.941Z"
   },
   {
    "duration": 26,
    "start_time": "2022-11-29T16:00:01.126Z"
   },
   {
    "duration": 98,
    "start_time": "2022-11-29T16:00:01.154Z"
   },
   {
    "duration": 300,
    "start_time": "2022-11-29T16:00:01.253Z"
   },
   {
    "duration": 16,
    "start_time": "2022-11-29T16:00:01.555Z"
   },
   {
    "duration": 15,
    "start_time": "2022-11-29T16:00:01.573Z"
   },
   {
    "duration": 200,
    "start_time": "2022-11-29T16:00:01.590Z"
   },
   {
    "duration": 41,
    "start_time": "2022-11-29T16:00:01.791Z"
   },
   {
    "duration": 45,
    "start_time": "2022-11-29T16:00:01.835Z"
   },
   {
    "duration": 45,
    "start_time": "2022-11-29T16:00:01.882Z"
   },
   {
    "duration": 437,
    "start_time": "2022-11-29T16:00:01.929Z"
   },
   {
    "duration": 86,
    "start_time": "2022-11-29T16:00:02.368Z"
   },
   {
    "duration": 377503,
    "start_time": "2022-11-29T16:00:02.456Z"
   },
   {
    "duration": 516,
    "start_time": "2022-11-29T16:06:19.961Z"
   },
   {
    "duration": 76,
    "start_time": "2022-11-29T16:06:20.478Z"
   },
   {
    "duration": 9,
    "start_time": "2022-11-29T16:06:20.556Z"
   },
   {
    "duration": 3284,
    "start_time": "2022-11-30T13:26:32.359Z"
   },
   {
    "duration": 1286,
    "start_time": "2022-11-30T13:26:35.645Z"
   },
   {
    "duration": 17,
    "start_time": "2022-11-30T13:26:36.932Z"
   },
   {
    "duration": 168,
    "start_time": "2022-11-30T13:26:36.951Z"
   },
   {
    "duration": 335,
    "start_time": "2022-11-30T13:26:37.121Z"
   },
   {
    "duration": 3,
    "start_time": "2022-11-30T13:26:37.458Z"
   },
   {
    "duration": 159,
    "start_time": "2022-11-30T13:26:37.462Z"
   },
   {
    "duration": 67,
    "start_time": "2022-11-30T13:26:37.623Z"
   },
   {
    "duration": 123,
    "start_time": "2022-11-30T13:26:37.691Z"
   },
   {
    "duration": 3263,
    "start_time": "2022-11-30T13:26:47.389Z"
   },
   {
    "duration": 182,
    "start_time": "2022-11-30T13:27:36.363Z"
   },
   {
    "duration": 381,
    "start_time": "2022-11-30T13:27:41.169Z"
   },
   {
    "duration": 81,
    "start_time": "2022-11-30T15:28:51.925Z"
   },
   {
    "duration": 42,
    "start_time": "2022-11-30T15:29:23.440Z"
   },
   {
    "duration": 1631,
    "start_time": "2022-11-30T15:29:30.352Z"
   },
   {
    "duration": 3118,
    "start_time": "2022-11-30T15:29:31.985Z"
   },
   {
    "duration": 19,
    "start_time": "2022-11-30T15:29:35.105Z"
   },
   {
    "duration": 110,
    "start_time": "2022-11-30T15:29:35.126Z"
   },
   {
    "duration": 250,
    "start_time": "2022-11-30T15:29:35.238Z"
   },
   {
    "duration": 4,
    "start_time": "2022-11-30T15:29:35.489Z"
   },
   {
    "duration": 143,
    "start_time": "2022-11-30T15:29:35.495Z"
   },
   {
    "duration": 88,
    "start_time": "2022-11-30T15:29:35.641Z"
   },
   {
    "duration": 2966,
    "start_time": "2022-11-30T15:29:35.731Z"
   },
   {
    "duration": 128,
    "start_time": "2022-11-30T15:29:38.699Z"
   },
   {
    "duration": 13,
    "start_time": "2022-11-30T15:29:38.829Z"
   },
   {
    "duration": 8,
    "start_time": "2022-11-30T15:29:38.844Z"
   },
   {
    "duration": 318,
    "start_time": "2022-11-30T15:29:38.854Z"
   },
   {
    "duration": 12,
    "start_time": "2022-11-30T15:29:39.179Z"
   },
   {
    "duration": 7,
    "start_time": "2022-11-30T15:29:39.193Z"
   },
   {
    "duration": 17,
    "start_time": "2022-11-30T15:29:39.202Z"
   },
   {
    "duration": 59,
    "start_time": "2022-11-30T15:29:39.220Z"
   },
   {
    "duration": 33,
    "start_time": "2022-11-30T15:29:39.281Z"
   },
   {
    "duration": 2,
    "start_time": "2022-11-30T15:29:39.316Z"
   },
   {
    "duration": 249,
    "start_time": "2022-11-30T15:29:39.320Z"
   },
   {
    "duration": 9,
    "start_time": "2022-11-30T15:29:39.571Z"
   },
   {
    "duration": 0,
    "start_time": "2022-11-30T15:29:39.581Z"
   },
   {
    "duration": 0,
    "start_time": "2022-11-30T15:29:39.582Z"
   },
   {
    "duration": 0,
    "start_time": "2022-11-30T15:29:39.583Z"
   },
   {
    "duration": 0,
    "start_time": "2022-11-30T15:29:39.585Z"
   },
   {
    "duration": 7,
    "start_time": "2022-11-30T15:31:06.936Z"
   },
   {
    "duration": 70,
    "start_time": "2022-11-30T15:31:24.324Z"
   },
   {
    "duration": 103,
    "start_time": "2022-11-30T15:33:15.324Z"
   },
   {
    "duration": 67,
    "start_time": "2022-11-30T15:33:25.789Z"
   },
   {
    "duration": 3,
    "start_time": "2022-11-30T15:39:53.005Z"
   },
   {
    "duration": 3,
    "start_time": "2022-11-30T15:40:34.008Z"
   },
   {
    "duration": 294,
    "start_time": "2022-11-30T15:40:34.485Z"
   },
   {
    "duration": 235,
    "start_time": "2022-11-30T15:46:39.606Z"
   },
   {
    "duration": 183,
    "start_time": "2022-11-30T15:46:43.078Z"
   },
   {
    "duration": 227,
    "start_time": "2022-11-30T15:47:50.806Z"
   },
   {
    "duration": 217,
    "start_time": "2022-11-30T15:47:58.936Z"
   },
   {
    "duration": 370,
    "start_time": "2022-11-30T15:48:05.455Z"
   },
   {
    "duration": 5,
    "start_time": "2022-11-30T15:48:20.657Z"
   },
   {
    "duration": 31,
    "start_time": "2022-11-30T15:48:34.167Z"
   },
   {
    "duration": 6,
    "start_time": "2022-11-30T15:48:54.357Z"
   },
   {
    "duration": 4,
    "start_time": "2022-11-30T15:49:00.384Z"
   },
   {
    "duration": 6,
    "start_time": "2022-11-30T15:50:17.609Z"
   },
   {
    "duration": 5,
    "start_time": "2022-11-30T15:50:23.735Z"
   },
   {
    "duration": 6,
    "start_time": "2022-11-30T15:51:01.330Z"
   },
   {
    "duration": 14,
    "start_time": "2022-11-30T15:51:19.706Z"
   },
   {
    "duration": 9,
    "start_time": "2022-11-30T15:51:23.109Z"
   },
   {
    "duration": 7,
    "start_time": "2022-11-30T15:51:30.986Z"
   },
   {
    "duration": 5,
    "start_time": "2022-11-30T15:51:43.277Z"
   },
   {
    "duration": 8,
    "start_time": "2022-11-30T15:55:23.956Z"
   },
   {
    "duration": 7,
    "start_time": "2022-11-30T15:55:43.463Z"
   },
   {
    "duration": 6,
    "start_time": "2022-11-30T15:56:12.292Z"
   },
   {
    "duration": 1365,
    "start_time": "2022-11-30T15:56:17.417Z"
   },
   {
    "duration": 910,
    "start_time": "2022-11-30T15:56:18.785Z"
   },
   {
    "duration": 18,
    "start_time": "2022-11-30T15:56:19.697Z"
   },
   {
    "duration": 116,
    "start_time": "2022-11-30T15:56:19.717Z"
   },
   {
    "duration": 256,
    "start_time": "2022-11-30T15:56:19.836Z"
   },
   {
    "duration": 6,
    "start_time": "2022-11-30T15:56:20.094Z"
   },
   {
    "duration": 7,
    "start_time": "2022-11-30T15:56:20.102Z"
   },
   {
    "duration": 44,
    "start_time": "2022-11-30T15:56:20.111Z"
   },
   {
    "duration": 4,
    "start_time": "2022-11-30T15:56:20.157Z"
   },
   {
    "duration": 152,
    "start_time": "2022-11-30T15:56:20.163Z"
   },
   {
    "duration": 53,
    "start_time": "2022-11-30T15:56:20.317Z"
   },
   {
    "duration": 3199,
    "start_time": "2022-11-30T15:56:20.371Z"
   },
   {
    "duration": 136,
    "start_time": "2022-11-30T15:56:23.572Z"
   },
   {
    "duration": 12,
    "start_time": "2022-11-30T15:56:23.711Z"
   },
   {
    "duration": 6,
    "start_time": "2022-11-30T15:56:23.725Z"
   },
   {
    "duration": 234,
    "start_time": "2022-11-30T15:56:23.733Z"
   },
   {
    "duration": 22,
    "start_time": "2022-11-30T15:56:23.969Z"
   },
   {
    "duration": 12,
    "start_time": "2022-11-30T15:56:23.993Z"
   },
   {
    "duration": 27,
    "start_time": "2022-11-30T15:56:24.007Z"
   },
   {
    "duration": 8,
    "start_time": "2022-11-30T15:56:24.036Z"
   },
   {
    "duration": 160,
    "start_time": "2022-11-30T15:56:24.047Z"
   },
   {
    "duration": 0,
    "start_time": "2022-11-30T15:56:24.209Z"
   },
   {
    "duration": 0,
    "start_time": "2022-11-30T15:56:24.210Z"
   },
   {
    "duration": 0,
    "start_time": "2022-11-30T15:56:24.211Z"
   },
   {
    "duration": 0,
    "start_time": "2022-11-30T15:56:24.212Z"
   },
   {
    "duration": 0,
    "start_time": "2022-11-30T15:56:24.213Z"
   },
   {
    "duration": 1,
    "start_time": "2022-11-30T15:56:24.214Z"
   },
   {
    "duration": 0,
    "start_time": "2022-11-30T15:56:24.216Z"
   },
   {
    "duration": 1584,
    "start_time": "2022-11-30T15:57:27.156Z"
   },
   {
    "duration": 913,
    "start_time": "2022-11-30T15:57:28.743Z"
   },
   {
    "duration": 22,
    "start_time": "2022-11-30T15:57:29.658Z"
   },
   {
    "duration": 133,
    "start_time": "2022-11-30T15:57:29.682Z"
   },
   {
    "duration": 251,
    "start_time": "2022-11-30T15:57:29.817Z"
   },
   {
    "duration": 12,
    "start_time": "2022-11-30T15:57:30.069Z"
   },
   {
    "duration": 10,
    "start_time": "2022-11-30T15:57:30.083Z"
   },
   {
    "duration": 33,
    "start_time": "2022-11-30T15:57:30.095Z"
   },
   {
    "duration": 3,
    "start_time": "2022-11-30T15:57:30.130Z"
   },
   {
    "duration": 158,
    "start_time": "2022-11-30T15:57:30.135Z"
   },
   {
    "duration": 53,
    "start_time": "2022-11-30T15:57:30.295Z"
   },
   {
    "duration": 3207,
    "start_time": "2022-11-30T15:57:30.350Z"
   },
   {
    "duration": 142,
    "start_time": "2022-11-30T15:57:33.559Z"
   },
   {
    "duration": 12,
    "start_time": "2022-11-30T15:57:33.704Z"
   },
   {
    "duration": 7,
    "start_time": "2022-11-30T15:57:33.717Z"
   },
   {
    "duration": 222,
    "start_time": "2022-11-30T15:57:33.726Z"
   },
   {
    "duration": 15,
    "start_time": "2022-11-30T15:57:33.951Z"
   },
   {
    "duration": 19,
    "start_time": "2022-11-30T15:57:33.968Z"
   },
   {
    "duration": 26,
    "start_time": "2022-11-30T15:57:33.990Z"
   },
   {
    "duration": 45,
    "start_time": "2022-11-30T15:57:34.019Z"
   },
   {
    "duration": 52,
    "start_time": "2022-11-30T15:57:34.067Z"
   },
   {
    "duration": 18,
    "start_time": "2022-11-30T15:57:34.122Z"
   },
   {
    "duration": 743,
    "start_time": "2022-11-30T15:57:34.143Z"
   },
   {
    "duration": 5,
    "start_time": "2022-11-30T15:57:34.889Z"
   },
   {
    "duration": 1444,
    "start_time": "2022-11-30T15:59:12.826Z"
   },
   {
    "duration": 1000,
    "start_time": "2022-11-30T15:59:14.272Z"
   },
   {
    "duration": 16,
    "start_time": "2022-11-30T15:59:15.274Z"
   },
   {
    "duration": 123,
    "start_time": "2022-11-30T15:59:15.293Z"
   },
   {
    "duration": 277,
    "start_time": "2022-11-30T15:59:15.417Z"
   },
   {
    "duration": 6,
    "start_time": "2022-11-30T15:59:15.696Z"
   },
   {
    "duration": 10,
    "start_time": "2022-11-30T15:59:15.704Z"
   },
   {
    "duration": 6,
    "start_time": "2022-11-30T15:59:15.716Z"
   },
   {
    "duration": 66,
    "start_time": "2022-11-30T15:59:15.724Z"
   },
   {
    "duration": 3,
    "start_time": "2022-11-30T15:59:15.794Z"
   },
   {
    "duration": 156,
    "start_time": "2022-11-30T15:59:15.799Z"
   },
   {
    "duration": 67,
    "start_time": "2022-11-30T15:59:15.958Z"
   },
   {
    "duration": 3008,
    "start_time": "2022-11-30T15:59:16.026Z"
   },
   {
    "duration": 151,
    "start_time": "2022-11-30T15:59:19.036Z"
   },
   {
    "duration": 14,
    "start_time": "2022-11-30T15:59:19.188Z"
   },
   {
    "duration": 9,
    "start_time": "2022-11-30T15:59:19.204Z"
   },
   {
    "duration": 214,
    "start_time": "2022-11-30T15:59:19.216Z"
   },
   {
    "duration": 11,
    "start_time": "2022-11-30T15:59:19.432Z"
   },
   {
    "duration": 7,
    "start_time": "2022-11-30T15:59:19.445Z"
   },
   {
    "duration": 32,
    "start_time": "2022-11-30T15:59:19.454Z"
   },
   {
    "duration": 27,
    "start_time": "2022-11-30T15:59:19.488Z"
   },
   {
    "duration": 35,
    "start_time": "2022-11-30T15:59:19.516Z"
   },
   {
    "duration": 25,
    "start_time": "2022-11-30T15:59:19.553Z"
   },
   {
    "duration": 305,
    "start_time": "2022-11-30T15:59:19.580Z"
   },
   {
    "duration": 91,
    "start_time": "2022-11-30T15:59:19.887Z"
   },
   {
    "duration": 1437,
    "start_time": "2022-11-30T16:02:07.529Z"
   },
   {
    "duration": 1157,
    "start_time": "2022-11-30T16:02:08.968Z"
   },
   {
    "duration": 18,
    "start_time": "2022-11-30T16:02:10.127Z"
   },
   {
    "duration": 116,
    "start_time": "2022-11-30T16:02:10.147Z"
   },
   {
    "duration": 278,
    "start_time": "2022-11-30T16:02:10.265Z"
   },
   {
    "duration": 7,
    "start_time": "2022-11-30T16:02:10.545Z"
   },
   {
    "duration": 51,
    "start_time": "2022-11-30T16:02:10.554Z"
   },
   {
    "duration": 4,
    "start_time": "2022-11-30T16:02:10.607Z"
   },
   {
    "duration": 151,
    "start_time": "2022-11-30T16:02:10.613Z"
   },
   {
    "duration": 56,
    "start_time": "2022-11-30T16:02:10.767Z"
   },
   {
    "duration": 3104,
    "start_time": "2022-11-30T16:02:10.825Z"
   },
   {
    "duration": 170,
    "start_time": "2022-11-30T16:02:13.932Z"
   },
   {
    "duration": 16,
    "start_time": "2022-11-30T16:02:14.104Z"
   },
   {
    "duration": 12,
    "start_time": "2022-11-30T16:02:14.122Z"
   },
   {
    "duration": 224,
    "start_time": "2022-11-30T16:02:14.137Z"
   },
   {
    "duration": 20,
    "start_time": "2022-11-30T16:02:14.364Z"
   },
   {
    "duration": 9,
    "start_time": "2022-11-30T16:02:14.386Z"
   },
   {
    "duration": 27,
    "start_time": "2022-11-30T16:02:14.397Z"
   },
   {
    "duration": 25,
    "start_time": "2022-11-30T16:02:14.426Z"
   },
   {
    "duration": 55,
    "start_time": "2022-11-30T16:02:14.452Z"
   },
   {
    "duration": 8,
    "start_time": "2022-11-30T16:02:14.509Z"
   },
   {
    "duration": 360,
    "start_time": "2022-11-30T16:02:14.518Z"
   },
   {
    "duration": 3,
    "start_time": "2022-11-30T16:02:14.880Z"
   },
   {
    "duration": 1440,
    "start_time": "2022-11-30T16:08:11.353Z"
   },
   {
    "duration": 920,
    "start_time": "2022-11-30T16:08:12.795Z"
   },
   {
    "duration": 16,
    "start_time": "2022-11-30T16:08:13.717Z"
   },
   {
    "duration": 178,
    "start_time": "2022-11-30T16:08:13.734Z"
   },
   {
    "duration": 326,
    "start_time": "2022-11-30T16:08:13.914Z"
   },
   {
    "duration": 6,
    "start_time": "2022-11-30T16:08:14.242Z"
   },
   {
    "duration": 46,
    "start_time": "2022-11-30T16:08:14.249Z"
   },
   {
    "duration": 5,
    "start_time": "2022-11-30T16:08:14.297Z"
   },
   {
    "duration": 152,
    "start_time": "2022-11-30T16:08:14.304Z"
   },
   {
    "duration": 63,
    "start_time": "2022-11-30T16:08:14.457Z"
   },
   {
    "duration": 3023,
    "start_time": "2022-11-30T16:08:14.521Z"
   },
   {
    "duration": 5,
    "start_time": "2022-11-30T16:08:17.546Z"
   },
   {
    "duration": 143,
    "start_time": "2022-11-30T16:08:17.552Z"
   },
   {
    "duration": 13,
    "start_time": "2022-11-30T16:08:17.697Z"
   },
   {
    "duration": 6,
    "start_time": "2022-11-30T16:08:17.712Z"
   },
   {
    "duration": 205,
    "start_time": "2022-11-30T16:08:17.719Z"
   },
   {
    "duration": 11,
    "start_time": "2022-11-30T16:08:17.926Z"
   },
   {
    "duration": 7,
    "start_time": "2022-11-30T16:08:17.939Z"
   },
   {
    "duration": 37,
    "start_time": "2022-11-30T16:08:17.948Z"
   },
   {
    "duration": 29,
    "start_time": "2022-11-30T16:08:17.987Z"
   },
   {
    "duration": 33,
    "start_time": "2022-11-30T16:08:18.018Z"
   },
   {
    "duration": 3,
    "start_time": "2022-11-30T16:08:18.053Z"
   },
   {
    "duration": 432,
    "start_time": "2022-11-30T16:08:18.058Z"
   },
   {
    "duration": 87,
    "start_time": "2022-11-30T16:08:18.492Z"
   },
   {
    "duration": 59300,
    "start_time": "2022-11-30T16:08:18.581Z"
   },
   {
    "duration": 598,
    "start_time": "2022-11-30T16:09:17.882Z"
   },
   {
    "duration": 3,
    "start_time": "2022-11-30T16:09:18.481Z"
   },
   {
    "duration": 11,
    "start_time": "2022-11-30T16:09:18.485Z"
   },
   {
    "duration": 163,
    "start_time": "2022-11-30T16:09:27.540Z"
   },
   {
    "duration": 76,
    "start_time": "2022-11-30T16:09:42.987Z"
   },
   {
    "duration": 127,
    "start_time": "2022-11-30T16:09:50.331Z"
   },
   {
    "duration": 6,
    "start_time": "2022-11-30T16:10:08.322Z"
   },
   {
    "duration": 4,
    "start_time": "2022-11-30T16:10:14.809Z"
   },
   {
    "duration": 7,
    "start_time": "2022-11-30T16:10:28.196Z"
   },
   {
    "duration": 5,
    "start_time": "2022-11-30T16:10:32.820Z"
   },
   {
    "duration": 4,
    "start_time": "2022-11-30T16:10:40.001Z"
   },
   {
    "duration": 911,
    "start_time": "2022-11-30T16:10:40.271Z"
   },
   {
    "duration": 12,
    "start_time": "2022-11-30T16:10:42.450Z"
   },
   {
    "duration": 89,
    "start_time": "2022-11-30T16:10:42.623Z"
   },
   {
    "duration": 210,
    "start_time": "2022-11-30T16:10:43.260Z"
   },
   {
    "duration": 6,
    "start_time": "2022-11-30T16:10:43.593Z"
   },
   {
    "duration": 28,
    "start_time": "2022-11-30T16:10:43.797Z"
   },
   {
    "duration": 3,
    "start_time": "2022-11-30T16:10:44.711Z"
   },
   {
    "duration": 139,
    "start_time": "2022-11-30T16:10:45.211Z"
   },
   {
    "duration": 59,
    "start_time": "2022-11-30T16:10:45.463Z"
   },
   {
    "duration": 3166,
    "start_time": "2022-11-30T16:10:47.039Z"
   },
   {
    "duration": 7,
    "start_time": "2022-11-30T16:10:50.207Z"
   },
   {
    "duration": 5,
    "start_time": "2022-11-30T16:11:53.480Z"
   },
   {
    "duration": 13,
    "start_time": "2022-11-30T16:12:09.792Z"
   },
   {
    "duration": 22,
    "start_time": "2022-11-30T16:12:32.141Z"
   },
   {
    "duration": 5,
    "start_time": "2022-11-30T16:13:42.519Z"
   },
   {
    "duration": 7,
    "start_time": "2022-11-30T16:13:47.511Z"
   },
   {
    "duration": 88,
    "start_time": "2022-11-30T16:13:48.111Z"
   },
   {
    "duration": 6,
    "start_time": "2022-11-30T16:13:58.679Z"
   },
   {
    "duration": 6,
    "start_time": "2022-11-30T16:14:00.062Z"
   },
   {
    "duration": 98,
    "start_time": "2022-11-30T16:14:00.362Z"
   },
   {
    "duration": 13,
    "start_time": "2022-11-30T16:14:01.122Z"
   },
   {
    "duration": 8,
    "start_time": "2022-11-30T16:14:01.351Z"
   },
   {
    "duration": 15,
    "start_time": "2022-11-30T16:14:02.323Z"
   },
   {
    "duration": 85,
    "start_time": "2022-11-30T16:14:25.440Z"
   },
   {
    "duration": 176,
    "start_time": "2022-11-30T16:14:29.159Z"
   },
   {
    "duration": 83,
    "start_time": "2022-11-30T16:14:41.172Z"
   },
   {
    "duration": 89,
    "start_time": "2022-11-30T16:14:44.272Z"
   },
   {
    "duration": 8,
    "start_time": "2022-11-30T16:14:52.931Z"
   },
   {
    "duration": 5,
    "start_time": "2022-11-30T16:14:53.468Z"
   },
   {
    "duration": 91,
    "start_time": "2022-11-30T16:14:53.692Z"
   },
   {
    "duration": 11,
    "start_time": "2022-11-30T16:14:54.223Z"
   },
   {
    "duration": 8,
    "start_time": "2022-11-30T16:14:54.371Z"
   },
   {
    "duration": 14,
    "start_time": "2022-11-30T16:14:54.923Z"
   },
   {
    "duration": 1501,
    "start_time": "2022-11-30T16:15:01.353Z"
   },
   {
    "duration": 924,
    "start_time": "2022-11-30T16:15:02.856Z"
   },
   {
    "duration": 16,
    "start_time": "2022-11-30T16:15:03.782Z"
   },
   {
    "duration": 127,
    "start_time": "2022-11-30T16:15:03.799Z"
   },
   {
    "duration": 303,
    "start_time": "2022-11-30T16:15:03.929Z"
   },
   {
    "duration": 7,
    "start_time": "2022-11-30T16:15:04.233Z"
   },
   {
    "duration": 49,
    "start_time": "2022-11-30T16:15:04.241Z"
   },
   {
    "duration": 4,
    "start_time": "2022-11-30T16:15:04.291Z"
   },
   {
    "duration": 140,
    "start_time": "2022-11-30T16:15:04.296Z"
   },
   {
    "duration": 55,
    "start_time": "2022-11-30T16:15:04.438Z"
   },
   {
    "duration": 3210,
    "start_time": "2022-11-30T16:15:04.495Z"
   },
   {
    "duration": 73,
    "start_time": "2022-11-30T16:15:07.707Z"
   },
   {
    "duration": 140,
    "start_time": "2022-11-30T16:15:07.782Z"
   },
   {
    "duration": 78,
    "start_time": "2022-11-30T16:15:07.924Z"
   },
   {
    "duration": 27,
    "start_time": "2022-11-30T16:15:08.004Z"
   },
   {
    "duration": 235,
    "start_time": "2022-11-30T16:15:08.033Z"
   },
   {
    "duration": 108,
    "start_time": "2022-11-30T16:15:08.270Z"
   },
   {
    "duration": 32,
    "start_time": "2022-11-30T16:15:08.380Z"
   },
   {
    "duration": 81,
    "start_time": "2022-11-30T16:15:08.414Z"
   },
   {
    "duration": 285,
    "start_time": "2022-11-30T16:15:08.496Z"
   },
   {
    "duration": 405,
    "start_time": "2022-11-30T16:15:08.783Z"
   },
   {
    "duration": 3,
    "start_time": "2022-11-30T16:15:09.190Z"
   },
   {
    "duration": 6999,
    "start_time": "2022-11-30T16:15:09.196Z"
   },
   {
    "duration": 81,
    "start_time": "2022-11-30T16:15:16.197Z"
   },
   {
    "duration": 1455,
    "start_time": "2022-11-30T16:16:02.952Z"
   },
   {
    "duration": 902,
    "start_time": "2022-11-30T16:16:04.409Z"
   },
   {
    "duration": 16,
    "start_time": "2022-11-30T16:16:05.313Z"
   },
   {
    "duration": 109,
    "start_time": "2022-11-30T16:16:05.330Z"
   },
   {
    "duration": 285,
    "start_time": "2022-11-30T16:16:05.442Z"
   },
   {
    "duration": 7,
    "start_time": "2022-11-30T16:16:05.729Z"
   },
   {
    "duration": 59,
    "start_time": "2022-11-30T16:16:05.738Z"
   },
   {
    "duration": 4,
    "start_time": "2022-11-30T16:16:05.800Z"
   },
   {
    "duration": 162,
    "start_time": "2022-11-30T16:16:05.806Z"
   },
   {
    "duration": 59,
    "start_time": "2022-11-30T16:16:05.970Z"
   },
   {
    "duration": 3323,
    "start_time": "2022-11-30T16:16:06.031Z"
   },
   {
    "duration": 82,
    "start_time": "2022-11-30T16:16:09.356Z"
   },
   {
    "duration": 154,
    "start_time": "2022-11-30T16:16:09.441Z"
   },
   {
    "duration": 80,
    "start_time": "2022-11-30T16:16:09.598Z"
   },
   {
    "duration": 27,
    "start_time": "2022-11-30T16:16:09.680Z"
   },
   {
    "duration": 230,
    "start_time": "2022-11-30T16:16:09.709Z"
   },
   {
    "duration": 120,
    "start_time": "2022-11-30T16:16:09.941Z"
   },
   {
    "duration": 36,
    "start_time": "2022-11-30T16:16:10.062Z"
   },
   {
    "duration": 72,
    "start_time": "2022-11-30T16:16:10.100Z"
   },
   {
    "duration": 301,
    "start_time": "2022-11-30T16:16:10.174Z"
   },
   {
    "duration": 363,
    "start_time": "2022-11-30T16:16:10.477Z"
   },
   {
    "duration": 3,
    "start_time": "2022-11-30T16:16:10.842Z"
   },
   {
    "duration": 6740,
    "start_time": "2022-11-30T16:16:10.846Z"
   },
   {
    "duration": 3,
    "start_time": "2022-11-30T16:16:17.588Z"
   },
   {
    "duration": 1427,
    "start_time": "2022-11-30T16:19:07.312Z"
   },
   {
    "duration": 1088,
    "start_time": "2022-11-30T16:19:08.741Z"
   },
   {
    "duration": 18,
    "start_time": "2022-11-30T16:19:09.831Z"
   },
   {
    "duration": 120,
    "start_time": "2022-11-30T16:19:09.851Z"
   },
   {
    "duration": 271,
    "start_time": "2022-11-30T16:19:09.979Z"
   },
   {
    "duration": 6,
    "start_time": "2022-11-30T16:19:10.251Z"
   },
   {
    "duration": 50,
    "start_time": "2022-11-30T16:19:10.259Z"
   },
   {
    "duration": 4,
    "start_time": "2022-11-30T16:19:10.311Z"
   },
   {
    "duration": 135,
    "start_time": "2022-11-30T16:19:10.316Z"
   },
   {
    "duration": 62,
    "start_time": "2022-11-30T16:19:10.453Z"
   },
   {
    "duration": 3061,
    "start_time": "2022-11-30T16:19:10.517Z"
   },
   {
    "duration": 65,
    "start_time": "2022-11-30T16:19:13.580Z"
   },
   {
    "duration": 216,
    "start_time": "2022-11-30T16:19:13.647Z"
   },
   {
    "duration": 75,
    "start_time": "2022-11-30T16:19:13.865Z"
   },
   {
    "duration": 35,
    "start_time": "2022-11-30T16:19:13.943Z"
   },
   {
    "duration": 227,
    "start_time": "2022-11-30T16:19:13.980Z"
   },
   {
    "duration": 101,
    "start_time": "2022-11-30T16:19:14.209Z"
   },
   {
    "duration": 31,
    "start_time": "2022-11-30T16:19:14.312Z"
   },
   {
    "duration": 72,
    "start_time": "2022-11-30T16:19:14.345Z"
   },
   {
    "duration": 267,
    "start_time": "2022-11-30T16:19:14.419Z"
   },
   {
    "duration": 359,
    "start_time": "2022-11-30T16:19:14.688Z"
   },
   {
    "duration": 3,
    "start_time": "2022-11-30T16:19:15.049Z"
   },
   {
    "duration": 7432,
    "start_time": "2022-11-30T16:19:15.053Z"
   },
   {
    "duration": 90,
    "start_time": "2022-11-30T16:19:22.487Z"
   },
   {
    "duration": 1435,
    "start_time": "2022-11-30T16:21:20.843Z"
   },
   {
    "duration": 903,
    "start_time": "2022-11-30T16:21:22.279Z"
   },
   {
    "duration": 15,
    "start_time": "2022-11-30T16:21:23.184Z"
   },
   {
    "duration": 112,
    "start_time": "2022-11-30T16:21:23.201Z"
   },
   {
    "duration": 251,
    "start_time": "2022-11-30T16:21:23.315Z"
   },
   {
    "duration": 12,
    "start_time": "2022-11-30T16:21:23.567Z"
   },
   {
    "duration": 35,
    "start_time": "2022-11-30T16:21:23.581Z"
   },
   {
    "duration": 4,
    "start_time": "2022-11-30T16:21:23.617Z"
   },
   {
    "duration": 147,
    "start_time": "2022-11-30T16:21:23.622Z"
   },
   {
    "duration": 54,
    "start_time": "2022-11-30T16:21:23.770Z"
   },
   {
    "duration": 3134,
    "start_time": "2022-11-30T16:21:23.825Z"
   },
   {
    "duration": 81,
    "start_time": "2022-11-30T16:21:26.961Z"
   },
   {
    "duration": 150,
    "start_time": "2022-11-30T16:21:27.043Z"
   },
   {
    "duration": 71,
    "start_time": "2022-11-30T16:21:27.196Z"
   },
   {
    "duration": 124,
    "start_time": "2022-11-30T16:21:27.277Z"
   },
   {
    "duration": 0,
    "start_time": "2022-11-30T16:21:27.403Z"
   },
   {
    "duration": 0,
    "start_time": "2022-11-30T16:21:27.405Z"
   },
   {
    "duration": 0,
    "start_time": "2022-11-30T16:21:27.406Z"
   },
   {
    "duration": 0,
    "start_time": "2022-11-30T16:21:27.408Z"
   },
   {
    "duration": 0,
    "start_time": "2022-11-30T16:21:27.409Z"
   },
   {
    "duration": 0,
    "start_time": "2022-11-30T16:21:27.410Z"
   },
   {
    "duration": 0,
    "start_time": "2022-11-30T16:21:27.411Z"
   },
   {
    "duration": 0,
    "start_time": "2022-11-30T16:21:27.412Z"
   },
   {
    "duration": 0,
    "start_time": "2022-11-30T16:21:27.413Z"
   },
   {
    "duration": 0,
    "start_time": "2022-11-30T16:21:27.415Z"
   },
   {
    "duration": 0,
    "start_time": "2022-11-30T16:21:27.416Z"
   },
   {
    "duration": 0,
    "start_time": "2022-11-30T16:21:27.417Z"
   },
   {
    "duration": 0,
    "start_time": "2022-11-30T16:21:27.418Z"
   },
   {
    "duration": 0,
    "start_time": "2022-11-30T16:21:27.420Z"
   },
   {
    "duration": 1373,
    "start_time": "2022-11-30T16:21:40.823Z"
   },
   {
    "duration": 994,
    "start_time": "2022-11-30T16:21:42.198Z"
   },
   {
    "duration": 19,
    "start_time": "2022-11-30T16:21:43.194Z"
   },
   {
    "duration": 119,
    "start_time": "2022-11-30T16:21:43.215Z"
   },
   {
    "duration": 271,
    "start_time": "2022-11-30T16:21:43.336Z"
   },
   {
    "duration": 5,
    "start_time": "2022-11-30T16:21:43.608Z"
   },
   {
    "duration": 35,
    "start_time": "2022-11-30T16:21:43.615Z"
   },
   {
    "duration": 3,
    "start_time": "2022-11-30T16:21:43.652Z"
   },
   {
    "duration": 147,
    "start_time": "2022-11-30T16:21:43.656Z"
   },
   {
    "duration": 50,
    "start_time": "2022-11-30T16:21:43.805Z"
   },
   {
    "duration": 3057,
    "start_time": "2022-11-30T16:21:43.857Z"
   },
   {
    "duration": 88,
    "start_time": "2022-11-30T16:21:46.916Z"
   },
   {
    "duration": 130,
    "start_time": "2022-11-30T16:21:47.006Z"
   },
   {
    "duration": 81,
    "start_time": "2022-11-30T16:21:47.138Z"
   },
   {
    "duration": 13,
    "start_time": "2022-11-30T16:21:47.220Z"
   },
   {
    "duration": 23,
    "start_time": "2022-11-30T16:21:47.235Z"
   },
   {
    "duration": 207,
    "start_time": "2022-11-30T16:21:47.260Z"
   },
   {
    "duration": 96,
    "start_time": "2022-11-30T16:21:47.469Z"
   },
   {
    "duration": 38,
    "start_time": "2022-11-30T16:21:47.567Z"
   },
   {
    "duration": 82,
    "start_time": "2022-11-30T16:21:47.607Z"
   },
   {
    "duration": 266,
    "start_time": "2022-11-30T16:21:47.691Z"
   },
   {
    "duration": 374,
    "start_time": "2022-11-30T16:21:47.959Z"
   },
   {
    "duration": 4,
    "start_time": "2022-11-30T16:21:48.334Z"
   },
   {
    "duration": 6664,
    "start_time": "2022-11-30T16:21:48.339Z"
   },
   {
    "duration": 72,
    "start_time": "2022-11-30T16:21:55.007Z"
   },
   {
    "duration": 1397,
    "start_time": "2022-11-30T16:22:47.584Z"
   },
   {
    "duration": 948,
    "start_time": "2022-11-30T16:22:48.983Z"
   },
   {
    "duration": 17,
    "start_time": "2022-11-30T16:22:49.933Z"
   },
   {
    "duration": 106,
    "start_time": "2022-11-30T16:22:49.952Z"
   },
   {
    "duration": 261,
    "start_time": "2022-11-30T16:22:50.060Z"
   },
   {
    "duration": 5,
    "start_time": "2022-11-30T16:22:50.323Z"
   },
   {
    "duration": 35,
    "start_time": "2022-11-30T16:22:50.330Z"
   },
   {
    "duration": 70,
    "start_time": "2022-11-30T16:22:50.366Z"
   },
   {
    "duration": 3,
    "start_time": "2022-11-30T16:22:50.437Z"
   },
   {
    "duration": 154,
    "start_time": "2022-11-30T16:22:50.442Z"
   },
   {
    "duration": 56,
    "start_time": "2022-11-30T16:22:50.598Z"
   },
   {
    "duration": 3061,
    "start_time": "2022-11-30T16:22:50.656Z"
   },
   {
    "duration": 71,
    "start_time": "2022-11-30T16:22:53.719Z"
   },
   {
    "duration": 151,
    "start_time": "2022-11-30T16:22:53.793Z"
   },
   {
    "duration": 75,
    "start_time": "2022-11-30T16:22:53.947Z"
   },
   {
    "duration": 28,
    "start_time": "2022-11-30T16:22:54.024Z"
   },
   {
    "duration": 214,
    "start_time": "2022-11-30T16:22:54.054Z"
   },
   {
    "duration": 93,
    "start_time": "2022-11-30T16:22:54.270Z"
   },
   {
    "duration": 41,
    "start_time": "2022-11-30T16:22:54.365Z"
   },
   {
    "duration": 73,
    "start_time": "2022-11-30T16:22:54.407Z"
   },
   {
    "duration": 282,
    "start_time": "2022-11-30T16:22:54.482Z"
   },
   {
    "duration": 358,
    "start_time": "2022-11-30T16:22:54.765Z"
   },
   {
    "duration": 3,
    "start_time": "2022-11-30T16:22:55.125Z"
   },
   {
    "duration": 7467,
    "start_time": "2022-11-30T16:22:55.129Z"
   },
   {
    "duration": 81,
    "start_time": "2022-11-30T16:23:02.598Z"
   },
   {
    "duration": 1348,
    "start_time": "2022-11-30T16:25:48.130Z"
   },
   {
    "duration": 919,
    "start_time": "2022-11-30T16:25:49.480Z"
   },
   {
    "duration": 16,
    "start_time": "2022-11-30T16:25:50.401Z"
   },
   {
    "duration": 109,
    "start_time": "2022-11-30T16:25:50.419Z"
   },
   {
    "duration": 274,
    "start_time": "2022-11-30T16:25:50.530Z"
   },
   {
    "duration": 6,
    "start_time": "2022-11-30T16:25:50.806Z"
   },
   {
    "duration": 38,
    "start_time": "2022-11-30T16:25:50.813Z"
   },
   {
    "duration": 78,
    "start_time": "2022-11-30T16:25:50.853Z"
   },
   {
    "duration": 114,
    "start_time": "2022-11-30T16:25:50.933Z"
   },
   {
    "duration": 0,
    "start_time": "2022-11-30T16:25:51.049Z"
   },
   {
    "duration": 0,
    "start_time": "2022-11-30T16:25:51.050Z"
   },
   {
    "duration": 0,
    "start_time": "2022-11-30T16:25:51.052Z"
   },
   {
    "duration": 0,
    "start_time": "2022-11-30T16:25:51.053Z"
   },
   {
    "duration": 0,
    "start_time": "2022-11-30T16:25:51.053Z"
   },
   {
    "duration": 0,
    "start_time": "2022-11-30T16:25:51.054Z"
   },
   {
    "duration": 0,
    "start_time": "2022-11-30T16:25:51.055Z"
   },
   {
    "duration": 0,
    "start_time": "2022-11-30T16:25:51.056Z"
   },
   {
    "duration": 0,
    "start_time": "2022-11-30T16:25:51.057Z"
   },
   {
    "duration": 0,
    "start_time": "2022-11-30T16:25:51.058Z"
   },
   {
    "duration": 0,
    "start_time": "2022-11-30T16:25:51.078Z"
   },
   {
    "duration": 0,
    "start_time": "2022-11-30T16:25:51.079Z"
   },
   {
    "duration": 0,
    "start_time": "2022-11-30T16:25:51.080Z"
   },
   {
    "duration": 0,
    "start_time": "2022-11-30T16:25:51.081Z"
   },
   {
    "duration": 0,
    "start_time": "2022-11-30T16:25:51.081Z"
   },
   {
    "duration": 0,
    "start_time": "2022-11-30T16:25:51.083Z"
   },
   {
    "duration": 0,
    "start_time": "2022-11-30T16:25:51.084Z"
   },
   {
    "duration": 0,
    "start_time": "2022-11-30T16:25:51.084Z"
   },
   {
    "duration": 0,
    "start_time": "2022-11-30T16:25:51.086Z"
   },
   {
    "duration": 0,
    "start_time": "2022-11-30T16:25:51.087Z"
   },
   {
    "duration": 0,
    "start_time": "2022-11-30T16:25:51.088Z"
   },
   {
    "duration": 31,
    "start_time": "2022-11-30T16:26:08.994Z"
   },
   {
    "duration": 18,
    "start_time": "2022-11-30T16:27:03.028Z"
   },
   {
    "duration": 17,
    "start_time": "2022-11-30T16:27:17.442Z"
   },
   {
    "duration": 22,
    "start_time": "2022-11-30T16:28:09.043Z"
   },
   {
    "duration": 3,
    "start_time": "2022-11-30T16:28:11.883Z"
   },
   {
    "duration": 29,
    "start_time": "2022-11-30T16:29:05.063Z"
   },
   {
    "duration": 7,
    "start_time": "2022-11-30T16:30:53.921Z"
   },
   {
    "duration": 13,
    "start_time": "2022-11-30T16:31:04.079Z"
   },
   {
    "duration": 30,
    "start_time": "2022-11-30T16:31:07.979Z"
   },
   {
    "duration": 39,
    "start_time": "2022-11-30T16:32:21.307Z"
   },
   {
    "duration": 29,
    "start_time": "2022-11-30T16:33:16.589Z"
   },
   {
    "duration": 17,
    "start_time": "2022-11-30T16:33:16.739Z"
   },
   {
    "duration": 39,
    "start_time": "2022-11-30T16:33:16.944Z"
   },
   {
    "duration": 3,
    "start_time": "2022-11-30T16:33:17.070Z"
   },
   {
    "duration": 1333,
    "start_time": "2022-11-30T16:33:20.729Z"
   },
   {
    "duration": 901,
    "start_time": "2022-11-30T16:33:22.064Z"
   },
   {
    "duration": 18,
    "start_time": "2022-11-30T16:33:22.968Z"
   },
   {
    "duration": 106,
    "start_time": "2022-11-30T16:33:22.988Z"
   },
   {
    "duration": 261,
    "start_time": "2022-11-30T16:33:23.096Z"
   },
   {
    "duration": 6,
    "start_time": "2022-11-30T16:33:23.359Z"
   },
   {
    "duration": 55,
    "start_time": "2022-11-30T16:33:23.367Z"
   },
   {
    "duration": 63,
    "start_time": "2022-11-30T16:33:23.424Z"
   },
   {
    "duration": 27,
    "start_time": "2022-11-30T16:33:23.488Z"
   },
   {
    "duration": 19,
    "start_time": "2022-11-30T16:33:23.517Z"
   },
   {
    "duration": 62,
    "start_time": "2022-11-30T16:33:23.538Z"
   },
   {
    "duration": 9,
    "start_time": "2022-11-30T16:33:23.603Z"
   },
   {
    "duration": 141,
    "start_time": "2022-11-30T16:33:23.614Z"
   },
   {
    "duration": 57,
    "start_time": "2022-11-30T16:33:23.759Z"
   },
   {
    "duration": 3151,
    "start_time": "2022-11-30T16:33:23.818Z"
   },
   {
    "duration": 72,
    "start_time": "2022-11-30T16:33:26.971Z"
   },
   {
    "duration": 148,
    "start_time": "2022-11-30T16:33:27.044Z"
   },
   {
    "duration": 64,
    "start_time": "2022-11-30T16:33:27.194Z"
   },
   {
    "duration": 35,
    "start_time": "2022-11-30T16:33:27.259Z"
   },
   {
    "duration": 207,
    "start_time": "2022-11-30T16:33:27.295Z"
   },
   {
    "duration": 103,
    "start_time": "2022-11-30T16:33:27.504Z"
   },
   {
    "duration": 32,
    "start_time": "2022-11-30T16:33:27.609Z"
   },
   {
    "duration": 75,
    "start_time": "2022-11-30T16:33:27.643Z"
   },
   {
    "duration": 272,
    "start_time": "2022-11-30T16:33:27.720Z"
   },
   {
    "duration": 355,
    "start_time": "2022-11-30T16:33:27.993Z"
   },
   {
    "duration": 3,
    "start_time": "2022-11-30T16:33:28.350Z"
   },
   {
    "duration": 8529,
    "start_time": "2022-11-30T16:33:28.354Z"
   },
   {
    "duration": 4,
    "start_time": "2022-11-30T16:33:36.884Z"
   },
   {
    "duration": 1404,
    "start_time": "2022-11-30T16:34:24.278Z"
   },
   {
    "duration": 947,
    "start_time": "2022-11-30T16:34:25.685Z"
   },
   {
    "duration": 17,
    "start_time": "2022-11-30T16:34:26.634Z"
   },
   {
    "duration": 127,
    "start_time": "2022-11-30T16:34:26.653Z"
   },
   {
    "duration": 340,
    "start_time": "2022-11-30T16:34:26.784Z"
   },
   {
    "duration": 7,
    "start_time": "2022-11-30T16:34:27.125Z"
   },
   {
    "duration": 70,
    "start_time": "2022-11-30T16:34:27.134Z"
   },
   {
    "duration": 87,
    "start_time": "2022-11-30T16:34:27.206Z"
   },
   {
    "duration": 52,
    "start_time": "2022-11-30T16:34:27.295Z"
   },
   {
    "duration": 44,
    "start_time": "2022-11-30T16:34:27.349Z"
   },
   {
    "duration": 63,
    "start_time": "2022-11-30T16:34:27.395Z"
   },
   {
    "duration": 35,
    "start_time": "2022-11-30T16:34:27.460Z"
   },
   {
    "duration": 184,
    "start_time": "2022-11-30T16:34:27.497Z"
   },
   {
    "duration": 56,
    "start_time": "2022-11-30T16:34:27.684Z"
   },
   {
    "duration": 3187,
    "start_time": "2022-11-30T16:34:27.742Z"
   },
   {
    "duration": 68,
    "start_time": "2022-11-30T16:34:30.931Z"
   },
   {
    "duration": 132,
    "start_time": "2022-11-30T16:34:31.000Z"
   },
   {
    "duration": 72,
    "start_time": "2022-11-30T16:34:31.134Z"
   },
   {
    "duration": 22,
    "start_time": "2022-11-30T16:34:31.208Z"
   },
   {
    "duration": 198,
    "start_time": "2022-11-30T16:34:31.232Z"
   },
   {
    "duration": 96,
    "start_time": "2022-11-30T16:34:31.431Z"
   },
   {
    "duration": 31,
    "start_time": "2022-11-30T16:34:31.529Z"
   },
   {
    "duration": 80,
    "start_time": "2022-11-30T16:34:31.561Z"
   },
   {
    "duration": 245,
    "start_time": "2022-11-30T16:34:31.642Z"
   },
   {
    "duration": 340,
    "start_time": "2022-11-30T16:34:31.889Z"
   },
   {
    "duration": 3,
    "start_time": "2022-11-30T16:34:32.230Z"
   },
   {
    "duration": 7155,
    "start_time": "2022-11-30T16:34:32.235Z"
   },
   {
    "duration": 3,
    "start_time": "2022-11-30T16:34:39.392Z"
   },
   {
    "duration": 169702,
    "start_time": "2022-11-30T16:34:39.479Z"
   },
   {
    "duration": 3101,
    "start_time": "2022-11-30T16:37:29.183Z"
   },
   {
    "duration": 2,
    "start_time": "2022-11-30T16:37:32.286Z"
   },
   {
    "duration": 13,
    "start_time": "2022-11-30T16:37:32.290Z"
   },
   {
    "duration": 22,
    "start_time": "2022-11-30T16:39:48.099Z"
   },
   {
    "duration": 1668,
    "start_time": "2022-11-30T16:39:48.952Z"
   },
   {
    "duration": 30,
    "start_time": "2022-11-30T16:39:50.622Z"
   },
   {
    "duration": 124,
    "start_time": "2022-11-30T16:39:50.654Z"
   },
   {
    "duration": 30,
    "start_time": "2022-11-30T16:39:50.780Z"
   },
   {
    "duration": 22,
    "start_time": "2022-11-30T16:39:50.811Z"
   },
   {
    "duration": 124,
    "start_time": "2022-11-30T16:39:50.834Z"
   },
   {
    "duration": 91,
    "start_time": "2022-11-30T16:39:50.960Z"
   },
   {
    "duration": 34,
    "start_time": "2022-11-30T16:39:51.053Z"
   },
   {
    "duration": 66,
    "start_time": "2022-11-30T16:39:51.688Z"
   },
   {
    "duration": 1498,
    "start_time": "2022-12-03T06:17:37.068Z"
   },
   {
    "duration": 2798,
    "start_time": "2022-12-03T06:17:38.568Z"
   },
   {
    "duration": 15,
    "start_time": "2022-12-03T06:17:41.368Z"
   },
   {
    "duration": 133,
    "start_time": "2022-12-03T06:17:41.385Z"
   },
   {
    "duration": 263,
    "start_time": "2022-12-03T06:17:41.522Z"
   },
   {
    "duration": 5,
    "start_time": "2022-12-03T06:17:41.786Z"
   },
   {
    "duration": 39,
    "start_time": "2022-12-03T06:17:41.793Z"
   },
   {
    "duration": 67,
    "start_time": "2022-12-03T06:17:41.833Z"
   },
   {
    "duration": 41,
    "start_time": "2022-12-03T06:17:41.901Z"
   },
   {
    "duration": 21,
    "start_time": "2022-12-03T06:17:41.944Z"
   },
   {
    "duration": 41,
    "start_time": "2022-12-03T06:17:41.966Z"
   },
   {
    "duration": 4,
    "start_time": "2022-12-03T06:17:42.022Z"
   },
   {
    "duration": 138,
    "start_time": "2022-12-03T06:17:42.027Z"
   },
   {
    "duration": 68,
    "start_time": "2022-12-03T06:17:42.167Z"
   },
   {
    "duration": 3057,
    "start_time": "2022-12-03T06:17:42.237Z"
   },
   {
    "duration": 71,
    "start_time": "2022-12-03T06:17:45.296Z"
   },
   {
    "duration": 131,
    "start_time": "2022-12-03T06:17:45.369Z"
   },
   {
    "duration": 66,
    "start_time": "2022-12-03T06:17:45.502Z"
   },
   {
    "duration": 21,
    "start_time": "2022-12-03T06:17:45.570Z"
   },
   {
    "duration": 187,
    "start_time": "2022-12-03T06:17:45.592Z"
   },
   {
    "duration": 112,
    "start_time": "2022-12-03T06:17:45.780Z"
   },
   {
    "duration": 31,
    "start_time": "2022-12-03T06:17:45.894Z"
   },
   {
    "duration": 57,
    "start_time": "2022-12-03T06:17:45.926Z"
   },
   {
    "duration": 242,
    "start_time": "2022-12-03T06:17:45.984Z"
   },
   {
    "duration": 331,
    "start_time": "2022-12-03T06:17:46.227Z"
   },
   {
    "duration": 3,
    "start_time": "2022-12-03T06:17:46.560Z"
   },
   {
    "duration": 7880,
    "start_time": "2022-12-03T06:17:46.564Z"
   },
   {
    "duration": 74,
    "start_time": "2022-12-03T06:17:54.448Z"
   },
   {
    "duration": 1372,
    "start_time": "2022-12-03T06:19:22.354Z"
   },
   {
    "duration": 903,
    "start_time": "2022-12-03T06:19:23.729Z"
   },
   {
    "duration": 17,
    "start_time": "2022-12-03T06:19:24.633Z"
   },
   {
    "duration": 113,
    "start_time": "2022-12-03T06:19:24.651Z"
   },
   {
    "duration": 285,
    "start_time": "2022-12-03T06:19:24.766Z"
   },
   {
    "duration": 7,
    "start_time": "2022-12-03T06:19:25.053Z"
   },
   {
    "duration": 47,
    "start_time": "2022-12-03T06:19:25.061Z"
   },
   {
    "duration": 68,
    "start_time": "2022-12-03T06:19:25.110Z"
   },
   {
    "duration": 46,
    "start_time": "2022-12-03T06:19:25.180Z"
   },
   {
    "duration": 21,
    "start_time": "2022-12-03T06:19:25.228Z"
   },
   {
    "duration": 41,
    "start_time": "2022-12-03T06:19:25.250Z"
   },
   {
    "duration": 29,
    "start_time": "2022-12-03T06:19:25.293Z"
   },
   {
    "duration": 140,
    "start_time": "2022-12-03T06:19:25.323Z"
   },
   {
    "duration": 58,
    "start_time": "2022-12-03T06:19:25.464Z"
   },
   {
    "duration": 2937,
    "start_time": "2022-12-03T06:19:25.524Z"
   },
   {
    "duration": 174,
    "start_time": "2022-12-03T06:19:28.463Z"
   },
   {
    "duration": 0,
    "start_time": "2022-12-03T06:19:28.639Z"
   },
   {
    "duration": 0,
    "start_time": "2022-12-03T06:19:28.640Z"
   },
   {
    "duration": 0,
    "start_time": "2022-12-03T06:19:28.641Z"
   },
   {
    "duration": 0,
    "start_time": "2022-12-03T06:19:28.643Z"
   },
   {
    "duration": 0,
    "start_time": "2022-12-03T06:19:28.644Z"
   },
   {
    "duration": 0,
    "start_time": "2022-12-03T06:19:28.646Z"
   },
   {
    "duration": 0,
    "start_time": "2022-12-03T06:19:28.647Z"
   },
   {
    "duration": 0,
    "start_time": "2022-12-03T06:19:28.648Z"
   },
   {
    "duration": 0,
    "start_time": "2022-12-03T06:19:28.650Z"
   },
   {
    "duration": 0,
    "start_time": "2022-12-03T06:19:28.651Z"
   },
   {
    "duration": 0,
    "start_time": "2022-12-03T06:19:28.652Z"
   },
   {
    "duration": 0,
    "start_time": "2022-12-03T06:19:28.654Z"
   },
   {
    "duration": 0,
    "start_time": "2022-12-03T06:19:28.655Z"
   },
   {
    "duration": 0,
    "start_time": "2022-12-03T06:19:28.657Z"
   },
   {
    "duration": 0,
    "start_time": "2022-12-03T06:19:28.658Z"
   },
   {
    "duration": 0,
    "start_time": "2022-12-03T06:19:28.660Z"
   },
   {
    "duration": 120,
    "start_time": "2022-12-03T06:19:37.364Z"
   },
   {
    "duration": 1420,
    "start_time": "2022-12-03T06:19:41.093Z"
   },
   {
    "duration": 848,
    "start_time": "2022-12-03T06:19:42.515Z"
   },
   {
    "duration": 16,
    "start_time": "2022-12-03T06:19:43.365Z"
   },
   {
    "duration": 141,
    "start_time": "2022-12-03T06:19:43.384Z"
   },
   {
    "duration": 262,
    "start_time": "2022-12-03T06:19:43.527Z"
   },
   {
    "duration": 6,
    "start_time": "2022-12-03T06:19:43.790Z"
   },
   {
    "duration": 42,
    "start_time": "2022-12-03T06:19:43.797Z"
   },
   {
    "duration": 97,
    "start_time": "2022-12-03T06:19:43.841Z"
   },
   {
    "duration": 40,
    "start_time": "2022-12-03T06:19:43.940Z"
   },
   {
    "duration": 43,
    "start_time": "2022-12-03T06:19:43.983Z"
   },
   {
    "duration": 60,
    "start_time": "2022-12-03T06:19:44.028Z"
   },
   {
    "duration": 12,
    "start_time": "2022-12-03T06:19:44.090Z"
   },
   {
    "duration": 184,
    "start_time": "2022-12-03T06:19:44.104Z"
   },
   {
    "duration": 70,
    "start_time": "2022-12-03T06:19:44.290Z"
   },
   {
    "duration": 2943,
    "start_time": "2022-12-03T06:19:44.362Z"
   },
   {
    "duration": 110,
    "start_time": "2022-12-03T06:19:47.307Z"
   },
   {
    "duration": 133,
    "start_time": "2022-12-03T06:19:47.419Z"
   },
   {
    "duration": 27,
    "start_time": "2022-12-03T06:19:47.554Z"
   },
   {
    "duration": 40,
    "start_time": "2022-12-03T06:19:47.583Z"
   },
   {
    "duration": 210,
    "start_time": "2022-12-03T06:19:47.625Z"
   },
   {
    "duration": 110,
    "start_time": "2022-12-03T06:19:47.837Z"
   },
   {
    "duration": 32,
    "start_time": "2022-12-03T06:19:47.949Z"
   },
   {
    "duration": 76,
    "start_time": "2022-12-03T06:19:47.983Z"
   },
   {
    "duration": 267,
    "start_time": "2022-12-03T06:19:48.061Z"
   },
   {
    "duration": 349,
    "start_time": "2022-12-03T06:19:48.330Z"
   },
   {
    "duration": 3,
    "start_time": "2022-12-03T06:19:48.680Z"
   },
   {
    "duration": 8745,
    "start_time": "2022-12-03T06:19:48.685Z"
   },
   {
    "duration": 3,
    "start_time": "2022-12-03T06:19:57.434Z"
   },
   {
    "duration": 1453,
    "start_time": "2022-12-03T06:20:48.848Z"
   },
   {
    "duration": 886,
    "start_time": "2022-12-03T06:20:50.303Z"
   },
   {
    "duration": 18,
    "start_time": "2022-12-03T06:20:51.190Z"
   },
   {
    "duration": 146,
    "start_time": "2022-12-03T06:20:51.222Z"
   },
   {
    "duration": 294,
    "start_time": "2022-12-03T06:20:51.370Z"
   },
   {
    "duration": 7,
    "start_time": "2022-12-03T06:20:51.666Z"
   },
   {
    "duration": 74,
    "start_time": "2022-12-03T06:20:51.675Z"
   },
   {
    "duration": 81,
    "start_time": "2022-12-03T06:20:51.751Z"
   },
   {
    "duration": 35,
    "start_time": "2022-12-03T06:20:51.834Z"
   },
   {
    "duration": 21,
    "start_time": "2022-12-03T06:20:51.924Z"
   },
   {
    "duration": 76,
    "start_time": "2022-12-03T06:20:51.946Z"
   },
   {
    "duration": 3,
    "start_time": "2022-12-03T06:20:52.024Z"
   },
   {
    "duration": 181,
    "start_time": "2022-12-03T06:20:52.029Z"
   },
   {
    "duration": 66,
    "start_time": "2022-12-03T06:20:52.211Z"
   },
   {
    "duration": 3102,
    "start_time": "2022-12-03T06:20:52.278Z"
   },
   {
    "duration": 106,
    "start_time": "2022-12-03T06:20:55.381Z"
   },
   {
    "duration": 137,
    "start_time": "2022-12-03T06:20:55.489Z"
   },
   {
    "duration": 27,
    "start_time": "2022-12-03T06:20:55.628Z"
   },
   {
    "duration": 23,
    "start_time": "2022-12-03T06:20:55.657Z"
   },
   {
    "duration": 217,
    "start_time": "2022-12-03T06:20:55.682Z"
   },
   {
    "duration": 93,
    "start_time": "2022-12-03T06:20:55.901Z"
   },
   {
    "duration": 34,
    "start_time": "2022-12-03T06:20:55.995Z"
   },
   {
    "duration": 63,
    "start_time": "2022-12-03T06:20:56.031Z"
   },
   {
    "duration": 262,
    "start_time": "2022-12-03T06:20:56.096Z"
   },
   {
    "duration": 340,
    "start_time": "2022-12-03T06:20:56.359Z"
   },
   {
    "duration": 3,
    "start_time": "2022-12-03T06:20:56.701Z"
   },
   {
    "duration": 14022,
    "start_time": "2022-12-03T06:20:56.706Z"
   },
   {
    "duration": 3,
    "start_time": "2022-12-03T06:21:10.732Z"
   },
   {
    "duration": 1356,
    "start_time": "2022-12-03T06:22:26.246Z"
   },
   {
    "duration": 895,
    "start_time": "2022-12-03T06:22:27.604Z"
   },
   {
    "duration": 31,
    "start_time": "2022-12-03T06:22:28.501Z"
   },
   {
    "duration": 108,
    "start_time": "2022-12-03T06:22:28.535Z"
   },
   {
    "duration": 258,
    "start_time": "2022-12-03T06:22:28.645Z"
   },
   {
    "duration": 17,
    "start_time": "2022-12-03T06:22:28.906Z"
   },
   {
    "duration": 33,
    "start_time": "2022-12-03T06:22:28.925Z"
   },
   {
    "duration": 76,
    "start_time": "2022-12-03T06:22:28.959Z"
   },
   {
    "duration": 30,
    "start_time": "2022-12-03T06:22:29.037Z"
   },
   {
    "duration": 23,
    "start_time": "2022-12-03T06:22:29.070Z"
   },
   {
    "duration": 71,
    "start_time": "2022-12-03T06:22:29.095Z"
   },
   {
    "duration": 3,
    "start_time": "2022-12-03T06:22:29.168Z"
   },
   {
    "duration": 158,
    "start_time": "2022-12-03T06:22:29.173Z"
   },
   {
    "duration": 47,
    "start_time": "2022-12-03T06:22:29.332Z"
   },
   {
    "duration": 3166,
    "start_time": "2022-12-03T06:22:29.380Z"
   },
   {
    "duration": 29,
    "start_time": "2022-12-03T06:22:32.548Z"
   },
   {
    "duration": 76,
    "start_time": "2022-12-03T06:22:32.580Z"
   },
   {
    "duration": 143,
    "start_time": "2022-12-03T06:22:32.657Z"
   },
   {
    "duration": 64,
    "start_time": "2022-12-03T06:22:32.802Z"
   },
   {
    "duration": 25,
    "start_time": "2022-12-03T06:22:32.869Z"
   },
   {
    "duration": 204,
    "start_time": "2022-12-03T06:22:32.895Z"
   },
   {
    "duration": 95,
    "start_time": "2022-12-03T06:22:33.100Z"
   },
   {
    "duration": 34,
    "start_time": "2022-12-03T06:22:33.197Z"
   },
   {
    "duration": 65,
    "start_time": "2022-12-03T06:22:33.233Z"
   },
   {
    "duration": 263,
    "start_time": "2022-12-03T06:22:33.300Z"
   },
   {
    "duration": 366,
    "start_time": "2022-12-03T06:22:33.566Z"
   },
   {
    "duration": 3,
    "start_time": "2022-12-03T06:22:33.934Z"
   },
   {
    "duration": 17995,
    "start_time": "2022-12-03T06:22:33.941Z"
   },
   {
    "duration": 3,
    "start_time": "2022-12-03T06:22:51.938Z"
   },
   {
    "duration": 1462,
    "start_time": "2022-12-03T06:28:34.996Z"
   },
   {
    "duration": 871,
    "start_time": "2022-12-03T06:28:36.460Z"
   },
   {
    "duration": 17,
    "start_time": "2022-12-03T06:28:37.333Z"
   },
   {
    "duration": 115,
    "start_time": "2022-12-03T06:28:37.352Z"
   },
   {
    "duration": 254,
    "start_time": "2022-12-03T06:28:37.468Z"
   },
   {
    "duration": 6,
    "start_time": "2022-12-03T06:28:37.723Z"
   },
   {
    "duration": 45,
    "start_time": "2022-12-03T06:28:37.730Z"
   },
   {
    "duration": 69,
    "start_time": "2022-12-03T06:28:37.777Z"
   },
   {
    "duration": 29,
    "start_time": "2022-12-03T06:28:37.847Z"
   },
   {
    "duration": 43,
    "start_time": "2022-12-03T06:28:37.880Z"
   },
   {
    "duration": 53,
    "start_time": "2022-12-03T06:28:37.925Z"
   },
   {
    "duration": 4,
    "start_time": "2022-12-03T06:28:37.980Z"
   },
   {
    "duration": 172,
    "start_time": "2022-12-03T06:28:37.986Z"
   },
   {
    "duration": 51,
    "start_time": "2022-12-03T06:28:38.160Z"
   },
   {
    "duration": 3125,
    "start_time": "2022-12-03T06:28:38.221Z"
   },
   {
    "duration": 32,
    "start_time": "2022-12-03T06:28:41.348Z"
   },
   {
    "duration": 82,
    "start_time": "2022-12-03T06:28:41.382Z"
   },
   {
    "duration": 3,
    "start_time": "2022-12-03T06:28:41.465Z"
   },
   {
    "duration": 140,
    "start_time": "2022-12-03T06:28:41.470Z"
   },
   {
    "duration": 10,
    "start_time": "2022-12-03T06:28:41.612Z"
   },
   {
    "duration": 39,
    "start_time": "2022-12-03T06:28:41.624Z"
   },
   {
    "duration": 139,
    "start_time": "2022-12-03T06:28:41.666Z"
   },
   {
    "duration": 0,
    "start_time": "2022-12-03T06:28:41.807Z"
   },
   {
    "duration": 0,
    "start_time": "2022-12-03T06:28:41.809Z"
   },
   {
    "duration": 0,
    "start_time": "2022-12-03T06:28:41.810Z"
   },
   {
    "duration": 0,
    "start_time": "2022-12-03T06:28:41.822Z"
   },
   {
    "duration": 0,
    "start_time": "2022-12-03T06:28:41.824Z"
   },
   {
    "duration": 0,
    "start_time": "2022-12-03T06:28:41.825Z"
   },
   {
    "duration": 0,
    "start_time": "2022-12-03T06:28:41.827Z"
   },
   {
    "duration": 0,
    "start_time": "2022-12-03T06:28:41.828Z"
   },
   {
    "duration": 0,
    "start_time": "2022-12-03T06:28:41.829Z"
   },
   {
    "duration": 0,
    "start_time": "2022-12-03T06:28:41.831Z"
   },
   {
    "duration": 0,
    "start_time": "2022-12-03T06:28:41.832Z"
   },
   {
    "duration": 0,
    "start_time": "2022-12-03T06:28:41.834Z"
   },
   {
    "duration": 0,
    "start_time": "2022-12-03T06:28:41.836Z"
   },
   {
    "duration": 11,
    "start_time": "2022-12-03T06:29:10.928Z"
   },
   {
    "duration": 923,
    "start_time": "2022-12-03T06:29:12.796Z"
   },
   {
    "duration": 1454,
    "start_time": "2022-12-03T06:29:29.685Z"
   },
   {
    "duration": 893,
    "start_time": "2022-12-03T06:29:31.141Z"
   },
   {
    "duration": 19,
    "start_time": "2022-12-03T06:29:32.036Z"
   },
   {
    "duration": 142,
    "start_time": "2022-12-03T06:29:32.057Z"
   },
   {
    "duration": 268,
    "start_time": "2022-12-03T06:29:32.202Z"
   },
   {
    "duration": 7,
    "start_time": "2022-12-03T06:29:32.471Z"
   },
   {
    "duration": 43,
    "start_time": "2022-12-03T06:29:32.479Z"
   },
   {
    "duration": 67,
    "start_time": "2022-12-03T06:29:32.524Z"
   },
   {
    "duration": 42,
    "start_time": "2022-12-03T06:29:32.593Z"
   },
   {
    "duration": 21,
    "start_time": "2022-12-03T06:29:32.637Z"
   },
   {
    "duration": 62,
    "start_time": "2022-12-03T06:29:32.660Z"
   },
   {
    "duration": 3,
    "start_time": "2022-12-03T06:29:32.724Z"
   },
   {
    "duration": 149,
    "start_time": "2022-12-03T06:29:32.728Z"
   },
   {
    "duration": 65,
    "start_time": "2022-12-03T06:29:32.879Z"
   },
   {
    "duration": 3125,
    "start_time": "2022-12-03T06:29:32.946Z"
   },
   {
    "duration": 29,
    "start_time": "2022-12-03T06:29:36.073Z"
   },
   {
    "duration": 79,
    "start_time": "2022-12-03T06:29:36.103Z"
   },
   {
    "duration": 3,
    "start_time": "2022-12-03T06:29:36.183Z"
   },
   {
    "duration": 136,
    "start_time": "2022-12-03T06:29:36.188Z"
   },
   {
    "duration": 2,
    "start_time": "2022-12-03T06:29:36.326Z"
   },
   {
    "duration": 34,
    "start_time": "2022-12-03T06:29:36.330Z"
   },
   {
    "duration": 11,
    "start_time": "2022-12-03T06:29:36.366Z"
   },
   {
    "duration": 1013,
    "start_time": "2022-12-03T06:29:36.378Z"
   },
   {
    "duration": 0,
    "start_time": "2022-12-03T06:29:37.393Z"
   },
   {
    "duration": 0,
    "start_time": "2022-12-03T06:29:37.394Z"
   },
   {
    "duration": 0,
    "start_time": "2022-12-03T06:29:37.395Z"
   },
   {
    "duration": 0,
    "start_time": "2022-12-03T06:29:37.396Z"
   },
   {
    "duration": 0,
    "start_time": "2022-12-03T06:29:37.398Z"
   },
   {
    "duration": 0,
    "start_time": "2022-12-03T06:29:37.399Z"
   },
   {
    "duration": 0,
    "start_time": "2022-12-03T06:29:37.400Z"
   },
   {
    "duration": 0,
    "start_time": "2022-12-03T06:29:37.402Z"
   },
   {
    "duration": 0,
    "start_time": "2022-12-03T06:29:37.403Z"
   },
   {
    "duration": 0,
    "start_time": "2022-12-03T06:29:37.404Z"
   },
   {
    "duration": 0,
    "start_time": "2022-12-03T06:29:37.405Z"
   },
   {
    "duration": 0,
    "start_time": "2022-12-03T06:29:37.407Z"
   },
   {
    "duration": 865,
    "start_time": "2022-12-03T06:30:05.686Z"
   },
   {
    "duration": 0,
    "start_time": "2022-12-03T06:30:06.553Z"
   },
   {
    "duration": 1087,
    "start_time": "2022-12-03T06:30:06.785Z"
   },
   {
    "duration": 0,
    "start_time": "2022-12-03T06:30:07.874Z"
   },
   {
    "duration": 1404,
    "start_time": "2022-12-03T06:30:16.921Z"
   },
   {
    "duration": 888,
    "start_time": "2022-12-03T06:30:18.327Z"
   },
   {
    "duration": 23,
    "start_time": "2022-12-03T06:30:19.217Z"
   },
   {
    "duration": 123,
    "start_time": "2022-12-03T06:30:19.242Z"
   },
   {
    "duration": 263,
    "start_time": "2022-12-03T06:30:19.367Z"
   },
   {
    "duration": 5,
    "start_time": "2022-12-03T06:30:19.631Z"
   },
   {
    "duration": 32,
    "start_time": "2022-12-03T06:30:19.638Z"
   },
   {
    "duration": 82,
    "start_time": "2022-12-03T06:30:19.672Z"
   },
   {
    "duration": 28,
    "start_time": "2022-12-03T06:30:19.756Z"
   },
   {
    "duration": 36,
    "start_time": "2022-12-03T06:30:19.787Z"
   },
   {
    "duration": 49,
    "start_time": "2022-12-03T06:30:19.825Z"
   },
   {
    "duration": 4,
    "start_time": "2022-12-03T06:30:19.876Z"
   },
   {
    "duration": 159,
    "start_time": "2022-12-03T06:30:19.881Z"
   },
   {
    "duration": 50,
    "start_time": "2022-12-03T06:30:20.042Z"
   },
   {
    "duration": 3004,
    "start_time": "2022-12-03T06:30:20.093Z"
   },
   {
    "duration": 76,
    "start_time": "2022-12-03T06:30:23.098Z"
   },
   {
    "duration": 3,
    "start_time": "2022-12-03T06:30:23.176Z"
   },
   {
    "duration": 163,
    "start_time": "2022-12-03T06:30:23.180Z"
   },
   {
    "duration": 3,
    "start_time": "2022-12-03T06:30:23.345Z"
   },
   {
    "duration": 43,
    "start_time": "2022-12-03T06:30:23.350Z"
   },
   {
    "duration": 11,
    "start_time": "2022-12-03T06:30:23.395Z"
   },
   {
    "duration": 1001,
    "start_time": "2022-12-03T06:30:23.408Z"
   },
   {
    "duration": 0,
    "start_time": "2022-12-03T06:30:24.411Z"
   },
   {
    "duration": 0,
    "start_time": "2022-12-03T06:30:24.412Z"
   },
   {
    "duration": 0,
    "start_time": "2022-12-03T06:30:24.413Z"
   },
   {
    "duration": 0,
    "start_time": "2022-12-03T06:30:24.415Z"
   },
   {
    "duration": 0,
    "start_time": "2022-12-03T06:30:24.416Z"
   },
   {
    "duration": 0,
    "start_time": "2022-12-03T06:30:24.417Z"
   },
   {
    "duration": 0,
    "start_time": "2022-12-03T06:30:24.418Z"
   },
   {
    "duration": 0,
    "start_time": "2022-12-03T06:30:24.419Z"
   },
   {
    "duration": 0,
    "start_time": "2022-12-03T06:30:24.420Z"
   },
   {
    "duration": 0,
    "start_time": "2022-12-03T06:30:24.421Z"
   },
   {
    "duration": 0,
    "start_time": "2022-12-03T06:30:24.422Z"
   },
   {
    "duration": 0,
    "start_time": "2022-12-03T06:30:24.423Z"
   },
   {
    "duration": 15,
    "start_time": "2022-12-03T06:30:58.303Z"
   },
   {
    "duration": 17,
    "start_time": "2022-12-03T06:31:36.632Z"
   },
   {
    "duration": 845,
    "start_time": "2022-12-03T06:31:37.311Z"
   },
   {
    "duration": 1449,
    "start_time": "2022-12-03T06:31:46.995Z"
   },
   {
    "duration": 914,
    "start_time": "2022-12-03T06:31:48.447Z"
   },
   {
    "duration": 18,
    "start_time": "2022-12-03T06:31:49.363Z"
   },
   {
    "duration": 121,
    "start_time": "2022-12-03T06:31:49.383Z"
   },
   {
    "duration": 257,
    "start_time": "2022-12-03T06:31:49.506Z"
   },
   {
    "duration": 5,
    "start_time": "2022-12-03T06:31:49.765Z"
   },
   {
    "duration": 28,
    "start_time": "2022-12-03T06:31:49.772Z"
   },
   {
    "duration": 91,
    "start_time": "2022-12-03T06:31:49.802Z"
   },
   {
    "duration": 42,
    "start_time": "2022-12-03T06:31:49.895Z"
   },
   {
    "duration": 22,
    "start_time": "2022-12-03T06:31:49.939Z"
   },
   {
    "duration": 64,
    "start_time": "2022-12-03T06:31:49.963Z"
   },
   {
    "duration": 3,
    "start_time": "2022-12-03T06:31:50.029Z"
   },
   {
    "duration": 156,
    "start_time": "2022-12-03T06:31:50.033Z"
   },
   {
    "duration": 72,
    "start_time": "2022-12-03T06:31:50.190Z"
   },
   {
    "duration": 3093,
    "start_time": "2022-12-03T06:31:50.264Z"
   },
   {
    "duration": 80,
    "start_time": "2022-12-03T06:31:53.359Z"
   },
   {
    "duration": 3,
    "start_time": "2022-12-03T06:31:53.441Z"
   },
   {
    "duration": 152,
    "start_time": "2022-12-03T06:31:53.446Z"
   },
   {
    "duration": 2,
    "start_time": "2022-12-03T06:31:53.600Z"
   },
   {
    "duration": 40,
    "start_time": "2022-12-03T06:31:53.604Z"
   },
   {
    "duration": 51,
    "start_time": "2022-12-03T06:31:53.646Z"
   },
   {
    "duration": 258,
    "start_time": "2022-12-03T06:31:53.699Z"
   },
   {
    "duration": 246,
    "start_time": "2022-12-03T06:31:53.958Z"
   },
   {
    "duration": 87,
    "start_time": "2022-12-03T06:31:54.207Z"
   },
   {
    "duration": 246,
    "start_time": "2022-12-03T06:31:54.296Z"
   },
   {
    "duration": 800,
    "start_time": "2022-12-03T06:31:54.544Z"
   },
   {
    "duration": 867,
    "start_time": "2022-12-03T06:31:55.347Z"
   },
   {
    "duration": 3,
    "start_time": "2022-12-03T06:31:56.221Z"
   },
   {
    "duration": 1425,
    "start_time": "2022-12-03T06:32:37.684Z"
   },
   {
    "duration": 877,
    "start_time": "2022-12-03T06:32:39.111Z"
   },
   {
    "duration": 33,
    "start_time": "2022-12-03T06:32:39.990Z"
   },
   {
    "duration": 138,
    "start_time": "2022-12-03T06:32:40.025Z"
   },
   {
    "duration": 259,
    "start_time": "2022-12-03T06:32:40.165Z"
   },
   {
    "duration": 6,
    "start_time": "2022-12-03T06:32:40.426Z"
   },
   {
    "duration": 39,
    "start_time": "2022-12-03T06:32:40.434Z"
   },
   {
    "duration": 72,
    "start_time": "2022-12-03T06:32:40.475Z"
   },
   {
    "duration": 34,
    "start_time": "2022-12-03T06:32:40.549Z"
   },
   {
    "duration": 37,
    "start_time": "2022-12-03T06:32:40.586Z"
   },
   {
    "duration": 44,
    "start_time": "2022-12-03T06:32:40.625Z"
   },
   {
    "duration": 25,
    "start_time": "2022-12-03T06:32:40.671Z"
   },
   {
    "duration": 156,
    "start_time": "2022-12-03T06:32:40.698Z"
   },
   {
    "duration": 70,
    "start_time": "2022-12-03T06:32:40.856Z"
   },
   {
    "duration": 3151,
    "start_time": "2022-12-03T06:32:40.928Z"
   },
   {
    "duration": 80,
    "start_time": "2022-12-03T06:32:44.083Z"
   },
   {
    "duration": 3,
    "start_time": "2022-12-03T06:32:44.165Z"
   },
   {
    "duration": 179,
    "start_time": "2022-12-03T06:32:44.171Z"
   },
   {
    "duration": 3,
    "start_time": "2022-12-03T06:32:44.352Z"
   },
   {
    "duration": 32,
    "start_time": "2022-12-03T06:32:44.357Z"
   },
   {
    "duration": 63,
    "start_time": "2022-12-03T06:32:44.391Z"
   },
   {
    "duration": 247,
    "start_time": "2022-12-03T06:32:44.456Z"
   },
   {
    "duration": 196,
    "start_time": "2022-12-03T06:32:44.705Z"
   },
   {
    "duration": 76,
    "start_time": "2022-12-03T06:32:44.903Z"
   },
   {
    "duration": 130,
    "start_time": "2022-12-03T06:32:44.980Z"
   },
   {
    "duration": 816,
    "start_time": "2022-12-03T06:32:45.112Z"
   },
   {
    "duration": 868,
    "start_time": "2022-12-03T06:32:45.932Z"
   },
   {
    "duration": 3,
    "start_time": "2022-12-03T06:32:46.803Z"
   },
   {
    "duration": 25215,
    "start_time": "2022-12-03T06:32:46.807Z"
   },
   {
    "duration": 4,
    "start_time": "2022-12-03T06:33:12.028Z"
   },
   {
    "duration": 1418,
    "start_time": "2022-12-03T06:50:12.214Z"
   },
   {
    "duration": 985,
    "start_time": "2022-12-03T06:50:13.634Z"
   },
   {
    "duration": 16,
    "start_time": "2022-12-03T06:50:14.622Z"
   },
   {
    "duration": 110,
    "start_time": "2022-12-03T06:50:14.640Z"
   },
   {
    "duration": 261,
    "start_time": "2022-12-03T06:50:14.752Z"
   },
   {
    "duration": 9,
    "start_time": "2022-12-03T06:50:15.015Z"
   },
   {
    "duration": 39,
    "start_time": "2022-12-03T06:50:15.026Z"
   },
   {
    "duration": 81,
    "start_time": "2022-12-03T06:50:15.067Z"
   },
   {
    "duration": 29,
    "start_time": "2022-12-03T06:50:15.149Z"
   },
   {
    "duration": 27,
    "start_time": "2022-12-03T06:50:15.180Z"
   },
   {
    "duration": 55,
    "start_time": "2022-12-03T06:50:15.208Z"
   },
   {
    "duration": 4,
    "start_time": "2022-12-03T06:50:15.264Z"
   },
   {
    "duration": 144,
    "start_time": "2022-12-03T06:50:15.269Z"
   },
   {
    "duration": 63,
    "start_time": "2022-12-03T06:50:15.415Z"
   },
   {
    "duration": 3168,
    "start_time": "2022-12-03T06:50:15.480Z"
   },
   {
    "duration": 76,
    "start_time": "2022-12-03T06:50:18.650Z"
   },
   {
    "duration": 134,
    "start_time": "2022-12-03T06:50:18.727Z"
   },
   {
    "duration": 23,
    "start_time": "2022-12-03T06:50:18.863Z"
   },
   {
    "duration": 58,
    "start_time": "2022-12-03T06:50:18.888Z"
   },
   {
    "duration": 257,
    "start_time": "2022-12-03T06:50:18.948Z"
   },
   {
    "duration": 221,
    "start_time": "2022-12-03T06:50:19.206Z"
   },
   {
    "duration": 66,
    "start_time": "2022-12-03T06:50:19.429Z"
   },
   {
    "duration": 167,
    "start_time": "2022-12-03T06:50:19.497Z"
   },
   {
    "duration": 739,
    "start_time": "2022-12-03T06:50:19.666Z"
   },
   {
    "duration": 695,
    "start_time": "2022-12-03T06:50:20.407Z"
   },
   {
    "duration": 127,
    "start_time": "2022-12-03T06:50:21.103Z"
   },
   {
    "duration": 0,
    "start_time": "2022-12-03T06:50:21.232Z"
   },
   {
    "duration": 0,
    "start_time": "2022-12-03T06:50:21.233Z"
   },
   {
    "duration": 0,
    "start_time": "2022-12-03T06:50:21.234Z"
   },
   {
    "duration": 0,
    "start_time": "2022-12-03T06:50:21.235Z"
   },
   {
    "duration": 0,
    "start_time": "2022-12-03T06:50:21.236Z"
   },
   {
    "duration": 0,
    "start_time": "2022-12-03T06:50:21.237Z"
   },
   {
    "duration": 0,
    "start_time": "2022-12-03T06:50:21.239Z"
   },
   {
    "duration": 0,
    "start_time": "2022-12-03T06:50:21.240Z"
   },
   {
    "duration": 0,
    "start_time": "2022-12-03T06:50:21.240Z"
   },
   {
    "duration": 0,
    "start_time": "2022-12-03T06:50:21.241Z"
   },
   {
    "duration": 0,
    "start_time": "2022-12-03T06:50:21.242Z"
   },
   {
    "duration": 16,
    "start_time": "2022-12-03T06:50:50.792Z"
   },
   {
    "duration": 17,
    "start_time": "2022-12-03T06:51:01.402Z"
   },
   {
    "duration": 75,
    "start_time": "2022-12-03T06:51:05.586Z"
   },
   {
    "duration": 16,
    "start_time": "2022-12-03T06:51:14.168Z"
   },
   {
    "duration": 4,
    "start_time": "2022-12-03T06:51:50.868Z"
   },
   {
    "duration": 11,
    "start_time": "2022-12-03T06:51:51.228Z"
   },
   {
    "duration": 1334,
    "start_time": "2022-12-03T06:52:08.276Z"
   },
   {
    "duration": 873,
    "start_time": "2022-12-03T06:52:09.611Z"
   },
   {
    "duration": 17,
    "start_time": "2022-12-03T06:52:10.486Z"
   },
   {
    "duration": 107,
    "start_time": "2022-12-03T06:52:10.505Z"
   },
   {
    "duration": 270,
    "start_time": "2022-12-03T06:52:10.621Z"
   },
   {
    "duration": 6,
    "start_time": "2022-12-03T06:52:10.893Z"
   },
   {
    "duration": 44,
    "start_time": "2022-12-03T06:52:10.901Z"
   },
   {
    "duration": 79,
    "start_time": "2022-12-03T06:52:10.947Z"
   },
   {
    "duration": 34,
    "start_time": "2022-12-03T06:52:11.028Z"
   },
   {
    "duration": 31,
    "start_time": "2022-12-03T06:52:11.065Z"
   },
   {
    "duration": 58,
    "start_time": "2022-12-03T06:52:11.097Z"
   },
   {
    "duration": 7,
    "start_time": "2022-12-03T06:52:11.156Z"
   },
   {
    "duration": 143,
    "start_time": "2022-12-03T06:52:11.165Z"
   },
   {
    "duration": 60,
    "start_time": "2022-12-03T06:52:11.310Z"
   },
   {
    "duration": 3022,
    "start_time": "2022-12-03T06:52:11.372Z"
   },
   {
    "duration": 80,
    "start_time": "2022-12-03T06:52:14.395Z"
   },
   {
    "duration": 137,
    "start_time": "2022-12-03T06:52:14.477Z"
   },
   {
    "duration": 27,
    "start_time": "2022-12-03T06:52:14.622Z"
   },
   {
    "duration": 44,
    "start_time": "2022-12-03T06:52:14.651Z"
   },
   {
    "duration": 250,
    "start_time": "2022-12-03T06:52:14.696Z"
   },
   {
    "duration": 194,
    "start_time": "2022-12-03T06:52:14.948Z"
   },
   {
    "duration": 58,
    "start_time": "2022-12-03T06:52:15.144Z"
   },
   {
    "duration": 128,
    "start_time": "2022-12-03T06:52:15.203Z"
   },
   {
    "duration": 754,
    "start_time": "2022-12-03T06:52:15.333Z"
   },
   {
    "duration": 694,
    "start_time": "2022-12-03T06:52:16.088Z"
   },
   {
    "duration": 19,
    "start_time": "2022-12-03T06:52:16.784Z"
   },
   {
    "duration": 86,
    "start_time": "2022-12-03T06:52:16.804Z"
   },
   {
    "duration": 114,
    "start_time": "2022-12-03T06:52:16.894Z"
   },
   {
    "duration": 0,
    "start_time": "2022-12-03T06:52:17.010Z"
   },
   {
    "duration": 0,
    "start_time": "2022-12-03T06:52:17.011Z"
   },
   {
    "duration": 0,
    "start_time": "2022-12-03T06:52:17.012Z"
   },
   {
    "duration": 1,
    "start_time": "2022-12-03T06:52:17.013Z"
   },
   {
    "duration": 0,
    "start_time": "2022-12-03T06:52:17.022Z"
   },
   {
    "duration": 0,
    "start_time": "2022-12-03T06:52:17.023Z"
   },
   {
    "duration": 0,
    "start_time": "2022-12-03T06:52:17.024Z"
   },
   {
    "duration": 0,
    "start_time": "2022-12-03T06:52:17.025Z"
   },
   {
    "duration": 0,
    "start_time": "2022-12-03T06:52:17.027Z"
   },
   {
    "duration": 14,
    "start_time": "2022-12-03T06:52:39.385Z"
   },
   {
    "duration": 10,
    "start_time": "2022-12-03T06:54:42.968Z"
   },
   {
    "duration": 11,
    "start_time": "2022-12-03T06:54:43.576Z"
   },
   {
    "duration": 12,
    "start_time": "2022-12-03T06:54:44.137Z"
   },
   {
    "duration": 10,
    "start_time": "2022-12-03T06:54:52.929Z"
   },
   {
    "duration": 10,
    "start_time": "2022-12-03T06:54:53.777Z"
   },
   {
    "duration": 167,
    "start_time": "2022-12-03T06:55:05.237Z"
   },
   {
    "duration": 1534,
    "start_time": "2022-12-04T15:05:53.302Z"
   },
   {
    "duration": 2961,
    "start_time": "2022-12-04T15:05:54.837Z"
   },
   {
    "duration": 18,
    "start_time": "2022-12-04T15:05:57.800Z"
   },
   {
    "duration": 98,
    "start_time": "2022-12-04T15:05:57.821Z"
   },
   {
    "duration": 248,
    "start_time": "2022-12-04T15:05:57.921Z"
   },
   {
    "duration": 9,
    "start_time": "2022-12-04T15:05:58.171Z"
   },
   {
    "duration": 37,
    "start_time": "2022-12-04T15:05:58.182Z"
   },
   {
    "duration": 86,
    "start_time": "2022-12-04T15:05:58.220Z"
   },
   {
    "duration": 32,
    "start_time": "2022-12-04T15:05:58.308Z"
   },
   {
    "duration": 39,
    "start_time": "2022-12-04T15:05:58.342Z"
   },
   {
    "duration": 42,
    "start_time": "2022-12-04T15:05:58.382Z"
   },
   {
    "duration": 4,
    "start_time": "2022-12-04T15:05:58.427Z"
   },
   {
    "duration": 162,
    "start_time": "2022-12-04T15:05:58.432Z"
   },
   {
    "duration": 57,
    "start_time": "2022-12-04T15:05:58.597Z"
   },
   {
    "duration": 2985,
    "start_time": "2022-12-04T15:05:58.656Z"
   },
   {
    "duration": 76,
    "start_time": "2022-12-04T15:06:01.643Z"
   },
   {
    "duration": 133,
    "start_time": "2022-12-04T15:06:01.721Z"
   },
   {
    "duration": 34,
    "start_time": "2022-12-04T15:06:01.856Z"
   },
   {
    "duration": 44,
    "start_time": "2022-12-04T15:06:01.892Z"
   },
   {
    "duration": 248,
    "start_time": "2022-12-04T15:06:01.937Z"
   },
   {
    "duration": 200,
    "start_time": "2022-12-04T15:06:02.187Z"
   },
   {
    "duration": 57,
    "start_time": "2022-12-04T15:06:02.388Z"
   },
   {
    "duration": 121,
    "start_time": "2022-12-04T15:06:02.447Z"
   },
   {
    "duration": 800,
    "start_time": "2022-12-04T15:06:02.570Z"
   },
   {
    "duration": 719,
    "start_time": "2022-12-04T15:06:03.371Z"
   },
   {
    "duration": 20,
    "start_time": "2022-12-04T15:06:04.093Z"
   },
   {
    "duration": 105,
    "start_time": "2022-12-04T15:06:04.115Z"
   },
   {
    "duration": 3,
    "start_time": "2022-12-04T15:06:04.222Z"
   },
   {
    "duration": 16155,
    "start_time": "2022-12-04T15:06:04.226Z"
   },
   {
    "duration": 3,
    "start_time": "2022-12-04T15:06:20.383Z"
   },
   {
    "duration": 320402,
    "start_time": "2022-12-04T15:06:20.478Z"
   },
   {
    "duration": 5909,
    "start_time": "2022-12-04T15:11:40.882Z"
   },
   {
    "duration": 2,
    "start_time": "2022-12-04T15:11:46.793Z"
   },
   {
    "duration": 13,
    "start_time": "2022-12-04T15:11:46.796Z"
   },
   {
    "duration": 119,
    "start_time": "2022-12-04T15:20:08.861Z"
   },
   {
    "duration": 212,
    "start_time": "2022-12-04T15:20:14.062Z"
   },
   {
    "duration": 45,
    "start_time": "2022-12-04T15:39:19.637Z"
   },
   {
    "duration": 995,
    "start_time": "2022-12-04T15:39:24.856Z"
   },
   {
    "duration": 10,
    "start_time": "2022-12-04T15:40:25.780Z"
   },
   {
    "duration": 3,
    "start_time": "2022-12-04T15:49:47.069Z"
   },
   {
    "duration": 13,
    "start_time": "2022-12-04T16:22:24.827Z"
   },
   {
    "duration": 11,
    "start_time": "2022-12-04T16:22:36.939Z"
   },
   {
    "duration": 9,
    "start_time": "2022-12-04T16:22:46.400Z"
   },
   {
    "duration": 9,
    "start_time": "2022-12-04T16:49:09.659Z"
   },
   {
    "duration": 1588,
    "start_time": "2022-12-04T16:49:14.204Z"
   },
   {
    "duration": 3023,
    "start_time": "2022-12-04T16:49:15.794Z"
   },
   {
    "duration": 25,
    "start_time": "2022-12-04T16:49:18.819Z"
   },
   {
    "duration": 121,
    "start_time": "2022-12-04T16:49:18.847Z"
   },
   {
    "duration": 284,
    "start_time": "2022-12-04T16:49:18.970Z"
   },
   {
    "duration": 6,
    "start_time": "2022-12-04T16:49:19.256Z"
   },
   {
    "duration": 40,
    "start_time": "2022-12-04T16:49:19.263Z"
   },
   {
    "duration": 78,
    "start_time": "2022-12-04T16:49:19.305Z"
   },
   {
    "duration": 27,
    "start_time": "2022-12-04T16:49:19.384Z"
   },
   {
    "duration": 27,
    "start_time": "2022-12-04T16:49:19.413Z"
   },
   {
    "duration": 55,
    "start_time": "2022-12-04T16:49:19.442Z"
   },
   {
    "duration": 12,
    "start_time": "2022-12-04T16:49:19.498Z"
   },
   {
    "duration": 146,
    "start_time": "2022-12-04T16:49:19.511Z"
   },
   {
    "duration": 66,
    "start_time": "2022-12-04T16:49:19.659Z"
   },
   {
    "duration": 2994,
    "start_time": "2022-12-04T16:49:19.727Z"
   },
   {
    "duration": 79,
    "start_time": "2022-12-04T16:49:22.723Z"
   },
   {
    "duration": 135,
    "start_time": "2022-12-04T16:49:22.804Z"
   },
   {
    "duration": 40,
    "start_time": "2022-12-04T16:49:22.941Z"
   },
   {
    "duration": 45,
    "start_time": "2022-12-04T16:49:22.983Z"
   },
   {
    "duration": 265,
    "start_time": "2022-12-04T16:49:23.030Z"
   },
   {
    "duration": 221,
    "start_time": "2022-12-04T16:49:23.297Z"
   },
   {
    "duration": 64,
    "start_time": "2022-12-04T16:49:23.522Z"
   },
   {
    "duration": 129,
    "start_time": "2022-12-04T16:49:23.587Z"
   },
   {
    "duration": 2,
    "start_time": "2022-12-04T16:49:23.718Z"
   },
   {
    "duration": 158,
    "start_time": "2022-12-04T16:49:23.723Z"
   },
   {
    "duration": 0,
    "start_time": "2022-12-04T16:49:23.884Z"
   },
   {
    "duration": 0,
    "start_time": "2022-12-04T16:49:23.885Z"
   },
   {
    "duration": 1,
    "start_time": "2022-12-04T16:49:23.886Z"
   },
   {
    "duration": 0,
    "start_time": "2022-12-04T16:49:23.888Z"
   },
   {
    "duration": 0,
    "start_time": "2022-12-04T16:49:23.890Z"
   },
   {
    "duration": 0,
    "start_time": "2022-12-04T16:49:23.892Z"
   },
   {
    "duration": 0,
    "start_time": "2022-12-04T16:49:23.893Z"
   },
   {
    "duration": 0,
    "start_time": "2022-12-04T16:49:23.894Z"
   },
   {
    "duration": 0,
    "start_time": "2022-12-04T16:49:23.895Z"
   },
   {
    "duration": 0,
    "start_time": "2022-12-04T16:49:23.896Z"
   },
   {
    "duration": 0,
    "start_time": "2022-12-04T16:49:23.897Z"
   },
   {
    "duration": 11,
    "start_time": "2022-12-04T16:50:31.526Z"
   },
   {
    "duration": 10,
    "start_time": "2022-12-04T16:51:04.204Z"
   },
   {
    "duration": 9,
    "start_time": "2022-12-04T16:51:09.075Z"
   },
   {
    "duration": 1687,
    "start_time": "2022-12-04T16:51:14.781Z"
   },
   {
    "duration": 979,
    "start_time": "2022-12-04T16:51:16.470Z"
   },
   {
    "duration": 16,
    "start_time": "2022-12-04T16:51:17.450Z"
   },
   {
    "duration": 95,
    "start_time": "2022-12-04T16:51:17.468Z"
   },
   {
    "duration": 279,
    "start_time": "2022-12-04T16:51:17.564Z"
   },
   {
    "duration": 6,
    "start_time": "2022-12-04T16:51:17.844Z"
   },
   {
    "duration": 42,
    "start_time": "2022-12-04T16:51:17.851Z"
   },
   {
    "duration": 68,
    "start_time": "2022-12-04T16:51:17.894Z"
   },
   {
    "duration": 34,
    "start_time": "2022-12-04T16:51:17.963Z"
   },
   {
    "duration": 19,
    "start_time": "2022-12-04T16:51:18.000Z"
   },
   {
    "duration": 59,
    "start_time": "2022-12-04T16:51:18.021Z"
   },
   {
    "duration": 3,
    "start_time": "2022-12-04T16:51:18.082Z"
   },
   {
    "duration": 146,
    "start_time": "2022-12-04T16:51:18.086Z"
   },
   {
    "duration": 59,
    "start_time": "2022-12-04T16:51:18.234Z"
   },
   {
    "duration": 2945,
    "start_time": "2022-12-04T16:51:18.295Z"
   },
   {
    "duration": 77,
    "start_time": "2022-12-04T16:51:21.242Z"
   },
   {
    "duration": 133,
    "start_time": "2022-12-04T16:51:21.321Z"
   },
   {
    "duration": 41,
    "start_time": "2022-12-04T16:51:21.455Z"
   },
   {
    "duration": 46,
    "start_time": "2022-12-04T16:51:21.498Z"
   },
   {
    "duration": 239,
    "start_time": "2022-12-04T16:51:21.546Z"
   },
   {
    "duration": 193,
    "start_time": "2022-12-04T16:51:21.787Z"
   },
   {
    "duration": 57,
    "start_time": "2022-12-04T16:51:21.982Z"
   },
   {
    "duration": 126,
    "start_time": "2022-12-04T16:51:22.040Z"
   },
   {
    "duration": 2,
    "start_time": "2022-12-04T16:51:22.168Z"
   },
   {
    "duration": 3,
    "start_time": "2022-12-04T16:51:22.178Z"
   },
   {
    "duration": 34,
    "start_time": "2022-12-04T16:51:22.182Z"
   },
   {
    "duration": 76,
    "start_time": "2022-12-04T16:51:22.218Z"
   },
   {
    "duration": 1324,
    "start_time": "2022-12-04T16:51:22.297Z"
   },
   {
    "duration": 0,
    "start_time": "2022-12-04T16:51:23.622Z"
   },
   {
    "duration": 0,
    "start_time": "2022-12-04T16:51:23.623Z"
   },
   {
    "duration": 0,
    "start_time": "2022-12-04T16:51:23.625Z"
   },
   {
    "duration": 0,
    "start_time": "2022-12-04T16:51:23.626Z"
   },
   {
    "duration": 0,
    "start_time": "2022-12-04T16:51:23.627Z"
   },
   {
    "duration": 0,
    "start_time": "2022-12-04T16:51:23.628Z"
   },
   {
    "duration": 0,
    "start_time": "2022-12-04T16:51:23.629Z"
   },
   {
    "duration": 0,
    "start_time": "2022-12-04T16:51:23.630Z"
   },
   {
    "duration": 7,
    "start_time": "2022-12-04T16:51:59.231Z"
   },
   {
    "duration": 14,
    "start_time": "2022-12-04T16:52:01.184Z"
   },
   {
    "duration": 12,
    "start_time": "2022-12-04T16:52:10.741Z"
   },
   {
    "duration": 11,
    "start_time": "2022-12-04T16:52:51.766Z"
   },
   {
    "duration": 14,
    "start_time": "2022-12-04T16:53:05.943Z"
   },
   {
    "duration": 1388,
    "start_time": "2022-12-04T16:53:49.563Z"
   },
   {
    "duration": 887,
    "start_time": "2022-12-04T16:53:50.953Z"
   },
   {
    "duration": 17,
    "start_time": "2022-12-04T16:53:51.841Z"
   },
   {
    "duration": 98,
    "start_time": "2022-12-04T16:53:51.861Z"
   },
   {
    "duration": 237,
    "start_time": "2022-12-04T16:53:51.961Z"
   },
   {
    "duration": 5,
    "start_time": "2022-12-04T16:53:52.200Z"
   },
   {
    "duration": 33,
    "start_time": "2022-12-04T16:53:52.207Z"
   },
   {
    "duration": 77,
    "start_time": "2022-12-04T16:53:52.242Z"
   },
   {
    "duration": 25,
    "start_time": "2022-12-04T16:53:52.321Z"
   },
   {
    "duration": 32,
    "start_time": "2022-12-04T16:53:52.349Z"
   },
   {
    "duration": 39,
    "start_time": "2022-12-04T16:53:52.383Z"
   },
   {
    "duration": 3,
    "start_time": "2022-12-04T16:53:52.424Z"
   },
   {
    "duration": 149,
    "start_time": "2022-12-04T16:53:52.428Z"
   },
   {
    "duration": 51,
    "start_time": "2022-12-04T16:53:52.579Z"
   },
   {
    "duration": 3046,
    "start_time": "2022-12-04T16:53:52.632Z"
   },
   {
    "duration": 98,
    "start_time": "2022-12-04T16:53:55.681Z"
   },
   {
    "duration": 136,
    "start_time": "2022-12-04T16:53:55.781Z"
   },
   {
    "duration": 28,
    "start_time": "2022-12-04T16:53:55.919Z"
   },
   {
    "duration": 61,
    "start_time": "2022-12-04T16:53:55.949Z"
   },
   {
    "duration": 235,
    "start_time": "2022-12-04T16:53:56.012Z"
   },
   {
    "duration": 182,
    "start_time": "2022-12-04T16:53:56.248Z"
   },
   {
    "duration": 56,
    "start_time": "2022-12-04T16:53:56.432Z"
   },
   {
    "duration": 127,
    "start_time": "2022-12-04T16:53:56.490Z"
   },
   {
    "duration": 2,
    "start_time": "2022-12-04T16:53:56.618Z"
   },
   {
    "duration": 11,
    "start_time": "2022-12-04T16:53:56.622Z"
   },
   {
    "duration": 43,
    "start_time": "2022-12-04T16:53:56.635Z"
   },
   {
    "duration": 64,
    "start_time": "2022-12-04T16:53:56.680Z"
   },
   {
    "duration": 96,
    "start_time": "2022-12-04T16:53:56.748Z"
   },
   {
    "duration": 113,
    "start_time": "2022-12-04T16:53:56.846Z"
   },
   {
    "duration": 0,
    "start_time": "2022-12-04T16:53:56.961Z"
   },
   {
    "duration": 0,
    "start_time": "2022-12-04T16:53:56.962Z"
   },
   {
    "duration": 0,
    "start_time": "2022-12-04T16:53:56.963Z"
   },
   {
    "duration": 0,
    "start_time": "2022-12-04T16:53:56.964Z"
   },
   {
    "duration": 0,
    "start_time": "2022-12-04T16:53:56.966Z"
   },
   {
    "duration": 0,
    "start_time": "2022-12-04T16:53:56.967Z"
   },
   {
    "duration": 0,
    "start_time": "2022-12-04T16:53:56.968Z"
   },
   {
    "duration": 13,
    "start_time": "2022-12-04T16:54:19.458Z"
   },
   {
    "duration": 54,
    "start_time": "2022-12-04T16:54:19.969Z"
   },
   {
    "duration": 14,
    "start_time": "2022-12-04T16:54:20.503Z"
   },
   {
    "duration": 12,
    "start_time": "2022-12-04T16:54:50.428Z"
   },
   {
    "duration": 13,
    "start_time": "2022-12-04T17:06:17.400Z"
   },
   {
    "duration": 111,
    "start_time": "2022-12-04T17:08:03.278Z"
   },
   {
    "duration": 12,
    "start_time": "2022-12-04T17:12:26.299Z"
   },
   {
    "duration": 9,
    "start_time": "2022-12-04T17:12:31.569Z"
   },
   {
    "duration": 32,
    "start_time": "2022-12-04T17:12:35.040Z"
   },
   {
    "duration": 10,
    "start_time": "2022-12-04T17:13:40.706Z"
   },
   {
    "duration": 5,
    "start_time": "2022-12-04T17:13:45.113Z"
   },
   {
    "duration": 6,
    "start_time": "2022-12-04T17:13:45.732Z"
   },
   {
    "duration": 14,
    "start_time": "2022-12-04T17:13:48.204Z"
   },
   {
    "duration": 1378,
    "start_time": "2022-12-04T17:15:07.634Z"
   },
   {
    "duration": 903,
    "start_time": "2022-12-04T17:15:09.013Z"
   },
   {
    "duration": 17,
    "start_time": "2022-12-04T17:15:09.918Z"
   },
   {
    "duration": 124,
    "start_time": "2022-12-04T17:15:09.936Z"
   },
   {
    "duration": 241,
    "start_time": "2022-12-04T17:15:10.062Z"
   },
   {
    "duration": 5,
    "start_time": "2022-12-04T17:15:10.305Z"
   },
   {
    "duration": 62,
    "start_time": "2022-12-04T17:15:10.312Z"
   },
   {
    "duration": 64,
    "start_time": "2022-12-04T17:15:10.375Z"
   },
   {
    "duration": 40,
    "start_time": "2022-12-04T17:15:10.441Z"
   },
   {
    "duration": 19,
    "start_time": "2022-12-04T17:15:10.483Z"
   },
   {
    "duration": 41,
    "start_time": "2022-12-04T17:15:10.504Z"
   },
   {
    "duration": 8,
    "start_time": "2022-12-04T17:15:10.546Z"
   },
   {
    "duration": 167,
    "start_time": "2022-12-04T17:15:10.556Z"
   },
   {
    "duration": 56,
    "start_time": "2022-12-04T17:15:10.724Z"
   },
   {
    "duration": 3272,
    "start_time": "2022-12-04T17:15:10.781Z"
   },
   {
    "duration": 100,
    "start_time": "2022-12-04T17:15:14.056Z"
   },
   {
    "duration": 182,
    "start_time": "2022-12-04T17:15:14.157Z"
   },
   {
    "duration": 38,
    "start_time": "2022-12-04T17:15:14.341Z"
   },
   {
    "duration": 49,
    "start_time": "2022-12-04T17:15:14.381Z"
   },
   {
    "duration": 275,
    "start_time": "2022-12-04T17:15:14.431Z"
   },
   {
    "duration": 225,
    "start_time": "2022-12-04T17:15:14.708Z"
   },
   {
    "duration": 67,
    "start_time": "2022-12-04T17:15:14.935Z"
   },
   {
    "duration": 127,
    "start_time": "2022-12-04T17:15:15.004Z"
   },
   {
    "duration": 2,
    "start_time": "2022-12-04T17:15:15.133Z"
   },
   {
    "duration": 41,
    "start_time": "2022-12-04T17:15:15.137Z"
   },
   {
    "duration": 64,
    "start_time": "2022-12-04T17:15:15.180Z"
   },
   {
    "duration": 74,
    "start_time": "2022-12-04T17:15:15.246Z"
   },
   {
    "duration": 57,
    "start_time": "2022-12-04T17:15:15.325Z"
   },
   {
    "duration": 5,
    "start_time": "2022-12-04T17:15:15.384Z"
   },
   {
    "duration": 6,
    "start_time": "2022-12-04T17:15:15.391Z"
   },
   {
    "duration": 129,
    "start_time": "2022-12-04T17:15:15.398Z"
   },
   {
    "duration": 0,
    "start_time": "2022-12-04T17:15:15.529Z"
   },
   {
    "duration": 0,
    "start_time": "2022-12-04T17:15:15.530Z"
   },
   {
    "duration": 0,
    "start_time": "2022-12-04T17:15:15.532Z"
   },
   {
    "duration": 0,
    "start_time": "2022-12-04T17:15:15.533Z"
   },
   {
    "duration": 0,
    "start_time": "2022-12-04T17:15:15.534Z"
   },
   {
    "duration": 0,
    "start_time": "2022-12-04T17:15:15.536Z"
   },
   {
    "duration": 0,
    "start_time": "2022-12-04T17:15:15.537Z"
   },
   {
    "duration": 0,
    "start_time": "2022-12-04T17:15:15.538Z"
   },
   {
    "duration": 0,
    "start_time": "2022-12-04T17:15:15.540Z"
   },
   {
    "duration": 14,
    "start_time": "2022-12-04T17:15:36.748Z"
   },
   {
    "duration": 181,
    "start_time": "2022-12-04T17:19:15.449Z"
   },
   {
    "duration": 3,
    "start_time": "2022-12-04T17:20:35.311Z"
   },
   {
    "duration": 31,
    "start_time": "2022-12-04T17:45:34.007Z"
   },
   {
    "duration": 19,
    "start_time": "2022-12-04T17:52:15.379Z"
   },
   {
    "duration": 2,
    "start_time": "2022-12-04T17:52:19.467Z"
   },
   {
    "duration": 193,
    "start_time": "2022-12-04T17:52:21.193Z"
   },
   {
    "duration": 24,
    "start_time": "2022-12-04T17:53:34.435Z"
   },
   {
    "duration": 21,
    "start_time": "2022-12-04T17:53:47.052Z"
   },
   {
    "duration": 17,
    "start_time": "2022-12-04T17:54:03.252Z"
   },
   {
    "duration": 210,
    "start_time": "2022-12-04T18:09:51.041Z"
   },
   {
    "duration": 23,
    "start_time": "2022-12-04T18:09:52.277Z"
   },
   {
    "duration": 85,
    "start_time": "2022-12-04T18:09:52.594Z"
   },
   {
    "duration": 84,
    "start_time": "2022-12-04T18:09:53.070Z"
   },
   {
    "duration": 21,
    "start_time": "2022-12-04T18:09:53.333Z"
   },
   {
    "duration": 10,
    "start_time": "2022-12-04T18:09:53.702Z"
   },
   {
    "duration": 1639,
    "start_time": "2022-12-06T05:04:51.551Z"
   },
   {
    "duration": 1403,
    "start_time": "2022-12-06T05:04:53.192Z"
   },
   {
    "duration": 18,
    "start_time": "2022-12-06T05:04:54.597Z"
   },
   {
    "duration": 153,
    "start_time": "2022-12-06T05:04:54.617Z"
   },
   {
    "duration": 308,
    "start_time": "2022-12-06T05:04:54.773Z"
   },
   {
    "duration": 8,
    "start_time": "2022-12-06T05:04:55.083Z"
   },
   {
    "duration": 39,
    "start_time": "2022-12-06T05:04:55.092Z"
   },
   {
    "duration": 111,
    "start_time": "2022-12-06T05:04:55.133Z"
   },
   {
    "duration": 45,
    "start_time": "2022-12-06T05:04:55.246Z"
   },
   {
    "duration": 26,
    "start_time": "2022-12-06T05:04:55.292Z"
   },
   {
    "duration": 72,
    "start_time": "2022-12-06T05:04:55.320Z"
   },
   {
    "duration": 3,
    "start_time": "2022-12-06T05:04:55.394Z"
   },
   {
    "duration": 152,
    "start_time": "2022-12-06T05:04:55.398Z"
   },
   {
    "duration": 65,
    "start_time": "2022-12-06T05:04:55.563Z"
   },
   {
    "duration": 3173,
    "start_time": "2022-12-06T05:04:55.630Z"
   },
   {
    "duration": 80,
    "start_time": "2022-12-06T05:04:58.805Z"
   },
   {
    "duration": 140,
    "start_time": "2022-12-06T05:04:58.886Z"
   },
   {
    "duration": 46,
    "start_time": "2022-12-06T05:04:59.028Z"
   },
   {
    "duration": 46,
    "start_time": "2022-12-06T05:04:59.075Z"
   },
   {
    "duration": 245,
    "start_time": "2022-12-06T05:04:59.123Z"
   },
   {
    "duration": 200,
    "start_time": "2022-12-06T05:04:59.370Z"
   },
   {
    "duration": 70,
    "start_time": "2022-12-06T05:04:59.571Z"
   },
   {
    "duration": 164,
    "start_time": "2022-12-06T05:04:59.643Z"
   },
   {
    "duration": 3,
    "start_time": "2022-12-06T05:04:59.808Z"
   },
   {
    "duration": 6,
    "start_time": "2022-12-06T05:04:59.812Z"
   },
   {
    "duration": 50,
    "start_time": "2022-12-06T05:04:59.820Z"
   },
   {
    "duration": 63,
    "start_time": "2022-12-06T05:04:59.872Z"
   },
   {
    "duration": 35,
    "start_time": "2022-12-06T05:04:59.937Z"
   },
   {
    "duration": 5,
    "start_time": "2022-12-06T05:04:59.974Z"
   },
   {
    "duration": 8,
    "start_time": "2022-12-06T05:04:59.981Z"
   },
   {
    "duration": 83,
    "start_time": "2022-12-06T05:04:59.990Z"
   },
   {
    "duration": 0,
    "start_time": "2022-12-06T05:05:00.075Z"
   },
   {
    "duration": 1,
    "start_time": "2022-12-06T05:05:00.076Z"
   },
   {
    "duration": 0,
    "start_time": "2022-12-06T05:05:00.079Z"
   },
   {
    "duration": 0,
    "start_time": "2022-12-06T05:05:00.080Z"
   },
   {
    "duration": 0,
    "start_time": "2022-12-06T05:05:00.082Z"
   },
   {
    "duration": 0,
    "start_time": "2022-12-06T05:05:00.083Z"
   },
   {
    "duration": 0,
    "start_time": "2022-12-06T05:05:00.085Z"
   },
   {
    "duration": 0,
    "start_time": "2022-12-06T05:05:00.086Z"
   },
   {
    "duration": 4,
    "start_time": "2022-12-06T05:05:13.716Z"
   },
   {
    "duration": 116,
    "start_time": "2022-12-06T05:05:15.869Z"
   },
   {
    "duration": 34,
    "start_time": "2022-12-06T05:05:30.609Z"
   },
   {
    "duration": 1409,
    "start_time": "2022-12-06T05:06:04.062Z"
   },
   {
    "duration": 992,
    "start_time": "2022-12-06T05:06:05.473Z"
   },
   {
    "duration": 17,
    "start_time": "2022-12-06T05:06:06.469Z"
   },
   {
    "duration": 142,
    "start_time": "2022-12-06T05:06:06.488Z"
   },
   {
    "duration": 311,
    "start_time": "2022-12-06T05:06:06.633Z"
   },
   {
    "duration": 14,
    "start_time": "2022-12-06T05:06:06.946Z"
   },
   {
    "duration": 39,
    "start_time": "2022-12-06T05:06:06.962Z"
   },
   {
    "duration": 97,
    "start_time": "2022-12-06T05:06:07.003Z"
   },
   {
    "duration": 32,
    "start_time": "2022-12-06T05:06:07.102Z"
   },
   {
    "duration": 45,
    "start_time": "2022-12-06T05:06:07.137Z"
   },
   {
    "duration": 50,
    "start_time": "2022-12-06T05:06:07.184Z"
   },
   {
    "duration": 29,
    "start_time": "2022-12-06T05:06:07.236Z"
   },
   {
    "duration": 140,
    "start_time": "2022-12-06T05:06:07.267Z"
   },
   {
    "duration": 74,
    "start_time": "2022-12-06T05:06:07.411Z"
   },
   {
    "duration": 3245,
    "start_time": "2022-12-06T05:06:07.487Z"
   },
   {
    "duration": 85,
    "start_time": "2022-12-06T05:06:10.733Z"
   },
   {
    "duration": 146,
    "start_time": "2022-12-06T05:06:10.820Z"
   },
   {
    "duration": 30,
    "start_time": "2022-12-06T05:06:10.968Z"
   },
   {
    "duration": 56,
    "start_time": "2022-12-06T05:06:11.000Z"
   },
   {
    "duration": 236,
    "start_time": "2022-12-06T05:06:11.065Z"
   },
   {
    "duration": 211,
    "start_time": "2022-12-06T05:06:11.302Z"
   },
   {
    "duration": 80,
    "start_time": "2022-12-06T05:06:11.515Z"
   },
   {
    "duration": 181,
    "start_time": "2022-12-06T05:06:11.596Z"
   },
   {
    "duration": 3,
    "start_time": "2022-12-06T05:06:11.778Z"
   },
   {
    "duration": 16,
    "start_time": "2022-12-06T05:06:11.782Z"
   },
   {
    "duration": 39,
    "start_time": "2022-12-06T05:06:11.799Z"
   },
   {
    "duration": 69,
    "start_time": "2022-12-06T05:06:11.839Z"
   },
   {
    "duration": 20,
    "start_time": "2022-12-06T05:06:11.910Z"
   },
   {
    "duration": 11,
    "start_time": "2022-12-06T05:06:11.932Z"
   },
   {
    "duration": 17,
    "start_time": "2022-12-06T05:06:11.944Z"
   },
   {
    "duration": 8,
    "start_time": "2022-12-06T05:06:11.966Z"
   },
   {
    "duration": 912,
    "start_time": "2022-12-06T05:06:11.976Z"
   },
   {
    "duration": 0,
    "start_time": "2022-12-06T05:06:12.889Z"
   },
   {
    "duration": 0,
    "start_time": "2022-12-06T05:06:12.891Z"
   },
   {
    "duration": 0,
    "start_time": "2022-12-06T05:06:12.892Z"
   },
   {
    "duration": 0,
    "start_time": "2022-12-06T05:06:12.893Z"
   },
   {
    "duration": 0,
    "start_time": "2022-12-06T05:06:12.894Z"
   },
   {
    "duration": 0,
    "start_time": "2022-12-06T05:06:12.895Z"
   },
   {
    "duration": 0,
    "start_time": "2022-12-06T05:06:12.896Z"
   },
   {
    "duration": 1429,
    "start_time": "2022-12-06T05:07:37.136Z"
   },
   {
    "duration": 1025,
    "start_time": "2022-12-06T05:07:38.567Z"
   },
   {
    "duration": 14,
    "start_time": "2022-12-06T05:07:39.594Z"
   },
   {
    "duration": 107,
    "start_time": "2022-12-06T05:07:39.609Z"
   },
   {
    "duration": 296,
    "start_time": "2022-12-06T05:07:39.718Z"
   },
   {
    "duration": 5,
    "start_time": "2022-12-06T05:07:40.016Z"
   },
   {
    "duration": 48,
    "start_time": "2022-12-06T05:07:40.023Z"
   },
   {
    "duration": 98,
    "start_time": "2022-12-06T05:07:40.073Z"
   },
   {
    "duration": 34,
    "start_time": "2022-12-06T05:07:40.172Z"
   },
   {
    "duration": 24,
    "start_time": "2022-12-06T05:07:40.208Z"
   },
   {
    "duration": 72,
    "start_time": "2022-12-06T05:07:40.233Z"
   },
   {
    "duration": 4,
    "start_time": "2022-12-06T05:07:40.307Z"
   },
   {
    "duration": 159,
    "start_time": "2022-12-06T05:07:40.313Z"
   },
   {
    "duration": 59,
    "start_time": "2022-12-06T05:07:40.476Z"
   },
   {
    "duration": 3211,
    "start_time": "2022-12-06T05:07:40.537Z"
   },
   {
    "duration": 79,
    "start_time": "2022-12-06T05:07:43.755Z"
   },
   {
    "duration": 136,
    "start_time": "2022-12-06T05:07:43.836Z"
   },
   {
    "duration": 23,
    "start_time": "2022-12-06T05:07:43.974Z"
   },
   {
    "duration": 62,
    "start_time": "2022-12-06T05:07:43.999Z"
   },
   {
    "duration": 235,
    "start_time": "2022-12-06T05:07:44.062Z"
   },
   {
    "duration": 202,
    "start_time": "2022-12-06T05:07:44.299Z"
   },
   {
    "duration": 74,
    "start_time": "2022-12-06T05:07:44.503Z"
   },
   {
    "duration": 166,
    "start_time": "2022-12-06T05:07:44.579Z"
   },
   {
    "duration": 3,
    "start_time": "2022-12-06T05:07:44.746Z"
   },
   {
    "duration": 23,
    "start_time": "2022-12-06T05:07:44.750Z"
   },
   {
    "duration": 143,
    "start_time": "2022-12-06T05:07:44.775Z"
   },
   {
    "duration": 0,
    "start_time": "2022-12-06T05:07:44.920Z"
   },
   {
    "duration": 0,
    "start_time": "2022-12-06T05:07:44.921Z"
   },
   {
    "duration": 0,
    "start_time": "2022-12-06T05:07:44.922Z"
   },
   {
    "duration": 0,
    "start_time": "2022-12-06T05:07:44.923Z"
   },
   {
    "duration": 0,
    "start_time": "2022-12-06T05:07:44.924Z"
   },
   {
    "duration": 0,
    "start_time": "2022-12-06T05:07:44.925Z"
   },
   {
    "duration": 0,
    "start_time": "2022-12-06T05:07:44.926Z"
   },
   {
    "duration": 0,
    "start_time": "2022-12-06T05:07:44.927Z"
   },
   {
    "duration": 0,
    "start_time": "2022-12-06T05:07:44.928Z"
   },
   {
    "duration": 0,
    "start_time": "2022-12-06T05:07:44.930Z"
   },
   {
    "duration": 0,
    "start_time": "2022-12-06T05:07:44.931Z"
   },
   {
    "duration": 0,
    "start_time": "2022-12-06T05:07:44.932Z"
   },
   {
    "duration": 0,
    "start_time": "2022-12-06T05:07:44.933Z"
   },
   {
    "duration": 16,
    "start_time": "2022-12-06T05:08:20.817Z"
   },
   {
    "duration": 71,
    "start_time": "2022-12-06T05:08:21.546Z"
   },
   {
    "duration": 18,
    "start_time": "2022-12-06T05:08:22.097Z"
   },
   {
    "duration": 2,
    "start_time": "2022-12-06T05:08:22.668Z"
   },
   {
    "duration": 2,
    "start_time": "2022-12-06T05:08:24.045Z"
   },
   {
    "duration": 3,
    "start_time": "2022-12-06T05:08:24.498Z"
   },
   {
    "duration": 787,
    "start_time": "2022-12-06T05:08:25.547Z"
   },
   {
    "duration": 0,
    "start_time": "2022-12-06T05:08:26.335Z"
   },
   {
    "duration": 3,
    "start_time": "2022-12-06T05:11:13.582Z"
   },
   {
    "duration": 777,
    "start_time": "2022-12-06T05:11:14.184Z"
   },
   {
    "duration": 3,
    "start_time": "2022-12-06T05:11:41.685Z"
   },
   {
    "duration": 762,
    "start_time": "2022-12-06T05:11:42.513Z"
   },
   {
    "duration": 2,
    "start_time": "2022-12-06T05:13:23.087Z"
   },
   {
    "duration": 1895,
    "start_time": "2022-12-06T05:13:23.986Z"
   },
   {
    "duration": 1364,
    "start_time": "2022-12-06T05:13:55.506Z"
   },
   {
    "duration": 995,
    "start_time": "2022-12-06T05:13:56.872Z"
   },
   {
    "duration": 15,
    "start_time": "2022-12-06T05:13:57.869Z"
   },
   {
    "duration": 99,
    "start_time": "2022-12-06T05:13:57.886Z"
   },
   {
    "duration": 266,
    "start_time": "2022-12-06T05:13:57.987Z"
   },
   {
    "duration": 14,
    "start_time": "2022-12-06T05:13:58.255Z"
   },
   {
    "duration": 42,
    "start_time": "2022-12-06T05:13:58.270Z"
   },
   {
    "duration": 90,
    "start_time": "2022-12-06T05:13:58.314Z"
   },
   {
    "duration": 40,
    "start_time": "2022-12-06T05:13:58.406Z"
   },
   {
    "duration": 43,
    "start_time": "2022-12-06T05:13:58.447Z"
   },
   {
    "duration": 50,
    "start_time": "2022-12-06T05:13:58.491Z"
   },
   {
    "duration": 4,
    "start_time": "2022-12-06T05:13:58.543Z"
   },
   {
    "duration": 158,
    "start_time": "2022-12-06T05:13:58.549Z"
   },
   {
    "duration": 59,
    "start_time": "2022-12-06T05:13:58.710Z"
   },
   {
    "duration": 3160,
    "start_time": "2022-12-06T05:13:58.771Z"
   },
   {
    "duration": 82,
    "start_time": "2022-12-06T05:14:01.932Z"
   },
   {
    "duration": 158,
    "start_time": "2022-12-06T05:14:02.015Z"
   },
   {
    "duration": 30,
    "start_time": "2022-12-06T05:14:02.175Z"
   },
   {
    "duration": 67,
    "start_time": "2022-12-06T05:14:02.206Z"
   },
   {
    "duration": 244,
    "start_time": "2022-12-06T05:14:02.274Z"
   },
   {
    "duration": 190,
    "start_time": "2022-12-06T05:14:02.521Z"
   },
   {
    "duration": 83,
    "start_time": "2022-12-06T05:14:02.712Z"
   },
   {
    "duration": 164,
    "start_time": "2022-12-06T05:14:02.797Z"
   },
   {
    "duration": 6,
    "start_time": "2022-12-06T05:14:02.963Z"
   },
   {
    "duration": 5,
    "start_time": "2022-12-06T05:14:02.971Z"
   },
   {
    "duration": 36,
    "start_time": "2022-12-06T05:14:02.977Z"
   },
   {
    "duration": 84,
    "start_time": "2022-12-06T05:14:03.014Z"
   },
   {
    "duration": 18,
    "start_time": "2022-12-06T05:14:03.100Z"
   },
   {
    "duration": 4,
    "start_time": "2022-12-06T05:14:03.119Z"
   },
   {
    "duration": 16,
    "start_time": "2022-12-06T05:14:03.125Z"
   },
   {
    "duration": 1831,
    "start_time": "2022-12-06T05:14:03.143Z"
   },
   {
    "duration": 116,
    "start_time": "2022-12-06T05:14:04.975Z"
   },
   {
    "duration": 0,
    "start_time": "2022-12-06T05:14:05.093Z"
   },
   {
    "duration": 0,
    "start_time": "2022-12-06T05:14:05.094Z"
   },
   {
    "duration": 0,
    "start_time": "2022-12-06T05:14:05.095Z"
   },
   {
    "duration": 0,
    "start_time": "2022-12-06T05:14:05.096Z"
   },
   {
    "duration": 0,
    "start_time": "2022-12-06T05:14:05.097Z"
   },
   {
    "duration": 0,
    "start_time": "2022-12-06T05:14:05.098Z"
   },
   {
    "duration": 50,
    "start_time": "2022-12-06T05:16:12.083Z"
   },
   {
    "duration": 0,
    "start_time": "2022-12-06T05:16:12.135Z"
   },
   {
    "duration": 0,
    "start_time": "2022-12-06T05:16:12.136Z"
   },
   {
    "duration": 0,
    "start_time": "2022-12-06T05:16:12.138Z"
   },
   {
    "duration": 0,
    "start_time": "2022-12-06T05:16:12.139Z"
   },
   {
    "duration": 0,
    "start_time": "2022-12-06T05:16:12.141Z"
   },
   {
    "duration": 0,
    "start_time": "2022-12-06T05:16:12.142Z"
   },
   {
    "duration": 0,
    "start_time": "2022-12-06T05:16:12.144Z"
   },
   {
    "duration": 0,
    "start_time": "2022-12-06T05:16:12.145Z"
   },
   {
    "duration": 0,
    "start_time": "2022-12-06T05:16:12.146Z"
   },
   {
    "duration": 0,
    "start_time": "2022-12-06T05:16:12.147Z"
   },
   {
    "duration": 0,
    "start_time": "2022-12-06T05:16:12.149Z"
   },
   {
    "duration": 0,
    "start_time": "2022-12-06T05:16:12.151Z"
   },
   {
    "duration": 0,
    "start_time": "2022-12-06T05:16:12.153Z"
   },
   {
    "duration": 0,
    "start_time": "2022-12-06T05:16:12.154Z"
   },
   {
    "duration": 66,
    "start_time": "2022-12-06T05:16:12.158Z"
   },
   {
    "duration": 0,
    "start_time": "2022-12-06T05:16:12.255Z"
   },
   {
    "duration": 0,
    "start_time": "2022-12-06T05:16:12.256Z"
   },
   {
    "duration": 0,
    "start_time": "2022-12-06T05:16:12.258Z"
   },
   {
    "duration": 0,
    "start_time": "2022-12-06T05:16:12.259Z"
   },
   {
    "duration": 0,
    "start_time": "2022-12-06T05:16:12.260Z"
   },
   {
    "duration": 0,
    "start_time": "2022-12-06T05:16:12.261Z"
   },
   {
    "duration": 0,
    "start_time": "2022-12-06T05:16:12.262Z"
   },
   {
    "duration": 0,
    "start_time": "2022-12-06T05:16:12.263Z"
   },
   {
    "duration": 0,
    "start_time": "2022-12-06T05:16:12.264Z"
   },
   {
    "duration": 0,
    "start_time": "2022-12-06T05:16:12.265Z"
   },
   {
    "duration": 0,
    "start_time": "2022-12-06T05:16:12.265Z"
   },
   {
    "duration": 0,
    "start_time": "2022-12-06T05:16:12.266Z"
   },
   {
    "duration": 0,
    "start_time": "2022-12-06T05:16:12.268Z"
   },
   {
    "duration": 0,
    "start_time": "2022-12-06T05:16:12.269Z"
   },
   {
    "duration": 0,
    "start_time": "2022-12-06T05:16:12.270Z"
   },
   {
    "duration": 0,
    "start_time": "2022-12-06T05:16:12.271Z"
   },
   {
    "duration": 0,
    "start_time": "2022-12-06T05:16:12.272Z"
   },
   {
    "duration": 0,
    "start_time": "2022-12-06T05:16:12.273Z"
   },
   {
    "duration": 0,
    "start_time": "2022-12-06T05:16:12.274Z"
   },
   {
    "duration": 0,
    "start_time": "2022-12-06T05:16:12.275Z"
   },
   {
    "duration": 0,
    "start_time": "2022-12-06T05:16:12.276Z"
   },
   {
    "duration": 0,
    "start_time": "2022-12-06T05:16:12.277Z"
   },
   {
    "duration": 1472,
    "start_time": "2022-12-06T05:16:27.553Z"
   },
   {
    "duration": 986,
    "start_time": "2022-12-06T05:16:29.027Z"
   },
   {
    "duration": 16,
    "start_time": "2022-12-06T05:16:30.015Z"
   },
   {
    "duration": 108,
    "start_time": "2022-12-06T05:16:30.034Z"
   },
   {
    "duration": 306,
    "start_time": "2022-12-06T05:16:30.144Z"
   },
   {
    "duration": 10,
    "start_time": "2022-12-06T05:16:30.452Z"
   },
   {
    "duration": 51,
    "start_time": "2022-12-06T05:16:30.470Z"
   },
   {
    "duration": 103,
    "start_time": "2022-12-06T05:16:30.522Z"
   },
   {
    "duration": 48,
    "start_time": "2022-12-06T05:16:30.627Z"
   },
   {
    "duration": 32,
    "start_time": "2022-12-06T05:16:30.677Z"
   },
   {
    "duration": 84,
    "start_time": "2022-12-06T05:16:30.710Z"
   },
   {
    "duration": 18,
    "start_time": "2022-12-06T05:16:30.796Z"
   },
   {
    "duration": 169,
    "start_time": "2022-12-06T05:16:30.816Z"
   },
   {
    "duration": 56,
    "start_time": "2022-12-06T05:16:30.987Z"
   },
   {
    "duration": 3179,
    "start_time": "2022-12-06T05:16:31.057Z"
   },
   {
    "duration": 132,
    "start_time": "2022-12-06T05:16:34.238Z"
   },
   {
    "duration": 231,
    "start_time": "2022-12-06T05:16:34.372Z"
   },
   {
    "duration": 68,
    "start_time": "2022-12-06T05:16:34.605Z"
   },
   {
    "duration": 45,
    "start_time": "2022-12-06T05:16:34.674Z"
   },
   {
    "duration": 216,
    "start_time": "2022-12-06T05:16:34.721Z"
   },
   {
    "duration": 197,
    "start_time": "2022-12-06T05:16:34.939Z"
   },
   {
    "duration": 77,
    "start_time": "2022-12-06T05:16:35.138Z"
   },
   {
    "duration": 162,
    "start_time": "2022-12-06T05:16:35.217Z"
   },
   {
    "duration": 2,
    "start_time": "2022-12-06T05:16:35.380Z"
   },
   {
    "duration": 5,
    "start_time": "2022-12-06T05:16:35.384Z"
   },
   {
    "duration": 39,
    "start_time": "2022-12-06T05:16:35.391Z"
   },
   {
    "duration": 81,
    "start_time": "2022-12-06T05:16:35.432Z"
   },
   {
    "duration": 19,
    "start_time": "2022-12-06T05:16:35.516Z"
   },
   {
    "duration": 4,
    "start_time": "2022-12-06T05:16:35.537Z"
   },
   {
    "duration": 22,
    "start_time": "2022-12-06T05:16:35.543Z"
   },
   {
    "duration": 1810,
    "start_time": "2022-12-06T05:16:35.566Z"
   },
   {
    "duration": 117,
    "start_time": "2022-12-06T05:16:37.378Z"
   },
   {
    "duration": 0,
    "start_time": "2022-12-06T05:16:37.496Z"
   },
   {
    "duration": 0,
    "start_time": "2022-12-06T05:16:37.497Z"
   },
   {
    "duration": 0,
    "start_time": "2022-12-06T05:16:37.498Z"
   },
   {
    "duration": 0,
    "start_time": "2022-12-06T05:16:37.499Z"
   },
   {
    "duration": 0,
    "start_time": "2022-12-06T05:16:37.500Z"
   },
   {
    "duration": 0,
    "start_time": "2022-12-06T05:16:37.501Z"
   },
   {
    "duration": 1398,
    "start_time": "2022-12-06T05:17:58.569Z"
   },
   {
    "duration": 1009,
    "start_time": "2022-12-06T05:17:59.969Z"
   },
   {
    "duration": 16,
    "start_time": "2022-12-06T05:18:00.980Z"
   },
   {
    "duration": 110,
    "start_time": "2022-12-06T05:18:00.998Z"
   },
   {
    "duration": 286,
    "start_time": "2022-12-06T05:18:01.110Z"
   },
   {
    "duration": 5,
    "start_time": "2022-12-06T05:18:01.398Z"
   },
   {
    "duration": 57,
    "start_time": "2022-12-06T05:18:01.405Z"
   },
   {
    "duration": 78,
    "start_time": "2022-12-06T05:18:01.466Z"
   },
   {
    "duration": 55,
    "start_time": "2022-12-06T05:18:01.546Z"
   },
   {
    "duration": 45,
    "start_time": "2022-12-06T05:18:01.603Z"
   },
   {
    "duration": 60,
    "start_time": "2022-12-06T05:18:01.649Z"
   },
   {
    "duration": 5,
    "start_time": "2022-12-06T05:18:01.711Z"
   },
   {
    "duration": 155,
    "start_time": "2022-12-06T05:18:01.718Z"
   },
   {
    "duration": 57,
    "start_time": "2022-12-06T05:18:01.877Z"
   },
   {
    "duration": 3183,
    "start_time": "2022-12-06T05:18:01.935Z"
   },
   {
    "duration": 86,
    "start_time": "2022-12-06T05:18:05.120Z"
   },
   {
    "duration": 135,
    "start_time": "2022-12-06T05:18:05.208Z"
   },
   {
    "duration": 34,
    "start_time": "2022-12-06T05:18:05.345Z"
   },
   {
    "duration": 44,
    "start_time": "2022-12-06T05:18:05.381Z"
   },
   {
    "duration": 251,
    "start_time": "2022-12-06T05:18:05.427Z"
   },
   {
    "duration": 185,
    "start_time": "2022-12-06T05:18:05.680Z"
   },
   {
    "duration": 71,
    "start_time": "2022-12-06T05:18:05.867Z"
   },
   {
    "duration": 160,
    "start_time": "2022-12-06T05:18:05.940Z"
   },
   {
    "duration": 3,
    "start_time": "2022-12-06T05:18:06.102Z"
   },
   {
    "duration": 6,
    "start_time": "2022-12-06T05:18:06.107Z"
   },
   {
    "duration": 55,
    "start_time": "2022-12-06T05:18:06.115Z"
   },
   {
    "duration": 61,
    "start_time": "2022-12-06T05:18:06.175Z"
   },
   {
    "duration": 36,
    "start_time": "2022-12-06T05:18:06.238Z"
   },
   {
    "duration": 7,
    "start_time": "2022-12-06T05:18:06.276Z"
   },
   {
    "duration": 5,
    "start_time": "2022-12-06T05:18:06.285Z"
   },
   {
    "duration": 1688,
    "start_time": "2022-12-06T05:18:06.292Z"
   },
   {
    "duration": 0,
    "start_time": "2022-12-06T05:18:07.982Z"
   },
   {
    "duration": 0,
    "start_time": "2022-12-06T05:18:07.984Z"
   },
   {
    "duration": 0,
    "start_time": "2022-12-06T05:18:07.985Z"
   },
   {
    "duration": 0,
    "start_time": "2022-12-06T05:18:07.987Z"
   },
   {
    "duration": 0,
    "start_time": "2022-12-06T05:18:07.988Z"
   },
   {
    "duration": 0,
    "start_time": "2022-12-06T05:18:07.989Z"
   },
   {
    "duration": 0,
    "start_time": "2022-12-06T05:18:07.991Z"
   },
   {
    "duration": 4,
    "start_time": "2022-12-06T05:26:52.177Z"
   },
   {
    "duration": 976,
    "start_time": "2022-12-06T05:26:53.975Z"
   },
   {
    "duration": 1475,
    "start_time": "2022-12-06T05:26:59.835Z"
   },
   {
    "duration": 995,
    "start_time": "2022-12-06T05:27:01.311Z"
   },
   {
    "duration": 18,
    "start_time": "2022-12-06T05:27:02.307Z"
   },
   {
    "duration": 105,
    "start_time": "2022-12-06T05:27:02.326Z"
   },
   {
    "duration": 293,
    "start_time": "2022-12-06T05:27:02.433Z"
   },
   {
    "duration": 6,
    "start_time": "2022-12-06T05:27:02.727Z"
   },
   {
    "duration": 42,
    "start_time": "2022-12-06T05:27:02.735Z"
   },
   {
    "duration": 91,
    "start_time": "2022-12-06T05:27:02.779Z"
   },
   {
    "duration": 31,
    "start_time": "2022-12-06T05:27:02.872Z"
   },
   {
    "duration": 24,
    "start_time": "2022-12-06T05:27:02.905Z"
   },
   {
    "duration": 79,
    "start_time": "2022-12-06T05:27:02.931Z"
   },
   {
    "duration": 4,
    "start_time": "2022-12-06T05:27:03.012Z"
   },
   {
    "duration": 151,
    "start_time": "2022-12-06T05:27:03.018Z"
   },
   {
    "duration": 55,
    "start_time": "2022-12-06T05:27:03.173Z"
   },
   {
    "duration": 3276,
    "start_time": "2022-12-06T05:27:03.230Z"
   },
   {
    "duration": 80,
    "start_time": "2022-12-06T05:27:06.507Z"
   },
   {
    "duration": 145,
    "start_time": "2022-12-06T05:27:06.588Z"
   },
   {
    "duration": 39,
    "start_time": "2022-12-06T05:27:06.734Z"
   },
   {
    "duration": 46,
    "start_time": "2022-12-06T05:27:06.775Z"
   },
   {
    "duration": 260,
    "start_time": "2022-12-06T05:27:06.822Z"
   },
   {
    "duration": 186,
    "start_time": "2022-12-06T05:27:07.084Z"
   },
   {
    "duration": 70,
    "start_time": "2022-12-06T05:27:07.271Z"
   },
   {
    "duration": 162,
    "start_time": "2022-12-06T05:27:07.342Z"
   },
   {
    "duration": 3,
    "start_time": "2022-12-06T05:27:07.505Z"
   },
   {
    "duration": 23,
    "start_time": "2022-12-06T05:27:07.509Z"
   },
   {
    "duration": 45,
    "start_time": "2022-12-06T05:27:07.534Z"
   },
   {
    "duration": 62,
    "start_time": "2022-12-06T05:27:07.580Z"
   },
   {
    "duration": 30,
    "start_time": "2022-12-06T05:27:07.643Z"
   },
   {
    "duration": 2,
    "start_time": "2022-12-06T05:27:07.675Z"
   },
   {
    "duration": 6,
    "start_time": "2022-12-06T05:27:07.678Z"
   },
   {
    "duration": 1819,
    "start_time": "2022-12-06T05:27:07.685Z"
   },
   {
    "duration": 144160,
    "start_time": "2022-12-06T05:27:09.505Z"
   },
   {
    "duration": 0,
    "start_time": "2022-12-06T05:29:33.666Z"
   },
   {
    "duration": 0,
    "start_time": "2022-12-06T05:29:33.668Z"
   },
   {
    "duration": 0,
    "start_time": "2022-12-06T05:29:33.669Z"
   },
   {
    "duration": 0,
    "start_time": "2022-12-06T05:29:33.671Z"
   },
   {
    "duration": 0,
    "start_time": "2022-12-06T05:29:33.672Z"
   },
   {
    "duration": 0,
    "start_time": "2022-12-06T05:29:33.673Z"
   },
   {
    "duration": 143617,
    "start_time": "2022-12-06T05:32:19.741Z"
   },
   {
    "duration": 148241,
    "start_time": "2022-12-06T05:35:33.424Z"
   },
   {
    "duration": 1827,
    "start_time": "2022-12-06T05:43:12.788Z"
   },
   {
    "duration": 55,
    "start_time": "2022-12-06T05:43:14.617Z"
   },
   {
    "duration": 1398,
    "start_time": "2022-12-06T05:45:18.179Z"
   },
   {
    "duration": 975,
    "start_time": "2022-12-06T05:45:19.579Z"
   },
   {
    "duration": 24,
    "start_time": "2022-12-06T05:45:20.555Z"
   },
   {
    "duration": 99,
    "start_time": "2022-12-06T05:45:20.580Z"
   },
   {
    "duration": 280,
    "start_time": "2022-12-06T05:45:20.681Z"
   },
   {
    "duration": 6,
    "start_time": "2022-12-06T05:45:20.965Z"
   },
   {
    "duration": 36,
    "start_time": "2022-12-06T05:45:20.973Z"
   },
   {
    "duration": 89,
    "start_time": "2022-12-06T05:45:21.011Z"
   },
   {
    "duration": 31,
    "start_time": "2022-12-06T05:45:21.102Z"
   },
   {
    "duration": 37,
    "start_time": "2022-12-06T05:45:21.135Z"
   },
   {
    "duration": 52,
    "start_time": "2022-12-06T05:45:21.174Z"
   },
   {
    "duration": 3,
    "start_time": "2022-12-06T05:45:21.228Z"
   },
   {
    "duration": 163,
    "start_time": "2022-12-06T05:45:21.233Z"
   },
   {
    "duration": 60,
    "start_time": "2022-12-06T05:45:21.399Z"
   },
   {
    "duration": 3308,
    "start_time": "2022-12-06T05:45:21.461Z"
   },
   {
    "duration": 68,
    "start_time": "2022-12-06T05:45:24.771Z"
   },
   {
    "duration": 141,
    "start_time": "2022-12-06T05:45:24.840Z"
   },
   {
    "duration": 30,
    "start_time": "2022-12-06T05:45:24.982Z"
   },
   {
    "duration": 60,
    "start_time": "2022-12-06T05:45:25.014Z"
   },
   {
    "duration": 227,
    "start_time": "2022-12-06T05:45:25.076Z"
   },
   {
    "duration": 183,
    "start_time": "2022-12-06T05:45:25.304Z"
   },
   {
    "duration": 78,
    "start_time": "2022-12-06T05:45:25.489Z"
   },
   {
    "duration": 155,
    "start_time": "2022-12-06T05:45:25.568Z"
   },
   {
    "duration": 3,
    "start_time": "2022-12-06T05:45:25.724Z"
   },
   {
    "duration": 6,
    "start_time": "2022-12-06T05:45:25.729Z"
   },
   {
    "duration": 53,
    "start_time": "2022-12-06T05:45:25.736Z"
   },
   {
    "duration": 67,
    "start_time": "2022-12-06T05:45:25.790Z"
   },
   {
    "duration": 19,
    "start_time": "2022-12-06T05:45:25.868Z"
   },
   {
    "duration": 6,
    "start_time": "2022-12-06T05:45:25.889Z"
   },
   {
    "duration": 6,
    "start_time": "2022-12-06T05:45:25.896Z"
   },
   {
    "duration": 1636,
    "start_time": "2022-12-06T05:45:25.903Z"
   },
   {
    "duration": 0,
    "start_time": "2022-12-06T05:45:27.541Z"
   },
   {
    "duration": 0,
    "start_time": "2022-12-06T05:45:27.543Z"
   },
   {
    "duration": 0,
    "start_time": "2022-12-06T05:45:27.545Z"
   },
   {
    "duration": 0,
    "start_time": "2022-12-06T05:45:27.565Z"
   },
   {
    "duration": 0,
    "start_time": "2022-12-06T05:45:27.566Z"
   },
   {
    "duration": 0,
    "start_time": "2022-12-06T05:45:27.567Z"
   },
   {
    "duration": 0,
    "start_time": "2022-12-06T05:45:27.568Z"
   },
   {
    "duration": 8,
    "start_time": "2022-12-06T05:46:48.370Z"
   },
   {
    "duration": 18,
    "start_time": "2022-12-06T05:50:52.827Z"
   },
   {
    "duration": 1502,
    "start_time": "2022-12-06T05:54:33.708Z"
   },
   {
    "duration": 996,
    "start_time": "2022-12-06T05:54:35.212Z"
   },
   {
    "duration": 16,
    "start_time": "2022-12-06T05:54:36.210Z"
   },
   {
    "duration": 100,
    "start_time": "2022-12-06T05:54:36.227Z"
   },
   {
    "duration": 300,
    "start_time": "2022-12-06T05:54:36.328Z"
   },
   {
    "duration": 6,
    "start_time": "2022-12-06T05:54:36.630Z"
   },
   {
    "duration": 44,
    "start_time": "2022-12-06T05:54:36.637Z"
   },
   {
    "duration": 91,
    "start_time": "2022-12-06T05:54:36.683Z"
   },
   {
    "duration": 34,
    "start_time": "2022-12-06T05:54:36.776Z"
   },
   {
    "duration": 50,
    "start_time": "2022-12-06T05:54:36.814Z"
   },
   {
    "duration": 52,
    "start_time": "2022-12-06T05:54:36.866Z"
   },
   {
    "duration": 4,
    "start_time": "2022-12-06T05:54:36.919Z"
   },
   {
    "duration": 149,
    "start_time": "2022-12-06T05:54:36.924Z"
   },
   {
    "duration": 58,
    "start_time": "2022-12-06T05:54:37.075Z"
   },
   {
    "duration": 3178,
    "start_time": "2022-12-06T05:54:37.134Z"
   },
   {
    "duration": 76,
    "start_time": "2022-12-06T05:54:40.314Z"
   },
   {
    "duration": 213,
    "start_time": "2022-12-06T05:54:40.392Z"
   },
   {
    "duration": 24,
    "start_time": "2022-12-06T05:54:40.607Z"
   },
   {
    "duration": 60,
    "start_time": "2022-12-06T05:54:40.632Z"
   },
   {
    "duration": 152,
    "start_time": "2022-12-06T05:54:40.694Z"
   },
   {
    "duration": 178,
    "start_time": "2022-12-06T05:54:40.854Z"
   },
   {
    "duration": 80,
    "start_time": "2022-12-06T05:54:41.034Z"
   },
   {
    "duration": 154,
    "start_time": "2022-12-06T05:54:41.116Z"
   },
   {
    "duration": 2,
    "start_time": "2022-12-06T05:54:41.272Z"
   },
   {
    "duration": 13,
    "start_time": "2022-12-06T05:54:41.275Z"
   },
   {
    "duration": 49,
    "start_time": "2022-12-06T05:54:41.290Z"
   },
   {
    "duration": 70,
    "start_time": "2022-12-06T05:54:41.340Z"
   },
   {
    "duration": 19,
    "start_time": "2022-12-06T05:54:41.413Z"
   },
   {
    "duration": 12,
    "start_time": "2022-12-06T05:54:41.433Z"
   },
   {
    "duration": 40,
    "start_time": "2022-12-06T05:54:41.447Z"
   },
   {
    "duration": 28,
    "start_time": "2022-12-06T05:54:41.488Z"
   },
   {
    "duration": 1810,
    "start_time": "2022-12-06T05:54:41.517Z"
   },
   {
    "duration": 147436,
    "start_time": "2022-12-06T05:54:43.328Z"
   },
   {
    "duration": 1959,
    "start_time": "2022-12-06T05:57:10.767Z"
   },
   {
    "duration": 56,
    "start_time": "2022-12-06T05:57:12.727Z"
   },
   {
    "duration": 0,
    "start_time": "2022-12-06T05:57:12.784Z"
   },
   {
    "duration": 0,
    "start_time": "2022-12-06T05:57:12.785Z"
   },
   {
    "duration": 0,
    "start_time": "2022-12-06T05:57:12.786Z"
   },
   {
    "duration": 0,
    "start_time": "2022-12-06T05:57:12.787Z"
   },
   {
    "duration": 129,
    "start_time": "2022-12-06T05:57:57.779Z"
   },
   {
    "duration": 2,
    "start_time": "2022-12-06T05:58:26.577Z"
   },
   {
    "duration": 1460,
    "start_time": "2022-12-06T05:58:31.726Z"
   },
   {
    "duration": 1182,
    "start_time": "2022-12-06T05:58:33.189Z"
   },
   {
    "duration": 18,
    "start_time": "2022-12-06T05:58:34.372Z"
   },
   {
    "duration": 113,
    "start_time": "2022-12-06T05:58:34.392Z"
   },
   {
    "duration": 485,
    "start_time": "2022-12-06T05:58:34.509Z"
   },
   {
    "duration": 7,
    "start_time": "2022-12-06T05:58:34.996Z"
   },
   {
    "duration": 33,
    "start_time": "2022-12-06T05:58:35.005Z"
   },
   {
    "duration": 86,
    "start_time": "2022-12-06T05:58:35.055Z"
   },
   {
    "duration": 37,
    "start_time": "2022-12-06T05:58:35.156Z"
   },
   {
    "duration": 22,
    "start_time": "2022-12-06T05:58:35.195Z"
   },
   {
    "duration": 69,
    "start_time": "2022-12-06T05:58:35.219Z"
   },
   {
    "duration": 3,
    "start_time": "2022-12-06T05:58:35.290Z"
   },
   {
    "duration": 148,
    "start_time": "2022-12-06T05:58:35.294Z"
   },
   {
    "duration": 58,
    "start_time": "2022-12-06T05:58:35.461Z"
   },
   {
    "duration": 3160,
    "start_time": "2022-12-06T05:58:35.521Z"
   },
   {
    "duration": 79,
    "start_time": "2022-12-06T05:58:38.682Z"
   },
   {
    "duration": 130,
    "start_time": "2022-12-06T05:58:38.762Z"
   },
   {
    "duration": 28,
    "start_time": "2022-12-06T05:58:38.893Z"
   },
   {
    "duration": 59,
    "start_time": "2022-12-06T05:58:38.923Z"
   },
   {
    "duration": 233,
    "start_time": "2022-12-06T05:58:38.984Z"
   },
   {
    "duration": 194,
    "start_time": "2022-12-06T05:58:39.219Z"
   },
   {
    "duration": 79,
    "start_time": "2022-12-06T05:58:39.415Z"
   },
   {
    "duration": 148,
    "start_time": "2022-12-06T05:58:39.495Z"
   },
   {
    "duration": 8,
    "start_time": "2022-12-06T05:58:39.644Z"
   },
   {
    "duration": 18,
    "start_time": "2022-12-06T05:58:39.656Z"
   },
   {
    "duration": 35,
    "start_time": "2022-12-06T05:58:39.676Z"
   },
   {
    "duration": 67,
    "start_time": "2022-12-06T05:58:39.713Z"
   },
   {
    "duration": 16,
    "start_time": "2022-12-06T05:58:39.782Z"
   },
   {
    "duration": 5,
    "start_time": "2022-12-06T05:58:39.800Z"
   },
   {
    "duration": 20,
    "start_time": "2022-12-06T05:58:39.806Z"
   },
   {
    "duration": 2,
    "start_time": "2022-12-06T05:58:39.828Z"
   },
   {
    "duration": 1841,
    "start_time": "2022-12-06T05:58:39.832Z"
   },
   {
    "duration": 142185,
    "start_time": "2022-12-06T05:58:41.675Z"
   },
   {
    "duration": 1941,
    "start_time": "2022-12-06T06:01:03.864Z"
   },
   {
    "duration": 121,
    "start_time": "2022-12-06T06:01:05.807Z"
   },
   {
    "duration": 0,
    "start_time": "2022-12-06T06:01:05.929Z"
   },
   {
    "duration": 0,
    "start_time": "2022-12-06T06:01:05.930Z"
   },
   {
    "duration": 0,
    "start_time": "2022-12-06T06:01:05.931Z"
   },
   {
    "duration": 0,
    "start_time": "2022-12-06T06:01:05.932Z"
   },
   {
    "duration": 1625,
    "start_time": "2022-12-06T08:27:46.543Z"
   },
   {
    "duration": 1294,
    "start_time": "2022-12-06T08:27:48.170Z"
   },
   {
    "duration": 17,
    "start_time": "2022-12-06T08:27:49.465Z"
   },
   {
    "duration": 111,
    "start_time": "2022-12-06T08:27:49.484Z"
   },
   {
    "duration": 287,
    "start_time": "2022-12-06T08:27:49.597Z"
   },
   {
    "duration": 6,
    "start_time": "2022-12-06T08:27:49.886Z"
   },
   {
    "duration": 34,
    "start_time": "2022-12-06T08:27:49.894Z"
   },
   {
    "duration": 91,
    "start_time": "2022-12-06T08:27:49.930Z"
   },
   {
    "duration": 42,
    "start_time": "2022-12-06T08:27:50.023Z"
   },
   {
    "duration": 28,
    "start_time": "2022-12-06T08:27:50.067Z"
   },
   {
    "duration": 67,
    "start_time": "2022-12-06T08:27:50.096Z"
   },
   {
    "duration": 4,
    "start_time": "2022-12-06T08:27:50.164Z"
   },
   {
    "duration": 151,
    "start_time": "2022-12-06T08:27:50.170Z"
   },
   {
    "duration": 68,
    "start_time": "2022-12-06T08:27:50.323Z"
   },
   {
    "duration": 3181,
    "start_time": "2022-12-06T08:27:50.393Z"
   },
   {
    "duration": 80,
    "start_time": "2022-12-06T08:27:53.576Z"
   },
   {
    "duration": 230,
    "start_time": "2022-12-06T08:27:53.658Z"
   },
   {
    "duration": 24,
    "start_time": "2022-12-06T08:27:53.890Z"
   },
   {
    "duration": 63,
    "start_time": "2022-12-06T08:27:53.916Z"
   },
   {
    "duration": 159,
    "start_time": "2022-12-06T08:27:53.981Z"
   },
   {
    "duration": 174,
    "start_time": "2022-12-06T08:27:54.141Z"
   },
   {
    "duration": 72,
    "start_time": "2022-12-06T08:27:54.317Z"
   },
   {
    "duration": 180,
    "start_time": "2022-12-06T08:27:54.391Z"
   },
   {
    "duration": 2,
    "start_time": "2022-12-06T08:27:54.573Z"
   },
   {
    "duration": 6,
    "start_time": "2022-12-06T08:27:54.576Z"
   },
   {
    "duration": 41,
    "start_time": "2022-12-06T08:27:54.583Z"
   },
   {
    "duration": 86,
    "start_time": "2022-12-06T08:27:54.625Z"
   },
   {
    "duration": 20,
    "start_time": "2022-12-06T08:27:54.714Z"
   },
   {
    "duration": 22,
    "start_time": "2022-12-06T08:27:54.736Z"
   },
   {
    "duration": 25,
    "start_time": "2022-12-06T08:27:54.760Z"
   },
   {
    "duration": 6,
    "start_time": "2022-12-06T08:27:54.787Z"
   },
   {
    "duration": 1857,
    "start_time": "2022-12-06T08:27:54.795Z"
   },
   {
    "duration": 91809,
    "start_time": "2022-12-06T08:27:56.654Z"
   },
   {
    "duration": 1802,
    "start_time": "2022-12-06T08:29:28.555Z"
   },
   {
    "duration": 119,
    "start_time": "2022-12-06T08:29:30.359Z"
   },
   {
    "duration": 0,
    "start_time": "2022-12-06T08:29:30.479Z"
   },
   {
    "duration": 0,
    "start_time": "2022-12-06T08:29:30.480Z"
   },
   {
    "duration": 0,
    "start_time": "2022-12-06T08:29:30.481Z"
   },
   {
    "duration": 0,
    "start_time": "2022-12-06T08:29:30.482Z"
   },
   {
    "duration": 1439,
    "start_time": "2022-12-06T09:10:09.511Z"
   },
   {
    "duration": 971,
    "start_time": "2022-12-06T09:10:10.952Z"
   },
   {
    "duration": 15,
    "start_time": "2022-12-06T09:10:11.924Z"
   },
   {
    "duration": 133,
    "start_time": "2022-12-06T09:10:11.942Z"
   },
   {
    "duration": 284,
    "start_time": "2022-12-06T09:10:12.077Z"
   },
   {
    "duration": 6,
    "start_time": "2022-12-06T09:10:12.362Z"
   },
   {
    "duration": 135,
    "start_time": "2022-12-06T09:10:12.369Z"
   },
   {
    "duration": 86,
    "start_time": "2022-12-06T09:10:12.505Z"
   },
   {
    "duration": 53,
    "start_time": "2022-12-06T09:10:12.593Z"
   },
   {
    "duration": 35,
    "start_time": "2022-12-06T09:10:12.654Z"
   },
   {
    "duration": 75,
    "start_time": "2022-12-06T09:10:12.691Z"
   },
   {
    "duration": 15,
    "start_time": "2022-12-06T09:10:12.768Z"
   },
   {
    "duration": 156,
    "start_time": "2022-12-06T09:10:12.784Z"
   },
   {
    "duration": 67,
    "start_time": "2022-12-06T09:10:12.943Z"
   },
   {
    "duration": 3251,
    "start_time": "2022-12-06T09:10:13.012Z"
   },
   {
    "duration": 72,
    "start_time": "2022-12-06T09:10:16.265Z"
   },
   {
    "duration": 231,
    "start_time": "2022-12-06T09:10:16.339Z"
   },
   {
    "duration": 23,
    "start_time": "2022-12-06T09:10:16.572Z"
   },
   {
    "duration": 62,
    "start_time": "2022-12-06T09:10:16.596Z"
   },
   {
    "duration": 163,
    "start_time": "2022-12-06T09:10:16.660Z"
   },
   {
    "duration": 191,
    "start_time": "2022-12-06T09:10:16.825Z"
   },
   {
    "duration": 75,
    "start_time": "2022-12-06T09:10:17.018Z"
   },
   {
    "duration": 181,
    "start_time": "2022-12-06T09:10:17.094Z"
   },
   {
    "duration": 3,
    "start_time": "2022-12-06T09:10:17.277Z"
   },
   {
    "duration": 106,
    "start_time": "2022-12-06T09:10:17.281Z"
   },
   {
    "duration": 69,
    "start_time": "2022-12-06T09:10:17.389Z"
   },
   {
    "duration": 66,
    "start_time": "2022-12-06T09:10:17.460Z"
   },
   {
    "duration": 32,
    "start_time": "2022-12-06T09:10:17.530Z"
   },
   {
    "duration": 24,
    "start_time": "2022-12-06T09:10:17.563Z"
   },
   {
    "duration": 38,
    "start_time": "2022-12-06T09:10:17.589Z"
   },
   {
    "duration": 13,
    "start_time": "2022-12-06T09:10:17.629Z"
   },
   {
    "duration": 1829,
    "start_time": "2022-12-06T09:10:17.643Z"
   },
   {
    "duration": 119185,
    "start_time": "2022-12-06T09:10:19.475Z"
   },
   {
    "duration": 1921,
    "start_time": "2022-12-06T09:12:18.663Z"
   },
   {
    "duration": 126,
    "start_time": "2022-12-06T09:12:20.586Z"
   },
   {
    "duration": 0,
    "start_time": "2022-12-06T09:12:20.714Z"
   },
   {
    "duration": 0,
    "start_time": "2022-12-06T09:12:20.715Z"
   },
   {
    "duration": 0,
    "start_time": "2022-12-06T09:12:20.716Z"
   },
   {
    "duration": 0,
    "start_time": "2022-12-06T09:12:20.717Z"
   },
   {
    "duration": 20,
    "start_time": "2022-12-06T09:23:41.824Z"
   },
   {
    "duration": 20,
    "start_time": "2022-12-06T09:25:28.091Z"
   },
   {
    "duration": 11,
    "start_time": "2022-12-06T09:28:07.991Z"
   },
   {
    "duration": 10,
    "start_time": "2022-12-06T09:28:17.634Z"
   },
   {
    "duration": 11,
    "start_time": "2022-12-06T09:29:02.489Z"
   },
   {
    "duration": 36986,
    "start_time": "2022-12-06T09:30:02.171Z"
   },
   {
    "duration": 16,
    "start_time": "2022-12-06T09:33:19.154Z"
   },
   {
    "duration": 22,
    "start_time": "2022-12-06T09:34:17.848Z"
   },
   {
    "duration": 983,
    "start_time": "2022-12-06T09:34:18.318Z"
   },
   {
    "duration": 13,
    "start_time": "2022-12-06T09:34:19.303Z"
   },
   {
    "duration": 104,
    "start_time": "2022-12-06T09:34:19.318Z"
   },
   {
    "duration": 215,
    "start_time": "2022-12-06T09:34:19.424Z"
   },
   {
    "duration": 15,
    "start_time": "2022-12-06T09:34:19.641Z"
   },
   {
    "duration": 24,
    "start_time": "2022-12-06T09:34:19.691Z"
   },
   {
    "duration": 86,
    "start_time": "2022-12-06T09:34:20.384Z"
   },
   {
    "duration": 33,
    "start_time": "2022-12-06T09:34:20.552Z"
   },
   {
    "duration": 23,
    "start_time": "2022-12-06T09:34:20.728Z"
   },
   {
    "duration": 51,
    "start_time": "2022-12-06T09:34:20.879Z"
   },
   {
    "duration": 4,
    "start_time": "2022-12-06T09:34:21.048Z"
   },
   {
    "duration": 129,
    "start_time": "2022-12-06T09:34:21.433Z"
   },
   {
    "duration": 50,
    "start_time": "2022-12-06T09:34:21.615Z"
   },
   {
    "duration": 3228,
    "start_time": "2022-12-06T09:34:22.138Z"
   },
   {
    "duration": 67,
    "start_time": "2022-12-06T09:34:25.367Z"
   },
   {
    "duration": 152,
    "start_time": "2022-12-06T09:34:25.435Z"
   },
   {
    "duration": 23,
    "start_time": "2022-12-06T09:34:25.590Z"
   },
   {
    "duration": 59,
    "start_time": "2022-12-06T09:34:25.615Z"
   },
   {
    "duration": 174,
    "start_time": "2022-12-06T09:34:25.675Z"
   },
   {
    "duration": 201,
    "start_time": "2022-12-06T09:34:25.855Z"
   },
   {
    "duration": 72,
    "start_time": "2022-12-06T09:34:26.058Z"
   },
   {
    "duration": 164,
    "start_time": "2022-12-06T09:34:26.132Z"
   },
   {
    "duration": 3,
    "start_time": "2022-12-06T09:34:26.299Z"
   },
   {
    "duration": 6,
    "start_time": "2022-12-06T09:34:26.304Z"
   },
   {
    "duration": 37,
    "start_time": "2022-12-06T09:34:26.373Z"
   },
   {
    "duration": 67,
    "start_time": "2022-12-06T09:34:26.591Z"
   },
   {
    "duration": 19,
    "start_time": "2022-12-06T09:34:26.791Z"
   },
   {
    "duration": 3,
    "start_time": "2022-12-06T09:34:27.495Z"
   },
   {
    "duration": 19,
    "start_time": "2022-12-06T09:34:27.744Z"
   },
   {
    "duration": 3,
    "start_time": "2022-12-06T09:34:27.936Z"
   },
   {
    "duration": 1776,
    "start_time": "2022-12-06T09:34:28.337Z"
   },
   {
    "duration": 90041,
    "start_time": "2022-12-06T09:34:30.115Z"
   },
   {
    "duration": 40698,
    "start_time": "2022-12-06T09:36:00.159Z"
   },
   {
    "duration": 47182,
    "start_time": "2022-12-06T09:36:40.859Z"
   },
   {
    "duration": 103,
    "start_time": "2022-12-06T09:38:44.858Z"
   },
   {
    "duration": 83,
    "start_time": "2022-12-06T09:39:54.129Z"
   },
   {
    "duration": 10,
    "start_time": "2022-12-06T09:40:37.296Z"
   },
   {
    "duration": 4,
    "start_time": "2022-12-06T09:40:47.633Z"
   },
   {
    "duration": 15,
    "start_time": "2022-12-06T09:40:55.074Z"
   },
   {
    "duration": 10,
    "start_time": "2022-12-06T09:42:17.926Z"
   },
   {
    "duration": 9,
    "start_time": "2022-12-06T09:42:32.403Z"
   },
   {
    "duration": 9,
    "start_time": "2022-12-06T09:42:58.735Z"
   },
   {
    "duration": 10,
    "start_time": "2022-12-06T09:43:17.363Z"
   },
   {
    "duration": 3,
    "start_time": "2022-12-06T09:43:21.779Z"
   },
   {
    "duration": 21,
    "start_time": "2022-12-06T09:43:22.348Z"
   },
   {
    "duration": 4,
    "start_time": "2022-12-06T09:43:22.780Z"
   },
   {
    "duration": 1735,
    "start_time": "2022-12-06T09:43:22.972Z"
   },
   {
    "duration": 96747,
    "start_time": "2022-12-06T09:43:24.709Z"
   },
   {
    "duration": 3,
    "start_time": "2022-12-06T09:45:01.457Z"
   },
   {
    "duration": 3,
    "start_time": "2022-12-06T09:46:27.581Z"
   },
   {
    "duration": 2,
    "start_time": "2022-12-06T09:46:58.666Z"
   },
   {
    "duration": 58011,
    "start_time": "2022-12-06T09:47:00.146Z"
   },
   {
    "duration": 3,
    "start_time": "2022-12-06T09:47:58.159Z"
   },
   {
    "duration": 46985,
    "start_time": "2022-12-06T09:47:58.163Z"
   },
   {
    "duration": 4,
    "start_time": "2022-12-06T09:48:45.151Z"
   },
   {
    "duration": 6,
    "start_time": "2022-12-06T09:48:45.157Z"
   },
   {
    "duration": 9,
    "start_time": "2022-12-06T09:48:45.165Z"
   },
   {
    "duration": 9,
    "start_time": "2022-12-06T09:48:45.175Z"
   },
   {
    "duration": 16,
    "start_time": "2022-12-06T09:48:45.185Z"
   },
   {
    "duration": 55,
    "start_time": "2022-12-06T09:53:44.534Z"
   },
   {
    "duration": 2255,
    "start_time": "2022-12-06T11:38:54.226Z"
   },
   {
    "duration": 973,
    "start_time": "2022-12-06T11:38:56.483Z"
   },
   {
    "duration": 22,
    "start_time": "2022-12-06T11:38:57.458Z"
   },
   {
    "duration": 99,
    "start_time": "2022-12-06T11:38:57.482Z"
   },
   {
    "duration": 268,
    "start_time": "2022-12-06T11:38:57.583Z"
   },
   {
    "duration": 5,
    "start_time": "2022-12-06T11:38:57.853Z"
   },
   {
    "duration": 43,
    "start_time": "2022-12-06T11:38:57.859Z"
   },
   {
    "duration": 87,
    "start_time": "2022-12-06T11:38:57.904Z"
   },
   {
    "duration": 33,
    "start_time": "2022-12-06T11:38:57.992Z"
   },
   {
    "duration": 32,
    "start_time": "2022-12-06T11:38:58.027Z"
   },
   {
    "duration": 59,
    "start_time": "2022-12-06T11:38:58.061Z"
   },
   {
    "duration": 4,
    "start_time": "2022-12-06T11:38:58.122Z"
   },
   {
    "duration": 141,
    "start_time": "2022-12-06T11:38:58.127Z"
   },
   {
    "duration": 57,
    "start_time": "2022-12-06T11:38:58.276Z"
   },
   {
    "duration": 3144,
    "start_time": "2022-12-06T11:38:58.334Z"
   },
   {
    "duration": 73,
    "start_time": "2022-12-06T11:39:01.479Z"
   },
   {
    "duration": 226,
    "start_time": "2022-12-06T11:39:01.554Z"
   },
   {
    "duration": 24,
    "start_time": "2022-12-06T11:39:01.782Z"
   },
   {
    "duration": 44,
    "start_time": "2022-12-06T11:39:01.808Z"
   },
   {
    "duration": 181,
    "start_time": "2022-12-06T11:39:01.853Z"
   },
   {
    "duration": 182,
    "start_time": "2022-12-06T11:39:02.036Z"
   },
   {
    "duration": 71,
    "start_time": "2022-12-06T11:39:02.220Z"
   },
   {
    "duration": 341,
    "start_time": "2022-12-06T11:39:02.293Z"
   },
   {
    "duration": 125,
    "start_time": "2022-12-06T11:39:02.635Z"
   },
   {
    "duration": 191,
    "start_time": "2022-12-06T11:39:02.761Z"
   },
   {
    "duration": 112,
    "start_time": "2022-12-06T11:39:02.954Z"
   },
   {
    "duration": 277,
    "start_time": "2022-12-06T11:39:03.068Z"
   },
   {
    "duration": 18,
    "start_time": "2022-12-06T11:39:03.348Z"
   },
   {
    "duration": 49,
    "start_time": "2022-12-06T11:39:03.368Z"
   },
   {
    "duration": 45,
    "start_time": "2022-12-06T11:39:03.418Z"
   },
   {
    "duration": 18,
    "start_time": "2022-12-06T11:39:03.465Z"
   },
   {
    "duration": 1835,
    "start_time": "2022-12-06T11:39:03.485Z"
   },
   {
    "duration": 4,
    "start_time": "2022-12-06T11:39:37.025Z"
   },
   {
    "duration": 4,
    "start_time": "2022-12-06T11:39:48.704Z"
   },
   {
    "duration": 105,
    "start_time": "2022-12-06T11:39:56.609Z"
   },
   {
    "duration": 49,
    "start_time": "2022-12-07T09:29:44.499Z"
   },
   {
    "duration": 1568,
    "start_time": "2022-12-07T09:29:49.318Z"
   },
   {
    "duration": 1154,
    "start_time": "2022-12-07T09:29:50.887Z"
   },
   {
    "duration": 20,
    "start_time": "2022-12-07T09:29:52.042Z"
   },
   {
    "duration": 135,
    "start_time": "2022-12-07T09:29:52.063Z"
   },
   {
    "duration": 264,
    "start_time": "2022-12-07T09:29:52.200Z"
   },
   {
    "duration": 6,
    "start_time": "2022-12-07T09:29:52.466Z"
   },
   {
    "duration": 36,
    "start_time": "2022-12-07T09:29:52.474Z"
   },
   {
    "duration": 92,
    "start_time": "2022-12-07T09:29:52.511Z"
   },
   {
    "duration": 41,
    "start_time": "2022-12-07T09:29:52.605Z"
   },
   {
    "duration": 27,
    "start_time": "2022-12-07T09:29:52.647Z"
   },
   {
    "duration": 65,
    "start_time": "2022-12-07T09:29:52.676Z"
   },
   {
    "duration": 3,
    "start_time": "2022-12-07T09:29:52.742Z"
   },
   {
    "duration": 150,
    "start_time": "2022-12-07T09:29:52.747Z"
   },
   {
    "duration": 64,
    "start_time": "2022-12-07T09:29:52.899Z"
   },
   {
    "duration": 3164,
    "start_time": "2022-12-07T09:29:52.964Z"
   },
   {
    "duration": 65,
    "start_time": "2022-12-07T09:29:56.130Z"
   },
   {
    "duration": 140,
    "start_time": "2022-12-07T09:29:56.196Z"
   },
   {
    "duration": 29,
    "start_time": "2022-12-07T09:29:56.338Z"
   },
   {
    "duration": 70,
    "start_time": "2022-12-07T09:29:56.370Z"
   },
   {
    "duration": 232,
    "start_time": "2022-12-07T09:29:56.443Z"
   },
   {
    "duration": 169,
    "start_time": "2022-12-07T09:29:56.677Z"
   },
   {
    "duration": 66,
    "start_time": "2022-12-07T09:29:56.848Z"
   },
   {
    "duration": 147,
    "start_time": "2022-12-07T09:29:56.922Z"
   },
   {
    "duration": 3,
    "start_time": "2022-12-07T09:29:57.071Z"
   },
   {
    "duration": 10,
    "start_time": "2022-12-07T09:29:57.076Z"
   },
   {
    "duration": 53,
    "start_time": "2022-12-07T09:29:57.088Z"
   },
   {
    "duration": 60,
    "start_time": "2022-12-07T09:29:57.143Z"
   },
   {
    "duration": 28,
    "start_time": "2022-12-07T09:29:57.205Z"
   },
   {
    "duration": 9,
    "start_time": "2022-12-07T09:29:57.234Z"
   },
   {
    "duration": 27,
    "start_time": "2022-12-07T09:29:57.244Z"
   },
   {
    "duration": 6,
    "start_time": "2022-12-07T09:29:57.273Z"
   },
   {
    "duration": 1678,
    "start_time": "2022-12-07T09:29:57.280Z"
   },
   {
    "duration": 1358,
    "start_time": "2022-12-07T09:30:42.469Z"
   },
   {
    "duration": 940,
    "start_time": "2022-12-07T09:30:43.829Z"
   },
   {
    "duration": 15,
    "start_time": "2022-12-07T09:30:44.771Z"
   },
   {
    "duration": 110,
    "start_time": "2022-12-07T09:30:44.787Z"
   },
   {
    "duration": 276,
    "start_time": "2022-12-07T09:30:44.901Z"
   },
   {
    "duration": 5,
    "start_time": "2022-12-07T09:30:45.179Z"
   },
   {
    "duration": 48,
    "start_time": "2022-12-07T09:30:45.186Z"
   },
   {
    "duration": 157,
    "start_time": "2022-12-07T09:30:45.237Z"
   },
   {
    "duration": 43,
    "start_time": "2022-12-07T09:30:45.396Z"
   },
   {
    "duration": 24,
    "start_time": "2022-12-07T09:30:45.440Z"
   },
   {
    "duration": 63,
    "start_time": "2022-12-07T09:30:45.465Z"
   },
   {
    "duration": 17,
    "start_time": "2022-12-07T09:30:45.529Z"
   },
   {
    "duration": 147,
    "start_time": "2022-12-07T09:30:45.548Z"
   },
   {
    "duration": 64,
    "start_time": "2022-12-07T09:30:45.697Z"
   },
   {
    "duration": 3106,
    "start_time": "2022-12-07T09:30:45.763Z"
   },
   {
    "duration": 73,
    "start_time": "2022-12-07T09:30:48.870Z"
   },
   {
    "duration": 142,
    "start_time": "2022-12-07T09:30:48.944Z"
   },
   {
    "duration": 37,
    "start_time": "2022-12-07T09:30:49.089Z"
   },
   {
    "duration": 45,
    "start_time": "2022-12-07T09:30:49.128Z"
   },
   {
    "duration": 234,
    "start_time": "2022-12-07T09:30:49.175Z"
   },
   {
    "duration": 164,
    "start_time": "2022-12-07T09:30:49.420Z"
   },
   {
    "duration": 67,
    "start_time": "2022-12-07T09:30:49.586Z"
   },
   {
    "duration": 146,
    "start_time": "2022-12-07T09:30:49.655Z"
   },
   {
    "duration": 3,
    "start_time": "2022-12-07T09:30:49.802Z"
   },
   {
    "duration": 15,
    "start_time": "2022-12-07T09:30:49.806Z"
   },
   {
    "duration": 30,
    "start_time": "2022-12-07T09:30:49.823Z"
   },
   {
    "duration": 71,
    "start_time": "2022-12-07T09:30:49.855Z"
   },
   {
    "duration": 17,
    "start_time": "2022-12-07T09:30:49.928Z"
   },
   {
    "duration": 7,
    "start_time": "2022-12-07T09:30:49.947Z"
   },
   {
    "duration": 18,
    "start_time": "2022-12-07T09:30:49.955Z"
   },
   {
    "duration": 4,
    "start_time": "2022-12-07T09:30:49.975Z"
   },
   {
    "duration": 1513,
    "start_time": "2022-12-07T09:30:49.980Z"
   },
   {
    "duration": 1,
    "start_time": "2022-12-07T09:30:51.494Z"
   },
   {
    "duration": 0,
    "start_time": "2022-12-07T09:30:51.496Z"
   },
   {
    "duration": 0,
    "start_time": "2022-12-07T09:30:51.498Z"
   },
   {
    "duration": 0,
    "start_time": "2022-12-07T09:30:51.498Z"
   },
   {
    "duration": 0,
    "start_time": "2022-12-07T09:30:51.503Z"
   },
   {
    "duration": 0,
    "start_time": "2022-12-07T09:30:51.504Z"
   },
   {
    "duration": 0,
    "start_time": "2022-12-07T09:30:51.505Z"
   },
   {
    "duration": 0,
    "start_time": "2022-12-07T09:30:51.507Z"
   },
   {
    "duration": 0,
    "start_time": "2022-12-07T09:30:51.521Z"
   },
   {
    "duration": 0,
    "start_time": "2022-12-07T09:30:51.522Z"
   },
   {
    "duration": 11,
    "start_time": "2022-12-07T09:36:35.151Z"
   },
   {
    "duration": 14,
    "start_time": "2022-12-07T09:36:51.427Z"
   },
   {
    "duration": 1403,
    "start_time": "2022-12-07T09:36:55.707Z"
   },
   {
    "duration": 907,
    "start_time": "2022-12-07T09:36:57.112Z"
   },
   {
    "duration": 16,
    "start_time": "2022-12-07T09:36:58.021Z"
   },
   {
    "duration": 106,
    "start_time": "2022-12-07T09:36:58.039Z"
   },
   {
    "duration": 265,
    "start_time": "2022-12-07T09:36:58.147Z"
   },
   {
    "duration": 10,
    "start_time": "2022-12-07T09:36:58.414Z"
   },
   {
    "duration": 31,
    "start_time": "2022-12-07T09:36:58.425Z"
   },
   {
    "duration": 86,
    "start_time": "2022-12-07T09:36:58.457Z"
   },
   {
    "duration": 33,
    "start_time": "2022-12-07T09:36:58.545Z"
   },
   {
    "duration": 43,
    "start_time": "2022-12-07T09:36:58.580Z"
   },
   {
    "duration": 51,
    "start_time": "2022-12-07T09:36:58.625Z"
   },
   {
    "duration": 4,
    "start_time": "2022-12-07T09:36:58.678Z"
   },
   {
    "duration": 139,
    "start_time": "2022-12-07T09:36:58.683Z"
   },
   {
    "duration": 57,
    "start_time": "2022-12-07T09:36:58.824Z"
   },
   {
    "duration": 3099,
    "start_time": "2022-12-07T09:36:58.882Z"
   },
   {
    "duration": 80,
    "start_time": "2022-12-07T09:37:01.983Z"
   },
   {
    "duration": 219,
    "start_time": "2022-12-07T09:37:02.066Z"
   },
   {
    "duration": 23,
    "start_time": "2022-12-07T09:37:02.286Z"
   },
   {
    "duration": 41,
    "start_time": "2022-12-07T09:37:02.321Z"
   },
   {
    "duration": 162,
    "start_time": "2022-12-07T09:37:02.363Z"
   },
   {
    "duration": 177,
    "start_time": "2022-12-07T09:37:02.526Z"
   },
   {
    "duration": 74,
    "start_time": "2022-12-07T09:37:02.704Z"
   },
   {
    "duration": 201,
    "start_time": "2022-12-07T09:37:02.780Z"
   },
   {
    "duration": 2,
    "start_time": "2022-12-07T09:37:02.983Z"
   },
   {
    "duration": 12,
    "start_time": "2022-12-07T09:37:02.987Z"
   },
   {
    "duration": 44,
    "start_time": "2022-12-07T09:37:03.001Z"
   },
   {
    "duration": 67,
    "start_time": "2022-12-07T09:37:03.046Z"
   },
   {
    "duration": 31,
    "start_time": "2022-12-07T09:37:03.123Z"
   },
   {
    "duration": 10,
    "start_time": "2022-12-07T09:37:03.156Z"
   },
   {
    "duration": 58,
    "start_time": "2022-12-07T09:37:03.168Z"
   },
   {
    "duration": 2,
    "start_time": "2022-12-07T09:37:03.228Z"
   },
   {
    "duration": 1681,
    "start_time": "2022-12-07T09:37:03.232Z"
   },
   {
    "duration": 114010,
    "start_time": "2022-12-07T09:37:04.915Z"
   },
   {
    "duration": 4,
    "start_time": "2022-12-07T09:38:58.927Z"
   },
   {
    "duration": 115,
    "start_time": "2022-12-07T09:38:59.021Z"
   },
   {
    "duration": 0,
    "start_time": "2022-12-07T09:38:59.137Z"
   },
   {
    "duration": 0,
    "start_time": "2022-12-07T09:38:59.139Z"
   },
   {
    "duration": 0,
    "start_time": "2022-12-07T09:38:59.140Z"
   },
   {
    "duration": 0,
    "start_time": "2022-12-07T09:38:59.142Z"
   },
   {
    "duration": 0,
    "start_time": "2022-12-07T09:38:59.143Z"
   },
   {
    "duration": 0,
    "start_time": "2022-12-07T09:38:59.144Z"
   },
   {
    "duration": 0,
    "start_time": "2022-12-07T09:38:59.146Z"
   },
   {
    "duration": 11,
    "start_time": "2022-12-07T09:39:48.714Z"
   },
   {
    "duration": 12,
    "start_time": "2022-12-07T09:40:16.590Z"
   },
   {
    "duration": 1397,
    "start_time": "2022-12-07T09:40:22.037Z"
   },
   {
    "duration": 888,
    "start_time": "2022-12-07T09:40:23.435Z"
   },
   {
    "duration": 15,
    "start_time": "2022-12-07T09:40:24.325Z"
   },
   {
    "duration": 106,
    "start_time": "2022-12-07T09:40:24.342Z"
   },
   {
    "duration": 268,
    "start_time": "2022-12-07T09:40:24.451Z"
   },
   {
    "duration": 6,
    "start_time": "2022-12-07T09:40:24.721Z"
   },
   {
    "duration": 28,
    "start_time": "2022-12-07T09:40:24.728Z"
   },
   {
    "duration": 92,
    "start_time": "2022-12-07T09:40:24.758Z"
   },
   {
    "duration": 29,
    "start_time": "2022-12-07T09:40:24.852Z"
   },
   {
    "duration": 52,
    "start_time": "2022-12-07T09:40:24.882Z"
   },
   {
    "duration": 87,
    "start_time": "2022-12-07T09:40:24.936Z"
   },
   {
    "duration": 4,
    "start_time": "2022-12-07T09:40:25.025Z"
   },
   {
    "duration": 142,
    "start_time": "2022-12-07T09:40:25.030Z"
   },
   {
    "duration": 64,
    "start_time": "2022-12-07T09:40:25.176Z"
   },
   {
    "duration": 3010,
    "start_time": "2022-12-07T09:40:25.242Z"
   },
   {
    "duration": 67,
    "start_time": "2022-12-07T09:40:28.254Z"
   },
   {
    "duration": 128,
    "start_time": "2022-12-07T09:40:28.322Z"
   },
   {
    "duration": 22,
    "start_time": "2022-12-07T09:40:28.451Z"
   },
   {
    "duration": 54,
    "start_time": "2022-12-07T09:40:28.474Z"
   },
   {
    "duration": 240,
    "start_time": "2022-12-07T09:40:28.529Z"
   },
   {
    "duration": 171,
    "start_time": "2022-12-07T09:40:28.771Z"
   },
   {
    "duration": 69,
    "start_time": "2022-12-07T09:40:28.944Z"
   },
   {
    "duration": 158,
    "start_time": "2022-12-07T09:40:29.021Z"
   },
   {
    "duration": 2,
    "start_time": "2022-12-07T09:40:29.181Z"
   },
   {
    "duration": 6,
    "start_time": "2022-12-07T09:40:29.184Z"
   },
   {
    "duration": 41,
    "start_time": "2022-12-07T09:40:29.192Z"
   },
   {
    "duration": 59,
    "start_time": "2022-12-07T09:40:29.235Z"
   },
   {
    "duration": 29,
    "start_time": "2022-12-07T09:40:29.295Z"
   },
   {
    "duration": 10,
    "start_time": "2022-12-07T09:40:29.326Z"
   },
   {
    "duration": 18,
    "start_time": "2022-12-07T09:40:29.337Z"
   },
   {
    "duration": 11,
    "start_time": "2022-12-07T09:40:29.357Z"
   },
   {
    "duration": 1639,
    "start_time": "2022-12-07T09:40:29.369Z"
   },
   {
    "duration": 108310,
    "start_time": "2022-12-07T09:40:31.010Z"
   },
   {
    "duration": 3,
    "start_time": "2022-12-07T09:42:19.322Z"
   },
   {
    "duration": 132,
    "start_time": "2022-12-07T09:42:19.326Z"
   },
   {
    "duration": 0,
    "start_time": "2022-12-07T09:42:19.459Z"
   },
   {
    "duration": 0,
    "start_time": "2022-12-07T09:42:19.461Z"
   },
   {
    "duration": 0,
    "start_time": "2022-12-07T09:42:19.461Z"
   },
   {
    "duration": 0,
    "start_time": "2022-12-07T09:42:19.463Z"
   },
   {
    "duration": 0,
    "start_time": "2022-12-07T09:42:19.465Z"
   },
   {
    "duration": 0,
    "start_time": "2022-12-07T09:42:19.466Z"
   },
   {
    "duration": 0,
    "start_time": "2022-12-07T09:42:19.467Z"
   },
   {
    "duration": 41287,
    "start_time": "2022-12-07T09:44:33.147Z"
   },
   {
    "duration": 39264,
    "start_time": "2022-12-07T10:06:53.364Z"
   },
   {
    "duration": 44534,
    "start_time": "2022-12-07T10:07:40.687Z"
   },
   {
    "duration": 145456,
    "start_time": "2022-12-07T10:21:37.988Z"
   },
   {
    "duration": 0,
    "start_time": "2022-12-07T10:24:03.446Z"
   },
   {
    "duration": 1710,
    "start_time": "2022-12-07T14:02:17.813Z"
   },
   {
    "duration": 3088,
    "start_time": "2022-12-07T14:02:19.531Z"
   },
   {
    "duration": 19,
    "start_time": "2022-12-07T14:02:22.620Z"
   },
   {
    "duration": 100,
    "start_time": "2022-12-07T14:02:22.642Z"
   },
   {
    "duration": 281,
    "start_time": "2022-12-07T14:02:22.744Z"
   },
   {
    "duration": 7,
    "start_time": "2022-12-07T14:02:23.026Z"
   },
   {
    "duration": 27,
    "start_time": "2022-12-07T14:02:23.034Z"
   },
   {
    "duration": 85,
    "start_time": "2022-12-07T14:02:23.063Z"
   },
   {
    "duration": 27,
    "start_time": "2022-12-07T14:02:23.149Z"
   },
   {
    "duration": 39,
    "start_time": "2022-12-07T14:02:23.179Z"
   },
   {
    "duration": 51,
    "start_time": "2022-12-07T14:02:23.227Z"
   },
   {
    "duration": 3,
    "start_time": "2022-12-07T14:02:23.280Z"
   },
   {
    "duration": 157,
    "start_time": "2022-12-07T14:02:23.285Z"
   },
   {
    "duration": 53,
    "start_time": "2022-12-07T14:02:23.444Z"
   },
   {
    "duration": 3138,
    "start_time": "2022-12-07T14:02:23.499Z"
   },
   {
    "duration": 63,
    "start_time": "2022-12-07T14:02:26.639Z"
   },
   {
    "duration": 214,
    "start_time": "2022-12-07T14:02:26.714Z"
   },
   {
    "duration": 26,
    "start_time": "2022-12-07T14:02:26.933Z"
   },
   {
    "duration": 43,
    "start_time": "2022-12-07T14:02:26.960Z"
   },
   {
    "duration": 156,
    "start_time": "2022-12-07T14:02:27.013Z"
   },
   {
    "duration": 167,
    "start_time": "2022-12-07T14:02:27.171Z"
   },
   {
    "duration": 78,
    "start_time": "2022-12-07T14:02:27.340Z"
   },
   {
    "duration": 126,
    "start_time": "2022-12-07T14:02:27.424Z"
   },
   {
    "duration": 2,
    "start_time": "2022-12-07T14:02:27.552Z"
   },
   {
    "duration": 11,
    "start_time": "2022-12-07T14:02:27.556Z"
   },
   {
    "duration": 35,
    "start_time": "2022-12-07T14:02:27.569Z"
   },
   {
    "duration": 68,
    "start_time": "2022-12-07T14:02:27.606Z"
   },
   {
    "duration": 19,
    "start_time": "2022-12-07T14:02:27.677Z"
   },
   {
    "duration": 11,
    "start_time": "2022-12-07T14:02:27.713Z"
   },
   {
    "duration": 35,
    "start_time": "2022-12-07T14:02:27.727Z"
   },
   {
    "duration": 13,
    "start_time": "2022-12-07T14:02:27.764Z"
   },
   {
    "duration": 1651,
    "start_time": "2022-12-07T14:02:27.778Z"
   },
   {
    "duration": 195982,
    "start_time": "2022-12-07T14:02:29.432Z"
   },
   {
    "duration": 5,
    "start_time": "2022-12-07T14:05:45.418Z"
   },
   {
    "duration": 383259,
    "start_time": "2022-12-07T14:05:45.426Z"
   },
   {
    "duration": 0,
    "start_time": "2022-12-07T14:12:08.688Z"
   },
   {
    "duration": 0,
    "start_time": "2022-12-07T14:12:08.688Z"
   },
   {
    "duration": 0,
    "start_time": "2022-12-07T14:12:08.690Z"
   },
   {
    "duration": 0,
    "start_time": "2022-12-07T14:12:08.692Z"
   },
   {
    "duration": 0,
    "start_time": "2022-12-07T14:12:08.693Z"
   },
   {
    "duration": 0,
    "start_time": "2022-12-07T14:12:08.695Z"
   },
   {
    "duration": 0,
    "start_time": "2022-12-07T14:12:08.716Z"
   },
   {
    "duration": 0,
    "start_time": "2022-12-07T14:33:17.930Z"
   },
   {
    "duration": 0,
    "start_time": "2022-12-07T14:33:17.932Z"
   },
   {
    "duration": 76322,
    "start_time": "2022-12-07T14:34:17.308Z"
   },
   {
    "duration": 0,
    "start_time": "2022-12-07T14:35:33.631Z"
   },
   {
    "duration": 49,
    "start_time": "2022-12-08T12:34:32.355Z"
   },
   {
    "duration": 7,
    "start_time": "2022-12-08T12:35:38.832Z"
   },
   {
    "duration": 1777,
    "start_time": "2022-12-08T12:35:42.756Z"
   },
   {
    "duration": 3087,
    "start_time": "2022-12-08T12:35:44.535Z"
   },
   {
    "duration": 16,
    "start_time": "2022-12-08T12:35:47.624Z"
   },
   {
    "duration": 157,
    "start_time": "2022-12-08T12:35:47.642Z"
   },
   {
    "duration": 324,
    "start_time": "2022-12-08T12:35:47.801Z"
   },
   {
    "duration": 7,
    "start_time": "2022-12-08T12:35:48.127Z"
   },
   {
    "duration": 36,
    "start_time": "2022-12-08T12:35:48.137Z"
   },
   {
    "duration": 101,
    "start_time": "2022-12-08T12:35:48.174Z"
   },
   {
    "duration": 44,
    "start_time": "2022-12-08T12:35:48.277Z"
   },
   {
    "duration": 31,
    "start_time": "2022-12-08T12:35:48.325Z"
   },
   {
    "duration": 71,
    "start_time": "2022-12-08T12:35:48.358Z"
   },
   {
    "duration": 5,
    "start_time": "2022-12-08T12:35:48.431Z"
   },
   {
    "duration": 150,
    "start_time": "2022-12-08T12:35:48.437Z"
   },
   {
    "duration": 66,
    "start_time": "2022-12-08T12:35:48.589Z"
   },
   {
    "duration": 3397,
    "start_time": "2022-12-08T12:35:48.657Z"
   },
   {
    "duration": 74,
    "start_time": "2022-12-08T12:35:52.056Z"
   },
   {
    "duration": 241,
    "start_time": "2022-12-08T12:35:52.133Z"
   },
   {
    "duration": 25,
    "start_time": "2022-12-08T12:35:52.376Z"
   },
   {
    "duration": 44,
    "start_time": "2022-12-08T12:35:52.413Z"
   },
   {
    "duration": 179,
    "start_time": "2022-12-08T12:35:52.459Z"
   },
   {
    "duration": 169,
    "start_time": "2022-12-08T12:35:52.639Z"
   },
   {
    "duration": 59,
    "start_time": "2022-12-08T12:35:52.809Z"
   },
   {
    "duration": 136,
    "start_time": "2022-12-08T12:35:52.869Z"
   },
   {
    "duration": 3,
    "start_time": "2022-12-08T12:35:53.013Z"
   },
   {
    "duration": 6,
    "start_time": "2022-12-08T12:35:53.017Z"
   },
   {
    "duration": 35,
    "start_time": "2022-12-08T12:35:53.025Z"
   },
   {
    "duration": 82,
    "start_time": "2022-12-08T12:35:53.061Z"
   },
   {
    "duration": 21,
    "start_time": "2022-12-08T12:35:53.146Z"
   },
   {
    "duration": 8,
    "start_time": "2022-12-08T12:35:53.169Z"
   },
   {
    "duration": 36,
    "start_time": "2022-12-08T12:35:53.179Z"
   },
   {
    "duration": 4,
    "start_time": "2022-12-08T12:35:53.217Z"
   },
   {
    "duration": 1574,
    "start_time": "2022-12-08T12:35:53.223Z"
   },
   {
    "duration": 0,
    "start_time": "2022-12-08T12:35:54.799Z"
   },
   {
    "duration": 0,
    "start_time": "2022-12-08T12:35:54.800Z"
   },
   {
    "duration": 0,
    "start_time": "2022-12-08T12:35:54.802Z"
   },
   {
    "duration": 0,
    "start_time": "2022-12-08T12:35:54.803Z"
   },
   {
    "duration": 0,
    "start_time": "2022-12-08T12:35:54.812Z"
   },
   {
    "duration": 0,
    "start_time": "2022-12-08T12:35:54.814Z"
   },
   {
    "duration": 0,
    "start_time": "2022-12-08T12:35:54.815Z"
   },
   {
    "duration": 0,
    "start_time": "2022-12-08T12:35:54.816Z"
   },
   {
    "duration": 0,
    "start_time": "2022-12-08T12:35:54.817Z"
   },
   {
    "duration": 0,
    "start_time": "2022-12-08T12:35:54.818Z"
   },
   {
    "duration": 1466,
    "start_time": "2022-12-08T12:37:03.070Z"
   },
   {
    "duration": 1036,
    "start_time": "2022-12-08T12:37:04.538Z"
   },
   {
    "duration": 17,
    "start_time": "2022-12-08T12:37:05.576Z"
   },
   {
    "duration": 171,
    "start_time": "2022-12-08T12:37:05.595Z"
   },
   {
    "duration": 286,
    "start_time": "2022-12-08T12:37:05.768Z"
   },
   {
    "duration": 5,
    "start_time": "2022-12-08T12:37:06.056Z"
   },
   {
    "duration": 32,
    "start_time": "2022-12-08T12:37:06.063Z"
   },
   {
    "duration": 130,
    "start_time": "2022-12-08T12:37:06.096Z"
   },
   {
    "duration": 37,
    "start_time": "2022-12-08T12:37:06.227Z"
   },
   {
    "duration": 50,
    "start_time": "2022-12-08T12:37:06.266Z"
   },
   {
    "duration": 61,
    "start_time": "2022-12-08T12:37:06.318Z"
   },
   {
    "duration": 4,
    "start_time": "2022-12-08T12:37:06.381Z"
   },
   {
    "duration": 163,
    "start_time": "2022-12-08T12:37:06.386Z"
   },
   {
    "duration": 62,
    "start_time": "2022-12-08T12:37:06.551Z"
   },
   {
    "duration": 3053,
    "start_time": "2022-12-08T12:37:06.615Z"
   },
   {
    "duration": 78,
    "start_time": "2022-12-08T12:37:09.671Z"
   },
   {
    "duration": 270,
    "start_time": "2022-12-08T12:37:09.750Z"
   },
   {
    "duration": 24,
    "start_time": "2022-12-08T12:37:10.021Z"
   },
   {
    "duration": 44,
    "start_time": "2022-12-08T12:37:10.047Z"
   },
   {
    "duration": 182,
    "start_time": "2022-12-08T12:37:10.093Z"
   },
   {
    "duration": 277,
    "start_time": "2022-12-08T12:37:10.278Z"
   },
   {
    "duration": 106,
    "start_time": "2022-12-08T12:37:10.557Z"
   },
   {
    "duration": 248,
    "start_time": "2022-12-08T12:37:10.665Z"
   },
   {
    "duration": 2,
    "start_time": "2022-12-08T12:37:10.915Z"
   },
   {
    "duration": 22,
    "start_time": "2022-12-08T12:37:10.918Z"
   },
   {
    "duration": 57,
    "start_time": "2022-12-08T12:37:10.942Z"
   },
   {
    "duration": 67,
    "start_time": "2022-12-08T12:37:11.000Z"
   },
   {
    "duration": 19,
    "start_time": "2022-12-08T12:37:11.070Z"
   },
   {
    "duration": 15,
    "start_time": "2022-12-08T12:37:11.090Z"
   },
   {
    "duration": 30,
    "start_time": "2022-12-08T12:37:11.107Z"
   },
   {
    "duration": 3,
    "start_time": "2022-12-08T12:37:11.139Z"
   },
   {
    "duration": 1484,
    "start_time": "2022-12-08T12:37:11.143Z"
   },
   {
    "duration": 0,
    "start_time": "2022-12-08T12:37:12.629Z"
   },
   {
    "duration": 0,
    "start_time": "2022-12-08T12:37:12.630Z"
   },
   {
    "duration": 0,
    "start_time": "2022-12-08T12:37:12.631Z"
   },
   {
    "duration": 0,
    "start_time": "2022-12-08T12:37:12.632Z"
   },
   {
    "duration": 0,
    "start_time": "2022-12-08T12:37:12.633Z"
   },
   {
    "duration": 0,
    "start_time": "2022-12-08T12:37:12.634Z"
   },
   {
    "duration": 0,
    "start_time": "2022-12-08T12:37:12.635Z"
   },
   {
    "duration": 0,
    "start_time": "2022-12-08T12:37:12.636Z"
   },
   {
    "duration": 0,
    "start_time": "2022-12-08T12:37:12.637Z"
   },
   {
    "duration": 0,
    "start_time": "2022-12-08T12:37:12.638Z"
   },
   {
    "duration": 12,
    "start_time": "2022-12-08T13:00:09.555Z"
   },
   {
    "duration": 11,
    "start_time": "2022-12-08T13:01:36.125Z"
   },
   {
    "duration": 1505,
    "start_time": "2022-12-08T13:01:44.178Z"
   },
   {
    "duration": 960,
    "start_time": "2022-12-08T13:01:45.685Z"
   },
   {
    "duration": 17,
    "start_time": "2022-12-08T13:01:46.647Z"
   },
   {
    "duration": 118,
    "start_time": "2022-12-08T13:01:46.666Z"
   },
   {
    "duration": 289,
    "start_time": "2022-12-08T13:01:46.788Z"
   },
   {
    "duration": 7,
    "start_time": "2022-12-08T13:01:47.079Z"
   },
   {
    "duration": 44,
    "start_time": "2022-12-08T13:01:47.088Z"
   },
   {
    "duration": 80,
    "start_time": "2022-12-08T13:01:47.134Z"
   },
   {
    "duration": 30,
    "start_time": "2022-12-08T13:01:47.216Z"
   },
   {
    "duration": 24,
    "start_time": "2022-12-08T13:01:47.248Z"
   },
   {
    "duration": 61,
    "start_time": "2022-12-08T13:01:47.273Z"
   },
   {
    "duration": 3,
    "start_time": "2022-12-08T13:01:47.336Z"
   },
   {
    "duration": 158,
    "start_time": "2022-12-08T13:01:47.341Z"
   },
   {
    "duration": 64,
    "start_time": "2022-12-08T13:01:47.502Z"
   },
   {
    "duration": 3193,
    "start_time": "2022-12-08T13:01:47.568Z"
   },
   {
    "duration": 68,
    "start_time": "2022-12-08T13:01:50.762Z"
   },
   {
    "duration": 151,
    "start_time": "2022-12-08T13:01:50.832Z"
   },
   {
    "duration": 33,
    "start_time": "2022-12-08T13:01:50.984Z"
   },
   {
    "duration": 96,
    "start_time": "2022-12-08T13:01:51.019Z"
   },
   {
    "duration": 309,
    "start_time": "2022-12-08T13:01:51.117Z"
   },
   {
    "duration": 164,
    "start_time": "2022-12-08T13:01:51.428Z"
   },
   {
    "duration": 64,
    "start_time": "2022-12-08T13:01:51.594Z"
   },
   {
    "duration": 131,
    "start_time": "2022-12-08T13:01:51.660Z"
   },
   {
    "duration": 3,
    "start_time": "2022-12-08T13:01:51.793Z"
   },
   {
    "duration": 16,
    "start_time": "2022-12-08T13:01:51.798Z"
   },
   {
    "duration": 38,
    "start_time": "2022-12-08T13:01:51.817Z"
   },
   {
    "duration": 80,
    "start_time": "2022-12-08T13:01:51.858Z"
   },
   {
    "duration": 19,
    "start_time": "2022-12-08T13:01:51.940Z"
   },
   {
    "duration": 7,
    "start_time": "2022-12-08T13:01:51.961Z"
   },
   {
    "duration": 23,
    "start_time": "2022-12-08T13:01:51.969Z"
   },
   {
    "duration": 21,
    "start_time": "2022-12-08T13:01:51.993Z"
   },
   {
    "duration": 1684,
    "start_time": "2022-12-08T13:01:52.016Z"
   },
   {
    "duration": 112525,
    "start_time": "2022-12-08T13:01:53.702Z"
   },
   {
    "duration": 4,
    "start_time": "2022-12-08T13:03:46.314Z"
   },
   {
    "duration": 201,
    "start_time": "2022-12-08T13:03:46.320Z"
   },
   {
    "duration": 0,
    "start_time": "2022-12-08T13:03:46.523Z"
   },
   {
    "duration": 0,
    "start_time": "2022-12-08T13:03:46.525Z"
   },
   {
    "duration": 0,
    "start_time": "2022-12-08T13:03:46.526Z"
   },
   {
    "duration": 0,
    "start_time": "2022-12-08T13:03:46.527Z"
   },
   {
    "duration": 0,
    "start_time": "2022-12-08T13:03:46.529Z"
   },
   {
    "duration": 0,
    "start_time": "2022-12-08T13:03:46.530Z"
   },
   {
    "duration": 0,
    "start_time": "2022-12-08T13:03:46.531Z"
   },
   {
    "duration": 0,
    "start_time": "2022-12-08T13:03:46.532Z"
   },
   {
    "duration": 107,
    "start_time": "2022-12-08T13:06:38.703Z"
   },
   {
    "duration": 13,
    "start_time": "2022-12-08T13:06:46.153Z"
   },
   {
    "duration": 13,
    "start_time": "2022-12-08T13:06:56.020Z"
   },
   {
    "duration": 12,
    "start_time": "2022-12-08T13:16:03.262Z"
   },
   {
    "duration": 12,
    "start_time": "2022-12-08T13:16:20.164Z"
   },
   {
    "duration": 12,
    "start_time": "2022-12-08T13:20:05.154Z"
   },
   {
    "duration": 15,
    "start_time": "2022-12-08T13:21:57.520Z"
   },
   {
    "duration": 1594,
    "start_time": "2022-12-08T13:22:01.901Z"
   },
   {
    "duration": 1032,
    "start_time": "2022-12-08T13:22:03.497Z"
   },
   {
    "duration": 20,
    "start_time": "2022-12-08T13:22:04.531Z"
   },
   {
    "duration": 134,
    "start_time": "2022-12-08T13:22:04.554Z"
   },
   {
    "duration": 308,
    "start_time": "2022-12-08T13:22:04.691Z"
   },
   {
    "duration": 13,
    "start_time": "2022-12-08T13:22:05.001Z"
   },
   {
    "duration": 47,
    "start_time": "2022-12-08T13:22:05.016Z"
   },
   {
    "duration": 102,
    "start_time": "2022-12-08T13:22:05.065Z"
   },
   {
    "duration": 58,
    "start_time": "2022-12-08T13:22:05.170Z"
   },
   {
    "duration": 65,
    "start_time": "2022-12-08T13:22:05.232Z"
   },
   {
    "duration": 46,
    "start_time": "2022-12-08T13:22:05.300Z"
   },
   {
    "duration": 33,
    "start_time": "2022-12-08T13:22:05.348Z"
   },
   {
    "duration": 174,
    "start_time": "2022-12-08T13:22:05.384Z"
   },
   {
    "duration": 67,
    "start_time": "2022-12-08T13:22:05.559Z"
   },
   {
    "duration": 3322,
    "start_time": "2022-12-08T13:22:05.628Z"
   },
   {
    "duration": 85,
    "start_time": "2022-12-08T13:22:08.952Z"
   },
   {
    "duration": 265,
    "start_time": "2022-12-08T13:22:09.039Z"
   },
   {
    "duration": 23,
    "start_time": "2022-12-08T13:22:09.313Z"
   },
   {
    "duration": 59,
    "start_time": "2022-12-08T13:22:09.338Z"
   },
   {
    "duration": 183,
    "start_time": "2022-12-08T13:22:09.399Z"
   },
   {
    "duration": 178,
    "start_time": "2022-12-08T13:22:09.584Z"
   },
   {
    "duration": 62,
    "start_time": "2022-12-08T13:22:09.764Z"
   },
   {
    "duration": 162,
    "start_time": "2022-12-08T13:22:09.828Z"
   },
   {
    "duration": 3,
    "start_time": "2022-12-08T13:22:09.992Z"
   },
   {
    "duration": 62,
    "start_time": "2022-12-08T13:22:09.998Z"
   },
   {
    "duration": 101,
    "start_time": "2022-12-08T13:22:10.063Z"
   },
   {
    "duration": 117,
    "start_time": "2022-12-08T13:22:10.167Z"
   },
   {
    "duration": 30,
    "start_time": "2022-12-08T13:22:10.288Z"
   },
   {
    "duration": 57,
    "start_time": "2022-12-08T13:22:10.321Z"
   },
   {
    "duration": 63,
    "start_time": "2022-12-08T13:22:10.380Z"
   },
   {
    "duration": 85,
    "start_time": "2022-12-08T13:22:10.446Z"
   },
   {
    "duration": 1735,
    "start_time": "2022-12-08T13:22:10.534Z"
   },
   {
    "duration": 123143,
    "start_time": "2022-12-08T13:22:12.271Z"
   },
   {
    "duration": 4,
    "start_time": "2022-12-08T13:24:15.416Z"
   },
   {
    "duration": 125,
    "start_time": "2022-12-08T13:24:15.425Z"
   },
   {
    "duration": 0,
    "start_time": "2022-12-08T13:24:15.552Z"
   },
   {
    "duration": 0,
    "start_time": "2022-12-08T13:24:15.553Z"
   },
   {
    "duration": 0,
    "start_time": "2022-12-08T13:24:15.554Z"
   },
   {
    "duration": 0,
    "start_time": "2022-12-08T13:24:15.555Z"
   },
   {
    "duration": 0,
    "start_time": "2022-12-08T13:24:15.557Z"
   },
   {
    "duration": 0,
    "start_time": "2022-12-08T13:24:15.558Z"
   },
   {
    "duration": 0,
    "start_time": "2022-12-08T13:24:15.559Z"
   },
   {
    "duration": 18,
    "start_time": "2022-12-08T13:24:24.154Z"
   },
   {
    "duration": 19,
    "start_time": "2022-12-08T13:24:33.500Z"
   },
   {
    "duration": 19,
    "start_time": "2022-12-08T13:24:38.750Z"
   },
   {
    "duration": 4,
    "start_time": "2022-12-08T13:27:33.570Z"
   },
   {
    "duration": 16,
    "start_time": "2022-12-08T13:27:51.957Z"
   },
   {
    "duration": 1630,
    "start_time": "2022-12-08T13:46:22.682Z"
   },
   {
    "duration": 1116,
    "start_time": "2022-12-08T13:46:24.314Z"
   },
   {
    "duration": 25,
    "start_time": "2022-12-08T13:46:25.432Z"
   },
   {
    "duration": 132,
    "start_time": "2022-12-08T13:46:25.460Z"
   },
   {
    "duration": 319,
    "start_time": "2022-12-08T13:46:25.594Z"
   },
   {
    "duration": 6,
    "start_time": "2022-12-08T13:46:25.916Z"
   },
   {
    "duration": 45,
    "start_time": "2022-12-08T13:46:25.925Z"
   },
   {
    "duration": 97,
    "start_time": "2022-12-08T13:46:25.972Z"
   },
   {
    "duration": 44,
    "start_time": "2022-12-08T13:46:26.070Z"
   },
   {
    "duration": 29,
    "start_time": "2022-12-08T13:46:26.116Z"
   },
   {
    "duration": 46,
    "start_time": "2022-12-08T13:46:26.148Z"
   },
   {
    "duration": 22,
    "start_time": "2022-12-08T13:46:26.195Z"
   },
   {
    "duration": 217,
    "start_time": "2022-12-08T13:46:26.219Z"
   },
   {
    "duration": 60,
    "start_time": "2022-12-08T13:46:26.441Z"
   },
   {
    "duration": 3343,
    "start_time": "2022-12-08T13:46:26.503Z"
   },
   {
    "duration": 101,
    "start_time": "2022-12-08T13:46:29.848Z"
   },
   {
    "duration": 164,
    "start_time": "2022-12-08T13:46:29.951Z"
   },
   {
    "duration": 25,
    "start_time": "2022-12-08T13:46:30.116Z"
   },
   {
    "duration": 74,
    "start_time": "2022-12-08T13:46:30.143Z"
   },
   {
    "duration": 348,
    "start_time": "2022-12-08T13:46:30.219Z"
   },
   {
    "duration": 208,
    "start_time": "2022-12-08T13:46:30.569Z"
   },
   {
    "duration": 69,
    "start_time": "2022-12-08T13:46:30.779Z"
   },
   {
    "duration": 151,
    "start_time": "2022-12-08T13:46:30.850Z"
   },
   {
    "duration": 10,
    "start_time": "2022-12-08T13:46:31.003Z"
   },
   {
    "duration": 12,
    "start_time": "2022-12-08T13:46:31.015Z"
   },
   {
    "duration": 77,
    "start_time": "2022-12-08T13:46:31.030Z"
   },
   {
    "duration": 72,
    "start_time": "2022-12-08T13:46:31.109Z"
   },
   {
    "duration": 34,
    "start_time": "2022-12-08T13:46:31.183Z"
   },
   {
    "duration": 15,
    "start_time": "2022-12-08T13:46:31.219Z"
   },
   {
    "duration": 38,
    "start_time": "2022-12-08T13:46:31.236Z"
   },
   {
    "duration": 18,
    "start_time": "2022-12-08T13:46:31.275Z"
   },
   {
    "duration": 1597,
    "start_time": "2022-12-08T13:46:31.295Z"
   },
   {
    "duration": 0,
    "start_time": "2022-12-08T13:46:32.894Z"
   },
   {
    "duration": 0,
    "start_time": "2022-12-08T13:46:32.895Z"
   },
   {
    "duration": 0,
    "start_time": "2022-12-08T13:46:32.896Z"
   },
   {
    "duration": 0,
    "start_time": "2022-12-08T13:46:32.897Z"
   },
   {
    "duration": 0,
    "start_time": "2022-12-08T13:46:32.898Z"
   },
   {
    "duration": 0,
    "start_time": "2022-12-08T13:46:32.899Z"
   },
   {
    "duration": 0,
    "start_time": "2022-12-08T13:46:32.900Z"
   },
   {
    "duration": 0,
    "start_time": "2022-12-08T13:46:32.913Z"
   },
   {
    "duration": 0,
    "start_time": "2022-12-08T13:46:32.914Z"
   },
   {
    "duration": 0,
    "start_time": "2022-12-08T13:46:32.916Z"
   },
   {
    "duration": 0,
    "start_time": "2022-12-08T13:46:32.917Z"
   },
   {
    "duration": 0,
    "start_time": "2022-12-08T13:46:32.918Z"
   },
   {
    "duration": 1510,
    "start_time": "2022-12-08T13:48:30.272Z"
   },
   {
    "duration": 999,
    "start_time": "2022-12-08T13:48:31.784Z"
   },
   {
    "duration": 17,
    "start_time": "2022-12-08T13:48:32.785Z"
   },
   {
    "duration": 189,
    "start_time": "2022-12-08T13:48:32.814Z"
   },
   {
    "duration": 339,
    "start_time": "2022-12-08T13:48:33.005Z"
   },
   {
    "duration": 6,
    "start_time": "2022-12-08T13:48:33.346Z"
   },
   {
    "duration": 46,
    "start_time": "2022-12-08T13:48:33.354Z"
   },
   {
    "duration": 78,
    "start_time": "2022-12-08T13:48:33.402Z"
   },
   {
    "duration": 49,
    "start_time": "2022-12-08T13:48:33.481Z"
   },
   {
    "duration": 24,
    "start_time": "2022-12-08T13:48:33.533Z"
   },
   {
    "duration": 47,
    "start_time": "2022-12-08T13:48:33.559Z"
   },
   {
    "duration": 23,
    "start_time": "2022-12-08T13:48:33.612Z"
   },
   {
    "duration": 152,
    "start_time": "2022-12-08T13:48:33.637Z"
   },
   {
    "duration": 64,
    "start_time": "2022-12-08T13:48:33.791Z"
   },
   {
    "duration": 3341,
    "start_time": "2022-12-08T13:48:33.857Z"
   },
   {
    "duration": 82,
    "start_time": "2022-12-08T13:48:37.200Z"
   },
   {
    "duration": 248,
    "start_time": "2022-12-08T13:48:37.283Z"
   },
   {
    "duration": 24,
    "start_time": "2022-12-08T13:48:37.533Z"
   },
   {
    "duration": 66,
    "start_time": "2022-12-08T13:48:37.559Z"
   },
   {
    "duration": 162,
    "start_time": "2022-12-08T13:48:37.626Z"
   },
   {
    "duration": 183,
    "start_time": "2022-12-08T13:48:37.790Z"
   },
   {
    "duration": 67,
    "start_time": "2022-12-08T13:48:37.975Z"
   },
   {
    "duration": 138,
    "start_time": "2022-12-08T13:48:38.043Z"
   },
   {
    "duration": 2,
    "start_time": "2022-12-08T13:48:38.183Z"
   },
   {
    "duration": 8,
    "start_time": "2022-12-08T13:48:38.187Z"
   },
   {
    "duration": 46,
    "start_time": "2022-12-08T13:48:38.197Z"
   },
   {
    "duration": 87,
    "start_time": "2022-12-08T13:48:38.245Z"
   },
   {
    "duration": 23,
    "start_time": "2022-12-08T13:48:38.336Z"
   },
   {
    "duration": 5,
    "start_time": "2022-12-08T13:48:38.361Z"
   },
   {
    "duration": 26,
    "start_time": "2022-12-08T13:48:38.368Z"
   },
   {
    "duration": 16,
    "start_time": "2022-12-08T13:48:38.413Z"
   },
   {
    "duration": 1753,
    "start_time": "2022-12-08T13:48:38.431Z"
   },
   {
    "duration": 151942,
    "start_time": "2022-12-08T13:48:40.186Z"
   },
   {
    "duration": 79,
    "start_time": "2022-12-08T13:51:12.136Z"
   },
   {
    "duration": 1554,
    "start_time": "2022-12-08T14:02:03.240Z"
   },
   {
    "duration": 996,
    "start_time": "2022-12-08T14:02:04.797Z"
   },
   {
    "duration": 26,
    "start_time": "2022-12-08T14:02:05.798Z"
   },
   {
    "duration": 167,
    "start_time": "2022-12-08T14:02:05.825Z"
   },
   {
    "duration": 299,
    "start_time": "2022-12-08T14:02:05.995Z"
   },
   {
    "duration": 7,
    "start_time": "2022-12-08T14:02:06.295Z"
   },
   {
    "duration": 41,
    "start_time": "2022-12-08T14:02:06.303Z"
   },
   {
    "duration": 80,
    "start_time": "2022-12-08T14:02:06.346Z"
   },
   {
    "duration": 29,
    "start_time": "2022-12-08T14:02:06.429Z"
   },
   {
    "duration": 32,
    "start_time": "2022-12-08T14:02:06.460Z"
   },
   {
    "duration": 59,
    "start_time": "2022-12-08T14:02:06.494Z"
   },
   {
    "duration": 4,
    "start_time": "2022-12-08T14:02:06.555Z"
   },
   {
    "duration": 177,
    "start_time": "2022-12-08T14:02:06.561Z"
   },
   {
    "duration": 61,
    "start_time": "2022-12-08T14:02:06.740Z"
   },
   {
    "duration": 3118,
    "start_time": "2022-12-08T14:02:06.814Z"
   },
   {
    "duration": 79,
    "start_time": "2022-12-08T14:02:09.934Z"
   },
   {
    "duration": 227,
    "start_time": "2022-12-08T14:02:10.015Z"
   },
   {
    "duration": 29,
    "start_time": "2022-12-08T14:02:10.245Z"
   },
   {
    "duration": 70,
    "start_time": "2022-12-08T14:02:10.276Z"
   },
   {
    "duration": 190,
    "start_time": "2022-12-08T14:02:10.351Z"
   },
   {
    "duration": 172,
    "start_time": "2022-12-08T14:02:10.543Z"
   },
   {
    "duration": 59,
    "start_time": "2022-12-08T14:02:10.717Z"
   },
   {
    "duration": 139,
    "start_time": "2022-12-08T14:02:10.777Z"
   },
   {
    "duration": 2,
    "start_time": "2022-12-08T14:02:10.918Z"
   },
   {
    "duration": 6,
    "start_time": "2022-12-08T14:02:10.922Z"
   },
   {
    "duration": 38,
    "start_time": "2022-12-08T14:02:10.930Z"
   },
   {
    "duration": 83,
    "start_time": "2022-12-08T14:02:10.982Z"
   },
   {
    "duration": 21,
    "start_time": "2022-12-08T14:02:11.066Z"
   },
   {
    "duration": 25,
    "start_time": "2022-12-08T14:02:11.089Z"
   },
   {
    "duration": 25,
    "start_time": "2022-12-08T14:02:11.116Z"
   },
   {
    "duration": 6,
    "start_time": "2022-12-08T14:02:11.143Z"
   },
   {
    "duration": 1668,
    "start_time": "2022-12-08T14:02:11.151Z"
   },
   {
    "duration": 123693,
    "start_time": "2022-12-08T14:02:12.821Z"
   },
   {
    "duration": 6,
    "start_time": "2022-12-08T14:04:16.517Z"
   },
   {
    "duration": 214,
    "start_time": "2022-12-08T14:04:16.525Z"
   },
   {
    "duration": 0,
    "start_time": "2022-12-08T14:04:16.741Z"
   },
   {
    "duration": 0,
    "start_time": "2022-12-08T14:04:16.743Z"
   },
   {
    "duration": 0,
    "start_time": "2022-12-08T14:04:16.744Z"
   },
   {
    "duration": 0,
    "start_time": "2022-12-08T14:04:16.746Z"
   },
   {
    "duration": 0,
    "start_time": "2022-12-08T14:04:16.747Z"
   },
   {
    "duration": 0,
    "start_time": "2022-12-08T14:04:16.749Z"
   },
   {
    "duration": 0,
    "start_time": "2022-12-08T14:04:16.750Z"
   },
   {
    "duration": 12,
    "start_time": "2022-12-08T14:07:00.445Z"
   },
   {
    "duration": 11,
    "start_time": "2022-12-08T14:07:06.369Z"
   },
   {
    "duration": 3,
    "start_time": "2022-12-08T14:07:59.798Z"
   },
   {
    "duration": 1636,
    "start_time": "2022-12-08T14:10:29.406Z"
   },
   {
    "duration": 984,
    "start_time": "2022-12-08T14:10:31.044Z"
   },
   {
    "duration": 18,
    "start_time": "2022-12-08T14:10:32.030Z"
   },
   {
    "duration": 114,
    "start_time": "2022-12-08T14:10:32.050Z"
   },
   {
    "duration": 282,
    "start_time": "2022-12-08T14:10:32.165Z"
   },
   {
    "duration": 6,
    "start_time": "2022-12-08T14:10:32.449Z"
   },
   {
    "duration": 33,
    "start_time": "2022-12-08T14:10:32.456Z"
   },
   {
    "duration": 82,
    "start_time": "2022-12-08T14:10:32.490Z"
   },
   {
    "duration": 41,
    "start_time": "2022-12-08T14:10:32.573Z"
   },
   {
    "duration": 24,
    "start_time": "2022-12-08T14:10:32.617Z"
   },
   {
    "duration": 44,
    "start_time": "2022-12-08T14:10:32.642Z"
   },
   {
    "duration": 24,
    "start_time": "2022-12-08T14:10:32.689Z"
   },
   {
    "duration": 149,
    "start_time": "2022-12-08T14:10:32.715Z"
   },
   {
    "duration": 67,
    "start_time": "2022-12-08T14:10:32.866Z"
   },
   {
    "duration": 3368,
    "start_time": "2022-12-08T14:10:32.936Z"
   },
   {
    "duration": 94,
    "start_time": "2022-12-08T14:10:36.307Z"
   },
   {
    "duration": 240,
    "start_time": "2022-12-08T14:10:36.403Z"
   },
   {
    "duration": 24,
    "start_time": "2022-12-08T14:10:36.645Z"
   },
   {
    "duration": 58,
    "start_time": "2022-12-08T14:10:36.671Z"
   },
   {
    "duration": 167,
    "start_time": "2022-12-08T14:10:36.731Z"
   },
   {
    "duration": 196,
    "start_time": "2022-12-08T14:10:36.900Z"
   },
   {
    "duration": 66,
    "start_time": "2022-12-08T14:10:37.098Z"
   },
   {
    "duration": 131,
    "start_time": "2022-12-08T14:10:37.166Z"
   },
   {
    "duration": 2,
    "start_time": "2022-12-08T14:10:37.299Z"
   },
   {
    "duration": 4,
    "start_time": "2022-12-08T14:10:37.312Z"
   },
   {
    "duration": 37,
    "start_time": "2022-12-08T14:10:37.318Z"
   },
   {
    "duration": 89,
    "start_time": "2022-12-08T14:10:37.357Z"
   },
   {
    "duration": 21,
    "start_time": "2022-12-08T14:10:37.451Z"
   },
   {
    "duration": 5,
    "start_time": "2022-12-08T14:10:37.474Z"
   },
   {
    "duration": 38,
    "start_time": "2022-12-08T14:10:37.481Z"
   },
   {
    "duration": 3,
    "start_time": "2022-12-08T14:10:37.520Z"
   },
   {
    "duration": 1726,
    "start_time": "2022-12-08T14:10:37.525Z"
   },
   {
    "duration": 126761,
    "start_time": "2022-12-08T14:10:39.253Z"
   },
   {
    "duration": 85,
    "start_time": "2022-12-08T14:12:46.029Z"
   },
   {
    "duration": 10,
    "start_time": "2022-12-08T14:12:46.116Z"
   },
   {
    "duration": 1489,
    "start_time": "2022-12-08T14:44:15.469Z"
   },
   {
    "duration": 988,
    "start_time": "2022-12-08T14:44:16.960Z"
   },
   {
    "duration": 18,
    "start_time": "2022-12-08T14:44:17.949Z"
   },
   {
    "duration": 119,
    "start_time": "2022-12-08T14:44:17.970Z"
   },
   {
    "duration": 278,
    "start_time": "2022-12-08T14:44:18.091Z"
   },
   {
    "duration": 6,
    "start_time": "2022-12-08T14:44:18.370Z"
   },
   {
    "duration": 45,
    "start_time": "2022-12-08T14:44:18.377Z"
   },
   {
    "duration": 71,
    "start_time": "2022-12-08T14:44:18.424Z"
   },
   {
    "duration": 43,
    "start_time": "2022-12-08T14:44:18.497Z"
   },
   {
    "duration": 33,
    "start_time": "2022-12-08T14:44:18.543Z"
   },
   {
    "duration": 62,
    "start_time": "2022-12-08T14:44:18.578Z"
   },
   {
    "duration": 3,
    "start_time": "2022-12-08T14:44:18.642Z"
   },
   {
    "duration": 159,
    "start_time": "2022-12-08T14:44:18.647Z"
   },
   {
    "duration": 51,
    "start_time": "2022-12-08T14:44:18.807Z"
   },
   {
    "duration": 3342,
    "start_time": "2022-12-08T14:44:18.861Z"
   },
   {
    "duration": 78,
    "start_time": "2022-12-08T14:44:22.205Z"
   },
   {
    "duration": 236,
    "start_time": "2022-12-08T14:44:22.285Z"
   },
   {
    "duration": 28,
    "start_time": "2022-12-08T14:44:22.523Z"
   },
   {
    "duration": 68,
    "start_time": "2022-12-08T14:44:22.553Z"
   },
   {
    "duration": 178,
    "start_time": "2022-12-08T14:44:22.624Z"
   },
   {
    "duration": 180,
    "start_time": "2022-12-08T14:44:22.804Z"
   },
   {
    "duration": 97,
    "start_time": "2022-12-08T14:44:22.986Z"
   },
   {
    "duration": 134,
    "start_time": "2022-12-08T14:44:23.085Z"
   },
   {
    "duration": 2,
    "start_time": "2022-12-08T14:44:23.221Z"
   },
   {
    "duration": 6,
    "start_time": "2022-12-08T14:44:23.225Z"
   },
   {
    "duration": 43,
    "start_time": "2022-12-08T14:44:23.232Z"
   },
   {
    "duration": 79,
    "start_time": "2022-12-08T14:44:23.276Z"
   },
   {
    "duration": 20,
    "start_time": "2022-12-08T14:44:23.359Z"
   },
   {
    "duration": 3,
    "start_time": "2022-12-08T14:44:23.381Z"
   },
   {
    "duration": 43,
    "start_time": "2022-12-08T14:44:23.386Z"
   },
   {
    "duration": 6,
    "start_time": "2022-12-08T14:44:23.431Z"
   },
   {
    "duration": 1546,
    "start_time": "2022-12-08T14:44:23.439Z"
   },
   {
    "duration": 0,
    "start_time": "2022-12-08T14:44:24.988Z"
   },
   {
    "duration": 0,
    "start_time": "2022-12-08T14:44:24.989Z"
   },
   {
    "duration": 0,
    "start_time": "2022-12-08T14:44:24.990Z"
   },
   {
    "duration": 0,
    "start_time": "2022-12-08T14:44:24.992Z"
   },
   {
    "duration": 0,
    "start_time": "2022-12-08T14:44:24.993Z"
   },
   {
    "duration": 0,
    "start_time": "2022-12-08T14:44:24.995Z"
   },
   {
    "duration": 0,
    "start_time": "2022-12-08T14:44:25.012Z"
   },
   {
    "duration": 0,
    "start_time": "2022-12-08T14:44:25.014Z"
   },
   {
    "duration": 1,
    "start_time": "2022-12-08T14:44:25.015Z"
   },
   {
    "duration": 0,
    "start_time": "2022-12-08T14:44:25.017Z"
   },
   {
    "duration": 0,
    "start_time": "2022-12-08T14:44:25.019Z"
   },
   {
    "duration": 1507,
    "start_time": "2022-12-08T14:45:24.289Z"
   },
   {
    "duration": 963,
    "start_time": "2022-12-08T14:45:25.798Z"
   },
   {
    "duration": 17,
    "start_time": "2022-12-08T14:45:26.763Z"
   },
   {
    "duration": 157,
    "start_time": "2022-12-08T14:45:26.782Z"
   },
   {
    "duration": 302,
    "start_time": "2022-12-08T14:45:26.941Z"
   },
   {
    "duration": 6,
    "start_time": "2022-12-08T14:45:27.245Z"
   },
   {
    "duration": 39,
    "start_time": "2022-12-08T14:45:27.252Z"
   },
   {
    "duration": 75,
    "start_time": "2022-12-08T14:45:27.292Z"
   },
   {
    "duration": 45,
    "start_time": "2022-12-08T14:45:27.369Z"
   },
   {
    "duration": 22,
    "start_time": "2022-12-08T14:45:27.417Z"
   },
   {
    "duration": 46,
    "start_time": "2022-12-08T14:45:27.441Z"
   },
   {
    "duration": 24,
    "start_time": "2022-12-08T14:45:27.489Z"
   },
   {
    "duration": 148,
    "start_time": "2022-12-08T14:45:27.515Z"
   },
   {
    "duration": 71,
    "start_time": "2022-12-08T14:45:27.665Z"
   },
   {
    "duration": 3263,
    "start_time": "2022-12-08T14:45:27.738Z"
   },
   {
    "duration": 81,
    "start_time": "2022-12-08T14:45:31.003Z"
   },
   {
    "duration": 231,
    "start_time": "2022-12-08T14:45:31.087Z"
   },
   {
    "duration": 25,
    "start_time": "2022-12-08T14:45:31.320Z"
   },
   {
    "duration": 46,
    "start_time": "2022-12-08T14:45:31.347Z"
   },
   {
    "duration": 162,
    "start_time": "2022-12-08T14:45:31.413Z"
   },
   {
    "duration": 178,
    "start_time": "2022-12-08T14:45:31.576Z"
   },
   {
    "duration": 65,
    "start_time": "2022-12-08T14:45:31.756Z"
   },
   {
    "duration": 129,
    "start_time": "2022-12-08T14:45:31.823Z"
   },
   {
    "duration": 2,
    "start_time": "2022-12-08T14:45:31.954Z"
   },
   {
    "duration": 6,
    "start_time": "2022-12-08T14:45:31.958Z"
   },
   {
    "duration": 48,
    "start_time": "2022-12-08T14:45:31.965Z"
   },
   {
    "duration": 71,
    "start_time": "2022-12-08T14:45:32.015Z"
   },
   {
    "duration": 33,
    "start_time": "2022-12-08T14:45:32.089Z"
   },
   {
    "duration": 6,
    "start_time": "2022-12-08T14:45:32.124Z"
   },
   {
    "duration": 21,
    "start_time": "2022-12-08T14:45:32.132Z"
   },
   {
    "duration": 5,
    "start_time": "2022-12-08T14:45:32.155Z"
   },
   {
    "duration": 1758,
    "start_time": "2022-12-08T14:45:32.162Z"
   },
   {
    "duration": 110704,
    "start_time": "2022-12-08T14:45:33.922Z"
   },
   {
    "duration": 86,
    "start_time": "2022-12-08T14:47:24.628Z"
   },
   {
    "duration": 8,
    "start_time": "2022-12-08T14:47:24.717Z"
   },
   {
    "duration": 1502,
    "start_time": "2022-12-08T15:04:30.810Z"
   },
   {
    "duration": 1035,
    "start_time": "2022-12-08T15:04:32.314Z"
   },
   {
    "duration": 18,
    "start_time": "2022-12-08T15:04:33.351Z"
   },
   {
    "duration": 119,
    "start_time": "2022-12-08T15:04:33.371Z"
   },
   {
    "duration": 293,
    "start_time": "2022-12-08T15:04:33.492Z"
   },
   {
    "duration": 7,
    "start_time": "2022-12-08T15:04:33.787Z"
   },
   {
    "duration": 42,
    "start_time": "2022-12-08T15:04:33.796Z"
   },
   {
    "duration": 81,
    "start_time": "2022-12-08T15:04:33.840Z"
   },
   {
    "duration": 31,
    "start_time": "2022-12-08T15:04:33.922Z"
   },
   {
    "duration": 23,
    "start_time": "2022-12-08T15:04:33.955Z"
   },
   {
    "duration": 73,
    "start_time": "2022-12-08T15:04:33.980Z"
   },
   {
    "duration": 4,
    "start_time": "2022-12-08T15:04:34.054Z"
   },
   {
    "duration": 168,
    "start_time": "2022-12-08T15:04:34.059Z"
   },
   {
    "duration": 58,
    "start_time": "2022-12-08T15:04:34.229Z"
   },
   {
    "duration": 3308,
    "start_time": "2022-12-08T15:04:34.289Z"
   },
   {
    "duration": 79,
    "start_time": "2022-12-08T15:04:37.599Z"
   },
   {
    "duration": 233,
    "start_time": "2022-12-08T15:04:37.680Z"
   },
   {
    "duration": 23,
    "start_time": "2022-12-08T15:04:37.914Z"
   },
   {
    "duration": 44,
    "start_time": "2022-12-08T15:04:37.939Z"
   },
   {
    "duration": 185,
    "start_time": "2022-12-08T15:04:37.985Z"
   },
   {
    "duration": 192,
    "start_time": "2022-12-08T15:04:38.172Z"
   },
   {
    "duration": 59,
    "start_time": "2022-12-08T15:04:38.366Z"
   },
   {
    "duration": 145,
    "start_time": "2022-12-08T15:04:38.428Z"
   },
   {
    "duration": 2,
    "start_time": "2022-12-08T15:04:38.576Z"
   },
   {
    "duration": 14,
    "start_time": "2022-12-08T15:04:38.581Z"
   },
   {
    "duration": 44,
    "start_time": "2022-12-08T15:04:38.597Z"
   },
   {
    "duration": 80,
    "start_time": "2022-12-08T15:04:38.643Z"
   },
   {
    "duration": 21,
    "start_time": "2022-12-08T15:04:38.727Z"
   },
   {
    "duration": 3,
    "start_time": "2022-12-08T15:04:38.751Z"
   },
   {
    "duration": 22,
    "start_time": "2022-12-08T15:04:38.756Z"
   },
   {
    "duration": 5,
    "start_time": "2022-12-08T15:04:38.780Z"
   },
   {
    "duration": 1783,
    "start_time": "2022-12-08T15:04:38.787Z"
   },
   {
    "duration": 116241,
    "start_time": "2022-12-08T15:04:40.572Z"
   },
   {
    "duration": 13,
    "start_time": "2022-12-08T15:06:36.816Z"
   },
   {
    "duration": 1559,
    "start_time": "2022-12-08T15:44:18.243Z"
   },
   {
    "duration": 1048,
    "start_time": "2022-12-08T15:44:19.804Z"
   },
   {
    "duration": 20,
    "start_time": "2022-12-08T15:44:20.854Z"
   },
   {
    "duration": 135,
    "start_time": "2022-12-08T15:44:20.877Z"
   },
   {
    "duration": 280,
    "start_time": "2022-12-08T15:44:21.014Z"
   },
   {
    "duration": 7,
    "start_time": "2022-12-08T15:44:21.295Z"
   },
   {
    "duration": 46,
    "start_time": "2022-12-08T15:44:21.303Z"
   },
   {
    "duration": 98,
    "start_time": "2022-12-08T15:44:21.351Z"
   },
   {
    "duration": 29,
    "start_time": "2022-12-08T15:44:21.451Z"
   },
   {
    "duration": 41,
    "start_time": "2022-12-08T15:44:21.483Z"
   },
   {
    "duration": 48,
    "start_time": "2022-12-08T15:44:21.526Z"
   },
   {
    "duration": 4,
    "start_time": "2022-12-08T15:44:21.576Z"
   },
   {
    "duration": 186,
    "start_time": "2022-12-08T15:44:21.583Z"
   },
   {
    "duration": 74,
    "start_time": "2022-12-08T15:44:21.771Z"
   },
   {
    "duration": 3183,
    "start_time": "2022-12-08T15:44:21.847Z"
   },
   {
    "duration": 80,
    "start_time": "2022-12-08T15:44:25.033Z"
   },
   {
    "duration": 234,
    "start_time": "2022-12-08T15:44:25.115Z"
   },
   {
    "duration": 26,
    "start_time": "2022-12-08T15:44:25.351Z"
   },
   {
    "duration": 67,
    "start_time": "2022-12-08T15:44:25.379Z"
   },
   {
    "duration": 170,
    "start_time": "2022-12-08T15:44:25.448Z"
   },
   {
    "duration": 171,
    "start_time": "2022-12-08T15:44:25.620Z"
   },
   {
    "duration": 67,
    "start_time": "2022-12-08T15:44:25.793Z"
   },
   {
    "duration": 151,
    "start_time": "2022-12-08T15:44:25.862Z"
   },
   {
    "duration": 2,
    "start_time": "2022-12-08T15:44:26.015Z"
   },
   {
    "duration": 7,
    "start_time": "2022-12-08T15:44:26.019Z"
   },
   {
    "duration": 70,
    "start_time": "2022-12-08T15:44:26.028Z"
   },
   {
    "duration": 69,
    "start_time": "2022-12-08T15:44:26.100Z"
   },
   {
    "duration": 20,
    "start_time": "2022-12-08T15:44:26.172Z"
   },
   {
    "duration": 9,
    "start_time": "2022-12-08T15:44:26.194Z"
   },
   {
    "duration": 42,
    "start_time": "2022-12-08T15:44:26.205Z"
   },
   {
    "duration": 17,
    "start_time": "2022-12-08T15:44:26.249Z"
   },
   {
    "duration": 1753,
    "start_time": "2022-12-08T15:44:26.268Z"
   },
   {
    "duration": 119797,
    "start_time": "2022-12-08T15:44:28.023Z"
   },
   {
    "duration": 91,
    "start_time": "2022-12-08T15:46:27.822Z"
   },
   {
    "duration": 1419,
    "start_time": "2022-12-08T16:15:36.461Z"
   },
   {
    "duration": 947,
    "start_time": "2022-12-08T16:15:37.882Z"
   },
   {
    "duration": 18,
    "start_time": "2022-12-08T16:15:38.831Z"
   },
   {
    "duration": 158,
    "start_time": "2022-12-08T16:15:38.851Z"
   },
   {
    "duration": 283,
    "start_time": "2022-12-08T16:15:39.010Z"
   },
   {
    "duration": 5,
    "start_time": "2022-12-08T16:15:39.295Z"
   },
   {
    "duration": 38,
    "start_time": "2022-12-08T16:15:39.302Z"
   },
   {
    "duration": 79,
    "start_time": "2022-12-08T16:15:39.342Z"
   },
   {
    "duration": 29,
    "start_time": "2022-12-08T16:15:39.423Z"
   },
   {
    "duration": 22,
    "start_time": "2022-12-08T16:15:39.454Z"
   },
   {
    "duration": 64,
    "start_time": "2022-12-08T16:15:39.478Z"
   },
   {
    "duration": 4,
    "start_time": "2022-12-08T16:15:39.544Z"
   },
   {
    "duration": 157,
    "start_time": "2022-12-08T16:15:39.549Z"
   },
   {
    "duration": 59,
    "start_time": "2022-12-08T16:15:39.712Z"
   },
   {
    "duration": 3201,
    "start_time": "2022-12-08T16:15:39.773Z"
   },
   {
    "duration": 76,
    "start_time": "2022-12-08T16:15:42.975Z"
   },
   {
    "duration": 225,
    "start_time": "2022-12-08T16:15:43.053Z"
   },
   {
    "duration": 34,
    "start_time": "2022-12-08T16:15:43.279Z"
   },
   {
    "duration": 47,
    "start_time": "2022-12-08T16:15:43.315Z"
   },
   {
    "duration": 176,
    "start_time": "2022-12-08T16:15:43.364Z"
   },
   {
    "duration": 170,
    "start_time": "2022-12-08T16:15:43.542Z"
   },
   {
    "duration": 58,
    "start_time": "2022-12-08T16:15:43.713Z"
   },
   {
    "duration": 131,
    "start_time": "2022-12-08T16:15:43.773Z"
   },
   {
    "duration": 8,
    "start_time": "2022-12-08T16:15:43.905Z"
   },
   {
    "duration": 4,
    "start_time": "2022-12-08T16:15:43.914Z"
   },
   {
    "duration": 41,
    "start_time": "2022-12-08T16:15:43.919Z"
   },
   {
    "duration": 85,
    "start_time": "2022-12-08T16:15:43.962Z"
   },
   {
    "duration": 19,
    "start_time": "2022-12-08T16:15:44.051Z"
   },
   {
    "duration": 2,
    "start_time": "2022-12-08T16:15:44.072Z"
   },
   {
    "duration": 37,
    "start_time": "2022-12-08T16:15:44.076Z"
   },
   {
    "duration": 3,
    "start_time": "2022-12-08T16:15:44.115Z"
   },
   {
    "duration": 1584,
    "start_time": "2022-12-08T16:15:44.119Z"
   },
   {
    "duration": 0,
    "start_time": "2022-12-08T16:15:45.704Z"
   },
   {
    "duration": 0,
    "start_time": "2022-12-08T16:15:45.712Z"
   },
   {
    "duration": 0,
    "start_time": "2022-12-08T16:15:45.713Z"
   },
   {
    "duration": 0,
    "start_time": "2022-12-08T16:15:45.714Z"
   },
   {
    "duration": 0,
    "start_time": "2022-12-08T16:15:45.715Z"
   },
   {
    "duration": 0,
    "start_time": "2022-12-08T16:15:45.716Z"
   },
   {
    "duration": 0,
    "start_time": "2022-12-08T16:15:45.717Z"
   },
   {
    "duration": 0,
    "start_time": "2022-12-08T16:15:45.718Z"
   },
   {
    "duration": 0,
    "start_time": "2022-12-08T16:15:45.719Z"
   },
   {
    "duration": 0,
    "start_time": "2022-12-08T16:15:45.720Z"
   },
   {
    "duration": 0,
    "start_time": "2022-12-08T16:15:45.721Z"
   },
   {
    "duration": 1460,
    "start_time": "2022-12-08T16:16:06.800Z"
   },
   {
    "duration": 942,
    "start_time": "2022-12-08T16:16:08.263Z"
   },
   {
    "duration": 18,
    "start_time": "2022-12-08T16:16:09.207Z"
   },
   {
    "duration": 152,
    "start_time": "2022-12-08T16:16:09.227Z"
   },
   {
    "duration": 273,
    "start_time": "2022-12-08T16:16:09.381Z"
   },
   {
    "duration": 6,
    "start_time": "2022-12-08T16:16:09.655Z"
   },
   {
    "duration": 39,
    "start_time": "2022-12-08T16:16:09.662Z"
   },
   {
    "duration": 78,
    "start_time": "2022-12-08T16:16:09.703Z"
   },
   {
    "duration": 36,
    "start_time": "2022-12-08T16:16:09.783Z"
   },
   {
    "duration": 26,
    "start_time": "2022-12-08T16:16:09.822Z"
   },
   {
    "duration": 46,
    "start_time": "2022-12-08T16:16:09.850Z"
   },
   {
    "duration": 5,
    "start_time": "2022-12-08T16:16:09.914Z"
   },
   {
    "duration": 153,
    "start_time": "2022-12-08T16:16:09.921Z"
   },
   {
    "duration": 68,
    "start_time": "2022-12-08T16:16:10.076Z"
   },
   {
    "duration": 3129,
    "start_time": "2022-12-08T16:16:10.146Z"
   },
   {
    "duration": 75,
    "start_time": "2022-12-08T16:16:13.277Z"
   },
   {
    "duration": 221,
    "start_time": "2022-12-08T16:16:13.353Z"
   },
   {
    "duration": 24,
    "start_time": "2022-12-08T16:16:13.575Z"
   },
   {
    "duration": 44,
    "start_time": "2022-12-08T16:16:13.613Z"
   },
   {
    "duration": 158,
    "start_time": "2022-12-08T16:16:13.659Z"
   },
   {
    "duration": 169,
    "start_time": "2022-12-08T16:16:13.819Z"
   },
   {
    "duration": 64,
    "start_time": "2022-12-08T16:16:13.990Z"
   },
   {
    "duration": 136,
    "start_time": "2022-12-08T16:16:14.056Z"
   },
   {
    "duration": 2,
    "start_time": "2022-12-08T16:16:14.194Z"
   },
   {
    "duration": 15,
    "start_time": "2022-12-08T16:16:14.198Z"
   },
   {
    "duration": 34,
    "start_time": "2022-12-08T16:16:14.215Z"
   },
   {
    "duration": 86,
    "start_time": "2022-12-08T16:16:14.251Z"
   },
   {
    "duration": 18,
    "start_time": "2022-12-08T16:16:14.341Z"
   },
   {
    "duration": 3,
    "start_time": "2022-12-08T16:16:14.361Z"
   },
   {
    "duration": 24,
    "start_time": "2022-12-08T16:16:14.365Z"
   },
   {
    "duration": 22,
    "start_time": "2022-12-08T16:16:14.391Z"
   },
   {
    "duration": 1784,
    "start_time": "2022-12-08T16:16:14.415Z"
   },
   {
    "duration": 114114,
    "start_time": "2022-12-08T16:16:16.201Z"
   },
   {
    "duration": 3,
    "start_time": "2022-12-08T16:18:10.317Z"
   },
   {
    "duration": 245,
    "start_time": "2022-12-08T16:18:10.321Z"
   },
   {
    "duration": 0,
    "start_time": "2022-12-08T16:18:10.568Z"
   },
   {
    "duration": 0,
    "start_time": "2022-12-08T16:18:10.570Z"
   },
   {
    "duration": 0,
    "start_time": "2022-12-08T16:18:10.571Z"
   },
   {
    "duration": 0,
    "start_time": "2022-12-08T16:18:10.573Z"
   },
   {
    "duration": 0,
    "start_time": "2022-12-08T16:18:10.574Z"
   },
   {
    "duration": 0,
    "start_time": "2022-12-08T16:18:10.575Z"
   },
   {
    "duration": 0,
    "start_time": "2022-12-08T16:18:10.577Z"
   },
   {
    "duration": 0,
    "start_time": "2022-12-08T16:18:10.579Z"
   },
   {
    "duration": 3,
    "start_time": "2022-12-08T16:18:39.500Z"
   },
   {
    "duration": 1445,
    "start_time": "2022-12-08T16:50:13.204Z"
   },
   {
    "duration": 988,
    "start_time": "2022-12-08T16:50:14.651Z"
   },
   {
    "duration": 17,
    "start_time": "2022-12-08T16:50:15.641Z"
   },
   {
    "duration": 110,
    "start_time": "2022-12-08T16:50:15.660Z"
   },
   {
    "duration": 277,
    "start_time": "2022-12-08T16:50:15.772Z"
   },
   {
    "duration": 5,
    "start_time": "2022-12-08T16:50:16.051Z"
   },
   {
    "duration": 30,
    "start_time": "2022-12-08T16:50:16.058Z"
   },
   {
    "duration": 82,
    "start_time": "2022-12-08T16:50:16.090Z"
   },
   {
    "duration": 42,
    "start_time": "2022-12-08T16:50:16.174Z"
   },
   {
    "duration": 23,
    "start_time": "2022-12-08T16:50:16.220Z"
   },
   {
    "duration": 71,
    "start_time": "2022-12-08T16:50:16.245Z"
   },
   {
    "duration": 4,
    "start_time": "2022-12-08T16:50:16.317Z"
   },
   {
    "duration": 165,
    "start_time": "2022-12-08T16:50:16.323Z"
   },
   {
    "duration": 68,
    "start_time": "2022-12-08T16:50:16.490Z"
   },
   {
    "duration": 3170,
    "start_time": "2022-12-08T16:50:16.560Z"
   },
   {
    "duration": 81,
    "start_time": "2022-12-08T16:50:19.732Z"
   },
   {
    "duration": 236,
    "start_time": "2022-12-08T16:50:19.814Z"
   },
   {
    "duration": 25,
    "start_time": "2022-12-08T16:50:20.052Z"
   },
   {
    "duration": 58,
    "start_time": "2022-12-08T16:50:20.079Z"
   },
   {
    "duration": 186,
    "start_time": "2022-12-08T16:50:20.139Z"
   },
   {
    "duration": 195,
    "start_time": "2022-12-08T16:50:20.327Z"
   },
   {
    "duration": 65,
    "start_time": "2022-12-08T16:50:20.524Z"
   },
   {
    "duration": 133,
    "start_time": "2022-12-08T16:50:20.590Z"
   },
   {
    "duration": 3,
    "start_time": "2022-12-08T16:50:20.725Z"
   },
   {
    "duration": 4,
    "start_time": "2022-12-08T16:50:20.730Z"
   },
   {
    "duration": 40,
    "start_time": "2022-12-08T16:50:20.736Z"
   },
   {
    "duration": 84,
    "start_time": "2022-12-08T16:50:20.777Z"
   },
   {
    "duration": 18,
    "start_time": "2022-12-08T16:50:20.865Z"
   },
   {
    "duration": 2,
    "start_time": "2022-12-08T16:50:20.885Z"
   },
   {
    "duration": 36,
    "start_time": "2022-12-08T16:50:20.889Z"
   },
   {
    "duration": 8,
    "start_time": "2022-12-08T16:50:20.926Z"
   },
   {
    "duration": 1685,
    "start_time": "2022-12-08T16:50:20.936Z"
   },
   {
    "duration": 89891,
    "start_time": "2022-12-08T16:50:22.623Z"
   },
   {
    "duration": 14,
    "start_time": "2022-12-08T16:51:52.517Z"
   },
   {
    "duration": 7,
    "start_time": "2022-12-08T16:51:52.614Z"
   },
   {
    "duration": 1456,
    "start_time": "2022-12-08T17:02:03.345Z"
   },
   {
    "duration": 990,
    "start_time": "2022-12-08T17:02:04.804Z"
   },
   {
    "duration": 21,
    "start_time": "2022-12-08T17:02:05.795Z"
   },
   {
    "duration": 113,
    "start_time": "2022-12-08T17:02:05.818Z"
   },
   {
    "duration": 282,
    "start_time": "2022-12-08T17:02:05.934Z"
   },
   {
    "duration": 6,
    "start_time": "2022-12-08T17:02:06.218Z"
   },
   {
    "duration": 31,
    "start_time": "2022-12-08T17:02:06.225Z"
   },
   {
    "duration": 84,
    "start_time": "2022-12-08T17:02:06.258Z"
   },
   {
    "duration": 38,
    "start_time": "2022-12-08T17:02:06.344Z"
   },
   {
    "duration": 35,
    "start_time": "2022-12-08T17:02:06.383Z"
   },
   {
    "duration": 44,
    "start_time": "2022-12-08T17:02:06.419Z"
   },
   {
    "duration": 3,
    "start_time": "2022-12-08T17:02:06.465Z"
   },
   {
    "duration": 172,
    "start_time": "2022-12-08T17:02:06.470Z"
   },
   {
    "duration": 68,
    "start_time": "2022-12-08T17:02:06.646Z"
   },
   {
    "duration": 3083,
    "start_time": "2022-12-08T17:02:06.716Z"
   },
   {
    "duration": 80,
    "start_time": "2022-12-08T17:02:09.801Z"
   },
   {
    "duration": 147,
    "start_time": "2022-12-08T17:02:09.883Z"
   },
   {
    "duration": 24,
    "start_time": "2022-12-08T17:02:10.031Z"
   },
   {
    "duration": 56,
    "start_time": "2022-12-08T17:02:10.057Z"
   },
   {
    "duration": 299,
    "start_time": "2022-12-08T17:02:10.116Z"
   },
   {
    "duration": 184,
    "start_time": "2022-12-08T17:02:10.418Z"
   },
   {
    "duration": 61,
    "start_time": "2022-12-08T17:02:10.605Z"
   },
   {
    "duration": 129,
    "start_time": "2022-12-08T17:02:10.668Z"
   },
   {
    "duration": 14,
    "start_time": "2022-12-08T17:02:10.799Z"
   },
   {
    "duration": 17,
    "start_time": "2022-12-08T17:02:10.816Z"
   },
   {
    "duration": 37,
    "start_time": "2022-12-08T17:02:10.834Z"
   },
   {
    "duration": 80,
    "start_time": "2022-12-08T17:02:10.873Z"
   },
   {
    "duration": 25,
    "start_time": "2022-12-08T17:02:10.955Z"
   },
   {
    "duration": 8,
    "start_time": "2022-12-08T17:02:10.982Z"
   },
   {
    "duration": 36,
    "start_time": "2022-12-08T17:02:10.992Z"
   },
   {
    "duration": 8,
    "start_time": "2022-12-08T17:02:11.029Z"
   },
   {
    "duration": 1527,
    "start_time": "2022-12-08T17:02:11.038Z"
   },
   {
    "duration": 0,
    "start_time": "2022-12-08T17:02:12.567Z"
   },
   {
    "duration": 0,
    "start_time": "2022-12-08T17:02:12.568Z"
   },
   {
    "duration": 0,
    "start_time": "2022-12-08T17:02:12.570Z"
   },
   {
    "duration": 0,
    "start_time": "2022-12-08T17:02:12.571Z"
   },
   {
    "duration": 0,
    "start_time": "2022-12-08T17:02:12.573Z"
   },
   {
    "duration": 0,
    "start_time": "2022-12-08T17:02:12.574Z"
   },
   {
    "duration": 0,
    "start_time": "2022-12-08T17:02:12.576Z"
   },
   {
    "duration": 0,
    "start_time": "2022-12-08T17:02:12.577Z"
   },
   {
    "duration": 0,
    "start_time": "2022-12-08T17:02:12.578Z"
   },
   {
    "duration": 0,
    "start_time": "2022-12-08T17:02:12.579Z"
   },
   {
    "duration": 0,
    "start_time": "2022-12-08T17:02:12.580Z"
   },
   {
    "duration": 0,
    "start_time": "2022-12-08T17:02:12.582Z"
   },
   {
    "duration": 1534,
    "start_time": "2022-12-08T17:02:17.940Z"
   },
   {
    "duration": 1048,
    "start_time": "2022-12-08T17:02:19.476Z"
   },
   {
    "duration": 16,
    "start_time": "2022-12-08T17:02:20.526Z"
   },
   {
    "duration": 115,
    "start_time": "2022-12-08T17:02:20.545Z"
   },
   {
    "duration": 296,
    "start_time": "2022-12-08T17:02:20.662Z"
   },
   {
    "duration": 7,
    "start_time": "2022-12-08T17:02:20.960Z"
   },
   {
    "duration": 44,
    "start_time": "2022-12-08T17:02:20.969Z"
   },
   {
    "duration": 70,
    "start_time": "2022-12-08T17:02:21.015Z"
   },
   {
    "duration": 42,
    "start_time": "2022-12-08T17:02:21.086Z"
   },
   {
    "duration": 22,
    "start_time": "2022-12-08T17:02:21.131Z"
   },
   {
    "duration": 65,
    "start_time": "2022-12-08T17:02:21.155Z"
   },
   {
    "duration": 3,
    "start_time": "2022-12-08T17:02:21.222Z"
   },
   {
    "duration": 158,
    "start_time": "2022-12-08T17:02:21.227Z"
   },
   {
    "duration": 69,
    "start_time": "2022-12-08T17:02:21.387Z"
   },
   {
    "duration": 3169,
    "start_time": "2022-12-08T17:02:21.458Z"
   },
   {
    "duration": 94,
    "start_time": "2022-12-08T17:02:24.629Z"
   },
   {
    "duration": 239,
    "start_time": "2022-12-08T17:02:24.725Z"
   },
   {
    "duration": 25,
    "start_time": "2022-12-08T17:02:24.966Z"
   },
   {
    "duration": 60,
    "start_time": "2022-12-08T17:02:24.993Z"
   },
   {
    "duration": 176,
    "start_time": "2022-12-08T17:02:25.055Z"
   },
   {
    "duration": 172,
    "start_time": "2022-12-08T17:02:25.232Z"
   },
   {
    "duration": 64,
    "start_time": "2022-12-08T17:02:25.406Z"
   },
   {
    "duration": 135,
    "start_time": "2022-12-08T17:02:25.471Z"
   },
   {
    "duration": 2,
    "start_time": "2022-12-08T17:02:25.613Z"
   },
   {
    "duration": 17,
    "start_time": "2022-12-08T17:02:25.618Z"
   },
   {
    "duration": 69,
    "start_time": "2022-12-08T17:02:25.637Z"
   },
   {
    "duration": 74,
    "start_time": "2022-12-08T17:02:25.708Z"
   },
   {
    "duration": 20,
    "start_time": "2022-12-08T17:02:25.785Z"
   },
   {
    "duration": 6,
    "start_time": "2022-12-08T17:02:25.813Z"
   },
   {
    "duration": 46,
    "start_time": "2022-12-08T17:02:25.821Z"
   },
   {
    "duration": 21,
    "start_time": "2022-12-08T17:02:25.869Z"
   },
   {
    "duration": 1711,
    "start_time": "2022-12-08T17:02:25.892Z"
   },
   {
    "duration": 94908,
    "start_time": "2022-12-08T17:02:27.605Z"
   },
   {
    "duration": 3,
    "start_time": "2022-12-08T17:04:02.515Z"
   },
   {
    "duration": 99,
    "start_time": "2022-12-08T17:04:02.520Z"
   },
   {
    "duration": 118,
    "start_time": "2022-12-08T17:04:02.621Z"
   },
   {
    "duration": 0,
    "start_time": "2022-12-08T17:04:02.740Z"
   },
   {
    "duration": 0,
    "start_time": "2022-12-08T17:04:02.741Z"
   },
   {
    "duration": 0,
    "start_time": "2022-12-08T17:04:02.743Z"
   },
   {
    "duration": 0,
    "start_time": "2022-12-08T17:04:02.744Z"
   },
   {
    "duration": 0,
    "start_time": "2022-12-08T17:04:02.745Z"
   },
   {
    "duration": 0,
    "start_time": "2022-12-08T17:04:02.746Z"
   },
   {
    "duration": 0,
    "start_time": "2022-12-08T17:04:02.747Z"
   },
   {
    "duration": 0,
    "start_time": "2022-12-08T17:04:02.748Z"
   },
   {
    "duration": 353937,
    "start_time": "2022-12-08T17:04:40.996Z"
   },
   {
    "duration": 0,
    "start_time": "2022-12-08T17:10:34.936Z"
   },
   {
    "duration": 1546,
    "start_time": "2022-12-08T17:20:18.888Z"
   },
   {
    "duration": 959,
    "start_time": "2022-12-08T17:20:20.437Z"
   },
   {
    "duration": 18,
    "start_time": "2022-12-08T17:20:21.398Z"
   },
   {
    "duration": 112,
    "start_time": "2022-12-08T17:20:21.418Z"
   },
   {
    "duration": 276,
    "start_time": "2022-12-08T17:20:21.532Z"
   },
   {
    "duration": 6,
    "start_time": "2022-12-08T17:20:21.809Z"
   },
   {
    "duration": 34,
    "start_time": "2022-12-08T17:20:21.817Z"
   },
   {
    "duration": 79,
    "start_time": "2022-12-08T17:20:21.853Z"
   },
   {
    "duration": 30,
    "start_time": "2022-12-08T17:20:21.934Z"
   },
   {
    "duration": 25,
    "start_time": "2022-12-08T17:20:21.967Z"
   },
   {
    "duration": 55,
    "start_time": "2022-12-08T17:20:21.993Z"
   },
   {
    "duration": 3,
    "start_time": "2022-12-08T17:20:22.050Z"
   },
   {
    "duration": 150,
    "start_time": "2022-12-08T17:20:22.055Z"
   },
   {
    "duration": 62,
    "start_time": "2022-12-08T17:20:22.207Z"
   },
   {
    "duration": 3134,
    "start_time": "2022-12-08T17:20:22.271Z"
   },
   {
    "duration": 77,
    "start_time": "2022-12-08T17:20:25.407Z"
   },
   {
    "duration": 240,
    "start_time": "2022-12-08T17:20:25.485Z"
   },
   {
    "duration": 24,
    "start_time": "2022-12-08T17:20:25.727Z"
   },
   {
    "duration": 63,
    "start_time": "2022-12-08T17:20:25.752Z"
   },
   {
    "duration": 173,
    "start_time": "2022-12-08T17:20:25.817Z"
   },
   {
    "duration": 176,
    "start_time": "2022-12-08T17:20:25.991Z"
   },
   {
    "duration": 68,
    "start_time": "2022-12-08T17:20:26.169Z"
   },
   {
    "duration": 143,
    "start_time": "2022-12-08T17:20:26.238Z"
   },
   {
    "duration": 3,
    "start_time": "2022-12-08T17:20:26.382Z"
   },
   {
    "duration": 8,
    "start_time": "2022-12-08T17:20:26.386Z"
   },
   {
    "duration": 45,
    "start_time": "2022-12-08T17:20:26.396Z"
   },
   {
    "duration": 76,
    "start_time": "2022-12-08T17:20:26.443Z"
   },
   {
    "duration": 19,
    "start_time": "2022-12-08T17:20:26.524Z"
   },
   {
    "duration": 8,
    "start_time": "2022-12-08T17:20:26.545Z"
   },
   {
    "duration": 26,
    "start_time": "2022-12-08T17:20:26.554Z"
   },
   {
    "duration": 6,
    "start_time": "2022-12-08T17:20:26.582Z"
   },
   {
    "duration": 1690,
    "start_time": "2022-12-08T17:20:26.590Z"
   },
   {
    "duration": 97032,
    "start_time": "2022-12-08T17:20:28.282Z"
   },
   {
    "duration": 2,
    "start_time": "2022-12-08T17:22:05.316Z"
   },
   {
    "duration": 1466,
    "start_time": "2022-12-08T17:24:46.394Z"
   },
   {
    "duration": 1019,
    "start_time": "2022-12-08T17:24:47.862Z"
   },
   {
    "duration": 18,
    "start_time": "2022-12-08T17:24:48.883Z"
   },
   {
    "duration": 119,
    "start_time": "2022-12-08T17:24:48.912Z"
   },
   {
    "duration": 297,
    "start_time": "2022-12-08T17:24:49.033Z"
   },
   {
    "duration": 6,
    "start_time": "2022-12-08T17:24:49.332Z"
   },
   {
    "duration": 32,
    "start_time": "2022-12-08T17:24:49.340Z"
   },
   {
    "duration": 86,
    "start_time": "2022-12-08T17:24:49.374Z"
   },
   {
    "duration": 31,
    "start_time": "2022-12-08T17:24:49.462Z"
   },
   {
    "duration": 24,
    "start_time": "2022-12-08T17:24:49.512Z"
   },
   {
    "duration": 47,
    "start_time": "2022-12-08T17:24:49.538Z"
   },
   {
    "duration": 3,
    "start_time": "2022-12-08T17:24:49.587Z"
   },
   {
    "duration": 158,
    "start_time": "2022-12-08T17:24:49.612Z"
   },
   {
    "duration": 71,
    "start_time": "2022-12-08T17:24:49.772Z"
   },
   {
    "duration": 3150,
    "start_time": "2022-12-08T17:24:49.845Z"
   },
   {
    "duration": 78,
    "start_time": "2022-12-08T17:24:52.997Z"
   },
   {
    "duration": 229,
    "start_time": "2022-12-08T17:24:53.076Z"
   },
   {
    "duration": 23,
    "start_time": "2022-12-08T17:24:53.313Z"
   },
   {
    "duration": 45,
    "start_time": "2022-12-08T17:24:53.338Z"
   },
   {
    "duration": 184,
    "start_time": "2022-12-08T17:24:53.385Z"
   },
   {
    "duration": 180,
    "start_time": "2022-12-08T17:24:53.571Z"
   },
   {
    "duration": 63,
    "start_time": "2022-12-08T17:24:53.753Z"
   },
   {
    "duration": 136,
    "start_time": "2022-12-08T17:24:53.818Z"
   },
   {
    "duration": 3,
    "start_time": "2022-12-08T17:24:53.956Z"
   },
   {
    "duration": 26,
    "start_time": "2022-12-08T17:24:53.960Z"
   },
   {
    "duration": 61,
    "start_time": "2022-12-08T17:24:53.988Z"
   },
   {
    "duration": 87,
    "start_time": "2022-12-08T17:24:54.050Z"
   },
   {
    "duration": 20,
    "start_time": "2022-12-08T17:24:54.140Z"
   },
   {
    "duration": 15,
    "start_time": "2022-12-08T17:24:54.162Z"
   },
   {
    "duration": 33,
    "start_time": "2022-12-08T17:24:54.179Z"
   },
   {
    "duration": 18,
    "start_time": "2022-12-08T17:24:54.215Z"
   },
   {
    "duration": 1686,
    "start_time": "2022-12-08T17:24:54.235Z"
   },
   {
    "duration": 109190,
    "start_time": "2022-12-08T17:24:55.923Z"
   },
   {
    "duration": 2,
    "start_time": "2022-12-08T17:26:45.115Z"
   },
   {
    "duration": 2950,
    "start_time": "2022-12-09T13:44:47.818Z"
   },
   {
    "duration": 1044,
    "start_time": "2022-12-09T13:44:50.770Z"
   },
   {
    "duration": 21,
    "start_time": "2022-12-09T13:44:51.816Z"
   },
   {
    "duration": 119,
    "start_time": "2022-12-09T13:44:51.839Z"
   },
   {
    "duration": 287,
    "start_time": "2022-12-09T13:44:51.960Z"
   },
   {
    "duration": 6,
    "start_time": "2022-12-09T13:44:52.250Z"
   },
   {
    "duration": 54,
    "start_time": "2022-12-09T13:44:52.257Z"
   },
   {
    "duration": 71,
    "start_time": "2022-12-09T13:44:52.312Z"
   },
   {
    "duration": 46,
    "start_time": "2022-12-09T13:44:52.384Z"
   },
   {
    "duration": 66,
    "start_time": "2022-12-09T13:44:52.431Z"
   },
   {
    "duration": 73,
    "start_time": "2022-12-09T13:44:52.499Z"
   },
   {
    "duration": 17,
    "start_time": "2022-12-09T13:44:52.574Z"
   },
   {
    "duration": 153,
    "start_time": "2022-12-09T13:44:52.593Z"
   },
   {
    "duration": 56,
    "start_time": "2022-12-09T13:44:52.749Z"
   },
   {
    "duration": 3495,
    "start_time": "2022-12-09T13:44:52.807Z"
   },
   {
    "duration": 77,
    "start_time": "2022-12-09T13:44:56.304Z"
   },
   {
    "duration": 143,
    "start_time": "2022-12-09T13:44:56.383Z"
   },
   {
    "duration": 22,
    "start_time": "2022-12-09T13:44:56.527Z"
   },
   {
    "duration": 49,
    "start_time": "2022-12-09T13:44:56.551Z"
   },
   {
    "duration": 254,
    "start_time": "2022-12-09T13:44:56.602Z"
   },
   {
    "duration": 168,
    "start_time": "2022-12-09T13:44:56.858Z"
   },
   {
    "duration": 60,
    "start_time": "2022-12-09T13:44:57.027Z"
   },
   {
    "duration": 153,
    "start_time": "2022-12-09T13:44:57.089Z"
   },
   {
    "duration": 3,
    "start_time": "2022-12-09T13:44:57.243Z"
   },
   {
    "duration": 28,
    "start_time": "2022-12-09T13:44:57.247Z"
   },
   {
    "duration": 74,
    "start_time": "2022-12-09T13:44:57.277Z"
   },
   {
    "duration": 99,
    "start_time": "2022-12-09T13:44:57.353Z"
   },
   {
    "duration": 21,
    "start_time": "2022-12-09T13:44:57.454Z"
   },
   {
    "duration": 18,
    "start_time": "2022-12-09T13:44:57.477Z"
   },
   {
    "duration": 46,
    "start_time": "2022-12-09T13:44:57.497Z"
   },
   {
    "duration": 7,
    "start_time": "2022-12-09T13:44:57.544Z"
   },
   {
    "duration": 110,
    "start_time": "2022-12-09T13:45:59.683Z"
   },
   {
    "duration": 84,
    "start_time": "2022-12-09T13:46:14.115Z"
   },
   {
    "duration": 54,
    "start_time": "2022-12-09T13:46:17.304Z"
   },
   {
    "duration": 250,
    "start_time": "2022-12-09T13:46:25.519Z"
   },
   {
    "duration": 49,
    "start_time": "2022-12-09T14:03:01.872Z"
   },
   {
    "duration": 1612,
    "start_time": "2022-12-09T14:03:05.460Z"
   },
   {
    "duration": 1218,
    "start_time": "2022-12-09T14:03:07.074Z"
   },
   {
    "duration": 16,
    "start_time": "2022-12-09T14:03:08.293Z"
   },
   {
    "duration": 109,
    "start_time": "2022-12-09T14:03:08.312Z"
   },
   {
    "duration": 283,
    "start_time": "2022-12-09T14:03:08.423Z"
   },
   {
    "duration": 6,
    "start_time": "2022-12-09T14:03:08.708Z"
   },
   {
    "duration": 43,
    "start_time": "2022-12-09T14:03:08.715Z"
   },
   {
    "duration": 86,
    "start_time": "2022-12-09T14:03:08.760Z"
   },
   {
    "duration": 35,
    "start_time": "2022-12-09T14:03:08.855Z"
   },
   {
    "duration": 26,
    "start_time": "2022-12-09T14:03:08.893Z"
   },
   {
    "duration": 69,
    "start_time": "2022-12-09T14:03:08.921Z"
   },
   {
    "duration": 4,
    "start_time": "2022-12-09T14:03:08.992Z"
   },
   {
    "duration": 158,
    "start_time": "2022-12-09T14:03:08.997Z"
   },
   {
    "duration": 61,
    "start_time": "2022-12-09T14:03:09.157Z"
   },
   {
    "duration": 3435,
    "start_time": "2022-12-09T14:03:09.220Z"
   },
   {
    "duration": 73,
    "start_time": "2022-12-09T14:03:12.657Z"
   },
   {
    "duration": 245,
    "start_time": "2022-12-09T14:03:12.732Z"
   },
   {
    "duration": 25,
    "start_time": "2022-12-09T14:03:12.979Z"
   },
   {
    "duration": 53,
    "start_time": "2022-12-09T14:03:13.006Z"
   },
   {
    "duration": 162,
    "start_time": "2022-12-09T14:03:13.061Z"
   },
   {
    "duration": 176,
    "start_time": "2022-12-09T14:03:13.224Z"
   },
   {
    "duration": 74,
    "start_time": "2022-12-09T14:03:13.402Z"
   },
   {
    "duration": 158,
    "start_time": "2022-12-09T14:03:13.477Z"
   },
   {
    "duration": 2,
    "start_time": "2022-12-09T14:03:13.637Z"
   },
   {
    "duration": 14,
    "start_time": "2022-12-09T14:03:13.641Z"
   },
   {
    "duration": 40,
    "start_time": "2022-12-09T14:03:13.657Z"
   },
   {
    "duration": 98,
    "start_time": "2022-12-09T14:03:13.699Z"
   },
   {
    "duration": 20,
    "start_time": "2022-12-09T14:03:13.800Z"
   },
   {
    "duration": 6,
    "start_time": "2022-12-09T14:03:13.822Z"
   },
   {
    "duration": 37,
    "start_time": "2022-12-09T14:03:13.830Z"
   },
   {
    "duration": 3,
    "start_time": "2022-12-09T14:03:13.869Z"
   },
   {
    "duration": 1697,
    "start_time": "2022-12-09T14:03:13.874Z"
   },
   {
    "duration": 0,
    "start_time": "2022-12-09T14:03:15.573Z"
   },
   {
    "duration": 0,
    "start_time": "2022-12-09T14:03:15.575Z"
   },
   {
    "duration": 0,
    "start_time": "2022-12-09T14:03:15.576Z"
   },
   {
    "duration": 0,
    "start_time": "2022-12-09T14:03:15.578Z"
   },
   {
    "duration": 0,
    "start_time": "2022-12-09T14:03:15.579Z"
   },
   {
    "duration": 0,
    "start_time": "2022-12-09T14:03:15.581Z"
   },
   {
    "duration": 0,
    "start_time": "2022-12-09T14:03:15.583Z"
   },
   {
    "duration": 0,
    "start_time": "2022-12-09T14:03:15.584Z"
   },
   {
    "duration": 0,
    "start_time": "2022-12-09T14:03:15.585Z"
   },
   {
    "duration": 0,
    "start_time": "2022-12-09T14:03:15.587Z"
   },
   {
    "duration": 0,
    "start_time": "2022-12-09T14:03:15.589Z"
   },
   {
    "duration": 0,
    "start_time": "2022-12-09T14:03:15.590Z"
   },
   {
    "duration": 1410,
    "start_time": "2022-12-09T14:03:20.709Z"
   },
   {
    "duration": 1016,
    "start_time": "2022-12-09T14:03:22.121Z"
   },
   {
    "duration": 24,
    "start_time": "2022-12-09T14:03:23.138Z"
   },
   {
    "duration": 108,
    "start_time": "2022-12-09T14:03:23.164Z"
   },
   {
    "duration": 294,
    "start_time": "2022-12-09T14:03:23.274Z"
   },
   {
    "duration": 5,
    "start_time": "2022-12-09T14:03:23.570Z"
   },
   {
    "duration": 33,
    "start_time": "2022-12-09T14:03:23.577Z"
   },
   {
    "duration": 109,
    "start_time": "2022-12-09T14:03:23.611Z"
   },
   {
    "duration": 55,
    "start_time": "2022-12-09T14:03:23.722Z"
   },
   {
    "duration": 30,
    "start_time": "2022-12-09T14:03:23.780Z"
   },
   {
    "duration": 69,
    "start_time": "2022-12-09T14:03:23.812Z"
   },
   {
    "duration": 7,
    "start_time": "2022-12-09T14:03:23.883Z"
   },
   {
    "duration": 157,
    "start_time": "2022-12-09T14:03:23.891Z"
   },
   {
    "duration": 60,
    "start_time": "2022-12-09T14:03:24.050Z"
   },
   {
    "duration": 3477,
    "start_time": "2022-12-09T14:03:24.112Z"
   },
   {
    "duration": 80,
    "start_time": "2022-12-09T14:03:27.590Z"
   },
   {
    "duration": 230,
    "start_time": "2022-12-09T14:03:27.672Z"
   },
   {
    "duration": 22,
    "start_time": "2022-12-09T14:03:27.904Z"
   },
   {
    "duration": 67,
    "start_time": "2022-12-09T14:03:27.927Z"
   },
   {
    "duration": 174,
    "start_time": "2022-12-09T14:03:27.996Z"
   },
   {
    "duration": 188,
    "start_time": "2022-12-09T14:03:28.171Z"
   },
   {
    "duration": 76,
    "start_time": "2022-12-09T14:03:28.361Z"
   },
   {
    "duration": 173,
    "start_time": "2022-12-09T14:03:28.439Z"
   },
   {
    "duration": 3,
    "start_time": "2022-12-09T14:03:28.613Z"
   },
   {
    "duration": 6,
    "start_time": "2022-12-09T14:03:28.618Z"
   },
   {
    "duration": 47,
    "start_time": "2022-12-09T14:03:28.625Z"
   },
   {
    "duration": 66,
    "start_time": "2022-12-09T14:03:28.673Z"
   },
   {
    "duration": 21,
    "start_time": "2022-12-09T14:03:28.754Z"
   },
   {
    "duration": 8,
    "start_time": "2022-12-09T14:03:28.777Z"
   },
   {
    "duration": 34,
    "start_time": "2022-12-09T14:03:28.787Z"
   },
   {
    "duration": 6,
    "start_time": "2022-12-09T14:03:28.824Z"
   },
   {
    "duration": 1861,
    "start_time": "2022-12-09T14:03:28.831Z"
   },
   {
    "duration": 126160,
    "start_time": "2022-12-09T14:03:30.696Z"
   },
   {
    "duration": 4,
    "start_time": "2022-12-09T14:05:36.859Z"
   },
   {
    "duration": 643,
    "start_time": "2022-12-09T14:05:36.956Z"
   },
   {
    "duration": 1413,
    "start_time": "2022-12-09T14:12:04.976Z"
   },
   {
    "duration": 1021,
    "start_time": "2022-12-09T14:12:06.391Z"
   },
   {
    "duration": 17,
    "start_time": "2022-12-09T14:12:07.413Z"
   },
   {
    "duration": 112,
    "start_time": "2022-12-09T14:12:07.432Z"
   },
   {
    "duration": 287,
    "start_time": "2022-12-09T14:12:07.546Z"
   },
   {
    "duration": 5,
    "start_time": "2022-12-09T14:12:07.835Z"
   },
   {
    "duration": 36,
    "start_time": "2022-12-09T14:12:07.842Z"
   },
   {
    "duration": 92,
    "start_time": "2022-12-09T14:12:07.880Z"
   },
   {
    "duration": 36,
    "start_time": "2022-12-09T14:12:07.974Z"
   },
   {
    "duration": 26,
    "start_time": "2022-12-09T14:12:08.012Z"
   },
   {
    "duration": 69,
    "start_time": "2022-12-09T14:12:08.055Z"
   },
   {
    "duration": 4,
    "start_time": "2022-12-09T14:12:08.126Z"
   },
   {
    "duration": 165,
    "start_time": "2022-12-09T14:12:08.131Z"
   },
   {
    "duration": 73,
    "start_time": "2022-12-09T14:12:08.297Z"
   },
   {
    "duration": 3293,
    "start_time": "2022-12-09T14:12:08.372Z"
   },
   {
    "duration": 69,
    "start_time": "2022-12-09T14:12:11.668Z"
   },
   {
    "duration": 226,
    "start_time": "2022-12-09T14:12:11.739Z"
   },
   {
    "duration": 21,
    "start_time": "2022-12-09T14:12:11.967Z"
   },
   {
    "duration": 41,
    "start_time": "2022-12-09T14:12:11.990Z"
   },
   {
    "duration": 171,
    "start_time": "2022-12-09T14:12:12.033Z"
   },
   {
    "duration": 188,
    "start_time": "2022-12-09T14:12:12.206Z"
   },
   {
    "duration": 79,
    "start_time": "2022-12-09T14:12:12.395Z"
   },
   {
    "duration": 158,
    "start_time": "2022-12-09T14:12:12.476Z"
   },
   {
    "duration": 2,
    "start_time": "2022-12-09T14:12:12.636Z"
   },
   {
    "duration": 25,
    "start_time": "2022-12-09T14:12:12.640Z"
   },
   {
    "duration": 32,
    "start_time": "2022-12-09T14:12:12.667Z"
   },
   {
    "duration": 77,
    "start_time": "2022-12-09T14:12:12.701Z"
   },
   {
    "duration": 18,
    "start_time": "2022-12-09T14:12:12.782Z"
   },
   {
    "duration": 6,
    "start_time": "2022-12-09T14:12:12.801Z"
   },
   {
    "duration": 20,
    "start_time": "2022-12-09T14:12:12.808Z"
   },
   {
    "duration": 3,
    "start_time": "2022-12-09T14:12:12.829Z"
   },
   {
    "duration": 1893,
    "start_time": "2022-12-09T14:12:12.834Z"
   },
   {
    "duration": 177740,
    "start_time": "2022-12-09T14:12:14.729Z"
   },
   {
    "duration": 9,
    "start_time": "2022-12-09T14:15:12.554Z"
   },
   {
    "duration": 515,
    "start_time": "2022-12-09T14:15:12.568Z"
   },
   {
    "duration": 1498,
    "start_time": "2022-12-09T14:22:15.667Z"
   },
   {
    "duration": 1072,
    "start_time": "2022-12-09T14:22:17.167Z"
   },
   {
    "duration": 30,
    "start_time": "2022-12-09T14:22:18.241Z"
   },
   {
    "duration": 104,
    "start_time": "2022-12-09T14:22:18.273Z"
   },
   {
    "duration": 298,
    "start_time": "2022-12-09T14:22:18.379Z"
   },
   {
    "duration": 5,
    "start_time": "2022-12-09T14:22:18.679Z"
   },
   {
    "duration": 37,
    "start_time": "2022-12-09T14:22:18.686Z"
   },
   {
    "duration": 104,
    "start_time": "2022-12-09T14:22:18.725Z"
   },
   {
    "duration": 48,
    "start_time": "2022-12-09T14:22:18.831Z"
   },
   {
    "duration": 23,
    "start_time": "2022-12-09T14:22:18.882Z"
   },
   {
    "duration": 80,
    "start_time": "2022-12-09T14:22:18.907Z"
   },
   {
    "duration": 4,
    "start_time": "2022-12-09T14:22:18.989Z"
   },
   {
    "duration": 179,
    "start_time": "2022-12-09T14:22:18.994Z"
   },
   {
    "duration": 82,
    "start_time": "2022-12-09T14:22:19.175Z"
   },
   {
    "duration": 3643,
    "start_time": "2022-12-09T14:22:19.265Z"
   },
   {
    "duration": 103,
    "start_time": "2022-12-09T14:22:22.910Z"
   },
   {
    "duration": 261,
    "start_time": "2022-12-09T14:22:23.016Z"
   },
   {
    "duration": 25,
    "start_time": "2022-12-09T14:22:23.279Z"
   },
   {
    "duration": 70,
    "start_time": "2022-12-09T14:22:23.306Z"
   },
   {
    "duration": 184,
    "start_time": "2022-12-09T14:22:23.378Z"
   },
   {
    "duration": 224,
    "start_time": "2022-12-09T14:22:23.564Z"
   },
   {
    "duration": 85,
    "start_time": "2022-12-09T14:22:23.790Z"
   },
   {
    "duration": 220,
    "start_time": "2022-12-09T14:22:23.877Z"
   },
   {
    "duration": 3,
    "start_time": "2022-12-09T14:22:24.099Z"
   },
   {
    "duration": 9,
    "start_time": "2022-12-09T14:22:24.104Z"
   },
   {
    "duration": 48,
    "start_time": "2022-12-09T14:22:24.115Z"
   },
   {
    "duration": 76,
    "start_time": "2022-12-09T14:22:24.165Z"
   },
   {
    "duration": 33,
    "start_time": "2022-12-09T14:22:24.244Z"
   },
   {
    "duration": 3,
    "start_time": "2022-12-09T14:22:24.279Z"
   },
   {
    "duration": 21,
    "start_time": "2022-12-09T14:22:24.284Z"
   },
   {
    "duration": 4,
    "start_time": "2022-12-09T14:22:24.307Z"
   },
   {
    "duration": 2018,
    "start_time": "2022-12-09T14:22:24.313Z"
   },
   {
    "duration": 215648,
    "start_time": "2022-12-09T14:22:26.333Z"
   },
   {
    "duration": 5,
    "start_time": "2022-12-09T14:26:02.061Z"
   },
   {
    "duration": 639,
    "start_time": "2022-12-09T14:26:02.074Z"
   },
   {
    "duration": 1325906,
    "start_time": "2022-12-09T14:26:02.715Z"
   },
   {
    "duration": 0,
    "start_time": "2022-12-09T14:48:08.623Z"
   },
   {
    "duration": 0,
    "start_time": "2022-12-09T14:48:08.624Z"
   },
   {
    "duration": 0,
    "start_time": "2022-12-09T14:48:08.625Z"
   },
   {
    "duration": 0,
    "start_time": "2022-12-09T14:48:08.626Z"
   },
   {
    "duration": 0,
    "start_time": "2022-12-09T14:48:08.628Z"
   },
   {
    "duration": 0,
    "start_time": "2022-12-09T14:48:08.629Z"
   },
   {
    "duration": 0,
    "start_time": "2022-12-09T14:48:08.630Z"
   },
   {
    "duration": 0,
    "start_time": "2022-12-09T14:48:08.631Z"
   },
   {
    "duration": 213,
    "start_time": "2022-12-09T17:04:53.125Z"
   },
   {
    "duration": 59,
    "start_time": "2022-12-09T17:05:25.161Z"
   },
   {
    "duration": 1638,
    "start_time": "2022-12-09T17:05:30.010Z"
   },
   {
    "duration": 1190,
    "start_time": "2022-12-09T17:05:31.650Z"
   },
   {
    "duration": 22,
    "start_time": "2022-12-09T17:05:32.842Z"
   },
   {
    "duration": 150,
    "start_time": "2022-12-09T17:05:32.866Z"
   },
   {
    "duration": 267,
    "start_time": "2022-12-09T17:05:33.017Z"
   },
   {
    "duration": 12,
    "start_time": "2022-12-09T17:05:33.285Z"
   },
   {
    "duration": 31,
    "start_time": "2022-12-09T17:05:33.300Z"
   },
   {
    "duration": 83,
    "start_time": "2022-12-09T17:05:33.333Z"
   },
   {
    "duration": 26,
    "start_time": "2022-12-09T17:05:33.418Z"
   },
   {
    "duration": 21,
    "start_time": "2022-12-09T17:05:33.447Z"
   },
   {
    "duration": 67,
    "start_time": "2022-12-09T17:05:33.469Z"
   },
   {
    "duration": 4,
    "start_time": "2022-12-09T17:05:33.537Z"
   },
   {
    "duration": 151,
    "start_time": "2022-12-09T17:05:33.542Z"
   },
   {
    "duration": 56,
    "start_time": "2022-12-09T17:05:33.696Z"
   },
   {
    "duration": 3293,
    "start_time": "2022-12-09T17:05:33.753Z"
   },
   {
    "duration": 73,
    "start_time": "2022-12-09T17:05:37.048Z"
   },
   {
    "duration": 224,
    "start_time": "2022-12-09T17:05:37.122Z"
   },
   {
    "duration": 24,
    "start_time": "2022-12-09T17:05:37.347Z"
   },
   {
    "duration": 59,
    "start_time": "2022-12-09T17:05:37.372Z"
   },
   {
    "duration": 176,
    "start_time": "2022-12-09T17:05:37.433Z"
   },
   {
    "duration": 165,
    "start_time": "2022-12-09T17:05:37.612Z"
   },
   {
    "duration": 68,
    "start_time": "2022-12-09T17:05:37.779Z"
   },
   {
    "duration": 138,
    "start_time": "2022-12-09T17:05:37.849Z"
   },
   {
    "duration": 10,
    "start_time": "2022-12-09T17:05:37.995Z"
   },
   {
    "duration": 12,
    "start_time": "2022-12-09T17:05:38.008Z"
   },
   {
    "duration": 32,
    "start_time": "2022-12-09T17:05:38.022Z"
   },
   {
    "duration": 72,
    "start_time": "2022-12-09T17:05:38.056Z"
   },
   {
    "duration": 20,
    "start_time": "2022-12-09T17:05:38.131Z"
   },
   {
    "duration": 7,
    "start_time": "2022-12-09T17:05:38.152Z"
   },
   {
    "duration": 20,
    "start_time": "2022-12-09T17:05:38.161Z"
   },
   {
    "duration": 3,
    "start_time": "2022-12-09T17:05:38.197Z"
   },
   {
    "duration": 1715,
    "start_time": "2022-12-09T17:05:38.201Z"
   },
   {
    "duration": 99200,
    "start_time": "2022-12-09T17:05:39.918Z"
   },
   {
    "duration": 3,
    "start_time": "2022-12-09T17:07:19.199Z"
   },
   {
    "duration": 529,
    "start_time": "2022-12-09T17:07:19.208Z"
   },
   {
    "duration": 1527668,
    "start_time": "2022-12-09T17:07:19.738Z"
   },
   {
    "duration": 3,
    "start_time": "2022-12-09T17:32:47.407Z"
   },
   {
    "duration": 8,
    "start_time": "2022-12-09T17:32:47.411Z"
   },
   {
    "duration": 3,
    "start_time": "2022-12-09T17:32:47.421Z"
   },
   {
    "duration": 166,
    "start_time": "2022-12-09T17:32:47.426Z"
   },
   {
    "duration": 0,
    "start_time": "2022-12-09T17:32:47.596Z"
   },
   {
    "duration": 0,
    "start_time": "2022-12-09T17:32:47.597Z"
   },
   {
    "duration": 0,
    "start_time": "2022-12-09T17:32:47.597Z"
   },
   {
    "duration": 0,
    "start_time": "2022-12-09T17:32:47.598Z"
   },
   {
    "duration": 52,
    "start_time": "2022-12-10T14:30:56.753Z"
   },
   {
    "duration": 6,
    "start_time": "2022-12-10T14:31:19.163Z"
   },
   {
    "duration": 10,
    "start_time": "2022-12-10T14:31:19.770Z"
   },
   {
    "duration": 1902,
    "start_time": "2022-12-10T14:31:26.951Z"
   },
   {
    "duration": 1290,
    "start_time": "2022-12-10T14:31:28.855Z"
   },
   {
    "duration": 33,
    "start_time": "2022-12-10T14:31:30.147Z"
   },
   {
    "duration": 120,
    "start_time": "2022-12-10T14:31:30.183Z"
   },
   {
    "duration": 288,
    "start_time": "2022-12-10T14:31:30.306Z"
   },
   {
    "duration": 7,
    "start_time": "2022-12-10T14:31:30.596Z"
   },
   {
    "duration": 41,
    "start_time": "2022-12-10T14:31:30.605Z"
   },
   {
    "duration": 94,
    "start_time": "2022-12-10T14:31:30.648Z"
   },
   {
    "duration": 44,
    "start_time": "2022-12-10T14:31:30.743Z"
   },
   {
    "duration": 60,
    "start_time": "2022-12-10T14:31:30.789Z"
   },
   {
    "duration": 87,
    "start_time": "2022-12-10T14:31:30.851Z"
   },
   {
    "duration": 34,
    "start_time": "2022-12-10T14:31:30.941Z"
   },
   {
    "duration": 177,
    "start_time": "2022-12-10T14:31:30.977Z"
   },
   {
    "duration": 85,
    "start_time": "2022-12-10T14:31:31.159Z"
   },
   {
    "duration": 3431,
    "start_time": "2022-12-10T14:31:31.246Z"
   },
   {
    "duration": 97,
    "start_time": "2022-12-10T14:31:34.680Z"
   },
   {
    "duration": 163,
    "start_time": "2022-12-10T14:31:34.779Z"
   },
   {
    "duration": 35,
    "start_time": "2022-12-10T14:31:34.944Z"
   },
   {
    "duration": 48,
    "start_time": "2022-12-10T14:31:34.981Z"
   },
   {
    "duration": 277,
    "start_time": "2022-12-10T14:31:35.032Z"
   },
   {
    "duration": 180,
    "start_time": "2022-12-10T14:31:35.312Z"
   },
   {
    "duration": 63,
    "start_time": "2022-12-10T14:31:35.494Z"
   },
   {
    "duration": 148,
    "start_time": "2022-12-10T14:31:35.559Z"
   },
   {
    "duration": 3,
    "start_time": "2022-12-10T14:31:35.708Z"
   },
   {
    "duration": 10,
    "start_time": "2022-12-10T14:31:35.713Z"
   },
   {
    "duration": 58,
    "start_time": "2022-12-10T14:31:35.725Z"
   },
   {
    "duration": 77,
    "start_time": "2022-12-10T14:31:35.786Z"
   },
   {
    "duration": 31,
    "start_time": "2022-12-10T14:31:35.867Z"
   },
   {
    "duration": 20,
    "start_time": "2022-12-10T14:31:35.900Z"
   },
   {
    "duration": 30,
    "start_time": "2022-12-10T14:31:35.923Z"
   },
   {
    "duration": 5,
    "start_time": "2022-12-10T14:31:35.954Z"
   },
   {
    "duration": 1763,
    "start_time": "2022-12-10T14:31:35.960Z"
   },
   {
    "duration": 117356,
    "start_time": "2022-12-10T14:31:37.724Z"
   },
   {
    "duration": 9,
    "start_time": "2022-12-10T14:33:35.082Z"
   },
   {
    "duration": 482,
    "start_time": "2022-12-10T14:33:35.178Z"
   },
   {
    "duration": 1490,
    "start_time": "2022-12-10T17:13:17.631Z"
   },
   {
    "duration": 974,
    "start_time": "2022-12-10T17:13:19.124Z"
   },
   {
    "duration": 18,
    "start_time": "2022-12-10T17:13:20.100Z"
   },
   {
    "duration": 139,
    "start_time": "2022-12-10T17:13:20.120Z"
   },
   {
    "duration": 292,
    "start_time": "2022-12-10T17:13:20.262Z"
   },
   {
    "duration": 5,
    "start_time": "2022-12-10T17:13:20.556Z"
   },
   {
    "duration": 43,
    "start_time": "2022-12-10T17:13:20.563Z"
   },
   {
    "duration": 79,
    "start_time": "2022-12-10T17:13:20.607Z"
   },
   {
    "duration": 34,
    "start_time": "2022-12-10T17:13:20.688Z"
   },
   {
    "duration": 23,
    "start_time": "2022-12-10T17:13:20.724Z"
   },
   {
    "duration": 69,
    "start_time": "2022-12-10T17:13:20.749Z"
   },
   {
    "duration": 4,
    "start_time": "2022-12-10T17:13:20.819Z"
   },
   {
    "duration": 171,
    "start_time": "2022-12-10T17:13:20.824Z"
   },
   {
    "duration": 62,
    "start_time": "2022-12-10T17:13:20.999Z"
   },
   {
    "duration": 3213,
    "start_time": "2022-12-10T17:13:21.077Z"
   },
   {
    "duration": 69,
    "start_time": "2022-12-10T17:13:24.292Z"
   },
   {
    "duration": 144,
    "start_time": "2022-12-10T17:13:24.363Z"
   },
   {
    "duration": 27,
    "start_time": "2022-12-10T17:13:24.509Z"
   },
   {
    "duration": 64,
    "start_time": "2022-12-10T17:13:24.537Z"
   },
   {
    "duration": 253,
    "start_time": "2022-12-10T17:13:24.603Z"
   },
   {
    "duration": 179,
    "start_time": "2022-12-10T17:13:24.858Z"
   },
   {
    "duration": 66,
    "start_time": "2022-12-10T17:13:25.039Z"
   },
   {
    "duration": 141,
    "start_time": "2022-12-10T17:13:25.107Z"
   },
   {
    "duration": 3,
    "start_time": "2022-12-10T17:13:25.250Z"
   },
   {
    "duration": 12,
    "start_time": "2022-12-10T17:13:25.254Z"
   },
   {
    "duration": 43,
    "start_time": "2022-12-10T17:13:25.268Z"
   },
   {
    "duration": 68,
    "start_time": "2022-12-10T17:13:25.313Z"
   },
   {
    "duration": 20,
    "start_time": "2022-12-10T17:13:25.383Z"
   },
   {
    "duration": 5,
    "start_time": "2022-12-10T17:13:25.405Z"
   },
   {
    "duration": 21,
    "start_time": "2022-12-10T17:13:25.412Z"
   },
   {
    "duration": 19,
    "start_time": "2022-12-10T17:13:25.434Z"
   },
   {
    "duration": 1627,
    "start_time": "2022-12-10T17:13:25.455Z"
   },
   {
    "duration": 0,
    "start_time": "2022-12-10T17:13:27.085Z"
   },
   {
    "duration": 0,
    "start_time": "2022-12-10T17:13:27.086Z"
   },
   {
    "duration": 0,
    "start_time": "2022-12-10T17:13:27.088Z"
   },
   {
    "duration": 0,
    "start_time": "2022-12-10T17:13:27.090Z"
   },
   {
    "duration": 0,
    "start_time": "2022-12-10T17:13:27.091Z"
   },
   {
    "duration": 0,
    "start_time": "2022-12-10T17:13:27.092Z"
   },
   {
    "duration": 0,
    "start_time": "2022-12-10T17:13:27.093Z"
   },
   {
    "duration": 0,
    "start_time": "2022-12-10T17:13:27.094Z"
   },
   {
    "duration": 0,
    "start_time": "2022-12-10T17:13:27.096Z"
   },
   {
    "duration": 0,
    "start_time": "2022-12-10T17:13:27.097Z"
   },
   {
    "duration": 0,
    "start_time": "2022-12-10T17:13:27.098Z"
   },
   {
    "duration": 0,
    "start_time": "2022-12-10T17:13:27.100Z"
   },
   {
    "duration": 0,
    "start_time": "2022-12-10T17:13:27.101Z"
   },
   {
    "duration": 0,
    "start_time": "2022-12-10T17:13:27.102Z"
   },
   {
    "duration": 0,
    "start_time": "2022-12-10T17:13:27.104Z"
   },
   {
    "duration": 1424,
    "start_time": "2022-12-10T17:14:10.703Z"
   },
   {
    "duration": 959,
    "start_time": "2022-12-10T17:14:12.129Z"
   },
   {
    "duration": 19,
    "start_time": "2022-12-10T17:14:13.089Z"
   },
   {
    "duration": 152,
    "start_time": "2022-12-10T17:14:13.110Z"
   },
   {
    "duration": 303,
    "start_time": "2022-12-10T17:14:13.264Z"
   },
   {
    "duration": 5,
    "start_time": "2022-12-10T17:14:13.569Z"
   },
   {
    "duration": 39,
    "start_time": "2022-12-10T17:14:13.577Z"
   },
   {
    "duration": 90,
    "start_time": "2022-12-10T17:14:13.617Z"
   },
   {
    "duration": 32,
    "start_time": "2022-12-10T17:14:13.708Z"
   },
   {
    "duration": 40,
    "start_time": "2022-12-10T17:14:13.741Z"
   },
   {
    "duration": 44,
    "start_time": "2022-12-10T17:14:13.783Z"
   },
   {
    "duration": 8,
    "start_time": "2022-12-10T17:14:13.829Z"
   },
   {
    "duration": 164,
    "start_time": "2022-12-10T17:14:13.838Z"
   },
   {
    "duration": 61,
    "start_time": "2022-12-10T17:14:14.005Z"
   },
   {
    "duration": 3163,
    "start_time": "2022-12-10T17:14:14.078Z"
   },
   {
    "duration": 79,
    "start_time": "2022-12-10T17:14:17.243Z"
   },
   {
    "duration": 143,
    "start_time": "2022-12-10T17:14:17.323Z"
   },
   {
    "duration": 37,
    "start_time": "2022-12-10T17:14:17.467Z"
   },
   {
    "duration": 48,
    "start_time": "2022-12-10T17:14:17.506Z"
   },
   {
    "duration": 274,
    "start_time": "2022-12-10T17:14:17.556Z"
   },
   {
    "duration": 185,
    "start_time": "2022-12-10T17:14:17.831Z"
   },
   {
    "duration": 66,
    "start_time": "2022-12-10T17:14:18.018Z"
   },
   {
    "duration": 134,
    "start_time": "2022-12-10T17:14:18.086Z"
   },
   {
    "duration": 4,
    "start_time": "2022-12-10T17:14:18.222Z"
   },
   {
    "duration": 15,
    "start_time": "2022-12-10T17:14:18.229Z"
   },
   {
    "duration": 49,
    "start_time": "2022-12-10T17:14:18.246Z"
   },
   {
    "duration": 97,
    "start_time": "2022-12-10T17:14:18.298Z"
   },
   {
    "duration": 26,
    "start_time": "2022-12-10T17:14:18.397Z"
   },
   {
    "duration": 7,
    "start_time": "2022-12-10T17:14:18.425Z"
   },
   {
    "duration": 47,
    "start_time": "2022-12-10T17:14:18.433Z"
   },
   {
    "duration": 20,
    "start_time": "2022-12-10T17:14:18.483Z"
   },
   {
    "duration": 1822,
    "start_time": "2022-12-10T17:14:18.504Z"
   },
   {
    "duration": 104457,
    "start_time": "2022-12-10T17:14:20.328Z"
   },
   {
    "duration": 91,
    "start_time": "2022-12-10T17:16:04.787Z"
   },
   {
    "duration": 485,
    "start_time": "2022-12-10T17:16:04.880Z"
   },
   {
    "duration": 1530,
    "start_time": "2022-12-10T18:39:03.163Z"
   },
   {
    "duration": 1020,
    "start_time": "2022-12-10T18:39:04.696Z"
   },
   {
    "duration": 28,
    "start_time": "2022-12-10T18:39:05.718Z"
   },
   {
    "duration": 157,
    "start_time": "2022-12-10T18:39:05.748Z"
   },
   {
    "duration": 400,
    "start_time": "2022-12-10T18:39:05.909Z"
   },
   {
    "duration": 6,
    "start_time": "2022-12-10T18:39:06.311Z"
   },
   {
    "duration": 39,
    "start_time": "2022-12-10T18:39:06.318Z"
   },
   {
    "duration": 117,
    "start_time": "2022-12-10T18:39:06.359Z"
   },
   {
    "duration": 32,
    "start_time": "2022-12-10T18:39:06.478Z"
   },
   {
    "duration": 29,
    "start_time": "2022-12-10T18:39:06.513Z"
   },
   {
    "duration": 74,
    "start_time": "2022-12-10T18:39:06.544Z"
   },
   {
    "duration": 49,
    "start_time": "2022-12-10T18:39:06.620Z"
   },
   {
    "duration": 152,
    "start_time": "2022-12-10T18:39:06.671Z"
   },
   {
    "duration": 71,
    "start_time": "2022-12-10T18:39:06.826Z"
   },
   {
    "duration": 3575,
    "start_time": "2022-12-10T18:39:06.899Z"
   },
   {
    "duration": 80,
    "start_time": "2022-12-10T18:39:10.477Z"
   },
   {
    "duration": 170,
    "start_time": "2022-12-10T18:39:10.559Z"
   },
   {
    "duration": 27,
    "start_time": "2022-12-10T18:39:10.731Z"
   },
   {
    "duration": 66,
    "start_time": "2022-12-10T18:39:10.760Z"
   },
   {
    "duration": 312,
    "start_time": "2022-12-10T18:39:10.828Z"
   },
   {
    "duration": 235,
    "start_time": "2022-12-10T18:39:11.142Z"
   },
   {
    "duration": 75,
    "start_time": "2022-12-10T18:39:11.379Z"
   },
   {
    "duration": 253,
    "start_time": "2022-12-10T18:39:11.456Z"
   },
   {
    "duration": 3,
    "start_time": "2022-12-10T18:39:11.711Z"
   },
   {
    "duration": 12,
    "start_time": "2022-12-10T18:39:11.716Z"
   },
   {
    "duration": 49,
    "start_time": "2022-12-10T18:39:11.730Z"
   },
   {
    "duration": 80,
    "start_time": "2022-12-10T18:39:11.781Z"
   },
   {
    "duration": 33,
    "start_time": "2022-12-10T18:39:11.864Z"
   },
   {
    "duration": 5,
    "start_time": "2022-12-10T18:39:11.899Z"
   },
   {
    "duration": 24,
    "start_time": "2022-12-10T18:39:11.906Z"
   },
   {
    "duration": 5,
    "start_time": "2022-12-10T18:39:11.933Z"
   },
   {
    "duration": 1655,
    "start_time": "2022-12-10T18:39:11.939Z"
   },
   {
    "duration": 0,
    "start_time": "2022-12-10T18:39:13.596Z"
   },
   {
    "duration": 0,
    "start_time": "2022-12-10T18:39:13.598Z"
   },
   {
    "duration": 0,
    "start_time": "2022-12-10T18:39:13.599Z"
   },
   {
    "duration": 0,
    "start_time": "2022-12-10T18:39:13.600Z"
   },
   {
    "duration": 0,
    "start_time": "2022-12-10T18:39:13.601Z"
   },
   {
    "duration": 0,
    "start_time": "2022-12-10T18:39:13.602Z"
   },
   {
    "duration": 0,
    "start_time": "2022-12-10T18:39:13.603Z"
   },
   {
    "duration": 0,
    "start_time": "2022-12-10T18:39:13.604Z"
   },
   {
    "duration": 0,
    "start_time": "2022-12-10T18:39:13.606Z"
   },
   {
    "duration": 0,
    "start_time": "2022-12-10T18:39:13.607Z"
   },
   {
    "duration": 0,
    "start_time": "2022-12-10T18:39:13.608Z"
   },
   {
    "duration": 0,
    "start_time": "2022-12-10T18:39:13.609Z"
   },
   {
    "duration": 0,
    "start_time": "2022-12-10T18:39:13.610Z"
   },
   {
    "duration": 0,
    "start_time": "2022-12-10T18:39:13.611Z"
   },
   {
    "duration": 0,
    "start_time": "2022-12-10T18:39:13.612Z"
   },
   {
    "duration": 1496,
    "start_time": "2022-12-10T18:39:28.016Z"
   },
   {
    "duration": 1044,
    "start_time": "2022-12-10T18:39:29.514Z"
   },
   {
    "duration": 21,
    "start_time": "2022-12-10T18:39:30.560Z"
   },
   {
    "duration": 159,
    "start_time": "2022-12-10T18:39:30.583Z"
   },
   {
    "duration": 310,
    "start_time": "2022-12-10T18:39:30.746Z"
   },
   {
    "duration": 7,
    "start_time": "2022-12-10T18:39:31.058Z"
   },
   {
    "duration": 55,
    "start_time": "2022-12-10T18:39:31.067Z"
   },
   {
    "duration": 92,
    "start_time": "2022-12-10T18:39:31.125Z"
   },
   {
    "duration": 36,
    "start_time": "2022-12-10T18:39:31.218Z"
   },
   {
    "duration": 39,
    "start_time": "2022-12-10T18:39:31.255Z"
   },
   {
    "duration": 46,
    "start_time": "2022-12-10T18:39:31.296Z"
   },
   {
    "duration": 21,
    "start_time": "2022-12-10T18:39:31.344Z"
   },
   {
    "duration": 164,
    "start_time": "2022-12-10T18:39:31.367Z"
   },
   {
    "duration": 78,
    "start_time": "2022-12-10T18:39:31.534Z"
   },
   {
    "duration": 3276,
    "start_time": "2022-12-10T18:39:31.614Z"
   },
   {
    "duration": 89,
    "start_time": "2022-12-10T18:39:34.892Z"
   },
   {
    "duration": 212,
    "start_time": "2022-12-10T18:39:34.983Z"
   },
   {
    "duration": 38,
    "start_time": "2022-12-10T18:39:35.197Z"
   },
   {
    "duration": 72,
    "start_time": "2022-12-10T18:39:35.237Z"
   },
   {
    "duration": 273,
    "start_time": "2022-12-10T18:39:35.311Z"
   },
   {
    "duration": 208,
    "start_time": "2022-12-10T18:39:35.586Z"
   },
   {
    "duration": 91,
    "start_time": "2022-12-10T18:39:35.796Z"
   },
   {
    "duration": 172,
    "start_time": "2022-12-10T18:39:35.889Z"
   },
   {
    "duration": 15,
    "start_time": "2022-12-10T18:39:36.063Z"
   },
   {
    "duration": 15,
    "start_time": "2022-12-10T18:39:36.080Z"
   },
   {
    "duration": 72,
    "start_time": "2022-12-10T18:39:36.097Z"
   },
   {
    "duration": 72,
    "start_time": "2022-12-10T18:39:36.172Z"
   },
   {
    "duration": 37,
    "start_time": "2022-12-10T18:39:36.246Z"
   },
   {
    "duration": 4,
    "start_time": "2022-12-10T18:39:36.285Z"
   },
   {
    "duration": 26,
    "start_time": "2022-12-10T18:39:36.290Z"
   },
   {
    "duration": 23,
    "start_time": "2022-12-10T18:39:36.318Z"
   },
   {
    "duration": 1823,
    "start_time": "2022-12-10T18:39:36.343Z"
   },
   {
    "duration": 125415,
    "start_time": "2022-12-10T18:39:38.168Z"
   },
   {
    "duration": 5,
    "start_time": "2022-12-10T18:41:43.586Z"
   },
   {
    "duration": 506,
    "start_time": "2022-12-10T18:41:43.678Z"
   },
   {
    "duration": 1611,
    "start_time": "2022-12-10T21:32:32.663Z"
   },
   {
    "duration": 1093,
    "start_time": "2022-12-10T21:32:34.277Z"
   },
   {
    "duration": 27,
    "start_time": "2022-12-10T21:32:35.372Z"
   },
   {
    "duration": 166,
    "start_time": "2022-12-10T21:32:35.401Z"
   },
   {
    "duration": 352,
    "start_time": "2022-12-10T21:32:35.571Z"
   },
   {
    "duration": 8,
    "start_time": "2022-12-10T21:32:35.926Z"
   },
   {
    "duration": 52,
    "start_time": "2022-12-10T21:32:35.937Z"
   },
   {
    "duration": 87,
    "start_time": "2022-12-10T21:32:35.992Z"
   },
   {
    "duration": 32,
    "start_time": "2022-12-10T21:32:36.081Z"
   },
   {
    "duration": 27,
    "start_time": "2022-12-10T21:32:36.117Z"
   },
   {
    "duration": 68,
    "start_time": "2022-12-10T21:32:36.146Z"
   },
   {
    "duration": 5,
    "start_time": "2022-12-10T21:32:36.216Z"
   },
   {
    "duration": 188,
    "start_time": "2022-12-10T21:32:36.222Z"
   },
   {
    "duration": 85,
    "start_time": "2022-12-10T21:32:36.412Z"
   },
   {
    "duration": 3584,
    "start_time": "2022-12-10T21:32:36.499Z"
   },
   {
    "duration": 118,
    "start_time": "2022-12-10T21:32:40.090Z"
   },
   {
    "duration": 289,
    "start_time": "2022-12-10T21:32:40.211Z"
   },
   {
    "duration": 29,
    "start_time": "2022-12-10T21:32:40.502Z"
   },
   {
    "duration": 80,
    "start_time": "2022-12-10T21:32:40.533Z"
   },
   {
    "duration": 185,
    "start_time": "2022-12-10T21:32:40.615Z"
   },
   {
    "duration": 205,
    "start_time": "2022-12-10T21:32:40.802Z"
   },
   {
    "duration": 78,
    "start_time": "2022-12-10T21:32:41.010Z"
   },
   {
    "duration": 154,
    "start_time": "2022-12-10T21:32:41.090Z"
   },
   {
    "duration": 2,
    "start_time": "2022-12-10T21:32:41.246Z"
   },
   {
    "duration": 13,
    "start_time": "2022-12-10T21:32:41.251Z"
   },
   {
    "duration": 69,
    "start_time": "2022-12-10T21:32:41.266Z"
   },
   {
    "duration": 122,
    "start_time": "2022-12-10T21:32:41.338Z"
   },
   {
    "duration": 38,
    "start_time": "2022-12-10T21:32:41.465Z"
   },
   {
    "duration": 3,
    "start_time": "2022-12-10T21:32:41.506Z"
   },
   {
    "duration": 33,
    "start_time": "2022-12-10T21:32:41.512Z"
   },
   {
    "duration": 30,
    "start_time": "2022-12-10T21:32:41.548Z"
   },
   {
    "duration": 1679,
    "start_time": "2022-12-10T21:32:41.581Z"
   },
   {
    "duration": 0,
    "start_time": "2022-12-10T21:32:43.263Z"
   },
   {
    "duration": 0,
    "start_time": "2022-12-10T21:32:43.265Z"
   },
   {
    "duration": 0,
    "start_time": "2022-12-10T21:32:43.267Z"
   },
   {
    "duration": 0,
    "start_time": "2022-12-10T21:32:43.269Z"
   },
   {
    "duration": 0,
    "start_time": "2022-12-10T21:32:43.279Z"
   },
   {
    "duration": 0,
    "start_time": "2022-12-10T21:32:43.281Z"
   },
   {
    "duration": 0,
    "start_time": "2022-12-10T21:32:43.283Z"
   },
   {
    "duration": 0,
    "start_time": "2022-12-10T21:32:43.284Z"
   },
   {
    "duration": 0,
    "start_time": "2022-12-10T21:32:43.285Z"
   },
   {
    "duration": 0,
    "start_time": "2022-12-10T21:32:43.286Z"
   },
   {
    "duration": 0,
    "start_time": "2022-12-10T21:32:43.287Z"
   },
   {
    "duration": 0,
    "start_time": "2022-12-10T21:32:43.289Z"
   },
   {
    "duration": 1,
    "start_time": "2022-12-10T21:32:43.290Z"
   },
   {
    "duration": 0,
    "start_time": "2022-12-10T21:32:43.292Z"
   },
   {
    "duration": 0,
    "start_time": "2022-12-10T21:32:43.294Z"
   },
   {
    "duration": 1609,
    "start_time": "2022-12-10T21:32:50.839Z"
   },
   {
    "duration": 1132,
    "start_time": "2022-12-10T21:32:52.450Z"
   },
   {
    "duration": 27,
    "start_time": "2022-12-10T21:32:53.585Z"
   },
   {
    "duration": 198,
    "start_time": "2022-12-10T21:32:53.614Z"
   },
   {
    "duration": 485,
    "start_time": "2022-12-10T21:32:53.814Z"
   },
   {
    "duration": 6,
    "start_time": "2022-12-10T21:32:54.301Z"
   },
   {
    "duration": 69,
    "start_time": "2022-12-10T21:32:54.309Z"
   },
   {
    "duration": 83,
    "start_time": "2022-12-10T21:32:54.381Z"
   },
   {
    "duration": 34,
    "start_time": "2022-12-10T21:32:54.478Z"
   },
   {
    "duration": 37,
    "start_time": "2022-12-10T21:32:54.516Z"
   },
   {
    "duration": 84,
    "start_time": "2022-12-10T21:32:54.577Z"
   },
   {
    "duration": 41,
    "start_time": "2022-12-10T21:32:54.663Z"
   },
   {
    "duration": 166,
    "start_time": "2022-12-10T21:32:54.706Z"
   },
   {
    "duration": 86,
    "start_time": "2022-12-10T21:32:54.874Z"
   },
   {
    "duration": 3696,
    "start_time": "2022-12-10T21:32:54.963Z"
   },
   {
    "duration": 87,
    "start_time": "2022-12-10T21:32:58.661Z"
   },
   {
    "duration": 308,
    "start_time": "2022-12-10T21:32:58.750Z"
   },
   {
    "duration": 40,
    "start_time": "2022-12-10T21:32:59.060Z"
   },
   {
    "duration": 55,
    "start_time": "2022-12-10T21:32:59.103Z"
   },
   {
    "duration": 265,
    "start_time": "2022-12-10T21:32:59.160Z"
   },
   {
    "duration": 210,
    "start_time": "2022-12-10T21:32:59.428Z"
   },
   {
    "duration": 81,
    "start_time": "2022-12-10T21:32:59.640Z"
   },
   {
    "duration": 161,
    "start_time": "2022-12-10T21:32:59.724Z"
   },
   {
    "duration": 3,
    "start_time": "2022-12-10T21:32:59.887Z"
   },
   {
    "duration": 34,
    "start_time": "2022-12-10T21:32:59.891Z"
   },
   {
    "duration": 55,
    "start_time": "2022-12-10T21:32:59.928Z"
   },
   {
    "duration": 84,
    "start_time": "2022-12-10T21:32:59.985Z"
   },
   {
    "duration": 31,
    "start_time": "2022-12-10T21:33:00.080Z"
   },
   {
    "duration": 6,
    "start_time": "2022-12-10T21:33:00.113Z"
   },
   {
    "duration": 37,
    "start_time": "2022-12-10T21:33:00.121Z"
   },
   {
    "duration": 4,
    "start_time": "2022-12-10T21:33:00.179Z"
   },
   {
    "duration": 1876,
    "start_time": "2022-12-10T21:33:00.185Z"
   },
   {
    "duration": 130614,
    "start_time": "2022-12-10T21:33:02.063Z"
   },
   {
    "duration": 5,
    "start_time": "2022-12-10T21:35:12.679Z"
   },
   {
    "duration": 577,
    "start_time": "2022-12-10T21:35:12.687Z"
   },
   {
    "duration": 1425,
    "start_time": "2022-12-10T22:21:23.663Z"
   },
   {
    "duration": 993,
    "start_time": "2022-12-10T22:21:25.090Z"
   },
   {
    "duration": 27,
    "start_time": "2022-12-10T22:21:26.085Z"
   },
   {
    "duration": 121,
    "start_time": "2022-12-10T22:21:26.114Z"
   },
   {
    "duration": 1462,
    "start_time": "2022-12-10T22:21:27.997Z"
   },
   {
    "duration": 944,
    "start_time": "2022-12-10T22:21:29.461Z"
   },
   {
    "duration": 17,
    "start_time": "2022-12-10T22:21:30.407Z"
   },
   {
    "duration": 120,
    "start_time": "2022-12-10T22:21:30.427Z"
   },
   {
    "duration": 299,
    "start_time": "2022-12-10T22:21:30.548Z"
   },
   {
    "duration": 6,
    "start_time": "2022-12-10T22:21:30.849Z"
   },
   {
    "duration": 54,
    "start_time": "2022-12-10T22:21:30.857Z"
   },
   {
    "duration": 82,
    "start_time": "2022-12-10T22:21:30.913Z"
   },
   {
    "duration": 41,
    "start_time": "2022-12-10T22:21:30.997Z"
   },
   {
    "duration": 37,
    "start_time": "2022-12-10T22:21:31.041Z"
   },
   {
    "duration": 45,
    "start_time": "2022-12-10T22:21:31.079Z"
   },
   {
    "duration": 9,
    "start_time": "2022-12-10T22:21:31.126Z"
   },
   {
    "duration": 163,
    "start_time": "2022-12-10T22:21:31.137Z"
   },
   {
    "duration": 56,
    "start_time": "2022-12-10T22:21:31.302Z"
   },
   {
    "duration": 3215,
    "start_time": "2022-12-10T22:21:31.360Z"
   },
   {
    "duration": 72,
    "start_time": "2022-12-10T22:21:34.578Z"
   },
   {
    "duration": 233,
    "start_time": "2022-12-10T22:21:34.652Z"
   },
   {
    "duration": 26,
    "start_time": "2022-12-10T22:21:34.887Z"
   },
   {
    "duration": 63,
    "start_time": "2022-12-10T22:21:34.915Z"
   },
   {
    "duration": 170,
    "start_time": "2022-12-10T22:21:34.980Z"
   },
   {
    "duration": 174,
    "start_time": "2022-12-10T22:21:35.153Z"
   },
   {
    "duration": 63,
    "start_time": "2022-12-10T22:21:35.328Z"
   },
   {
    "duration": 133,
    "start_time": "2022-12-10T22:21:35.393Z"
   },
   {
    "duration": 3,
    "start_time": "2022-12-10T22:21:35.528Z"
   },
   {
    "duration": 9,
    "start_time": "2022-12-10T22:21:35.533Z"
   },
   {
    "duration": 50,
    "start_time": "2022-12-10T22:21:35.544Z"
   },
   {
    "duration": 67,
    "start_time": "2022-12-10T22:21:35.596Z"
   },
   {
    "duration": 19,
    "start_time": "2022-12-10T22:21:35.678Z"
   },
   {
    "duration": 3,
    "start_time": "2022-12-10T22:21:35.698Z"
   },
   {
    "duration": 20,
    "start_time": "2022-12-10T22:21:35.703Z"
   },
   {
    "duration": 4,
    "start_time": "2022-12-10T22:21:35.725Z"
   },
   {
    "duration": 1902,
    "start_time": "2022-12-10T22:21:35.730Z"
   },
   {
    "duration": 99248,
    "start_time": "2022-12-10T22:21:37.633Z"
   },
   {
    "duration": 3,
    "start_time": "2022-12-10T22:23:16.884Z"
   },
   {
    "duration": 541,
    "start_time": "2022-12-10T22:23:16.889Z"
   },
   {
    "duration": 1459,
    "start_time": "2022-12-10T22:36:55.348Z"
   },
   {
    "duration": 970,
    "start_time": "2022-12-10T22:36:56.809Z"
   },
   {
    "duration": 18,
    "start_time": "2022-12-10T22:36:57.781Z"
   },
   {
    "duration": 126,
    "start_time": "2022-12-10T22:36:57.801Z"
   },
   {
    "duration": 303,
    "start_time": "2022-12-10T22:36:57.929Z"
   },
   {
    "duration": 7,
    "start_time": "2022-12-10T22:36:58.234Z"
   },
   {
    "duration": 56,
    "start_time": "2022-12-10T22:36:58.243Z"
   },
   {
    "duration": 122,
    "start_time": "2022-12-10T22:36:58.302Z"
   },
   {
    "duration": 32,
    "start_time": "2022-12-10T22:36:58.426Z"
   },
   {
    "duration": 34,
    "start_time": "2022-12-10T22:36:58.461Z"
   },
   {
    "duration": 52,
    "start_time": "2022-12-10T22:36:58.497Z"
   },
   {
    "duration": 4,
    "start_time": "2022-12-10T22:36:58.551Z"
   },
   {
    "duration": 168,
    "start_time": "2022-12-10T22:36:58.557Z"
   },
   {
    "duration": 74,
    "start_time": "2022-12-10T22:36:58.727Z"
   },
   {
    "duration": 3334,
    "start_time": "2022-12-10T22:36:58.803Z"
   },
   {
    "duration": 84,
    "start_time": "2022-12-10T22:37:02.139Z"
   },
   {
    "duration": 245,
    "start_time": "2022-12-10T22:37:02.225Z"
   },
   {
    "duration": 29,
    "start_time": "2022-12-10T22:37:02.472Z"
   },
   {
    "duration": 50,
    "start_time": "2022-12-10T22:37:02.503Z"
   },
   {
    "duration": 183,
    "start_time": "2022-12-10T22:37:02.555Z"
   },
   {
    "duration": 189,
    "start_time": "2022-12-10T22:37:02.740Z"
   },
   {
    "duration": 69,
    "start_time": "2022-12-10T22:37:02.931Z"
   },
   {
    "duration": 146,
    "start_time": "2022-12-10T22:37:03.002Z"
   },
   {
    "duration": 3,
    "start_time": "2022-12-10T22:37:03.150Z"
   },
   {
    "duration": 7,
    "start_time": "2022-12-10T22:37:03.155Z"
   },
   {
    "duration": 50,
    "start_time": "2022-12-10T22:37:03.163Z"
   },
   {
    "duration": 80,
    "start_time": "2022-12-10T22:37:03.215Z"
   },
   {
    "duration": 24,
    "start_time": "2022-12-10T22:37:03.299Z"
   },
   {
    "duration": 9,
    "start_time": "2022-12-10T22:37:03.325Z"
   },
   {
    "duration": 25,
    "start_time": "2022-12-10T22:37:03.335Z"
   },
   {
    "duration": 17,
    "start_time": "2022-12-10T22:37:03.362Z"
   },
   {
    "duration": 1937,
    "start_time": "2022-12-10T22:37:03.382Z"
   },
   {
    "duration": 120262,
    "start_time": "2022-12-10T22:37:05.321Z"
   },
   {
    "duration": 3,
    "start_time": "2022-12-10T22:39:05.585Z"
   },
   {
    "duration": 484,
    "start_time": "2022-12-10T22:39:05.678Z"
   },
   {
    "duration": 125,
    "start_time": "2022-12-10T22:39:06.164Z"
   },
   {
    "duration": 0,
    "start_time": "2022-12-10T22:39:06.291Z"
   },
   {
    "duration": 0,
    "start_time": "2022-12-10T22:39:06.292Z"
   },
   {
    "duration": 0,
    "start_time": "2022-12-10T22:39:06.293Z"
   },
   {
    "duration": 0,
    "start_time": "2022-12-10T22:39:06.295Z"
   },
   {
    "duration": 0,
    "start_time": "2022-12-10T22:39:06.296Z"
   },
   {
    "duration": 0,
    "start_time": "2022-12-10T22:39:06.298Z"
   },
   {
    "duration": 0,
    "start_time": "2022-12-10T22:39:06.298Z"
   },
   {
    "duration": 0,
    "start_time": "2022-12-10T22:39:06.300Z"
   },
   {
    "duration": 0,
    "start_time": "2022-12-10T22:39:06.301Z"
   },
   {
    "duration": 0,
    "start_time": "2022-12-10T22:39:06.303Z"
   },
   {
    "duration": 0,
    "start_time": "2022-12-10T22:39:06.305Z"
   },
   {
    "duration": 1450,
    "start_time": "2022-12-10T22:45:35.933Z"
   },
   {
    "duration": 1012,
    "start_time": "2022-12-10T22:45:37.385Z"
   },
   {
    "duration": 17,
    "start_time": "2022-12-10T22:45:38.399Z"
   },
   {
    "duration": 115,
    "start_time": "2022-12-10T22:45:38.418Z"
   },
   {
    "duration": 294,
    "start_time": "2022-12-10T22:45:38.534Z"
   },
   {
    "duration": 5,
    "start_time": "2022-12-10T22:45:38.830Z"
   },
   {
    "duration": 47,
    "start_time": "2022-12-10T22:45:38.837Z"
   },
   {
    "duration": 1466,
    "start_time": "2022-12-10T22:45:40.936Z"
   },
   {
    "duration": 979,
    "start_time": "2022-12-10T22:45:42.405Z"
   },
   {
    "duration": 19,
    "start_time": "2022-12-10T22:45:43.386Z"
   },
   {
    "duration": 159,
    "start_time": "2022-12-10T22:45:43.407Z"
   },
   {
    "duration": 305,
    "start_time": "2022-12-10T22:45:43.567Z"
   },
   {
    "duration": 10,
    "start_time": "2022-12-10T22:45:43.873Z"
   },
   {
    "duration": 39,
    "start_time": "2022-12-10T22:45:43.885Z"
   },
   {
    "duration": 87,
    "start_time": "2022-12-10T22:45:43.926Z"
   },
   {
    "duration": 43,
    "start_time": "2022-12-10T22:45:44.015Z"
   },
   {
    "duration": 22,
    "start_time": "2022-12-10T22:45:44.077Z"
   },
   {
    "duration": 47,
    "start_time": "2022-12-10T22:45:44.101Z"
   },
   {
    "duration": 4,
    "start_time": "2022-12-10T22:45:44.149Z"
   },
   {
    "duration": 167,
    "start_time": "2022-12-10T22:45:44.155Z"
   },
   {
    "duration": 70,
    "start_time": "2022-12-10T22:45:44.324Z"
   },
   {
    "duration": 3230,
    "start_time": "2022-12-10T22:45:44.396Z"
   },
   {
    "duration": 86,
    "start_time": "2022-12-10T22:45:47.628Z"
   },
   {
    "duration": 240,
    "start_time": "2022-12-10T22:45:47.716Z"
   },
   {
    "duration": 37,
    "start_time": "2022-12-10T22:45:47.958Z"
   },
   {
    "duration": 55,
    "start_time": "2022-12-10T22:45:47.997Z"
   },
   {
    "duration": 186,
    "start_time": "2022-12-10T22:45:48.054Z"
   },
   {
    "duration": 215,
    "start_time": "2022-12-10T22:45:48.242Z"
   },
   {
    "duration": 65,
    "start_time": "2022-12-10T22:45:48.459Z"
   },
   {
    "duration": 144,
    "start_time": "2022-12-10T22:45:48.526Z"
   },
   {
    "duration": 3,
    "start_time": "2022-12-10T22:45:48.677Z"
   },
   {
    "duration": 11,
    "start_time": "2022-12-10T22:45:48.682Z"
   },
   {
    "duration": 47,
    "start_time": "2022-12-10T22:45:48.694Z"
   },
   {
    "duration": 81,
    "start_time": "2022-12-10T22:45:48.743Z"
   },
   {
    "duration": 21,
    "start_time": "2022-12-10T22:45:48.827Z"
   },
   {
    "duration": 6,
    "start_time": "2022-12-10T22:45:48.850Z"
   },
   {
    "duration": 36,
    "start_time": "2022-12-10T22:45:48.858Z"
   },
   {
    "duration": 5,
    "start_time": "2022-12-10T22:45:48.897Z"
   },
   {
    "duration": 1948,
    "start_time": "2022-12-10T22:45:48.904Z"
   },
   {
    "duration": 118839,
    "start_time": "2022-12-10T22:45:50.854Z"
   },
   {
    "duration": 3,
    "start_time": "2022-12-10T22:47:49.779Z"
   },
   {
    "duration": 547,
    "start_time": "2022-12-10T22:47:49.786Z"
   },
   {
    "duration": 1465,
    "start_time": "2022-12-10T22:50:42.488Z"
   },
   {
    "duration": 983,
    "start_time": "2022-12-10T22:50:43.955Z"
   },
   {
    "duration": 17,
    "start_time": "2022-12-10T22:50:44.940Z"
   },
   {
    "duration": 124,
    "start_time": "2022-12-10T22:50:44.959Z"
   },
   {
    "duration": 305,
    "start_time": "2022-12-10T22:50:45.085Z"
   },
   {
    "duration": 6,
    "start_time": "2022-12-10T22:50:45.392Z"
   },
   {
    "duration": 36,
    "start_time": "2022-12-10T22:50:45.400Z"
   },
   {
    "duration": 82,
    "start_time": "2022-12-10T22:50:45.437Z"
   },
   {
    "duration": 60,
    "start_time": "2022-12-10T22:50:45.522Z"
   },
   {
    "duration": 25,
    "start_time": "2022-12-10T22:50:45.586Z"
   },
   {
    "duration": 72,
    "start_time": "2022-12-10T22:50:45.613Z"
   },
   {
    "duration": 4,
    "start_time": "2022-12-10T22:50:45.687Z"
   },
   {
    "duration": 162,
    "start_time": "2022-12-10T22:50:45.693Z"
   },
   {
    "duration": 75,
    "start_time": "2022-12-10T22:50:45.857Z"
   },
   {
    "duration": 3528,
    "start_time": "2022-12-10T22:50:45.933Z"
   },
   {
    "duration": 84,
    "start_time": "2022-12-10T22:50:49.464Z"
   },
   {
    "duration": 247,
    "start_time": "2022-12-10T22:50:49.550Z"
   },
   {
    "duration": 29,
    "start_time": "2022-12-10T22:50:49.798Z"
   },
   {
    "duration": 71,
    "start_time": "2022-12-10T22:50:49.829Z"
   },
   {
    "duration": 170,
    "start_time": "2022-12-10T22:50:49.902Z"
   },
   {
    "duration": 189,
    "start_time": "2022-12-10T22:50:50.074Z"
   },
   {
    "duration": 64,
    "start_time": "2022-12-10T22:50:50.265Z"
   },
   {
    "duration": 142,
    "start_time": "2022-12-10T22:50:50.331Z"
   },
   {
    "duration": 2,
    "start_time": "2022-12-10T22:50:50.477Z"
   },
   {
    "duration": 8,
    "start_time": "2022-12-10T22:50:50.481Z"
   },
   {
    "duration": 39,
    "start_time": "2022-12-10T22:50:50.490Z"
   },
   {
    "duration": 99,
    "start_time": "2022-12-10T22:50:50.531Z"
   },
   {
    "duration": 19,
    "start_time": "2022-12-10T22:50:50.634Z"
   },
   {
    "duration": 4,
    "start_time": "2022-12-10T22:50:50.655Z"
   },
   {
    "duration": 21,
    "start_time": "2022-12-10T22:50:50.678Z"
   },
   {
    "duration": 7,
    "start_time": "2022-12-10T22:50:50.701Z"
   },
   {
    "duration": 1725,
    "start_time": "2022-12-10T22:50:50.709Z"
   },
   {
    "duration": 0,
    "start_time": "2022-12-10T22:50:52.436Z"
   },
   {
    "duration": 0,
    "start_time": "2022-12-10T22:50:52.437Z"
   },
   {
    "duration": 0,
    "start_time": "2022-12-10T22:50:52.438Z"
   },
   {
    "duration": 0,
    "start_time": "2022-12-10T22:50:52.440Z"
   },
   {
    "duration": 0,
    "start_time": "2022-12-10T22:50:52.441Z"
   },
   {
    "duration": 0,
    "start_time": "2022-12-10T22:50:52.442Z"
   },
   {
    "duration": 1,
    "start_time": "2022-12-10T22:50:52.443Z"
   },
   {
    "duration": 0,
    "start_time": "2022-12-10T22:50:52.445Z"
   },
   {
    "duration": 0,
    "start_time": "2022-12-10T22:50:52.446Z"
   },
   {
    "duration": 0,
    "start_time": "2022-12-10T22:50:52.447Z"
   },
   {
    "duration": 0,
    "start_time": "2022-12-10T22:50:52.448Z"
   },
   {
    "duration": 0,
    "start_time": "2022-12-10T22:50:52.449Z"
   },
   {
    "duration": 0,
    "start_time": "2022-12-10T22:50:52.450Z"
   },
   {
    "duration": 0,
    "start_time": "2022-12-10T22:50:52.478Z"
   },
   {
    "duration": 0,
    "start_time": "2022-12-10T22:50:52.479Z"
   },
   {
    "duration": 1496,
    "start_time": "2022-12-10T22:50:58.091Z"
   },
   {
    "duration": 994,
    "start_time": "2022-12-10T22:50:59.589Z"
   },
   {
    "duration": 18,
    "start_time": "2022-12-10T22:51:00.584Z"
   },
   {
    "duration": 140,
    "start_time": "2022-12-10T22:51:00.605Z"
   },
   {
    "duration": 307,
    "start_time": "2022-12-10T22:51:00.747Z"
   },
   {
    "duration": 6,
    "start_time": "2022-12-10T22:51:01.056Z"
   },
   {
    "duration": 44,
    "start_time": "2022-12-10T22:51:01.064Z"
   },
   {
    "duration": 79,
    "start_time": "2022-12-10T22:51:01.110Z"
   },
   {
    "duration": 37,
    "start_time": "2022-12-10T22:51:01.191Z"
   },
   {
    "duration": 30,
    "start_time": "2022-12-10T22:51:01.231Z"
   },
   {
    "duration": 55,
    "start_time": "2022-12-10T22:51:01.263Z"
   },
   {
    "duration": 25,
    "start_time": "2022-12-10T22:51:01.320Z"
   },
   {
    "duration": 167,
    "start_time": "2022-12-10T22:51:01.347Z"
   },
   {
    "duration": 75,
    "start_time": "2022-12-10T22:51:01.516Z"
   },
   {
    "duration": 3236,
    "start_time": "2022-12-10T22:51:01.593Z"
   },
   {
    "duration": 81,
    "start_time": "2022-12-10T22:51:04.832Z"
   },
   {
    "duration": 238,
    "start_time": "2022-12-10T22:51:04.915Z"
   },
   {
    "duration": 38,
    "start_time": "2022-12-10T22:51:05.154Z"
   },
   {
    "duration": 51,
    "start_time": "2022-12-10T22:51:05.194Z"
   },
   {
    "duration": 180,
    "start_time": "2022-12-10T22:51:05.247Z"
   },
   {
    "duration": 192,
    "start_time": "2022-12-10T22:51:05.429Z"
   },
   {
    "duration": 63,
    "start_time": "2022-12-10T22:51:05.624Z"
   },
   {
    "duration": 137,
    "start_time": "2022-12-10T22:51:05.689Z"
   },
   {
    "duration": 3,
    "start_time": "2022-12-10T22:51:05.829Z"
   },
   {
    "duration": 13,
    "start_time": "2022-12-10T22:51:05.834Z"
   },
   {
    "duration": 61,
    "start_time": "2022-12-10T22:51:05.849Z"
   },
   {
    "duration": 72,
    "start_time": "2022-12-10T22:51:05.912Z"
   },
   {
    "duration": 20,
    "start_time": "2022-12-10T22:51:05.988Z"
   },
   {
    "duration": 7,
    "start_time": "2022-12-10T22:51:06.009Z"
   },
   {
    "duration": 23,
    "start_time": "2022-12-10T22:51:06.017Z"
   },
   {
    "duration": 6,
    "start_time": "2022-12-10T22:51:06.042Z"
   },
   {
    "duration": 1911,
    "start_time": "2022-12-10T22:51:06.050Z"
   },
   {
    "duration": 112517,
    "start_time": "2022-12-10T22:51:07.963Z"
   },
   {
    "duration": 4,
    "start_time": "2022-12-10T22:53:00.482Z"
   },
   {
    "duration": 587,
    "start_time": "2022-12-10T22:53:00.488Z"
   },
   {
    "duration": 1509,
    "start_time": "2022-12-11T08:31:05.132Z"
   },
   {
    "duration": 1216,
    "start_time": "2022-12-11T08:31:06.643Z"
   },
   {
    "duration": 15,
    "start_time": "2022-12-11T08:31:07.861Z"
   },
   {
    "duration": 110,
    "start_time": "2022-12-11T08:31:07.878Z"
   },
   {
    "duration": 276,
    "start_time": "2022-12-11T08:31:07.990Z"
   },
   {
    "duration": 5,
    "start_time": "2022-12-11T08:31:08.267Z"
   },
   {
    "duration": 40,
    "start_time": "2022-12-11T08:31:08.273Z"
   },
   {
    "duration": 96,
    "start_time": "2022-12-11T08:31:08.315Z"
   },
   {
    "duration": 30,
    "start_time": "2022-12-11T08:31:08.412Z"
   },
   {
    "duration": 24,
    "start_time": "2022-12-11T08:31:08.444Z"
   },
   {
    "duration": 60,
    "start_time": "2022-12-11T08:31:08.470Z"
   },
   {
    "duration": 3,
    "start_time": "2022-12-11T08:31:08.532Z"
   },
   {
    "duration": 136,
    "start_time": "2022-12-11T08:31:08.537Z"
   },
   {
    "duration": 51,
    "start_time": "2022-12-11T08:31:08.674Z"
   },
   {
    "duration": 3212,
    "start_time": "2022-12-11T08:31:08.727Z"
   },
   {
    "duration": 79,
    "start_time": "2022-12-11T08:31:11.940Z"
   },
   {
    "duration": 204,
    "start_time": "2022-12-11T08:31:12.021Z"
   },
   {
    "duration": 20,
    "start_time": "2022-12-11T08:31:12.227Z"
   },
   {
    "duration": 63,
    "start_time": "2022-12-11T08:31:12.249Z"
   },
   {
    "duration": 153,
    "start_time": "2022-12-11T08:31:12.314Z"
   },
   {
    "duration": 183,
    "start_time": "2022-12-11T08:31:12.469Z"
   },
   {
    "duration": 76,
    "start_time": "2022-12-11T08:31:12.654Z"
   },
   {
    "duration": 148,
    "start_time": "2022-12-11T08:31:12.732Z"
   },
   {
    "duration": 2,
    "start_time": "2022-12-11T08:31:12.881Z"
   },
   {
    "duration": 20,
    "start_time": "2022-12-11T08:31:12.885Z"
   },
   {
    "duration": 33,
    "start_time": "2022-12-11T08:31:12.907Z"
   },
   {
    "duration": 68,
    "start_time": "2022-12-11T08:31:12.941Z"
   },
   {
    "duration": 18,
    "start_time": "2022-12-11T08:31:13.012Z"
   },
   {
    "duration": 3,
    "start_time": "2022-12-11T08:31:13.031Z"
   },
   {
    "duration": 19,
    "start_time": "2022-12-11T08:31:13.035Z"
   },
   {
    "duration": 4,
    "start_time": "2022-12-11T08:31:13.055Z"
   },
   {
    "duration": 1754,
    "start_time": "2022-12-11T08:31:13.061Z"
   },
   {
    "duration": 167098,
    "start_time": "2022-12-11T08:31:14.817Z"
   },
   {
    "duration": 8,
    "start_time": "2022-12-11T08:34:01.997Z"
   },
   {
    "duration": 455,
    "start_time": "2022-12-11T08:34:02.007Z"
   },
   {
    "duration": 1535,
    "start_time": "2022-12-11T15:26:00.047Z"
   },
   {
    "duration": 1479,
    "start_time": "2022-12-11T15:26:04.447Z"
   },
   {
    "duration": 2783,
    "start_time": "2022-12-11T15:26:05.928Z"
   },
   {
    "duration": 16,
    "start_time": "2022-12-11T15:26:08.712Z"
   },
   {
    "duration": 98,
    "start_time": "2022-12-11T15:26:08.731Z"
   },
   {
    "duration": 247,
    "start_time": "2022-12-11T15:26:08.831Z"
   },
   {
    "duration": 5,
    "start_time": "2022-12-11T15:26:09.080Z"
   },
   {
    "duration": 39,
    "start_time": "2022-12-11T15:26:09.087Z"
   },
   {
    "duration": 67,
    "start_time": "2022-12-11T15:26:09.128Z"
   },
   {
    "duration": 47,
    "start_time": "2022-12-11T15:26:09.197Z"
   },
   {
    "duration": 26,
    "start_time": "2022-12-11T15:26:09.246Z"
   },
   {
    "duration": 56,
    "start_time": "2022-12-11T15:26:09.274Z"
   },
   {
    "duration": 3,
    "start_time": "2022-12-11T15:26:09.331Z"
   },
   {
    "duration": 146,
    "start_time": "2022-12-11T15:26:09.336Z"
   },
   {
    "duration": 61,
    "start_time": "2022-12-11T15:26:09.483Z"
   },
   {
    "duration": 3028,
    "start_time": "2022-12-11T15:26:09.546Z"
   },
   {
    "duration": 71,
    "start_time": "2022-12-11T15:26:12.576Z"
   },
   {
    "duration": 203,
    "start_time": "2022-12-11T15:26:12.648Z"
   },
   {
    "duration": 22,
    "start_time": "2022-12-11T15:26:12.853Z"
   },
   {
    "duration": 67,
    "start_time": "2022-12-11T15:26:12.877Z"
   },
   {
    "duration": 166,
    "start_time": "2022-12-11T15:26:12.946Z"
   },
   {
    "duration": 159,
    "start_time": "2022-12-11T15:26:13.114Z"
   },
   {
    "duration": 63,
    "start_time": "2022-12-11T15:26:13.275Z"
   },
   {
    "duration": 127,
    "start_time": "2022-12-11T15:26:13.340Z"
   },
   {
    "duration": 3,
    "start_time": "2022-12-11T15:26:13.468Z"
   },
   {
    "duration": 19,
    "start_time": "2022-12-11T15:26:13.472Z"
   },
   {
    "duration": 40,
    "start_time": "2022-12-11T15:26:13.492Z"
   },
   {
    "duration": 66,
    "start_time": "2022-12-11T15:26:13.534Z"
   },
   {
    "duration": 26,
    "start_time": "2022-12-11T15:26:13.604Z"
   },
   {
    "duration": 14,
    "start_time": "2022-12-11T15:26:13.631Z"
   },
   {
    "duration": 23,
    "start_time": "2022-12-11T15:26:13.647Z"
   },
   {
    "duration": 6,
    "start_time": "2022-12-11T15:26:13.672Z"
   },
   {
    "duration": 2014,
    "start_time": "2022-12-11T15:26:13.679Z"
   },
   {
    "duration": 119232,
    "start_time": "2022-12-11T15:26:15.695Z"
   },
   {
    "duration": 3,
    "start_time": "2022-12-11T15:28:14.930Z"
   },
   {
    "duration": 497,
    "start_time": "2022-12-11T15:28:14.935Z"
   },
   {
    "duration": 47,
    "start_time": "2022-12-11T15:35:12.105Z"
   },
   {
    "duration": 1751,
    "start_time": "2022-12-11T15:35:17.801Z"
   },
   {
    "duration": 1058,
    "start_time": "2022-12-11T15:35:19.553Z"
   },
   {
    "duration": 17,
    "start_time": "2022-12-11T15:35:20.613Z"
   },
   {
    "duration": 101,
    "start_time": "2022-12-11T15:35:20.632Z"
   },
   {
    "duration": 264,
    "start_time": "2022-12-11T15:35:20.734Z"
   },
   {
    "duration": 5,
    "start_time": "2022-12-11T15:35:21.000Z"
   },
   {
    "duration": 37,
    "start_time": "2022-12-11T15:35:21.007Z"
   },
   {
    "duration": 66,
    "start_time": "2022-12-11T15:35:21.046Z"
   },
   {
    "duration": 38,
    "start_time": "2022-12-11T15:35:21.114Z"
   },
   {
    "duration": 25,
    "start_time": "2022-12-11T15:35:21.154Z"
   },
   {
    "duration": 54,
    "start_time": "2022-12-11T15:35:21.180Z"
   },
   {
    "duration": 25,
    "start_time": "2022-12-11T15:35:21.236Z"
   },
   {
    "duration": 147,
    "start_time": "2022-12-11T15:35:21.263Z"
   },
   {
    "duration": 57,
    "start_time": "2022-12-11T15:35:21.411Z"
   },
   {
    "duration": 3062,
    "start_time": "2022-12-11T15:35:21.470Z"
   },
   {
    "duration": 65,
    "start_time": "2022-12-11T15:35:24.533Z"
   },
   {
    "duration": 226,
    "start_time": "2022-12-11T15:35:24.600Z"
   },
   {
    "duration": 22,
    "start_time": "2022-12-11T15:35:24.828Z"
   },
   {
    "duration": 43,
    "start_time": "2022-12-11T15:35:24.852Z"
   },
   {
    "duration": 178,
    "start_time": "2022-12-11T15:35:24.897Z"
   },
   {
    "duration": 164,
    "start_time": "2022-12-11T15:35:25.077Z"
   },
   {
    "duration": 56,
    "start_time": "2022-12-11T15:35:25.243Z"
   },
   {
    "duration": 132,
    "start_time": "2022-12-11T15:35:25.301Z"
   },
   {
    "duration": 6,
    "start_time": "2022-12-11T15:35:25.435Z"
   },
   {
    "duration": 24,
    "start_time": "2022-12-11T15:35:25.443Z"
   },
   {
    "duration": 67,
    "start_time": "2022-12-11T15:35:25.469Z"
   },
   {
    "duration": 79,
    "start_time": "2022-12-11T15:35:25.538Z"
   },
   {
    "duration": 27,
    "start_time": "2022-12-11T15:35:25.626Z"
   },
   {
    "duration": 10,
    "start_time": "2022-12-11T15:35:25.656Z"
   },
   {
    "duration": 40,
    "start_time": "2022-12-11T15:35:25.669Z"
   },
   {
    "duration": 11,
    "start_time": "2022-12-11T15:35:25.712Z"
   },
   {
    "duration": 1457,
    "start_time": "2022-12-11T15:35:25.725Z"
   },
   {
    "duration": 0,
    "start_time": "2022-12-11T15:35:27.184Z"
   },
   {
    "duration": 0,
    "start_time": "2022-12-11T15:35:27.185Z"
   },
   {
    "duration": 0,
    "start_time": "2022-12-11T15:35:27.186Z"
   },
   {
    "duration": 0,
    "start_time": "2022-12-11T15:35:27.187Z"
   },
   {
    "duration": 0,
    "start_time": "2022-12-11T15:35:27.188Z"
   },
   {
    "duration": 0,
    "start_time": "2022-12-11T15:35:27.189Z"
   },
   {
    "duration": 0,
    "start_time": "2022-12-11T15:35:27.190Z"
   },
   {
    "duration": 0,
    "start_time": "2022-12-11T15:35:27.191Z"
   },
   {
    "duration": 0,
    "start_time": "2022-12-11T15:35:27.193Z"
   },
   {
    "duration": 0,
    "start_time": "2022-12-11T15:35:27.193Z"
   },
   {
    "duration": 0,
    "start_time": "2022-12-11T15:35:27.194Z"
   },
   {
    "duration": 0,
    "start_time": "2022-12-11T15:35:27.196Z"
   },
   {
    "duration": 0,
    "start_time": "2022-12-11T15:35:27.196Z"
   },
   {
    "duration": 0,
    "start_time": "2022-12-11T15:35:27.197Z"
   },
   {
    "duration": 0,
    "start_time": "2022-12-11T15:35:27.199Z"
   },
   {
    "duration": 1442,
    "start_time": "2022-12-11T15:35:31.527Z"
   },
   {
    "duration": 897,
    "start_time": "2022-12-11T15:35:32.971Z"
   },
   {
    "duration": 16,
    "start_time": "2022-12-11T15:35:33.870Z"
   },
   {
    "duration": 113,
    "start_time": "2022-12-11T15:35:33.888Z"
   },
   {
    "duration": 257,
    "start_time": "2022-12-11T15:35:34.003Z"
   },
   {
    "duration": 5,
    "start_time": "2022-12-11T15:35:34.262Z"
   },
   {
    "duration": 81,
    "start_time": "2022-12-11T15:35:34.269Z"
   },
   {
    "duration": 77,
    "start_time": "2022-12-11T15:35:34.351Z"
   },
   {
    "duration": 74,
    "start_time": "2022-12-11T15:35:34.429Z"
   },
   {
    "duration": 98,
    "start_time": "2022-12-11T15:35:34.505Z"
   },
   {
    "duration": 90,
    "start_time": "2022-12-11T15:35:34.605Z"
   },
   {
    "duration": 24,
    "start_time": "2022-12-11T15:35:34.697Z"
   },
   {
    "duration": 161,
    "start_time": "2022-12-11T15:35:34.722Z"
   },
   {
    "duration": 65,
    "start_time": "2022-12-11T15:35:34.884Z"
   },
   {
    "duration": 3253,
    "start_time": "2022-12-11T15:35:34.951Z"
   },
   {
    "duration": 71,
    "start_time": "2022-12-11T15:35:38.205Z"
   },
   {
    "duration": 210,
    "start_time": "2022-12-11T15:35:38.278Z"
   },
   {
    "duration": 22,
    "start_time": "2022-12-11T15:35:38.490Z"
   },
   {
    "duration": 42,
    "start_time": "2022-12-11T15:35:38.525Z"
   },
   {
    "duration": 165,
    "start_time": "2022-12-11T15:35:38.569Z"
   },
   {
    "duration": 159,
    "start_time": "2022-12-11T15:35:38.736Z"
   },
   {
    "duration": 62,
    "start_time": "2022-12-11T15:35:38.897Z"
   },
   {
    "duration": 132,
    "start_time": "2022-12-11T15:35:38.961Z"
   },
   {
    "duration": 2,
    "start_time": "2022-12-11T15:35:39.095Z"
   },
   {
    "duration": 8,
    "start_time": "2022-12-11T15:35:39.099Z"
   },
   {
    "duration": 41,
    "start_time": "2022-12-11T15:35:39.108Z"
   },
   {
    "duration": 64,
    "start_time": "2022-12-11T15:35:39.150Z"
   },
   {
    "duration": 19,
    "start_time": "2022-12-11T15:35:39.225Z"
   },
   {
    "duration": 10,
    "start_time": "2022-12-11T15:35:39.246Z"
   },
   {
    "duration": 29,
    "start_time": "2022-12-11T15:35:39.257Z"
   },
   {
    "duration": 13,
    "start_time": "2022-12-11T15:35:39.288Z"
   },
   {
    "duration": 1601,
    "start_time": "2022-12-11T15:35:39.303Z"
   },
   {
    "duration": 119824,
    "start_time": "2022-12-11T15:35:40.906Z"
   },
   {
    "duration": 2,
    "start_time": "2022-12-11T15:37:40.732Z"
   },
   {
    "duration": 518,
    "start_time": "2022-12-11T15:37:40.736Z"
   },
   {
    "duration": 117,
    "start_time": "2022-12-11T15:37:41.256Z"
   },
   {
    "duration": 0,
    "start_time": "2022-12-11T15:37:41.375Z"
   },
   {
    "duration": 0,
    "start_time": "2022-12-11T15:37:41.377Z"
   },
   {
    "duration": 0,
    "start_time": "2022-12-11T15:37:41.378Z"
   },
   {
    "duration": 0,
    "start_time": "2022-12-11T15:37:41.378Z"
   },
   {
    "duration": 0,
    "start_time": "2022-12-11T15:37:41.380Z"
   },
   {
    "duration": 0,
    "start_time": "2022-12-11T15:37:41.381Z"
   },
   {
    "duration": 0,
    "start_time": "2022-12-11T15:37:41.382Z"
   },
   {
    "duration": 0,
    "start_time": "2022-12-11T15:37:41.382Z"
   },
   {
    "duration": 0,
    "start_time": "2022-12-11T15:37:41.383Z"
   },
   {
    "duration": 0,
    "start_time": "2022-12-11T15:37:41.384Z"
   },
   {
    "duration": 0,
    "start_time": "2022-12-11T15:37:41.385Z"
   },
   {
    "duration": 12,
    "start_time": "2022-12-11T15:37:54.353Z"
   },
   {
    "duration": 1322,
    "start_time": "2022-12-11T15:51:09.887Z"
   },
   {
    "duration": 909,
    "start_time": "2022-12-11T15:51:11.210Z"
   },
   {
    "duration": 22,
    "start_time": "2022-12-11T15:51:12.121Z"
   },
   {
    "duration": 128,
    "start_time": "2022-12-11T15:51:12.146Z"
   },
   {
    "duration": 269,
    "start_time": "2022-12-11T15:51:12.276Z"
   },
   {
    "duration": 5,
    "start_time": "2022-12-11T15:51:12.547Z"
   },
   {
    "duration": 31,
    "start_time": "2022-12-11T15:51:12.554Z"
   },
   {
    "duration": 87,
    "start_time": "2022-12-11T15:51:12.587Z"
   },
   {
    "duration": 29,
    "start_time": "2022-12-11T15:51:12.676Z"
   },
   {
    "duration": 35,
    "start_time": "2022-12-11T15:51:12.708Z"
   },
   {
    "duration": 45,
    "start_time": "2022-12-11T15:51:12.745Z"
   },
   {
    "duration": 4,
    "start_time": "2022-12-11T15:51:12.792Z"
   },
   {
    "duration": 152,
    "start_time": "2022-12-11T15:51:12.798Z"
   },
   {
    "duration": 57,
    "start_time": "2022-12-11T15:51:12.952Z"
   },
   {
    "duration": 2978,
    "start_time": "2022-12-11T15:51:13.011Z"
   },
   {
    "duration": 74,
    "start_time": "2022-12-11T15:51:15.991Z"
   },
   {
    "duration": 209,
    "start_time": "2022-12-11T15:51:16.067Z"
   },
   {
    "duration": 23,
    "start_time": "2022-12-11T15:51:16.278Z"
   },
   {
    "duration": 56,
    "start_time": "2022-12-11T15:51:16.303Z"
   },
   {
    "duration": 160,
    "start_time": "2022-12-11T15:51:16.361Z"
   },
   {
    "duration": 175,
    "start_time": "2022-12-11T15:51:16.525Z"
   },
   {
    "duration": 58,
    "start_time": "2022-12-11T15:51:16.702Z"
   },
   {
    "duration": 126,
    "start_time": "2022-12-11T15:51:16.761Z"
   },
   {
    "duration": 3,
    "start_time": "2022-12-11T15:51:16.888Z"
   },
   {
    "duration": 6,
    "start_time": "2022-12-11T15:51:16.892Z"
   },
   {
    "duration": 41,
    "start_time": "2022-12-11T15:51:16.899Z"
   },
   {
    "duration": 63,
    "start_time": "2022-12-11T15:51:16.942Z"
   },
   {
    "duration": 31,
    "start_time": "2022-12-11T15:51:17.008Z"
   },
   {
    "duration": 2,
    "start_time": "2022-12-11T15:51:17.041Z"
   },
   {
    "duration": 19,
    "start_time": "2022-12-11T15:51:17.046Z"
   },
   {
    "duration": 6,
    "start_time": "2022-12-11T15:51:17.067Z"
   },
   {
    "duration": 1631,
    "start_time": "2022-12-11T15:51:17.075Z"
   },
   {
    "duration": 116932,
    "start_time": "2022-12-11T15:51:18.708Z"
   },
   {
    "duration": 86,
    "start_time": "2022-12-11T15:53:15.643Z"
   },
   {
    "duration": 219,
    "start_time": "2022-12-11T15:53:15.731Z"
   },
   {
    "duration": 0,
    "start_time": "2022-12-11T15:53:15.951Z"
   },
   {
    "duration": 0,
    "start_time": "2022-12-11T15:53:15.953Z"
   },
   {
    "duration": 0,
    "start_time": "2022-12-11T15:53:15.954Z"
   },
   {
    "duration": 0,
    "start_time": "2022-12-11T15:53:15.955Z"
   },
   {
    "duration": 0,
    "start_time": "2022-12-11T15:53:15.957Z"
   },
   {
    "duration": 0,
    "start_time": "2022-12-11T15:53:15.958Z"
   },
   {
    "duration": 0,
    "start_time": "2022-12-11T15:53:15.960Z"
   },
   {
    "duration": 0,
    "start_time": "2022-12-11T15:53:15.961Z"
   },
   {
    "duration": 0,
    "start_time": "2022-12-11T15:53:15.962Z"
   },
   {
    "duration": 0,
    "start_time": "2022-12-11T15:53:15.964Z"
   },
   {
    "duration": 0,
    "start_time": "2022-12-11T15:53:15.965Z"
   },
   {
    "duration": 0,
    "start_time": "2022-12-11T15:53:15.967Z"
   },
   {
    "duration": 11,
    "start_time": "2022-12-11T15:54:01.091Z"
   },
   {
    "duration": 1433,
    "start_time": "2022-12-11T15:55:44.064Z"
   },
   {
    "duration": 1004,
    "start_time": "2022-12-11T15:55:45.499Z"
   },
   {
    "duration": 22,
    "start_time": "2022-12-11T15:55:46.505Z"
   },
   {
    "duration": 112,
    "start_time": "2022-12-11T15:55:46.529Z"
   },
   {
    "duration": 276,
    "start_time": "2022-12-11T15:55:46.643Z"
   },
   {
    "duration": 6,
    "start_time": "2022-12-11T15:55:46.921Z"
   },
   {
    "duration": 31,
    "start_time": "2022-12-11T15:55:46.928Z"
   },
   {
    "duration": 80,
    "start_time": "2022-12-11T15:55:46.961Z"
   },
   {
    "duration": 28,
    "start_time": "2022-12-11T15:55:47.043Z"
   },
   {
    "duration": 23,
    "start_time": "2022-12-11T15:55:47.073Z"
   },
   {
    "duration": 62,
    "start_time": "2022-12-11T15:55:47.098Z"
   },
   {
    "duration": 3,
    "start_time": "2022-12-11T15:55:47.162Z"
   },
   {
    "duration": 152,
    "start_time": "2022-12-11T15:55:47.166Z"
   },
   {
    "duration": 59,
    "start_time": "2022-12-11T15:55:47.321Z"
   },
   {
    "duration": 3071,
    "start_time": "2022-12-11T15:55:47.382Z"
   },
   {
    "duration": 75,
    "start_time": "2022-12-11T15:55:50.455Z"
   },
   {
    "duration": 153,
    "start_time": "2022-12-11T15:55:50.532Z"
   },
   {
    "duration": 26,
    "start_time": "2022-12-11T15:55:50.686Z"
   },
   {
    "duration": 57,
    "start_time": "2022-12-11T15:55:50.714Z"
   },
   {
    "duration": 249,
    "start_time": "2022-12-11T15:55:50.773Z"
   },
   {
    "duration": 156,
    "start_time": "2022-12-11T15:55:51.029Z"
   },
   {
    "duration": 65,
    "start_time": "2022-12-11T15:55:51.187Z"
   },
   {
    "duration": 147,
    "start_time": "2022-12-11T15:55:51.254Z"
   },
   {
    "duration": 3,
    "start_time": "2022-12-11T15:55:51.402Z"
   },
   {
    "duration": 9,
    "start_time": "2022-12-11T15:55:51.407Z"
   },
   {
    "duration": 34,
    "start_time": "2022-12-11T15:55:51.418Z"
   },
   {
    "duration": 74,
    "start_time": "2022-12-11T15:55:51.454Z"
   },
   {
    "duration": 24,
    "start_time": "2022-12-11T15:55:51.530Z"
   },
   {
    "duration": 3,
    "start_time": "2022-12-11T15:55:51.557Z"
   },
   {
    "duration": 26,
    "start_time": "2022-12-11T15:55:51.562Z"
   },
   {
    "duration": 8,
    "start_time": "2022-12-11T15:55:51.590Z"
   },
   {
    "duration": 1742,
    "start_time": "2022-12-11T15:55:51.600Z"
   },
   {
    "duration": 104583,
    "start_time": "2022-12-11T15:55:53.344Z"
   },
   {
    "duration": 2,
    "start_time": "2022-12-11T15:57:37.929Z"
   },
   {
    "duration": 1311,
    "start_time": "2022-12-11T16:06:37.564Z"
   },
   {
    "duration": 842,
    "start_time": "2022-12-11T16:06:38.877Z"
   },
   {
    "duration": 19,
    "start_time": "2022-12-11T16:06:39.721Z"
   },
   {
    "duration": 100,
    "start_time": "2022-12-11T16:06:39.742Z"
   },
   {
    "duration": 264,
    "start_time": "2022-12-11T16:06:39.843Z"
   },
   {
    "duration": 5,
    "start_time": "2022-12-11T16:06:40.108Z"
   },
   {
    "duration": 44,
    "start_time": "2022-12-11T16:06:40.115Z"
   },
   {
    "duration": 63,
    "start_time": "2022-12-11T16:06:40.160Z"
   },
   {
    "duration": 25,
    "start_time": "2022-12-11T16:06:40.226Z"
   },
   {
    "duration": 25,
    "start_time": "2022-12-11T16:06:40.253Z"
   },
   {
    "duration": 52,
    "start_time": "2022-12-11T16:06:40.280Z"
   },
   {
    "duration": 3,
    "start_time": "2022-12-11T16:06:40.334Z"
   },
   {
    "duration": 1379,
    "start_time": "2022-12-11T16:06:41.851Z"
   },
   {
    "duration": 867,
    "start_time": "2022-12-11T16:06:43.232Z"
   },
   {
    "duration": 16,
    "start_time": "2022-12-11T16:06:44.100Z"
   },
   {
    "duration": 110,
    "start_time": "2022-12-11T16:06:44.117Z"
   },
   {
    "duration": 255,
    "start_time": "2022-12-11T16:06:44.230Z"
   },
   {
    "duration": 5,
    "start_time": "2022-12-11T16:06:44.487Z"
   },
   {
    "duration": 42,
    "start_time": "2022-12-11T16:06:44.494Z"
   },
   {
    "duration": 72,
    "start_time": "2022-12-11T16:06:44.538Z"
   },
   {
    "duration": 41,
    "start_time": "2022-12-11T16:06:44.612Z"
   },
   {
    "duration": 25,
    "start_time": "2022-12-11T16:06:44.655Z"
   },
   {
    "duration": 66,
    "start_time": "2022-12-11T16:06:44.682Z"
   },
   {
    "duration": 4,
    "start_time": "2022-12-11T16:06:44.750Z"
   },
   {
    "duration": 158,
    "start_time": "2022-12-11T16:06:44.756Z"
   },
   {
    "duration": 62,
    "start_time": "2022-12-11T16:06:44.917Z"
   },
   {
    "duration": 3017,
    "start_time": "2022-12-11T16:06:44.981Z"
   },
   {
    "duration": 73,
    "start_time": "2022-12-11T16:06:48.000Z"
   },
   {
    "duration": 131,
    "start_time": "2022-12-11T16:06:48.075Z"
   },
   {
    "duration": 36,
    "start_time": "2022-12-11T16:06:48.207Z"
   },
   {
    "duration": 42,
    "start_time": "2022-12-11T16:06:48.245Z"
   },
   {
    "duration": 236,
    "start_time": "2022-12-11T16:06:48.288Z"
   },
   {
    "duration": 153,
    "start_time": "2022-12-11T16:06:48.526Z"
   },
   {
    "duration": 62,
    "start_time": "2022-12-11T16:06:48.681Z"
   },
   {
    "duration": 121,
    "start_time": "2022-12-11T16:06:48.744Z"
   },
   {
    "duration": 2,
    "start_time": "2022-12-11T16:06:48.867Z"
   },
   {
    "duration": 19,
    "start_time": "2022-12-11T16:06:48.870Z"
   },
   {
    "duration": 41,
    "start_time": "2022-12-11T16:06:48.890Z"
   },
   {
    "duration": 60,
    "start_time": "2022-12-11T16:06:48.933Z"
   },
   {
    "duration": 30,
    "start_time": "2022-12-11T16:06:48.996Z"
   },
   {
    "duration": 4,
    "start_time": "2022-12-11T16:06:49.028Z"
   },
   {
    "duration": 28,
    "start_time": "2022-12-11T16:06:49.033Z"
   },
   {
    "duration": 9,
    "start_time": "2022-12-11T16:06:49.063Z"
   },
   {
    "duration": 1591,
    "start_time": "2022-12-11T16:06:49.074Z"
   },
   {
    "duration": 119571,
    "start_time": "2022-12-11T16:06:50.666Z"
   },
   {
    "duration": 89,
    "start_time": "2022-12-11T16:08:50.238Z"
   },
   {
    "duration": 503,
    "start_time": "2022-12-11T16:08:50.329Z"
   },
   {
    "duration": 1473,
    "start_time": "2022-12-11T16:39:45.663Z"
   },
   {
    "duration": 1587,
    "start_time": "2022-12-11T16:39:49.643Z"
   },
   {
    "duration": 984,
    "start_time": "2022-12-11T16:39:51.232Z"
   },
   {
    "duration": 21,
    "start_time": "2022-12-11T16:39:52.218Z"
   },
   {
    "duration": 112,
    "start_time": "2022-12-11T16:39:52.241Z"
   },
   {
    "duration": 319,
    "start_time": "2022-12-11T16:39:52.355Z"
   },
   {
    "duration": 6,
    "start_time": "2022-12-11T16:39:52.677Z"
   },
   {
    "duration": 49,
    "start_time": "2022-12-11T16:39:52.685Z"
   },
   {
    "duration": 124,
    "start_time": "2022-12-11T16:39:52.736Z"
   },
   {
    "duration": 65,
    "start_time": "2022-12-11T16:39:52.863Z"
   },
   {
    "duration": 37,
    "start_time": "2022-12-11T16:39:52.931Z"
   },
   {
    "duration": 85,
    "start_time": "2022-12-11T16:39:52.970Z"
   },
   {
    "duration": 4,
    "start_time": "2022-12-11T16:39:53.057Z"
   },
   {
    "duration": 223,
    "start_time": "2022-12-11T16:39:53.063Z"
   },
   {
    "duration": 89,
    "start_time": "2022-12-11T16:39:53.291Z"
   },
   {
    "duration": 3440,
    "start_time": "2022-12-11T16:39:53.383Z"
   },
   {
    "duration": 65,
    "start_time": "2022-12-11T16:39:56.826Z"
   },
   {
    "duration": 146,
    "start_time": "2022-12-11T16:39:56.894Z"
   },
   {
    "duration": 22,
    "start_time": "2022-12-11T16:39:57.041Z"
   },
   {
    "duration": 40,
    "start_time": "2022-12-11T16:39:57.065Z"
   },
   {
    "duration": 261,
    "start_time": "2022-12-11T16:39:57.107Z"
   },
   {
    "duration": 155,
    "start_time": "2022-12-11T16:39:57.370Z"
   },
   {
    "duration": 54,
    "start_time": "2022-12-11T16:39:57.526Z"
   },
   {
    "duration": 131,
    "start_time": "2022-12-11T16:39:57.582Z"
   },
   {
    "duration": 11,
    "start_time": "2022-12-11T16:39:57.715Z"
   },
   {
    "duration": 4,
    "start_time": "2022-12-11T16:39:57.727Z"
   },
   {
    "duration": 31,
    "start_time": "2022-12-11T16:39:57.733Z"
   },
   {
    "duration": 85,
    "start_time": "2022-12-11T16:39:57.766Z"
   },
   {
    "duration": 22,
    "start_time": "2022-12-11T16:39:57.853Z"
   },
   {
    "duration": 3,
    "start_time": "2022-12-11T16:39:57.877Z"
   },
   {
    "duration": 21,
    "start_time": "2022-12-11T16:39:57.882Z"
   },
   {
    "duration": 23,
    "start_time": "2022-12-11T16:39:57.904Z"
   },
   {
    "duration": 1592,
    "start_time": "2022-12-11T16:39:57.929Z"
   },
   {
    "duration": 111205,
    "start_time": "2022-12-11T16:39:59.523Z"
   },
   {
    "duration": 4,
    "start_time": "2022-12-11T16:41:50.730Z"
   },
   {
    "duration": 527,
    "start_time": "2022-12-11T16:41:50.736Z"
   },
   {
    "duration": 1774,
    "start_time": "2022-12-11T17:00:12.816Z"
   },
   {
    "duration": 990,
    "start_time": "2022-12-11T17:00:14.592Z"
   },
   {
    "duration": 26,
    "start_time": "2022-12-11T17:00:15.584Z"
   },
   {
    "duration": 130,
    "start_time": "2022-12-11T17:00:15.613Z"
   },
   {
    "duration": 294,
    "start_time": "2022-12-11T17:00:15.745Z"
   },
   {
    "duration": 6,
    "start_time": "2022-12-11T17:00:16.041Z"
   },
   {
    "duration": 30,
    "start_time": "2022-12-11T17:00:16.048Z"
   },
   {
    "duration": 90,
    "start_time": "2022-12-11T17:00:16.080Z"
   },
   {
    "duration": 29,
    "start_time": "2022-12-11T17:00:16.171Z"
   },
   {
    "duration": 41,
    "start_time": "2022-12-11T17:00:16.202Z"
   },
   {
    "duration": 44,
    "start_time": "2022-12-11T17:00:16.245Z"
   },
   {
    "duration": 4,
    "start_time": "2022-12-11T17:00:16.291Z"
   },
   {
    "duration": 148,
    "start_time": "2022-12-11T17:00:16.296Z"
   },
   {
    "duration": 56,
    "start_time": "2022-12-11T17:00:16.446Z"
   },
   {
    "duration": 3039,
    "start_time": "2022-12-11T17:00:16.504Z"
   },
   {
    "duration": 112,
    "start_time": "2022-12-11T17:00:19.545Z"
   },
   {
    "duration": 353,
    "start_time": "2022-12-11T17:00:19.659Z"
   },
   {
    "duration": 33,
    "start_time": "2022-12-11T17:00:20.014Z"
   },
   {
    "duration": 43,
    "start_time": "2022-12-11T17:00:20.049Z"
   },
   {
    "duration": 174,
    "start_time": "2022-12-11T17:00:20.094Z"
   },
   {
    "duration": 157,
    "start_time": "2022-12-11T17:00:20.270Z"
   },
   {
    "duration": 61,
    "start_time": "2022-12-11T17:00:20.429Z"
   },
   {
    "duration": 145,
    "start_time": "2022-12-11T17:00:20.492Z"
   },
   {
    "duration": 4,
    "start_time": "2022-12-11T17:00:20.639Z"
   },
   {
    "duration": 25,
    "start_time": "2022-12-11T17:00:20.644Z"
   },
   {
    "duration": 57,
    "start_time": "2022-12-11T17:00:20.670Z"
   },
   {
    "duration": 66,
    "start_time": "2022-12-11T17:00:20.740Z"
   },
   {
    "duration": 27,
    "start_time": "2022-12-11T17:00:20.810Z"
   },
   {
    "duration": 13,
    "start_time": "2022-12-11T17:00:20.838Z"
   },
   {
    "duration": 19,
    "start_time": "2022-12-11T17:00:20.853Z"
   },
   {
    "duration": 7,
    "start_time": "2022-12-11T17:00:20.874Z"
   },
   {
    "duration": 1531,
    "start_time": "2022-12-11T17:00:20.882Z"
   },
   {
    "duration": 0,
    "start_time": "2022-12-11T17:00:22.415Z"
   },
   {
    "duration": 0,
    "start_time": "2022-12-11T17:00:22.416Z"
   },
   {
    "duration": 0,
    "start_time": "2022-12-11T17:00:22.418Z"
   },
   {
    "duration": 0,
    "start_time": "2022-12-11T17:00:22.419Z"
   },
   {
    "duration": 0,
    "start_time": "2022-12-11T17:00:22.420Z"
   },
   {
    "duration": 0,
    "start_time": "2022-12-11T17:00:22.432Z"
   },
   {
    "duration": 0,
    "start_time": "2022-12-11T17:00:22.433Z"
   },
   {
    "duration": 0,
    "start_time": "2022-12-11T17:00:22.436Z"
   },
   {
    "duration": 0,
    "start_time": "2022-12-11T17:00:22.436Z"
   },
   {
    "duration": 0,
    "start_time": "2022-12-11T17:00:22.437Z"
   },
   {
    "duration": 0,
    "start_time": "2022-12-11T17:00:22.437Z"
   },
   {
    "duration": 0,
    "start_time": "2022-12-11T17:00:22.441Z"
   },
   {
    "duration": 0,
    "start_time": "2022-12-11T17:00:22.444Z"
   },
   {
    "duration": 0,
    "start_time": "2022-12-11T17:00:22.445Z"
   },
   {
    "duration": 0,
    "start_time": "2022-12-11T17:00:22.447Z"
   },
   {
    "duration": 0,
    "start_time": "2022-12-11T17:00:22.448Z"
   },
   {
    "duration": 1437,
    "start_time": "2022-12-11T17:00:36.851Z"
   },
   {
    "duration": 919,
    "start_time": "2022-12-11T17:00:38.290Z"
   },
   {
    "duration": 32,
    "start_time": "2022-12-11T17:00:39.211Z"
   },
   {
    "duration": 127,
    "start_time": "2022-12-11T17:00:39.245Z"
   },
   {
    "duration": 268,
    "start_time": "2022-12-11T17:00:39.374Z"
   },
   {
    "duration": 5,
    "start_time": "2022-12-11T17:00:39.643Z"
   },
   {
    "duration": 30,
    "start_time": "2022-12-11T17:00:39.650Z"
   },
   {
    "duration": 81,
    "start_time": "2022-12-11T17:00:39.682Z"
   },
   {
    "duration": 31,
    "start_time": "2022-12-11T17:00:39.764Z"
   },
   {
    "duration": 50,
    "start_time": "2022-12-11T17:00:39.798Z"
   },
   {
    "duration": 55,
    "start_time": "2022-12-11T17:00:39.850Z"
   },
   {
    "duration": 19,
    "start_time": "2022-12-11T17:00:39.907Z"
   },
   {
    "duration": 153,
    "start_time": "2022-12-11T17:00:39.929Z"
   },
   {
    "duration": 61,
    "start_time": "2022-12-11T17:00:40.084Z"
   },
   {
    "duration": 3092,
    "start_time": "2022-12-11T17:00:40.147Z"
   },
   {
    "duration": 65,
    "start_time": "2022-12-11T17:00:43.244Z"
   },
   {
    "duration": 216,
    "start_time": "2022-12-11T17:00:43.311Z"
   },
   {
    "duration": 24,
    "start_time": "2022-12-11T17:00:43.531Z"
   },
   {
    "duration": 42,
    "start_time": "2022-12-11T17:00:43.557Z"
   },
   {
    "duration": 163,
    "start_time": "2022-12-11T17:00:43.601Z"
   },
   {
    "duration": 177,
    "start_time": "2022-12-11T17:00:43.765Z"
   },
   {
    "duration": 54,
    "start_time": "2022-12-11T17:00:43.944Z"
   },
   {
    "duration": 130,
    "start_time": "2022-12-11T17:00:43.999Z"
   },
   {
    "duration": 4,
    "start_time": "2022-12-11T17:00:44.131Z"
   },
   {
    "duration": 13,
    "start_time": "2022-12-11T17:00:44.136Z"
   },
   {
    "duration": 31,
    "start_time": "2022-12-11T17:00:44.151Z"
   },
   {
    "duration": 68,
    "start_time": "2022-12-11T17:00:44.184Z"
   },
   {
    "duration": 17,
    "start_time": "2022-12-11T17:00:44.255Z"
   },
   {
    "duration": 9,
    "start_time": "2022-12-11T17:00:44.274Z"
   },
   {
    "duration": 25,
    "start_time": "2022-12-11T17:00:44.285Z"
   },
   {
    "duration": 17,
    "start_time": "2022-12-11T17:00:44.312Z"
   },
   {
    "duration": 1734,
    "start_time": "2022-12-11T17:00:44.335Z"
   },
   {
    "duration": 165665,
    "start_time": "2022-12-11T17:00:46.071Z"
   },
   {
    "duration": 9,
    "start_time": "2022-12-11T17:03:31.738Z"
   },
   {
    "duration": 538,
    "start_time": "2022-12-11T17:03:31.752Z"
   },
   {
    "duration": 1458,
    "start_time": "2022-12-11T17:20:21.021Z"
   },
   {
    "duration": 1454,
    "start_time": "2022-12-11T17:20:25.061Z"
   },
   {
    "duration": 922,
    "start_time": "2022-12-11T17:20:26.517Z"
   },
   {
    "duration": 25,
    "start_time": "2022-12-11T17:20:27.441Z"
   },
   {
    "duration": 105,
    "start_time": "2022-12-11T17:20:27.468Z"
   },
   {
    "duration": 260,
    "start_time": "2022-12-11T17:20:27.575Z"
   },
   {
    "duration": 9,
    "start_time": "2022-12-11T17:20:27.837Z"
   },
   {
    "duration": 38,
    "start_time": "2022-12-11T17:20:27.848Z"
   },
   {
    "duration": 75,
    "start_time": "2022-12-11T17:20:27.888Z"
   },
   {
    "duration": 27,
    "start_time": "2022-12-11T17:20:27.965Z"
   },
   {
    "duration": 39,
    "start_time": "2022-12-11T17:20:27.996Z"
   },
   {
    "duration": 43,
    "start_time": "2022-12-11T17:20:28.041Z"
   },
   {
    "duration": 4,
    "start_time": "2022-12-11T17:20:28.086Z"
   },
   {
    "duration": 151,
    "start_time": "2022-12-11T17:20:28.091Z"
   },
   {
    "duration": 51,
    "start_time": "2022-12-11T17:20:28.244Z"
   },
   {
    "duration": 3098,
    "start_time": "2022-12-11T17:20:28.297Z"
   },
   {
    "duration": 84,
    "start_time": "2022-12-11T17:20:31.397Z"
   },
   {
    "duration": 237,
    "start_time": "2022-12-11T17:20:31.484Z"
   },
   {
    "duration": 24,
    "start_time": "2022-12-11T17:20:31.726Z"
   },
   {
    "duration": 50,
    "start_time": "2022-12-11T17:20:31.752Z"
   },
   {
    "duration": 158,
    "start_time": "2022-12-11T17:20:31.804Z"
   },
   {
    "duration": 164,
    "start_time": "2022-12-11T17:20:31.963Z"
   },
   {
    "duration": 56,
    "start_time": "2022-12-11T17:20:32.134Z"
   },
   {
    "duration": 126,
    "start_time": "2022-12-11T17:20:32.192Z"
   },
   {
    "duration": 16,
    "start_time": "2022-12-11T17:20:32.320Z"
   },
   {
    "duration": 24,
    "start_time": "2022-12-11T17:20:32.338Z"
   },
   {
    "duration": 58,
    "start_time": "2022-12-11T17:20:32.363Z"
   },
   {
    "duration": 72,
    "start_time": "2022-12-11T17:20:32.422Z"
   },
   {
    "duration": 18,
    "start_time": "2022-12-11T17:20:32.497Z"
   },
   {
    "duration": 34,
    "start_time": "2022-12-11T17:20:32.516Z"
   },
   {
    "duration": 35,
    "start_time": "2022-12-11T17:20:32.551Z"
   },
   {
    "duration": 28,
    "start_time": "2022-12-11T17:20:32.588Z"
   },
   {
    "duration": 1635,
    "start_time": "2022-12-11T17:20:32.618Z"
   },
   {
    "duration": 168273,
    "start_time": "2022-12-11T17:20:34.254Z"
   },
   {
    "duration": 6,
    "start_time": "2022-12-11T17:23:22.533Z"
   },
   {
    "duration": 549,
    "start_time": "2022-12-11T17:23:22.541Z"
   },
   {
    "duration": 130,
    "start_time": "2022-12-11T17:23:23.092Z"
   },
   {
    "duration": 0,
    "start_time": "2022-12-11T17:23:23.228Z"
   },
   {
    "duration": 0,
    "start_time": "2022-12-11T17:23:23.229Z"
   },
   {
    "duration": 0,
    "start_time": "2022-12-11T17:23:23.230Z"
   },
   {
    "duration": 0,
    "start_time": "2022-12-11T17:23:23.232Z"
   },
   {
    "duration": 0,
    "start_time": "2022-12-11T17:23:23.234Z"
   },
   {
    "duration": 0,
    "start_time": "2022-12-11T17:23:23.235Z"
   },
   {
    "duration": 0,
    "start_time": "2022-12-11T17:23:23.236Z"
   },
   {
    "duration": 0,
    "start_time": "2022-12-11T17:23:23.238Z"
   },
   {
    "duration": 0,
    "start_time": "2022-12-11T17:23:23.239Z"
   },
   {
    "duration": 0,
    "start_time": "2022-12-11T17:23:23.243Z"
   },
   {
    "duration": 0,
    "start_time": "2022-12-11T17:23:23.244Z"
   },
   {
    "duration": 0,
    "start_time": "2022-12-11T17:23:23.245Z"
   },
   {
    "duration": 1349,
    "start_time": "2022-12-11T17:36:09.185Z"
   },
   {
    "duration": 936,
    "start_time": "2022-12-11T17:36:10.543Z"
   },
   {
    "duration": 16,
    "start_time": "2022-12-11T17:36:11.481Z"
   },
   {
    "duration": 139,
    "start_time": "2022-12-11T17:36:11.499Z"
   },
   {
    "duration": 286,
    "start_time": "2022-12-11T17:36:11.640Z"
   },
   {
    "duration": 5,
    "start_time": "2022-12-11T17:36:11.928Z"
   },
   {
    "duration": 64,
    "start_time": "2022-12-11T17:36:11.941Z"
   },
   {
    "duration": 72,
    "start_time": "2022-12-11T17:36:12.007Z"
   },
   {
    "duration": 45,
    "start_time": "2022-12-11T17:36:12.080Z"
   },
   {
    "duration": 36,
    "start_time": "2022-12-11T17:36:12.127Z"
   },
   {
    "duration": 73,
    "start_time": "2022-12-11T17:36:12.164Z"
   },
   {
    "duration": 14,
    "start_time": "2022-12-11T17:36:12.238Z"
   },
   {
    "duration": 155,
    "start_time": "2022-12-11T17:36:12.253Z"
   },
   {
    "duration": 61,
    "start_time": "2022-12-11T17:36:12.409Z"
   },
   {
    "duration": 3099,
    "start_time": "2022-12-11T17:36:12.472Z"
   },
   {
    "duration": 97,
    "start_time": "2022-12-11T17:36:15.573Z"
   },
   {
    "duration": 230,
    "start_time": "2022-12-11T17:36:15.672Z"
   },
   {
    "duration": 39,
    "start_time": "2022-12-11T17:36:15.905Z"
   },
   {
    "duration": 42,
    "start_time": "2022-12-11T17:36:15.946Z"
   },
   {
    "duration": 155,
    "start_time": "2022-12-11T17:36:15.990Z"
   },
   {
    "duration": 165,
    "start_time": "2022-12-11T17:36:16.147Z"
   },
   {
    "duration": 62,
    "start_time": "2022-12-11T17:36:16.314Z"
   },
   {
    "duration": 124,
    "start_time": "2022-12-11T17:36:16.378Z"
   },
   {
    "duration": 2,
    "start_time": "2022-12-11T17:36:16.504Z"
   },
   {
    "duration": 24,
    "start_time": "2022-12-11T17:36:16.508Z"
   },
   {
    "duration": 41,
    "start_time": "2022-12-11T17:36:16.540Z"
   },
   {
    "duration": 70,
    "start_time": "2022-12-11T17:36:16.583Z"
   },
   {
    "duration": 20,
    "start_time": "2022-12-11T17:36:16.656Z"
   },
   {
    "duration": 4,
    "start_time": "2022-12-11T17:36:16.677Z"
   },
   {
    "duration": 20,
    "start_time": "2022-12-11T17:36:16.682Z"
   },
   {
    "duration": 3,
    "start_time": "2022-12-11T17:36:16.703Z"
   },
   {
    "duration": 1630,
    "start_time": "2022-12-11T17:36:16.726Z"
   },
   {
    "duration": 164071,
    "start_time": "2022-12-11T17:36:18.358Z"
   },
   {
    "duration": 3,
    "start_time": "2022-12-11T17:39:02.441Z"
   },
   {
    "duration": 446,
    "start_time": "2022-12-11T17:39:02.446Z"
   },
   {
    "duration": 1008060,
    "start_time": "2022-12-11T17:39:02.894Z"
   },
   {
    "duration": 2,
    "start_time": "2022-12-11T17:55:50.957Z"
   },
   {
    "duration": 8,
    "start_time": "2022-12-11T17:55:51.027Z"
   },
   {
    "duration": 11,
    "start_time": "2022-12-11T17:55:51.037Z"
   },
   {
    "duration": 7,
    "start_time": "2022-12-11T17:55:51.050Z"
   },
   {
    "duration": 440,
    "start_time": "2022-12-11T17:55:51.058Z"
   },
   {
    "duration": 11,
    "start_time": "2022-12-11T17:55:51.500Z"
   },
   {
    "duration": 1366728,
    "start_time": "2022-12-11T17:55:51.513Z"
   },
   {
    "duration": 113,
    "start_time": "2022-12-11T18:18:38.243Z"
   },
   {
    "duration": 0,
    "start_time": "2022-12-11T18:18:38.358Z"
   },
   {
    "duration": 0,
    "start_time": "2022-12-11T18:18:38.359Z"
   },
   {
    "duration": 0,
    "start_time": "2022-12-11T18:18:38.361Z"
   },
   {
    "duration": 0,
    "start_time": "2022-12-11T18:18:38.362Z"
   },
   {
    "duration": 9,
    "start_time": "2022-12-11T18:21:29.159Z"
   },
   {
    "duration": 3,
    "start_time": "2022-12-11T18:21:59.604Z"
   },
   {
    "duration": 4,
    "start_time": "2022-12-11T18:22:03.478Z"
   },
   {
    "duration": 3,
    "start_time": "2022-12-11T18:22:08.154Z"
   },
   {
    "duration": 3,
    "start_time": "2022-12-11T18:22:09.156Z"
   },
   {
    "duration": 2,
    "start_time": "2022-12-11T18:22:09.797Z"
   },
   {
    "duration": 9,
    "start_time": "2022-12-11T18:22:10.755Z"
   }
  ],
  "kernelspec": {
   "display_name": "Python 3 (ipykernel)",
   "language": "python",
   "name": "python3"
  },
  "language_info": {
   "codemirror_mode": {
    "name": "ipython",
    "version": 3
   },
   "file_extension": ".py",
   "mimetype": "text/x-python",
   "name": "python",
   "nbconvert_exporter": "python",
   "pygments_lexer": "ipython3",
   "version": "3.9.5"
  },
  "toc": {
   "base_numbering": 1,
   "nav_menu": {},
   "number_sections": true,
   "sideBar": true,
   "skip_h1_title": true,
   "title_cell": "Table of Contents",
   "title_sidebar": "Contents",
   "toc_cell": false,
   "toc_position": {},
   "toc_section_display": true,
   "toc_window_display": false
  }
 },
 "nbformat": 4,
 "nbformat_minor": 2
}
