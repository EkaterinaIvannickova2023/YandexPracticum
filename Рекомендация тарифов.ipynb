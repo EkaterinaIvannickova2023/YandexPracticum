{
 "cells": [
  {
   "cell_type": "markdown",
   "metadata": {},
   "source": [
    "# Рекомендация тарифов"
   ]
  },
  {
   "cell_type": "markdown",
   "metadata": {},
   "source": [
    "В вашем распоряжении данные о поведении клиентов, которые уже перешли на эти тарифы (из проекта курса «Статистический анализ данных»). Нужно построить модель для задачи классификации, которая выберет подходящий тариф. Предобработка данных не понадобится — вы её уже сделали.\n",
    "\n",
    "Постройте модель с максимально большим значением *accuracy*. Чтобы сдать проект успешно, нужно довести долю правильных ответов по крайней мере до 0.75. Проверьте *accuracy* на тестовой выборке самостоятельно."
   ]
  },
  {
   "cell_type": "markdown",
   "metadata": {},
   "source": [
    "## Откройте и изучите файл"
   ]
  },
  {
   "cell_type": "code",
   "execution_count": 1,
   "metadata": {},
   "outputs": [],
   "source": [
    "import pandas as pd\n",
    "from sklearn.metrics import accuracy_score\n",
    "from sklearn.tree import DecisionTreeClassifier\n",
    "from sklearn.ensemble import RandomForestClassifier\n",
    "from sklearn.linear_model import LogisticRegression\n",
    "from sklearn.model_selection import train_test_split"
   ]
  },
  {
   "cell_type": "code",
   "execution_count": 2,
   "metadata": {},
   "outputs": [],
   "source": [
    "df=pd.read_csv('/datasets/users_behavior.csv')"
   ]
  },
  {
   "cell_type": "code",
   "execution_count": 3,
   "metadata": {},
   "outputs": [
    {
     "data": {
      "text/html": [
       "<div>\n",
       "<style scoped>\n",
       "    .dataframe tbody tr th:only-of-type {\n",
       "        vertical-align: middle;\n",
       "    }\n",
       "\n",
       "    .dataframe tbody tr th {\n",
       "        vertical-align: top;\n",
       "    }\n",
       "\n",
       "    .dataframe thead th {\n",
       "        text-align: right;\n",
       "    }\n",
       "</style>\n",
       "<table border=\"1\" class=\"dataframe\">\n",
       "  <thead>\n",
       "    <tr style=\"text-align: right;\">\n",
       "      <th></th>\n",
       "      <th>calls</th>\n",
       "      <th>minutes</th>\n",
       "      <th>messages</th>\n",
       "      <th>mb_used</th>\n",
       "      <th>is_ultra</th>\n",
       "    </tr>\n",
       "  </thead>\n",
       "  <tbody>\n",
       "    <tr>\n",
       "      <th>0</th>\n",
       "      <td>40.0</td>\n",
       "      <td>311.90</td>\n",
       "      <td>83.0</td>\n",
       "      <td>19915.42</td>\n",
       "      <td>0</td>\n",
       "    </tr>\n",
       "    <tr>\n",
       "      <th>1</th>\n",
       "      <td>85.0</td>\n",
       "      <td>516.75</td>\n",
       "      <td>56.0</td>\n",
       "      <td>22696.96</td>\n",
       "      <td>0</td>\n",
       "    </tr>\n",
       "    <tr>\n",
       "      <th>2</th>\n",
       "      <td>77.0</td>\n",
       "      <td>467.66</td>\n",
       "      <td>86.0</td>\n",
       "      <td>21060.45</td>\n",
       "      <td>0</td>\n",
       "    </tr>\n",
       "    <tr>\n",
       "      <th>3</th>\n",
       "      <td>106.0</td>\n",
       "      <td>745.53</td>\n",
       "      <td>81.0</td>\n",
       "      <td>8437.39</td>\n",
       "      <td>1</td>\n",
       "    </tr>\n",
       "    <tr>\n",
       "      <th>4</th>\n",
       "      <td>66.0</td>\n",
       "      <td>418.74</td>\n",
       "      <td>1.0</td>\n",
       "      <td>14502.75</td>\n",
       "      <td>0</td>\n",
       "    </tr>\n",
       "  </tbody>\n",
       "</table>\n",
       "</div>"
      ],
      "text/plain": [
       "   calls  minutes  messages   mb_used  is_ultra\n",
       "0   40.0   311.90      83.0  19915.42         0\n",
       "1   85.0   516.75      56.0  22696.96         0\n",
       "2   77.0   467.66      86.0  21060.45         0\n",
       "3  106.0   745.53      81.0   8437.39         1\n",
       "4   66.0   418.74       1.0  14502.75         0"
      ]
     },
     "execution_count": 3,
     "metadata": {},
     "output_type": "execute_result"
    }
   ],
   "source": [
    "df.head()"
   ]
  },
  {
   "cell_type": "code",
   "execution_count": 4,
   "metadata": {},
   "outputs": [
    {
     "name": "stdout",
     "output_type": "stream",
     "text": [
      "<class 'pandas.core.frame.DataFrame'>\n",
      "RangeIndex: 3214 entries, 0 to 3213\n",
      "Data columns (total 5 columns):\n",
      " #   Column    Non-Null Count  Dtype  \n",
      "---  ------    --------------  -----  \n",
      " 0   calls     3214 non-null   float64\n",
      " 1   minutes   3214 non-null   float64\n",
      " 2   messages  3214 non-null   float64\n",
      " 3   mb_used   3214 non-null   float64\n",
      " 4   is_ultra  3214 non-null   int64  \n",
      "dtypes: float64(4), int64(1)\n",
      "memory usage: 125.7 KB\n"
     ]
    }
   ],
   "source": [
    "df.info()"
   ]
  },
  {
   "cell_type": "code",
   "execution_count": 5,
   "metadata": {},
   "outputs": [
    {
     "data": {
      "text/plain": [
       "0"
      ]
     },
     "execution_count": 5,
     "metadata": {},
     "output_type": "execute_result"
    }
   ],
   "source": [
    "df.duplicated().sum()"
   ]
  },
  {
   "cell_type": "markdown",
   "metadata": {},
   "source": [
    "Датасет имеет 5 столбцов и 3214 строк. \n",
    "Пропуски отсутсвуют ,дубликаты отсутствуют,типы данных соответсвуют данным ."
   ]
  },
  {
   "cell_type": "markdown",
   "metadata": {},
   "source": [
    "сalls — количество звонков\n",
    "\n",
    "minutes — суммарная длительность звонков в минутах\n",
    "\n",
    "messages — количество sms-сообщений\n",
    "\n",
    "mb_used — израсходованный интернет-трафик в Мб\n",
    "\n",
    "is_ultra — каким тарифом пользовался в течение месяца («Ультра» — 1, «Смарт» — 0)"
   ]
  },
  {
   "cell_type": "code",
   "execution_count": 6,
   "metadata": {},
   "outputs": [
    {
     "data": {
      "text/plain": [
       "0    0.693528\n",
       "1    0.306472\n",
       "Name: is_ultra, dtype: float64"
      ]
     },
     "execution_count": 6,
     "metadata": {},
     "output_type": "execute_result"
    }
   ],
   "source": [
    "df['is_ultra'].value_counts(normalize=True)"
   ]
  },
  {
   "cell_type": "markdown",
   "metadata": {},
   "source": [
    "## Разбейте данные на выборки"
   ]
  },
  {
   "cell_type": "markdown",
   "metadata": {},
   "source": [
    "Разобьем выборку по принципу 60/20/20."
   ]
  },
  {
   "cell_type": "code",
   "execution_count": 7,
   "metadata": {},
   "outputs": [],
   "source": [
    "df_train, df_valid_test=train_test_split(df,train_size=0.6,test_size=0.4,random_state=1234)\n",
    "df_valid,df_test=train_test_split(df_valid_test,test_size=0.5,random_state=1234)"
   ]
  },
  {
   "cell_type": "code",
   "execution_count": 8,
   "metadata": {},
   "outputs": [
    {
     "name": "stdout",
     "output_type": "stream",
     "text": [
      "Размер тренериующей выборки: 1928\n",
      "Размер валидационной выборки: 643\n",
      "Размер тестовой выборки: 643\n"
     ]
    }
   ],
   "source": [
    "print('Размер тренериующей выборки:',df_train.shape[0])\n",
    "print('Размер валидационной выборки:',df_valid.shape[0])\n",
    "print('Размер тестовой выборки:',df_test.shape[0])"
   ]
  },
  {
   "cell_type": "markdown",
   "metadata": {},
   "source": [
    "## Исследуйте модели"
   ]
  },
  {
   "cell_type": "code",
   "execution_count": 9,
   "metadata": {},
   "outputs": [],
   "source": [
    "features_valid=df_valid.drop(['is_ultra'],axis=1) \n",
    "target_valid=df_valid['is_ultra']"
   ]
  },
  {
   "cell_type": "code",
   "execution_count": 10,
   "metadata": {},
   "outputs": [],
   "source": [
    "features_train=df_train.drop(['is_ultra'],axis=1)\n",
    "target_train=df_train['is_ultra']"
   ]
  },
  {
   "cell_type": "code",
   "execution_count": 11,
   "metadata": {},
   "outputs": [],
   "source": [
    "features_test=df_test.drop(['is_ultra'],axis=1) \n",
    "target_test=df_test['is_ultra'] "
   ]
  },
  {
   "cell_type": "markdown",
   "metadata": {},
   "source": [
    "RANDOMTREECLASSIFIER"
   ]
  },
  {
   "cell_type": "code",
   "execution_count": 12,
   "metadata": {},
   "outputs": [
    {
     "name": "stdout",
     "output_type": "stream",
     "text": [
      "результат:0.8289269051321928,глубина:6\n"
     ]
    }
   ],
   "source": [
    "best_model=None\n",
    "best_result=0\n",
    "#best_depth=depth\n",
    "for depth in range(1,22):\n",
    "        model_tr=DecisionTreeClassifier(random_state=12345, max_depth=depth)\n",
    "        model_tr.fit(features_train,target_train) \n",
    "        result=model_tr.score(features_valid,target_valid) \n",
    "        if result>best_result:\n",
    "            best_model=model_tr\n",
    "            best_result=result\n",
    "            best_depth=depth    \n",
    "print(f'результат:{best_result},глубина:{best_depth}')"
   ]
  },
  {
   "cell_type": "markdown",
   "metadata": {},
   "source": [
    "Лучшее качество модели =0.83 при максимальной глубине 6"
   ]
  },
  {
   "cell_type": "markdown",
   "metadata": {},
   "source": [
    "RANDOMFORESTCLASSIFIER\n",
    "\n"
   ]
  },
  {
   "cell_type": "code",
   "execution_count": 13,
   "metadata": {},
   "outputs": [
    {
     "name": "stdout",
     "output_type": "stream",
     "text": [
      "результат: 0.8398133748055988,глубина:9,количество деревьев:54\n"
     ]
    }
   ],
   "source": [
    "best_model=None\n",
    "best_result=0\n",
    "best_depth=depth\n",
    "\n",
    "for estim in range(2,55,2):  \n",
    "    for depth in range (3,66,3):\n",
    "        model_frst=RandomForestClassifier(max_depth=depth,n_estimators=estim,random_state=12345) \n",
    "        model_frst.fit(features_train,target_train) \n",
    "        result=model_frst.score(features_valid,target_valid)\n",
    "\n",
    "        if result>best_result:\n",
    "            best_model=model_frst\n",
    "            best_result=result\n",
    "            best_depth=depth\n",
    "print(f'результат: {best_result},глубина:{best_depth},количество деревьев:{estim}')      "
   ]
  },
  {
   "cell_type": "markdown",
   "metadata": {},
   "source": [
    "Лучшее качество модели=0.84"
   ]
  },
  {
   "cell_type": "markdown",
   "metadata": {},
   "source": [
    "LOGISTICREGRESSION"
   ]
  },
  {
   "cell_type": "code",
   "execution_count": 14,
   "metadata": {},
   "outputs": [
    {
     "name": "stdout",
     "output_type": "stream",
     "text": [
      "accuracy: 0.7589424572317263\n"
     ]
    }
   ],
   "source": [
    "model_log=LogisticRegression()\n",
    "model_log.fit(features_train,target_train) \n",
    "predict_Log=model_log.predict(features_valid)\n",
    "print('accuracy:',accuracy_score(predict_Log,target_valid))"
   ]
  },
  {
   "cell_type": "markdown",
   "metadata": {},
   "source": [
    "Качесвто модели = 0.76\n",
    "\n",
    "При обучении трех разных моделей получили лучшие метрики качества.\n",
    "\n",
    "\"Дерево предсказания\" при гиперпараметрах max_depth= 6: 0.83\n",
    "\n",
    "\"Случайный лес\" при гиперпараметрах max_depth=9, estim=54: 0.84\n",
    "\n",
    "\"Логистическая регрессия\": 0.76\n",
    "\n",
    "Лучшей модель:\"Случайный лес\" , эту модель будем проверять на тестовой выборке .\n",
    "\n"
   ]
  },
  {
   "cell_type": "markdown",
   "metadata": {},
   "source": [
    "##  Проверьте модель на тестовой выборке"
   ]
  },
  {
   "cell_type": "code",
   "execution_count": 15,
   "metadata": {},
   "outputs": [
    {
     "name": "stdout",
     "output_type": "stream",
     "text": [
      "n_estimators: 54 accuracy: 0.8149300155520995\n"
     ]
    }
   ],
   "source": [
    "model_frst=RandomForestClassifier(max_depth=9,n_estimators=54,random_state=12345)\n",
    "model_frst.fit(features_train,target_train)\n",
    "prediction_frst=model_frst.predict(features_test)\n",
    "print('n_estimators:',estim,end=\"\")\n",
    "print(' accuracy:',accuracy_score(prediction_frst,target_test))"
   ]
  },
  {
   "cell_type": "markdown",
   "metadata": {},
   "source": [
    "Точность данной модели на тестовой выборке имеет близкую к валидационной , что означает отсутсвие проблем с переобучением модели."
   ]
  },
  {
   "cell_type": "markdown",
   "metadata": {},
   "source": [
    "## Вывод"
   ]
  },
  {
   "cell_type": "markdown",
   "metadata": {},
   "source": [
    "Самые адекватные предсказания делает Random Forest, это видно по точности предсказания на валидационной и на тестовой выборке ."
   ]
  },
  {
   "cell_type": "markdown",
   "metadata": {},
   "source": [
    "Поставьте 'x' в выполненных пунктах. Далее нажмите Shift+Enter."
   ]
  },
  {
   "cell_type": "markdown",
   "metadata": {},
   "source": [
    "- [x] Jupyter Notebook открыт\n",
    "- [x] Весь код исполняется без ошибок\n",
    "- [x] Ячейки с кодом расположены в порядке исполнения\n",
    "- [x] Выполнено задание 1: данные загружены и изучены\n",
    "- [x] Выполнено задание 2: данные разбиты на три выборки\n",
    "- [x] Выполнено задание 3: проведено исследование моделей\n",
    "    - [x] Рассмотрено больше одной модели\n",
    "    - [x] Рассмотрено хотя бы 3 значения гипепараметров для какой-нибудь модели\n",
    "    - [x] Написаны выводы по результатам исследования\n",
    "- [x] Выполнено задание 3: Проведено тестирование\n",
    "- [x] Удалось достичь accuracy не меньше 0.75\n"
   ]
  }
 ],
 "metadata": {
  "ExecuteTimeLog": [
   {
    "duration": 1135,
    "start_time": "2022-07-21T11:49:10.418Z"
   },
   {
    "duration": 152,
    "start_time": "2022-07-21T11:49:11.556Z"
   },
   {
    "duration": 0,
    "start_time": "2022-07-21T11:49:11.710Z"
   },
   {
    "duration": 9,
    "start_time": "2022-07-21T11:49:11.874Z"
   },
   {
    "duration": 69,
    "start_time": "2022-07-21T11:49:47.709Z"
   },
   {
    "duration": 19,
    "start_time": "2022-07-21T11:49:50.858Z"
   },
   {
    "duration": 18,
    "start_time": "2022-07-21T11:49:51.698Z"
   },
   {
    "duration": 75,
    "start_time": "2022-07-21T11:51:10.868Z"
   },
   {
    "duration": 8,
    "start_time": "2022-07-21T12:01:55.702Z"
   },
   {
    "duration": 5,
    "start_time": "2022-07-21T12:02:32.723Z"
   },
   {
    "duration": 4,
    "start_time": "2022-07-21T12:02:59.343Z"
   },
   {
    "duration": 5,
    "start_time": "2022-07-21T12:02:59.842Z"
   },
   {
    "duration": 4,
    "start_time": "2022-07-21T12:04:29.790Z"
   },
   {
    "duration": 5,
    "start_time": "2022-07-21T12:08:51.223Z"
   },
   {
    "duration": 6,
    "start_time": "2022-07-21T12:12:55.444Z"
   },
   {
    "duration": 6,
    "start_time": "2022-07-21T12:12:55.843Z"
   },
   {
    "duration": 4,
    "start_time": "2022-07-21T12:12:56.107Z"
   },
   {
    "duration": 324,
    "start_time": "2022-07-21T12:13:31.929Z"
   },
   {
    "duration": 3322,
    "start_time": "2022-07-21T12:14:07.354Z"
   },
   {
    "duration": 825,
    "start_time": "2022-07-21T12:14:10.679Z"
   },
   {
    "duration": 21,
    "start_time": "2022-07-21T12:15:22.280Z"
   },
   {
    "duration": 76,
    "start_time": "2022-07-21T12:15:32.045Z"
   },
   {
    "duration": 220,
    "start_time": "2022-07-21T12:15:46.201Z"
   },
   {
    "duration": 100,
    "start_time": "2022-07-21T12:16:48.506Z"
   },
   {
    "duration": 10,
    "start_time": "2022-07-21T12:18:23.855Z"
   },
   {
    "duration": 14,
    "start_time": "2022-07-21T12:18:56.774Z"
   },
   {
    "duration": 7,
    "start_time": "2022-07-21T12:19:12.646Z"
   },
   {
    "duration": 15,
    "start_time": "2022-07-21T12:20:46.836Z"
   },
   {
    "duration": 7,
    "start_time": "2022-07-21T12:20:50.832Z"
   },
   {
    "duration": 1238,
    "start_time": "2022-07-21T12:25:02.100Z"
   },
   {
    "duration": 36,
    "start_time": "2022-07-21T12:25:03.340Z"
   },
   {
    "duration": 25,
    "start_time": "2022-07-21T12:25:03.378Z"
   },
   {
    "duration": 17,
    "start_time": "2022-07-21T12:25:03.406Z"
   },
   {
    "duration": 17,
    "start_time": "2022-07-21T12:25:03.425Z"
   },
   {
    "duration": 10,
    "start_time": "2022-07-21T12:25:03.445Z"
   },
   {
    "duration": 5,
    "start_time": "2022-07-21T12:25:03.457Z"
   },
   {
    "duration": 37,
    "start_time": "2022-07-21T12:25:03.464Z"
   },
   {
    "duration": 8,
    "start_time": "2022-07-21T12:25:03.503Z"
   },
   {
    "duration": 6,
    "start_time": "2022-07-21T12:25:03.516Z"
   },
   {
    "duration": 22,
    "start_time": "2022-07-21T12:25:03.524Z"
   },
   {
    "duration": 7,
    "start_time": "2022-07-21T12:25:03.548Z"
   },
   {
    "duration": 9,
    "start_time": "2022-07-21T12:25:03.557Z"
   },
   {
    "duration": 29,
    "start_time": "2022-07-21T12:25:03.569Z"
   },
   {
    "duration": 269,
    "start_time": "2022-07-21T12:25:03.601Z"
   },
   {
    "duration": 3347,
    "start_time": "2022-07-21T12:25:03.872Z"
   },
   {
    "duration": 1490,
    "start_time": "2022-07-21T12:25:07.221Z"
   },
   {
    "duration": 90,
    "start_time": "2022-07-21T12:25:08.716Z"
   },
   {
    "duration": 103,
    "start_time": "2022-07-21T12:25:08.808Z"
   },
   {
    "duration": 1089,
    "start_time": "2022-07-21T12:25:08.913Z"
   },
   {
    "duration": 5,
    "start_time": "2022-07-21T12:25:23.620Z"
   },
   {
    "duration": 5,
    "start_time": "2022-07-21T12:25:24.301Z"
   },
   {
    "duration": 269,
    "start_time": "2022-07-21T12:25:24.709Z"
   },
   {
    "duration": 3228,
    "start_time": "2022-07-21T12:25:25.430Z"
   },
   {
    "duration": 656,
    "start_time": "2022-07-21T12:25:28.661Z"
   },
   {
    "duration": 104,
    "start_time": "2022-07-21T12:25:29.400Z"
   },
   {
    "duration": 94,
    "start_time": "2022-07-21T12:25:29.507Z"
   },
   {
    "duration": 501,
    "start_time": "2022-07-21T12:25:29.604Z"
   },
   {
    "duration": 8,
    "start_time": "2022-07-21T12:27:24.718Z"
   },
   {
    "duration": 5,
    "start_time": "2022-07-21T12:27:25.150Z"
   },
   {
    "duration": 5,
    "start_time": "2022-07-21T12:27:26.086Z"
   },
   {
    "duration": 5,
    "start_time": "2022-07-21T12:27:26.463Z"
   },
   {
    "duration": 99,
    "start_time": "2022-07-21T12:43:00.067Z"
   },
   {
    "duration": 11,
    "start_time": "2022-07-21T12:43:49.919Z"
   },
   {
    "duration": 4,
    "start_time": "2022-07-21T12:44:28.997Z"
   },
   {
    "duration": 5,
    "start_time": "2022-07-21T12:44:48.681Z"
   },
   {
    "duration": 4,
    "start_time": "2022-07-21T12:44:55.451Z"
   },
   {
    "duration": 5,
    "start_time": "2022-07-21T12:45:36.737Z"
   },
   {
    "duration": 4,
    "start_time": "2022-07-21T12:46:52.024Z"
   },
   {
    "duration": 10,
    "start_time": "2022-07-21T12:46:52.464Z"
   },
   {
    "duration": 6,
    "start_time": "2022-07-21T12:47:34.301Z"
   },
   {
    "duration": 5,
    "start_time": "2022-07-21T12:47:48.689Z"
   },
   {
    "duration": 235,
    "start_time": "2022-07-21T12:53:08.311Z"
   },
   {
    "duration": 3070,
    "start_time": "2022-07-21T12:53:22.377Z"
   },
   {
    "duration": 559,
    "start_time": "2022-07-21T12:53:25.449Z"
   },
   {
    "duration": 16,
    "start_time": "2022-07-21T12:53:30.877Z"
   },
   {
    "duration": 63,
    "start_time": "2022-07-21T12:53:31.662Z"
   },
   {
    "duration": 299,
    "start_time": "2022-07-21T12:53:32.311Z"
   },
   {
    "duration": 53,
    "start_time": "2022-07-21T12:53:40.957Z"
   },
   {
    "duration": 15,
    "start_time": "2022-07-21T12:53:42.292Z"
   },
   {
    "duration": 61,
    "start_time": "2022-07-21T12:53:42.741Z"
   },
   {
    "duration": 307,
    "start_time": "2022-07-21T12:53:43.203Z"
   },
   {
    "duration": 51,
    "start_time": "2022-07-21T12:53:49.458Z"
   },
   {
    "duration": 17,
    "start_time": "2022-07-21T12:53:50.986Z"
   },
   {
    "duration": 52,
    "start_time": "2022-07-21T12:53:51.512Z"
   },
   {
    "duration": 227,
    "start_time": "2022-07-21T12:53:51.984Z"
   },
   {
    "duration": 18,
    "start_time": "2022-07-21T12:54:50.716Z"
   },
   {
    "duration": 233,
    "start_time": "2022-07-21T12:55:03.787Z"
   },
   {
    "duration": 3073,
    "start_time": "2022-07-21T12:55:38.007Z"
   },
   {
    "duration": 717,
    "start_time": "2022-07-21T12:56:06.094Z"
   },
   {
    "duration": 256,
    "start_time": "2022-07-21T12:56:22.507Z"
   },
   {
    "duration": 229,
    "start_time": "2022-07-21T12:56:36.892Z"
   },
   {
    "duration": 232,
    "start_time": "2022-07-21T12:56:52.002Z"
   },
   {
    "duration": 3022,
    "start_time": "2022-07-21T12:56:53.219Z"
   },
   {
    "duration": 3169,
    "start_time": "2022-07-21T12:57:04.491Z"
   },
   {
    "duration": 797,
    "start_time": "2022-07-21T12:57:18.007Z"
   },
   {
    "duration": 115,
    "start_time": "2022-07-21T12:59:01.081Z"
   },
   {
    "duration": 132,
    "start_time": "2022-07-21T12:59:05.820Z"
   },
   {
    "duration": 393,
    "start_time": "2022-07-21T12:59:18.011Z"
   },
   {
    "duration": 226,
    "start_time": "2022-07-21T12:59:43.089Z"
   },
   {
    "duration": 221,
    "start_time": "2022-07-21T13:01:27.866Z"
   },
   {
    "duration": 1120,
    "start_time": "2022-07-21T13:01:41.709Z"
   },
   {
    "duration": 30,
    "start_time": "2022-07-21T13:01:42.832Z"
   },
   {
    "duration": 18,
    "start_time": "2022-07-21T13:01:42.864Z"
   },
   {
    "duration": 11,
    "start_time": "2022-07-21T13:01:42.884Z"
   },
   {
    "duration": 7,
    "start_time": "2022-07-21T13:01:42.898Z"
   },
   {
    "duration": 8,
    "start_time": "2022-07-21T13:01:42.907Z"
   },
   {
    "duration": 6,
    "start_time": "2022-07-21T13:01:42.916Z"
   },
   {
    "duration": 5,
    "start_time": "2022-07-21T13:01:42.924Z"
   },
   {
    "duration": 14,
    "start_time": "2022-07-21T13:01:42.931Z"
   },
   {
    "duration": 6,
    "start_time": "2022-07-21T13:01:42.947Z"
   },
   {
    "duration": 5,
    "start_time": "2022-07-21T13:01:42.955Z"
   },
   {
    "duration": 5,
    "start_time": "2022-07-21T13:01:42.962Z"
   },
   {
    "duration": 249,
    "start_time": "2022-07-21T13:01:42.969Z"
   },
   {
    "duration": 2926,
    "start_time": "2022-07-21T13:01:43.221Z"
   },
   {
    "duration": 668,
    "start_time": "2022-07-21T13:01:46.149Z"
   },
   {
    "duration": 0,
    "start_time": "2022-07-21T13:01:46.820Z"
   },
   {
    "duration": 0,
    "start_time": "2022-07-21T13:01:46.822Z"
   },
   {
    "duration": 0,
    "start_time": "2022-07-21T13:01:46.824Z"
   },
   {
    "duration": 911,
    "start_time": "2022-07-21T13:01:59.286Z"
   },
   {
    "duration": 16,
    "start_time": "2022-07-21T13:02:01.434Z"
   },
   {
    "duration": 54,
    "start_time": "2022-07-21T13:02:01.624Z"
   },
   {
    "duration": 306,
    "start_time": "2022-07-21T13:02:01.905Z"
   },
   {
    "duration": 231,
    "start_time": "2022-07-21T13:02:14.257Z"
   },
   {
    "duration": 144,
    "start_time": "2022-07-21T13:02:22.258Z"
   },
   {
    "duration": 234,
    "start_time": "2022-07-21T13:02:55.264Z"
   },
   {
    "duration": 357,
    "start_time": "2022-07-21T13:03:58.759Z"
   },
   {
    "duration": 54,
    "start_time": "2022-07-21T13:04:07.243Z"
   },
   {
    "duration": 4535,
    "start_time": "2022-07-21T13:04:53.376Z"
   },
   {
    "duration": 208,
    "start_time": "2022-07-21T13:05:24.206Z"
   },
   {
    "duration": 1897,
    "start_time": "2022-07-21T13:06:10.398Z"
   },
   {
    "duration": 233,
    "start_time": "2022-07-21T13:06:24.210Z"
   },
   {
    "duration": 140,
    "start_time": "2022-07-21T13:06:32.658Z"
   },
   {
    "duration": 9,
    "start_time": "2022-07-21T13:07:50.254Z"
   },
   {
    "duration": 132,
    "start_time": "2022-07-21T13:07:54.280Z"
   },
   {
    "duration": 3174,
    "start_time": "2022-07-21T13:08:43.311Z"
   },
   {
    "duration": 234,
    "start_time": "2022-07-21T13:09:07.509Z"
   },
   {
    "duration": 497,
    "start_time": "2022-07-21T13:13:27.026Z"
   },
   {
    "duration": 251,
    "start_time": "2022-07-21T13:13:33.110Z"
   },
   {
    "duration": 119,
    "start_time": "2022-07-21T13:15:37.607Z"
   },
   {
    "duration": 59,
    "start_time": "2022-07-21T13:16:41.029Z"
   },
   {
    "duration": 50,
    "start_time": "2022-07-21T13:16:48.591Z"
   },
   {
    "duration": 101,
    "start_time": "2022-07-21T13:16:56.019Z"
   },
   {
    "duration": 130,
    "start_time": "2022-07-21T13:17:18.073Z"
   },
   {
    "duration": 3,
    "start_time": "2022-07-21T13:17:30.135Z"
   },
   {
    "duration": 4,
    "start_time": "2022-07-21T13:17:34.467Z"
   },
   {
    "duration": 132,
    "start_time": "2022-07-21T13:17:37.701Z"
   },
   {
    "duration": 151,
    "start_time": "2022-07-21T13:17:43.249Z"
   },
   {
    "duration": 148,
    "start_time": "2022-07-21T13:20:12.141Z"
   },
   {
    "duration": 4,
    "start_time": "2022-07-21T13:20:15.378Z"
   },
   {
    "duration": 30,
    "start_time": "2022-07-21T13:20:15.611Z"
   },
   {
    "duration": 11,
    "start_time": "2022-07-21T13:20:15.809Z"
   },
   {
    "duration": 20,
    "start_time": "2022-07-21T13:20:16.021Z"
   },
   {
    "duration": 10,
    "start_time": "2022-07-21T13:20:16.283Z"
   },
   {
    "duration": 9,
    "start_time": "2022-07-21T13:20:17.621Z"
   },
   {
    "duration": 6,
    "start_time": "2022-07-21T13:20:17.838Z"
   },
   {
    "duration": 4,
    "start_time": "2022-07-21T13:20:18.567Z"
   },
   {
    "duration": 10,
    "start_time": "2022-07-21T13:20:18.782Z"
   },
   {
    "duration": 5,
    "start_time": "2022-07-21T13:20:19.011Z"
   },
   {
    "duration": 4,
    "start_time": "2022-07-21T13:20:19.473Z"
   },
   {
    "duration": 5,
    "start_time": "2022-07-21T13:20:19.937Z"
   },
   {
    "duration": 136,
    "start_time": "2022-07-21T13:20:20.924Z"
   },
   {
    "duration": 6275,
    "start_time": "2022-07-21T13:29:19.242Z"
   },
   {
    "duration": 1132,
    "start_time": "2022-07-21T13:29:27.977Z"
   },
   {
    "duration": 226,
    "start_time": "2022-07-21T13:29:40.317Z"
   },
   {
    "duration": 13,
    "start_time": "2022-07-21T13:30:11.591Z"
   },
   {
    "duration": 81,
    "start_time": "2022-07-21T13:30:25.478Z"
   },
   {
    "duration": 137,
    "start_time": "2022-07-21T13:30:47.093Z"
   },
   {
    "duration": 1104,
    "start_time": "2022-07-21T13:31:37.621Z"
   },
   {
    "duration": 1148,
    "start_time": "2022-07-21T13:31:47.274Z"
   },
   {
    "duration": 275,
    "start_time": "2022-07-21T13:32:14.333Z"
   },
   {
    "duration": 18,
    "start_time": "2022-07-21T13:43:06.722Z"
   },
   {
    "duration": 59,
    "start_time": "2022-07-21T13:43:07.282Z"
   },
   {
    "duration": 311,
    "start_time": "2022-07-21T13:43:07.802Z"
   },
   {
    "duration": 56,
    "start_time": "2022-07-21T13:43:17.733Z"
   },
   {
    "duration": 539,
    "start_time": "2022-07-21T13:43:18.465Z"
   },
   {
    "duration": 143,
    "start_time": "2022-07-21T13:45:20.703Z"
   },
   {
    "duration": 1160,
    "start_time": "2022-07-21T13:45:21.812Z"
   },
   {
    "duration": 755,
    "start_time": "2022-07-21T13:45:23.447Z"
   },
   {
    "duration": 16,
    "start_time": "2022-07-21T13:45:30.811Z"
   },
   {
    "duration": 51,
    "start_time": "2022-07-21T13:45:31.526Z"
   },
   {
    "duration": 645,
    "start_time": "2022-07-21T13:45:33.265Z"
   },
   {
    "duration": 15,
    "start_time": "2022-07-21T13:46:02.755Z"
   },
   {
    "duration": 78,
    "start_time": "2022-07-21T13:46:08.844Z"
   },
   {
    "duration": 674,
    "start_time": "2022-07-21T13:46:14.223Z"
   },
   {
    "duration": 1278,
    "start_time": "2022-07-22T06:10:17.471Z"
   },
   {
    "duration": 107,
    "start_time": "2022-07-22T06:10:18.752Z"
   },
   {
    "duration": 17,
    "start_time": "2022-07-22T06:10:18.861Z"
   },
   {
    "duration": 29,
    "start_time": "2022-07-22T06:10:18.880Z"
   },
   {
    "duration": 24,
    "start_time": "2022-07-22T06:10:18.911Z"
   },
   {
    "duration": 14,
    "start_time": "2022-07-22T06:10:18.937Z"
   },
   {
    "duration": 15,
    "start_time": "2022-07-22T06:10:18.952Z"
   },
   {
    "duration": 11,
    "start_time": "2022-07-22T06:10:18.969Z"
   },
   {
    "duration": 19,
    "start_time": "2022-07-22T06:10:18.982Z"
   },
   {
    "duration": 15,
    "start_time": "2022-07-22T06:10:19.003Z"
   },
   {
    "duration": 11,
    "start_time": "2022-07-22T06:10:19.020Z"
   },
   {
    "duration": 13,
    "start_time": "2022-07-22T06:10:19.033Z"
   },
   {
    "duration": 134,
    "start_time": "2022-07-22T06:10:19.047Z"
   },
   {
    "duration": 1081,
    "start_time": "2022-07-22T06:10:19.183Z"
   },
   {
    "duration": 496,
    "start_time": "2022-07-22T06:10:20.265Z"
   },
   {
    "duration": 107,
    "start_time": "2022-07-22T06:10:20.763Z"
   },
   {
    "duration": 50,
    "start_time": "2022-07-22T06:10:20.871Z"
   },
   {
    "duration": 545,
    "start_time": "2022-07-22T06:10:20.923Z"
   },
   {
    "duration": 61,
    "start_time": "2022-07-23T06:15:14.772Z"
   },
   {
    "duration": 1123,
    "start_time": "2022-07-23T06:18:42.079Z"
   },
   {
    "duration": 4,
    "start_time": "2022-07-23T06:18:43.902Z"
   },
   {
    "duration": 49,
    "start_time": "2022-07-23T06:19:02.119Z"
   },
   {
    "duration": 4,
    "start_time": "2022-07-23T06:19:08.165Z"
   },
   {
    "duration": 3,
    "start_time": "2022-07-23T06:19:12.577Z"
   },
   {
    "duration": 3,
    "start_time": "2022-07-23T06:19:29.972Z"
   },
   {
    "duration": 1082,
    "start_time": "2022-07-23T06:19:35.329Z"
   },
   {
    "duration": 111,
    "start_time": "2022-07-23T06:19:36.412Z"
   },
   {
    "duration": 18,
    "start_time": "2022-07-23T06:19:36.525Z"
   },
   {
    "duration": 10,
    "start_time": "2022-07-23T06:19:36.547Z"
   },
   {
    "duration": 9,
    "start_time": "2022-07-23T06:19:36.559Z"
   },
   {
    "duration": 6,
    "start_time": "2022-07-23T06:19:36.569Z"
   },
   {
    "duration": 14,
    "start_time": "2022-07-23T06:19:36.577Z"
   },
   {
    "duration": 5,
    "start_time": "2022-07-23T06:19:36.592Z"
   },
   {
    "duration": 8,
    "start_time": "2022-07-23T06:19:36.610Z"
   },
   {
    "duration": 9,
    "start_time": "2022-07-23T06:19:36.620Z"
   },
   {
    "duration": 10,
    "start_time": "2022-07-23T06:19:36.630Z"
   },
   {
    "duration": 7,
    "start_time": "2022-07-23T06:19:36.641Z"
   },
   {
    "duration": 161,
    "start_time": "2022-07-23T06:19:36.649Z"
   },
   {
    "duration": 1082,
    "start_time": "2022-07-23T06:19:36.812Z"
   },
   {
    "duration": 421,
    "start_time": "2022-07-23T06:19:37.896Z"
   },
   {
    "duration": 191,
    "start_time": "2022-07-23T06:19:38.319Z"
   },
   {
    "duration": 75,
    "start_time": "2022-07-23T06:19:38.512Z"
   },
   {
    "duration": 431,
    "start_time": "2022-07-23T06:19:38.589Z"
   },
   {
    "duration": 58,
    "start_time": "2022-07-23T06:22:15.174Z"
   },
   {
    "duration": 2,
    "start_time": "2022-07-23T06:23:12.082Z"
   },
   {
    "duration": 3,
    "start_time": "2022-07-23T06:23:12.523Z"
   },
   {
    "duration": 4,
    "start_time": "2022-07-23T06:23:21.946Z"
   },
   {
    "duration": 114,
    "start_time": "2022-07-23T06:35:49.477Z"
   },
   {
    "duration": 7,
    "start_time": "2022-07-23T06:35:55.780Z"
   },
   {
    "duration": 48,
    "start_time": "2022-07-23T06:42:14.803Z"
   },
   {
    "duration": 10,
    "start_time": "2022-07-23T06:42:27.951Z"
   },
   {
    "duration": 60,
    "start_time": "2022-07-23T06:43:10.707Z"
   },
   {
    "duration": 4,
    "start_time": "2022-07-23T06:45:06.002Z"
   },
   {
    "duration": 3,
    "start_time": "2022-07-23T06:45:29.041Z"
   },
   {
    "duration": 3,
    "start_time": "2022-07-23T06:45:29.433Z"
   },
   {
    "duration": 2,
    "start_time": "2022-07-23T06:45:29.633Z"
   },
   {
    "duration": 5,
    "start_time": "2022-07-23T06:45:30.011Z"
   },
   {
    "duration": 5,
    "start_time": "2022-07-23T06:45:30.412Z"
   },
   {
    "duration": 99,
    "start_time": "2022-07-23T06:46:04.391Z"
   },
   {
    "duration": 3,
    "start_time": "2022-07-23T06:49:37.390Z"
   },
   {
    "duration": 1014,
    "start_time": "2022-07-23T06:50:49.872Z"
   },
   {
    "duration": 12100,
    "start_time": "2022-07-23T06:51:52.522Z"
   },
   {
    "duration": 833,
    "start_time": "2022-07-23T06:52:39.022Z"
   },
   {
    "duration": 96,
    "start_time": "2022-07-23T06:52:46.505Z"
   },
   {
    "duration": 1051,
    "start_time": "2022-07-23T06:55:29.667Z"
   },
   {
    "duration": 29,
    "start_time": "2022-07-23T06:55:30.720Z"
   },
   {
    "duration": 17,
    "start_time": "2022-07-23T06:55:30.751Z"
   },
   {
    "duration": 11,
    "start_time": "2022-07-23T06:55:30.770Z"
   },
   {
    "duration": 24,
    "start_time": "2022-07-23T06:55:30.783Z"
   },
   {
    "duration": 11,
    "start_time": "2022-07-23T06:55:30.808Z"
   },
   {
    "duration": 6,
    "start_time": "2022-07-23T06:55:30.820Z"
   },
   {
    "duration": 19,
    "start_time": "2022-07-23T06:55:30.828Z"
   },
   {
    "duration": 7,
    "start_time": "2022-07-23T06:55:30.848Z"
   },
   {
    "duration": 10,
    "start_time": "2022-07-23T06:55:30.857Z"
   },
   {
    "duration": 12,
    "start_time": "2022-07-23T06:55:30.868Z"
   },
   {
    "duration": 99,
    "start_time": "2022-07-23T06:55:30.881Z"
   },
   {
    "duration": 885,
    "start_time": "2022-07-23T06:55:30.981Z"
   },
   {
    "duration": 29,
    "start_time": "2022-07-23T06:55:31.867Z"
   },
   {
    "duration": 22,
    "start_time": "2022-07-23T06:55:31.898Z"
   },
   {
    "duration": 80,
    "start_time": "2022-07-23T06:55:31.922Z"
   },
   {
    "duration": 65,
    "start_time": "2022-07-23T06:55:32.004Z"
   },
   {
    "duration": 4,
    "start_time": "2022-07-23T07:02:05.549Z"
   },
   {
    "duration": 93,
    "start_time": "2022-07-23T07:02:06.593Z"
   },
   {
    "duration": 858,
    "start_time": "2022-07-23T07:02:11.055Z"
   },
   {
    "duration": 30,
    "start_time": "2022-07-23T07:02:12.344Z"
   },
   {
    "duration": 11,
    "start_time": "2022-07-23T07:02:13.690Z"
   },
   {
    "duration": 44,
    "start_time": "2022-07-23T07:02:14.081Z"
   },
   {
    "duration": 38,
    "start_time": "2022-07-23T07:02:14.305Z"
   },
   {
    "duration": 5,
    "start_time": "2022-07-23T07:05:26.781Z"
   },
   {
    "duration": 4,
    "start_time": "2022-07-23T07:06:08.853Z"
   },
   {
    "duration": 4,
    "start_time": "2022-07-23T07:06:53.771Z"
   },
   {
    "duration": 6,
    "start_time": "2022-07-23T07:07:13.272Z"
   },
   {
    "duration": 109,
    "start_time": "2022-07-23T07:08:26.366Z"
   },
   {
    "duration": 116,
    "start_time": "2022-07-23T07:13:05.158Z"
   },
   {
    "duration": 847,
    "start_time": "2022-07-23T07:13:19.760Z"
   },
   {
    "duration": 31,
    "start_time": "2022-07-23T07:13:31.371Z"
   },
   {
    "duration": 1110,
    "start_time": "2022-07-23T07:14:02.783Z"
   },
   {
    "duration": 30,
    "start_time": "2022-07-23T07:14:03.895Z"
   },
   {
    "duration": 24,
    "start_time": "2022-07-23T07:14:03.928Z"
   },
   {
    "duration": 15,
    "start_time": "2022-07-23T07:14:03.954Z"
   },
   {
    "duration": 9,
    "start_time": "2022-07-23T07:14:03.971Z"
   },
   {
    "duration": 8,
    "start_time": "2022-07-23T07:14:03.982Z"
   },
   {
    "duration": 25,
    "start_time": "2022-07-23T07:14:03.992Z"
   },
   {
    "duration": 12,
    "start_time": "2022-07-23T07:14:04.019Z"
   },
   {
    "duration": 141,
    "start_time": "2022-07-23T07:14:04.033Z"
   },
   {
    "duration": 0,
    "start_time": "2022-07-23T07:14:04.176Z"
   },
   {
    "duration": 0,
    "start_time": "2022-07-23T07:14:04.177Z"
   },
   {
    "duration": 0,
    "start_time": "2022-07-23T07:14:04.178Z"
   },
   {
    "duration": 0,
    "start_time": "2022-07-23T07:14:04.180Z"
   },
   {
    "duration": 0,
    "start_time": "2022-07-23T07:14:04.181Z"
   },
   {
    "duration": 0,
    "start_time": "2022-07-23T07:14:04.182Z"
   },
   {
    "duration": 0,
    "start_time": "2022-07-23T07:14:04.183Z"
   },
   {
    "duration": 0,
    "start_time": "2022-07-23T07:14:04.184Z"
   },
   {
    "duration": 10,
    "start_time": "2022-07-23T07:14:30.976Z"
   },
   {
    "duration": 86,
    "start_time": "2022-07-25T06:41:07.121Z"
   },
   {
    "duration": 1229,
    "start_time": "2022-07-25T06:41:14.487Z"
   },
   {
    "duration": 126,
    "start_time": "2022-07-25T06:41:15.718Z"
   },
   {
    "duration": 19,
    "start_time": "2022-07-25T06:41:15.846Z"
   },
   {
    "duration": 12,
    "start_time": "2022-07-25T06:41:15.867Z"
   },
   {
    "duration": 32,
    "start_time": "2022-07-25T06:41:15.881Z"
   },
   {
    "duration": 8,
    "start_time": "2022-07-25T06:41:16.853Z"
   },
   {
    "duration": 75,
    "start_time": "2022-07-25T06:49:13.471Z"
   },
   {
    "duration": 17,
    "start_time": "2022-07-25T06:49:13.928Z"
   },
   {
    "duration": 14,
    "start_time": "2022-07-25T06:49:14.641Z"
   },
   {
    "duration": 4,
    "start_time": "2022-07-25T06:49:18.874Z"
   },
   {
    "duration": 32,
    "start_time": "2022-07-25T06:49:19.555Z"
   },
   {
    "duration": 15,
    "start_time": "2022-07-25T06:49:19.789Z"
   },
   {
    "duration": 23,
    "start_time": "2022-07-25T06:49:20.021Z"
   },
   {
    "duration": 10,
    "start_time": "2022-07-25T06:49:20.262Z"
   },
   {
    "duration": 9,
    "start_time": "2022-07-25T06:49:21.190Z"
   },
   {
    "duration": 9,
    "start_time": "2022-07-25T06:49:22.520Z"
   },
   {
    "duration": 6,
    "start_time": "2022-07-25T06:49:22.770Z"
   },
   {
    "duration": 5,
    "start_time": "2022-07-25T06:49:24.055Z"
   },
   {
    "duration": 6,
    "start_time": "2022-07-25T06:49:24.341Z"
   },
   {
    "duration": 8,
    "start_time": "2022-07-25T06:49:24.741Z"
   },
   {
    "duration": 140,
    "start_time": "2022-07-25T06:49:25.573Z"
   },
   {
    "duration": 1054,
    "start_time": "2022-07-25T06:49:29.135Z"
   },
   {
    "duration": 48,
    "start_time": "2022-07-25T06:49:31.905Z"
   },
   {
    "duration": 48,
    "start_time": "2022-07-25T06:51:18.619Z"
   },
   {
    "duration": 1261,
    "start_time": "2022-07-25T06:53:16.561Z"
   },
   {
    "duration": 52,
    "start_time": "2022-07-25T06:53:43.162Z"
   },
   {
    "duration": 34,
    "start_time": "2022-07-25T06:54:58.415Z"
   },
   {
    "duration": 1372,
    "start_time": "2022-07-25T06:55:19.295Z"
   },
   {
    "duration": 32,
    "start_time": "2022-07-25T06:55:20.670Z"
   },
   {
    "duration": 35,
    "start_time": "2022-07-25T06:55:20.704Z"
   },
   {
    "duration": 35,
    "start_time": "2022-07-25T06:55:20.744Z"
   },
   {
    "duration": 47,
    "start_time": "2022-07-25T06:55:20.781Z"
   },
   {
    "duration": 32,
    "start_time": "2022-07-25T06:55:20.830Z"
   },
   {
    "duration": 18,
    "start_time": "2022-07-25T06:55:20.865Z"
   },
   {
    "duration": 9,
    "start_time": "2022-07-25T06:55:20.885Z"
   },
   {
    "duration": 26,
    "start_time": "2022-07-25T06:55:20.896Z"
   },
   {
    "duration": 34,
    "start_time": "2022-07-25T06:55:20.926Z"
   },
   {
    "duration": 14,
    "start_time": "2022-07-25T06:55:20.962Z"
   },
   {
    "duration": 122,
    "start_time": "2022-07-25T06:55:20.978Z"
   },
   {
    "duration": 971,
    "start_time": "2022-07-25T06:55:21.102Z"
   },
   {
    "duration": 62,
    "start_time": "2022-07-25T06:55:22.075Z"
   },
   {
    "duration": 54,
    "start_time": "2022-07-25T06:55:22.139Z"
   },
   {
    "duration": 4,
    "start_time": "2022-07-25T06:57:08.493Z"
   },
   {
    "duration": 50,
    "start_time": "2022-07-25T06:57:09.223Z"
   },
   {
    "duration": 24,
    "start_time": "2022-07-25T06:57:09.400Z"
   },
   {
    "duration": 18,
    "start_time": "2022-07-25T06:57:09.575Z"
   },
   {
    "duration": 11,
    "start_time": "2022-07-25T06:57:09.758Z"
   },
   {
    "duration": 14,
    "start_time": "2022-07-25T06:57:10.264Z"
   },
   {
    "duration": 9,
    "start_time": "2022-07-25T06:57:11.051Z"
   },
   {
    "duration": 11,
    "start_time": "2022-07-25T06:57:11.226Z"
   },
   {
    "duration": 7,
    "start_time": "2022-07-25T06:57:11.925Z"
   },
   {
    "duration": 5,
    "start_time": "2022-07-25T06:57:12.086Z"
   },
   {
    "duration": 7,
    "start_time": "2022-07-25T06:57:12.252Z"
   },
   {
    "duration": 153,
    "start_time": "2022-07-25T06:57:12.580Z"
   },
   {
    "duration": 1224,
    "start_time": "2022-07-25T06:57:13.421Z"
   },
   {
    "duration": 44,
    "start_time": "2022-07-25T06:57:14.654Z"
   },
   {
    "duration": 36,
    "start_time": "2022-07-25T06:57:16.955Z"
   },
   {
    "duration": 5,
    "start_time": "2022-07-25T06:57:47.370Z"
   },
   {
    "duration": 41,
    "start_time": "2022-07-25T06:57:56.516Z"
   },
   {
    "duration": 17,
    "start_time": "2022-07-25T06:57:57.317Z"
   },
   {
    "duration": 14,
    "start_time": "2022-07-25T06:57:58.104Z"
   },
   {
    "duration": 7,
    "start_time": "2022-07-25T06:57:58.681Z"
   },
   {
    "duration": 10,
    "start_time": "2022-07-25T06:58:00.343Z"
   },
   {
    "duration": 137,
    "start_time": "2022-07-25T07:02:19.861Z"
   },
   {
    "duration": 1406,
    "start_time": "2022-07-25T07:04:09.730Z"
   },
   {
    "duration": 32,
    "start_time": "2022-07-25T07:04:11.139Z"
   },
   {
    "duration": 20,
    "start_time": "2022-07-25T07:04:11.172Z"
   },
   {
    "duration": 14,
    "start_time": "2022-07-25T07:04:11.195Z"
   },
   {
    "duration": 16,
    "start_time": "2022-07-25T07:04:11.212Z"
   },
   {
    "duration": 24,
    "start_time": "2022-07-25T07:04:11.230Z"
   },
   {
    "duration": 9,
    "start_time": "2022-07-25T07:04:11.256Z"
   },
   {
    "duration": 29,
    "start_time": "2022-07-25T07:04:11.268Z"
   },
   {
    "duration": 8,
    "start_time": "2022-07-25T07:04:11.300Z"
   },
   {
    "duration": 9,
    "start_time": "2022-07-25T07:04:11.312Z"
   },
   {
    "duration": 36,
    "start_time": "2022-07-25T07:04:11.323Z"
   },
   {
    "duration": 133,
    "start_time": "2022-07-25T07:04:11.362Z"
   },
   {
    "duration": 971,
    "start_time": "2022-07-25T07:04:11.497Z"
   },
   {
    "duration": 36,
    "start_time": "2022-07-25T07:04:12.470Z"
   },
   {
    "duration": 53,
    "start_time": "2022-07-25T07:04:12.508Z"
   },
   {
    "duration": 36,
    "start_time": "2022-07-25T07:16:55.264Z"
   },
   {
    "duration": 41,
    "start_time": "2022-07-25T07:22:15.481Z"
   },
   {
    "duration": 457,
    "start_time": "2022-07-25T07:22:25.353Z"
   },
   {
    "duration": 33,
    "start_time": "2022-07-25T07:22:40.277Z"
   },
   {
    "duration": 34,
    "start_time": "2022-07-25T07:22:43.797Z"
   },
   {
    "duration": 85,
    "start_time": "2022-07-25T07:22:53.696Z"
   },
   {
    "duration": 766,
    "start_time": "2022-07-25T07:23:07.201Z"
   },
   {
    "duration": 276,
    "start_time": "2022-07-25T07:23:13.765Z"
   },
   {
    "duration": 1505,
    "start_time": "2022-07-25T07:23:21.664Z"
   },
   {
    "duration": 710,
    "start_time": "2022-07-25T07:23:37.670Z"
   },
   {
    "duration": 270,
    "start_time": "2022-07-25T07:23:48.053Z"
   },
   {
    "duration": 124,
    "start_time": "2022-07-25T07:24:08.621Z"
   },
   {
    "duration": 1097,
    "start_time": "2022-07-25T07:24:32.266Z"
   },
   {
    "duration": 34,
    "start_time": "2022-07-25T07:25:01.347Z"
   },
   {
    "duration": 33,
    "start_time": "2022-07-25T07:25:07.259Z"
   },
   {
    "duration": 1138,
    "start_time": "2022-07-25T07:28:15.226Z"
   },
   {
    "duration": 31,
    "start_time": "2022-07-25T07:28:16.366Z"
   },
   {
    "duration": 18,
    "start_time": "2022-07-25T07:28:16.399Z"
   },
   {
    "duration": 16,
    "start_time": "2022-07-25T07:28:16.419Z"
   },
   {
    "duration": 27,
    "start_time": "2022-07-25T07:28:16.437Z"
   },
   {
    "duration": 12,
    "start_time": "2022-07-25T07:28:16.466Z"
   },
   {
    "duration": 10,
    "start_time": "2022-07-25T07:28:16.480Z"
   },
   {
    "duration": 14,
    "start_time": "2022-07-25T07:28:16.492Z"
   },
   {
    "duration": 23,
    "start_time": "2022-07-25T07:28:16.507Z"
   },
   {
    "duration": 14,
    "start_time": "2022-07-25T07:28:16.533Z"
   },
   {
    "duration": 21,
    "start_time": "2022-07-25T07:28:16.549Z"
   },
   {
    "duration": 124,
    "start_time": "2022-07-25T07:28:16.572Z"
   },
   {
    "duration": 1044,
    "start_time": "2022-07-25T07:28:16.698Z"
   },
   {
    "duration": 33,
    "start_time": "2022-07-25T07:28:17.744Z"
   },
   {
    "duration": 49,
    "start_time": "2022-07-25T07:28:17.779Z"
   },
   {
    "duration": 214,
    "start_time": "2022-07-25T07:35:50.614Z"
   },
   {
    "duration": 2164,
    "start_time": "2022-07-25T07:36:12.965Z"
   },
   {
    "duration": 33,
    "start_time": "2022-07-25T07:36:28.228Z"
   },
   {
    "duration": 32,
    "start_time": "2022-07-25T07:36:34.237Z"
   },
   {
    "duration": 7,
    "start_time": "2022-07-25T07:36:54.100Z"
   },
   {
    "duration": 5,
    "start_time": "2022-07-25T07:36:54.517Z"
   },
   {
    "duration": 4,
    "start_time": "2022-07-25T07:36:56.622Z"
   },
   {
    "duration": 5,
    "start_time": "2022-07-25T07:36:56.936Z"
   },
   {
    "duration": 4,
    "start_time": "2022-07-25T07:36:57.192Z"
   },
   {
    "duration": 192,
    "start_time": "2022-07-25T07:36:58.554Z"
   },
   {
    "duration": 184,
    "start_time": "2022-07-25T07:37:04.996Z"
   },
   {
    "duration": 2020,
    "start_time": "2022-07-25T07:37:29.484Z"
   },
   {
    "duration": 426,
    "start_time": "2022-07-25T07:37:37.379Z"
   },
   {
    "duration": 706,
    "start_time": "2022-07-25T07:37:47.337Z"
   },
   {
    "duration": 95,
    "start_time": "2022-07-25T07:38:01.315Z"
   },
   {
    "duration": 661,
    "start_time": "2022-07-25T07:38:18.507Z"
   },
   {
    "duration": 27,
    "start_time": "2022-07-25T07:38:23.187Z"
   },
   {
    "duration": 27,
    "start_time": "2022-07-25T07:38:31.064Z"
   },
   {
    "duration": 1146,
    "start_time": "2022-07-25T07:38:41.613Z"
   },
   {
    "duration": 31,
    "start_time": "2022-07-25T07:38:42.761Z"
   },
   {
    "duration": 18,
    "start_time": "2022-07-25T07:38:42.793Z"
   },
   {
    "duration": 20,
    "start_time": "2022-07-25T07:38:42.813Z"
   },
   {
    "duration": 9,
    "start_time": "2022-07-25T07:38:42.835Z"
   },
   {
    "duration": 11,
    "start_time": "2022-07-25T07:38:42.845Z"
   },
   {
    "duration": 14,
    "start_time": "2022-07-25T07:38:42.857Z"
   },
   {
    "duration": 18,
    "start_time": "2022-07-25T07:38:42.873Z"
   },
   {
    "duration": 8,
    "start_time": "2022-07-25T07:38:42.893Z"
   },
   {
    "duration": 10,
    "start_time": "2022-07-25T07:38:42.904Z"
   },
   {
    "duration": 8,
    "start_time": "2022-07-25T07:38:42.916Z"
   },
   {
    "duration": 109,
    "start_time": "2022-07-25T07:38:42.926Z"
   },
   {
    "duration": 727,
    "start_time": "2022-07-25T07:38:43.037Z"
   },
   {
    "duration": 24,
    "start_time": "2022-07-25T07:38:43.766Z"
   },
   {
    "duration": 43,
    "start_time": "2022-07-25T07:38:43.792Z"
   },
   {
    "duration": 805,
    "start_time": "2022-07-25T07:39:11.066Z"
   },
   {
    "duration": 115,
    "start_time": "2022-07-25T07:39:21.147Z"
   },
   {
    "duration": 104,
    "start_time": "2022-07-25T07:39:28.875Z"
   },
   {
    "duration": 818,
    "start_time": "2022-07-25T07:39:38.240Z"
   },
   {
    "duration": 26,
    "start_time": "2022-07-25T07:39:51.434Z"
   },
   {
    "duration": 41,
    "start_time": "2022-07-25T07:39:54.534Z"
   },
   {
    "duration": 1135,
    "start_time": "2022-07-25T07:39:59.641Z"
   },
   {
    "duration": 44,
    "start_time": "2022-07-25T07:40:00.779Z"
   },
   {
    "duration": 22,
    "start_time": "2022-07-25T07:40:00.825Z"
   },
   {
    "duration": 22,
    "start_time": "2022-07-25T07:40:00.849Z"
   },
   {
    "duration": 21,
    "start_time": "2022-07-25T07:40:00.873Z"
   },
   {
    "duration": 21,
    "start_time": "2022-07-25T07:40:00.896Z"
   },
   {
    "duration": 34,
    "start_time": "2022-07-25T07:40:00.919Z"
   },
   {
    "duration": 26,
    "start_time": "2022-07-25T07:40:00.954Z"
   },
   {
    "duration": 15,
    "start_time": "2022-07-25T07:40:00.982Z"
   },
   {
    "duration": 20,
    "start_time": "2022-07-25T07:40:01.000Z"
   },
   {
    "duration": 29,
    "start_time": "2022-07-25T07:40:01.022Z"
   },
   {
    "duration": 152,
    "start_time": "2022-07-25T07:40:01.053Z"
   },
   {
    "duration": 868,
    "start_time": "2022-07-25T07:40:01.207Z"
   },
   {
    "duration": 25,
    "start_time": "2022-07-25T07:40:02.077Z"
   },
   {
    "duration": 56,
    "start_time": "2022-07-25T07:40:02.104Z"
   },
   {
    "duration": 117,
    "start_time": "2022-07-25T07:41:10.336Z"
   },
   {
    "duration": 5,
    "start_time": "2022-07-25T07:41:10.803Z"
   },
   {
    "duration": 1092,
    "start_time": "2022-07-25T07:41:39.183Z"
   },
   {
    "duration": 30,
    "start_time": "2022-07-25T07:41:40.278Z"
   },
   {
    "duration": 17,
    "start_time": "2022-07-25T07:41:40.310Z"
   },
   {
    "duration": 19,
    "start_time": "2022-07-25T07:41:40.329Z"
   },
   {
    "duration": 11,
    "start_time": "2022-07-25T07:41:40.350Z"
   },
   {
    "duration": 10,
    "start_time": "2022-07-25T07:41:40.363Z"
   },
   {
    "duration": 113,
    "start_time": "2022-07-25T07:41:40.375Z"
   },
   {
    "duration": 0,
    "start_time": "2022-07-25T07:41:40.490Z"
   },
   {
    "duration": 0,
    "start_time": "2022-07-25T07:41:40.491Z"
   },
   {
    "duration": 0,
    "start_time": "2022-07-25T07:41:40.493Z"
   },
   {
    "duration": 0,
    "start_time": "2022-07-25T07:41:40.494Z"
   },
   {
    "duration": 0,
    "start_time": "2022-07-25T07:41:40.495Z"
   },
   {
    "duration": 0,
    "start_time": "2022-07-25T07:41:40.497Z"
   },
   {
    "duration": 0,
    "start_time": "2022-07-25T07:41:40.498Z"
   },
   {
    "duration": 0,
    "start_time": "2022-07-25T07:41:40.499Z"
   },
   {
    "duration": 7,
    "start_time": "2022-07-25T07:41:58.903Z"
   },
   {
    "duration": 4,
    "start_time": "2022-07-25T07:41:59.873Z"
   },
   {
    "duration": 5,
    "start_time": "2022-07-25T07:42:04.477Z"
   },
   {
    "duration": 4,
    "start_time": "2022-07-25T07:42:04.882Z"
   },
   {
    "duration": 4,
    "start_time": "2022-07-25T07:42:05.109Z"
   },
   {
    "duration": 99,
    "start_time": "2022-07-25T07:42:05.678Z"
   },
   {
    "duration": 115,
    "start_time": "2022-07-25T07:42:09.849Z"
   },
   {
    "duration": 830,
    "start_time": "2022-07-25T07:42:14.699Z"
   },
   {
    "duration": 808,
    "start_time": "2022-07-25T07:42:19.377Z"
   },
   {
    "duration": 35,
    "start_time": "2022-07-25T07:42:20.892Z"
   },
   {
    "duration": 35,
    "start_time": "2022-07-25T07:42:33.271Z"
   },
   {
    "duration": 106,
    "start_time": "2022-07-25T07:42:59.823Z"
   },
   {
    "duration": 104,
    "start_time": "2022-07-25T07:43:13.356Z"
   },
   {
    "duration": 72,
    "start_time": "2022-07-25T07:46:07.170Z"
   },
   {
    "duration": 782,
    "start_time": "2022-07-25T07:46:16.264Z"
   },
   {
    "duration": 37,
    "start_time": "2022-07-25T07:46:24.745Z"
   },
   {
    "duration": 32,
    "start_time": "2022-07-25T07:46:26.435Z"
   },
   {
    "duration": 5705,
    "start_time": "2022-07-25T07:51:59.299Z"
   },
   {
    "duration": 590,
    "start_time": "2022-07-25T07:52:16.157Z"
   },
   {
    "duration": 10335,
    "start_time": "2022-07-25T07:53:46.131Z"
   },
   {
    "duration": 66,
    "start_time": "2022-07-25T07:54:03.388Z"
   },
   {
    "duration": 209,
    "start_time": "2022-07-25T07:54:07.959Z"
   },
   {
    "duration": 10345,
    "start_time": "2022-07-25T07:54:12.113Z"
   },
   {
    "duration": 32,
    "start_time": "2022-07-25T07:54:22.461Z"
   },
   {
    "duration": 52,
    "start_time": "2022-07-25T07:54:22.496Z"
   },
   {
    "duration": 1102,
    "start_time": "2022-07-25T07:54:35.851Z"
   },
   {
    "duration": 31,
    "start_time": "2022-07-25T07:54:36.956Z"
   },
   {
    "duration": 19,
    "start_time": "2022-07-25T07:54:36.989Z"
   },
   {
    "duration": 12,
    "start_time": "2022-07-25T07:54:37.010Z"
   },
   {
    "duration": 6,
    "start_time": "2022-07-25T07:54:37.024Z"
   },
   {
    "duration": 8,
    "start_time": "2022-07-25T07:54:37.032Z"
   },
   {
    "duration": 9,
    "start_time": "2022-07-25T07:54:37.042Z"
   },
   {
    "duration": 10,
    "start_time": "2022-07-25T07:54:37.053Z"
   },
   {
    "duration": 7,
    "start_time": "2022-07-25T07:54:37.065Z"
   },
   {
    "duration": 11,
    "start_time": "2022-07-25T07:54:37.075Z"
   },
   {
    "duration": 6,
    "start_time": "2022-07-25T07:54:37.088Z"
   },
   {
    "duration": 243,
    "start_time": "2022-07-25T07:54:37.096Z"
   },
   {
    "duration": 10283,
    "start_time": "2022-07-25T07:54:37.341Z"
   },
   {
    "duration": 32,
    "start_time": "2022-07-25T07:54:47.626Z"
   },
   {
    "duration": 32,
    "start_time": "2022-07-25T07:54:47.660Z"
   },
   {
    "duration": 1992,
    "start_time": "2022-07-25T07:55:17.692Z"
   },
   {
    "duration": 37,
    "start_time": "2022-07-25T07:55:23.591Z"
   },
   {
    "duration": 47,
    "start_time": "2022-07-25T07:55:24.594Z"
   },
   {
    "duration": 110,
    "start_time": "2022-07-25T07:58:38.224Z"
   },
   {
    "duration": 1878,
    "start_time": "2022-07-25T07:59:15.751Z"
   },
   {
    "duration": 1880,
    "start_time": "2022-07-25T07:59:21.019Z"
   },
   {
    "duration": 770,
    "start_time": "2022-07-25T08:00:13.376Z"
   },
   {
    "duration": 43,
    "start_time": "2022-07-25T08:00:45.764Z"
   },
   {
    "duration": 72,
    "start_time": "2022-07-25T08:00:51.689Z"
   },
   {
    "duration": 14,
    "start_time": "2022-07-25T08:01:39.165Z"
   },
   {
    "duration": 32,
    "start_time": "2022-07-25T08:01:53.313Z"
   },
   {
    "duration": 51,
    "start_time": "2022-07-25T08:03:49.662Z"
   },
   {
    "duration": 79,
    "start_time": "2022-07-25T08:04:29.242Z"
   },
   {
    "duration": 53,
    "start_time": "2022-07-25T08:04:33.191Z"
   },
   {
    "duration": 10,
    "start_time": "2022-07-25T08:04:38.387Z"
   },
   {
    "duration": 40,
    "start_time": "2022-07-25T08:04:47.964Z"
   },
   {
    "duration": 34,
    "start_time": "2022-07-25T08:05:09.703Z"
   },
   {
    "duration": 9,
    "start_time": "2022-07-25T08:06:03.715Z"
   },
   {
    "duration": 11,
    "start_time": "2022-07-25T08:06:14.734Z"
   },
   {
    "duration": 34,
    "start_time": "2022-07-25T08:09:24.908Z"
   },
   {
    "duration": 1232,
    "start_time": "2022-07-25T08:09:33.952Z"
   },
   {
    "duration": 31,
    "start_time": "2022-07-25T08:09:35.186Z"
   },
   {
    "duration": 21,
    "start_time": "2022-07-25T08:09:35.219Z"
   },
   {
    "duration": 14,
    "start_time": "2022-07-25T08:09:35.242Z"
   },
   {
    "duration": 12,
    "start_time": "2022-07-25T08:09:35.257Z"
   },
   {
    "duration": 8,
    "start_time": "2022-07-25T08:09:35.270Z"
   },
   {
    "duration": 8,
    "start_time": "2022-07-25T08:09:35.280Z"
   },
   {
    "duration": 34,
    "start_time": "2022-07-25T08:09:35.291Z"
   },
   {
    "duration": 9,
    "start_time": "2022-07-25T08:09:35.328Z"
   },
   {
    "duration": 14,
    "start_time": "2022-07-25T08:09:35.340Z"
   },
   {
    "duration": 11,
    "start_time": "2022-07-25T08:09:35.356Z"
   },
   {
    "duration": 239,
    "start_time": "2022-07-25T08:09:35.368Z"
   },
   {
    "duration": 832,
    "start_time": "2022-07-25T08:09:35.610Z"
   },
   {
    "duration": 32,
    "start_time": "2022-07-25T08:09:36.444Z"
   },
   {
    "duration": 47,
    "start_time": "2022-07-25T08:09:36.477Z"
   },
   {
    "duration": 33,
    "start_time": "2022-07-25T08:10:12.897Z"
   },
   {
    "duration": 971,
    "start_time": "2022-07-25T08:10:37.912Z"
   },
   {
    "duration": 793,
    "start_time": "2022-07-25T08:10:47.034Z"
   },
   {
    "duration": 24,
    "start_time": "2022-07-25T08:10:55.667Z"
   },
   {
    "duration": 27,
    "start_time": "2022-07-25T08:11:10.334Z"
   },
   {
    "duration": 35,
    "start_time": "2022-07-25T08:11:16.832Z"
   },
   {
    "duration": 29,
    "start_time": "2022-07-25T08:11:20.581Z"
   },
   {
    "duration": 891,
    "start_time": "2022-07-25T08:12:17.853Z"
   },
   {
    "duration": 37,
    "start_time": "2022-07-25T08:12:49.374Z"
   },
   {
    "duration": 27,
    "start_time": "2022-07-25T08:12:52.545Z"
   },
   {
    "duration": 214,
    "start_time": "2022-07-25T08:13:03.327Z"
   },
   {
    "duration": 825,
    "start_time": "2022-07-25T08:13:08.130Z"
   },
   {
    "duration": 38,
    "start_time": "2022-07-25T08:13:13.191Z"
   },
   {
    "duration": 30,
    "start_time": "2022-07-25T08:13:14.328Z"
   },
   {
    "duration": 821,
    "start_time": "2022-07-25T08:14:08.534Z"
   },
   {
    "duration": 41,
    "start_time": "2022-07-25T08:14:09.967Z"
   },
   {
    "duration": 29,
    "start_time": "2022-07-25T08:14:11.298Z"
   },
   {
    "duration": 859,
    "start_time": "2022-07-25T08:14:59.823Z"
   },
   {
    "duration": 33,
    "start_time": "2022-07-25T08:15:43.085Z"
   },
   {
    "duration": 27,
    "start_time": "2022-07-25T08:15:45.891Z"
   },
   {
    "duration": 216,
    "start_time": "2022-07-25T08:16:24.238Z"
   },
   {
    "duration": 27,
    "start_time": "2022-07-25T08:16:50.962Z"
   },
   {
    "duration": 51,
    "start_time": "2022-07-25T08:17:13.477Z"
   },
   {
    "duration": 783,
    "start_time": "2022-07-25T08:17:37.657Z"
   },
   {
    "duration": 923,
    "start_time": "2022-07-25T08:17:46.577Z"
   },
   {
    "duration": 811,
    "start_time": "2022-07-25T08:19:20.473Z"
   },
   {
    "duration": 31,
    "start_time": "2022-07-25T08:19:21.562Z"
   },
   {
    "duration": 45,
    "start_time": "2022-07-25T08:19:23.397Z"
   },
   {
    "duration": 25876,
    "start_time": "2022-07-25T08:24:28.848Z"
   },
   {
    "duration": 111,
    "start_time": "2022-07-25T08:26:03.578Z"
   },
   {
    "duration": 20,
    "start_time": "2022-07-25T08:26:12.228Z"
   },
   {
    "duration": 20,
    "start_time": "2022-07-25T08:26:27.675Z"
   },
   {
    "duration": 287,
    "start_time": "2022-07-25T08:26:42.542Z"
   },
   {
    "duration": 301,
    "start_time": "2022-07-25T08:26:51.781Z"
   },
   {
    "duration": 291,
    "start_time": "2022-07-25T08:27:14.631Z"
   },
   {
    "duration": 54,
    "start_time": "2022-07-25T08:31:28.988Z"
   },
   {
    "duration": 1117,
    "start_time": "2022-07-25T08:31:37.136Z"
   },
   {
    "duration": 31,
    "start_time": "2022-07-25T08:31:38.255Z"
   },
   {
    "duration": 20,
    "start_time": "2022-07-25T08:31:38.290Z"
   },
   {
    "duration": 13,
    "start_time": "2022-07-25T08:31:38.311Z"
   },
   {
    "duration": 8,
    "start_time": "2022-07-25T08:31:38.326Z"
   },
   {
    "duration": 8,
    "start_time": "2022-07-25T08:31:38.336Z"
   },
   {
    "duration": 11,
    "start_time": "2022-07-25T08:31:38.346Z"
   },
   {
    "duration": 10,
    "start_time": "2022-07-25T08:31:38.359Z"
   },
   {
    "duration": 7,
    "start_time": "2022-07-25T08:31:38.371Z"
   },
   {
    "duration": 6,
    "start_time": "2022-07-25T08:31:38.379Z"
   },
   {
    "duration": 7,
    "start_time": "2022-07-25T08:31:38.387Z"
   },
   {
    "duration": 232,
    "start_time": "2022-07-25T08:31:38.395Z"
   },
   {
    "duration": 120,
    "start_time": "2022-07-25T08:31:38.629Z"
   },
   {
    "duration": 0,
    "start_time": "2022-07-25T08:31:38.750Z"
   },
   {
    "duration": 0,
    "start_time": "2022-07-25T08:31:38.752Z"
   },
   {
    "duration": 2233,
    "start_time": "2022-07-25T08:32:09.179Z"
   },
   {
    "duration": 2183,
    "start_time": "2022-07-25T08:32:48.131Z"
   },
   {
    "duration": 32,
    "start_time": "2022-07-25T08:32:53.108Z"
   },
   {
    "duration": 89,
    "start_time": "2022-07-25T08:33:07.476Z"
   },
   {
    "duration": 28,
    "start_time": "2022-07-25T08:33:23.114Z"
   },
   {
    "duration": 1011,
    "start_time": "2022-07-25T08:33:30.775Z"
   },
   {
    "duration": 4675,
    "start_time": "2022-07-25T08:33:37.409Z"
   },
   {
    "duration": 1328,
    "start_time": "2022-07-25T08:34:00.777Z"
   },
   {
    "duration": 32,
    "start_time": "2022-07-25T08:34:07.330Z"
   },
   {
    "duration": 27,
    "start_time": "2022-07-25T08:34:09.407Z"
   },
   {
    "duration": 1295,
    "start_time": "2022-07-25T08:42:37.937Z"
   },
   {
    "duration": 1200,
    "start_time": "2022-07-25T08:42:54.889Z"
   },
   {
    "duration": 1213,
    "start_time": "2022-07-25T08:43:09.375Z"
   },
   {
    "duration": 1255,
    "start_time": "2022-07-25T08:43:16.746Z"
   },
   {
    "duration": 2693,
    "start_time": "2022-07-25T08:43:22.429Z"
   },
   {
    "duration": 33,
    "start_time": "2022-07-25T08:44:21.060Z"
   },
   {
    "duration": 2289,
    "start_time": "2022-07-25T08:45:30.568Z"
   },
   {
    "duration": 36,
    "start_time": "2022-07-25T08:46:33.394Z"
   },
   {
    "duration": 222,
    "start_time": "2022-07-25T08:46:51.063Z"
   },
   {
    "duration": 1390,
    "start_time": "2022-07-25T08:47:04.425Z"
   },
   {
    "duration": 32,
    "start_time": "2022-07-25T08:47:05.818Z"
   },
   {
    "duration": 23,
    "start_time": "2022-07-25T08:47:05.852Z"
   },
   {
    "duration": 14,
    "start_time": "2022-07-25T08:47:05.877Z"
   },
   {
    "duration": 12,
    "start_time": "2022-07-25T08:47:05.893Z"
   },
   {
    "duration": 15,
    "start_time": "2022-07-25T08:47:05.907Z"
   },
   {
    "duration": 5,
    "start_time": "2022-07-25T08:47:05.924Z"
   },
   {
    "duration": 9,
    "start_time": "2022-07-25T08:47:05.931Z"
   },
   {
    "duration": 10,
    "start_time": "2022-07-25T08:47:05.942Z"
   },
   {
    "duration": 27,
    "start_time": "2022-07-25T08:47:05.954Z"
   },
   {
    "duration": 16,
    "start_time": "2022-07-25T08:47:05.983Z"
   },
   {
    "duration": 249,
    "start_time": "2022-07-25T08:47:06.001Z"
   },
   {
    "duration": 2176,
    "start_time": "2022-07-25T08:47:06.252Z"
   },
   {
    "duration": 33,
    "start_time": "2022-07-25T08:47:08.430Z"
   },
   {
    "duration": 228,
    "start_time": "2022-07-25T08:47:08.465Z"
   },
   {
    "duration": 197,
    "start_time": "2022-07-25T08:47:35.033Z"
   },
   {
    "duration": 2594,
    "start_time": "2022-07-25T08:47:45.318Z"
   },
   {
    "duration": 2656,
    "start_time": "2022-07-25T08:48:07.912Z"
   },
   {
    "duration": 2149,
    "start_time": "2022-07-25T08:48:17.949Z"
   },
   {
    "duration": 174,
    "start_time": "2022-07-25T08:48:30.856Z"
   },
   {
    "duration": 1203,
    "start_time": "2022-07-25T08:48:41.703Z"
   },
   {
    "duration": 33,
    "start_time": "2022-07-25T08:48:42.908Z"
   },
   {
    "duration": 22,
    "start_time": "2022-07-25T08:48:42.942Z"
   },
   {
    "duration": 34,
    "start_time": "2022-07-25T08:48:42.968Z"
   },
   {
    "duration": 14,
    "start_time": "2022-07-25T08:48:43.003Z"
   },
   {
    "duration": 21,
    "start_time": "2022-07-25T08:48:43.019Z"
   },
   {
    "duration": 12,
    "start_time": "2022-07-25T08:48:43.042Z"
   },
   {
    "duration": 8,
    "start_time": "2022-07-25T08:48:43.055Z"
   },
   {
    "duration": 12,
    "start_time": "2022-07-25T08:48:43.065Z"
   },
   {
    "duration": 12,
    "start_time": "2022-07-25T08:48:43.079Z"
   },
   {
    "duration": 15,
    "start_time": "2022-07-25T08:48:43.093Z"
   },
   {
    "duration": 245,
    "start_time": "2022-07-25T08:48:43.110Z"
   },
   {
    "duration": 2226,
    "start_time": "2022-07-25T08:48:43.357Z"
   },
   {
    "duration": 42,
    "start_time": "2022-07-25T08:48:45.585Z"
   },
   {
    "duration": 171,
    "start_time": "2022-07-25T08:48:45.628Z"
   },
   {
    "duration": 210,
    "start_time": "2022-07-25T08:50:12.075Z"
   },
   {
    "duration": 2135,
    "start_time": "2022-07-25T08:50:38.734Z"
   },
   {
    "duration": 33,
    "start_time": "2022-07-25T08:51:05.222Z"
   },
   {
    "duration": 162,
    "start_time": "2022-07-25T08:51:20.035Z"
   },
   {
    "duration": 1417,
    "start_time": "2022-07-25T13:24:05.108Z"
   },
   {
    "duration": 28,
    "start_time": "2022-07-25T13:24:06.530Z"
   },
   {
    "duration": 18,
    "start_time": "2022-07-25T13:24:06.560Z"
   },
   {
    "duration": 11,
    "start_time": "2022-07-25T13:24:06.580Z"
   },
   {
    "duration": 12,
    "start_time": "2022-07-25T13:24:06.593Z"
   },
   {
    "duration": 8,
    "start_time": "2022-07-25T13:24:06.607Z"
   },
   {
    "duration": 7,
    "start_time": "2022-07-25T13:24:06.617Z"
   },
   {
    "duration": 7,
    "start_time": "2022-07-25T13:24:06.625Z"
   },
   {
    "duration": 29,
    "start_time": "2022-07-25T13:24:06.634Z"
   },
   {
    "duration": 6,
    "start_time": "2022-07-25T13:24:06.665Z"
   },
   {
    "duration": 9,
    "start_time": "2022-07-25T13:24:06.672Z"
   },
   {
    "duration": 208,
    "start_time": "2022-07-25T13:24:06.683Z"
   },
   {
    "duration": 2050,
    "start_time": "2022-07-25T13:24:06.893Z"
   },
   {
    "duration": 38,
    "start_time": "2022-07-25T13:24:08.945Z"
   },
   {
    "duration": 159,
    "start_time": "2022-07-25T13:24:08.985Z"
   },
   {
    "duration": 46,
    "start_time": "2022-07-25T14:34:09.349Z"
   },
   {
    "duration": 1007,
    "start_time": "2022-07-25T14:34:15.412Z"
   },
   {
    "duration": 106,
    "start_time": "2022-07-25T14:34:16.421Z"
   },
   {
    "duration": 17,
    "start_time": "2022-07-25T14:34:16.529Z"
   },
   {
    "duration": 10,
    "start_time": "2022-07-25T14:34:16.548Z"
   },
   {
    "duration": 6,
    "start_time": "2022-07-25T14:34:16.559Z"
   },
   {
    "duration": 8,
    "start_time": "2022-07-25T14:34:16.566Z"
   },
   {
    "duration": 6,
    "start_time": "2022-07-25T14:34:16.575Z"
   },
   {
    "duration": 6,
    "start_time": "2022-07-25T14:34:16.582Z"
   },
   {
    "duration": 5,
    "start_time": "2022-07-25T14:34:16.590Z"
   },
   {
    "duration": 8,
    "start_time": "2022-07-25T14:34:16.597Z"
   },
   {
    "duration": 8,
    "start_time": "2022-07-25T14:34:16.606Z"
   },
   {
    "duration": 214,
    "start_time": "2022-07-25T14:34:16.615Z"
   },
   {
    "duration": 2385,
    "start_time": "2022-07-25T14:34:16.831Z"
   },
   {
    "duration": 36,
    "start_time": "2022-07-25T14:34:19.218Z"
   },
   {
    "duration": 168,
    "start_time": "2022-07-25T14:34:19.255Z"
   },
   {
    "duration": 21097,
    "start_time": "2022-07-25T14:37:08.096Z"
   },
   {
    "duration": 112,
    "start_time": "2022-07-25T14:44:22.101Z"
   },
   {
    "duration": 23,
    "start_time": "2022-07-25T14:45:32.155Z"
   },
   {
    "duration": 159,
    "start_time": "2022-07-25T14:45:54.187Z"
   },
   {
    "duration": 52,
    "start_time": "2022-07-25T14:46:09.280Z"
   },
   {
    "duration": 106,
    "start_time": "2022-07-25T14:46:25.723Z"
   },
   {
    "duration": 10,
    "start_time": "2022-07-25T14:49:15.168Z"
   },
   {
    "duration": 122,
    "start_time": "2022-07-25T14:49:23.027Z"
   },
   {
    "duration": 118,
    "start_time": "2022-07-25T14:49:33.934Z"
   },
   {
    "duration": 20,
    "start_time": "2022-07-25T14:49:51.351Z"
   },
   {
    "duration": 19,
    "start_time": "2022-07-25T14:49:54.640Z"
   },
   {
    "duration": 26,
    "start_time": "2022-07-25T14:50:03.902Z"
   },
   {
    "duration": 20060,
    "start_time": "2022-07-25T14:52:11.816Z"
   },
   {
    "duration": 20298,
    "start_time": "2022-07-25T14:53:28.257Z"
   },
   {
    "duration": 19983,
    "start_time": "2022-07-25T14:55:28.846Z"
   },
   {
    "duration": 4,
    "start_time": "2022-07-25T14:57:02.550Z"
   },
   {
    "duration": 19589,
    "start_time": "2022-07-25T14:57:38.224Z"
   },
   {
    "duration": 21046,
    "start_time": "2022-07-25T14:58:14.749Z"
   },
   {
    "duration": 132,
    "start_time": "2022-07-25T14:59:29.357Z"
   },
   {
    "duration": 208,
    "start_time": "2022-07-25T15:00:29.696Z"
   },
   {
    "duration": 20297,
    "start_time": "2022-07-25T15:02:14.254Z"
   },
   {
    "duration": 19989,
    "start_time": "2022-07-25T15:03:00.852Z"
   },
   {
    "duration": 1106,
    "start_time": "2022-07-25T15:05:11.647Z"
   },
   {
    "duration": 29,
    "start_time": "2022-07-25T15:05:12.755Z"
   },
   {
    "duration": 18,
    "start_time": "2022-07-25T15:05:12.785Z"
   },
   {
    "duration": 13,
    "start_time": "2022-07-25T15:05:12.805Z"
   },
   {
    "duration": 13,
    "start_time": "2022-07-25T15:05:12.820Z"
   },
   {
    "duration": 15,
    "start_time": "2022-07-25T15:05:12.835Z"
   },
   {
    "duration": 8,
    "start_time": "2022-07-25T15:05:12.851Z"
   },
   {
    "duration": 7,
    "start_time": "2022-07-25T15:05:12.861Z"
   },
   {
    "duration": 38,
    "start_time": "2022-07-25T15:05:12.870Z"
   },
   {
    "duration": 19,
    "start_time": "2022-07-25T15:05:12.911Z"
   },
   {
    "duration": 10,
    "start_time": "2022-07-25T15:05:12.932Z"
   },
   {
    "duration": 190,
    "start_time": "2022-07-25T15:05:12.943Z"
   },
   {
    "duration": 101,
    "start_time": "2022-07-25T15:05:13.135Z"
   },
   {
    "duration": 0,
    "start_time": "2022-07-25T15:05:13.237Z"
   },
   {
    "duration": 0,
    "start_time": "2022-07-25T15:05:13.245Z"
   },
   {
    "duration": 10,
    "start_time": "2022-07-25T15:05:56.671Z"
   },
   {
    "duration": 1208,
    "start_time": "2022-07-25T15:08:48.423Z"
   },
   {
    "duration": 27,
    "start_time": "2022-07-25T15:08:49.633Z"
   },
   {
    "duration": 16,
    "start_time": "2022-07-25T15:08:49.661Z"
   },
   {
    "duration": 12,
    "start_time": "2022-07-25T15:08:49.679Z"
   },
   {
    "duration": 11,
    "start_time": "2022-07-25T15:08:49.693Z"
   },
   {
    "duration": 6,
    "start_time": "2022-07-25T15:08:49.705Z"
   },
   {
    "duration": 5,
    "start_time": "2022-07-25T15:08:49.713Z"
   },
   {
    "duration": 5,
    "start_time": "2022-07-25T15:08:49.719Z"
   },
   {
    "duration": 8,
    "start_time": "2022-07-25T15:08:49.726Z"
   },
   {
    "duration": 24,
    "start_time": "2022-07-25T15:08:49.736Z"
   },
   {
    "duration": 23,
    "start_time": "2022-07-25T15:08:49.761Z"
   },
   {
    "duration": 200,
    "start_time": "2022-07-25T15:08:49.786Z"
   },
   {
    "duration": 19447,
    "start_time": "2022-07-25T15:08:49.988Z"
   },
   {
    "duration": 30,
    "start_time": "2022-07-25T15:09:09.436Z"
   },
   {
    "duration": 156,
    "start_time": "2022-07-25T15:09:09.468Z"
   },
   {
    "duration": 20143,
    "start_time": "2022-07-25T15:09:49.651Z"
   },
   {
    "duration": 542,
    "start_time": "2022-07-25T15:11:22.003Z"
   },
   {
    "duration": 519,
    "start_time": "2022-07-25T15:12:05.352Z"
   },
   {
    "duration": 490,
    "start_time": "2022-07-25T15:12:18.072Z"
   },
   {
    "duration": 521,
    "start_time": "2022-07-25T15:12:24.539Z"
   },
   {
    "duration": 498,
    "start_time": "2022-07-25T15:12:42.716Z"
   },
   {
    "duration": 501,
    "start_time": "2022-07-25T15:12:59.969Z"
   },
   {
    "duration": 508,
    "start_time": "2022-07-25T15:13:04.108Z"
   },
   {
    "duration": 19,
    "start_time": "2022-07-25T15:13:28.261Z"
   },
   {
    "duration": 1442,
    "start_time": "2022-07-25T15:13:46.198Z"
   },
   {
    "duration": 28,
    "start_time": "2022-07-25T15:13:47.641Z"
   },
   {
    "duration": 17,
    "start_time": "2022-07-25T15:13:47.671Z"
   },
   {
    "duration": 18,
    "start_time": "2022-07-25T15:13:47.690Z"
   },
   {
    "duration": 12,
    "start_time": "2022-07-25T15:13:47.709Z"
   },
   {
    "duration": 9,
    "start_time": "2022-07-25T15:13:47.722Z"
   },
   {
    "duration": 8,
    "start_time": "2022-07-25T15:13:47.733Z"
   },
   {
    "duration": 5,
    "start_time": "2022-07-25T15:13:47.743Z"
   },
   {
    "duration": 5,
    "start_time": "2022-07-25T15:13:47.750Z"
   },
   {
    "duration": 26,
    "start_time": "2022-07-25T15:13:47.758Z"
   },
   {
    "duration": 10,
    "start_time": "2022-07-25T15:13:47.786Z"
   },
   {
    "duration": 184,
    "start_time": "2022-07-25T15:13:47.798Z"
   },
   {
    "duration": 102,
    "start_time": "2022-07-25T15:13:47.983Z"
   },
   {
    "duration": 0,
    "start_time": "2022-07-25T15:13:48.087Z"
   },
   {
    "duration": 0,
    "start_time": "2022-07-25T15:13:48.089Z"
   },
   {
    "duration": 10,
    "start_time": "2022-07-25T15:14:21.180Z"
   },
   {
    "duration": 12,
    "start_time": "2022-07-25T15:14:34.044Z"
   },
   {
    "duration": 4,
    "start_time": "2022-07-25T15:14:39.155Z"
   },
   {
    "duration": 28,
    "start_time": "2022-07-25T15:14:40.073Z"
   },
   {
    "duration": 10,
    "start_time": "2022-07-25T15:14:40.276Z"
   },
   {
    "duration": 9,
    "start_time": "2022-07-25T15:14:40.501Z"
   },
   {
    "duration": 6,
    "start_time": "2022-07-25T15:14:40.733Z"
   },
   {
    "duration": 6,
    "start_time": "2022-07-25T15:14:41.703Z"
   },
   {
    "duration": 7,
    "start_time": "2022-07-25T15:14:43.159Z"
   },
   {
    "duration": 4,
    "start_time": "2022-07-25T15:14:43.488Z"
   },
   {
    "duration": 4,
    "start_time": "2022-07-25T15:14:45.257Z"
   },
   {
    "duration": 4,
    "start_time": "2022-07-25T15:14:45.755Z"
   },
   {
    "duration": 4,
    "start_time": "2022-07-25T15:14:46.075Z"
   },
   {
    "duration": 180,
    "start_time": "2022-07-25T15:14:47.088Z"
   },
   {
    "duration": 10,
    "start_time": "2022-07-25T15:14:50.921Z"
   },
   {
    "duration": 12,
    "start_time": "2022-07-25T15:15:37.243Z"
   },
   {
    "duration": 519,
    "start_time": "2022-07-25T15:15:45.278Z"
   },
   {
    "duration": 503,
    "start_time": "2022-07-25T15:15:57.881Z"
   },
   {
    "duration": 486,
    "start_time": "2022-07-25T15:16:44.223Z"
   },
   {
    "duration": 525,
    "start_time": "2022-07-25T15:17:12.084Z"
   },
   {
    "duration": 3,
    "start_time": "2022-07-25T15:17:17.493Z"
   },
   {
    "duration": 30,
    "start_time": "2022-07-25T15:17:18.590Z"
   },
   {
    "duration": 9,
    "start_time": "2022-07-25T15:17:18.864Z"
   },
   {
    "duration": 13,
    "start_time": "2022-07-25T15:17:19.087Z"
   },
   {
    "duration": 7,
    "start_time": "2022-07-25T15:17:19.360Z"
   },
   {
    "duration": 7,
    "start_time": "2022-07-25T15:17:20.239Z"
   },
   {
    "duration": 6,
    "start_time": "2022-07-25T15:17:21.602Z"
   },
   {
    "duration": 4,
    "start_time": "2022-07-25T15:17:21.816Z"
   },
   {
    "duration": 4,
    "start_time": "2022-07-25T15:17:22.972Z"
   },
   {
    "duration": 4,
    "start_time": "2022-07-25T15:17:23.189Z"
   },
   {
    "duration": 4,
    "start_time": "2022-07-25T15:17:23.405Z"
   },
   {
    "duration": 202,
    "start_time": "2022-07-25T15:17:23.902Z"
   },
   {
    "duration": 496,
    "start_time": "2022-07-25T15:17:25.695Z"
   },
   {
    "duration": 43,
    "start_time": "2022-07-25T15:17:28.947Z"
   },
   {
    "duration": 28,
    "start_time": "2022-07-25T15:17:33.073Z"
   },
   {
    "duration": 58530,
    "start_time": "2022-07-25T15:18:00.218Z"
   },
   {
    "duration": 95,
    "start_time": "2022-07-25T15:19:51.511Z"
   },
   {
    "duration": 1175,
    "start_time": "2022-07-25T15:20:06.513Z"
   },
   {
    "duration": 30,
    "start_time": "2022-07-25T15:20:07.690Z"
   },
   {
    "duration": 20,
    "start_time": "2022-07-25T15:20:07.722Z"
   },
   {
    "duration": 13,
    "start_time": "2022-07-25T15:20:07.745Z"
   },
   {
    "duration": 9,
    "start_time": "2022-07-25T15:20:07.760Z"
   },
   {
    "duration": 8,
    "start_time": "2022-07-25T15:20:07.770Z"
   },
   {
    "duration": 8,
    "start_time": "2022-07-25T15:20:07.780Z"
   },
   {
    "duration": 8,
    "start_time": "2022-07-25T15:20:07.789Z"
   },
   {
    "duration": 14,
    "start_time": "2022-07-25T15:20:07.800Z"
   },
   {
    "duration": 31,
    "start_time": "2022-07-25T15:20:07.817Z"
   },
   {
    "duration": 15,
    "start_time": "2022-07-25T15:20:07.850Z"
   },
   {
    "duration": 230,
    "start_time": "2022-07-25T15:20:07.867Z"
   },
   {
    "duration": 115,
    "start_time": "2022-07-25T15:20:08.100Z"
   },
   {
    "duration": 0,
    "start_time": "2022-07-25T15:20:08.217Z"
   },
   {
    "duration": 0,
    "start_time": "2022-07-25T15:20:08.218Z"
   },
   {
    "duration": 56201,
    "start_time": "2022-07-25T15:23:28.149Z"
   },
   {
    "duration": 154,
    "start_time": "2022-07-25T15:24:57.876Z"
   },
   {
    "duration": 1102,
    "start_time": "2022-07-25T15:25:06.549Z"
   },
   {
    "duration": 29,
    "start_time": "2022-07-25T15:25:07.653Z"
   },
   {
    "duration": 18,
    "start_time": "2022-07-25T15:25:07.683Z"
   },
   {
    "duration": 11,
    "start_time": "2022-07-25T15:25:07.702Z"
   },
   {
    "duration": 10,
    "start_time": "2022-07-25T15:25:07.715Z"
   },
   {
    "duration": 11,
    "start_time": "2022-07-25T15:25:07.726Z"
   },
   {
    "duration": 8,
    "start_time": "2022-07-25T15:25:07.739Z"
   },
   {
    "duration": 7,
    "start_time": "2022-07-25T15:25:07.748Z"
   },
   {
    "duration": 11,
    "start_time": "2022-07-25T15:25:07.756Z"
   },
   {
    "duration": 8,
    "start_time": "2022-07-25T15:25:07.770Z"
   },
   {
    "duration": 14,
    "start_time": "2022-07-25T15:25:07.779Z"
   },
   {
    "duration": 193,
    "start_time": "2022-07-25T15:25:07.795Z"
   },
   {
    "duration": 57614,
    "start_time": "2022-07-25T15:25:07.990Z"
   },
   {
    "duration": 51,
    "start_time": "2022-07-25T15:26:05.606Z"
   },
   {
    "duration": 169,
    "start_time": "2022-07-25T15:26:05.659Z"
   },
   {
    "duration": 169,
    "start_time": "2022-07-25T15:27:34.833Z"
   },
   {
    "duration": 171,
    "start_time": "2022-07-25T15:29:40.316Z"
   },
   {
    "duration": 174,
    "start_time": "2022-07-25T15:30:02.473Z"
   },
   {
    "duration": 172,
    "start_time": "2022-07-25T15:31:34.423Z"
   },
   {
    "duration": 181,
    "start_time": "2022-07-25T15:33:17.557Z"
   },
   {
    "duration": 173,
    "start_time": "2022-07-25T15:33:50.995Z"
   },
   {
    "duration": 181,
    "start_time": "2022-07-25T15:34:14.057Z"
   },
   {
    "duration": 174,
    "start_time": "2022-07-25T15:34:21.573Z"
   },
   {
    "duration": 169,
    "start_time": "2022-07-25T15:34:36.361Z"
   },
   {
    "duration": 1067,
    "start_time": "2022-07-25T15:35:10.918Z"
   },
   {
    "duration": 30,
    "start_time": "2022-07-25T15:35:11.986Z"
   },
   {
    "duration": 18,
    "start_time": "2022-07-25T15:35:12.017Z"
   },
   {
    "duration": 11,
    "start_time": "2022-07-25T15:35:12.038Z"
   },
   {
    "duration": 7,
    "start_time": "2022-07-25T15:35:12.051Z"
   },
   {
    "duration": 9,
    "start_time": "2022-07-25T15:35:12.060Z"
   },
   {
    "duration": 14,
    "start_time": "2022-07-25T15:35:12.071Z"
   },
   {
    "duration": 14,
    "start_time": "2022-07-25T15:35:12.087Z"
   },
   {
    "duration": 16,
    "start_time": "2022-07-25T15:35:12.102Z"
   },
   {
    "duration": 9,
    "start_time": "2022-07-25T15:35:12.120Z"
   },
   {
    "duration": 12,
    "start_time": "2022-07-25T15:35:12.131Z"
   },
   {
    "duration": 98,
    "start_time": "2022-07-25T15:35:12.145Z"
   },
   {
    "duration": 0,
    "start_time": "2022-07-25T15:35:12.245Z"
   },
   {
    "duration": 0,
    "start_time": "2022-07-25T15:35:12.246Z"
   },
   {
    "duration": 0,
    "start_time": "2022-07-25T15:35:12.247Z"
   },
   {
    "duration": 180,
    "start_time": "2022-07-25T15:36:37.090Z"
   },
   {
    "duration": 160,
    "start_time": "2022-07-25T15:36:46.204Z"
   },
   {
    "duration": 1104,
    "start_time": "2022-07-25T15:36:50.637Z"
   },
   {
    "duration": 28,
    "start_time": "2022-07-25T15:36:51.744Z"
   },
   {
    "duration": 18,
    "start_time": "2022-07-25T15:36:51.774Z"
   },
   {
    "duration": 11,
    "start_time": "2022-07-25T15:36:51.794Z"
   },
   {
    "duration": 9,
    "start_time": "2022-07-25T15:36:51.806Z"
   },
   {
    "duration": 8,
    "start_time": "2022-07-25T15:36:51.816Z"
   },
   {
    "duration": 8,
    "start_time": "2022-07-25T15:36:51.826Z"
   },
   {
    "duration": 11,
    "start_time": "2022-07-25T15:36:51.836Z"
   },
   {
    "duration": 7,
    "start_time": "2022-07-25T15:36:51.849Z"
   },
   {
    "duration": 6,
    "start_time": "2022-07-25T15:36:51.858Z"
   },
   {
    "duration": 7,
    "start_time": "2022-07-25T15:36:51.866Z"
   },
   {
    "duration": 175,
    "start_time": "2022-07-25T15:36:51.874Z"
   },
   {
    "duration": 55483,
    "start_time": "2022-07-25T15:36:52.051Z"
   },
   {
    "duration": 34,
    "start_time": "2022-07-25T15:37:47.535Z"
   },
   {
    "duration": 162,
    "start_time": "2022-07-25T15:37:47.571Z"
   }
  ],
  "kernelspec": {
   "display_name": "Python 3 (ipykernel)",
   "language": "python",
   "name": "python3"
  },
  "language_info": {
   "codemirror_mode": {
    "name": "ipython",
    "version": 3
   },
   "file_extension": ".py",
   "mimetype": "text/x-python",
   "name": "python",
   "nbconvert_exporter": "python",
   "pygments_lexer": "ipython3",
   "version": "3.9.5"
  },
  "toc": {
   "base_numbering": 1,
   "nav_menu": {},
   "number_sections": true,
   "sideBar": true,
   "skip_h1_title": true,
   "title_cell": "Table of Contents",
   "title_sidebar": "Contents",
   "toc_cell": false,
   "toc_position": {},
   "toc_section_display": true,
   "toc_window_display": false
  }
 },
 "nbformat": 4,
 "nbformat_minor": 2
}
