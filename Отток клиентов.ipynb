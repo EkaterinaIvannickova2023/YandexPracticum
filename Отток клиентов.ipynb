{
 "cells": [
  {
   "cell_type": "markdown",
   "metadata": {
    "toc": true
   },
   "source": [
    "<h1>Содержание<span class=\"tocSkip\"></span></h1>\n",
    "<div class=\"toc\"><ul class=\"toc-item\"><li><span><a href=\"#Подготовка-данных\" data-toc-modified-id=\"Подготовка-данных-1\"><span class=\"toc-item-num\">1&nbsp;&nbsp;</span>Подготовка данных</a></span></li><li><span><a href=\"#Исследование-задачи\" data-toc-modified-id=\"Исследование-задачи-2\"><span class=\"toc-item-num\">2&nbsp;&nbsp;</span>Исследование задачи</a></span></li><li><span><a href=\"#Борьба-с-дисбалансом\" data-toc-modified-id=\"Борьба-с-дисбалансом-3\"><span class=\"toc-item-num\">3&nbsp;&nbsp;</span>Борьба с дисбалансом</a></span></li><li><span><a href=\"#Тестирование-модели\" data-toc-modified-id=\"Тестирование-модели-4\"><span class=\"toc-item-num\">4&nbsp;&nbsp;</span>Тестирование модели</a></span></li><li><span><a href=\"#Вывод\" data-toc-modified-id=\"Вывод-5\"><span class=\"toc-item-num\">5&nbsp;&nbsp;</span>Вывод</a></span></li></ul></div>"
   ]
  },
  {
   "cell_type": "markdown",
   "metadata": {},
   "source": [
    "# Отток клиентов"
   ]
  },
  {
   "cell_type": "markdown",
   "metadata": {},
   "source": [
    "Из «Бета-Банка» стали уходить клиенты. Каждый месяц. Немного, но заметно. Банковские маркетологи посчитали: сохранять текущих клиентов дешевле, чем привлекать новых.\n",
    "\n",
    "Нужно спрогнозировать, уйдёт клиент из банка в ближайшее время или нет. Вам предоставлены исторические данные о поведении клиентов и расторжении договоров с банком. \n",
    "\n",
    "Постройте модель с предельно большим значением *F1*-меры. Чтобы сдать проект успешно, нужно довести метрику до 0.59. Проверьте *F1*-меру на тестовой выборке самостоятельно.\n",
    "\n",
    "Дополнительно измеряйте *AUC-ROC*, сравнивайте её значение с *F1*-мерой.\n",
    "\n",
    "Источник данных: [https://www.kaggle.com/barelydedicated/bank-customer-churn-modeling](https://www.kaggle.com/barelydedicated/bank-customer-churn-modeling)"
   ]
  },
  {
   "cell_type": "markdown",
   "metadata": {},
   "source": [
    "## Подготовка данных"
   ]
  },
  {
   "cell_type": "code",
   "execution_count": 1,
   "metadata": {},
   "outputs": [],
   "source": [
    "import pandas as pd\n",
    "import matplotlib.pyplot as plt\n",
    "import seaborn as sns\n",
    "import numpy as np\n",
    "import warnings\n",
    "from sklearn.tree import DecisionTreeClassifier\n",
    "from sklearn.ensemble import RandomForestClassifier\n",
    "from sklearn.linear_model import LogisticRegression\n",
    "from sklearn.model_selection import train_test_split\n",
    "from sklearn.preprocessing import OrdinalEncoder\n",
    "from sklearn.preprocessing import StandardScaler\n",
    "from sklearn.utils import shuffle\n",
    "from sklearn.metrics import roc_curve, roc_auc_score, accuracy_score, f1_score\n",
    "\n",
    "# отключить некритические предупреждения в коде\n",
    "warnings.filterwarnings(\"ignore\")"
   ]
  },
  {
   "cell_type": "code",
   "execution_count": 2,
   "metadata": {},
   "outputs": [],
   "source": [
    "df = pd.read_csv('/datasets/Churn.csv', index_col=0)"
   ]
  },
  {
   "cell_type": "code",
   "execution_count": 3,
   "metadata": {},
   "outputs": [
    {
     "data": {
      "text/html": [
       "<div>\n",
       "<style scoped>\n",
       "    .dataframe tbody tr th:only-of-type {\n",
       "        vertical-align: middle;\n",
       "    }\n",
       "\n",
       "    .dataframe tbody tr th {\n",
       "        vertical-align: top;\n",
       "    }\n",
       "\n",
       "    .dataframe thead th {\n",
       "        text-align: right;\n",
       "    }\n",
       "</style>\n",
       "<table border=\"1\" class=\"dataframe\">\n",
       "  <thead>\n",
       "    <tr style=\"text-align: right;\">\n",
       "      <th></th>\n",
       "      <th>CustomerId</th>\n",
       "      <th>Surname</th>\n",
       "      <th>CreditScore</th>\n",
       "      <th>Geography</th>\n",
       "      <th>Gender</th>\n",
       "      <th>Age</th>\n",
       "      <th>Tenure</th>\n",
       "      <th>Balance</th>\n",
       "      <th>NumOfProducts</th>\n",
       "      <th>HasCrCard</th>\n",
       "      <th>IsActiveMember</th>\n",
       "      <th>EstimatedSalary</th>\n",
       "      <th>Exited</th>\n",
       "    </tr>\n",
       "    <tr>\n",
       "      <th>RowNumber</th>\n",
       "      <th></th>\n",
       "      <th></th>\n",
       "      <th></th>\n",
       "      <th></th>\n",
       "      <th></th>\n",
       "      <th></th>\n",
       "      <th></th>\n",
       "      <th></th>\n",
       "      <th></th>\n",
       "      <th></th>\n",
       "      <th></th>\n",
       "      <th></th>\n",
       "      <th></th>\n",
       "    </tr>\n",
       "  </thead>\n",
       "  <tbody>\n",
       "    <tr>\n",
       "      <th>1</th>\n",
       "      <td>15634602</td>\n",
       "      <td>Hargrave</td>\n",
       "      <td>619</td>\n",
       "      <td>France</td>\n",
       "      <td>Female</td>\n",
       "      <td>42</td>\n",
       "      <td>2.0</td>\n",
       "      <td>0.00</td>\n",
       "      <td>1</td>\n",
       "      <td>1</td>\n",
       "      <td>1</td>\n",
       "      <td>101348.88</td>\n",
       "      <td>1</td>\n",
       "    </tr>\n",
       "    <tr>\n",
       "      <th>2</th>\n",
       "      <td>15647311</td>\n",
       "      <td>Hill</td>\n",
       "      <td>608</td>\n",
       "      <td>Spain</td>\n",
       "      <td>Female</td>\n",
       "      <td>41</td>\n",
       "      <td>1.0</td>\n",
       "      <td>83807.86</td>\n",
       "      <td>1</td>\n",
       "      <td>0</td>\n",
       "      <td>1</td>\n",
       "      <td>112542.58</td>\n",
       "      <td>0</td>\n",
       "    </tr>\n",
       "    <tr>\n",
       "      <th>3</th>\n",
       "      <td>15619304</td>\n",
       "      <td>Onio</td>\n",
       "      <td>502</td>\n",
       "      <td>France</td>\n",
       "      <td>Female</td>\n",
       "      <td>42</td>\n",
       "      <td>8.0</td>\n",
       "      <td>159660.80</td>\n",
       "      <td>3</td>\n",
       "      <td>1</td>\n",
       "      <td>0</td>\n",
       "      <td>113931.57</td>\n",
       "      <td>1</td>\n",
       "    </tr>\n",
       "    <tr>\n",
       "      <th>4</th>\n",
       "      <td>15701354</td>\n",
       "      <td>Boni</td>\n",
       "      <td>699</td>\n",
       "      <td>France</td>\n",
       "      <td>Female</td>\n",
       "      <td>39</td>\n",
       "      <td>1.0</td>\n",
       "      <td>0.00</td>\n",
       "      <td>2</td>\n",
       "      <td>0</td>\n",
       "      <td>0</td>\n",
       "      <td>93826.63</td>\n",
       "      <td>0</td>\n",
       "    </tr>\n",
       "    <tr>\n",
       "      <th>5</th>\n",
       "      <td>15737888</td>\n",
       "      <td>Mitchell</td>\n",
       "      <td>850</td>\n",
       "      <td>Spain</td>\n",
       "      <td>Female</td>\n",
       "      <td>43</td>\n",
       "      <td>2.0</td>\n",
       "      <td>125510.82</td>\n",
       "      <td>1</td>\n",
       "      <td>1</td>\n",
       "      <td>1</td>\n",
       "      <td>79084.10</td>\n",
       "      <td>0</td>\n",
       "    </tr>\n",
       "  </tbody>\n",
       "</table>\n",
       "</div>"
      ],
      "text/plain": [
       "           CustomerId   Surname  CreditScore Geography  Gender  Age  Tenure  \\\n",
       "RowNumber                                                                     \n",
       "1            15634602  Hargrave          619    France  Female   42     2.0   \n",
       "2            15647311      Hill          608     Spain  Female   41     1.0   \n",
       "3            15619304      Onio          502    France  Female   42     8.0   \n",
       "4            15701354      Boni          699    France  Female   39     1.0   \n",
       "5            15737888  Mitchell          850     Spain  Female   43     2.0   \n",
       "\n",
       "             Balance  NumOfProducts  HasCrCard  IsActiveMember  \\\n",
       "RowNumber                                                        \n",
       "1               0.00              1          1               1   \n",
       "2           83807.86              1          0               1   \n",
       "3          159660.80              3          1               0   \n",
       "4               0.00              2          0               0   \n",
       "5          125510.82              1          1               1   \n",
       "\n",
       "           EstimatedSalary  Exited  \n",
       "RowNumber                           \n",
       "1                101348.88       1  \n",
       "2                112542.58       0  \n",
       "3                113931.57       1  \n",
       "4                 93826.63       0  \n",
       "5                 79084.10       0  "
      ]
     },
     "execution_count": 3,
     "metadata": {},
     "output_type": "execute_result"
    }
   ],
   "source": [
    "df.head(5)"
   ]
  },
  {
   "cell_type": "code",
   "execution_count": 4,
   "metadata": {},
   "outputs": [
    {
     "name": "stdout",
     "output_type": "stream",
     "text": [
      "<class 'pandas.core.frame.DataFrame'>\n",
      "Int64Index: 10000 entries, 1 to 10000\n",
      "Data columns (total 13 columns):\n",
      " #   Column           Non-Null Count  Dtype  \n",
      "---  ------           --------------  -----  \n",
      " 0   CustomerId       10000 non-null  int64  \n",
      " 1   Surname          10000 non-null  object \n",
      " 2   CreditScore      10000 non-null  int64  \n",
      " 3   Geography        10000 non-null  object \n",
      " 4   Gender           10000 non-null  object \n",
      " 5   Age              10000 non-null  int64  \n",
      " 6   Tenure           9091 non-null   float64\n",
      " 7   Balance          10000 non-null  float64\n",
      " 8   NumOfProducts    10000 non-null  int64  \n",
      " 9   HasCrCard        10000 non-null  int64  \n",
      " 10  IsActiveMember   10000 non-null  int64  \n",
      " 11  EstimatedSalary  10000 non-null  float64\n",
      " 12  Exited           10000 non-null  int64  \n",
      "dtypes: float64(3), int64(7), object(3)\n",
      "memory usage: 1.1+ MB\n"
     ]
    }
   ],
   "source": [
    "df.info()"
   ]
  },
  {
   "cell_type": "markdown",
   "metadata": {},
   "source": [
    "Описание данных:\n",
    "\n",
    "Признаки:\n",
    "\n",
    "RowNumber — индекс строки в данных\n",
    "\n",
    "CustomerId — уникальный идентификатор клиента\n",
    "\n",
    "Surname — фамилия\n",
    "\n",
    "CreditScore — кредитный рейтинг\n",
    "\n",
    "Geography — страна проживания\n",
    "\n",
    "Gender — пол\n",
    "\n",
    "Age — возраст\n",
    "\n",
    "Tenure — сколько лет человек является клиентом банка\n",
    "\n",
    "Balance — баланс на счёте\n",
    "\n",
    "NumOfProducts — количество продуктов банка, используемых клиентом\n",
    "\n",
    "HasCrCard — наличие кредитной карты\n",
    "\n",
    "IsActiveMember — активность клиента\n",
    "\n",
    "EstimatedSalary — предполагаемая зарплата\n",
    "\n",
    "Целевой признак:\n",
    "\n",
    "Exited — факт ухода клиента"
   ]
  },
  {
   "cell_type": "code",
   "execution_count": 5,
   "metadata": {},
   "outputs": [
    {
     "data": {
      "text/plain": [
       "CustomerId           int64\n",
       "Surname             object\n",
       "CreditScore          int64\n",
       "Geography           object\n",
       "Gender              object\n",
       "Age                  int64\n",
       "Tenure             float64\n",
       "Balance            float64\n",
       "NumOfProducts        int64\n",
       "HasCrCard            int64\n",
       "IsActiveMember       int64\n",
       "EstimatedSalary    float64\n",
       "Exited               int64\n",
       "dtype: object"
      ]
     },
     "execution_count": 5,
     "metadata": {},
     "output_type": "execute_result"
    }
   ],
   "source": [
    "df.dtypes"
   ]
  },
  {
   "cell_type": "code",
   "execution_count": 6,
   "metadata": {},
   "outputs": [],
   "source": [
    "df.drop(columns=['CustomerId','Surname'],axis=1,inplace=True) #удалим столбцы,которые не потребуются для анализа"
   ]
  },
  {
   "cell_type": "code",
   "execution_count": 7,
   "metadata": {},
   "outputs": [],
   "source": [
    "df.columns = df.columns.str.lower() #приведем названия столбцов к нижнему регистру"
   ]
  },
  {
   "cell_type": "code",
   "execution_count": 8,
   "metadata": {},
   "outputs": [],
   "source": [
    "df_ohe = pd.get_dummies(df, drop_first=True) #избежим ловушку фиктивных признаков"
   ]
  },
  {
   "cell_type": "code",
   "execution_count": 9,
   "metadata": {},
   "outputs": [
    {
     "data": {
      "text/plain": [
       "0"
      ]
     },
     "execution_count": 9,
     "metadata": {},
     "output_type": "execute_result"
    }
   ],
   "source": [
    "df_ohe.duplicated().sum() #проверим на наличие дубликатов"
   ]
  },
  {
   "cell_type": "code",
   "execution_count": 10,
   "metadata": {},
   "outputs": [
    {
     "data": {
      "text/plain": [
       "count    9091.000000\n",
       "mean        4.997690\n",
       "std         2.894723\n",
       "min         0.000000\n",
       "25%         2.000000\n",
       "50%         5.000000\n",
       "75%         7.000000\n",
       "max        10.000000\n",
       "Name: tenure, dtype: float64"
      ]
     },
     "execution_count": 10,
     "metadata": {},
     "output_type": "execute_result"
    }
   ],
   "source": [
    "df_ohe['tenure'].describe()"
   ]
  },
  {
   "cell_type": "code",
   "execution_count": 11,
   "metadata": {},
   "outputs": [
    {
     "data": {
      "image/png": "[encoded data removed]",
      "text/plain": [
       "<Figure size 432x288 with 1 Axes>"
      ]
     },
     "metadata": {
      "needs_background": "light"
     },
     "output_type": "display_data"
    }
   ],
   "source": [
    "df_ohe['tenure'].hist(bins=11)\n",
    "plt.show()"
   ]
  },
  {
   "cell_type": "code",
   "execution_count": 12,
   "metadata": {},
   "outputs": [],
   "source": [
    "df = (np.random.randint(0,10,size=df_ohe['tenure'].isna().sum()))#заполним пропуски случайным числом\n",
    "df_ohe.loc[df_ohe['tenure'].isna(),'tenure']= df"
   ]
  },
  {
   "cell_type": "code",
   "execution_count": 13,
   "metadata": {},
   "outputs": [
    {
     "data": {
      "text/plain": [
       "RowNumber\n",
       "1         2\n",
       "2         1\n",
       "3         8\n",
       "4         1\n",
       "5         2\n",
       "         ..\n",
       "9996      5\n",
       "9997     10\n",
       "9998      7\n",
       "9999      3\n",
       "10000     4\n",
       "Name: tenure, Length: 10000, dtype: int64"
      ]
     },
     "execution_count": 13,
     "metadata": {},
     "output_type": "execute_result"
    }
   ],
   "source": [
    "df_ohe['tenure'].astype(int) #преобразуем тип данных "
   ]
  },
  {
   "cell_type": "code",
   "execution_count": 14,
   "metadata": {},
   "outputs": [
    {
     "data": {
      "text/plain": [
       "creditscore          0\n",
       "age                  0\n",
       "tenure               0\n",
       "balance              0\n",
       "numofproducts        0\n",
       "hascrcard            0\n",
       "isactivemember       0\n",
       "estimatedsalary      0\n",
       "exited               0\n",
       "geography_Germany    0\n",
       "geography_Spain      0\n",
       "gender_Male          0\n",
       "dtype: int64"
      ]
     },
     "execution_count": 14,
     "metadata": {},
     "output_type": "execute_result"
    }
   ],
   "source": [
    "df_ohe.isna().sum()#посмотрим на наличие пропусков"
   ]
  },
  {
   "cell_type": "code",
   "execution_count": 15,
   "metadata": {},
   "outputs": [
    {
     "data": {
      "text/plain": [
       "0    7963\n",
       "1    2037\n",
       "Name: exited, dtype: int64"
      ]
     },
     "execution_count": 15,
     "metadata": {},
     "output_type": "execute_result"
    }
   ],
   "source": [
    "df_ohe['exited'].value_counts() #дисбаланс классов"
   ]
  },
  {
   "cell_type": "markdown",
   "metadata": {},
   "source": [
    "## Исследование задачи"
   ]
  },
  {
   "cell_type": "code",
   "execution_count": 22,
   "metadata": {},
   "outputs": [],
   "source": [
    "target=df_ohe['exited'] #целевой признак\n",
    "features=df_ohe.drop('exited',axis=1) #признаки"
   ]
  },
  {
   "cell_type": "markdown",
   "metadata": {},
   "source": [
    "Разделим на выборки"
   ]
  },
  {
   "cell_type": "code",
   "execution_count": 23,
   "metadata": {},
   "outputs": [],
   "source": [
    "features_train, features_test, target_train, target_test = train_test_split(features, target, test_size=0.2, random_state=12345)\n",
    "\n",
    "features_train, features_valid, target_train, target_valid = train_test_split(features_train, target_train, test_size=0.25, random_state=12345)"
   ]
  },
  {
   "cell_type": "code",
   "execution_count": 24,
   "metadata": {},
   "outputs": [
    {
     "data": {
      "text/html": [
       "<div>\n",
       "<style scoped>\n",
       "    .dataframe tbody tr th:only-of-type {\n",
       "        vertical-align: middle;\n",
       "    }\n",
       "\n",
       "    .dataframe tbody tr th {\n",
       "        vertical-align: top;\n",
       "    }\n",
       "\n",
       "    .dataframe thead th {\n",
       "        text-align: right;\n",
       "    }\n",
       "</style>\n",
       "<table border=\"1\" class=\"dataframe\">\n",
       "  <thead>\n",
       "    <tr style=\"text-align: right;\">\n",
       "      <th></th>\n",
       "      <th>creditscore</th>\n",
       "      <th>age</th>\n",
       "      <th>tenure</th>\n",
       "      <th>balance</th>\n",
       "      <th>numofproducts</th>\n",
       "      <th>hascrcard</th>\n",
       "      <th>isactivemember</th>\n",
       "      <th>estimatedsalary</th>\n",
       "      <th>geography_Germany</th>\n",
       "      <th>geography_Spain</th>\n",
       "      <th>gender_Male</th>\n",
       "    </tr>\n",
       "    <tr>\n",
       "      <th>RowNumber</th>\n",
       "      <th></th>\n",
       "      <th></th>\n",
       "      <th></th>\n",
       "      <th></th>\n",
       "      <th></th>\n",
       "      <th></th>\n",
       "      <th></th>\n",
       "      <th></th>\n",
       "      <th></th>\n",
       "      <th></th>\n",
       "      <th></th>\n",
       "    </tr>\n",
       "  </thead>\n",
       "  <tbody>\n",
       "    <tr>\n",
       "      <th>493</th>\n",
       "      <td>639</td>\n",
       "      <td>38</td>\n",
       "      <td>4.0</td>\n",
       "      <td>81550.94</td>\n",
       "      <td>2</td>\n",
       "      <td>0</td>\n",
       "      <td>1</td>\n",
       "      <td>118974.77</td>\n",
       "      <td>0</td>\n",
       "      <td>0</td>\n",
       "      <td>0</td>\n",
       "    </tr>\n",
       "    <tr>\n",
       "      <th>6656</th>\n",
       "      <td>554</td>\n",
       "      <td>44</td>\n",
       "      <td>1.0</td>\n",
       "      <td>85304.27</td>\n",
       "      <td>1</td>\n",
       "      <td>1</td>\n",
       "      <td>1</td>\n",
       "      <td>58076.52</td>\n",
       "      <td>0</td>\n",
       "      <td>0</td>\n",
       "      <td>1</td>\n",
       "    </tr>\n",
       "    <tr>\n",
       "      <th>4288</th>\n",
       "      <td>714</td>\n",
       "      <td>53</td>\n",
       "      <td>1.0</td>\n",
       "      <td>99141.86</td>\n",
       "      <td>1</td>\n",
       "      <td>1</td>\n",
       "      <td>1</td>\n",
       "      <td>72496.05</td>\n",
       "      <td>1</td>\n",
       "      <td>0</td>\n",
       "      <td>1</td>\n",
       "    </tr>\n",
       "    <tr>\n",
       "      <th>43</th>\n",
       "      <td>556</td>\n",
       "      <td>61</td>\n",
       "      <td>2.0</td>\n",
       "      <td>117419.35</td>\n",
       "      <td>1</td>\n",
       "      <td>1</td>\n",
       "      <td>1</td>\n",
       "      <td>94153.83</td>\n",
       "      <td>0</td>\n",
       "      <td>0</td>\n",
       "      <td>0</td>\n",
       "    </tr>\n",
       "    <tr>\n",
       "      <th>8179</th>\n",
       "      <td>707</td>\n",
       "      <td>46</td>\n",
       "      <td>7.0</td>\n",
       "      <td>127476.73</td>\n",
       "      <td>2</td>\n",
       "      <td>1</td>\n",
       "      <td>1</td>\n",
       "      <td>146011.55</td>\n",
       "      <td>0</td>\n",
       "      <td>0</td>\n",
       "      <td>0</td>\n",
       "    </tr>\n",
       "  </tbody>\n",
       "</table>\n",
       "</div>"
      ],
      "text/plain": [
       "           creditscore  age  tenure    balance  numofproducts  hascrcard  \\\n",
       "RowNumber                                                                  \n",
       "493                639   38     4.0   81550.94              2          0   \n",
       "6656               554   44     1.0   85304.27              1          1   \n",
       "4288               714   53     1.0   99141.86              1          1   \n",
       "43                 556   61     2.0  117419.35              1          1   \n",
       "8179               707   46     7.0  127476.73              2          1   \n",
       "\n",
       "           isactivemember  estimatedsalary  geography_Germany  \\\n",
       "RowNumber                                                       \n",
       "493                     1        118974.77                  0   \n",
       "6656                    1         58076.52                  0   \n",
       "4288                    1         72496.05                  1   \n",
       "43                      1         94153.83                  0   \n",
       "8179                    1        146011.55                  0   \n",
       "\n",
       "           geography_Spain  gender_Male  \n",
       "RowNumber                                \n",
       "493                      0            0  \n",
       "6656                     0            1  \n",
       "4288                     0            1  \n",
       "43                       0            0  \n",
       "8179                     0            0  "
      ]
     },
     "execution_count": 24,
     "metadata": {},
     "output_type": "execute_result"
    }
   ],
   "source": [
    "features_train.head()"
   ]
  },
  {
   "cell_type": "markdown",
   "metadata": {},
   "source": [
    "Нормируем числовые данные"
   ]
  },
  {
   "cell_type": "code",
   "execution_count": 18,
   "metadata": {
    "scrolled": true
   },
   "outputs": [
    {
     "name": "stdout",
     "output_type": "stream",
     "text": [
      "(6000, 11)\n",
      "(2000, 11)\n"
     ]
    }
   ],
   "source": [
    "scaler = StandardScaler()\n",
    "features_train = scaler.fit_transform(features_train)\n",
    "features_valid = scaler.transform(features_valid)\n",
    "\n",
    "print(features_train.shape)\n",
    "print(features_valid.shape)"
   ]
  },
  {
   "cell_type": "code",
   "execution_count": 19,
   "metadata": {},
   "outputs": [
    {
     "data": {
      "text/plain": [
       "((7963, 11), (2037, 11))"
      ]
     },
     "execution_count": 19,
     "metadata": {},
     "output_type": "execute_result"
    }
   ],
   "source": [
    "features[target==0].shape,features[target==1].shape #дисбаланс классов"
   ]
  },
  {
   "cell_type": "markdown",
   "metadata": {},
   "source": [
    "Дисбаланс отлицательного класса в 4 раза больше положительного"
   ]
  },
  {
   "cell_type": "markdown",
   "metadata": {},
   "source": [
    "Исследуем модели на несбалансированных классах."
   ]
  },
  {
   "cell_type": "code",
   "execution_count": null,
   "metadata": {},
   "outputs": [],
   "source": [
    "for depth in range(1,21):    #дерево решений\n",
    "    model_tree = DecisionTreeClassifier(max_depth=depth, random_state=12345)\n",
    "    model_tree.fit(features_train, target_train)\n",
    "    predictions = model_tree.predict(features_valid)\n",
    "    print('max_depth:', depth,'F1:', f1_score(target_valid, predictions))"
   ]
  },
  {
   "cell_type": "markdown",
   "metadata": {},
   "source": [
    "Лучшая модель: max_depth: 7 F1: 0.5557299843014128"
   ]
  },
  {
   "cell_type": "code",
   "execution_count": null,
   "metadata": {},
   "outputs": [],
   "source": [
    "for max_depth in range(1,20):      #случайный лес\n",
    "    model_forest = RandomForestClassifier(max_depth=max_depth, n_estimators=50, random_state=1234)\n",
    "    model_forest.fit(features_train, target_train)\n",
    "    predictions = model_forest.predict(features_valid)\n",
    "    print('max_depth:',max_depth,'F1:', f1_score(target_valid, predictions))"
   ]
  },
  {
   "cell_type": "markdown",
   "metadata": {},
   "source": [
    "Лучшая модель: max_depth: 15 F1: 0.5664556962025317"
   ]
  },
  {
   "cell_type": "code",
   "execution_count": null,
   "metadata": {},
   "outputs": [],
   "source": [
    "for estim in range(1,100,5):\n",
    "    model_forest = RandomForestClassifier(max_depth=14, n_estimators=estim, random_state=1234)\n",
    "    model_forest.fit(features_train, target_train)\n",
    "    predictions = model_forest.predict(features_valid)\n",
    "    print('estim',estim,'F1:',f1_score(target_valid, predictions))"
   ]
  },
  {
   "cell_type": "markdown",
   "metadata": {},
   "source": [
    "Лучшая модель : estim 76 F1: 0.5718799368088467"
   ]
  },
  {
   "cell_type": "code",
   "execution_count": null,
   "metadata": {
    "scrolled": true
   },
   "outputs": [],
   "source": [
    "model_logistic = LogisticRegression().fit(features_train, target_train)\n",
    "predictions = model_logistic.predict(features_valid)\n",
    "print('F1:', f1_score(target_valid, predictions))#логистическая регрессия"
   ]
  },
  {
   "cell_type": "markdown",
   "metadata": {},
   "source": [
    "Лучшая модель : F1: 0.30131826741996237"
   ]
  },
  {
   "cell_type": "markdown",
   "metadata": {},
   "source": [
    "Из 3 рассмотренных моделей лучший показатель у случайного леса , при параметрах :\n",
    "\n",
    "max_depth: 15 F1: 0.5664556962025317\n",
    "\n",
    "estim 76 F1: 0.5718799368088467"
   ]
  },
  {
   "cell_type": "markdown",
   "metadata": {},
   "source": [
    "## Борьба с дисбалансом"
   ]
  },
  {
   "cell_type": "markdown",
   "metadata": {},
   "source": [
    "Применим функцию upsampling & downsampling для балансироваки классов"
   ]
  },
  {
   "cell_type": "code",
   "execution_count": null,
   "metadata": {},
   "outputs": [],
   "source": [
    "def upsample(features, target, repeat):\n",
    "    features_zeros = pd.DataFrame(features[target == 0])\n",
    "    features_ones = pd.DataFrame(features[target == 1])\n",
    "    target_zeros = pd.DataFrame(target[target == 0])\n",
    "    target_ones = pd.DataFrame(target[target == 1])\n",
    "\n",
    "    features_upsampled = pd.concat([features_zeros] + [features_ones] * repeat)\n",
    "    target_upsampled = pd.concat([target_zeros] + [target_ones] * repeat)\n",
    "    \n",
    "    features_upsampled, target_upsampled = shuffle(\n",
    "        features_upsampled, target_upsampled, random_state=12345)\n",
    "    \n",
    "    return features_upsampled, target_upsampled\n",
    "\n",
    "features_upsampled, target_upsampled = upsample(features_train, target_train, 4)\n",
    "\n",
    "model = LogisticRegression(solver='liblinear', random_state=12345)\n",
    "model.fit(features_upsampled, target_upsampled)\n",
    "predicted_valid = model.predict(features_valid)\n",
    "\n",
    "print(\"F1:\", f1_score(target_valid, predicted_valid))"
   ]
  },
  {
   "cell_type": "code",
   "execution_count": null,
   "metadata": {},
   "outputs": [],
   "source": [
    "def downsample(features, target, fraction):\n",
    "    features_zeros = pd.DataFrame(features[target == 0])\n",
    "    features_ones = pd.DataFrame(features[target == 1])\n",
    "    target_zeros = pd.DataFrame(target[target == 0])\n",
    "    target_ones = pd.DataFrame(target[target == 1])\n",
    "\n",
    "    features_downsampled = pd.concat(\n",
    "        [features_zeros.sample(frac=fraction, random_state=12345)] + [features_ones])\n",
    "    target_downsampled = pd.concat(\n",
    "        [target_zeros.sample(frac=fraction, random_state=12345)] + [target_ones])\n",
    "    \n",
    "    features_downsampled, target_downsampled = shuffle(\n",
    "        features_downsampled, target_downsampled, random_state=12345)\n",
    "    \n",
    "    return features_downsampled, target_downsampled\n",
    "\n",
    "features_downsampled, target_downsampled = downsample(features_train, target_train, 0.25)\n",
    "\n",
    "model = LogisticRegression(random_state=12345, solver='liblinear')\n",
    "model.fit(features_downsampled, target_downsampled)\n",
    "predicted_valid = model.predict(features_valid)\n",
    "\n",
    "print(\"F1:\", f1_score(target_valid, predicted_valid))"
   ]
  },
  {
   "cell_type": "markdown",
   "metadata": {},
   "source": [
    "При борьбе с дисбалансом функция Upsampling & Downsampling дала результат F1 = 0.47368421052631576"
   ]
  },
  {
   "cell_type": "markdown",
   "metadata": {},
   "source": [
    "Обучение моделей на сбалансированных классах "
   ]
  },
  {
   "cell_type": "code",
   "execution_count": null,
   "metadata": {},
   "outputs": [],
   "source": [
    "for depth in range(1,20,1): #дерево решений\n",
    "    model_tree = DecisionTreeClassifier(class_weight='balanced', max_depth=depth, random_state=1234).fit(features_upsampled, target_upsampled)\n",
    "  \n",
    "    predictions = model_tree.predict(features_valid)\n",
    "    print('max_depth:', depth, 'F1:', f1_score(target_valid, predictions))"
   ]
  },
  {
   "cell_type": "markdown",
   "metadata": {},
   "source": [
    "Лучшая модель после балансировки классов : max_depth: 7 F1: 0.5544354838709676"
   ]
  },
  {
   "cell_type": "code",
   "execution_count": null,
   "metadata": {},
   "outputs": [],
   "source": [
    "for max_depth in range(1,20):      #случайный лес\n",
    "    model_forest = RandomForestClassifier(class_weight='balanced',max_depth=max_depth, n_estimators=50, random_state=1234)\n",
    "    model_forest.fit(features_train, target_train)\n",
    "    predictions = model_forest.predict(features_valid)\n",
    "    print('max_depth:', max_depth,'F1:', f1_score(target_valid, predictions))"
   ]
  },
  {
   "cell_type": "code",
   "execution_count": null,
   "metadata": {},
   "outputs": [],
   "source": [
    "for estim in range(1,100, 5): #дерево решений\n",
    "    model_forest = RandomForestClassifier(class_weight='balanced', max_depth=7, n_estimators=estim, random_state=1234).fit(features_downsampled, target_downsampled)\n",
    "    predictions = model_forest.predict(features_valid)\n",
    "    print('estim:', estim, 'F1:', f1_score(target_valid, predictions))\n"
   ]
  },
  {
   "cell_type": "markdown",
   "metadata": {},
   "source": [
    "Лучшая модель после балансировки классов : \n",
    "\n",
    "max_depth: 10 F1: 0.6007509386733417\n",
    "\n",
    "estim: 56 F1: 0.5790513833992095\n",
    "        "
   ]
  },
  {
   "cell_type": "code",
   "execution_count": null,
   "metadata": {
    "scrolled": true
   },
   "outputs": [],
   "source": [
    "model_logistic = LogisticRegression(class_weight='balanced').fit(features_train, target_train) #логистическая регрессия\n",
    "predictions = model_logistic.predict(features_valid)\n",
    "print('F1:', f1_score(target_valid, predictions))"
   ]
  },
  {
   "cell_type": "markdown",
   "metadata": {},
   "source": [
    "Лучшая модель после балансировки классов : F1: 0.4755120213713268"
   ]
  },
  {
   "cell_type": "markdown",
   "metadata": {},
   "source": [
    "Из 3 рассмотренных моделей после балансировки классов  лучший показатель у случайного леса , при параметрах : \n",
    "\n",
    "max_depth: 10 F1: 0.6007509386733417\n",
    "\n",
    "estim: 56 F1: 0.5790513833992095\n",
    "        \n"
   ]
  },
  {
   "cell_type": "markdown",
   "metadata": {},
   "source": [
    "Вспомним , что до балансировки лучший показатель у случайного леса , при параметрах :\n",
    "\n",
    "max_depth: 15 F1: 0.5664556962025317\n",
    "\n",
    "estim 76 F1: 0.5718799368088467"
   ]
  },
  {
   "cell_type": "markdown",
   "metadata": {},
   "source": [
    "## Тестирование модели"
   ]
  },
  {
   "cell_type": "code",
   "execution_count": 25,
   "metadata": {},
   "outputs": [
    {
     "name": "stdout",
     "output_type": "stream",
     "text": [
      "F1: 0.6444708680142687\n"
     ]
    }
   ],
   "source": [
    "model_3 = RandomForestClassifier(class_weight='balanced', random_state=12345, max_depth=10, n_estimators=56)\n",
    "model_3.fit(features_train, target_train)\n",
    "predictions = model_3.predict(features_test)\n",
    "print('F1:', f1_score(target_test,predictions))"
   ]
  },
  {
   "cell_type": "markdown",
   "metadata": {},
   "source": [
    "Иследование метркии ROC-auc "
   ]
  },
  {
   "cell_type": "code",
   "execution_count": null,
   "metadata": {},
   "outputs": [],
   "source": [
    "probabilities_tree = model_tree.predict_proba(features_valid) #вероятность класса#дерево решений\n",
    "probabilities_one_valid_tree = probabilities_tree[:,1]\n",
    "fpr_tree, tpr_tree, thresholds = roc_curve(target_valid, probabilities_one_valid_tree)\n",
    "\n",
    "auc_roc_tree = roc_auc_score(target_valid, probabilities_one_valid_tree)\n",
    "auc_roc_tree"
   ]
  },
  {
   "cell_type": "code",
   "execution_count": null,
   "metadata": {},
   "outputs": [],
   "source": [
    "probabilities_forest = model_forest.predict_proba(features_valid) #случайный лес\n",
    "probabilities_one_valid_forest = probabilities_forest[:,1]\n",
    "fpr_forest, tpr_forest, thresholds = roc_curve(target_valid, probabilities_one_valid_forest)\n",
    "auc_roc_forest = roc_auc_score(target_valid, probabilities_one_valid_forest)\n",
    "auc_roc_forest"
   ]
  },
  {
   "cell_type": "code",
   "execution_count": null,
   "metadata": {},
   "outputs": [],
   "source": [
    "probabilities_reg = model_logistic.predict_proba(features_valid) #логистическая регрессия\n",
    "probabilities_one_valid_reg = probabilities_reg[:,1]\n",
    "fpr_log, tpr_log, thresholds = roc_curve(target_valid, probabilities_one_valid_reg)\n",
    "auc_roc_reg = roc_auc_score(target_valid, probabilities_one_valid_reg)\n",
    "auc_roc_reg"
   ]
  },
  {
   "cell_type": "code",
   "execution_count": null,
   "metadata": {},
   "outputs": [],
   "source": [
    "plt.figure()\n",
    "\n",
    "plt.figure(figsize=(10,7))\n",
    "plt.plot([0, 1], [0, 1], linestyle='--')\n",
    "plt.xlim([0.0, 1.0])\n",
    "plt.ylim([0.0, 1.0])\n",
    "plt.plot(fpr_log,tpr_log)\n",
    "plt.plot(fpr_tree,tpr_tree)\n",
    "plt.plot(fpr_forest,tpr_forest)\n",
    "plt.xlabel('False Positive Rate')\n",
    "plt.ylabel('True Positive Rate')\n",
    "plt.title('ROC-кривая')\n",
    "plt.legend(('Случайная модель', 'Логистическая регрессия', 'Дерево решения', 'Случайный лес'),\n",
    "           loc= 'upper left');"
   ]
  },
  {
   "cell_type": "markdown",
   "metadata": {},
   "source": [
    "## Вывод"
   ]
  },
  {
   "cell_type": "markdown",
   "metadata": {},
   "source": [
    "Из всех 3 моделей до балансировки , после балансировки , после проверки на ROC-AUC (0.8488807363948634), лучший показатель имеет модель:\n",
    "\n",
    "Случайный лес \n",
    "\n",
    "при параметрах (после балансировки):\n",
    "\n",
    "max_depth: 10 F1: 0.6007509386733417\n",
    "\n",
    "estim: 56 F1: 0.5790513833992095\n",
    "        \n",
    "\n",
    "Именно данная модель сможет предсказать уйдет ли клиент из банка ."
   ]
  },
  {
   "cell_type": "markdown",
   "metadata": {},
   "source": [
    "В ходе выполнения работы использовали модель Random Forrest. \n",
    "Применили методы upsampling и downsampling к данным, и, подобрав параметры модели смогли получить значение F1-меры выше 0.59."
   ]
  }
 ],
 "metadata": {
  "ExecuteTimeLog": [
   {
    "duration": 1621,
    "start_time": "2022-07-31T16:05:50.666Z"
   },
   {
    "duration": 95,
    "start_time": "2022-07-31T16:06:23.411Z"
   },
   {
    "duration": 18,
    "start_time": "2022-07-31T16:06:35.438Z"
   },
   {
    "duration": 47,
    "start_time": "2022-07-31T16:06:49.190Z"
   },
   {
    "duration": 14,
    "start_time": "2022-07-31T16:06:49.888Z"
   },
   {
    "duration": 14,
    "start_time": "2022-07-31T16:07:03.907Z"
   },
   {
    "duration": 130,
    "start_time": "2022-07-31T16:08:27.249Z"
   },
   {
    "duration": 10,
    "start_time": "2022-07-31T16:08:32.862Z"
   },
   {
    "duration": 6,
    "start_time": "2022-07-31T16:08:40.008Z"
   },
   {
    "duration": 5,
    "start_time": "2022-07-31T16:09:55.625Z"
   },
   {
    "duration": 16,
    "start_time": "2022-07-31T16:10:48.931Z"
   },
   {
    "duration": 12,
    "start_time": "2022-07-31T16:11:15.009Z"
   },
   {
    "duration": 9,
    "start_time": "2022-07-31T16:14:40.819Z"
   },
   {
    "duration": 157,
    "start_time": "2022-07-31T16:15:23.075Z"
   },
   {
    "duration": 5,
    "start_time": "2022-07-31T16:17:35.913Z"
   },
   {
    "duration": 45,
    "start_time": "2022-07-31T16:18:24.046Z"
   },
   {
    "duration": 6,
    "start_time": "2022-07-31T16:18:29.368Z"
   },
   {
    "duration": 8,
    "start_time": "2022-07-31T16:18:42.466Z"
   },
   {
    "duration": 10,
    "start_time": "2022-07-31T16:19:50.518Z"
   },
   {
    "duration": 10,
    "start_time": "2022-07-31T16:20:01.412Z"
   },
   {
    "duration": 9,
    "start_time": "2022-07-31T16:20:28.161Z"
   },
   {
    "duration": 9,
    "start_time": "2022-07-31T16:20:28.499Z"
   },
   {
    "duration": 160,
    "start_time": "2022-07-31T16:20:28.770Z"
   },
   {
    "duration": 6,
    "start_time": "2022-07-31T16:20:28.968Z"
   },
   {
    "duration": 7,
    "start_time": "2022-07-31T16:20:29.227Z"
   },
   {
    "duration": 8,
    "start_time": "2022-07-31T16:20:42.337Z"
   },
   {
    "duration": 6,
    "start_time": "2022-07-31T16:23:38.671Z"
   },
   {
    "duration": 6,
    "start_time": "2022-07-31T16:24:13.838Z"
   },
   {
    "duration": 11,
    "start_time": "2022-07-31T16:26:04.242Z"
   },
   {
    "duration": 7,
    "start_time": "2022-07-31T16:26:41.072Z"
   },
   {
    "duration": 59,
    "start_time": "2022-07-31T16:26:59.935Z"
   },
   {
    "duration": 82,
    "start_time": "2022-07-31T16:27:08.596Z"
   },
   {
    "duration": 6,
    "start_time": "2022-07-31T16:27:16.199Z"
   },
   {
    "duration": 6,
    "start_time": "2022-07-31T16:27:50.722Z"
   },
   {
    "duration": 3,
    "start_time": "2022-07-31T16:29:20.837Z"
   },
   {
    "duration": 588,
    "start_time": "2022-07-31T16:33:01.633Z"
   },
   {
    "duration": 531,
    "start_time": "2022-07-31T16:33:48.813Z"
   },
   {
    "duration": 1492,
    "start_time": "2022-07-31T16:34:05.387Z"
   },
   {
    "duration": 46,
    "start_time": "2022-07-31T16:34:06.881Z"
   },
   {
    "duration": 22,
    "start_time": "2022-07-31T16:34:06.928Z"
   },
   {
    "duration": 16,
    "start_time": "2022-07-31T16:34:06.953Z"
   },
   {
    "duration": 6,
    "start_time": "2022-07-31T16:34:06.972Z"
   },
   {
    "duration": 11,
    "start_time": "2022-07-31T16:34:06.980Z"
   },
   {
    "duration": 36,
    "start_time": "2022-07-31T16:34:06.993Z"
   },
   {
    "duration": 13,
    "start_time": "2022-07-31T16:34:07.031Z"
   },
   {
    "duration": 13,
    "start_time": "2022-07-31T16:34:07.045Z"
   },
   {
    "duration": 24,
    "start_time": "2022-07-31T16:34:07.061Z"
   },
   {
    "duration": 191,
    "start_time": "2022-07-31T16:34:07.087Z"
   },
   {
    "duration": 5,
    "start_time": "2022-07-31T16:34:07.280Z"
   },
   {
    "duration": 9,
    "start_time": "2022-07-31T16:34:07.287Z"
   },
   {
    "duration": 11,
    "start_time": "2022-07-31T16:34:07.299Z"
   },
   {
    "duration": 569,
    "start_time": "2022-07-31T16:34:07.323Z"
   },
   {
    "duration": 0,
    "start_time": "2022-07-31T16:34:07.894Z"
   },
   {
    "duration": 0,
    "start_time": "2022-07-31T16:34:07.895Z"
   },
   {
    "duration": 1,
    "start_time": "2022-07-31T16:34:07.896Z"
   },
   {
    "duration": 18,
    "start_time": "2022-07-31T16:34:38.958Z"
   },
   {
    "duration": 469,
    "start_time": "2022-07-31T16:34:43.845Z"
   },
   {
    "duration": 5,
    "start_time": "2022-07-31T16:35:12.063Z"
   },
   {
    "duration": 4,
    "start_time": "2022-07-31T16:36:01.433Z"
   },
   {
    "duration": 645,
    "start_time": "2022-07-31T16:36:05.297Z"
   },
   {
    "duration": 577,
    "start_time": "2022-07-31T16:36:12.997Z"
   },
   {
    "duration": 517,
    "start_time": "2022-07-31T16:36:24.755Z"
   },
   {
    "duration": 44,
    "start_time": "2022-07-31T16:37:08.140Z"
   },
   {
    "duration": 57,
    "start_time": "2022-07-31T16:37:15.915Z"
   },
   {
    "duration": 14,
    "start_time": "2022-07-31T16:37:26.740Z"
   },
   {
    "duration": 58,
    "start_time": "2022-07-31T16:37:27.777Z"
   },
   {
    "duration": 234,
    "start_time": "2022-07-31T16:37:57.362Z"
   },
   {
    "duration": 5,
    "start_time": "2022-07-31T16:38:00.552Z"
   },
   {
    "duration": 12,
    "start_time": "2022-07-31T16:41:32.805Z"
   },
   {
    "duration": 4,
    "start_time": "2022-07-31T16:42:33.959Z"
   },
   {
    "duration": 6,
    "start_time": "2022-07-31T16:42:34.635Z"
   },
   {
    "duration": 27,
    "start_time": "2022-07-31T16:42:35.197Z"
   },
   {
    "duration": 8,
    "start_time": "2022-07-31T16:44:37.635Z"
   },
   {
    "duration": 8,
    "start_time": "2022-07-31T16:44:49.087Z"
   },
   {
    "duration": 1436,
    "start_time": "2022-07-31T16:46:02.600Z"
   },
   {
    "duration": 46,
    "start_time": "2022-07-31T16:46:04.038Z"
   },
   {
    "duration": 3,
    "start_time": "2022-07-31T16:46:04.086Z"
   },
   {
    "duration": 24,
    "start_time": "2022-07-31T16:46:04.091Z"
   },
   {
    "duration": 14,
    "start_time": "2022-07-31T16:46:04.117Z"
   },
   {
    "duration": 5,
    "start_time": "2022-07-31T16:46:04.132Z"
   },
   {
    "duration": 13,
    "start_time": "2022-07-31T16:46:04.139Z"
   },
   {
    "duration": 16,
    "start_time": "2022-07-31T16:46:04.154Z"
   },
   {
    "duration": 12,
    "start_time": "2022-07-31T16:46:04.172Z"
   },
   {
    "duration": 22,
    "start_time": "2022-07-31T16:46:04.187Z"
   },
   {
    "duration": 20,
    "start_time": "2022-07-31T16:46:04.211Z"
   },
   {
    "duration": 161,
    "start_time": "2022-07-31T16:46:04.233Z"
   },
   {
    "duration": 5,
    "start_time": "2022-07-31T16:46:04.395Z"
   },
   {
    "duration": 8,
    "start_time": "2022-07-31T16:46:04.402Z"
   },
   {
    "duration": 3,
    "start_time": "2022-07-31T16:46:04.423Z"
   },
   {
    "duration": 17,
    "start_time": "2022-07-31T16:46:04.428Z"
   },
   {
    "duration": 239,
    "start_time": "2022-07-31T16:46:04.447Z"
   },
   {
    "duration": 4,
    "start_time": "2022-07-31T16:46:04.688Z"
   },
   {
    "duration": 14,
    "start_time": "2022-07-31T16:46:04.693Z"
   },
   {
    "duration": 26,
    "start_time": "2022-07-31T16:46:04.709Z"
   },
   {
    "duration": 6,
    "start_time": "2022-07-31T16:46:04.737Z"
   },
   {
    "duration": 1560,
    "start_time": "2022-08-01T07:42:36.107Z"
   },
   {
    "duration": 44,
    "start_time": "2022-08-01T07:42:37.670Z"
   },
   {
    "duration": 3,
    "start_time": "2022-08-01T07:42:37.715Z"
   },
   {
    "duration": 57,
    "start_time": "2022-08-01T07:42:37.720Z"
   },
   {
    "duration": 14,
    "start_time": "2022-08-01T07:42:37.779Z"
   },
   {
    "duration": 6,
    "start_time": "2022-08-01T07:42:37.795Z"
   },
   {
    "duration": 10,
    "start_time": "2022-08-01T07:42:37.803Z"
   },
   {
    "duration": 19,
    "start_time": "2022-08-01T07:42:37.815Z"
   },
   {
    "duration": 38,
    "start_time": "2022-08-01T07:42:37.841Z"
   },
   {
    "duration": 13,
    "start_time": "2022-08-01T07:42:37.881Z"
   },
   {
    "duration": 9,
    "start_time": "2022-08-01T07:42:37.896Z"
   },
   {
    "duration": 165,
    "start_time": "2022-08-01T07:42:37.906Z"
   },
   {
    "duration": 5,
    "start_time": "2022-08-01T07:42:38.073Z"
   },
   {
    "duration": 10,
    "start_time": "2022-08-01T07:42:38.080Z"
   },
   {
    "duration": 5,
    "start_time": "2022-08-01T07:42:38.091Z"
   },
   {
    "duration": 34,
    "start_time": "2022-08-01T07:42:38.098Z"
   },
   {
    "duration": 251,
    "start_time": "2022-08-01T07:42:38.133Z"
   },
   {
    "duration": 4,
    "start_time": "2022-08-01T07:42:38.386Z"
   },
   {
    "duration": 15,
    "start_time": "2022-08-01T07:42:38.392Z"
   },
   {
    "duration": 40,
    "start_time": "2022-08-01T07:42:38.408Z"
   },
   {
    "duration": 11,
    "start_time": "2022-08-01T07:42:38.452Z"
   },
   {
    "duration": 75,
    "start_time": "2022-08-01T07:43:24.794Z"
   },
   {
    "duration": 94,
    "start_time": "2022-08-01T07:44:00.513Z"
   },
   {
    "duration": 135,
    "start_time": "2022-08-01T07:44:09.499Z"
   },
   {
    "duration": 9,
    "start_time": "2022-08-01T07:44:28.615Z"
   },
   {
    "duration": 24,
    "start_time": "2022-08-01T07:44:31.654Z"
   },
   {
    "duration": 13,
    "start_time": "2022-08-01T07:44:34.431Z"
   },
   {
    "duration": 11,
    "start_time": "2022-08-01T07:47:03.008Z"
   },
   {
    "duration": 4,
    "start_time": "2022-08-01T07:47:37.075Z"
   },
   {
    "duration": 41,
    "start_time": "2022-08-01T07:47:37.246Z"
   },
   {
    "duration": 3,
    "start_time": "2022-08-01T07:47:37.385Z"
   },
   {
    "duration": 14,
    "start_time": "2022-08-01T07:47:37.556Z"
   },
   {
    "duration": 16,
    "start_time": "2022-08-01T07:47:37.818Z"
   },
   {
    "duration": 5,
    "start_time": "2022-08-01T07:47:38.163Z"
   },
   {
    "duration": 4,
    "start_time": "2022-08-01T07:47:38.351Z"
   },
   {
    "duration": 11,
    "start_time": "2022-08-01T07:47:38.498Z"
   },
   {
    "duration": 17,
    "start_time": "2022-08-01T07:47:38.721Z"
   },
   {
    "duration": 18,
    "start_time": "2022-08-01T07:47:38.916Z"
   },
   {
    "duration": 12,
    "start_time": "2022-08-01T07:47:39.253Z"
   },
   {
    "duration": 138,
    "start_time": "2022-08-01T07:47:39.549Z"
   },
   {
    "duration": 5,
    "start_time": "2022-08-01T07:47:39.695Z"
   },
   {
    "duration": 8,
    "start_time": "2022-08-01T07:47:39.863Z"
   },
   {
    "duration": 3,
    "start_time": "2022-08-01T07:47:40.192Z"
   },
   {
    "duration": 15,
    "start_time": "2022-08-01T07:47:40.361Z"
   },
   {
    "duration": 335,
    "start_time": "2022-08-01T07:47:40.722Z"
   },
   {
    "duration": 5,
    "start_time": "2022-08-01T07:47:41.249Z"
   },
   {
    "duration": 6,
    "start_time": "2022-08-01T07:47:41.648Z"
   },
   {
    "duration": 23,
    "start_time": "2022-08-01T07:47:41.997Z"
   },
   {
    "duration": 7,
    "start_time": "2022-08-01T07:47:42.154Z"
   },
   {
    "duration": 622,
    "start_time": "2022-08-01T07:47:42.747Z"
   },
   {
    "duration": 6545,
    "start_time": "2022-08-01T07:48:46.896Z"
   },
   {
    "duration": 171,
    "start_time": "2022-08-01T07:49:40.793Z"
   },
   {
    "duration": 80,
    "start_time": "2022-08-01T07:54:22.697Z"
   },
   {
    "duration": 73,
    "start_time": "2022-08-01T07:54:37.607Z"
   },
   {
    "duration": 84,
    "start_time": "2022-08-01T07:54:47.185Z"
   },
   {
    "duration": 156,
    "start_time": "2022-08-01T07:55:11.085Z"
   },
   {
    "duration": 4,
    "start_time": "2022-08-01T07:55:15.554Z"
   },
   {
    "duration": 8,
    "start_time": "2022-08-01T07:56:31.702Z"
   },
   {
    "duration": 27,
    "start_time": "2022-08-01T07:57:25.017Z"
   },
   {
    "duration": 1465,
    "start_time": "2022-08-01T07:57:50.495Z"
   },
   {
    "duration": 42,
    "start_time": "2022-08-01T07:57:51.962Z"
   },
   {
    "duration": 3,
    "start_time": "2022-08-01T07:57:52.006Z"
   },
   {
    "duration": 30,
    "start_time": "2022-08-01T07:57:52.012Z"
   },
   {
    "duration": 20,
    "start_time": "2022-08-01T07:57:52.052Z"
   },
   {
    "duration": 5,
    "start_time": "2022-08-01T07:57:52.074Z"
   },
   {
    "duration": 6,
    "start_time": "2022-08-01T07:57:52.081Z"
   },
   {
    "duration": 18,
    "start_time": "2022-08-01T07:57:52.089Z"
   },
   {
    "duration": 14,
    "start_time": "2022-08-01T07:57:52.109Z"
   },
   {
    "duration": 19,
    "start_time": "2022-08-01T07:57:52.130Z"
   },
   {
    "duration": 13,
    "start_time": "2022-08-01T07:57:52.152Z"
   },
   {
    "duration": 164,
    "start_time": "2022-08-01T07:57:52.167Z"
   },
   {
    "duration": 13,
    "start_time": "2022-08-01T07:57:52.335Z"
   },
   {
    "duration": 21,
    "start_time": "2022-08-01T07:57:52.350Z"
   },
   {
    "duration": 3,
    "start_time": "2022-08-01T07:57:52.373Z"
   },
   {
    "duration": 17,
    "start_time": "2022-08-01T07:57:52.378Z"
   },
   {
    "duration": 278,
    "start_time": "2022-08-01T07:57:52.398Z"
   },
   {
    "duration": 5,
    "start_time": "2022-08-01T07:57:52.678Z"
   },
   {
    "duration": 11,
    "start_time": "2022-08-01T07:57:52.685Z"
   },
   {
    "duration": 166,
    "start_time": "2022-08-01T07:57:52.698Z"
   },
   {
    "duration": 0,
    "start_time": "2022-08-01T07:57:52.866Z"
   },
   {
    "duration": 0,
    "start_time": "2022-08-01T07:57:52.868Z"
   },
   {
    "duration": 0,
    "start_time": "2022-08-01T07:57:52.869Z"
   },
   {
    "duration": 0,
    "start_time": "2022-08-01T07:57:52.871Z"
   },
   {
    "duration": 0,
    "start_time": "2022-08-01T07:57:52.873Z"
   },
   {
    "duration": 0,
    "start_time": "2022-08-01T07:57:52.874Z"
   },
   {
    "duration": 31,
    "start_time": "2022-08-01T07:58:18.902Z"
   },
   {
    "duration": 8,
    "start_time": "2022-08-01T07:58:19.357Z"
   },
   {
    "duration": 615,
    "start_time": "2022-08-01T07:58:20.977Z"
   },
   {
    "duration": 6557,
    "start_time": "2022-08-01T07:58:21.594Z"
   },
   {
    "duration": 473,
    "start_time": "2022-08-01T07:58:28.153Z"
   },
   {
    "duration": 7,
    "start_time": "2022-08-01T07:58:28.628Z"
   },
   {
    "duration": 124,
    "start_time": "2022-08-01T07:58:28.638Z"
   },
   {
    "duration": 1660,
    "start_time": "2022-08-01T08:00:14.550Z"
   },
   {
    "duration": 64,
    "start_time": "2022-08-01T08:00:16.212Z"
   },
   {
    "duration": 3,
    "start_time": "2022-08-01T08:00:16.278Z"
   },
   {
    "duration": 22,
    "start_time": "2022-08-01T08:00:16.283Z"
   },
   {
    "duration": 14,
    "start_time": "2022-08-01T08:00:16.307Z"
   },
   {
    "duration": 15,
    "start_time": "2022-08-01T08:00:16.323Z"
   },
   {
    "duration": 9,
    "start_time": "2022-08-01T08:00:16.349Z"
   },
   {
    "duration": 14,
    "start_time": "2022-08-01T08:00:16.360Z"
   },
   {
    "duration": 13,
    "start_time": "2022-08-01T08:00:16.376Z"
   },
   {
    "duration": 10,
    "start_time": "2022-08-01T08:00:16.391Z"
   },
   {
    "duration": 11,
    "start_time": "2022-08-01T08:00:16.402Z"
   },
   {
    "duration": 164,
    "start_time": "2022-08-01T08:00:16.425Z"
   },
   {
    "duration": 6,
    "start_time": "2022-08-01T08:00:16.591Z"
   },
   {
    "duration": 11,
    "start_time": "2022-08-01T08:00:16.601Z"
   },
   {
    "duration": 5,
    "start_time": "2022-08-01T08:00:16.629Z"
   },
   {
    "duration": 29,
    "start_time": "2022-08-01T08:00:16.640Z"
   },
   {
    "duration": 243,
    "start_time": "2022-08-01T08:00:16.671Z"
   },
   {
    "duration": 6,
    "start_time": "2022-08-01T08:00:16.917Z"
   },
   {
    "duration": 39,
    "start_time": "2022-08-01T08:00:16.925Z"
   },
   {
    "duration": 28,
    "start_time": "2022-08-01T08:00:16.966Z"
   },
   {
    "duration": 7,
    "start_time": "2022-08-01T08:00:16.997Z"
   },
   {
    "duration": 640,
    "start_time": "2022-08-01T08:00:17.006Z"
   },
   {
    "duration": 6812,
    "start_time": "2022-08-01T08:00:17.653Z"
   },
   {
    "duration": 688,
    "start_time": "2022-08-01T08:00:24.467Z"
   },
   {
    "duration": 99,
    "start_time": "2022-08-01T08:00:25.235Z"
   },
   {
    "duration": 24,
    "start_time": "2022-08-01T08:00:25.338Z"
   },
   {
    "duration": 111,
    "start_time": "2022-08-01T08:00:25.364Z"
   },
   {
    "duration": 0,
    "start_time": "2022-08-01T08:00:25.477Z"
   },
   {
    "duration": 0,
    "start_time": "2022-08-01T08:00:25.478Z"
   },
   {
    "duration": 0,
    "start_time": "2022-08-01T08:00:25.479Z"
   },
   {
    "duration": 686,
    "start_time": "2022-08-01T08:01:34.695Z"
   },
   {
    "duration": 7379,
    "start_time": "2022-08-01T08:01:35.385Z"
   },
   {
    "duration": 656,
    "start_time": "2022-08-01T08:01:42.766Z"
   },
   {
    "duration": 131,
    "start_time": "2022-08-01T08:04:38.235Z"
   },
   {
    "duration": 13,
    "start_time": "2022-08-01T08:05:20.051Z"
   },
   {
    "duration": 15,
    "start_time": "2022-08-01T08:06:00.367Z"
   },
   {
    "duration": 17,
    "start_time": "2022-08-01T08:06:38.741Z"
   },
   {
    "duration": 25,
    "start_time": "2022-08-01T08:06:39.322Z"
   },
   {
    "duration": 11,
    "start_time": "2022-08-01T08:09:52.464Z"
   },
   {
    "duration": 4,
    "start_time": "2022-08-01T08:10:06.784Z"
   },
   {
    "duration": 41,
    "start_time": "2022-08-01T08:10:06.968Z"
   },
   {
    "duration": 3,
    "start_time": "2022-08-01T08:10:07.145Z"
   },
   {
    "duration": 13,
    "start_time": "2022-08-01T08:10:07.353Z"
   },
   {
    "duration": 13,
    "start_time": "2022-08-01T08:10:07.505Z"
   },
   {
    "duration": 8,
    "start_time": "2022-08-01T08:10:07.836Z"
   },
   {
    "duration": 4,
    "start_time": "2022-08-01T08:10:08.153Z"
   },
   {
    "duration": 12,
    "start_time": "2022-08-01T08:10:08.298Z"
   },
   {
    "duration": 14,
    "start_time": "2022-08-01T08:10:08.465Z"
   },
   {
    "duration": 10,
    "start_time": "2022-08-01T08:10:08.635Z"
   },
   {
    "duration": 10,
    "start_time": "2022-08-01T08:10:08.794Z"
   },
   {
    "duration": 174,
    "start_time": "2022-08-01T08:10:08.980Z"
   },
   {
    "duration": 7,
    "start_time": "2022-08-01T08:10:09.157Z"
   },
   {
    "duration": 7,
    "start_time": "2022-08-01T08:10:09.307Z"
   },
   {
    "duration": 3,
    "start_time": "2022-08-01T08:10:09.667Z"
   },
   {
    "duration": 18,
    "start_time": "2022-08-01T08:10:09.837Z"
   },
   {
    "duration": 336,
    "start_time": "2022-08-01T08:10:10.203Z"
   },
   {
    "duration": 5,
    "start_time": "2022-08-01T08:10:10.814Z"
   },
   {
    "duration": 6,
    "start_time": "2022-08-01T08:10:11.197Z"
   },
   {
    "duration": 34,
    "start_time": "2022-08-01T08:10:11.624Z"
   },
   {
    "duration": 6,
    "start_time": "2022-08-01T08:10:11.814Z"
   },
   {
    "duration": 622,
    "start_time": "2022-08-01T08:10:12.642Z"
   },
   {
    "duration": 12,
    "start_time": "2022-08-01T08:10:13.266Z"
   },
   {
    "duration": 0,
    "start_time": "2022-08-01T08:10:13.280Z"
   },
   {
    "duration": 19,
    "start_time": "2022-08-01T08:10:19.623Z"
   },
   {
    "duration": 11,
    "start_time": "2022-08-01T08:10:53.767Z"
   },
   {
    "duration": 14,
    "start_time": "2022-08-01T08:11:01.484Z"
   },
   {
    "duration": 16,
    "start_time": "2022-08-01T08:11:20.539Z"
   },
   {
    "duration": 18,
    "start_time": "2022-08-01T08:12:56.278Z"
   },
   {
    "duration": 15,
    "start_time": "2022-08-01T08:13:01.451Z"
   },
   {
    "duration": 436,
    "start_time": "2022-08-01T08:19:06.094Z"
   },
   {
    "duration": 9173,
    "start_time": "2022-08-01T08:19:12.080Z"
   },
   {
    "duration": 273,
    "start_time": "2022-08-01T08:19:21.255Z"
   },
   {
    "duration": 20,
    "start_time": "2022-08-01T08:19:21.536Z"
   },
   {
    "duration": 13,
    "start_time": "2022-08-01T08:20:48.747Z"
   },
   {
    "duration": 13,
    "start_time": "2022-08-01T08:23:05.007Z"
   },
   {
    "duration": 15,
    "start_time": "2022-08-01T08:23:18.052Z"
   },
   {
    "duration": 14,
    "start_time": "2022-08-01T08:23:55.487Z"
   },
   {
    "duration": 12,
    "start_time": "2022-08-01T08:24:13.783Z"
   },
   {
    "duration": 8862,
    "start_time": "2022-08-01T08:26:19.051Z"
   },
   {
    "duration": 8704,
    "start_time": "2022-08-01T08:27:29.924Z"
   },
   {
    "duration": 6876,
    "start_time": "2022-08-01T08:28:29.584Z"
   },
   {
    "duration": 6786,
    "start_time": "2022-08-01T08:29:00.365Z"
   },
   {
    "duration": 71,
    "start_time": "2022-08-01T08:34:01.360Z"
   },
   {
    "duration": 24,
    "start_time": "2022-08-01T08:34:24.549Z"
   },
   {
    "duration": 71,
    "start_time": "2022-08-01T08:35:04.272Z"
   },
   {
    "duration": 24,
    "start_time": "2022-08-01T08:35:04.567Z"
   },
   {
    "duration": 81,
    "start_time": "2022-08-01T08:35:23.182Z"
   },
   {
    "duration": 1234,
    "start_time": "2022-08-01T08:40:55.596Z"
   },
   {
    "duration": 6897,
    "start_time": "2022-08-01T08:41:46.098Z"
   },
   {
    "duration": 529,
    "start_time": "2022-08-01T08:41:52.998Z"
   },
   {
    "duration": 3125,
    "start_time": "2022-08-01T08:42:42.665Z"
   },
   {
    "duration": 618,
    "start_time": "2022-08-01T08:43:57.819Z"
   },
   {
    "duration": 421,
    "start_time": "2022-08-01T08:44:40.111Z"
   },
   {
    "duration": 15,
    "start_time": "2022-08-01T08:48:00.271Z"
   },
   {
    "duration": 1582,
    "start_time": "2022-08-01T08:49:04.011Z"
   },
   {
    "duration": 60,
    "start_time": "2022-08-01T08:49:05.596Z"
   },
   {
    "duration": 3,
    "start_time": "2022-08-01T08:49:05.658Z"
   },
   {
    "duration": 18,
    "start_time": "2022-08-01T08:49:05.663Z"
   },
   {
    "duration": 21,
    "start_time": "2022-08-01T08:49:05.683Z"
   },
   {
    "duration": 23,
    "start_time": "2022-08-01T08:49:05.706Z"
   },
   {
    "duration": 25,
    "start_time": "2022-08-01T08:49:05.731Z"
   },
   {
    "duration": 19,
    "start_time": "2022-08-01T08:49:05.759Z"
   },
   {
    "duration": 16,
    "start_time": "2022-08-01T08:49:05.781Z"
   },
   {
    "duration": 10,
    "start_time": "2022-08-01T08:49:05.801Z"
   },
   {
    "duration": 18,
    "start_time": "2022-08-01T08:49:05.813Z"
   },
   {
    "duration": 230,
    "start_time": "2022-08-01T08:49:05.832Z"
   },
   {
    "duration": 5,
    "start_time": "2022-08-01T08:49:06.064Z"
   },
   {
    "duration": 11,
    "start_time": "2022-08-01T08:49:06.071Z"
   },
   {
    "duration": 7,
    "start_time": "2022-08-01T08:49:06.084Z"
   },
   {
    "duration": 31,
    "start_time": "2022-08-01T08:49:06.093Z"
   },
   {
    "duration": 259,
    "start_time": "2022-08-01T08:49:06.130Z"
   },
   {
    "duration": 5,
    "start_time": "2022-08-01T08:49:06.391Z"
   },
   {
    "duration": 9,
    "start_time": "2022-08-01T08:49:06.397Z"
   },
   {
    "duration": 44,
    "start_time": "2022-08-01T08:49:06.408Z"
   },
   {
    "duration": 12,
    "start_time": "2022-08-01T08:49:06.453Z"
   },
   {
    "duration": 671,
    "start_time": "2022-08-01T08:49:06.466Z"
   },
   {
    "duration": 6835,
    "start_time": "2022-08-01T08:49:07.143Z"
   },
   {
    "duration": 8917,
    "start_time": "2022-08-01T08:49:13.979Z"
   },
   {
    "duration": 1339,
    "start_time": "2022-08-01T08:49:22.898Z"
   },
   {
    "duration": 152,
    "start_time": "2022-08-01T08:49:24.239Z"
   },
   {
    "duration": 120,
    "start_time": "2022-08-01T08:49:24.427Z"
   },
   {
    "duration": 1374,
    "start_time": "2022-08-01T08:49:24.555Z"
   },
   {
    "duration": 7287,
    "start_time": "2022-08-01T08:49:25.935Z"
   },
   {
    "duration": 3225,
    "start_time": "2022-08-01T08:49:33.227Z"
   },
   {
    "duration": 496,
    "start_time": "2022-08-01T08:49:36.454Z"
   },
   {
    "duration": 83,
    "start_time": "2022-08-01T08:49:36.954Z"
   },
   {
    "duration": 107,
    "start_time": "2022-08-01T08:49:37.043Z"
   },
   {
    "duration": 78,
    "start_time": "2022-08-01T08:49:37.151Z"
   },
   {
    "duration": 430,
    "start_time": "2022-08-01T08:49:37.233Z"
   },
   {
    "duration": 7004,
    "start_time": "2022-08-01T08:55:22.958Z"
   },
   {
    "duration": 880,
    "start_time": "2022-08-01T08:56:07.155Z"
   },
   {
    "duration": 621,
    "start_time": "2022-08-01T08:56:30.327Z"
   },
   {
    "duration": 14,
    "start_time": "2022-08-01T08:56:35.054Z"
   },
   {
    "duration": 57,
    "start_time": "2022-08-01T08:56:35.576Z"
   },
   {
    "duration": 22,
    "start_time": "2022-08-01T08:56:36.240Z"
   },
   {
    "duration": 256,
    "start_time": "2022-08-01T08:56:36.878Z"
   },
   {
    "duration": 1583,
    "start_time": "2022-08-01T08:58:30.861Z"
   },
   {
    "duration": 53,
    "start_time": "2022-08-01T08:58:32.447Z"
   },
   {
    "duration": 3,
    "start_time": "2022-08-01T08:58:32.502Z"
   },
   {
    "duration": 48,
    "start_time": "2022-08-01T08:58:32.507Z"
   },
   {
    "duration": 31,
    "start_time": "2022-08-01T08:58:32.563Z"
   },
   {
    "duration": 5,
    "start_time": "2022-08-01T08:58:32.596Z"
   },
   {
    "duration": 6,
    "start_time": "2022-08-01T08:58:32.603Z"
   },
   {
    "duration": 28,
    "start_time": "2022-08-01T08:58:32.611Z"
   },
   {
    "duration": 30,
    "start_time": "2022-08-01T08:58:32.644Z"
   },
   {
    "duration": 10,
    "start_time": "2022-08-01T08:58:32.678Z"
   },
   {
    "duration": 9,
    "start_time": "2022-08-01T08:58:32.690Z"
   },
   {
    "duration": 169,
    "start_time": "2022-08-01T08:58:32.700Z"
   },
   {
    "duration": 6,
    "start_time": "2022-08-01T08:58:32.871Z"
   },
   {
    "duration": 9,
    "start_time": "2022-08-01T08:58:32.878Z"
   },
   {
    "duration": 3,
    "start_time": "2022-08-01T08:58:32.889Z"
   },
   {
    "duration": 39,
    "start_time": "2022-08-01T08:58:32.894Z"
   },
   {
    "duration": 270,
    "start_time": "2022-08-01T08:58:32.934Z"
   },
   {
    "duration": 6,
    "start_time": "2022-08-01T08:58:33.206Z"
   },
   {
    "duration": 21,
    "start_time": "2022-08-01T08:58:33.214Z"
   },
   {
    "duration": 58,
    "start_time": "2022-08-01T08:58:33.242Z"
   },
   {
    "duration": 8,
    "start_time": "2022-08-01T08:58:33.302Z"
   },
   {
    "duration": 655,
    "start_time": "2022-08-01T08:58:33.312Z"
   },
   {
    "duration": 7161,
    "start_time": "2022-08-01T08:58:33.969Z"
   },
   {
    "duration": 9132,
    "start_time": "2022-08-01T08:58:41.131Z"
   },
   {
    "duration": 206,
    "start_time": "2022-08-01T08:58:50.265Z"
   },
   {
    "duration": 230,
    "start_time": "2022-08-01T08:58:50.473Z"
   },
   {
    "duration": 163,
    "start_time": "2022-08-01T08:58:50.704Z"
   },
   {
    "duration": 1275,
    "start_time": "2022-08-01T08:58:50.872Z"
   },
   {
    "duration": 6993,
    "start_time": "2022-08-01T08:58:52.149Z"
   },
   {
    "duration": 3167,
    "start_time": "2022-08-01T08:58:59.148Z"
   },
   {
    "duration": 126,
    "start_time": "2022-08-01T08:59:02.325Z"
   },
   {
    "duration": 118,
    "start_time": "2022-08-01T08:59:02.454Z"
   },
   {
    "duration": 98,
    "start_time": "2022-08-01T08:59:02.574Z"
   },
   {
    "duration": 65,
    "start_time": "2022-08-01T08:59:02.673Z"
   },
   {
    "duration": 426,
    "start_time": "2022-08-01T08:59:02.740Z"
   },
   {
    "duration": 1493,
    "start_time": "2022-08-01T09:27:35.060Z"
   },
   {
    "duration": 43,
    "start_time": "2022-08-01T09:27:36.555Z"
   },
   {
    "duration": 3,
    "start_time": "2022-08-01T09:27:36.600Z"
   },
   {
    "duration": 54,
    "start_time": "2022-08-01T09:27:36.605Z"
   },
   {
    "duration": 22,
    "start_time": "2022-08-01T09:27:36.661Z"
   },
   {
    "duration": 21,
    "start_time": "2022-08-01T09:27:36.685Z"
   },
   {
    "duration": 37,
    "start_time": "2022-08-01T09:27:36.708Z"
   },
   {
    "duration": 35,
    "start_time": "2022-08-01T09:27:36.747Z"
   },
   {
    "duration": 23,
    "start_time": "2022-08-01T09:27:36.784Z"
   },
   {
    "duration": 26,
    "start_time": "2022-08-01T09:27:36.810Z"
   },
   {
    "duration": 36,
    "start_time": "2022-08-01T09:27:36.838Z"
   },
   {
    "duration": 202,
    "start_time": "2022-08-01T09:27:36.875Z"
   },
   {
    "duration": 6,
    "start_time": "2022-08-01T09:27:37.079Z"
   },
   {
    "duration": 57,
    "start_time": "2022-08-01T09:27:37.087Z"
   },
   {
    "duration": 37,
    "start_time": "2022-08-01T09:27:37.146Z"
   },
   {
    "duration": 66,
    "start_time": "2022-08-01T09:27:37.184Z"
   },
   {
    "duration": 241,
    "start_time": "2022-08-01T09:27:37.252Z"
   },
   {
    "duration": 4,
    "start_time": "2022-08-01T09:27:37.495Z"
   },
   {
    "duration": 44,
    "start_time": "2022-08-01T09:27:37.501Z"
   },
   {
    "duration": 44,
    "start_time": "2022-08-01T09:27:37.547Z"
   },
   {
    "duration": 15,
    "start_time": "2022-08-01T09:27:37.593Z"
   },
   {
    "duration": 668,
    "start_time": "2022-08-01T09:27:37.610Z"
   },
   {
    "duration": 6601,
    "start_time": "2022-08-01T09:27:38.281Z"
   },
   {
    "duration": 8531,
    "start_time": "2022-08-01T09:27:44.884Z"
   },
   {
    "duration": 131,
    "start_time": "2022-08-01T09:27:53.417Z"
   },
   {
    "duration": 198,
    "start_time": "2022-08-01T09:27:53.626Z"
   },
   {
    "duration": 106,
    "start_time": "2022-08-01T09:27:53.828Z"
   },
   {
    "duration": 1243,
    "start_time": "2022-08-01T09:27:53.942Z"
   },
   {
    "duration": 6534,
    "start_time": "2022-08-01T09:27:55.186Z"
   },
   {
    "duration": 2884,
    "start_time": "2022-08-01T09:28:01.723Z"
   },
   {
    "duration": 337,
    "start_time": "2022-08-01T09:28:04.608Z"
   },
   {
    "duration": 87,
    "start_time": "2022-08-01T09:28:04.951Z"
   },
   {
    "duration": 143,
    "start_time": "2022-08-01T09:28:05.044Z"
   },
   {
    "duration": 39,
    "start_time": "2022-08-01T09:28:05.188Z"
   },
   {
    "duration": 320,
    "start_time": "2022-08-01T09:28:05.229Z"
   },
   {
    "duration": 213,
    "start_time": "2022-08-01T09:28:34.984Z"
   },
   {
    "duration": 121,
    "start_time": "2022-08-01T09:29:14.441Z"
   },
   {
    "duration": 4,
    "start_time": "2022-08-01T09:29:22.913Z"
   },
   {
    "duration": 48,
    "start_time": "2022-08-01T09:29:23.090Z"
   },
   {
    "duration": 3,
    "start_time": "2022-08-01T09:29:23.274Z"
   },
   {
    "duration": 14,
    "start_time": "2022-08-01T09:29:23.435Z"
   },
   {
    "duration": 12,
    "start_time": "2022-08-01T09:29:23.637Z"
   },
   {
    "duration": 7,
    "start_time": "2022-08-01T09:29:24.463Z"
   },
   {
    "duration": 4,
    "start_time": "2022-08-01T09:29:24.845Z"
   },
   {
    "duration": 11,
    "start_time": "2022-08-01T09:29:26.491Z"
   },
   {
    "duration": 25,
    "start_time": "2022-08-01T09:30:04.319Z"
   },
   {
    "duration": 10,
    "start_time": "2022-08-01T09:30:10.447Z"
   },
   {
    "duration": 12,
    "start_time": "2022-08-01T09:30:28.689Z"
   },
   {
    "duration": 10,
    "start_time": "2022-08-01T09:30:56.976Z"
   },
   {
    "duration": 9,
    "start_time": "2022-08-01T09:34:30.045Z"
   },
   {
    "duration": 9,
    "start_time": "2022-08-01T09:34:51.493Z"
   },
   {
    "duration": 11,
    "start_time": "2022-08-01T09:35:18.978Z"
   },
   {
    "duration": 18,
    "start_time": "2022-08-01T09:36:31.759Z"
   },
   {
    "duration": 6,
    "start_time": "2022-08-01T09:36:42.578Z"
   },
   {
    "duration": 41,
    "start_time": "2022-08-01T09:36:42.752Z"
   },
   {
    "duration": 4,
    "start_time": "2022-08-01T09:36:42.980Z"
   },
   {
    "duration": 26,
    "start_time": "2022-08-01T09:36:43.310Z"
   },
   {
    "duration": 12,
    "start_time": "2022-08-01T09:36:43.537Z"
   },
   {
    "duration": 8,
    "start_time": "2022-08-01T09:36:43.936Z"
   },
   {
    "duration": 7,
    "start_time": "2022-08-01T09:36:44.123Z"
   },
   {
    "duration": 21,
    "start_time": "2022-08-01T09:36:44.314Z"
   },
   {
    "duration": 14,
    "start_time": "2022-08-01T09:36:44.658Z"
   },
   {
    "duration": 19,
    "start_time": "2022-08-01T09:36:44.917Z"
   },
   {
    "duration": 9,
    "start_time": "2022-08-01T09:36:45.137Z"
   },
   {
    "duration": 124,
    "start_time": "2022-08-01T09:36:54.847Z"
   },
   {
    "duration": 7,
    "start_time": "2022-08-01T09:36:55.238Z"
   },
   {
    "duration": 11,
    "start_time": "2022-08-01T09:36:56.520Z"
   },
   {
    "duration": 6,
    "start_time": "2022-08-01T09:37:14.023Z"
   },
   {
    "duration": 15,
    "start_time": "2022-08-01T09:37:14.536Z"
   },
   {
    "duration": 261,
    "start_time": "2022-08-01T09:37:27.342Z"
   },
   {
    "duration": 6,
    "start_time": "2022-08-01T09:38:58.459Z"
   },
   {
    "duration": 6,
    "start_time": "2022-08-01T09:39:14.677Z"
   },
   {
    "duration": 25,
    "start_time": "2022-08-01T09:40:07.047Z"
   },
   {
    "duration": 7,
    "start_time": "2022-08-01T09:40:11.396Z"
   },
   {
    "duration": 699,
    "start_time": "2022-08-01T09:40:28.555Z"
   },
   {
    "duration": 6863,
    "start_time": "2022-08-01T09:40:54.561Z"
   },
   {
    "duration": 8757,
    "start_time": "2022-08-01T09:41:12.452Z"
   },
   {
    "duration": 430,
    "start_time": "2022-08-01T09:41:34.410Z"
   },
   {
    "duration": 3121,
    "start_time": "2022-08-01T09:43:17.108Z"
   },
   {
    "duration": 404,
    "start_time": "2022-08-01T09:43:37.356Z"
   },
   {
    "duration": 4,
    "start_time": "2022-08-01T09:45:32.092Z"
   },
   {
    "duration": 11,
    "start_time": "2022-08-01T09:45:32.562Z"
   },
   {
    "duration": 11,
    "start_time": "2022-08-01T09:45:32.884Z"
   },
   {
    "duration": 1531,
    "start_time": "2022-08-01T09:45:39.090Z"
   },
   {
    "duration": 62,
    "start_time": "2022-08-01T09:45:40.626Z"
   },
   {
    "duration": 3,
    "start_time": "2022-08-01T09:45:40.689Z"
   },
   {
    "duration": 85,
    "start_time": "2022-08-01T09:45:40.695Z"
   },
   {
    "duration": 54,
    "start_time": "2022-08-01T09:45:40.782Z"
   },
   {
    "duration": 20,
    "start_time": "2022-08-01T09:45:40.843Z"
   },
   {
    "duration": 17,
    "start_time": "2022-08-01T09:45:40.865Z"
   },
   {
    "duration": 26,
    "start_time": "2022-08-01T09:45:40.884Z"
   },
   {
    "duration": 50,
    "start_time": "2022-08-01T09:45:40.912Z"
   },
   {
    "duration": 31,
    "start_time": "2022-08-01T09:45:40.964Z"
   },
   {
    "duration": 24,
    "start_time": "2022-08-01T09:45:40.997Z"
   },
   {
    "duration": 1246,
    "start_time": "2022-08-01T09:45:41.023Z"
   },
   {
    "duration": 0,
    "start_time": "2022-08-01T09:45:42.271Z"
   },
   {
    "duration": 0,
    "start_time": "2022-08-01T09:45:42.273Z"
   },
   {
    "duration": 0,
    "start_time": "2022-08-01T09:45:42.274Z"
   },
   {
    "duration": 0,
    "start_time": "2022-08-01T09:45:42.274Z"
   },
   {
    "duration": 0,
    "start_time": "2022-08-01T09:45:42.276Z"
   },
   {
    "duration": 0,
    "start_time": "2022-08-01T09:45:42.277Z"
   },
   {
    "duration": 0,
    "start_time": "2022-08-01T09:45:42.278Z"
   },
   {
    "duration": 0,
    "start_time": "2022-08-01T09:45:42.279Z"
   },
   {
    "duration": 0,
    "start_time": "2022-08-01T09:45:42.281Z"
   },
   {
    "duration": 0,
    "start_time": "2022-08-01T09:45:42.282Z"
   },
   {
    "duration": 1,
    "start_time": "2022-08-01T09:45:42.282Z"
   },
   {
    "duration": 0,
    "start_time": "2022-08-01T09:45:42.284Z"
   },
   {
    "duration": 0,
    "start_time": "2022-08-01T09:45:42.285Z"
   },
   {
    "duration": 0,
    "start_time": "2022-08-01T09:45:42.286Z"
   },
   {
    "duration": 0,
    "start_time": "2022-08-01T09:45:42.287Z"
   },
   {
    "duration": 0,
    "start_time": "2022-08-01T09:45:42.288Z"
   },
   {
    "duration": 0,
    "start_time": "2022-08-01T09:45:42.289Z"
   },
   {
    "duration": 0,
    "start_time": "2022-08-01T09:45:42.290Z"
   },
   {
    "duration": 0,
    "start_time": "2022-08-01T09:45:42.291Z"
   },
   {
    "duration": 0,
    "start_time": "2022-08-01T09:45:42.292Z"
   },
   {
    "duration": 0,
    "start_time": "2022-08-01T09:45:42.293Z"
   },
   {
    "duration": 0,
    "start_time": "2022-08-01T09:45:42.295Z"
   },
   {
    "duration": 0,
    "start_time": "2022-08-01T09:45:42.295Z"
   },
   {
    "duration": 0,
    "start_time": "2022-08-01T09:45:42.297Z"
   },
   {
    "duration": 0,
    "start_time": "2022-08-01T09:45:42.298Z"
   },
   {
    "duration": 51,
    "start_time": "2022-08-01T09:46:04.787Z"
   },
   {
    "duration": 3,
    "start_time": "2022-08-01T09:46:05.252Z"
   },
   {
    "duration": 15,
    "start_time": "2022-08-01T09:46:05.751Z"
   },
   {
    "duration": 13,
    "start_time": "2022-08-01T09:46:06.663Z"
   },
   {
    "duration": 5,
    "start_time": "2022-08-01T09:46:08.339Z"
   },
   {
    "duration": 4,
    "start_time": "2022-08-01T09:46:16.577Z"
   },
   {
    "duration": 16,
    "start_time": "2022-08-01T09:46:44.399Z"
   },
   {
    "duration": 19,
    "start_time": "2022-08-01T09:46:48.191Z"
   },
   {
    "duration": 15,
    "start_time": "2022-08-01T09:46:57.900Z"
   },
   {
    "duration": 65,
    "start_time": "2022-08-01T09:47:01.686Z"
   },
   {
    "duration": 14,
    "start_time": "2022-08-01T09:47:06.285Z"
   },
   {
    "duration": 58,
    "start_time": "2022-08-01T09:47:36.570Z"
   },
   {
    "duration": 4,
    "start_time": "2022-08-01T09:47:40.848Z"
   },
   {
    "duration": 54,
    "start_time": "2022-08-01T09:47:40.995Z"
   },
   {
    "duration": 2,
    "start_time": "2022-08-01T09:47:41.294Z"
   },
   {
    "duration": 15,
    "start_time": "2022-08-01T09:47:41.472Z"
   },
   {
    "duration": 14,
    "start_time": "2022-08-01T09:47:41.644Z"
   },
   {
    "duration": 6,
    "start_time": "2022-08-01T09:47:42.005Z"
   },
   {
    "duration": 64,
    "start_time": "2022-08-01T09:47:42.212Z"
   },
   {
    "duration": 5,
    "start_time": "2022-08-01T09:47:42.464Z"
   },
   {
    "duration": 14,
    "start_time": "2022-08-01T09:47:46.262Z"
   },
   {
    "duration": 4,
    "start_time": "2022-08-01T09:47:50.941Z"
   },
   {
    "duration": 45,
    "start_time": "2022-08-01T09:47:51.209Z"
   },
   {
    "duration": 3,
    "start_time": "2022-08-01T09:47:51.637Z"
   },
   {
    "duration": 16,
    "start_time": "2022-08-01T09:47:51.810Z"
   },
   {
    "duration": 15,
    "start_time": "2022-08-01T09:47:51.994Z"
   },
   {
    "duration": 6,
    "start_time": "2022-08-01T09:47:52.443Z"
   },
   {
    "duration": 4,
    "start_time": "2022-08-01T09:47:52.692Z"
   },
   {
    "duration": 3,
    "start_time": "2022-08-01T09:47:53.093Z"
   },
   {
    "duration": 3,
    "start_time": "2022-08-01T09:48:20.853Z"
   },
   {
    "duration": 12,
    "start_time": "2022-08-01T09:50:26.901Z"
   },
   {
    "duration": 12,
    "start_time": "2022-08-01T09:50:27.783Z"
   },
   {
    "duration": 10,
    "start_time": "2022-08-01T09:50:28.759Z"
   },
   {
    "duration": 1064,
    "start_time": "2022-08-01T09:50:34.718Z"
   },
   {
    "duration": 10,
    "start_time": "2022-08-01T09:50:43.089Z"
   },
   {
    "duration": 9,
    "start_time": "2022-08-01T09:52:05.911Z"
   },
   {
    "duration": 873,
    "start_time": "2022-08-01T09:52:28.779Z"
   },
   {
    "duration": 0,
    "start_time": "2022-08-01T09:52:29.654Z"
   },
   {
    "duration": 141,
    "start_time": "2022-08-01T09:52:35.262Z"
   },
   {
    "duration": 5,
    "start_time": "2022-08-01T09:52:45.257Z"
   },
   {
    "duration": 6,
    "start_time": "2022-08-01T09:53:03.168Z"
   },
   {
    "duration": 7,
    "start_time": "2022-08-01T09:53:21.234Z"
   },
   {
    "duration": 7,
    "start_time": "2022-08-01T09:53:51.835Z"
   },
   {
    "duration": 9,
    "start_time": "2022-08-01T09:53:54.553Z"
   },
   {
    "duration": 15,
    "start_time": "2022-08-01T09:54:16.398Z"
   },
   {
    "duration": 9,
    "start_time": "2022-08-01T09:54:26.556Z"
   },
   {
    "duration": 11,
    "start_time": "2022-08-01T09:54:33.624Z"
   },
   {
    "duration": 3,
    "start_time": "2022-08-01T09:54:44.136Z"
   },
   {
    "duration": 41,
    "start_time": "2022-08-01T09:54:44.375Z"
   },
   {
    "duration": 3,
    "start_time": "2022-08-01T09:54:44.634Z"
   },
   {
    "duration": 13,
    "start_time": "2022-08-01T09:54:44.866Z"
   },
   {
    "duration": 13,
    "start_time": "2022-08-01T09:54:45.096Z"
   },
   {
    "duration": 6,
    "start_time": "2022-08-01T09:54:45.513Z"
   },
   {
    "duration": 6,
    "start_time": "2022-08-01T09:54:45.689Z"
   },
   {
    "duration": 4,
    "start_time": "2022-08-01T09:54:45.875Z"
   },
   {
    "duration": 11,
    "start_time": "2022-08-01T09:54:46.068Z"
   },
   {
    "duration": 12,
    "start_time": "2022-08-01T09:54:46.265Z"
   },
   {
    "duration": 9,
    "start_time": "2022-08-01T09:54:46.458Z"
   },
   {
    "duration": 126,
    "start_time": "2022-08-01T09:54:46.659Z"
   },
   {
    "duration": 5,
    "start_time": "2022-08-01T09:54:46.866Z"
   },
   {
    "duration": 6,
    "start_time": "2022-08-01T09:54:47.074Z"
   },
   {
    "duration": 9,
    "start_time": "2022-08-01T09:54:47.281Z"
   },
   {
    "duration": 11,
    "start_time": "2022-08-01T09:54:47.506Z"
   },
   {
    "duration": 870,
    "start_time": "2022-08-01T09:54:47.923Z"
   },
   {
    "duration": 11,
    "start_time": "2022-08-01T09:55:09.742Z"
   },
   {
    "duration": 10,
    "start_time": "2022-08-01T09:55:14.359Z"
   },
   {
    "duration": 5,
    "start_time": "2022-08-01T09:55:14.761Z"
   },
   {
    "duration": 11,
    "start_time": "2022-08-01T09:55:18.883Z"
   },
   {
    "duration": 4,
    "start_time": "2022-08-01T09:55:21.949Z"
   },
   {
    "duration": 41,
    "start_time": "2022-08-01T09:55:22.100Z"
   },
   {
    "duration": 2,
    "start_time": "2022-08-01T09:55:22.271Z"
   },
   {
    "duration": 14,
    "start_time": "2022-08-01T09:55:22.438Z"
   },
   {
    "duration": 13,
    "start_time": "2022-08-01T09:55:22.596Z"
   },
   {
    "duration": 5,
    "start_time": "2022-08-01T09:55:22.902Z"
   },
   {
    "duration": 4,
    "start_time": "2022-08-01T09:55:23.174Z"
   },
   {
    "duration": 4,
    "start_time": "2022-08-01T09:55:23.355Z"
   },
   {
    "duration": 11,
    "start_time": "2022-08-01T09:55:23.538Z"
   },
   {
    "duration": 10,
    "start_time": "2022-08-01T09:55:23.718Z"
   },
   {
    "duration": 12,
    "start_time": "2022-08-01T09:55:24.111Z"
   },
   {
    "duration": 122,
    "start_time": "2022-08-01T09:55:24.326Z"
   },
   {
    "duration": 5,
    "start_time": "2022-08-01T09:55:24.558Z"
   },
   {
    "duration": 10,
    "start_time": "2022-08-01T09:55:24.833Z"
   },
   {
    "duration": 10,
    "start_time": "2022-08-01T09:55:25.056Z"
   },
   {
    "duration": 10,
    "start_time": "2022-08-01T09:55:25.504Z"
   },
   {
    "duration": 5,
    "start_time": "2022-08-01T09:55:36.456Z"
   },
   {
    "duration": 688,
    "start_time": "2022-08-01T09:55:37.193Z"
   },
   {
    "duration": 5,
    "start_time": "2022-08-01T09:55:37.978Z"
   },
   {
    "duration": 772,
    "start_time": "2022-08-01T09:55:39.005Z"
   },
   {
    "duration": 1239,
    "start_time": "2022-08-01T09:55:41.674Z"
   },
   {
    "duration": 10,
    "start_time": "2022-08-01T09:58:47.529Z"
   },
   {
    "duration": 726,
    "start_time": "2022-08-01T09:58:48.931Z"
   },
   {
    "duration": 5,
    "start_time": "2022-08-01T09:58:50.067Z"
   },
   {
    "duration": 880,
    "start_time": "2022-08-01T09:58:50.746Z"
   },
   {
    "duration": 11,
    "start_time": "2022-08-01T09:59:09.378Z"
   },
   {
    "duration": 656,
    "start_time": "2022-08-01T09:59:10.156Z"
   },
   {
    "duration": 11,
    "start_time": "2022-08-01T09:59:23.079Z"
   },
   {
    "duration": 1458,
    "start_time": "2022-08-01T10:02:36.550Z"
   },
   {
    "duration": 0,
    "start_time": "2022-08-01T10:02:38.010Z"
   },
   {
    "duration": 5,
    "start_time": "2022-08-01T10:02:38.119Z"
   },
   {
    "duration": 795,
    "start_time": "2022-08-01T10:02:38.835Z"
   },
   {
    "duration": 6,
    "start_time": "2022-08-01T10:03:11.319Z"
   },
   {
    "duration": 8,
    "start_time": "2022-08-01T10:03:17.861Z"
   },
   {
    "duration": 5,
    "start_time": "2022-08-01T10:03:26.207Z"
   },
   {
    "duration": 1711,
    "start_time": "2022-08-01T10:03:39.144Z"
   },
   {
    "duration": 5,
    "start_time": "2022-08-01T10:03:46.117Z"
   },
   {
    "duration": 48,
    "start_time": "2022-08-01T10:03:46.267Z"
   },
   {
    "duration": 3,
    "start_time": "2022-08-01T10:03:46.437Z"
   },
   {
    "duration": 19,
    "start_time": "2022-08-01T10:03:46.578Z"
   },
   {
    "duration": 23,
    "start_time": "2022-08-01T10:03:46.722Z"
   },
   {
    "duration": 6,
    "start_time": "2022-08-01T10:03:47.179Z"
   },
   {
    "duration": 4,
    "start_time": "2022-08-01T10:03:47.386Z"
   },
   {
    "duration": 4,
    "start_time": "2022-08-01T10:03:47.555Z"
   },
   {
    "duration": 12,
    "start_time": "2022-08-01T10:03:47.996Z"
   },
   {
    "duration": 11,
    "start_time": "2022-08-01T10:03:48.181Z"
   },
   {
    "duration": 11,
    "start_time": "2022-08-01T10:03:48.348Z"
   },
   {
    "duration": 137,
    "start_time": "2022-08-01T10:03:48.542Z"
   },
   {
    "duration": 1780,
    "start_time": "2022-08-01T10:03:48.986Z"
   },
   {
    "duration": 0,
    "start_time": "2022-08-01T10:03:50.768Z"
   },
   {
    "duration": 1465,
    "start_time": "2022-08-01T10:03:58.118Z"
   },
   {
    "duration": 13,
    "start_time": "2022-08-01T10:04:08.999Z"
   },
   {
    "duration": 7,
    "start_time": "2022-08-01T10:04:14.622Z"
   },
   {
    "duration": 14,
    "start_time": "2022-08-01T10:04:20.920Z"
   },
   {
    "duration": 4,
    "start_time": "2022-08-01T10:04:29.249Z"
   },
   {
    "duration": 52,
    "start_time": "2022-08-01T10:04:29.401Z"
   },
   {
    "duration": 3,
    "start_time": "2022-08-01T10:04:29.544Z"
   },
   {
    "duration": 13,
    "start_time": "2022-08-01T10:04:29.698Z"
   },
   {
    "duration": 13,
    "start_time": "2022-08-01T10:04:29.873Z"
   },
   {
    "duration": 7,
    "start_time": "2022-08-01T10:04:30.192Z"
   },
   {
    "duration": 5,
    "start_time": "2022-08-01T10:04:30.354Z"
   },
   {
    "duration": 4,
    "start_time": "2022-08-01T10:04:30.658Z"
   },
   {
    "duration": 18,
    "start_time": "2022-08-01T10:04:30.820Z"
   },
   {
    "duration": 10,
    "start_time": "2022-08-01T10:04:31.106Z"
   },
   {
    "duration": 8,
    "start_time": "2022-08-01T10:04:31.355Z"
   },
   {
    "duration": 218,
    "start_time": "2022-08-01T10:04:31.578Z"
   },
   {
    "duration": 6,
    "start_time": "2022-08-01T10:04:32.404Z"
   },
   {
    "duration": 9,
    "start_time": "2022-08-01T10:04:32.814Z"
   },
   {
    "duration": 7,
    "start_time": "2022-08-01T10:04:38.058Z"
   },
   {
    "duration": 6,
    "start_time": "2022-08-01T10:04:47.571Z"
   },
   {
    "duration": 9,
    "start_time": "2022-08-01T10:04:49.877Z"
   },
   {
    "duration": 9,
    "start_time": "2022-08-01T10:04:53.318Z"
   },
   {
    "duration": 10,
    "start_time": "2022-08-01T10:05:10.347Z"
   },
   {
    "duration": 9,
    "start_time": "2022-08-01T10:05:10.810Z"
   },
   {
    "duration": 142,
    "start_time": "2022-08-01T10:05:11.513Z"
   },
   {
    "duration": 5,
    "start_time": "2022-08-01T10:05:12.409Z"
   },
   {
    "duration": 6,
    "start_time": "2022-08-01T10:05:13.250Z"
   },
   {
    "duration": 12,
    "start_time": "2022-08-01T10:05:19.751Z"
   },
   {
    "duration": 10,
    "start_time": "2022-08-01T10:05:20.297Z"
   },
   {
    "duration": 12,
    "start_time": "2022-08-01T10:05:26.498Z"
   },
   {
    "duration": 10,
    "start_time": "2022-08-01T10:05:27.281Z"
   },
   {
    "duration": 4,
    "start_time": "2022-08-01T10:05:31.076Z"
   },
   {
    "duration": 42,
    "start_time": "2022-08-01T10:05:31.250Z"
   },
   {
    "duration": 3,
    "start_time": "2022-08-01T10:05:31.378Z"
   },
   {
    "duration": 22,
    "start_time": "2022-08-01T10:05:31.523Z"
   },
   {
    "duration": 14,
    "start_time": "2022-08-01T10:05:31.690Z"
   },
   {
    "duration": 7,
    "start_time": "2022-08-01T10:05:32.059Z"
   },
   {
    "duration": 5,
    "start_time": "2022-08-01T10:05:32.253Z"
   },
   {
    "duration": 3,
    "start_time": "2022-08-01T10:05:32.403Z"
   },
   {
    "duration": 11,
    "start_time": "2022-08-01T10:05:32.580Z"
   },
   {
    "duration": 9,
    "start_time": "2022-08-01T10:05:32.763Z"
   },
   {
    "duration": 12,
    "start_time": "2022-08-01T10:05:32.953Z"
   },
   {
    "duration": 148,
    "start_time": "2022-08-01T10:05:33.143Z"
   },
   {
    "duration": 5,
    "start_time": "2022-08-01T10:05:33.380Z"
   },
   {
    "duration": 7,
    "start_time": "2022-08-01T10:05:33.884Z"
   },
   {
    "duration": 9,
    "start_time": "2022-08-01T10:05:34.478Z"
   },
   {
    "duration": 8,
    "start_time": "2022-08-01T10:05:34.765Z"
   },
   {
    "duration": 1577,
    "start_time": "2022-08-01T10:05:35.807Z"
   },
   {
    "duration": 5,
    "start_time": "2022-08-01T10:05:44.763Z"
   },
   {
    "duration": 8,
    "start_time": "2022-08-01T10:05:48.249Z"
   },
   {
    "duration": 15,
    "start_time": "2022-08-01T10:05:49.853Z"
   },
   {
    "duration": 14,
    "start_time": "2022-08-01T10:06:44.153Z"
   },
   {
    "duration": 9,
    "start_time": "2022-08-01T10:06:46.660Z"
   },
   {
    "duration": 589,
    "start_time": "2022-08-01T10:07:02.649Z"
   },
   {
    "duration": 6882,
    "start_time": "2022-08-01T10:07:12.255Z"
   },
   {
    "duration": 9021,
    "start_time": "2022-08-01T10:07:19.142Z"
   },
   {
    "duration": 158,
    "start_time": "2022-08-01T10:07:28.165Z"
   },
   {
    "duration": 61,
    "start_time": "2022-08-01T10:08:18.197Z"
   },
   {
    "duration": 26,
    "start_time": "2022-08-01T10:08:19.200Z"
   },
   {
    "duration": 1105,
    "start_time": "2022-08-01T10:08:30.150Z"
   },
   {
    "duration": 6827,
    "start_time": "2022-08-01T10:08:54.074Z"
   },
   {
    "duration": 3101,
    "start_time": "2022-08-01T10:09:00.903Z"
   },
   {
    "duration": 37,
    "start_time": "2022-08-01T10:09:26.309Z"
   },
   {
    "duration": 115,
    "start_time": "2022-08-01T10:09:56.512Z"
   },
   {
    "duration": 8,
    "start_time": "2022-08-01T10:12:52.764Z"
   },
   {
    "duration": 5,
    "start_time": "2022-08-01T10:13:48.398Z"
   },
   {
    "duration": 9,
    "start_time": "2022-08-01T10:15:10.709Z"
   },
   {
    "duration": 12,
    "start_time": "2022-08-01T10:15:12.620Z"
   },
   {
    "duration": 5,
    "start_time": "2022-08-01T10:15:12.898Z"
   },
   {
    "duration": 1094,
    "start_time": "2022-08-01T10:15:13.115Z"
   },
   {
    "duration": 0,
    "start_time": "2022-08-01T10:15:14.210Z"
   },
   {
    "duration": 0,
    "start_time": "2022-08-01T10:15:14.211Z"
   },
   {
    "duration": 0,
    "start_time": "2022-08-01T10:15:14.212Z"
   },
   {
    "duration": 0,
    "start_time": "2022-08-01T10:15:14.213Z"
   },
   {
    "duration": 1578,
    "start_time": "2022-08-01T10:15:14.289Z"
   },
   {
    "duration": 1474,
    "start_time": "2022-08-01T10:16:24.565Z"
   },
   {
    "duration": 43,
    "start_time": "2022-08-01T10:16:26.042Z"
   },
   {
    "duration": 2,
    "start_time": "2022-08-01T10:16:26.087Z"
   },
   {
    "duration": 21,
    "start_time": "2022-08-01T10:16:26.091Z"
   },
   {
    "duration": 17,
    "start_time": "2022-08-01T10:16:26.114Z"
   },
   {
    "duration": 9,
    "start_time": "2022-08-01T10:16:26.133Z"
   },
   {
    "duration": 5,
    "start_time": "2022-08-01T10:16:26.144Z"
   },
   {
    "duration": 5,
    "start_time": "2022-08-01T10:16:26.152Z"
   },
   {
    "duration": 15,
    "start_time": "2022-08-01T10:16:26.158Z"
   },
   {
    "duration": 11,
    "start_time": "2022-08-01T10:16:26.175Z"
   },
   {
    "duration": 9,
    "start_time": "2022-08-01T10:16:26.188Z"
   },
   {
    "duration": 172,
    "start_time": "2022-08-01T10:16:26.199Z"
   },
   {
    "duration": 5,
    "start_time": "2022-08-01T10:16:26.373Z"
   },
   {
    "duration": 9,
    "start_time": "2022-08-01T10:16:26.380Z"
   },
   {
    "duration": 8,
    "start_time": "2022-08-01T10:16:26.391Z"
   },
   {
    "duration": 31,
    "start_time": "2022-08-01T10:16:26.401Z"
   },
   {
    "duration": 13,
    "start_time": "2022-08-01T10:16:26.434Z"
   },
   {
    "duration": 6,
    "start_time": "2022-08-01T10:16:26.449Z"
   },
   {
    "duration": 16,
    "start_time": "2022-08-01T10:16:26.458Z"
   },
   {
    "duration": 13,
    "start_time": "2022-08-01T10:16:26.475Z"
   },
   {
    "duration": 577,
    "start_time": "2022-08-01T10:16:26.490Z"
   },
   {
    "duration": 6408,
    "start_time": "2022-08-01T10:16:27.068Z"
   },
   {
    "duration": 8365,
    "start_time": "2022-08-01T10:16:33.477Z"
   },
   {
    "duration": 86,
    "start_time": "2022-08-01T10:16:41.843Z"
   },
   {
    "duration": 155,
    "start_time": "2022-08-01T10:16:41.930Z"
   },
   {
    "duration": 109,
    "start_time": "2022-08-01T10:16:42.129Z"
   },
   {
    "duration": 1229,
    "start_time": "2022-08-01T10:16:42.241Z"
   },
   {
    "duration": 6533,
    "start_time": "2022-08-01T10:16:43.473Z"
   },
   {
    "duration": 2891,
    "start_time": "2022-08-01T10:16:50.008Z"
   },
   {
    "duration": 142,
    "start_time": "2022-08-01T10:16:52.900Z"
   },
   {
    "duration": 87,
    "start_time": "2022-08-01T10:16:53.044Z"
   },
   {
    "duration": 157,
    "start_time": "2022-08-01T10:16:53.134Z"
   },
   {
    "duration": 38,
    "start_time": "2022-08-01T10:16:53.293Z"
   },
   {
    "duration": 292,
    "start_time": "2022-08-01T10:16:53.333Z"
   },
   {
    "duration": 92,
    "start_time": "2022-08-01T10:20:18.834Z"
   },
   {
    "duration": 215,
    "start_time": "2022-08-01T10:20:19.121Z"
   },
   {
    "duration": 1017,
    "start_time": "2022-08-01T10:28:16.498Z"
   },
   {
    "duration": 6342,
    "start_time": "2022-08-01T10:28:17.522Z"
   },
   {
    "duration": 2957,
    "start_time": "2022-08-01T10:28:23.866Z"
   },
   {
    "duration": 101,
    "start_time": "2022-08-01T10:28:26.825Z"
   },
   {
    "duration": 153,
    "start_time": "2022-08-01T10:29:57.445Z"
   },
   {
    "duration": 1474,
    "start_time": "2022-08-01T10:30:26.606Z"
   },
   {
    "duration": 45,
    "start_time": "2022-08-01T10:30:28.082Z"
   },
   {
    "duration": 3,
    "start_time": "2022-08-01T10:30:28.128Z"
   },
   {
    "duration": 22,
    "start_time": "2022-08-01T10:30:28.133Z"
   },
   {
    "duration": 14,
    "start_time": "2022-08-01T10:30:28.157Z"
   },
   {
    "duration": 5,
    "start_time": "2022-08-01T10:30:28.173Z"
   },
   {
    "duration": 7,
    "start_time": "2022-08-01T10:30:28.180Z"
   },
   {
    "duration": 8,
    "start_time": "2022-08-01T10:30:28.188Z"
   },
   {
    "duration": 13,
    "start_time": "2022-08-01T10:30:28.223Z"
   },
   {
    "duration": 11,
    "start_time": "2022-08-01T10:30:28.239Z"
   },
   {
    "duration": 10,
    "start_time": "2022-08-01T10:30:28.252Z"
   },
   {
    "duration": 164,
    "start_time": "2022-08-01T10:30:28.263Z"
   },
   {
    "duration": 5,
    "start_time": "2022-08-01T10:30:28.429Z"
   },
   {
    "duration": 11,
    "start_time": "2022-08-01T10:30:28.436Z"
   },
   {
    "duration": 13,
    "start_time": "2022-08-01T10:30:28.448Z"
   },
   {
    "duration": 7,
    "start_time": "2022-08-01T10:30:28.463Z"
   },
   {
    "duration": 10,
    "start_time": "2022-08-01T10:30:28.472Z"
   },
   {
    "duration": 10,
    "start_time": "2022-08-01T10:30:28.484Z"
   },
   {
    "duration": 135,
    "start_time": "2022-08-01T10:30:28.495Z"
   },
   {
    "duration": 0,
    "start_time": "2022-08-01T10:30:28.631Z"
   },
   {
    "duration": 0,
    "start_time": "2022-08-01T10:30:28.633Z"
   },
   {
    "duration": 0,
    "start_time": "2022-08-01T10:30:28.634Z"
   },
   {
    "duration": 0,
    "start_time": "2022-08-01T10:30:28.635Z"
   },
   {
    "duration": 0,
    "start_time": "2022-08-01T10:30:28.637Z"
   },
   {
    "duration": 0,
    "start_time": "2022-08-01T10:30:28.638Z"
   },
   {
    "duration": 0,
    "start_time": "2022-08-01T10:30:28.639Z"
   },
   {
    "duration": 0,
    "start_time": "2022-08-01T10:30:28.641Z"
   },
   {
    "duration": 0,
    "start_time": "2022-08-01T10:30:28.642Z"
   },
   {
    "duration": 0,
    "start_time": "2022-08-01T10:30:28.643Z"
   },
   {
    "duration": 0,
    "start_time": "2022-08-01T10:30:28.644Z"
   },
   {
    "duration": 0,
    "start_time": "2022-08-01T10:30:28.645Z"
   },
   {
    "duration": 0,
    "start_time": "2022-08-01T10:30:28.647Z"
   },
   {
    "duration": 0,
    "start_time": "2022-08-01T10:30:28.648Z"
   },
   {
    "duration": 0,
    "start_time": "2022-08-01T10:30:28.649Z"
   },
   {
    "duration": 0,
    "start_time": "2022-08-01T10:30:28.650Z"
   },
   {
    "duration": 1413,
    "start_time": "2022-08-01T10:30:55.179Z"
   },
   {
    "duration": 43,
    "start_time": "2022-08-01T10:30:56.594Z"
   },
   {
    "duration": 2,
    "start_time": "2022-08-01T10:30:56.639Z"
   },
   {
    "duration": 20,
    "start_time": "2022-08-01T10:30:56.643Z"
   },
   {
    "duration": 13,
    "start_time": "2022-08-01T10:30:56.665Z"
   },
   {
    "duration": 7,
    "start_time": "2022-08-01T10:30:56.679Z"
   },
   {
    "duration": 7,
    "start_time": "2022-08-01T10:30:56.688Z"
   },
   {
    "duration": 26,
    "start_time": "2022-08-01T10:30:56.697Z"
   },
   {
    "duration": 13,
    "start_time": "2022-08-01T10:30:56.725Z"
   },
   {
    "duration": 10,
    "start_time": "2022-08-01T10:30:56.741Z"
   },
   {
    "duration": 9,
    "start_time": "2022-08-01T10:30:56.753Z"
   },
   {
    "duration": 165,
    "start_time": "2022-08-01T10:30:56.764Z"
   },
   {
    "duration": 7,
    "start_time": "2022-08-01T10:30:56.931Z"
   },
   {
    "duration": 12,
    "start_time": "2022-08-01T10:30:56.939Z"
   },
   {
    "duration": 8,
    "start_time": "2022-08-01T10:30:56.953Z"
   },
   {
    "duration": 6,
    "start_time": "2022-08-01T10:30:56.963Z"
   },
   {
    "duration": 22,
    "start_time": "2022-08-01T10:30:56.971Z"
   },
   {
    "duration": 8,
    "start_time": "2022-08-01T10:30:56.995Z"
   },
   {
    "duration": 31,
    "start_time": "2022-08-01T10:30:57.005Z"
   },
   {
    "duration": 7,
    "start_time": "2022-08-01T10:30:57.038Z"
   },
   {
    "duration": 558,
    "start_time": "2022-08-01T10:30:57.047Z"
   },
   {
    "duration": 6286,
    "start_time": "2022-08-01T10:30:57.607Z"
   },
   {
    "duration": 8206,
    "start_time": "2022-08-01T10:31:03.895Z"
   },
   {
    "duration": 122,
    "start_time": "2022-08-01T10:31:12.103Z"
   },
   {
    "duration": 197,
    "start_time": "2022-08-01T10:31:12.226Z"
   },
   {
    "duration": 109,
    "start_time": "2022-08-01T10:31:12.426Z"
   },
   {
    "duration": 1189,
    "start_time": "2022-08-01T10:31:12.537Z"
   },
   {
    "duration": 6412,
    "start_time": "2022-08-01T10:31:13.730Z"
   },
   {
    "duration": 2805,
    "start_time": "2022-08-01T10:31:20.144Z"
   },
   {
    "duration": 173,
    "start_time": "2022-08-01T10:31:22.951Z"
   },
   {
    "duration": 225,
    "start_time": "2022-08-01T10:31:23.126Z"
   },
   {
    "duration": 0,
    "start_time": "2022-08-01T10:31:23.353Z"
   },
   {
    "duration": 0,
    "start_time": "2022-08-01T10:31:23.354Z"
   },
   {
    "duration": 0,
    "start_time": "2022-08-01T10:31:23.355Z"
   },
   {
    "duration": 0,
    "start_time": "2022-08-01T10:31:23.356Z"
   },
   {
    "duration": 9,
    "start_time": "2022-08-01T10:31:44.359Z"
   },
   {
    "duration": 46,
    "start_time": "2022-08-01T10:31:44.647Z"
   },
   {
    "duration": 26,
    "start_time": "2022-08-01T10:31:44.897Z"
   },
   {
    "duration": 186,
    "start_time": "2022-08-01T10:31:45.130Z"
   },
   {
    "duration": 204,
    "start_time": "2022-08-01T10:31:54.214Z"
   },
   {
    "duration": 274,
    "start_time": "2022-08-01T10:32:03.239Z"
   },
   {
    "duration": 189,
    "start_time": "2022-08-01T10:32:06.846Z"
   },
   {
    "duration": 193,
    "start_time": "2022-08-01T10:32:12.791Z"
   },
   {
    "duration": 192,
    "start_time": "2022-08-01T10:32:16.714Z"
   },
   {
    "duration": 193,
    "start_time": "2022-08-01T10:32:18.475Z"
   },
   {
    "duration": 196,
    "start_time": "2022-08-01T10:32:34.321Z"
   },
   {
    "duration": 8,
    "start_time": "2022-08-01T10:34:27.066Z"
   },
   {
    "duration": 46,
    "start_time": "2022-08-01T10:34:27.313Z"
   },
   {
    "duration": 10,
    "start_time": "2022-08-01T10:34:27.580Z"
   },
   {
    "duration": 201,
    "start_time": "2022-08-01T10:34:27.843Z"
   },
   {
    "duration": 10,
    "start_time": "2022-08-01T10:39:35.296Z"
   },
   {
    "duration": 9,
    "start_time": "2022-08-01T10:39:54.250Z"
   },
   {
    "duration": 52,
    "start_time": "2022-08-01T10:39:54.784Z"
   },
   {
    "duration": 47,
    "start_time": "2022-08-01T10:39:54.983Z"
   },
   {
    "duration": 219,
    "start_time": "2022-08-01T10:39:55.263Z"
   },
   {
    "duration": 14,
    "start_time": "2022-08-01T12:05:04.945Z"
   },
   {
    "duration": 7,
    "start_time": "2022-08-01T12:06:06.238Z"
   },
   {
    "duration": 16,
    "start_time": "2022-08-01T12:06:19.900Z"
   },
   {
    "duration": 6,
    "start_time": "2022-08-01T12:07:10.478Z"
   },
   {
    "duration": 10,
    "start_time": "2022-08-01T12:07:11.075Z"
   },
   {
    "duration": 10,
    "start_time": "2022-08-01T12:07:46.569Z"
   },
   {
    "duration": 6,
    "start_time": "2022-08-01T12:07:50.673Z"
   },
   {
    "duration": 10,
    "start_time": "2022-08-01T12:07:50.936Z"
   },
   {
    "duration": 99,
    "start_time": "2022-08-01T12:14:01.252Z"
   },
   {
    "duration": 8,
    "start_time": "2022-08-01T12:14:42.051Z"
   },
   {
    "duration": 11,
    "start_time": "2022-08-01T12:14:44.165Z"
   },
   {
    "duration": 7,
    "start_time": "2022-08-01T12:14:46.801Z"
   },
   {
    "duration": 482,
    "start_time": "2022-08-01T12:14:59.826Z"
   },
   {
    "duration": 1478,
    "start_time": "2022-08-01T12:15:53.482Z"
   },
   {
    "duration": 48,
    "start_time": "2022-08-01T12:15:54.962Z"
   },
   {
    "duration": 26,
    "start_time": "2022-08-01T12:15:55.012Z"
   },
   {
    "duration": 27,
    "start_time": "2022-08-01T12:15:55.041Z"
   },
   {
    "duration": 6,
    "start_time": "2022-08-01T12:15:55.069Z"
   },
   {
    "duration": 7,
    "start_time": "2022-08-01T12:15:55.077Z"
   },
   {
    "duration": 11,
    "start_time": "2022-08-01T12:15:55.086Z"
   },
   {
    "duration": 15,
    "start_time": "2022-08-01T12:15:55.099Z"
   },
   {
    "duration": 19,
    "start_time": "2022-08-01T12:15:55.116Z"
   },
   {
    "duration": 10,
    "start_time": "2022-08-01T12:15:55.139Z"
   },
   {
    "duration": 158,
    "start_time": "2022-08-01T12:15:55.150Z"
   },
   {
    "duration": 5,
    "start_time": "2022-08-01T12:15:55.310Z"
   },
   {
    "duration": 21,
    "start_time": "2022-08-01T12:15:55.324Z"
   },
   {
    "duration": 10,
    "start_time": "2022-08-01T12:15:55.347Z"
   },
   {
    "duration": 12,
    "start_time": "2022-08-01T12:15:55.359Z"
   },
   {
    "duration": 24,
    "start_time": "2022-08-01T12:15:55.373Z"
   },
   {
    "duration": 38,
    "start_time": "2022-08-01T12:15:55.399Z"
   },
   {
    "duration": 14,
    "start_time": "2022-08-01T12:15:55.439Z"
   },
   {
    "duration": 15,
    "start_time": "2022-08-01T12:15:55.455Z"
   },
   {
    "duration": 491,
    "start_time": "2022-08-01T12:15:55.472Z"
   },
   {
    "duration": 5641,
    "start_time": "2022-08-01T12:15:55.965Z"
   },
   {
    "duration": 7454,
    "start_time": "2022-08-01T12:16:01.607Z"
   },
   {
    "duration": 266,
    "start_time": "2022-08-01T12:16:09.063Z"
   },
   {
    "duration": 195,
    "start_time": "2022-08-01T12:16:09.330Z"
   },
   {
    "duration": 102,
    "start_time": "2022-08-01T12:16:09.532Z"
   },
   {
    "duration": 1057,
    "start_time": "2022-08-01T12:16:09.636Z"
   },
   {
    "duration": 5636,
    "start_time": "2022-08-01T12:16:10.695Z"
   },
   {
    "duration": 2731,
    "start_time": "2022-08-01T12:16:16.340Z"
   },
   {
    "duration": 352,
    "start_time": "2022-08-01T12:16:19.074Z"
   },
   {
    "duration": 99,
    "start_time": "2022-08-01T12:16:19.429Z"
   },
   {
    "duration": 54,
    "start_time": "2022-08-01T12:16:19.530Z"
   },
   {
    "duration": 47,
    "start_time": "2022-08-01T12:16:19.586Z"
   },
   {
    "duration": 321,
    "start_time": "2022-08-01T12:16:19.635Z"
   },
   {
    "duration": 2617,
    "start_time": "2022-08-01T12:19:53.637Z"
   },
   {
    "duration": 2493,
    "start_time": "2022-08-01T12:19:56.256Z"
   },
   {
    "duration": 8,
    "start_time": "2022-08-01T12:20:29.694Z"
   },
   {
    "duration": 48,
    "start_time": "2022-08-01T12:20:30.189Z"
   },
   {
    "duration": 88,
    "start_time": "2022-08-01T12:20:31.134Z"
   },
   {
    "duration": 200,
    "start_time": "2022-08-01T12:20:31.774Z"
   },
   {
    "duration": 69,
    "start_time": "2022-08-01T12:23:37.735Z"
   },
   {
    "duration": 563,
    "start_time": "2022-08-01T12:27:47.073Z"
   },
   {
    "duration": 7,
    "start_time": "2022-08-01T12:30:24.440Z"
   },
   {
    "duration": 38,
    "start_time": "2022-08-01T12:30:24.713Z"
   },
   {
    "duration": 12,
    "start_time": "2022-08-01T12:30:25.593Z"
   },
   {
    "duration": 272,
    "start_time": "2022-08-01T12:30:26.168Z"
   },
   {
    "duration": 592,
    "start_time": "2022-08-01T12:33:02.426Z"
   },
   {
    "duration": 1505,
    "start_time": "2022-08-01T12:33:35.590Z"
   },
   {
    "duration": 44,
    "start_time": "2022-08-01T12:33:37.096Z"
   },
   {
    "duration": 18,
    "start_time": "2022-08-01T12:33:37.142Z"
   },
   {
    "duration": 13,
    "start_time": "2022-08-01T12:33:37.162Z"
   },
   {
    "duration": 5,
    "start_time": "2022-08-01T12:33:37.177Z"
   },
   {
    "duration": 5,
    "start_time": "2022-08-01T12:33:37.184Z"
   },
   {
    "duration": 6,
    "start_time": "2022-08-01T12:33:37.191Z"
   },
   {
    "duration": 15,
    "start_time": "2022-08-01T12:33:37.224Z"
   },
   {
    "duration": 15,
    "start_time": "2022-08-01T12:33:37.240Z"
   },
   {
    "duration": 9,
    "start_time": "2022-08-01T12:33:37.258Z"
   },
   {
    "duration": 159,
    "start_time": "2022-08-01T12:33:37.269Z"
   },
   {
    "duration": 6,
    "start_time": "2022-08-01T12:33:37.429Z"
   },
   {
    "duration": 11,
    "start_time": "2022-08-01T12:33:37.436Z"
   },
   {
    "duration": 10,
    "start_time": "2022-08-01T12:33:37.448Z"
   },
   {
    "duration": 5,
    "start_time": "2022-08-01T12:33:37.460Z"
   },
   {
    "duration": 16,
    "start_time": "2022-08-01T12:33:37.467Z"
   },
   {
    "duration": 9,
    "start_time": "2022-08-01T12:33:37.485Z"
   },
   {
    "duration": 35,
    "start_time": "2022-08-01T12:33:37.496Z"
   },
   {
    "duration": 7,
    "start_time": "2022-08-01T12:33:37.533Z"
   },
   {
    "duration": 456,
    "start_time": "2022-08-01T12:33:37.542Z"
   },
   {
    "duration": 5412,
    "start_time": "2022-08-01T12:33:38.000Z"
   },
   {
    "duration": 6838,
    "start_time": "2022-08-01T12:33:43.414Z"
   },
   {
    "duration": 78,
    "start_time": "2022-08-01T12:33:50.254Z"
   },
   {
    "duration": 198,
    "start_time": "2022-08-01T12:33:50.426Z"
   },
   {
    "duration": 104,
    "start_time": "2022-08-01T12:33:50.626Z"
   },
   {
    "duration": 976,
    "start_time": "2022-08-01T12:33:50.732Z"
   },
   {
    "duration": 5151,
    "start_time": "2022-08-01T12:33:51.710Z"
   },
   {
    "duration": 2513,
    "start_time": "2022-08-01T12:33:56.864Z"
   },
   {
    "duration": 150,
    "start_time": "2022-08-01T12:33:59.379Z"
   },
   {
    "duration": 743,
    "start_time": "2022-08-01T12:33:59.531Z"
   },
   {
    "duration": 8,
    "start_time": "2022-08-01T12:34:00.276Z"
   },
   {
    "duration": 52,
    "start_time": "2022-08-01T12:34:00.286Z"
   },
   {
    "duration": 87,
    "start_time": "2022-08-01T12:34:00.340Z"
   },
   {
    "duration": 289,
    "start_time": "2022-08-01T12:34:00.430Z"
   },
   {
    "duration": 85,
    "start_time": "2022-08-01T12:34:50.943Z"
   },
   {
    "duration": 41,
    "start_time": "2022-08-01T12:36:10.711Z"
   },
   {
    "duration": 19,
    "start_time": "2022-08-01T12:36:12.033Z"
   },
   {
    "duration": 43,
    "start_time": "2022-08-01T12:36:20.211Z"
   },
   {
    "duration": 41,
    "start_time": "2022-08-01T12:36:24.008Z"
   },
   {
    "duration": 30,
    "start_time": "2022-08-01T12:36:27.929Z"
   },
   {
    "duration": 25,
    "start_time": "2022-08-01T12:36:32.141Z"
   },
   {
    "duration": 21,
    "start_time": "2022-08-01T12:36:35.819Z"
   },
   {
    "duration": 23,
    "start_time": "2022-08-01T12:36:39.924Z"
   },
   {
    "duration": 26,
    "start_time": "2022-08-01T12:36:43.657Z"
   },
   {
    "duration": 24,
    "start_time": "2022-08-01T12:36:47.169Z"
   },
   {
    "duration": 23,
    "start_time": "2022-08-01T12:36:59.033Z"
   },
   {
    "duration": 20,
    "start_time": "2022-08-01T12:37:03.159Z"
   },
   {
    "duration": 21,
    "start_time": "2022-08-01T12:37:06.374Z"
   },
   {
    "duration": 23,
    "start_time": "2022-08-01T12:37:10.261Z"
   },
   {
    "duration": 24,
    "start_time": "2022-08-01T12:37:14.111Z"
   },
   {
    "duration": 23,
    "start_time": "2022-08-01T12:37:17.509Z"
   },
   {
    "duration": 139,
    "start_time": "2022-08-01T12:37:23.512Z"
   },
   {
    "duration": 30,
    "start_time": "2022-08-01T12:37:29.187Z"
   },
   {
    "duration": 570,
    "start_time": "2022-08-01T12:38:09.510Z"
   },
   {
    "duration": 5450,
    "start_time": "2022-08-01T12:38:12.187Z"
   },
   {
    "duration": 3859,
    "start_time": "2022-08-01T12:38:17.640Z"
   },
   {
    "duration": 19,
    "start_time": "2022-08-01T12:39:28.920Z"
   },
   {
    "duration": 604,
    "start_time": "2022-08-01T12:41:03.575Z"
   },
   {
    "duration": 27,
    "start_time": "2022-08-01T12:41:14.420Z"
   },
   {
    "duration": 40,
    "start_time": "2022-08-01T12:41:15.050Z"
   },
   {
    "duration": 17,
    "start_time": "2022-08-01T12:41:15.813Z"
   },
   {
    "duration": 207,
    "start_time": "2022-08-01T12:41:16.502Z"
   },
   {
    "duration": 1392,
    "start_time": "2022-08-01T12:42:24.889Z"
   },
   {
    "duration": 43,
    "start_time": "2022-08-01T12:42:26.283Z"
   },
   {
    "duration": 17,
    "start_time": "2022-08-01T12:42:26.327Z"
   },
   {
    "duration": 12,
    "start_time": "2022-08-01T12:42:26.346Z"
   },
   {
    "duration": 5,
    "start_time": "2022-08-01T12:42:26.360Z"
   },
   {
    "duration": 12,
    "start_time": "2022-08-01T12:42:26.366Z"
   },
   {
    "duration": 9,
    "start_time": "2022-08-01T12:42:26.379Z"
   },
   {
    "duration": 16,
    "start_time": "2022-08-01T12:42:26.389Z"
   },
   {
    "duration": 26,
    "start_time": "2022-08-01T12:42:26.406Z"
   },
   {
    "duration": 9,
    "start_time": "2022-08-01T12:42:26.434Z"
   },
   {
    "duration": 157,
    "start_time": "2022-08-01T12:42:26.445Z"
   },
   {
    "duration": 5,
    "start_time": "2022-08-01T12:42:26.604Z"
   },
   {
    "duration": 13,
    "start_time": "2022-08-01T12:42:26.611Z"
   },
   {
    "duration": 7,
    "start_time": "2022-08-01T12:42:26.626Z"
   },
   {
    "duration": 5,
    "start_time": "2022-08-01T12:42:26.635Z"
   },
   {
    "duration": 9,
    "start_time": "2022-08-01T12:42:26.642Z"
   },
   {
    "duration": 15,
    "start_time": "2022-08-01T12:42:26.652Z"
   },
   {
    "duration": 14,
    "start_time": "2022-08-01T12:42:26.668Z"
   },
   {
    "duration": 14,
    "start_time": "2022-08-01T12:42:26.683Z"
   },
   {
    "duration": 462,
    "start_time": "2022-08-01T12:42:26.699Z"
   },
   {
    "duration": 5374,
    "start_time": "2022-08-01T12:42:27.163Z"
   },
   {
    "duration": 6952,
    "start_time": "2022-08-01T12:42:32.539Z"
   },
   {
    "duration": 131,
    "start_time": "2022-08-01T12:42:39.493Z"
   },
   {
    "duration": 122,
    "start_time": "2022-08-01T12:42:39.626Z"
   },
   {
    "duration": 177,
    "start_time": "2022-08-01T12:42:39.750Z"
   },
   {
    "duration": 686,
    "start_time": "2022-08-01T12:42:39.929Z"
   },
   {
    "duration": 5360,
    "start_time": "2022-08-01T12:42:40.623Z"
   },
   {
    "duration": 3579,
    "start_time": "2022-08-01T12:42:45.988Z"
   },
   {
    "duration": 61,
    "start_time": "2022-08-01T12:42:49.568Z"
   },
   {
    "duration": 759,
    "start_time": "2022-08-01T12:42:49.631Z"
   },
   {
    "duration": 8,
    "start_time": "2022-08-01T12:42:50.392Z"
   },
   {
    "duration": 51,
    "start_time": "2022-08-01T12:42:50.401Z"
   },
   {
    "duration": 70,
    "start_time": "2022-08-01T12:42:50.454Z"
   },
   {
    "duration": 284,
    "start_time": "2022-08-01T12:42:50.526Z"
   },
   {
    "duration": 1602,
    "start_time": "2022-08-01T12:51:03.651Z"
   },
   {
    "duration": 44,
    "start_time": "2022-08-01T12:51:05.255Z"
   },
   {
    "duration": 17,
    "start_time": "2022-08-01T12:51:05.301Z"
   },
   {
    "duration": 17,
    "start_time": "2022-08-01T12:51:05.320Z"
   },
   {
    "duration": 6,
    "start_time": "2022-08-01T12:51:05.339Z"
   },
   {
    "duration": 10,
    "start_time": "2022-08-01T12:51:05.347Z"
   },
   {
    "duration": 9,
    "start_time": "2022-08-01T12:51:05.359Z"
   },
   {
    "duration": 16,
    "start_time": "2022-08-01T12:51:05.370Z"
   },
   {
    "duration": 9,
    "start_time": "2022-08-01T12:51:05.387Z"
   },
   {
    "duration": 27,
    "start_time": "2022-08-01T12:51:05.399Z"
   },
   {
    "duration": 139,
    "start_time": "2022-08-01T12:51:05.428Z"
   },
   {
    "duration": 5,
    "start_time": "2022-08-01T12:51:05.569Z"
   },
   {
    "duration": 16,
    "start_time": "2022-08-01T12:51:05.575Z"
   },
   {
    "duration": 11,
    "start_time": "2022-08-01T12:51:05.593Z"
   },
   {
    "duration": 19,
    "start_time": "2022-08-01T12:51:05.605Z"
   },
   {
    "duration": 5,
    "start_time": "2022-08-01T12:51:05.626Z"
   },
   {
    "duration": 20,
    "start_time": "2022-08-01T12:51:05.632Z"
   },
   {
    "duration": 13,
    "start_time": "2022-08-01T12:51:05.654Z"
   },
   {
    "duration": 10,
    "start_time": "2022-08-01T12:51:05.669Z"
   },
   {
    "duration": 469,
    "start_time": "2022-08-01T12:51:05.681Z"
   },
   {
    "duration": 5310,
    "start_time": "2022-08-01T12:51:06.152Z"
   },
   {
    "duration": 6806,
    "start_time": "2022-08-01T12:51:11.464Z"
   },
   {
    "duration": 151,
    "start_time": "2022-08-01T12:51:18.273Z"
   },
   {
    "duration": 120,
    "start_time": "2022-08-01T12:51:18.427Z"
   },
   {
    "duration": 179,
    "start_time": "2022-08-01T12:51:18.548Z"
   },
   {
    "duration": 853,
    "start_time": "2022-08-01T12:51:18.729Z"
   },
   {
    "duration": 5282,
    "start_time": "2022-08-01T12:51:19.583Z"
   },
   {
    "duration": 2934,
    "start_time": "2022-08-01T12:51:24.868Z"
   },
   {
    "duration": 121,
    "start_time": "2022-08-01T12:51:27.803Z"
   },
   {
    "duration": 642,
    "start_time": "2022-08-01T12:51:27.926Z"
   },
   {
    "duration": 10,
    "start_time": "2022-08-01T12:51:28.570Z"
   },
   {
    "duration": 55,
    "start_time": "2022-08-01T12:51:28.582Z"
   },
   {
    "duration": 9,
    "start_time": "2022-08-01T12:51:28.639Z"
   },
   {
    "duration": 399,
    "start_time": "2022-08-01T12:51:28.650Z"
   },
   {
    "duration": 764,
    "start_time": "2022-08-01T12:53:58.840Z"
   },
   {
    "duration": 569,
    "start_time": "2022-08-01T12:54:07.837Z"
   },
   {
    "duration": 1583,
    "start_time": "2022-08-01T12:54:27.594Z"
   },
   {
    "duration": 44,
    "start_time": "2022-08-01T12:54:29.179Z"
   },
   {
    "duration": 17,
    "start_time": "2022-08-01T12:54:29.227Z"
   },
   {
    "duration": 33,
    "start_time": "2022-08-01T12:54:29.246Z"
   },
   {
    "duration": 13,
    "start_time": "2022-08-01T12:54:29.281Z"
   },
   {
    "duration": 24,
    "start_time": "2022-08-01T12:54:29.296Z"
   },
   {
    "duration": 18,
    "start_time": "2022-08-01T12:54:29.322Z"
   },
   {
    "duration": 44,
    "start_time": "2022-08-01T12:54:29.342Z"
   },
   {
    "duration": 27,
    "start_time": "2022-08-01T12:54:29.389Z"
   },
   {
    "duration": 18,
    "start_time": "2022-08-01T12:54:29.418Z"
   },
   {
    "duration": 145,
    "start_time": "2022-08-01T12:54:29.438Z"
   },
   {
    "duration": 6,
    "start_time": "2022-08-01T12:54:29.584Z"
   },
   {
    "duration": 26,
    "start_time": "2022-08-01T12:54:29.592Z"
   },
   {
    "duration": 21,
    "start_time": "2022-08-01T12:54:29.620Z"
   },
   {
    "duration": 31,
    "start_time": "2022-08-01T12:54:29.643Z"
   },
   {
    "duration": 22,
    "start_time": "2022-08-01T12:54:29.676Z"
   },
   {
    "duration": 40,
    "start_time": "2022-08-01T12:54:29.700Z"
   },
   {
    "duration": 47,
    "start_time": "2022-08-01T12:54:29.742Z"
   },
   {
    "duration": 12,
    "start_time": "2022-08-01T12:54:29.790Z"
   },
   {
    "duration": 504,
    "start_time": "2022-08-01T12:54:29.804Z"
   },
   {
    "duration": 5337,
    "start_time": "2022-08-01T12:54:30.310Z"
   },
   {
    "duration": 7138,
    "start_time": "2022-08-01T12:54:35.649Z"
   },
   {
    "duration": 45,
    "start_time": "2022-08-01T12:54:42.788Z"
   },
   {
    "duration": 208,
    "start_time": "2022-08-01T12:54:42.834Z"
   },
   {
    "duration": 183,
    "start_time": "2022-08-01T12:54:43.044Z"
   },
   {
    "duration": 814,
    "start_time": "2022-08-01T12:54:43.229Z"
   },
   {
    "duration": 5401,
    "start_time": "2022-08-01T12:54:44.046Z"
   },
   {
    "duration": 2981,
    "start_time": "2022-08-01T12:54:49.449Z"
   },
   {
    "duration": 92,
    "start_time": "2022-08-01T12:54:52.432Z"
   },
   {
    "duration": 669,
    "start_time": "2022-08-01T12:54:52.526Z"
   },
   {
    "duration": 9,
    "start_time": "2022-08-01T12:54:53.196Z"
   },
   {
    "duration": 53,
    "start_time": "2022-08-01T12:54:53.206Z"
   },
   {
    "duration": 66,
    "start_time": "2022-08-01T12:54:53.261Z"
   },
   {
    "duration": 307,
    "start_time": "2022-08-01T12:54:53.329Z"
   },
   {
    "duration": 618,
    "start_time": "2022-08-01T13:09:10.609Z"
   },
   {
    "duration": 5540,
    "start_time": "2022-08-01T13:09:38.105Z"
   },
   {
    "duration": 3061,
    "start_time": "2022-08-01T13:09:44.463Z"
   },
   {
    "duration": 55,
    "start_time": "2022-08-01T13:10:39.868Z"
   },
   {
    "duration": 380,
    "start_time": "2022-08-01T13:12:07.878Z"
   },
   {
    "duration": 351,
    "start_time": "2022-08-01T13:15:18.572Z"
   },
   {
    "duration": 9,
    "start_time": "2022-08-01T13:16:07.915Z"
   },
   {
    "duration": 50,
    "start_time": "2022-08-01T13:16:08.843Z"
   },
   {
    "duration": 16,
    "start_time": "2022-08-01T13:16:09.714Z"
   },
   {
    "duration": 188,
    "start_time": "2022-08-01T13:16:10.445Z"
   },
   {
    "duration": 1489,
    "start_time": "2022-08-01T13:16:38.736Z"
   },
   {
    "duration": 45,
    "start_time": "2022-08-01T13:16:40.227Z"
   },
   {
    "duration": 17,
    "start_time": "2022-08-01T13:16:40.274Z"
   },
   {
    "duration": 13,
    "start_time": "2022-08-01T13:16:40.293Z"
   },
   {
    "duration": 5,
    "start_time": "2022-08-01T13:16:40.308Z"
   },
   {
    "duration": 6,
    "start_time": "2022-08-01T13:16:40.314Z"
   },
   {
    "duration": 5,
    "start_time": "2022-08-01T13:16:40.323Z"
   },
   {
    "duration": 14,
    "start_time": "2022-08-01T13:16:40.329Z"
   },
   {
    "duration": 10,
    "start_time": "2022-08-01T13:16:40.345Z"
   },
   {
    "duration": 8,
    "start_time": "2022-08-01T13:16:40.358Z"
   },
   {
    "duration": 159,
    "start_time": "2022-08-01T13:16:40.368Z"
   },
   {
    "duration": 5,
    "start_time": "2022-08-01T13:16:40.529Z"
   },
   {
    "duration": 8,
    "start_time": "2022-08-01T13:16:40.536Z"
   },
   {
    "duration": 9,
    "start_time": "2022-08-01T13:16:40.546Z"
   },
   {
    "duration": 8,
    "start_time": "2022-08-01T13:16:40.557Z"
   },
   {
    "duration": 10,
    "start_time": "2022-08-01T13:16:40.566Z"
   },
   {
    "duration": 15,
    "start_time": "2022-08-01T13:16:40.578Z"
   },
   {
    "duration": 34,
    "start_time": "2022-08-01T13:16:40.595Z"
   },
   {
    "duration": 8,
    "start_time": "2022-08-01T13:16:40.631Z"
   },
   {
    "duration": 471,
    "start_time": "2022-08-01T13:16:40.640Z"
   },
   {
    "duration": 5240,
    "start_time": "2022-08-01T13:16:41.112Z"
   },
   {
    "duration": 6828,
    "start_time": "2022-08-01T13:16:46.354Z"
   },
   {
    "duration": 148,
    "start_time": "2022-08-01T13:16:53.184Z"
   },
   {
    "duration": 119,
    "start_time": "2022-08-01T13:16:53.425Z"
   },
   {
    "duration": 111,
    "start_time": "2022-08-01T13:16:53.628Z"
   },
   {
    "duration": 783,
    "start_time": "2022-08-01T13:16:53.745Z"
   },
   {
    "duration": 5361,
    "start_time": "2022-08-01T13:16:54.530Z"
   },
   {
    "duration": 2916,
    "start_time": "2022-08-01T13:16:59.894Z"
   },
   {
    "duration": 26,
    "start_time": "2022-08-01T13:17:02.812Z"
   },
   {
    "duration": 430,
    "start_time": "2022-08-01T13:17:02.924Z"
   },
   {
    "duration": 8,
    "start_time": "2022-08-01T13:17:03.356Z"
   },
   {
    "duration": 48,
    "start_time": "2022-08-01T13:17:03.366Z"
   },
   {
    "duration": 17,
    "start_time": "2022-08-01T13:17:03.416Z"
   },
   {
    "duration": 396,
    "start_time": "2022-08-01T13:17:03.435Z"
   },
   {
    "duration": 81,
    "start_time": "2022-08-01T13:36:30.194Z"
   },
   {
    "duration": 343,
    "start_time": "2022-08-01T13:37:12.724Z"
   },
   {
    "duration": 454,
    "start_time": "2022-08-01T13:37:30.709Z"
   },
   {
    "duration": 342,
    "start_time": "2022-08-01T13:37:56.438Z"
   },
   {
    "duration": 573,
    "start_time": "2022-08-01T13:39:38.612Z"
   },
   {
    "duration": 349,
    "start_time": "2022-08-01T13:40:15.929Z"
   },
   {
    "duration": 317,
    "start_time": "2022-08-01T13:40:24.827Z"
   },
   {
    "duration": 8,
    "start_time": "2022-08-01T13:40:25.804Z"
   },
   {
    "duration": 39,
    "start_time": "2022-08-01T13:40:26.647Z"
   },
   {
    "duration": 11,
    "start_time": "2022-08-01T13:40:29.966Z"
   },
   {
    "duration": 197,
    "start_time": "2022-08-01T13:40:30.855Z"
   },
   {
    "duration": 327,
    "start_time": "2022-08-01T13:46:57.053Z"
   },
   {
    "duration": 362,
    "start_time": "2022-08-01T13:47:02.775Z"
   },
   {
    "duration": 361,
    "start_time": "2022-08-01T13:47:09.735Z"
   },
   {
    "duration": 355,
    "start_time": "2022-08-01T13:47:21.596Z"
   },
   {
    "duration": 379,
    "start_time": "2022-08-01T13:47:32.023Z"
   },
   {
    "duration": 451,
    "start_time": "2022-08-01T13:47:38.828Z"
   },
   {
    "duration": 362,
    "start_time": "2022-08-01T13:48:20.400Z"
   },
   {
    "duration": 9,
    "start_time": "2022-08-01T13:48:21.501Z"
   },
   {
    "duration": 41,
    "start_time": "2022-08-01T13:48:22.405Z"
   },
   {
    "duration": 10,
    "start_time": "2022-08-01T13:48:22.986Z"
   },
   {
    "duration": 190,
    "start_time": "2022-08-01T13:48:23.721Z"
   },
   {
    "duration": 61,
    "start_time": "2022-08-01T13:49:52.231Z"
   },
   {
    "duration": 14,
    "start_time": "2022-08-01T13:51:39.579Z"
   },
   {
    "duration": 354,
    "start_time": "2022-08-01T13:51:51.618Z"
   },
   {
    "duration": 53,
    "start_time": "2022-08-01T13:53:08.043Z"
   },
   {
    "duration": 357,
    "start_time": "2022-08-01T13:53:13.374Z"
   },
   {
    "duration": 350,
    "start_time": "2022-08-01T13:54:07.118Z"
   },
   {
    "duration": 332,
    "start_time": "2022-08-01T13:54:14.496Z"
   },
   {
    "duration": 1431,
    "start_time": "2022-08-01T13:54:21.717Z"
   },
   {
    "duration": 44,
    "start_time": "2022-08-01T13:54:23.151Z"
   },
   {
    "duration": 17,
    "start_time": "2022-08-01T13:54:23.197Z"
   },
   {
    "duration": 14,
    "start_time": "2022-08-01T13:54:23.217Z"
   },
   {
    "duration": 6,
    "start_time": "2022-08-01T13:54:23.233Z"
   },
   {
    "duration": 12,
    "start_time": "2022-08-01T13:54:23.241Z"
   },
   {
    "duration": 11,
    "start_time": "2022-08-01T13:54:23.255Z"
   },
   {
    "duration": 16,
    "start_time": "2022-08-01T13:54:23.268Z"
   },
   {
    "duration": 12,
    "start_time": "2022-08-01T13:54:23.286Z"
   },
   {
    "duration": 28,
    "start_time": "2022-08-01T13:54:23.302Z"
   },
   {
    "duration": 147,
    "start_time": "2022-08-01T13:54:23.331Z"
   },
   {
    "duration": 6,
    "start_time": "2022-08-01T13:54:23.479Z"
   },
   {
    "duration": 12,
    "start_time": "2022-08-01T13:54:23.487Z"
   },
   {
    "duration": 12,
    "start_time": "2022-08-01T13:54:23.501Z"
   },
   {
    "duration": 6,
    "start_time": "2022-08-01T13:54:23.523Z"
   },
   {
    "duration": 19,
    "start_time": "2022-08-01T13:54:23.531Z"
   },
   {
    "duration": 8,
    "start_time": "2022-08-01T13:54:23.551Z"
   },
   {
    "duration": 11,
    "start_time": "2022-08-01T13:54:23.561Z"
   },
   {
    "duration": 7,
    "start_time": "2022-08-01T13:54:23.574Z"
   },
   {
    "duration": 463,
    "start_time": "2022-08-01T13:54:23.582Z"
   },
   {
    "duration": 5413,
    "start_time": "2022-08-01T13:54:24.047Z"
   },
   {
    "duration": 6762,
    "start_time": "2022-08-01T13:54:29.462Z"
   },
   {
    "duration": 16,
    "start_time": "2022-08-01T13:54:36.226Z"
   },
   {
    "duration": 116,
    "start_time": "2022-08-01T13:54:36.328Z"
   },
   {
    "duration": 184,
    "start_time": "2022-08-01T13:54:36.446Z"
   },
   {
    "duration": 798,
    "start_time": "2022-08-01T13:54:36.634Z"
   },
   {
    "duration": 5369,
    "start_time": "2022-08-01T13:54:37.434Z"
   },
   {
    "duration": 3064,
    "start_time": "2022-08-01T13:54:42.806Z"
   },
   {
    "duration": 55,
    "start_time": "2022-08-01T13:54:45.872Z"
   },
   {
    "duration": 517,
    "start_time": "2022-08-01T13:54:45.930Z"
   },
   {
    "duration": 8,
    "start_time": "2022-08-01T13:54:46.449Z"
   },
   {
    "duration": 46,
    "start_time": "2022-08-01T13:54:46.459Z"
   },
   {
    "duration": 22,
    "start_time": "2022-08-01T13:54:46.507Z"
   },
   {
    "duration": 367,
    "start_time": "2022-08-01T13:54:46.533Z"
   },
   {
    "duration": 467,
    "start_time": "2022-08-01T13:56:07.879Z"
   },
   {
    "duration": 336,
    "start_time": "2022-08-01T13:56:14.599Z"
   },
   {
    "duration": 336,
    "start_time": "2022-08-01T13:57:00.758Z"
   },
   {
    "duration": 311,
    "start_time": "2022-08-01T13:57:07.485Z"
   },
   {
    "duration": 336,
    "start_time": "2022-08-01T14:03:51.458Z"
   },
   {
    "duration": 331,
    "start_time": "2022-08-01T14:04:23.867Z"
   },
   {
    "duration": 332,
    "start_time": "2022-08-01T14:04:37.991Z"
   },
   {
    "duration": 1486,
    "start_time": "2022-08-01T14:04:43.662Z"
   },
   {
    "duration": 45,
    "start_time": "2022-08-01T14:04:45.150Z"
   },
   {
    "duration": 19,
    "start_time": "2022-08-01T14:04:45.197Z"
   },
   {
    "duration": 22,
    "start_time": "2022-08-01T14:04:45.218Z"
   },
   {
    "duration": 6,
    "start_time": "2022-08-01T14:04:45.242Z"
   },
   {
    "duration": 9,
    "start_time": "2022-08-01T14:04:45.250Z"
   },
   {
    "duration": 8,
    "start_time": "2022-08-01T14:04:45.261Z"
   },
   {
    "duration": 18,
    "start_time": "2022-08-01T14:04:45.271Z"
   },
   {
    "duration": 12,
    "start_time": "2022-08-01T14:04:45.291Z"
   },
   {
    "duration": 12,
    "start_time": "2022-08-01T14:04:45.325Z"
   },
   {
    "duration": 166,
    "start_time": "2022-08-01T14:04:45.339Z"
   },
   {
    "duration": 17,
    "start_time": "2022-08-01T14:04:45.507Z"
   },
   {
    "duration": 8,
    "start_time": "2022-08-01T14:04:45.526Z"
   },
   {
    "duration": 17,
    "start_time": "2022-08-01T14:04:45.536Z"
   },
   {
    "duration": 7,
    "start_time": "2022-08-01T14:04:45.555Z"
   },
   {
    "duration": 7,
    "start_time": "2022-08-01T14:04:45.564Z"
   },
   {
    "duration": 11,
    "start_time": "2022-08-01T14:04:45.573Z"
   },
   {
    "duration": 45,
    "start_time": "2022-08-01T14:04:45.585Z"
   },
   {
    "duration": 8,
    "start_time": "2022-08-01T14:04:45.632Z"
   },
   {
    "duration": 492,
    "start_time": "2022-08-01T14:04:45.642Z"
   },
   {
    "duration": 5514,
    "start_time": "2022-08-01T14:04:46.136Z"
   },
   {
    "duration": 7079,
    "start_time": "2022-08-01T14:04:51.651Z"
   },
   {
    "duration": 20,
    "start_time": "2022-08-01T14:04:58.732Z"
   },
   {
    "duration": 199,
    "start_time": "2022-08-01T14:04:58.754Z"
   },
   {
    "duration": 191,
    "start_time": "2022-08-01T14:04:58.955Z"
   },
   {
    "duration": 823,
    "start_time": "2022-08-01T14:04:59.150Z"
   },
   {
    "duration": 5374,
    "start_time": "2022-08-01T14:04:59.975Z"
   },
   {
    "duration": 2939,
    "start_time": "2022-08-01T14:05:05.353Z"
   },
   {
    "duration": 130,
    "start_time": "2022-08-01T14:05:08.294Z"
   },
   {
    "duration": 450,
    "start_time": "2022-08-01T14:05:08.428Z"
   },
   {
    "duration": 10,
    "start_time": "2022-08-01T14:05:08.881Z"
   },
   {
    "duration": 69,
    "start_time": "2022-08-01T14:05:08.893Z"
   },
   {
    "duration": 63,
    "start_time": "2022-08-01T14:05:08.964Z"
   },
   {
    "duration": 312,
    "start_time": "2022-08-01T14:05:09.028Z"
   },
   {
    "duration": 1668,
    "start_time": "2022-08-01T17:55:08.398Z"
   },
   {
    "duration": 89,
    "start_time": "2022-08-01T17:55:10.068Z"
   },
   {
    "duration": 17,
    "start_time": "2022-08-01T17:55:10.871Z"
   },
   {
    "duration": 14,
    "start_time": "2022-08-01T17:55:11.129Z"
   },
   {
    "duration": 6,
    "start_time": "2022-08-01T17:55:13.762Z"
   },
   {
    "duration": 4,
    "start_time": "2022-08-01T17:55:14.443Z"
   },
   {
    "duration": 4,
    "start_time": "2022-08-01T17:55:15.914Z"
   },
   {
    "duration": 11,
    "start_time": "2022-08-01T17:55:18.317Z"
   },
   {
    "duration": 10,
    "start_time": "2022-08-01T17:55:20.750Z"
   },
   {
    "duration": 10,
    "start_time": "2022-08-01T17:55:20.961Z"
   },
   {
    "duration": 110,
    "start_time": "2022-08-01T17:55:22.816Z"
   },
   {
    "duration": 5,
    "start_time": "2022-08-01T17:55:23.679Z"
   },
   {
    "duration": 6,
    "start_time": "2022-08-01T17:55:26.300Z"
   },
   {
    "duration": 7,
    "start_time": "2022-08-01T17:55:26.522Z"
   },
   {
    "duration": 6,
    "start_time": "2022-08-01T17:55:26.973Z"
   },
   {
    "duration": 5,
    "start_time": "2022-08-01T17:55:29.067Z"
   },
   {
    "duration": 8,
    "start_time": "2022-08-01T17:55:29.813Z"
   },
   {
    "duration": 12,
    "start_time": "2022-08-01T17:55:37.232Z"
   },
   {
    "duration": 8,
    "start_time": "2022-08-01T17:55:44.836Z"
   },
   {
    "duration": 304,
    "start_time": "2022-08-01T17:55:52.300Z"
   },
   {
    "duration": 97,
    "start_time": "2022-08-01T17:56:35.247Z"
   },
   {
    "duration": 4,
    "start_time": "2022-08-01T17:57:05.062Z"
   },
   {
    "duration": 8,
    "start_time": "2022-08-01T17:57:06.943Z"
   },
   {
    "duration": 12,
    "start_time": "2022-08-01T17:57:16.087Z"
   },
   {
    "duration": 295,
    "start_time": "2022-08-01T17:57:27.996Z"
   }
  ],
  "kernelspec": {
   "display_name": "Python 3 (ipykernel)",
   "language": "python",
   "name": "python3"
  },
  "language_info": {
   "codemirror_mode": {
    "name": "ipython",
    "version": 3
   },
   "file_extension": ".py",
   "mimetype": "text/x-python",
   "name": "python",
   "nbconvert_exporter": "python",
   "pygments_lexer": "ipython3",
   "version": "3.9.5"
  },
  "toc": {
   "base_numbering": 1,
   "nav_menu": {},
   "number_sections": true,
   "sideBar": true,
   "skip_h1_title": true,
   "title_cell": "Содержание",
   "title_sidebar": "Contents",
   "toc_cell": true,
   "toc_position": {
    "height": "calc(100% - 180px)",
    "left": "10px",
    "top": "150px",
    "width": "165px"
   },
   "toc_section_display": true,
   "toc_window_display": true
  }
 },
 "nbformat": 4,
 "nbformat_minor": 2
}
