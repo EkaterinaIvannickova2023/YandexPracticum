{
 "cells": [
  {
   "cell_type": "markdown",
   "metadata": {
    "toc": true
   },
   "source": [
    "<h1>Содержание<span class=\"tocSkip\"></span></h1>\n",
    "<div class=\"toc\"><ul class=\"toc-item\"><li><span><a href=\"#Подготовка-данных\" data-toc-modified-id=\"Подготовка-данных-1\"><span class=\"toc-item-num\">1&nbsp;&nbsp;</span>Подготовка данных</a></span><ul class=\"toc-item\"><li><span><a href=\"#Откройте-файлы-и-изучите-их.\" data-toc-modified-id=\"Откройте-файлы-и-изучите-их.-1.1\"><span class=\"toc-item-num\">1.1&nbsp;&nbsp;</span>Откройте файлы и изучите их.</a></span></li><li><span><a href=\"#Проверьте,-что-эффективность-обогащения-рассчитана-правильно.-Вычислите-её-на-обучающей-выборке-для-признака-rougher.output.recovery.-Найдите-MAE-между-вашими-расчётами-и-значением-признака.-Опишите-выводы.\" data-toc-modified-id=\"Проверьте,-что-эффективность-обогащения-рассчитана-правильно.-Вычислите-её-на-обучающей-выборке-для-признака-rougher.output.recovery.-Найдите-MAE-между-вашими-расчётами-и-значением-признака.-Опишите-выводы.-1.2\"><span class=\"toc-item-num\">1.2&nbsp;&nbsp;</span>Проверьте, что эффективность обогащения рассчитана правильно. Вычислите её на обучающей выборке для признака rougher.output.recovery. Найдите MAE между вашими расчётами и значением признака. Опишите выводы.</a></span></li><li><span><a href=\"#Проанализируйте-признаки,-недоступные-в-тестовой-выборке.-Что-это-за-параметры?-К-какому-типу-относятся?\" data-toc-modified-id=\"Проанализируйте-признаки,-недоступные-в-тестовой-выборке.-Что-это-за-параметры?-К-какому-типу-относятся?-1.3\"><span class=\"toc-item-num\">1.3&nbsp;&nbsp;</span>Проанализируйте признаки, недоступные в тестовой выборке. Что это за параметры? К какому типу относятся?</a></span></li><li><span><a href=\"#Проведите-предобработку-данных.\" data-toc-modified-id=\"Проведите-предобработку-данных.-1.4\"><span class=\"toc-item-num\">1.4&nbsp;&nbsp;</span>Проведите предобработку данных.</a></span></li></ul></li><li><span><a href=\"#Анализ-данных\" data-toc-modified-id=\"Анализ-данных-2\"><span class=\"toc-item-num\">2&nbsp;&nbsp;</span>Анализ данных</a></span><ul class=\"toc-item\"><li><span><a href=\"#Посмотрите,-как-меняется-концентрация-металлов-(Au,-Ag,-Pb)-на-различных-этапах-очистки.-Опишите-выводы.\" data-toc-modified-id=\"Посмотрите,-как-меняется-концентрация-металлов-(Au,-Ag,-Pb)-на-различных-этапах-очистки.-Опишите-выводы.-2.1\"><span class=\"toc-item-num\">2.1&nbsp;&nbsp;</span>Посмотрите, как меняется концентрация металлов (Au, Ag, Pb) на различных этапах очистки. Опишите выводы.</a></span></li><li><span><a href=\"#Сравните-распределения-размеров-гранул-сырья-на-обучающей-и-тестовой-выборках.-Если-распределения-сильно-отличаются-друг-от-друга,-оценка-модели-будет-неправильной.\" data-toc-modified-id=\"Сравните-распределения-размеров-гранул-сырья-на-обучающей-и-тестовой-выборках.-Если-распределения-сильно-отличаются-друг-от-друга,-оценка-модели-будет-неправильной.-2.2\"><span class=\"toc-item-num\">2.2&nbsp;&nbsp;</span>Сравните распределения размеров гранул сырья на обучающей и тестовой выборках. Если распределения сильно отличаются друг от друга, оценка модели будет неправильной.</a></span></li><li><span><a href=\"#Исследуйте-суммарную-концентрацию-всех-веществ-на-разных-стадиях:-в-сырье,-в-черновом-и-финальном-концентратах.\" data-toc-modified-id=\"Исследуйте-суммарную-концентрацию-всех-веществ-на-разных-стадиях:-в-сырье,-в-черновом-и-финальном-концентратах.-2.3\"><span class=\"toc-item-num\">2.3&nbsp;&nbsp;</span>Исследуйте суммарную концентрацию всех веществ на разных стадиях: в сырье, в черновом и финальном концентратах.</a></span></li></ul></li><li><span><a href=\"#Постройте-модель\" data-toc-modified-id=\"Постройте-модель-3\"><span class=\"toc-item-num\">3&nbsp;&nbsp;</span>Постройте модель</a></span><ul class=\"toc-item\"><li><span><a href=\"#Напишите-функцию-для-вычисления-итоговой-sMAPE.\" data-toc-modified-id=\"Напишите-функцию-для-вычисления-итоговой-sMAPE.-3.1\"><span class=\"toc-item-num\">3.1&nbsp;&nbsp;</span>Напишите функцию для вычисления итоговой sMAPE.</a></span></li><li><span><a href=\"#Обучите-разные-модели-и-оцените-их-качество-кросс-валидацией.-Выберите-лучшую-модель-и-проверьте-её-на-тестовой-выборке.-Опишите-выводы.\" data-toc-modified-id=\"Обучите-разные-модели-и-оцените-их-качество-кросс-валидацией.-Выберите-лучшую-модель-и-проверьте-её-на-тестовой-выборке.-Опишите-выводы.-3.2\"><span class=\"toc-item-num\">3.2&nbsp;&nbsp;</span>Обучите разные модели и оцените их качество кросс-валидацией. Выберите лучшую модель и проверьте её на тестовой выборке. Опишите выводы.</a></span></li></ul></li></ul></div>"
   ]
  },
  {
   "cell_type": "markdown",
   "metadata": {},
   "source": [
    "# Восстановление золота из руды"
   ]
  },
  {
   "cell_type": "markdown",
   "metadata": {},
   "source": [
    "Подготовьте прототип модели машинного обучения для «Цифры». Компания разрабатывает решения для эффективной работы промышленных предприятий.\n",
    "\n",
    "Модель должна предсказать коэффициент восстановления золота из золотосодержащей руды. Используйте данные с параметрами добычи и очистки. \n",
    "\n",
    "Модель поможет оптимизировать производство, чтобы не запускать предприятие с убыточными характеристиками.\n",
    "\n",
    "Вам нужно:\n",
    "\n",
    "1. Подготовить данные;\n",
    "2. Провести исследовательский анализ данных;\n",
    "3. Построить и обучить модель.\n",
    "\n",
    "Чтобы выполнить проект, обращайтесь к библиотекам *pandas*, *matplotlib* и *sklearn.* Вам поможет их документация."
   ]
  },
  {
   "cell_type": "markdown",
   "metadata": {},
   "source": [
    "<div class=\"alert alert-success\">\n",
    "<h2> Комментарий ревьюера <a class=\"tocSkip\"> </h2>\n",
    "\n",
    "<b>Все отлично!👍:</b> Прекрасное вступление!\n",
    "    \n",
    "В нём есть всё, что необходимо, чтобы понять суть проекта с первых строк отчёта!\n",
    "    \n",
    "Спасибо, что есть оглавление в плагине toc и в виде гиперссылок - по проекту удобно перемещаться:)"
   ]
  },
  {
   "cell_type": "markdown",
   "metadata": {},
   "source": [
    "## Подготовка данных"
   ]
  },
  {
   "cell_type": "markdown",
   "metadata": {},
   "source": [
    "\n",
    "### Откройте файлы и изучите их.\n"
   ]
  },
  {
   "cell_type": "code",
   "execution_count": 1,
   "metadata": {},
   "outputs": [],
   "source": [
    "import pandas as pd\n",
    "import math\n",
    "import sklearn\n",
    "import datetime\n",
    "import numpy\n",
    "import time\n",
    "import seaborn as sns\n",
    "import matplotlib.pyplot as plt\n",
    "from sklearn.metrics import mean_absolute_error, make_scorer\n",
    "from sklearn.dummy import DummyRegressor\n",
    "from sklearn.linear_model import LinearRegression\n",
    "from sklearn.tree import DecisionTreeRegressor\n",
    "from sklearn.ensemble import RandomForestRegressor\n",
    "from sklearn.preprocessing import StandardScaler\n",
    "from sklearn.model_selection import train_test_split,cross_val_score"
   ]
  },
  {
   "cell_type": "code",
   "execution_count": 2,
   "metadata": {
    "scrolled": true
   },
   "outputs": [
    {
     "data": {
      "text/html": [
       "<div>\n",
       "<style scoped>\n",
       "    .dataframe tbody tr th:only-of-type {\n",
       "        vertical-align: middle;\n",
       "    }\n",
       "\n",
       "    .dataframe tbody tr th {\n",
       "        vertical-align: top;\n",
       "    }\n",
       "\n",
       "    .dataframe thead th {\n",
       "        text-align: right;\n",
       "    }\n",
       "</style>\n",
       "<table border=\"1\" class=\"dataframe\">\n",
       "  <thead>\n",
       "    <tr style=\"text-align: right;\">\n",
       "      <th></th>\n",
       "      <th>date</th>\n",
       "      <th>final.output.concentrate_ag</th>\n",
       "      <th>final.output.concentrate_pb</th>\n",
       "      <th>final.output.concentrate_sol</th>\n",
       "      <th>final.output.concentrate_au</th>\n",
       "      <th>final.output.recovery</th>\n",
       "      <th>final.output.tail_ag</th>\n",
       "      <th>final.output.tail_pb</th>\n",
       "      <th>final.output.tail_sol</th>\n",
       "      <th>final.output.tail_au</th>\n",
       "      <th>...</th>\n",
       "      <th>secondary_cleaner.state.floatbank4_a_air</th>\n",
       "      <th>secondary_cleaner.state.floatbank4_a_level</th>\n",
       "      <th>secondary_cleaner.state.floatbank4_b_air</th>\n",
       "      <th>secondary_cleaner.state.floatbank4_b_level</th>\n",
       "      <th>secondary_cleaner.state.floatbank5_a_air</th>\n",
       "      <th>secondary_cleaner.state.floatbank5_a_level</th>\n",
       "      <th>secondary_cleaner.state.floatbank5_b_air</th>\n",
       "      <th>secondary_cleaner.state.floatbank5_b_level</th>\n",
       "      <th>secondary_cleaner.state.floatbank6_a_air</th>\n",
       "      <th>secondary_cleaner.state.floatbank6_a_level</th>\n",
       "    </tr>\n",
       "  </thead>\n",
       "  <tbody>\n",
       "    <tr>\n",
       "      <th>19434</th>\n",
       "      <td>2018-08-18 06:59:59</td>\n",
       "      <td>3.224920</td>\n",
       "      <td>11.356233</td>\n",
       "      <td>6.803482</td>\n",
       "      <td>46.713954</td>\n",
       "      <td>73.755150</td>\n",
       "      <td>8.769645</td>\n",
       "      <td>3.141541</td>\n",
       "      <td>10.403181</td>\n",
       "      <td>1.529220</td>\n",
       "      <td>...</td>\n",
       "      <td>23.031497</td>\n",
       "      <td>-501.167942</td>\n",
       "      <td>20.007571</td>\n",
       "      <td>-499.740028</td>\n",
       "      <td>18.006038</td>\n",
       "      <td>-499.834374</td>\n",
       "      <td>13.001114</td>\n",
       "      <td>-500.155694</td>\n",
       "      <td>20.007840</td>\n",
       "      <td>-501.296428</td>\n",
       "    </tr>\n",
       "    <tr>\n",
       "      <th>19435</th>\n",
       "      <td>2018-08-18 07:59:59</td>\n",
       "      <td>3.195978</td>\n",
       "      <td>11.349355</td>\n",
       "      <td>6.862249</td>\n",
       "      <td>46.866780</td>\n",
       "      <td>69.049291</td>\n",
       "      <td>8.897321</td>\n",
       "      <td>3.130493</td>\n",
       "      <td>10.549470</td>\n",
       "      <td>1.612542</td>\n",
       "      <td>...</td>\n",
       "      <td>22.960095</td>\n",
       "      <td>-501.612783</td>\n",
       "      <td>20.035660</td>\n",
       "      <td>-500.251357</td>\n",
       "      <td>17.998535</td>\n",
       "      <td>-500.395178</td>\n",
       "      <td>12.954048</td>\n",
       "      <td>-499.895163</td>\n",
       "      <td>19.968498</td>\n",
       "      <td>-501.041608</td>\n",
       "    </tr>\n",
       "    <tr>\n",
       "      <th>19436</th>\n",
       "      <td>2018-08-18 08:59:59</td>\n",
       "      <td>3.109998</td>\n",
       "      <td>11.434366</td>\n",
       "      <td>6.886013</td>\n",
       "      <td>46.795691</td>\n",
       "      <td>67.002189</td>\n",
       "      <td>8.529606</td>\n",
       "      <td>2.911418</td>\n",
       "      <td>11.115147</td>\n",
       "      <td>1.596616</td>\n",
       "      <td>...</td>\n",
       "      <td>23.015718</td>\n",
       "      <td>-501.711599</td>\n",
       "      <td>19.951231</td>\n",
       "      <td>-499.857027</td>\n",
       "      <td>18.019543</td>\n",
       "      <td>-500.451156</td>\n",
       "      <td>13.023431</td>\n",
       "      <td>-499.914391</td>\n",
       "      <td>19.990885</td>\n",
       "      <td>-501.518452</td>\n",
       "    </tr>\n",
       "    <tr>\n",
       "      <th>19437</th>\n",
       "      <td>2018-08-18 09:59:59</td>\n",
       "      <td>3.367241</td>\n",
       "      <td>11.625587</td>\n",
       "      <td>6.799433</td>\n",
       "      <td>46.408188</td>\n",
       "      <td>65.523246</td>\n",
       "      <td>8.777171</td>\n",
       "      <td>2.819214</td>\n",
       "      <td>10.463847</td>\n",
       "      <td>1.602879</td>\n",
       "      <td>...</td>\n",
       "      <td>23.024963</td>\n",
       "      <td>-501.153409</td>\n",
       "      <td>20.054122</td>\n",
       "      <td>-500.314711</td>\n",
       "      <td>17.979515</td>\n",
       "      <td>-499.272871</td>\n",
       "      <td>12.992404</td>\n",
       "      <td>-499.976268</td>\n",
       "      <td>20.013986</td>\n",
       "      <td>-500.625471</td>\n",
       "    </tr>\n",
       "    <tr>\n",
       "      <th>19438</th>\n",
       "      <td>2018-08-18 10:59:59</td>\n",
       "      <td>3.598375</td>\n",
       "      <td>11.737832</td>\n",
       "      <td>6.717509</td>\n",
       "      <td>46.299438</td>\n",
       "      <td>70.281454</td>\n",
       "      <td>8.406690</td>\n",
       "      <td>2.517518</td>\n",
       "      <td>10.652193</td>\n",
       "      <td>1.389434</td>\n",
       "      <td>...</td>\n",
       "      <td>23.018622</td>\n",
       "      <td>-500.492702</td>\n",
       "      <td>20.020205</td>\n",
       "      <td>-500.220296</td>\n",
       "      <td>17.963512</td>\n",
       "      <td>-499.939490</td>\n",
       "      <td>12.990306</td>\n",
       "      <td>-500.080993</td>\n",
       "      <td>19.990336</td>\n",
       "      <td>-499.191575</td>\n",
       "    </tr>\n",
       "  </tbody>\n",
       "</table>\n",
       "<p>5 rows × 87 columns</p>\n",
       "</div>"
      ],
      "text/plain": [
       "                      date  final.output.concentrate_ag  \\\n",
       "19434  2018-08-18 06:59:59                     3.224920   \n",
       "19435  2018-08-18 07:59:59                     3.195978   \n",
       "19436  2018-08-18 08:59:59                     3.109998   \n",
       "19437  2018-08-18 09:59:59                     3.367241   \n",
       "19438  2018-08-18 10:59:59                     3.598375   \n",
       "\n",
       "       final.output.concentrate_pb  final.output.concentrate_sol  \\\n",
       "19434                    11.356233                      6.803482   \n",
       "19435                    11.349355                      6.862249   \n",
       "19436                    11.434366                      6.886013   \n",
       "19437                    11.625587                      6.799433   \n",
       "19438                    11.737832                      6.717509   \n",
       "\n",
       "       final.output.concentrate_au  final.output.recovery  \\\n",
       "19434                    46.713954              73.755150   \n",
       "19435                    46.866780              69.049291   \n",
       "19436                    46.795691              67.002189   \n",
       "19437                    46.408188              65.523246   \n",
       "19438                    46.299438              70.281454   \n",
       "\n",
       "       final.output.tail_ag  final.output.tail_pb  final.output.tail_sol  \\\n",
       "19434              8.769645              3.141541              10.403181   \n",
       "19435              8.897321              3.130493              10.549470   \n",
       "19436              8.529606              2.911418              11.115147   \n",
       "19437              8.777171              2.819214              10.463847   \n",
       "19438              8.406690              2.517518              10.652193   \n",
       "\n",
       "       final.output.tail_au  ...  secondary_cleaner.state.floatbank4_a_air  \\\n",
       "19434              1.529220  ...                                 23.031497   \n",
       "19435              1.612542  ...                                 22.960095   \n",
       "19436              1.596616  ...                                 23.015718   \n",
       "19437              1.602879  ...                                 23.024963   \n",
       "19438              1.389434  ...                                 23.018622   \n",
       "\n",
       "       secondary_cleaner.state.floatbank4_a_level  \\\n",
       "19434                                 -501.167942   \n",
       "19435                                 -501.612783   \n",
       "19436                                 -501.711599   \n",
       "19437                                 -501.153409   \n",
       "19438                                 -500.492702   \n",
       "\n",
       "       secondary_cleaner.state.floatbank4_b_air  \\\n",
       "19434                                 20.007571   \n",
       "19435                                 20.035660   \n",
       "19436                                 19.951231   \n",
       "19437                                 20.054122   \n",
       "19438                                 20.020205   \n",
       "\n",
       "       secondary_cleaner.state.floatbank4_b_level  \\\n",
       "19434                                 -499.740028   \n",
       "19435                                 -500.251357   \n",
       "19436                                 -499.857027   \n",
       "19437                                 -500.314711   \n",
       "19438                                 -500.220296   \n",
       "\n",
       "       secondary_cleaner.state.floatbank5_a_air  \\\n",
       "19434                                 18.006038   \n",
       "19435                                 17.998535   \n",
       "19436                                 18.019543   \n",
       "19437                                 17.979515   \n",
       "19438                                 17.963512   \n",
       "\n",
       "       secondary_cleaner.state.floatbank5_a_level  \\\n",
       "19434                                 -499.834374   \n",
       "19435                                 -500.395178   \n",
       "19436                                 -500.451156   \n",
       "19437                                 -499.272871   \n",
       "19438                                 -499.939490   \n",
       "\n",
       "       secondary_cleaner.state.floatbank5_b_air  \\\n",
       "19434                                 13.001114   \n",
       "19435                                 12.954048   \n",
       "19436                                 13.023431   \n",
       "19437                                 12.992404   \n",
       "19438                                 12.990306   \n",
       "\n",
       "       secondary_cleaner.state.floatbank5_b_level  \\\n",
       "19434                                 -500.155694   \n",
       "19435                                 -499.895163   \n",
       "19436                                 -499.914391   \n",
       "19437                                 -499.976268   \n",
       "19438                                 -500.080993   \n",
       "\n",
       "       secondary_cleaner.state.floatbank6_a_air  \\\n",
       "19434                                 20.007840   \n",
       "19435                                 19.968498   \n",
       "19436                                 19.990885   \n",
       "19437                                 20.013986   \n",
       "19438                                 19.990336   \n",
       "\n",
       "       secondary_cleaner.state.floatbank6_a_level  \n",
       "19434                                 -501.296428  \n",
       "19435                                 -501.041608  \n",
       "19436                                 -501.518452  \n",
       "19437                                 -500.625471  \n",
       "19438                                 -499.191575  \n",
       "\n",
       "[5 rows x 87 columns]"
      ]
     },
     "execution_count": 2,
     "metadata": {},
     "output_type": "execute_result"
    }
   ],
   "source": [
    "full_df=pd.read_csv('/datasets/gold_recovery_full_new.csv')\n",
    "full_df.tail()"
   ]
  },
  {
   "cell_type": "code",
   "execution_count": 3,
   "metadata": {},
   "outputs": [
    {
     "data": {
      "text/html": [
       "<div>\n",
       "<style scoped>\n",
       "    .dataframe tbody tr th:only-of-type {\n",
       "        vertical-align: middle;\n",
       "    }\n",
       "\n",
       "    .dataframe tbody tr th {\n",
       "        vertical-align: top;\n",
       "    }\n",
       "\n",
       "    .dataframe thead th {\n",
       "        text-align: right;\n",
       "    }\n",
       "</style>\n",
       "<table border=\"1\" class=\"dataframe\">\n",
       "  <thead>\n",
       "    <tr style=\"text-align: right;\">\n",
       "      <th></th>\n",
       "      <th>date</th>\n",
       "      <th>final.output.concentrate_ag</th>\n",
       "      <th>final.output.concentrate_pb</th>\n",
       "      <th>final.output.concentrate_sol</th>\n",
       "      <th>final.output.concentrate_au</th>\n",
       "      <th>final.output.recovery</th>\n",
       "      <th>final.output.tail_ag</th>\n",
       "      <th>final.output.tail_pb</th>\n",
       "      <th>final.output.tail_sol</th>\n",
       "      <th>final.output.tail_au</th>\n",
       "      <th>...</th>\n",
       "      <th>secondary_cleaner.state.floatbank4_a_air</th>\n",
       "      <th>secondary_cleaner.state.floatbank4_a_level</th>\n",
       "      <th>secondary_cleaner.state.floatbank4_b_air</th>\n",
       "      <th>secondary_cleaner.state.floatbank4_b_level</th>\n",
       "      <th>secondary_cleaner.state.floatbank5_a_air</th>\n",
       "      <th>secondary_cleaner.state.floatbank5_a_level</th>\n",
       "      <th>secondary_cleaner.state.floatbank5_b_air</th>\n",
       "      <th>secondary_cleaner.state.floatbank5_b_level</th>\n",
       "      <th>secondary_cleaner.state.floatbank6_a_air</th>\n",
       "      <th>secondary_cleaner.state.floatbank6_a_level</th>\n",
       "    </tr>\n",
       "  </thead>\n",
       "  <tbody>\n",
       "    <tr>\n",
       "      <th>14144</th>\n",
       "      <td>2018-08-18 06:59:59</td>\n",
       "      <td>3.224920</td>\n",
       "      <td>11.356233</td>\n",
       "      <td>6.803482</td>\n",
       "      <td>46.713954</td>\n",
       "      <td>73.755150</td>\n",
       "      <td>8.769645</td>\n",
       "      <td>3.141541</td>\n",
       "      <td>10.403181</td>\n",
       "      <td>1.529220</td>\n",
       "      <td>...</td>\n",
       "      <td>23.031497</td>\n",
       "      <td>-501.167942</td>\n",
       "      <td>20.007571</td>\n",
       "      <td>-499.740028</td>\n",
       "      <td>18.006038</td>\n",
       "      <td>-499.834374</td>\n",
       "      <td>13.001114</td>\n",
       "      <td>-500.155694</td>\n",
       "      <td>20.007840</td>\n",
       "      <td>-501.296428</td>\n",
       "    </tr>\n",
       "    <tr>\n",
       "      <th>14145</th>\n",
       "      <td>2018-08-18 07:59:59</td>\n",
       "      <td>3.195978</td>\n",
       "      <td>11.349355</td>\n",
       "      <td>6.862249</td>\n",
       "      <td>46.866780</td>\n",
       "      <td>69.049291</td>\n",
       "      <td>8.897321</td>\n",
       "      <td>3.130493</td>\n",
       "      <td>10.549470</td>\n",
       "      <td>1.612542</td>\n",
       "      <td>...</td>\n",
       "      <td>22.960095</td>\n",
       "      <td>-501.612783</td>\n",
       "      <td>20.035660</td>\n",
       "      <td>-500.251357</td>\n",
       "      <td>17.998535</td>\n",
       "      <td>-500.395178</td>\n",
       "      <td>12.954048</td>\n",
       "      <td>-499.895163</td>\n",
       "      <td>19.968498</td>\n",
       "      <td>-501.041608</td>\n",
       "    </tr>\n",
       "    <tr>\n",
       "      <th>14146</th>\n",
       "      <td>2018-08-18 08:59:59</td>\n",
       "      <td>3.109998</td>\n",
       "      <td>11.434366</td>\n",
       "      <td>6.886013</td>\n",
       "      <td>46.795691</td>\n",
       "      <td>67.002189</td>\n",
       "      <td>8.529606</td>\n",
       "      <td>2.911418</td>\n",
       "      <td>11.115147</td>\n",
       "      <td>1.596616</td>\n",
       "      <td>...</td>\n",
       "      <td>23.015718</td>\n",
       "      <td>-501.711599</td>\n",
       "      <td>19.951231</td>\n",
       "      <td>-499.857027</td>\n",
       "      <td>18.019543</td>\n",
       "      <td>-500.451156</td>\n",
       "      <td>13.023431</td>\n",
       "      <td>-499.914391</td>\n",
       "      <td>19.990885</td>\n",
       "      <td>-501.518452</td>\n",
       "    </tr>\n",
       "    <tr>\n",
       "      <th>14147</th>\n",
       "      <td>2018-08-18 09:59:59</td>\n",
       "      <td>3.367241</td>\n",
       "      <td>11.625587</td>\n",
       "      <td>6.799433</td>\n",
       "      <td>46.408188</td>\n",
       "      <td>65.523246</td>\n",
       "      <td>8.777171</td>\n",
       "      <td>2.819214</td>\n",
       "      <td>10.463847</td>\n",
       "      <td>1.602879</td>\n",
       "      <td>...</td>\n",
       "      <td>23.024963</td>\n",
       "      <td>-501.153409</td>\n",
       "      <td>20.054122</td>\n",
       "      <td>-500.314711</td>\n",
       "      <td>17.979515</td>\n",
       "      <td>-499.272871</td>\n",
       "      <td>12.992404</td>\n",
       "      <td>-499.976268</td>\n",
       "      <td>20.013986</td>\n",
       "      <td>-500.625471</td>\n",
       "    </tr>\n",
       "    <tr>\n",
       "      <th>14148</th>\n",
       "      <td>2018-08-18 10:59:59</td>\n",
       "      <td>3.598375</td>\n",
       "      <td>11.737832</td>\n",
       "      <td>6.717509</td>\n",
       "      <td>46.299438</td>\n",
       "      <td>70.281454</td>\n",
       "      <td>8.406690</td>\n",
       "      <td>2.517518</td>\n",
       "      <td>10.652193</td>\n",
       "      <td>1.389434</td>\n",
       "      <td>...</td>\n",
       "      <td>23.018622</td>\n",
       "      <td>-500.492702</td>\n",
       "      <td>20.020205</td>\n",
       "      <td>-500.220296</td>\n",
       "      <td>17.963512</td>\n",
       "      <td>-499.939490</td>\n",
       "      <td>12.990306</td>\n",
       "      <td>-500.080993</td>\n",
       "      <td>19.990336</td>\n",
       "      <td>-499.191575</td>\n",
       "    </tr>\n",
       "  </tbody>\n",
       "</table>\n",
       "<p>5 rows × 87 columns</p>\n",
       "</div>"
      ],
      "text/plain": [
       "                      date  final.output.concentrate_ag  \\\n",
       "14144  2018-08-18 06:59:59                     3.224920   \n",
       "14145  2018-08-18 07:59:59                     3.195978   \n",
       "14146  2018-08-18 08:59:59                     3.109998   \n",
       "14147  2018-08-18 09:59:59                     3.367241   \n",
       "14148  2018-08-18 10:59:59                     3.598375   \n",
       "\n",
       "       final.output.concentrate_pb  final.output.concentrate_sol  \\\n",
       "14144                    11.356233                      6.803482   \n",
       "14145                    11.349355                      6.862249   \n",
       "14146                    11.434366                      6.886013   \n",
       "14147                    11.625587                      6.799433   \n",
       "14148                    11.737832                      6.717509   \n",
       "\n",
       "       final.output.concentrate_au  final.output.recovery  \\\n",
       "14144                    46.713954              73.755150   \n",
       "14145                    46.866780              69.049291   \n",
       "14146                    46.795691              67.002189   \n",
       "14147                    46.408188              65.523246   \n",
       "14148                    46.299438              70.281454   \n",
       "\n",
       "       final.output.tail_ag  final.output.tail_pb  final.output.tail_sol  \\\n",
       "14144              8.769645              3.141541              10.403181   \n",
       "14145              8.897321              3.130493              10.549470   \n",
       "14146              8.529606              2.911418              11.115147   \n",
       "14147              8.777171              2.819214              10.463847   \n",
       "14148              8.406690              2.517518              10.652193   \n",
       "\n",
       "       final.output.tail_au  ...  secondary_cleaner.state.floatbank4_a_air  \\\n",
       "14144              1.529220  ...                                 23.031497   \n",
       "14145              1.612542  ...                                 22.960095   \n",
       "14146              1.596616  ...                                 23.015718   \n",
       "14147              1.602879  ...                                 23.024963   \n",
       "14148              1.389434  ...                                 23.018622   \n",
       "\n",
       "       secondary_cleaner.state.floatbank4_a_level  \\\n",
       "14144                                 -501.167942   \n",
       "14145                                 -501.612783   \n",
       "14146                                 -501.711599   \n",
       "14147                                 -501.153409   \n",
       "14148                                 -500.492702   \n",
       "\n",
       "       secondary_cleaner.state.floatbank4_b_air  \\\n",
       "14144                                 20.007571   \n",
       "14145                                 20.035660   \n",
       "14146                                 19.951231   \n",
       "14147                                 20.054122   \n",
       "14148                                 20.020205   \n",
       "\n",
       "       secondary_cleaner.state.floatbank4_b_level  \\\n",
       "14144                                 -499.740028   \n",
       "14145                                 -500.251357   \n",
       "14146                                 -499.857027   \n",
       "14147                                 -500.314711   \n",
       "14148                                 -500.220296   \n",
       "\n",
       "       secondary_cleaner.state.floatbank5_a_air  \\\n",
       "14144                                 18.006038   \n",
       "14145                                 17.998535   \n",
       "14146                                 18.019543   \n",
       "14147                                 17.979515   \n",
       "14148                                 17.963512   \n",
       "\n",
       "       secondary_cleaner.state.floatbank5_a_level  \\\n",
       "14144                                 -499.834374   \n",
       "14145                                 -500.395178   \n",
       "14146                                 -500.451156   \n",
       "14147                                 -499.272871   \n",
       "14148                                 -499.939490   \n",
       "\n",
       "       secondary_cleaner.state.floatbank5_b_air  \\\n",
       "14144                                 13.001114   \n",
       "14145                                 12.954048   \n",
       "14146                                 13.023431   \n",
       "14147                                 12.992404   \n",
       "14148                                 12.990306   \n",
       "\n",
       "       secondary_cleaner.state.floatbank5_b_level  \\\n",
       "14144                                 -500.155694   \n",
       "14145                                 -499.895163   \n",
       "14146                                 -499.914391   \n",
       "14147                                 -499.976268   \n",
       "14148                                 -500.080993   \n",
       "\n",
       "       secondary_cleaner.state.floatbank6_a_air  \\\n",
       "14144                                 20.007840   \n",
       "14145                                 19.968498   \n",
       "14146                                 19.990885   \n",
       "14147                                 20.013986   \n",
       "14148                                 19.990336   \n",
       "\n",
       "       secondary_cleaner.state.floatbank6_a_level  \n",
       "14144                                 -501.296428  \n",
       "14145                                 -501.041608  \n",
       "14146                                 -501.518452  \n",
       "14147                                 -500.625471  \n",
       "14148                                 -499.191575  \n",
       "\n",
       "[5 rows x 87 columns]"
      ]
     },
     "execution_count": 3,
     "metadata": {},
     "output_type": "execute_result"
    }
   ],
   "source": [
    "train_df=pd.read_csv('/datasets/gold_recovery_train_new.csv')\n",
    "train_df.tail()"
   ]
  },
  {
   "cell_type": "code",
   "execution_count": 4,
   "metadata": {},
   "outputs": [
    {
     "data": {
      "text/html": [
       "<div>\n",
       "<style scoped>\n",
       "    .dataframe tbody tr th:only-of-type {\n",
       "        vertical-align: middle;\n",
       "    }\n",
       "\n",
       "    .dataframe tbody tr th {\n",
       "        vertical-align: top;\n",
       "    }\n",
       "\n",
       "    .dataframe thead th {\n",
       "        text-align: right;\n",
       "    }\n",
       "</style>\n",
       "<table border=\"1\" class=\"dataframe\">\n",
       "  <thead>\n",
       "    <tr style=\"text-align: right;\">\n",
       "      <th></th>\n",
       "      <th>date</th>\n",
       "      <th>primary_cleaner.input.sulfate</th>\n",
       "      <th>primary_cleaner.input.depressant</th>\n",
       "      <th>primary_cleaner.input.feed_size</th>\n",
       "      <th>primary_cleaner.input.xanthate</th>\n",
       "      <th>primary_cleaner.state.floatbank8_a_air</th>\n",
       "      <th>primary_cleaner.state.floatbank8_a_level</th>\n",
       "      <th>primary_cleaner.state.floatbank8_b_air</th>\n",
       "      <th>primary_cleaner.state.floatbank8_b_level</th>\n",
       "      <th>primary_cleaner.state.floatbank8_c_air</th>\n",
       "      <th>...</th>\n",
       "      <th>secondary_cleaner.state.floatbank4_a_air</th>\n",
       "      <th>secondary_cleaner.state.floatbank4_a_level</th>\n",
       "      <th>secondary_cleaner.state.floatbank4_b_air</th>\n",
       "      <th>secondary_cleaner.state.floatbank4_b_level</th>\n",
       "      <th>secondary_cleaner.state.floatbank5_a_air</th>\n",
       "      <th>secondary_cleaner.state.floatbank5_a_level</th>\n",
       "      <th>secondary_cleaner.state.floatbank5_b_air</th>\n",
       "      <th>secondary_cleaner.state.floatbank5_b_level</th>\n",
       "      <th>secondary_cleaner.state.floatbank6_a_air</th>\n",
       "      <th>secondary_cleaner.state.floatbank6_a_level</th>\n",
       "    </tr>\n",
       "  </thead>\n",
       "  <tbody>\n",
       "    <tr>\n",
       "      <th>5285</th>\n",
       "      <td>2017-12-31 19:59:59</td>\n",
       "      <td>173.957757</td>\n",
       "      <td>15.963399</td>\n",
       "      <td>8.07</td>\n",
       "      <td>0.896701</td>\n",
       "      <td>1401.930554</td>\n",
       "      <td>-499.728848</td>\n",
       "      <td>1401.441445</td>\n",
       "      <td>-499.193423</td>\n",
       "      <td>1399.810313</td>\n",
       "      <td>...</td>\n",
       "      <td>13.995957</td>\n",
       "      <td>-500.157454</td>\n",
       "      <td>12.069155</td>\n",
       "      <td>-499.673279</td>\n",
       "      <td>7.977259</td>\n",
       "      <td>-499.516126</td>\n",
       "      <td>5.933319</td>\n",
       "      <td>-499.965973</td>\n",
       "      <td>8.987171</td>\n",
       "      <td>-499.755909</td>\n",
       "    </tr>\n",
       "    <tr>\n",
       "      <th>5286</th>\n",
       "      <td>2017-12-31 20:59:59</td>\n",
       "      <td>172.910270</td>\n",
       "      <td>16.002605</td>\n",
       "      <td>8.07</td>\n",
       "      <td>0.896519</td>\n",
       "      <td>1447.075722</td>\n",
       "      <td>-494.716823</td>\n",
       "      <td>1448.851892</td>\n",
       "      <td>-465.963026</td>\n",
       "      <td>1443.890424</td>\n",
       "      <td>...</td>\n",
       "      <td>16.749781</td>\n",
       "      <td>-496.031539</td>\n",
       "      <td>13.365371</td>\n",
       "      <td>-499.122723</td>\n",
       "      <td>9.288553</td>\n",
       "      <td>-496.892967</td>\n",
       "      <td>7.372897</td>\n",
       "      <td>-499.942956</td>\n",
       "      <td>8.986832</td>\n",
       "      <td>-499.903761</td>\n",
       "    </tr>\n",
       "    <tr>\n",
       "      <th>5287</th>\n",
       "      <td>2017-12-31 21:59:59</td>\n",
       "      <td>171.135718</td>\n",
       "      <td>15.993669</td>\n",
       "      <td>8.07</td>\n",
       "      <td>1.165996</td>\n",
       "      <td>1498.836182</td>\n",
       "      <td>-501.770403</td>\n",
       "      <td>1499.572353</td>\n",
       "      <td>-495.516347</td>\n",
       "      <td>1502.749213</td>\n",
       "      <td>...</td>\n",
       "      <td>19.994130</td>\n",
       "      <td>-499.791312</td>\n",
       "      <td>15.101425</td>\n",
       "      <td>-499.936252</td>\n",
       "      <td>10.989181</td>\n",
       "      <td>-498.347898</td>\n",
       "      <td>9.020944</td>\n",
       "      <td>-500.040448</td>\n",
       "      <td>8.982038</td>\n",
       "      <td>-497.789882</td>\n",
       "    </tr>\n",
       "    <tr>\n",
       "      <th>5288</th>\n",
       "      <td>2017-12-31 22:59:59</td>\n",
       "      <td>179.697158</td>\n",
       "      <td>15.438979</td>\n",
       "      <td>8.07</td>\n",
       "      <td>1.501068</td>\n",
       "      <td>1498.466243</td>\n",
       "      <td>-500.483984</td>\n",
       "      <td>1497.986986</td>\n",
       "      <td>-519.200340</td>\n",
       "      <td>1496.569047</td>\n",
       "      <td>...</td>\n",
       "      <td>19.958760</td>\n",
       "      <td>-499.958750</td>\n",
       "      <td>15.026853</td>\n",
       "      <td>-499.723143</td>\n",
       "      <td>11.011607</td>\n",
       "      <td>-499.985046</td>\n",
       "      <td>9.009783</td>\n",
       "      <td>-499.937902</td>\n",
       "      <td>9.012660</td>\n",
       "      <td>-500.154284</td>\n",
       "    </tr>\n",
       "    <tr>\n",
       "      <th>5289</th>\n",
       "      <td>2017-12-31 23:59:59</td>\n",
       "      <td>181.556856</td>\n",
       "      <td>14.995850</td>\n",
       "      <td>8.07</td>\n",
       "      <td>1.623454</td>\n",
       "      <td>1498.096303</td>\n",
       "      <td>-499.796922</td>\n",
       "      <td>1501.743791</td>\n",
       "      <td>-505.146931</td>\n",
       "      <td>1499.535978</td>\n",
       "      <td>...</td>\n",
       "      <td>20.034715</td>\n",
       "      <td>-500.728588</td>\n",
       "      <td>14.914199</td>\n",
       "      <td>-499.948518</td>\n",
       "      <td>10.986607</td>\n",
       "      <td>-500.658027</td>\n",
       "      <td>8.989497</td>\n",
       "      <td>-500.337588</td>\n",
       "      <td>8.988632</td>\n",
       "      <td>-500.764937</td>\n",
       "    </tr>\n",
       "  </tbody>\n",
       "</table>\n",
       "<p>5 rows × 53 columns</p>\n",
       "</div>"
      ],
      "text/plain": [
       "                     date  primary_cleaner.input.sulfate  \\\n",
       "5285  2017-12-31 19:59:59                     173.957757   \n",
       "5286  2017-12-31 20:59:59                     172.910270   \n",
       "5287  2017-12-31 21:59:59                     171.135718   \n",
       "5288  2017-12-31 22:59:59                     179.697158   \n",
       "5289  2017-12-31 23:59:59                     181.556856   \n",
       "\n",
       "      primary_cleaner.input.depressant  primary_cleaner.input.feed_size  \\\n",
       "5285                         15.963399                             8.07   \n",
       "5286                         16.002605                             8.07   \n",
       "5287                         15.993669                             8.07   \n",
       "5288                         15.438979                             8.07   \n",
       "5289                         14.995850                             8.07   \n",
       "\n",
       "      primary_cleaner.input.xanthate  primary_cleaner.state.floatbank8_a_air  \\\n",
       "5285                        0.896701                             1401.930554   \n",
       "5286                        0.896519                             1447.075722   \n",
       "5287                        1.165996                             1498.836182   \n",
       "5288                        1.501068                             1498.466243   \n",
       "5289                        1.623454                             1498.096303   \n",
       "\n",
       "      primary_cleaner.state.floatbank8_a_level  \\\n",
       "5285                               -499.728848   \n",
       "5286                               -494.716823   \n",
       "5287                               -501.770403   \n",
       "5288                               -500.483984   \n",
       "5289                               -499.796922   \n",
       "\n",
       "      primary_cleaner.state.floatbank8_b_air  \\\n",
       "5285                             1401.441445   \n",
       "5286                             1448.851892   \n",
       "5287                             1499.572353   \n",
       "5288                             1497.986986   \n",
       "5289                             1501.743791   \n",
       "\n",
       "      primary_cleaner.state.floatbank8_b_level  \\\n",
       "5285                               -499.193423   \n",
       "5286                               -465.963026   \n",
       "5287                               -495.516347   \n",
       "5288                               -519.200340   \n",
       "5289                               -505.146931   \n",
       "\n",
       "      primary_cleaner.state.floatbank8_c_air  ...  \\\n",
       "5285                             1399.810313  ...   \n",
       "5286                             1443.890424  ...   \n",
       "5287                             1502.749213  ...   \n",
       "5288                             1496.569047  ...   \n",
       "5289                             1499.535978  ...   \n",
       "\n",
       "      secondary_cleaner.state.floatbank4_a_air  \\\n",
       "5285                                 13.995957   \n",
       "5286                                 16.749781   \n",
       "5287                                 19.994130   \n",
       "5288                                 19.958760   \n",
       "5289                                 20.034715   \n",
       "\n",
       "      secondary_cleaner.state.floatbank4_a_level  \\\n",
       "5285                                 -500.157454   \n",
       "5286                                 -496.031539   \n",
       "5287                                 -499.791312   \n",
       "5288                                 -499.958750   \n",
       "5289                                 -500.728588   \n",
       "\n",
       "      secondary_cleaner.state.floatbank4_b_air  \\\n",
       "5285                                 12.069155   \n",
       "5286                                 13.365371   \n",
       "5287                                 15.101425   \n",
       "5288                                 15.026853   \n",
       "5289                                 14.914199   \n",
       "\n",
       "      secondary_cleaner.state.floatbank4_b_level  \\\n",
       "5285                                 -499.673279   \n",
       "5286                                 -499.122723   \n",
       "5287                                 -499.936252   \n",
       "5288                                 -499.723143   \n",
       "5289                                 -499.948518   \n",
       "\n",
       "      secondary_cleaner.state.floatbank5_a_air  \\\n",
       "5285                                  7.977259   \n",
       "5286                                  9.288553   \n",
       "5287                                 10.989181   \n",
       "5288                                 11.011607   \n",
       "5289                                 10.986607   \n",
       "\n",
       "      secondary_cleaner.state.floatbank5_a_level  \\\n",
       "5285                                 -499.516126   \n",
       "5286                                 -496.892967   \n",
       "5287                                 -498.347898   \n",
       "5288                                 -499.985046   \n",
       "5289                                 -500.658027   \n",
       "\n",
       "      secondary_cleaner.state.floatbank5_b_air  \\\n",
       "5285                                  5.933319   \n",
       "5286                                  7.372897   \n",
       "5287                                  9.020944   \n",
       "5288                                  9.009783   \n",
       "5289                                  8.989497   \n",
       "\n",
       "      secondary_cleaner.state.floatbank5_b_level  \\\n",
       "5285                                 -499.965973   \n",
       "5286                                 -499.942956   \n",
       "5287                                 -500.040448   \n",
       "5288                                 -499.937902   \n",
       "5289                                 -500.337588   \n",
       "\n",
       "      secondary_cleaner.state.floatbank6_a_air  \\\n",
       "5285                                  8.987171   \n",
       "5286                                  8.986832   \n",
       "5287                                  8.982038   \n",
       "5288                                  9.012660   \n",
       "5289                                  8.988632   \n",
       "\n",
       "      secondary_cleaner.state.floatbank6_a_level  \n",
       "5285                                 -499.755909  \n",
       "5286                                 -499.903761  \n",
       "5287                                 -497.789882  \n",
       "5288                                 -500.154284  \n",
       "5289                                 -500.764937  \n",
       "\n",
       "[5 rows x 53 columns]"
      ]
     },
     "execution_count": 4,
     "metadata": {},
     "output_type": "execute_result"
    }
   ],
   "source": [
    "test_df=pd.read_csv('/datasets/gold_recovery_test_new.csv')\n",
    "test_df.tail()"
   ]
  },
  {
   "cell_type": "markdown",
   "metadata": {},
   "source": [
    "Данные содержат параметры сырья,реагентов,параметры этапов очистки , отвальные хвосты и т.д.\n",
    "Имеются пропуски ."
   ]
  },
  {
   "cell_type": "markdown",
   "metadata": {},
   "source": [
    "###  Проверьте, что эффективность обогащения рассчитана правильно. Вычислите её на обучающей выборке для признака rougher.output.recovery. Найдите MAE между вашими расчётами и значением признака. Опишите выводы."
   ]
  },
  {
   "cell_type": "code",
   "execution_count": 5,
   "metadata": {},
   "outputs": [],
   "source": [
    "C = train_df['rougher.output.concentrate_au'] #создадим переменые для формулы МАЕ\n",
    "F = train_df['rougher.input.feed_au']\n",
    "T = train_df['rougher.output.tail_au']"
   ]
  },
  {
   "cell_type": "code",
   "execution_count": 6,
   "metadata": {},
   "outputs": [],
   "source": [
    "train_df['rougher.output.recovery_calc']=(C*(F-T))/(F*(C-T))*100"
   ]
  },
  {
   "cell_type": "code",
   "execution_count": 7,
   "metadata": {},
   "outputs": [
    {
     "data": {
      "text/plain": [
       "9.73512347450521e-15"
      ]
     },
     "execution_count": 7,
     "metadata": {},
     "output_type": "execute_result"
    }
   ],
   "source": [
    "def mae(target_recovery, calculated_recovery):\n",
    "    return abs(target_recovery - calculated_recovery).sum() / len(target_recovery)\n",
    "\n",
    "target_recovery = train_df['rougher.output.recovery']\n",
    "calculated_recovery = train_df['rougher.output.recovery_calc']\n",
    "\n",
    "mae(target_recovery, calculated_recovery)"
   ]
  },
  {
   "cell_type": "markdown",
   "metadata": {},
   "source": [
    "Средняя абсолютная ошибка мала , сделаю вывод , что RECOVERY посчитано верно ."
   ]
  },
  {
   "cell_type": "markdown",
   "metadata": {},
   "source": [
    "### Проанализируйте признаки, недоступные в тестовой выборке. Что это за параметры? К какому типу относятся?"
   ]
  },
  {
   "cell_type": "code",
   "execution_count": 8,
   "metadata": {},
   "outputs": [
    {
     "data": {
      "text/plain": [
       "{'final.output.concentrate_ag',\n",
       " 'final.output.concentrate_au',\n",
       " 'final.output.concentrate_pb',\n",
       " 'final.output.concentrate_sol',\n",
       " 'final.output.recovery',\n",
       " 'final.output.tail_ag',\n",
       " 'final.output.tail_au',\n",
       " 'final.output.tail_pb',\n",
       " 'final.output.tail_sol',\n",
       " 'primary_cleaner.output.concentrate_ag',\n",
       " 'primary_cleaner.output.concentrate_au',\n",
       " 'primary_cleaner.output.concentrate_pb',\n",
       " 'primary_cleaner.output.concentrate_sol',\n",
       " 'primary_cleaner.output.tail_ag',\n",
       " 'primary_cleaner.output.tail_au',\n",
       " 'primary_cleaner.output.tail_pb',\n",
       " 'primary_cleaner.output.tail_sol',\n",
       " 'rougher.calculation.au_pb_ratio',\n",
       " 'rougher.calculation.floatbank10_sulfate_to_au_feed',\n",
       " 'rougher.calculation.floatbank11_sulfate_to_au_feed',\n",
       " 'rougher.calculation.sulfate_to_au_concentrate',\n",
       " 'rougher.output.concentrate_ag',\n",
       " 'rougher.output.concentrate_au',\n",
       " 'rougher.output.concentrate_pb',\n",
       " 'rougher.output.concentrate_sol',\n",
       " 'rougher.output.recovery',\n",
       " 'rougher.output.recovery_calc',\n",
       " 'rougher.output.tail_ag',\n",
       " 'rougher.output.tail_au',\n",
       " 'rougher.output.tail_pb',\n",
       " 'rougher.output.tail_sol',\n",
       " 'secondary_cleaner.output.tail_ag',\n",
       " 'secondary_cleaner.output.tail_au',\n",
       " 'secondary_cleaner.output.tail_pb',\n",
       " 'secondary_cleaner.output.tail_sol'}"
      ]
     },
     "execution_count": 8,
     "metadata": {},
     "output_type": "execute_result"
    }
   ],
   "source": [
    "set(train_df)-set(test_df)"
   ]
  },
  {
   "cell_type": "markdown",
   "metadata": {},
   "source": [
    "Отстутсвуют данные output-параметры продукта и calculation -расчётные характеристики.\n",
    "Параметры недоступны, потому что  рассчитываются  позже.\n",
    "Отсутствуют целевые признаки: rougher.output.recovery и final.output.recovery. \n",
    "Тип отсутствующих признаков: float64."
   ]
  },
  {
   "cell_type": "markdown",
   "metadata": {},
   "source": [
    "###  Проведите предобработку данных."
   ]
  },
  {
   "cell_type": "code",
   "execution_count": 9,
   "metadata": {},
   "outputs": [
    {
     "name": "stdout",
     "output_type": "stream",
     "text": [
      "тестовая: (5290, 53)\n",
      "тренировочная: (14149, 88)\n",
      "полная: (19439, 87)\n"
     ]
    }
   ],
   "source": [
    "print('тестовая:',test_df.shape) #посмотрим на размеры таблиц\n",
    "print('тренировочная:',train_df.shape)\n",
    "print('полная:',full_df.shape)"
   ]
  },
  {
   "cell_type": "code",
   "execution_count": 10,
   "metadata": {},
   "outputs": [],
   "source": [
    "full_target_rougher = full_df['rougher.output.recovery'] #полная\n",
    "full_target_final = full_df['final.output.recovery']\n",
    "full_features = full_df.drop(['final.output.recovery','rougher.output.recovery'], axis=1)\n",
    "full_features.ffill(axis=0,inplace=True)\n",
    "\n",
    "# добавляем их обратно и сбросим пропуски у целевых\n",
    "full_features['rougher.output.recovery'] = full_target_rougher\n",
    "full_features['final.output.recovery'] = full_target_final\n",
    "full = full_features.dropna()\n",
    "full.reset_index(inplace=True, drop = True)"
   ]
  },
  {
   "cell_type": "code",
   "execution_count": 11,
   "metadata": {},
   "outputs": [],
   "source": [
    "train_target_rougher = train_df['rougher.output.recovery'] #тренировочная\n",
    "train_target_final = train_df['final.output.recovery']\n",
    "train_features = train_df.drop(['final.output.recovery','rougher.output.recovery'], axis=1)\n",
    "train_features.ffill(axis=0,inplace=True)\n",
    "\n",
    "\n",
    "train_features['rougher.output.recovery'] = train_target_rougher\n",
    "train_features['final.output.recovery'] = train_target_final\n",
    "train=train_features.dropna()\n",
    "train.reset_index(inplace=True, drop = True)"
   ]
  },
  {
   "cell_type": "markdown",
   "metadata": {},
   "source": [
    "Заполним пропуски методом `forward fill`, потому что соседние значения должны быть похожи."
   ]
  },
  {
   "cell_type": "code",
   "execution_count": 12,
   "metadata": {},
   "outputs": [],
   "source": [
    "test=test_df.ffill(axis=0) #тестовая #\n",
    "test = test.merge(right = full_df[['final.output.recovery','date']], how='left', on='date')\n",
    "test = test.merge(right = full_df[['rougher.output.recovery','date']], how='left', on='date')\n",
    "test = test.dropna()"
   ]
  },
  {
   "cell_type": "code",
   "execution_count": 13,
   "metadata": {},
   "outputs": [
    {
     "data": {
      "text/plain": [
       "0"
      ]
     },
     "execution_count": 13,
     "metadata": {},
     "output_type": "execute_result"
    }
   ],
   "source": [
    "test_df.duplicated().sum()"
   ]
  },
  {
   "cell_type": "code",
   "execution_count": 14,
   "metadata": {},
   "outputs": [
    {
     "data": {
      "text/plain": [
       "0"
      ]
     },
     "execution_count": 14,
     "metadata": {},
     "output_type": "execute_result"
    }
   ],
   "source": [
    "full_df.duplicated().sum()"
   ]
  },
  {
   "cell_type": "code",
   "execution_count": 15,
   "metadata": {},
   "outputs": [
    {
     "data": {
      "text/plain": [
       "0"
      ]
     },
     "execution_count": 15,
     "metadata": {},
     "output_type": "execute_result"
    }
   ],
   "source": [
    "train_df.duplicated().sum()"
   ]
  },
  {
   "cell_type": "code",
   "execution_count": 16,
   "metadata": {
    "scrolled": true
   },
   "outputs": [
    {
     "name": "stdout",
     "output_type": "stream",
     "text": [
      "(14149, 55)\n",
      "(5290, 55)\n"
     ]
    }
   ],
   "source": [
    "colms = list(test.columns)#удалить отсутсвующие признаки\n",
    "train = train[colms].copy()\n",
    "print(train.shape)\n",
    "print(test.shape)"
   ]
  },
  {
   "cell_type": "markdown",
   "metadata": {},
   "source": [
    "Проведена первичная предобработка данных . Определены недоступные признаки и заменены на нужные нам значения.\n",
    "Данные готовы к анализу."
   ]
  },
  {
   "cell_type": "markdown",
   "metadata": {},
   "source": [
    "## Анализ данных"
   ]
  },
  {
   "cell_type": "markdown",
   "metadata": {},
   "source": [
    "### Посмотрите, как меняется концентрация металлов (Au, Ag, Pb) на различных этапах очистки. Опишите выводы."
   ]
  },
  {
   "cell_type": "markdown",
   "metadata": {},
   "source": [
    "Золото Au"
   ]
  },
  {
   "cell_type": "code",
   "execution_count": 17,
   "metadata": {},
   "outputs": [
    {
     "name": "stdout",
     "output_type": "stream",
     "text": [
      "Концентрация Золота\n",
      "Концентрация Золота до флотации: 7.87, после флотации: 19.44, после 1 этапа:32.39, после 2 этапа: 44.00\n"
     ]
    }
   ],
   "source": [
    "print(\"Концентрация Золота\")\n",
    "print(\"Концентрация Золота до флотации:{: 0.2f}, после флотации:{: 0.2f}, после 1 этапа:{:0.2f}, после 2 этапа:{: 0.2f}\".\n",
    "format(train_df['rougher.input.feed_au'].mean(), \n",
    "train_df['rougher.output.concentrate_au'].mean(),\n",
    "train_df['primary_cleaner.output.concentrate_au'].mean(),\n",
    "train_df['final.output.concentrate_au'].mean()))"
   ]
  },
  {
   "cell_type": "markdown",
   "metadata": {},
   "source": [
    "Серебро Ag"
   ]
  },
  {
   "cell_type": "code",
   "execution_count": 18,
   "metadata": {},
   "outputs": [
    {
     "name": "stdout",
     "output_type": "stream",
     "text": [
      "Концентрация Серебра\n",
      "Концентрация Серебра до флотации: 8.58, после флотации: 11.78, после 1 этапа:8.20, после 2 этапа: 5.14\n"
     ]
    }
   ],
   "source": [
    "print(\"Концентрация Серебра\")\n",
    "print(\"Концентрация Серебра до флотации:{: 0.2f}, после флотации:{: 0.2f}, после 1 этапа:{:0.2f}, после 2 этапа:{: 0.2f}\".\n",
    "format(train_df['rougher.input.feed_ag'].mean(), \n",
    "train_df['rougher.output.concentrate_ag'].mean(),\n",
    "train_df['primary_cleaner.output.concentrate_ag'].mean(),\n",
    "train_df['final.output.concentrate_ag'].mean()))"
   ]
  },
  {
   "cell_type": "markdown",
   "metadata": {},
   "source": [
    "Свинец Pb"
   ]
  },
  {
   "cell_type": "code",
   "execution_count": 19,
   "metadata": {},
   "outputs": [
    {
     "name": "stdout",
     "output_type": "stream",
     "text": [
      "Концентрация Свинца\n",
      "Концентрация Свинца до флотации: 3.52, после флотации: 7.66, после 1 этапа:9.59, после 2 этапа: 10.13\n"
     ]
    }
   ],
   "source": [
    "print(\"Концентрация Свинца\")\n",
    "print(\"Концентрация Свинца до флотации:{: 0.2f}, после флотации:{: 0.2f}, после 1 этапа:{:0.2f}, после 2 этапа:{: 0.2f}\".\n",
    "format(train_df['rougher.input.feed_pb'].mean(), \n",
    "train_df['rougher.output.concentrate_pb'].mean(),\n",
    "train_df['primary_cleaner.output.concentrate_pb'].mean(),\n",
    "train_df['final.output.concentrate_pb'].mean()))"
   ]
  },
  {
   "cell_type": "markdown",
   "metadata": {},
   "source": [
    "Посмотрим на концентрацию металлов в процентах на графиках."
   ]
  },
  {
   "cell_type": "code",
   "execution_count": 20,
   "metadata": {},
   "outputs": [],
   "source": [
    "au = train_df[[\"rougher.input.feed_au\", \"rougher.output.concentrate_au\", \"primary_cleaner.output.concentrate_au\", \"final.output.concentrate_au\"]]\n",
    "ag = train_df[[\"rougher.input.feed_ag\", \"rougher.output.concentrate_ag\", \"primary_cleaner.output.concentrate_ag\", \"final.output.concentrate_ag\"]]\n",
    "pb = train_df[[\"rougher.input.feed_pb\", \"rougher.output.concentrate_pb\", \"primary_cleaner.output.concentrate_pb\", \"final.output.concentrate_pb\"]]"
   ]
  },
  {
   "cell_type": "code",
   "execution_count": 21,
   "metadata": {},
   "outputs": [
    {
     "name": "stderr",
     "output_type": "stream",
     "text": [
      "/opt/conda/lib/python3.9/site-packages/seaborn/distributions.py:2557: FutureWarning: `distplot` is a deprecated function and will be removed in a future version. Please adapt your code to use either `displot` (a figure-level function with similar flexibility) or `histplot` (an axes-level function for histograms).\n",
      "  warnings.warn(msg, FutureWarning)\n"
     ]
    },
    {
     "data": {
      "image/png": "[encoded data removed]",
      "text/plain": [
       "<Figure size 720x1440 with 3 Axes>"
      ]
     },
     "metadata": {
      "needs_background": "light"
     },
     "output_type": "display_data"
    }
   ],
   "source": [
    "fig, axes = plt.subplots(3, 1, figsize=(10, 20))\n",
    "for column in list(au):\n",
    "    sns.distplot(au[column], ax=axes[0], kde=False)\n",
    "axes[0].set(title='Au', xlabel='Концентрация %', ylabel='Кол-во')\n",
    "for column in list(ag):\n",
    "    sns.distplot(ag[column], ax=axes[1], kde=False)\n",
    "axes[1].set(title='Ag', xlabel='Концентрация %', ylabel='Кол-во')\n",
    "for column in list(pb):\n",
    "    sns.distplot(pb[column], ax=axes[2], kde=False)\n",
    "axes[2].set(title='Pb', xlabel='Концентрация %', ylabel='Кол-во')\n",
    "fig.legend(['rougher.input.feed', 'rougher.output.concentrate', 'primary.cleaner.output concentrate', 'final.output.concentrate'])\n",
    "fig.show()"
   ]
  },
  {
   "cell_type": "markdown",
   "metadata": {},
   "source": [
    "Сделаем вывод , что концентрация Золота , в отличии от других металов , возрастает.\n",
    "\n",
    "Напротив - металл Серебро, который имеет тенденцию к снижению своей концентрации в ходе 1 и 2 этапа очистки.\n",
    "\n",
    "Свинец , имеет тенденцию к возрастанию своей концентрации , но в отличии от Золота, в малом объеме."
   ]
  },
  {
   "cell_type": "markdown",
   "metadata": {},
   "source": [
    "###  Сравните распределения размеров гранул сырья на обучающей и тестовой выборках. Если распределения сильно отличаются друг от друга, оценка модели будет неправильной.\n",
    "\n"
   ]
  },
  {
   "cell_type": "markdown",
   "metadata": {},
   "source": [
    "Построим 2 гистограммы для сравнения размеров гранул сырья."
   ]
  },
  {
   "cell_type": "code",
   "execution_count": 22,
   "metadata": {},
   "outputs": [
    {
     "data": {
      "image/png": "[encoded data removed]",
      "text/plain": [
       "<Figure size 720x360 with 1 Axes>"
      ]
     },
     "metadata": {
      "needs_background": "light"
     },
     "output_type": "display_data"
    }
   ],
   "source": [
    "plt.figure(figsize = (10,5))\n",
    "plt.xlim(0, 200)\n",
    "ax = sns.kdeplot(train_df['rougher.input.feed_size'],alpha=0.6)\n",
    "ax = sns.kdeplot(test_df['rougher.input.feed_size'],color='orange',alpha=0.6)\n",
    "plt.title('Распределение гранул сырья на этапе флотации')\n",
    "plt.legend(['Train','Test'])\n",
    "plt.xlabel('Значение параметра')\n",
    "plt.ylabel('Частота значений')\n",
    "plt.show()"
   ]
  },
  {
   "cell_type": "code",
   "execution_count": 23,
   "metadata": {},
   "outputs": [
    {
     "data": {
      "image/png": "[encoded data removed]",
      "text/plain": [
       "<Figure size 720x360 with 1 Axes>"
      ]
     },
     "metadata": {
      "needs_background": "light"
     },
     "output_type": "display_data"
    }
   ],
   "source": [
    "plt.figure(figsize = (10,5))\n",
    "plt.xlim(4,12)\n",
    "ax = sns.kdeplot(train_df['primary_cleaner.input.feed_size'],alpha=0.6)\n",
    "ax = sns.kdeplot(test_df['primary_cleaner.input.feed_size'],color='orange',alpha=0.6)\n",
    "plt.title('Распределение гранул сырья на этапе флотации')\n",
    "plt.legend(['Train','Test'])\n",
    "plt.xlabel('Значение параметра')\n",
    "plt.ylabel('Частота значений')\n",
    "plt.show()"
   ]
  },
  {
   "cell_type": "markdown",
   "metadata": {},
   "source": [
    "Можно сделать вывод, что размеры гранул сырья на обучающей и тестовой выборках почти не отличаются."
   ]
  },
  {
   "cell_type": "markdown",
   "metadata": {},
   "source": [
    "### Исследуйте суммарную концентрацию всех веществ на разных стадиях: в сырье, в черновом и финальном концентратах."
   ]
  },
  {
   "cell_type": "code",
   "execution_count": 24,
   "metadata": {},
   "outputs": [],
   "source": [
    "full['input']=full['rougher.input.feed_au']+full['rougher.input.feed_ag']+full['rougher.input.feed_pb']"
   ]
  },
  {
   "cell_type": "code",
   "execution_count": 25,
   "metadata": {},
   "outputs": [],
   "source": [
    "full['output']=full['rougher.output.concentrate_au']+full['rougher.output.concentrate_ag']+full['rougher.output.concentrate_pb']"
   ]
  },
  {
   "cell_type": "code",
   "execution_count": 26,
   "metadata": {},
   "outputs": [],
   "source": [
    "full['clean']=full['primary_cleaner.output.concentrate_au']+full['primary_cleaner.output.concentrate_pb']+full['primary_cleaner.output.concentrate_ag']"
   ]
  },
  {
   "cell_type": "code",
   "execution_count": 27,
   "metadata": {},
   "outputs": [],
   "source": [
    "full['final']=full['final.output.concentrate_au']+full['final.output.concentrate_ag']+full['final.output.concentrate_pb']"
   ]
  },
  {
   "cell_type": "code",
   "execution_count": 28,
   "metadata": {},
   "outputs": [
    {
     "data": {
      "image/png": "[encoded data removed]",
      "text/plain": [
       "<Figure size 932.75x576 with 1 Axes>"
      ]
     },
     "metadata": {
      "needs_background": "light"
     },
     "output_type": "display_data"
    }
   ],
   "source": [
    "sns.displot(full[['input','output','clean','final']],legend=True,kde=True,height=8,aspect=1.5)\n",
    "plt.title('Сумма концентрации всех веществ на разных стадиях')\n",
    "plt.show()"
   ]
  },
  {
   "cell_type": "code",
   "execution_count": 29,
   "metadata": {},
   "outputs": [
    {
     "data": {
      "text/plain": [
       "600"
      ]
     },
     "execution_count": 29,
     "metadata": {},
     "output_type": "execute_result"
    }
   ],
   "source": [
    "len(full[full['input']==0])+len(full[full['output']==0])+len(full[full['clean']==0])+len(full[full['final']==0])"
   ]
  },
  {
   "cell_type": "markdown",
   "metadata": {},
   "source": [
    "Судя по распределению данные распределены нормално , но суммарная концентрация некоторый веществ имеет аномальные значения на уровне 0 (600 наблюдений), исходя из технического процесса, такого не может быть. Удалим нулевые значения , иначе они могут нам исказить дальнейшие действия. "
   ]
  },
  {
   "cell_type": "code",
   "execution_count": 30,
   "metadata": {},
   "outputs": [],
   "source": [
    "full_good=full[\n",
    "(full['input']>0)&\n",
    "(full['output']>0)&\n",
    "(full['clean']>0)&\n",
    "(full['final']>0)].copy() # от 0 значений избавились"
   ]
  },
  {
   "cell_type": "code",
   "execution_count": 31,
   "metadata": {},
   "outputs": [],
   "source": [
    "train_good=train[train['date'].isin(full_good['date'])].copy()\n",
    "test_good=test[test['date'].isin(full_good['date'])].copy()"
   ]
  },
  {
   "cell_type": "code",
   "execution_count": 32,
   "metadata": {},
   "outputs": [],
   "source": [
    "train_good.dropna(inplace=True)\n",
    "test_good.dropna(inplace=True)"
   ]
  },
  {
   "cell_type": "markdown",
   "metadata": {},
   "source": [
    "Подведем итог анализа данных : "
   ]
  },
  {
   "cell_type": "markdown",
   "metadata": {},
   "source": [
    "Концентрация золота , свинца увеличивается с каждой очисткой.\n",
    "\n",
    "Концентрация серебра наоборот уменьшается.\n",
    "\n",
    "Распределение гранул сырья не отразится  негативно, оставим значения без изменений.\n",
    "\n",
    "Строки аномально с пустым значением концетрации удалены."
   ]
  },
  {
   "cell_type": "markdown",
   "metadata": {},
   "source": [
    "## Постройте модель\n"
   ]
  },
  {
   "cell_type": "markdown",
   "metadata": {},
   "source": [
    "### Напишите функцию для вычисления итоговой sMAPE.\n"
   ]
  },
  {
   "cell_type": "code",
   "execution_count": 33,
   "metadata": {},
   "outputs": [],
   "source": [
    "def sMAPE(target, predict):\n",
    "    target = target.to_numpy()\n",
    "    total = 0\n",
    "    for y in range(len(target)):\n",
    "        total += abs(target[y, 0] - predict[y, 0]) / (abs(target[y, 0] + predict[y, 0]) / 2)\n",
    "    sMAPE_1 = total / len(target) * 100\n",
    "    \n",
    "    total = 0\n",
    "    for y in range(len(target)):\n",
    "        total += abs(target[y, 1] - predict[y, 1]) / (abs(target[y, 1] + predict[y, 1]) / 2)\n",
    "    sMAPE_2 = total / len(target) * 100\n",
    "    \n",
    "    return 0.25 * sMAPE_1 + 0.75 * sMAPE_2"
   ]
  },
  {
   "cell_type": "markdown",
   "metadata": {},
   "source": [
    "Разделим фреймы на таргеты и фичи"
   ]
  },
  {
   "cell_type": "code",
   "execution_count": 34,
   "metadata": {},
   "outputs": [],
   "source": [
    "features = train_good.drop(['date','rougher.output.recovery', 'final.output.recovery'], axis=1)\n",
    "target = train_good[['rougher.output.recovery', 'final.output.recovery']]"
   ]
  },
  {
   "cell_type": "markdown",
   "metadata": {},
   "source": [
    "### Обучите разные модели и оцените их качество кросс-валидацией. Выберите лучшую модель и проверьте её на тестовой выборке. Опишите выводы."
   ]
  },
  {
   "cell_type": "code",
   "execution_count": 35,
   "metadata": {},
   "outputs": [],
   "source": [
    "scaler = StandardScaler()\n",
    "scaler.fit(features) \n",
    "features = scaler.transform(features)"
   ]
  },
  {
   "cell_type": "code",
   "execution_count": 36,
   "metadata": {},
   "outputs": [],
   "source": [
    "smape_scorer = make_scorer(sMAPE, greater_is_better=False) "
   ]
  },
  {
   "cell_type": "code",
   "execution_count": 37,
   "metadata": {},
   "outputs": [
    {
     "name": "stdout",
     "output_type": "stream",
     "text": [
      "Средняя оценка качества модели: 10.02932338763636\n"
     ]
    }
   ],
   "source": [
    "model = LinearRegression() \n",
    "\n",
    "scores = -1 * cross_val_score(model, features, target, scoring=smape_scorer, cv=5)\n",
    "final_score = scores.mean()\n",
    "print('Средняя оценка качества модели:', final_score)"
   ]
  },
  {
   "cell_type": "code",
   "execution_count": 38,
   "metadata": {},
   "outputs": [
    {
     "name": "stdout",
     "output_type": "stream",
     "text": [
      "Средняя оценка качества модели: 9.174433066207342\n"
     ]
    }
   ],
   "source": [
    "best_depth_t = 0\n",
    "final_score_b = 1000\n",
    "\n",
    "for depth in range(2, 12):\n",
    "    model = DecisionTreeRegressor(random_state=12345, max_depth=depth)\n",
    "    scores = -1 * cross_val_score(model, features, target, scoring=smape_scorer, cv=5)\n",
    "    final_score = scores.mean()\n",
    "    if final_score < final_score_b:\n",
    "        final_score_b = final_score\n",
    "        best_depth_t = depth\n",
    "        \n",
    "# сохраним лучшие параметры в словаре\n",
    "tree_best = {'depth':best_depth_t}\n",
    "print('Средняя оценка качества модели:', final_score_b)"
   ]
  },
  {
   "cell_type": "code",
   "execution_count": 39,
   "metadata": {},
   "outputs": [
    {
     "name": "stdout",
     "output_type": "stream",
     "text": [
      "Средняя оценка качества модели: 8.743740611117246\n"
     ]
    }
   ],
   "source": [
    "best_depth_f = 0\n",
    "best_est_f = 0\n",
    "final_score_b = 1000\n",
    "\n",
    "for est in range(10,31,10):\n",
    "    for depth in range (2, 8):\n",
    "        model = RandomForestRegressor(random_state=12345, n_estimators=est, max_depth=depth)\n",
    "        scores = -1 * cross_val_score(model, features, target, scoring=smape_scorer, cv=5)\n",
    "        final_score = scores.mean()\n",
    "        if final_score < final_score_b:\n",
    "            final_score_b = final_score\n",
    "            best_est_f = est\n",
    "            best_depth_f = depth\n",
    "            \n",
    "# сохраняем параметры в словаре\n",
    "forest_best = {'depth':best_depth_f, 'n_estimators':best_est_f}\n",
    "print('Средняя оценка качества модели:', final_score_b)"
   ]
  },
  {
   "cell_type": "code",
   "execution_count": 40,
   "metadata": {},
   "outputs": [
    {
     "data": {
      "text/plain": [
       "{'depth': 4, 'n_estimators': 30}"
      ]
     },
     "execution_count": 40,
     "metadata": {},
     "output_type": "execute_result"
    }
   ],
   "source": [
    "forest_best"
   ]
  },
  {
   "cell_type": "markdown",
   "metadata": {},
   "source": [
    "Из трех обученных моделей лучшуюметрику показал Сучайный лес с количеством деревьев 30 и глубиной 4. Проверим модель на тесте."
   ]
  },
  {
   "cell_type": "code",
   "execution_count": 41,
   "metadata": {},
   "outputs": [
    {
     "name": "stdout",
     "output_type": "stream",
     "text": [
      "Итоговый sMAPE на тестовой выборке: 9.501804088408816\n"
     ]
    }
   ],
   "source": [
    "features_train = train_good.drop(['date','rougher.output.recovery', 'final.output.recovery'], axis=1)\n",
    "scaler.fit(features_train)\n",
    "features_train = scaler.transform(features_train)\n",
    "target_train = train_good[['rougher.output.recovery', 'final.output.recovery']]\n",
    "\n",
    "target_test = (full[full['date'].isin(test['date'])].reset_index(drop=True))\n",
    "\n",
    "features_test = test.drop(['date','rougher.output.recovery', 'final.output.recovery'], axis=1)\n",
    "features_test = scaler.transform(features_test)\n",
    "target_test = test[['rougher.output.recovery', 'final.output.recovery']]\n",
    "\n",
    "model = RandomForestRegressor(random_state=12345,n_estimators=30,max_depth=4)\n",
    "model.fit(features_train, target_train)\n",
    "predicted = model.predict(features_test)\n",
    "\n",
    "sMAPE_test = sMAPE(target_test, predicted)\n",
    "print('Итоговый sMAPE на тестовой выборке:', sMAPE_test)"
   ]
  },
  {
   "cell_type": "code",
   "execution_count": 42,
   "metadata": {},
   "outputs": [
    {
     "name": "stdout",
     "output_type": "stream",
     "text": [
      "Итоговый sMAPE на dummy: 9.831066377059836\n"
     ]
    }
   ],
   "source": [
    "dummy_regr = DummyRegressor(strategy=\"mean\")\n",
    "dummy_regr.fit(features_train, target_train)\n",
    "predicted_dummy = dummy_regr.predict(features_test)\n",
    "\n",
    "sMAPE_dummy = sMAPE(target_test, predicted_dummy)\n",
    "print('Итоговый sMAPE на dummy:', sMAPE_dummy)"
   ]
  },
  {
   "cell_type": "markdown",
   "metadata": {},
   "source": [
    "Лучший резульат показала модель Случайного леса. Проверку на адекватность модель прошла успешно , так как метрика на тестовой выборке лучше, чем у  констатной модели"
   ]
  },
  {
   "cell_type": "markdown",
   "metadata": {},
   "source": [
    "В ходе выполнения проекта изучили данные , проанализировали и провели предобработку , в ходе чего,  исследовали размеры гранул сырья и конценрацию на различных стадиях. Выявили лучшую модель для прогноза с менее убыточным исходом. Лучшей моделью считать - Случайный лес, при параметрах с количеством деревьев 30 и глубиной 4.\n",
    "\n",
    "Итоговый sMAPE на тестовой выборке - 9.5. Проверка адекватности модели - sMAPE при DummyRegressor - 9.8."
   ]
  }
 ],
 "metadata": {
  "ExecuteTimeLog": [
   {
    "duration": 422,
    "start_time": "2022-09-27T17:23:29.801Z"
   },
   {
    "duration": 599,
    "start_time": "2022-09-27T17:23:30.902Z"
   },
   {
    "duration": 1237,
    "start_time": "2022-09-27T17:23:32.750Z"
   },
   {
    "duration": 157,
    "start_time": "2022-09-27T17:23:34.479Z"
   },
   {
    "duration": 469,
    "start_time": "2022-09-27T17:24:51.909Z"
   },
   {
    "duration": 394,
    "start_time": "2022-09-27T17:25:05.430Z"
   },
   {
    "duration": 296,
    "start_time": "2022-09-27T17:25:56.484Z"
   },
   {
    "duration": 108,
    "start_time": "2022-09-27T17:26:20.902Z"
   },
   {
    "duration": 17,
    "start_time": "2022-09-27T17:27:09.961Z"
   },
   {
    "duration": 29,
    "start_time": "2022-09-27T17:28:42.541Z"
   },
   {
    "duration": 285,
    "start_time": "2022-09-27T18:00:35.113Z"
   },
   {
    "duration": 383,
    "start_time": "2022-09-27T18:02:51.156Z"
   },
   {
    "duration": 274,
    "start_time": "2022-09-27T18:02:55.592Z"
   },
   {
    "duration": 87,
    "start_time": "2022-09-27T18:02:59.856Z"
   },
   {
    "duration": 61,
    "start_time": "2022-09-27T18:04:06.586Z"
   },
   {
    "duration": 640,
    "start_time": "2022-09-27T18:04:12.437Z"
   },
   {
    "duration": 364,
    "start_time": "2022-09-27T18:04:13.079Z"
   },
   {
    "duration": 252,
    "start_time": "2022-09-27T18:04:13.445Z"
   },
   {
    "duration": 42,
    "start_time": "2022-09-27T18:04:14.535Z"
   },
   {
    "duration": 9,
    "start_time": "2022-09-27T18:04:24.757Z"
   },
   {
    "duration": 9,
    "start_time": "2022-09-27T18:27:40.107Z"
   },
   {
    "duration": 277,
    "start_time": "2022-09-27T18:32:59.293Z"
   },
   {
    "duration": 310,
    "start_time": "2022-09-27T18:35:29.213Z"
   },
   {
    "duration": 9,
    "start_time": "2022-09-27T18:36:02.968Z"
   },
   {
    "duration": 3,
    "start_time": "2022-09-27T18:41:09.142Z"
   },
   {
    "duration": 121,
    "start_time": "2022-09-27T18:41:10.521Z"
   },
   {
    "duration": 28,
    "start_time": "2022-09-27T18:42:41.988Z"
   },
   {
    "duration": 9,
    "start_time": "2022-09-27T18:43:02.763Z"
   },
   {
    "duration": 6,
    "start_time": "2022-09-27T18:44:37.507Z"
   },
   {
    "duration": 1329,
    "start_time": "2022-09-27T18:44:45.566Z"
   },
   {
    "duration": 5,
    "start_time": "2022-09-27T18:45:41.464Z"
   },
   {
    "duration": 10,
    "start_time": "2022-09-27T18:45:42.087Z"
   },
   {
    "duration": 5,
    "start_time": "2022-09-27T18:46:08.357Z"
   },
   {
    "duration": 6,
    "start_time": "2022-09-27T18:46:08.694Z"
   },
   {
    "duration": 3,
    "start_time": "2022-09-27T18:48:05.242Z"
   },
   {
    "duration": 349,
    "start_time": "2022-09-27T18:48:05.450Z"
   },
   {
    "duration": 265,
    "start_time": "2022-09-27T18:48:05.801Z"
   },
   {
    "duration": 72,
    "start_time": "2022-09-27T18:48:06.069Z"
   },
   {
    "duration": 3,
    "start_time": "2022-09-27T18:48:06.620Z"
   },
   {
    "duration": 6,
    "start_time": "2022-09-27T18:48:06.940Z"
   },
   {
    "duration": 7,
    "start_time": "2022-09-27T18:48:07.389Z"
   },
   {
    "duration": 255,
    "start_time": "2022-09-27T18:48:17.819Z"
   },
   {
    "duration": 73,
    "start_time": "2022-09-27T18:48:18.174Z"
   },
   {
    "duration": 4,
    "start_time": "2022-09-27T18:48:27.562Z"
   },
   {
    "duration": 5,
    "start_time": "2022-09-27T18:48:28.018Z"
   },
   {
    "duration": 7,
    "start_time": "2022-09-27T18:48:28.558Z"
   },
   {
    "duration": 58,
    "start_time": "2022-09-29T13:05:27.441Z"
   },
   {
    "duration": 1115,
    "start_time": "2022-09-29T13:05:31.744Z"
   },
   {
    "duration": 2042,
    "start_time": "2022-09-29T13:05:32.861Z"
   },
   {
    "duration": 904,
    "start_time": "2022-09-29T13:05:34.906Z"
   },
   {
    "duration": 386,
    "start_time": "2022-09-29T13:05:35.811Z"
   },
   {
    "duration": 4,
    "start_time": "2022-09-29T13:05:36.199Z"
   },
   {
    "duration": 10,
    "start_time": "2022-09-29T13:05:36.205Z"
   },
   {
    "duration": 14,
    "start_time": "2022-09-29T13:05:36.217Z"
   },
   {
    "duration": 22,
    "start_time": "2022-09-29T13:05:37.355Z"
   },
   {
    "duration": 40,
    "start_time": "2022-09-29T13:42:18.116Z"
   },
   {
    "duration": 7,
    "start_time": "2022-09-29T13:42:26.521Z"
   },
   {
    "duration": 12,
    "start_time": "2022-09-29T13:43:48.875Z"
   },
   {
    "duration": 10,
    "start_time": "2022-09-29T13:43:52.709Z"
   },
   {
    "duration": 12,
    "start_time": "2022-09-29T13:44:04.953Z"
   },
   {
    "duration": 8,
    "start_time": "2022-09-29T13:45:48.228Z"
   },
   {
    "duration": 1093,
    "start_time": "2022-09-29T13:45:55.553Z"
   },
   {
    "duration": 403,
    "start_time": "2022-09-29T13:45:56.648Z"
   },
   {
    "duration": 302,
    "start_time": "2022-09-29T13:45:57.053Z"
   },
   {
    "duration": 105,
    "start_time": "2022-09-29T13:45:57.357Z"
   },
   {
    "duration": 4,
    "start_time": "2022-09-29T13:45:57.465Z"
   },
   {
    "duration": 11,
    "start_time": "2022-09-29T13:45:57.471Z"
   },
   {
    "duration": 13,
    "start_time": "2022-09-29T13:45:57.484Z"
   },
   {
    "duration": 7,
    "start_time": "2022-09-29T13:45:57.498Z"
   },
   {
    "duration": 106,
    "start_time": "2022-09-29T13:51:59.363Z"
   },
   {
    "duration": 7,
    "start_time": "2022-09-29T13:52:45.644Z"
   },
   {
    "duration": 12,
    "start_time": "2022-09-29T13:52:50.408Z"
   },
   {
    "duration": 49,
    "start_time": "2022-09-29T18:01:45.312Z"
   },
   {
    "duration": 1180,
    "start_time": "2022-09-29T18:01:49.393Z"
   },
   {
    "duration": 1905,
    "start_time": "2022-09-29T18:01:50.575Z"
   },
   {
    "duration": 12,
    "start_time": "2022-09-29T18:02:52.697Z"
   },
   {
    "duration": 64,
    "start_time": "2022-09-29T18:03:01.928Z"
   },
   {
    "duration": 10,
    "start_time": "2022-09-29T18:03:10.893Z"
   },
   {
    "duration": 9,
    "start_time": "2022-09-29T18:22:33.098Z"
   },
   {
    "duration": 8,
    "start_time": "2022-09-29T18:22:36.687Z"
   },
   {
    "duration": 3,
    "start_time": "2022-09-29T18:22:40.914Z"
   },
   {
    "duration": 383,
    "start_time": "2022-09-29T18:22:41.086Z"
   },
   {
    "duration": 796,
    "start_time": "2022-09-29T18:22:41.470Z"
   },
   {
    "duration": 397,
    "start_time": "2022-09-29T18:22:42.268Z"
   },
   {
    "duration": 4,
    "start_time": "2022-09-29T18:22:42.667Z"
   },
   {
    "duration": 23,
    "start_time": "2022-09-29T18:22:42.673Z"
   },
   {
    "duration": 7,
    "start_time": "2022-09-29T18:22:42.697Z"
   },
   {
    "duration": 11,
    "start_time": "2022-09-29T18:22:45.827Z"
   },
   {
    "duration": 5,
    "start_time": "2022-09-29T18:22:56.879Z"
   },
   {
    "duration": 104,
    "start_time": "2022-09-29T18:37:12.523Z"
   },
   {
    "duration": 1096,
    "start_time": "2022-10-05T06:46:45.585Z"
   },
   {
    "duration": 605,
    "start_time": "2022-10-05T06:46:46.683Z"
   },
   {
    "duration": 1517,
    "start_time": "2022-10-05T06:46:47.290Z"
   },
   {
    "duration": 164,
    "start_time": "2022-10-05T06:46:48.809Z"
   },
   {
    "duration": 4,
    "start_time": "2022-10-05T06:46:48.974Z"
   },
   {
    "duration": 9,
    "start_time": "2022-10-05T06:46:48.980Z"
   },
   {
    "duration": 7,
    "start_time": "2022-10-05T06:46:48.991Z"
   },
   {
    "duration": 16,
    "start_time": "2022-10-05T06:47:20.325Z"
   },
   {
    "duration": 26,
    "start_time": "2022-10-05T06:47:30.181Z"
   },
   {
    "duration": 7,
    "start_time": "2022-10-05T06:47:37.213Z"
   },
   {
    "duration": 8,
    "start_time": "2022-10-05T06:49:33.921Z"
   },
   {
    "duration": 107,
    "start_time": "2022-10-05T06:50:07.747Z"
   },
   {
    "duration": 114,
    "start_time": "2022-10-05T06:50:52.715Z"
   },
   {
    "duration": 7,
    "start_time": "2022-10-05T06:51:10.441Z"
   },
   {
    "duration": 4,
    "start_time": "2022-10-05T06:51:16.695Z"
   },
   {
    "duration": 9,
    "start_time": "2022-10-05T06:51:20.282Z"
   },
   {
    "duration": 7,
    "start_time": "2022-10-05T06:52:06.110Z"
   },
   {
    "duration": 7,
    "start_time": "2022-10-05T06:52:27.426Z"
   },
   {
    "duration": 7,
    "start_time": "2022-10-05T06:52:34.435Z"
   },
   {
    "duration": 11,
    "start_time": "2022-10-05T06:55:59.903Z"
   },
   {
    "duration": 11,
    "start_time": "2022-10-05T06:56:28.254Z"
   },
   {
    "duration": 9,
    "start_time": "2022-10-05T06:57:29.840Z"
   },
   {
    "duration": 430,
    "start_time": "2022-10-05T07:00:31.366Z"
   },
   {
    "duration": 362,
    "start_time": "2022-10-05T07:00:42.109Z"
   },
   {
    "duration": 93,
    "start_time": "2022-10-05T07:25:32.962Z"
   },
   {
    "duration": 71,
    "start_time": "2022-10-05T07:25:36.530Z"
   },
   {
    "duration": 108,
    "start_time": "2022-10-05T07:25:48.067Z"
   },
   {
    "duration": 10,
    "start_time": "2022-10-05T07:25:53.701Z"
   },
   {
    "duration": 3,
    "start_time": "2022-10-05T07:26:06.286Z"
   },
   {
    "duration": 368,
    "start_time": "2022-10-05T07:26:06.383Z"
   },
   {
    "duration": 258,
    "start_time": "2022-10-05T07:26:06.754Z"
   },
   {
    "duration": 97,
    "start_time": "2022-10-05T07:26:07.014Z"
   },
   {
    "duration": 4,
    "start_time": "2022-10-05T07:26:07.990Z"
   },
   {
    "duration": 6,
    "start_time": "2022-10-05T07:26:08.088Z"
   },
   {
    "duration": 6,
    "start_time": "2022-10-05T07:26:08.385Z"
   },
   {
    "duration": 7,
    "start_time": "2022-10-05T07:26:10.131Z"
   },
   {
    "duration": 6,
    "start_time": "2022-10-05T07:26:10.711Z"
   },
   {
    "duration": 9,
    "start_time": "2022-10-05T07:26:14.281Z"
   },
   {
    "duration": 8,
    "start_time": "2022-10-05T07:26:14.568Z"
   },
   {
    "duration": 5,
    "start_time": "2022-10-05T07:31:23.433Z"
   },
   {
    "duration": 4,
    "start_time": "2022-10-05T07:31:44.948Z"
   },
   {
    "duration": 4,
    "start_time": "2022-10-05T07:32:02.182Z"
   },
   {
    "duration": 12,
    "start_time": "2022-10-05T07:38:23.709Z"
   },
   {
    "duration": 9,
    "start_time": "2022-10-05T07:41:26.672Z"
   },
   {
    "duration": 8,
    "start_time": "2022-10-05T07:41:33.876Z"
   },
   {
    "duration": 31,
    "start_time": "2022-10-05T07:41:45.251Z"
   },
   {
    "duration": 6,
    "start_time": "2022-10-05T07:41:54.471Z"
   },
   {
    "duration": 12,
    "start_time": "2022-10-05T07:42:08.163Z"
   },
   {
    "duration": 7,
    "start_time": "2022-10-05T07:42:14.370Z"
   },
   {
    "duration": 5,
    "start_time": "2022-10-05T07:42:51.772Z"
   },
   {
    "duration": 4,
    "start_time": "2022-10-05T07:43:18.574Z"
   },
   {
    "duration": 8,
    "start_time": "2022-10-05T07:43:20.829Z"
   },
   {
    "duration": 22,
    "start_time": "2022-10-05T07:44:04.417Z"
   },
   {
    "duration": 24,
    "start_time": "2022-10-05T07:44:10.333Z"
   },
   {
    "duration": 102,
    "start_time": "2022-10-05T07:44:29.895Z"
   },
   {
    "duration": 122,
    "start_time": "2022-10-05T07:44:44.658Z"
   },
   {
    "duration": 17,
    "start_time": "2022-10-05T07:45:05.721Z"
   },
   {
    "duration": 100,
    "start_time": "2022-10-05T07:45:06.154Z"
   },
   {
    "duration": 119,
    "start_time": "2022-10-05T07:45:06.465Z"
   },
   {
    "duration": 286,
    "start_time": "2022-10-05T07:45:35.713Z"
   },
   {
    "duration": 380,
    "start_time": "2022-10-05T07:45:45.774Z"
   },
   {
    "duration": 3,
    "start_time": "2022-10-05T07:46:00.868Z"
   },
   {
    "duration": 4,
    "start_time": "2022-10-05T07:46:17.338Z"
   },
   {
    "duration": 4,
    "start_time": "2022-10-05T07:47:29.691Z"
   },
   {
    "duration": 9,
    "start_time": "2022-10-05T07:47:29.994Z"
   },
   {
    "duration": 4,
    "start_time": "2022-10-05T07:47:30.500Z"
   },
   {
    "duration": 11,
    "start_time": "2022-10-05T07:47:59.626Z"
   },
   {
    "duration": 3,
    "start_time": "2022-10-05T07:47:59.900Z"
   },
   {
    "duration": 10,
    "start_time": "2022-10-05T07:48:00.106Z"
   },
   {
    "duration": 4,
    "start_time": "2022-10-05T07:48:00.363Z"
   },
   {
    "duration": 9,
    "start_time": "2022-10-05T07:49:17.544Z"
   },
   {
    "duration": 11,
    "start_time": "2022-10-05T07:50:03.380Z"
   },
   {
    "duration": 13,
    "start_time": "2022-10-05T07:50:06.268Z"
   },
   {
    "duration": 9,
    "start_time": "2022-10-05T07:50:14.238Z"
   },
   {
    "duration": 10,
    "start_time": "2022-10-05T07:52:10.023Z"
   },
   {
    "duration": 9,
    "start_time": "2022-10-05T07:52:13.849Z"
   },
   {
    "duration": 14,
    "start_time": "2022-10-05T07:54:14.873Z"
   },
   {
    "duration": 9,
    "start_time": "2022-10-05T07:56:25.146Z"
   },
   {
    "duration": 8,
    "start_time": "2022-10-05T07:56:29.436Z"
   },
   {
    "duration": 9,
    "start_time": "2022-10-05T07:56:39.570Z"
   },
   {
    "duration": 8,
    "start_time": "2022-10-05T07:56:43.121Z"
   },
   {
    "duration": 3,
    "start_time": "2022-10-05T07:57:26.477Z"
   },
   {
    "duration": 354,
    "start_time": "2022-10-05T07:57:27.263Z"
   },
   {
    "duration": 259,
    "start_time": "2022-10-05T07:57:27.619Z"
   },
   {
    "duration": 87,
    "start_time": "2022-10-05T07:57:28.024Z"
   },
   {
    "duration": 3,
    "start_time": "2022-10-05T07:57:29.025Z"
   },
   {
    "duration": 6,
    "start_time": "2022-10-05T07:57:29.232Z"
   },
   {
    "duration": 7,
    "start_time": "2022-10-05T07:57:29.825Z"
   },
   {
    "duration": 7,
    "start_time": "2022-10-05T07:57:30.827Z"
   },
   {
    "duration": 6,
    "start_time": "2022-10-05T07:57:31.050Z"
   },
   {
    "duration": 5,
    "start_time": "2022-10-05T07:57:31.819Z"
   },
   {
    "duration": 7,
    "start_time": "2022-10-05T07:57:32.341Z"
   },
   {
    "duration": 21,
    "start_time": "2022-10-05T07:57:33.117Z"
   },
   {
    "duration": 94,
    "start_time": "2022-10-05T07:57:33.397Z"
   },
   {
    "duration": 121,
    "start_time": "2022-10-05T07:57:33.685Z"
   },
   {
    "duration": 9,
    "start_time": "2022-10-05T07:57:34.213Z"
   },
   {
    "duration": 5,
    "start_time": "2022-10-05T07:57:34.486Z"
   },
   {
    "duration": 9,
    "start_time": "2022-10-05T07:57:34.750Z"
   },
   {
    "duration": 4,
    "start_time": "2022-10-05T07:57:34.990Z"
   },
   {
    "duration": 25,
    "start_time": "2022-10-05T07:57:35.519Z"
   },
   {
    "duration": 10,
    "start_time": "2022-10-05T07:57:35.856Z"
   },
   {
    "duration": 9,
    "start_time": "2022-10-05T07:57:36.537Z"
   },
   {
    "duration": 896,
    "start_time": "2022-10-05T07:57:44.490Z"
   },
   {
    "duration": 620,
    "start_time": "2022-10-05T07:58:42.995Z"
   },
   {
    "duration": 10,
    "start_time": "2022-10-05T07:58:47.772Z"
   },
   {
    "duration": 612,
    "start_time": "2022-10-05T07:59:01.250Z"
   },
   {
    "duration": 10,
    "start_time": "2022-10-05T08:00:08.705Z"
   },
   {
    "duration": 9,
    "start_time": "2022-10-05T08:00:17.764Z"
   },
   {
    "duration": 9,
    "start_time": "2022-10-05T08:00:31.099Z"
   },
   {
    "duration": 10,
    "start_time": "2022-10-05T08:02:07.325Z"
   },
   {
    "duration": 9,
    "start_time": "2022-10-05T08:02:13.606Z"
   },
   {
    "duration": 11,
    "start_time": "2022-10-05T08:02:28.019Z"
   },
   {
    "duration": 101,
    "start_time": "2022-10-05T08:02:31.410Z"
   },
   {
    "duration": 9,
    "start_time": "2022-10-05T08:02:37.438Z"
   },
   {
    "duration": 12,
    "start_time": "2022-10-05T08:02:42.050Z"
   },
   {
    "duration": 3,
    "start_time": "2022-10-05T08:02:45.282Z"
   },
   {
    "duration": 1868,
    "start_time": "2022-10-05T08:10:37.878Z"
   },
   {
    "duration": 12,
    "start_time": "2022-10-06T08:28:34.597Z"
   },
   {
    "duration": 19,
    "start_time": "2022-10-06T08:29:18.412Z"
   },
   {
    "duration": 807,
    "start_time": "2022-10-06T08:30:55.851Z"
   },
   {
    "duration": 10,
    "start_time": "2022-10-06T08:37:21.867Z"
   },
   {
    "duration": 4,
    "start_time": "2022-10-06T08:37:45.726Z"
   },
   {
    "duration": 3,
    "start_time": "2022-10-06T08:38:04.595Z"
   },
   {
    "duration": 4,
    "start_time": "2022-10-06T08:38:08.259Z"
   },
   {
    "duration": 1003,
    "start_time": "2022-10-06T08:38:21.416Z"
   },
   {
    "duration": 3,
    "start_time": "2022-10-06T08:39:17.406Z"
   },
   {
    "duration": 8,
    "start_time": "2022-10-06T08:41:48.403Z"
   },
   {
    "duration": 7,
    "start_time": "2022-10-06T08:41:55.841Z"
   },
   {
    "duration": 48,
    "start_time": "2022-10-06T08:43:35.786Z"
   },
   {
    "duration": 5,
    "start_time": "2022-10-06T08:43:57.675Z"
   },
   {
    "duration": 11,
    "start_time": "2022-10-06T08:47:07.658Z"
   },
   {
    "duration": 5,
    "start_time": "2022-10-06T08:47:29.698Z"
   },
   {
    "duration": 10,
    "start_time": "2022-10-06T08:47:55.194Z"
   },
   {
    "duration": 6,
    "start_time": "2022-10-06T08:48:03.889Z"
   },
   {
    "duration": 4,
    "start_time": "2022-10-06T08:48:21.402Z"
   },
   {
    "duration": 4,
    "start_time": "2022-10-06T08:48:43.710Z"
   },
   {
    "duration": 5,
    "start_time": "2022-10-06T08:49:44.482Z"
   },
   {
    "duration": 839,
    "start_time": "2022-10-06T08:49:57.091Z"
   },
   {
    "duration": 1165,
    "start_time": "2022-10-06T08:50:32.312Z"
   },
   {
    "duration": 362,
    "start_time": "2022-10-06T08:50:33.478Z"
   },
   {
    "duration": 268,
    "start_time": "2022-10-06T08:50:33.842Z"
   },
   {
    "duration": 99,
    "start_time": "2022-10-06T08:50:34.113Z"
   },
   {
    "duration": 4,
    "start_time": "2022-10-06T08:50:34.214Z"
   },
   {
    "duration": 9,
    "start_time": "2022-10-06T08:50:34.220Z"
   },
   {
    "duration": 8,
    "start_time": "2022-10-06T08:50:34.231Z"
   },
   {
    "duration": 10,
    "start_time": "2022-10-06T08:50:34.241Z"
   },
   {
    "duration": 8,
    "start_time": "2022-10-06T08:50:34.253Z"
   },
   {
    "duration": 5,
    "start_time": "2022-10-06T08:50:34.264Z"
   },
   {
    "duration": 44,
    "start_time": "2022-10-06T08:50:34.271Z"
   },
   {
    "duration": 30,
    "start_time": "2022-10-06T08:50:34.318Z"
   },
   {
    "duration": 119,
    "start_time": "2022-10-06T08:50:34.350Z"
   },
   {
    "duration": 139,
    "start_time": "2022-10-06T08:50:34.470Z"
   },
   {
    "duration": 8,
    "start_time": "2022-10-06T08:50:34.611Z"
   },
   {
    "duration": 6,
    "start_time": "2022-10-06T08:50:34.620Z"
   },
   {
    "duration": 14,
    "start_time": "2022-10-06T08:50:34.627Z"
   },
   {
    "duration": 4,
    "start_time": "2022-10-06T08:50:34.642Z"
   },
   {
    "duration": 3,
    "start_time": "2022-10-06T08:50:34.648Z"
   },
   {
    "duration": 12,
    "start_time": "2022-10-06T08:50:34.653Z"
   },
   {
    "duration": 5,
    "start_time": "2022-10-06T08:50:34.667Z"
   },
   {
    "duration": 37,
    "start_time": "2022-10-06T08:50:34.674Z"
   },
   {
    "duration": 11,
    "start_time": "2022-10-06T08:50:34.713Z"
   },
   {
    "duration": 29,
    "start_time": "2022-10-06T08:50:34.726Z"
   },
   {
    "duration": 121,
    "start_time": "2022-10-06T08:50:34.757Z"
   },
   {
    "duration": 5,
    "start_time": "2022-10-06T08:51:55.104Z"
   },
   {
    "duration": 18,
    "start_time": "2022-10-06T08:52:47.090Z"
   },
   {
    "duration": 1073,
    "start_time": "2022-10-06T08:53:11.735Z"
   },
   {
    "duration": 382,
    "start_time": "2022-10-06T08:53:12.812Z"
   },
   {
    "duration": 267,
    "start_time": "2022-10-06T08:53:13.196Z"
   },
   {
    "duration": 88,
    "start_time": "2022-10-06T08:53:13.465Z"
   },
   {
    "duration": 3,
    "start_time": "2022-10-06T08:53:13.554Z"
   },
   {
    "duration": 8,
    "start_time": "2022-10-06T08:53:13.559Z"
   },
   {
    "duration": 13,
    "start_time": "2022-10-06T08:53:13.569Z"
   },
   {
    "duration": 31,
    "start_time": "2022-10-06T08:53:13.583Z"
   },
   {
    "duration": 5,
    "start_time": "2022-10-06T08:53:13.616Z"
   },
   {
    "duration": 6,
    "start_time": "2022-10-06T08:53:13.624Z"
   },
   {
    "duration": 13,
    "start_time": "2022-10-06T08:53:13.632Z"
   },
   {
    "duration": 41,
    "start_time": "2022-10-06T08:53:13.647Z"
   },
   {
    "duration": 137,
    "start_time": "2022-10-06T08:53:13.691Z"
   },
   {
    "duration": 161,
    "start_time": "2022-10-06T08:53:13.830Z"
   },
   {
    "duration": 22,
    "start_time": "2022-10-06T08:53:13.992Z"
   },
   {
    "duration": 5,
    "start_time": "2022-10-06T08:53:14.015Z"
   },
   {
    "duration": 29,
    "start_time": "2022-10-06T08:53:14.021Z"
   },
   {
    "duration": 10,
    "start_time": "2022-10-06T08:53:14.052Z"
   },
   {
    "duration": 39,
    "start_time": "2022-10-06T08:53:14.063Z"
   },
   {
    "duration": 31,
    "start_time": "2022-10-06T08:53:14.104Z"
   },
   {
    "duration": 14,
    "start_time": "2022-10-06T08:53:14.137Z"
   },
   {
    "duration": 49,
    "start_time": "2022-10-06T08:53:14.153Z"
   },
   {
    "duration": 32,
    "start_time": "2022-10-06T08:53:14.204Z"
   },
   {
    "duration": 104,
    "start_time": "2022-10-06T09:15:17.160Z"
   },
   {
    "duration": 9,
    "start_time": "2022-10-06T09:15:22.161Z"
   },
   {
    "duration": 25,
    "start_time": "2022-10-06T09:15:28.117Z"
   },
   {
    "duration": 9,
    "start_time": "2022-10-06T09:21:38.573Z"
   },
   {
    "duration": 8,
    "start_time": "2022-10-06T09:21:49.038Z"
   },
   {
    "duration": 29,
    "start_time": "2022-10-06T09:21:57.808Z"
   },
   {
    "duration": 29,
    "start_time": "2022-10-06T09:22:11.124Z"
   },
   {
    "duration": 52,
    "start_time": "2022-10-06T09:22:51.232Z"
   },
   {
    "duration": 22,
    "start_time": "2022-10-06T09:23:06.844Z"
   },
   {
    "duration": 28,
    "start_time": "2022-10-06T09:24:58.354Z"
   },
   {
    "duration": 40,
    "start_time": "2022-10-06T09:25:04.463Z"
   },
   {
    "duration": 1094,
    "start_time": "2022-10-06T09:26:11.562Z"
   },
   {
    "duration": 385,
    "start_time": "2022-10-06T09:26:12.658Z"
   },
   {
    "duration": 259,
    "start_time": "2022-10-06T09:26:13.045Z"
   },
   {
    "duration": 91,
    "start_time": "2022-10-06T09:26:13.308Z"
   },
   {
    "duration": 3,
    "start_time": "2022-10-06T09:26:13.401Z"
   },
   {
    "duration": 14,
    "start_time": "2022-10-06T09:26:13.406Z"
   },
   {
    "duration": 13,
    "start_time": "2022-10-06T09:26:13.422Z"
   },
   {
    "duration": 49,
    "start_time": "2022-10-06T09:26:13.437Z"
   },
   {
    "duration": 24,
    "start_time": "2022-10-06T09:26:13.487Z"
   },
   {
    "duration": 101,
    "start_time": "2022-10-06T09:26:13.513Z"
   },
   {
    "duration": 141,
    "start_time": "2022-10-06T09:26:13.615Z"
   },
   {
    "duration": 4,
    "start_time": "2022-10-06T09:26:13.757Z"
   },
   {
    "duration": 8,
    "start_time": "2022-10-06T09:26:13.763Z"
   },
   {
    "duration": 6,
    "start_time": "2022-10-06T09:26:13.772Z"
   },
   {
    "duration": 37,
    "start_time": "2022-10-06T09:27:09.505Z"
   },
   {
    "duration": 107,
    "start_time": "2022-10-06T09:28:36.836Z"
   },
   {
    "duration": 24,
    "start_time": "2022-10-06T09:28:44.966Z"
   },
   {
    "duration": 16,
    "start_time": "2022-10-06T09:29:00.468Z"
   },
   {
    "duration": 8,
    "start_time": "2022-10-06T09:29:05.502Z"
   },
   {
    "duration": 8,
    "start_time": "2022-10-06T09:29:10.381Z"
   },
   {
    "duration": 13,
    "start_time": "2022-10-06T09:31:16.822Z"
   },
   {
    "duration": 2,
    "start_time": "2022-10-06T09:31:45.935Z"
   },
   {
    "duration": 6,
    "start_time": "2022-10-06T09:31:54.615Z"
   },
   {
    "duration": 5,
    "start_time": "2022-10-06T09:33:06.045Z"
   },
   {
    "duration": 4,
    "start_time": "2022-10-06T09:36:48.596Z"
   },
   {
    "duration": 8,
    "start_time": "2022-10-06T09:37:15.707Z"
   },
   {
    "duration": 6,
    "start_time": "2022-10-06T09:37:21.406Z"
   },
   {
    "duration": 2,
    "start_time": "2022-10-06T09:38:38.802Z"
   },
   {
    "duration": 40,
    "start_time": "2022-10-06T09:41:03.991Z"
   },
   {
    "duration": 9,
    "start_time": "2022-10-06T09:41:17.680Z"
   },
   {
    "duration": 8,
    "start_time": "2022-10-06T09:41:30.616Z"
   },
   {
    "duration": 2,
    "start_time": "2022-10-06T09:41:51.743Z"
   },
   {
    "duration": 5,
    "start_time": "2022-10-06T09:42:01.886Z"
   },
   {
    "duration": 23,
    "start_time": "2022-10-06T09:43:06.506Z"
   },
   {
    "duration": 14,
    "start_time": "2022-10-06T09:43:27.352Z"
   },
   {
    "duration": 1119,
    "start_time": "2022-10-06T09:43:59.299Z"
   },
   {
    "duration": 383,
    "start_time": "2022-10-06T09:44:00.420Z"
   },
   {
    "duration": 307,
    "start_time": "2022-10-06T09:44:00.809Z"
   },
   {
    "duration": 111,
    "start_time": "2022-10-06T09:44:01.118Z"
   },
   {
    "duration": 5,
    "start_time": "2022-10-06T09:44:01.231Z"
   },
   {
    "duration": 37,
    "start_time": "2022-10-06T09:44:01.238Z"
   },
   {
    "duration": 26,
    "start_time": "2022-10-06T09:44:01.277Z"
   },
   {
    "duration": 20,
    "start_time": "2022-10-06T09:44:01.305Z"
   },
   {
    "duration": 13,
    "start_time": "2022-10-06T09:44:01.326Z"
   },
   {
    "duration": 28,
    "start_time": "2022-10-06T09:44:01.341Z"
   },
   {
    "duration": 42,
    "start_time": "2022-10-06T09:44:01.371Z"
   },
   {
    "duration": 75,
    "start_time": "2022-10-06T09:44:01.415Z"
   },
   {
    "duration": 102,
    "start_time": "2022-10-06T09:44:01.492Z"
   },
   {
    "duration": 135,
    "start_time": "2022-10-06T09:44:01.595Z"
   },
   {
    "duration": 4,
    "start_time": "2022-10-06T09:44:01.732Z"
   },
   {
    "duration": 13,
    "start_time": "2022-10-06T09:44:01.737Z"
   },
   {
    "duration": 11,
    "start_time": "2022-10-06T09:44:01.752Z"
   },
   {
    "duration": 3,
    "start_time": "2022-10-06T09:44:59.255Z"
   },
   {
    "duration": 3,
    "start_time": "2022-10-06T09:45:07.093Z"
   },
   {
    "duration": 3,
    "start_time": "2022-10-06T09:46:15.225Z"
   },
   {
    "duration": 2,
    "start_time": "2022-10-06T09:46:15.489Z"
   },
   {
    "duration": 5,
    "start_time": "2022-10-06T09:46:15.784Z"
   },
   {
    "duration": 2,
    "start_time": "2022-10-06T09:50:26.832Z"
   },
   {
    "duration": 2,
    "start_time": "2022-10-06T09:50:40.412Z"
   },
   {
    "duration": 3,
    "start_time": "2022-10-06T09:50:40.723Z"
   },
   {
    "duration": 5,
    "start_time": "2022-10-06T09:50:40.980Z"
   },
   {
    "duration": 16,
    "start_time": "2022-10-06T09:51:59.412Z"
   },
   {
    "duration": 3,
    "start_time": "2022-10-06T09:52:01.916Z"
   },
   {
    "duration": 2,
    "start_time": "2022-10-06T09:52:02.332Z"
   },
   {
    "duration": 5,
    "start_time": "2022-10-06T09:52:02.637Z"
   },
   {
    "duration": 59,
    "start_time": "2022-10-06T09:52:28.593Z"
   },
   {
    "duration": 3,
    "start_time": "2022-10-06T09:52:29.194Z"
   },
   {
    "duration": 3,
    "start_time": "2022-10-06T09:54:04.730Z"
   },
   {
    "duration": 5,
    "start_time": "2022-10-06T09:54:05.154Z"
   },
   {
    "duration": 5,
    "start_time": "2022-10-06T09:57:24.933Z"
   },
   {
    "duration": 3,
    "start_time": "2022-10-06T09:58:05.883Z"
   },
   {
    "duration": 11,
    "start_time": "2022-10-06T09:59:13.006Z"
   },
   {
    "duration": 12,
    "start_time": "2022-10-06T09:59:48.203Z"
   },
   {
    "duration": 339,
    "start_time": "2022-10-06T10:00:05.693Z"
   },
   {
    "duration": 347,
    "start_time": "2022-10-06T10:00:34.893Z"
   },
   {
    "duration": 4,
    "start_time": "2022-10-06T10:01:18.269Z"
   },
   {
    "duration": 3,
    "start_time": "2022-10-06T10:01:24.650Z"
   },
   {
    "duration": 3,
    "start_time": "2022-10-06T10:01:46.762Z"
   },
   {
    "duration": 58,
    "start_time": "2022-10-06T10:02:27.975Z"
   },
   {
    "duration": 46,
    "start_time": "2022-10-06T10:02:48.727Z"
   },
   {
    "duration": 51,
    "start_time": "2022-10-06T10:03:09.112Z"
   },
   {
    "duration": 125,
    "start_time": "2022-10-06T10:03:49.088Z"
   },
   {
    "duration": 3,
    "start_time": "2022-10-06T10:03:57.674Z"
   },
   {
    "duration": 12,
    "start_time": "2022-10-06T10:04:26.692Z"
   },
   {
    "duration": 4,
    "start_time": "2022-10-06T10:04:54.657Z"
   },
   {
    "duration": 3,
    "start_time": "2022-10-06T10:04:55.033Z"
   },
   {
    "duration": 9,
    "start_time": "2022-10-06T10:04:55.553Z"
   },
   {
    "duration": 1055,
    "start_time": "2022-10-06T10:05:10.555Z"
   },
   {
    "duration": 387,
    "start_time": "2022-10-06T10:05:11.612Z"
   },
   {
    "duration": 262,
    "start_time": "2022-10-06T10:05:12.000Z"
   },
   {
    "duration": 88,
    "start_time": "2022-10-06T10:05:12.264Z"
   },
   {
    "duration": 4,
    "start_time": "2022-10-06T10:05:12.353Z"
   },
   {
    "duration": 8,
    "start_time": "2022-10-06T10:05:12.358Z"
   },
   {
    "duration": 5,
    "start_time": "2022-10-06T10:05:12.368Z"
   },
   {
    "duration": 13,
    "start_time": "2022-10-06T10:05:12.374Z"
   },
   {
    "duration": 25,
    "start_time": "2022-10-06T10:05:12.388Z"
   },
   {
    "duration": 6,
    "start_time": "2022-10-06T10:05:12.415Z"
   },
   {
    "duration": 14,
    "start_time": "2022-10-06T10:05:12.422Z"
   },
   {
    "duration": 2,
    "start_time": "2022-10-06T10:05:12.438Z"
   },
   {
    "duration": 29,
    "start_time": "2022-10-06T10:05:12.442Z"
   },
   {
    "duration": 137,
    "start_time": "2022-10-06T10:05:12.472Z"
   },
   {
    "duration": 158,
    "start_time": "2022-10-06T10:05:12.611Z"
   },
   {
    "duration": 6,
    "start_time": "2022-10-06T10:05:12.771Z"
   },
   {
    "duration": 8,
    "start_time": "2022-10-06T10:05:12.778Z"
   },
   {
    "duration": 23,
    "start_time": "2022-10-06T10:05:12.787Z"
   },
   {
    "duration": 253,
    "start_time": "2022-10-06T10:12:45.898Z"
   },
   {
    "duration": 1037,
    "start_time": "2022-10-06T10:12:55.303Z"
   },
   {
    "duration": 375,
    "start_time": "2022-10-06T10:12:56.343Z"
   },
   {
    "duration": 267,
    "start_time": "2022-10-06T10:12:56.719Z"
   },
   {
    "duration": 88,
    "start_time": "2022-10-06T10:12:56.989Z"
   },
   {
    "duration": 3,
    "start_time": "2022-10-06T10:12:57.078Z"
   },
   {
    "duration": 10,
    "start_time": "2022-10-06T10:12:57.082Z"
   },
   {
    "duration": 36,
    "start_time": "2022-10-06T10:12:57.093Z"
   },
   {
    "duration": 24,
    "start_time": "2022-10-06T10:12:57.130Z"
   },
   {
    "duration": 35,
    "start_time": "2022-10-06T10:12:57.155Z"
   },
   {
    "duration": 13,
    "start_time": "2022-10-06T10:12:57.193Z"
   },
   {
    "duration": 280,
    "start_time": "2022-10-06T10:12:57.207Z"
   },
   {
    "duration": 2,
    "start_time": "2022-10-06T10:12:57.489Z"
   },
   {
    "duration": 33,
    "start_time": "2022-10-06T10:12:57.492Z"
   },
   {
    "duration": 102,
    "start_time": "2022-10-06T10:12:57.527Z"
   },
   {
    "duration": 132,
    "start_time": "2022-10-06T10:12:57.631Z"
   },
   {
    "duration": 5,
    "start_time": "2022-10-06T10:12:57.765Z"
   },
   {
    "duration": 23,
    "start_time": "2022-10-06T10:12:57.771Z"
   },
   {
    "duration": 25,
    "start_time": "2022-10-06T10:12:57.796Z"
   },
   {
    "duration": 257,
    "start_time": "2022-10-06T10:13:30.478Z"
   },
   {
    "duration": 301,
    "start_time": "2022-10-06T10:14:04.880Z"
   },
   {
    "duration": 11,
    "start_time": "2022-10-06T10:14:41.446Z"
   },
   {
    "duration": 1038,
    "start_time": "2022-10-06T10:18:12.553Z"
   },
   {
    "duration": 386,
    "start_time": "2022-10-06T10:18:13.594Z"
   },
   {
    "duration": 272,
    "start_time": "2022-10-06T10:18:13.982Z"
   },
   {
    "duration": 87,
    "start_time": "2022-10-06T10:18:14.256Z"
   },
   {
    "duration": 4,
    "start_time": "2022-10-06T10:18:14.344Z"
   },
   {
    "duration": 7,
    "start_time": "2022-10-06T10:18:14.349Z"
   },
   {
    "duration": 7,
    "start_time": "2022-10-06T10:18:14.358Z"
   },
   {
    "duration": 14,
    "start_time": "2022-10-06T10:18:14.366Z"
   },
   {
    "duration": 27,
    "start_time": "2022-10-06T10:18:14.382Z"
   },
   {
    "duration": 4,
    "start_time": "2022-10-06T10:18:14.411Z"
   },
   {
    "duration": 275,
    "start_time": "2022-10-06T10:18:14.417Z"
   },
   {
    "duration": 19,
    "start_time": "2022-10-06T10:18:14.694Z"
   },
   {
    "duration": 27,
    "start_time": "2022-10-06T10:18:14.715Z"
   },
   {
    "duration": 107,
    "start_time": "2022-10-06T10:18:14.744Z"
   },
   {
    "duration": 143,
    "start_time": "2022-10-06T10:18:14.852Z"
   },
   {
    "duration": 14,
    "start_time": "2022-10-06T10:18:14.996Z"
   },
   {
    "duration": 54,
    "start_time": "2022-10-06T10:18:15.012Z"
   },
   {
    "duration": 10,
    "start_time": "2022-10-06T10:18:15.068Z"
   },
   {
    "duration": 2,
    "start_time": "2022-10-06T10:23:06.227Z"
   },
   {
    "duration": 14,
    "start_time": "2022-10-06T10:30:41.250Z"
   },
   {
    "duration": 107,
    "start_time": "2022-10-06T10:35:33.364Z"
   },
   {
    "duration": 15,
    "start_time": "2022-10-06T10:35:44.405Z"
   },
   {
    "duration": 14,
    "start_time": "2022-10-06T10:39:39.253Z"
   },
   {
    "duration": 580,
    "start_time": "2022-10-06T10:41:40.995Z"
   },
   {
    "duration": 134,
    "start_time": "2022-10-06T10:41:54.618Z"
   },
   {
    "duration": 115,
    "start_time": "2022-10-06T10:42:11.452Z"
   },
   {
    "duration": 239,
    "start_time": "2022-10-06T10:43:05.635Z"
   },
   {
    "duration": 4,
    "start_time": "2022-10-06T10:43:25.277Z"
   },
   {
    "duration": 300,
    "start_time": "2022-10-06T10:43:25.582Z"
   },
   {
    "duration": 241,
    "start_time": "2022-10-06T10:43:37.961Z"
   },
   {
    "duration": 113,
    "start_time": "2022-10-06T10:44:29.741Z"
   },
   {
    "duration": 110,
    "start_time": "2022-10-06T10:44:46.851Z"
   },
   {
    "duration": 107,
    "start_time": "2022-10-06T10:45:08.387Z"
   },
   {
    "duration": 110,
    "start_time": "2022-10-06T10:45:29.516Z"
   },
   {
    "duration": 243,
    "start_time": "2022-10-06T10:45:59.110Z"
   },
   {
    "duration": 256,
    "start_time": "2022-10-06T10:46:16.627Z"
   },
   {
    "duration": 2,
    "start_time": "2022-10-06T10:47:48.209Z"
   },
   {
    "duration": 2,
    "start_time": "2022-10-06T10:47:48.472Z"
   },
   {
    "duration": 238,
    "start_time": "2022-10-06T10:47:48.890Z"
   },
   {
    "duration": 2,
    "start_time": "2022-10-06T10:51:54.594Z"
   },
   {
    "duration": 239,
    "start_time": "2022-10-06T10:51:55.218Z"
   },
   {
    "duration": 1025,
    "start_time": "2022-10-06T10:52:01.426Z"
   },
   {
    "duration": 423,
    "start_time": "2022-10-06T10:52:02.453Z"
   },
   {
    "duration": 270,
    "start_time": "2022-10-06T10:52:02.880Z"
   },
   {
    "duration": 90,
    "start_time": "2022-10-06T10:52:03.151Z"
   },
   {
    "duration": 3,
    "start_time": "2022-10-06T10:52:03.242Z"
   },
   {
    "duration": 10,
    "start_time": "2022-10-06T10:52:03.246Z"
   },
   {
    "duration": 6,
    "start_time": "2022-10-06T10:52:03.257Z"
   },
   {
    "duration": 15,
    "start_time": "2022-10-06T10:52:03.264Z"
   },
   {
    "duration": 6,
    "start_time": "2022-10-06T10:52:03.282Z"
   },
   {
    "duration": 20,
    "start_time": "2022-10-06T10:52:03.289Z"
   },
   {
    "duration": 270,
    "start_time": "2022-10-06T10:52:03.310Z"
   },
   {
    "duration": 2,
    "start_time": "2022-10-06T10:52:03.582Z"
   },
   {
    "duration": 30,
    "start_time": "2022-10-06T10:52:03.585Z"
   },
   {
    "duration": 104,
    "start_time": "2022-10-06T10:52:03.616Z"
   },
   {
    "duration": 138,
    "start_time": "2022-10-06T10:52:03.721Z"
   },
   {
    "duration": 4,
    "start_time": "2022-10-06T10:52:03.861Z"
   },
   {
    "duration": 7,
    "start_time": "2022-10-06T10:52:03.867Z"
   },
   {
    "duration": 11,
    "start_time": "2022-10-06T10:52:03.876Z"
   },
   {
    "duration": 4,
    "start_time": "2022-10-06T10:52:03.888Z"
   },
   {
    "duration": 107,
    "start_time": "2022-10-06T10:52:03.910Z"
   },
   {
    "duration": 1022,
    "start_time": "2022-10-06T10:52:14.534Z"
   },
   {
    "duration": 379,
    "start_time": "2022-10-06T10:52:15.558Z"
   },
   {
    "duration": 277,
    "start_time": "2022-10-06T10:52:15.941Z"
   },
   {
    "duration": 90,
    "start_time": "2022-10-06T10:52:16.219Z"
   },
   {
    "duration": 3,
    "start_time": "2022-10-06T10:52:16.310Z"
   },
   {
    "duration": 14,
    "start_time": "2022-10-06T10:52:16.314Z"
   },
   {
    "duration": 27,
    "start_time": "2022-10-06T10:52:16.330Z"
   },
   {
    "duration": 42,
    "start_time": "2022-10-06T10:52:16.358Z"
   },
   {
    "duration": 38,
    "start_time": "2022-10-06T10:52:16.402Z"
   },
   {
    "duration": 22,
    "start_time": "2022-10-06T10:52:16.441Z"
   },
   {
    "duration": 292,
    "start_time": "2022-10-06T10:52:16.465Z"
   },
   {
    "duration": 3,
    "start_time": "2022-10-06T10:52:16.758Z"
   },
   {
    "duration": 47,
    "start_time": "2022-10-06T10:52:16.762Z"
   },
   {
    "duration": 104,
    "start_time": "2022-10-06T10:52:16.810Z"
   },
   {
    "duration": 133,
    "start_time": "2022-10-06T10:52:16.916Z"
   },
   {
    "duration": 4,
    "start_time": "2022-10-06T10:52:17.051Z"
   },
   {
    "duration": 21,
    "start_time": "2022-10-06T10:52:17.057Z"
   },
   {
    "duration": 36,
    "start_time": "2022-10-06T10:52:17.080Z"
   },
   {
    "duration": 296,
    "start_time": "2022-10-06T10:52:17.117Z"
   },
   {
    "duration": 115,
    "start_time": "2022-10-06T10:52:17.415Z"
   },
   {
    "duration": 253,
    "start_time": "2022-10-06T10:52:48.291Z"
   },
   {
    "duration": 1058,
    "start_time": "2022-10-06T10:52:56.409Z"
   },
   {
    "duration": 378,
    "start_time": "2022-10-06T10:52:57.469Z"
   },
   {
    "duration": 277,
    "start_time": "2022-10-06T10:52:57.849Z"
   },
   {
    "duration": 90,
    "start_time": "2022-10-06T10:52:58.128Z"
   },
   {
    "duration": 3,
    "start_time": "2022-10-06T10:52:58.220Z"
   },
   {
    "duration": 14,
    "start_time": "2022-10-06T10:52:58.225Z"
   },
   {
    "duration": 6,
    "start_time": "2022-10-06T10:52:58.240Z"
   },
   {
    "duration": 16,
    "start_time": "2022-10-06T10:52:58.247Z"
   },
   {
    "duration": 6,
    "start_time": "2022-10-06T10:52:58.265Z"
   },
   {
    "duration": 4,
    "start_time": "2022-10-06T10:52:58.273Z"
   },
   {
    "duration": 297,
    "start_time": "2022-10-06T10:52:58.279Z"
   },
   {
    "duration": 2,
    "start_time": "2022-10-06T10:52:58.578Z"
   },
   {
    "duration": 31,
    "start_time": "2022-10-06T10:52:58.582Z"
   },
   {
    "duration": 108,
    "start_time": "2022-10-06T10:52:58.615Z"
   },
   {
    "duration": 140,
    "start_time": "2022-10-06T10:52:58.725Z"
   },
   {
    "duration": 5,
    "start_time": "2022-10-06T10:52:58.866Z"
   },
   {
    "duration": 10,
    "start_time": "2022-10-06T10:52:58.873Z"
   },
   {
    "duration": 9,
    "start_time": "2022-10-06T10:52:58.885Z"
   },
   {
    "duration": 3,
    "start_time": "2022-10-06T10:52:58.908Z"
   },
   {
    "duration": 485,
    "start_time": "2022-10-06T10:52:58.913Z"
   },
   {
    "duration": 6,
    "start_time": "2022-10-06T10:58:16.161Z"
   },
   {
    "duration": 5,
    "start_time": "2022-10-06T10:58:17.545Z"
   },
   {
    "duration": 4,
    "start_time": "2022-10-06T10:58:18.622Z"
   },
   {
    "duration": 255,
    "start_time": "2022-10-06T10:58:20.366Z"
   },
   {
    "duration": 1099,
    "start_time": "2022-10-06T10:59:06.391Z"
   },
   {
    "duration": 395,
    "start_time": "2022-10-06T10:59:07.492Z"
   },
   {
    "duration": 288,
    "start_time": "2022-10-06T10:59:07.888Z"
   },
   {
    "duration": 95,
    "start_time": "2022-10-06T10:59:08.178Z"
   },
   {
    "duration": 3,
    "start_time": "2022-10-06T10:59:08.274Z"
   },
   {
    "duration": 51,
    "start_time": "2022-10-06T10:59:08.279Z"
   },
   {
    "duration": 74,
    "start_time": "2022-10-06T10:59:08.331Z"
   },
   {
    "duration": 37,
    "start_time": "2022-10-06T10:59:08.407Z"
   },
   {
    "duration": 57,
    "start_time": "2022-10-06T10:59:08.446Z"
   },
   {
    "duration": 156,
    "start_time": "2022-10-06T10:59:08.506Z"
   },
   {
    "duration": 0,
    "start_time": "2022-10-06T10:59:08.664Z"
   },
   {
    "duration": 0,
    "start_time": "2022-10-06T10:59:08.666Z"
   },
   {
    "duration": 0,
    "start_time": "2022-10-06T10:59:08.667Z"
   },
   {
    "duration": 0,
    "start_time": "2022-10-06T10:59:08.668Z"
   },
   {
    "duration": 0,
    "start_time": "2022-10-06T10:59:08.670Z"
   },
   {
    "duration": 0,
    "start_time": "2022-10-06T10:59:08.671Z"
   },
   {
    "duration": 0,
    "start_time": "2022-10-06T10:59:08.673Z"
   },
   {
    "duration": 0,
    "start_time": "2022-10-06T10:59:08.674Z"
   },
   {
    "duration": 0,
    "start_time": "2022-10-06T10:59:08.676Z"
   },
   {
    "duration": 267,
    "start_time": "2022-10-06T10:59:41.022Z"
   },
   {
    "duration": 1029,
    "start_time": "2022-10-06T10:59:47.553Z"
   },
   {
    "duration": 397,
    "start_time": "2022-10-06T10:59:48.584Z"
   },
   {
    "duration": 277,
    "start_time": "2022-10-06T10:59:48.983Z"
   },
   {
    "duration": 91,
    "start_time": "2022-10-06T10:59:49.262Z"
   },
   {
    "duration": 3,
    "start_time": "2022-10-06T10:59:49.354Z"
   },
   {
    "duration": 11,
    "start_time": "2022-10-06T10:59:49.358Z"
   },
   {
    "duration": 6,
    "start_time": "2022-10-06T10:59:49.370Z"
   },
   {
    "duration": 6,
    "start_time": "2022-10-06T10:59:49.377Z"
   },
   {
    "duration": 6,
    "start_time": "2022-10-06T10:59:49.385Z"
   },
   {
    "duration": 307,
    "start_time": "2022-10-06T10:59:49.393Z"
   },
   {
    "duration": 2,
    "start_time": "2022-10-06T10:59:49.701Z"
   },
   {
    "duration": 30,
    "start_time": "2022-10-06T10:59:49.712Z"
   },
   {
    "duration": 28,
    "start_time": "2022-10-06T10:59:49.743Z"
   },
   {
    "duration": 100,
    "start_time": "2022-10-06T10:59:49.772Z"
   },
   {
    "duration": 147,
    "start_time": "2022-10-06T10:59:49.874Z"
   },
   {
    "duration": 6,
    "start_time": "2022-10-06T10:59:50.022Z"
   },
   {
    "duration": 69,
    "start_time": "2022-10-06T10:59:50.029Z"
   },
   {
    "duration": 37,
    "start_time": "2022-10-06T10:59:50.099Z"
   },
   {
    "duration": 521,
    "start_time": "2022-10-06T10:59:50.137Z"
   },
   {
    "duration": 55,
    "start_time": "2022-10-08T15:56:06.638Z"
   },
   {
    "duration": 1099,
    "start_time": "2022-10-08T15:56:14.287Z"
   },
   {
    "duration": 1970,
    "start_time": "2022-10-08T15:56:15.387Z"
   },
   {
    "duration": 910,
    "start_time": "2022-10-08T15:56:17.358Z"
   },
   {
    "duration": 393,
    "start_time": "2022-10-08T15:56:18.271Z"
   },
   {
    "duration": 3,
    "start_time": "2022-10-08T15:56:18.666Z"
   },
   {
    "duration": 21,
    "start_time": "2022-10-08T15:56:18.671Z"
   },
   {
    "duration": 19,
    "start_time": "2022-10-08T15:56:18.693Z"
   },
   {
    "duration": 13,
    "start_time": "2022-10-08T15:56:18.713Z"
   },
   {
    "duration": 16,
    "start_time": "2022-10-08T15:56:18.728Z"
   },
   {
    "duration": 417,
    "start_time": "2022-10-08T15:56:18.747Z"
   },
   {
    "duration": 3,
    "start_time": "2022-10-08T15:56:19.166Z"
   },
   {
    "duration": 33,
    "start_time": "2022-10-08T15:56:19.172Z"
   },
   {
    "duration": 73,
    "start_time": "2022-10-08T15:56:19.207Z"
   },
   {
    "duration": 111,
    "start_time": "2022-10-08T15:56:19.281Z"
   },
   {
    "duration": 154,
    "start_time": "2022-10-08T15:56:19.394Z"
   },
   {
    "duration": 5,
    "start_time": "2022-10-08T15:56:19.551Z"
   },
   {
    "duration": 31,
    "start_time": "2022-10-08T15:56:19.557Z"
   },
   {
    "duration": 15,
    "start_time": "2022-10-08T15:56:19.590Z"
   },
   {
    "duration": 758,
    "start_time": "2022-10-08T15:56:19.607Z"
   },
   {
    "duration": 49,
    "start_time": "2022-10-08T15:56:20.367Z"
   },
   {
    "duration": 3,
    "start_time": "2022-10-08T15:57:30.584Z"
   },
   {
    "duration": 6,
    "start_time": "2022-10-08T15:59:02.039Z"
   },
   {
    "duration": 3,
    "start_time": "2022-10-08T16:14:30.901Z"
   },
   {
    "duration": 44,
    "start_time": "2022-10-08T16:15:17.439Z"
   },
   {
    "duration": 51,
    "start_time": "2022-10-08T16:15:21.637Z"
   },
   {
    "duration": 125,
    "start_time": "2022-10-08T16:22:11.839Z"
   },
   {
    "duration": 11,
    "start_time": "2022-10-08T16:22:42.263Z"
   },
   {
    "duration": 12,
    "start_time": "2022-10-08T16:22:47.898Z"
   },
   {
    "duration": 5,
    "start_time": "2022-10-08T16:24:41.500Z"
   },
   {
    "duration": 52,
    "start_time": "2022-10-08T16:26:06.496Z"
   },
   {
    "duration": 60,
    "start_time": "2022-10-08T16:26:10.627Z"
   },
   {
    "duration": 15,
    "start_time": "2022-10-08T16:26:15.148Z"
   },
   {
    "duration": 6,
    "start_time": "2022-10-08T16:30:29.375Z"
   },
   {
    "duration": 5,
    "start_time": "2022-10-08T16:30:50.207Z"
   },
   {
    "duration": 8,
    "start_time": "2022-10-08T16:30:52.832Z"
   },
   {
    "duration": 5,
    "start_time": "2022-10-08T16:30:56.801Z"
   },
   {
    "duration": 5,
    "start_time": "2022-10-08T16:31:01.291Z"
   },
   {
    "duration": 4,
    "start_time": "2022-10-08T16:37:16.899Z"
   },
   {
    "duration": 7,
    "start_time": "2022-10-08T16:37:25.852Z"
   },
   {
    "duration": 6,
    "start_time": "2022-10-08T16:37:37.141Z"
   },
   {
    "duration": 5,
    "start_time": "2022-10-08T16:37:45.269Z"
   },
   {
    "duration": 6,
    "start_time": "2022-10-08T16:39:43.877Z"
   },
   {
    "duration": 42,
    "start_time": "2022-10-08T16:40:42.642Z"
   },
   {
    "duration": 4,
    "start_time": "2022-10-08T16:40:59.204Z"
   },
   {
    "duration": 5,
    "start_time": "2022-10-08T16:42:04.446Z"
   },
   {
    "duration": 5,
    "start_time": "2022-10-08T16:43:07.972Z"
   },
   {
    "duration": 8,
    "start_time": "2022-10-08T16:43:16.264Z"
   },
   {
    "duration": 4,
    "start_time": "2022-10-08T16:43:21.175Z"
   },
   {
    "duration": 5,
    "start_time": "2022-10-08T16:43:46.084Z"
   },
   {
    "duration": 5,
    "start_time": "2022-10-08T16:43:46.672Z"
   },
   {
    "duration": 9,
    "start_time": "2022-10-08T16:45:13.267Z"
   },
   {
    "duration": 13,
    "start_time": "2022-10-08T16:45:22.040Z"
   },
   {
    "duration": 11,
    "start_time": "2022-10-08T16:45:48.542Z"
   },
   {
    "duration": 3,
    "start_time": "2022-10-08T16:46:09.518Z"
   },
   {
    "duration": 5,
    "start_time": "2022-10-08T16:46:27.319Z"
   },
   {
    "duration": 4,
    "start_time": "2022-10-08T16:48:12.136Z"
   },
   {
    "duration": 3,
    "start_time": "2022-10-08T16:48:26.037Z"
   },
   {
    "duration": 1085,
    "start_time": "2022-10-08T16:48:32.678Z"
   },
   {
    "duration": 460,
    "start_time": "2022-10-08T16:48:33.766Z"
   },
   {
    "duration": 313,
    "start_time": "2022-10-08T16:48:34.228Z"
   },
   {
    "duration": 139,
    "start_time": "2022-10-08T16:48:34.543Z"
   },
   {
    "duration": 5,
    "start_time": "2022-10-08T16:48:34.684Z"
   },
   {
    "duration": 18,
    "start_time": "2022-10-08T16:48:34.691Z"
   },
   {
    "duration": 31,
    "start_time": "2022-10-08T16:48:34.711Z"
   },
   {
    "duration": 8,
    "start_time": "2022-10-08T16:48:34.744Z"
   },
   {
    "duration": 7,
    "start_time": "2022-10-08T16:48:34.754Z"
   },
   {
    "duration": 304,
    "start_time": "2022-10-08T16:48:34.765Z"
   },
   {
    "duration": 3,
    "start_time": "2022-10-08T16:48:35.071Z"
   },
   {
    "duration": 17,
    "start_time": "2022-10-08T16:48:35.076Z"
   },
   {
    "duration": 42,
    "start_time": "2022-10-08T16:48:35.094Z"
   },
   {
    "duration": 117,
    "start_time": "2022-10-08T16:48:35.138Z"
   },
   {
    "duration": 141,
    "start_time": "2022-10-08T16:48:35.257Z"
   },
   {
    "duration": 5,
    "start_time": "2022-10-08T16:48:35.400Z"
   },
   {
    "duration": 21,
    "start_time": "2022-10-08T16:48:35.407Z"
   },
   {
    "duration": 12,
    "start_time": "2022-10-08T16:48:35.431Z"
   },
   {
    "duration": 558,
    "start_time": "2022-10-08T16:48:35.444Z"
   },
   {
    "duration": 4,
    "start_time": "2022-10-08T16:48:36.004Z"
   },
   {
    "duration": 19,
    "start_time": "2022-10-08T16:48:36.010Z"
   },
   {
    "duration": 8,
    "start_time": "2022-10-08T16:48:36.032Z"
   },
   {
    "duration": 5,
    "start_time": "2022-10-08T16:48:36.042Z"
   },
   {
    "duration": 4,
    "start_time": "2022-10-08T16:48:36.049Z"
   },
   {
    "duration": 7,
    "start_time": "2022-10-08T16:48:36.055Z"
   },
   {
    "duration": 1138,
    "start_time": "2022-10-10T06:49:04.090Z"
   },
   {
    "duration": 612,
    "start_time": "2022-10-10T06:49:05.230Z"
   },
   {
    "duration": 1219,
    "start_time": "2022-10-10T06:49:05.843Z"
   },
   {
    "duration": 171,
    "start_time": "2022-10-10T06:49:07.064Z"
   },
   {
    "duration": 4,
    "start_time": "2022-10-10T06:49:07.237Z"
   },
   {
    "duration": 12,
    "start_time": "2022-10-10T06:49:07.242Z"
   },
   {
    "duration": 8,
    "start_time": "2022-10-10T06:49:07.256Z"
   },
   {
    "duration": 11,
    "start_time": "2022-10-10T06:49:07.266Z"
   },
   {
    "duration": 5,
    "start_time": "2022-10-10T06:49:07.279Z"
   },
   {
    "duration": 310,
    "start_time": "2022-10-10T06:49:07.286Z"
   },
   {
    "duration": 3,
    "start_time": "2022-10-10T06:49:07.598Z"
   },
   {
    "duration": 28,
    "start_time": "2022-10-10T06:49:07.602Z"
   },
   {
    "duration": 47,
    "start_time": "2022-10-10T06:49:07.632Z"
   },
   {
    "duration": 98,
    "start_time": "2022-10-10T06:49:07.682Z"
   },
   {
    "duration": 131,
    "start_time": "2022-10-10T06:49:07.782Z"
   },
   {
    "duration": 6,
    "start_time": "2022-10-10T06:49:07.915Z"
   },
   {
    "duration": 7,
    "start_time": "2022-10-10T06:49:07.923Z"
   },
   {
    "duration": 13,
    "start_time": "2022-10-10T06:49:07.931Z"
   },
   {
    "duration": 758,
    "start_time": "2022-10-10T06:49:07.945Z"
   },
   {
    "duration": 5,
    "start_time": "2022-10-10T06:49:08.705Z"
   },
   {
    "duration": 17,
    "start_time": "2022-10-10T06:49:08.712Z"
   },
   {
    "duration": 11,
    "start_time": "2022-10-10T06:49:08.731Z"
   },
   {
    "duration": 6,
    "start_time": "2022-10-10T06:49:08.745Z"
   },
   {
    "duration": 4,
    "start_time": "2022-10-10T06:49:08.753Z"
   },
   {
    "duration": 2159,
    "start_time": "2022-10-10T06:50:02.185Z"
   },
   {
    "duration": 3,
    "start_time": "2022-10-10T06:50:08.265Z"
   },
   {
    "duration": 9,
    "start_time": "2022-10-10T06:50:35.859Z"
   },
   {
    "duration": 9,
    "start_time": "2022-10-10T06:50:56.332Z"
   },
   {
    "duration": 251,
    "start_time": "2022-10-10T06:51:03.422Z"
   },
   {
    "duration": 176,
    "start_time": "2022-10-10T06:51:12.868Z"
   },
   {
    "duration": 269,
    "start_time": "2022-10-10T06:51:22.508Z"
   },
   {
    "duration": 194,
    "start_time": "2022-10-10T06:51:26.886Z"
   },
   {
    "duration": 196,
    "start_time": "2022-10-10T06:51:33.253Z"
   },
   {
    "duration": 171,
    "start_time": "2022-10-10T06:51:38.878Z"
   },
   {
    "duration": 10,
    "start_time": "2022-10-10T06:59:23.497Z"
   },
   {
    "duration": 1427,
    "start_time": "2022-10-10T06:59:30.712Z"
   },
   {
    "duration": 382,
    "start_time": "2022-10-10T06:59:32.141Z"
   },
   {
    "duration": 274,
    "start_time": "2022-10-10T06:59:32.525Z"
   },
   {
    "duration": 94,
    "start_time": "2022-10-10T06:59:32.801Z"
   },
   {
    "duration": 3,
    "start_time": "2022-10-10T06:59:32.896Z"
   },
   {
    "duration": 8,
    "start_time": "2022-10-10T06:59:32.901Z"
   },
   {
    "duration": 9,
    "start_time": "2022-10-10T06:59:32.911Z"
   },
   {
    "duration": 15,
    "start_time": "2022-10-10T06:59:32.922Z"
   },
   {
    "duration": 10,
    "start_time": "2022-10-10T06:59:32.938Z"
   },
   {
    "duration": 308,
    "start_time": "2022-10-10T06:59:32.951Z"
   },
   {
    "duration": 3,
    "start_time": "2022-10-10T06:59:33.260Z"
   },
   {
    "duration": 24,
    "start_time": "2022-10-10T06:59:33.265Z"
   },
   {
    "duration": 25,
    "start_time": "2022-10-10T06:59:33.291Z"
   },
   {
    "duration": 114,
    "start_time": "2022-10-10T06:59:33.317Z"
   },
   {
    "duration": 146,
    "start_time": "2022-10-10T06:59:33.433Z"
   },
   {
    "duration": 11,
    "start_time": "2022-10-10T06:59:33.581Z"
   },
   {
    "duration": 11,
    "start_time": "2022-10-10T06:59:33.594Z"
   },
   {
    "duration": 6,
    "start_time": "2022-10-10T06:59:33.607Z"
   },
   {
    "duration": 314,
    "start_time": "2022-10-10T06:59:33.615Z"
   },
   {
    "duration": 5,
    "start_time": "2022-10-10T06:59:33.930Z"
   },
   {
    "duration": 8,
    "start_time": "2022-10-10T06:59:33.937Z"
   },
   {
    "duration": 5,
    "start_time": "2022-10-10T06:59:33.947Z"
   },
   {
    "duration": 8,
    "start_time": "2022-10-10T06:59:33.954Z"
   },
   {
    "duration": 1970,
    "start_time": "2022-10-10T06:59:33.964Z"
   },
   {
    "duration": 1396,
    "start_time": "2022-10-10T07:00:35.877Z"
   },
   {
    "duration": 386,
    "start_time": "2022-10-10T07:00:37.276Z"
   },
   {
    "duration": 273,
    "start_time": "2022-10-10T07:00:37.664Z"
   },
   {
    "duration": 98,
    "start_time": "2022-10-10T07:00:37.940Z"
   },
   {
    "duration": 3,
    "start_time": "2022-10-10T07:00:38.040Z"
   },
   {
    "duration": 9,
    "start_time": "2022-10-10T07:00:38.044Z"
   },
   {
    "duration": 7,
    "start_time": "2022-10-10T07:00:38.055Z"
   },
   {
    "duration": 4,
    "start_time": "2022-10-10T07:00:38.063Z"
   },
   {
    "duration": 29,
    "start_time": "2022-10-10T07:00:38.069Z"
   },
   {
    "duration": 300,
    "start_time": "2022-10-10T07:00:38.101Z"
   },
   {
    "duration": 2,
    "start_time": "2022-10-10T07:00:38.402Z"
   },
   {
    "duration": 17,
    "start_time": "2022-10-10T07:00:38.406Z"
   },
   {
    "duration": 26,
    "start_time": "2022-10-10T07:00:38.425Z"
   },
   {
    "duration": 117,
    "start_time": "2022-10-10T07:00:38.452Z"
   },
   {
    "duration": 138,
    "start_time": "2022-10-10T07:00:38.570Z"
   },
   {
    "duration": 6,
    "start_time": "2022-10-10T07:00:38.710Z"
   },
   {
    "duration": 9,
    "start_time": "2022-10-10T07:00:38.717Z"
   },
   {
    "duration": 7,
    "start_time": "2022-10-10T07:00:38.727Z"
   },
   {
    "duration": 303,
    "start_time": "2022-10-10T07:00:38.735Z"
   },
   {
    "duration": 6,
    "start_time": "2022-10-10T07:00:39.040Z"
   },
   {
    "duration": 16,
    "start_time": "2022-10-10T07:00:39.049Z"
   },
   {
    "duration": 7,
    "start_time": "2022-10-10T07:00:39.067Z"
   },
   {
    "duration": 14,
    "start_time": "2022-10-10T07:00:39.075Z"
   },
   {
    "duration": 1939,
    "start_time": "2022-10-10T07:00:39.090Z"
   },
   {
    "duration": 2081,
    "start_time": "2022-10-10T07:00:53.014Z"
   },
   {
    "duration": 1893,
    "start_time": "2022-10-10T07:01:09.252Z"
   },
   {
    "duration": 1862,
    "start_time": "2022-10-10T07:01:16.092Z"
   },
   {
    "duration": 1991,
    "start_time": "2022-10-10T07:01:34.077Z"
   },
   {
    "duration": 1993,
    "start_time": "2022-10-10T07:01:42.236Z"
   },
   {
    "duration": 1873,
    "start_time": "2022-10-10T07:01:48.657Z"
   },
   {
    "duration": 1943,
    "start_time": "2022-10-10T07:02:14.922Z"
   },
   {
    "duration": 410,
    "start_time": "2022-10-10T07:10:33.660Z"
   },
   {
    "duration": 97,
    "start_time": "2022-10-10T07:11:19.810Z"
   },
   {
    "duration": 14,
    "start_time": "2022-10-10T07:11:26.381Z"
   },
   {
    "duration": 12,
    "start_time": "2022-10-10T07:12:02.960Z"
   },
   {
    "duration": 14,
    "start_time": "2022-10-10T07:12:16.329Z"
   },
   {
    "duration": 2234,
    "start_time": "2022-10-10T07:14:24.963Z"
   },
   {
    "duration": 25,
    "start_time": "2022-10-10T07:15:36.480Z"
   },
   {
    "duration": 1480,
    "start_time": "2022-10-10T07:15:49.505Z"
   },
   {
    "duration": 390,
    "start_time": "2022-10-10T07:15:50.987Z"
   },
   {
    "duration": 286,
    "start_time": "2022-10-10T07:15:51.379Z"
   },
   {
    "duration": 95,
    "start_time": "2022-10-10T07:15:51.668Z"
   },
   {
    "duration": 3,
    "start_time": "2022-10-10T07:15:51.765Z"
   },
   {
    "duration": 19,
    "start_time": "2022-10-10T07:15:51.770Z"
   },
   {
    "duration": 23,
    "start_time": "2022-10-10T07:15:51.794Z"
   },
   {
    "duration": 17,
    "start_time": "2022-10-10T07:15:51.819Z"
   },
   {
    "duration": 13,
    "start_time": "2022-10-10T07:15:51.838Z"
   },
   {
    "duration": 359,
    "start_time": "2022-10-10T07:15:51.855Z"
   },
   {
    "duration": 3,
    "start_time": "2022-10-10T07:15:52.216Z"
   },
   {
    "duration": 44,
    "start_time": "2022-10-10T07:15:52.220Z"
   },
   {
    "duration": 34,
    "start_time": "2022-10-10T07:15:52.266Z"
   },
   {
    "duration": 108,
    "start_time": "2022-10-10T07:15:52.302Z"
   },
   {
    "duration": 150,
    "start_time": "2022-10-10T07:15:52.412Z"
   },
   {
    "duration": 6,
    "start_time": "2022-10-10T07:15:52.564Z"
   },
   {
    "duration": 20,
    "start_time": "2022-10-10T07:15:52.572Z"
   },
   {
    "duration": 16,
    "start_time": "2022-10-10T07:15:52.594Z"
   },
   {
    "duration": 321,
    "start_time": "2022-10-10T07:15:52.613Z"
   },
   {
    "duration": 5,
    "start_time": "2022-10-10T07:15:52.936Z"
   },
   {
    "duration": 8,
    "start_time": "2022-10-10T07:15:52.943Z"
   },
   {
    "duration": 6,
    "start_time": "2022-10-10T07:15:52.953Z"
   },
   {
    "duration": 28,
    "start_time": "2022-10-10T07:15:52.961Z"
   },
   {
    "duration": 30,
    "start_time": "2022-10-10T07:15:52.991Z"
   },
   {
    "duration": 1866,
    "start_time": "2022-10-10T07:15:53.023Z"
   },
   {
    "duration": 14,
    "start_time": "2022-10-10T07:15:54.892Z"
   },
   {
    "duration": 1520,
    "start_time": "2022-10-10T07:17:56.204Z"
   },
   {
    "duration": 81,
    "start_time": "2022-10-10T07:19:41.161Z"
   },
   {
    "duration": 11,
    "start_time": "2022-10-10T07:19:57.128Z"
   },
   {
    "duration": 1558,
    "start_time": "2022-10-10T07:20:37.716Z"
   },
   {
    "duration": 6,
    "start_time": "2022-10-10T07:20:45.606Z"
   },
   {
    "duration": 11,
    "start_time": "2022-10-10T07:21:20.202Z"
   },
   {
    "duration": 4,
    "start_time": "2022-10-10T07:21:33.633Z"
   },
   {
    "duration": 81,
    "start_time": "2022-10-10T07:21:39.212Z"
   },
   {
    "duration": 82,
    "start_time": "2022-10-10T07:21:48.538Z"
   },
   {
    "duration": 84,
    "start_time": "2022-10-10T07:23:23.726Z"
   },
   {
    "duration": 87,
    "start_time": "2022-10-10T07:23:27.520Z"
   },
   {
    "duration": 83,
    "start_time": "2022-10-10T07:23:45.277Z"
   },
   {
    "duration": 74,
    "start_time": "2022-10-10T07:24:49.854Z"
   },
   {
    "duration": 77,
    "start_time": "2022-10-10T07:25:03.032Z"
   },
   {
    "duration": 8,
    "start_time": "2022-10-10T07:25:07.937Z"
   },
   {
    "duration": 14,
    "start_time": "2022-10-10T07:25:39.337Z"
   },
   {
    "duration": 15,
    "start_time": "2022-10-10T07:25:43.138Z"
   },
   {
    "duration": 244,
    "start_time": "2022-10-10T07:26:23.010Z"
   },
   {
    "duration": 1389,
    "start_time": "2022-10-10T07:26:48.123Z"
   },
   {
    "duration": 389,
    "start_time": "2022-10-10T07:26:49.514Z"
   },
   {
    "duration": 288,
    "start_time": "2022-10-10T07:26:49.904Z"
   },
   {
    "duration": 99,
    "start_time": "2022-10-10T07:26:50.195Z"
   },
   {
    "duration": 9,
    "start_time": "2022-10-10T07:26:50.296Z"
   },
   {
    "duration": 19,
    "start_time": "2022-10-10T07:26:50.308Z"
   },
   {
    "duration": 8,
    "start_time": "2022-10-10T07:26:50.329Z"
   },
   {
    "duration": 5,
    "start_time": "2022-10-10T07:26:50.339Z"
   },
   {
    "duration": 5,
    "start_time": "2022-10-10T07:26:50.346Z"
   },
   {
    "duration": 338,
    "start_time": "2022-10-10T07:26:50.353Z"
   },
   {
    "duration": 3,
    "start_time": "2022-10-10T07:26:50.693Z"
   },
   {
    "duration": 20,
    "start_time": "2022-10-10T07:26:50.699Z"
   },
   {
    "duration": 28,
    "start_time": "2022-10-10T07:26:50.720Z"
   },
   {
    "duration": 135,
    "start_time": "2022-10-10T07:26:50.750Z"
   },
   {
    "duration": 140,
    "start_time": "2022-10-10T07:26:50.888Z"
   },
   {
    "duration": 5,
    "start_time": "2022-10-10T07:26:51.030Z"
   },
   {
    "duration": 6,
    "start_time": "2022-10-10T07:26:51.037Z"
   },
   {
    "duration": 6,
    "start_time": "2022-10-10T07:26:51.045Z"
   },
   {
    "duration": 302,
    "start_time": "2022-10-10T07:26:51.053Z"
   },
   {
    "duration": 5,
    "start_time": "2022-10-10T07:26:51.357Z"
   },
   {
    "duration": 18,
    "start_time": "2022-10-10T07:26:51.364Z"
   },
   {
    "duration": 10,
    "start_time": "2022-10-10T07:26:51.384Z"
   },
   {
    "duration": 10,
    "start_time": "2022-10-10T07:26:51.396Z"
   },
   {
    "duration": 37,
    "start_time": "2022-10-10T07:26:51.408Z"
   },
   {
    "duration": 1938,
    "start_time": "2022-10-10T07:26:51.447Z"
   },
   {
    "duration": 9,
    "start_time": "2022-10-10T07:26:53.389Z"
   },
   {
    "duration": 15,
    "start_time": "2022-10-10T07:26:53.400Z"
   },
   {
    "duration": 264,
    "start_time": "2022-10-10T07:26:53.418Z"
   },
   {
    "duration": 2103,
    "start_time": "2022-10-10T07:27:15.596Z"
   },
   {
    "duration": 11,
    "start_time": "2022-10-10T07:27:41.762Z"
   },
   {
    "duration": 1936,
    "start_time": "2022-10-10T07:27:42.165Z"
   },
   {
    "duration": 1911,
    "start_time": "2022-10-10T07:27:51.305Z"
   },
   {
    "duration": 1422,
    "start_time": "2022-10-10T07:28:03.209Z"
   },
   {
    "duration": 403,
    "start_time": "2022-10-10T07:28:04.633Z"
   },
   {
    "duration": 280,
    "start_time": "2022-10-10T07:28:05.037Z"
   },
   {
    "duration": 99,
    "start_time": "2022-10-10T07:28:05.319Z"
   },
   {
    "duration": 3,
    "start_time": "2022-10-10T07:28:05.419Z"
   },
   {
    "duration": 14,
    "start_time": "2022-10-10T07:28:05.424Z"
   },
   {
    "duration": 7,
    "start_time": "2022-10-10T07:28:05.439Z"
   },
   {
    "duration": 5,
    "start_time": "2022-10-10T07:28:05.447Z"
   },
   {
    "duration": 6,
    "start_time": "2022-10-10T07:28:05.453Z"
   },
   {
    "duration": 321,
    "start_time": "2022-10-10T07:28:05.462Z"
   },
   {
    "duration": 5,
    "start_time": "2022-10-10T07:28:05.785Z"
   },
   {
    "duration": 15,
    "start_time": "2022-10-10T07:28:05.792Z"
   },
   {
    "duration": 30,
    "start_time": "2022-10-10T07:28:05.809Z"
   },
   {
    "duration": 117,
    "start_time": "2022-10-10T07:28:05.841Z"
   },
   {
    "duration": 135,
    "start_time": "2022-10-10T07:28:05.960Z"
   },
   {
    "duration": 5,
    "start_time": "2022-10-10T07:28:06.097Z"
   },
   {
    "duration": 7,
    "start_time": "2022-10-10T07:28:06.104Z"
   },
   {
    "duration": 6,
    "start_time": "2022-10-10T07:28:06.113Z"
   },
   {
    "duration": 330,
    "start_time": "2022-10-10T07:28:06.120Z"
   },
   {
    "duration": 6,
    "start_time": "2022-10-10T07:28:06.452Z"
   },
   {
    "duration": 9,
    "start_time": "2022-10-10T07:28:06.459Z"
   },
   {
    "duration": 19,
    "start_time": "2022-10-10T07:28:06.470Z"
   },
   {
    "duration": 6,
    "start_time": "2022-10-10T07:28:06.491Z"
   },
   {
    "duration": 32,
    "start_time": "2022-10-10T07:28:06.499Z"
   },
   {
    "duration": 1933,
    "start_time": "2022-10-10T07:28:06.533Z"
   },
   {
    "duration": 9,
    "start_time": "2022-10-10T07:28:08.467Z"
   },
   {
    "duration": 19,
    "start_time": "2022-10-10T07:28:08.478Z"
   },
   {
    "duration": 1996,
    "start_time": "2022-10-10T07:28:08.501Z"
   },
   {
    "duration": 29,
    "start_time": "2022-10-10T07:28:55.353Z"
   },
   {
    "duration": 12,
    "start_time": "2022-10-10T07:29:16.344Z"
   },
   {
    "duration": 26,
    "start_time": "2022-10-10T07:29:20.513Z"
   },
   {
    "duration": 13,
    "start_time": "2022-10-10T07:29:57.766Z"
   },
   {
    "duration": 26,
    "start_time": "2022-10-10T07:29:58.297Z"
   },
   {
    "duration": 1415,
    "start_time": "2022-10-10T07:30:25.342Z"
   },
   {
    "duration": 379,
    "start_time": "2022-10-10T07:30:26.759Z"
   },
   {
    "duration": 274,
    "start_time": "2022-10-10T07:30:27.140Z"
   },
   {
    "duration": 94,
    "start_time": "2022-10-10T07:30:27.416Z"
   },
   {
    "duration": 3,
    "start_time": "2022-10-10T07:30:27.512Z"
   },
   {
    "duration": 8,
    "start_time": "2022-10-10T07:30:27.517Z"
   },
   {
    "duration": 7,
    "start_time": "2022-10-10T07:30:27.527Z"
   },
   {
    "duration": 4,
    "start_time": "2022-10-10T07:30:27.536Z"
   },
   {
    "duration": 7,
    "start_time": "2022-10-10T07:30:27.541Z"
   },
   {
    "duration": 315,
    "start_time": "2022-10-10T07:30:27.551Z"
   },
   {
    "duration": 3,
    "start_time": "2022-10-10T07:30:27.868Z"
   },
   {
    "duration": 23,
    "start_time": "2022-10-10T07:30:27.873Z"
   },
   {
    "duration": 47,
    "start_time": "2022-10-10T07:30:27.898Z"
   },
   {
    "duration": 106,
    "start_time": "2022-10-10T07:30:27.947Z"
   },
   {
    "duration": 131,
    "start_time": "2022-10-10T07:30:28.054Z"
   },
   {
    "duration": 6,
    "start_time": "2022-10-10T07:30:28.188Z"
   },
   {
    "duration": 27,
    "start_time": "2022-10-10T07:30:28.196Z"
   },
   {
    "duration": 25,
    "start_time": "2022-10-10T07:30:28.225Z"
   },
   {
    "duration": 307,
    "start_time": "2022-10-10T07:30:28.253Z"
   },
   {
    "duration": 4,
    "start_time": "2022-10-10T07:30:28.562Z"
   },
   {
    "duration": 27,
    "start_time": "2022-10-10T07:30:28.568Z"
   },
   {
    "duration": 22,
    "start_time": "2022-10-10T07:30:28.597Z"
   },
   {
    "duration": 14,
    "start_time": "2022-10-10T07:30:28.621Z"
   },
   {
    "duration": 50,
    "start_time": "2022-10-10T07:30:28.637Z"
   },
   {
    "duration": 1979,
    "start_time": "2022-10-10T07:30:28.689Z"
   },
   {
    "duration": 8,
    "start_time": "2022-10-10T07:30:30.670Z"
   },
   {
    "duration": 16,
    "start_time": "2022-10-10T07:30:30.689Z"
   },
   {
    "duration": 41,
    "start_time": "2022-10-10T07:30:30.709Z"
   },
   {
    "duration": 88,
    "start_time": "2022-10-10T07:30:57.758Z"
   },
   {
    "duration": 3,
    "start_time": "2022-10-10T07:31:08.844Z"
   },
   {
    "duration": 125,
    "start_time": "2022-10-10T07:31:22.429Z"
   },
   {
    "duration": 5,
    "start_time": "2022-10-10T07:31:40.657Z"
   },
   {
    "duration": 80,
    "start_time": "2022-10-10T07:31:44.185Z"
   },
   {
    "duration": 164,
    "start_time": "2022-10-10T07:32:00.321Z"
   },
   {
    "duration": 4,
    "start_time": "2022-10-10T07:32:04.290Z"
   },
   {
    "duration": 9,
    "start_time": "2022-10-10T07:32:16.268Z"
   },
   {
    "duration": 1482,
    "start_time": "2022-10-10T07:32:27.301Z"
   },
   {
    "duration": 386,
    "start_time": "2022-10-10T07:32:28.785Z"
   },
   {
    "duration": 288,
    "start_time": "2022-10-10T07:32:29.173Z"
   },
   {
    "duration": 94,
    "start_time": "2022-10-10T07:32:29.463Z"
   },
   {
    "duration": 3,
    "start_time": "2022-10-10T07:32:29.559Z"
   },
   {
    "duration": 8,
    "start_time": "2022-10-10T07:32:29.564Z"
   },
   {
    "duration": 21,
    "start_time": "2022-10-10T07:32:29.574Z"
   },
   {
    "duration": 9,
    "start_time": "2022-10-10T07:32:29.597Z"
   },
   {
    "duration": 19,
    "start_time": "2022-10-10T07:32:29.608Z"
   },
   {
    "duration": 303,
    "start_time": "2022-10-10T07:32:29.630Z"
   },
   {
    "duration": 3,
    "start_time": "2022-10-10T07:32:29.935Z"
   },
   {
    "duration": 14,
    "start_time": "2022-10-10T07:32:29.940Z"
   },
   {
    "duration": 40,
    "start_time": "2022-10-10T07:32:29.957Z"
   },
   {
    "duration": 118,
    "start_time": "2022-10-10T07:32:29.999Z"
   },
   {
    "duration": 144,
    "start_time": "2022-10-10T07:32:30.119Z"
   },
   {
    "duration": 5,
    "start_time": "2022-10-10T07:32:30.265Z"
   },
   {
    "duration": 24,
    "start_time": "2022-10-10T07:32:30.272Z"
   },
   {
    "duration": 15,
    "start_time": "2022-10-10T07:32:30.298Z"
   },
   {
    "duration": 299,
    "start_time": "2022-10-10T07:32:30.314Z"
   },
   {
    "duration": 5,
    "start_time": "2022-10-10T07:32:30.615Z"
   },
   {
    "duration": 19,
    "start_time": "2022-10-10T07:32:30.622Z"
   },
   {
    "duration": 25,
    "start_time": "2022-10-10T07:32:30.643Z"
   },
   {
    "duration": 15,
    "start_time": "2022-10-10T07:32:30.669Z"
   },
   {
    "duration": 47,
    "start_time": "2022-10-10T07:32:30.686Z"
   },
   {
    "duration": 2032,
    "start_time": "2022-10-10T07:32:30.735Z"
   },
   {
    "duration": 8,
    "start_time": "2022-10-10T07:32:32.769Z"
   },
   {
    "duration": 18,
    "start_time": "2022-10-10T07:32:32.779Z"
   },
   {
    "duration": 24,
    "start_time": "2022-10-10T07:32:32.801Z"
   },
   {
    "duration": 10,
    "start_time": "2022-10-10T07:32:32.827Z"
   },
   {
    "duration": 150,
    "start_time": "2022-10-10T07:36:12.010Z"
   },
   {
    "duration": 10,
    "start_time": "2022-10-10T07:36:15.067Z"
   },
   {
    "duration": 12,
    "start_time": "2022-10-10T07:36:17.527Z"
   },
   {
    "duration": 24,
    "start_time": "2022-10-10T07:36:18.036Z"
   },
   {
    "duration": 9,
    "start_time": "2022-10-10T07:36:20.621Z"
   },
   {
    "duration": 2004,
    "start_time": "2022-10-10T07:36:27.298Z"
   },
   {
    "duration": 8,
    "start_time": "2022-10-10T07:36:29.305Z"
   },
   {
    "duration": 32,
    "start_time": "2022-10-10T07:36:40.480Z"
   },
   {
    "duration": 8,
    "start_time": "2022-10-10T07:36:46.547Z"
   },
   {
    "duration": 30,
    "start_time": "2022-10-10T07:36:47.347Z"
   },
   {
    "duration": 18,
    "start_time": "2022-10-10T07:36:55.452Z"
   },
   {
    "duration": 27,
    "start_time": "2022-10-10T07:36:55.981Z"
   },
   {
    "duration": 9,
    "start_time": "2022-10-10T07:36:57.655Z"
   },
   {
    "duration": 10,
    "start_time": "2022-10-10T07:38:25.593Z"
   },
   {
    "duration": 24,
    "start_time": "2022-10-10T07:38:26.143Z"
   },
   {
    "duration": 10,
    "start_time": "2022-10-10T07:38:28.049Z"
   },
   {
    "duration": 12,
    "start_time": "2022-10-10T07:39:18.925Z"
   },
   {
    "duration": 12,
    "start_time": "2022-10-10T07:40:38.374Z"
   },
   {
    "duration": 24,
    "start_time": "2022-10-10T07:40:38.639Z"
   },
   {
    "duration": 3,
    "start_time": "2022-10-10T07:40:39.279Z"
   },
   {
    "duration": 4,
    "start_time": "2022-10-10T07:41:06.360Z"
   },
   {
    "duration": 1460,
    "start_time": "2022-10-10T07:41:12.941Z"
   },
   {
    "duration": 2071,
    "start_time": "2022-10-10T07:41:25.212Z"
   },
   {
    "duration": 1314,
    "start_time": "2022-10-10T07:41:32.091Z"
   },
   {
    "duration": 1539,
    "start_time": "2022-10-10T07:42:46.599Z"
   },
   {
    "duration": 437,
    "start_time": "2022-10-10T07:42:48.140Z"
   },
   {
    "duration": 318,
    "start_time": "2022-10-10T07:42:48.579Z"
   },
   {
    "duration": 102,
    "start_time": "2022-10-10T07:42:48.899Z"
   },
   {
    "duration": 5,
    "start_time": "2022-10-10T07:42:49.003Z"
   },
   {
    "duration": 13,
    "start_time": "2022-10-10T07:42:49.010Z"
   },
   {
    "duration": 7,
    "start_time": "2022-10-10T07:42:49.025Z"
   },
   {
    "duration": 6,
    "start_time": "2022-10-10T07:42:49.033Z"
   },
   {
    "duration": 6,
    "start_time": "2022-10-10T07:42:49.041Z"
   },
   {
    "duration": 396,
    "start_time": "2022-10-10T07:42:49.051Z"
   },
   {
    "duration": 2,
    "start_time": "2022-10-10T07:42:49.449Z"
   },
   {
    "duration": 14,
    "start_time": "2022-10-10T07:42:49.453Z"
   },
   {
    "duration": 38,
    "start_time": "2022-10-10T07:42:49.469Z"
   },
   {
    "duration": 119,
    "start_time": "2022-10-10T07:42:49.509Z"
   },
   {
    "duration": 148,
    "start_time": "2022-10-10T07:42:49.630Z"
   },
   {
    "duration": 12,
    "start_time": "2022-10-10T07:42:49.780Z"
   },
   {
    "duration": 12,
    "start_time": "2022-10-10T07:42:49.794Z"
   },
   {
    "duration": 7,
    "start_time": "2022-10-10T07:42:49.808Z"
   },
   {
    "duration": 324,
    "start_time": "2022-10-10T07:42:49.816Z"
   },
   {
    "duration": 6,
    "start_time": "2022-10-10T07:42:50.142Z"
   },
   {
    "duration": 12,
    "start_time": "2022-10-10T07:42:50.149Z"
   },
   {
    "duration": 6,
    "start_time": "2022-10-10T07:42:50.163Z"
   },
   {
    "duration": 26,
    "start_time": "2022-10-10T07:42:50.171Z"
   },
   {
    "duration": 2083,
    "start_time": "2022-10-10T07:42:50.199Z"
   },
   {
    "duration": 9,
    "start_time": "2022-10-10T07:42:52.284Z"
   },
   {
    "duration": 15,
    "start_time": "2022-10-10T07:42:52.295Z"
   },
   {
    "duration": 1455,
    "start_time": "2022-10-10T07:49:59.065Z"
   },
   {
    "duration": 459,
    "start_time": "2022-10-10T07:50:00.522Z"
   },
   {
    "duration": 332,
    "start_time": "2022-10-10T07:50:00.983Z"
   },
   {
    "duration": 106,
    "start_time": "2022-10-10T07:50:01.317Z"
   },
   {
    "duration": 4,
    "start_time": "2022-10-10T07:50:01.424Z"
   },
   {
    "duration": 19,
    "start_time": "2022-10-10T07:50:01.430Z"
   },
   {
    "duration": 16,
    "start_time": "2022-10-10T07:50:01.450Z"
   },
   {
    "duration": 12,
    "start_time": "2022-10-10T07:50:01.467Z"
   },
   {
    "duration": 15,
    "start_time": "2022-10-10T07:50:01.480Z"
   },
   {
    "duration": 353,
    "start_time": "2022-10-10T07:50:01.499Z"
   },
   {
    "duration": 3,
    "start_time": "2022-10-10T07:50:01.854Z"
   },
   {
    "duration": 36,
    "start_time": "2022-10-10T07:50:01.860Z"
   },
   {
    "duration": 45,
    "start_time": "2022-10-10T07:50:01.898Z"
   },
   {
    "duration": 138,
    "start_time": "2022-10-10T07:50:01.946Z"
   },
   {
    "duration": 177,
    "start_time": "2022-10-10T07:50:02.090Z"
   },
   {
    "duration": 5,
    "start_time": "2022-10-10T07:50:02.269Z"
   },
   {
    "duration": 26,
    "start_time": "2022-10-10T07:50:02.276Z"
   },
   {
    "duration": 12,
    "start_time": "2022-10-10T07:50:02.306Z"
   },
   {
    "duration": 355,
    "start_time": "2022-10-10T07:50:02.320Z"
   },
   {
    "duration": 14,
    "start_time": "2022-10-10T07:50:02.677Z"
   },
   {
    "duration": 25,
    "start_time": "2022-10-10T07:50:02.693Z"
   },
   {
    "duration": 13,
    "start_time": "2022-10-10T07:50:02.720Z"
   },
   {
    "duration": 9,
    "start_time": "2022-10-10T07:50:02.735Z"
   },
   {
    "duration": 1960,
    "start_time": "2022-10-10T07:50:02.746Z"
   },
   {
    "duration": 11,
    "start_time": "2022-10-10T07:50:04.709Z"
   },
   {
    "duration": 19,
    "start_time": "2022-10-10T07:50:04.722Z"
   },
   {
    "duration": 1547,
    "start_time": "2022-10-10T09:41:41.240Z"
   },
   {
    "duration": 419,
    "start_time": "2022-10-10T09:41:42.790Z"
   },
   {
    "duration": 308,
    "start_time": "2022-10-10T09:41:43.211Z"
   },
   {
    "duration": 98,
    "start_time": "2022-10-10T09:41:43.522Z"
   },
   {
    "duration": 4,
    "start_time": "2022-10-10T09:41:43.622Z"
   },
   {
    "duration": 33,
    "start_time": "2022-10-10T09:41:43.628Z"
   },
   {
    "duration": 22,
    "start_time": "2022-10-10T09:41:43.662Z"
   },
   {
    "duration": 10,
    "start_time": "2022-10-10T09:41:43.686Z"
   },
   {
    "duration": 27,
    "start_time": "2022-10-10T09:41:43.698Z"
   },
   {
    "duration": 319,
    "start_time": "2022-10-10T09:41:43.727Z"
   },
   {
    "duration": 2,
    "start_time": "2022-10-10T09:41:44.048Z"
   },
   {
    "duration": 38,
    "start_time": "2022-10-10T09:41:44.052Z"
   },
   {
    "duration": 42,
    "start_time": "2022-10-10T09:41:44.092Z"
   },
   {
    "duration": 101,
    "start_time": "2022-10-10T09:41:44.136Z"
   },
   {
    "duration": 133,
    "start_time": "2022-10-10T09:41:44.239Z"
   },
   {
    "duration": 4,
    "start_time": "2022-10-10T09:41:44.374Z"
   },
   {
    "duration": 6,
    "start_time": "2022-10-10T09:41:44.389Z"
   },
   {
    "duration": 25,
    "start_time": "2022-10-10T09:41:44.397Z"
   },
   {
    "duration": 303,
    "start_time": "2022-10-10T09:41:44.424Z"
   },
   {
    "duration": 5,
    "start_time": "2022-10-10T09:41:44.728Z"
   },
   {
    "duration": 36,
    "start_time": "2022-10-10T09:41:44.735Z"
   },
   {
    "duration": 18,
    "start_time": "2022-10-10T09:41:44.773Z"
   },
   {
    "duration": 39,
    "start_time": "2022-10-10T09:41:44.793Z"
   },
   {
    "duration": 2101,
    "start_time": "2022-10-10T09:41:44.834Z"
   },
   {
    "duration": 8,
    "start_time": "2022-10-10T09:41:46.937Z"
   },
   {
    "duration": 14,
    "start_time": "2022-10-10T09:41:46.947Z"
   },
   {
    "duration": 1669,
    "start_time": "2022-10-11T08:17:23.185Z"
   },
   {
    "duration": 1710,
    "start_time": "2022-10-11T08:17:24.856Z"
   },
   {
    "duration": 892,
    "start_time": "2022-10-11T08:17:26.568Z"
   },
   {
    "duration": 339,
    "start_time": "2022-10-11T08:17:27.462Z"
   },
   {
    "duration": 3,
    "start_time": "2022-10-11T08:17:27.802Z"
   },
   {
    "duration": 9,
    "start_time": "2022-10-11T08:17:27.807Z"
   },
   {
    "duration": 6,
    "start_time": "2022-10-11T08:17:27.817Z"
   },
   {
    "duration": 11,
    "start_time": "2022-10-11T08:17:27.824Z"
   },
   {
    "duration": 6,
    "start_time": "2022-10-11T08:17:27.836Z"
   },
   {
    "duration": 270,
    "start_time": "2022-10-11T08:17:27.844Z"
   },
   {
    "duration": 2,
    "start_time": "2022-10-11T08:17:28.115Z"
   },
   {
    "duration": 12,
    "start_time": "2022-10-11T08:17:28.119Z"
   },
   {
    "duration": 26,
    "start_time": "2022-10-11T08:17:28.133Z"
   },
   {
    "duration": 116,
    "start_time": "2022-10-11T08:17:28.160Z"
   },
   {
    "duration": 131,
    "start_time": "2022-10-11T08:17:28.278Z"
   },
   {
    "duration": 6,
    "start_time": "2022-10-11T08:17:28.411Z"
   },
   {
    "duration": 8,
    "start_time": "2022-10-11T08:17:28.419Z"
   },
   {
    "duration": 5,
    "start_time": "2022-10-11T08:17:28.428Z"
   },
   {
    "duration": 285,
    "start_time": "2022-10-11T08:17:28.435Z"
   },
   {
    "duration": 4,
    "start_time": "2022-10-11T08:17:28.722Z"
   },
   {
    "duration": 11,
    "start_time": "2022-10-11T08:17:28.728Z"
   },
   {
    "duration": 5,
    "start_time": "2022-10-11T08:17:28.740Z"
   },
   {
    "duration": 3,
    "start_time": "2022-10-11T08:17:28.747Z"
   },
   {
    "duration": 1872,
    "start_time": "2022-10-11T08:17:28.752Z"
   },
   {
    "duration": 7,
    "start_time": "2022-10-11T08:17:30.625Z"
   },
   {
    "duration": 21,
    "start_time": "2022-10-11T08:17:30.634Z"
   },
   {
    "duration": 51,
    "start_time": "2022-10-11T13:03:38.497Z"
   },
   {
    "duration": 128,
    "start_time": "2022-10-11T13:03:51.930Z"
   },
   {
    "duration": 0,
    "start_time": "2022-10-11T13:03:52.061Z"
   },
   {
    "duration": 0,
    "start_time": "2022-10-11T13:03:52.062Z"
   },
   {
    "duration": 0,
    "start_time": "2022-10-11T13:03:52.063Z"
   },
   {
    "duration": 0,
    "start_time": "2022-10-11T13:03:52.064Z"
   },
   {
    "duration": 0,
    "start_time": "2022-10-11T13:03:52.066Z"
   },
   {
    "duration": 0,
    "start_time": "2022-10-11T13:03:52.067Z"
   },
   {
    "duration": 0,
    "start_time": "2022-10-11T13:03:52.068Z"
   },
   {
    "duration": 0,
    "start_time": "2022-10-11T13:03:52.068Z"
   },
   {
    "duration": 0,
    "start_time": "2022-10-11T13:03:52.070Z"
   },
   {
    "duration": 0,
    "start_time": "2022-10-11T13:03:52.071Z"
   },
   {
    "duration": 0,
    "start_time": "2022-10-11T13:03:52.073Z"
   },
   {
    "duration": 0,
    "start_time": "2022-10-11T13:03:52.073Z"
   },
   {
    "duration": 0,
    "start_time": "2022-10-11T13:03:52.075Z"
   },
   {
    "duration": 0,
    "start_time": "2022-10-11T13:03:52.076Z"
   },
   {
    "duration": 0,
    "start_time": "2022-10-11T13:03:52.077Z"
   },
   {
    "duration": 0,
    "start_time": "2022-10-11T13:03:52.078Z"
   },
   {
    "duration": 0,
    "start_time": "2022-10-11T13:03:52.079Z"
   },
   {
    "duration": 0,
    "start_time": "2022-10-11T13:03:52.081Z"
   },
   {
    "duration": 0,
    "start_time": "2022-10-11T13:03:52.081Z"
   },
   {
    "duration": 0,
    "start_time": "2022-10-11T13:03:52.083Z"
   },
   {
    "duration": 0,
    "start_time": "2022-10-11T13:03:52.084Z"
   },
   {
    "duration": 0,
    "start_time": "2022-10-11T13:03:52.085Z"
   },
   {
    "duration": 0,
    "start_time": "2022-10-11T13:03:52.086Z"
   },
   {
    "duration": 0,
    "start_time": "2022-10-11T13:03:52.087Z"
   },
   {
    "duration": 0,
    "start_time": "2022-10-11T13:03:52.087Z"
   },
   {
    "duration": 0,
    "start_time": "2022-10-11T13:03:52.088Z"
   },
   {
    "duration": 0,
    "start_time": "2022-10-11T13:03:52.090Z"
   },
   {
    "duration": 0,
    "start_time": "2022-10-11T13:03:52.091Z"
   },
   {
    "duration": 0,
    "start_time": "2022-10-11T13:03:52.092Z"
   },
   {
    "duration": 0,
    "start_time": "2022-10-11T13:03:52.093Z"
   },
   {
    "duration": 0,
    "start_time": "2022-10-11T13:03:52.094Z"
   },
   {
    "duration": 97,
    "start_time": "2022-10-11T13:04:18.344Z"
   },
   {
    "duration": 1706,
    "start_time": "2022-10-11T13:04:37.119Z"
   },
   {
    "duration": 577,
    "start_time": "2022-10-11T13:04:38.827Z"
   },
   {
    "duration": 1131,
    "start_time": "2022-10-11T13:04:39.405Z"
   },
   {
    "duration": 163,
    "start_time": "2022-10-11T13:04:40.539Z"
   },
   {
    "duration": 4,
    "start_time": "2022-10-11T13:04:40.704Z"
   },
   {
    "duration": 10,
    "start_time": "2022-10-11T13:04:40.710Z"
   },
   {
    "duration": 7,
    "start_time": "2022-10-11T13:04:40.721Z"
   },
   {
    "duration": 6,
    "start_time": "2022-10-11T13:04:40.730Z"
   },
   {
    "duration": 8,
    "start_time": "2022-10-11T13:04:40.738Z"
   },
   {
    "duration": 308,
    "start_time": "2022-10-11T13:04:40.750Z"
   },
   {
    "duration": 3,
    "start_time": "2022-10-11T13:04:41.059Z"
   },
   {
    "duration": 15,
    "start_time": "2022-10-11T13:04:41.063Z"
   },
   {
    "duration": 35,
    "start_time": "2022-10-11T13:04:41.080Z"
   },
   {
    "duration": 114,
    "start_time": "2022-10-11T13:04:41.116Z"
   },
   {
    "duration": 137,
    "start_time": "2022-10-11T13:04:41.232Z"
   },
   {
    "duration": 6,
    "start_time": "2022-10-11T13:04:41.371Z"
   },
   {
    "duration": 19,
    "start_time": "2022-10-11T13:04:41.379Z"
   },
   {
    "duration": 5,
    "start_time": "2022-10-11T13:04:41.400Z"
   },
   {
    "duration": 323,
    "start_time": "2022-10-11T13:04:41.407Z"
   },
   {
    "duration": 5,
    "start_time": "2022-10-11T13:04:41.732Z"
   },
   {
    "duration": 22,
    "start_time": "2022-10-11T13:04:41.739Z"
   },
   {
    "duration": 16,
    "start_time": "2022-10-11T13:04:41.763Z"
   },
   {
    "duration": 7,
    "start_time": "2022-10-11T13:04:41.780Z"
   },
   {
    "duration": 2049,
    "start_time": "2022-10-11T13:04:41.789Z"
   },
   {
    "duration": 9,
    "start_time": "2022-10-11T13:04:43.841Z"
   },
   {
    "duration": 16,
    "start_time": "2022-10-11T13:04:43.852Z"
   },
   {
    "duration": 1713,
    "start_time": "2022-10-11T13:04:43.870Z"
   },
   {
    "duration": 0,
    "start_time": "2022-10-11T13:04:45.585Z"
   },
   {
    "duration": 0,
    "start_time": "2022-10-11T13:04:45.586Z"
   },
   {
    "duration": 0,
    "start_time": "2022-10-11T13:04:45.587Z"
   },
   {
    "duration": 0,
    "start_time": "2022-10-11T13:04:45.588Z"
   },
   {
    "duration": 0,
    "start_time": "2022-10-11T13:04:45.589Z"
   },
   {
    "duration": 23,
    "start_time": "2022-10-11T13:07:23.469Z"
   },
   {
    "duration": 1201,
    "start_time": "2022-10-11T13:07:30.756Z"
   },
   {
    "duration": 0,
    "start_time": "2022-10-11T13:07:31.959Z"
   },
   {
    "duration": 19,
    "start_time": "2022-10-11T13:07:48.645Z"
   },
   {
    "duration": 19,
    "start_time": "2022-10-11T13:13:18.634Z"
   },
   {
    "duration": 9,
    "start_time": "2022-10-11T13:13:20.578Z"
   },
   {
    "duration": 13,
    "start_time": "2022-10-11T13:13:28.162Z"
   },
   {
    "duration": 9,
    "start_time": "2022-10-11T13:19:15.374Z"
   },
   {
    "duration": 10,
    "start_time": "2022-10-11T13:19:16.667Z"
   },
   {
    "duration": 9,
    "start_time": "2022-10-11T13:19:24.831Z"
   },
   {
    "duration": 1429,
    "start_time": "2022-10-11T13:19:52.180Z"
   },
   {
    "duration": 362,
    "start_time": "2022-10-11T13:19:53.611Z"
   },
   {
    "duration": 270,
    "start_time": "2022-10-11T13:19:53.975Z"
   },
   {
    "duration": 87,
    "start_time": "2022-10-11T13:19:54.247Z"
   },
   {
    "duration": 3,
    "start_time": "2022-10-11T13:19:54.336Z"
   },
   {
    "duration": 13,
    "start_time": "2022-10-11T13:19:54.341Z"
   },
   {
    "duration": 9,
    "start_time": "2022-10-11T13:19:54.355Z"
   },
   {
    "duration": 11,
    "start_time": "2022-10-11T13:19:54.366Z"
   },
   {
    "duration": 19,
    "start_time": "2022-10-11T13:19:54.378Z"
   },
   {
    "duration": 323,
    "start_time": "2022-10-11T13:19:54.400Z"
   },
   {
    "duration": 2,
    "start_time": "2022-10-11T13:19:54.725Z"
   },
   {
    "duration": 16,
    "start_time": "2022-10-11T13:19:54.729Z"
   },
   {
    "duration": 28,
    "start_time": "2022-10-11T13:19:54.747Z"
   },
   {
    "duration": 113,
    "start_time": "2022-10-11T13:19:54.777Z"
   },
   {
    "duration": 138,
    "start_time": "2022-10-11T13:19:54.896Z"
   },
   {
    "duration": 5,
    "start_time": "2022-10-11T13:19:55.036Z"
   },
   {
    "duration": 13,
    "start_time": "2022-10-11T13:19:55.043Z"
   },
   {
    "duration": 17,
    "start_time": "2022-10-11T13:19:55.057Z"
   },
   {
    "duration": 275,
    "start_time": "2022-10-11T13:19:55.076Z"
   },
   {
    "duration": 5,
    "start_time": "2022-10-11T13:19:55.352Z"
   },
   {
    "duration": 15,
    "start_time": "2022-10-11T13:19:55.359Z"
   },
   {
    "duration": 10,
    "start_time": "2022-10-11T13:19:55.376Z"
   },
   {
    "duration": 11,
    "start_time": "2022-10-11T13:19:55.387Z"
   },
   {
    "duration": 1974,
    "start_time": "2022-10-11T13:19:55.400Z"
   },
   {
    "duration": 9,
    "start_time": "2022-10-11T13:19:57.376Z"
   },
   {
    "duration": 10,
    "start_time": "2022-10-11T13:19:57.397Z"
   },
   {
    "duration": 19,
    "start_time": "2022-10-11T13:19:57.408Z"
   },
   {
    "duration": 128,
    "start_time": "2022-10-11T13:19:57.429Z"
   },
   {
    "duration": 0,
    "start_time": "2022-10-11T13:19:57.559Z"
   },
   {
    "duration": 0,
    "start_time": "2022-10-11T13:19:57.560Z"
   },
   {
    "duration": 0,
    "start_time": "2022-10-11T13:19:57.561Z"
   },
   {
    "duration": 0,
    "start_time": "2022-10-11T13:19:57.563Z"
   },
   {
    "duration": 0,
    "start_time": "2022-10-11T13:19:57.564Z"
   },
   {
    "duration": 1669,
    "start_time": "2022-10-11T13:21:23.756Z"
   },
   {
    "duration": 1426,
    "start_time": "2022-10-11T13:21:48.715Z"
   },
   {
    "duration": 379,
    "start_time": "2022-10-11T13:21:50.143Z"
   },
   {
    "duration": 296,
    "start_time": "2022-10-11T13:21:50.524Z"
   },
   {
    "duration": 90,
    "start_time": "2022-10-11T13:21:50.822Z"
   },
   {
    "duration": 3,
    "start_time": "2022-10-11T13:21:50.914Z"
   },
   {
    "duration": 15,
    "start_time": "2022-10-11T13:21:50.919Z"
   },
   {
    "duration": 6,
    "start_time": "2022-10-11T13:21:50.936Z"
   },
   {
    "duration": 6,
    "start_time": "2022-10-11T13:21:50.944Z"
   },
   {
    "duration": 7,
    "start_time": "2022-10-11T13:21:50.951Z"
   },
   {
    "duration": 314,
    "start_time": "2022-10-11T13:21:50.960Z"
   },
   {
    "duration": 2,
    "start_time": "2022-10-11T13:21:51.276Z"
   },
   {
    "duration": 20,
    "start_time": "2022-10-11T13:21:51.280Z"
   },
   {
    "duration": 31,
    "start_time": "2022-10-11T13:21:51.301Z"
   },
   {
    "duration": 106,
    "start_time": "2022-10-11T13:21:51.334Z"
   },
   {
    "duration": 132,
    "start_time": "2022-10-11T13:21:51.441Z"
   },
   {
    "duration": 5,
    "start_time": "2022-10-11T13:21:51.575Z"
   },
   {
    "duration": 16,
    "start_time": "2022-10-11T13:21:51.582Z"
   },
   {
    "duration": 22,
    "start_time": "2022-10-11T13:21:51.599Z"
   },
   {
    "duration": 286,
    "start_time": "2022-10-11T13:21:51.623Z"
   },
   {
    "duration": 5,
    "start_time": "2022-10-11T13:21:51.911Z"
   },
   {
    "duration": 13,
    "start_time": "2022-10-11T13:21:51.918Z"
   },
   {
    "duration": 19,
    "start_time": "2022-10-11T13:21:51.933Z"
   },
   {
    "duration": 16,
    "start_time": "2022-10-11T13:21:51.953Z"
   },
   {
    "duration": 1902,
    "start_time": "2022-10-11T13:21:51.971Z"
   },
   {
    "duration": 9,
    "start_time": "2022-10-11T13:21:53.874Z"
   },
   {
    "duration": 19,
    "start_time": "2022-10-11T13:21:53.884Z"
   },
   {
    "duration": 19,
    "start_time": "2022-10-11T13:21:53.905Z"
   },
   {
    "duration": 130,
    "start_time": "2022-10-11T13:21:53.927Z"
   },
   {
    "duration": 0,
    "start_time": "2022-10-11T13:21:54.058Z"
   },
   {
    "duration": 0,
    "start_time": "2022-10-11T13:21:54.060Z"
   },
   {
    "duration": 0,
    "start_time": "2022-10-11T13:21:54.061Z"
   },
   {
    "duration": 0,
    "start_time": "2022-10-11T13:21:54.062Z"
   },
   {
    "duration": 0,
    "start_time": "2022-10-11T13:21:54.063Z"
   },
   {
    "duration": 9,
    "start_time": "2022-10-11T13:23:55.446Z"
   },
   {
    "duration": 1439,
    "start_time": "2022-10-11T13:23:56.434Z"
   },
   {
    "duration": 19,
    "start_time": "2022-10-11T13:24:02.366Z"
   },
   {
    "duration": 9,
    "start_time": "2022-10-11T13:24:03.153Z"
   },
   {
    "duration": 2214,
    "start_time": "2022-10-11T13:24:03.672Z"
   },
   {
    "duration": 17,
    "start_time": "2022-10-11T13:24:46.111Z"
   },
   {
    "duration": 9,
    "start_time": "2022-10-11T13:24:47.246Z"
   },
   {
    "duration": 1699,
    "start_time": "2022-10-11T13:24:47.721Z"
   },
   {
    "duration": 1542,
    "start_time": "2022-10-11T13:25:00.504Z"
   },
   {
    "duration": 391,
    "start_time": "2022-10-11T13:25:02.048Z"
   },
   {
    "duration": 290,
    "start_time": "2022-10-11T13:25:02.440Z"
   },
   {
    "duration": 97,
    "start_time": "2022-10-11T13:25:02.732Z"
   },
   {
    "duration": 3,
    "start_time": "2022-10-11T13:25:02.831Z"
   },
   {
    "duration": 14,
    "start_time": "2022-10-11T13:25:02.836Z"
   },
   {
    "duration": 6,
    "start_time": "2022-10-11T13:25:02.852Z"
   },
   {
    "duration": 6,
    "start_time": "2022-10-11T13:25:02.860Z"
   },
   {
    "duration": 10,
    "start_time": "2022-10-11T13:25:02.868Z"
   },
   {
    "duration": 321,
    "start_time": "2022-10-11T13:25:02.881Z"
   },
   {
    "duration": 3,
    "start_time": "2022-10-11T13:25:03.203Z"
   },
   {
    "duration": 15,
    "start_time": "2022-10-11T13:25:03.209Z"
   },
   {
    "duration": 28,
    "start_time": "2022-10-11T13:25:03.226Z"
   },
   {
    "duration": 119,
    "start_time": "2022-10-11T13:25:03.256Z"
   },
   {
    "duration": 140,
    "start_time": "2022-10-11T13:25:03.376Z"
   },
   {
    "duration": 5,
    "start_time": "2022-10-11T13:25:03.518Z"
   },
   {
    "duration": 5,
    "start_time": "2022-10-11T13:25:03.524Z"
   },
   {
    "duration": 5,
    "start_time": "2022-10-11T13:25:03.531Z"
   },
   {
    "duration": 303,
    "start_time": "2022-10-11T13:25:03.537Z"
   },
   {
    "duration": 4,
    "start_time": "2022-10-11T13:25:03.842Z"
   },
   {
    "duration": 5,
    "start_time": "2022-10-11T13:25:03.848Z"
   },
   {
    "duration": 5,
    "start_time": "2022-10-11T13:25:03.855Z"
   },
   {
    "duration": 6,
    "start_time": "2022-10-11T13:25:03.861Z"
   },
   {
    "duration": 2024,
    "start_time": "2022-10-11T13:25:03.868Z"
   },
   {
    "duration": 10,
    "start_time": "2022-10-11T13:25:05.894Z"
   },
   {
    "duration": 36,
    "start_time": "2022-10-11T13:25:05.906Z"
   },
   {
    "duration": 25,
    "start_time": "2022-10-11T13:25:05.944Z"
   },
   {
    "duration": 19,
    "start_time": "2022-10-11T13:25:05.973Z"
   },
   {
    "duration": 2062,
    "start_time": "2022-10-11T13:25:05.994Z"
   },
   {
    "duration": 0,
    "start_time": "2022-10-11T13:25:08.058Z"
   },
   {
    "duration": 0,
    "start_time": "2022-10-11T13:25:08.059Z"
   },
   {
    "duration": 0,
    "start_time": "2022-10-11T13:25:08.061Z"
   },
   {
    "duration": 0,
    "start_time": "2022-10-11T13:25:08.062Z"
   },
   {
    "duration": 19,
    "start_time": "2022-10-11T13:25:56.907Z"
   },
   {
    "duration": 9,
    "start_time": "2022-10-11T13:25:57.371Z"
   },
   {
    "duration": 1373,
    "start_time": "2022-10-11T13:25:57.586Z"
   },
   {
    "duration": 11,
    "start_time": "2022-10-11T13:36:53.282Z"
   },
   {
    "duration": 22,
    "start_time": "2022-10-11T13:37:06.742Z"
   },
   {
    "duration": 10,
    "start_time": "2022-10-11T13:37:08.096Z"
   },
   {
    "duration": 2425,
    "start_time": "2022-10-11T13:37:08.973Z"
   },
   {
    "duration": 26,
    "start_time": "2022-10-11T13:38:27.788Z"
   },
   {
    "duration": 9,
    "start_time": "2022-10-11T13:38:29.506Z"
   },
   {
    "duration": 4,
    "start_time": "2022-10-11T13:38:30.997Z"
   },
   {
    "duration": 1587,
    "start_time": "2022-10-14T07:37:46.662Z"
   },
   {
    "duration": 604,
    "start_time": "2022-10-14T07:37:48.251Z"
   },
   {
    "duration": 888,
    "start_time": "2022-10-14T07:37:48.857Z"
   },
   {
    "duration": 157,
    "start_time": "2022-10-14T07:37:49.748Z"
   },
   {
    "duration": 3,
    "start_time": "2022-10-14T07:37:49.906Z"
   },
   {
    "duration": 21,
    "start_time": "2022-10-14T07:37:49.915Z"
   },
   {
    "duration": 6,
    "start_time": "2022-10-14T07:37:49.937Z"
   },
   {
    "duration": 20,
    "start_time": "2022-10-14T07:37:49.944Z"
   },
   {
    "duration": 22,
    "start_time": "2022-10-14T07:37:49.966Z"
   },
   {
    "duration": 296,
    "start_time": "2022-10-14T07:37:49.990Z"
   },
   {
    "duration": 2,
    "start_time": "2022-10-14T07:37:50.287Z"
   },
   {
    "duration": 20,
    "start_time": "2022-10-14T07:37:50.303Z"
   },
   {
    "duration": 25,
    "start_time": "2022-10-14T07:37:50.324Z"
   },
   {
    "duration": 95,
    "start_time": "2022-10-14T07:37:50.350Z"
   },
   {
    "duration": 123,
    "start_time": "2022-10-14T07:37:50.447Z"
   },
   {
    "duration": 5,
    "start_time": "2022-10-14T07:37:50.571Z"
   },
   {
    "duration": 8,
    "start_time": "2022-10-14T07:37:50.577Z"
   },
   {
    "duration": 27,
    "start_time": "2022-10-14T07:37:50.586Z"
   },
   {
    "duration": 278,
    "start_time": "2022-10-14T07:37:50.615Z"
   },
   {
    "duration": 7,
    "start_time": "2022-10-14T07:37:50.896Z"
   },
   {
    "duration": 34,
    "start_time": "2022-10-14T07:37:50.907Z"
   },
   {
    "duration": 8,
    "start_time": "2022-10-14T07:37:50.943Z"
   },
   {
    "duration": 20,
    "start_time": "2022-10-14T07:37:50.953Z"
   },
   {
    "duration": 2085,
    "start_time": "2022-10-14T07:37:50.975Z"
   },
   {
    "duration": 8,
    "start_time": "2022-10-14T07:37:53.062Z"
   },
   {
    "duration": 11,
    "start_time": "2022-10-14T07:37:53.072Z"
   },
   {
    "duration": 52,
    "start_time": "2022-10-14T07:37:53.084Z"
   },
   {
    "duration": 8,
    "start_time": "2022-10-14T07:37:53.140Z"
   },
   {
    "duration": 12,
    "start_time": "2022-10-14T07:37:53.150Z"
   },
   {
    "duration": 128,
    "start_time": "2022-10-14T07:37:53.164Z"
   },
   {
    "duration": 0,
    "start_time": "2022-10-14T07:37:53.294Z"
   },
   {
    "duration": 0,
    "start_time": "2022-10-14T07:37:53.295Z"
   },
   {
    "duration": 31,
    "start_time": "2022-10-14T07:39:18.307Z"
   },
   {
    "duration": 19,
    "start_time": "2022-10-14T07:39:35.865Z"
   },
   {
    "duration": 21,
    "start_time": "2022-10-14T07:41:00.423Z"
   },
   {
    "duration": 5,
    "start_time": "2022-10-14T07:55:17.896Z"
   },
   {
    "duration": 3,
    "start_time": "2022-10-14T07:56:01.826Z"
   },
   {
    "duration": 21,
    "start_time": "2022-10-14T07:56:02.359Z"
   },
   {
    "duration": 8,
    "start_time": "2022-10-14T07:56:06.857Z"
   },
   {
    "duration": 5,
    "start_time": "2022-10-14T07:56:07.416Z"
   },
   {
    "duration": 3,
    "start_time": "2022-10-14T07:58:44.462Z"
   },
   {
    "duration": 3,
    "start_time": "2022-10-14T07:59:30.562Z"
   },
   {
    "duration": 2,
    "start_time": "2022-10-14T07:59:30.880Z"
   },
   {
    "duration": 1309,
    "start_time": "2022-10-14T08:22:26.835Z"
   },
   {
    "duration": 344,
    "start_time": "2022-10-14T08:22:28.148Z"
   },
   {
    "duration": 256,
    "start_time": "2022-10-14T08:22:28.494Z"
   },
   {
    "duration": 85,
    "start_time": "2022-10-14T08:22:28.752Z"
   },
   {
    "duration": 3,
    "start_time": "2022-10-14T08:22:28.839Z"
   },
   {
    "duration": 10,
    "start_time": "2022-10-14T08:22:28.843Z"
   },
   {
    "duration": 5,
    "start_time": "2022-10-14T08:22:28.854Z"
   },
   {
    "duration": 9,
    "start_time": "2022-10-14T08:22:28.860Z"
   },
   {
    "duration": 4,
    "start_time": "2022-10-14T08:22:28.871Z"
   },
   {
    "duration": 280,
    "start_time": "2022-10-14T08:22:28.877Z"
   },
   {
    "duration": 3,
    "start_time": "2022-10-14T08:22:29.159Z"
   },
   {
    "duration": 16,
    "start_time": "2022-10-14T08:22:29.164Z"
   },
   {
    "duration": 37,
    "start_time": "2022-10-14T08:22:29.182Z"
   },
   {
    "duration": 109,
    "start_time": "2022-10-14T08:22:29.221Z"
   },
   {
    "duration": 127,
    "start_time": "2022-10-14T08:22:29.332Z"
   },
   {
    "duration": 5,
    "start_time": "2022-10-14T08:22:29.461Z"
   },
   {
    "duration": 6,
    "start_time": "2022-10-14T08:22:29.467Z"
   },
   {
    "duration": 6,
    "start_time": "2022-10-14T08:22:29.474Z"
   },
   {
    "duration": 284,
    "start_time": "2022-10-14T08:22:29.482Z"
   },
   {
    "duration": 5,
    "start_time": "2022-10-14T08:22:29.768Z"
   },
   {
    "duration": 7,
    "start_time": "2022-10-14T08:22:29.775Z"
   },
   {
    "duration": 18,
    "start_time": "2022-10-14T08:22:29.783Z"
   },
   {
    "duration": 6,
    "start_time": "2022-10-14T08:22:29.803Z"
   },
   {
    "duration": 2049,
    "start_time": "2022-10-14T08:22:29.811Z"
   },
   {
    "duration": 8,
    "start_time": "2022-10-14T08:22:31.862Z"
   },
   {
    "duration": 19,
    "start_time": "2022-10-14T08:22:31.871Z"
   },
   {
    "duration": 13,
    "start_time": "2022-10-14T08:22:31.892Z"
   },
   {
    "duration": 24,
    "start_time": "2022-10-14T08:22:31.909Z"
   },
   {
    "duration": 27,
    "start_time": "2022-10-14T08:22:31.935Z"
   },
   {
    "duration": 10,
    "start_time": "2022-10-14T08:22:31.963Z"
   },
   {
    "duration": 11,
    "start_time": "2022-10-14T08:22:31.974Z"
   },
   {
    "duration": 128,
    "start_time": "2022-10-14T08:30:14.133Z"
   },
   {
    "duration": 50,
    "start_time": "2022-10-14T08:30:35.642Z"
   },
   {
    "duration": 51,
    "start_time": "2022-10-14T08:30:56.995Z"
   },
   {
    "duration": 81,
    "start_time": "2022-10-14T08:31:15.035Z"
   },
   {
    "duration": 90,
    "start_time": "2022-10-14T08:32:40.881Z"
   },
   {
    "duration": 1377,
    "start_time": "2022-10-14T08:33:03.851Z"
   },
   {
    "duration": 369,
    "start_time": "2022-10-14T08:33:05.230Z"
   },
   {
    "duration": 261,
    "start_time": "2022-10-14T08:33:05.601Z"
   },
   {
    "duration": 81,
    "start_time": "2022-10-14T08:33:05.864Z"
   },
   {
    "duration": 3,
    "start_time": "2022-10-14T08:33:05.946Z"
   },
   {
    "duration": 13,
    "start_time": "2022-10-14T08:33:05.951Z"
   },
   {
    "duration": 9,
    "start_time": "2022-10-14T08:33:05.966Z"
   },
   {
    "duration": 14,
    "start_time": "2022-10-14T08:33:05.977Z"
   },
   {
    "duration": 34,
    "start_time": "2022-10-14T08:33:05.992Z"
   },
   {
    "duration": 275,
    "start_time": "2022-10-14T08:33:06.029Z"
   },
   {
    "duration": 8,
    "start_time": "2022-10-14T08:33:06.309Z"
   },
   {
    "duration": 67,
    "start_time": "2022-10-14T08:33:06.318Z"
   },
   {
    "duration": 51,
    "start_time": "2022-10-14T08:33:06.387Z"
   },
   {
    "duration": 89,
    "start_time": "2022-10-14T08:33:06.439Z"
   },
   {
    "duration": 126,
    "start_time": "2022-10-14T08:33:06.529Z"
   },
   {
    "duration": 4,
    "start_time": "2022-10-14T08:33:06.656Z"
   },
   {
    "duration": 10,
    "start_time": "2022-10-14T08:33:06.662Z"
   },
   {
    "duration": 6,
    "start_time": "2022-10-14T08:33:06.673Z"
   },
   {
    "duration": 276,
    "start_time": "2022-10-14T08:33:06.680Z"
   },
   {
    "duration": 4,
    "start_time": "2022-10-14T08:33:06.957Z"
   },
   {
    "duration": 20,
    "start_time": "2022-10-14T08:33:06.963Z"
   },
   {
    "duration": 9,
    "start_time": "2022-10-14T08:33:06.985Z"
   },
   {
    "duration": 8,
    "start_time": "2022-10-14T08:33:06.996Z"
   },
   {
    "duration": 1875,
    "start_time": "2022-10-14T08:33:07.005Z"
   },
   {
    "duration": 17,
    "start_time": "2022-10-14T08:33:08.882Z"
   },
   {
    "duration": 16,
    "start_time": "2022-10-14T08:33:08.908Z"
   },
   {
    "duration": 4,
    "start_time": "2022-10-14T08:33:08.926Z"
   },
   {
    "duration": 10,
    "start_time": "2022-10-14T08:33:08.932Z"
   },
   {
    "duration": 37,
    "start_time": "2022-10-14T08:33:08.944Z"
   },
   {
    "duration": 8,
    "start_time": "2022-10-14T08:33:08.983Z"
   },
   {
    "duration": 30,
    "start_time": "2022-10-14T08:33:08.993Z"
   },
   {
    "duration": 91,
    "start_time": "2022-10-14T08:33:09.025Z"
   },
   {
    "duration": 79,
    "start_time": "2022-10-14T08:33:23.126Z"
   },
   {
    "duration": 66,
    "start_time": "2022-10-14T08:34:11.214Z"
   },
   {
    "duration": 149,
    "start_time": "2022-10-14T08:35:46.013Z"
   },
   {
    "duration": 55,
    "start_time": "2022-10-14T08:37:42.385Z"
   },
   {
    "duration": 54,
    "start_time": "2022-10-14T08:37:55.563Z"
   },
   {
    "duration": 47,
    "start_time": "2022-10-14T08:38:10.891Z"
   },
   {
    "duration": 67,
    "start_time": "2022-10-14T08:38:52.793Z"
   },
   {
    "duration": 15,
    "start_time": "2022-10-14T08:40:20.715Z"
   },
   {
    "duration": 8,
    "start_time": "2022-10-14T08:41:15.585Z"
   },
   {
    "duration": 12,
    "start_time": "2022-10-14T08:41:17.015Z"
   },
   {
    "duration": 4,
    "start_time": "2022-10-14T08:41:46.587Z"
   },
   {
    "duration": 1372,
    "start_time": "2022-10-14T08:41:50.911Z"
   },
   {
    "duration": 355,
    "start_time": "2022-10-14T08:41:52.286Z"
   },
   {
    "duration": 243,
    "start_time": "2022-10-14T08:41:52.642Z"
   },
   {
    "duration": 86,
    "start_time": "2022-10-14T08:41:52.887Z"
   },
   {
    "duration": 3,
    "start_time": "2022-10-14T08:41:52.975Z"
   },
   {
    "duration": 13,
    "start_time": "2022-10-14T08:41:52.979Z"
   },
   {
    "duration": 17,
    "start_time": "2022-10-14T08:41:52.993Z"
   },
   {
    "duration": 11,
    "start_time": "2022-10-14T08:41:53.012Z"
   },
   {
    "duration": 9,
    "start_time": "2022-10-14T08:41:53.024Z"
   },
   {
    "duration": 301,
    "start_time": "2022-10-14T08:41:53.035Z"
   },
   {
    "duration": 3,
    "start_time": "2022-10-14T08:41:53.338Z"
   },
   {
    "duration": 16,
    "start_time": "2022-10-14T08:41:53.342Z"
   },
   {
    "duration": 30,
    "start_time": "2022-10-14T08:41:53.360Z"
   },
   {
    "duration": 106,
    "start_time": "2022-10-14T08:41:53.392Z"
   },
   {
    "duration": 128,
    "start_time": "2022-10-14T08:41:53.500Z"
   },
   {
    "duration": 5,
    "start_time": "2022-10-14T08:41:53.630Z"
   },
   {
    "duration": 7,
    "start_time": "2022-10-14T08:41:53.637Z"
   },
   {
    "duration": 7,
    "start_time": "2022-10-14T08:41:53.646Z"
   },
   {
    "duration": 299,
    "start_time": "2022-10-14T08:41:53.655Z"
   },
   {
    "duration": 6,
    "start_time": "2022-10-14T08:41:53.956Z"
   },
   {
    "duration": 22,
    "start_time": "2022-10-14T08:41:53.963Z"
   },
   {
    "duration": 7,
    "start_time": "2022-10-14T08:41:53.987Z"
   },
   {
    "duration": 25,
    "start_time": "2022-10-14T08:41:53.996Z"
   },
   {
    "duration": 1912,
    "start_time": "2022-10-14T08:41:54.023Z"
   },
   {
    "duration": 7,
    "start_time": "2022-10-14T08:41:55.936Z"
   },
   {
    "duration": 19,
    "start_time": "2022-10-14T08:41:55.945Z"
   },
   {
    "duration": 4,
    "start_time": "2022-10-14T08:41:55.966Z"
   },
   {
    "duration": 9,
    "start_time": "2022-10-14T08:41:55.972Z"
   },
   {
    "duration": 35,
    "start_time": "2022-10-14T08:41:55.983Z"
   },
   {
    "duration": 9,
    "start_time": "2022-10-14T08:41:56.020Z"
   },
   {
    "duration": 8,
    "start_time": "2022-10-14T08:41:56.031Z"
   },
   {
    "duration": 7,
    "start_time": "2022-10-14T08:41:56.041Z"
   },
   {
    "duration": 85,
    "start_time": "2022-10-14T08:41:56.049Z"
   },
   {
    "duration": 61,
    "start_time": "2022-10-14T08:43:08.860Z"
   },
   {
    "duration": 110,
    "start_time": "2022-10-14T08:43:53.085Z"
   },
   {
    "duration": 10,
    "start_time": "2022-10-14T08:45:15.787Z"
   },
   {
    "duration": 17,
    "start_time": "2022-10-14T08:45:51.300Z"
   },
   {
    "duration": 10,
    "start_time": "2022-10-14T08:46:05.216Z"
   },
   {
    "duration": 53,
    "start_time": "2022-10-14T08:46:16.035Z"
   },
   {
    "duration": 3,
    "start_time": "2022-10-14T08:47:09.584Z"
   },
   {
    "duration": 73,
    "start_time": "2022-10-14T08:47:10.113Z"
   },
   {
    "duration": 58,
    "start_time": "2022-10-14T08:47:10.604Z"
   },
   {
    "duration": 11,
    "start_time": "2022-10-14T08:47:11.338Z"
   },
   {
    "duration": 2,
    "start_time": "2022-10-14T08:53:56.860Z"
   },
   {
    "duration": 72,
    "start_time": "2022-10-14T08:53:57.556Z"
   },
   {
    "duration": 1406,
    "start_time": "2022-10-14T08:54:41.579Z"
   },
   {
    "duration": 388,
    "start_time": "2022-10-14T08:54:42.986Z"
   },
   {
    "duration": 290,
    "start_time": "2022-10-14T08:54:43.375Z"
   },
   {
    "duration": 111,
    "start_time": "2022-10-14T08:54:43.668Z"
   },
   {
    "duration": 4,
    "start_time": "2022-10-14T08:54:43.780Z"
   },
   {
    "duration": 40,
    "start_time": "2022-10-14T08:54:43.785Z"
   },
   {
    "duration": 11,
    "start_time": "2022-10-14T08:54:43.826Z"
   },
   {
    "duration": 15,
    "start_time": "2022-10-14T08:54:43.838Z"
   },
   {
    "duration": 9,
    "start_time": "2022-10-14T08:54:43.854Z"
   },
   {
    "duration": 292,
    "start_time": "2022-10-14T08:54:43.866Z"
   },
   {
    "duration": 3,
    "start_time": "2022-10-14T08:54:44.160Z"
   },
   {
    "duration": 34,
    "start_time": "2022-10-14T08:54:44.165Z"
   },
   {
    "duration": 52,
    "start_time": "2022-10-14T08:54:44.201Z"
   },
   {
    "duration": 101,
    "start_time": "2022-10-14T08:54:44.254Z"
   },
   {
    "duration": 151,
    "start_time": "2022-10-14T08:54:44.356Z"
   },
   {
    "duration": 9,
    "start_time": "2022-10-14T08:54:44.509Z"
   },
   {
    "duration": 20,
    "start_time": "2022-10-14T08:54:44.522Z"
   },
   {
    "duration": 8,
    "start_time": "2022-10-14T08:54:44.544Z"
   },
   {
    "duration": 342,
    "start_time": "2022-10-14T08:54:44.554Z"
   },
   {
    "duration": 16,
    "start_time": "2022-10-14T08:54:44.899Z"
   },
   {
    "duration": 9,
    "start_time": "2022-10-14T08:54:44.919Z"
   },
   {
    "duration": 15,
    "start_time": "2022-10-14T08:54:44.930Z"
   },
   {
    "duration": 6,
    "start_time": "2022-10-14T08:54:44.947Z"
   },
   {
    "duration": 2023,
    "start_time": "2022-10-14T08:54:44.954Z"
   },
   {
    "duration": 8,
    "start_time": "2022-10-14T08:54:46.978Z"
   },
   {
    "duration": 53,
    "start_time": "2022-10-14T08:54:46.987Z"
   },
   {
    "duration": 10,
    "start_time": "2022-10-14T08:54:47.042Z"
   },
   {
    "duration": 10,
    "start_time": "2022-10-14T08:54:47.055Z"
   },
   {
    "duration": 25,
    "start_time": "2022-10-14T08:54:47.066Z"
   },
   {
    "duration": 13,
    "start_time": "2022-10-14T08:54:47.092Z"
   },
   {
    "duration": 43,
    "start_time": "2022-10-14T08:54:47.107Z"
   },
   {
    "duration": 7,
    "start_time": "2022-10-14T08:54:47.152Z"
   },
   {
    "duration": 78,
    "start_time": "2022-10-14T08:54:47.161Z"
   },
   {
    "duration": 53,
    "start_time": "2022-10-14T08:54:47.240Z"
   },
   {
    "duration": 107,
    "start_time": "2022-10-14T08:54:47.303Z"
   },
   {
    "duration": 1495,
    "start_time": "2022-10-17T09:37:22.186Z"
   },
   {
    "duration": 545,
    "start_time": "2022-10-17T09:37:23.683Z"
   },
   {
    "duration": 785,
    "start_time": "2022-10-17T09:37:24.230Z"
   },
   {
    "duration": 126,
    "start_time": "2022-10-17T09:37:25.018Z"
   },
   {
    "duration": 3,
    "start_time": "2022-10-17T09:37:25.146Z"
   },
   {
    "duration": 14,
    "start_time": "2022-10-17T09:37:25.150Z"
   },
   {
    "duration": 7,
    "start_time": "2022-10-17T09:37:25.165Z"
   },
   {
    "duration": 7,
    "start_time": "2022-10-17T09:37:25.174Z"
   },
   {
    "duration": 10,
    "start_time": "2022-10-17T09:37:25.182Z"
   },
   {
    "duration": 261,
    "start_time": "2022-10-17T09:37:25.194Z"
   },
   {
    "duration": 2,
    "start_time": "2022-10-17T09:37:25.457Z"
   },
   {
    "duration": 19,
    "start_time": "2022-10-17T09:37:25.461Z"
   },
   {
    "duration": 40,
    "start_time": "2022-10-17T09:37:25.481Z"
   },
   {
    "duration": 127,
    "start_time": "2022-10-17T09:37:25.523Z"
   },
   {
    "duration": 119,
    "start_time": "2022-10-17T09:37:25.652Z"
   },
   {
    "duration": 4,
    "start_time": "2022-10-17T09:37:25.773Z"
   },
   {
    "duration": 10,
    "start_time": "2022-10-17T09:37:25.779Z"
   },
   {
    "duration": 14,
    "start_time": "2022-10-17T09:37:25.790Z"
   },
   {
    "duration": 257,
    "start_time": "2022-10-17T09:37:25.806Z"
   },
   {
    "duration": 4,
    "start_time": "2022-10-17T09:37:26.065Z"
   },
   {
    "duration": 12,
    "start_time": "2022-10-17T09:37:26.071Z"
   },
   {
    "duration": 14,
    "start_time": "2022-10-17T09:37:26.085Z"
   },
   {
    "duration": 11,
    "start_time": "2022-10-17T09:37:26.100Z"
   },
   {
    "duration": 1888,
    "start_time": "2022-10-17T09:37:26.112Z"
   },
   {
    "duration": 7,
    "start_time": "2022-10-17T09:37:28.002Z"
   },
   {
    "duration": 14,
    "start_time": "2022-10-17T09:37:28.011Z"
   },
   {
    "duration": 3,
    "start_time": "2022-10-17T09:37:28.027Z"
   },
   {
    "duration": 9,
    "start_time": "2022-10-17T09:37:28.032Z"
   },
   {
    "duration": 20,
    "start_time": "2022-10-17T09:37:28.043Z"
   },
   {
    "duration": 8,
    "start_time": "2022-10-17T09:37:28.064Z"
   },
   {
    "duration": 9,
    "start_time": "2022-10-17T09:37:28.073Z"
   },
   {
    "duration": 17,
    "start_time": "2022-10-17T09:37:28.083Z"
   },
   {
    "duration": 60,
    "start_time": "2022-10-17T09:37:28.102Z"
   },
   {
    "duration": 69,
    "start_time": "2022-10-17T09:37:28.164Z"
   },
   {
    "duration": 107,
    "start_time": "2022-10-17T09:37:28.235Z"
   },
   {
    "duration": 3,
    "start_time": "2022-10-17T09:44:09.568Z"
   },
   {
    "duration": 4,
    "start_time": "2022-10-17T09:44:10.650Z"
   },
   {
    "duration": 6,
    "start_time": "2022-10-17T09:44:11.505Z"
   },
   {
    "duration": 10,
    "start_time": "2022-10-17T09:45:43.705Z"
   },
   {
    "duration": 44,
    "start_time": "2022-10-17T09:45:51.208Z"
   },
   {
    "duration": 3,
    "start_time": "2022-10-17T09:51:33.970Z"
   },
   {
    "duration": 20,
    "start_time": "2022-10-17T10:03:03.818Z"
   },
   {
    "duration": 35,
    "start_time": "2022-10-17T10:04:33.491Z"
   },
   {
    "duration": 33,
    "start_time": "2022-10-17T10:05:02.475Z"
   },
   {
    "duration": 26,
    "start_time": "2022-10-17T10:06:32.501Z"
   },
   {
    "duration": 24,
    "start_time": "2022-10-17T10:06:32.675Z"
   },
   {
    "duration": 86,
    "start_time": "2022-10-17T10:06:32.891Z"
   },
   {
    "duration": 115,
    "start_time": "2022-10-17T10:06:33.180Z"
   },
   {
    "duration": 4,
    "start_time": "2022-10-17T10:06:36.189Z"
   },
   {
    "duration": 5,
    "start_time": "2022-10-17T10:06:37.342Z"
   },
   {
    "duration": 5,
    "start_time": "2022-10-17T10:06:38.199Z"
   },
   {
    "duration": 233,
    "start_time": "2022-10-17T10:06:39.835Z"
   },
   {
    "duration": 3,
    "start_time": "2022-10-17T10:06:40.964Z"
   },
   {
    "duration": 4,
    "start_time": "2022-10-17T10:06:41.179Z"
   },
   {
    "duration": 4,
    "start_time": "2022-10-17T10:06:41.412Z"
   },
   {
    "duration": 4,
    "start_time": "2022-10-17T10:06:41.885Z"
   },
   {
    "duration": 1710,
    "start_time": "2022-10-17T10:06:42.436Z"
   },
   {
    "duration": 7,
    "start_time": "2022-10-17T10:06:47.144Z"
   },
   {
    "duration": 8,
    "start_time": "2022-10-17T10:06:47.560Z"
   },
   {
    "duration": 4,
    "start_time": "2022-10-17T10:06:48.610Z"
   },
   {
    "duration": 3,
    "start_time": "2022-10-17T10:06:49.106Z"
   },
   {
    "duration": 20,
    "start_time": "2022-10-17T10:06:49.779Z"
   },
   {
    "duration": 8,
    "start_time": "2022-10-17T10:06:58.047Z"
   },
   {
    "duration": 5,
    "start_time": "2022-10-17T10:06:58.824Z"
   },
   {
    "duration": 2,
    "start_time": "2022-10-17T10:06:59.945Z"
   },
   {
    "duration": 64,
    "start_time": "2022-10-17T10:07:00.506Z"
   },
   {
    "duration": 55,
    "start_time": "2022-10-17T10:07:01.206Z"
   },
   {
    "duration": 11,
    "start_time": "2022-10-17T10:07:01.808Z"
   },
   {
    "duration": 32,
    "start_time": "2022-10-17T10:08:10.727Z"
   },
   {
    "duration": 23,
    "start_time": "2022-10-17T10:08:10.952Z"
   },
   {
    "duration": 112,
    "start_time": "2022-10-17T10:08:11.423Z"
   },
   {
    "duration": 22,
    "start_time": "2022-10-17T10:08:20.950Z"
   },
   {
    "duration": 23,
    "start_time": "2022-10-17T10:08:21.262Z"
   },
   {
    "duration": 88,
    "start_time": "2022-10-17T10:08:21.463Z"
   },
   {
    "duration": 114,
    "start_time": "2022-10-17T10:08:21.735Z"
   },
   {
    "duration": 6,
    "start_time": "2022-10-17T10:09:02.663Z"
   },
   {
    "duration": 7,
    "start_time": "2022-10-17T10:09:16.650Z"
   },
   {
    "duration": 5,
    "start_time": "2022-10-17T10:10:33.648Z"
   },
   {
    "duration": 5,
    "start_time": "2022-10-17T10:10:35.459Z"
   },
   {
    "duration": 5,
    "start_time": "2022-10-17T10:10:35.786Z"
   },
   {
    "duration": 6,
    "start_time": "2022-10-17T10:10:36.218Z"
   },
   {
    "duration": 240,
    "start_time": "2022-10-17T10:10:36.907Z"
   },
   {
    "duration": 4,
    "start_time": "2022-10-17T10:10:37.588Z"
   },
   {
    "duration": 4,
    "start_time": "2022-10-17T10:10:37.763Z"
   },
   {
    "duration": 4,
    "start_time": "2022-10-17T10:10:38.093Z"
   },
   {
    "duration": 4,
    "start_time": "2022-10-17T10:10:38.276Z"
   },
   {
    "duration": 1762,
    "start_time": "2022-10-17T10:10:38.518Z"
   },
   {
    "duration": 7,
    "start_time": "2022-10-17T10:10:40.282Z"
   },
   {
    "duration": 14,
    "start_time": "2022-10-17T10:10:40.290Z"
   },
   {
    "duration": 3,
    "start_time": "2022-10-17T10:10:40.929Z"
   },
   {
    "duration": 3,
    "start_time": "2022-10-17T10:10:41.178Z"
   },
   {
    "duration": 6,
    "start_time": "2022-10-17T10:10:41.946Z"
   },
   {
    "duration": 5,
    "start_time": "2022-10-17T10:10:44.388Z"
   },
   {
    "duration": 3,
    "start_time": "2022-10-17T10:10:45.789Z"
   },
   {
    "duration": 62,
    "start_time": "2022-10-17T10:10:46.261Z"
   },
   {
    "duration": 6,
    "start_time": "2022-10-17T10:14:11.470Z"
   },
   {
    "duration": 6,
    "start_time": "2022-10-17T10:14:19.656Z"
   },
   {
    "duration": 6,
    "start_time": "2022-10-17T10:14:23.635Z"
   },
   {
    "duration": 5,
    "start_time": "2022-10-17T10:14:24.808Z"
   },
   {
    "duration": 5,
    "start_time": "2022-10-17T10:14:26.056Z"
   },
   {
    "duration": 231,
    "start_time": "2022-10-17T10:14:37.191Z"
   },
   {
    "duration": 4,
    "start_time": "2022-10-17T10:15:31.545Z"
   },
   {
    "duration": 5,
    "start_time": "2022-10-17T10:15:31.865Z"
   },
   {
    "duration": 4,
    "start_time": "2022-10-17T10:15:32.274Z"
   },
   {
    "duration": 4,
    "start_time": "2022-10-17T10:15:33.260Z"
   },
   {
    "duration": 1801,
    "start_time": "2022-10-17T10:15:34.021Z"
   },
   {
    "duration": 8,
    "start_time": "2022-10-17T10:15:38.767Z"
   },
   {
    "duration": 8,
    "start_time": "2022-10-17T10:15:40.523Z"
   },
   {
    "duration": 3,
    "start_time": "2022-10-17T10:15:42.664Z"
   },
   {
    "duration": 3,
    "start_time": "2022-10-17T10:15:45.908Z"
   },
   {
    "duration": 3,
    "start_time": "2022-10-17T10:16:18.168Z"
   },
   {
    "duration": 56,
    "start_time": "2022-10-17T10:16:23.683Z"
   },
   {
    "duration": 49,
    "start_time": "2022-10-17T10:16:24.292Z"
   },
   {
    "duration": 10,
    "start_time": "2022-10-17T10:17:13.986Z"
   },
   {
    "duration": 11,
    "start_time": "2022-10-17T10:17:46.004Z"
   },
   {
    "duration": 47,
    "start_time": "2022-10-17T10:17:52.021Z"
   },
   {
    "duration": 47,
    "start_time": "2022-10-17T10:18:22.759Z"
   },
   {
    "duration": 3,
    "start_time": "2022-10-17T10:19:14.861Z"
   },
   {
    "duration": 48,
    "start_time": "2022-10-17T10:19:15.087Z"
   },
   {
    "duration": 746,
    "start_time": "2022-10-17T10:20:58.392Z"
   },
   {
    "duration": 695,
    "start_time": "2022-10-17T10:21:06.638Z"
   },
   {
    "duration": 44,
    "start_time": "2022-10-17T10:22:12.918Z"
   },
   {
    "duration": 676,
    "start_time": "2022-10-17T10:22:48.465Z"
   },
   {
    "duration": 7,
    "start_time": "2022-10-17T10:23:30.910Z"
   },
   {
    "duration": 6,
    "start_time": "2022-10-17T10:23:31.383Z"
   },
   {
    "duration": 6,
    "start_time": "2022-10-17T10:23:31.840Z"
   },
   {
    "duration": 7,
    "start_time": "2022-10-17T10:23:32.129Z"
   },
   {
    "duration": 1789,
    "start_time": "2022-10-17T10:23:32.386Z"
   },
   {
    "duration": 7,
    "start_time": "2022-10-17T10:23:36.827Z"
   },
   {
    "duration": 48,
    "start_time": "2022-10-17T10:23:37.905Z"
   },
   {
    "duration": 8,
    "start_time": "2022-10-17T10:23:38.497Z"
   },
   {
    "duration": 4,
    "start_time": "2022-10-17T10:23:40.259Z"
   },
   {
    "duration": 2,
    "start_time": "2022-10-17T10:23:40.692Z"
   },
   {
    "duration": 3,
    "start_time": "2022-10-17T10:23:42.030Z"
   },
   {
    "duration": 42,
    "start_time": "2022-10-17T10:23:42.575Z"
   },
   {
    "duration": 2565,
    "start_time": "2022-10-17T10:23:43.444Z"
   },
   {
    "duration": 238,
    "start_time": "2022-10-17T10:23:46.010Z"
   },
   {
    "duration": 76,
    "start_time": "2022-10-17T10:23:46.250Z"
   },
   {
    "duration": 23804,
    "start_time": "2022-10-17T10:23:46.328Z"
   },
   {
    "duration": 8,
    "start_time": "2022-10-17T10:24:46.640Z"
   },
   {
    "duration": 8,
    "start_time": "2022-10-17T10:24:49.158Z"
   },
   {
    "duration": 3,
    "start_time": "2022-10-17T10:24:50.488Z"
   },
   {
    "duration": 3,
    "start_time": "2022-10-17T10:24:50.704Z"
   },
   {
    "duration": 2,
    "start_time": "2022-10-17T10:24:51.338Z"
   },
   {
    "duration": 41,
    "start_time": "2022-10-17T10:24:51.860Z"
   },
   {
    "duration": 2453,
    "start_time": "2022-10-17T10:28:06.451Z"
   },
   {
    "duration": 212,
    "start_time": "2022-10-17T10:28:08.906Z"
   },
   {
    "duration": 54,
    "start_time": "2022-10-17T10:28:09.120Z"
   },
   {
    "duration": 7934,
    "start_time": "2022-10-17T10:28:51.486Z"
   },
   {
    "duration": 23682,
    "start_time": "2022-10-17T10:29:29.091Z"
   },
   {
    "duration": 4084,
    "start_time": "2022-10-17T10:31:10.577Z"
   },
   {
    "duration": 11,
    "start_time": "2022-10-17T10:31:31.438Z"
   },
   {
    "duration": 4,
    "start_time": "2022-10-17T10:36:40.076Z"
   },
   {
    "duration": 4,
    "start_time": "2022-10-17T10:36:54.457Z"
   },
   {
    "duration": 1347,
    "start_time": "2022-10-17T10:38:33.367Z"
   },
   {
    "duration": 320,
    "start_time": "2022-10-17T10:38:34.716Z"
   },
   {
    "duration": 254,
    "start_time": "2022-10-17T10:38:35.037Z"
   },
   {
    "duration": 82,
    "start_time": "2022-10-17T10:38:35.292Z"
   },
   {
    "duration": 3,
    "start_time": "2022-10-17T10:38:35.376Z"
   },
   {
    "duration": 7,
    "start_time": "2022-10-17T10:38:35.381Z"
   },
   {
    "duration": 14,
    "start_time": "2022-10-17T10:38:35.390Z"
   },
   {
    "duration": 8,
    "start_time": "2022-10-17T10:38:35.405Z"
   },
   {
    "duration": 14,
    "start_time": "2022-10-17T10:38:35.414Z"
   },
   {
    "duration": 34,
    "start_time": "2022-10-17T10:38:35.431Z"
   },
   {
    "duration": 53,
    "start_time": "2022-10-17T10:38:35.467Z"
   },
   {
    "duration": 33,
    "start_time": "2022-10-17T10:38:35.522Z"
   },
   {
    "duration": 12,
    "start_time": "2022-10-17T10:38:35.557Z"
   },
   {
    "duration": 40,
    "start_time": "2022-10-17T10:38:35.570Z"
   },
   {
    "duration": 89,
    "start_time": "2022-10-17T10:38:35.612Z"
   },
   {
    "duration": 119,
    "start_time": "2022-10-17T10:38:35.703Z"
   },
   {
    "duration": 5,
    "start_time": "2022-10-17T10:38:35.823Z"
   },
   {
    "duration": 6,
    "start_time": "2022-10-17T10:38:35.830Z"
   },
   {
    "duration": 11,
    "start_time": "2022-10-17T10:38:35.837Z"
   },
   {
    "duration": 8,
    "start_time": "2022-10-17T10:38:35.849Z"
   },
   {
    "duration": 259,
    "start_time": "2022-10-17T10:38:35.858Z"
   },
   {
    "duration": 7,
    "start_time": "2022-10-17T10:38:36.119Z"
   },
   {
    "duration": 6,
    "start_time": "2022-10-17T10:38:36.127Z"
   },
   {
    "duration": 6,
    "start_time": "2022-10-17T10:38:36.134Z"
   },
   {
    "duration": 5,
    "start_time": "2022-10-17T10:38:36.142Z"
   },
   {
    "duration": 1910,
    "start_time": "2022-10-17T10:38:36.149Z"
   },
   {
    "duration": 7,
    "start_time": "2022-10-17T10:38:38.061Z"
   },
   {
    "duration": 7,
    "start_time": "2022-10-17T10:38:38.070Z"
   },
   {
    "duration": 4,
    "start_time": "2022-10-17T10:38:38.078Z"
   },
   {
    "duration": 4,
    "start_time": "2022-10-17T10:38:38.083Z"
   },
   {
    "duration": 7,
    "start_time": "2022-10-17T10:38:38.088Z"
   },
   {
    "duration": 136,
    "start_time": "2022-10-17T10:38:38.096Z"
   },
   {
    "duration": 0,
    "start_time": "2022-10-17T10:38:38.233Z"
   },
   {
    "duration": 0,
    "start_time": "2022-10-17T10:38:38.235Z"
   },
   {
    "duration": 0,
    "start_time": "2022-10-17T10:38:38.235Z"
   },
   {
    "duration": 0,
    "start_time": "2022-10-17T10:38:38.236Z"
   },
   {
    "duration": 0,
    "start_time": "2022-10-17T10:38:38.237Z"
   },
   {
    "duration": 3,
    "start_time": "2022-10-17T10:41:23.788Z"
   },
   {
    "duration": 5,
    "start_time": "2022-10-17T10:41:27.887Z"
   },
   {
    "duration": 31,
    "start_time": "2022-10-17T10:43:28.684Z"
   },
   {
    "duration": 23,
    "start_time": "2022-10-17T10:43:29.028Z"
   },
   {
    "duration": 18,
    "start_time": "2022-10-17T10:43:29.356Z"
   },
   {
    "duration": 21,
    "start_time": "2022-10-17T10:43:29.837Z"
   },
   {
    "duration": 22,
    "start_time": "2022-10-17T10:43:30.478Z"
   },
   {
    "duration": 86,
    "start_time": "2022-10-17T10:43:30.911Z"
   },
   {
    "duration": 115,
    "start_time": "2022-10-17T10:43:31.206Z"
   },
   {
    "duration": 6,
    "start_time": "2022-10-17T10:43:31.486Z"
   },
   {
    "duration": 6,
    "start_time": "2022-10-17T10:43:33.578Z"
   },
   {
    "duration": 7,
    "start_time": "2022-10-17T10:43:34.423Z"
   },
   {
    "duration": 5,
    "start_time": "2022-10-17T10:43:35.998Z"
   },
   {
    "duration": 232,
    "start_time": "2022-10-17T10:43:37.079Z"
   },
   {
    "duration": 7,
    "start_time": "2022-10-17T10:43:37.784Z"
   },
   {
    "duration": 5,
    "start_time": "2022-10-17T10:43:38.018Z"
   },
   {
    "duration": 5,
    "start_time": "2022-10-17T10:43:38.259Z"
   },
   {
    "duration": 6,
    "start_time": "2022-10-17T10:43:38.449Z"
   },
   {
    "duration": 1746,
    "start_time": "2022-10-17T10:43:38.682Z"
   },
   {
    "duration": 7,
    "start_time": "2022-10-17T10:43:40.430Z"
   },
   {
    "duration": 7,
    "start_time": "2022-10-17T10:43:41.125Z"
   },
   {
    "duration": 3,
    "start_time": "2022-10-17T10:43:43.826Z"
   },
   {
    "duration": 3,
    "start_time": "2022-10-17T10:43:44.234Z"
   },
   {
    "duration": 2,
    "start_time": "2022-10-17T10:43:45.236Z"
   },
   {
    "duration": 41,
    "start_time": "2022-10-17T10:43:45.637Z"
   },
   {
    "duration": 2879,
    "start_time": "2022-10-17T10:43:46.421Z"
   },
   {
    "duration": 7761,
    "start_time": "2022-10-17T10:43:49.305Z"
   },
   {
    "duration": 23791,
    "start_time": "2022-10-17T10:43:57.068Z"
   },
   {
    "duration": 4255,
    "start_time": "2022-10-17T10:44:20.861Z"
   },
   {
    "duration": 0,
    "start_time": "2022-10-17T10:44:25.118Z"
   },
   {
    "duration": 2,
    "start_time": "2022-10-17T10:44:33.755Z"
   },
   {
    "duration": 25,
    "start_time": "2022-10-17T10:44:34.164Z"
   },
   {
    "duration": 99,
    "start_time": "2022-10-17T10:44:34.477Z"
   },
   {
    "duration": 111,
    "start_time": "2022-10-17T10:44:34.724Z"
   },
   {
    "duration": 6,
    "start_time": "2022-10-17T10:44:35.069Z"
   },
   {
    "duration": 986,
    "start_time": "2022-10-17T10:45:08.722Z"
   },
   {
    "duration": 22,
    "start_time": "2022-10-17T10:45:45.236Z"
   },
   {
    "duration": 19,
    "start_time": "2022-10-17T10:45:45.701Z"
   },
   {
    "duration": 2,
    "start_time": "2022-10-17T10:45:46.030Z"
   },
   {
    "duration": 20,
    "start_time": "2022-10-17T10:45:46.298Z"
   },
   {
    "duration": 79,
    "start_time": "2022-10-17T10:45:46.490Z"
   },
   {
    "duration": 103,
    "start_time": "2022-10-17T10:45:46.692Z"
   },
   {
    "duration": 6,
    "start_time": "2022-10-17T10:45:46.875Z"
   },
   {
    "duration": 773,
    "start_time": "2022-10-17T10:45:48.061Z"
   },
   {
    "duration": 4,
    "start_time": "2022-10-17T10:46:30.720Z"
   },
   {
    "duration": 4,
    "start_time": "2022-10-17T10:46:33.163Z"
   },
   {
    "duration": 6,
    "start_time": "2022-10-17T10:46:34.418Z"
   },
   {
    "duration": 232,
    "start_time": "2022-10-17T10:48:11.946Z"
   },
   {
    "duration": 7,
    "start_time": "2022-10-17T10:48:12.728Z"
   },
   {
    "duration": 6,
    "start_time": "2022-10-17T10:48:12.961Z"
   },
   {
    "duration": 7,
    "start_time": "2022-10-17T10:48:13.160Z"
   },
   {
    "duration": 7,
    "start_time": "2022-10-17T10:48:13.353Z"
   },
   {
    "duration": 1813,
    "start_time": "2022-10-17T10:48:13.537Z"
   },
   {
    "duration": 7,
    "start_time": "2022-10-17T10:48:15.352Z"
   },
   {
    "duration": 7,
    "start_time": "2022-10-17T10:48:32.837Z"
   },
   {
    "duration": 9,
    "start_time": "2022-10-17T10:49:08.432Z"
   },
   {
    "duration": 7,
    "start_time": "2022-10-17T10:49:32.456Z"
   },
   {
    "duration": 8,
    "start_time": "2022-10-17T10:49:39.111Z"
   },
   {
    "duration": 9,
    "start_time": "2022-10-17T10:49:43.540Z"
   },
   {
    "duration": 12,
    "start_time": "2022-10-17T10:49:52.234Z"
   },
   {
    "duration": 5,
    "start_time": "2022-10-17T10:49:53.971Z"
   },
   {
    "duration": 9,
    "start_time": "2022-10-17T10:51:44.101Z"
   },
   {
    "duration": 11,
    "start_time": "2022-10-17T10:52:21.695Z"
   },
   {
    "duration": 11,
    "start_time": "2022-10-17T10:52:42.521Z"
   },
   {
    "duration": 4,
    "start_time": "2022-10-17T10:52:43.443Z"
   },
   {
    "duration": 3,
    "start_time": "2022-10-17T10:52:43.836Z"
   },
   {
    "duration": 24,
    "start_time": "2022-10-17T10:53:23.970Z"
   },
   {
    "duration": 1695,
    "start_time": "2022-10-17T10:53:31.811Z"
   },
   {
    "duration": 4129,
    "start_time": "2022-10-17T10:53:38.770Z"
   },
   {
    "duration": 9211,
    "start_time": "2022-10-17T10:53:44.199Z"
   },
   {
    "duration": 3156,
    "start_time": "2022-10-17T10:54:03.629Z"
   },
   {
    "duration": 8,
    "start_time": "2022-10-17T10:54:15.250Z"
   },
   {
    "duration": 16,
    "start_time": "2022-10-17T11:13:41.978Z"
   },
   {
    "duration": 9,
    "start_time": "2022-10-17T11:21:14.229Z"
   },
   {
    "duration": 10,
    "start_time": "2022-10-17T11:22:02.975Z"
   },
   {
    "duration": 15,
    "start_time": "2022-10-17T11:22:08.066Z"
   },
   {
    "duration": 107,
    "start_time": "2022-10-17T11:22:08.472Z"
   },
   {
    "duration": 15,
    "start_time": "2022-10-17T11:22:08.674Z"
   },
   {
    "duration": 243,
    "start_time": "2022-10-17T11:22:08.857Z"
   },
   {
    "duration": 15,
    "start_time": "2022-10-17T11:23:36.755Z"
   },
   {
    "duration": 45,
    "start_time": "2022-10-17T11:23:38.926Z"
   },
   {
    "duration": 47,
    "start_time": "2022-10-17T11:25:08.924Z"
   },
   {
    "duration": 974,
    "start_time": "2022-10-17T11:25:15.401Z"
   },
   {
    "duration": 52,
    "start_time": "2022-10-17T11:25:47.328Z"
   },
   {
    "duration": 1178,
    "start_time": "2022-10-17T11:25:53.792Z"
   },
   {
    "duration": 16,
    "start_time": "2022-10-17T11:27:20.829Z"
   },
   {
    "duration": 1123,
    "start_time": "2022-10-17T11:27:21.176Z"
   },
   {
    "duration": 0,
    "start_time": "2022-10-17T11:27:22.301Z"
   },
   {
    "duration": 1660,
    "start_time": "2022-10-23T19:31:22.552Z"
   },
   {
    "duration": 568,
    "start_time": "2022-10-23T19:31:24.214Z"
   },
   {
    "duration": 833,
    "start_time": "2022-10-23T19:31:24.783Z"
   },
   {
    "duration": 148,
    "start_time": "2022-10-23T19:31:25.619Z"
   },
   {
    "duration": 4,
    "start_time": "2022-10-23T19:31:25.770Z"
   },
   {
    "duration": 33,
    "start_time": "2022-10-23T19:31:25.775Z"
   },
   {
    "duration": 10,
    "start_time": "2022-10-23T19:31:25.809Z"
   },
   {
    "duration": 22,
    "start_time": "2022-10-23T19:31:25.821Z"
   },
   {
    "duration": 9,
    "start_time": "2022-10-23T19:31:25.845Z"
   },
   {
    "duration": 49,
    "start_time": "2022-10-23T19:31:25.856Z"
   },
   {
    "duration": 47,
    "start_time": "2022-10-23T19:31:25.907Z"
   },
   {
    "duration": 30,
    "start_time": "2022-10-23T19:31:25.956Z"
   },
   {
    "duration": 25,
    "start_time": "2022-10-23T19:31:25.988Z"
   },
   {
    "duration": 121,
    "start_time": "2022-10-23T19:31:26.016Z"
   },
   {
    "duration": 139,
    "start_time": "2022-10-23T19:31:26.139Z"
   },
   {
    "duration": 8,
    "start_time": "2022-10-23T19:31:26.280Z"
   },
   {
    "duration": 7,
    "start_time": "2022-10-23T19:31:26.290Z"
   },
   {
    "duration": 8,
    "start_time": "2022-10-23T19:31:26.299Z"
   },
   {
    "duration": 9,
    "start_time": "2022-10-23T19:31:26.309Z"
   },
   {
    "duration": 321,
    "start_time": "2022-10-23T19:31:26.319Z"
   },
   {
    "duration": 16,
    "start_time": "2022-10-23T19:31:26.642Z"
   },
   {
    "duration": 14,
    "start_time": "2022-10-23T19:31:26.660Z"
   },
   {
    "duration": 17,
    "start_time": "2022-10-23T19:31:26.676Z"
   },
   {
    "duration": 7,
    "start_time": "2022-10-23T19:31:26.695Z"
   },
   {
    "duration": 2097,
    "start_time": "2022-10-23T19:31:26.704Z"
   },
   {
    "duration": 9,
    "start_time": "2022-10-23T19:31:28.803Z"
   },
   {
    "duration": 12,
    "start_time": "2022-10-23T19:31:28.814Z"
   },
   {
    "duration": 13,
    "start_time": "2022-10-23T19:31:28.828Z"
   },
   {
    "duration": 17,
    "start_time": "2022-10-23T19:31:28.842Z"
   },
   {
    "duration": 3,
    "start_time": "2022-10-23T19:31:28.861Z"
   },
   {
    "duration": 10,
    "start_time": "2022-10-23T19:31:28.866Z"
   },
   {
    "duration": 33,
    "start_time": "2022-10-23T19:31:28.878Z"
   },
   {
    "duration": 1945,
    "start_time": "2022-10-23T19:31:28.913Z"
   },
   {
    "duration": 4874,
    "start_time": "2022-10-23T19:31:30.861Z"
   },
   {
    "duration": 10610,
    "start_time": "2022-10-23T19:31:35.737Z"
   },
   {
    "duration": 3676,
    "start_time": "2022-10-23T19:31:46.353Z"
   },
   {
    "duration": 8,
    "start_time": "2022-10-23T19:31:50.031Z"
   },
   {
    "duration": 2258,
    "start_time": "2022-10-23T19:43:21.603Z"
   },
   {
    "duration": 4744,
    "start_time": "2022-10-23T19:43:54.444Z"
   },
   {
    "duration": 10644,
    "start_time": "2022-10-23T19:44:09.805Z"
   },
   {
    "duration": 3610,
    "start_time": "2022-10-23T19:44:25.733Z"
   },
   {
    "duration": 14,
    "start_time": "2022-10-23T19:44:29.344Z"
   },
   {
    "duration": 1505,
    "start_time": "2022-10-23T19:48:28.072Z"
   },
   {
    "duration": 404,
    "start_time": "2022-10-23T19:48:29.579Z"
   },
   {
    "duration": 291,
    "start_time": "2022-10-23T19:48:29.985Z"
   },
   {
    "duration": 98,
    "start_time": "2022-10-23T19:48:30.278Z"
   },
   {
    "duration": 3,
    "start_time": "2022-10-23T19:48:30.378Z"
   },
   {
    "duration": 28,
    "start_time": "2022-10-23T19:48:30.383Z"
   },
   {
    "duration": 20,
    "start_time": "2022-10-23T19:48:30.413Z"
   },
   {
    "duration": 13,
    "start_time": "2022-10-23T19:48:30.434Z"
   },
   {
    "duration": 41,
    "start_time": "2022-10-23T19:48:30.449Z"
   },
   {
    "duration": 76,
    "start_time": "2022-10-23T19:48:30.492Z"
   },
   {
    "duration": 43,
    "start_time": "2022-10-23T19:48:30.571Z"
   },
   {
    "duration": 46,
    "start_time": "2022-10-23T19:48:30.617Z"
   },
   {
    "duration": 32,
    "start_time": "2022-10-23T19:48:30.665Z"
   },
   {
    "duration": 134,
    "start_time": "2022-10-23T19:48:30.702Z"
   },
   {
    "duration": 154,
    "start_time": "2022-10-23T19:48:30.838Z"
   },
   {
    "duration": 7,
    "start_time": "2022-10-23T19:48:30.994Z"
   },
   {
    "duration": 102,
    "start_time": "2022-10-23T19:48:31.003Z"
   },
   {
    "duration": 38,
    "start_time": "2022-10-23T19:48:31.107Z"
   },
   {
    "duration": 34,
    "start_time": "2022-10-23T19:48:31.148Z"
   },
   {
    "duration": 330,
    "start_time": "2022-10-23T19:48:31.184Z"
   },
   {
    "duration": 9,
    "start_time": "2022-10-23T19:48:31.516Z"
   },
   {
    "duration": 28,
    "start_time": "2022-10-23T19:48:31.526Z"
   },
   {
    "duration": 32,
    "start_time": "2022-10-23T19:48:31.557Z"
   },
   {
    "duration": 43,
    "start_time": "2022-10-23T19:48:31.591Z"
   },
   {
    "duration": 2264,
    "start_time": "2022-10-23T19:48:31.637Z"
   },
   {
    "duration": 9,
    "start_time": "2022-10-23T19:48:33.903Z"
   },
   {
    "duration": 13,
    "start_time": "2022-10-23T19:48:33.913Z"
   },
   {
    "duration": 12,
    "start_time": "2022-10-23T19:48:33.928Z"
   },
   {
    "duration": 20,
    "start_time": "2022-10-23T19:48:33.942Z"
   },
   {
    "duration": 11,
    "start_time": "2022-10-23T19:48:33.964Z"
   },
   {
    "duration": 7,
    "start_time": "2022-10-23T19:48:33.976Z"
   },
   {
    "duration": 34,
    "start_time": "2022-10-23T19:48:33.985Z"
   },
   {
    "duration": 1852,
    "start_time": "2022-10-23T19:48:34.021Z"
   },
   {
    "duration": 4914,
    "start_time": "2022-10-23T19:48:35.955Z"
   },
   {
    "duration": 18710,
    "start_time": "2022-10-23T19:48:40.871Z"
   },
   {
    "duration": 3788,
    "start_time": "2022-10-23T19:48:59.583Z"
   },
   {
    "duration": 9,
    "start_time": "2022-10-23T19:49:03.373Z"
   },
   {
    "duration": 10,
    "start_time": "2022-10-23T19:55:37.914Z"
   },
   {
    "duration": 11,
    "start_time": "2022-10-23T19:55:40.477Z"
   },
   {
    "duration": 20,
    "start_time": "2022-10-23T19:55:41.546Z"
   },
   {
    "duration": 4,
    "start_time": "2022-10-23T19:55:44.988Z"
   },
   {
    "duration": 4,
    "start_time": "2022-10-23T19:55:45.234Z"
   },
   {
    "duration": 28,
    "start_time": "2022-10-23T19:55:46.306Z"
   },
   {
    "duration": 1840,
    "start_time": "2022-10-23T19:55:46.626Z"
   },
   {
    "duration": 4567,
    "start_time": "2022-10-23T19:55:48.653Z"
   },
   {
    "duration": 1448,
    "start_time": "2022-10-23T19:55:56.129Z"
   },
   {
    "duration": 382,
    "start_time": "2022-10-23T19:55:57.579Z"
   },
   {
    "duration": 281,
    "start_time": "2022-10-23T19:55:57.962Z"
   },
   {
    "duration": 89,
    "start_time": "2022-10-23T19:55:58.245Z"
   },
   {
    "duration": 3,
    "start_time": "2022-10-23T19:55:58.337Z"
   },
   {
    "duration": 9,
    "start_time": "2022-10-23T19:55:58.354Z"
   },
   {
    "duration": 7,
    "start_time": "2022-10-23T19:55:58.364Z"
   },
   {
    "duration": 5,
    "start_time": "2022-10-23T19:55:58.373Z"
   },
   {
    "duration": 6,
    "start_time": "2022-10-23T19:55:58.380Z"
   },
   {
    "duration": 78,
    "start_time": "2022-10-23T19:55:58.388Z"
   },
   {
    "duration": 42,
    "start_time": "2022-10-23T19:55:58.469Z"
   },
   {
    "duration": 49,
    "start_time": "2022-10-23T19:55:58.513Z"
   },
   {
    "duration": 26,
    "start_time": "2022-10-23T19:55:58.564Z"
   },
   {
    "duration": 121,
    "start_time": "2022-10-23T19:55:58.594Z"
   },
   {
    "duration": 140,
    "start_time": "2022-10-23T19:55:58.717Z"
   },
   {
    "duration": 7,
    "start_time": "2022-10-23T19:55:58.859Z"
   },
   {
    "duration": 12,
    "start_time": "2022-10-23T19:55:58.868Z"
   },
   {
    "duration": 6,
    "start_time": "2022-10-23T19:55:58.881Z"
   },
   {
    "duration": 11,
    "start_time": "2022-10-23T19:55:58.888Z"
   },
   {
    "duration": 302,
    "start_time": "2022-10-23T19:55:58.900Z"
   },
   {
    "duration": 7,
    "start_time": "2022-10-23T19:55:59.204Z"
   },
   {
    "duration": 7,
    "start_time": "2022-10-23T19:55:59.212Z"
   },
   {
    "duration": 5,
    "start_time": "2022-10-23T19:55:59.221Z"
   },
   {
    "duration": 14,
    "start_time": "2022-10-23T19:55:59.228Z"
   },
   {
    "duration": 2094,
    "start_time": "2022-10-23T19:55:59.255Z"
   },
   {
    "duration": 9,
    "start_time": "2022-10-23T19:56:01.351Z"
   },
   {
    "duration": 20,
    "start_time": "2022-10-23T19:56:01.362Z"
   },
   {
    "duration": 28,
    "start_time": "2022-10-23T19:56:01.385Z"
   },
   {
    "duration": 44,
    "start_time": "2022-10-23T19:56:01.415Z"
   },
   {
    "duration": 20,
    "start_time": "2022-10-23T19:56:01.461Z"
   },
   {
    "duration": 38,
    "start_time": "2022-10-23T19:56:01.484Z"
   },
   {
    "duration": 63,
    "start_time": "2022-10-23T19:56:01.525Z"
   },
   {
    "duration": 1768,
    "start_time": "2022-10-23T19:56:01.590Z"
   },
   {
    "duration": 4746,
    "start_time": "2022-10-23T19:56:03.360Z"
   },
   {
    "duration": 17746,
    "start_time": "2022-10-23T19:56:08.108Z"
   },
   {
    "duration": 3666,
    "start_time": "2022-10-23T19:56:25.856Z"
   },
   {
    "duration": 10,
    "start_time": "2022-10-23T19:56:29.524Z"
   },
   {
    "duration": 45,
    "start_time": "2022-10-26T11:02:23.144Z"
   },
   {
    "duration": 71,
    "start_time": "2022-10-26T11:03:07.407Z"
   },
   {
    "duration": 71,
    "start_time": "2022-10-26T11:11:55.619Z"
   },
   {
    "duration": 7,
    "start_time": "2022-10-26T11:12:13.519Z"
   },
   {
    "duration": 8,
    "start_time": "2022-10-26T11:12:22.610Z"
   },
   {
    "duration": 1531,
    "start_time": "2022-10-26T11:12:52.846Z"
   },
   {
    "duration": 499,
    "start_time": "2022-10-26T11:12:54.379Z"
   },
   {
    "duration": 1100,
    "start_time": "2022-10-26T11:12:54.879Z"
   },
   {
    "duration": 161,
    "start_time": "2022-10-26T11:12:55.981Z"
   },
   {
    "duration": 2,
    "start_time": "2022-10-26T11:12:56.144Z"
   },
   {
    "duration": 9,
    "start_time": "2022-10-26T11:12:56.148Z"
   },
   {
    "duration": 5,
    "start_time": "2022-10-26T11:12:56.158Z"
   },
   {
    "duration": 4,
    "start_time": "2022-10-26T11:12:56.165Z"
   },
   {
    "duration": 5,
    "start_time": "2022-10-26T11:12:56.170Z"
   },
   {
    "duration": 43,
    "start_time": "2022-10-26T11:12:56.178Z"
   },
   {
    "duration": 33,
    "start_time": "2022-10-26T11:12:56.222Z"
   },
   {
    "duration": 39,
    "start_time": "2022-10-26T11:12:56.256Z"
   },
   {
    "duration": 22,
    "start_time": "2022-10-26T11:12:56.297Z"
   },
   {
    "duration": 106,
    "start_time": "2022-10-26T11:12:56.321Z"
   },
   {
    "duration": 118,
    "start_time": "2022-10-26T11:12:56.428Z"
   },
   {
    "duration": 6,
    "start_time": "2022-10-26T11:12:56.548Z"
   },
   {
    "duration": 15,
    "start_time": "2022-10-26T11:12:56.556Z"
   },
   {
    "duration": 20,
    "start_time": "2022-10-26T11:12:56.577Z"
   },
   {
    "duration": 11,
    "start_time": "2022-10-26T11:12:56.599Z"
   },
   {
    "duration": 255,
    "start_time": "2022-10-26T11:12:56.612Z"
   },
   {
    "duration": 12,
    "start_time": "2022-10-26T11:12:56.868Z"
   },
   {
    "duration": 6,
    "start_time": "2022-10-26T11:12:56.882Z"
   },
   {
    "duration": 5,
    "start_time": "2022-10-26T11:12:56.890Z"
   },
   {
    "duration": 6,
    "start_time": "2022-10-26T11:12:56.896Z"
   },
   {
    "duration": 1981,
    "start_time": "2022-10-26T11:12:56.903Z"
   },
   {
    "duration": 7,
    "start_time": "2022-10-26T11:12:58.885Z"
   },
   {
    "duration": 35,
    "start_time": "2022-10-26T11:12:58.893Z"
   },
   {
    "duration": 12,
    "start_time": "2022-10-26T11:12:58.930Z"
   },
   {
    "duration": 32,
    "start_time": "2022-10-26T11:12:58.944Z"
   },
   {
    "duration": 4,
    "start_time": "2022-10-26T11:12:58.978Z"
   },
   {
    "duration": 19,
    "start_time": "2022-10-26T11:12:58.983Z"
   },
   {
    "duration": 40,
    "start_time": "2022-10-26T11:12:59.003Z"
   },
   {
    "duration": 2,
    "start_time": "2022-10-26T11:12:59.045Z"
   },
   {
    "duration": 1933,
    "start_time": "2022-10-26T11:12:59.049Z"
   },
   {
    "duration": 4171,
    "start_time": "2022-10-26T11:13:00.984Z"
   },
   {
    "duration": 1359,
    "start_time": "2022-10-26T11:15:40.193Z"
   },
   {
    "duration": 355,
    "start_time": "2022-10-26T11:15:41.554Z"
   },
   {
    "duration": 235,
    "start_time": "2022-10-26T11:15:41.910Z"
   },
   {
    "duration": 80,
    "start_time": "2022-10-26T11:15:42.147Z"
   },
   {
    "duration": 3,
    "start_time": "2022-10-26T11:15:42.229Z"
   },
   {
    "duration": 9,
    "start_time": "2022-10-26T11:15:42.233Z"
   },
   {
    "duration": 5,
    "start_time": "2022-10-26T11:15:42.243Z"
   },
   {
    "duration": 6,
    "start_time": "2022-10-26T11:15:42.249Z"
   },
   {
    "duration": 21,
    "start_time": "2022-10-26T11:15:42.256Z"
   },
   {
    "duration": 38,
    "start_time": "2022-10-26T11:15:42.280Z"
   },
   {
    "duration": 32,
    "start_time": "2022-10-26T11:15:42.320Z"
   },
   {
    "duration": 43,
    "start_time": "2022-10-26T11:15:42.354Z"
   },
   {
    "duration": 22,
    "start_time": "2022-10-26T11:15:42.398Z"
   },
   {
    "duration": 97,
    "start_time": "2022-10-26T11:15:42.421Z"
   },
   {
    "duration": 120,
    "start_time": "2022-10-26T11:15:42.519Z"
   },
   {
    "duration": 8,
    "start_time": "2022-10-26T11:15:42.640Z"
   },
   {
    "duration": 13,
    "start_time": "2022-10-26T11:15:42.650Z"
   },
   {
    "duration": 13,
    "start_time": "2022-10-26T11:15:42.665Z"
   },
   {
    "duration": 9,
    "start_time": "2022-10-26T11:15:42.680Z"
   },
   {
    "duration": 266,
    "start_time": "2022-10-26T11:15:42.690Z"
   },
   {
    "duration": 6,
    "start_time": "2022-10-26T11:15:42.957Z"
   },
   {
    "duration": 13,
    "start_time": "2022-10-26T11:15:42.964Z"
   },
   {
    "duration": 9,
    "start_time": "2022-10-26T11:15:42.978Z"
   },
   {
    "duration": 5,
    "start_time": "2022-10-26T11:15:42.989Z"
   },
   {
    "duration": 1928,
    "start_time": "2022-10-26T11:15:42.996Z"
   },
   {
    "duration": 7,
    "start_time": "2022-10-26T11:15:44.926Z"
   },
   {
    "duration": 7,
    "start_time": "2022-10-26T11:15:44.935Z"
   },
   {
    "duration": 9,
    "start_time": "2022-10-26T11:15:44.945Z"
   },
   {
    "duration": 13,
    "start_time": "2022-10-26T11:15:44.955Z"
   },
   {
    "duration": 3,
    "start_time": "2022-10-26T11:15:44.970Z"
   },
   {
    "duration": 5,
    "start_time": "2022-10-26T11:15:44.976Z"
   },
   {
    "duration": 28,
    "start_time": "2022-10-26T11:15:44.982Z"
   },
   {
    "duration": 3,
    "start_time": "2022-10-26T11:15:45.011Z"
   },
   {
    "duration": 1962,
    "start_time": "2022-10-26T11:15:45.015Z"
   },
   {
    "duration": 0,
    "start_time": "2022-10-26T11:15:46.978Z"
   },
   {
    "duration": 0,
    "start_time": "2022-10-26T11:15:46.980Z"
   },
   {
    "duration": 0,
    "start_time": "2022-10-26T11:15:46.981Z"
   },
   {
    "duration": 0,
    "start_time": "2022-10-26T11:15:46.982Z"
   },
   {
    "duration": 1646,
    "start_time": "2022-10-26T11:17:17.839Z"
   },
   {
    "duration": 1603,
    "start_time": "2022-10-26T11:18:06.674Z"
   },
   {
    "duration": 3950,
    "start_time": "2022-10-26T11:18:12.689Z"
   },
   {
    "duration": 1451,
    "start_time": "2022-10-26T11:24:09.289Z"
   },
   {
    "duration": 342,
    "start_time": "2022-10-26T11:24:10.742Z"
   },
   {
    "duration": 235,
    "start_time": "2022-10-26T11:24:11.086Z"
   },
   {
    "duration": 82,
    "start_time": "2022-10-26T11:24:11.323Z"
   },
   {
    "duration": 4,
    "start_time": "2022-10-26T11:24:11.407Z"
   },
   {
    "duration": 13,
    "start_time": "2022-10-26T11:24:11.412Z"
   },
   {
    "duration": 8,
    "start_time": "2022-10-26T11:24:11.426Z"
   },
   {
    "duration": 5,
    "start_time": "2022-10-26T11:24:11.435Z"
   },
   {
    "duration": 6,
    "start_time": "2022-10-26T11:24:11.441Z"
   },
   {
    "duration": 59,
    "start_time": "2022-10-26T11:24:11.449Z"
   },
   {
    "duration": 37,
    "start_time": "2022-10-26T11:24:11.509Z"
   },
   {
    "duration": 44,
    "start_time": "2022-10-26T11:24:11.547Z"
   },
   {
    "duration": 26,
    "start_time": "2022-10-26T11:24:11.592Z"
   },
   {
    "duration": 107,
    "start_time": "2022-10-26T11:24:11.619Z"
   },
   {
    "duration": 117,
    "start_time": "2022-10-26T11:24:11.727Z"
   },
   {
    "duration": 6,
    "start_time": "2022-10-26T11:24:11.846Z"
   },
   {
    "duration": 26,
    "start_time": "2022-10-26T11:24:11.854Z"
   },
   {
    "duration": 7,
    "start_time": "2022-10-26T11:24:11.883Z"
   },
   {
    "duration": 12,
    "start_time": "2022-10-26T11:24:11.892Z"
   },
   {
    "duration": 249,
    "start_time": "2022-10-26T11:24:11.905Z"
   },
   {
    "duration": 6,
    "start_time": "2022-10-26T11:24:12.156Z"
   },
   {
    "duration": 24,
    "start_time": "2022-10-26T11:24:12.163Z"
   },
   {
    "duration": 20,
    "start_time": "2022-10-26T11:24:12.188Z"
   },
   {
    "duration": 17,
    "start_time": "2022-10-26T11:24:12.209Z"
   },
   {
    "duration": 1876,
    "start_time": "2022-10-26T11:24:12.228Z"
   },
   {
    "duration": 8,
    "start_time": "2022-10-26T11:24:14.105Z"
   },
   {
    "duration": 13,
    "start_time": "2022-10-26T11:24:14.114Z"
   },
   {
    "duration": 11,
    "start_time": "2022-10-26T11:24:14.130Z"
   },
   {
    "duration": 13,
    "start_time": "2022-10-26T11:24:14.143Z"
   },
   {
    "duration": 3,
    "start_time": "2022-10-26T11:24:14.157Z"
   },
   {
    "duration": 10,
    "start_time": "2022-10-26T11:24:14.161Z"
   },
   {
    "duration": 27,
    "start_time": "2022-10-26T11:24:14.172Z"
   },
   {
    "duration": 2,
    "start_time": "2022-10-26T11:24:14.201Z"
   },
   {
    "duration": 1874,
    "start_time": "2022-10-26T11:24:14.204Z"
   },
   {
    "duration": 4062,
    "start_time": "2022-10-26T11:24:16.080Z"
   },
   {
    "duration": 1340,
    "start_time": "2022-10-26T11:37:03.768Z"
   },
   {
    "duration": 381,
    "start_time": "2022-10-26T11:37:05.110Z"
   },
   {
    "duration": 248,
    "start_time": "2022-10-26T11:37:05.492Z"
   },
   {
    "duration": 86,
    "start_time": "2022-10-26T11:37:05.742Z"
   },
   {
    "duration": 3,
    "start_time": "2022-10-26T11:37:05.830Z"
   },
   {
    "duration": 10,
    "start_time": "2022-10-26T11:37:05.835Z"
   },
   {
    "duration": 8,
    "start_time": "2022-10-26T11:37:05.847Z"
   },
   {
    "duration": 18,
    "start_time": "2022-10-26T11:37:05.856Z"
   },
   {
    "duration": 8,
    "start_time": "2022-10-26T11:37:05.876Z"
   },
   {
    "duration": 51,
    "start_time": "2022-10-26T11:37:05.886Z"
   },
   {
    "duration": 40,
    "start_time": "2022-10-26T11:37:05.938Z"
   },
   {
    "duration": 25,
    "start_time": "2022-10-26T11:37:05.979Z"
   },
   {
    "duration": 22,
    "start_time": "2022-10-26T11:37:06.005Z"
   },
   {
    "duration": 101,
    "start_time": "2022-10-26T11:37:06.029Z"
   },
   {
    "duration": 120,
    "start_time": "2022-10-26T11:37:06.131Z"
   },
   {
    "duration": 7,
    "start_time": "2022-10-26T11:37:06.253Z"
   },
   {
    "duration": 19,
    "start_time": "2022-10-26T11:37:06.262Z"
   },
   {
    "duration": 8,
    "start_time": "2022-10-26T11:37:06.283Z"
   },
   {
    "duration": 6,
    "start_time": "2022-10-26T11:37:06.292Z"
   },
   {
    "duration": 259,
    "start_time": "2022-10-26T11:37:06.300Z"
   },
   {
    "duration": 16,
    "start_time": "2022-10-26T11:37:06.561Z"
   },
   {
    "duration": 6,
    "start_time": "2022-10-26T11:37:06.578Z"
   },
   {
    "duration": 5,
    "start_time": "2022-10-26T11:37:06.585Z"
   },
   {
    "duration": 5,
    "start_time": "2022-10-26T11:37:06.592Z"
   },
   {
    "duration": 1952,
    "start_time": "2022-10-26T11:37:06.599Z"
   },
   {
    "duration": 8,
    "start_time": "2022-10-26T11:37:08.553Z"
   },
   {
    "duration": 19,
    "start_time": "2022-10-26T11:37:08.563Z"
   },
   {
    "duration": 14,
    "start_time": "2022-10-26T11:37:08.585Z"
   },
   {
    "duration": 22,
    "start_time": "2022-10-26T11:37:08.600Z"
   },
   {
    "duration": 4,
    "start_time": "2022-10-26T11:37:08.623Z"
   },
   {
    "duration": 11,
    "start_time": "2022-10-26T11:37:08.628Z"
   },
   {
    "duration": 29,
    "start_time": "2022-10-26T11:37:08.640Z"
   },
   {
    "duration": 3,
    "start_time": "2022-10-26T11:37:08.671Z"
   },
   {
    "duration": 1508,
    "start_time": "2022-10-26T11:37:08.677Z"
   },
   {
    "duration": 4224,
    "start_time": "2022-10-26T11:37:10.277Z"
   },
   {
    "duration": 1335,
    "start_time": "2022-10-26T12:09:35.924Z"
   },
   {
    "duration": 371,
    "start_time": "2022-10-26T12:09:37.261Z"
   },
   {
    "duration": 311,
    "start_time": "2022-10-26T12:09:37.635Z"
   },
   {
    "duration": 101,
    "start_time": "2022-10-26T12:09:37.948Z"
   },
   {
    "duration": 3,
    "start_time": "2022-10-26T12:09:38.050Z"
   },
   {
    "duration": 21,
    "start_time": "2022-10-26T12:09:38.054Z"
   },
   {
    "duration": 25,
    "start_time": "2022-10-26T12:09:38.076Z"
   },
   {
    "duration": 17,
    "start_time": "2022-10-26T12:09:38.102Z"
   },
   {
    "duration": 15,
    "start_time": "2022-10-26T12:09:38.120Z"
   },
   {
    "duration": 53,
    "start_time": "2022-10-26T12:09:38.137Z"
   },
   {
    "duration": 36,
    "start_time": "2022-10-26T12:09:38.192Z"
   },
   {
    "duration": 24,
    "start_time": "2022-10-26T12:09:38.229Z"
   },
   {
    "duration": 40,
    "start_time": "2022-10-26T12:09:38.255Z"
   },
   {
    "duration": 99,
    "start_time": "2022-10-26T12:09:38.296Z"
   },
   {
    "duration": 116,
    "start_time": "2022-10-26T12:09:38.396Z"
   },
   {
    "duration": 13,
    "start_time": "2022-10-26T12:09:38.514Z"
   },
   {
    "duration": 24,
    "start_time": "2022-10-26T12:09:38.529Z"
   },
   {
    "duration": 10,
    "start_time": "2022-10-26T12:09:38.555Z"
   },
   {
    "duration": 12,
    "start_time": "2022-10-26T12:09:38.566Z"
   },
   {
    "duration": 339,
    "start_time": "2022-10-26T12:09:38.579Z"
   },
   {
    "duration": 404,
    "start_time": "2022-10-26T12:09:38.920Z"
   },
   {
    "duration": 254,
    "start_time": "2022-10-26T12:09:39.326Z"
   },
   {
    "duration": 9,
    "start_time": "2022-10-26T12:09:39.582Z"
   },
   {
    "duration": 8,
    "start_time": "2022-10-26T12:09:39.596Z"
   },
   {
    "duration": 6,
    "start_time": "2022-10-26T12:09:39.605Z"
   },
   {
    "duration": 8,
    "start_time": "2022-10-26T12:09:39.613Z"
   },
   {
    "duration": 1981,
    "start_time": "2022-10-26T12:09:39.623Z"
   },
   {
    "duration": 10,
    "start_time": "2022-10-26T12:09:41.608Z"
   },
   {
    "duration": 13,
    "start_time": "2022-10-26T12:09:41.620Z"
   },
   {
    "duration": 14,
    "start_time": "2022-10-26T12:09:41.635Z"
   },
   {
    "duration": 16,
    "start_time": "2022-10-26T12:09:41.651Z"
   },
   {
    "duration": 31,
    "start_time": "2022-10-26T12:09:41.670Z"
   },
   {
    "duration": 8,
    "start_time": "2022-10-26T12:09:41.703Z"
   },
   {
    "duration": 32,
    "start_time": "2022-10-26T12:09:41.713Z"
   },
   {
    "duration": 3,
    "start_time": "2022-10-26T12:09:41.747Z"
   },
   {
    "duration": 2249,
    "start_time": "2022-10-26T12:09:41.752Z"
   },
   {
    "duration": 4351,
    "start_time": "2022-10-26T12:09:44.082Z"
   },
   {
    "duration": 1384,
    "start_time": "2022-10-26T12:16:15.264Z"
   },
   {
    "duration": 366,
    "start_time": "2022-10-26T12:16:16.649Z"
   },
   {
    "duration": 302,
    "start_time": "2022-10-26T12:16:17.017Z"
   },
   {
    "duration": 95,
    "start_time": "2022-10-26T12:16:17.321Z"
   },
   {
    "duration": 3,
    "start_time": "2022-10-26T12:16:17.418Z"
   },
   {
    "duration": 10,
    "start_time": "2022-10-26T12:16:17.423Z"
   },
   {
    "duration": 7,
    "start_time": "2022-10-26T12:16:17.434Z"
   },
   {
    "duration": 5,
    "start_time": "2022-10-26T12:16:17.443Z"
   },
   {
    "duration": 36,
    "start_time": "2022-10-26T12:16:17.450Z"
   },
   {
    "duration": 61,
    "start_time": "2022-10-26T12:16:17.489Z"
   },
   {
    "duration": 47,
    "start_time": "2022-10-26T12:16:17.552Z"
   },
   {
    "duration": 33,
    "start_time": "2022-10-26T12:16:17.601Z"
   },
   {
    "duration": 24,
    "start_time": "2022-10-26T12:16:17.635Z"
   },
   {
    "duration": 139,
    "start_time": "2022-10-26T12:16:17.660Z"
   },
   {
    "duration": 151,
    "start_time": "2022-10-26T12:16:17.801Z"
   },
   {
    "duration": 10,
    "start_time": "2022-10-26T12:16:17.955Z"
   },
   {
    "duration": 70,
    "start_time": "2022-10-26T12:16:17.967Z"
   },
   {
    "duration": 19,
    "start_time": "2022-10-26T12:16:18.039Z"
   },
   {
    "duration": 50,
    "start_time": "2022-10-26T12:16:18.060Z"
   },
   {
    "duration": 435,
    "start_time": "2022-10-26T12:16:18.113Z"
   },
   {
    "duration": 542,
    "start_time": "2022-10-26T12:16:18.550Z"
   },
   {
    "duration": 11,
    "start_time": "2022-10-26T12:16:19.096Z"
   },
   {
    "duration": 34,
    "start_time": "2022-10-26T12:16:19.109Z"
   },
   {
    "duration": 19,
    "start_time": "2022-10-26T12:16:19.145Z"
   },
   {
    "duration": 26,
    "start_time": "2022-10-26T12:16:19.166Z"
   },
   {
    "duration": 2013,
    "start_time": "2022-10-26T12:16:19.199Z"
   },
   {
    "duration": 8,
    "start_time": "2022-10-26T12:16:21.214Z"
   },
   {
    "duration": 14,
    "start_time": "2022-10-26T12:16:21.226Z"
   },
   {
    "duration": 11,
    "start_time": "2022-10-26T12:16:21.242Z"
   },
   {
    "duration": 10,
    "start_time": "2022-10-26T12:16:21.254Z"
   },
   {
    "duration": 4,
    "start_time": "2022-10-26T12:16:21.265Z"
   },
   {
    "duration": 7,
    "start_time": "2022-10-26T12:16:21.271Z"
   },
   {
    "duration": 54,
    "start_time": "2022-10-26T12:16:21.283Z"
   },
   {
    "duration": 3,
    "start_time": "2022-10-26T12:16:21.339Z"
   },
   {
    "duration": 3652,
    "start_time": "2022-10-26T12:16:21.344Z"
   },
   {
    "duration": 4788,
    "start_time": "2022-10-26T12:16:25.002Z"
   },
   {
    "duration": 1417,
    "start_time": "2022-10-26T12:18:35.685Z"
   },
   {
    "duration": 363,
    "start_time": "2022-10-26T12:18:37.105Z"
   },
   {
    "duration": 288,
    "start_time": "2022-10-26T12:18:37.470Z"
   },
   {
    "duration": 110,
    "start_time": "2022-10-26T12:18:37.761Z"
   },
   {
    "duration": 6,
    "start_time": "2022-10-26T12:18:37.877Z"
   },
   {
    "duration": 42,
    "start_time": "2022-10-26T12:18:37.884Z"
   },
   {
    "duration": 33,
    "start_time": "2022-10-26T12:18:37.928Z"
   },
   {
    "duration": 10,
    "start_time": "2022-10-26T12:18:37.963Z"
   },
   {
    "duration": 32,
    "start_time": "2022-10-26T12:18:37.974Z"
   },
   {
    "duration": 52,
    "start_time": "2022-10-26T12:18:38.010Z"
   },
   {
    "duration": 37,
    "start_time": "2022-10-26T12:18:38.064Z"
   },
   {
    "duration": 27,
    "start_time": "2022-10-26T12:18:38.103Z"
   },
   {
    "duration": 23,
    "start_time": "2022-10-26T12:18:38.132Z"
   },
   {
    "duration": 110,
    "start_time": "2022-10-26T12:18:38.157Z"
   },
   {
    "duration": 127,
    "start_time": "2022-10-26T12:18:38.269Z"
   },
   {
    "duration": 9,
    "start_time": "2022-10-26T12:18:38.399Z"
   },
   {
    "duration": 14,
    "start_time": "2022-10-26T12:18:38.409Z"
   },
   {
    "duration": 12,
    "start_time": "2022-10-26T12:18:38.425Z"
   },
   {
    "duration": 11,
    "start_time": "2022-10-26T12:18:38.439Z"
   },
   {
    "duration": 339,
    "start_time": "2022-10-26T12:18:38.452Z"
   },
   {
    "duration": 414,
    "start_time": "2022-10-26T12:18:38.794Z"
   },
   {
    "duration": 4,
    "start_time": "2022-10-26T12:18:39.210Z"
   },
   {
    "duration": 19,
    "start_time": "2022-10-26T12:18:39.216Z"
   },
   {
    "duration": 7,
    "start_time": "2022-10-26T12:18:39.237Z"
   },
   {
    "duration": 13,
    "start_time": "2022-10-26T12:18:39.246Z"
   },
   {
    "duration": 1982,
    "start_time": "2022-10-26T12:18:39.260Z"
   },
   {
    "duration": 7,
    "start_time": "2022-10-26T12:18:41.244Z"
   },
   {
    "duration": 29,
    "start_time": "2022-10-26T12:18:41.254Z"
   },
   {
    "duration": 22,
    "start_time": "2022-10-26T12:18:41.284Z"
   },
   {
    "duration": 16,
    "start_time": "2022-10-26T12:18:41.308Z"
   },
   {
    "duration": 3,
    "start_time": "2022-10-26T12:18:41.326Z"
   },
   {
    "duration": 10,
    "start_time": "2022-10-26T12:18:41.330Z"
   },
   {
    "duration": 32,
    "start_time": "2022-10-26T12:18:41.341Z"
   },
   {
    "duration": 3,
    "start_time": "2022-10-26T12:18:41.374Z"
   },
   {
    "duration": 2210,
    "start_time": "2022-10-26T12:18:41.378Z"
   },
   {
    "duration": 5907,
    "start_time": "2022-10-26T12:18:43.589Z"
   },
   {
    "duration": 1425,
    "start_time": "2022-10-27T12:11:24.602Z"
   },
   {
    "duration": 375,
    "start_time": "2022-10-27T12:11:26.029Z"
   },
   {
    "duration": 266,
    "start_time": "2022-10-27T12:11:26.406Z"
   },
   {
    "duration": 94,
    "start_time": "2022-10-27T12:11:26.673Z"
   },
   {
    "duration": 4,
    "start_time": "2022-10-27T12:11:26.769Z"
   },
   {
    "duration": 38,
    "start_time": "2022-10-27T12:11:26.774Z"
   },
   {
    "duration": 6,
    "start_time": "2022-10-27T12:11:26.813Z"
   },
   {
    "duration": 4,
    "start_time": "2022-10-27T12:11:26.821Z"
   },
   {
    "duration": 6,
    "start_time": "2022-10-27T12:11:26.827Z"
   },
   {
    "duration": 52,
    "start_time": "2022-10-27T12:11:26.834Z"
   },
   {
    "duration": 36,
    "start_time": "2022-10-27T12:11:26.893Z"
   },
   {
    "duration": 25,
    "start_time": "2022-10-27T12:11:26.930Z"
   },
   {
    "duration": 28,
    "start_time": "2022-10-27T12:11:26.957Z"
   },
   {
    "duration": 119,
    "start_time": "2022-10-27T12:11:26.988Z"
   },
   {
    "duration": 123,
    "start_time": "2022-10-27T12:11:27.109Z"
   },
   {
    "duration": 7,
    "start_time": "2022-10-27T12:11:27.234Z"
   },
   {
    "duration": 6,
    "start_time": "2022-10-27T12:11:27.243Z"
   },
   {
    "duration": 16,
    "start_time": "2022-10-27T12:11:27.251Z"
   },
   {
    "duration": 38,
    "start_time": "2022-10-27T12:11:27.268Z"
   },
   {
    "duration": 10,
    "start_time": "2022-10-27T12:11:27.307Z"
   },
   {
    "duration": 1318,
    "start_time": "2022-10-27T12:11:27.319Z"
   },
   {
    "duration": 313,
    "start_time": "2022-10-27T12:11:28.638Z"
   },
   {
    "duration": 345,
    "start_time": "2022-10-27T12:11:28.952Z"
   },
   {
    "duration": 5,
    "start_time": "2022-10-27T12:11:29.303Z"
   },
   {
    "duration": 7,
    "start_time": "2022-10-27T12:11:29.309Z"
   },
   {
    "duration": 22,
    "start_time": "2022-10-27T12:11:29.317Z"
   },
   {
    "duration": 10,
    "start_time": "2022-10-27T12:11:29.340Z"
   },
   {
    "duration": 2014,
    "start_time": "2022-10-27T12:11:29.352Z"
   },
   {
    "duration": 28,
    "start_time": "2022-10-27T12:11:31.368Z"
   },
   {
    "duration": 23,
    "start_time": "2022-10-27T12:11:31.398Z"
   },
   {
    "duration": 12,
    "start_time": "2022-10-27T12:11:31.423Z"
   },
   {
    "duration": 20,
    "start_time": "2022-10-27T12:11:31.437Z"
   },
   {
    "duration": 6,
    "start_time": "2022-10-27T12:11:31.458Z"
   },
   {
    "duration": 23,
    "start_time": "2022-10-27T12:11:31.465Z"
   },
   {
    "duration": 70,
    "start_time": "2022-10-27T12:11:31.494Z"
   },
   {
    "duration": 3,
    "start_time": "2022-10-27T12:11:31.565Z"
   },
   {
    "duration": 2932,
    "start_time": "2022-10-27T12:11:31.569Z"
   },
   {
    "duration": 6115,
    "start_time": "2022-10-27T12:11:34.502Z"
   },
   {
    "duration": 1438,
    "start_time": "2022-10-27T12:14:11.909Z"
   },
   {
    "duration": 489,
    "start_time": "2022-10-27T12:14:13.349Z"
   },
   {
    "duration": 268,
    "start_time": "2022-10-27T12:14:13.840Z"
   },
   {
    "duration": 93,
    "start_time": "2022-10-27T12:14:14.110Z"
   },
   {
    "duration": 3,
    "start_time": "2022-10-27T12:14:14.205Z"
   },
   {
    "duration": 8,
    "start_time": "2022-10-27T12:14:14.209Z"
   },
   {
    "duration": 7,
    "start_time": "2022-10-27T12:14:14.219Z"
   },
   {
    "duration": 5,
    "start_time": "2022-10-27T12:14:14.227Z"
   },
   {
    "duration": 9,
    "start_time": "2022-10-27T12:14:14.233Z"
   },
   {
    "duration": 59,
    "start_time": "2022-10-27T12:14:14.244Z"
   },
   {
    "duration": 32,
    "start_time": "2022-10-27T12:14:14.305Z"
   },
   {
    "duration": 25,
    "start_time": "2022-10-27T12:14:14.338Z"
   },
   {
    "duration": 40,
    "start_time": "2022-10-27T12:14:14.365Z"
   },
   {
    "duration": 98,
    "start_time": "2022-10-27T12:14:14.406Z"
   },
   {
    "duration": 118,
    "start_time": "2022-10-27T12:14:14.506Z"
   },
   {
    "duration": 7,
    "start_time": "2022-10-27T12:14:14.625Z"
   },
   {
    "duration": 4,
    "start_time": "2022-10-27T12:14:14.634Z"
   },
   {
    "duration": 8,
    "start_time": "2022-10-27T12:14:14.639Z"
   },
   {
    "duration": 4,
    "start_time": "2022-10-27T12:14:14.649Z"
   },
   {
    "duration": 43,
    "start_time": "2022-10-27T12:14:14.655Z"
   },
   {
    "duration": 1283,
    "start_time": "2022-10-27T12:14:14.703Z"
   },
   {
    "duration": 331,
    "start_time": "2022-10-27T12:14:15.989Z"
   },
   {
    "duration": 328,
    "start_time": "2022-10-27T12:14:16.322Z"
   },
   {
    "duration": 4,
    "start_time": "2022-10-27T12:14:16.652Z"
   },
   {
    "duration": 19,
    "start_time": "2022-10-27T12:14:16.657Z"
   },
   {
    "duration": 30,
    "start_time": "2022-10-27T12:14:16.685Z"
   },
   {
    "duration": 13,
    "start_time": "2022-10-27T12:14:16.716Z"
   },
   {
    "duration": 2063,
    "start_time": "2022-10-27T12:14:16.732Z"
   },
   {
    "duration": 8,
    "start_time": "2022-10-27T12:14:18.797Z"
   },
   {
    "duration": 18,
    "start_time": "2022-10-27T12:14:18.807Z"
   },
   {
    "duration": 12,
    "start_time": "2022-10-27T12:14:18.826Z"
   },
   {
    "duration": 11,
    "start_time": "2022-10-27T12:14:18.839Z"
   },
   {
    "duration": 3,
    "start_time": "2022-10-27T12:14:18.851Z"
   },
   {
    "duration": 22,
    "start_time": "2022-10-27T12:14:18.856Z"
   },
   {
    "duration": 56,
    "start_time": "2022-10-27T12:14:18.880Z"
   },
   {
    "duration": 2,
    "start_time": "2022-10-27T12:14:18.938Z"
   },
   {
    "duration": 4947,
    "start_time": "2022-10-27T12:14:18.942Z"
   },
   {
    "duration": 6036,
    "start_time": "2022-10-27T12:14:23.891Z"
   },
   {
    "duration": 1403,
    "start_time": "2022-10-27T12:18:22.911Z"
   },
   {
    "duration": 389,
    "start_time": "2022-10-27T12:18:24.316Z"
   },
   {
    "duration": 257,
    "start_time": "2022-10-27T12:18:24.706Z"
   },
   {
    "duration": 100,
    "start_time": "2022-10-27T12:18:24.965Z"
   },
   {
    "duration": 3,
    "start_time": "2022-10-27T12:18:25.066Z"
   },
   {
    "duration": 21,
    "start_time": "2022-10-27T12:18:25.071Z"
   },
   {
    "duration": 14,
    "start_time": "2022-10-27T12:18:25.099Z"
   },
   {
    "duration": 3,
    "start_time": "2022-10-27T12:18:25.116Z"
   },
   {
    "duration": 7,
    "start_time": "2022-10-27T12:18:25.121Z"
   },
   {
    "duration": 41,
    "start_time": "2022-10-27T12:18:25.130Z"
   },
   {
    "duration": 37,
    "start_time": "2022-10-27T12:18:25.173Z"
   },
   {
    "duration": 26,
    "start_time": "2022-10-27T12:18:25.211Z"
   },
   {
    "duration": 24,
    "start_time": "2022-10-27T12:18:25.238Z"
   },
   {
    "duration": 112,
    "start_time": "2022-10-27T12:18:25.264Z"
   },
   {
    "duration": 125,
    "start_time": "2022-10-27T12:18:25.377Z"
   },
   {
    "duration": 7,
    "start_time": "2022-10-27T12:18:25.507Z"
   },
   {
    "duration": 6,
    "start_time": "2022-10-27T12:18:25.515Z"
   },
   {
    "duration": 5,
    "start_time": "2022-10-27T12:18:25.522Z"
   },
   {
    "duration": 5,
    "start_time": "2022-10-27T12:18:25.528Z"
   },
   {
    "duration": 12,
    "start_time": "2022-10-27T12:18:25.535Z"
   },
   {
    "duration": 1245,
    "start_time": "2022-10-27T12:18:25.548Z"
   },
   {
    "duration": 307,
    "start_time": "2022-10-27T12:18:26.801Z"
   },
   {
    "duration": 0,
    "start_time": "2022-10-27T12:18:27.110Z"
   },
   {
    "duration": 0,
    "start_time": "2022-10-27T12:18:27.111Z"
   },
   {
    "duration": 0,
    "start_time": "2022-10-27T12:18:27.112Z"
   },
   {
    "duration": 0,
    "start_time": "2022-10-27T12:18:27.113Z"
   },
   {
    "duration": 0,
    "start_time": "2022-10-27T12:18:27.114Z"
   },
   {
    "duration": 0,
    "start_time": "2022-10-27T12:18:27.115Z"
   },
   {
    "duration": 0,
    "start_time": "2022-10-27T12:18:27.116Z"
   },
   {
    "duration": 0,
    "start_time": "2022-10-27T12:18:27.117Z"
   },
   {
    "duration": 0,
    "start_time": "2022-10-27T12:18:27.118Z"
   },
   {
    "duration": 0,
    "start_time": "2022-10-27T12:18:27.119Z"
   },
   {
    "duration": 0,
    "start_time": "2022-10-27T12:18:27.120Z"
   },
   {
    "duration": 0,
    "start_time": "2022-10-27T12:18:27.120Z"
   },
   {
    "duration": 0,
    "start_time": "2022-10-27T12:18:27.121Z"
   },
   {
    "duration": 0,
    "start_time": "2022-10-27T12:18:27.122Z"
   },
   {
    "duration": 0,
    "start_time": "2022-10-27T12:18:27.123Z"
   },
   {
    "duration": 0,
    "start_time": "2022-10-27T12:18:27.124Z"
   },
   {
    "duration": 0,
    "start_time": "2022-10-27T12:18:27.124Z"
   },
   {
    "duration": 0,
    "start_time": "2022-10-27T12:18:27.125Z"
   },
   {
    "duration": 0,
    "start_time": "2022-10-27T12:18:27.126Z"
   },
   {
    "duration": 176,
    "start_time": "2022-10-27T12:18:59.388Z"
   },
   {
    "duration": 308,
    "start_time": "2022-10-27T12:19:21.992Z"
   },
   {
    "duration": 446,
    "start_time": "2022-10-27T12:19:22.763Z"
   },
   {
    "duration": 108,
    "start_time": "2022-10-27T15:37:25.179Z"
   },
   {
    "duration": 46,
    "start_time": "2022-10-27T15:37:49.119Z"
   },
   {
    "duration": 8,
    "start_time": "2022-10-27T15:38:03.741Z"
   },
   {
    "duration": 1580,
    "start_time": "2022-10-27T15:38:10.354Z"
   },
   {
    "duration": 565,
    "start_time": "2022-10-27T15:38:11.937Z"
   },
   {
    "duration": 1115,
    "start_time": "2022-10-27T15:38:12.504Z"
   },
   {
    "duration": 167,
    "start_time": "2022-10-27T15:38:13.621Z"
   },
   {
    "duration": 4,
    "start_time": "2022-10-27T15:38:13.789Z"
   },
   {
    "duration": 10,
    "start_time": "2022-10-27T15:38:13.794Z"
   },
   {
    "duration": 7,
    "start_time": "2022-10-27T15:38:13.806Z"
   },
   {
    "duration": 7,
    "start_time": "2022-10-27T15:38:13.815Z"
   },
   {
    "duration": 7,
    "start_time": "2022-10-27T15:38:13.824Z"
   },
   {
    "duration": 43,
    "start_time": "2022-10-27T15:38:13.835Z"
   },
   {
    "duration": 57,
    "start_time": "2022-10-27T15:38:13.880Z"
   },
   {
    "duration": 28,
    "start_time": "2022-10-27T15:38:13.940Z"
   },
   {
    "duration": 24,
    "start_time": "2022-10-27T15:38:13.969Z"
   },
   {
    "duration": 119,
    "start_time": "2022-10-27T15:38:13.995Z"
   },
   {
    "duration": 131,
    "start_time": "2022-10-27T15:38:14.116Z"
   },
   {
    "duration": 7,
    "start_time": "2022-10-27T15:38:14.249Z"
   },
   {
    "duration": 6,
    "start_time": "2022-10-27T15:38:14.258Z"
   },
   {
    "duration": 5,
    "start_time": "2022-10-27T15:38:14.266Z"
   },
   {
    "duration": 5,
    "start_time": "2022-10-27T15:38:14.273Z"
   },
   {
    "duration": 6,
    "start_time": "2022-10-27T15:38:14.279Z"
   },
   {
    "duration": 1347,
    "start_time": "2022-10-27T15:38:14.287Z"
   },
   {
    "duration": 330,
    "start_time": "2022-10-27T15:38:15.636Z"
   },
   {
    "duration": 372,
    "start_time": "2022-10-27T15:38:15.968Z"
   },
   {
    "duration": 5,
    "start_time": "2022-10-27T15:38:16.341Z"
   },
   {
    "duration": 10,
    "start_time": "2022-10-27T15:38:16.347Z"
   },
   {
    "duration": 4,
    "start_time": "2022-10-27T15:38:16.359Z"
   },
   {
    "duration": 9,
    "start_time": "2022-10-27T15:38:16.365Z"
   },
   {
    "duration": 2175,
    "start_time": "2022-10-27T15:38:16.377Z"
   },
   {
    "duration": 8,
    "start_time": "2022-10-27T15:38:18.553Z"
   },
   {
    "duration": 21,
    "start_time": "2022-10-27T15:38:18.563Z"
   },
   {
    "duration": 16,
    "start_time": "2022-10-27T15:38:18.586Z"
   },
   {
    "duration": 26,
    "start_time": "2022-10-27T15:38:18.604Z"
   },
   {
    "duration": 4,
    "start_time": "2022-10-27T15:38:18.632Z"
   },
   {
    "duration": 13,
    "start_time": "2022-10-27T15:38:18.637Z"
   },
   {
    "duration": 45,
    "start_time": "2022-10-27T15:38:18.652Z"
   },
   {
    "duration": 4,
    "start_time": "2022-10-27T15:38:18.698Z"
   },
   {
    "duration": 2230,
    "start_time": "2022-10-27T15:38:18.704Z"
   },
   {
    "duration": 6602,
    "start_time": "2022-10-27T15:38:20.941Z"
   },
   {
    "duration": 1476,
    "start_time": "2022-10-27T15:39:03.588Z"
   },
   {
    "duration": 372,
    "start_time": "2022-10-27T15:39:05.066Z"
   },
   {
    "duration": 262,
    "start_time": "2022-10-27T15:39:05.440Z"
   },
   {
    "duration": 89,
    "start_time": "2022-10-27T15:39:05.704Z"
   },
   {
    "duration": 4,
    "start_time": "2022-10-27T15:39:05.794Z"
   },
   {
    "duration": 7,
    "start_time": "2022-10-27T15:39:05.799Z"
   },
   {
    "duration": 5,
    "start_time": "2022-10-27T15:39:05.808Z"
   },
   {
    "duration": 16,
    "start_time": "2022-10-27T15:39:05.814Z"
   },
   {
    "duration": 5,
    "start_time": "2022-10-27T15:39:05.831Z"
   },
   {
    "duration": 42,
    "start_time": "2022-10-27T15:39:05.838Z"
   },
   {
    "duration": 56,
    "start_time": "2022-10-27T15:39:05.881Z"
   },
   {
    "duration": 26,
    "start_time": "2022-10-27T15:39:05.938Z"
   },
   {
    "duration": 23,
    "start_time": "2022-10-27T15:39:05.966Z"
   },
   {
    "duration": 118,
    "start_time": "2022-10-27T15:39:05.991Z"
   },
   {
    "duration": 143,
    "start_time": "2022-10-27T15:39:06.110Z"
   },
   {
    "duration": 8,
    "start_time": "2022-10-27T15:39:06.255Z"
   },
   {
    "duration": 5,
    "start_time": "2022-10-27T15:39:06.264Z"
   },
   {
    "duration": 7,
    "start_time": "2022-10-27T15:39:06.270Z"
   },
   {
    "duration": 7,
    "start_time": "2022-10-27T15:39:06.279Z"
   },
   {
    "duration": 7,
    "start_time": "2022-10-27T15:39:06.289Z"
   },
   {
    "duration": 1338,
    "start_time": "2022-10-27T15:39:06.330Z"
   },
   {
    "duration": 321,
    "start_time": "2022-10-27T15:39:07.670Z"
   },
   {
    "duration": 0,
    "start_time": "2022-10-27T15:39:07.993Z"
   },
   {
    "duration": 0,
    "start_time": "2022-10-27T15:39:07.994Z"
   },
   {
    "duration": 0,
    "start_time": "2022-10-27T15:39:07.995Z"
   },
   {
    "duration": 0,
    "start_time": "2022-10-27T15:39:07.996Z"
   },
   {
    "duration": 0,
    "start_time": "2022-10-27T15:39:07.997Z"
   },
   {
    "duration": 0,
    "start_time": "2022-10-27T15:39:07.998Z"
   },
   {
    "duration": 0,
    "start_time": "2022-10-27T15:39:07.999Z"
   },
   {
    "duration": 0,
    "start_time": "2022-10-27T15:39:08.000Z"
   },
   {
    "duration": 0,
    "start_time": "2022-10-27T15:39:08.001Z"
   },
   {
    "duration": 0,
    "start_time": "2022-10-27T15:39:08.002Z"
   },
   {
    "duration": 0,
    "start_time": "2022-10-27T15:39:08.002Z"
   },
   {
    "duration": 0,
    "start_time": "2022-10-27T15:39:08.004Z"
   },
   {
    "duration": 0,
    "start_time": "2022-10-27T15:39:08.004Z"
   },
   {
    "duration": 1,
    "start_time": "2022-10-27T15:39:08.029Z"
   },
   {
    "duration": 0,
    "start_time": "2022-10-27T15:39:08.031Z"
   },
   {
    "duration": 0,
    "start_time": "2022-10-27T15:39:08.032Z"
   },
   {
    "duration": 0,
    "start_time": "2022-10-27T15:39:08.033Z"
   },
   {
    "duration": 0,
    "start_time": "2022-10-27T15:39:08.034Z"
   },
   {
    "duration": 0,
    "start_time": "2022-10-27T15:39:08.035Z"
   },
   {
    "duration": 317,
    "start_time": "2022-10-27T15:39:25.050Z"
   },
   {
    "duration": 1071,
    "start_time": "2022-10-27T15:39:57.115Z"
   },
   {
    "duration": 960,
    "start_time": "2022-10-27T15:40:20.447Z"
   },
   {
    "duration": 722,
    "start_time": "2022-10-27T15:40:38.806Z"
   },
   {
    "duration": 894,
    "start_time": "2022-10-27T15:40:58.637Z"
   },
   {
    "duration": 761,
    "start_time": "2022-10-27T15:41:28.164Z"
   },
   {
    "duration": 719,
    "start_time": "2022-10-27T15:42:35.528Z"
   },
   {
    "duration": 926,
    "start_time": "2022-10-27T15:45:12.863Z"
   },
   {
    "duration": 781,
    "start_time": "2022-10-27T15:45:24.650Z"
   },
   {
    "duration": 675,
    "start_time": "2022-10-27T15:45:32.466Z"
   },
   {
    "duration": 650,
    "start_time": "2022-10-27T15:45:40.333Z"
   },
   {
    "duration": 833,
    "start_time": "2022-10-27T15:46:04.442Z"
   },
   {
    "duration": 738,
    "start_time": "2022-10-27T15:46:14.664Z"
   },
   {
    "duration": 768,
    "start_time": "2022-10-27T15:46:21.740Z"
   },
   {
    "duration": 725,
    "start_time": "2022-10-27T15:47:15.181Z"
   },
   {
    "duration": 950,
    "start_time": "2022-10-27T15:47:28.054Z"
   },
   {
    "duration": 776,
    "start_time": "2022-10-27T15:50:06.681Z"
   },
   {
    "duration": 767,
    "start_time": "2022-10-27T15:50:35.625Z"
   },
   {
    "duration": 1028,
    "start_time": "2022-10-27T15:50:45.746Z"
   },
   {
    "duration": 721,
    "start_time": "2022-10-27T15:51:55.260Z"
   },
   {
    "duration": 770,
    "start_time": "2022-10-27T15:53:13.322Z"
   },
   {
    "duration": 688,
    "start_time": "2022-10-27T15:53:19.661Z"
   },
   {
    "duration": 873,
    "start_time": "2022-10-27T15:53:26.027Z"
   },
   {
    "duration": 728,
    "start_time": "2022-10-27T15:53:29.115Z"
   },
   {
    "duration": 737,
    "start_time": "2022-10-27T15:53:42.580Z"
   },
   {
    "duration": 755,
    "start_time": "2022-10-27T15:53:51.131Z"
   },
   {
    "duration": 948,
    "start_time": "2022-10-27T15:53:58.016Z"
   },
   {
    "duration": 1451,
    "start_time": "2022-10-27T15:54:54.293Z"
   },
   {
    "duration": 400,
    "start_time": "2022-10-27T15:54:55.746Z"
   },
   {
    "duration": 295,
    "start_time": "2022-10-27T15:54:56.148Z"
   },
   {
    "duration": 99,
    "start_time": "2022-10-27T15:54:56.445Z"
   },
   {
    "duration": 4,
    "start_time": "2022-10-27T15:54:56.545Z"
   },
   {
    "duration": 8,
    "start_time": "2022-10-27T15:54:56.550Z"
   },
   {
    "duration": 5,
    "start_time": "2022-10-27T15:54:56.560Z"
   },
   {
    "duration": 5,
    "start_time": "2022-10-27T15:54:56.567Z"
   },
   {
    "duration": 5,
    "start_time": "2022-10-27T15:54:56.574Z"
   },
   {
    "duration": 70,
    "start_time": "2022-10-27T15:54:56.581Z"
   },
   {
    "duration": 40,
    "start_time": "2022-10-27T15:54:56.653Z"
   },
   {
    "duration": 43,
    "start_time": "2022-10-27T15:54:56.695Z"
   },
   {
    "duration": 29,
    "start_time": "2022-10-27T15:54:56.740Z"
   },
   {
    "duration": 121,
    "start_time": "2022-10-27T15:54:56.771Z"
   },
   {
    "duration": 139,
    "start_time": "2022-10-27T15:54:56.893Z"
   },
   {
    "duration": 8,
    "start_time": "2022-10-27T15:54:57.034Z"
   },
   {
    "duration": 7,
    "start_time": "2022-10-27T15:54:57.043Z"
   },
   {
    "duration": 5,
    "start_time": "2022-10-27T15:54:57.051Z"
   },
   {
    "duration": 12,
    "start_time": "2022-10-27T15:54:57.057Z"
   },
   {
    "duration": 5,
    "start_time": "2022-10-27T15:54:57.071Z"
   },
   {
    "duration": 1478,
    "start_time": "2022-10-27T15:54:57.077Z"
   },
   {
    "duration": 812,
    "start_time": "2022-10-27T15:54:58.557Z"
   },
   {
    "duration": 792,
    "start_time": "2022-10-27T15:54:59.372Z"
   },
   {
    "duration": 5,
    "start_time": "2022-10-27T15:55:00.166Z"
   },
   {
    "duration": 28,
    "start_time": "2022-10-27T15:55:00.172Z"
   },
   {
    "duration": 26,
    "start_time": "2022-10-27T15:55:00.202Z"
   },
   {
    "duration": 20,
    "start_time": "2022-10-27T15:55:00.230Z"
   },
   {
    "duration": 2065,
    "start_time": "2022-10-27T15:55:00.253Z"
   },
   {
    "duration": 12,
    "start_time": "2022-10-27T15:55:02.320Z"
   },
   {
    "duration": 20,
    "start_time": "2022-10-27T15:55:02.334Z"
   },
   {
    "duration": 14,
    "start_time": "2022-10-27T15:55:02.356Z"
   },
   {
    "duration": 13,
    "start_time": "2022-10-27T15:55:02.372Z"
   },
   {
    "duration": 4,
    "start_time": "2022-10-27T15:55:02.387Z"
   },
   {
    "duration": 41,
    "start_time": "2022-10-27T15:55:02.392Z"
   },
   {
    "duration": 38,
    "start_time": "2022-10-27T15:55:02.434Z"
   },
   {
    "duration": 3,
    "start_time": "2022-10-27T15:55:02.474Z"
   },
   {
    "duration": 2450,
    "start_time": "2022-10-27T15:55:02.479Z"
   },
   {
    "duration": 6473,
    "start_time": "2022-10-27T15:55:04.931Z"
   },
   {
    "duration": 52,
    "start_time": "2022-10-27T16:06:20.568Z"
   },
   {
    "duration": 77,
    "start_time": "2022-10-27T16:07:11.391Z"
   },
   {
    "duration": 83,
    "start_time": "2022-10-27T16:07:54.124Z"
   },
   {
    "duration": 8,
    "start_time": "2022-10-27T16:08:09.664Z"
   },
   {
    "duration": 8,
    "start_time": "2022-10-27T16:08:26.007Z"
   },
   {
    "duration": 8,
    "start_time": "2022-10-27T16:08:55.429Z"
   },
   {
    "duration": 8,
    "start_time": "2022-10-27T16:09:22.454Z"
   },
   {
    "duration": 8,
    "start_time": "2022-10-27T16:09:35.502Z"
   },
   {
    "duration": 11,
    "start_time": "2022-10-27T16:11:58.083Z"
   },
   {
    "duration": 7,
    "start_time": "2022-10-27T16:12:03.798Z"
   },
   {
    "duration": 7,
    "start_time": "2022-10-27T16:12:49.495Z"
   },
   {
    "duration": 7,
    "start_time": "2022-10-27T16:12:58.040Z"
   },
   {
    "duration": 1395,
    "start_time": "2022-10-27T16:13:02.472Z"
   },
   {
    "duration": 413,
    "start_time": "2022-10-27T16:13:03.869Z"
   },
   {
    "duration": 302,
    "start_time": "2022-10-27T16:13:04.283Z"
   },
   {
    "duration": 96,
    "start_time": "2022-10-27T16:13:04.588Z"
   },
   {
    "duration": 4,
    "start_time": "2022-10-27T16:13:04.685Z"
   },
   {
    "duration": 9,
    "start_time": "2022-10-27T16:13:04.690Z"
   },
   {
    "duration": 5,
    "start_time": "2022-10-27T16:13:04.701Z"
   },
   {
    "duration": 5,
    "start_time": "2022-10-27T16:13:04.708Z"
   },
   {
    "duration": 4,
    "start_time": "2022-10-27T16:13:04.730Z"
   },
   {
    "duration": 47,
    "start_time": "2022-10-27T16:13:04.736Z"
   },
   {
    "duration": 56,
    "start_time": "2022-10-27T16:13:04.784Z"
   },
   {
    "duration": 28,
    "start_time": "2022-10-27T16:13:04.841Z"
   },
   {
    "duration": 25,
    "start_time": "2022-10-27T16:13:04.870Z"
   },
   {
    "duration": 123,
    "start_time": "2022-10-27T16:13:04.897Z"
   },
   {
    "duration": 131,
    "start_time": "2022-10-27T16:13:05.021Z"
   },
   {
    "duration": 7,
    "start_time": "2022-10-27T16:13:05.154Z"
   },
   {
    "duration": 5,
    "start_time": "2022-10-27T16:13:05.163Z"
   },
   {
    "duration": 6,
    "start_time": "2022-10-27T16:13:05.169Z"
   },
   {
    "duration": 5,
    "start_time": "2022-10-27T16:13:05.177Z"
   },
   {
    "duration": 5,
    "start_time": "2022-10-27T16:13:05.184Z"
   },
   {
    "duration": 1417,
    "start_time": "2022-10-27T16:13:05.191Z"
   },
   {
    "duration": 744,
    "start_time": "2022-10-27T16:13:06.610Z"
   },
   {
    "duration": 709,
    "start_time": "2022-10-27T16:13:07.356Z"
   },
   {
    "duration": 5,
    "start_time": "2022-10-27T16:13:08.066Z"
   },
   {
    "duration": 21,
    "start_time": "2022-10-27T16:13:08.072Z"
   },
   {
    "duration": 24,
    "start_time": "2022-10-27T16:13:08.095Z"
   },
   {
    "duration": 24,
    "start_time": "2022-10-27T16:13:08.121Z"
   },
   {
    "duration": 2071,
    "start_time": "2022-10-27T16:13:08.148Z"
   },
   {
    "duration": 13,
    "start_time": "2022-10-27T16:13:10.221Z"
   },
   {
    "duration": 23,
    "start_time": "2022-10-27T16:13:10.236Z"
   },
   {
    "duration": 13,
    "start_time": "2022-10-27T16:13:10.261Z"
   },
   {
    "duration": 12,
    "start_time": "2022-10-27T16:13:10.276Z"
   },
   {
    "duration": 3,
    "start_time": "2022-10-27T16:13:10.290Z"
   },
   {
    "duration": 4,
    "start_time": "2022-10-27T16:13:10.295Z"
   },
   {
    "duration": 65,
    "start_time": "2022-10-27T16:13:10.301Z"
   },
   {
    "duration": 2,
    "start_time": "2022-10-27T16:13:10.368Z"
   },
   {
    "duration": 2363,
    "start_time": "2022-10-27T16:13:10.372Z"
   },
   {
    "duration": 27557,
    "start_time": "2022-10-27T16:13:12.737Z"
   },
   {
    "duration": 1462,
    "start_time": "2022-10-27T16:17:40.014Z"
   },
   {
    "duration": 422,
    "start_time": "2022-10-27T16:17:41.478Z"
   },
   {
    "duration": 278,
    "start_time": "2022-10-27T16:17:41.901Z"
   },
   {
    "duration": 96,
    "start_time": "2022-10-27T16:17:42.181Z"
   },
   {
    "duration": 3,
    "start_time": "2022-10-27T16:17:42.279Z"
   },
   {
    "duration": 9,
    "start_time": "2022-10-27T16:17:42.284Z"
   },
   {
    "duration": 6,
    "start_time": "2022-10-27T16:17:42.294Z"
   },
   {
    "duration": 6,
    "start_time": "2022-10-27T16:17:42.302Z"
   },
   {
    "duration": 22,
    "start_time": "2022-10-27T16:17:42.309Z"
   },
   {
    "duration": 47,
    "start_time": "2022-10-27T16:17:42.334Z"
   },
   {
    "duration": 56,
    "start_time": "2022-10-27T16:17:42.382Z"
   },
   {
    "duration": 29,
    "start_time": "2022-10-27T16:17:42.441Z"
   },
   {
    "duration": 34,
    "start_time": "2022-10-27T16:17:42.472Z"
   },
   {
    "duration": 125,
    "start_time": "2022-10-27T16:17:42.508Z"
   },
   {
    "duration": 139,
    "start_time": "2022-10-27T16:17:42.635Z"
   },
   {
    "duration": 9,
    "start_time": "2022-10-27T16:17:42.776Z"
   },
   {
    "duration": 6,
    "start_time": "2022-10-27T16:17:42.787Z"
   },
   {
    "duration": 6,
    "start_time": "2022-10-27T16:17:42.794Z"
   },
   {
    "duration": 32,
    "start_time": "2022-10-27T16:17:42.802Z"
   },
   {
    "duration": 6,
    "start_time": "2022-10-27T16:17:42.836Z"
   },
   {
    "duration": 1323,
    "start_time": "2022-10-27T16:17:42.843Z"
   },
   {
    "duration": 804,
    "start_time": "2022-10-27T16:17:44.168Z"
   },
   {
    "duration": 794,
    "start_time": "2022-10-27T16:17:44.973Z"
   },
   {
    "duration": 5,
    "start_time": "2022-10-27T16:17:45.769Z"
   },
   {
    "duration": 7,
    "start_time": "2022-10-27T16:17:45.775Z"
   },
   {
    "duration": 4,
    "start_time": "2022-10-27T16:17:45.784Z"
   },
   {
    "duration": 7,
    "start_time": "2022-10-27T16:17:45.790Z"
   },
   {
    "duration": 2128,
    "start_time": "2022-10-27T16:17:45.800Z"
   },
   {
    "duration": 10,
    "start_time": "2022-10-27T16:17:47.930Z"
   },
   {
    "duration": 21,
    "start_time": "2022-10-27T16:17:47.941Z"
   },
   {
    "duration": 14,
    "start_time": "2022-10-27T16:17:47.963Z"
   },
   {
    "duration": 13,
    "start_time": "2022-10-27T16:17:47.978Z"
   },
   {
    "duration": 3,
    "start_time": "2022-10-27T16:17:47.993Z"
   },
   {
    "duration": 32,
    "start_time": "2022-10-27T16:17:47.998Z"
   },
   {
    "duration": 35,
    "start_time": "2022-10-27T16:17:48.032Z"
   },
   {
    "duration": 3,
    "start_time": "2022-10-27T16:17:48.069Z"
   },
   {
    "duration": 2357,
    "start_time": "2022-10-27T16:17:48.074Z"
   },
   {
    "duration": 65318,
    "start_time": "2022-10-27T16:17:50.433Z"
   },
   {
    "duration": 1402,
    "start_time": "2022-10-27T16:24:21.995Z"
   },
   {
    "duration": 433,
    "start_time": "2022-10-27T16:24:23.398Z"
   },
   {
    "duration": 313,
    "start_time": "2022-10-27T16:24:23.840Z"
   },
   {
    "duration": 105,
    "start_time": "2022-10-27T16:24:24.156Z"
   },
   {
    "duration": 4,
    "start_time": "2022-10-27T16:24:24.262Z"
   },
   {
    "duration": 32,
    "start_time": "2022-10-27T16:24:24.267Z"
   },
   {
    "duration": 10,
    "start_time": "2022-10-27T16:24:24.300Z"
   },
   {
    "duration": 15,
    "start_time": "2022-10-27T16:24:24.312Z"
   },
   {
    "duration": 9,
    "start_time": "2022-10-27T16:24:24.335Z"
   },
   {
    "duration": 66,
    "start_time": "2022-10-27T16:24:24.347Z"
   },
   {
    "duration": 46,
    "start_time": "2022-10-27T16:24:24.415Z"
   },
   {
    "duration": 29,
    "start_time": "2022-10-27T16:24:24.463Z"
   },
   {
    "duration": 33,
    "start_time": "2022-10-27T16:24:24.494Z"
   },
   {
    "duration": 119,
    "start_time": "2022-10-27T16:24:24.532Z"
   },
   {
    "duration": 140,
    "start_time": "2022-10-27T16:24:24.653Z"
   },
   {
    "duration": 8,
    "start_time": "2022-10-27T16:24:24.795Z"
   },
   {
    "duration": 20,
    "start_time": "2022-10-27T16:24:24.805Z"
   },
   {
    "duration": 31,
    "start_time": "2022-10-27T16:24:24.829Z"
   },
   {
    "duration": 29,
    "start_time": "2022-10-27T16:24:24.861Z"
   },
   {
    "duration": 28,
    "start_time": "2022-10-27T16:24:24.892Z"
   },
   {
    "duration": 1434,
    "start_time": "2022-10-27T16:24:24.922Z"
   },
   {
    "duration": 740,
    "start_time": "2022-10-27T16:24:26.357Z"
   },
   {
    "duration": 812,
    "start_time": "2022-10-27T16:24:27.099Z"
   },
   {
    "duration": 5,
    "start_time": "2022-10-27T16:24:27.912Z"
   },
   {
    "duration": 26,
    "start_time": "2022-10-27T16:24:27.918Z"
   },
   {
    "duration": 9,
    "start_time": "2022-10-27T16:24:27.946Z"
   },
   {
    "duration": 21,
    "start_time": "2022-10-27T16:24:27.957Z"
   },
   {
    "duration": 2185,
    "start_time": "2022-10-27T16:24:27.981Z"
   },
   {
    "duration": 9,
    "start_time": "2022-10-27T16:24:30.168Z"
   },
   {
    "duration": 23,
    "start_time": "2022-10-27T16:24:30.179Z"
   },
   {
    "duration": 33,
    "start_time": "2022-10-27T16:24:30.204Z"
   },
   {
    "duration": 13,
    "start_time": "2022-10-27T16:24:30.243Z"
   },
   {
    "duration": 22,
    "start_time": "2022-10-27T16:24:30.258Z"
   },
   {
    "duration": 23,
    "start_time": "2022-10-27T16:24:30.282Z"
   },
   {
    "duration": 71,
    "start_time": "2022-10-27T16:24:30.307Z"
   },
   {
    "duration": 35,
    "start_time": "2022-10-27T16:24:30.380Z"
   },
   {
    "duration": 3919,
    "start_time": "2022-10-27T16:24:30.417Z"
   },
   {
    "duration": 133,
    "start_time": "2022-10-27T16:24:34.339Z"
   },
   {
    "duration": 0,
    "start_time": "2022-10-27T16:24:34.474Z"
   },
   {
    "duration": 0,
    "start_time": "2022-10-27T16:24:34.475Z"
   },
   {
    "duration": 0,
    "start_time": "2022-10-27T16:24:34.476Z"
   },
   {
    "duration": 73,
    "start_time": "2022-10-27T16:24:49.159Z"
   },
   {
    "duration": 40994,
    "start_time": "2022-10-27T16:26:02.259Z"
   },
   {
    "duration": 121,
    "start_time": "2022-10-27T16:27:50.630Z"
   },
   {
    "duration": 11,
    "start_time": "2022-10-27T16:27:59.218Z"
   },
   {
    "duration": 11,
    "start_time": "2022-10-27T16:28:40.290Z"
   },
   {
    "duration": 12,
    "start_time": "2022-10-27T16:28:54.434Z"
   },
   {
    "duration": 10,
    "start_time": "2022-10-27T16:29:37.381Z"
   },
   {
    "duration": 10,
    "start_time": "2022-10-27T16:29:42.626Z"
   },
   {
    "duration": 718,
    "start_time": "2022-10-27T16:30:24.253Z"
   },
   {
    "duration": 6294,
    "start_time": "2022-10-27T16:30:54.671Z"
   },
   {
    "duration": 6262,
    "start_time": "2022-10-27T16:31:11.324Z"
   },
   {
    "duration": 12,
    "start_time": "2022-10-27T16:33:08.774Z"
   },
   {
    "duration": 17,
    "start_time": "2022-10-27T16:33:26.241Z"
   },
   {
    "duration": 11,
    "start_time": "2022-10-27T16:33:47.108Z"
   },
   {
    "duration": 1501,
    "start_time": "2022-10-27T16:34:19.542Z"
   },
   {
    "duration": 423,
    "start_time": "2022-10-27T16:34:21.046Z"
   },
   {
    "duration": 302,
    "start_time": "2022-10-27T16:34:21.471Z"
   },
   {
    "duration": 101,
    "start_time": "2022-10-27T16:34:21.776Z"
   },
   {
    "duration": 3,
    "start_time": "2022-10-27T16:34:21.879Z"
   },
   {
    "duration": 21,
    "start_time": "2022-10-27T16:34:21.884Z"
   },
   {
    "duration": 39,
    "start_time": "2022-10-27T16:34:21.906Z"
   },
   {
    "duration": 22,
    "start_time": "2022-10-27T16:34:21.946Z"
   },
   {
    "duration": 24,
    "start_time": "2022-10-27T16:34:21.969Z"
   },
   {
    "duration": 60,
    "start_time": "2022-10-27T16:34:21.995Z"
   },
   {
    "duration": 45,
    "start_time": "2022-10-27T16:34:22.057Z"
   },
   {
    "duration": 35,
    "start_time": "2022-10-27T16:34:22.104Z"
   },
   {
    "duration": 28,
    "start_time": "2022-10-27T16:34:22.141Z"
   },
   {
    "duration": 116,
    "start_time": "2022-10-27T16:34:22.171Z"
   },
   {
    "duration": 146,
    "start_time": "2022-10-27T16:34:22.289Z"
   },
   {
    "duration": 9,
    "start_time": "2022-10-27T16:34:22.442Z"
   },
   {
    "duration": 19,
    "start_time": "2022-10-27T16:34:22.452Z"
   },
   {
    "duration": 33,
    "start_time": "2022-10-27T16:34:22.472Z"
   },
   {
    "duration": 49,
    "start_time": "2022-10-27T16:34:22.507Z"
   },
   {
    "duration": 44,
    "start_time": "2022-10-27T16:34:22.558Z"
   },
   {
    "duration": 1361,
    "start_time": "2022-10-27T16:34:22.604Z"
   },
   {
    "duration": 874,
    "start_time": "2022-10-27T16:34:23.966Z"
   },
   {
    "duration": 751,
    "start_time": "2022-10-27T16:34:24.842Z"
   },
   {
    "duration": 5,
    "start_time": "2022-10-27T16:34:25.594Z"
   },
   {
    "duration": 27,
    "start_time": "2022-10-27T16:34:25.600Z"
   },
   {
    "duration": 24,
    "start_time": "2022-10-27T16:34:25.634Z"
   },
   {
    "duration": 38,
    "start_time": "2022-10-27T16:34:25.660Z"
   },
   {
    "duration": 2246,
    "start_time": "2022-10-27T16:34:25.702Z"
   },
   {
    "duration": 8,
    "start_time": "2022-10-27T16:34:27.950Z"
   },
   {
    "duration": 47,
    "start_time": "2022-10-27T16:34:27.959Z"
   },
   {
    "duration": 42,
    "start_time": "2022-10-27T16:34:28.007Z"
   },
   {
    "duration": 20,
    "start_time": "2022-10-27T16:34:28.051Z"
   },
   {
    "duration": 36,
    "start_time": "2022-10-27T16:34:28.073Z"
   },
   {
    "duration": 33,
    "start_time": "2022-10-27T16:34:28.110Z"
   },
   {
    "duration": 64,
    "start_time": "2022-10-27T16:34:28.145Z"
   },
   {
    "duration": 33,
    "start_time": "2022-10-27T16:34:28.211Z"
   },
   {
    "duration": 3290,
    "start_time": "2022-10-27T16:34:28.249Z"
   },
   {
    "duration": 40845,
    "start_time": "2022-10-27T16:34:31.541Z"
   },
   {
    "duration": 1453,
    "start_time": "2022-10-27T16:39:55.064Z"
   },
   {
    "duration": 425,
    "start_time": "2022-10-27T16:39:56.519Z"
   },
   {
    "duration": 299,
    "start_time": "2022-10-27T16:39:56.946Z"
   },
   {
    "duration": 96,
    "start_time": "2022-10-27T16:39:57.248Z"
   },
   {
    "duration": 4,
    "start_time": "2022-10-27T16:39:57.345Z"
   },
   {
    "duration": 8,
    "start_time": "2022-10-27T16:39:57.350Z"
   },
   {
    "duration": 6,
    "start_time": "2022-10-27T16:39:57.359Z"
   },
   {
    "duration": 10,
    "start_time": "2022-10-27T16:39:57.367Z"
   },
   {
    "duration": 5,
    "start_time": "2022-10-27T16:39:57.378Z"
   },
   {
    "duration": 63,
    "start_time": "2022-10-27T16:39:57.386Z"
   },
   {
    "duration": 38,
    "start_time": "2022-10-27T16:39:57.451Z"
   },
   {
    "duration": 50,
    "start_time": "2022-10-27T16:39:57.490Z"
   },
   {
    "duration": 24,
    "start_time": "2022-10-27T16:39:57.542Z"
   },
   {
    "duration": 102,
    "start_time": "2022-10-27T16:39:57.568Z"
   },
   {
    "duration": 128,
    "start_time": "2022-10-27T16:39:57.672Z"
   },
   {
    "duration": 6,
    "start_time": "2022-10-27T16:39:57.802Z"
   },
   {
    "duration": 5,
    "start_time": "2022-10-27T16:39:57.810Z"
   },
   {
    "duration": 28,
    "start_time": "2022-10-27T16:39:57.816Z"
   },
   {
    "duration": 14,
    "start_time": "2022-10-27T16:39:57.845Z"
   },
   {
    "duration": 16,
    "start_time": "2022-10-27T16:39:57.861Z"
   },
   {
    "duration": 1445,
    "start_time": "2022-10-27T16:39:57.878Z"
   },
   {
    "duration": 738,
    "start_time": "2022-10-27T16:39:59.329Z"
   },
   {
    "duration": 827,
    "start_time": "2022-10-27T16:40:00.068Z"
   },
   {
    "duration": 6,
    "start_time": "2022-10-27T16:40:00.896Z"
   },
   {
    "duration": 37,
    "start_time": "2022-10-27T16:40:00.903Z"
   },
   {
    "duration": 46,
    "start_time": "2022-10-27T16:40:00.942Z"
   },
   {
    "duration": 38,
    "start_time": "2022-10-27T16:40:00.989Z"
   },
   {
    "duration": 2190,
    "start_time": "2022-10-27T16:40:01.035Z"
   },
   {
    "duration": 18,
    "start_time": "2022-10-27T16:40:03.227Z"
   },
   {
    "duration": 15,
    "start_time": "2022-10-27T16:40:03.247Z"
   },
   {
    "duration": 12,
    "start_time": "2022-10-27T16:40:03.264Z"
   },
   {
    "duration": 11,
    "start_time": "2022-10-27T16:40:03.278Z"
   },
   {
    "duration": 3,
    "start_time": "2022-10-27T16:40:03.291Z"
   },
   {
    "duration": 4,
    "start_time": "2022-10-27T16:40:03.295Z"
   },
   {
    "duration": 67,
    "start_time": "2022-10-27T16:40:03.301Z"
   },
   {
    "duration": 3,
    "start_time": "2022-10-27T16:40:03.369Z"
   },
   {
    "duration": 2786,
    "start_time": "2022-10-27T16:40:03.373Z"
   },
   {
    "duration": 572,
    "start_time": "2022-10-27T16:40:06.233Z"
   },
   {
    "duration": 0,
    "start_time": "2022-10-27T16:40:06.807Z"
   },
   {
    "duration": 0,
    "start_time": "2022-10-27T16:40:06.809Z"
   },
   {
    "duration": 0,
    "start_time": "2022-10-27T16:40:06.810Z"
   },
   {
    "duration": 0,
    "start_time": "2022-10-27T16:40:06.811Z"
   },
   {
    "duration": 19459,
    "start_time": "2022-10-27T16:40:37.949Z"
   },
   {
    "duration": 2950,
    "start_time": "2022-10-27T16:41:40.597Z"
   },
   {
    "duration": 12,
    "start_time": "2022-10-27T16:50:18.499Z"
   },
   {
    "duration": 1380,
    "start_time": "2022-10-27T16:51:50.157Z"
   },
   {
    "duration": 391,
    "start_time": "2022-10-27T16:51:51.538Z"
   },
   {
    "duration": 285,
    "start_time": "2022-10-27T16:51:51.931Z"
   },
   {
    "duration": 95,
    "start_time": "2022-10-27T16:51:52.217Z"
   },
   {
    "duration": 3,
    "start_time": "2022-10-27T16:51:52.314Z"
   },
   {
    "duration": 14,
    "start_time": "2022-10-27T16:51:52.319Z"
   },
   {
    "duration": 7,
    "start_time": "2022-10-27T16:51:52.335Z"
   },
   {
    "duration": 5,
    "start_time": "2022-10-27T16:51:52.344Z"
   },
   {
    "duration": 4,
    "start_time": "2022-10-27T16:51:52.351Z"
   },
   {
    "duration": 75,
    "start_time": "2022-10-27T16:51:52.357Z"
   },
   {
    "duration": 39,
    "start_time": "2022-10-27T16:51:52.433Z"
   },
   {
    "duration": 27,
    "start_time": "2022-10-27T16:51:52.474Z"
   },
   {
    "duration": 45,
    "start_time": "2022-10-27T16:51:52.502Z"
   },
   {
    "duration": 105,
    "start_time": "2022-10-27T16:51:52.550Z"
   },
   {
    "duration": 134,
    "start_time": "2022-10-27T16:51:52.657Z"
   },
   {
    "duration": 8,
    "start_time": "2022-10-27T16:51:52.792Z"
   },
   {
    "duration": 5,
    "start_time": "2022-10-27T16:51:52.801Z"
   },
   {
    "duration": 24,
    "start_time": "2022-10-27T16:51:52.807Z"
   },
   {
    "duration": 5,
    "start_time": "2022-10-27T16:51:52.833Z"
   },
   {
    "duration": 6,
    "start_time": "2022-10-27T16:51:52.839Z"
   },
   {
    "duration": 1293,
    "start_time": "2022-10-27T16:51:52.847Z"
   },
   {
    "duration": 727,
    "start_time": "2022-10-27T16:51:54.142Z"
   },
   {
    "duration": 787,
    "start_time": "2022-10-27T16:51:54.871Z"
   },
   {
    "duration": 4,
    "start_time": "2022-10-27T16:51:55.660Z"
   },
   {
    "duration": 5,
    "start_time": "2022-10-27T16:51:55.666Z"
   },
   {
    "duration": 4,
    "start_time": "2022-10-27T16:51:55.673Z"
   },
   {
    "duration": 4,
    "start_time": "2022-10-27T16:51:55.679Z"
   },
   {
    "duration": 2128,
    "start_time": "2022-10-27T16:51:55.684Z"
   },
   {
    "duration": 16,
    "start_time": "2022-10-27T16:51:57.814Z"
   },
   {
    "duration": 15,
    "start_time": "2022-10-27T16:51:57.832Z"
   },
   {
    "duration": 14,
    "start_time": "2022-10-27T16:51:57.848Z"
   },
   {
    "duration": 12,
    "start_time": "2022-10-27T16:51:57.864Z"
   },
   {
    "duration": 3,
    "start_time": "2022-10-27T16:51:57.878Z"
   },
   {
    "duration": 6,
    "start_time": "2022-10-27T16:51:57.882Z"
   },
   {
    "duration": 61,
    "start_time": "2022-10-27T16:51:57.889Z"
   },
   {
    "duration": 3,
    "start_time": "2022-10-27T16:51:57.952Z"
   },
   {
    "duration": 2074,
    "start_time": "2022-10-27T16:51:57.956Z"
   },
   {
    "duration": 1458,
    "start_time": "2022-10-27T16:52:17.343Z"
   },
   {
    "duration": 390,
    "start_time": "2022-10-27T16:52:18.803Z"
   },
   {
    "duration": 289,
    "start_time": "2022-10-27T16:52:19.195Z"
   },
   {
    "duration": 97,
    "start_time": "2022-10-27T16:52:19.486Z"
   },
   {
    "duration": 3,
    "start_time": "2022-10-27T16:52:19.585Z"
   },
   {
    "duration": 7,
    "start_time": "2022-10-27T16:52:19.590Z"
   },
   {
    "duration": 6,
    "start_time": "2022-10-27T16:52:19.598Z"
   },
   {
    "duration": 4,
    "start_time": "2022-10-27T16:52:19.605Z"
   },
   {
    "duration": 20,
    "start_time": "2022-10-27T16:52:19.611Z"
   },
   {
    "duration": 44,
    "start_time": "2022-10-27T16:52:19.635Z"
   },
   {
    "duration": 59,
    "start_time": "2022-10-27T16:52:19.681Z"
   },
   {
    "duration": 27,
    "start_time": "2022-10-27T16:52:19.741Z"
   },
   {
    "duration": 26,
    "start_time": "2022-10-27T16:52:19.770Z"
   },
   {
    "duration": 131,
    "start_time": "2022-10-27T16:52:19.798Z"
   },
   {
    "duration": 135,
    "start_time": "2022-10-27T16:52:19.931Z"
   },
   {
    "duration": 7,
    "start_time": "2022-10-27T16:52:20.068Z"
   },
   {
    "duration": 5,
    "start_time": "2022-10-27T16:52:20.077Z"
   },
   {
    "duration": 5,
    "start_time": "2022-10-27T16:52:20.083Z"
   },
   {
    "duration": 6,
    "start_time": "2022-10-27T16:52:20.090Z"
   },
   {
    "duration": 32,
    "start_time": "2022-10-27T16:52:20.098Z"
   },
   {
    "duration": 1271,
    "start_time": "2022-10-27T16:52:20.131Z"
   },
   {
    "duration": 752,
    "start_time": "2022-10-27T16:52:21.404Z"
   },
   {
    "duration": 743,
    "start_time": "2022-10-27T16:52:22.158Z"
   },
   {
    "duration": 5,
    "start_time": "2022-10-27T16:52:22.902Z"
   },
   {
    "duration": 6,
    "start_time": "2022-10-27T16:52:22.909Z"
   },
   {
    "duration": 20,
    "start_time": "2022-10-27T16:52:22.917Z"
   },
   {
    "duration": 15,
    "start_time": "2022-10-27T16:52:22.939Z"
   },
   {
    "duration": 2066,
    "start_time": "2022-10-27T16:52:22.958Z"
   },
   {
    "duration": 10,
    "start_time": "2022-10-27T16:52:25.026Z"
   },
   {
    "duration": 17,
    "start_time": "2022-10-27T16:52:25.038Z"
   },
   {
    "duration": 14,
    "start_time": "2022-10-27T16:52:25.057Z"
   },
   {
    "duration": 17,
    "start_time": "2022-10-27T16:52:25.073Z"
   },
   {
    "duration": 4,
    "start_time": "2022-10-27T16:52:25.092Z"
   },
   {
    "duration": 32,
    "start_time": "2022-10-27T16:52:25.098Z"
   },
   {
    "duration": 35,
    "start_time": "2022-10-27T16:52:25.132Z"
   },
   {
    "duration": 3,
    "start_time": "2022-10-27T16:52:25.169Z"
   },
   {
    "duration": 2057,
    "start_time": "2022-10-27T16:52:25.173Z"
   },
   {
    "duration": 18504,
    "start_time": "2022-10-27T16:52:27.232Z"
   },
   {
    "duration": 1431,
    "start_time": "2022-10-27T16:54:04.711Z"
   },
   {
    "duration": 417,
    "start_time": "2022-10-27T16:54:06.144Z"
   },
   {
    "duration": 299,
    "start_time": "2022-10-27T16:54:06.563Z"
   },
   {
    "duration": 103,
    "start_time": "2022-10-27T16:54:06.865Z"
   },
   {
    "duration": 4,
    "start_time": "2022-10-27T16:54:06.970Z"
   },
   {
    "duration": 8,
    "start_time": "2022-10-27T16:54:06.975Z"
   },
   {
    "duration": 6,
    "start_time": "2022-10-27T16:54:06.985Z"
   },
   {
    "duration": 6,
    "start_time": "2022-10-27T16:54:06.992Z"
   },
   {
    "duration": 5,
    "start_time": "2022-10-27T16:54:06.999Z"
   },
   {
    "duration": 47,
    "start_time": "2022-10-27T16:54:07.028Z"
   },
   {
    "duration": 52,
    "start_time": "2022-10-27T16:54:07.077Z"
   },
   {
    "duration": 28,
    "start_time": "2022-10-27T16:54:07.131Z"
   },
   {
    "duration": 24,
    "start_time": "2022-10-27T16:54:07.161Z"
   },
   {
    "duration": 118,
    "start_time": "2022-10-27T16:54:07.187Z"
   },
   {
    "duration": 129,
    "start_time": "2022-10-27T16:54:07.306Z"
   },
   {
    "duration": 8,
    "start_time": "2022-10-27T16:54:07.437Z"
   },
   {
    "duration": 5,
    "start_time": "2022-10-27T16:54:07.446Z"
   },
   {
    "duration": 8,
    "start_time": "2022-10-27T16:54:07.452Z"
   },
   {
    "duration": 5,
    "start_time": "2022-10-27T16:54:07.461Z"
   },
   {
    "duration": 5,
    "start_time": "2022-10-27T16:54:07.468Z"
   },
   {
    "duration": 1389,
    "start_time": "2022-10-27T16:54:07.475Z"
   },
   {
    "duration": 780,
    "start_time": "2022-10-27T16:54:08.866Z"
   },
   {
    "duration": 716,
    "start_time": "2022-10-27T16:54:09.648Z"
   },
   {
    "duration": 5,
    "start_time": "2022-10-27T16:54:10.365Z"
   },
   {
    "duration": 6,
    "start_time": "2022-10-27T16:54:10.372Z"
   },
   {
    "duration": 6,
    "start_time": "2022-10-27T16:54:10.379Z"
   },
   {
    "duration": 7,
    "start_time": "2022-10-27T16:54:10.386Z"
   },
   {
    "duration": 2125,
    "start_time": "2022-10-27T16:54:10.396Z"
   },
   {
    "duration": 9,
    "start_time": "2022-10-27T16:54:12.523Z"
   },
   {
    "duration": 22,
    "start_time": "2022-10-27T16:54:12.534Z"
   },
   {
    "duration": 14,
    "start_time": "2022-10-27T16:54:12.557Z"
   },
   {
    "duration": 14,
    "start_time": "2022-10-27T16:54:12.573Z"
   },
   {
    "duration": 4,
    "start_time": "2022-10-27T16:54:12.588Z"
   },
   {
    "duration": 3,
    "start_time": "2022-10-27T16:54:12.594Z"
   },
   {
    "duration": 34,
    "start_time": "2022-10-27T16:54:12.630Z"
   },
   {
    "duration": 3,
    "start_time": "2022-10-27T16:54:12.666Z"
   },
   {
    "duration": 1866,
    "start_time": "2022-10-27T16:54:12.671Z"
   },
   {
    "duration": 19411,
    "start_time": "2022-10-27T16:54:14.539Z"
   },
   {
    "duration": 73,
    "start_time": "2022-10-27T16:54:33.952Z"
   },
   {
    "duration": 0,
    "start_time": "2022-10-27T16:54:34.027Z"
   },
   {
    "duration": 0,
    "start_time": "2022-10-27T16:54:34.028Z"
   },
   {
    "duration": 1439,
    "start_time": "2022-10-27T16:58:47.152Z"
   },
   {
    "duration": 388,
    "start_time": "2022-10-27T16:58:48.593Z"
   },
   {
    "duration": 280,
    "start_time": "2022-10-27T16:58:48.982Z"
   },
   {
    "duration": 90,
    "start_time": "2022-10-27T16:58:49.264Z"
   },
   {
    "duration": 3,
    "start_time": "2022-10-27T16:58:49.355Z"
   },
   {
    "duration": 8,
    "start_time": "2022-10-27T16:58:49.359Z"
   },
   {
    "duration": 6,
    "start_time": "2022-10-27T16:58:49.368Z"
   },
   {
    "duration": 4,
    "start_time": "2022-10-27T16:58:49.375Z"
   },
   {
    "duration": 4,
    "start_time": "2022-10-27T16:58:49.381Z"
   },
   {
    "duration": 70,
    "start_time": "2022-10-27T16:58:49.387Z"
   },
   {
    "duration": 34,
    "start_time": "2022-10-27T16:58:49.458Z"
   },
   {
    "duration": 38,
    "start_time": "2022-10-27T16:58:49.494Z"
   },
   {
    "duration": 22,
    "start_time": "2022-10-27T16:58:49.535Z"
   },
   {
    "duration": 103,
    "start_time": "2022-10-27T16:58:49.558Z"
   },
   {
    "duration": 128,
    "start_time": "2022-10-27T16:58:49.662Z"
   },
   {
    "duration": 7,
    "start_time": "2022-10-27T16:58:49.791Z"
   },
   {
    "duration": 4,
    "start_time": "2022-10-27T16:58:49.800Z"
   },
   {
    "duration": 25,
    "start_time": "2022-10-27T16:58:49.805Z"
   },
   {
    "duration": 5,
    "start_time": "2022-10-27T16:58:49.831Z"
   },
   {
    "duration": 5,
    "start_time": "2022-10-27T16:58:49.837Z"
   },
   {
    "duration": 1291,
    "start_time": "2022-10-27T16:58:49.843Z"
   },
   {
    "duration": 728,
    "start_time": "2022-10-27T16:58:51.136Z"
   },
   {
    "duration": 796,
    "start_time": "2022-10-27T16:58:51.866Z"
   },
   {
    "duration": 4,
    "start_time": "2022-10-27T16:58:52.664Z"
   },
   {
    "duration": 6,
    "start_time": "2022-10-27T16:58:52.670Z"
   },
   {
    "duration": 5,
    "start_time": "2022-10-27T16:58:52.677Z"
   },
   {
    "duration": 5,
    "start_time": "2022-10-27T16:58:52.683Z"
   },
   {
    "duration": 2238,
    "start_time": "2022-10-27T16:58:52.691Z"
   },
   {
    "duration": 9,
    "start_time": "2022-10-27T16:58:54.931Z"
   },
   {
    "duration": 26,
    "start_time": "2022-10-27T16:58:54.941Z"
   },
   {
    "duration": 13,
    "start_time": "2022-10-27T16:58:54.970Z"
   },
   {
    "duration": 21,
    "start_time": "2022-10-27T16:58:54.984Z"
   },
   {
    "duration": 13,
    "start_time": "2022-10-27T16:58:55.006Z"
   },
   {
    "duration": 15,
    "start_time": "2022-10-27T16:58:55.021Z"
   },
   {
    "duration": 69,
    "start_time": "2022-10-27T16:58:55.038Z"
   },
   {
    "duration": 18,
    "start_time": "2022-10-27T16:58:55.109Z"
   },
   {
    "duration": 1906,
    "start_time": "2022-10-27T16:58:55.129Z"
   },
   {
    "duration": 19127,
    "start_time": "2022-10-27T16:58:57.037Z"
   },
   {
    "duration": 73,
    "start_time": "2022-10-27T16:59:16.165Z"
   },
   {
    "duration": 0,
    "start_time": "2022-10-27T16:59:16.240Z"
   },
   {
    "duration": 0,
    "start_time": "2022-10-27T16:59:16.242Z"
   },
   {
    "duration": 1590,
    "start_time": "2022-10-27T17:01:06.021Z"
   },
   {
    "duration": 439,
    "start_time": "2022-10-27T17:01:07.613Z"
   },
   {
    "duration": 355,
    "start_time": "2022-10-27T17:01:08.055Z"
   },
   {
    "duration": 101,
    "start_time": "2022-10-27T17:01:08.413Z"
   },
   {
    "duration": 4,
    "start_time": "2022-10-27T17:01:08.515Z"
   },
   {
    "duration": 12,
    "start_time": "2022-10-27T17:01:08.520Z"
   },
   {
    "duration": 7,
    "start_time": "2022-10-27T17:01:08.533Z"
   },
   {
    "duration": 6,
    "start_time": "2022-10-27T17:01:08.541Z"
   },
   {
    "duration": 5,
    "start_time": "2022-10-27T17:01:08.549Z"
   },
   {
    "duration": 44,
    "start_time": "2022-10-27T17:01:08.556Z"
   },
   {
    "duration": 68,
    "start_time": "2022-10-27T17:01:08.601Z"
   },
   {
    "duration": 30,
    "start_time": "2022-10-27T17:01:08.672Z"
   },
   {
    "duration": 42,
    "start_time": "2022-10-27T17:01:08.704Z"
   },
   {
    "duration": 113,
    "start_time": "2022-10-27T17:01:08.748Z"
   },
   {
    "duration": 144,
    "start_time": "2022-10-27T17:01:08.863Z"
   },
   {
    "duration": 8,
    "start_time": "2022-10-27T17:01:09.009Z"
   },
   {
    "duration": 5,
    "start_time": "2022-10-27T17:01:09.030Z"
   },
   {
    "duration": 5,
    "start_time": "2022-10-27T17:01:09.037Z"
   },
   {
    "duration": 6,
    "start_time": "2022-10-27T17:01:09.044Z"
   },
   {
    "duration": 8,
    "start_time": "2022-10-27T17:01:09.052Z"
   },
   {
    "duration": 1363,
    "start_time": "2022-10-27T17:01:09.062Z"
   },
   {
    "duration": 749,
    "start_time": "2022-10-27T17:01:10.429Z"
   },
   {
    "duration": 809,
    "start_time": "2022-10-27T17:01:11.179Z"
   },
   {
    "duration": 5,
    "start_time": "2022-10-27T17:01:11.990Z"
   },
   {
    "duration": 6,
    "start_time": "2022-10-27T17:01:11.997Z"
   },
   {
    "duration": 5,
    "start_time": "2022-10-27T17:01:12.004Z"
   },
   {
    "duration": 19,
    "start_time": "2022-10-27T17:01:12.010Z"
   },
   {
    "duration": 2090,
    "start_time": "2022-10-27T17:01:12.033Z"
   },
   {
    "duration": 10,
    "start_time": "2022-10-27T17:01:14.129Z"
   },
   {
    "duration": 20,
    "start_time": "2022-10-27T17:01:14.141Z"
   },
   {
    "duration": 13,
    "start_time": "2022-10-27T17:01:14.164Z"
   },
   {
    "duration": 13,
    "start_time": "2022-10-27T17:01:14.179Z"
   },
   {
    "duration": 3,
    "start_time": "2022-10-27T17:01:14.193Z"
   },
   {
    "duration": 4,
    "start_time": "2022-10-27T17:01:14.198Z"
   },
   {
    "duration": 45,
    "start_time": "2022-10-27T17:01:14.230Z"
   },
   {
    "duration": 3,
    "start_time": "2022-10-27T17:01:14.276Z"
   },
   {
    "duration": 1756,
    "start_time": "2022-10-27T17:01:14.281Z"
   },
   {
    "duration": 19351,
    "start_time": "2022-10-27T17:01:16.130Z"
   },
   {
    "duration": 1485,
    "start_time": "2022-10-27T17:04:21.912Z"
   },
   {
    "duration": 414,
    "start_time": "2022-10-27T17:04:23.399Z"
   },
   {
    "duration": 294,
    "start_time": "2022-10-27T17:04:23.815Z"
   },
   {
    "duration": 98,
    "start_time": "2022-10-27T17:04:24.111Z"
   },
   {
    "duration": 3,
    "start_time": "2022-10-27T17:04:24.211Z"
   },
   {
    "duration": 13,
    "start_time": "2022-10-27T17:04:24.216Z"
   },
   {
    "duration": 6,
    "start_time": "2022-10-27T17:04:24.231Z"
   },
   {
    "duration": 5,
    "start_time": "2022-10-27T17:04:24.239Z"
   },
   {
    "duration": 7,
    "start_time": "2022-10-27T17:04:24.245Z"
   },
   {
    "duration": 45,
    "start_time": "2022-10-27T17:04:24.254Z"
   },
   {
    "duration": 66,
    "start_time": "2022-10-27T17:04:24.301Z"
   },
   {
    "duration": 38,
    "start_time": "2022-10-27T17:04:24.369Z"
   },
   {
    "duration": 52,
    "start_time": "2022-10-27T17:04:24.409Z"
   },
   {
    "duration": 120,
    "start_time": "2022-10-27T17:04:24.464Z"
   },
   {
    "duration": 146,
    "start_time": "2022-10-27T17:04:24.587Z"
   },
   {
    "duration": 9,
    "start_time": "2022-10-27T17:04:24.735Z"
   },
   {
    "duration": 6,
    "start_time": "2022-10-27T17:04:24.745Z"
   },
   {
    "duration": 8,
    "start_time": "2022-10-27T17:04:24.753Z"
   },
   {
    "duration": 5,
    "start_time": "2022-10-27T17:04:24.763Z"
   },
   {
    "duration": 6,
    "start_time": "2022-10-27T17:04:24.769Z"
   },
   {
    "duration": 1396,
    "start_time": "2022-10-27T17:04:24.777Z"
   },
   {
    "duration": 813,
    "start_time": "2022-10-27T17:04:26.175Z"
   },
   {
    "duration": 793,
    "start_time": "2022-10-27T17:04:26.989Z"
   },
   {
    "duration": 5,
    "start_time": "2022-10-27T17:04:27.784Z"
   },
   {
    "duration": 5,
    "start_time": "2022-10-27T17:04:27.791Z"
   },
   {
    "duration": 15,
    "start_time": "2022-10-27T17:04:27.797Z"
   },
   {
    "duration": 16,
    "start_time": "2022-10-27T17:04:27.814Z"
   },
   {
    "duration": 2189,
    "start_time": "2022-10-27T17:04:27.834Z"
   },
   {
    "duration": 9,
    "start_time": "2022-10-27T17:04:30.030Z"
   },
   {
    "duration": 19,
    "start_time": "2022-10-27T17:04:30.041Z"
   },
   {
    "duration": 14,
    "start_time": "2022-10-27T17:04:30.062Z"
   },
   {
    "duration": 17,
    "start_time": "2022-10-27T17:04:30.078Z"
   },
   {
    "duration": 8,
    "start_time": "2022-10-27T17:04:30.096Z"
   },
   {
    "duration": 15,
    "start_time": "2022-10-27T17:04:30.106Z"
   },
   {
    "duration": 47,
    "start_time": "2022-10-27T17:04:30.130Z"
   },
   {
    "duration": 7,
    "start_time": "2022-10-27T17:04:30.179Z"
   },
   {
    "duration": 2646,
    "start_time": "2022-10-27T17:04:30.188Z"
   },
   {
    "duration": 19243,
    "start_time": "2022-10-27T17:04:32.837Z"
   },
   {
    "duration": 1465,
    "start_time": "2022-10-27T17:09:05.215Z"
   },
   {
    "duration": 416,
    "start_time": "2022-10-27T17:09:06.682Z"
   },
   {
    "duration": 285,
    "start_time": "2022-10-27T17:09:07.100Z"
   },
   {
    "duration": 98,
    "start_time": "2022-10-27T17:09:07.387Z"
   },
   {
    "duration": 3,
    "start_time": "2022-10-27T17:09:07.487Z"
   },
   {
    "duration": 34,
    "start_time": "2022-10-27T17:09:07.492Z"
   },
   {
    "duration": 20,
    "start_time": "2022-10-27T17:09:07.528Z"
   },
   {
    "duration": 26,
    "start_time": "2022-10-27T17:09:07.549Z"
   },
   {
    "duration": 21,
    "start_time": "2022-10-27T17:09:07.577Z"
   },
   {
    "duration": 53,
    "start_time": "2022-10-27T17:09:07.602Z"
   },
   {
    "duration": 40,
    "start_time": "2022-10-27T17:09:07.656Z"
   },
   {
    "duration": 42,
    "start_time": "2022-10-27T17:09:07.698Z"
   },
   {
    "duration": 28,
    "start_time": "2022-10-27T17:09:07.742Z"
   },
   {
    "duration": 120,
    "start_time": "2022-10-27T17:09:07.773Z"
   },
   {
    "duration": 143,
    "start_time": "2022-10-27T17:09:07.895Z"
   },
   {
    "duration": 10,
    "start_time": "2022-10-27T17:09:08.039Z"
   },
   {
    "duration": 16,
    "start_time": "2022-10-27T17:09:08.051Z"
   },
   {
    "duration": 26,
    "start_time": "2022-10-27T17:09:08.069Z"
   },
   {
    "duration": 13,
    "start_time": "2022-10-27T17:09:08.097Z"
   },
   {
    "duration": 21,
    "start_time": "2022-10-27T17:09:08.112Z"
   },
   {
    "duration": 1385,
    "start_time": "2022-10-27T17:09:08.135Z"
   },
   {
    "duration": 746,
    "start_time": "2022-10-27T17:09:09.522Z"
   },
   {
    "duration": 784,
    "start_time": "2022-10-27T17:09:10.270Z"
   },
   {
    "duration": 5,
    "start_time": "2022-10-27T17:09:11.056Z"
   },
   {
    "duration": 5,
    "start_time": "2022-10-27T17:09:11.063Z"
   },
   {
    "duration": 6,
    "start_time": "2022-10-27T17:09:11.069Z"
   },
   {
    "duration": 7,
    "start_time": "2022-10-27T17:09:11.077Z"
   },
   {
    "duration": 2137,
    "start_time": "2022-10-27T17:09:11.088Z"
   },
   {
    "duration": 10,
    "start_time": "2022-10-27T17:09:13.227Z"
   },
   {
    "duration": 16,
    "start_time": "2022-10-27T17:09:13.238Z"
   },
   {
    "duration": 15,
    "start_time": "2022-10-27T17:09:13.256Z"
   },
   {
    "duration": 14,
    "start_time": "2022-10-27T17:09:13.272Z"
   },
   {
    "duration": 4,
    "start_time": "2022-10-27T17:09:13.288Z"
   },
   {
    "duration": 3,
    "start_time": "2022-10-27T17:09:13.330Z"
   },
   {
    "duration": 45,
    "start_time": "2022-10-27T17:09:13.335Z"
   },
   {
    "duration": 2,
    "start_time": "2022-10-27T17:09:13.382Z"
   },
   {
    "duration": 2445,
    "start_time": "2022-10-27T17:09:13.386Z"
   },
   {
    "duration": 19428,
    "start_time": "2022-10-27T17:09:15.833Z"
   },
   {
    "duration": 1587,
    "start_time": "2022-10-27T18:30:05.101Z"
   },
   {
    "duration": 1843,
    "start_time": "2022-10-27T18:30:06.690Z"
   },
   {
    "duration": 792,
    "start_time": "2022-10-27T18:30:08.535Z"
   },
   {
    "duration": 425,
    "start_time": "2022-10-27T18:30:09.329Z"
   },
   {
    "duration": 3,
    "start_time": "2022-10-27T18:30:09.756Z"
   },
   {
    "duration": 10,
    "start_time": "2022-10-27T18:30:09.760Z"
   },
   {
    "duration": 8,
    "start_time": "2022-10-27T18:30:09.771Z"
   },
   {
    "duration": 5,
    "start_time": "2022-10-27T18:30:09.781Z"
   },
   {
    "duration": 8,
    "start_time": "2022-10-27T18:30:09.788Z"
   },
   {
    "duration": 41,
    "start_time": "2022-10-27T18:30:09.798Z"
   },
   {
    "duration": 28,
    "start_time": "2022-10-27T18:30:09.841Z"
   },
   {
    "duration": 38,
    "start_time": "2022-10-27T18:30:09.871Z"
   },
   {
    "duration": 23,
    "start_time": "2022-10-27T18:30:09.911Z"
   },
   {
    "duration": 104,
    "start_time": "2022-10-27T18:30:09.936Z"
   },
   {
    "duration": 130,
    "start_time": "2022-10-27T18:30:10.042Z"
   },
   {
    "duration": 7,
    "start_time": "2022-10-27T18:30:10.173Z"
   },
   {
    "duration": 9,
    "start_time": "2022-10-27T18:30:10.182Z"
   },
   {
    "duration": 19,
    "start_time": "2022-10-27T18:30:10.192Z"
   },
   {
    "duration": 8,
    "start_time": "2022-10-27T18:30:10.213Z"
   },
   {
    "duration": 6,
    "start_time": "2022-10-27T18:30:10.223Z"
   },
   {
    "duration": 1175,
    "start_time": "2022-10-27T18:30:10.231Z"
   },
   {
    "duration": 705,
    "start_time": "2022-10-27T18:30:11.407Z"
   },
   {
    "duration": 768,
    "start_time": "2022-10-27T18:30:12.114Z"
   },
   {
    "duration": 4,
    "start_time": "2022-10-27T18:30:12.884Z"
   },
   {
    "duration": 4,
    "start_time": "2022-10-27T18:30:12.890Z"
   },
   {
    "duration": 13,
    "start_time": "2022-10-27T18:30:12.896Z"
   },
   {
    "duration": 11,
    "start_time": "2022-10-27T18:30:12.910Z"
   },
   {
    "duration": 1908,
    "start_time": "2022-10-27T18:30:12.924Z"
   },
   {
    "duration": 7,
    "start_time": "2022-10-27T18:30:14.834Z"
   },
   {
    "duration": 23,
    "start_time": "2022-10-27T18:30:14.843Z"
   },
   {
    "duration": 14,
    "start_time": "2022-10-27T18:30:14.867Z"
   },
   {
    "duration": 27,
    "start_time": "2022-10-27T18:30:14.882Z"
   },
   {
    "duration": 3,
    "start_time": "2022-10-27T18:30:14.911Z"
   },
   {
    "duration": 12,
    "start_time": "2022-10-27T18:30:14.916Z"
   },
   {
    "duration": 31,
    "start_time": "2022-10-27T18:30:14.930Z"
   },
   {
    "duration": 3,
    "start_time": "2022-10-27T18:30:14.965Z"
   },
   {
    "duration": 2340,
    "start_time": "2022-10-27T18:30:14.970Z"
   },
   {
    "duration": 20893,
    "start_time": "2022-10-27T18:30:17.311Z"
   },
   {
    "duration": 1433,
    "start_time": "2022-10-27T18:35:49.102Z"
   },
   {
    "duration": 371,
    "start_time": "2022-10-27T18:35:50.537Z"
   },
   {
    "duration": 265,
    "start_time": "2022-10-27T18:35:50.910Z"
   },
   {
    "duration": 95,
    "start_time": "2022-10-27T18:35:51.178Z"
   },
   {
    "duration": 4,
    "start_time": "2022-10-27T18:35:51.275Z"
   },
   {
    "duration": 10,
    "start_time": "2022-10-27T18:35:51.281Z"
   },
   {
    "duration": 14,
    "start_time": "2022-10-27T18:35:51.293Z"
   },
   {
    "duration": 4,
    "start_time": "2022-10-27T18:35:51.309Z"
   },
   {
    "duration": 8,
    "start_time": "2022-10-27T18:35:51.314Z"
   },
   {
    "duration": 36,
    "start_time": "2022-10-27T18:35:51.324Z"
   },
   {
    "duration": 48,
    "start_time": "2022-10-27T18:35:51.362Z"
   },
   {
    "duration": 26,
    "start_time": "2022-10-27T18:35:51.411Z"
   },
   {
    "duration": 24,
    "start_time": "2022-10-27T18:35:51.438Z"
   },
   {
    "duration": 112,
    "start_time": "2022-10-27T18:35:51.464Z"
   },
   {
    "duration": 151,
    "start_time": "2022-10-27T18:35:51.577Z"
   },
   {
    "duration": 7,
    "start_time": "2022-10-27T18:35:51.729Z"
   },
   {
    "duration": 6,
    "start_time": "2022-10-27T18:35:51.738Z"
   },
   {
    "duration": 15,
    "start_time": "2022-10-27T18:35:51.746Z"
   },
   {
    "duration": 7,
    "start_time": "2022-10-27T18:35:51.762Z"
   },
   {
    "duration": 14,
    "start_time": "2022-10-27T18:35:51.771Z"
   },
   {
    "duration": 1161,
    "start_time": "2022-10-27T18:35:51.787Z"
   },
   {
    "duration": 738,
    "start_time": "2022-10-27T18:35:52.949Z"
   },
   {
    "duration": 958,
    "start_time": "2022-10-27T18:35:53.689Z"
   },
   {
    "duration": 6,
    "start_time": "2022-10-27T18:35:54.649Z"
   },
   {
    "duration": 7,
    "start_time": "2022-10-27T18:35:54.656Z"
   },
   {
    "duration": 7,
    "start_time": "2022-10-27T18:35:54.665Z"
   },
   {
    "duration": 7,
    "start_time": "2022-10-27T18:35:54.673Z"
   },
   {
    "duration": 2026,
    "start_time": "2022-10-27T18:35:54.683Z"
   },
   {
    "duration": 8,
    "start_time": "2022-10-27T18:35:56.711Z"
   },
   {
    "duration": 16,
    "start_time": "2022-10-27T18:35:56.720Z"
   },
   {
    "duration": 12,
    "start_time": "2022-10-27T18:35:56.738Z"
   },
   {
    "duration": 11,
    "start_time": "2022-10-27T18:35:56.751Z"
   },
   {
    "duration": 4,
    "start_time": "2022-10-27T18:35:56.763Z"
   },
   {
    "duration": 6,
    "start_time": "2022-10-27T18:35:56.768Z"
   },
   {
    "duration": 58,
    "start_time": "2022-10-27T18:35:56.776Z"
   },
   {
    "duration": 2,
    "start_time": "2022-10-27T18:35:56.836Z"
   },
   {
    "duration": 1872,
    "start_time": "2022-10-27T18:35:56.840Z"
   },
   {
    "duration": 20930,
    "start_time": "2022-10-27T18:35:58.715Z"
   },
   {
    "duration": 23714,
    "start_time": "2022-10-27T18:36:19.646Z"
   },
   {
    "duration": 0,
    "start_time": "2022-10-27T18:36:43.362Z"
   },
   {
    "duration": 0,
    "start_time": "2022-10-27T18:36:43.363Z"
   },
   {
    "duration": 23774,
    "start_time": "2022-10-27T18:37:25.544Z"
   },
   {
    "duration": 23586,
    "start_time": "2022-10-27T18:38:47.281Z"
   },
   {
    "duration": 24118,
    "start_time": "2022-10-27T18:39:46.690Z"
   },
   {
    "duration": 1417,
    "start_time": "2022-10-27T18:47:23.217Z"
   },
   {
    "duration": 385,
    "start_time": "2022-10-27T18:47:24.636Z"
   },
   {
    "duration": 269,
    "start_time": "2022-10-27T18:47:25.023Z"
   },
   {
    "duration": 89,
    "start_time": "2022-10-27T18:47:25.294Z"
   },
   {
    "duration": 4,
    "start_time": "2022-10-27T18:47:25.384Z"
   },
   {
    "duration": 20,
    "start_time": "2022-10-27T18:47:25.390Z"
   },
   {
    "duration": 6,
    "start_time": "2022-10-27T18:47:25.412Z"
   },
   {
    "duration": 10,
    "start_time": "2022-10-27T18:47:25.420Z"
   },
   {
    "duration": 6,
    "start_time": "2022-10-27T18:47:25.431Z"
   },
   {
    "duration": 41,
    "start_time": "2022-10-27T18:47:25.440Z"
   },
   {
    "duration": 51,
    "start_time": "2022-10-27T18:47:25.483Z"
   },
   {
    "duration": 25,
    "start_time": "2022-10-27T18:47:25.536Z"
   },
   {
    "duration": 23,
    "start_time": "2022-10-27T18:47:25.563Z"
   },
   {
    "duration": 116,
    "start_time": "2022-10-27T18:47:25.587Z"
   },
   {
    "duration": 135,
    "start_time": "2022-10-27T18:47:25.709Z"
   },
   {
    "duration": 7,
    "start_time": "2022-10-27T18:47:25.846Z"
   },
   {
    "duration": 8,
    "start_time": "2022-10-27T18:47:25.854Z"
   },
   {
    "duration": 7,
    "start_time": "2022-10-27T18:47:25.863Z"
   },
   {
    "duration": 5,
    "start_time": "2022-10-27T18:47:25.871Z"
   },
   {
    "duration": 8,
    "start_time": "2022-10-27T18:47:25.877Z"
   },
   {
    "duration": 1169,
    "start_time": "2022-10-27T18:47:25.909Z"
   },
   {
    "duration": 715,
    "start_time": "2022-10-27T18:47:27.080Z"
   },
   {
    "duration": 691,
    "start_time": "2022-10-27T18:47:27.797Z"
   },
   {
    "duration": 4,
    "start_time": "2022-10-27T18:47:28.490Z"
   },
   {
    "duration": 14,
    "start_time": "2022-10-27T18:47:28.495Z"
   },
   {
    "duration": 4,
    "start_time": "2022-10-27T18:47:28.510Z"
   },
   {
    "duration": 6,
    "start_time": "2022-10-27T18:47:28.516Z"
   },
   {
    "duration": 1861,
    "start_time": "2022-10-27T18:47:28.525Z"
   },
   {
    "duration": 8,
    "start_time": "2022-10-27T18:47:30.388Z"
   },
   {
    "duration": 39,
    "start_time": "2022-10-27T18:47:30.397Z"
   },
   {
    "duration": 12,
    "start_time": "2022-10-27T18:47:30.438Z"
   },
   {
    "duration": 16,
    "start_time": "2022-10-27T18:47:30.451Z"
   },
   {
    "duration": 5,
    "start_time": "2022-10-27T18:47:30.469Z"
   },
   {
    "duration": 19,
    "start_time": "2022-10-27T18:47:30.476Z"
   },
   {
    "duration": 40,
    "start_time": "2022-10-27T18:47:30.497Z"
   },
   {
    "duration": 17,
    "start_time": "2022-10-27T18:47:30.538Z"
   },
   {
    "duration": 2052,
    "start_time": "2022-10-27T18:47:30.557Z"
   },
   {
    "duration": 20969,
    "start_time": "2022-10-27T18:47:32.612Z"
   },
   {
    "duration": 127,
    "start_time": "2022-10-27T18:47:53.583Z"
   },
   {
    "duration": 0,
    "start_time": "2022-10-27T18:47:53.711Z"
   },
   {
    "duration": 0,
    "start_time": "2022-10-27T18:47:53.712Z"
   },
   {
    "duration": 14,
    "start_time": "2022-10-27T18:48:48.393Z"
   },
   {
    "duration": 11,
    "start_time": "2022-10-27T18:50:17.450Z"
   },
   {
    "duration": 9119,
    "start_time": "2022-10-27T18:50:24.752Z"
   },
   {
    "duration": 1430,
    "start_time": "2022-10-27T18:56:23.188Z"
   },
   {
    "duration": 370,
    "start_time": "2022-10-27T18:56:24.620Z"
   },
   {
    "duration": 264,
    "start_time": "2022-10-27T18:56:24.991Z"
   },
   {
    "duration": 88,
    "start_time": "2022-10-27T18:56:25.257Z"
   },
   {
    "duration": 3,
    "start_time": "2022-10-27T18:56:25.346Z"
   },
   {
    "duration": 9,
    "start_time": "2022-10-27T18:56:25.350Z"
   },
   {
    "duration": 27,
    "start_time": "2022-10-27T18:56:25.361Z"
   },
   {
    "duration": 29,
    "start_time": "2022-10-27T18:56:25.390Z"
   },
   {
    "duration": 9,
    "start_time": "2022-10-27T18:56:25.420Z"
   },
   {
    "duration": 44,
    "start_time": "2022-10-27T18:56:25.432Z"
   },
   {
    "duration": 31,
    "start_time": "2022-10-27T18:56:25.478Z"
   },
   {
    "duration": 25,
    "start_time": "2022-10-27T18:56:25.510Z"
   },
   {
    "duration": 23,
    "start_time": "2022-10-27T18:56:25.536Z"
   },
   {
    "duration": 114,
    "start_time": "2022-10-27T18:56:25.560Z"
   },
   {
    "duration": 137,
    "start_time": "2022-10-27T18:56:25.676Z"
   },
   {
    "duration": 7,
    "start_time": "2022-10-27T18:56:25.815Z"
   },
   {
    "duration": 12,
    "start_time": "2022-10-27T18:56:25.823Z"
   },
   {
    "duration": 8,
    "start_time": "2022-10-27T18:56:25.837Z"
   },
   {
    "duration": 12,
    "start_time": "2022-10-27T18:56:25.847Z"
   },
   {
    "duration": 16,
    "start_time": "2022-10-27T18:56:25.861Z"
   },
   {
    "duration": 1256,
    "start_time": "2022-10-27T18:56:25.878Z"
   },
   {
    "duration": 669,
    "start_time": "2022-10-27T18:56:27.135Z"
   },
   {
    "duration": 766,
    "start_time": "2022-10-27T18:56:27.806Z"
   },
   {
    "duration": 4,
    "start_time": "2022-10-27T18:56:28.574Z"
   },
   {
    "duration": 6,
    "start_time": "2022-10-27T18:56:28.580Z"
   },
   {
    "duration": 6,
    "start_time": "2022-10-27T18:56:28.587Z"
   },
   {
    "duration": 15,
    "start_time": "2022-10-27T18:56:28.594Z"
   },
   {
    "duration": 1909,
    "start_time": "2022-10-27T18:56:28.612Z"
   },
   {
    "duration": 9,
    "start_time": "2022-10-27T18:56:30.523Z"
   },
   {
    "duration": 43,
    "start_time": "2022-10-27T18:56:30.534Z"
   },
   {
    "duration": 19,
    "start_time": "2022-10-27T18:56:30.578Z"
   },
   {
    "duration": 24,
    "start_time": "2022-10-27T18:56:30.599Z"
   },
   {
    "duration": 21,
    "start_time": "2022-10-27T18:56:30.624Z"
   },
   {
    "duration": 32,
    "start_time": "2022-10-27T18:56:30.646Z"
   },
   {
    "duration": 57,
    "start_time": "2022-10-27T18:56:30.679Z"
   },
   {
    "duration": 12,
    "start_time": "2022-10-27T18:56:30.738Z"
   },
   {
    "duration": 2060,
    "start_time": "2022-10-27T18:56:30.752Z"
   },
   {
    "duration": 21083,
    "start_time": "2022-10-27T18:56:32.814Z"
   },
   {
    "duration": 46,
    "start_time": "2022-10-27T18:56:53.898Z"
   },
   {
    "duration": 0,
    "start_time": "2022-10-27T18:56:53.946Z"
   },
   {
    "duration": 0,
    "start_time": "2022-10-27T18:56:53.947Z"
   },
   {
    "duration": 1384,
    "start_time": "2022-10-27T18:58:08.793Z"
   },
   {
    "duration": 365,
    "start_time": "2022-10-27T18:58:10.179Z"
   },
   {
    "duration": 271,
    "start_time": "2022-10-27T18:58:10.546Z"
   },
   {
    "duration": 86,
    "start_time": "2022-10-27T18:58:10.819Z"
   },
   {
    "duration": 3,
    "start_time": "2022-10-27T18:58:10.907Z"
   },
   {
    "duration": 6,
    "start_time": "2022-10-27T18:58:10.912Z"
   },
   {
    "duration": 5,
    "start_time": "2022-10-27T18:58:10.919Z"
   },
   {
    "duration": 5,
    "start_time": "2022-10-27T18:58:10.926Z"
   },
   {
    "duration": 7,
    "start_time": "2022-10-27T18:58:10.932Z"
   },
   {
    "duration": 41,
    "start_time": "2022-10-27T18:58:10.941Z"
   },
   {
    "duration": 51,
    "start_time": "2022-10-27T18:58:10.984Z"
   },
   {
    "duration": 23,
    "start_time": "2022-10-27T18:58:11.037Z"
   },
   {
    "duration": 21,
    "start_time": "2022-10-27T18:58:11.062Z"
   },
   {
    "duration": 114,
    "start_time": "2022-10-27T18:58:11.084Z"
   },
   {
    "duration": 144,
    "start_time": "2022-10-27T18:58:11.200Z"
   },
   {
    "duration": 7,
    "start_time": "2022-10-27T18:58:11.345Z"
   },
   {
    "duration": 8,
    "start_time": "2022-10-27T18:58:11.354Z"
   },
   {
    "duration": 6,
    "start_time": "2022-10-27T18:58:11.364Z"
   },
   {
    "duration": 6,
    "start_time": "2022-10-27T18:58:11.372Z"
   },
   {
    "duration": 29,
    "start_time": "2022-10-27T18:58:11.380Z"
   },
   {
    "duration": 1188,
    "start_time": "2022-10-27T18:58:11.410Z"
   },
   {
    "duration": 700,
    "start_time": "2022-10-27T18:58:12.600Z"
   },
   {
    "duration": 697,
    "start_time": "2022-10-27T18:58:13.301Z"
   },
   {
    "duration": 9,
    "start_time": "2022-10-27T18:58:14.000Z"
   },
   {
    "duration": 5,
    "start_time": "2022-10-27T18:58:14.011Z"
   },
   {
    "duration": 5,
    "start_time": "2022-10-27T18:58:14.017Z"
   },
   {
    "duration": 12,
    "start_time": "2022-10-27T18:58:14.024Z"
   },
   {
    "duration": 2046,
    "start_time": "2022-10-27T18:58:14.041Z"
   },
   {
    "duration": 9,
    "start_time": "2022-10-27T18:58:16.088Z"
   },
   {
    "duration": 22,
    "start_time": "2022-10-27T18:58:16.098Z"
   },
   {
    "duration": 13,
    "start_time": "2022-10-27T18:58:16.121Z"
   },
   {
    "duration": 13,
    "start_time": "2022-10-27T18:58:16.135Z"
   },
   {
    "duration": 4,
    "start_time": "2022-10-27T18:58:16.149Z"
   },
   {
    "duration": 7,
    "start_time": "2022-10-27T18:58:16.154Z"
   },
   {
    "duration": 61,
    "start_time": "2022-10-27T18:58:16.162Z"
   },
   {
    "duration": 3,
    "start_time": "2022-10-27T18:58:16.224Z"
   },
   {
    "duration": 1986,
    "start_time": "2022-10-27T18:58:16.229Z"
   },
   {
    "duration": 21123,
    "start_time": "2022-10-27T18:58:18.217Z"
   },
   {
    "duration": 1369,
    "start_time": "2022-10-27T19:01:38.429Z"
   },
   {
    "duration": 379,
    "start_time": "2022-10-27T19:01:39.799Z"
   },
   {
    "duration": 271,
    "start_time": "2022-10-27T19:01:40.179Z"
   },
   {
    "duration": 87,
    "start_time": "2022-10-27T19:01:40.453Z"
   },
   {
    "duration": 3,
    "start_time": "2022-10-27T19:01:40.541Z"
   },
   {
    "duration": 7,
    "start_time": "2022-10-27T19:01:40.546Z"
   },
   {
    "duration": 6,
    "start_time": "2022-10-27T19:01:40.554Z"
   },
   {
    "duration": 14,
    "start_time": "2022-10-27T19:01:40.561Z"
   },
   {
    "duration": 5,
    "start_time": "2022-10-27T19:01:40.576Z"
   },
   {
    "duration": 55,
    "start_time": "2022-10-27T19:01:40.584Z"
   },
   {
    "duration": 31,
    "start_time": "2022-10-27T19:01:40.641Z"
   },
   {
    "duration": 36,
    "start_time": "2022-10-27T19:01:40.673Z"
   },
   {
    "duration": 24,
    "start_time": "2022-10-27T19:01:40.711Z"
   },
   {
    "duration": 109,
    "start_time": "2022-10-27T19:01:40.736Z"
   },
   {
    "duration": 135,
    "start_time": "2022-10-27T19:01:40.846Z"
   },
   {
    "duration": 7,
    "start_time": "2022-10-27T19:01:40.982Z"
   },
   {
    "duration": 20,
    "start_time": "2022-10-27T19:01:40.990Z"
   },
   {
    "duration": 5,
    "start_time": "2022-10-27T19:01:41.012Z"
   },
   {
    "duration": 5,
    "start_time": "2022-10-27T19:01:41.019Z"
   },
   {
    "duration": 6,
    "start_time": "2022-10-27T19:01:41.025Z"
   },
   {
    "duration": 1186,
    "start_time": "2022-10-27T19:01:41.032Z"
   },
   {
    "duration": 670,
    "start_time": "2022-10-27T19:01:42.219Z"
   },
   {
    "duration": 719,
    "start_time": "2022-10-27T19:01:42.892Z"
   },
   {
    "duration": 4,
    "start_time": "2022-10-27T19:01:43.613Z"
   },
   {
    "duration": 6,
    "start_time": "2022-10-27T19:01:43.619Z"
   },
   {
    "duration": 5,
    "start_time": "2022-10-27T19:01:43.627Z"
   },
   {
    "duration": 8,
    "start_time": "2022-10-27T19:01:43.633Z"
   },
   {
    "duration": 1945,
    "start_time": "2022-10-27T19:01:43.644Z"
   },
   {
    "duration": 8,
    "start_time": "2022-10-27T19:01:45.590Z"
   },
   {
    "duration": 13,
    "start_time": "2022-10-27T19:01:45.609Z"
   },
   {
    "duration": 12,
    "start_time": "2022-10-27T19:01:45.624Z"
   },
   {
    "duration": 12,
    "start_time": "2022-10-27T19:01:45.637Z"
   },
   {
    "duration": 4,
    "start_time": "2022-10-27T19:01:45.650Z"
   },
   {
    "duration": 4,
    "start_time": "2022-10-27T19:01:45.656Z"
   },
   {
    "duration": 59,
    "start_time": "2022-10-27T19:01:45.662Z"
   },
   {
    "duration": 3,
    "start_time": "2022-10-27T19:01:45.722Z"
   },
   {
    "duration": 1784,
    "start_time": "2022-10-27T19:01:45.726Z"
   },
   {
    "duration": 21130,
    "start_time": "2022-10-27T19:01:47.511Z"
   },
   {
    "duration": 1393,
    "start_time": "2022-10-27T19:06:14.519Z"
   },
   {
    "duration": 383,
    "start_time": "2022-10-27T19:06:15.914Z"
   },
   {
    "duration": 278,
    "start_time": "2022-10-27T19:06:16.299Z"
   },
   {
    "duration": 96,
    "start_time": "2022-10-27T19:06:16.579Z"
   },
   {
    "duration": 4,
    "start_time": "2022-10-27T19:06:16.677Z"
   },
   {
    "duration": 11,
    "start_time": "2022-10-27T19:06:16.683Z"
   },
   {
    "duration": 15,
    "start_time": "2022-10-27T19:06:16.696Z"
   },
   {
    "duration": 4,
    "start_time": "2022-10-27T19:06:16.713Z"
   },
   {
    "duration": 6,
    "start_time": "2022-10-27T19:06:16.718Z"
   },
   {
    "duration": 36,
    "start_time": "2022-10-27T19:06:16.726Z"
   },
   {
    "duration": 59,
    "start_time": "2022-10-27T19:06:16.764Z"
   },
   {
    "duration": 27,
    "start_time": "2022-10-27T19:06:16.825Z"
   },
   {
    "duration": 24,
    "start_time": "2022-10-27T19:06:16.854Z"
   },
   {
    "duration": 116,
    "start_time": "2022-10-27T19:06:16.881Z"
   },
   {
    "duration": 134,
    "start_time": "2022-10-27T19:06:16.998Z"
   },
   {
    "duration": 6,
    "start_time": "2022-10-27T19:06:17.134Z"
   },
   {
    "duration": 6,
    "start_time": "2022-10-27T19:06:17.142Z"
   },
   {
    "duration": 9,
    "start_time": "2022-10-27T19:06:17.150Z"
   },
   {
    "duration": 6,
    "start_time": "2022-10-27T19:06:17.160Z"
   },
   {
    "duration": 8,
    "start_time": "2022-10-27T19:06:17.167Z"
   },
   {
    "duration": 1196,
    "start_time": "2022-10-27T19:06:17.176Z"
   },
   {
    "duration": 710,
    "start_time": "2022-10-27T19:06:18.374Z"
   },
   {
    "duration": 699,
    "start_time": "2022-10-27T19:06:19.086Z"
   },
   {
    "duration": 5,
    "start_time": "2022-10-27T19:06:19.787Z"
   },
   {
    "duration": 11,
    "start_time": "2022-10-27T19:06:19.793Z"
   },
   {
    "duration": 4,
    "start_time": "2022-10-27T19:06:19.809Z"
   },
   {
    "duration": 9,
    "start_time": "2022-10-27T19:06:19.814Z"
   },
   {
    "duration": 1959,
    "start_time": "2022-10-27T19:06:19.824Z"
   },
   {
    "duration": 8,
    "start_time": "2022-10-27T19:06:21.784Z"
   },
   {
    "duration": 24,
    "start_time": "2022-10-27T19:06:21.794Z"
   },
   {
    "duration": 12,
    "start_time": "2022-10-27T19:06:21.820Z"
   },
   {
    "duration": 14,
    "start_time": "2022-10-27T19:06:21.833Z"
   },
   {
    "duration": 3,
    "start_time": "2022-10-27T19:06:21.848Z"
   },
   {
    "duration": 5,
    "start_time": "2022-10-27T19:06:21.852Z"
   },
   {
    "duration": 50,
    "start_time": "2022-10-27T19:06:21.859Z"
   },
   {
    "duration": 2,
    "start_time": "2022-10-27T19:06:21.911Z"
   },
   {
    "duration": 2397,
    "start_time": "2022-10-27T19:06:21.915Z"
   },
   {
    "duration": 21101,
    "start_time": "2022-10-27T19:06:24.314Z"
   },
   {
    "duration": 1360,
    "start_time": "2022-10-27T19:08:37.527Z"
   },
   {
    "duration": 370,
    "start_time": "2022-10-27T19:08:38.889Z"
   },
   {
    "duration": 274,
    "start_time": "2022-10-27T19:08:39.261Z"
   },
   {
    "duration": 91,
    "start_time": "2022-10-27T19:08:39.537Z"
   },
   {
    "duration": 4,
    "start_time": "2022-10-27T19:08:39.629Z"
   },
   {
    "duration": 8,
    "start_time": "2022-10-27T19:08:39.634Z"
   },
   {
    "duration": 6,
    "start_time": "2022-10-27T19:08:39.644Z"
   },
   {
    "duration": 6,
    "start_time": "2022-10-27T19:08:39.652Z"
   },
   {
    "duration": 6,
    "start_time": "2022-10-27T19:08:39.659Z"
   },
   {
    "duration": 67,
    "start_time": "2022-10-27T19:08:39.668Z"
   },
   {
    "duration": 32,
    "start_time": "2022-10-27T19:08:39.737Z"
   },
   {
    "duration": 45,
    "start_time": "2022-10-27T19:08:39.771Z"
   },
   {
    "duration": 25,
    "start_time": "2022-10-27T19:08:39.818Z"
   },
   {
    "duration": 110,
    "start_time": "2022-10-27T19:08:39.845Z"
   },
   {
    "duration": 138,
    "start_time": "2022-10-27T19:08:39.957Z"
   },
   {
    "duration": 13,
    "start_time": "2022-10-27T19:08:40.096Z"
   },
   {
    "duration": 7,
    "start_time": "2022-10-27T19:08:40.110Z"
   },
   {
    "duration": 9,
    "start_time": "2022-10-27T19:08:40.118Z"
   },
   {
    "duration": 9,
    "start_time": "2022-10-27T19:08:40.128Z"
   },
   {
    "duration": 6,
    "start_time": "2022-10-27T19:08:40.138Z"
   },
   {
    "duration": 1164,
    "start_time": "2022-10-27T19:08:40.146Z"
   },
   {
    "duration": 699,
    "start_time": "2022-10-27T19:08:41.312Z"
   },
   {
    "duration": 687,
    "start_time": "2022-10-27T19:08:42.013Z"
   },
   {
    "duration": 9,
    "start_time": "2022-10-27T19:08:42.702Z"
   },
   {
    "duration": 6,
    "start_time": "2022-10-27T19:08:42.713Z"
   },
   {
    "duration": 7,
    "start_time": "2022-10-27T19:08:42.721Z"
   },
   {
    "duration": 10,
    "start_time": "2022-10-27T19:08:42.729Z"
   },
   {
    "duration": 2057,
    "start_time": "2022-10-27T19:08:42.742Z"
   },
   {
    "duration": 13,
    "start_time": "2022-10-27T19:08:44.800Z"
   },
   {
    "duration": 13,
    "start_time": "2022-10-27T19:08:44.814Z"
   },
   {
    "duration": 11,
    "start_time": "2022-10-27T19:08:44.829Z"
   },
   {
    "duration": 13,
    "start_time": "2022-10-27T19:08:44.842Z"
   },
   {
    "duration": 3,
    "start_time": "2022-10-27T19:08:44.857Z"
   },
   {
    "duration": 7,
    "start_time": "2022-10-27T19:08:44.861Z"
   },
   {
    "duration": 6,
    "start_time": "2022-10-27T19:08:44.869Z"
   },
   {
    "duration": 31,
    "start_time": "2022-10-27T19:08:44.909Z"
   },
   {
    "duration": 3,
    "start_time": "2022-10-27T19:08:44.941Z"
   },
   {
    "duration": 1865,
    "start_time": "2022-10-27T19:08:44.945Z"
   },
   {
    "duration": 20943,
    "start_time": "2022-10-27T19:08:46.812Z"
   },
   {
    "duration": 1424,
    "start_time": "2022-10-27T19:15:01.612Z"
   },
   {
    "duration": 385,
    "start_time": "2022-10-27T19:15:03.038Z"
   },
   {
    "duration": 269,
    "start_time": "2022-10-27T19:15:03.425Z"
   },
   {
    "duration": 94,
    "start_time": "2022-10-27T19:15:03.696Z"
   },
   {
    "duration": 3,
    "start_time": "2022-10-27T19:15:03.791Z"
   },
   {
    "duration": 13,
    "start_time": "2022-10-27T19:15:03.796Z"
   },
   {
    "duration": 5,
    "start_time": "2022-10-27T19:15:03.810Z"
   },
   {
    "duration": 8,
    "start_time": "2022-10-27T19:15:03.817Z"
   },
   {
    "duration": 6,
    "start_time": "2022-10-27T19:15:03.826Z"
   },
   {
    "duration": 39,
    "start_time": "2022-10-27T19:15:03.835Z"
   },
   {
    "duration": 50,
    "start_time": "2022-10-27T19:15:03.875Z"
   },
   {
    "duration": 25,
    "start_time": "2022-10-27T19:15:03.926Z"
   },
   {
    "duration": 23,
    "start_time": "2022-10-27T19:15:03.953Z"
   },
   {
    "duration": 116,
    "start_time": "2022-10-27T19:15:03.977Z"
   },
   {
    "duration": 131,
    "start_time": "2022-10-27T19:15:04.094Z"
   },
   {
    "duration": 6,
    "start_time": "2022-10-27T19:15:04.227Z"
   },
   {
    "duration": 6,
    "start_time": "2022-10-27T19:15:04.235Z"
   },
   {
    "duration": 6,
    "start_time": "2022-10-27T19:15:04.242Z"
   },
   {
    "duration": 7,
    "start_time": "2022-10-27T19:15:04.249Z"
   },
   {
    "duration": 5,
    "start_time": "2022-10-27T19:15:04.258Z"
   },
   {
    "duration": 1243,
    "start_time": "2022-10-27T19:15:04.264Z"
   },
   {
    "duration": 792,
    "start_time": "2022-10-27T19:15:05.509Z"
   },
   {
    "duration": 698,
    "start_time": "2022-10-27T19:15:06.302Z"
   },
   {
    "duration": 10,
    "start_time": "2022-10-27T19:15:07.001Z"
   },
   {
    "duration": 4,
    "start_time": "2022-10-27T19:15:07.013Z"
   },
   {
    "duration": 4,
    "start_time": "2022-10-27T19:15:07.019Z"
   },
   {
    "duration": 7,
    "start_time": "2022-10-27T19:15:07.025Z"
   },
   {
    "duration": 1944,
    "start_time": "2022-10-27T19:15:07.036Z"
   },
   {
    "duration": 9,
    "start_time": "2022-10-27T19:15:08.982Z"
   },
   {
    "duration": 26,
    "start_time": "2022-10-27T19:15:08.993Z"
   },
   {
    "duration": 12,
    "start_time": "2022-10-27T19:15:09.020Z"
   },
   {
    "duration": 12,
    "start_time": "2022-10-27T19:15:09.034Z"
   },
   {
    "duration": 3,
    "start_time": "2022-10-27T19:15:09.048Z"
   },
   {
    "duration": 4,
    "start_time": "2022-10-27T19:15:09.053Z"
   },
   {
    "duration": 8,
    "start_time": "2022-10-27T19:15:09.059Z"
   },
   {
    "duration": 64,
    "start_time": "2022-10-27T19:15:09.068Z"
   },
   {
    "duration": 3,
    "start_time": "2022-10-27T19:15:09.134Z"
   },
   {
    "duration": 1475,
    "start_time": "2022-10-27T19:15:09.139Z"
   },
   {
    "duration": 224,
    "start_time": "2022-10-27T19:15:10.617Z"
   },
   {
    "duration": 0,
    "start_time": "2022-10-27T19:15:10.842Z"
   },
   {
    "duration": 0,
    "start_time": "2022-10-27T19:15:10.843Z"
   },
   {
    "duration": 0,
    "start_time": "2022-10-27T19:15:10.844Z"
   },
   {
    "duration": 9,
    "start_time": "2022-10-27T19:16:04.889Z"
   },
   {
    "duration": 11,
    "start_time": "2022-10-27T19:16:05.348Z"
   },
   {
    "duration": 10,
    "start_time": "2022-10-27T19:16:23.465Z"
   },
   {
    "duration": 6,
    "start_time": "2022-10-27T19:17:16.394Z"
   },
   {
    "duration": 375,
    "start_time": "2022-10-27T19:17:18.292Z"
   },
   {
    "duration": 26,
    "start_time": "2022-10-27T19:18:09.057Z"
   },
   {
    "duration": 3,
    "start_time": "2022-10-27T19:18:11.226Z"
   },
   {
    "duration": 2146,
    "start_time": "2022-10-27T19:18:12.066Z"
   },
   {
    "duration": 6,
    "start_time": "2022-10-27T19:18:14.214Z"
   },
   {
    "duration": 507,
    "start_time": "2022-10-27T19:18:14.222Z"
   },
   {
    "duration": 29,
    "start_time": "2022-10-27T19:18:43.047Z"
   },
   {
    "duration": 3,
    "start_time": "2022-10-27T19:18:44.391Z"
   },
   {
    "duration": 1978,
    "start_time": "2022-10-27T19:18:44.837Z"
   },
   {
    "duration": 504,
    "start_time": "2022-10-27T19:18:46.817Z"
   },
   {
    "duration": 4,
    "start_time": "2022-10-27T19:19:14.818Z"
   },
   {
    "duration": 27,
    "start_time": "2022-10-27T19:19:19.656Z"
   },
   {
    "duration": 2,
    "start_time": "2022-10-27T19:19:21.377Z"
   },
   {
    "duration": 1781,
    "start_time": "2022-10-27T19:19:22.129Z"
   },
   {
    "duration": 439,
    "start_time": "2022-10-27T19:19:23.914Z"
   },
   {
    "duration": 10,
    "start_time": "2022-10-27T19:19:49.894Z"
   },
   {
    "duration": 37,
    "start_time": "2022-10-27T19:20:00.621Z"
   },
   {
    "duration": 1420,
    "start_time": "2022-10-27T19:20:14.019Z"
   },
   {
    "duration": 388,
    "start_time": "2022-10-27T19:20:15.441Z"
   },
   {
    "duration": 275,
    "start_time": "2022-10-27T19:20:15.831Z"
   },
   {
    "duration": 90,
    "start_time": "2022-10-27T19:20:16.108Z"
   },
   {
    "duration": 4,
    "start_time": "2022-10-27T19:20:16.199Z"
   },
   {
    "duration": 31,
    "start_time": "2022-10-27T19:20:16.210Z"
   },
   {
    "duration": 20,
    "start_time": "2022-10-27T19:20:16.242Z"
   },
   {
    "duration": 16,
    "start_time": "2022-10-27T19:20:16.264Z"
   },
   {
    "duration": 17,
    "start_time": "2022-10-27T19:20:16.281Z"
   },
   {
    "duration": 42,
    "start_time": "2022-10-27T19:20:16.300Z"
   },
   {
    "duration": 31,
    "start_time": "2022-10-27T19:20:16.344Z"
   },
   {
    "duration": 35,
    "start_time": "2022-10-27T19:20:16.376Z"
   },
   {
    "duration": 23,
    "start_time": "2022-10-27T19:20:16.413Z"
   },
   {
    "duration": 113,
    "start_time": "2022-10-27T19:20:16.437Z"
   },
   {
    "duration": 136,
    "start_time": "2022-10-27T19:20:16.552Z"
   },
   {
    "duration": 6,
    "start_time": "2022-10-27T19:20:16.690Z"
   },
   {
    "duration": 24,
    "start_time": "2022-10-27T19:20:16.698Z"
   },
   {
    "duration": 28,
    "start_time": "2022-10-27T19:20:16.724Z"
   },
   {
    "duration": 18,
    "start_time": "2022-10-27T19:20:16.753Z"
   },
   {
    "duration": 11,
    "start_time": "2022-10-27T19:20:16.773Z"
   },
   {
    "duration": 1184,
    "start_time": "2022-10-27T19:20:16.785Z"
   },
   {
    "duration": 717,
    "start_time": "2022-10-27T19:20:17.970Z"
   },
   {
    "duration": 697,
    "start_time": "2022-10-27T19:20:18.689Z"
   },
   {
    "duration": 4,
    "start_time": "2022-10-27T19:20:19.388Z"
   },
   {
    "duration": 11,
    "start_time": "2022-10-27T19:20:19.394Z"
   },
   {
    "duration": 20,
    "start_time": "2022-10-27T19:20:19.406Z"
   },
   {
    "duration": 9,
    "start_time": "2022-10-27T19:20:19.427Z"
   },
   {
    "duration": 1942,
    "start_time": "2022-10-27T19:20:19.440Z"
   },
   {
    "duration": 9,
    "start_time": "2022-10-27T19:20:21.384Z"
   },
   {
    "duration": 28,
    "start_time": "2022-10-27T19:20:21.395Z"
   },
   {
    "duration": 12,
    "start_time": "2022-10-27T19:20:21.425Z"
   },
   {
    "duration": 17,
    "start_time": "2022-10-27T19:20:21.438Z"
   },
   {
    "duration": 5,
    "start_time": "2022-10-27T19:20:21.457Z"
   },
   {
    "duration": 152,
    "start_time": "2022-10-27T19:20:21.464Z"
   },
   {
    "duration": 0,
    "start_time": "2022-10-27T19:20:21.618Z"
   },
   {
    "duration": 0,
    "start_time": "2022-10-27T19:20:21.619Z"
   },
   {
    "duration": 0,
    "start_time": "2022-10-27T19:20:21.620Z"
   },
   {
    "duration": 0,
    "start_time": "2022-10-27T19:20:21.621Z"
   },
   {
    "duration": 0,
    "start_time": "2022-10-27T19:20:21.623Z"
   },
   {
    "duration": 0,
    "start_time": "2022-10-27T19:20:21.624Z"
   },
   {
    "duration": 14,
    "start_time": "2022-10-27T19:21:23.028Z"
   },
   {
    "duration": 23,
    "start_time": "2022-10-27T19:21:34.831Z"
   },
   {
    "duration": 26,
    "start_time": "2022-10-27T19:21:57.729Z"
   },
   {
    "duration": 9,
    "start_time": "2022-10-27T19:22:00.468Z"
   },
   {
    "duration": 2,
    "start_time": "2022-10-27T19:22:33.860Z"
   },
   {
    "duration": 34,
    "start_time": "2022-10-27T19:22:43.200Z"
   },
   {
    "duration": 1427,
    "start_time": "2022-10-27T19:23:33.091Z"
   },
   {
    "duration": 420,
    "start_time": "2022-10-27T19:23:34.521Z"
   },
   {
    "duration": 295,
    "start_time": "2022-10-27T19:23:34.942Z"
   },
   {
    "duration": 105,
    "start_time": "2022-10-27T19:23:35.238Z"
   },
   {
    "duration": 3,
    "start_time": "2022-10-27T19:23:35.345Z"
   },
   {
    "duration": 9,
    "start_time": "2022-10-27T19:23:35.349Z"
   },
   {
    "duration": 6,
    "start_time": "2022-10-27T19:23:35.360Z"
   },
   {
    "duration": 6,
    "start_time": "2022-10-27T19:23:35.367Z"
   },
   {
    "duration": 20,
    "start_time": "2022-10-27T19:23:35.374Z"
   },
   {
    "duration": 42,
    "start_time": "2022-10-27T19:23:35.415Z"
   },
   {
    "duration": 32,
    "start_time": "2022-10-27T19:23:35.459Z"
   },
   {
    "duration": 44,
    "start_time": "2022-10-27T19:23:35.493Z"
   },
   {
    "duration": 24,
    "start_time": "2022-10-27T19:23:35.538Z"
   },
   {
    "duration": 115,
    "start_time": "2022-10-27T19:23:35.563Z"
   },
   {
    "duration": 151,
    "start_time": "2022-10-27T19:23:35.680Z"
   },
   {
    "duration": 8,
    "start_time": "2022-10-27T19:23:35.833Z"
   },
   {
    "duration": 12,
    "start_time": "2022-10-27T19:23:35.843Z"
   },
   {
    "duration": 8,
    "start_time": "2022-10-27T19:23:35.857Z"
   },
   {
    "duration": 10,
    "start_time": "2022-10-27T19:23:35.866Z"
   },
   {
    "duration": 5,
    "start_time": "2022-10-27T19:23:35.878Z"
   },
   {
    "duration": 1246,
    "start_time": "2022-10-27T19:23:35.884Z"
   },
   {
    "duration": 685,
    "start_time": "2022-10-27T19:23:37.132Z"
   },
   {
    "duration": 680,
    "start_time": "2022-10-27T19:23:37.820Z"
   },
   {
    "duration": 7,
    "start_time": "2022-10-27T19:23:38.502Z"
   },
   {
    "duration": 5,
    "start_time": "2022-10-27T19:23:38.511Z"
   },
   {
    "duration": 6,
    "start_time": "2022-10-27T19:23:38.518Z"
   },
   {
    "duration": 8,
    "start_time": "2022-10-27T19:23:38.525Z"
   },
   {
    "duration": 2152,
    "start_time": "2022-10-27T19:23:38.536Z"
   },
   {
    "duration": 7,
    "start_time": "2022-10-27T19:23:40.690Z"
   },
   {
    "duration": 26,
    "start_time": "2022-10-27T19:23:40.699Z"
   },
   {
    "duration": 13,
    "start_time": "2022-10-27T19:23:40.728Z"
   },
   {
    "duration": 11,
    "start_time": "2022-10-27T19:23:40.742Z"
   },
   {
    "duration": 4,
    "start_time": "2022-10-27T19:23:40.755Z"
   },
   {
    "duration": 63,
    "start_time": "2022-10-27T19:23:40.761Z"
   },
   {
    "duration": 3,
    "start_time": "2022-10-27T19:23:40.826Z"
   },
   {
    "duration": 43,
    "start_time": "2022-10-27T19:23:40.830Z"
   },
   {
    "duration": 346,
    "start_time": "2022-10-27T19:23:40.874Z"
   },
   {
    "duration": 1720,
    "start_time": "2022-10-27T19:23:41.222Z"
   },
   {
    "duration": 130,
    "start_time": "2022-10-27T19:23:42.945Z"
   },
   {
    "duration": 0,
    "start_time": "2022-10-27T19:23:43.077Z"
   },
   {
    "duration": 2,
    "start_time": "2022-10-27T19:25:41.499Z"
   },
   {
    "duration": 34,
    "start_time": "2022-10-27T19:25:44.651Z"
   },
   {
    "duration": 37,
    "start_time": "2022-10-27T19:26:01.212Z"
   },
   {
    "duration": 325,
    "start_time": "2022-10-27T19:26:21.157Z"
   },
   {
    "duration": 1474,
    "start_time": "2022-10-27T19:26:27.884Z"
   },
   {
    "duration": 368,
    "start_time": "2022-10-27T19:26:29.359Z"
   },
   {
    "duration": 263,
    "start_time": "2022-10-27T19:26:29.728Z"
   },
   {
    "duration": 89,
    "start_time": "2022-10-27T19:26:29.993Z"
   },
   {
    "duration": 3,
    "start_time": "2022-10-27T19:26:30.085Z"
   },
   {
    "duration": 17,
    "start_time": "2022-10-27T19:26:30.089Z"
   },
   {
    "duration": 6,
    "start_time": "2022-10-27T19:26:30.108Z"
   },
   {
    "duration": 8,
    "start_time": "2022-10-27T19:26:30.116Z"
   },
   {
    "duration": 11,
    "start_time": "2022-10-27T19:26:30.126Z"
   },
   {
    "duration": 49,
    "start_time": "2022-10-27T19:26:30.139Z"
   },
   {
    "duration": 45,
    "start_time": "2022-10-27T19:26:30.190Z"
   },
   {
    "duration": 25,
    "start_time": "2022-10-27T19:26:30.236Z"
   },
   {
    "duration": 23,
    "start_time": "2022-10-27T19:26:30.263Z"
   },
   {
    "duration": 120,
    "start_time": "2022-10-27T19:26:30.289Z"
   },
   {
    "duration": 133,
    "start_time": "2022-10-27T19:26:30.411Z"
   },
   {
    "duration": 6,
    "start_time": "2022-10-27T19:26:30.546Z"
   },
   {
    "duration": 21,
    "start_time": "2022-10-27T19:26:30.554Z"
   },
   {
    "duration": 16,
    "start_time": "2022-10-27T19:26:30.576Z"
   },
   {
    "duration": 24,
    "start_time": "2022-10-27T19:26:30.593Z"
   },
   {
    "duration": 16,
    "start_time": "2022-10-27T19:26:30.618Z"
   },
   {
    "duration": 1142,
    "start_time": "2022-10-27T19:26:30.635Z"
   },
   {
    "duration": 709,
    "start_time": "2022-10-27T19:26:31.778Z"
   },
   {
    "duration": 693,
    "start_time": "2022-10-27T19:26:32.489Z"
   },
   {
    "duration": 5,
    "start_time": "2022-10-27T19:26:33.184Z"
   },
   {
    "duration": 5,
    "start_time": "2022-10-27T19:26:33.190Z"
   },
   {
    "duration": 14,
    "start_time": "2022-10-27T19:26:33.197Z"
   },
   {
    "duration": 8,
    "start_time": "2022-10-27T19:26:33.213Z"
   },
   {
    "duration": 2049,
    "start_time": "2022-10-27T19:26:33.222Z"
   },
   {
    "duration": 10,
    "start_time": "2022-10-27T19:26:35.273Z"
   },
   {
    "duration": 32,
    "start_time": "2022-10-27T19:26:35.284Z"
   },
   {
    "duration": 12,
    "start_time": "2022-10-27T19:26:35.318Z"
   },
   {
    "duration": 11,
    "start_time": "2022-10-27T19:26:35.332Z"
   },
   {
    "duration": 4,
    "start_time": "2022-10-27T19:26:35.345Z"
   },
   {
    "duration": 29,
    "start_time": "2022-10-27T19:26:35.350Z"
   },
   {
    "duration": 3,
    "start_time": "2022-10-27T19:26:35.381Z"
   },
   {
    "duration": 38,
    "start_time": "2022-10-27T19:26:35.409Z"
   },
   {
    "duration": 130,
    "start_time": "2022-10-27T19:26:35.448Z"
   },
   {
    "duration": 0,
    "start_time": "2022-10-27T19:26:35.580Z"
   },
   {
    "duration": 0,
    "start_time": "2022-10-27T19:26:35.582Z"
   },
   {
    "duration": 0,
    "start_time": "2022-10-27T19:26:35.582Z"
   },
   {
    "duration": 310,
    "start_time": "2022-10-27T19:28:05.606Z"
   },
   {
    "duration": 9,
    "start_time": "2022-10-27T19:30:29.424Z"
   },
   {
    "duration": 15,
    "start_time": "2022-10-27T19:30:58.442Z"
   },
   {
    "duration": 31,
    "start_time": "2022-10-27T19:36:47.845Z"
   },
   {
    "duration": 6,
    "start_time": "2022-10-27T19:39:17.898Z"
   },
   {
    "duration": 9,
    "start_time": "2022-10-27T19:40:58.887Z"
   },
   {
    "duration": 2,
    "start_time": "2022-10-27T19:41:00.068Z"
   },
   {
    "duration": 3,
    "start_time": "2022-10-27T19:41:00.252Z"
   },
   {
    "duration": 17,
    "start_time": "2022-10-27T19:41:01.007Z"
   },
   {
    "duration": 9,
    "start_time": "2022-10-27T19:42:27.576Z"
   },
   {
    "duration": 58,
    "start_time": "2022-10-27T19:43:55.933Z"
   },
   {
    "duration": 45,
    "start_time": "2022-10-27T19:44:01.076Z"
   },
   {
    "duration": 33,
    "start_time": "2022-10-27T19:44:20.115Z"
   },
   {
    "duration": 36,
    "start_time": "2022-10-27T19:44:49.228Z"
   },
   {
    "duration": 3,
    "start_time": "2022-10-27T19:44:52.383Z"
   },
   {
    "duration": 35,
    "start_time": "2022-10-27T19:44:52.728Z"
   },
   {
    "duration": 34,
    "start_time": "2022-10-27T19:45:24.261Z"
   },
   {
    "duration": 42,
    "start_time": "2022-10-27T19:45:32.997Z"
   },
   {
    "duration": 38,
    "start_time": "2022-10-27T19:45:37.504Z"
   },
   {
    "duration": 12,
    "start_time": "2022-10-27T19:46:05.526Z"
   },
   {
    "duration": 305,
    "start_time": "2022-10-27T19:46:13.122Z"
   },
   {
    "duration": 10,
    "start_time": "2022-10-27T19:46:36.774Z"
   },
   {
    "duration": 7,
    "start_time": "2022-10-27T19:47:00.694Z"
   },
   {
    "duration": 35,
    "start_time": "2022-10-27T19:47:00.974Z"
   },
   {
    "duration": 337,
    "start_time": "2022-10-27T19:47:01.444Z"
   },
   {
    "duration": 1106,
    "start_time": "2022-10-27T19:47:07.440Z"
   },
   {
    "duration": 11,
    "start_time": "2022-10-27T19:47:08.548Z"
   },
   {
    "duration": 1179,
    "start_time": "2022-10-27T19:47:29.880Z"
   },
   {
    "duration": 25,
    "start_time": "2022-10-27T19:50:12.081Z"
   },
   {
    "duration": 3,
    "start_time": "2022-10-27T19:50:12.664Z"
   },
   {
    "duration": 3,
    "start_time": "2022-10-27T19:50:13.980Z"
   },
   {
    "duration": 29,
    "start_time": "2022-10-27T19:50:14.643Z"
   },
   {
    "duration": 315,
    "start_time": "2022-10-27T19:50:16.145Z"
   },
   {
    "duration": 1394,
    "start_time": "2022-10-27T19:51:34.916Z"
   },
   {
    "duration": 385,
    "start_time": "2022-10-27T19:51:36.312Z"
   },
   {
    "duration": 272,
    "start_time": "2022-10-27T19:51:36.698Z"
   },
   {
    "duration": 86,
    "start_time": "2022-10-27T19:51:36.972Z"
   },
   {
    "duration": 4,
    "start_time": "2022-10-27T19:51:37.059Z"
   },
   {
    "duration": 7,
    "start_time": "2022-10-27T19:51:37.064Z"
   },
   {
    "duration": 6,
    "start_time": "2022-10-27T19:51:37.072Z"
   },
   {
    "duration": 5,
    "start_time": "2022-10-27T19:51:37.079Z"
   },
   {
    "duration": 26,
    "start_time": "2022-10-27T19:51:37.085Z"
   },
   {
    "duration": 37,
    "start_time": "2022-10-27T19:51:37.113Z"
   },
   {
    "duration": 33,
    "start_time": "2022-10-27T19:51:37.151Z"
   },
   {
    "duration": 43,
    "start_time": "2022-10-27T19:51:37.186Z"
   },
   {
    "duration": 25,
    "start_time": "2022-10-27T19:51:37.230Z"
   },
   {
    "duration": 112,
    "start_time": "2022-10-27T19:51:37.256Z"
   },
   {
    "duration": 138,
    "start_time": "2022-10-27T19:51:37.370Z"
   },
   {
    "duration": 8,
    "start_time": "2022-10-27T19:51:37.509Z"
   },
   {
    "duration": 5,
    "start_time": "2022-10-27T19:51:37.519Z"
   },
   {
    "duration": 6,
    "start_time": "2022-10-27T19:51:37.527Z"
   },
   {
    "duration": 24,
    "start_time": "2022-10-27T19:51:37.534Z"
   },
   {
    "duration": 7,
    "start_time": "2022-10-27T19:51:37.560Z"
   },
   {
    "duration": 1156,
    "start_time": "2022-10-27T19:51:37.568Z"
   },
   {
    "duration": 663,
    "start_time": "2022-10-27T19:51:38.726Z"
   },
   {
    "duration": 687,
    "start_time": "2022-10-27T19:51:39.391Z"
   },
   {
    "duration": 4,
    "start_time": "2022-10-27T19:51:40.080Z"
   },
   {
    "duration": 7,
    "start_time": "2022-10-27T19:51:40.085Z"
   },
   {
    "duration": 17,
    "start_time": "2022-10-27T19:51:40.093Z"
   },
   {
    "duration": 4,
    "start_time": "2022-10-27T19:51:40.111Z"
   },
   {
    "duration": 2106,
    "start_time": "2022-10-27T19:51:40.118Z"
   },
   {
    "duration": 7,
    "start_time": "2022-10-27T19:51:42.226Z"
   },
   {
    "duration": 17,
    "start_time": "2022-10-27T19:51:42.235Z"
   },
   {
    "duration": 11,
    "start_time": "2022-10-27T19:51:42.254Z"
   },
   {
    "duration": 11,
    "start_time": "2022-10-27T19:51:42.266Z"
   },
   {
    "duration": 4,
    "start_time": "2022-10-27T19:51:42.279Z"
   },
   {
    "duration": 52,
    "start_time": "2022-10-27T19:51:42.284Z"
   },
   {
    "duration": 3,
    "start_time": "2022-10-27T19:51:42.337Z"
   },
   {
    "duration": 15,
    "start_time": "2022-10-27T19:51:42.342Z"
   },
   {
    "duration": 35,
    "start_time": "2022-10-27T19:51:42.358Z"
   },
   {
    "duration": 327,
    "start_time": "2022-10-27T19:51:42.394Z"
   },
   {
    "duration": 1059,
    "start_time": "2022-10-27T19:51:42.723Z"
   },
   {
    "duration": 133,
    "start_time": "2022-10-27T19:51:43.784Z"
   },
   {
    "duration": 0,
    "start_time": "2022-10-27T19:51:43.918Z"
   },
   {
    "duration": 11,
    "start_time": "2022-10-27T19:52:33.792Z"
   },
   {
    "duration": 13,
    "start_time": "2022-10-27T19:52:48.013Z"
   },
   {
    "duration": 22,
    "start_time": "2022-10-27T19:53:30.887Z"
   },
   {
    "duration": 21,
    "start_time": "2022-10-27T19:53:42.571Z"
   },
   {
    "duration": 29,
    "start_time": "2022-10-27T19:54:46.398Z"
   },
   {
    "duration": 10,
    "start_time": "2022-10-27T19:55:08.049Z"
   },
   {
    "duration": 21,
    "start_time": "2022-10-27T19:57:01.612Z"
   },
   {
    "duration": 25,
    "start_time": "2022-10-27T19:57:24.675Z"
   },
   {
    "duration": 5,
    "start_time": "2022-10-27T19:58:30.266Z"
   },
   {
    "duration": 2,
    "start_time": "2022-10-27T19:58:35.677Z"
   },
   {
    "duration": 3,
    "start_time": "2022-10-27T19:58:37.947Z"
   },
   {
    "duration": 34,
    "start_time": "2022-10-27T19:58:42.588Z"
   },
   {
    "duration": 5,
    "start_time": "2022-10-27T19:59:56.611Z"
   },
   {
    "duration": 18,
    "start_time": "2022-10-27T19:59:57.158Z"
   },
   {
    "duration": 2,
    "start_time": "2022-10-27T20:00:09.321Z"
   },
   {
    "duration": 2,
    "start_time": "2022-10-27T20:00:10.317Z"
   },
   {
    "duration": 19,
    "start_time": "2022-10-27T20:00:11.359Z"
   },
   {
    "duration": 20,
    "start_time": "2022-10-27T20:00:30.857Z"
   },
   {
    "duration": 189,
    "start_time": "2022-10-27T20:00:37.758Z"
   },
   {
    "duration": 11,
    "start_time": "2022-10-27T20:00:52.978Z"
   },
   {
    "duration": 11,
    "start_time": "2022-10-27T20:01:11.739Z"
   },
   {
    "duration": 3,
    "start_time": "2022-10-27T20:02:58.459Z"
   },
   {
    "duration": 1425,
    "start_time": "2022-10-27T20:03:03.276Z"
   },
   {
    "duration": 368,
    "start_time": "2022-10-27T20:03:04.702Z"
   },
   {
    "duration": 267,
    "start_time": "2022-10-27T20:03:05.071Z"
   },
   {
    "duration": 89,
    "start_time": "2022-10-27T20:03:05.339Z"
   },
   {
    "duration": 3,
    "start_time": "2022-10-27T20:03:05.430Z"
   },
   {
    "duration": 11,
    "start_time": "2022-10-27T20:03:05.434Z"
   },
   {
    "duration": 11,
    "start_time": "2022-10-27T20:03:05.447Z"
   },
   {
    "duration": 6,
    "start_time": "2022-10-27T20:03:05.459Z"
   },
   {
    "duration": 5,
    "start_time": "2022-10-27T20:03:05.466Z"
   },
   {
    "duration": 50,
    "start_time": "2022-10-27T20:03:05.473Z"
   },
   {
    "duration": 33,
    "start_time": "2022-10-27T20:03:05.524Z"
   },
   {
    "duration": 26,
    "start_time": "2022-10-27T20:03:05.558Z"
   },
   {
    "duration": 41,
    "start_time": "2022-10-27T20:03:05.585Z"
   },
   {
    "duration": 107,
    "start_time": "2022-10-27T20:03:05.629Z"
   },
   {
    "duration": 124,
    "start_time": "2022-10-27T20:03:05.738Z"
   },
   {
    "duration": 7,
    "start_time": "2022-10-27T20:03:05.863Z"
   },
   {
    "duration": 6,
    "start_time": "2022-10-27T20:03:05.871Z"
   },
   {
    "duration": 6,
    "start_time": "2022-10-27T20:03:05.879Z"
   },
   {
    "duration": 4,
    "start_time": "2022-10-27T20:03:05.908Z"
   },
   {
    "duration": 7,
    "start_time": "2022-10-27T20:03:05.914Z"
   },
   {
    "duration": 1169,
    "start_time": "2022-10-27T20:03:05.922Z"
   },
   {
    "duration": 695,
    "start_time": "2022-10-27T20:03:07.093Z"
   },
   {
    "duration": 696,
    "start_time": "2022-10-27T20:03:07.789Z"
   },
   {
    "duration": 5,
    "start_time": "2022-10-27T20:03:08.486Z"
   },
   {
    "duration": 6,
    "start_time": "2022-10-27T20:03:08.493Z"
   },
   {
    "duration": 18,
    "start_time": "2022-10-27T20:03:08.500Z"
   },
   {
    "duration": 12,
    "start_time": "2022-10-27T20:03:08.520Z"
   },
   {
    "duration": 1944,
    "start_time": "2022-10-27T20:03:08.534Z"
   },
   {
    "duration": 7,
    "start_time": "2022-10-27T20:03:10.479Z"
   },
   {
    "duration": 26,
    "start_time": "2022-10-27T20:03:10.487Z"
   },
   {
    "duration": 11,
    "start_time": "2022-10-27T20:03:10.515Z"
   },
   {
    "duration": 14,
    "start_time": "2022-10-27T20:03:10.528Z"
   },
   {
    "duration": 4,
    "start_time": "2022-10-27T20:03:10.544Z"
   },
   {
    "duration": 13,
    "start_time": "2022-10-27T20:03:10.550Z"
   },
   {
    "duration": 34,
    "start_time": "2022-10-27T20:03:10.564Z"
   },
   {
    "duration": 9,
    "start_time": "2022-10-27T20:03:10.600Z"
   },
   {
    "duration": 3,
    "start_time": "2022-10-27T20:03:10.610Z"
   },
   {
    "duration": 25,
    "start_time": "2022-10-27T20:03:10.614Z"
   },
   {
    "duration": 135,
    "start_time": "2022-10-27T20:03:10.641Z"
   },
   {
    "duration": 0,
    "start_time": "2022-10-27T20:03:10.778Z"
   },
   {
    "duration": 0,
    "start_time": "2022-10-27T20:03:10.779Z"
   },
   {
    "duration": 0,
    "start_time": "2022-10-27T20:03:10.780Z"
   },
   {
    "duration": 0,
    "start_time": "2022-10-27T20:03:10.782Z"
   },
   {
    "duration": 6,
    "start_time": "2022-10-27T20:04:00.280Z"
   },
   {
    "duration": 4,
    "start_time": "2022-10-27T20:04:00.553Z"
   },
   {
    "duration": 19,
    "start_time": "2022-10-27T20:04:00.766Z"
   },
   {
    "duration": 2,
    "start_time": "2022-10-27T20:04:00.979Z"
   },
   {
    "duration": 3,
    "start_time": "2022-10-27T20:04:02.114Z"
   },
   {
    "duration": 20,
    "start_time": "2022-10-27T20:04:02.571Z"
   },
   {
    "duration": 1354,
    "start_time": "2022-10-27T20:05:41.332Z"
   },
   {
    "duration": 370,
    "start_time": "2022-10-27T20:05:42.688Z"
   },
   {
    "duration": 264,
    "start_time": "2022-10-27T20:05:43.060Z"
   },
   {
    "duration": 87,
    "start_time": "2022-10-27T20:05:43.326Z"
   },
   {
    "duration": 3,
    "start_time": "2022-10-27T20:05:43.415Z"
   },
   {
    "duration": 8,
    "start_time": "2022-10-27T20:05:43.420Z"
   },
   {
    "duration": 7,
    "start_time": "2022-10-27T20:05:43.429Z"
   },
   {
    "duration": 7,
    "start_time": "2022-10-27T20:05:43.437Z"
   },
   {
    "duration": 7,
    "start_time": "2022-10-27T20:05:43.445Z"
   },
   {
    "duration": 53,
    "start_time": "2022-10-27T20:05:43.456Z"
   },
   {
    "duration": 32,
    "start_time": "2022-10-27T20:05:43.511Z"
   },
   {
    "duration": 25,
    "start_time": "2022-10-27T20:05:43.544Z"
   },
   {
    "duration": 45,
    "start_time": "2022-10-27T20:05:43.570Z"
   },
   {
    "duration": 97,
    "start_time": "2022-10-27T20:05:43.617Z"
   },
   {
    "duration": 135,
    "start_time": "2022-10-27T20:05:43.715Z"
   },
   {
    "duration": 7,
    "start_time": "2022-10-27T20:05:43.851Z"
   },
   {
    "duration": 7,
    "start_time": "2022-10-27T20:05:43.859Z"
   },
   {
    "duration": 5,
    "start_time": "2022-10-27T20:05:43.867Z"
   },
   {
    "duration": 7,
    "start_time": "2022-10-27T20:05:43.873Z"
   },
   {
    "duration": 28,
    "start_time": "2022-10-27T20:05:43.881Z"
   },
   {
    "duration": 1191,
    "start_time": "2022-10-27T20:05:43.910Z"
   },
   {
    "duration": 664,
    "start_time": "2022-10-27T20:05:45.103Z"
   },
   {
    "duration": 737,
    "start_time": "2022-10-27T20:05:45.768Z"
   },
   {
    "duration": 4,
    "start_time": "2022-10-27T20:05:46.507Z"
   },
   {
    "duration": 8,
    "start_time": "2022-10-27T20:05:46.512Z"
   },
   {
    "duration": 5,
    "start_time": "2022-10-27T20:05:46.521Z"
   },
   {
    "duration": 7,
    "start_time": "2022-10-27T20:05:46.527Z"
   },
   {
    "duration": 1959,
    "start_time": "2022-10-27T20:05:46.537Z"
   },
   {
    "duration": 8,
    "start_time": "2022-10-27T20:05:48.497Z"
   },
   {
    "duration": 15,
    "start_time": "2022-10-27T20:05:48.506Z"
   },
   {
    "duration": 11,
    "start_time": "2022-10-27T20:05:48.522Z"
   },
   {
    "duration": 11,
    "start_time": "2022-10-27T20:05:48.534Z"
   },
   {
    "duration": 5,
    "start_time": "2022-10-27T20:05:48.546Z"
   },
   {
    "duration": 7,
    "start_time": "2022-10-27T20:05:48.553Z"
   },
   {
    "duration": 4,
    "start_time": "2022-10-27T20:05:48.561Z"
   },
   {
    "duration": 47,
    "start_time": "2022-10-27T20:05:48.567Z"
   },
   {
    "duration": 2,
    "start_time": "2022-10-27T20:05:48.616Z"
   },
   {
    "duration": 6,
    "start_time": "2022-10-27T20:05:48.620Z"
   },
   {
    "duration": 22,
    "start_time": "2022-10-27T20:05:48.627Z"
   },
   {
    "duration": 205,
    "start_time": "2022-10-27T20:05:48.651Z"
   },
   {
    "duration": 689,
    "start_time": "2022-10-27T20:05:48.858Z"
   },
   {
    "duration": 141,
    "start_time": "2022-10-27T20:05:49.549Z"
   },
   {
    "duration": 0,
    "start_time": "2022-10-27T20:05:49.691Z"
   },
   {
    "duration": 0,
    "start_time": "2022-10-27T20:05:49.692Z"
   },
   {
    "duration": 3,
    "start_time": "2022-10-27T20:12:07.243Z"
   },
   {
    "duration": 20,
    "start_time": "2022-10-27T20:12:15.398Z"
   },
   {
    "duration": 192,
    "start_time": "2022-10-27T20:12:29.751Z"
   },
   {
    "duration": 18,
    "start_time": "2022-10-27T20:16:12.082Z"
   },
   {
    "duration": 5,
    "start_time": "2022-10-27T20:16:14.059Z"
   },
   {
    "duration": 4,
    "start_time": "2022-10-27T20:16:16.253Z"
   },
   {
    "duration": 7,
    "start_time": "2022-10-27T20:16:16.537Z"
   },
   {
    "duration": 19,
    "start_time": "2022-10-27T20:16:16.869Z"
   },
   {
    "duration": 3,
    "start_time": "2022-10-27T20:16:18.604Z"
   },
   {
    "duration": 21,
    "start_time": "2022-10-27T20:16:19.088Z"
   },
   {
    "duration": 184,
    "start_time": "2022-10-27T20:16:20.148Z"
   },
   {
    "duration": 5,
    "start_time": "2022-10-27T20:16:33.542Z"
   },
   {
    "duration": 19,
    "start_time": "2022-10-27T20:16:34.023Z"
   },
   {
    "duration": 18,
    "start_time": "2022-10-27T20:16:49.843Z"
   },
   {
    "duration": 2,
    "start_time": "2022-10-27T20:16:51.943Z"
   },
   {
    "duration": 21,
    "start_time": "2022-10-27T20:16:52.532Z"
   },
   {
    "duration": 1389,
    "start_time": "2022-10-27T20:31:25.689Z"
   },
   {
    "duration": 375,
    "start_time": "2022-10-27T20:31:27.079Z"
   },
   {
    "duration": 267,
    "start_time": "2022-10-27T20:31:27.455Z"
   },
   {
    "duration": 86,
    "start_time": "2022-10-27T20:31:27.725Z"
   },
   {
    "duration": 3,
    "start_time": "2022-10-27T20:31:27.813Z"
   },
   {
    "duration": 18,
    "start_time": "2022-10-27T20:31:27.818Z"
   },
   {
    "duration": 6,
    "start_time": "2022-10-27T20:31:27.838Z"
   },
   {
    "duration": 7,
    "start_time": "2022-10-27T20:31:27.846Z"
   },
   {
    "duration": 6,
    "start_time": "2022-10-27T20:31:27.854Z"
   },
   {
    "duration": 47,
    "start_time": "2022-10-27T20:31:27.863Z"
   },
   {
    "duration": 34,
    "start_time": "2022-10-27T20:31:27.911Z"
   },
   {
    "duration": 24,
    "start_time": "2022-10-27T20:31:27.947Z"
   },
   {
    "duration": 48,
    "start_time": "2022-10-27T20:31:27.973Z"
   },
   {
    "duration": 109,
    "start_time": "2022-10-27T20:31:28.022Z"
   },
   {
    "duration": 137,
    "start_time": "2022-10-27T20:31:28.133Z"
   },
   {
    "duration": 6,
    "start_time": "2022-10-27T20:31:28.272Z"
   },
   {
    "duration": 11,
    "start_time": "2022-10-27T20:31:28.280Z"
   },
   {
    "duration": 10,
    "start_time": "2022-10-27T20:31:28.292Z"
   },
   {
    "duration": 6,
    "start_time": "2022-10-27T20:31:28.311Z"
   },
   {
    "duration": 16,
    "start_time": "2022-10-27T20:31:28.318Z"
   },
   {
    "duration": 1152,
    "start_time": "2022-10-27T20:31:28.336Z"
   },
   {
    "duration": 701,
    "start_time": "2022-10-27T20:31:29.490Z"
   },
   {
    "duration": 716,
    "start_time": "2022-10-27T20:31:30.193Z"
   },
   {
    "duration": 5,
    "start_time": "2022-10-27T20:31:30.911Z"
   },
   {
    "duration": 37,
    "start_time": "2022-10-27T20:31:30.917Z"
   },
   {
    "duration": 8,
    "start_time": "2022-10-27T20:31:30.956Z"
   },
   {
    "duration": 8,
    "start_time": "2022-10-27T20:31:30.966Z"
   },
   {
    "duration": 2149,
    "start_time": "2022-10-27T20:31:30.978Z"
   },
   {
    "duration": 8,
    "start_time": "2022-10-27T20:31:33.129Z"
   },
   {
    "duration": 14,
    "start_time": "2022-10-27T20:31:33.138Z"
   },
   {
    "duration": 11,
    "start_time": "2022-10-27T20:31:33.153Z"
   },
   {
    "duration": 11,
    "start_time": "2022-10-27T20:31:33.166Z"
   },
   {
    "duration": 160,
    "start_time": "2022-10-27T20:31:33.178Z"
   },
   {
    "duration": 0,
    "start_time": "2022-10-27T20:31:33.340Z"
   },
   {
    "duration": 0,
    "start_time": "2022-10-27T20:31:33.341Z"
   },
   {
    "duration": 0,
    "start_time": "2022-10-27T20:31:33.342Z"
   },
   {
    "duration": 0,
    "start_time": "2022-10-27T20:31:33.342Z"
   },
   {
    "duration": 0,
    "start_time": "2022-10-27T20:31:33.343Z"
   },
   {
    "duration": 0,
    "start_time": "2022-10-27T20:31:33.344Z"
   },
   {
    "duration": 0,
    "start_time": "2022-10-27T20:31:33.345Z"
   },
   {
    "duration": 0,
    "start_time": "2022-10-27T20:31:33.346Z"
   },
   {
    "duration": 0,
    "start_time": "2022-10-27T20:31:33.348Z"
   },
   {
    "duration": 0,
    "start_time": "2022-10-27T20:31:33.348Z"
   },
   {
    "duration": 1297,
    "start_time": "2022-10-27T20:32:12.859Z"
   },
   {
    "duration": 406,
    "start_time": "2022-10-27T20:32:14.159Z"
   },
   {
    "duration": 269,
    "start_time": "2022-10-27T20:32:14.566Z"
   },
   {
    "duration": 88,
    "start_time": "2022-10-27T20:32:14.836Z"
   },
   {
    "duration": 3,
    "start_time": "2022-10-27T20:32:14.926Z"
   },
   {
    "duration": 10,
    "start_time": "2022-10-27T20:32:14.930Z"
   },
   {
    "duration": 6,
    "start_time": "2022-10-27T20:32:14.942Z"
   },
   {
    "duration": 4,
    "start_time": "2022-10-27T20:32:14.949Z"
   },
   {
    "duration": 5,
    "start_time": "2022-10-27T20:32:14.955Z"
   },
   {
    "duration": 59,
    "start_time": "2022-10-27T20:32:14.963Z"
   },
   {
    "duration": 31,
    "start_time": "2022-10-27T20:32:15.024Z"
   },
   {
    "duration": 24,
    "start_time": "2022-10-27T20:32:15.057Z"
   },
   {
    "duration": 41,
    "start_time": "2022-10-27T20:32:15.083Z"
   },
   {
    "duration": 104,
    "start_time": "2022-10-27T20:32:15.126Z"
   },
   {
    "duration": 140,
    "start_time": "2022-10-27T20:32:15.232Z"
   },
   {
    "duration": 6,
    "start_time": "2022-10-27T20:32:15.374Z"
   },
   {
    "duration": 4,
    "start_time": "2022-10-27T20:32:15.382Z"
   },
   {
    "duration": 22,
    "start_time": "2022-10-27T20:32:15.388Z"
   },
   {
    "duration": 4,
    "start_time": "2022-10-27T20:32:15.412Z"
   },
   {
    "duration": 5,
    "start_time": "2022-10-27T20:32:15.418Z"
   },
   {
    "duration": 1177,
    "start_time": "2022-10-27T20:32:15.425Z"
   },
   {
    "duration": 687,
    "start_time": "2022-10-27T20:32:16.603Z"
   },
   {
    "duration": 746,
    "start_time": "2022-10-27T20:32:17.292Z"
   },
   {
    "duration": 5,
    "start_time": "2022-10-27T20:32:18.039Z"
   },
   {
    "duration": 7,
    "start_time": "2022-10-27T20:32:18.045Z"
   },
   {
    "duration": 7,
    "start_time": "2022-10-27T20:32:18.053Z"
   },
   {
    "duration": 5,
    "start_time": "2022-10-27T20:32:18.061Z"
   },
   {
    "duration": 1910,
    "start_time": "2022-10-27T20:32:18.069Z"
   },
   {
    "duration": 8,
    "start_time": "2022-10-27T20:32:19.980Z"
   },
   {
    "duration": 26,
    "start_time": "2022-10-27T20:32:19.990Z"
   },
   {
    "duration": 11,
    "start_time": "2022-10-27T20:32:20.018Z"
   },
   {
    "duration": 11,
    "start_time": "2022-10-27T20:32:20.031Z"
   },
   {
    "duration": 4,
    "start_time": "2022-10-27T20:32:20.044Z"
   },
   {
    "duration": 25,
    "start_time": "2022-10-27T20:32:20.049Z"
   },
   {
    "duration": 4,
    "start_time": "2022-10-27T20:32:20.076Z"
   },
   {
    "duration": 31,
    "start_time": "2022-10-27T20:32:20.081Z"
   },
   {
    "duration": 24,
    "start_time": "2022-10-27T20:32:20.113Z"
   },
   {
    "duration": 3,
    "start_time": "2022-10-27T20:32:20.138Z"
   },
   {
    "duration": 31,
    "start_time": "2022-10-27T20:32:20.142Z"
   },
   {
    "duration": 128,
    "start_time": "2022-10-27T20:32:20.175Z"
   },
   {
    "duration": 0,
    "start_time": "2022-10-27T20:32:20.304Z"
   },
   {
    "duration": 0,
    "start_time": "2022-10-27T20:32:20.309Z"
   },
   {
    "duration": 0,
    "start_time": "2022-10-27T20:32:20.309Z"
   },
   {
    "duration": 0,
    "start_time": "2022-10-27T20:32:20.310Z"
   },
   {
    "duration": 192,
    "start_time": "2022-10-27T20:32:40.462Z"
   },
   {
    "duration": 4,
    "start_time": "2022-10-27T20:34:42.774Z"
   },
   {
    "duration": 3,
    "start_time": "2022-10-27T20:35:27.634Z"
   },
   {
    "duration": 7,
    "start_time": "2022-10-27T20:36:16.799Z"
   },
   {
    "duration": 26,
    "start_time": "2022-10-27T20:36:40.246Z"
   },
   {
    "duration": 2,
    "start_time": "2022-10-27T20:37:28.933Z"
   },
   {
    "duration": 21,
    "start_time": "2022-10-27T20:37:29.952Z"
   },
   {
    "duration": 1388,
    "start_time": "2022-10-27T20:37:38.983Z"
   },
   {
    "duration": 372,
    "start_time": "2022-10-27T20:37:40.373Z"
   },
   {
    "duration": 271,
    "start_time": "2022-10-27T20:37:40.746Z"
   },
   {
    "duration": 88,
    "start_time": "2022-10-27T20:37:41.018Z"
   },
   {
    "duration": 3,
    "start_time": "2022-10-27T20:37:41.107Z"
   },
   {
    "duration": 10,
    "start_time": "2022-10-27T20:37:41.111Z"
   },
   {
    "duration": 5,
    "start_time": "2022-10-27T20:37:41.122Z"
   },
   {
    "duration": 11,
    "start_time": "2022-10-27T20:37:41.128Z"
   },
   {
    "duration": 6,
    "start_time": "2022-10-27T20:37:41.140Z"
   },
   {
    "duration": 37,
    "start_time": "2022-10-27T20:37:41.148Z"
   },
   {
    "duration": 48,
    "start_time": "2022-10-27T20:37:41.186Z"
   },
   {
    "duration": 25,
    "start_time": "2022-10-27T20:37:41.235Z"
   },
   {
    "duration": 23,
    "start_time": "2022-10-27T20:37:41.262Z"
   },
   {
    "duration": 113,
    "start_time": "2022-10-27T20:37:41.287Z"
   },
   {
    "duration": 130,
    "start_time": "2022-10-27T20:37:41.402Z"
   },
   {
    "duration": 7,
    "start_time": "2022-10-27T20:37:41.534Z"
   },
   {
    "duration": 11,
    "start_time": "2022-10-27T20:37:41.542Z"
   },
   {
    "duration": 5,
    "start_time": "2022-10-27T20:37:41.555Z"
   },
   {
    "duration": 7,
    "start_time": "2022-10-27T20:37:41.562Z"
   },
   {
    "duration": 7,
    "start_time": "2022-10-27T20:37:41.571Z"
   },
   {
    "duration": 1156,
    "start_time": "2022-10-27T20:37:41.580Z"
   },
   {
    "duration": 662,
    "start_time": "2022-10-27T20:37:42.737Z"
   },
   {
    "duration": 681,
    "start_time": "2022-10-27T20:37:43.401Z"
   },
   {
    "duration": 4,
    "start_time": "2022-10-27T20:37:44.083Z"
   },
   {
    "duration": 10,
    "start_time": "2022-10-27T20:37:44.089Z"
   },
   {
    "duration": 9,
    "start_time": "2022-10-27T20:37:44.101Z"
   },
   {
    "duration": 5,
    "start_time": "2022-10-27T20:37:44.111Z"
   },
   {
    "duration": 1854,
    "start_time": "2022-10-27T20:37:44.119Z"
   },
   {
    "duration": 7,
    "start_time": "2022-10-27T20:37:45.975Z"
   },
   {
    "duration": 26,
    "start_time": "2022-10-27T20:37:45.983Z"
   },
   {
    "duration": 12,
    "start_time": "2022-10-27T20:37:46.010Z"
   },
   {
    "duration": 11,
    "start_time": "2022-10-27T20:37:46.024Z"
   },
   {
    "duration": 3,
    "start_time": "2022-10-27T20:37:46.037Z"
   },
   {
    "duration": 8,
    "start_time": "2022-10-27T20:37:46.041Z"
   },
   {
    "duration": 28,
    "start_time": "2022-10-27T20:37:46.050Z"
   },
   {
    "duration": 157,
    "start_time": "2022-10-27T20:37:46.080Z"
   },
   {
    "duration": 0,
    "start_time": "2022-10-27T20:37:46.238Z"
   },
   {
    "duration": 0,
    "start_time": "2022-10-27T20:37:46.239Z"
   },
   {
    "duration": 0,
    "start_time": "2022-10-27T20:37:46.241Z"
   },
   {
    "duration": 0,
    "start_time": "2022-10-27T20:37:46.242Z"
   },
   {
    "duration": 0,
    "start_time": "2022-10-27T20:37:46.243Z"
   },
   {
    "duration": 0,
    "start_time": "2022-10-27T20:37:46.244Z"
   },
   {
    "duration": 3,
    "start_time": "2022-10-27T20:38:23.109Z"
   },
   {
    "duration": 10,
    "start_time": "2022-10-27T20:38:24.631Z"
   },
   {
    "duration": 1382,
    "start_time": "2022-10-27T20:38:41.820Z"
   },
   {
    "duration": 371,
    "start_time": "2022-10-27T20:38:43.204Z"
   },
   {
    "duration": 268,
    "start_time": "2022-10-27T20:38:43.576Z"
   },
   {
    "duration": 87,
    "start_time": "2022-10-27T20:38:43.845Z"
   },
   {
    "duration": 3,
    "start_time": "2022-10-27T20:38:43.934Z"
   },
   {
    "duration": 6,
    "start_time": "2022-10-27T20:38:43.939Z"
   },
   {
    "duration": 7,
    "start_time": "2022-10-27T20:38:43.946Z"
   },
   {
    "duration": 7,
    "start_time": "2022-10-27T20:38:43.955Z"
   },
   {
    "duration": 7,
    "start_time": "2022-10-27T20:38:43.963Z"
   },
   {
    "duration": 53,
    "start_time": "2022-10-27T20:38:43.972Z"
   },
   {
    "duration": 30,
    "start_time": "2022-10-27T20:38:44.026Z"
   },
   {
    "duration": 24,
    "start_time": "2022-10-27T20:38:44.058Z"
   },
   {
    "duration": 41,
    "start_time": "2022-10-27T20:38:44.083Z"
   },
   {
    "duration": 100,
    "start_time": "2022-10-27T20:38:44.127Z"
   },
   {
    "duration": 132,
    "start_time": "2022-10-27T20:38:44.228Z"
   },
   {
    "duration": 6,
    "start_time": "2022-10-27T20:38:44.362Z"
   },
   {
    "duration": 7,
    "start_time": "2022-10-27T20:38:44.369Z"
   },
   {
    "duration": 9,
    "start_time": "2022-10-27T20:38:44.377Z"
   },
   {
    "duration": 23,
    "start_time": "2022-10-27T20:38:44.388Z"
   },
   {
    "duration": 15,
    "start_time": "2022-10-27T20:38:44.413Z"
   },
   {
    "duration": 1165,
    "start_time": "2022-10-27T20:38:44.430Z"
   },
   {
    "duration": 688,
    "start_time": "2022-10-27T20:38:45.596Z"
   },
   {
    "duration": 723,
    "start_time": "2022-10-27T20:38:46.286Z"
   },
   {
    "duration": 4,
    "start_time": "2022-10-27T20:38:47.011Z"
   },
   {
    "duration": 6,
    "start_time": "2022-10-27T20:38:47.017Z"
   },
   {
    "duration": 6,
    "start_time": "2022-10-27T20:38:47.024Z"
   },
   {
    "duration": 11,
    "start_time": "2022-10-27T20:38:47.032Z"
   },
   {
    "duration": 2211,
    "start_time": "2022-10-27T20:38:47.045Z"
   },
   {
    "duration": 9,
    "start_time": "2022-10-27T20:38:49.257Z"
   },
   {
    "duration": 19,
    "start_time": "2022-10-27T20:38:49.268Z"
   },
   {
    "duration": 24,
    "start_time": "2022-10-27T20:38:49.289Z"
   },
   {
    "duration": 12,
    "start_time": "2022-10-27T20:38:49.315Z"
   },
   {
    "duration": 3,
    "start_time": "2022-10-27T20:38:49.329Z"
   },
   {
    "duration": 9,
    "start_time": "2022-10-27T20:38:49.333Z"
   },
   {
    "duration": 29,
    "start_time": "2022-10-27T20:38:49.343Z"
   },
   {
    "duration": 3,
    "start_time": "2022-10-27T20:38:49.373Z"
   },
   {
    "duration": 137,
    "start_time": "2022-10-27T20:38:49.377Z"
   },
   {
    "duration": 0,
    "start_time": "2022-10-27T20:38:49.516Z"
   },
   {
    "duration": 0,
    "start_time": "2022-10-27T20:38:49.517Z"
   },
   {
    "duration": 0,
    "start_time": "2022-10-27T20:38:49.519Z"
   },
   {
    "duration": 0,
    "start_time": "2022-10-27T20:38:49.520Z"
   },
   {
    "duration": 0,
    "start_time": "2022-10-27T20:38:49.522Z"
   },
   {
    "duration": 9,
    "start_time": "2022-10-27T20:39:17.515Z"
   },
   {
    "duration": 30,
    "start_time": "2022-10-27T20:39:38.389Z"
   },
   {
    "duration": 25,
    "start_time": "2022-10-27T20:40:00.311Z"
   },
   {
    "duration": 29,
    "start_time": "2022-10-27T20:40:10.436Z"
   },
   {
    "duration": 2,
    "start_time": "2022-10-27T20:41:33.419Z"
   },
   {
    "duration": 30,
    "start_time": "2022-10-27T20:41:34.097Z"
   },
   {
    "duration": 11,
    "start_time": "2022-10-27T20:41:53.296Z"
   },
   {
    "duration": 295,
    "start_time": "2022-10-27T20:43:06.916Z"
   },
   {
    "duration": 312,
    "start_time": "2022-10-27T20:43:24.490Z"
   },
   {
    "duration": 2,
    "start_time": "2022-10-27T20:43:50.512Z"
   },
   {
    "duration": 28,
    "start_time": "2022-10-27T20:43:54.193Z"
   },
   {
    "duration": 11,
    "start_time": "2022-10-27T20:44:20.157Z"
   },
   {
    "duration": 999,
    "start_time": "2022-10-27T20:44:52.094Z"
   },
   {
    "duration": 24,
    "start_time": "2022-10-27T20:46:56.432Z"
   },
   {
    "duration": 1318,
    "start_time": "2022-10-27T20:48:01.165Z"
   },
   {
    "duration": 355,
    "start_time": "2022-10-27T20:48:02.485Z"
   },
   {
    "duration": 265,
    "start_time": "2022-10-27T20:48:02.841Z"
   },
   {
    "duration": 85,
    "start_time": "2022-10-27T20:48:03.109Z"
   },
   {
    "duration": 3,
    "start_time": "2022-10-27T20:48:03.195Z"
   },
   {
    "duration": 9,
    "start_time": "2022-10-27T20:48:03.200Z"
   },
   {
    "duration": 5,
    "start_time": "2022-10-27T20:48:03.211Z"
   },
   {
    "duration": 9,
    "start_time": "2022-10-27T20:48:03.217Z"
   },
   {
    "duration": 8,
    "start_time": "2022-10-27T20:48:03.227Z"
   },
   {
    "duration": 38,
    "start_time": "2022-10-27T20:48:03.237Z"
   },
   {
    "duration": 49,
    "start_time": "2022-10-27T20:48:03.277Z"
   },
   {
    "duration": 24,
    "start_time": "2022-10-27T20:48:03.328Z"
   },
   {
    "duration": 22,
    "start_time": "2022-10-27T20:48:03.354Z"
   },
   {
    "duration": 111,
    "start_time": "2022-10-27T20:48:03.378Z"
   },
   {
    "duration": 129,
    "start_time": "2022-10-27T20:48:03.490Z"
   },
   {
    "duration": 6,
    "start_time": "2022-10-27T20:48:03.621Z"
   },
   {
    "duration": 6,
    "start_time": "2022-10-27T20:48:03.629Z"
   },
   {
    "duration": 7,
    "start_time": "2022-10-27T20:48:03.636Z"
   },
   {
    "duration": 8,
    "start_time": "2022-10-27T20:48:03.644Z"
   },
   {
    "duration": 6,
    "start_time": "2022-10-27T20:48:03.653Z"
   },
   {
    "duration": 1186,
    "start_time": "2022-10-27T20:48:03.661Z"
   },
   {
    "duration": 724,
    "start_time": "2022-10-27T20:48:04.849Z"
   },
   {
    "duration": 725,
    "start_time": "2022-10-27T20:48:05.575Z"
   },
   {
    "duration": 12,
    "start_time": "2022-10-27T20:48:06.302Z"
   },
   {
    "duration": 6,
    "start_time": "2022-10-27T20:48:06.315Z"
   },
   {
    "duration": 7,
    "start_time": "2022-10-27T20:48:06.323Z"
   },
   {
    "duration": 6,
    "start_time": "2022-10-27T20:48:06.332Z"
   },
   {
    "duration": 2040,
    "start_time": "2022-10-27T20:48:06.340Z"
   },
   {
    "duration": 8,
    "start_time": "2022-10-27T20:48:08.382Z"
   },
   {
    "duration": 26,
    "start_time": "2022-10-27T20:48:08.391Z"
   },
   {
    "duration": 13,
    "start_time": "2022-10-27T20:48:08.419Z"
   },
   {
    "duration": 12,
    "start_time": "2022-10-27T20:48:08.434Z"
   },
   {
    "duration": 4,
    "start_time": "2022-10-27T20:48:08.447Z"
   },
   {
    "duration": 10,
    "start_time": "2022-10-27T20:48:08.452Z"
   },
   {
    "duration": 51,
    "start_time": "2022-10-27T20:48:08.464Z"
   },
   {
    "duration": 3,
    "start_time": "2022-10-27T20:48:08.517Z"
   },
   {
    "duration": 42,
    "start_time": "2022-10-27T20:48:08.521Z"
   },
   {
    "duration": 315,
    "start_time": "2022-10-27T20:48:08.565Z"
   },
   {
    "duration": 1145,
    "start_time": "2022-10-27T20:48:08.881Z"
   },
   {
    "duration": 131,
    "start_time": "2022-10-27T20:48:10.028Z"
   },
   {
    "duration": 0,
    "start_time": "2022-10-27T20:48:10.160Z"
   },
   {
    "duration": 0,
    "start_time": "2022-10-27T20:48:10.161Z"
   },
   {
    "duration": 22,
    "start_time": "2022-10-27T20:49:04.909Z"
   },
   {
    "duration": 1334,
    "start_time": "2022-10-27T20:50:06.642Z"
   },
   {
    "duration": 373,
    "start_time": "2022-10-27T20:50:07.977Z"
   },
   {
    "duration": 269,
    "start_time": "2022-10-27T20:50:08.351Z"
   },
   {
    "duration": 87,
    "start_time": "2022-10-27T20:50:08.622Z"
   },
   {
    "duration": 4,
    "start_time": "2022-10-27T20:50:08.710Z"
   },
   {
    "duration": 8,
    "start_time": "2022-10-27T20:50:08.715Z"
   },
   {
    "duration": 10,
    "start_time": "2022-10-27T20:50:08.724Z"
   },
   {
    "duration": 6,
    "start_time": "2022-10-27T20:50:08.736Z"
   },
   {
    "duration": 6,
    "start_time": "2022-10-27T20:50:08.744Z"
   },
   {
    "duration": 60,
    "start_time": "2022-10-27T20:50:08.752Z"
   },
   {
    "duration": 30,
    "start_time": "2022-10-27T20:50:08.813Z"
   },
   {
    "duration": 23,
    "start_time": "2022-10-27T20:50:08.844Z"
   },
   {
    "duration": 41,
    "start_time": "2022-10-27T20:50:08.868Z"
   },
   {
    "duration": 106,
    "start_time": "2022-10-27T20:50:08.910Z"
   },
   {
    "duration": 131,
    "start_time": "2022-10-27T20:50:09.017Z"
   },
   {
    "duration": 6,
    "start_time": "2022-10-27T20:50:09.150Z"
   },
   {
    "duration": 8,
    "start_time": "2022-10-27T20:50:09.157Z"
   },
   {
    "duration": 12,
    "start_time": "2022-10-27T20:50:09.166Z"
   },
   {
    "duration": 8,
    "start_time": "2022-10-27T20:50:09.179Z"
   },
   {
    "duration": 21,
    "start_time": "2022-10-27T20:50:09.188Z"
   },
   {
    "duration": 1132,
    "start_time": "2022-10-27T20:50:09.211Z"
   },
   {
    "duration": 676,
    "start_time": "2022-10-27T20:50:10.345Z"
   },
   {
    "duration": 664,
    "start_time": "2022-10-27T20:50:11.023Z"
   },
   {
    "duration": 5,
    "start_time": "2022-10-27T20:50:11.689Z"
   },
   {
    "duration": 15,
    "start_time": "2022-10-27T20:50:11.696Z"
   },
   {
    "duration": 15,
    "start_time": "2022-10-27T20:50:11.713Z"
   },
   {
    "duration": 24,
    "start_time": "2022-10-27T20:50:11.730Z"
   },
   {
    "duration": 1914,
    "start_time": "2022-10-27T20:50:11.758Z"
   },
   {
    "duration": 8,
    "start_time": "2022-10-27T20:50:13.673Z"
   },
   {
    "duration": 26,
    "start_time": "2022-10-27T20:50:13.683Z"
   },
   {
    "duration": 12,
    "start_time": "2022-10-27T20:50:13.711Z"
   },
   {
    "duration": 12,
    "start_time": "2022-10-27T20:50:13.724Z"
   },
   {
    "duration": 3,
    "start_time": "2022-10-27T20:50:13.737Z"
   },
   {
    "duration": 6,
    "start_time": "2022-10-27T20:50:13.742Z"
   },
   {
    "duration": 26,
    "start_time": "2022-10-27T20:50:13.749Z"
   },
   {
    "duration": 3,
    "start_time": "2022-10-27T20:50:13.776Z"
   },
   {
    "duration": 53,
    "start_time": "2022-10-27T20:50:13.780Z"
   },
   {
    "duration": 301,
    "start_time": "2022-10-27T20:50:13.834Z"
   },
   {
    "duration": 1059,
    "start_time": "2022-10-27T20:50:14.137Z"
   },
   {
    "duration": 141,
    "start_time": "2022-10-27T20:50:15.198Z"
   },
   {
    "duration": 0,
    "start_time": "2022-10-27T20:50:15.341Z"
   },
   {
    "duration": 0,
    "start_time": "2022-10-27T20:50:15.342Z"
   },
   {
    "duration": 4,
    "start_time": "2022-10-27T20:55:52.049Z"
   },
   {
    "duration": 6,
    "start_time": "2022-10-27T20:56:36.833Z"
   },
   {
    "duration": 23,
    "start_time": "2022-10-27T20:56:39.235Z"
   },
   {
    "duration": 19,
    "start_time": "2022-10-27T20:56:58.244Z"
   },
   {
    "duration": 3,
    "start_time": "2022-10-27T20:56:59.400Z"
   },
   {
    "duration": 30,
    "start_time": "2022-10-27T20:57:00.322Z"
   },
   {
    "duration": 9,
    "start_time": "2022-10-27T20:57:19.008Z"
   },
   {
    "duration": 6,
    "start_time": "2022-10-27T20:57:33.449Z"
   },
   {
    "duration": 22,
    "start_time": "2022-10-27T20:57:36.508Z"
   },
   {
    "duration": 23,
    "start_time": "2022-10-27T20:57:43.927Z"
   },
   {
    "duration": 2,
    "start_time": "2022-10-27T20:57:46.330Z"
   },
   {
    "duration": 36,
    "start_time": "2022-10-27T20:57:47.155Z"
   },
   {
    "duration": 341,
    "start_time": "2022-10-27T20:58:38.504Z"
   },
   {
    "duration": 1324,
    "start_time": "2022-10-27T20:58:49.653Z"
   },
   {
    "duration": 367,
    "start_time": "2022-10-27T20:58:50.979Z"
   },
   {
    "duration": 270,
    "start_time": "2022-10-27T20:58:51.347Z"
   },
   {
    "duration": 87,
    "start_time": "2022-10-27T20:58:51.619Z"
   },
   {
    "duration": 4,
    "start_time": "2022-10-27T20:58:51.708Z"
   },
   {
    "duration": 13,
    "start_time": "2022-10-27T20:58:51.713Z"
   },
   {
    "duration": 12,
    "start_time": "2022-10-27T20:58:51.727Z"
   },
   {
    "duration": 5,
    "start_time": "2022-10-27T20:58:51.740Z"
   },
   {
    "duration": 9,
    "start_time": "2022-10-27T20:58:51.747Z"
   },
   {
    "duration": 37,
    "start_time": "2022-10-27T20:58:51.759Z"
   },
   {
    "duration": 33,
    "start_time": "2022-10-27T20:58:51.808Z"
   },
   {
    "duration": 27,
    "start_time": "2022-10-27T20:58:51.843Z"
   },
   {
    "duration": 42,
    "start_time": "2022-10-27T20:58:51.871Z"
   },
   {
    "duration": 103,
    "start_time": "2022-10-27T20:58:51.915Z"
   },
   {
    "duration": 131,
    "start_time": "2022-10-27T20:58:52.020Z"
   },
   {
    "duration": 7,
    "start_time": "2022-10-27T20:58:52.152Z"
   },
   {
    "duration": 6,
    "start_time": "2022-10-27T20:58:52.160Z"
   },
   {
    "duration": 14,
    "start_time": "2022-10-27T20:58:52.168Z"
   },
   {
    "duration": 16,
    "start_time": "2022-10-27T20:58:52.184Z"
   },
   {
    "duration": 11,
    "start_time": "2022-10-27T20:58:52.201Z"
   },
   {
    "duration": 1116,
    "start_time": "2022-10-27T20:58:52.213Z"
   },
   {
    "duration": 645,
    "start_time": "2022-10-27T20:58:53.330Z"
   },
   {
    "duration": 742,
    "start_time": "2022-10-27T20:58:53.976Z"
   },
   {
    "duration": 6,
    "start_time": "2022-10-27T20:58:54.719Z"
   },
   {
    "duration": 5,
    "start_time": "2022-10-27T20:58:54.727Z"
   },
   {
    "duration": 5,
    "start_time": "2022-10-27T20:58:54.734Z"
   },
   {
    "duration": 7,
    "start_time": "2022-10-27T20:58:54.740Z"
   },
   {
    "duration": 1956,
    "start_time": "2022-10-27T20:58:54.750Z"
   },
   {
    "duration": 8,
    "start_time": "2022-10-27T20:58:56.709Z"
   },
   {
    "duration": 17,
    "start_time": "2022-10-27T20:58:56.718Z"
   },
   {
    "duration": 11,
    "start_time": "2022-10-27T20:58:56.737Z"
   },
   {
    "duration": 11,
    "start_time": "2022-10-27T20:58:56.749Z"
   },
   {
    "duration": 4,
    "start_time": "2022-10-27T20:58:56.761Z"
   },
   {
    "duration": 6,
    "start_time": "2022-10-27T20:58:56.766Z"
   },
   {
    "duration": 36,
    "start_time": "2022-10-27T20:58:56.773Z"
   },
   {
    "duration": 23,
    "start_time": "2022-10-27T20:58:56.811Z"
   },
   {
    "duration": 3,
    "start_time": "2022-10-27T20:58:56.835Z"
   },
   {
    "duration": 41,
    "start_time": "2022-10-27T20:58:56.840Z"
   },
   {
    "duration": 392,
    "start_time": "2022-10-27T20:58:56.883Z"
   },
   {
    "duration": 133,
    "start_time": "2022-10-27T20:58:57.277Z"
   },
   {
    "duration": 0,
    "start_time": "2022-10-27T20:58:57.411Z"
   },
   {
    "duration": 0,
    "start_time": "2022-10-27T20:58:57.412Z"
   },
   {
    "duration": 0,
    "start_time": "2022-10-27T20:58:57.413Z"
   },
   {
    "duration": 8,
    "start_time": "2022-10-27T20:59:46.009Z"
   },
   {
    "duration": 3,
    "start_time": "2022-10-27T20:59:46.209Z"
   },
   {
    "duration": 6,
    "start_time": "2022-10-27T20:59:46.536Z"
   },
   {
    "duration": 8,
    "start_time": "2022-10-27T20:59:47.050Z"
   },
   {
    "duration": 25,
    "start_time": "2022-10-27T20:59:47.928Z"
   },
   {
    "duration": 3,
    "start_time": "2022-10-27T20:59:48.795Z"
   },
   {
    "duration": 38,
    "start_time": "2022-10-27T20:59:49.113Z"
   },
   {
    "duration": 369,
    "start_time": "2022-10-27T20:59:49.475Z"
   },
   {
    "duration": 4,
    "start_time": "2022-10-27T21:00:21.905Z"
   },
   {
    "duration": 6,
    "start_time": "2022-10-27T21:00:22.522Z"
   },
   {
    "duration": 21,
    "start_time": "2022-10-27T21:00:23.665Z"
   },
   {
    "duration": 3,
    "start_time": "2022-10-27T21:00:25.836Z"
   },
   {
    "duration": 37,
    "start_time": "2022-10-27T21:00:26.782Z"
   },
   {
    "duration": 3,
    "start_time": "2022-10-27T21:07:08.135Z"
   },
   {
    "duration": 10,
    "start_time": "2022-10-27T21:08:35.361Z"
   },
   {
    "duration": 965,
    "start_time": "2022-10-27T21:09:10.987Z"
   },
   {
    "duration": 23,
    "start_time": "2022-10-27T21:09:50.541Z"
   },
   {
    "duration": 1512,
    "start_time": "2022-10-28T06:04:41.042Z"
   },
   {
    "duration": 1774,
    "start_time": "2022-10-28T06:04:42.556Z"
   },
   {
    "duration": 844,
    "start_time": "2022-10-28T06:04:44.331Z"
   },
   {
    "duration": 363,
    "start_time": "2022-10-28T06:04:45.178Z"
   },
   {
    "duration": 3,
    "start_time": "2022-10-28T06:04:45.543Z"
   },
   {
    "duration": 8,
    "start_time": "2022-10-28T06:04:45.548Z"
   },
   {
    "duration": 5,
    "start_time": "2022-10-28T06:04:45.557Z"
   },
   {
    "duration": 8,
    "start_time": "2022-10-28T06:04:45.564Z"
   },
   {
    "duration": 10,
    "start_time": "2022-10-28T06:04:45.574Z"
   },
   {
    "duration": 48,
    "start_time": "2022-10-28T06:04:45.586Z"
   },
   {
    "duration": 29,
    "start_time": "2022-10-28T06:04:45.636Z"
   },
   {
    "duration": 25,
    "start_time": "2022-10-28T06:04:45.667Z"
   },
   {
    "duration": 23,
    "start_time": "2022-10-28T06:04:45.708Z"
   },
   {
    "duration": 106,
    "start_time": "2022-10-28T06:04:45.733Z"
   },
   {
    "duration": 128,
    "start_time": "2022-10-28T06:04:45.840Z"
   },
   {
    "duration": 7,
    "start_time": "2022-10-28T06:04:45.969Z"
   },
   {
    "duration": 7,
    "start_time": "2022-10-28T06:04:45.977Z"
   },
   {
    "duration": 23,
    "start_time": "2022-10-28T06:04:45.986Z"
   },
   {
    "duration": 11,
    "start_time": "2022-10-28T06:04:46.011Z"
   },
   {
    "duration": 8,
    "start_time": "2022-10-28T06:04:46.024Z"
   },
   {
    "duration": 1207,
    "start_time": "2022-10-28T06:04:46.034Z"
   },
   {
    "duration": 733,
    "start_time": "2022-10-28T06:04:47.243Z"
   },
   {
    "duration": 785,
    "start_time": "2022-10-28T06:04:47.977Z"
   },
   {
    "duration": 5,
    "start_time": "2022-10-28T06:04:48.764Z"
   },
   {
    "duration": 6,
    "start_time": "2022-10-28T06:04:48.770Z"
   },
   {
    "duration": 6,
    "start_time": "2022-10-28T06:04:48.777Z"
   },
   {
    "duration": 25,
    "start_time": "2022-10-28T06:04:48.784Z"
   },
   {
    "duration": 1871,
    "start_time": "2022-10-28T06:04:48.812Z"
   },
   {
    "duration": 10,
    "start_time": "2022-10-28T06:04:50.685Z"
   },
   {
    "duration": 30,
    "start_time": "2022-10-28T06:04:50.697Z"
   },
   {
    "duration": 11,
    "start_time": "2022-10-28T06:04:50.729Z"
   },
   {
    "duration": 11,
    "start_time": "2022-10-28T06:04:50.742Z"
   },
   {
    "duration": 4,
    "start_time": "2022-10-28T06:04:50.754Z"
   },
   {
    "duration": 162,
    "start_time": "2022-10-28T06:04:50.759Z"
   },
   {
    "duration": 0,
    "start_time": "2022-10-28T06:04:50.922Z"
   },
   {
    "duration": 0,
    "start_time": "2022-10-28T06:04:50.923Z"
   },
   {
    "duration": 0,
    "start_time": "2022-10-28T06:04:50.924Z"
   },
   {
    "duration": 0,
    "start_time": "2022-10-28T06:04:50.925Z"
   },
   {
    "duration": 0,
    "start_time": "2022-10-28T06:04:50.926Z"
   },
   {
    "duration": 0,
    "start_time": "2022-10-28T06:04:50.927Z"
   },
   {
    "duration": 0,
    "start_time": "2022-10-28T06:04:50.929Z"
   },
   {
    "duration": 0,
    "start_time": "2022-10-28T06:04:50.930Z"
   },
   {
    "duration": 0,
    "start_time": "2022-10-28T06:04:50.931Z"
   },
   {
    "duration": 27,
    "start_time": "2022-10-28T06:09:08.408Z"
   },
   {
    "duration": 1402,
    "start_time": "2022-10-28T06:09:15.608Z"
   },
   {
    "duration": 362,
    "start_time": "2022-10-28T06:09:17.011Z"
   },
   {
    "duration": 250,
    "start_time": "2022-10-28T06:09:17.374Z"
   },
   {
    "duration": 85,
    "start_time": "2022-10-28T06:09:17.626Z"
   },
   {
    "duration": 2,
    "start_time": "2022-10-28T06:09:17.713Z"
   },
   {
    "duration": 13,
    "start_time": "2022-10-28T06:09:17.716Z"
   },
   {
    "duration": 31,
    "start_time": "2022-10-28T06:09:17.731Z"
   },
   {
    "duration": 4,
    "start_time": "2022-10-28T06:09:17.764Z"
   },
   {
    "duration": 4,
    "start_time": "2022-10-28T06:09:17.770Z"
   },
   {
    "duration": 35,
    "start_time": "2022-10-28T06:09:17.777Z"
   },
   {
    "duration": 30,
    "start_time": "2022-10-28T06:09:17.814Z"
   },
   {
    "duration": 24,
    "start_time": "2022-10-28T06:09:17.845Z"
   },
   {
    "duration": 24,
    "start_time": "2022-10-28T06:09:17.870Z"
   },
   {
    "duration": 102,
    "start_time": "2022-10-28T06:09:17.909Z"
   },
   {
    "duration": 134,
    "start_time": "2022-10-28T06:09:18.012Z"
   },
   {
    "duration": 6,
    "start_time": "2022-10-28T06:09:18.148Z"
   },
   {
    "duration": 6,
    "start_time": "2022-10-28T06:09:18.156Z"
   },
   {
    "duration": 5,
    "start_time": "2022-10-28T06:09:18.163Z"
   },
   {
    "duration": 7,
    "start_time": "2022-10-28T06:09:18.169Z"
   },
   {
    "duration": 31,
    "start_time": "2022-10-28T06:09:18.178Z"
   },
   {
    "duration": 1143,
    "start_time": "2022-10-28T06:09:18.211Z"
   },
   {
    "duration": 730,
    "start_time": "2022-10-28T06:09:19.355Z"
   },
   {
    "duration": 708,
    "start_time": "2022-10-28T06:09:20.086Z"
   },
   {
    "duration": 5,
    "start_time": "2022-10-28T06:09:20.796Z"
   },
   {
    "duration": 5,
    "start_time": "2022-10-28T06:09:20.809Z"
   },
   {
    "duration": 8,
    "start_time": "2022-10-28T06:09:20.815Z"
   },
   {
    "duration": 9,
    "start_time": "2022-10-28T06:09:20.824Z"
   },
   {
    "duration": 1949,
    "start_time": "2022-10-28T06:09:20.836Z"
   },
   {
    "duration": 9,
    "start_time": "2022-10-28T06:09:22.786Z"
   },
   {
    "duration": 23,
    "start_time": "2022-10-28T06:09:22.797Z"
   },
   {
    "duration": 13,
    "start_time": "2022-10-28T06:09:22.822Z"
   },
   {
    "duration": 12,
    "start_time": "2022-10-28T06:09:22.837Z"
   },
   {
    "duration": 7,
    "start_time": "2022-10-28T06:09:22.851Z"
   },
   {
    "duration": 180,
    "start_time": "2022-10-28T06:09:22.861Z"
   },
   {
    "duration": 0,
    "start_time": "2022-10-28T06:09:23.043Z"
   },
   {
    "duration": 0,
    "start_time": "2022-10-28T06:09:23.044Z"
   },
   {
    "duration": 0,
    "start_time": "2022-10-28T06:09:23.046Z"
   },
   {
    "duration": 0,
    "start_time": "2022-10-28T06:09:23.047Z"
   },
   {
    "duration": 0,
    "start_time": "2022-10-28T06:09:23.048Z"
   },
   {
    "duration": 0,
    "start_time": "2022-10-28T06:09:23.049Z"
   },
   {
    "duration": 0,
    "start_time": "2022-10-28T06:09:23.051Z"
   },
   {
    "duration": 0,
    "start_time": "2022-10-28T06:09:23.053Z"
   },
   {
    "duration": 23,
    "start_time": "2022-10-28T06:11:06.955Z"
   },
   {
    "duration": 11,
    "start_time": "2022-10-28T06:13:15.483Z"
   },
   {
    "duration": 9,
    "start_time": "2022-10-28T06:13:25.475Z"
   },
   {
    "duration": 54,
    "start_time": "2022-10-28T06:14:36.988Z"
   },
   {
    "duration": 59,
    "start_time": "2022-10-28T06:14:58.082Z"
   },
   {
    "duration": 46,
    "start_time": "2022-10-28T06:18:19.564Z"
   },
   {
    "duration": 4,
    "start_time": "2022-10-28T06:19:55.592Z"
   },
   {
    "duration": 10,
    "start_time": "2022-10-28T06:20:26.287Z"
   },
   {
    "duration": 57,
    "start_time": "2022-10-28T06:20:46.642Z"
   },
   {
    "duration": 18,
    "start_time": "2022-10-28T06:21:02.404Z"
   },
   {
    "duration": 4,
    "start_time": "2022-10-28T06:21:37.892Z"
   },
   {
    "duration": 1488,
    "start_time": "2022-10-28T06:21:57.929Z"
   },
   {
    "duration": 20596,
    "start_time": "2022-10-28T06:24:10.427Z"
   },
   {
    "duration": 10,
    "start_time": "2022-10-28T06:24:50.822Z"
   },
   {
    "duration": 1386,
    "start_time": "2022-10-28T06:27:25.229Z"
   },
   {
    "duration": 358,
    "start_time": "2022-10-28T06:27:26.617Z"
   },
   {
    "duration": 260,
    "start_time": "2022-10-28T06:27:26.977Z"
   },
   {
    "duration": 86,
    "start_time": "2022-10-28T06:27:27.240Z"
   },
   {
    "duration": 3,
    "start_time": "2022-10-28T06:27:27.328Z"
   },
   {
    "duration": 8,
    "start_time": "2022-10-28T06:27:27.332Z"
   },
   {
    "duration": 5,
    "start_time": "2022-10-28T06:27:27.341Z"
   },
   {
    "duration": 4,
    "start_time": "2022-10-28T06:27:27.348Z"
   },
   {
    "duration": 5,
    "start_time": "2022-10-28T06:27:27.353Z"
   },
   {
    "duration": 66,
    "start_time": "2022-10-28T06:27:27.361Z"
   },
   {
    "duration": 29,
    "start_time": "2022-10-28T06:27:27.429Z"
   },
   {
    "duration": 25,
    "start_time": "2022-10-28T06:27:27.460Z"
   },
   {
    "duration": 38,
    "start_time": "2022-10-28T06:27:27.486Z"
   },
   {
    "duration": 106,
    "start_time": "2022-10-28T06:27:27.525Z"
   },
   {
    "duration": 137,
    "start_time": "2022-10-28T06:27:27.632Z"
   },
   {
    "duration": 6,
    "start_time": "2022-10-28T06:27:27.771Z"
   },
   {
    "duration": 5,
    "start_time": "2022-10-28T06:27:27.779Z"
   },
   {
    "duration": 5,
    "start_time": "2022-10-28T06:27:27.785Z"
   },
   {
    "duration": 4,
    "start_time": "2022-10-28T06:27:27.809Z"
   },
   {
    "duration": 9,
    "start_time": "2022-10-28T06:27:27.814Z"
   },
   {
    "duration": 1179,
    "start_time": "2022-10-28T06:27:27.824Z"
   },
   {
    "duration": 685,
    "start_time": "2022-10-28T06:27:29.005Z"
   },
   {
    "duration": 688,
    "start_time": "2022-10-28T06:27:29.692Z"
   },
   {
    "duration": 6,
    "start_time": "2022-10-28T06:27:30.382Z"
   },
   {
    "duration": 19,
    "start_time": "2022-10-28T06:27:30.389Z"
   },
   {
    "duration": 15,
    "start_time": "2022-10-28T06:27:30.409Z"
   },
   {
    "duration": 14,
    "start_time": "2022-10-28T06:27:30.426Z"
   },
   {
    "duration": 1945,
    "start_time": "2022-10-28T06:27:30.443Z"
   },
   {
    "duration": 21,
    "start_time": "2022-10-28T06:27:32.389Z"
   },
   {
    "duration": 13,
    "start_time": "2022-10-28T06:27:32.412Z"
   },
   {
    "duration": 12,
    "start_time": "2022-10-28T06:27:32.427Z"
   },
   {
    "duration": 11,
    "start_time": "2022-10-28T06:27:32.441Z"
   },
   {
    "duration": 5,
    "start_time": "2022-10-28T06:27:32.453Z"
   },
   {
    "duration": 12,
    "start_time": "2022-10-28T06:27:32.460Z"
   },
   {
    "duration": 40,
    "start_time": "2022-10-28T06:27:32.474Z"
   },
   {
    "duration": 4,
    "start_time": "2022-10-28T06:27:32.515Z"
   },
   {
    "duration": 1195,
    "start_time": "2022-10-28T06:27:32.520Z"
   },
   {
    "duration": 20790,
    "start_time": "2022-10-28T06:27:33.716Z"
   },
   {
    "duration": 1411,
    "start_time": "2022-10-28T06:33:59.875Z"
   },
   {
    "duration": 360,
    "start_time": "2022-10-28T06:34:01.288Z"
   },
   {
    "duration": 261,
    "start_time": "2022-10-28T06:34:01.649Z"
   },
   {
    "duration": 87,
    "start_time": "2022-10-28T06:34:01.912Z"
   },
   {
    "duration": 3,
    "start_time": "2022-10-28T06:34:02.001Z"
   },
   {
    "duration": 9,
    "start_time": "2022-10-28T06:34:02.006Z"
   },
   {
    "duration": 9,
    "start_time": "2022-10-28T06:34:02.016Z"
   },
   {
    "duration": 11,
    "start_time": "2022-10-28T06:34:02.026Z"
   },
   {
    "duration": 14,
    "start_time": "2022-10-28T06:34:02.039Z"
   },
   {
    "duration": 39,
    "start_time": "2022-10-28T06:34:02.055Z"
   },
   {
    "duration": 41,
    "start_time": "2022-10-28T06:34:02.096Z"
   },
   {
    "duration": 25,
    "start_time": "2022-10-28T06:34:02.138Z"
   },
   {
    "duration": 23,
    "start_time": "2022-10-28T06:34:02.165Z"
   },
   {
    "duration": 120,
    "start_time": "2022-10-28T06:34:02.189Z"
   },
   {
    "duration": 134,
    "start_time": "2022-10-28T06:34:02.311Z"
   },
   {
    "duration": 6,
    "start_time": "2022-10-28T06:34:02.447Z"
   },
   {
    "duration": 5,
    "start_time": "2022-10-28T06:34:02.455Z"
   },
   {
    "duration": 14,
    "start_time": "2022-10-28T06:34:02.462Z"
   },
   {
    "duration": 9,
    "start_time": "2022-10-28T06:34:02.477Z"
   },
   {
    "duration": 24,
    "start_time": "2022-10-28T06:34:02.488Z"
   },
   {
    "duration": 1249,
    "start_time": "2022-10-28T06:34:02.514Z"
   },
   {
    "duration": 791,
    "start_time": "2022-10-28T06:34:03.765Z"
   },
   {
    "duration": 743,
    "start_time": "2022-10-28T06:34:04.558Z"
   },
   {
    "duration": 7,
    "start_time": "2022-10-28T06:34:05.302Z"
   },
   {
    "duration": 10,
    "start_time": "2022-10-28T06:34:05.310Z"
   },
   {
    "duration": 5,
    "start_time": "2022-10-28T06:34:05.321Z"
   },
   {
    "duration": 10,
    "start_time": "2022-10-28T06:34:05.328Z"
   },
   {
    "duration": 2076,
    "start_time": "2022-10-28T06:34:05.341Z"
   },
   {
    "duration": 8,
    "start_time": "2022-10-28T06:34:07.419Z"
   },
   {
    "duration": 28,
    "start_time": "2022-10-28T06:34:07.428Z"
   },
   {
    "duration": 12,
    "start_time": "2022-10-28T06:34:07.457Z"
   },
   {
    "duration": 12,
    "start_time": "2022-10-28T06:34:07.470Z"
   },
   {
    "duration": 6,
    "start_time": "2022-10-28T06:34:07.483Z"
   },
   {
    "duration": 19,
    "start_time": "2022-10-28T06:34:07.490Z"
   },
   {
    "duration": 18,
    "start_time": "2022-10-28T06:34:07.510Z"
   },
   {
    "duration": 3,
    "start_time": "2022-10-28T06:34:07.530Z"
   },
   {
    "duration": 1375,
    "start_time": "2022-10-28T06:34:07.535Z"
   },
   {
    "duration": 20987,
    "start_time": "2022-10-28T06:34:08.911Z"
   },
   {
    "duration": 1411,
    "start_time": "2022-10-28T06:40:22.383Z"
   },
   {
    "duration": 351,
    "start_time": "2022-10-28T06:40:23.796Z"
   },
   {
    "duration": 264,
    "start_time": "2022-10-28T06:40:24.149Z"
   },
   {
    "duration": 99,
    "start_time": "2022-10-28T06:40:24.416Z"
   },
   {
    "duration": 6,
    "start_time": "2022-10-28T06:40:24.517Z"
   },
   {
    "duration": 19,
    "start_time": "2022-10-28T06:40:24.525Z"
   },
   {
    "duration": 8,
    "start_time": "2022-10-28T06:40:24.546Z"
   },
   {
    "duration": 15,
    "start_time": "2022-10-28T06:40:24.556Z"
   },
   {
    "duration": 15,
    "start_time": "2022-10-28T06:40:24.573Z"
   },
   {
    "duration": 47,
    "start_time": "2022-10-28T06:40:24.591Z"
   },
   {
    "duration": 31,
    "start_time": "2022-10-28T06:40:24.640Z"
   },
   {
    "duration": 29,
    "start_time": "2022-10-28T06:40:24.673Z"
   },
   {
    "duration": 24,
    "start_time": "2022-10-28T06:40:24.709Z"
   },
   {
    "duration": 115,
    "start_time": "2022-10-28T06:40:24.734Z"
   },
   {
    "duration": 134,
    "start_time": "2022-10-28T06:40:24.850Z"
   },
   {
    "duration": 7,
    "start_time": "2022-10-28T06:40:24.985Z"
   },
   {
    "duration": 17,
    "start_time": "2022-10-28T06:40:24.993Z"
   },
   {
    "duration": 4,
    "start_time": "2022-10-28T06:40:25.011Z"
   },
   {
    "duration": 5,
    "start_time": "2022-10-28T06:40:25.017Z"
   },
   {
    "duration": 6,
    "start_time": "2022-10-28T06:40:25.023Z"
   },
   {
    "duration": 1155,
    "start_time": "2022-10-28T06:40:25.030Z"
   },
   {
    "duration": 705,
    "start_time": "2022-10-28T06:40:26.187Z"
   },
   {
    "duration": 703,
    "start_time": "2022-10-28T06:40:26.894Z"
   },
   {
    "duration": 10,
    "start_time": "2022-10-28T06:40:27.599Z"
   },
   {
    "duration": 6,
    "start_time": "2022-10-28T06:40:27.610Z"
   },
   {
    "duration": 6,
    "start_time": "2022-10-28T06:40:27.617Z"
   },
   {
    "duration": 5,
    "start_time": "2022-10-28T06:40:27.624Z"
   },
   {
    "duration": 1946,
    "start_time": "2022-10-28T06:40:27.632Z"
   },
   {
    "duration": 8,
    "start_time": "2022-10-28T06:40:29.579Z"
   },
   {
    "duration": 25,
    "start_time": "2022-10-28T06:40:29.589Z"
   },
   {
    "duration": 12,
    "start_time": "2022-10-28T06:40:29.616Z"
   },
   {
    "duration": 11,
    "start_time": "2022-10-28T06:40:29.629Z"
   },
   {
    "duration": 4,
    "start_time": "2022-10-28T06:40:29.642Z"
   },
   {
    "duration": 9,
    "start_time": "2022-10-28T06:40:29.647Z"
   },
   {
    "duration": 20,
    "start_time": "2022-10-28T06:40:29.657Z"
   },
   {
    "duration": 3,
    "start_time": "2022-10-28T06:40:29.678Z"
   },
   {
    "duration": 1228,
    "start_time": "2022-10-28T06:40:29.682Z"
   },
   {
    "duration": 20727,
    "start_time": "2022-10-28T06:40:30.911Z"
   },
   {
    "duration": 1493,
    "start_time": "2022-10-28T06:44:16.724Z"
   },
   {
    "duration": 359,
    "start_time": "2022-10-28T06:44:18.219Z"
   },
   {
    "duration": 258,
    "start_time": "2022-10-28T06:44:18.580Z"
   },
   {
    "duration": 85,
    "start_time": "2022-10-28T06:44:18.839Z"
   },
   {
    "duration": 3,
    "start_time": "2022-10-28T06:44:18.926Z"
   },
   {
    "duration": 9,
    "start_time": "2022-10-28T06:44:18.930Z"
   },
   {
    "duration": 6,
    "start_time": "2022-10-28T06:44:18.940Z"
   },
   {
    "duration": 5,
    "start_time": "2022-10-28T06:44:18.947Z"
   },
   {
    "duration": 9,
    "start_time": "2022-10-28T06:44:18.954Z"
   },
   {
    "duration": 60,
    "start_time": "2022-10-28T06:44:18.965Z"
   },
   {
    "duration": 30,
    "start_time": "2022-10-28T06:44:19.026Z"
   },
   {
    "duration": 25,
    "start_time": "2022-10-28T06:44:19.057Z"
   },
   {
    "duration": 38,
    "start_time": "2022-10-28T06:44:19.084Z"
   },
   {
    "duration": 106,
    "start_time": "2022-10-28T06:44:19.124Z"
   },
   {
    "duration": 134,
    "start_time": "2022-10-28T06:44:19.232Z"
   },
   {
    "duration": 8,
    "start_time": "2022-10-28T06:44:19.368Z"
   },
   {
    "duration": 27,
    "start_time": "2022-10-28T06:44:19.377Z"
   },
   {
    "duration": 39,
    "start_time": "2022-10-28T06:44:19.405Z"
   },
   {
    "duration": 31,
    "start_time": "2022-10-28T06:44:19.445Z"
   },
   {
    "duration": 26,
    "start_time": "2022-10-28T06:44:19.477Z"
   },
   {
    "duration": 1164,
    "start_time": "2022-10-28T06:44:19.505Z"
   },
   {
    "duration": 722,
    "start_time": "2022-10-28T06:44:20.671Z"
   },
   {
    "duration": 691,
    "start_time": "2022-10-28T06:44:21.394Z"
   },
   {
    "duration": 5,
    "start_time": "2022-10-28T06:44:22.086Z"
   },
   {
    "duration": 16,
    "start_time": "2022-10-28T06:44:22.092Z"
   },
   {
    "duration": 6,
    "start_time": "2022-10-28T06:44:22.110Z"
   },
   {
    "duration": 8,
    "start_time": "2022-10-28T06:44:22.118Z"
   },
   {
    "duration": 1963,
    "start_time": "2022-10-28T06:44:22.130Z"
   },
   {
    "duration": 14,
    "start_time": "2022-10-28T06:44:24.095Z"
   },
   {
    "duration": 16,
    "start_time": "2022-10-28T06:44:24.111Z"
   },
   {
    "duration": 12,
    "start_time": "2022-10-28T06:44:24.129Z"
   },
   {
    "duration": 13,
    "start_time": "2022-10-28T06:44:24.142Z"
   },
   {
    "duration": 4,
    "start_time": "2022-10-28T06:44:24.157Z"
   },
   {
    "duration": 7,
    "start_time": "2022-10-28T06:44:24.163Z"
   },
   {
    "duration": 46,
    "start_time": "2022-10-28T06:44:24.172Z"
   },
   {
    "duration": 4,
    "start_time": "2022-10-28T06:44:24.219Z"
   },
   {
    "duration": 1187,
    "start_time": "2022-10-28T06:44:24.224Z"
   },
   {
    "duration": 20916,
    "start_time": "2022-10-28T06:44:25.412Z"
   },
   {
    "duration": 1473,
    "start_time": "2022-10-28T06:48:24.209Z"
   },
   {
    "duration": 361,
    "start_time": "2022-10-28T06:48:25.684Z"
   },
   {
    "duration": 278,
    "start_time": "2022-10-28T06:48:26.047Z"
   },
   {
    "duration": 87,
    "start_time": "2022-10-28T06:48:26.328Z"
   },
   {
    "duration": 4,
    "start_time": "2022-10-28T06:48:26.417Z"
   },
   {
    "duration": 19,
    "start_time": "2022-10-28T06:48:26.423Z"
   },
   {
    "duration": 7,
    "start_time": "2022-10-28T06:48:26.444Z"
   },
   {
    "duration": 4,
    "start_time": "2022-10-28T06:48:26.453Z"
   },
   {
    "duration": 5,
    "start_time": "2022-10-28T06:48:26.459Z"
   },
   {
    "duration": 66,
    "start_time": "2022-10-28T06:48:26.467Z"
   },
   {
    "duration": 40,
    "start_time": "2022-10-28T06:48:26.535Z"
   },
   {
    "duration": 36,
    "start_time": "2022-10-28T06:48:26.576Z"
   },
   {
    "duration": 24,
    "start_time": "2022-10-28T06:48:26.614Z"
   },
   {
    "duration": 112,
    "start_time": "2022-10-28T06:48:26.640Z"
   },
   {
    "duration": 131,
    "start_time": "2022-10-28T06:48:26.754Z"
   },
   {
    "duration": 6,
    "start_time": "2022-10-28T06:48:26.887Z"
   },
   {
    "duration": 17,
    "start_time": "2022-10-28T06:48:26.895Z"
   },
   {
    "duration": 8,
    "start_time": "2022-10-28T06:48:26.914Z"
   },
   {
    "duration": 8,
    "start_time": "2022-10-28T06:48:26.923Z"
   },
   {
    "duration": 13,
    "start_time": "2022-10-28T06:48:26.932Z"
   },
   {
    "duration": 1163,
    "start_time": "2022-10-28T06:48:26.947Z"
   },
   {
    "duration": 679,
    "start_time": "2022-10-28T06:48:28.112Z"
   },
   {
    "duration": 698,
    "start_time": "2022-10-28T06:48:28.792Z"
   },
   {
    "duration": 5,
    "start_time": "2022-10-28T06:48:29.491Z"
   },
   {
    "duration": 12,
    "start_time": "2022-10-28T06:48:29.497Z"
   },
   {
    "duration": 8,
    "start_time": "2022-10-28T06:48:29.510Z"
   },
   {
    "duration": 9,
    "start_time": "2022-10-28T06:48:29.520Z"
   },
   {
    "duration": 1962,
    "start_time": "2022-10-28T06:48:29.532Z"
   },
   {
    "duration": 15,
    "start_time": "2022-10-28T06:48:31.495Z"
   },
   {
    "duration": 17,
    "start_time": "2022-10-28T06:48:31.511Z"
   },
   {
    "duration": 11,
    "start_time": "2022-10-28T06:48:31.529Z"
   },
   {
    "duration": 20,
    "start_time": "2022-10-28T06:48:31.542Z"
   },
   {
    "duration": 13,
    "start_time": "2022-10-28T06:48:31.563Z"
   },
   {
    "duration": 12,
    "start_time": "2022-10-28T06:48:31.577Z"
   },
   {
    "duration": 22,
    "start_time": "2022-10-28T06:48:31.591Z"
   },
   {
    "duration": 2,
    "start_time": "2022-10-28T06:48:31.615Z"
   },
   {
    "duration": 1591,
    "start_time": "2022-10-28T06:48:31.619Z"
   },
   {
    "duration": 20734,
    "start_time": "2022-10-28T06:48:33.212Z"
   },
   {
    "duration": 1356,
    "start_time": "2022-10-28T06:59:58.122Z"
   },
   {
    "duration": 364,
    "start_time": "2022-10-28T06:59:59.480Z"
   },
   {
    "duration": 262,
    "start_time": "2022-10-28T06:59:59.846Z"
   },
   {
    "duration": 88,
    "start_time": "2022-10-28T07:00:00.110Z"
   },
   {
    "duration": 3,
    "start_time": "2022-10-28T07:00:00.199Z"
   },
   {
    "duration": 6,
    "start_time": "2022-10-28T07:00:00.209Z"
   },
   {
    "duration": 7,
    "start_time": "2022-10-28T07:00:00.216Z"
   },
   {
    "duration": 15,
    "start_time": "2022-10-28T07:00:00.225Z"
   },
   {
    "duration": 40,
    "start_time": "2022-10-28T07:00:00.242Z"
   },
   {
    "duration": 65,
    "start_time": "2022-10-28T07:00:00.284Z"
   },
   {
    "duration": 31,
    "start_time": "2022-10-28T07:00:00.351Z"
   },
   {
    "duration": 26,
    "start_time": "2022-10-28T07:00:00.384Z"
   },
   {
    "duration": 24,
    "start_time": "2022-10-28T07:00:00.412Z"
   },
   {
    "duration": 113,
    "start_time": "2022-10-28T07:00:00.437Z"
   },
   {
    "duration": 146,
    "start_time": "2022-10-28T07:00:00.552Z"
   },
   {
    "duration": 7,
    "start_time": "2022-10-28T07:00:00.699Z"
   },
   {
    "duration": 23,
    "start_time": "2022-10-28T07:00:00.709Z"
   },
   {
    "duration": 50,
    "start_time": "2022-10-28T07:00:00.734Z"
   },
   {
    "duration": 26,
    "start_time": "2022-10-28T07:00:00.786Z"
   },
   {
    "duration": 43,
    "start_time": "2022-10-28T07:00:00.814Z"
   },
   {
    "duration": 1191,
    "start_time": "2022-10-28T07:00:00.858Z"
   },
   {
    "duration": 732,
    "start_time": "2022-10-28T07:00:02.051Z"
   },
   {
    "duration": 705,
    "start_time": "2022-10-28T07:00:02.785Z"
   },
   {
    "duration": 4,
    "start_time": "2022-10-28T07:00:03.491Z"
   },
   {
    "duration": 13,
    "start_time": "2022-10-28T07:00:03.497Z"
   },
   {
    "duration": 4,
    "start_time": "2022-10-28T07:00:03.511Z"
   },
   {
    "duration": 7,
    "start_time": "2022-10-28T07:00:03.516Z"
   },
   {
    "duration": 1985,
    "start_time": "2022-10-28T07:00:03.526Z"
   },
   {
    "duration": 8,
    "start_time": "2022-10-28T07:00:05.512Z"
   },
   {
    "duration": 27,
    "start_time": "2022-10-28T07:00:05.521Z"
   },
   {
    "duration": 12,
    "start_time": "2022-10-28T07:00:05.549Z"
   },
   {
    "duration": 12,
    "start_time": "2022-10-28T07:00:05.563Z"
   },
   {
    "duration": 8,
    "start_time": "2022-10-28T07:00:05.577Z"
   },
   {
    "duration": 23,
    "start_time": "2022-10-28T07:00:05.586Z"
   },
   {
    "duration": 24,
    "start_time": "2022-10-28T07:00:05.610Z"
   },
   {
    "duration": 3,
    "start_time": "2022-10-28T07:00:05.635Z"
   },
   {
    "duration": 1171,
    "start_time": "2022-10-28T07:00:05.639Z"
   },
   {
    "duration": 20819,
    "start_time": "2022-10-28T07:00:06.812Z"
   },
   {
    "duration": 1408,
    "start_time": "2022-10-28T07:03:45.108Z"
   },
   {
    "duration": 386,
    "start_time": "2022-10-28T07:03:46.518Z"
   },
   {
    "duration": 265,
    "start_time": "2022-10-28T07:03:46.906Z"
   },
   {
    "duration": 91,
    "start_time": "2022-10-28T07:03:47.174Z"
   },
   {
    "duration": 4,
    "start_time": "2022-10-28T07:03:47.266Z"
   },
   {
    "duration": 16,
    "start_time": "2022-10-28T07:03:47.271Z"
   },
   {
    "duration": 6,
    "start_time": "2022-10-28T07:03:47.288Z"
   },
   {
    "duration": 6,
    "start_time": "2022-10-28T07:03:47.295Z"
   },
   {
    "duration": 4,
    "start_time": "2022-10-28T07:03:47.309Z"
   },
   {
    "duration": 40,
    "start_time": "2022-10-28T07:03:47.315Z"
   },
   {
    "duration": 30,
    "start_time": "2022-10-28T07:03:47.357Z"
   },
   {
    "duration": 40,
    "start_time": "2022-10-28T07:03:47.389Z"
   },
   {
    "duration": 24,
    "start_time": "2022-10-28T07:03:47.430Z"
   },
   {
    "duration": 116,
    "start_time": "2022-10-28T07:03:47.456Z"
   },
   {
    "duration": 136,
    "start_time": "2022-10-28T07:03:47.573Z"
   },
   {
    "duration": 7,
    "start_time": "2022-10-28T07:03:47.711Z"
   },
   {
    "duration": 4,
    "start_time": "2022-10-28T07:03:47.720Z"
   },
   {
    "duration": 4,
    "start_time": "2022-10-28T07:03:47.726Z"
   },
   {
    "duration": 5,
    "start_time": "2022-10-28T07:03:47.731Z"
   },
   {
    "duration": 6,
    "start_time": "2022-10-28T07:03:47.737Z"
   },
   {
    "duration": 1177,
    "start_time": "2022-10-28T07:03:47.745Z"
   },
   {
    "duration": 694,
    "start_time": "2022-10-28T07:03:48.923Z"
   },
   {
    "duration": 672,
    "start_time": "2022-10-28T07:03:49.619Z"
   },
   {
    "duration": 4,
    "start_time": "2022-10-28T07:03:50.293Z"
   },
   {
    "duration": 14,
    "start_time": "2022-10-28T07:03:50.298Z"
   },
   {
    "duration": 17,
    "start_time": "2022-10-28T07:03:50.313Z"
   },
   {
    "duration": 6,
    "start_time": "2022-10-28T07:03:50.331Z"
   },
   {
    "duration": 1935,
    "start_time": "2022-10-28T07:03:50.340Z"
   },
   {
    "duration": 8,
    "start_time": "2022-10-28T07:03:52.277Z"
   },
   {
    "duration": 26,
    "start_time": "2022-10-28T07:03:52.286Z"
   },
   {
    "duration": 11,
    "start_time": "2022-10-28T07:03:52.314Z"
   },
   {
    "duration": 10,
    "start_time": "2022-10-28T07:03:52.327Z"
   },
   {
    "duration": 4,
    "start_time": "2022-10-28T07:03:52.338Z"
   },
   {
    "duration": 11,
    "start_time": "2022-10-28T07:03:52.344Z"
   },
   {
    "duration": 24,
    "start_time": "2022-10-28T07:03:52.356Z"
   },
   {
    "duration": 2,
    "start_time": "2022-10-28T07:03:52.382Z"
   },
   {
    "duration": 931,
    "start_time": "2022-10-28T07:03:52.385Z"
   },
   {
    "duration": 20848,
    "start_time": "2022-10-28T07:03:53.317Z"
   },
   {
    "duration": 818156,
    "start_time": "2022-10-28T07:04:14.167Z"
   },
   {
    "duration": 3,
    "start_time": "2022-10-28T07:17:52.325Z"
   },
   {
    "duration": 136,
    "start_time": "2022-10-28T07:17:52.330Z"
   },
   {
    "duration": 0,
    "start_time": "2022-10-28T07:17:52.468Z"
   },
   {
    "duration": 17,
    "start_time": "2022-10-28T07:19:11.374Z"
   },
   {
    "duration": 21,
    "start_time": "2022-10-28T07:19:22.462Z"
   },
   {
    "duration": 28,
    "start_time": "2022-10-28T07:19:42.509Z"
   },
   {
    "duration": 1378,
    "start_time": "2022-10-28T07:20:07.143Z"
   },
   {
    "duration": 385,
    "start_time": "2022-10-28T07:20:08.523Z"
   },
   {
    "duration": 267,
    "start_time": "2022-10-28T07:20:08.909Z"
   },
   {
    "duration": 91,
    "start_time": "2022-10-28T07:20:09.178Z"
   },
   {
    "duration": 4,
    "start_time": "2022-10-28T07:20:09.271Z"
   },
   {
    "duration": 9,
    "start_time": "2022-10-28T07:20:09.277Z"
   },
   {
    "duration": 6,
    "start_time": "2022-10-28T07:20:09.288Z"
   },
   {
    "duration": 5,
    "start_time": "2022-10-28T07:20:09.309Z"
   },
   {
    "duration": 8,
    "start_time": "2022-10-28T07:20:09.315Z"
   },
   {
    "duration": 38,
    "start_time": "2022-10-28T07:20:09.325Z"
   },
   {
    "duration": 44,
    "start_time": "2022-10-28T07:20:09.365Z"
   },
   {
    "duration": 25,
    "start_time": "2022-10-28T07:20:09.410Z"
   },
   {
    "duration": 23,
    "start_time": "2022-10-28T07:20:09.436Z"
   },
   {
    "duration": 113,
    "start_time": "2022-10-28T07:20:09.461Z"
   },
   {
    "duration": 141,
    "start_time": "2022-10-28T07:20:09.575Z"
   },
   {
    "duration": 8,
    "start_time": "2022-10-28T07:20:09.718Z"
   },
   {
    "duration": 8,
    "start_time": "2022-10-28T07:20:09.728Z"
   },
   {
    "duration": 6,
    "start_time": "2022-10-28T07:20:09.737Z"
   },
   {
    "duration": 5,
    "start_time": "2022-10-28T07:20:09.745Z"
   },
   {
    "duration": 6,
    "start_time": "2022-10-28T07:20:09.751Z"
   },
   {
    "duration": 1167,
    "start_time": "2022-10-28T07:20:09.758Z"
   },
   {
    "duration": 673,
    "start_time": "2022-10-28T07:20:10.926Z"
   },
   {
    "duration": 694,
    "start_time": "2022-10-28T07:20:11.601Z"
   },
   {
    "duration": 4,
    "start_time": "2022-10-28T07:20:12.297Z"
   },
   {
    "duration": 11,
    "start_time": "2022-10-28T07:20:12.302Z"
   },
   {
    "duration": 6,
    "start_time": "2022-10-28T07:20:12.314Z"
   },
   {
    "duration": 13,
    "start_time": "2022-10-28T07:20:12.321Z"
   },
   {
    "duration": 1952,
    "start_time": "2022-10-28T07:20:12.336Z"
   },
   {
    "duration": 8,
    "start_time": "2022-10-28T07:20:14.289Z"
   },
   {
    "duration": 19,
    "start_time": "2022-10-28T07:20:14.299Z"
   },
   {
    "duration": 12,
    "start_time": "2022-10-28T07:20:14.319Z"
   },
   {
    "duration": 12,
    "start_time": "2022-10-28T07:20:14.333Z"
   },
   {
    "duration": 5,
    "start_time": "2022-10-28T07:20:14.346Z"
   },
   {
    "duration": 6,
    "start_time": "2022-10-28T07:20:14.353Z"
   },
   {
    "duration": 56,
    "start_time": "2022-10-28T07:20:14.360Z"
   },
   {
    "duration": 4,
    "start_time": "2022-10-28T07:20:14.418Z"
   },
   {
    "duration": 1486,
    "start_time": "2022-10-28T07:20:14.424Z"
   },
   {
    "duration": 20828,
    "start_time": "2022-10-28T07:20:15.912Z"
   },
   {
    "duration": 1365,
    "start_time": "2022-10-28T07:25:29.515Z"
   },
   {
    "duration": 366,
    "start_time": "2022-10-28T07:25:30.882Z"
   },
   {
    "duration": 261,
    "start_time": "2022-10-28T07:25:31.249Z"
   },
   {
    "duration": 89,
    "start_time": "2022-10-28T07:25:31.512Z"
   },
   {
    "duration": 3,
    "start_time": "2022-10-28T07:25:31.602Z"
   },
   {
    "duration": 10,
    "start_time": "2022-10-28T07:25:31.607Z"
   },
   {
    "duration": 8,
    "start_time": "2022-10-28T07:25:31.619Z"
   },
   {
    "duration": 6,
    "start_time": "2022-10-28T07:25:31.628Z"
   },
   {
    "duration": 6,
    "start_time": "2022-10-28T07:25:31.635Z"
   },
   {
    "duration": 37,
    "start_time": "2022-10-28T07:25:31.644Z"
   },
   {
    "duration": 45,
    "start_time": "2022-10-28T07:25:31.683Z"
   },
   {
    "duration": 25,
    "start_time": "2022-10-28T07:25:31.729Z"
   },
   {
    "duration": 22,
    "start_time": "2022-10-28T07:25:31.756Z"
   },
   {
    "duration": 123,
    "start_time": "2022-10-28T07:25:31.780Z"
   },
   {
    "duration": 137,
    "start_time": "2022-10-28T07:25:31.904Z"
   },
   {
    "duration": 6,
    "start_time": "2022-10-28T07:25:32.043Z"
   },
   {
    "duration": 6,
    "start_time": "2022-10-28T07:25:32.051Z"
   },
   {
    "duration": 5,
    "start_time": "2022-10-28T07:25:32.059Z"
   },
   {
    "duration": 6,
    "start_time": "2022-10-28T07:25:32.066Z"
   },
   {
    "duration": 5,
    "start_time": "2022-10-28T07:25:32.074Z"
   },
   {
    "duration": 1230,
    "start_time": "2022-10-28T07:25:32.108Z"
   },
   {
    "duration": 730,
    "start_time": "2022-10-28T07:25:33.339Z"
   },
   {
    "duration": 769,
    "start_time": "2022-10-28T07:25:34.071Z"
   },
   {
    "duration": 4,
    "start_time": "2022-10-28T07:25:34.842Z"
   },
   {
    "duration": 8,
    "start_time": "2022-10-28T07:25:34.848Z"
   },
   {
    "duration": 8,
    "start_time": "2022-10-28T07:25:34.857Z"
   },
   {
    "duration": 6,
    "start_time": "2022-10-28T07:25:34.866Z"
   },
   {
    "duration": 1934,
    "start_time": "2022-10-28T07:25:34.875Z"
   },
   {
    "duration": 8,
    "start_time": "2022-10-28T07:25:36.810Z"
   },
   {
    "duration": 44,
    "start_time": "2022-10-28T07:25:36.819Z"
   },
   {
    "duration": 24,
    "start_time": "2022-10-28T07:25:36.865Z"
   },
   {
    "duration": 14,
    "start_time": "2022-10-28T07:25:36.891Z"
   },
   {
    "duration": 7,
    "start_time": "2022-10-28T07:25:36.906Z"
   },
   {
    "duration": 12,
    "start_time": "2022-10-28T07:25:36.914Z"
   },
   {
    "duration": 27,
    "start_time": "2022-10-28T07:25:36.927Z"
   },
   {
    "duration": 5,
    "start_time": "2022-10-28T07:25:36.956Z"
   },
   {
    "duration": 1559,
    "start_time": "2022-10-28T07:25:36.962Z"
   },
   {
    "duration": 20792,
    "start_time": "2022-10-28T07:25:38.609Z"
   },
   {
    "duration": 1398,
    "start_time": "2022-10-28T07:38:39.992Z"
   },
   {
    "duration": 378,
    "start_time": "2022-10-28T07:38:41.392Z"
   },
   {
    "duration": 260,
    "start_time": "2022-10-28T07:38:41.772Z"
   },
   {
    "duration": 88,
    "start_time": "2022-10-28T07:38:42.034Z"
   },
   {
    "duration": 3,
    "start_time": "2022-10-28T07:38:42.124Z"
   },
   {
    "duration": 10,
    "start_time": "2022-10-28T07:38:42.128Z"
   },
   {
    "duration": 7,
    "start_time": "2022-10-28T07:38:42.140Z"
   },
   {
    "duration": 7,
    "start_time": "2022-10-28T07:38:42.148Z"
   },
   {
    "duration": 11,
    "start_time": "2022-10-28T07:38:42.156Z"
   },
   {
    "duration": 57,
    "start_time": "2022-10-28T07:38:42.169Z"
   },
   {
    "duration": 30,
    "start_time": "2022-10-28T07:38:42.228Z"
   },
   {
    "duration": 26,
    "start_time": "2022-10-28T07:38:42.260Z"
   },
   {
    "duration": 43,
    "start_time": "2022-10-28T07:38:42.288Z"
   },
   {
    "duration": 114,
    "start_time": "2022-10-28T07:38:42.332Z"
   },
   {
    "duration": 137,
    "start_time": "2022-10-28T07:38:42.447Z"
   },
   {
    "duration": 6,
    "start_time": "2022-10-28T07:38:42.586Z"
   },
   {
    "duration": 15,
    "start_time": "2022-10-28T07:38:42.594Z"
   },
   {
    "duration": 10,
    "start_time": "2022-10-28T07:38:42.611Z"
   },
   {
    "duration": 6,
    "start_time": "2022-10-28T07:38:42.623Z"
   },
   {
    "duration": 7,
    "start_time": "2022-10-28T07:38:42.631Z"
   },
   {
    "duration": 1154,
    "start_time": "2022-10-28T07:38:42.639Z"
   },
   {
    "duration": 715,
    "start_time": "2022-10-28T07:38:43.794Z"
   },
   {
    "duration": 707,
    "start_time": "2022-10-28T07:38:44.511Z"
   },
   {
    "duration": 4,
    "start_time": "2022-10-28T07:38:45.220Z"
   },
   {
    "duration": 12,
    "start_time": "2022-10-28T07:38:45.226Z"
   },
   {
    "duration": 10,
    "start_time": "2022-10-28T07:38:45.239Z"
   },
   {
    "duration": 41,
    "start_time": "2022-10-28T07:38:45.250Z"
   },
   {
    "duration": 1996,
    "start_time": "2022-10-28T07:38:45.295Z"
   },
   {
    "duration": 7,
    "start_time": "2022-10-28T07:38:47.293Z"
   },
   {
    "duration": 12,
    "start_time": "2022-10-28T07:38:47.309Z"
   },
   {
    "duration": 14,
    "start_time": "2022-10-28T07:38:47.323Z"
   },
   {
    "duration": 11,
    "start_time": "2022-10-28T07:38:47.339Z"
   },
   {
    "duration": 4,
    "start_time": "2022-10-28T07:38:47.352Z"
   },
   {
    "duration": 7,
    "start_time": "2022-10-28T07:38:47.358Z"
   },
   {
    "duration": 16,
    "start_time": "2022-10-28T07:38:47.367Z"
   },
   {
    "duration": 2,
    "start_time": "2022-10-28T07:38:47.408Z"
   },
   {
    "duration": 1497,
    "start_time": "2022-10-28T07:38:47.412Z"
   },
   {
    "duration": 20956,
    "start_time": "2022-10-28T07:38:48.910Z"
   },
   {
    "duration": 1340,
    "start_time": "2022-10-28T07:40:09.634Z"
   },
   {
    "duration": 363,
    "start_time": "2022-10-28T07:40:10.976Z"
   },
   {
    "duration": 278,
    "start_time": "2022-10-28T07:40:11.341Z"
   },
   {
    "duration": 93,
    "start_time": "2022-10-28T07:40:11.621Z"
   },
   {
    "duration": 3,
    "start_time": "2022-10-28T07:40:11.715Z"
   },
   {
    "duration": 19,
    "start_time": "2022-10-28T07:40:11.720Z"
   },
   {
    "duration": 16,
    "start_time": "2022-10-28T07:40:11.741Z"
   },
   {
    "duration": 16,
    "start_time": "2022-10-28T07:40:11.759Z"
   },
   {
    "duration": 23,
    "start_time": "2022-10-28T07:40:11.776Z"
   },
   {
    "duration": 45,
    "start_time": "2022-10-28T07:40:11.802Z"
   },
   {
    "duration": 31,
    "start_time": "2022-10-28T07:40:11.849Z"
   },
   {
    "duration": 31,
    "start_time": "2022-10-28T07:40:11.881Z"
   },
   {
    "duration": 23,
    "start_time": "2022-10-28T07:40:11.913Z"
   },
   {
    "duration": 109,
    "start_time": "2022-10-28T07:40:11.937Z"
   },
   {
    "duration": 125,
    "start_time": "2022-10-28T07:40:12.048Z"
   },
   {
    "duration": 7,
    "start_time": "2022-10-28T07:40:12.175Z"
   },
   {
    "duration": 23,
    "start_time": "2022-10-28T07:40:12.183Z"
   },
   {
    "duration": 18,
    "start_time": "2022-10-28T07:40:12.208Z"
   },
   {
    "duration": 15,
    "start_time": "2022-10-28T07:40:12.227Z"
   },
   {
    "duration": 15,
    "start_time": "2022-10-28T07:40:12.244Z"
   },
   {
    "duration": 1162,
    "start_time": "2022-10-28T07:40:12.260Z"
   },
   {
    "duration": 672,
    "start_time": "2022-10-28T07:40:13.423Z"
   },
   {
    "duration": 735,
    "start_time": "2022-10-28T07:40:14.096Z"
   },
   {
    "duration": 4,
    "start_time": "2022-10-28T07:40:14.832Z"
   },
   {
    "duration": 8,
    "start_time": "2022-10-28T07:40:14.837Z"
   },
   {
    "duration": 35,
    "start_time": "2022-10-28T07:40:14.846Z"
   },
   {
    "duration": 7,
    "start_time": "2022-10-28T07:40:14.883Z"
   },
   {
    "duration": 2022,
    "start_time": "2022-10-28T07:40:14.894Z"
   },
   {
    "duration": 8,
    "start_time": "2022-10-28T07:40:16.918Z"
   },
   {
    "duration": 24,
    "start_time": "2022-10-28T07:40:16.928Z"
   },
   {
    "duration": 16,
    "start_time": "2022-10-28T07:40:16.954Z"
   },
   {
    "duration": 23,
    "start_time": "2022-10-28T07:40:16.972Z"
   },
   {
    "duration": 20,
    "start_time": "2022-10-28T07:40:16.996Z"
   },
   {
    "duration": 30,
    "start_time": "2022-10-28T07:40:17.017Z"
   },
   {
    "duration": 30,
    "start_time": "2022-10-28T07:40:17.049Z"
   },
   {
    "duration": 13,
    "start_time": "2022-10-28T07:40:17.080Z"
   },
   {
    "duration": 1516,
    "start_time": "2022-10-28T07:40:17.094Z"
   },
   {
    "duration": 20778,
    "start_time": "2022-10-28T07:40:18.612Z"
   },
   {
    "duration": 1424,
    "start_time": "2022-10-28T07:42:57.887Z"
   },
   {
    "duration": 359,
    "start_time": "2022-10-28T07:42:59.313Z"
   },
   {
    "duration": 261,
    "start_time": "2022-10-28T07:42:59.674Z"
   },
   {
    "duration": 94,
    "start_time": "2022-10-28T07:42:59.937Z"
   },
   {
    "duration": 3,
    "start_time": "2022-10-28T07:43:00.033Z"
   },
   {
    "duration": 24,
    "start_time": "2022-10-28T07:43:00.038Z"
   },
   {
    "duration": 20,
    "start_time": "2022-10-28T07:43:00.064Z"
   },
   {
    "duration": 8,
    "start_time": "2022-10-28T07:43:00.085Z"
   },
   {
    "duration": 18,
    "start_time": "2022-10-28T07:43:00.095Z"
   },
   {
    "duration": 39,
    "start_time": "2022-10-28T07:43:00.116Z"
   },
   {
    "duration": 46,
    "start_time": "2022-10-28T07:43:00.157Z"
   },
   {
    "duration": 26,
    "start_time": "2022-10-28T07:43:00.204Z"
   },
   {
    "duration": 23,
    "start_time": "2022-10-28T07:43:00.232Z"
   },
   {
    "duration": 121,
    "start_time": "2022-10-28T07:43:00.257Z"
   },
   {
    "duration": 141,
    "start_time": "2022-10-28T07:43:00.380Z"
   },
   {
    "duration": 8,
    "start_time": "2022-10-28T07:43:00.523Z"
   },
   {
    "duration": 41,
    "start_time": "2022-10-28T07:43:00.533Z"
   },
   {
    "duration": 13,
    "start_time": "2022-10-28T07:43:00.575Z"
   },
   {
    "duration": 26,
    "start_time": "2022-10-28T07:43:00.589Z"
   },
   {
    "duration": 24,
    "start_time": "2022-10-28T07:43:00.616Z"
   },
   {
    "duration": 1160,
    "start_time": "2022-10-28T07:43:00.641Z"
   },
   {
    "duration": 674,
    "start_time": "2022-10-28T07:43:01.803Z"
   },
   {
    "duration": 701,
    "start_time": "2022-10-28T07:43:02.478Z"
   },
   {
    "duration": 5,
    "start_time": "2022-10-28T07:43:03.180Z"
   },
   {
    "duration": 7,
    "start_time": "2022-10-28T07:43:03.186Z"
   },
   {
    "duration": 15,
    "start_time": "2022-10-28T07:43:03.194Z"
   },
   {
    "duration": 4,
    "start_time": "2022-10-28T07:43:03.210Z"
   },
   {
    "duration": 1995,
    "start_time": "2022-10-28T07:43:03.217Z"
   },
   {
    "duration": 7,
    "start_time": "2022-10-28T07:43:05.214Z"
   },
   {
    "duration": 14,
    "start_time": "2022-10-28T07:43:05.222Z"
   },
   {
    "duration": 11,
    "start_time": "2022-10-28T07:43:05.237Z"
   },
   {
    "duration": 11,
    "start_time": "2022-10-28T07:43:05.249Z"
   },
   {
    "duration": 4,
    "start_time": "2022-10-28T07:43:05.262Z"
   },
   {
    "duration": 9,
    "start_time": "2022-10-28T07:43:05.268Z"
   },
   {
    "duration": 18,
    "start_time": "2022-10-28T07:43:05.279Z"
   },
   {
    "duration": 2,
    "start_time": "2022-10-28T07:43:05.299Z"
   },
   {
    "duration": 1613,
    "start_time": "2022-10-28T07:43:05.303Z"
   },
   {
    "duration": 20934,
    "start_time": "2022-10-28T07:43:06.917Z"
   },
   {
    "duration": 1348,
    "start_time": "2022-10-28T08:47:56.770Z"
   },
   {
    "duration": 442,
    "start_time": "2022-10-28T08:47:58.120Z"
   },
   {
    "duration": 322,
    "start_time": "2022-10-28T08:47:58.563Z"
   },
   {
    "duration": 103,
    "start_time": "2022-10-28T08:47:58.887Z"
   },
   {
    "duration": 4,
    "start_time": "2022-10-28T08:47:58.992Z"
   },
   {
    "duration": 34,
    "start_time": "2022-10-28T08:47:58.998Z"
   },
   {
    "duration": 6,
    "start_time": "2022-10-28T08:47:59.034Z"
   },
   {
    "duration": 12,
    "start_time": "2022-10-28T08:47:59.042Z"
   },
   {
    "duration": 8,
    "start_time": "2022-10-28T08:47:59.057Z"
   },
   {
    "duration": 50,
    "start_time": "2022-10-28T08:47:59.068Z"
   },
   {
    "duration": 31,
    "start_time": "2022-10-28T08:47:59.120Z"
   },
   {
    "duration": 32,
    "start_time": "2022-10-28T08:47:59.153Z"
   },
   {
    "duration": 67,
    "start_time": "2022-10-28T08:47:59.187Z"
   },
   {
    "duration": 108,
    "start_time": "2022-10-28T08:47:59.256Z"
   },
   {
    "duration": 144,
    "start_time": "2022-10-28T08:47:59.366Z"
   },
   {
    "duration": 13,
    "start_time": "2022-10-28T08:47:59.511Z"
   },
   {
    "duration": 20,
    "start_time": "2022-10-28T08:47:59.525Z"
   },
   {
    "duration": 8,
    "start_time": "2022-10-28T08:47:59.547Z"
   },
   {
    "duration": 7,
    "start_time": "2022-10-28T08:47:59.556Z"
   },
   {
    "duration": 10,
    "start_time": "2022-10-28T08:47:59.565Z"
   },
   {
    "duration": 1320,
    "start_time": "2022-10-28T08:47:59.576Z"
   },
   {
    "duration": 727,
    "start_time": "2022-10-28T08:48:00.898Z"
   },
   {
    "duration": 692,
    "start_time": "2022-10-28T08:48:01.627Z"
   },
   {
    "duration": 4,
    "start_time": "2022-10-28T08:48:02.322Z"
   },
   {
    "duration": 8,
    "start_time": "2022-10-28T08:48:02.329Z"
   },
   {
    "duration": 7,
    "start_time": "2022-10-28T08:48:02.338Z"
   },
   {
    "duration": 20,
    "start_time": "2022-10-28T08:48:02.346Z"
   },
   {
    "duration": 2301,
    "start_time": "2022-10-28T08:48:02.369Z"
   },
   {
    "duration": 11,
    "start_time": "2022-10-28T08:48:04.672Z"
   },
   {
    "duration": 32,
    "start_time": "2022-10-28T08:48:04.686Z"
   },
   {
    "duration": 20,
    "start_time": "2022-10-28T08:48:04.720Z"
   },
   {
    "duration": 22,
    "start_time": "2022-10-28T08:48:04.742Z"
   },
   {
    "duration": 14,
    "start_time": "2022-10-28T08:48:04.766Z"
   },
   {
    "duration": 10,
    "start_time": "2022-10-28T08:48:04.782Z"
   },
   {
    "duration": 19,
    "start_time": "2022-10-28T08:48:04.794Z"
   },
   {
    "duration": 3,
    "start_time": "2022-10-28T08:48:04.816Z"
   },
   {
    "duration": 3502,
    "start_time": "2022-10-28T08:48:04.821Z"
   },
   {
    "duration": 21643,
    "start_time": "2022-10-28T08:48:08.329Z"
   },
   {
    "duration": 338801,
    "start_time": "2022-10-28T08:48:29.974Z"
   },
   {
    "duration": 4,
    "start_time": "2022-10-28T08:54:08.777Z"
   },
   {
    "duration": 164,
    "start_time": "2022-10-28T08:54:08.783Z"
   },
   {
    "duration": 0,
    "start_time": "2022-10-28T08:54:08.948Z"
   },
   {
    "duration": 1384,
    "start_time": "2022-10-28T08:54:30.449Z"
   },
   {
    "duration": 382,
    "start_time": "2022-10-28T08:54:31.835Z"
   },
   {
    "duration": 268,
    "start_time": "2022-10-28T08:54:32.218Z"
   },
   {
    "duration": 92,
    "start_time": "2022-10-28T08:54:32.488Z"
   },
   {
    "duration": 4,
    "start_time": "2022-10-28T08:54:32.581Z"
   },
   {
    "duration": 7,
    "start_time": "2022-10-28T08:54:32.586Z"
   },
   {
    "duration": 19,
    "start_time": "2022-10-28T08:54:32.594Z"
   },
   {
    "duration": 10,
    "start_time": "2022-10-28T08:54:32.615Z"
   },
   {
    "duration": 19,
    "start_time": "2022-10-28T08:54:32.627Z"
   },
   {
    "duration": 40,
    "start_time": "2022-10-28T08:54:32.649Z"
   },
   {
    "duration": 45,
    "start_time": "2022-10-28T08:54:32.690Z"
   },
   {
    "duration": 27,
    "start_time": "2022-10-28T08:54:32.736Z"
   },
   {
    "duration": 25,
    "start_time": "2022-10-28T08:54:32.765Z"
   },
   {
    "duration": 125,
    "start_time": "2022-10-28T08:54:32.791Z"
   },
   {
    "duration": 141,
    "start_time": "2022-10-28T08:54:32.918Z"
   },
   {
    "duration": 6,
    "start_time": "2022-10-28T08:54:33.061Z"
   },
   {
    "duration": 20,
    "start_time": "2022-10-28T08:54:33.068Z"
   },
   {
    "duration": 4,
    "start_time": "2022-10-28T08:54:33.089Z"
   },
   {
    "duration": 7,
    "start_time": "2022-10-28T08:54:33.094Z"
   },
   {
    "duration": 10,
    "start_time": "2022-10-28T08:54:33.103Z"
   },
   {
    "duration": 1230,
    "start_time": "2022-10-28T08:54:33.114Z"
   },
   {
    "duration": 789,
    "start_time": "2022-10-28T08:54:34.346Z"
   },
   {
    "duration": 714,
    "start_time": "2022-10-28T08:54:35.137Z"
   },
   {
    "duration": 5,
    "start_time": "2022-10-28T08:54:35.852Z"
   },
   {
    "duration": 6,
    "start_time": "2022-10-28T08:54:35.858Z"
   },
   {
    "duration": 5,
    "start_time": "2022-10-28T08:54:35.865Z"
   },
   {
    "duration": 9,
    "start_time": "2022-10-28T08:54:35.871Z"
   },
   {
    "duration": 2099,
    "start_time": "2022-10-28T08:54:35.883Z"
   },
   {
    "duration": 8,
    "start_time": "2022-10-28T08:54:37.984Z"
   },
   {
    "duration": 28,
    "start_time": "2022-10-28T08:54:37.993Z"
   },
   {
    "duration": 16,
    "start_time": "2022-10-28T08:54:38.023Z"
   },
   {
    "duration": 16,
    "start_time": "2022-10-28T08:54:38.041Z"
   },
   {
    "duration": 5,
    "start_time": "2022-10-28T08:54:38.058Z"
   },
   {
    "duration": 13,
    "start_time": "2022-10-28T08:54:38.064Z"
   },
   {
    "duration": 18,
    "start_time": "2022-10-28T08:54:38.079Z"
   },
   {
    "duration": 11,
    "start_time": "2022-10-28T08:54:38.099Z"
   },
   {
    "duration": 2331,
    "start_time": "2022-10-28T08:54:38.111Z"
   },
   {
    "duration": 21804,
    "start_time": "2022-10-28T08:54:40.510Z"
   },
   {
    "duration": 329580,
    "start_time": "2022-10-28T08:55:02.316Z"
   },
   {
    "duration": 4,
    "start_time": "2022-10-28T09:00:31.898Z"
   },
   {
    "duration": 145,
    "start_time": "2022-10-28T09:00:31.908Z"
   },
   {
    "duration": 0,
    "start_time": "2022-10-28T09:00:32.054Z"
   },
   {
    "duration": 5787,
    "start_time": "2022-10-28T09:02:33.357Z"
   },
   {
    "duration": 15,
    "start_time": "2022-10-28T09:03:01.989Z"
   },
   {
    "duration": 27,
    "start_time": "2022-10-28T09:10:30.098Z"
   },
   {
    "duration": 54,
    "start_time": "2022-10-28T09:10:41.617Z"
   },
   {
    "duration": 54,
    "start_time": "2022-10-28T09:11:06.842Z"
   },
   {
    "duration": 39,
    "start_time": "2022-10-28T09:11:23.748Z"
   },
   {
    "duration": 2,
    "start_time": "2022-10-28T09:15:13.583Z"
   },
   {
    "duration": 3,
    "start_time": "2022-10-28T09:15:17.984Z"
   },
   {
    "duration": 6464,
    "start_time": "2022-10-28T09:15:30.534Z"
   },
   {
    "duration": 6110,
    "start_time": "2022-10-28T09:16:14.636Z"
   },
   {
    "duration": 6099,
    "start_time": "2022-10-28T09:16:54.761Z"
   },
   {
    "duration": 24,
    "start_time": "2022-10-28T09:17:17.450Z"
   },
   {
    "duration": 6128,
    "start_time": "2022-10-28T09:17:26.750Z"
   },
   {
    "duration": 18,
    "start_time": "2022-10-28T09:17:46.976Z"
   },
   {
    "duration": 6211,
    "start_time": "2022-10-28T09:17:51.527Z"
   },
   {
    "duration": 6,
    "start_time": "2022-10-28T09:21:41.640Z"
   },
   {
    "duration": 1298,
    "start_time": "2022-10-28T09:21:41.892Z"
   },
   {
    "duration": 51,
    "start_time": "2022-10-28T09:23:05.231Z"
   },
   {
    "duration": 74,
    "start_time": "2022-10-28T09:23:12.590Z"
   },
   {
    "duration": 1143,
    "start_time": "2022-10-28T09:23:21.495Z"
   },
   {
    "duration": 1304,
    "start_time": "2022-10-28T09:24:03.492Z"
   },
   {
    "duration": 1312,
    "start_time": "2022-10-28T09:24:24.950Z"
   },
   {
    "duration": 1190,
    "start_time": "2022-10-28T09:25:23.249Z"
   },
   {
    "duration": 1306,
    "start_time": "2022-10-28T09:25:43.935Z"
   },
   {
    "duration": 1304,
    "start_time": "2022-10-28T09:25:49.134Z"
   },
   {
    "duration": 1401,
    "start_time": "2022-10-28T09:26:40.477Z"
   },
   {
    "duration": 430,
    "start_time": "2022-10-28T09:26:41.880Z"
   },
   {
    "duration": 316,
    "start_time": "2022-10-28T09:26:42.316Z"
   },
   {
    "duration": 101,
    "start_time": "2022-10-28T09:26:42.636Z"
   },
   {
    "duration": 4,
    "start_time": "2022-10-28T09:26:42.739Z"
   },
   {
    "duration": 8,
    "start_time": "2022-10-28T09:26:42.744Z"
   },
   {
    "duration": 7,
    "start_time": "2022-10-28T09:26:42.753Z"
   },
   {
    "duration": 8,
    "start_time": "2022-10-28T09:26:42.761Z"
   },
   {
    "duration": 9,
    "start_time": "2022-10-28T09:26:42.771Z"
   },
   {
    "duration": 48,
    "start_time": "2022-10-28T09:26:42.783Z"
   },
   {
    "duration": 30,
    "start_time": "2022-10-28T09:26:42.833Z"
   },
   {
    "duration": 26,
    "start_time": "2022-10-28T09:26:42.865Z"
   },
   {
    "duration": 49,
    "start_time": "2022-10-28T09:26:42.892Z"
   },
   {
    "duration": 127,
    "start_time": "2022-10-28T09:26:42.942Z"
   },
   {
    "duration": 152,
    "start_time": "2022-10-28T09:26:43.071Z"
   },
   {
    "duration": 17,
    "start_time": "2022-10-28T09:26:43.225Z"
   },
   {
    "duration": 18,
    "start_time": "2022-10-28T09:26:43.244Z"
   },
   {
    "duration": 10,
    "start_time": "2022-10-28T09:26:43.264Z"
   },
   {
    "duration": 12,
    "start_time": "2022-10-28T09:26:43.276Z"
   },
   {
    "duration": 56,
    "start_time": "2022-10-28T09:26:43.289Z"
   },
   {
    "duration": 1407,
    "start_time": "2022-10-28T09:26:43.347Z"
   },
   {
    "duration": 0,
    "start_time": "2022-10-28T09:26:44.756Z"
   },
   {
    "duration": 0,
    "start_time": "2022-10-28T09:26:44.758Z"
   },
   {
    "duration": 0,
    "start_time": "2022-10-28T09:26:44.758Z"
   },
   {
    "duration": 0,
    "start_time": "2022-10-28T09:26:44.759Z"
   },
   {
    "duration": 0,
    "start_time": "2022-10-28T09:26:44.760Z"
   },
   {
    "duration": 0,
    "start_time": "2022-10-28T09:26:44.761Z"
   },
   {
    "duration": 0,
    "start_time": "2022-10-28T09:26:44.762Z"
   },
   {
    "duration": 0,
    "start_time": "2022-10-28T09:26:44.763Z"
   },
   {
    "duration": 0,
    "start_time": "2022-10-28T09:26:44.764Z"
   },
   {
    "duration": 0,
    "start_time": "2022-10-28T09:26:44.765Z"
   },
   {
    "duration": 0,
    "start_time": "2022-10-28T09:26:44.766Z"
   },
   {
    "duration": 0,
    "start_time": "2022-10-28T09:26:44.767Z"
   },
   {
    "duration": 0,
    "start_time": "2022-10-28T09:26:44.767Z"
   },
   {
    "duration": 0,
    "start_time": "2022-10-28T09:26:44.768Z"
   },
   {
    "duration": 0,
    "start_time": "2022-10-28T09:26:44.769Z"
   },
   {
    "duration": 0,
    "start_time": "2022-10-28T09:26:44.769Z"
   },
   {
    "duration": 0,
    "start_time": "2022-10-28T09:26:44.770Z"
   },
   {
    "duration": 0,
    "start_time": "2022-10-28T09:26:44.772Z"
   },
   {
    "duration": 0,
    "start_time": "2022-10-28T09:26:44.772Z"
   },
   {
    "duration": 0,
    "start_time": "2022-10-28T09:26:44.773Z"
   },
   {
    "duration": 0,
    "start_time": "2022-10-28T09:26:44.774Z"
   },
   {
    "duration": 1246,
    "start_time": "2022-10-28T09:27:50.648Z"
   },
   {
    "duration": 1274,
    "start_time": "2022-10-28T09:28:13.875Z"
   },
   {
    "duration": 1295,
    "start_time": "2022-10-28T09:28:20.363Z"
   },
   {
    "duration": 1470,
    "start_time": "2022-10-28T09:28:36.993Z"
   },
   {
    "duration": 393,
    "start_time": "2022-10-28T09:28:38.465Z"
   },
   {
    "duration": 292,
    "start_time": "2022-10-28T09:28:38.859Z"
   },
   {
    "duration": 95,
    "start_time": "2022-10-28T09:28:39.153Z"
   },
   {
    "duration": 3,
    "start_time": "2022-10-28T09:28:39.250Z"
   },
   {
    "duration": 12,
    "start_time": "2022-10-28T09:28:39.254Z"
   },
   {
    "duration": 6,
    "start_time": "2022-10-28T09:28:39.268Z"
   },
   {
    "duration": 36,
    "start_time": "2022-10-28T09:28:39.275Z"
   },
   {
    "duration": 31,
    "start_time": "2022-10-28T09:28:39.313Z"
   },
   {
    "duration": 36,
    "start_time": "2022-10-28T09:28:39.348Z"
   },
   {
    "duration": 37,
    "start_time": "2022-10-28T09:28:39.386Z"
   },
   {
    "duration": 29,
    "start_time": "2022-10-28T09:28:39.435Z"
   },
   {
    "duration": 27,
    "start_time": "2022-10-28T09:28:39.465Z"
   },
   {
    "duration": 137,
    "start_time": "2022-10-28T09:28:39.494Z"
   },
   {
    "duration": 133,
    "start_time": "2022-10-28T09:28:39.632Z"
   },
   {
    "duration": 7,
    "start_time": "2022-10-28T09:28:39.766Z"
   },
   {
    "duration": 6,
    "start_time": "2022-10-28T09:28:39.775Z"
   },
   {
    "duration": 18,
    "start_time": "2022-10-28T09:28:39.783Z"
   },
   {
    "duration": 32,
    "start_time": "2022-10-28T09:28:39.802Z"
   },
   {
    "duration": 8,
    "start_time": "2022-10-28T09:28:39.836Z"
   },
   {
    "duration": 1299,
    "start_time": "2022-10-28T09:28:39.845Z"
   },
   {
    "duration": 830,
    "start_time": "2022-10-28T09:28:41.146Z"
   },
   {
    "duration": 769,
    "start_time": "2022-10-28T09:28:41.978Z"
   },
   {
    "duration": 4,
    "start_time": "2022-10-28T09:28:42.749Z"
   },
   {
    "duration": 5,
    "start_time": "2022-10-28T09:28:42.755Z"
   },
   {
    "duration": 4,
    "start_time": "2022-10-28T09:28:42.762Z"
   },
   {
    "duration": 5,
    "start_time": "2022-10-28T09:28:42.767Z"
   },
   {
    "duration": 2160,
    "start_time": "2022-10-28T09:28:42.775Z"
   },
   {
    "duration": 11,
    "start_time": "2022-10-28T09:28:44.937Z"
   },
   {
    "duration": 29,
    "start_time": "2022-10-28T09:28:44.949Z"
   },
   {
    "duration": 12,
    "start_time": "2022-10-28T09:28:44.979Z"
   },
   {
    "duration": 39,
    "start_time": "2022-10-28T09:28:44.993Z"
   },
   {
    "duration": 5,
    "start_time": "2022-10-28T09:28:45.037Z"
   },
   {
    "duration": 11,
    "start_time": "2022-10-28T09:28:45.044Z"
   },
   {
    "duration": 17,
    "start_time": "2022-10-28T09:28:45.057Z"
   },
   {
    "duration": 2,
    "start_time": "2022-10-28T09:28:45.076Z"
   },
   {
    "duration": 4049,
    "start_time": "2022-10-28T09:28:45.080Z"
   },
   {
    "duration": 22625,
    "start_time": "2022-10-28T09:28:49.138Z"
   },
   {
    "duration": 1453,
    "start_time": "2022-10-28T19:55:34.479Z"
   },
   {
    "duration": 2242,
    "start_time": "2022-10-28T19:55:35.936Z"
   },
   {
    "duration": 890,
    "start_time": "2022-10-28T19:55:38.180Z"
   },
   {
    "duration": 434,
    "start_time": "2022-10-28T19:55:39.073Z"
   },
   {
    "duration": 3,
    "start_time": "2022-10-28T19:55:39.508Z"
   },
   {
    "duration": 30,
    "start_time": "2022-10-28T19:55:39.512Z"
   },
   {
    "duration": 7,
    "start_time": "2022-10-28T19:55:39.544Z"
   },
   {
    "duration": 7,
    "start_time": "2022-10-28T19:55:39.553Z"
   },
   {
    "duration": 8,
    "start_time": "2022-10-28T19:55:39.561Z"
   },
   {
    "duration": 40,
    "start_time": "2022-10-28T19:55:39.571Z"
   },
   {
    "duration": 39,
    "start_time": "2022-10-28T19:55:39.612Z"
   },
   {
    "duration": 24,
    "start_time": "2022-10-28T19:55:39.653Z"
   },
   {
    "duration": 23,
    "start_time": "2022-10-28T19:55:39.678Z"
   },
   {
    "duration": 108,
    "start_time": "2022-10-28T19:55:39.702Z"
   },
   {
    "duration": 136,
    "start_time": "2022-10-28T19:55:39.812Z"
   },
   {
    "duration": 6,
    "start_time": "2022-10-28T19:55:39.950Z"
   },
   {
    "duration": 5,
    "start_time": "2022-10-28T19:55:39.958Z"
   },
   {
    "duration": 6,
    "start_time": "2022-10-28T19:55:39.964Z"
   },
   {
    "duration": 11,
    "start_time": "2022-10-28T19:55:39.972Z"
   },
   {
    "duration": 6,
    "start_time": "2022-10-28T19:55:39.984Z"
   },
   {
    "duration": 1283,
    "start_time": "2022-10-28T19:55:39.991Z"
   },
   {
    "duration": 124,
    "start_time": "2022-10-28T19:55:41.276Z"
   },
   {
    "duration": 0,
    "start_time": "2022-10-28T19:55:41.402Z"
   },
   {
    "duration": 0,
    "start_time": "2022-10-28T19:55:41.403Z"
   },
   {
    "duration": 0,
    "start_time": "2022-10-28T19:55:41.404Z"
   },
   {
    "duration": 0,
    "start_time": "2022-10-28T19:55:41.405Z"
   },
   {
    "duration": 0,
    "start_time": "2022-10-28T19:55:41.406Z"
   },
   {
    "duration": 0,
    "start_time": "2022-10-28T19:55:41.407Z"
   },
   {
    "duration": 0,
    "start_time": "2022-10-28T19:55:41.408Z"
   },
   {
    "duration": 0,
    "start_time": "2022-10-28T19:55:41.409Z"
   },
   {
    "duration": 0,
    "start_time": "2022-10-28T19:55:41.410Z"
   },
   {
    "duration": 0,
    "start_time": "2022-10-28T19:55:41.411Z"
   },
   {
    "duration": 0,
    "start_time": "2022-10-28T19:55:41.426Z"
   },
   {
    "duration": 0,
    "start_time": "2022-10-28T19:55:41.427Z"
   },
   {
    "duration": 0,
    "start_time": "2022-10-28T19:55:41.427Z"
   },
   {
    "duration": 0,
    "start_time": "2022-10-28T19:55:41.428Z"
   },
   {
    "duration": 0,
    "start_time": "2022-10-28T19:55:41.429Z"
   },
   {
    "duration": 0,
    "start_time": "2022-10-28T19:55:41.429Z"
   },
   {
    "duration": 0,
    "start_time": "2022-10-28T19:55:41.430Z"
   },
   {
    "duration": 0,
    "start_time": "2022-10-28T19:55:41.431Z"
   },
   {
    "duration": 1,
    "start_time": "2022-10-28T19:55:41.431Z"
   },
   {
    "duration": 0,
    "start_time": "2022-10-28T19:55:41.432Z"
   },
   {
    "duration": 0,
    "start_time": "2022-10-28T19:55:41.433Z"
   },
   {
    "duration": 789,
    "start_time": "2022-10-28T19:55:47.897Z"
   },
   {
    "duration": 536,
    "start_time": "2022-10-28T19:55:57.276Z"
   },
   {
    "duration": 758,
    "start_time": "2022-10-28T19:56:17.518Z"
   },
   {
    "duration": 412,
    "start_time": "2022-10-28T19:56:20.406Z"
   },
   {
    "duration": 399,
    "start_time": "2022-10-28T19:56:36.873Z"
   },
   {
    "duration": 1558,
    "start_time": "2022-10-28T19:57:01.833Z"
   },
   {
    "duration": 401,
    "start_time": "2022-10-28T19:57:03.393Z"
   },
   {
    "duration": 263,
    "start_time": "2022-10-28T19:57:03.796Z"
   },
   {
    "duration": 88,
    "start_time": "2022-10-28T19:57:04.061Z"
   },
   {
    "duration": 3,
    "start_time": "2022-10-28T19:57:04.151Z"
   },
   {
    "duration": 10,
    "start_time": "2022-10-28T19:57:04.156Z"
   },
   {
    "duration": 5,
    "start_time": "2022-10-28T19:57:04.168Z"
   },
   {
    "duration": 5,
    "start_time": "2022-10-28T19:57:04.175Z"
   },
   {
    "duration": 5,
    "start_time": "2022-10-28T19:57:04.181Z"
   },
   {
    "duration": 74,
    "start_time": "2022-10-28T19:57:04.188Z"
   },
   {
    "duration": 33,
    "start_time": "2022-10-28T19:57:04.263Z"
   },
   {
    "duration": 42,
    "start_time": "2022-10-28T19:57:04.297Z"
   },
   {
    "duration": 25,
    "start_time": "2022-10-28T19:57:04.340Z"
   },
   {
    "duration": 111,
    "start_time": "2022-10-28T19:57:04.368Z"
   },
   {
    "duration": 120,
    "start_time": "2022-10-28T19:57:04.480Z"
   },
   {
    "duration": 6,
    "start_time": "2022-10-28T19:57:04.601Z"
   },
   {
    "duration": 23,
    "start_time": "2022-10-28T19:57:04.609Z"
   },
   {
    "duration": 9,
    "start_time": "2022-10-28T19:57:04.636Z"
   },
   {
    "duration": 27,
    "start_time": "2022-10-28T19:57:04.646Z"
   },
   {
    "duration": 14,
    "start_time": "2022-10-28T19:57:04.675Z"
   },
   {
    "duration": 1276,
    "start_time": "2022-10-28T19:57:04.691Z"
   },
   {
    "duration": 445,
    "start_time": "2022-10-28T19:57:05.969Z"
   },
   {
    "duration": 420,
    "start_time": "2022-10-28T19:57:06.416Z"
   },
   {
    "duration": 5,
    "start_time": "2022-10-28T19:57:06.838Z"
   },
   {
    "duration": 8,
    "start_time": "2022-10-28T19:57:06.844Z"
   },
   {
    "duration": 6,
    "start_time": "2022-10-28T19:57:06.853Z"
   },
   {
    "duration": 6,
    "start_time": "2022-10-28T19:57:06.860Z"
   },
   {
    "duration": 1892,
    "start_time": "2022-10-28T19:57:06.867Z"
   },
   {
    "duration": 8,
    "start_time": "2022-10-28T19:57:08.760Z"
   },
   {
    "duration": 16,
    "start_time": "2022-10-28T19:57:08.769Z"
   },
   {
    "duration": 12,
    "start_time": "2022-10-28T19:57:08.786Z"
   },
   {
    "duration": 16,
    "start_time": "2022-10-28T19:57:08.828Z"
   },
   {
    "duration": 5,
    "start_time": "2022-10-28T19:57:08.846Z"
   },
   {
    "duration": 15,
    "start_time": "2022-10-28T19:57:08.853Z"
   },
   {
    "duration": 24,
    "start_time": "2022-10-28T19:57:08.870Z"
   },
   {
    "duration": 3,
    "start_time": "2022-10-28T19:57:08.897Z"
   },
   {
    "duration": 2327,
    "start_time": "2022-10-28T19:57:08.902Z"
   },
   {
    "duration": 11604,
    "start_time": "2022-10-28T19:57:11.235Z"
   },
   {
    "duration": 0,
    "start_time": "2022-10-28T19:57:22.841Z"
   },
   {
    "duration": 0,
    "start_time": "2022-10-28T19:57:22.843Z"
   },
   {
    "duration": 0,
    "start_time": "2022-10-28T19:57:22.844Z"
   },
   {
    "duration": 0,
    "start_time": "2022-10-28T19:57:22.845Z"
   },
   {
    "duration": 2161,
    "start_time": "2022-10-28T19:57:33.205Z"
   },
   {
    "duration": 2091,
    "start_time": "2022-10-28T19:57:38.394Z"
   },
   {
    "duration": 5936,
    "start_time": "2022-10-28T19:58:03.164Z"
   },
   {
    "duration": 2268,
    "start_time": "2022-10-28T19:58:21.917Z"
   },
   {
    "duration": 1701,
    "start_time": "2022-10-28T19:58:59.675Z"
   },
   {
    "duration": 2538,
    "start_time": "2022-10-28T19:59:22.410Z"
   },
   {
    "duration": 1276,
    "start_time": "2022-10-28T19:59:30.741Z"
   },
   {
    "duration": 1179,
    "start_time": "2022-10-28T19:59:57.124Z"
   },
   {
    "duration": 1339,
    "start_time": "2022-10-28T20:00:10.017Z"
   },
   {
    "duration": 1594,
    "start_time": "2022-10-28T20:00:19.953Z"
   },
   {
    "duration": 392,
    "start_time": "2022-10-28T20:00:21.548Z"
   },
   {
    "duration": 279,
    "start_time": "2022-10-28T20:00:21.941Z"
   },
   {
    "duration": 112,
    "start_time": "2022-10-28T20:00:22.222Z"
   },
   {
    "duration": 4,
    "start_time": "2022-10-28T20:00:22.339Z"
   },
   {
    "duration": 25,
    "start_time": "2022-10-28T20:00:22.345Z"
   },
   {
    "duration": 19,
    "start_time": "2022-10-28T20:00:22.371Z"
   },
   {
    "duration": 11,
    "start_time": "2022-10-28T20:00:22.393Z"
   },
   {
    "duration": 38,
    "start_time": "2022-10-28T20:00:22.405Z"
   },
   {
    "duration": 54,
    "start_time": "2022-10-28T20:00:22.447Z"
   },
   {
    "duration": 39,
    "start_time": "2022-10-28T20:00:22.503Z"
   },
   {
    "duration": 25,
    "start_time": "2022-10-28T20:00:22.544Z"
   },
   {
    "duration": 27,
    "start_time": "2022-10-28T20:00:22.571Z"
   },
   {
    "duration": 120,
    "start_time": "2022-10-28T20:00:22.599Z"
   },
   {
    "duration": 138,
    "start_time": "2022-10-28T20:00:22.721Z"
   },
   {
    "duration": 7,
    "start_time": "2022-10-28T20:00:22.861Z"
   },
   {
    "duration": 17,
    "start_time": "2022-10-28T20:00:22.869Z"
   },
   {
    "duration": 32,
    "start_time": "2022-10-28T20:00:22.888Z"
   },
   {
    "duration": 33,
    "start_time": "2022-10-28T20:00:22.921Z"
   },
   {
    "duration": 11,
    "start_time": "2022-10-28T20:00:22.955Z"
   },
   {
    "duration": 1322,
    "start_time": "2022-10-28T20:00:22.968Z"
   },
   {
    "duration": 416,
    "start_time": "2022-10-28T20:00:24.291Z"
   },
   {
    "duration": 443,
    "start_time": "2022-10-28T20:00:24.709Z"
   },
   {
    "duration": 5,
    "start_time": "2022-10-28T20:00:25.154Z"
   },
   {
    "duration": 33,
    "start_time": "2022-10-28T20:00:25.161Z"
   },
   {
    "duration": 18,
    "start_time": "2022-10-28T20:00:25.196Z"
   },
   {
    "duration": 28,
    "start_time": "2022-10-28T20:00:25.216Z"
   },
   {
    "duration": 2164,
    "start_time": "2022-10-28T20:00:25.247Z"
   },
   {
    "duration": 25,
    "start_time": "2022-10-28T20:00:27.412Z"
   },
   {
    "duration": 21,
    "start_time": "2022-10-28T20:00:27.439Z"
   },
   {
    "duration": 19,
    "start_time": "2022-10-28T20:00:27.462Z"
   },
   {
    "duration": 13,
    "start_time": "2022-10-28T20:00:27.482Z"
   },
   {
    "duration": 5,
    "start_time": "2022-10-28T20:00:27.497Z"
   },
   {
    "duration": 28,
    "start_time": "2022-10-28T20:00:27.503Z"
   },
   {
    "duration": 29,
    "start_time": "2022-10-28T20:00:27.537Z"
   },
   {
    "duration": 4,
    "start_time": "2022-10-28T20:00:27.568Z"
   },
   {
    "duration": 1848,
    "start_time": "2022-10-28T20:00:27.574Z"
   },
   {
    "duration": 17492,
    "start_time": "2022-10-28T20:00:29.424Z"
   },
   {
    "duration": 45126,
    "start_time": "2022-10-28T20:00:46.917Z"
   },
   {
    "duration": 0,
    "start_time": "2022-10-28T20:01:32.044Z"
   },
   {
    "duration": 0,
    "start_time": "2022-10-28T20:01:32.046Z"
   },
   {
    "duration": 0,
    "start_time": "2022-10-28T20:01:32.047Z"
   },
   {
    "duration": 2158,
    "start_time": "2022-10-28T20:01:59.253Z"
   },
   {
    "duration": 2058,
    "start_time": "2022-10-28T20:02:07.352Z"
   },
   {
    "duration": 1424,
    "start_time": "2022-10-28T20:07:50.386Z"
   },
   {
    "duration": 356,
    "start_time": "2022-10-28T20:07:51.812Z"
   },
   {
    "duration": 253,
    "start_time": "2022-10-28T20:07:52.169Z"
   },
   {
    "duration": 86,
    "start_time": "2022-10-28T20:07:52.424Z"
   },
   {
    "duration": 3,
    "start_time": "2022-10-28T20:07:52.511Z"
   },
   {
    "duration": 20,
    "start_time": "2022-10-28T20:07:52.516Z"
   },
   {
    "duration": 10,
    "start_time": "2022-10-28T20:07:52.537Z"
   },
   {
    "duration": 4,
    "start_time": "2022-10-28T20:07:52.549Z"
   },
   {
    "duration": 8,
    "start_time": "2022-10-28T20:07:52.554Z"
   },
   {
    "duration": 42,
    "start_time": "2022-10-28T20:07:52.564Z"
   },
   {
    "duration": 45,
    "start_time": "2022-10-28T20:07:52.608Z"
   },
   {
    "duration": 23,
    "start_time": "2022-10-28T20:07:52.654Z"
   },
   {
    "duration": 20,
    "start_time": "2022-10-28T20:07:52.679Z"
   },
   {
    "duration": 106,
    "start_time": "2022-10-28T20:07:52.701Z"
   },
   {
    "duration": 127,
    "start_time": "2022-10-28T20:07:52.809Z"
   },
   {
    "duration": 7,
    "start_time": "2022-10-28T20:07:52.938Z"
   },
   {
    "duration": 25,
    "start_time": "2022-10-28T20:07:52.947Z"
   },
   {
    "duration": 14,
    "start_time": "2022-10-28T20:07:52.973Z"
   },
   {
    "duration": 8,
    "start_time": "2022-10-28T20:07:52.989Z"
   },
   {
    "duration": 7,
    "start_time": "2022-10-28T20:07:52.999Z"
   },
   {
    "duration": 1189,
    "start_time": "2022-10-28T20:07:53.007Z"
   },
   {
    "duration": 407,
    "start_time": "2022-10-28T20:07:54.199Z"
   },
   {
    "duration": 421,
    "start_time": "2022-10-28T20:07:54.608Z"
   },
   {
    "duration": 11,
    "start_time": "2022-10-28T20:07:55.031Z"
   },
   {
    "duration": 22,
    "start_time": "2022-10-28T20:07:55.044Z"
   },
   {
    "duration": 10,
    "start_time": "2022-10-28T20:07:55.068Z"
   },
   {
    "duration": 11,
    "start_time": "2022-10-28T20:07:55.079Z"
   },
   {
    "duration": 2115,
    "start_time": "2022-10-28T20:07:55.094Z"
   },
   {
    "duration": 17,
    "start_time": "2022-10-28T20:07:57.211Z"
   },
   {
    "duration": 38,
    "start_time": "2022-10-28T20:07:57.230Z"
   },
   {
    "duration": 23,
    "start_time": "2022-10-28T20:07:57.270Z"
   },
   {
    "duration": 10,
    "start_time": "2022-10-28T20:07:57.295Z"
   },
   {
    "duration": 10,
    "start_time": "2022-10-28T20:07:57.307Z"
   },
   {
    "duration": 32,
    "start_time": "2022-10-28T20:07:57.318Z"
   },
   {
    "duration": 27,
    "start_time": "2022-10-28T20:07:57.351Z"
   },
   {
    "duration": 8,
    "start_time": "2022-10-28T20:07:57.380Z"
   },
   {
    "duration": 2341,
    "start_time": "2022-10-28T20:07:57.390Z"
   },
   {
    "duration": 17829,
    "start_time": "2022-10-28T20:07:59.741Z"
   },
   {
    "duration": 279290,
    "start_time": "2022-10-28T20:08:17.573Z"
   },
   {
    "duration": 3,
    "start_time": "2022-10-28T20:12:56.865Z"
   },
   {
    "duration": 4901,
    "start_time": "2022-10-28T20:12:56.870Z"
   },
   {
    "duration": 16,
    "start_time": "2022-10-28T20:13:01.773Z"
   },
   {
    "duration": 1545,
    "start_time": "2022-10-28T22:15:37.892Z"
   },
   {
    "duration": 359,
    "start_time": "2022-10-28T22:15:39.438Z"
   },
   {
    "duration": 259,
    "start_time": "2022-10-28T22:15:39.798Z"
   },
   {
    "duration": 87,
    "start_time": "2022-10-28T22:15:40.059Z"
   },
   {
    "duration": 3,
    "start_time": "2022-10-28T22:15:40.148Z"
   },
   {
    "duration": 9,
    "start_time": "2022-10-28T22:15:40.152Z"
   },
   {
    "duration": 9,
    "start_time": "2022-10-28T22:15:40.162Z"
   },
   {
    "duration": 11,
    "start_time": "2022-10-28T22:15:40.172Z"
   },
   {
    "duration": 13,
    "start_time": "2022-10-28T22:15:40.184Z"
   },
   {
    "duration": 51,
    "start_time": "2022-10-28T22:15:40.200Z"
   },
   {
    "duration": 36,
    "start_time": "2022-10-28T22:15:40.253Z"
   },
   {
    "duration": 40,
    "start_time": "2022-10-28T22:15:40.290Z"
   },
   {
    "duration": 22,
    "start_time": "2022-10-28T22:15:40.332Z"
   },
   {
    "duration": 98,
    "start_time": "2022-10-28T22:15:40.355Z"
   },
   {
    "duration": 120,
    "start_time": "2022-10-28T22:15:40.455Z"
   },
   {
    "duration": 7,
    "start_time": "2022-10-28T22:15:40.577Z"
   },
   {
    "duration": 6,
    "start_time": "2022-10-28T22:15:40.585Z"
   },
   {
    "duration": 6,
    "start_time": "2022-10-28T22:15:40.593Z"
   },
   {
    "duration": 22,
    "start_time": "2022-10-28T22:15:40.600Z"
   },
   {
    "duration": 5,
    "start_time": "2022-10-28T22:15:40.623Z"
   },
   {
    "duration": 1177,
    "start_time": "2022-10-28T22:15:40.629Z"
   },
   {
    "duration": 392,
    "start_time": "2022-10-28T22:15:41.807Z"
   },
   {
    "duration": 423,
    "start_time": "2022-10-28T22:15:42.201Z"
   },
   {
    "duration": 4,
    "start_time": "2022-10-28T22:15:42.626Z"
   },
   {
    "duration": 10,
    "start_time": "2022-10-28T22:15:42.632Z"
   },
   {
    "duration": 10,
    "start_time": "2022-10-28T22:15:42.643Z"
   },
   {
    "duration": 6,
    "start_time": "2022-10-28T22:15:42.655Z"
   },
   {
    "duration": 1809,
    "start_time": "2022-10-28T22:15:42.663Z"
   },
   {
    "duration": 8,
    "start_time": "2022-10-28T22:15:44.473Z"
   },
   {
    "duration": 20,
    "start_time": "2022-10-28T22:15:44.483Z"
   },
   {
    "duration": 25,
    "start_time": "2022-10-28T22:15:44.505Z"
   },
   {
    "duration": 12,
    "start_time": "2022-10-28T22:15:44.531Z"
   },
   {
    "duration": 4,
    "start_time": "2022-10-28T22:15:44.545Z"
   },
   {
    "duration": 11,
    "start_time": "2022-10-28T22:15:44.551Z"
   },
   {
    "duration": 25,
    "start_time": "2022-10-28T22:15:44.563Z"
   },
   {
    "duration": 2,
    "start_time": "2022-10-28T22:15:44.590Z"
   },
   {
    "duration": 1030,
    "start_time": "2022-10-28T22:15:44.593Z"
   },
   {
    "duration": 17007,
    "start_time": "2022-10-28T22:15:45.628Z"
   },
   {
    "duration": 270841,
    "start_time": "2022-10-28T22:16:02.637Z"
   },
   {
    "duration": 3,
    "start_time": "2022-10-28T22:20:33.480Z"
   },
   {
    "duration": 4732,
    "start_time": "2022-10-28T22:20:33.485Z"
   },
   {
    "duration": 16,
    "start_time": "2022-10-28T22:20:38.221Z"
   },
   {
    "duration": 19,
    "start_time": "2022-10-28T22:20:50.200Z"
   },
   {
    "duration": 18,
    "start_time": "2022-10-28T22:20:53.831Z"
   },
   {
    "duration": 89363,
    "start_time": "2022-10-28T22:21:03.751Z"
   },
   {
    "duration": 1461,
    "start_time": "2022-10-28T22:24:02.576Z"
   },
   {
    "duration": 381,
    "start_time": "2022-10-28T22:24:04.039Z"
   },
   {
    "duration": 263,
    "start_time": "2022-10-28T22:24:04.422Z"
   },
   {
    "duration": 90,
    "start_time": "2022-10-28T22:24:04.686Z"
   },
   {
    "duration": 4,
    "start_time": "2022-10-28T22:24:04.779Z"
   },
   {
    "duration": 12,
    "start_time": "2022-10-28T22:24:04.784Z"
   },
   {
    "duration": 6,
    "start_time": "2022-10-28T22:24:04.797Z"
   },
   {
    "duration": 18,
    "start_time": "2022-10-28T22:24:04.805Z"
   },
   {
    "duration": 4,
    "start_time": "2022-10-28T22:24:04.824Z"
   },
   {
    "duration": 46,
    "start_time": "2022-10-28T22:24:04.830Z"
   },
   {
    "duration": 61,
    "start_time": "2022-10-28T22:24:04.878Z"
   },
   {
    "duration": 25,
    "start_time": "2022-10-28T22:24:04.940Z"
   },
   {
    "duration": 22,
    "start_time": "2022-10-28T22:24:04.967Z"
   },
   {
    "duration": 125,
    "start_time": "2022-10-28T22:24:04.992Z"
   },
   {
    "duration": 119,
    "start_time": "2022-10-28T22:24:05.122Z"
   },
   {
    "duration": 7,
    "start_time": "2022-10-28T22:24:05.243Z"
   },
   {
    "duration": 10,
    "start_time": "2022-10-28T22:24:05.252Z"
   },
   {
    "duration": 7,
    "start_time": "2022-10-28T22:24:05.263Z"
   },
   {
    "duration": 5,
    "start_time": "2022-10-28T22:24:05.271Z"
   },
   {
    "duration": 7,
    "start_time": "2022-10-28T22:24:05.277Z"
   },
   {
    "duration": 1239,
    "start_time": "2022-10-28T22:24:05.285Z"
   },
   {
    "duration": 486,
    "start_time": "2022-10-28T22:24:06.526Z"
   },
   {
    "duration": 514,
    "start_time": "2022-10-28T22:24:07.014Z"
   },
   {
    "duration": 4,
    "start_time": "2022-10-28T22:24:07.530Z"
   },
   {
    "duration": 17,
    "start_time": "2022-10-28T22:24:07.536Z"
   },
   {
    "duration": 6,
    "start_time": "2022-10-28T22:24:07.554Z"
   },
   {
    "duration": 5,
    "start_time": "2022-10-28T22:24:07.562Z"
   },
   {
    "duration": 2223,
    "start_time": "2022-10-28T22:24:07.568Z"
   },
   {
    "duration": 9,
    "start_time": "2022-10-28T22:24:09.793Z"
   },
   {
    "duration": 32,
    "start_time": "2022-10-28T22:24:09.804Z"
   },
   {
    "duration": 12,
    "start_time": "2022-10-28T22:24:09.837Z"
   },
   {
    "duration": 10,
    "start_time": "2022-10-28T22:24:09.851Z"
   },
   {
    "duration": 5,
    "start_time": "2022-10-28T22:24:09.863Z"
   },
   {
    "duration": 10,
    "start_time": "2022-10-28T22:24:09.870Z"
   },
   {
    "duration": 40,
    "start_time": "2022-10-28T22:24:09.882Z"
   },
   {
    "duration": 3,
    "start_time": "2022-10-28T22:24:09.924Z"
   },
   {
    "duration": 1595,
    "start_time": "2022-10-28T22:24:09.928Z"
   },
   {
    "duration": 17532,
    "start_time": "2022-10-28T22:24:11.525Z"
   },
   {
    "duration": 269351,
    "start_time": "2022-10-28T22:24:29.059Z"
   },
   {
    "duration": 4,
    "start_time": "2022-10-28T22:28:58.411Z"
   },
   {
    "duration": 4717,
    "start_time": "2022-10-28T22:28:58.424Z"
   },
   {
    "duration": 15,
    "start_time": "2022-10-28T22:29:03.142Z"
   },
   {
    "duration": 5200,
    "start_time": "2022-10-28T22:29:28.131Z"
   },
   {
    "duration": 4634,
    "start_time": "2022-10-28T22:30:03.538Z"
   },
   {
    "duration": 27,
    "start_time": "2022-10-28T22:30:18.787Z"
   },
   {
    "duration": 10,
    "start_time": "2022-10-28T22:30:31.135Z"
   },
   {
    "duration": 15,
    "start_time": "2022-10-28T22:30:53.765Z"
   },
   {
    "duration": 27,
    "start_time": "2022-10-28T22:30:55.319Z"
   },
   {
    "duration": 26,
    "start_time": "2022-10-28T22:31:40.803Z"
   },
   {
    "duration": 9,
    "start_time": "2022-10-28T22:32:21.062Z"
   },
   {
    "duration": 9,
    "start_time": "2022-10-28T22:32:25.093Z"
   },
   {
    "duration": 3,
    "start_time": "2022-10-28T22:32:28.308Z"
   },
   {
    "duration": 5200,
    "start_time": "2022-10-28T22:33:34.184Z"
   },
   {
    "duration": 4710,
    "start_time": "2022-10-28T22:33:53.288Z"
   },
   {
    "duration": 4690,
    "start_time": "2022-10-28T22:34:21.264Z"
   },
   {
    "duration": 4661,
    "start_time": "2022-10-28T22:34:29.790Z"
   },
   {
    "duration": 5146,
    "start_time": "2022-10-28T22:34:41.744Z"
   },
   {
    "duration": 1508,
    "start_time": "2022-10-28T22:34:55.203Z"
   },
   {
    "duration": 377,
    "start_time": "2022-10-28T22:34:56.713Z"
   },
   {
    "duration": 268,
    "start_time": "2022-10-28T22:34:57.091Z"
   },
   {
    "duration": 95,
    "start_time": "2022-10-28T22:34:57.361Z"
   },
   {
    "duration": 7,
    "start_time": "2022-10-28T22:34:57.458Z"
   },
   {
    "duration": 61,
    "start_time": "2022-10-28T22:34:57.467Z"
   },
   {
    "duration": 34,
    "start_time": "2022-10-28T22:34:57.530Z"
   },
   {
    "duration": 31,
    "start_time": "2022-10-28T22:34:57.566Z"
   },
   {
    "duration": 34,
    "start_time": "2022-10-28T22:34:57.599Z"
   },
   {
    "duration": 64,
    "start_time": "2022-10-28T22:34:57.636Z"
   },
   {
    "duration": 39,
    "start_time": "2022-10-28T22:34:57.701Z"
   },
   {
    "duration": 33,
    "start_time": "2022-10-28T22:34:57.742Z"
   },
   {
    "duration": 32,
    "start_time": "2022-10-28T22:34:57.776Z"
   },
   {
    "duration": 107,
    "start_time": "2022-10-28T22:34:57.810Z"
   },
   {
    "duration": 119,
    "start_time": "2022-10-28T22:34:57.918Z"
   },
   {
    "duration": 7,
    "start_time": "2022-10-28T22:34:58.040Z"
   },
   {
    "duration": 61,
    "start_time": "2022-10-28T22:34:58.049Z"
   },
   {
    "duration": 31,
    "start_time": "2022-10-28T22:34:58.112Z"
   },
   {
    "duration": 28,
    "start_time": "2022-10-28T22:34:58.145Z"
   },
   {
    "duration": 22,
    "start_time": "2022-10-28T22:34:58.175Z"
   },
   {
    "duration": 1266,
    "start_time": "2022-10-28T22:34:58.199Z"
   },
   {
    "duration": 433,
    "start_time": "2022-10-28T22:34:59.467Z"
   },
   {
    "duration": 414,
    "start_time": "2022-10-28T22:34:59.901Z"
   },
   {
    "duration": 8,
    "start_time": "2022-10-28T22:35:00.317Z"
   },
   {
    "duration": 15,
    "start_time": "2022-10-28T22:35:00.326Z"
   },
   {
    "duration": 24,
    "start_time": "2022-10-28T22:35:00.342Z"
   },
   {
    "duration": 10,
    "start_time": "2022-10-28T22:35:00.367Z"
   },
   {
    "duration": 1984,
    "start_time": "2022-10-28T22:35:00.380Z"
   },
   {
    "duration": 9,
    "start_time": "2022-10-28T22:35:02.365Z"
   },
   {
    "duration": 16,
    "start_time": "2022-10-28T22:35:02.375Z"
   },
   {
    "duration": 31,
    "start_time": "2022-10-28T22:35:02.393Z"
   },
   {
    "duration": 16,
    "start_time": "2022-10-28T22:35:02.426Z"
   },
   {
    "duration": 6,
    "start_time": "2022-10-28T22:35:02.443Z"
   },
   {
    "duration": 9,
    "start_time": "2022-10-28T22:35:02.450Z"
   },
   {
    "duration": 21,
    "start_time": "2022-10-28T22:35:02.460Z"
   },
   {
    "duration": 3,
    "start_time": "2022-10-28T22:35:02.482Z"
   },
   {
    "duration": 1437,
    "start_time": "2022-10-28T22:35:02.486Z"
   },
   {
    "duration": 17186,
    "start_time": "2022-10-28T22:35:03.925Z"
   },
   {
    "duration": 272843,
    "start_time": "2022-10-28T22:35:21.112Z"
   },
   {
    "duration": 3,
    "start_time": "2022-10-28T22:39:53.957Z"
   },
   {
    "duration": 5197,
    "start_time": "2022-10-28T22:39:53.962Z"
   },
   {
    "duration": 14,
    "start_time": "2022-10-28T22:39:59.161Z"
   }
  ],
  "kernelspec": {
   "display_name": "Python 3 (ipykernel)",
   "language": "python",
   "name": "python3"
  },
  "language_info": {
   "codemirror_mode": {
    "name": "ipython",
    "version": 3
   },
   "file_extension": ".py",
   "mimetype": "text/x-python",
   "name": "python",
   "nbconvert_exporter": "python",
   "pygments_lexer": "ipython3",
   "version": "3.9.5"
  },
  "toc": {
   "base_numbering": 1,
   "nav_menu": {},
   "number_sections": true,
   "sideBar": true,
   "skip_h1_title": true,
   "title_cell": "Содержание",
   "title_sidebar": "Contents",
   "toc_cell": true,
   "toc_position": {
    "height": "calc(100% - 180px)",
    "left": "10px",
    "top": "150px",
    "width": "165px"
   },
   "toc_section_display": true,
   "toc_window_display": true
  }
 },
 "nbformat": 4,
 "nbformat_minor": 2
}
