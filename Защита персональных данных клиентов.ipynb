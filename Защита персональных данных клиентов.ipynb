{
 "cells": [
  {
   "cell_type": "markdown",
   "metadata": {
    "toc": true
   },
   "source": [
    "<h1>Содержание<span class=\"tocSkip\"></span></h1>\n",
    "<div class=\"toc\"><ul class=\"toc-item\"><li><span><a href=\"#Загрузка-данных\" data-toc-modified-id=\"Загрузка-данных-1\"><span class=\"toc-item-num\">1&nbsp;&nbsp;</span>Загрузка данных</a></span></li><li><span><a href=\"#Умножение-матриц\" data-toc-modified-id=\"Умножение-матриц-2\"><span class=\"toc-item-num\">2&nbsp;&nbsp;</span>Умножение матриц</a></span></li><li><span><a href=\"#Алгоритм-преобразования\" data-toc-modified-id=\"Алгоритм-преобразования-3\"><span class=\"toc-item-num\">3&nbsp;&nbsp;</span>Алгоритм преобразования</a></span></li><li><span><a href=\"#Обоснование\" data-toc-modified-id=\"Обоснование-4\"><span class=\"toc-item-num\">4&nbsp;&nbsp;</span><strong>Обоснование</strong></a></span></li><li><span><a href=\"#Проверка-алгоритма\" data-toc-modified-id=\"Проверка-алгоритма-5\"><span class=\"toc-item-num\">5&nbsp;&nbsp;</span>Проверка алгоритма</a></span></li><li><span><a href=\"#Вывод\" data-toc-modified-id=\"Вывод-6\"><span class=\"toc-item-num\">6&nbsp;&nbsp;</span>Вывод</a></span></li><li><span><a href=\"#Чек-лист-проверки\" data-toc-modified-id=\"Чек-лист-проверки-7\"><span class=\"toc-item-num\">7&nbsp;&nbsp;</span>Чек-лист проверки</a></span></li></ul></div>"
   ]
  },
  {
   "cell_type": "markdown",
   "metadata": {},
   "source": [
    "# Защита персональных данных клиентов"
   ]
  },
  {
   "cell_type": "markdown",
   "metadata": {},
   "source": [
    "Вам нужно защитить данные клиентов страховой компании «Хоть потоп». Разработайте такой метод преобразования данных, чтобы по ним было сложно восстановить персональную информацию. Обоснуйте корректность его работы.\n",
    "\n",
    "Нужно защитить данные, чтобы при преобразовании качество моделей машинного обучения не ухудшилось. Подбирать наилучшую модель не требуется."
   ]
  },
  {
   "cell_type": "markdown",
   "metadata": {},
   "source": [
    "## Загрузка данных"
   ]
  },
  {
   "cell_type": "code",
   "execution_count": 1,
   "metadata": {},
   "outputs": [],
   "source": [
    "import pandas as pd #импортируем нужные библиотеки\n",
    "import numpy as np\n",
    "import seaborn as sns\n",
    "import matplotlib.pyplot as plt\n",
    "from sklearn.linear_model import LinearRegression\n",
    "from sklearn.model_selection import train_test_split\n",
    "from sklearn.metrics import mean_squared_error\n",
    "from sklearn.metrics import r2_score"
   ]
  },
  {
   "cell_type": "code",
   "execution_count": 2,
   "metadata": {},
   "outputs": [
    {
     "name": "stdout",
     "output_type": "stream",
     "text": [
      "<class 'pandas.core.frame.DataFrame'>\n",
      "RangeIndex: 5000 entries, 0 to 4999\n",
      "Data columns (total 5 columns):\n",
      " #   Column             Non-Null Count  Dtype  \n",
      "---  ------             --------------  -----  \n",
      " 0   Пол                5000 non-null   int64  \n",
      " 1   Возраст            5000 non-null   float64\n",
      " 2   Зарплата           5000 non-null   float64\n",
      " 3   Члены семьи        5000 non-null   int64  \n",
      " 4   Страховые выплаты  5000 non-null   int64  \n",
      "dtypes: float64(2), int64(3)\n",
      "memory usage: 195.4 KB\n"
     ]
    }
   ],
   "source": [
    "df=pd.read_csv('/datasets/insurance.csv')\n",
    "df.info()"
   ]
  },
  {
   "cell_type": "code",
   "execution_count": 3,
   "metadata": {},
   "outputs": [
    {
     "data": {
      "text/html": [
       "<div>\n",
       "<style scoped>\n",
       "    .dataframe tbody tr th:only-of-type {\n",
       "        vertical-align: middle;\n",
       "    }\n",
       "\n",
       "    .dataframe tbody tr th {\n",
       "        vertical-align: top;\n",
       "    }\n",
       "\n",
       "    .dataframe thead th {\n",
       "        text-align: right;\n",
       "    }\n",
       "</style>\n",
       "<table border=\"1\" class=\"dataframe\">\n",
       "  <thead>\n",
       "    <tr style=\"text-align: right;\">\n",
       "      <th></th>\n",
       "      <th>Пол</th>\n",
       "      <th>Возраст</th>\n",
       "      <th>Зарплата</th>\n",
       "      <th>Члены семьи</th>\n",
       "      <th>Страховые выплаты</th>\n",
       "    </tr>\n",
       "  </thead>\n",
       "  <tbody>\n",
       "    <tr>\n",
       "      <th>count</th>\n",
       "      <td>5000.000000</td>\n",
       "      <td>5000.000000</td>\n",
       "      <td>5000.000000</td>\n",
       "      <td>5000.000000</td>\n",
       "      <td>5000.000000</td>\n",
       "    </tr>\n",
       "    <tr>\n",
       "      <th>mean</th>\n",
       "      <td>0.499000</td>\n",
       "      <td>30.952800</td>\n",
       "      <td>39916.360000</td>\n",
       "      <td>1.194200</td>\n",
       "      <td>0.148000</td>\n",
       "    </tr>\n",
       "    <tr>\n",
       "      <th>std</th>\n",
       "      <td>0.500049</td>\n",
       "      <td>8.440807</td>\n",
       "      <td>9900.083569</td>\n",
       "      <td>1.091387</td>\n",
       "      <td>0.463183</td>\n",
       "    </tr>\n",
       "    <tr>\n",
       "      <th>min</th>\n",
       "      <td>0.000000</td>\n",
       "      <td>18.000000</td>\n",
       "      <td>5300.000000</td>\n",
       "      <td>0.000000</td>\n",
       "      <td>0.000000</td>\n",
       "    </tr>\n",
       "    <tr>\n",
       "      <th>25%</th>\n",
       "      <td>0.000000</td>\n",
       "      <td>24.000000</td>\n",
       "      <td>33300.000000</td>\n",
       "      <td>0.000000</td>\n",
       "      <td>0.000000</td>\n",
       "    </tr>\n",
       "    <tr>\n",
       "      <th>50%</th>\n",
       "      <td>0.000000</td>\n",
       "      <td>30.000000</td>\n",
       "      <td>40200.000000</td>\n",
       "      <td>1.000000</td>\n",
       "      <td>0.000000</td>\n",
       "    </tr>\n",
       "    <tr>\n",
       "      <th>75%</th>\n",
       "      <td>1.000000</td>\n",
       "      <td>37.000000</td>\n",
       "      <td>46600.000000</td>\n",
       "      <td>2.000000</td>\n",
       "      <td>0.000000</td>\n",
       "    </tr>\n",
       "    <tr>\n",
       "      <th>max</th>\n",
       "      <td>1.000000</td>\n",
       "      <td>65.000000</td>\n",
       "      <td>79000.000000</td>\n",
       "      <td>6.000000</td>\n",
       "      <td>5.000000</td>\n",
       "    </tr>\n",
       "  </tbody>\n",
       "</table>\n",
       "</div>"
      ],
      "text/plain": [
       "               Пол      Возраст      Зарплата  Члены семьи  Страховые выплаты\n",
       "count  5000.000000  5000.000000   5000.000000  5000.000000        5000.000000\n",
       "mean      0.499000    30.952800  39916.360000     1.194200           0.148000\n",
       "std       0.500049     8.440807   9900.083569     1.091387           0.463183\n",
       "min       0.000000    18.000000   5300.000000     0.000000           0.000000\n",
       "25%       0.000000    24.000000  33300.000000     0.000000           0.000000\n",
       "50%       0.000000    30.000000  40200.000000     1.000000           0.000000\n",
       "75%       1.000000    37.000000  46600.000000     2.000000           0.000000\n",
       "max       1.000000    65.000000  79000.000000     6.000000           5.000000"
      ]
     },
     "execution_count": 3,
     "metadata": {},
     "output_type": "execute_result"
    }
   ],
   "source": [
    "df.describe()"
   ]
  },
  {
   "cell_type": "code",
   "execution_count": 4,
   "metadata": {},
   "outputs": [
    {
     "data": {
      "text/plain": [
       "Пол                  0\n",
       "Возраст              0\n",
       "Зарплата             0\n",
       "Члены семьи          0\n",
       "Страховые выплаты    0\n",
       "dtype: int64"
      ]
     },
     "execution_count": 4,
     "metadata": {},
     "output_type": "execute_result"
    }
   ],
   "source": [
    "df.isna().sum()#проверим данные на пропуски"
   ]
  },
  {
   "cell_type": "markdown",
   "metadata": {},
   "source": [
    "В таблице присутствуют 5 столбцов - пол , возраст , зарплата , члены семьи  и  Страховые выплаты . Данные распрделены нормально , отрицательных значений нет , пропусков нет. "
   ]
  },
  {
   "cell_type": "code",
   "execution_count": 5,
   "metadata": {},
   "outputs": [],
   "source": [
    "features=df.drop(['Страховые выплаты'],axis=1) #разделим признаки #определим тест. и трен. выборки\n",
    "target=df['Страховые выплаты']"
   ]
  },
  {
   "cell_type": "code",
   "execution_count": 6,
   "metadata": {},
   "outputs": [],
   "source": [
    "train_features, test_features, train_target, test_target=train_test_split(features,target, test_size=0.25, random_state=254)"
   ]
  },
  {
   "cell_type": "code",
   "execution_count": 7,
   "metadata": {},
   "outputs": [
    {
     "name": "stdout",
     "output_type": "stream",
     "text": [
      "Размер тренировочной выборки- 75%\n",
      "Размер тестовой выборки - 25%\n"
     ]
    }
   ],
   "source": [
    "train_v=train_features.shape[0]/features.shape[0]\n",
    "test_t=test_target.shape[0]/target.shape[0]\n",
    "\n",
    "print('Размер тренировочной выборки- {:.0%}'.format(train_v))\n",
    "print('Размер тестовой выборки - {:.0%}'.format(test_t))"
   ]
  },
  {
   "cell_type": "markdown",
   "metadata": {},
   "source": [
    "Проверим данные на мультиколлениарность (мультиколлениарность-явление, при котором наблюдается сильная корреляция между признаками) с помощью метода построения тепловой карты .Пороговое значение возьмем от 0.7-1.0"
   ]
  },
  {
   "cell_type": "code",
   "execution_count": 8,
   "metadata": {},
   "outputs": [
    {
     "name": "stdout",
     "output_type": "stream",
     "text": [
      "<bound method DataFrame.corr of       Пол  Возраст  Зарплата  Члены семьи  Страховые выплаты\n",
      "0       1     41.0   49600.0            1                  0\n",
      "1       0     46.0   38000.0            1                  1\n",
      "2       0     29.0   21000.0            0                  0\n",
      "3       0     21.0   41700.0            2                  0\n",
      "4       1     28.0   26100.0            0                  0\n",
      "...   ...      ...       ...          ...                ...\n",
      "4995    0     28.0   35700.0            2                  0\n",
      "4996    0     34.0   52400.0            1                  0\n",
      "4997    0     20.0   33900.0            2                  0\n",
      "4998    1     22.0   32700.0            3                  0\n",
      "4999    1     28.0   40600.0            1                  0\n",
      "\n",
      "[5000 rows x 5 columns]>\n"
     ]
    },
    {
     "data": {
      "image/png": "[encoded data removed]",
      "text/plain": [
       "<Figure size 432x288 with 2 Axes>"
      ]
     },
     "metadata": {
      "needs_background": "light"
     },
     "output_type": "display_data"
    }
   ],
   "source": [
    "print((df.corr))\n",
    "df_plot=sns.heatmap(df.corr(),cmap=\"YlGnBu\",annot=True)\n",
    "plt.show()"
   ]
  },
  {
   "cell_type": "markdown",
   "metadata": {},
   "source": [
    "## Умножение матриц"
   ]
  },
  {
   "cell_type": "markdown",
   "metadata": {},
   "source": [
    "Обозначения:\n",
    "\n",
    "- $X$ — матрица признаков (нулевой столбец состоит из единиц)\n",
    "\n",
    "- $y$ — вектор целевого признака\n",
    "\n",
    "- $P$ — матрица, на которую умножаются признаки\n",
    "\n",
    "- $w$ — вектор весов линейной регрессии (нулевой элемент равен сдвигу)"
   ]
  },
  {
   "cell_type": "markdown",
   "metadata": {},
   "source": [
    "Предсказания:\n",
    "\n",
    "$$\n",
    "a = Xw\n",
    "$$\n",
    "\n",
    "Задача обучения:\n",
    "\n",
    "$$\n",
    "w = \\arg\\min_w MSE(Xw, y)\n",
    "$$\n",
    "\n",
    "Формула обучения:\n",
    "\n",
    "$$\n",
    "w = (X^T X)^{-1} X^T y\n",
    "$$"
   ]
  },
  {
   "cell_type": "markdown",
   "metadata": {},
   "source": [
    "ВОПРОС: Признаки умножают на обратимую матрицу. Изменится ли качество линейной регрессии?\n",
    "\n",
    "ОТВЕТ: не изменится.\n"
   ]
  },
  {
   "cell_type": "markdown",
   "metadata": {},
   "source": [
    "\n",
    "$$**Алгоритм**\n",
    "\n",
    "Формула умножения матриц (Возможна если ширина матрицы А = высоте матрицы Р, при А(3750,4)*Р(4,4)=М(3750,4):\n",
    "\n",
    "$$\n",
    "A*P=M\n",
    "$$\n",
    "\n",
    "В каждую новую ячейку записываем результат сложения произведения строк i на столбцы j , так/по такой формуле будет выглядеть первая ячейка:\n",
    "\n",
    "$$\n",
    "M_{11}=A_{11}*P_{11}+A_{12}*P_{21}+A_{13}*P_{31}+A_{14}*P_{41}\n",
    "$$\n",
    "\n",
    "Вычислим параметр w , где X-таблица признаков , где нулевой столбец заполнен 1 ,у-вектор целевого признака:\n",
    "\n",
    "$$\n",
    "w = (X^TX)^{-1}X^Ty\n",
    "$$\n",
    "$$\n",
    "X_i(1(M_{i2}M_{i3}M_{i4}M_{i5}))\n",
    "$$\n",
    " \n",
    "\n",
    "Напишешм формулу дял вычисления предсказания линейной регресии, где w-величина сдвига модели,w_0-значение нулевого аргумента вектора w:\n",
    "\n",
    "$$\n",
    "a=X_w+w_0\n",
    "$$\n",
    "$$\n",
    "a=X_iw=X_i(X^TX)^{-1}X^Ty\n",
    "$$\n",
    "\n",
    "\n",
    "Упростим:\n",
    "\n",
    "$$\n",
    "a=X_i(X^TX)^{-1}X^Ty=X_iX^{-1}(X^T)^{-1}X^{-1}y=X_iX^{-1}y\n",
    "$$\n",
    "\n",
    "Домножим нашу матрицу на измененные признаки , где P обратимая матрица ,из P получили P-1,а P^P-1=E, а wi-это новый коэфицент:\n",
    "\n",
    "$$\n",
    "w' = ((XP)^T(XP))^{-1}(XP)^Ty=((XP)^T)(XP)^{-1}(XP)^T=(XP)^{-1}y\n",
    "$$\n",
    "\n",
    "\n",
    "Подставляем их в формулу предсказания и упрощаем выражение:\n",
    "\n",
    "$$\n",
    "a'= X_iPw' = X_iP((XP)^T(XP))^{-1}(XP)^Ty = X_iP(XP)^{-1}((XP)^T)^{-1}(XP)^Ty = X_iX^{-1}y\n",
    "$$\n",
    "\n",
    "Итог:\n",
    "\n",
    "$$\n",
    "a=a_i\n",
    "$$"
   ]
  },
  {
   "cell_type": "markdown",
   "metadata": {},
   "source": []
  },
  {
   "cell_type": "markdown",
   "metadata": {},
   "source": [
    "Создадим класс линейной регрессии."
   ]
  },
  {
   "cell_type": "code",
   "execution_count": 9,
   "metadata": {},
   "outputs": [],
   "source": [
    "class LinearReg: \n",
    "    def fit(self, train_features, train_target):\n",
    "        X = np.concatenate((np.ones((train_features.shape[0], 1)), train_features), axis=1)\n",
    "        y = train_target\n",
    "        w = (np.linalg.inv(X.T.dot(X)).dot(X.T)).dot(y)\n",
    "        self.w = w[1:]\n",
    "        self.w0 = w[0]\n",
    "\n",
    "    def predict(self, test_features):\n",
    "        return test_features.dot(self.w) + self.w0"
   ]
  },
  {
   "cell_type": "markdown",
   "metadata": {},
   "source": [
    "Обучим модель и получим метрики качеств."
   ]
  },
  {
   "cell_type": "code",
   "execution_count": 10,
   "metadata": {},
   "outputs": [
    {
     "name": "stdout",
     "output_type": "stream",
     "text": [
      "R2_score: 0.42\n",
      "MSE: 0.11\n"
     ]
    }
   ],
   "source": [
    "model = LinearReg()\n",
    "model.fit(train_features, train_target)\n",
    "predict = model.predict(test_features)\n",
    "\n",
    "R2_score = r2_score(test_target, predict)\n",
    "MSE = mean_squared_error(predict,test_target)\n",
    "\n",
    "print(\"R2_score:\", R2_score.round(2))\n",
    "print(\"MSE:\", MSE.round(2))"
   ]
  },
  {
   "cell_type": "markdown",
   "metadata": {},
   "source": [
    "Создадим экземпляр класса из класса линейной модели , обучим модель, поулучим метрики качества,предсказания ."
   ]
  },
  {
   "cell_type": "code",
   "execution_count": 11,
   "metadata": {},
   "outputs": [
    {
     "name": "stdout",
     "output_type": "stream",
     "text": [
      "R2_score Линейной регрессии неизменённой матрицы: 0.42\n",
      "MSE Линейной регрессии неизменённой матрицы: 0.11\n"
     ]
    }
   ],
   "source": [
    "model_l = LinearRegression() #Вычислим значения R2 и MSE для предсказанных значений по исходным данным\n",
    "model_l.fit(train_features,train_target)\n",
    "predictions= model_l.predict(test_features)\n",
    "\n",
    "R2_score_l = r2_score(test_target, predictions)\n",
    "MSE_l = mean_squared_error(predictions,test_target)\n",
    "\n",
    "print(\"R2_score Линейной регрессии неизменённой матрицы:\", R2_score_l.round(2))\n",
    "print(\"MSE Линейной регрессии неизменённой матрицы:\", MSE_l.round(2))"
   ]
  },
  {
   "cell_type": "markdown",
   "metadata": {},
   "source": [
    "Создадим новую матрицу со случайными величинами."
   ]
  },
  {
   "cell_type": "code",
   "execution_count": 12,
   "metadata": {},
   "outputs": [
    {
     "data": {
      "text/plain": [
       "array([[4.36161627, 2.19855113, 2.40531052, 2.9598406 ],\n",
       "       [2.61490434, 3.68239691, 3.51686695, 3.1229949 ],\n",
       "       [2.35209224, 2.52947353, 2.34279579, 3.65173196],\n",
       "       [2.28445416, 3.43096484, 3.1552701 , 3.13204087]])"
      ]
     },
     "execution_count": 12,
     "metadata": {},
     "output_type": "execute_result"
    }
   ],
   "source": [
    "matrix=np.random.normal(3, size=(4,4))\n",
    "matrix #Произведём изменение признаков исходной матрицы данных методом умножения их на произвольную обратимую матрицу"
   ]
  },
  {
   "cell_type": "markdown",
   "metadata": {},
   "source": [
    "Проверим новую матрицу на обратимость."
   ]
  },
  {
   "cell_type": "code",
   "execution_count": 13,
   "metadata": {},
   "outputs": [
    {
     "data": {
      "text/plain": [
       "array([[  0.61035363,  -1.70156838,  -0.73550277,   1.9774004 ],\n",
       "       [  1.04235984,  -9.71971068,  -3.14673108,  12.37544718],\n",
       "       [ -1.2897695 ,  11.09674464,   2.88708476, -13.21196823],\n",
       "       [ -0.287689  ,   0.70941409,   1.07502231,  -1.36961058]])"
      ]
     },
     "execution_count": 13,
     "metadata": {},
     "output_type": "execute_result"
    }
   ],
   "source": [
    "np.linalg.inv(matrix)"
   ]
  },
  {
   "cell_type": "code",
   "execution_count": 14,
   "metadata": {},
   "outputs": [
    {
     "data": {
      "text/html": [
       "<div>\n",
       "<style scoped>\n",
       "    .dataframe tbody tr th:only-of-type {\n",
       "        vertical-align: middle;\n",
       "    }\n",
       "\n",
       "    .dataframe tbody tr th {\n",
       "        vertical-align: top;\n",
       "    }\n",
       "\n",
       "    .dataframe thead th {\n",
       "        text-align: right;\n",
       "    }\n",
       "</style>\n",
       "<table border=\"1\" class=\"dataframe\">\n",
       "  <thead>\n",
       "    <tr style=\"text-align: right;\">\n",
       "      <th></th>\n",
       "      <th>Пол</th>\n",
       "      <th>Возраст</th>\n",
       "      <th>Зарплата</th>\n",
       "      <th>Члены семьи</th>\n",
       "    </tr>\n",
       "  </thead>\n",
       "  <tbody>\n",
       "    <tr>\n",
       "      <th>883</th>\n",
       "      <td>92729.631515</td>\n",
       "      <td>99742.018561</td>\n",
       "      <td>92383.163534</td>\n",
       "      <td>143946.954063</td>\n",
       "    </tr>\n",
       "    <tr>\n",
       "      <th>4736</th>\n",
       "      <td>117268.969700</td>\n",
       "      <td>126153.848985</td>\n",
       "      <td>116849.117317</td>\n",
       "      <td>182015.370120</td>\n",
       "    </tr>\n",
       "    <tr>\n",
       "      <th>4455</th>\n",
       "      <td>97459.965029</td>\n",
       "      <td>104837.789599</td>\n",
       "      <td>97103.923780</td>\n",
       "      <td>151281.647927</td>\n",
       "    </tr>\n",
       "    <tr>\n",
       "      <th>3993</th>\n",
       "      <td>116968.387868</td>\n",
       "      <td>125808.841709</td>\n",
       "      <td>116526.916065</td>\n",
       "      <td>181572.122052</td>\n",
       "    </tr>\n",
       "    <tr>\n",
       "      <th>651</th>\n",
       "      <td>95825.583636</td>\n",
       "      <td>103084.815813</td>\n",
       "      <td>95480.466273</td>\n",
       "      <td>148741.077670</td>\n",
       "    </tr>\n",
       "  </tbody>\n",
       "</table>\n",
       "</div>"
      ],
      "text/plain": [
       "                Пол        Возраст       Зарплата    Члены семьи\n",
       "883    92729.631515   99742.018561   92383.163534  143946.954063\n",
       "4736  117268.969700  126153.848985  116849.117317  182015.370120\n",
       "4455   97459.965029  104837.789599   97103.923780  151281.647927\n",
       "3993  116968.387868  125808.841709  116526.916065  181572.122052\n",
       "651    95825.583636  103084.815813   95480.466273  148741.077670"
      ]
     },
     "execution_count": 14,
     "metadata": {},
     "output_type": "execute_result"
    }
   ],
   "source": [
    "train_matrix=train_features.dot(matrix)#умножим на произвольнуюматрицу (трен.выборка)\n",
    "train_matrix.columns = train_features.columns\n",
    "train_matrix.head()"
   ]
  },
  {
   "cell_type": "code",
   "execution_count": 15,
   "metadata": {},
   "outputs": [
    {
     "data": {
      "text/html": [
       "<div>\n",
       "<style scoped>\n",
       "    .dataframe tbody tr th:only-of-type {\n",
       "        vertical-align: middle;\n",
       "    }\n",
       "\n",
       "    .dataframe tbody tr th {\n",
       "        vertical-align: top;\n",
       "    }\n",
       "\n",
       "    .dataframe thead th {\n",
       "        text-align: right;\n",
       "    }\n",
       "</style>\n",
       "<table border=\"1\" class=\"dataframe\">\n",
       "  <thead>\n",
       "    <tr style=\"text-align: right;\">\n",
       "      <th></th>\n",
       "      <th>Пол</th>\n",
       "      <th>Возраст</th>\n",
       "      <th>Зарплата</th>\n",
       "      <th>Члены семьи</th>\n",
       "    </tr>\n",
       "  </thead>\n",
       "  <tbody>\n",
       "    <tr>\n",
       "      <th>4948</th>\n",
       "      <td>89482.902472</td>\n",
       "      <td>96261.872514</td>\n",
       "      <td>89161.924612</td>\n",
       "      <td>138887.457082</td>\n",
       "    </tr>\n",
       "    <tr>\n",
       "      <th>4959</th>\n",
       "      <td>81268.760820</td>\n",
       "      <td>87438.903868</td>\n",
       "      <td>80990.301055</td>\n",
       "      <td>126131.569481</td>\n",
       "    </tr>\n",
       "    <tr>\n",
       "      <th>1728</th>\n",
       "      <td>88987.533624</td>\n",
       "      <td>95724.571513</td>\n",
       "      <td>88663.186805</td>\n",
       "      <td>138129.157844</td>\n",
       "    </tr>\n",
       "    <tr>\n",
       "      <th>4169</th>\n",
       "      <td>103329.736000</td>\n",
       "      <td>111146.743848</td>\n",
       "      <td>102946.845783</td>\n",
       "      <td>160398.485842</td>\n",
       "    </tr>\n",
       "    <tr>\n",
       "      <th>1984</th>\n",
       "      <td>105012.148325</td>\n",
       "      <td>112968.426015</td>\n",
       "      <td>104635.315778</td>\n",
       "      <td>162998.438233</td>\n",
       "    </tr>\n",
       "  </tbody>\n",
       "</table>\n",
       "</div>"
      ],
      "text/plain": [
       "                Пол        Возраст       Зарплата    Члены семьи\n",
       "4948   89482.902472   96261.872514   89161.924612  138887.457082\n",
       "4959   81268.760820   87438.903868   80990.301055  126131.569481\n",
       "1728   88987.533624   95724.571513   88663.186805  138129.157844\n",
       "4169  103329.736000  111146.743848  102946.845783  160398.485842\n",
       "1984  105012.148325  112968.426015  104635.315778  162998.438233"
      ]
     },
     "execution_count": 15,
     "metadata": {},
     "output_type": "execute_result"
    }
   ],
   "source": [
    "test_matrix = test_features.dot(matrix) #умножим на произвльную (тест.выборка)\n",
    "test_matrix.columns = test_features.columns\n",
    "test_matrix.head()"
   ]
  },
  {
   "cell_type": "code",
   "execution_count": 16,
   "metadata": {},
   "outputs": [
    {
     "name": "stdout",
     "output_type": "stream",
     "text": [
      "R2_score Линейной регрессии изменённой матрицы: 0.42\n",
      "MSE Линейной регрессии изменённой матрицы: 0.11\n"
     ]
    }
   ],
   "source": [
    "model_t = LinearRegression() # проверим результат\n",
    "model_t.fit(train_matrix,train_target)\n",
    "predictions_t= model_t.predict(test_matrix)\n",
    "print(\"R2_score Линейной регрессии изменённой матрицы:\", r2_score(test_target,predictions_t).round(2))\n",
    "print(\"MSE Линейной регрессии изменённой матрицы:\", mean_squared_error(predictions_t,test_target).round(2))"
   ]
  },
  {
   "cell_type": "markdown",
   "metadata": {},
   "source": [
    "При умножении матриц метрики качесвта R2 и MSE получились одинаковые ."
   ]
  },
  {
   "cell_type": "markdown",
   "metadata": {},
   "source": [
    "## Алгоритм преобразования"
   ]
  },
  {
   "cell_type": "markdown",
   "metadata": {},
   "source": [
    "1.Создаём рандомную матрицу P\n",
    "\n",
    "2.Проверяем её на обратимость\n",
    "\n",
    "3.Создаём новую матрицу данных M\n",
    "\n",
    "4.Ищем метрики качества на исходных и преобразованных данных\n",
    "\n",
    "5.Опишем вывод результатов"
   ]
  },
  {
   "cell_type": "markdown",
   "metadata": {},
   "source": [
    "## **Обоснование**\n",
    "\n",
    "При умножении признаков тестовой и тренировочной выборк на одну и ту же обратимую матрицу , резултат предсказания будет = произведению измененной таблицы с признаками на вектор из таблицы с измененными данными и увеличенную на признаки и величину ,что и признаки тренировочный данных.\n"
   ]
  },
  {
   "cell_type": "markdown",
   "metadata": {},
   "source": [
    "## Проверка алгоритма"
   ]
  },
  {
   "cell_type": "markdown",
   "metadata": {},
   "source": [
    "Сначала создадим рандомную матрицу и проверим ее на обратимость."
   ]
  },
  {
   "cell_type": "code",
   "execution_count": 17,
   "metadata": {},
   "outputs": [
    {
     "data": {
      "text/plain": [
       "array([[3.1564232 , 4.29057588, 0.96884947, 3.47508029],\n",
       "       [4.69845924, 5.65868205, 2.95383459, 1.86338973],\n",
       "       [3.45251178, 4.2490054 , 4.200851  , 1.36846148],\n",
       "       [3.10542638, 3.40705244, 4.17695218, 1.84929438]])"
      ]
     },
     "execution_count": 17,
     "metadata": {},
     "output_type": "execute_result"
    }
   ],
   "source": [
    "P = np.random.normal(3, size=(4,4)) #создадим матрицу P\n",
    "P"
   ]
  },
  {
   "cell_type": "code",
   "execution_count": 18,
   "metadata": {},
   "outputs": [
    {
     "data": {
      "text/plain": [
       "array([[-0.69583598,  1.43164364, -2.69460486,  1.8590003 ],\n",
       "       [ 0.4786393 , -0.74549407,  2.12405772, -1.72003723],\n",
       "       [-0.02130005, -0.3286559 ,  0.39732008,  0.07717331],\n",
       "       [ 0.33476957, -0.28829729, -0.28576631,  0.41362764]])"
      ]
     },
     "execution_count": 18,
     "metadata": {},
     "output_type": "execute_result"
    }
   ],
   "source": [
    "np.linalg.inv(P) #проверим обратимость "
   ]
  },
  {
   "cell_type": "markdown",
   "metadata": {},
   "source": [
    "Матрица создана и она обратима.\n",
    "Выполним умножение признаков на нашу новую матрицу М"
   ]
  },
  {
   "cell_type": "code",
   "execution_count": 19,
   "metadata": {},
   "outputs": [
    {
     "data": {
      "text/html": [
       "<div>\n",
       "<style scoped>\n",
       "    .dataframe tbody tr th:only-of-type {\n",
       "        vertical-align: middle;\n",
       "    }\n",
       "\n",
       "    .dataframe tbody tr th {\n",
       "        vertical-align: top;\n",
       "    }\n",
       "\n",
       "    .dataframe thead th {\n",
       "        text-align: right;\n",
       "    }\n",
       "</style>\n",
       "<table border=\"1\" class=\"dataframe\">\n",
       "  <thead>\n",
       "    <tr style=\"text-align: right;\">\n",
       "      <th></th>\n",
       "      <th>Пол</th>\n",
       "      <th>Возраст</th>\n",
       "      <th>Зарплата</th>\n",
       "      <th>Члены семьи</th>\n",
       "    </tr>\n",
       "  </thead>\n",
       "  <tbody>\n",
       "    <tr>\n",
       "      <th>883</th>\n",
       "      <td>136130.737148</td>\n",
       "      <td>167533.052049</td>\n",
       "      <td>165579.736901</td>\n",
       "      <td>53958.362817</td>\n",
       "    </tr>\n",
       "    <tr>\n",
       "      <th>4736</th>\n",
       "      <td>172171.572927</td>\n",
       "      <td>211885.441859</td>\n",
       "      <td>209352.263524</td>\n",
       "      <td>68246.012209</td>\n",
       "    </tr>\n",
       "    <tr>\n",
       "      <th>4455</th>\n",
       "      <td>143082.745297</td>\n",
       "      <td>176087.649665</td>\n",
       "      <td>174010.977248</td>\n",
       "      <td>56713.919676</td>\n",
       "    </tr>\n",
       "    <tr>\n",
       "      <th>3993</th>\n",
       "      <td>171708.860268</td>\n",
       "      <td>211319.074268</td>\n",
       "      <td>208858.332560</td>\n",
       "      <td>68062.581318</td>\n",
       "    </tr>\n",
       "    <tr>\n",
       "      <th>651</th>\n",
       "      <td>140684.700250</td>\n",
       "      <td>173134.884408</td>\n",
       "      <td>171088.820073</td>\n",
       "      <td>55765.271302</td>\n",
       "    </tr>\n",
       "  </tbody>\n",
       "</table>\n",
       "</div>"
      ],
      "text/plain": [
       "                Пол        Возраст       Зарплата   Члены семьи\n",
       "883   136130.737148  167533.052049  165579.736901  53958.362817\n",
       "4736  172171.572927  211885.441859  209352.263524  68246.012209\n",
       "4455  143082.745297  176087.649665  174010.977248  56713.919676\n",
       "3993  171708.860268  211319.074268  208858.332560  68062.581318\n",
       "651   140684.700250  173134.884408  171088.820073  55765.271302"
      ]
     },
     "execution_count": 19,
     "metadata": {},
     "output_type": "execute_result"
    }
   ],
   "source": [
    "M =train_features.dot(P)#тренировочная выборка\n",
    "M.columns = train_features.columns\n",
    "M.head()"
   ]
  },
  {
   "cell_type": "markdown",
   "metadata": {},
   "source": [
    "Применим те же изменения для тестовой выборки и умножим на ту же матриц"
   ]
  },
  {
   "cell_type": "code",
   "execution_count": 20,
   "metadata": {},
   "outputs": [
    {
     "data": {
      "text/html": [
       "<div>\n",
       "<style scoped>\n",
       "    .dataframe tbody tr th:only-of-type {\n",
       "        vertical-align: middle;\n",
       "    }\n",
       "\n",
       "    .dataframe tbody tr th {\n",
       "        vertical-align: top;\n",
       "    }\n",
       "\n",
       "    .dataframe thead th {\n",
       "        text-align: right;\n",
       "    }\n",
       "</style>\n",
       "<table border=\"1\" class=\"dataframe\">\n",
       "  <thead>\n",
       "    <tr style=\"text-align: right;\">\n",
       "      <th></th>\n",
       "      <th>Пол</th>\n",
       "      <th>Возраст</th>\n",
       "      <th>Зарплата</th>\n",
       "      <th>Члены семьи</th>\n",
       "    </tr>\n",
       "  </thead>\n",
       "  <tbody>\n",
       "    <tr>\n",
       "      <th>4948</th>\n",
       "      <td>131375.552429</td>\n",
       "      <td>161679.273981</td>\n",
       "      <td>159746.775703</td>\n",
       "      <td>52075.806060</td>\n",
       "    </tr>\n",
       "    <tr>\n",
       "      <th>4959</th>\n",
       "      <td>119326.111815</td>\n",
       "      <td>146847.637762</td>\n",
       "      <td>145073.082215</td>\n",
       "      <td>47299.444019</td>\n",
       "    </tr>\n",
       "    <tr>\n",
       "      <th>1728</th>\n",
       "      <td>130645.899009</td>\n",
       "      <td>160782.164498</td>\n",
       "      <td>158880.782859</td>\n",
       "      <td>51783.745661</td>\n",
       "    </tr>\n",
       "    <tr>\n",
       "      <th>4169</th>\n",
       "      <td>151695.230907</td>\n",
       "      <td>186687.528431</td>\n",
       "      <td>184501.289411</td>\n",
       "      <td>60127.619819</td>\n",
       "    </tr>\n",
       "    <tr>\n",
       "      <th>1984</th>\n",
       "      <td>154174.581515</td>\n",
       "      <td>189736.550499</td>\n",
       "      <td>187485.685031</td>\n",
       "      <td>61111.602121</td>\n",
       "    </tr>\n",
       "  </tbody>\n",
       "</table>\n",
       "</div>"
      ],
      "text/plain": [
       "                Пол        Возраст       Зарплата   Члены семьи\n",
       "4948  131375.552429  161679.273981  159746.775703  52075.806060\n",
       "4959  119326.111815  146847.637762  145073.082215  47299.444019\n",
       "1728  130645.899009  160782.164498  158880.782859  51783.745661\n",
       "4169  151695.230907  186687.528431  184501.289411  60127.619819\n",
       "1984  154174.581515  189736.550499  187485.685031  61111.602121"
      ]
     },
     "execution_count": 20,
     "metadata": {},
     "output_type": "execute_result"
    }
   ],
   "source": [
    "test_M = test_features.dot(P)#тестовая выборка\n",
    "test_M.columns = test_features.columns\n",
    "test_M.head()"
   ]
  },
  {
   "cell_type": "markdown",
   "metadata": {},
   "source": [
    "Целевые признаки оставляем без изменений.\n",
    "Далее в нулевой столбец нашей изменённой таблицы вносим значение 1"
   ]
  },
  {
   "cell_type": "code",
   "execution_count": 21,
   "metadata": {},
   "outputs": [
    {
     "data": {
      "text/html": [
       "<div>\n",
       "<style scoped>\n",
       "    .dataframe tbody tr th:only-of-type {\n",
       "        vertical-align: middle;\n",
       "    }\n",
       "\n",
       "    .dataframe tbody tr th {\n",
       "        vertical-align: top;\n",
       "    }\n",
       "\n",
       "    .dataframe thead th {\n",
       "        text-align: right;\n",
       "    }\n",
       "</style>\n",
       "<table border=\"1\" class=\"dataframe\">\n",
       "  <thead>\n",
       "    <tr style=\"text-align: right;\">\n",
       "      <th></th>\n",
       "      <th>0</th>\n",
       "      <th>1</th>\n",
       "      <th>2</th>\n",
       "      <th>3</th>\n",
       "      <th>4</th>\n",
       "    </tr>\n",
       "  </thead>\n",
       "  <tbody>\n",
       "    <tr>\n",
       "      <th>0</th>\n",
       "      <td>1.0</td>\n",
       "      <td>136130.737148</td>\n",
       "      <td>167533.052049</td>\n",
       "      <td>165579.736901</td>\n",
       "      <td>53958.362817</td>\n",
       "    </tr>\n",
       "    <tr>\n",
       "      <th>1</th>\n",
       "      <td>1.0</td>\n",
       "      <td>172171.572927</td>\n",
       "      <td>211885.441859</td>\n",
       "      <td>209352.263524</td>\n",
       "      <td>68246.012209</td>\n",
       "    </tr>\n",
       "    <tr>\n",
       "      <th>2</th>\n",
       "      <td>1.0</td>\n",
       "      <td>143082.745297</td>\n",
       "      <td>176087.649665</td>\n",
       "      <td>174010.977248</td>\n",
       "      <td>56713.919676</td>\n",
       "    </tr>\n",
       "    <tr>\n",
       "      <th>3</th>\n",
       "      <td>1.0</td>\n",
       "      <td>171708.860268</td>\n",
       "      <td>211319.074268</td>\n",
       "      <td>208858.332560</td>\n",
       "      <td>68062.581318</td>\n",
       "    </tr>\n",
       "    <tr>\n",
       "      <th>4</th>\n",
       "      <td>1.0</td>\n",
       "      <td>140684.700250</td>\n",
       "      <td>173134.884408</td>\n",
       "      <td>171088.820073</td>\n",
       "      <td>55765.271302</td>\n",
       "    </tr>\n",
       "  </tbody>\n",
       "</table>\n",
       "</div>"
      ],
      "text/plain": [
       "     0              1              2              3             4\n",
       "0  1.0  136130.737148  167533.052049  165579.736901  53958.362817\n",
       "1  1.0  172171.572927  211885.441859  209352.263524  68246.012209\n",
       "2  1.0  143082.745297  176087.649665  174010.977248  56713.919676\n",
       "3  1.0  171708.860268  211319.074268  208858.332560  68062.581318\n",
       "4  1.0  140684.700250  173134.884408  171088.820073  55765.271302"
      ]
     },
     "execution_count": 21,
     "metadata": {},
     "output_type": "execute_result"
    }
   ],
   "source": [
    "X = np.concatenate((np.ones((M.shape[0], 1)), M), axis=1)\n",
    "pd.DataFrame(X).head()"
   ]
  },
  {
   "cell_type": "code",
   "execution_count": 22,
   "metadata": {},
   "outputs": [],
   "source": [
    "y = train_target\n",
    "w = (np.linalg.inv(X.T.dot(X)).dot(X.T)).dot(y) #вычислим вестор w"
   ]
  },
  {
   "cell_type": "code",
   "execution_count": 23,
   "metadata": {},
   "outputs": [],
   "source": [
    "a = test_M.dot(w[1:]) + w[0] #вычислим предсказаня модели"
   ]
  },
  {
   "cell_type": "code",
   "execution_count": 24,
   "metadata": {},
   "outputs": [
    {
     "name": "stdout",
     "output_type": "stream",
     "text": [
      "R2_score: 0.42\n",
      "MSE: 0.11\n"
     ]
    }
   ],
   "source": [
    "R2_score_m=r2_score(test_target, a) #проверим значения R2 и MSE\n",
    "MSE_m=mean_squared_error(a, test_target)\n",
    "print(\"R2_score:\",R2_score_m.round(2))\n",
    "print(\"MSE:\", MSE_m.round(2))"
   ]
  },
  {
   "cell_type": "markdown",
   "metadata": {},
   "source": [
    "Сравним R2 и MSE измененной/неизмененной матрицы признаков"
   ]
  },
  {
   "cell_type": "code",
   "execution_count": 25,
   "metadata": {},
   "outputs": [
    {
     "data": {
      "text/html": [
       "<div>\n",
       "<style scoped>\n",
       "    .dataframe tbody tr th:only-of-type {\n",
       "        vertical-align: middle;\n",
       "    }\n",
       "\n",
       "    .dataframe tbody tr th {\n",
       "        vertical-align: top;\n",
       "    }\n",
       "\n",
       "    .dataframe thead th {\n",
       "        text-align: right;\n",
       "    }\n",
       "</style>\n",
       "<table border=\"1\" class=\"dataframe\">\n",
       "  <thead>\n",
       "    <tr style=\"text-align: right;\">\n",
       "      <th></th>\n",
       "      <th>R2_score</th>\n",
       "      <th>MSE</th>\n",
       "    </tr>\n",
       "  </thead>\n",
       "  <tbody>\n",
       "    <tr>\n",
       "      <th>Изменённая матрица</th>\n",
       "      <td>0.416687</td>\n",
       "      <td>0.112489</td>\n",
       "    </tr>\n",
       "    <tr>\n",
       "      <th>Неизменённая матрица</th>\n",
       "      <td>0.416687</td>\n",
       "      <td>0.112489</td>\n",
       "    </tr>\n",
       "  </tbody>\n",
       "</table>\n",
       "</div>"
      ],
      "text/plain": [
       "                      R2_score       MSE\n",
       "Изменённая матрица    0.416687  0.112489\n",
       "Неизменённая матрица  0.416687  0.112489"
      ]
     },
     "execution_count": 25,
     "metadata": {},
     "output_type": "execute_result"
    }
   ],
   "source": [
    "comparison_t = pd.DataFrame(index=['R2_score','MSE'], columns=['Изменённая матрица','Неизменённая матрица'])\n",
    "comparison_t['Изменённая матрица'] = R2_score_m, MSE_m\n",
    "comparison_t['Неизменённая матрица'] = R2_score_l, MSE_l\n",
    "\n",
    "comparison_t.T"
   ]
  },
  {
   "cell_type": "markdown",
   "metadata": {},
   "source": [
    "## Вывод"
   ]
  },
  {
   "cell_type": "markdown",
   "metadata": {},
   "source": [
    "Наша задача была - защитить данные клиентов страховой компании \"Хоть потоп\" и разработать метод преобразования / шифрования данных чтобы было сложно по ним восстановить персональную информацию. При этом, резултат работы нашего алгоритма , не должен был ухудшить качество моделей машинного обучения .\n",
    "\n",
    "В ходе работы с данными выяснили , что качество линейной регресии не изменилось (от использования исходной матрицы и исходной матрицы, умноженную на обратимую).Создали алгоритм преобразования данных. Проверили метрики R2 (0.42) и MSE  (0.11) для данных (без преобразования и с ним). Метрики в обоих случаях показали одинаковые результаты.\n",
    "По результатам работы использования матричных операций можно увидеть, что данные  зашифровать от распознования не сложно, имея правильную матрицу."
   ]
  }
 ],
 "metadata": {
  "ExecuteTimeLog": [
   {
    "duration": 545,
    "start_time": "2022-11-09T07:59:16.502Z"
   },
   {
    "duration": 99,
    "start_time": "2022-11-09T08:00:19.022Z"
   },
   {
    "duration": 34,
    "start_time": "2022-11-09T08:00:35.836Z"
   },
   {
    "duration": 14,
    "start_time": "2022-11-09T08:00:46.277Z"
   },
   {
    "duration": 11,
    "start_time": "2022-11-09T08:00:58.184Z"
   },
   {
    "duration": 11,
    "start_time": "2022-11-09T08:05:02.212Z"
   },
   {
    "duration": 8,
    "start_time": "2022-11-09T08:05:07.751Z"
   },
   {
    "duration": 9,
    "start_time": "2022-11-09T08:05:30.064Z"
   },
   {
    "duration": 113,
    "start_time": "2022-11-09T08:10:56.980Z"
   },
   {
    "duration": 797,
    "start_time": "2022-11-09T08:11:34.707Z"
   },
   {
    "duration": 33,
    "start_time": "2022-11-09T08:11:35.506Z"
   },
   {
    "duration": 51,
    "start_time": "2022-11-09T08:11:35.542Z"
   },
   {
    "duration": 9,
    "start_time": "2022-11-09T08:11:35.596Z"
   },
   {
    "duration": 53,
    "start_time": "2022-11-09T08:11:35.870Z"
   },
   {
    "duration": 6,
    "start_time": "2022-11-09T08:11:50.503Z"
   },
   {
    "duration": 7,
    "start_time": "2022-11-09T08:12:02.105Z"
   },
   {
    "duration": 6,
    "start_time": "2022-11-09T08:12:18.280Z"
   },
   {
    "duration": 6,
    "start_time": "2022-11-09T08:48:52.589Z"
   },
   {
    "duration": 14,
    "start_time": "2022-11-09T08:49:16.040Z"
   },
   {
    "duration": 7,
    "start_time": "2022-11-09T08:49:49.560Z"
   },
   {
    "duration": 43,
    "start_time": "2022-11-09T08:49:50.033Z"
   },
   {
    "duration": 30,
    "start_time": "2022-11-09T08:49:50.297Z"
   },
   {
    "duration": 10,
    "start_time": "2022-11-09T08:49:50.504Z"
   },
   {
    "duration": 4,
    "start_time": "2022-11-09T08:49:50.993Z"
   },
   {
    "duration": 9,
    "start_time": "2022-11-09T08:49:51.241Z"
   },
   {
    "duration": 79,
    "start_time": "2022-11-09T08:50:02.138Z"
   },
   {
    "duration": 4,
    "start_time": "2022-11-09T08:50:21.748Z"
   },
   {
    "duration": 6,
    "start_time": "2022-11-09T08:50:21.988Z"
   },
   {
    "duration": 4,
    "start_time": "2022-11-09T08:50:46.705Z"
   },
   {
    "duration": 4,
    "start_time": "2022-11-09T08:51:27.318Z"
   },
   {
    "duration": 5,
    "start_time": "2022-11-09T08:51:27.822Z"
   },
   {
    "duration": 5,
    "start_time": "2022-11-09T08:51:28.220Z"
   },
   {
    "duration": 5,
    "start_time": "2022-11-09T08:52:39.530Z"
   },
   {
    "duration": 4,
    "start_time": "2022-11-09T08:53:11.506Z"
   },
   {
    "duration": 52,
    "start_time": "2022-11-09T08:53:12.020Z"
   },
   {
    "duration": 1510,
    "start_time": "2022-11-09T08:53:37.740Z"
   },
   {
    "duration": 36,
    "start_time": "2022-11-09T08:53:39.253Z"
   },
   {
    "duration": 36,
    "start_time": "2022-11-09T08:53:39.291Z"
   },
   {
    "duration": 15,
    "start_time": "2022-11-09T08:53:39.329Z"
   },
   {
    "duration": 26,
    "start_time": "2022-11-09T08:53:39.347Z"
   },
   {
    "duration": 13,
    "start_time": "2022-11-09T08:53:39.375Z"
   },
   {
    "duration": 153,
    "start_time": "2022-11-09T08:53:39.390Z"
   },
   {
    "duration": 0,
    "start_time": "2022-11-09T08:53:39.546Z"
   },
   {
    "duration": 0,
    "start_time": "2022-11-09T08:53:39.547Z"
   },
   {
    "duration": 6,
    "start_time": "2022-11-09T08:54:05.586Z"
   },
   {
    "duration": 5,
    "start_time": "2022-11-09T08:54:05.874Z"
   },
   {
    "duration": 4,
    "start_time": "2022-11-09T08:54:07.477Z"
   },
   {
    "duration": 22,
    "start_time": "2022-11-09T08:54:07.821Z"
   },
   {
    "duration": 1292,
    "start_time": "2022-11-09T08:54:52.620Z"
   },
   {
    "duration": 32,
    "start_time": "2022-11-09T08:54:53.915Z"
   },
   {
    "duration": 34,
    "start_time": "2022-11-09T08:54:53.949Z"
   },
   {
    "duration": 10,
    "start_time": "2022-11-09T08:54:53.985Z"
   },
   {
    "duration": 8,
    "start_time": "2022-11-09T08:54:53.998Z"
   },
   {
    "duration": 19,
    "start_time": "2022-11-09T08:54:54.008Z"
   },
   {
    "duration": 21,
    "start_time": "2022-11-09T08:54:54.030Z"
   },
   {
    "duration": 11,
    "start_time": "2022-11-09T08:54:54.054Z"
   },
   {
    "duration": 19,
    "start_time": "2022-11-09T08:54:54.067Z"
   },
   {
    "duration": 13,
    "start_time": "2022-11-09T08:55:55.629Z"
   },
   {
    "duration": 13,
    "start_time": "2022-11-09T08:56:29.947Z"
   },
   {
    "duration": 76,
    "start_time": "2022-11-09T08:57:04.322Z"
   },
   {
    "duration": 6,
    "start_time": "2022-11-09T08:57:30.015Z"
   },
   {
    "duration": 6,
    "start_time": "2022-11-09T08:58:01.655Z"
   },
   {
    "duration": 11,
    "start_time": "2022-11-09T09:00:09.431Z"
   },
   {
    "duration": 11,
    "start_time": "2022-11-09T09:01:07.269Z"
   },
   {
    "duration": 13,
    "start_time": "2022-11-09T09:01:39.479Z"
   },
   {
    "duration": 6,
    "start_time": "2022-11-09T09:03:04.637Z"
   },
   {
    "duration": 9,
    "start_time": "2022-11-09T09:03:42.619Z"
   },
   {
    "duration": 17,
    "start_time": "2022-11-09T09:04:19.918Z"
   },
   {
    "duration": 15,
    "start_time": "2022-11-09T09:05:00.277Z"
   },
   {
    "duration": 17,
    "start_time": "2022-11-09T09:05:42.802Z"
   },
   {
    "duration": 10,
    "start_time": "2022-11-09T09:06:18.940Z"
   },
   {
    "duration": 13,
    "start_time": "2022-11-09T09:06:50.724Z"
   },
   {
    "duration": 1162,
    "start_time": "2022-11-09T09:08:05.519Z"
   },
   {
    "duration": 33,
    "start_time": "2022-11-09T09:08:06.683Z"
   },
   {
    "duration": 33,
    "start_time": "2022-11-09T09:08:06.718Z"
   },
   {
    "duration": 21,
    "start_time": "2022-11-09T09:08:06.753Z"
   },
   {
    "duration": 7,
    "start_time": "2022-11-09T09:08:06.776Z"
   },
   {
    "duration": 7,
    "start_time": "2022-11-09T09:08:06.785Z"
   },
   {
    "duration": 4,
    "start_time": "2022-11-09T09:08:06.794Z"
   },
   {
    "duration": 6,
    "start_time": "2022-11-09T09:08:06.800Z"
   },
   {
    "duration": 64,
    "start_time": "2022-11-09T09:08:06.808Z"
   },
   {
    "duration": 101,
    "start_time": "2022-11-09T09:08:06.877Z"
   },
   {
    "duration": 7,
    "start_time": "2022-11-09T09:08:06.981Z"
   },
   {
    "duration": 12,
    "start_time": "2022-11-09T09:08:06.990Z"
   },
   {
    "duration": 87,
    "start_time": "2022-11-09T09:08:07.005Z"
   },
   {
    "duration": 92,
    "start_time": "2022-11-09T09:08:07.096Z"
   },
   {
    "duration": 19,
    "start_time": "2022-11-09T09:08:07.191Z"
   },
   {
    "duration": 6,
    "start_time": "2022-11-09T09:08:07.212Z"
   },
   {
    "duration": 13,
    "start_time": "2022-11-09T09:08:07.221Z"
   },
   {
    "duration": 104,
    "start_time": "2022-11-09T09:08:07.273Z"
   },
   {
    "duration": 17,
    "start_time": "2022-11-09T09:08:07.379Z"
   },
   {
    "duration": 17,
    "start_time": "2022-11-09T09:08:07.398Z"
   },
   {
    "duration": 18,
    "start_time": "2022-11-09T09:08:07.419Z"
   },
   {
    "duration": 113,
    "start_time": "2022-11-09T09:08:07.474Z"
   },
   {
    "duration": 58,
    "start_time": "2022-11-11T19:42:11.527Z"
   },
   {
    "duration": 1153,
    "start_time": "2022-11-11T19:49:19.139Z"
   },
   {
    "duration": 100,
    "start_time": "2022-11-11T19:49:20.294Z"
   },
   {
    "duration": 30,
    "start_time": "2022-11-11T19:49:20.396Z"
   },
   {
    "duration": 4,
    "start_time": "2022-11-11T19:49:20.428Z"
   },
   {
    "duration": 7,
    "start_time": "2022-11-11T19:49:20.433Z"
   },
   {
    "duration": 6,
    "start_time": "2022-11-11T19:49:20.442Z"
   },
   {
    "duration": 10,
    "start_time": "2022-11-11T19:49:20.449Z"
   },
   {
    "duration": 13,
    "start_time": "2022-11-11T19:49:20.460Z"
   },
   {
    "duration": 81,
    "start_time": "2022-11-11T19:49:20.474Z"
   },
   {
    "duration": 93,
    "start_time": "2022-11-11T19:49:20.559Z"
   },
   {
    "duration": 8,
    "start_time": "2022-11-11T19:49:20.654Z"
   },
   {
    "duration": 100,
    "start_time": "2022-11-11T19:49:20.664Z"
   },
   {
    "duration": 91,
    "start_time": "2022-11-11T19:49:20.766Z"
   },
   {
    "duration": 13,
    "start_time": "2022-11-11T19:49:20.860Z"
   },
   {
    "duration": 5,
    "start_time": "2022-11-11T19:49:20.874Z"
   },
   {
    "duration": 8,
    "start_time": "2022-11-11T19:49:20.881Z"
   },
   {
    "duration": 74,
    "start_time": "2022-11-11T19:49:20.891Z"
   },
   {
    "duration": 89,
    "start_time": "2022-11-11T19:49:20.968Z"
   },
   {
    "duration": 13,
    "start_time": "2022-11-11T19:49:21.059Z"
   },
   {
    "duration": 11,
    "start_time": "2022-11-11T19:49:21.074Z"
   },
   {
    "duration": 166,
    "start_time": "2022-11-11T19:49:21.086Z"
   },
   {
    "duration": 90,
    "start_time": "2022-11-11T20:00:21.971Z"
   },
   {
    "duration": 6,
    "start_time": "2022-11-11T20:01:14.672Z"
   },
   {
    "duration": 49,
    "start_time": "2022-11-15T08:44:30.671Z"
   },
   {
    "duration": 1098,
    "start_time": "2022-11-15T08:44:34.555Z"
   },
   {
    "duration": 95,
    "start_time": "2022-11-15T08:44:35.655Z"
   },
   {
    "duration": 35,
    "start_time": "2022-11-15T08:44:35.752Z"
   },
   {
    "duration": 7,
    "start_time": "2022-11-15T08:44:35.790Z"
   },
   {
    "duration": 23,
    "start_time": "2022-11-15T08:44:35.799Z"
   },
   {
    "duration": 9,
    "start_time": "2022-11-15T08:44:35.824Z"
   },
   {
    "duration": 13,
    "start_time": "2022-11-15T08:44:35.836Z"
   },
   {
    "duration": 20,
    "start_time": "2022-11-15T08:44:35.851Z"
   },
   {
    "duration": 25,
    "start_time": "2022-11-15T08:44:35.873Z"
   },
   {
    "duration": 110,
    "start_time": "2022-11-15T08:44:35.921Z"
   },
   {
    "duration": 30,
    "start_time": "2022-11-15T08:44:36.032Z"
   },
   {
    "duration": 10,
    "start_time": "2022-11-15T08:44:36.065Z"
   },
   {
    "duration": 59,
    "start_time": "2022-11-15T08:44:36.077Z"
   },
   {
    "duration": 88,
    "start_time": "2022-11-15T08:44:36.139Z"
   },
   {
    "duration": 15,
    "start_time": "2022-11-15T08:44:36.229Z"
   },
   {
    "duration": 6,
    "start_time": "2022-11-15T08:44:36.246Z"
   },
   {
    "duration": 7,
    "start_time": "2022-11-15T08:44:36.254Z"
   },
   {
    "duration": 70,
    "start_time": "2022-11-15T08:44:36.263Z"
   },
   {
    "duration": 94,
    "start_time": "2022-11-15T08:44:36.335Z"
   },
   {
    "duration": 29,
    "start_time": "2022-11-15T08:44:36.431Z"
   },
   {
    "duration": 27,
    "start_time": "2022-11-15T08:44:36.462Z"
   },
   {
    "duration": 132,
    "start_time": "2022-11-15T08:44:36.490Z"
   },
   {
    "duration": 99,
    "start_time": "2022-11-15T08:44:58.575Z"
   },
   {
    "duration": 7,
    "start_time": "2022-11-15T08:45:03.748Z"
   },
   {
    "duration": 5,
    "start_time": "2022-11-15T08:45:29.279Z"
   },
   {
    "duration": 8,
    "start_time": "2022-11-15T08:45:54.882Z"
   },
   {
    "duration": 6,
    "start_time": "2022-11-15T08:45:59.300Z"
   },
   {
    "duration": 4,
    "start_time": "2022-11-15T08:46:17.636Z"
   },
   {
    "duration": 4,
    "start_time": "2022-11-15T08:47:05.043Z"
   },
   {
    "duration": 8,
    "start_time": "2022-11-15T08:48:04.968Z"
   },
   {
    "duration": 9,
    "start_time": "2022-11-15T08:48:07.799Z"
   },
   {
    "duration": 4,
    "start_time": "2022-11-15T08:48:13.857Z"
   },
   {
    "duration": 4,
    "start_time": "2022-11-15T08:48:47.171Z"
   },
   {
    "duration": 4,
    "start_time": "2022-11-15T08:48:49.728Z"
   },
   {
    "duration": 8,
    "start_time": "2022-11-15T08:48:50.719Z"
   },
   {
    "duration": 12,
    "start_time": "2022-11-15T08:48:51.976Z"
   },
   {
    "duration": 4,
    "start_time": "2022-11-15T08:48:52.897Z"
   },
   {
    "duration": 6,
    "start_time": "2022-11-15T08:48:54.867Z"
   },
   {
    "duration": 10,
    "start_time": "2022-11-15T08:48:55.954Z"
   },
   {
    "duration": 11,
    "start_time": "2022-11-15T08:48:56.357Z"
   },
   {
    "duration": 10,
    "start_time": "2022-11-15T08:48:56.813Z"
   },
   {
    "duration": 4,
    "start_time": "2022-11-15T08:49:01.324Z"
   },
   {
    "duration": 5,
    "start_time": "2022-11-15T08:49:02.136Z"
   },
   {
    "duration": 10,
    "start_time": "2022-11-15T08:49:03.209Z"
   },
   {
    "duration": 11,
    "start_time": "2022-11-15T08:49:04.154Z"
   },
   {
    "duration": 11,
    "start_time": "2022-11-15T08:49:05.260Z"
   },
   {
    "duration": 8,
    "start_time": "2022-11-15T08:49:07.159Z"
   },
   {
    "duration": 11,
    "start_time": "2022-11-15T08:49:08.287Z"
   },
   {
    "duration": 6,
    "start_time": "2022-11-15T08:50:00.614Z"
   },
   {
    "duration": 3,
    "start_time": "2022-11-15T08:50:06.576Z"
   },
   {
    "duration": 6,
    "start_time": "2022-11-15T08:50:06.976Z"
   },
   {
    "duration": 5,
    "start_time": "2022-11-15T08:50:07.408Z"
   },
   {
    "duration": 5,
    "start_time": "2022-11-15T08:50:14.145Z"
   },
   {
    "duration": 4,
    "start_time": "2022-11-15T08:50:28.551Z"
   },
   {
    "duration": 9,
    "start_time": "2022-11-15T08:50:29.412Z"
   },
   {
    "duration": 11,
    "start_time": "2022-11-15T08:50:35.964Z"
   },
   {
    "duration": 5,
    "start_time": "2022-11-15T08:50:41.844Z"
   },
   {
    "duration": 6,
    "start_time": "2022-11-15T08:50:53.263Z"
   },
   {
    "duration": 11,
    "start_time": "2022-11-15T08:50:53.951Z"
   },
   {
    "duration": 11,
    "start_time": "2022-11-15T08:50:55.721Z"
   },
   {
    "duration": 11,
    "start_time": "2022-11-15T08:50:59.518Z"
   },
   {
    "duration": 4,
    "start_time": "2022-11-15T09:58:24.007Z"
   },
   {
    "duration": 4,
    "start_time": "2022-11-15T09:58:24.367Z"
   },
   {
    "duration": 6,
    "start_time": "2022-11-15T09:58:24.727Z"
   },
   {
    "duration": 3,
    "start_time": "2022-11-15T09:59:30.815Z"
   },
   {
    "duration": 5,
    "start_time": "2022-11-15T09:59:31.269Z"
   },
   {
    "duration": 12,
    "start_time": "2022-11-15T09:59:56.623Z"
   },
   {
    "duration": 4,
    "start_time": "2022-11-15T10:01:29.072Z"
   },
   {
    "duration": 4,
    "start_time": "2022-11-15T10:01:29.655Z"
   },
   {
    "duration": 4,
    "start_time": "2022-11-15T10:01:36.926Z"
   },
   {
    "duration": 6,
    "start_time": "2022-11-15T10:01:37.487Z"
   },
   {
    "duration": 5,
    "start_time": "2022-11-15T10:01:43.718Z"
   },
   {
    "duration": 6,
    "start_time": "2022-11-15T10:01:57.608Z"
   },
   {
    "duration": 6,
    "start_time": "2022-11-15T10:02:00.583Z"
   },
   {
    "duration": 13,
    "start_time": "2022-11-15T10:02:03.758Z"
   },
   {
    "duration": 1071,
    "start_time": "2022-11-15T10:03:04.250Z"
   },
   {
    "duration": 33,
    "start_time": "2022-11-15T10:03:05.323Z"
   },
   {
    "duration": 30,
    "start_time": "2022-11-15T10:03:05.358Z"
   },
   {
    "duration": 6,
    "start_time": "2022-11-15T10:03:05.391Z"
   },
   {
    "duration": 6,
    "start_time": "2022-11-15T10:03:05.399Z"
   },
   {
    "duration": 17,
    "start_time": "2022-11-15T10:03:05.407Z"
   },
   {
    "duration": 101,
    "start_time": "2022-11-15T10:03:05.426Z"
   },
   {
    "duration": 0,
    "start_time": "2022-11-15T10:03:05.529Z"
   },
   {
    "duration": 0,
    "start_time": "2022-11-15T10:03:05.530Z"
   },
   {
    "duration": 0,
    "start_time": "2022-11-15T10:03:05.531Z"
   },
   {
    "duration": 0,
    "start_time": "2022-11-15T10:03:05.532Z"
   },
   {
    "duration": 0,
    "start_time": "2022-11-15T10:03:05.533Z"
   },
   {
    "duration": 0,
    "start_time": "2022-11-15T10:03:05.535Z"
   },
   {
    "duration": 0,
    "start_time": "2022-11-15T10:03:05.536Z"
   },
   {
    "duration": 0,
    "start_time": "2022-11-15T10:03:05.537Z"
   },
   {
    "duration": 0,
    "start_time": "2022-11-15T10:03:05.538Z"
   },
   {
    "duration": 0,
    "start_time": "2022-11-15T10:03:05.539Z"
   },
   {
    "duration": 0,
    "start_time": "2022-11-15T10:03:05.540Z"
   },
   {
    "duration": 0,
    "start_time": "2022-11-15T10:03:05.541Z"
   },
   {
    "duration": 0,
    "start_time": "2022-11-15T10:03:05.542Z"
   },
   {
    "duration": 0,
    "start_time": "2022-11-15T10:03:05.543Z"
   },
   {
    "duration": 0,
    "start_time": "2022-11-15T10:03:05.544Z"
   },
   {
    "duration": 0,
    "start_time": "2022-11-15T10:03:05.545Z"
   },
   {
    "duration": 0,
    "start_time": "2022-11-15T10:03:05.546Z"
   },
   {
    "duration": 1171,
    "start_time": "2022-11-15T10:03:33.785Z"
   },
   {
    "duration": 33,
    "start_time": "2022-11-15T10:03:34.958Z"
   },
   {
    "duration": 33,
    "start_time": "2022-11-15T10:03:34.992Z"
   },
   {
    "duration": 7,
    "start_time": "2022-11-15T10:03:35.027Z"
   },
   {
    "duration": 23,
    "start_time": "2022-11-15T10:03:35.035Z"
   },
   {
    "duration": 20,
    "start_time": "2022-11-15T10:03:35.060Z"
   },
   {
    "duration": 11,
    "start_time": "2022-11-15T10:03:35.082Z"
   },
   {
    "duration": 35,
    "start_time": "2022-11-15T10:03:35.095Z"
   },
   {
    "duration": 17,
    "start_time": "2022-11-15T10:03:35.132Z"
   },
   {
    "duration": 78,
    "start_time": "2022-11-15T10:03:35.152Z"
   },
   {
    "duration": 5,
    "start_time": "2022-11-15T10:03:35.232Z"
   },
   {
    "duration": 16,
    "start_time": "2022-11-15T10:03:35.323Z"
   },
   {
    "duration": 88,
    "start_time": "2022-11-15T10:03:35.341Z"
   },
   {
    "duration": 98,
    "start_time": "2022-11-15T10:03:35.431Z"
   },
   {
    "duration": 25,
    "start_time": "2022-11-15T10:03:35.531Z"
   },
   {
    "duration": 14,
    "start_time": "2022-11-15T10:03:35.558Z"
   },
   {
    "duration": 25,
    "start_time": "2022-11-15T10:03:35.574Z"
   },
   {
    "duration": 35,
    "start_time": "2022-11-15T10:03:35.602Z"
   },
   {
    "duration": 89,
    "start_time": "2022-11-15T10:03:35.639Z"
   },
   {
    "duration": 26,
    "start_time": "2022-11-15T10:03:35.731Z"
   },
   {
    "duration": 28,
    "start_time": "2022-11-15T10:03:35.759Z"
   },
   {
    "duration": 35,
    "start_time": "2022-11-15T10:03:35.789Z"
   },
   {
    "duration": 99,
    "start_time": "2022-11-15T10:03:35.827Z"
   },
   {
    "duration": 33,
    "start_time": "2022-11-15T10:03:35.928Z"
   },
   {
    "duration": 1136,
    "start_time": "2022-11-15T10:03:49.205Z"
   },
   {
    "duration": 35,
    "start_time": "2022-11-15T10:03:50.343Z"
   },
   {
    "duration": 32,
    "start_time": "2022-11-15T10:03:50.380Z"
   },
   {
    "duration": 10,
    "start_time": "2022-11-15T10:03:50.414Z"
   },
   {
    "duration": 5,
    "start_time": "2022-11-15T10:03:50.425Z"
   },
   {
    "duration": 9,
    "start_time": "2022-11-15T10:03:50.432Z"
   },
   {
    "duration": 5,
    "start_time": "2022-11-15T10:03:50.442Z"
   },
   {
    "duration": 25,
    "start_time": "2022-11-15T10:03:50.448Z"
   },
   {
    "duration": 18,
    "start_time": "2022-11-15T10:03:50.475Z"
   },
   {
    "duration": 99,
    "start_time": "2022-11-15T10:03:50.528Z"
   },
   {
    "duration": 4,
    "start_time": "2022-11-15T10:03:50.629Z"
   },
   {
    "duration": 8,
    "start_time": "2022-11-15T10:03:50.635Z"
   },
   {
    "duration": 89,
    "start_time": "2022-11-15T10:03:50.646Z"
   },
   {
    "duration": 85,
    "start_time": "2022-11-15T10:03:50.737Z"
   },
   {
    "duration": 14,
    "start_time": "2022-11-15T10:03:50.825Z"
   },
   {
    "duration": 6,
    "start_time": "2022-11-15T10:03:50.841Z"
   },
   {
    "duration": 8,
    "start_time": "2022-11-15T10:03:50.849Z"
   },
   {
    "duration": 72,
    "start_time": "2022-11-15T10:03:50.859Z"
   },
   {
    "duration": 90,
    "start_time": "2022-11-15T10:03:50.933Z"
   },
   {
    "duration": 11,
    "start_time": "2022-11-15T10:03:51.025Z"
   },
   {
    "duration": 11,
    "start_time": "2022-11-15T10:03:51.038Z"
   },
   {
    "duration": 72,
    "start_time": "2022-11-15T10:03:51.051Z"
   },
   {
    "duration": 16,
    "start_time": "2022-11-15T10:03:51.125Z"
   },
   {
    "duration": 12,
    "start_time": "2022-11-15T10:03:51.224Z"
   },
   {
    "duration": 1770,
    "start_time": "2022-11-15T15:51:34.435Z"
   },
   {
    "duration": 108,
    "start_time": "2022-11-15T15:51:36.208Z"
   },
   {
    "duration": 36,
    "start_time": "2022-11-15T15:51:36.318Z"
   },
   {
    "duration": 8,
    "start_time": "2022-11-15T15:51:36.358Z"
   },
   {
    "duration": 5,
    "start_time": "2022-11-15T15:51:40.729Z"
   },
   {
    "duration": 7,
    "start_time": "2022-11-15T15:51:41.168Z"
   },
   {
    "duration": 4,
    "start_time": "2022-11-15T15:51:42.606Z"
   },
   {
    "duration": 120,
    "start_time": "2022-11-15T15:53:15.770Z"
   },
   {
    "duration": 441,
    "start_time": "2022-11-15T15:53:22.701Z"
   },
   {
    "duration": 404,
    "start_time": "2022-11-15T15:56:49.799Z"
   },
   {
    "duration": 47,
    "start_time": "2022-11-15T15:59:02.266Z"
   },
   {
    "duration": 422,
    "start_time": "2022-11-15T16:00:41.802Z"
   },
   {
    "duration": 414,
    "start_time": "2022-11-15T16:04:09.355Z"
   },
   {
    "duration": 183,
    "start_time": "2022-11-15T16:13:15.007Z"
   },
   {
    "duration": 48,
    "start_time": "2022-11-15T16:14:11.903Z"
   },
   {
    "duration": 4,
    "start_time": "2022-11-15T16:14:18.647Z"
   },
   {
    "duration": 17,
    "start_time": "2022-11-15T16:14:19.159Z"
   },
   {
    "duration": 15,
    "start_time": "2022-11-15T16:14:20.260Z"
   },
   {
    "duration": 6,
    "start_time": "2022-11-15T16:14:21.260Z"
   },
   {
    "duration": 6,
    "start_time": "2022-11-15T16:14:22.505Z"
   },
   {
    "duration": 12,
    "start_time": "2022-11-15T16:14:22.711Z"
   },
   {
    "duration": 11,
    "start_time": "2022-11-15T16:14:22.924Z"
   },
   {
    "duration": 13,
    "start_time": "2022-11-15T16:14:23.317Z"
   },
   {
    "duration": 51,
    "start_time": "2022-11-15T16:14:59.643Z"
   },
   {
    "duration": 46,
    "start_time": "2022-11-15T16:15:39.373Z"
   },
   {
    "duration": 45,
    "start_time": "2022-11-15T16:52:07.779Z"
   },
   {
    "duration": 70,
    "start_time": "2022-11-15T17:10:01.375Z"
   },
   {
    "duration": 85,
    "start_time": "2022-11-15T17:11:38.674Z"
   },
   {
    "duration": 1717,
    "start_time": "2022-11-16T10:56:03.558Z"
   },
   {
    "duration": 123,
    "start_time": "2022-11-16T10:56:05.278Z"
   },
   {
    "duration": 30,
    "start_time": "2022-11-16T10:56:05.403Z"
   },
   {
    "duration": 7,
    "start_time": "2022-11-16T10:56:05.435Z"
   },
   {
    "duration": 9,
    "start_time": "2022-11-16T10:56:05.445Z"
   },
   {
    "duration": 9,
    "start_time": "2022-11-16T10:56:05.456Z"
   },
   {
    "duration": 23,
    "start_time": "2022-11-16T10:56:05.467Z"
   },
   {
    "duration": 499,
    "start_time": "2022-11-16T10:56:05.492Z"
   },
   {
    "duration": 5,
    "start_time": "2022-11-16T10:56:05.992Z"
   },
   {
    "duration": 12,
    "start_time": "2022-11-16T10:56:05.999Z"
   },
   {
    "duration": 168,
    "start_time": "2022-11-16T10:56:06.013Z"
   },
   {
    "duration": 7,
    "start_time": "2022-11-16T10:56:06.277Z"
   },
   {
    "duration": 9,
    "start_time": "2022-11-16T10:56:06.285Z"
   },
   {
    "duration": 90,
    "start_time": "2022-11-16T10:56:06.297Z"
   },
   {
    "duration": 90,
    "start_time": "2022-11-16T10:56:06.388Z"
   },
   {
    "duration": 9,
    "start_time": "2022-11-16T10:56:06.480Z"
   },
   {
    "duration": 4,
    "start_time": "2022-11-16T10:56:06.491Z"
   },
   {
    "duration": 6,
    "start_time": "2022-11-16T10:56:06.497Z"
   },
   {
    "duration": 85,
    "start_time": "2022-11-16T10:56:06.505Z"
   },
   {
    "duration": 91,
    "start_time": "2022-11-16T10:56:06.593Z"
   },
   {
    "duration": 21,
    "start_time": "2022-11-16T10:56:06.686Z"
   },
   {
    "duration": 13,
    "start_time": "2022-11-16T10:56:06.709Z"
   },
   {
    "duration": 53,
    "start_time": "2022-11-16T10:56:06.726Z"
   },
   {
    "duration": 97,
    "start_time": "2022-11-16T10:56:06.782Z"
   },
   {
    "duration": 10,
    "start_time": "2022-11-16T10:56:06.881Z"
   },
   {
    "duration": 74,
    "start_time": "2022-11-16T10:57:38.545Z"
   }
  ],
  "kernelspec": {
   "display_name": "Python 3 (ipykernel)",
   "language": "python",
   "name": "python3"
  },
  "language_info": {
   "codemirror_mode": {
    "name": "ipython",
    "version": 3
   },
   "file_extension": ".py",
   "mimetype": "text/x-python",
   "name": "python",
   "nbconvert_exporter": "python",
   "pygments_lexer": "ipython3",
   "version": "3.9.5"
  },
  "toc": {
   "base_numbering": 1,
   "nav_menu": {},
   "number_sections": true,
   "sideBar": true,
   "skip_h1_title": true,
   "title_cell": "Содержание",
   "title_sidebar": "Contents",
   "toc_cell": true,
   "toc_position": {},
   "toc_section_display": true,
   "toc_window_display": false
  }
 },
 "nbformat": 4,
 "nbformat_minor": 2
}
