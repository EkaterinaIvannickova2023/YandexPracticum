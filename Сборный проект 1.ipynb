{
 "cells": [
  {
   "cell_type": "markdown",
   "metadata": {},
   "source": [
    "# Сборный проект"
   ]
  },
  {
   "cell_type": "markdown",
   "metadata": {},
   "source": [
    "## Описание проекта\n",
    "\n",
    "Интернет-магазине «Стримчик», который продаёт по всему миру компьютерные игры. Из открытых источников доступны исторические данные о продажах игр, оценки пользователей и экспертов, жанры и платформы (например, Xbox или PlayStation).\n",
    "\n",
    "Нужно выявить определяющие успешность игры закономерности. Это позволит сделать ставку на потенциально популярный продукт и спланировать рекламные кампании.Перед нами данные до 2016 года. Представим, что сейчас декабрь 2016 г., и мы планируем кампанию на 2017-й. Нужно отработать принцип работы с данными.\n",
    "\n",
    "В наборе данных попадается аббревиатура ESRB (Entertainment Software Rating Board) — это ассоциация, определяющая возрастной рейтинг компьютерных игр. ESRB оценивает игровой контент и присваивает ему подходящую возрастную категорию, например, «Для взрослых», «Для детей младшего возраста» или «Для подростков»."
   ]
  },
  {
   "cell_type": "markdown",
   "metadata": {},
   "source": [
    "##  Откроем файл с данными и изучим общую информацию\n"
   ]
  },
  {
   "cell_type": "code",
   "execution_count": 1,
   "metadata": {},
   "outputs": [],
   "source": [
    "import pandas as pd\n",
    "import numpy as np\n",
    "import matplotlib.pyplot as plt\n",
    "import seaborn as sns\n",
    "from scipy import stats as st"
   ]
  },
  {
   "cell_type": "code",
   "execution_count": 2,
   "metadata": {},
   "outputs": [
    {
     "name": "stdout",
     "output_type": "stream",
     "text": [
      "<class 'pandas.core.frame.DataFrame'>\n",
      "RangeIndex: 16715 entries, 0 to 16714\n",
      "Data columns (total 11 columns):\n",
      " #   Column           Non-Null Count  Dtype  \n",
      "---  ------           --------------  -----  \n",
      " 0   Name             16713 non-null  object \n",
      " 1   Platform         16715 non-null  object \n",
      " 2   Year_of_Release  16446 non-null  float64\n",
      " 3   Genre            16713 non-null  object \n",
      " 4   NA_sales         16715 non-null  float64\n",
      " 5   EU_sales         16715 non-null  float64\n",
      " 6   JP_sales         16715 non-null  float64\n",
      " 7   Other_sales      16715 non-null  float64\n",
      " 8   Critic_Score     8137 non-null   float64\n",
      " 9   User_Score       10014 non-null  object \n",
      " 10  Rating           9949 non-null   object \n",
      "dtypes: float64(6), object(5)\n",
      "memory usage: 1.4+ MB\n"
     ]
    },
    {
     "data": {
      "text/html": [
       "<div>\n",
       "<style scoped>\n",
       "    .dataframe tbody tr th:only-of-type {\n",
       "        vertical-align: middle;\n",
       "    }\n",
       "\n",
       "    .dataframe tbody tr th {\n",
       "        vertical-align: top;\n",
       "    }\n",
       "\n",
       "    .dataframe thead th {\n",
       "        text-align: right;\n",
       "    }\n",
       "</style>\n",
       "<table border=\"1\" class=\"dataframe\">\n",
       "  <thead>\n",
       "    <tr style=\"text-align: right;\">\n",
       "      <th></th>\n",
       "      <th>Name</th>\n",
       "      <th>Platform</th>\n",
       "      <th>Year_of_Release</th>\n",
       "      <th>Genre</th>\n",
       "      <th>NA_sales</th>\n",
       "      <th>EU_sales</th>\n",
       "      <th>JP_sales</th>\n",
       "      <th>Other_sales</th>\n",
       "      <th>Critic_Score</th>\n",
       "      <th>User_Score</th>\n",
       "      <th>Rating</th>\n",
       "    </tr>\n",
       "  </thead>\n",
       "  <tbody>\n",
       "    <tr>\n",
       "      <th>10631</th>\n",
       "      <td>Lode Runner 3-D</td>\n",
       "      <td>N64</td>\n",
       "      <td>1998.0</td>\n",
       "      <td>Action</td>\n",
       "      <td>0.08</td>\n",
       "      <td>0.02</td>\n",
       "      <td>0.00</td>\n",
       "      <td>0.00</td>\n",
       "      <td>NaN</td>\n",
       "      <td>NaN</td>\n",
       "      <td>NaN</td>\n",
       "    </tr>\n",
       "    <tr>\n",
       "      <th>3862</th>\n",
       "      <td>Frozen: Olaf's Quest</td>\n",
       "      <td>DS</td>\n",
       "      <td>2013.0</td>\n",
       "      <td>Platform</td>\n",
       "      <td>0.21</td>\n",
       "      <td>0.26</td>\n",
       "      <td>0.00</td>\n",
       "      <td>0.04</td>\n",
       "      <td>NaN</td>\n",
       "      <td>NaN</td>\n",
       "      <td>NaN</td>\n",
       "    </tr>\n",
       "    <tr>\n",
       "      <th>9304</th>\n",
       "      <td>Queen's Gate: Spiral Chaos</td>\n",
       "      <td>PSP</td>\n",
       "      <td>2011.0</td>\n",
       "      <td>Role-Playing</td>\n",
       "      <td>0.00</td>\n",
       "      <td>0.00</td>\n",
       "      <td>0.14</td>\n",
       "      <td>0.00</td>\n",
       "      <td>NaN</td>\n",
       "      <td>NaN</td>\n",
       "      <td>NaN</td>\n",
       "    </tr>\n",
       "    <tr>\n",
       "      <th>14407</th>\n",
       "      <td>Dodge Racing: Charger vs Challenger</td>\n",
       "      <td>DS</td>\n",
       "      <td>2009.0</td>\n",
       "      <td>Racing</td>\n",
       "      <td>0.03</td>\n",
       "      <td>0.00</td>\n",
       "      <td>0.00</td>\n",
       "      <td>0.00</td>\n",
       "      <td>NaN</td>\n",
       "      <td>tbd</td>\n",
       "      <td>E</td>\n",
       "    </tr>\n",
       "    <tr>\n",
       "      <th>16503</th>\n",
       "      <td>Shin Hayarigami 2</td>\n",
       "      <td>PS4</td>\n",
       "      <td>2016.0</td>\n",
       "      <td>Adventure</td>\n",
       "      <td>0.00</td>\n",
       "      <td>0.00</td>\n",
       "      <td>0.01</td>\n",
       "      <td>0.00</td>\n",
       "      <td>NaN</td>\n",
       "      <td>NaN</td>\n",
       "      <td>NaN</td>\n",
       "    </tr>\n",
       "    <tr>\n",
       "      <th>7681</th>\n",
       "      <td>Ratatouille</td>\n",
       "      <td>GBA</td>\n",
       "      <td>2007.0</td>\n",
       "      <td>Action</td>\n",
       "      <td>0.14</td>\n",
       "      <td>0.05</td>\n",
       "      <td>0.00</td>\n",
       "      <td>0.00</td>\n",
       "      <td>65.0</td>\n",
       "      <td>tbd</td>\n",
       "      <td>E</td>\n",
       "    </tr>\n",
       "    <tr>\n",
       "      <th>12297</th>\n",
       "      <td>July</td>\n",
       "      <td>DC</td>\n",
       "      <td>1998.0</td>\n",
       "      <td>Adventure</td>\n",
       "      <td>0.00</td>\n",
       "      <td>0.00</td>\n",
       "      <td>0.06</td>\n",
       "      <td>0.00</td>\n",
       "      <td>NaN</td>\n",
       "      <td>NaN</td>\n",
       "      <td>NaN</td>\n",
       "    </tr>\n",
       "    <tr>\n",
       "      <th>12251</th>\n",
       "      <td>Parlor! Mini 2</td>\n",
       "      <td>SNES</td>\n",
       "      <td>1996.0</td>\n",
       "      <td>Misc</td>\n",
       "      <td>0.00</td>\n",
       "      <td>0.00</td>\n",
       "      <td>0.07</td>\n",
       "      <td>0.00</td>\n",
       "      <td>NaN</td>\n",
       "      <td>NaN</td>\n",
       "      <td>NaN</td>\n",
       "    </tr>\n",
       "    <tr>\n",
       "      <th>10448</th>\n",
       "      <td>Pro Yakyuu Famista DS 2009</td>\n",
       "      <td>DS</td>\n",
       "      <td>2009.0</td>\n",
       "      <td>Sports</td>\n",
       "      <td>0.00</td>\n",
       "      <td>0.00</td>\n",
       "      <td>0.10</td>\n",
       "      <td>0.00</td>\n",
       "      <td>NaN</td>\n",
       "      <td>NaN</td>\n",
       "      <td>NaN</td>\n",
       "    </tr>\n",
       "    <tr>\n",
       "      <th>10736</th>\n",
       "      <td>Natural Doctrine</td>\n",
       "      <td>PS4</td>\n",
       "      <td>2014.0</td>\n",
       "      <td>Role-Playing</td>\n",
       "      <td>0.05</td>\n",
       "      <td>0.02</td>\n",
       "      <td>0.02</td>\n",
       "      <td>0.01</td>\n",
       "      <td>53.0</td>\n",
       "      <td>6</td>\n",
       "      <td>M</td>\n",
       "    </tr>\n",
       "  </tbody>\n",
       "</table>\n",
       "</div>"
      ],
      "text/plain": [
       "                                      Name Platform  Year_of_Release  \\\n",
       "10631                      Lode Runner 3-D      N64           1998.0   \n",
       "3862                  Frozen: Olaf's Quest       DS           2013.0   \n",
       "9304            Queen's Gate: Spiral Chaos      PSP           2011.0   \n",
       "14407  Dodge Racing: Charger vs Challenger       DS           2009.0   \n",
       "16503                    Shin Hayarigami 2      PS4           2016.0   \n",
       "7681                           Ratatouille      GBA           2007.0   \n",
       "12297                                 July       DC           1998.0   \n",
       "12251                       Parlor! Mini 2     SNES           1996.0   \n",
       "10448           Pro Yakyuu Famista DS 2009       DS           2009.0   \n",
       "10736                     Natural Doctrine      PS4           2014.0   \n",
       "\n",
       "              Genre  NA_sales  EU_sales  JP_sales  Other_sales  Critic_Score  \\\n",
       "10631        Action      0.08      0.02      0.00         0.00           NaN   \n",
       "3862       Platform      0.21      0.26      0.00         0.04           NaN   \n",
       "9304   Role-Playing      0.00      0.00      0.14         0.00           NaN   \n",
       "14407        Racing      0.03      0.00      0.00         0.00           NaN   \n",
       "16503     Adventure      0.00      0.00      0.01         0.00           NaN   \n",
       "7681         Action      0.14      0.05      0.00         0.00          65.0   \n",
       "12297     Adventure      0.00      0.00      0.06         0.00           NaN   \n",
       "12251          Misc      0.00      0.00      0.07         0.00           NaN   \n",
       "10448        Sports      0.00      0.00      0.10         0.00           NaN   \n",
       "10736  Role-Playing      0.05      0.02      0.02         0.01          53.0   \n",
       "\n",
       "      User_Score Rating  \n",
       "10631        NaN    NaN  \n",
       "3862         NaN    NaN  \n",
       "9304         NaN    NaN  \n",
       "14407        tbd      E  \n",
       "16503        NaN    NaN  \n",
       "7681         tbd      E  \n",
       "12297        NaN    NaN  \n",
       "12251        NaN    NaN  \n",
       "10448        NaN    NaN  \n",
       "10736          6      M  "
      ]
     },
     "execution_count": 2,
     "metadata": {},
     "output_type": "execute_result"
    }
   ],
   "source": [
    "game=pd.read_csv('/datasets/games.csv')\n",
    "game.info()\n",
    "game.sample(10)"
   ]
  },
  {
   "cell_type": "code",
   "execution_count": 3,
   "metadata": {},
   "outputs": [
    {
     "data": {
      "text/plain": [
       "0"
      ]
     },
     "execution_count": 3,
     "metadata": {},
     "output_type": "execute_result"
    }
   ],
   "source": [
    "game.duplicated().sum()"
   ]
  },
  {
   "cell_type": "markdown",
   "metadata": {},
   "source": [
    "Описание данных\n",
    "\n",
    "Name — название игры\n",
    "\n",
    "Platform — платформа\n",
    "\n",
    "Year_of_Release — год выпуска\n",
    "\n",
    "Genre — жанр игры\n",
    "\n",
    "NA_sales — продажи в Северной Америке (миллионы проданных копий)\n",
    "\n",
    "EU_sales — продажи в Европе (миллионы проданных копий)\n",
    "\n",
    "JP_sales — продажи в Японии (миллионы проданных копий)\n",
    "\n",
    "Other_sales — продажи в других странах (миллионы проданных копий)\n",
    "\n",
    "Critic_Score — оценка критиков (максимум 100)\n",
    "\n",
    "User_Score — оценка пользователей (максимум 10)\n",
    "\n",
    "Rating — рейтинг от организации ESRB (англ. Entertainment Software Rating Board). \n",
    "\n",
    "Эта ассоциация определяет рейтинг компьютерных игр и присваивает им подходящую возрастную категорию.\n",
    "\n",
    "Данные за 2016 год могут быть неполными."
   ]
  },
  {
   "cell_type": "code",
   "execution_count": 4,
   "metadata": {},
   "outputs": [
    {
     "data": {
      "text/plain": [
       "Name                  2\n",
       "Platform              0\n",
       "Year_of_Release     269\n",
       "Genre                 2\n",
       "NA_sales              0\n",
       "EU_sales              0\n",
       "JP_sales              0\n",
       "Other_sales           0\n",
       "Critic_Score       8578\n",
       "User_Score         6701\n",
       "Rating             6766\n",
       "dtype: int64"
      ]
     },
     "execution_count": 4,
     "metadata": {},
     "output_type": "execute_result"
    }
   ],
   "source": [
    "game.isna().sum()"
   ]
  },
  {
   "cell_type": "markdown",
   "metadata": {},
   "source": [
    "1. Привести названия и строки к нижнему регистру \n",
    "2. Заполнить пропуски в столбцах name,genre,user_score,critic_score,rating\n",
    "3. Преобразовать типы данных в столбцах year_of_release,user_score,citic_score\n",
    "4. Посчитать суммарные продажи во всех регионах и дбавить в новый столбец total_price"
   ]
  },
  {
   "cell_type": "markdown",
   "metadata": {},
   "source": [
    "### Привести названия и строки к нижнему регистру"
   ]
  },
  {
   "cell_type": "code",
   "execution_count": 5,
   "metadata": {},
   "outputs": [],
   "source": [
    "game.columns = game.columns.str.lower()"
   ]
  },
  {
   "cell_type": "code",
   "execution_count": 6,
   "metadata": {},
   "outputs": [],
   "source": [
    "game['name'] = game['name'].str.lower()\n",
    "game['platform'] = game['platform'].str.lower()\n",
    "game['genre'] = game['genre'].str.lower()"
   ]
  },
  {
   "cell_type": "markdown",
   "metadata": {},
   "source": [
    "### Заполнить пропуски"
   ]
  },
  {
   "cell_type": "markdown",
   "metadata": {},
   "source": [
    "Пропуски в столбцах :\n",
    "\n",
    "name - 2 пропуска , удаляем , сильно на анализ не повлияют\n",
    "\n",
    "genre -  2 пропуска , удаляем , сильно на анализ не повлияют\n",
    "\n",
    "year_of_release - возможно , пропуски появились из-за выгрузки данных , заменим Nan на -1 \n",
    "\n",
    "critic_score - возможно , оценка критика была не актуальной или не было возможности ее поставить ,заменим Nan на  -1 , чтобы не перепустать с настоящими данными, пропусков много.\n",
    "\n",
    "user_score - аналогично critic_score.\n",
    "\n",
    "rating_esrb - возможно , для того , чтобы поставить рейтинг не было возможности или же не блыло организации которая этим бы занималась , заменим пропуски на no_rating."
   ]
  },
  {
   "cell_type": "code",
   "execution_count": 7,
   "metadata": {},
   "outputs": [
    {
     "data": {
      "text/html": [
       "<div>\n",
       "<style scoped>\n",
       "    .dataframe tbody tr th:only-of-type {\n",
       "        vertical-align: middle;\n",
       "    }\n",
       "\n",
       "    .dataframe tbody tr th {\n",
       "        vertical-align: top;\n",
       "    }\n",
       "\n",
       "    .dataframe thead th {\n",
       "        text-align: right;\n",
       "    }\n",
       "</style>\n",
       "<table border=\"1\" class=\"dataframe\">\n",
       "  <thead>\n",
       "    <tr style=\"text-align: right;\">\n",
       "      <th></th>\n",
       "      <th>name</th>\n",
       "      <th>platform</th>\n",
       "      <th>year_of_release</th>\n",
       "      <th>genre</th>\n",
       "      <th>na_sales</th>\n",
       "      <th>eu_sales</th>\n",
       "      <th>jp_sales</th>\n",
       "      <th>other_sales</th>\n",
       "      <th>critic_score</th>\n",
       "      <th>user_score</th>\n",
       "      <th>rating</th>\n",
       "    </tr>\n",
       "  </thead>\n",
       "  <tbody>\n",
       "    <tr>\n",
       "      <th>659</th>\n",
       "      <td>NaN</td>\n",
       "      <td>gen</td>\n",
       "      <td>1993.0</td>\n",
       "      <td>NaN</td>\n",
       "      <td>1.78</td>\n",
       "      <td>0.53</td>\n",
       "      <td>0.00</td>\n",
       "      <td>0.08</td>\n",
       "      <td>NaN</td>\n",
       "      <td>NaN</td>\n",
       "      <td>NaN</td>\n",
       "    </tr>\n",
       "    <tr>\n",
       "      <th>14244</th>\n",
       "      <td>NaN</td>\n",
       "      <td>gen</td>\n",
       "      <td>1993.0</td>\n",
       "      <td>NaN</td>\n",
       "      <td>0.00</td>\n",
       "      <td>0.00</td>\n",
       "      <td>0.03</td>\n",
       "      <td>0.00</td>\n",
       "      <td>NaN</td>\n",
       "      <td>NaN</td>\n",
       "      <td>NaN</td>\n",
       "    </tr>\n",
       "  </tbody>\n",
       "</table>\n",
       "</div>"
      ],
      "text/plain": [
       "      name platform  year_of_release genre  na_sales  eu_sales  jp_sales  \\\n",
       "659    NaN      gen           1993.0   NaN      1.78      0.53      0.00   \n",
       "14244  NaN      gen           1993.0   NaN      0.00      0.00      0.03   \n",
       "\n",
       "       other_sales  critic_score user_score rating  \n",
       "659           0.08           NaN        NaN    NaN  \n",
       "14244         0.00           NaN        NaN    NaN  "
      ]
     },
     "execution_count": 7,
     "metadata": {},
     "output_type": "execute_result"
    }
   ],
   "source": [
    "game.loc[game['name'].isna()]"
   ]
  },
  {
   "cell_type": "code",
   "execution_count": 8,
   "metadata": {},
   "outputs": [],
   "source": [
    "game=game.loc[~game['name'].isna()]"
   ]
  },
  {
   "cell_type": "code",
   "execution_count": 9,
   "metadata": {},
   "outputs": [],
   "source": [
    "for column in ['critic_score', 'rating']:\n",
    "    game.loc[game[column].isna(),column]=-1"
   ]
  },
  {
   "cell_type": "markdown",
   "metadata": {},
   "source": [
    " 'tbd' фактически и является NaN, заменим и NaN"
   ]
  },
  {
   "cell_type": "code",
   "execution_count": 10,
   "metadata": {},
   "outputs": [],
   "source": [
    "game.loc[game['user_score'] == 'tbd','user_score'] = np.nan"
   ]
  },
  {
   "cell_type": "code",
   "execution_count": 11,
   "metadata": {},
   "outputs": [],
   "source": [
    "for column in ['user_score']:\n",
    "    game.loc[game[column].isna(),column]=-1"
   ]
  },
  {
   "cell_type": "code",
   "execution_count": 12,
   "metadata": {},
   "outputs": [],
   "source": [
    "game['year_of_release'].fillna(-1, inplace=True)"
   ]
  },
  {
   "cell_type": "code",
   "execution_count": 13,
   "metadata": {},
   "outputs": [
    {
     "data": {
      "text/plain": [
       "name               0\n",
       "platform           0\n",
       "year_of_release    0\n",
       "genre              0\n",
       "na_sales           0\n",
       "eu_sales           0\n",
       "jp_sales           0\n",
       "other_sales        0\n",
       "critic_score       0\n",
       "user_score         0\n",
       "rating             0\n",
       "dtype: int64"
      ]
     },
     "execution_count": 13,
     "metadata": {},
     "output_type": "execute_result"
    }
   ],
   "source": [
    "game.isna().sum()"
   ]
  },
  {
   "cell_type": "code",
   "execution_count": 14,
   "metadata": {},
   "outputs": [
    {
     "data": {
      "text/plain": [
       "-1      6764\n",
       "E       3990\n",
       "T       2961\n",
       "M       1563\n",
       "E10+    1420\n",
       "EC         8\n",
       "K-A        3\n",
       "RP         3\n",
       "AO         1\n",
       "Name: rating, dtype: int64"
      ]
     },
     "execution_count": 14,
     "metadata": {},
     "output_type": "execute_result"
    }
   ],
   "source": [
    "game['rating'].value_counts()"
   ]
  },
  {
   "cell_type": "code",
   "execution_count": 15,
   "metadata": {},
   "outputs": [
    {
     "name": "stdout",
     "output_type": "stream",
     "text": [
      "<class 'pandas.core.frame.DataFrame'>\n",
      "Int64Index: 16713 entries, 0 to 16714\n",
      "Data columns (total 11 columns):\n",
      " #   Column           Non-Null Count  Dtype  \n",
      "---  ------           --------------  -----  \n",
      " 0   name             16713 non-null  object \n",
      " 1   platform         16713 non-null  object \n",
      " 2   year_of_release  16713 non-null  float64\n",
      " 3   genre            16713 non-null  object \n",
      " 4   na_sales         16713 non-null  float64\n",
      " 5   eu_sales         16713 non-null  float64\n",
      " 6   jp_sales         16713 non-null  float64\n",
      " 7   other_sales      16713 non-null  float64\n",
      " 8   critic_score     16713 non-null  float64\n",
      " 9   user_score       16713 non-null  object \n",
      " 10  rating           16713 non-null  object \n",
      "dtypes: float64(6), object(5)\n",
      "memory usage: 1.5+ MB\n"
     ]
    }
   ],
   "source": [
    "game.info()"
   ]
  },
  {
   "cell_type": "markdown",
   "metadata": {},
   "source": [
    "Почистили файл от пропусков \n",
    "\n",
    "Заменили nan в столбцах 'user_score','critic_score','rating' на значение '-1'\n"
   ]
  },
  {
   "cell_type": "markdown",
   "metadata": {},
   "source": [
    "### Преобразовать типы данных"
   ]
  },
  {
   "cell_type": "code",
   "execution_count": 16,
   "metadata": {},
   "outputs": [
    {
     "name": "stdout",
     "output_type": "stream",
     "text": [
      "<class 'pandas.core.frame.DataFrame'>\n",
      "Int64Index: 16713 entries, 0 to 16714\n",
      "Data columns (total 11 columns):\n",
      " #   Column           Non-Null Count  Dtype  \n",
      "---  ------           --------------  -----  \n",
      " 0   name             16713 non-null  object \n",
      " 1   platform         16713 non-null  object \n",
      " 2   year_of_release  16713 non-null  float64\n",
      " 3   genre            16713 non-null  object \n",
      " 4   na_sales         16713 non-null  float64\n",
      " 5   eu_sales         16713 non-null  float64\n",
      " 6   jp_sales         16713 non-null  float64\n",
      " 7   other_sales      16713 non-null  float64\n",
      " 8   critic_score     16713 non-null  float64\n",
      " 9   user_score       16713 non-null  object \n",
      " 10  rating           16713 non-null  object \n",
      "dtypes: float64(6), object(5)\n",
      "memory usage: 1.5+ MB\n"
     ]
    }
   ],
   "source": [
    "game.info()"
   ]
  },
  {
   "cell_type": "code",
   "execution_count": 17,
   "metadata": {},
   "outputs": [],
   "source": [
    "game.loc[:,'year_of_release'] = game.loc[:,'year_of_release'].astype('Int64',errors='ignore')"
   ]
  },
  {
   "cell_type": "code",
   "execution_count": 18,
   "metadata": {},
   "outputs": [],
   "source": [
    "game['user_score'] = game['user_score'].astype('float')\n",
    "game['critic_score'] = game['critic_score'].astype('float')"
   ]
  },
  {
   "cell_type": "code",
   "execution_count": 19,
   "metadata": {},
   "outputs": [
    {
     "name": "stdout",
     "output_type": "stream",
     "text": [
      "<class 'pandas.core.frame.DataFrame'>\n",
      "Int64Index: 16713 entries, 0 to 16714\n",
      "Data columns (total 11 columns):\n",
      " #   Column           Non-Null Count  Dtype  \n",
      "---  ------           --------------  -----  \n",
      " 0   name             16713 non-null  object \n",
      " 1   platform         16713 non-null  object \n",
      " 2   year_of_release  16713 non-null  Int64  \n",
      " 3   genre            16713 non-null  object \n",
      " 4   na_sales         16713 non-null  float64\n",
      " 5   eu_sales         16713 non-null  float64\n",
      " 6   jp_sales         16713 non-null  float64\n",
      " 7   other_sales      16713 non-null  float64\n",
      " 8   critic_score     16713 non-null  float64\n",
      " 9   user_score       16713 non-null  float64\n",
      " 10  rating           16713 non-null  object \n",
      "dtypes: Int64(1), float64(6), object(4)\n",
      "memory usage: 1.5+ MB\n"
     ]
    },
    {
     "data": {
      "text/html": [
       "<div>\n",
       "<style scoped>\n",
       "    .dataframe tbody tr th:only-of-type {\n",
       "        vertical-align: middle;\n",
       "    }\n",
       "\n",
       "    .dataframe tbody tr th {\n",
       "        vertical-align: top;\n",
       "    }\n",
       "\n",
       "    .dataframe thead th {\n",
       "        text-align: right;\n",
       "    }\n",
       "</style>\n",
       "<table border=\"1\" class=\"dataframe\">\n",
       "  <thead>\n",
       "    <tr style=\"text-align: right;\">\n",
       "      <th></th>\n",
       "      <th>year_of_release</th>\n",
       "      <th>na_sales</th>\n",
       "      <th>eu_sales</th>\n",
       "      <th>jp_sales</th>\n",
       "      <th>other_sales</th>\n",
       "      <th>critic_score</th>\n",
       "      <th>user_score</th>\n",
       "    </tr>\n",
       "  </thead>\n",
       "  <tbody>\n",
       "    <tr>\n",
       "      <th>count</th>\n",
       "      <td>16713.000000</td>\n",
       "      <td>16713.000000</td>\n",
       "      <td>16713.000000</td>\n",
       "      <td>16713.000000</td>\n",
       "      <td>16713.000000</td>\n",
       "      <td>16713.000000</td>\n",
       "      <td>16713.000000</td>\n",
       "    </tr>\n",
       "    <tr>\n",
       "      <th>mean</th>\n",
       "      <td>1974.175253</td>\n",
       "      <td>0.263302</td>\n",
       "      <td>0.145045</td>\n",
       "      <td>0.077625</td>\n",
       "      <td>0.047343</td>\n",
       "      <td>33.064920</td>\n",
       "      <td>2.689888</td>\n",
       "    </tr>\n",
       "    <tr>\n",
       "      <th>std</th>\n",
       "      <td>252.700771</td>\n",
       "      <td>0.813565</td>\n",
       "      <td>0.503359</td>\n",
       "      <td>0.308871</td>\n",
       "      <td>0.186742</td>\n",
       "      <td>36.299815</td>\n",
       "      <td>4.169887</td>\n",
       "    </tr>\n",
       "    <tr>\n",
       "      <th>min</th>\n",
       "      <td>-1.000000</td>\n",
       "      <td>0.000000</td>\n",
       "      <td>0.000000</td>\n",
       "      <td>0.000000</td>\n",
       "      <td>0.000000</td>\n",
       "      <td>-1.000000</td>\n",
       "      <td>-1.000000</td>\n",
       "    </tr>\n",
       "    <tr>\n",
       "      <th>25%</th>\n",
       "      <td>2003.000000</td>\n",
       "      <td>0.000000</td>\n",
       "      <td>0.000000</td>\n",
       "      <td>0.000000</td>\n",
       "      <td>0.000000</td>\n",
       "      <td>-1.000000</td>\n",
       "      <td>-1.000000</td>\n",
       "    </tr>\n",
       "    <tr>\n",
       "      <th>50%</th>\n",
       "      <td>2007.000000</td>\n",
       "      <td>0.080000</td>\n",
       "      <td>0.020000</td>\n",
       "      <td>0.000000</td>\n",
       "      <td>0.010000</td>\n",
       "      <td>-1.000000</td>\n",
       "      <td>-1.000000</td>\n",
       "    </tr>\n",
       "    <tr>\n",
       "      <th>75%</th>\n",
       "      <td>2010.000000</td>\n",
       "      <td>0.240000</td>\n",
       "      <td>0.110000</td>\n",
       "      <td>0.040000</td>\n",
       "      <td>0.030000</td>\n",
       "      <td>70.000000</td>\n",
       "      <td>7.300000</td>\n",
       "    </tr>\n",
       "    <tr>\n",
       "      <th>max</th>\n",
       "      <td>2016.000000</td>\n",
       "      <td>41.360000</td>\n",
       "      <td>28.960000</td>\n",
       "      <td>10.220000</td>\n",
       "      <td>10.570000</td>\n",
       "      <td>98.000000</td>\n",
       "      <td>9.700000</td>\n",
       "    </tr>\n",
       "  </tbody>\n",
       "</table>\n",
       "</div>"
      ],
      "text/plain": [
       "       year_of_release      na_sales      eu_sales      jp_sales  \\\n",
       "count     16713.000000  16713.000000  16713.000000  16713.000000   \n",
       "mean       1974.175253      0.263302      0.145045      0.077625   \n",
       "std         252.700771      0.813565      0.503359      0.308871   \n",
       "min          -1.000000      0.000000      0.000000      0.000000   \n",
       "25%        2003.000000      0.000000      0.000000      0.000000   \n",
       "50%        2007.000000      0.080000      0.020000      0.000000   \n",
       "75%        2010.000000      0.240000      0.110000      0.040000   \n",
       "max        2016.000000     41.360000     28.960000     10.220000   \n",
       "\n",
       "        other_sales  critic_score    user_score  \n",
       "count  16713.000000  16713.000000  16713.000000  \n",
       "mean       0.047343     33.064920      2.689888  \n",
       "std        0.186742     36.299815      4.169887  \n",
       "min        0.000000     -1.000000     -1.000000  \n",
       "25%        0.000000     -1.000000     -1.000000  \n",
       "50%        0.010000     -1.000000     -1.000000  \n",
       "75%        0.030000     70.000000      7.300000  \n",
       "max       10.570000     98.000000      9.700000  "
      ]
     },
     "execution_count": 19,
     "metadata": {},
     "output_type": "execute_result"
    }
   ],
   "source": [
    "game.info()\n",
    "game.describe()"
   ]
  },
  {
   "cell_type": "markdown",
   "metadata": {},
   "source": [
    "Преобразовали типы данных в датафрейме для удобства дальнейшей работы 'yaer_of_release' - int, 'user_score' & 'critic_score' - float ."
   ]
  },
  {
   "cell_type": "markdown",
   "metadata": {},
   "source": [
    "### Посчитать суммарные продажи во всех регионах и дбавить в новый столбец"
   ]
  },
  {
   "cell_type": "code",
   "execution_count": 20,
   "metadata": {},
   "outputs": [],
   "source": [
    "game['total_price']= game['na_sales'] + game['eu_sales'] + game['jp_sales'] + game['other_sales']"
   ]
  },
  {
   "cell_type": "code",
   "execution_count": 21,
   "metadata": {},
   "outputs": [
    {
     "data": {
      "text/html": [
       "<div>\n",
       "<style scoped>\n",
       "    .dataframe tbody tr th:only-of-type {\n",
       "        vertical-align: middle;\n",
       "    }\n",
       "\n",
       "    .dataframe tbody tr th {\n",
       "        vertical-align: top;\n",
       "    }\n",
       "\n",
       "    .dataframe thead th {\n",
       "        text-align: right;\n",
       "    }\n",
       "</style>\n",
       "<table border=\"1\" class=\"dataframe\">\n",
       "  <thead>\n",
       "    <tr style=\"text-align: right;\">\n",
       "      <th></th>\n",
       "      <th>name</th>\n",
       "      <th>platform</th>\n",
       "      <th>year_of_release</th>\n",
       "      <th>genre</th>\n",
       "      <th>na_sales</th>\n",
       "      <th>eu_sales</th>\n",
       "      <th>jp_sales</th>\n",
       "      <th>other_sales</th>\n",
       "      <th>critic_score</th>\n",
       "      <th>user_score</th>\n",
       "      <th>rating</th>\n",
       "      <th>total_price</th>\n",
       "    </tr>\n",
       "  </thead>\n",
       "  <tbody>\n",
       "    <tr>\n",
       "      <th>0</th>\n",
       "      <td>wii sports</td>\n",
       "      <td>wii</td>\n",
       "      <td>2006</td>\n",
       "      <td>sports</td>\n",
       "      <td>41.36</td>\n",
       "      <td>28.96</td>\n",
       "      <td>3.77</td>\n",
       "      <td>8.45</td>\n",
       "      <td>76.0</td>\n",
       "      <td>8.0</td>\n",
       "      <td>E</td>\n",
       "      <td>82.54</td>\n",
       "    </tr>\n",
       "    <tr>\n",
       "      <th>1</th>\n",
       "      <td>super mario bros.</td>\n",
       "      <td>nes</td>\n",
       "      <td>1985</td>\n",
       "      <td>platform</td>\n",
       "      <td>29.08</td>\n",
       "      <td>3.58</td>\n",
       "      <td>6.81</td>\n",
       "      <td>0.77</td>\n",
       "      <td>-1.0</td>\n",
       "      <td>-1.0</td>\n",
       "      <td>-1</td>\n",
       "      <td>40.24</td>\n",
       "    </tr>\n",
       "    <tr>\n",
       "      <th>2</th>\n",
       "      <td>mario kart wii</td>\n",
       "      <td>wii</td>\n",
       "      <td>2008</td>\n",
       "      <td>racing</td>\n",
       "      <td>15.68</td>\n",
       "      <td>12.76</td>\n",
       "      <td>3.79</td>\n",
       "      <td>3.29</td>\n",
       "      <td>82.0</td>\n",
       "      <td>8.3</td>\n",
       "      <td>E</td>\n",
       "      <td>35.52</td>\n",
       "    </tr>\n",
       "    <tr>\n",
       "      <th>3</th>\n",
       "      <td>wii sports resort</td>\n",
       "      <td>wii</td>\n",
       "      <td>2009</td>\n",
       "      <td>sports</td>\n",
       "      <td>15.61</td>\n",
       "      <td>10.93</td>\n",
       "      <td>3.28</td>\n",
       "      <td>2.95</td>\n",
       "      <td>80.0</td>\n",
       "      <td>8.0</td>\n",
       "      <td>E</td>\n",
       "      <td>32.77</td>\n",
       "    </tr>\n",
       "    <tr>\n",
       "      <th>4</th>\n",
       "      <td>pokemon red/pokemon blue</td>\n",
       "      <td>gb</td>\n",
       "      <td>1996</td>\n",
       "      <td>role-playing</td>\n",
       "      <td>11.27</td>\n",
       "      <td>8.89</td>\n",
       "      <td>10.22</td>\n",
       "      <td>1.00</td>\n",
       "      <td>-1.0</td>\n",
       "      <td>-1.0</td>\n",
       "      <td>-1</td>\n",
       "      <td>31.38</td>\n",
       "    </tr>\n",
       "  </tbody>\n",
       "</table>\n",
       "</div>"
      ],
      "text/plain": [
       "                       name platform  year_of_release         genre  na_sales  \\\n",
       "0                wii sports      wii             2006        sports     41.36   \n",
       "1         super mario bros.      nes             1985      platform     29.08   \n",
       "2            mario kart wii      wii             2008        racing     15.68   \n",
       "3         wii sports resort      wii             2009        sports     15.61   \n",
       "4  pokemon red/pokemon blue       gb             1996  role-playing     11.27   \n",
       "\n",
       "   eu_sales  jp_sales  other_sales  critic_score  user_score rating  \\\n",
       "0     28.96      3.77         8.45          76.0         8.0      E   \n",
       "1      3.58      6.81         0.77          -1.0        -1.0     -1   \n",
       "2     12.76      3.79         3.29          82.0         8.3      E   \n",
       "3     10.93      3.28         2.95          80.0         8.0      E   \n",
       "4      8.89     10.22         1.00          -1.0        -1.0     -1   \n",
       "\n",
       "   total_price  \n",
       "0        82.54  \n",
       "1        40.24  \n",
       "2        35.52  \n",
       "3        32.77  \n",
       "4        31.38  "
      ]
     },
     "execution_count": 21,
     "metadata": {},
     "output_type": "execute_result"
    }
   ],
   "source": [
    "game.head()"
   ]
  },
  {
   "cell_type": "markdown",
   "metadata": {},
   "source": [
    "## Проведем исследовательский анализ данных"
   ]
  },
  {
   "cell_type": "markdown",
   "metadata": {},
   "source": [
    "Посмотрите, сколько игр выпускалось в разные годы. Важны ли данные за все периоды?\n"
   ]
  },
  {
   "cell_type": "code",
   "execution_count": 22,
   "metadata": {},
   "outputs": [
    {
     "data": {
      "image/png": "[encoded data removed]",
      "text/plain": [
       "<Figure size 432x288 with 1 Axes>"
      ]
     },
     "metadata": {
      "needs_background": "light"
     },
     "output_type": "display_data"
    }
   ],
   "source": [
    "game['year_of_release'].hist(bins=35,range=(1975,2016)).set(xlabel='Год релиза', ylabel='Количество');"
   ]
  },
  {
   "cell_type": "markdown",
   "metadata": {},
   "source": [
    "Появились игры в 80-ых , но затем длительное затишье , рост видеоплатформ начиная с 90-ых до 2003 года постепенно начал набирать обороты так же , наблюдаем  спад рынка после 2010 ( с переходом на мобильные платформы ) , больше всего игр было выпущенно в период с 2003-2012 год ."
   ]
  },
  {
   "cell_type": "markdown",
   "metadata": {},
   "source": [
    "В дальнейшем исследовании мы будем рассматривать только важный для нас период с 2013 года ."
   ]
  },
  {
   "cell_type": "markdown",
   "metadata": {},
   "source": [
    "Посмотрите, как менялись продажи по платформам. Выберите платформы с наибольшими суммарными продажами и постройте распределение по годам. За какой характерный срок появляются новые и исчезают старые платформы?"
   ]
  },
  {
   "cell_type": "code",
   "execution_count": null,
   "metadata": {},
   "outputs": [],
   "source": [
    "game = game.query('year_of_release != -1').copy()\n",
    "game = game.query('user_score != -1').copy()\n",
    "game = game.query('critic_score != -1').copy()\n",
    "#game = game.query('rating != -1').copy()"
   ]
  },
  {
   "cell_type": "code",
   "execution_count": null,
   "metadata": {},
   "outputs": [],
   "source": [
    "plt=game.pivot_table('total_price',index='platform',aggfunc='sum').sort_values(by='total_price',ascending=False).head(20)"
   ]
  },
  {
   "cell_type": "code",
   "execution_count": null,
   "metadata": {},
   "outputs": [],
   "source": [
    "plt.plot(kind='bar',figsize=(10,5),grid=True).set(xlabel='Платформа', ylabel='Количество продаж');"
   ]
  },
  {
   "cell_type": "markdown",
   "metadata": {},
   "source": [
    "В лидеры по продажам игр вышли платформы , как: ps2,x360,ps3,wii,ds."
   ]
  },
  {
   "cell_type": "markdown",
   "metadata": {},
   "source": [
    "ОБЬЕМ ПРОДАЖ НА КАЖДУЮ ПЛАТФОРМУ"
   ]
  },
  {
   "cell_type": "markdown",
   "metadata": {},
   "source": [
    "Актуальные платформы"
   ]
  },
  {
   "cell_type": "code",
   "execution_count": null,
   "metadata": {},
   "outputs": [],
   "source": [
    "game=game.query(\"platform==('ps2','ps4', '3ds', 'xone', 'wiiu', 'ps3', 'pc', 'x360', 'psv', 'wii')\")\n",
    "game"
   ]
  },
  {
   "cell_type": "code",
   "execution_count": null,
   "metadata": {},
   "outputs": [],
   "source": [
    "def show_lines(data, year, title):\n",
    "    sns.lineplot(x='year_of_release',y='total_price',hue='platform',markers=True,data=(game.query('year_of_release >= @year')             \n",
    "                      .groupby(['platform','year_of_release'])['total_price']   \n",
    "                      .agg('sum')                                             \n",
    "                      .reset_index()\n",
    "                     )\n",
    "                )\n",
    "show_lines(game.query('platform in @game'), \n",
    "           2000, \n",
    "           'Продажи популярных игровых платформ')"
   ]
  },
  {
   "cell_type": "markdown",
   "metadata": {},
   "source": [
    "В среднем все игровые платформы существуют 10 лет . Пик наступает примерно через 5 лет после выпуска ."
   ]
  },
  {
   "cell_type": "markdown",
   "metadata": {},
   "source": [
    "Возьмите данные за соответствующий актуальный период. Актуальный период определите самостоятельно в результате исследования предыдущих вопросов. Основной фактор — эти данные помогут построить прогноз на 2017 год.\n"
   ]
  },
  {
   "cell_type": "markdown",
   "metadata": {},
   "source": [
    "Будем рассматривать данные начиная с 2013 года"
   ]
  },
  {
   "cell_type": "code",
   "execution_count": null,
   "metadata": {},
   "outputs": [],
   "source": [
    "game = (game[game['year_of_release']>=2013])"
   ]
  },
  {
   "cell_type": "markdown",
   "metadata": {},
   "source": [
    "Какие платформы лидируют по продажам, растут или падают? Выберите несколько потенциально прибыльных платформ."
   ]
  },
  {
   "cell_type": "code",
   "execution_count": null,
   "metadata": {},
   "outputs": [],
   "source": [
    "game.query(\"platform==('ps2','ps4','3ds','xone','wiiu')\")"
   ]
  },
  {
   "cell_type": "code",
   "execution_count": null,
   "metadata": {},
   "outputs": [],
   "source": [
    "game.pivot_table(index='platform',values='total_price',aggfunc='sum').sort_values('total_price', ascending = False).plot(y='total_price', kind='bar',grid=True, color='orange', alpha=0.5, legend=False);\n"
   ]
  },
  {
   "cell_type": "markdown",
   "metadata": {},
   "source": [
    "Начиная с 2010 года лидером по продажам становится ps4 , на вторую ступень лидерства выходит xone  ."
   ]
  },
  {
   "cell_type": "markdown",
   "metadata": {},
   "source": [
    "Постройте график «ящик с усами» по глобальным продажам игр в разбивке по платформам. Опишите результат."
   ]
  },
  {
   "cell_type": "code",
   "execution_count": null,
   "metadata": {},
   "outputs": [],
   "source": [
    "sns.set(style=\"ticks\")\n",
    "ax = sns.boxplot(data=game, y=\"total_price\", x='platform')\n",
    "ax.set_title('Распределение глобальных продаж по плаформам', fontsize=20)\n",
    "ax.set_xlabel('Игровая платформа', fontsize=15)\n",
    "ax.set_ylabel('Глобальные продажи', fontsize=15)\n",
    "ax.set(yscale=\"log\");"
   ]
  },
  {
   "cell_type": "markdown",
   "metadata": {},
   "source": [
    "Лидером глобальным продажам  за игру в период с 2013 по 2016 год являются ps4 , xone, pc.\n",
    "\n",
    "3ds,ps3,x360,psv,wiiu - не могут похвастаться обьемными продажами в период с 2013 по 2016 г."
   ]
  },
  {
   "cell_type": "markdown",
   "metadata": {},
   "source": [
    "Посмотрите, как влияют на продажи внутри одной популярной платформы отзывы пользователей и критиков. Постройте диаграмму рассеяния и посчитайте корреляцию между отзывами и продажами. Сформулируйте выводы.\n"
   ]
  },
  {
   "cell_type": "code",
   "execution_count": null,
   "metadata": {},
   "outputs": [],
   "source": [
    "ps4 = game.query(\"platform == 'ps4'\")\n",
    "xone = game.query(\"platform == 'xone'\")"
   ]
  },
  {
   "cell_type": "code",
   "execution_count": null,
   "metadata": {},
   "outputs": [],
   "source": [
    "features = ['user_score', 'critic_score', 'total_price']\n",
    "ps4[features].corr()"
   ]
  },
  {
   "cell_type": "markdown",
   "metadata": {},
   "source": [
    "Взаимосвязь между оценками критоков и глобальными продажами есть 0.4\n",
    "Взаимосвязь между оценками пользователей  и глобальными продажами отсутсвует -0.03"
   ]
  },
  {
   "cell_type": "code",
   "execution_count": null,
   "metadata": {},
   "outputs": [],
   "source": [
    "xone[features].corr()"
   ]
  },
  {
   "cell_type": "markdown",
   "metadata": {},
   "source": [
    "Взаимосвязь между оценками критоков и глобальными продажами есть 0.4\n",
    "Взаимосвязь между оценками пользователей  и глобальными продажами отсутсвует -0.09"
   ]
  },
  {
   "cell_type": "code",
   "execution_count": null,
   "metadata": {},
   "outputs": [],
   "source": [
    "ps4.plot(x='user_score', y='total_price', kind='scatter', title='ps4');\n",
    "xone.plot(x='user_score', y='total_price', kind='scatter', title='xbox one', color='green');"
   ]
  },
  {
   "cell_type": "code",
   "execution_count": null,
   "metadata": {},
   "outputs": [],
   "source": [
    "ps4.plot(x='critic_score', y='total_price', kind='scatter', title='ps4');\n",
    "xone.plot(x='critic_score', y='total_price', kind='scatter', title='xbox one', color='green');"
   ]
  },
  {
   "cell_type": "markdown",
   "metadata": {},
   "source": [
    "Игры на xbox, добившиеся высоких продаж, в среднем имеют более высокий рейтинг, чем игры с аналогичными продажами на pS4."
   ]
  },
  {
   "cell_type": "markdown",
   "metadata": {},
   "source": [
    "Посмотрите на общее распределение игр по жанрам. Что можно сказать о самых прибыльных жанрах? Выделяются ли жанры с высокими и низкими продажами?"
   ]
  },
  {
   "cell_type": "code",
   "execution_count": null,
   "metadata": {},
   "outputs": [],
   "source": [
    "(game\n",
    "    .pivot_table(index='genre', values='total_price')\n",
    "    .sort_values('total_price', ascending=False)\n",
    "    .plot(kind='bar', y='total_price', figsize=(10, 5), legend=False)\n",
    "    .set(xlabel='Жанр', ylabel='Глобальные продажи'));\n"
   ]
  },
  {
   "cell_type": "markdown",
   "metadata": {},
   "source": [
    "Самые популярные жанры - шутер,спортивные игры. На последних местах стратегии и квесты."
   ]
  },
  {
   "cell_type": "markdown",
   "metadata": {},
   "source": [
    "## Составим портрет пользователя каждого региона"
   ]
  },
  {
   "cell_type": "markdown",
   "metadata": {},
   "source": [
    "Определите для пользователя каждого региона (NA, EU, JP):"
   ]
  },
  {
   "cell_type": "markdown",
   "metadata": {},
   "source": [
    "# NA sales"
   ]
  },
  {
   "cell_type": "markdown",
   "metadata": {},
   "source": [
    "ТОП 5 ЖАНРОВ"
   ]
  },
  {
   "cell_type": "code",
   "execution_count": null,
   "metadata": {},
   "outputs": [],
   "source": [
    "game.groupby(by='genre').agg({'jp_sales':'sum'}).sort_values(by='jp_sales', ascending=False).head(5).plot(kind='bar');\n",
    "game.groupby(by='genre').agg({'eu_sales':'sum'}).sort_values(by='eu_sales', ascending=False).head(5).plot(kind='bar');\n",
    "game.groupby(by='genre').agg({'na_sales':'sum'}).sort_values(by='na_sales', ascending=False).head(5).plot(kind='bar');"
   ]
  },
  {
   "cell_type": "markdown",
   "metadata": {},
   "source": [
    "Экшн окозался самым популярным жанром среди всех , шутер на втором месте по популярности ."
   ]
  },
  {
   "cell_type": "markdown",
   "metadata": {},
   "source": [
    "ТОП 5 ПЛАТФОРМ"
   ]
  },
  {
   "cell_type": "code",
   "execution_count": null,
   "metadata": {},
   "outputs": [],
   "source": [
    "game.groupby(by='platform').agg({'jp_sales':'sum'}).sort_values(by='jp_sales', ascending=False).head(5).plot(kind='bar');\n",
    "game.groupby(by='platform').agg({'eu_sales':'sum'}).sort_values(by='eu_sales', ascending=False).head(5).plot(kind='bar');\n",
    "game.groupby(by='platform').agg({'na_sales':'sum'}).sort_values(by='na_sales', ascending=False).head(5).plot(kind='bar');"
   ]
  },
  {
   "cell_type": "markdown",
   "metadata": {},
   "source": [
    "В основном ps4 лидирует в выборе пользователей , на вотором месте xone , ps3"
   ]
  },
  {
   "cell_type": "markdown",
   "metadata": {},
   "source": [
    "РЕЙТИНГ ESRB"
   ]
  },
  {
   "cell_type": "code",
   "execution_count": null,
   "metadata": {},
   "outputs": [],
   "source": [
    "game.groupby(by='rating').agg({'jp_sales':'sum'}).sort_values(by='jp_sales', ascending=False).head(5).plot(kind='bar');\n",
    "game.groupby(by='rating').agg({'eu_sales':'sum'}).sort_values(by='eu_sales', ascending=False).head(5).plot(kind='bar');\n",
    "game.groupby(by='rating').agg({'na_sales':'sum'}).sort_values(by='na_sales', ascending=False).head(5).plot(kind='bar');"
   ]
  },
  {
   "cell_type": "markdown",
   "metadata": {},
   "source": [
    "Большинство игр покупают с рейтингом E (Для всех) и M(для взрослых) ."
   ]
  },
  {
   "cell_type": "markdown",
   "metadata": {},
   "source": [
    "## Проверим гипотезы"
   ]
  },
  {
   "cell_type": "markdown",
   "metadata": {},
   "source": [
    "Гипотезы:\n",
    "\n",
    "H0: Средние пользовательские рейтинги платформ Xbox One и PC одинаковые\n",
    "\n",
    "H1: Средние пользовательские рейтинги платформ Xbox One и PC различается"
   ]
  },
  {
   "cell_type": "code",
   "execution_count": null,
   "metadata": {},
   "outputs": [],
   "source": [
    "xone = game[(game['platform'] == 'xone') & (game['user_score'] > -1)]['user_score']\n",
    "pc = game[(game['platform'] == 'pc') & (game['user_score'] > -1)]['user_score']"
   ]
  },
  {
   "cell_type": "code",
   "execution_count": null,
   "metadata": {},
   "outputs": [],
   "source": [
    "\n",
    "alpha = 0.05\n",
    "\n",
    "results = st.ttest_ind(xone, pc,equal_var=False)\n",
    "\n",
    "print('p-значение:', results.pvalue)\n",
    "\n",
    "if (results.pvalue < alpha):\n",
    "    print(\"Отвергаем нулевую гипотезу\")\n",
    "else:\n",
    "    print(\"Не получилось отвергнуть нулевую гипотезу\")"
   ]
  },
  {
   "cell_type": "markdown",
   "metadata": {},
   "source": [
    "Гипотеза , что средние пользовательские рейтинги платформ Xbox One и PC одинаковые - подтвердилась."
   ]
  },
  {
   "cell_type": "markdown",
   "metadata": {},
   "source": [
    "H0: Cредние пользовательские рейтинги жанров Action (англ. «действие») и Sports (англ. «виды спорта») одинаковые\n",
    "\n",
    "H1: Cредние пользовательские рейтинги жанров Action (англ. «действие») и Sports (англ. «виды спорта») разные"
   ]
  },
  {
   "cell_type": "code",
   "execution_count": null,
   "metadata": {},
   "outputs": [],
   "source": [
    "action = game[(game['genre'] == 'action') & (game['user_score'] > -1)]['user_score']\n",
    "sports = game[(game['genre'] == 'sports') & (game['user_score'] > -1)]['user_score']"
   ]
  },
  {
   "cell_type": "code",
   "execution_count": null,
   "metadata": {},
   "outputs": [],
   "source": [
    "alpha = 0.05\n",
    "\n",
    "results = st.ttest_ind(action,sports,equal_var=False,nan_policy='omit')\n",
    "\n",
    "print('p-значение:', results.pvalue)\n",
    "\n",
    "if (results.pvalue < alpha):\n",
    "    print(\"Отвергаем нулевую гипотезу\")\n",
    "else:\n",
    "    print(\"Не получилось отвергнуть нулевую гипотезу\")"
   ]
  },
  {
   "cell_type": "markdown",
   "metadata": {},
   "source": [
    "Гипотеза о том, что средние пользовательские рейтинги жанров Action и Sports одинаковые не подтвердилась."
   ]
  },
  {
   "cell_type": "markdown",
   "metadata": {},
   "source": [
    " ## Напишем общий вывод"
   ]
  },
  {
   "cell_type": "markdown",
   "metadata": {},
   "source": [
    "Платформы имеют спад после 2013 года , но люди не перестают играть\n",
    "\n",
    "Самые популярные платформы - ps4 , xone , они так же имеют потенциал роста\n",
    "\n",
    "Лидеры продаж являются игры с жанрами - шутер и спорт.игры \n",
    "\n",
    "На продажи влияют оценки критиков , на что стоит обратить внимание \n",
    "\n",
    "Стоит обратить внимание на Японию , игры с рейтингом Т(для подростков) на одном уровне с рейтингами М и Е "
   ]
  }
 ],
 "metadata": {
  "ExecuteTimeLog": [
   {
    "duration": 385,
    "start_time": "2022-06-19T09:30:48.912Z"
   },
   {
    "duration": 105,
    "start_time": "2022-06-19T09:31:24.909Z"
   },
   {
    "duration": 77,
    "start_time": "2022-06-19T09:31:44.829Z"
   },
   {
    "duration": 86,
    "start_time": "2022-06-19T09:31:55.658Z"
   },
   {
    "duration": 2,
    "start_time": "2022-06-19T09:38:15.191Z"
   },
   {
    "duration": 68,
    "start_time": "2022-06-19T09:38:15.469Z"
   },
   {
    "duration": 29,
    "start_time": "2022-06-19T09:40:13.674Z"
   },
   {
    "duration": 32,
    "start_time": "2022-06-19T09:42:11.593Z"
   },
   {
    "duration": 4,
    "start_time": "2022-06-19T09:49:39.553Z"
   },
   {
    "duration": 4,
    "start_time": "2022-06-19T09:50:39.403Z"
   },
   {
    "duration": 58,
    "start_time": "2022-06-19T09:50:39.861Z"
   },
   {
    "duration": 29,
    "start_time": "2022-06-19T09:50:56.764Z"
   },
   {
    "duration": 5,
    "start_time": "2022-06-19T09:53:00.558Z"
   },
   {
    "duration": 29,
    "start_time": "2022-06-19T09:53:00.965Z"
   },
   {
    "duration": 40,
    "start_time": "2022-06-19T10:27:46.903Z"
   },
   {
    "duration": 3,
    "start_time": "2022-06-19T10:27:48.839Z"
   },
   {
    "duration": 71,
    "start_time": "2022-06-19T10:27:49.046Z"
   },
   {
    "duration": 5,
    "start_time": "2022-06-19T10:27:49.971Z"
   },
   {
    "duration": 35,
    "start_time": "2022-06-19T10:27:50.172Z"
   },
   {
    "duration": 8,
    "start_time": "2022-06-19T10:30:54.145Z"
   },
   {
    "duration": 5,
    "start_time": "2022-06-19T10:31:04.905Z"
   },
   {
    "duration": 6,
    "start_time": "2022-06-19T10:31:16.543Z"
   },
   {
    "duration": 28,
    "start_time": "2022-06-19T10:33:05.322Z"
   },
   {
    "duration": 9,
    "start_time": "2022-06-19T10:33:19.450Z"
   },
   {
    "duration": 9,
    "start_time": "2022-06-19T10:34:52.587Z"
   },
   {
    "duration": 12,
    "start_time": "2022-06-19T10:35:33.011Z"
   },
   {
    "duration": 18,
    "start_time": "2022-06-19T10:35:39.299Z"
   },
   {
    "duration": 8,
    "start_time": "2022-06-19T10:35:44.383Z"
   },
   {
    "duration": 15,
    "start_time": "2022-06-19T10:35:44.741Z"
   },
   {
    "duration": 5,
    "start_time": "2022-06-19T10:35:45.316Z"
   },
   {
    "duration": 4,
    "start_time": "2022-06-19T10:35:45.608Z"
   },
   {
    "duration": 5,
    "start_time": "2022-06-19T10:35:46.046Z"
   },
   {
    "duration": 9,
    "start_time": "2022-06-19T10:35:46.282Z"
   },
   {
    "duration": 14,
    "start_time": "2022-06-19T10:37:01.264Z"
   },
   {
    "duration": 12,
    "start_time": "2022-06-19T10:40:06.094Z"
   },
   {
    "duration": 15,
    "start_time": "2022-06-19T10:40:24.459Z"
   },
   {
    "duration": 5,
    "start_time": "2022-06-19T10:41:11.024Z"
   },
   {
    "duration": 7,
    "start_time": "2022-06-19T10:42:25.506Z"
   },
   {
    "duration": 669,
    "start_time": "2022-06-19T10:42:50.108Z"
   },
   {
    "duration": 74,
    "start_time": "2022-06-19T10:42:50.779Z"
   },
   {
    "duration": 5,
    "start_time": "2022-06-19T10:42:51.459Z"
   },
   {
    "duration": 27,
    "start_time": "2022-06-19T10:42:51.675Z"
   },
   {
    "duration": 9,
    "start_time": "2022-06-19T10:42:52.057Z"
   },
   {
    "duration": 19,
    "start_time": "2022-06-19T10:42:52.227Z"
   },
   {
    "duration": 5,
    "start_time": "2022-06-19T10:42:52.580Z"
   },
   {
    "duration": 4,
    "start_time": "2022-06-19T10:42:52.755Z"
   },
   {
    "duration": 5,
    "start_time": "2022-06-19T10:42:52.908Z"
   },
   {
    "duration": 10,
    "start_time": "2022-06-19T10:42:53.076Z"
   },
   {
    "duration": 15,
    "start_time": "2022-06-19T10:42:53.597Z"
   },
   {
    "duration": 5,
    "start_time": "2022-06-19T10:42:53.821Z"
   },
   {
    "duration": 9,
    "start_time": "2022-06-19T10:42:54.056Z"
   },
   {
    "duration": 17,
    "start_time": "2022-06-19T10:43:35.619Z"
   },
   {
    "duration": 9,
    "start_time": "2022-06-19T10:44:16.509Z"
   },
   {
    "duration": 16,
    "start_time": "2022-06-19T10:44:16.798Z"
   },
   {
    "duration": 47,
    "start_time": "2022-06-19T10:44:38.105Z"
   },
   {
    "duration": 21,
    "start_time": "2022-06-19T10:47:02.363Z"
   },
   {
    "duration": 12,
    "start_time": "2022-06-19T10:47:02.386Z"
   },
   {
    "duration": 78,
    "start_time": "2022-06-19T10:47:02.401Z"
   },
   {
    "duration": 4,
    "start_time": "2022-06-19T10:47:02.482Z"
   },
   {
    "duration": 47,
    "start_time": "2022-06-19T10:47:02.487Z"
   },
   {
    "duration": 9,
    "start_time": "2022-06-19T10:47:02.535Z"
   },
   {
    "duration": 26,
    "start_time": "2022-06-19T10:47:02.545Z"
   },
   {
    "duration": 6,
    "start_time": "2022-06-19T10:47:02.573Z"
   },
   {
    "duration": 18,
    "start_time": "2022-06-19T10:47:02.580Z"
   },
   {
    "duration": 34,
    "start_time": "2022-06-19T10:47:02.600Z"
   },
   {
    "duration": 17,
    "start_time": "2022-06-19T10:47:02.636Z"
   },
   {
    "duration": 28,
    "start_time": "2022-06-19T10:47:02.656Z"
   },
   {
    "duration": 5,
    "start_time": "2022-06-19T10:47:02.685Z"
   },
   {
    "duration": 11,
    "start_time": "2022-06-19T10:47:02.691Z"
   },
   {
    "duration": 50,
    "start_time": "2022-06-19T10:47:02.703Z"
   },
   {
    "duration": 4,
    "start_time": "2022-06-19T10:47:02.755Z"
   },
   {
    "duration": 975,
    "start_time": "2022-06-19T10:47:06.811Z"
   },
   {
    "duration": 75,
    "start_time": "2022-06-19T10:47:07.789Z"
   },
   {
    "duration": 5,
    "start_time": "2022-06-19T10:47:07.866Z"
   },
   {
    "duration": 30,
    "start_time": "2022-06-19T10:47:07.873Z"
   },
   {
    "duration": 8,
    "start_time": "2022-06-19T10:47:07.905Z"
   },
   {
    "duration": 39,
    "start_time": "2022-06-19T10:47:07.914Z"
   },
   {
    "duration": 5,
    "start_time": "2022-06-19T10:47:07.954Z"
   },
   {
    "duration": 17,
    "start_time": "2022-06-19T10:47:07.960Z"
   },
   {
    "duration": 12,
    "start_time": "2022-06-19T10:47:07.979Z"
   },
   {
    "duration": 10,
    "start_time": "2022-06-19T10:47:07.993Z"
   },
   {
    "duration": 19,
    "start_time": "2022-06-19T10:47:08.005Z"
   },
   {
    "duration": 5,
    "start_time": "2022-06-19T10:47:08.025Z"
   },
   {
    "duration": 21,
    "start_time": "2022-06-19T10:47:08.031Z"
   },
   {
    "duration": 49,
    "start_time": "2022-06-19T10:47:08.053Z"
   },
   {
    "duration": 5,
    "start_time": "2022-06-19T10:47:08.104Z"
   },
   {
    "duration": 17,
    "start_time": "2022-06-19T10:47:08.111Z"
   },
   {
    "duration": 4993,
    "start_time": "2022-06-19T12:59:57.953Z"
   },
   {
    "duration": 314,
    "start_time": "2022-06-19T13:00:02.958Z"
   },
   {
    "duration": 16,
    "start_time": "2022-06-19T13:00:03.274Z"
   },
   {
    "duration": 92,
    "start_time": "2022-06-19T13:00:03.293Z"
   },
   {
    "duration": 62,
    "start_time": "2022-06-19T13:00:03.388Z"
   },
   {
    "duration": 72,
    "start_time": "2022-06-19T13:00:03.455Z"
   },
   {
    "duration": 16,
    "start_time": "2022-06-19T13:00:03.533Z"
   },
   {
    "duration": 44,
    "start_time": "2022-06-19T13:00:03.552Z"
   },
   {
    "duration": 99,
    "start_time": "2022-06-19T13:00:03.599Z"
   },
   {
    "duration": 36,
    "start_time": "2022-06-19T13:00:03.701Z"
   },
   {
    "duration": 67,
    "start_time": "2022-06-19T13:00:03.740Z"
   },
   {
    "duration": 98,
    "start_time": "2022-06-19T13:00:03.810Z"
   },
   {
    "duration": 78,
    "start_time": "2022-06-19T13:00:03.910Z"
   },
   {
    "duration": 113,
    "start_time": "2022-06-19T13:00:03.996Z"
   },
   {
    "duration": 15,
    "start_time": "2022-06-19T13:00:04.111Z"
   },
   {
    "duration": 90,
    "start_time": "2022-06-19T13:00:04.131Z"
   },
   {
    "duration": 290,
    "start_time": "2022-06-19T13:01:16.153Z"
   },
   {
    "duration": 28,
    "start_time": "2022-06-19T13:01:16.836Z"
   },
   {
    "duration": 10,
    "start_time": "2022-06-19T13:01:25.286Z"
   },
   {
    "duration": 18,
    "start_time": "2022-06-19T13:01:26.658Z"
   },
   {
    "duration": 41,
    "start_time": "2022-06-19T13:01:27.135Z"
   },
   {
    "duration": 12,
    "start_time": "2022-06-19T13:01:40.601Z"
   },
   {
    "duration": 5,
    "start_time": "2022-06-19T13:01:40.913Z"
   },
   {
    "duration": 24,
    "start_time": "2022-06-19T13:03:23.663Z"
   },
   {
    "duration": 9,
    "start_time": "2022-06-19T13:03:24.351Z"
   },
   {
    "duration": 20,
    "start_time": "2022-06-19T13:04:43.658Z"
   },
   {
    "duration": 23,
    "start_time": "2022-06-19T13:04:43.945Z"
   },
   {
    "duration": 14,
    "start_time": "2022-06-19T13:04:44.121Z"
   },
   {
    "duration": 15,
    "start_time": "2022-06-19T13:04:44.324Z"
   },
   {
    "duration": 7,
    "start_time": "2022-06-19T13:04:44.511Z"
   },
   {
    "duration": 34,
    "start_time": "2022-06-19T13:04:44.798Z"
   },
   {
    "duration": 16,
    "start_time": "2022-06-19T13:06:30.351Z"
   },
   {
    "duration": 31,
    "start_time": "2022-06-19T13:06:30.556Z"
   },
   {
    "duration": 66,
    "start_time": "2022-06-19T13:06:30.726Z"
   },
   {
    "duration": 60,
    "start_time": "2022-06-19T13:06:30.894Z"
   },
   {
    "duration": 170,
    "start_time": "2022-06-19T13:06:31.046Z"
   },
   {
    "duration": 169,
    "start_time": "2022-06-19T13:06:31.222Z"
   },
   {
    "duration": 215,
    "start_time": "2022-06-19T13:06:31.395Z"
   },
   {
    "duration": 48,
    "start_time": "2022-06-19T13:06:33.100Z"
   },
   {
    "duration": 724,
    "start_time": "2022-06-19T13:07:22.838Z"
   },
   {
    "duration": 14,
    "start_time": "2022-06-19T13:07:53.846Z"
   },
   {
    "duration": 176,
    "start_time": "2022-06-19T13:07:54.039Z"
   },
   {
    "duration": 26,
    "start_time": "2022-06-19T13:07:55.765Z"
   },
   {
    "duration": 58,
    "start_time": "2022-06-19T13:07:56.429Z"
   },
   {
    "duration": 41,
    "start_time": "2022-06-19T13:07:57.075Z"
   },
   {
    "duration": 67,
    "start_time": "2022-06-19T13:07:57.425Z"
   },
   {
    "duration": 45,
    "start_time": "2022-06-19T13:07:58.323Z"
   },
   {
    "duration": 34,
    "start_time": "2022-06-19T13:07:58.618Z"
   },
   {
    "duration": 59,
    "start_time": "2022-06-19T13:07:59.021Z"
   },
   {
    "duration": 39,
    "start_time": "2022-06-19T13:07:59.255Z"
   },
   {
    "duration": 15,
    "start_time": "2022-06-19T13:07:59.529Z"
   },
   {
    "duration": 47,
    "start_time": "2022-06-19T13:07:59.957Z"
   },
   {
    "duration": 51,
    "start_time": "2022-06-19T13:08:00.193Z"
   },
   {
    "duration": 60,
    "start_time": "2022-06-19T13:08:05.299Z"
   },
   {
    "duration": 31,
    "start_time": "2022-06-19T13:09:46.142Z"
   },
   {
    "duration": 4258,
    "start_time": "2022-06-19T13:09:53.359Z"
   },
   {
    "duration": 0,
    "start_time": "2022-06-19T13:09:57.620Z"
   },
   {
    "duration": 10,
    "start_time": "2022-06-19T13:10:00.074Z"
   },
   {
    "duration": 208,
    "start_time": "2022-06-19T13:10:00.277Z"
   },
   {
    "duration": 18,
    "start_time": "2022-06-19T13:10:01.570Z"
   },
   {
    "duration": 97,
    "start_time": "2022-06-19T13:10:01.824Z"
   },
   {
    "duration": 44,
    "start_time": "2022-06-19T13:10:02.468Z"
   },
   {
    "duration": 64,
    "start_time": "2022-06-19T13:10:02.733Z"
   },
   {
    "duration": 23,
    "start_time": "2022-06-19T13:10:03.209Z"
   },
   {
    "duration": 29,
    "start_time": "2022-06-19T13:10:03.429Z"
   },
   {
    "duration": 57,
    "start_time": "2022-06-19T13:10:03.655Z"
   },
   {
    "duration": 10,
    "start_time": "2022-06-19T13:10:03.862Z"
   },
   {
    "duration": 4529,
    "start_time": "2022-06-19T13:10:04.082Z"
   },
   {
    "duration": 0,
    "start_time": "2022-06-19T13:10:08.613Z"
   },
   {
    "duration": 5284,
    "start_time": "2022-06-19T13:10:23.469Z"
   },
   {
    "duration": 0,
    "start_time": "2022-06-19T13:10:28.762Z"
   },
   {
    "duration": 3607,
    "start_time": "2022-06-19T13:10:41.905Z"
   },
   {
    "duration": 0,
    "start_time": "2022-06-19T13:10:45.514Z"
   },
   {
    "duration": 11,
    "start_time": "2022-06-19T13:11:17.989Z"
   },
   {
    "duration": 19,
    "start_time": "2022-06-19T13:11:18.753Z"
   },
   {
    "duration": 24,
    "start_time": "2022-06-19T13:11:32.189Z"
   },
   {
    "duration": 205,
    "start_time": "2022-06-19T13:11:32.370Z"
   },
   {
    "duration": 19,
    "start_time": "2022-06-19T13:11:32.993Z"
   },
   {
    "duration": 103,
    "start_time": "2022-06-19T13:11:33.159Z"
   },
   {
    "duration": 26,
    "start_time": "2022-06-19T13:11:33.492Z"
   },
   {
    "duration": 39,
    "start_time": "2022-06-19T13:11:33.674Z"
   },
   {
    "duration": 26,
    "start_time": "2022-06-19T13:11:34.027Z"
   },
   {
    "duration": 25,
    "start_time": "2022-06-19T13:11:34.193Z"
   },
   {
    "duration": 72,
    "start_time": "2022-06-19T13:11:34.356Z"
   },
   {
    "duration": 15,
    "start_time": "2022-06-19T13:11:34.529Z"
   },
   {
    "duration": 43,
    "start_time": "2022-06-19T13:11:34.701Z"
   },
   {
    "duration": 66,
    "start_time": "2022-06-19T13:11:34.893Z"
   },
   {
    "duration": 60,
    "start_time": "2022-06-19T13:11:35.273Z"
   },
   {
    "duration": 20,
    "start_time": "2022-06-19T13:11:46.972Z"
   },
   {
    "duration": 50,
    "start_time": "2022-06-19T13:11:47.492Z"
   },
   {
    "duration": 12,
    "start_time": "2022-06-19T13:11:51.824Z"
   },
   {
    "duration": 262,
    "start_time": "2022-06-19T13:11:52.116Z"
   },
   {
    "duration": 32,
    "start_time": "2022-06-19T13:11:52.764Z"
   },
   {
    "duration": 113,
    "start_time": "2022-06-19T13:11:52.985Z"
   },
   {
    "duration": 49,
    "start_time": "2022-06-19T13:11:53.316Z"
   },
   {
    "duration": 84,
    "start_time": "2022-06-19T13:11:53.494Z"
   },
   {
    "duration": 38,
    "start_time": "2022-06-19T13:11:53.842Z"
   },
   {
    "duration": 59,
    "start_time": "2022-06-19T13:11:54.024Z"
   },
   {
    "duration": 131,
    "start_time": "2022-06-19T13:11:54.196Z"
   },
   {
    "duration": 35,
    "start_time": "2022-06-19T13:11:54.381Z"
   },
   {
    "duration": 29,
    "start_time": "2022-06-19T13:11:54.579Z"
   },
   {
    "duration": 46,
    "start_time": "2022-06-19T13:11:54.759Z"
   },
   {
    "duration": 52,
    "start_time": "2022-06-19T13:11:55.126Z"
   },
   {
    "duration": 20,
    "start_time": "2022-06-19T13:11:55.309Z"
   },
   {
    "duration": 23,
    "start_time": "2022-06-19T13:12:05.429Z"
   },
   {
    "duration": 19,
    "start_time": "2022-06-19T13:12:05.637Z"
   },
   {
    "duration": 30,
    "start_time": "2022-06-19T13:12:05.793Z"
   },
   {
    "duration": 783,
    "start_time": "2022-06-19T13:12:14.350Z"
   },
   {
    "duration": 217,
    "start_time": "2022-06-19T13:12:15.142Z"
   },
   {
    "duration": 68,
    "start_time": "2022-06-19T13:12:15.378Z"
   },
   {
    "duration": 23,
    "start_time": "2022-06-19T13:12:15.631Z"
   },
   {
    "duration": 318,
    "start_time": "2022-06-19T13:12:21.526Z"
   },
   {
    "duration": 45,
    "start_time": "2022-06-19T13:12:28.098Z"
   },
   {
    "duration": 99,
    "start_time": "2022-06-19T13:12:47.305Z"
   },
   {
    "duration": 30,
    "start_time": "2022-06-19T13:12:54.865Z"
   },
   {
    "duration": 1296,
    "start_time": "2022-06-19T13:13:24.268Z"
   },
   {
    "duration": 739,
    "start_time": "2022-06-19T13:13:35.098Z"
   },
   {
    "duration": 0,
    "start_time": "2022-06-19T13:13:35.841Z"
   },
   {
    "duration": 97,
    "start_time": "2022-06-19T13:14:02.008Z"
   },
   {
    "duration": 35,
    "start_time": "2022-06-19T13:14:06.433Z"
   },
   {
    "duration": 7,
    "start_time": "2022-06-19T13:14:25.296Z"
   },
   {
    "duration": 7,
    "start_time": "2022-06-19T13:14:26.179Z"
   },
   {
    "duration": 19,
    "start_time": "2022-06-19T13:14:26.605Z"
   },
   {
    "duration": 33,
    "start_time": "2022-06-19T13:14:27.055Z"
   },
   {
    "duration": 10,
    "start_time": "2022-06-19T13:14:31.678Z"
   },
   {
    "duration": 237,
    "start_time": "2022-06-19T13:14:31.877Z"
   },
   {
    "duration": 8,
    "start_time": "2022-06-19T13:14:32.590Z"
   },
   {
    "duration": 49,
    "start_time": "2022-06-19T13:14:32.762Z"
   },
   {
    "duration": 32,
    "start_time": "2022-06-19T13:14:33.153Z"
   },
   {
    "duration": 46,
    "start_time": "2022-06-19T13:14:33.359Z"
   },
   {
    "duration": 11,
    "start_time": "2022-06-19T13:14:33.802Z"
   },
   {
    "duration": 17,
    "start_time": "2022-06-19T13:14:33.995Z"
   },
   {
    "duration": 8,
    "start_time": "2022-06-19T13:14:34.201Z"
   },
   {
    "duration": 5,
    "start_time": "2022-06-19T13:14:34.400Z"
   },
   {
    "duration": 12,
    "start_time": "2022-06-19T13:14:34.603Z"
   },
   {
    "duration": 29,
    "start_time": "2022-06-19T13:14:34.762Z"
   },
   {
    "duration": 64,
    "start_time": "2022-06-19T13:14:35.380Z"
   },
   {
    "duration": 19,
    "start_time": "2022-06-19T13:15:35.015Z"
   },
   {
    "duration": 1519,
    "start_time": "2022-06-19T13:15:41.157Z"
   },
   {
    "duration": 130,
    "start_time": "2022-06-19T13:15:42.682Z"
   },
   {
    "duration": 8,
    "start_time": "2022-06-19T13:15:42.817Z"
   },
   {
    "duration": 119,
    "start_time": "2022-06-19T13:15:42.827Z"
   },
   {
    "duration": 40,
    "start_time": "2022-06-19T13:15:42.948Z"
   },
   {
    "duration": 162,
    "start_time": "2022-06-19T13:15:42.991Z"
   },
   {
    "duration": 75,
    "start_time": "2022-06-19T13:15:43.165Z"
   },
   {
    "duration": 30,
    "start_time": "2022-06-19T13:15:43.246Z"
   },
   {
    "duration": 123,
    "start_time": "2022-06-19T13:15:43.285Z"
   },
   {
    "duration": 12,
    "start_time": "2022-06-19T13:15:43.412Z"
   },
   {
    "duration": 94,
    "start_time": "2022-06-19T13:15:43.428Z"
   },
   {
    "duration": 69,
    "start_time": "2022-06-19T13:15:43.525Z"
   },
   {
    "duration": 73,
    "start_time": "2022-06-19T13:15:43.597Z"
   },
   {
    "duration": 40,
    "start_time": "2022-06-19T13:15:43.682Z"
   },
   {
    "duration": 21,
    "start_time": "2022-06-19T13:15:43.725Z"
   },
   {
    "duration": 153,
    "start_time": "2022-06-19T13:15:43.748Z"
   },
   {
    "duration": 8,
    "start_time": "2022-06-19T13:15:43.904Z"
   },
   {
    "duration": 110,
    "start_time": "2022-06-19T13:15:43.916Z"
   },
   {
    "duration": 21,
    "start_time": "2022-06-19T13:17:00.185Z"
   },
   {
    "duration": 17,
    "start_time": "2022-06-19T13:17:00.453Z"
   },
   {
    "duration": 11,
    "start_time": "2022-06-19T13:17:00.617Z"
   },
   {
    "duration": 4,
    "start_time": "2022-06-19T13:17:00.785Z"
   },
   {
    "duration": 14,
    "start_time": "2022-06-19T13:17:00.967Z"
   },
   {
    "duration": 31,
    "start_time": "2022-06-19T13:17:01.152Z"
   },
   {
    "duration": 10,
    "start_time": "2022-06-19T13:18:42.958Z"
   },
   {
    "duration": 5,
    "start_time": "2022-06-19T13:18:43.506Z"
   },
   {
    "duration": 31,
    "start_time": "2022-06-19T13:18:43.854Z"
   },
   {
    "duration": 1591,
    "start_time": "2022-06-19T13:18:54.773Z"
   },
   {
    "duration": 144,
    "start_time": "2022-06-19T13:18:56.366Z"
   },
   {
    "duration": 8,
    "start_time": "2022-06-19T13:18:56.513Z"
   },
   {
    "duration": 77,
    "start_time": "2022-06-19T13:18:56.527Z"
   },
   {
    "duration": 38,
    "start_time": "2022-06-19T13:18:56.615Z"
   },
   {
    "duration": 49,
    "start_time": "2022-06-19T13:18:56.660Z"
   },
   {
    "duration": 15,
    "start_time": "2022-06-19T13:18:56.713Z"
   },
   {
    "duration": 52,
    "start_time": "2022-06-19T13:18:56.733Z"
   },
   {
    "duration": 13,
    "start_time": "2022-06-19T13:18:56.788Z"
   },
   {
    "duration": 6,
    "start_time": "2022-06-19T13:18:56.804Z"
   },
   {
    "duration": 61,
    "start_time": "2022-06-19T13:18:56.813Z"
   },
   {
    "duration": 38,
    "start_time": "2022-06-19T13:18:56.876Z"
   },
   {
    "duration": 39,
    "start_time": "2022-06-19T13:18:56.916Z"
   },
   {
    "duration": 37,
    "start_time": "2022-06-19T13:18:56.959Z"
   },
   {
    "duration": 18,
    "start_time": "2022-06-19T13:18:56.999Z"
   },
   {
    "duration": 86,
    "start_time": "2022-06-19T13:18:57.020Z"
   },
   {
    "duration": 7,
    "start_time": "2022-06-19T13:18:57.108Z"
   },
   {
    "duration": 44,
    "start_time": "2022-06-19T13:18:57.117Z"
   },
   {
    "duration": 11,
    "start_time": "2022-06-19T13:21:19.620Z"
   },
   {
    "duration": 17,
    "start_time": "2022-06-19T13:21:19.866Z"
   },
   {
    "duration": 13,
    "start_time": "2022-06-19T13:21:20.066Z"
   },
   {
    "duration": 26,
    "start_time": "2022-06-19T13:21:20.279Z"
   },
   {
    "duration": 5,
    "start_time": "2022-06-19T13:21:20.597Z"
   },
   {
    "duration": 5,
    "start_time": "2022-06-19T13:21:21.177Z"
   },
   {
    "duration": 14,
    "start_time": "2022-06-19T13:21:21.755Z"
   },
   {
    "duration": 8,
    "start_time": "2022-06-19T13:21:49.588Z"
   },
   {
    "duration": 4,
    "start_time": "2022-06-19T13:21:58.698Z"
   },
   {
    "duration": 89,
    "start_time": "2022-06-19T13:21:58.875Z"
   },
   {
    "duration": 6,
    "start_time": "2022-06-19T13:21:59.514Z"
   },
   {
    "duration": 32,
    "start_time": "2022-06-19T13:21:59.682Z"
   },
   {
    "duration": 18,
    "start_time": "2022-06-19T13:22:00.020Z"
   },
   {
    "duration": 39,
    "start_time": "2022-06-19T13:22:00.195Z"
   },
   {
    "duration": 13,
    "start_time": "2022-06-19T13:22:00.555Z"
   },
   {
    "duration": 21,
    "start_time": "2022-06-19T13:22:00.716Z"
   },
   {
    "duration": 9,
    "start_time": "2022-06-19T13:22:00.882Z"
   },
   {
    "duration": 37,
    "start_time": "2022-06-19T13:22:01.048Z"
   },
   {
    "duration": 12,
    "start_time": "2022-06-19T13:22:01.243Z"
   },
   {
    "duration": 10,
    "start_time": "2022-06-19T13:22:01.422Z"
   },
   {
    "duration": 27,
    "start_time": "2022-06-19T13:22:01.960Z"
   },
   {
    "duration": 44,
    "start_time": "2022-06-19T13:24:35.505Z"
   },
   {
    "duration": 9,
    "start_time": "2022-06-19T13:25:34.655Z"
   },
   {
    "duration": 129,
    "start_time": "2022-06-19T13:25:34.838Z"
   },
   {
    "duration": 7,
    "start_time": "2022-06-19T13:25:35.558Z"
   },
   {
    "duration": 57,
    "start_time": "2022-06-19T13:25:35.707Z"
   },
   {
    "duration": 23,
    "start_time": "2022-06-19T13:25:36.020Z"
   },
   {
    "duration": 23,
    "start_time": "2022-06-19T13:25:36.187Z"
   },
   {
    "duration": 18,
    "start_time": "2022-06-19T13:25:36.551Z"
   },
   {
    "duration": 15,
    "start_time": "2022-06-19T13:25:36.708Z"
   },
   {
    "duration": 6,
    "start_time": "2022-06-19T13:25:36.892Z"
   },
   {
    "duration": 29,
    "start_time": "2022-06-19T13:25:37.085Z"
   },
   {
    "duration": 8,
    "start_time": "2022-06-19T13:25:37.659Z"
   },
   {
    "duration": 5,
    "start_time": "2022-06-19T13:25:38.070Z"
   },
   {
    "duration": 11,
    "start_time": "2022-06-19T13:25:38.504Z"
   },
   {
    "duration": 35,
    "start_time": "2022-06-19T13:25:39.256Z"
   },
   {
    "duration": 9,
    "start_time": "2022-06-19T13:25:40.254Z"
   },
   {
    "duration": 129,
    "start_time": "2022-06-19T13:25:44.078Z"
   },
   {
    "duration": 65,
    "start_time": "2022-06-19T13:25:44.666Z"
   },
   {
    "duration": 5,
    "start_time": "2022-06-19T13:25:46.265Z"
   },
   {
    "duration": 17,
    "start_time": "2022-06-19T13:25:46.707Z"
   },
   {
    "duration": 355,
    "start_time": "2022-06-19T13:27:27.264Z"
   },
   {
    "duration": 309,
    "start_time": "2022-06-19T13:27:38.006Z"
   },
   {
    "duration": 327,
    "start_time": "2022-06-19T13:27:44.292Z"
   },
   {
    "duration": 26,
    "start_time": "2022-06-19T13:28:28.749Z"
   },
   {
    "duration": 33,
    "start_time": "2022-06-19T13:28:49.020Z"
   },
   {
    "duration": 30,
    "start_time": "2022-06-19T13:30:15.974Z"
   },
   {
    "duration": 11,
    "start_time": "2022-06-19T13:30:16.474Z"
   },
   {
    "duration": 5,
    "start_time": "2022-06-19T13:30:16.999Z"
   },
   {
    "duration": 20,
    "start_time": "2022-06-19T13:30:17.370Z"
   },
   {
    "duration": 50,
    "start_time": "2022-06-19T13:30:17.905Z"
   },
   {
    "duration": 10,
    "start_time": "2022-06-19T13:30:18.499Z"
   },
   {
    "duration": 24,
    "start_time": "2022-06-19T13:30:18.867Z"
   },
   {
    "duration": 57,
    "start_time": "2022-06-19T13:30:19.611Z"
   },
   {
    "duration": 11,
    "start_time": "2022-06-19T13:30:20.873Z"
   },
   {
    "duration": 24,
    "start_time": "2022-06-19T13:30:21.290Z"
   },
   {
    "duration": 305,
    "start_time": "2022-06-19T13:30:22.606Z"
   },
   {
    "duration": 25,
    "start_time": "2022-06-19T13:30:24.058Z"
   },
   {
    "duration": 6,
    "start_time": "2022-06-19T13:30:46.407Z"
   },
   {
    "duration": 18,
    "start_time": "2022-06-19T13:30:46.774Z"
   },
   {
    "duration": 14,
    "start_time": "2022-06-19T13:30:56.068Z"
   },
   {
    "duration": 25,
    "start_time": "2022-06-19T13:30:56.348Z"
   },
   {
    "duration": 1475,
    "start_time": "2022-06-19T13:31:10.961Z"
   },
   {
    "duration": 121,
    "start_time": "2022-06-19T13:31:12.439Z"
   },
   {
    "duration": 9,
    "start_time": "2022-06-19T13:31:12.565Z"
   },
   {
    "duration": 94,
    "start_time": "2022-06-19T13:31:12.580Z"
   },
   {
    "duration": 16,
    "start_time": "2022-06-19T13:31:12.678Z"
   },
   {
    "duration": 37,
    "start_time": "2022-06-19T13:31:12.696Z"
   },
   {
    "duration": 63,
    "start_time": "2022-06-19T13:31:12.736Z"
   },
   {
    "duration": 16,
    "start_time": "2022-06-19T13:31:12.801Z"
   },
   {
    "duration": 47,
    "start_time": "2022-06-19T13:31:12.819Z"
   },
   {
    "duration": 33,
    "start_time": "2022-06-19T13:31:12.871Z"
   },
   {
    "duration": 6,
    "start_time": "2022-06-19T13:31:12.907Z"
   },
   {
    "duration": 73,
    "start_time": "2022-06-19T13:31:12.915Z"
   },
   {
    "duration": 14,
    "start_time": "2022-06-19T13:31:12.991Z"
   },
   {
    "duration": 40,
    "start_time": "2022-06-19T13:31:13.008Z"
   },
   {
    "duration": 54,
    "start_time": "2022-06-19T13:31:13.050Z"
   },
   {
    "duration": 206,
    "start_time": "2022-06-19T13:31:13.106Z"
   },
   {
    "duration": 0,
    "start_time": "2022-06-19T13:31:13.315Z"
   },
   {
    "duration": 0,
    "start_time": "2022-06-19T13:31:13.317Z"
   },
   {
    "duration": 0,
    "start_time": "2022-06-19T13:31:13.318Z"
   },
   {
    "duration": 0,
    "start_time": "2022-06-19T13:31:13.319Z"
   },
   {
    "duration": 0,
    "start_time": "2022-06-19T13:31:13.321Z"
   },
   {
    "duration": 21,
    "start_time": "2022-06-19T13:31:28.313Z"
   },
   {
    "duration": 24,
    "start_time": "2022-06-19T13:31:28.577Z"
   },
   {
    "duration": 1430,
    "start_time": "2022-06-19T13:32:08.317Z"
   },
   {
    "duration": 175,
    "start_time": "2022-06-19T13:32:09.749Z"
   },
   {
    "duration": 8,
    "start_time": "2022-06-19T13:32:09.926Z"
   },
   {
    "duration": 144,
    "start_time": "2022-06-19T13:32:09.937Z"
   },
   {
    "duration": 83,
    "start_time": "2022-06-19T13:32:10.087Z"
   },
   {
    "duration": 61,
    "start_time": "2022-06-19T13:32:10.172Z"
   },
   {
    "duration": 33,
    "start_time": "2022-06-19T13:32:10.243Z"
   },
   {
    "duration": 114,
    "start_time": "2022-06-19T13:32:10.286Z"
   },
   {
    "duration": 90,
    "start_time": "2022-06-19T13:32:10.408Z"
   },
   {
    "duration": 68,
    "start_time": "2022-06-19T13:32:10.508Z"
   },
   {
    "duration": 35,
    "start_time": "2022-06-19T13:32:10.585Z"
   },
   {
    "duration": 28,
    "start_time": "2022-06-19T13:32:10.624Z"
   },
   {
    "duration": 44,
    "start_time": "2022-06-19T13:32:10.662Z"
   },
   {
    "duration": 96,
    "start_time": "2022-06-19T13:32:10.716Z"
   },
   {
    "duration": 55,
    "start_time": "2022-06-19T13:32:10.819Z"
   },
   {
    "duration": 162,
    "start_time": "2022-06-19T13:32:10.886Z"
   },
   {
    "duration": 399,
    "start_time": "2022-06-19T13:32:11.055Z"
   },
   {
    "duration": 46,
    "start_time": "2022-06-19T13:32:11.461Z"
   },
   {
    "duration": 227,
    "start_time": "2022-06-19T13:35:19.093Z"
   },
   {
    "duration": 44,
    "start_time": "2022-06-19T13:35:35.424Z"
   },
   {
    "duration": 1440,
    "start_time": "2022-06-19T13:35:49.273Z"
   },
   {
    "duration": 232,
    "start_time": "2022-06-19T13:35:50.716Z"
   },
   {
    "duration": 9,
    "start_time": "2022-06-19T13:35:50.950Z"
   },
   {
    "duration": 125,
    "start_time": "2022-06-19T13:35:50.963Z"
   },
   {
    "duration": 29,
    "start_time": "2022-06-19T13:35:51.091Z"
   },
   {
    "duration": 40,
    "start_time": "2022-06-19T13:35:51.123Z"
   },
   {
    "duration": 22,
    "start_time": "2022-06-19T13:35:51.167Z"
   },
   {
    "duration": 110,
    "start_time": "2022-06-19T13:35:51.194Z"
   },
   {
    "duration": 21,
    "start_time": "2022-06-19T13:35:51.312Z"
   },
   {
    "duration": 177,
    "start_time": "2022-06-19T13:35:51.343Z"
   },
   {
    "duration": 90,
    "start_time": "2022-06-19T13:35:51.533Z"
   },
   {
    "duration": 129,
    "start_time": "2022-06-19T13:35:51.639Z"
   },
   {
    "duration": 77,
    "start_time": "2022-06-19T13:35:51.778Z"
   },
   {
    "duration": 84,
    "start_time": "2022-06-19T13:35:51.866Z"
   },
   {
    "duration": 208,
    "start_time": "2022-06-19T13:35:51.959Z"
   },
   {
    "duration": 0,
    "start_time": "2022-06-19T13:35:52.175Z"
   },
   {
    "duration": 0,
    "start_time": "2022-06-19T13:35:52.182Z"
   },
   {
    "duration": 0,
    "start_time": "2022-06-19T13:35:52.188Z"
   },
   {
    "duration": 0,
    "start_time": "2022-06-19T13:35:52.194Z"
   },
   {
    "duration": 57,
    "start_time": "2022-06-19T13:37:32.387Z"
   },
   {
    "duration": 15,
    "start_time": "2022-06-19T13:37:45.109Z"
   },
   {
    "duration": 10,
    "start_time": "2022-06-19T13:37:48.010Z"
   },
   {
    "duration": 127,
    "start_time": "2022-06-19T13:37:48.291Z"
   },
   {
    "duration": 9,
    "start_time": "2022-06-19T13:37:48.976Z"
   },
   {
    "duration": 49,
    "start_time": "2022-06-19T13:37:49.257Z"
   },
   {
    "duration": 30,
    "start_time": "2022-06-19T13:37:49.657Z"
   },
   {
    "duration": 79,
    "start_time": "2022-06-19T13:38:44.177Z"
   },
   {
    "duration": 23,
    "start_time": "2022-06-19T13:38:59.253Z"
   },
   {
    "duration": 8,
    "start_time": "2022-06-19T13:39:00.486Z"
   },
   {
    "duration": 7,
    "start_time": "2022-06-19T13:39:01.104Z"
   },
   {
    "duration": 25,
    "start_time": "2022-06-19T13:39:01.523Z"
   },
   {
    "duration": 1559,
    "start_time": "2022-06-19T13:39:08.965Z"
   },
   {
    "duration": 166,
    "start_time": "2022-06-19T13:39:10.526Z"
   },
   {
    "duration": 8,
    "start_time": "2022-06-19T13:39:10.694Z"
   },
   {
    "duration": 146,
    "start_time": "2022-06-19T13:39:10.705Z"
   },
   {
    "duration": 25,
    "start_time": "2022-06-19T13:39:10.860Z"
   },
   {
    "duration": 127,
    "start_time": "2022-06-19T13:39:10.895Z"
   },
   {
    "duration": 19,
    "start_time": "2022-06-19T13:39:11.032Z"
   },
   {
    "duration": 15,
    "start_time": "2022-06-19T13:39:11.059Z"
   },
   {
    "duration": 89,
    "start_time": "2022-06-19T13:39:11.084Z"
   },
   {
    "duration": 351,
    "start_time": "2022-06-19T13:39:11.183Z"
   },
   {
    "duration": 1,
    "start_time": "2022-06-19T13:39:11.543Z"
   },
   {
    "duration": 0,
    "start_time": "2022-06-19T13:39:11.550Z"
   },
   {
    "duration": 0,
    "start_time": "2022-06-19T13:39:11.559Z"
   },
   {
    "duration": 0,
    "start_time": "2022-06-19T13:39:11.566Z"
   },
   {
    "duration": 0,
    "start_time": "2022-06-19T13:39:11.575Z"
   },
   {
    "duration": 0,
    "start_time": "2022-06-19T13:39:11.579Z"
   },
   {
    "duration": 0,
    "start_time": "2022-06-19T13:39:11.588Z"
   },
   {
    "duration": 43,
    "start_time": "2022-06-19T13:40:45.821Z"
   },
   {
    "duration": 26,
    "start_time": "2022-06-19T13:41:28.465Z"
   },
   {
    "duration": 8,
    "start_time": "2022-06-19T13:41:29.421Z"
   },
   {
    "duration": 11,
    "start_time": "2022-06-19T13:41:29.749Z"
   },
   {
    "duration": 19,
    "start_time": "2022-06-19T13:41:29.954Z"
   },
   {
    "duration": 7,
    "start_time": "2022-06-19T13:41:30.894Z"
   },
   {
    "duration": 51,
    "start_time": "2022-06-19T13:41:31.178Z"
   },
   {
    "duration": 385,
    "start_time": "2022-06-19T13:41:32.209Z"
   },
   {
    "duration": 55,
    "start_time": "2022-06-19T13:41:32.797Z"
   },
   {
    "duration": 1564,
    "start_time": "2022-06-19T13:42:15.041Z"
   },
   {
    "duration": 146,
    "start_time": "2022-06-19T13:42:16.613Z"
   },
   {
    "duration": 7,
    "start_time": "2022-06-19T13:42:16.762Z"
   },
   {
    "duration": 149,
    "start_time": "2022-06-19T13:42:16.772Z"
   },
   {
    "duration": 52,
    "start_time": "2022-06-19T13:42:16.923Z"
   },
   {
    "duration": 84,
    "start_time": "2022-06-19T13:42:16.977Z"
   },
   {
    "duration": 93,
    "start_time": "2022-06-19T13:42:17.063Z"
   },
   {
    "duration": 68,
    "start_time": "2022-06-19T13:42:17.168Z"
   },
   {
    "duration": 71,
    "start_time": "2022-06-19T13:42:17.243Z"
   },
   {
    "duration": 70,
    "start_time": "2022-06-19T13:42:17.315Z"
   },
   {
    "duration": 40,
    "start_time": "2022-06-19T13:42:17.395Z"
   },
   {
    "duration": 92,
    "start_time": "2022-06-19T13:42:17.442Z"
   },
   {
    "duration": 84,
    "start_time": "2022-06-19T13:42:17.539Z"
   },
   {
    "duration": 6,
    "start_time": "2022-06-19T13:42:17.627Z"
   },
   {
    "duration": 71,
    "start_time": "2022-06-19T13:42:17.636Z"
   },
   {
    "duration": 374,
    "start_time": "2022-06-19T13:42:17.709Z"
   },
   {
    "duration": 30,
    "start_time": "2022-06-19T13:42:18.089Z"
   },
   {
    "duration": 630,
    "start_time": "2022-06-19T13:42:39.284Z"
   },
   {
    "duration": 344,
    "start_time": "2022-06-19T13:42:46.385Z"
   },
   {
    "duration": 411,
    "start_time": "2022-06-19T13:43:06.845Z"
   },
   {
    "duration": 271,
    "start_time": "2022-06-19T13:43:12.918Z"
   },
   {
    "duration": 374,
    "start_time": "2022-06-19T13:43:24.863Z"
   },
   {
    "duration": 47,
    "start_time": "2022-06-19T13:43:43.057Z"
   },
   {
    "duration": 8,
    "start_time": "2022-06-19T13:44:43.010Z"
   },
   {
    "duration": 29,
    "start_time": "2022-06-19T13:44:43.279Z"
   },
   {
    "duration": 7,
    "start_time": "2022-06-19T13:44:44.340Z"
   },
   {
    "duration": 27,
    "start_time": "2022-06-19T13:44:44.588Z"
   },
   {
    "duration": 297,
    "start_time": "2022-06-19T13:44:46.209Z"
   },
   {
    "duration": 36,
    "start_time": "2022-06-19T13:44:48.252Z"
   },
   {
    "duration": 1647,
    "start_time": "2022-06-19T13:44:54.377Z"
   },
   {
    "duration": 177,
    "start_time": "2022-06-19T13:44:56.026Z"
   },
   {
    "duration": 9,
    "start_time": "2022-06-19T13:44:56.205Z"
   },
   {
    "duration": 157,
    "start_time": "2022-06-19T13:44:56.219Z"
   },
   {
    "duration": 46,
    "start_time": "2022-06-19T13:44:56.380Z"
   },
   {
    "duration": 107,
    "start_time": "2022-06-19T13:44:56.429Z"
   },
   {
    "duration": 41,
    "start_time": "2022-06-19T13:44:56.549Z"
   },
   {
    "duration": 137,
    "start_time": "2022-06-19T13:44:56.595Z"
   },
   {
    "duration": 17,
    "start_time": "2022-06-19T13:44:56.735Z"
   },
   {
    "duration": 32,
    "start_time": "2022-06-19T13:44:56.754Z"
   },
   {
    "duration": 88,
    "start_time": "2022-06-19T13:44:56.788Z"
   },
   {
    "duration": 49,
    "start_time": "2022-06-19T13:44:56.879Z"
   },
   {
    "duration": 82,
    "start_time": "2022-06-19T13:44:56.931Z"
   },
   {
    "duration": 11,
    "start_time": "2022-06-19T13:44:57.020Z"
   },
   {
    "duration": 53,
    "start_time": "2022-06-19T13:44:57.037Z"
   },
   {
    "duration": 378,
    "start_time": "2022-06-19T13:44:57.097Z"
   },
   {
    "duration": 27,
    "start_time": "2022-06-19T13:44:57.483Z"
   },
   {
    "duration": 1946,
    "start_time": "2022-06-19T13:45:51.603Z"
   },
   {
    "duration": 2326,
    "start_time": "2022-06-19T13:46:03.619Z"
   },
   {
    "duration": 2731,
    "start_time": "2022-06-19T13:46:40.773Z"
   },
   {
    "duration": 34,
    "start_time": "2022-06-19T13:47:11.434Z"
   },
   {
    "duration": 7,
    "start_time": "2022-06-19T13:47:38.912Z"
   },
   {
    "duration": 0,
    "start_time": "2022-06-19T13:49:05.345Z"
   },
   {
    "duration": 0,
    "start_time": "2022-06-19T13:49:05.352Z"
   },
   {
    "duration": 0,
    "start_time": "2022-06-19T13:49:05.356Z"
   },
   {
    "duration": 0,
    "start_time": "2022-06-19T13:49:05.361Z"
   },
   {
    "duration": 0,
    "start_time": "2022-06-19T13:49:05.366Z"
   },
   {
    "duration": 0,
    "start_time": "2022-06-19T13:49:05.372Z"
   },
   {
    "duration": 0,
    "start_time": "2022-06-19T13:49:05.376Z"
   },
   {
    "duration": 0,
    "start_time": "2022-06-19T13:49:05.384Z"
   },
   {
    "duration": 0,
    "start_time": "2022-06-19T13:49:05.388Z"
   },
   {
    "duration": 0,
    "start_time": "2022-06-19T13:49:05.401Z"
   },
   {
    "duration": 0,
    "start_time": "2022-06-19T13:49:05.404Z"
   },
   {
    "duration": 0,
    "start_time": "2022-06-19T13:49:05.411Z"
   },
   {
    "duration": 0,
    "start_time": "2022-06-19T13:49:05.413Z"
   },
   {
    "duration": 0,
    "start_time": "2022-06-19T13:49:05.416Z"
   },
   {
    "duration": 0,
    "start_time": "2022-06-19T13:49:05.426Z"
   },
   {
    "duration": 0,
    "start_time": "2022-06-19T13:49:05.433Z"
   },
   {
    "duration": 0,
    "start_time": "2022-06-19T13:49:05.434Z"
   },
   {
    "duration": 0,
    "start_time": "2022-06-19T13:49:05.435Z"
   },
   {
    "duration": 6102,
    "start_time": "2022-06-19T13:49:12.878Z"
   },
   {
    "duration": 192,
    "start_time": "2022-06-19T13:49:18.982Z"
   },
   {
    "duration": 8,
    "start_time": "2022-06-19T13:49:19.176Z"
   },
   {
    "duration": 369,
    "start_time": "2022-06-19T13:49:19.187Z"
   },
   {
    "duration": 48,
    "start_time": "2022-06-19T13:49:19.564Z"
   },
   {
    "duration": 174,
    "start_time": "2022-06-19T13:49:19.614Z"
   },
   {
    "duration": 107,
    "start_time": "2022-06-19T13:49:19.797Z"
   },
   {
    "duration": 103,
    "start_time": "2022-06-19T13:49:19.917Z"
   },
   {
    "duration": 150,
    "start_time": "2022-06-19T13:49:20.022Z"
   },
   {
    "duration": 114,
    "start_time": "2022-06-19T13:49:20.174Z"
   },
   {
    "duration": 126,
    "start_time": "2022-06-19T13:49:20.300Z"
   },
   {
    "duration": 198,
    "start_time": "2022-06-19T13:49:20.433Z"
   },
   {
    "duration": 261,
    "start_time": "2022-06-19T13:49:20.638Z"
   },
   {
    "duration": 98,
    "start_time": "2022-06-19T13:49:20.902Z"
   },
   {
    "duration": 166,
    "start_time": "2022-06-19T13:49:21.002Z"
   },
   {
    "duration": 91,
    "start_time": "2022-06-19T13:49:21.173Z"
   },
   {
    "duration": 1520,
    "start_time": "2022-06-19T13:49:21.270Z"
   },
   {
    "duration": 0,
    "start_time": "2022-06-19T13:49:22.802Z"
   },
   {
    "duration": 420,
    "start_time": "2022-06-19T13:49:33.785Z"
   },
   {
    "duration": 555,
    "start_time": "2022-06-19T13:49:49.344Z"
   },
   {
    "duration": 43,
    "start_time": "2022-06-19T13:50:38.632Z"
   },
   {
    "duration": 51,
    "start_time": "2022-06-20T09:42:20.303Z"
   },
   {
    "duration": 1216,
    "start_time": "2022-06-20T09:42:26.877Z"
   },
   {
    "duration": 218,
    "start_time": "2022-06-20T09:42:28.095Z"
   },
   {
    "duration": 6,
    "start_time": "2022-06-20T09:42:28.315Z"
   },
   {
    "duration": 34,
    "start_time": "2022-06-20T09:42:28.323Z"
   },
   {
    "duration": 10,
    "start_time": "2022-06-20T09:42:28.359Z"
   },
   {
    "duration": 21,
    "start_time": "2022-06-20T09:42:28.371Z"
   },
   {
    "duration": 9,
    "start_time": "2022-06-20T09:42:28.394Z"
   },
   {
    "duration": 8,
    "start_time": "2022-06-20T09:42:28.405Z"
   },
   {
    "duration": 31,
    "start_time": "2022-06-20T09:42:28.414Z"
   },
   {
    "duration": 6,
    "start_time": "2022-06-20T09:42:28.449Z"
   },
   {
    "duration": 6,
    "start_time": "2022-06-20T09:42:28.457Z"
   },
   {
    "duration": 12,
    "start_time": "2022-06-20T09:42:28.464Z"
   },
   {
    "duration": 16,
    "start_time": "2022-06-20T09:42:28.478Z"
   },
   {
    "duration": 14,
    "start_time": "2022-06-20T09:42:28.495Z"
   },
   {
    "duration": 32,
    "start_time": "2022-06-20T09:42:28.510Z"
   },
   {
    "duration": 46,
    "start_time": "2022-06-20T09:42:28.544Z"
   },
   {
    "duration": 4,
    "start_time": "2022-06-20T09:42:28.592Z"
   },
   {
    "duration": 17,
    "start_time": "2022-06-20T09:42:28.598Z"
   },
   {
    "duration": 223,
    "start_time": "2022-06-20T09:42:28.642Z"
   },
   {
    "duration": 238,
    "start_time": "2022-06-20T09:42:53.626Z"
   },
   {
    "duration": 164,
    "start_time": "2022-06-20T09:43:02.746Z"
   },
   {
    "duration": 157,
    "start_time": "2022-06-20T09:43:09.285Z"
   },
   {
    "duration": 159,
    "start_time": "2022-06-20T09:43:20.577Z"
   },
   {
    "duration": 322,
    "start_time": "2022-06-20T09:45:56.744Z"
   },
   {
    "duration": 97,
    "start_time": "2022-06-20T09:46:16.068Z"
   },
   {
    "duration": 9,
    "start_time": "2022-06-20T09:47:28.111Z"
   },
   {
    "duration": 182,
    "start_time": "2022-06-20T09:48:38.577Z"
   },
   {
    "duration": 250,
    "start_time": "2022-06-20T09:48:43.142Z"
   },
   {
    "duration": 1415,
    "start_time": "2022-06-20T09:49:07.295Z"
   },
   {
    "duration": 6,
    "start_time": "2022-06-20T09:49:16.912Z"
   },
   {
    "duration": 9,
    "start_time": "2022-06-20T09:49:36.307Z"
   },
   {
    "duration": 8,
    "start_time": "2022-06-20T09:49:48.604Z"
   },
   {
    "duration": 9,
    "start_time": "2022-06-20T09:52:57.892Z"
   },
   {
    "duration": 16,
    "start_time": "2022-06-20T09:53:28.025Z"
   },
   {
    "duration": 22,
    "start_time": "2022-06-20T09:53:37.730Z"
   },
   {
    "duration": 6,
    "start_time": "2022-06-20T09:55:52.174Z"
   },
   {
    "duration": 10,
    "start_time": "2022-06-20T09:57:08.365Z"
   },
   {
    "duration": 17,
    "start_time": "2022-06-20T09:57:19.746Z"
   },
   {
    "duration": 176,
    "start_time": "2022-06-20T09:57:58.662Z"
   },
   {
    "duration": 79,
    "start_time": "2022-06-20T10:03:59.502Z"
   },
   {
    "duration": 93,
    "start_time": "2022-06-20T10:04:04.409Z"
   },
   {
    "duration": 225,
    "start_time": "2022-06-20T10:04:14.353Z"
   },
   {
    "duration": 216,
    "start_time": "2022-06-20T10:04:33.617Z"
   },
   {
    "duration": 148,
    "start_time": "2022-06-20T10:04:38.693Z"
   },
   {
    "duration": 275,
    "start_time": "2022-06-20T10:04:51.556Z"
   },
   {
    "duration": 247,
    "start_time": "2022-06-20T10:04:59.548Z"
   },
   {
    "duration": 369,
    "start_time": "2022-06-20T10:05:06.764Z"
   },
   {
    "duration": 285,
    "start_time": "2022-06-20T10:05:10.918Z"
   },
   {
    "duration": 312,
    "start_time": "2022-06-20T10:05:15.991Z"
   },
   {
    "duration": 240,
    "start_time": "2022-06-20T10:05:34.743Z"
   },
   {
    "duration": 8,
    "start_time": "2022-06-20T10:05:57.358Z"
   },
   {
    "duration": 386,
    "start_time": "2022-06-20T10:06:24.085Z"
   },
   {
    "duration": 7,
    "start_time": "2022-06-20T10:06:31.236Z"
   },
   {
    "duration": 27,
    "start_time": "2022-06-20T10:06:44.556Z"
   },
   {
    "duration": 9,
    "start_time": "2022-06-20T10:10:17.915Z"
   },
   {
    "duration": 10,
    "start_time": "2022-06-20T10:10:23.518Z"
   },
   {
    "duration": 17,
    "start_time": "2022-06-20T10:11:51.806Z"
   },
   {
    "duration": 1379,
    "start_time": "2022-06-20T10:12:27.310Z"
   },
   {
    "duration": 1210,
    "start_time": "2022-06-20T10:12:30.766Z"
   },
   {
    "duration": 18,
    "start_time": "2022-06-20T10:19:59.809Z"
   },
   {
    "duration": 11,
    "start_time": "2022-06-20T10:20:33.969Z"
   },
   {
    "duration": 140,
    "start_time": "2022-06-20T10:22:26.657Z"
   },
   {
    "duration": 260,
    "start_time": "2022-06-20T10:22:36.924Z"
   },
   {
    "duration": 15,
    "start_time": "2022-06-20T10:22:41.533Z"
   },
   {
    "duration": 8,
    "start_time": "2022-06-20T10:22:52.822Z"
   },
   {
    "duration": 2,
    "start_time": "2022-06-20T10:22:57.601Z"
   },
   {
    "duration": 3,
    "start_time": "2022-06-20T10:23:16.132Z"
   },
   {
    "duration": 3,
    "start_time": "2022-06-20T10:23:24.506Z"
   },
   {
    "duration": 6,
    "start_time": "2022-06-20T10:23:28.520Z"
   },
   {
    "duration": 3,
    "start_time": "2022-06-20T10:23:35.593Z"
   },
   {
    "duration": 11,
    "start_time": "2022-06-20T10:23:38.701Z"
   },
   {
    "duration": 2,
    "start_time": "2022-06-20T10:23:39.050Z"
   },
   {
    "duration": 224,
    "start_time": "2022-06-20T10:23:39.338Z"
   },
   {
    "duration": 3,
    "start_time": "2022-06-20T10:23:39.667Z"
   },
   {
    "duration": 3,
    "start_time": "2022-06-20T10:28:53.370Z"
   },
   {
    "duration": 5,
    "start_time": "2022-06-20T10:29:02.756Z"
   },
   {
    "duration": 8,
    "start_time": "2022-06-20T10:32:11.446Z"
   },
   {
    "duration": 9,
    "start_time": "2022-06-20T10:32:19.358Z"
   },
   {
    "duration": 1350,
    "start_time": "2022-06-20T10:32:32.378Z"
   },
   {
    "duration": 3,
    "start_time": "2022-06-20T10:32:38.518Z"
   },
   {
    "duration": 1192,
    "start_time": "2022-06-20T10:32:39.100Z"
   },
   {
    "duration": 1280,
    "start_time": "2022-06-20T10:33:03.667Z"
   },
   {
    "duration": 29,
    "start_time": "2022-06-20T10:34:25.426Z"
   },
   {
    "duration": 9,
    "start_time": "2022-06-20T10:35:57.913Z"
   },
   {
    "duration": 181,
    "start_time": "2022-06-20T10:36:18.877Z"
   },
   {
    "duration": 317,
    "start_time": "2022-06-20T10:36:27.682Z"
   },
   {
    "duration": 172,
    "start_time": "2022-06-20T10:45:04.729Z"
   },
   {
    "duration": 9,
    "start_time": "2022-06-20T10:45:18.652Z"
   },
   {
    "duration": 165,
    "start_time": "2022-06-20T10:45:23.551Z"
   },
   {
    "duration": 175,
    "start_time": "2022-06-20T10:45:28.537Z"
   },
   {
    "duration": 159,
    "start_time": "2022-06-20T10:45:35.539Z"
   },
   {
    "duration": 249,
    "start_time": "2022-06-20T10:52:16.695Z"
   },
   {
    "duration": 150,
    "start_time": "2022-06-20T10:52:24.742Z"
   },
   {
    "duration": 138,
    "start_time": "2022-06-20T10:52:29.510Z"
   },
   {
    "duration": 1340,
    "start_time": "2022-06-20T10:53:45.591Z"
   },
   {
    "duration": 9,
    "start_time": "2022-06-20T10:54:41.198Z"
   },
   {
    "duration": 145,
    "start_time": "2022-06-20T10:55:22.925Z"
   },
   {
    "duration": 10,
    "start_time": "2022-06-20T10:56:05.721Z"
   },
   {
    "duration": 3,
    "start_time": "2022-06-20T10:56:17.075Z"
   },
   {
    "duration": 9,
    "start_time": "2022-06-20T10:56:17.338Z"
   },
   {
    "duration": 13,
    "start_time": "2022-06-20T10:56:54.266Z"
   },
   {
    "duration": 141,
    "start_time": "2022-06-20T10:56:59.567Z"
   },
   {
    "duration": 8,
    "start_time": "2022-06-20T10:56:59.836Z"
   },
   {
    "duration": 3,
    "start_time": "2022-06-20T10:57:00.238Z"
   },
   {
    "duration": 11,
    "start_time": "2022-06-20T10:57:00.751Z"
   },
   {
    "duration": 3,
    "start_time": "2022-06-20T10:57:55.102Z"
   },
   {
    "duration": 13,
    "start_time": "2022-06-20T10:57:55.706Z"
   },
   {
    "duration": 12,
    "start_time": "2022-06-20T10:58:09.544Z"
   },
   {
    "duration": 8,
    "start_time": "2022-06-20T10:58:11.449Z"
   },
   {
    "duration": 2,
    "start_time": "2022-06-20T10:58:11.906Z"
   },
   {
    "duration": 13,
    "start_time": "2022-06-20T10:58:12.202Z"
   },
   {
    "duration": 10,
    "start_time": "2022-06-20T10:58:47.197Z"
   },
   {
    "duration": 11,
    "start_time": "2022-06-20T11:05:56.329Z"
   },
   {
    "duration": 8,
    "start_time": "2022-06-20T11:05:59.609Z"
   },
   {
    "duration": 3,
    "start_time": "2022-06-20T11:06:00.041Z"
   },
   {
    "duration": 11,
    "start_time": "2022-06-20T11:06:00.347Z"
   },
   {
    "duration": 138,
    "start_time": "2022-06-20T11:06:28.860Z"
   },
   {
    "duration": 15,
    "start_time": "2022-06-20T11:06:41.548Z"
   },
   {
    "duration": 8,
    "start_time": "2022-06-20T11:06:53.198Z"
   },
   {
    "duration": 3,
    "start_time": "2022-06-20T11:06:53.414Z"
   },
   {
    "duration": 14,
    "start_time": "2022-06-20T11:06:53.623Z"
   },
   {
    "duration": 9,
    "start_time": "2022-06-20T11:07:06.859Z"
   },
   {
    "duration": 3,
    "start_time": "2022-06-20T11:07:07.114Z"
   },
   {
    "duration": 16,
    "start_time": "2022-06-20T11:07:07.323Z"
   },
   {
    "duration": 146,
    "start_time": "2022-06-20T11:07:24.272Z"
   },
   {
    "duration": 10,
    "start_time": "2022-06-20T11:08:55.893Z"
   },
   {
    "duration": 9,
    "start_time": "2022-06-20T11:09:21.796Z"
   },
   {
    "duration": 12,
    "start_time": "2022-06-20T11:14:08.078Z"
   },
   {
    "duration": 9,
    "start_time": "2022-06-20T11:14:23.396Z"
   },
   {
    "duration": 8,
    "start_time": "2022-06-20T11:14:24.968Z"
   },
   {
    "duration": 10,
    "start_time": "2022-06-20T11:14:25.295Z"
   },
   {
    "duration": 1239,
    "start_time": "2022-06-20T11:16:02.351Z"
   },
   {
    "duration": 82,
    "start_time": "2022-06-20T11:16:03.593Z"
   },
   {
    "duration": 6,
    "start_time": "2022-06-20T11:16:03.677Z"
   },
   {
    "duration": 36,
    "start_time": "2022-06-20T11:16:03.685Z"
   },
   {
    "duration": 20,
    "start_time": "2022-06-20T11:16:03.723Z"
   },
   {
    "duration": 17,
    "start_time": "2022-06-20T11:16:03.745Z"
   },
   {
    "duration": 9,
    "start_time": "2022-06-20T11:16:03.764Z"
   },
   {
    "duration": 8,
    "start_time": "2022-06-20T11:16:03.774Z"
   },
   {
    "duration": 11,
    "start_time": "2022-06-20T11:16:03.783Z"
   },
   {
    "duration": 5,
    "start_time": "2022-06-20T11:16:03.797Z"
   },
   {
    "duration": 6,
    "start_time": "2022-06-20T11:16:03.804Z"
   },
   {
    "duration": 43,
    "start_time": "2022-06-20T11:16:03.812Z"
   },
   {
    "duration": 16,
    "start_time": "2022-06-20T11:16:03.856Z"
   },
   {
    "duration": 6,
    "start_time": "2022-06-20T11:16:03.874Z"
   },
   {
    "duration": 13,
    "start_time": "2022-06-20T11:16:03.881Z"
   },
   {
    "duration": 68,
    "start_time": "2022-06-20T11:16:03.895Z"
   },
   {
    "duration": 7,
    "start_time": "2022-06-20T11:16:03.965Z"
   },
   {
    "duration": 27,
    "start_time": "2022-06-20T11:16:03.974Z"
   },
   {
    "duration": 197,
    "start_time": "2022-06-20T11:16:04.004Z"
   },
   {
    "duration": 13,
    "start_time": "2022-06-20T11:16:04.203Z"
   },
   {
    "duration": 243,
    "start_time": "2022-06-20T11:16:04.218Z"
   },
   {
    "duration": 9,
    "start_time": "2022-06-20T11:16:04.463Z"
   },
   {
    "duration": 106,
    "start_time": "2022-06-20T11:16:04.474Z"
   },
   {
    "duration": 3,
    "start_time": "2022-06-20T11:17:35.313Z"
   },
   {
    "duration": 246,
    "start_time": "2022-06-20T11:18:13.314Z"
   },
   {
    "duration": 8,
    "start_time": "2022-06-20T11:18:13.661Z"
   },
   {
    "duration": 2,
    "start_time": "2022-06-20T11:18:14.612Z"
   },
   {
    "duration": 4,
    "start_time": "2022-06-20T11:18:26.599Z"
   },
   {
    "duration": 7,
    "start_time": "2022-06-20T11:18:32.846Z"
   },
   {
    "duration": 11,
    "start_time": "2022-06-20T11:19:02.778Z"
   },
   {
    "duration": 237,
    "start_time": "2022-06-20T11:19:52.764Z"
   },
   {
    "duration": 255,
    "start_time": "2022-06-20T11:20:06.971Z"
   },
   {
    "duration": 88,
    "start_time": "2022-06-20T11:21:47.202Z"
   },
   {
    "duration": 438,
    "start_time": "2022-06-20T11:21:55.114Z"
   },
   {
    "duration": 430,
    "start_time": "2022-06-20T11:22:13.599Z"
   },
   {
    "duration": 452,
    "start_time": "2022-06-20T11:22:23.061Z"
   },
   {
    "duration": 9,
    "start_time": "2022-06-20T11:25:54.910Z"
   },
   {
    "duration": 8,
    "start_time": "2022-06-20T11:26:25.810Z"
   },
   {
    "duration": 11,
    "start_time": "2022-06-20T11:26:26.667Z"
   },
   {
    "duration": 21,
    "start_time": "2022-06-20T11:26:31.738Z"
   },
   {
    "duration": 9,
    "start_time": "2022-06-20T11:26:32.467Z"
   },
   {
    "duration": 1103,
    "start_time": "2022-06-20T11:26:44.500Z"
   },
   {
    "duration": 81,
    "start_time": "2022-06-20T11:26:45.605Z"
   },
   {
    "duration": 5,
    "start_time": "2022-06-20T11:26:45.688Z"
   },
   {
    "duration": 33,
    "start_time": "2022-06-20T11:26:45.695Z"
   },
   {
    "duration": 15,
    "start_time": "2022-06-20T11:26:45.730Z"
   },
   {
    "duration": 17,
    "start_time": "2022-06-20T11:26:45.747Z"
   },
   {
    "duration": 8,
    "start_time": "2022-06-20T11:26:45.766Z"
   },
   {
    "duration": 8,
    "start_time": "2022-06-20T11:26:45.776Z"
   },
   {
    "duration": 8,
    "start_time": "2022-06-20T11:26:45.785Z"
   },
   {
    "duration": 8,
    "start_time": "2022-06-20T11:26:45.794Z"
   },
   {
    "duration": 7,
    "start_time": "2022-06-20T11:26:45.804Z"
   },
   {
    "duration": 41,
    "start_time": "2022-06-20T11:26:45.813Z"
   },
   {
    "duration": 14,
    "start_time": "2022-06-20T11:26:45.855Z"
   },
   {
    "duration": 6,
    "start_time": "2022-06-20T11:26:45.871Z"
   },
   {
    "duration": 13,
    "start_time": "2022-06-20T11:26:45.879Z"
   },
   {
    "duration": 60,
    "start_time": "2022-06-20T11:26:45.894Z"
   },
   {
    "duration": 5,
    "start_time": "2022-06-20T11:26:45.956Z"
   },
   {
    "duration": 19,
    "start_time": "2022-06-20T11:26:45.962Z"
   },
   {
    "duration": 176,
    "start_time": "2022-06-20T11:26:45.983Z"
   },
   {
    "duration": 12,
    "start_time": "2022-06-20T11:26:46.161Z"
   },
   {
    "duration": 238,
    "start_time": "2022-06-20T11:26:46.175Z"
   },
   {
    "duration": 8,
    "start_time": "2022-06-20T11:26:46.415Z"
   },
   {
    "duration": 19,
    "start_time": "2022-06-20T11:26:46.425Z"
   },
   {
    "duration": 494,
    "start_time": "2022-06-20T11:26:46.445Z"
   },
   {
    "duration": 19,
    "start_time": "2022-06-20T11:26:46.941Z"
   },
   {
    "duration": 8,
    "start_time": "2022-06-20T11:26:46.962Z"
   },
   {
    "duration": 350,
    "start_time": "2022-06-20T11:27:00.670Z"
   },
   {
    "duration": 247,
    "start_time": "2022-06-20T11:29:42.658Z"
   },
   {
    "duration": 201,
    "start_time": "2022-06-20T11:29:53.398Z"
   },
   {
    "duration": 79,
    "start_time": "2022-06-20T11:30:24.707Z"
   },
   {
    "duration": 202,
    "start_time": "2022-06-20T11:30:31.112Z"
   },
   {
    "duration": 42,
    "start_time": "2022-06-21T09:21:25.704Z"
   },
   {
    "duration": 5,
    "start_time": "2022-06-21T09:21:50.585Z"
   },
   {
    "duration": 1287,
    "start_time": "2022-06-21T09:22:01.231Z"
   },
   {
    "duration": 130,
    "start_time": "2022-06-21T09:22:02.520Z"
   },
   {
    "duration": 6,
    "start_time": "2022-06-21T09:22:02.652Z"
   },
   {
    "duration": 35,
    "start_time": "2022-06-21T09:22:02.660Z"
   },
   {
    "duration": 10,
    "start_time": "2022-06-21T09:22:02.697Z"
   },
   {
    "duration": 18,
    "start_time": "2022-06-21T09:22:02.709Z"
   },
   {
    "duration": 8,
    "start_time": "2022-06-21T09:22:02.729Z"
   },
   {
    "duration": 42,
    "start_time": "2022-06-21T09:22:02.739Z"
   },
   {
    "duration": 6,
    "start_time": "2022-06-21T09:22:02.783Z"
   },
   {
    "duration": 7,
    "start_time": "2022-06-21T09:22:02.791Z"
   },
   {
    "duration": 6,
    "start_time": "2022-06-21T09:22:02.799Z"
   },
   {
    "duration": 11,
    "start_time": "2022-06-21T09:22:02.806Z"
   },
   {
    "duration": 13,
    "start_time": "2022-06-21T09:22:02.819Z"
   },
   {
    "duration": 5,
    "start_time": "2022-06-21T09:22:02.833Z"
   },
   {
    "duration": 39,
    "start_time": "2022-06-21T09:22:02.839Z"
   },
   {
    "duration": 46,
    "start_time": "2022-06-21T09:22:02.880Z"
   },
   {
    "duration": 5,
    "start_time": "2022-06-21T09:22:02.928Z"
   },
   {
    "duration": 17,
    "start_time": "2022-06-21T09:22:02.935Z"
   },
   {
    "duration": 175,
    "start_time": "2022-06-21T09:22:02.954Z"
   },
   {
    "duration": 12,
    "start_time": "2022-06-21T09:22:03.131Z"
   },
   {
    "duration": 255,
    "start_time": "2022-06-21T09:22:03.145Z"
   },
   {
    "duration": 8,
    "start_time": "2022-06-21T09:22:03.402Z"
   },
   {
    "duration": 10,
    "start_time": "2022-06-21T09:22:03.411Z"
   },
   {
    "duration": 171,
    "start_time": "2022-06-21T09:22:03.422Z"
   },
   {
    "duration": 345,
    "start_time": "2022-06-21T09:22:03.595Z"
   },
   {
    "duration": 38,
    "start_time": "2022-06-21T09:22:03.941Z"
   },
   {
    "duration": 10,
    "start_time": "2022-06-21T09:22:03.981Z"
   },
   {
    "duration": 286,
    "start_time": "2022-06-21T09:22:03.994Z"
   },
   {
    "duration": 942,
    "start_time": "2022-06-21T09:24:40.083Z"
   },
   {
    "duration": 970,
    "start_time": "2022-06-21T09:26:37.556Z"
   },
   {
    "duration": 0,
    "start_time": "2022-06-21T09:26:38.528Z"
   },
   {
    "duration": 997,
    "start_time": "2022-06-21T09:26:52.913Z"
   },
   {
    "duration": 84,
    "start_time": "2022-06-21T09:26:53.912Z"
   },
   {
    "duration": 5,
    "start_time": "2022-06-21T09:26:53.998Z"
   },
   {
    "duration": 38,
    "start_time": "2022-06-21T09:26:54.006Z"
   },
   {
    "duration": 34,
    "start_time": "2022-06-21T09:26:54.046Z"
   },
   {
    "duration": 19,
    "start_time": "2022-06-21T09:26:54.084Z"
   },
   {
    "duration": 7,
    "start_time": "2022-06-21T09:26:54.105Z"
   },
   {
    "duration": 8,
    "start_time": "2022-06-21T09:26:54.114Z"
   },
   {
    "duration": 12,
    "start_time": "2022-06-21T09:26:54.124Z"
   },
   {
    "duration": 4,
    "start_time": "2022-06-21T09:26:54.139Z"
   },
   {
    "duration": 24,
    "start_time": "2022-06-21T09:26:54.145Z"
   },
   {
    "duration": 25,
    "start_time": "2022-06-21T09:26:54.171Z"
   },
   {
    "duration": 15,
    "start_time": "2022-06-21T09:26:54.198Z"
   },
   {
    "duration": 5,
    "start_time": "2022-06-21T09:26:54.215Z"
   },
   {
    "duration": 11,
    "start_time": "2022-06-21T09:26:54.221Z"
   },
   {
    "duration": 80,
    "start_time": "2022-06-21T09:26:54.233Z"
   },
   {
    "duration": 6,
    "start_time": "2022-06-21T09:26:54.315Z"
   },
   {
    "duration": 20,
    "start_time": "2022-06-21T09:26:54.322Z"
   },
   {
    "duration": 172,
    "start_time": "2022-06-21T09:26:54.344Z"
   },
   {
    "duration": 12,
    "start_time": "2022-06-21T09:26:54.517Z"
   },
   {
    "duration": 269,
    "start_time": "2022-06-21T09:26:54.530Z"
   },
   {
    "duration": 8,
    "start_time": "2022-06-21T09:26:54.801Z"
   },
   {
    "duration": 1220,
    "start_time": "2022-06-21T09:26:54.810Z"
   },
   {
    "duration": 0,
    "start_time": "2022-06-21T09:26:56.032Z"
   },
   {
    "duration": 0,
    "start_time": "2022-06-21T09:26:56.034Z"
   },
   {
    "duration": 0,
    "start_time": "2022-06-21T09:26:56.035Z"
   },
   {
    "duration": 0,
    "start_time": "2022-06-21T09:26:56.036Z"
   },
   {
    "duration": 0,
    "start_time": "2022-06-21T09:26:56.037Z"
   },
   {
    "duration": 813,
    "start_time": "2022-06-21T09:27:16.984Z"
   },
   {
    "duration": 0,
    "start_time": "2022-06-21T09:27:17.799Z"
   },
   {
    "duration": 632,
    "start_time": "2022-06-21T09:27:18.684Z"
   },
   {
    "duration": 3,
    "start_time": "2022-06-21T09:27:31.198Z"
   },
   {
    "duration": 1264,
    "start_time": "2022-06-21T09:27:31.489Z"
   },
   {
    "duration": 0,
    "start_time": "2022-06-21T09:27:32.754Z"
   },
   {
    "duration": 583,
    "start_time": "2022-06-21T09:27:32.913Z"
   },
   {
    "duration": 4,
    "start_time": "2022-06-21T09:28:35.412Z"
   },
   {
    "duration": 96,
    "start_time": "2022-06-21T09:28:35.593Z"
   },
   {
    "duration": 6,
    "start_time": "2022-06-21T09:28:36.209Z"
   },
   {
    "duration": 28,
    "start_time": "2022-06-21T09:28:36.382Z"
   },
   {
    "duration": 9,
    "start_time": "2022-06-21T09:28:36.715Z"
   },
   {
    "duration": 18,
    "start_time": "2022-06-21T09:28:36.889Z"
   },
   {
    "duration": 7,
    "start_time": "2022-06-21T09:28:37.258Z"
   },
   {
    "duration": 9,
    "start_time": "2022-06-21T09:28:37.452Z"
   },
   {
    "duration": 6,
    "start_time": "2022-06-21T09:28:37.619Z"
   },
   {
    "duration": 4,
    "start_time": "2022-06-21T09:28:37.796Z"
   },
   {
    "duration": 4,
    "start_time": "2022-06-21T09:28:37.983Z"
   },
   {
    "duration": 8,
    "start_time": "2022-06-21T09:28:38.149Z"
   },
   {
    "duration": 14,
    "start_time": "2022-06-21T09:28:38.534Z"
   },
   {
    "duration": 5,
    "start_time": "2022-06-21T09:28:38.967Z"
   },
   {
    "duration": 12,
    "start_time": "2022-06-21T09:28:39.168Z"
   },
   {
    "duration": 46,
    "start_time": "2022-06-21T09:28:39.391Z"
   },
   {
    "duration": 7,
    "start_time": "2022-06-21T09:28:39.863Z"
   },
   {
    "duration": 18,
    "start_time": "2022-06-21T09:28:40.084Z"
   },
   {
    "duration": 143,
    "start_time": "2022-06-21T09:28:40.705Z"
   },
   {
    "duration": 19,
    "start_time": "2022-06-21T09:28:41.157Z"
   },
   {
    "duration": 239,
    "start_time": "2022-06-21T09:28:41.383Z"
   },
   {
    "duration": 3,
    "start_time": "2022-06-21T09:28:41.624Z"
   },
   {
    "duration": 864,
    "start_time": "2022-06-21T09:28:41.932Z"
   },
   {
    "duration": 0,
    "start_time": "2022-06-21T09:28:42.797Z"
   },
   {
    "duration": 9,
    "start_time": "2022-06-21T09:28:51.981Z"
   },
   {
    "duration": 884,
    "start_time": "2022-06-21T09:28:52.214Z"
   },
   {
    "duration": 838,
    "start_time": "2022-06-21T09:29:06.713Z"
   },
   {
    "duration": 0,
    "start_time": "2022-06-21T09:29:07.553Z"
   },
   {
    "duration": 889,
    "start_time": "2022-06-21T09:29:13.009Z"
   },
   {
    "duration": 888,
    "start_time": "2022-06-21T09:29:19.119Z"
   },
   {
    "duration": 0,
    "start_time": "2022-06-21T09:29:20.009Z"
   },
   {
    "duration": 1007,
    "start_time": "2022-06-21T09:36:05.425Z"
   },
   {
    "duration": 870,
    "start_time": "2022-06-21T09:36:27.553Z"
   },
   {
    "duration": 901,
    "start_time": "2022-06-21T09:36:42.662Z"
   },
   {
    "duration": 7,
    "start_time": "2022-06-21T09:37:33.938Z"
   },
   {
    "duration": 3,
    "start_time": "2022-06-21T09:37:46.579Z"
   },
   {
    "duration": 7,
    "start_time": "2022-06-21T09:37:54.640Z"
   },
   {
    "duration": 8,
    "start_time": "2022-06-21T09:38:46.092Z"
   },
   {
    "duration": 8,
    "start_time": "2022-06-21T09:38:54.531Z"
   },
   {
    "duration": 8,
    "start_time": "2022-06-21T09:39:26.451Z"
   },
   {
    "duration": 4,
    "start_time": "2022-06-21T09:39:33.793Z"
   },
   {
    "duration": 20,
    "start_time": "2022-06-21T09:39:33.880Z"
   },
   {
    "duration": 183,
    "start_time": "2022-06-21T09:39:34.801Z"
   },
   {
    "duration": 11,
    "start_time": "2022-06-21T09:39:35.235Z"
   },
   {
    "duration": 264,
    "start_time": "2022-06-21T09:39:35.524Z"
   },
   {
    "duration": 8,
    "start_time": "2022-06-21T09:39:35.952Z"
   },
   {
    "duration": 6,
    "start_time": "2022-06-21T09:39:36.380Z"
   },
   {
    "duration": 7,
    "start_time": "2022-06-21T09:39:37.898Z"
   },
   {
    "duration": 8,
    "start_time": "2022-06-21T09:44:40.112Z"
   },
   {
    "duration": 30,
    "start_time": "2022-06-21T09:44:40.457Z"
   },
   {
    "duration": 20,
    "start_time": "2022-06-21T09:45:30.579Z"
   },
   {
    "duration": 18,
    "start_time": "2022-06-21T09:45:37.719Z"
   },
   {
    "duration": 1031,
    "start_time": "2022-06-21T09:45:42.810Z"
   },
   {
    "duration": 94,
    "start_time": "2022-06-21T09:45:43.843Z"
   },
   {
    "duration": 5,
    "start_time": "2022-06-21T09:45:43.939Z"
   },
   {
    "duration": 55,
    "start_time": "2022-06-21T09:45:43.946Z"
   },
   {
    "duration": 15,
    "start_time": "2022-06-21T09:45:44.003Z"
   },
   {
    "duration": 19,
    "start_time": "2022-06-21T09:45:44.019Z"
   },
   {
    "duration": 8,
    "start_time": "2022-06-21T09:45:44.040Z"
   },
   {
    "duration": 22,
    "start_time": "2022-06-21T09:45:44.050Z"
   },
   {
    "duration": 24,
    "start_time": "2022-06-21T09:45:44.074Z"
   },
   {
    "duration": 16,
    "start_time": "2022-06-21T09:45:44.099Z"
   },
   {
    "duration": 24,
    "start_time": "2022-06-21T09:45:44.117Z"
   },
   {
    "duration": 36,
    "start_time": "2022-06-21T09:45:44.143Z"
   },
   {
    "duration": 34,
    "start_time": "2022-06-21T09:45:44.181Z"
   },
   {
    "duration": 10,
    "start_time": "2022-06-21T09:45:44.218Z"
   },
   {
    "duration": 35,
    "start_time": "2022-06-21T09:45:44.229Z"
   },
   {
    "duration": 72,
    "start_time": "2022-06-21T09:45:44.266Z"
   },
   {
    "duration": 4,
    "start_time": "2022-06-21T09:45:44.340Z"
   },
   {
    "duration": 23,
    "start_time": "2022-06-21T09:45:44.345Z"
   },
   {
    "duration": 169,
    "start_time": "2022-06-21T09:45:44.370Z"
   },
   {
    "duration": 11,
    "start_time": "2022-06-21T09:45:44.541Z"
   },
   {
    "duration": 247,
    "start_time": "2022-06-21T09:45:44.554Z"
   },
   {
    "duration": 9,
    "start_time": "2022-06-21T09:45:44.803Z"
   },
   {
    "duration": 13,
    "start_time": "2022-06-21T09:45:44.814Z"
   },
   {
    "duration": 113,
    "start_time": "2022-06-21T09:45:44.828Z"
   },
   {
    "duration": 0,
    "start_time": "2022-06-21T09:45:44.943Z"
   },
   {
    "duration": 0,
    "start_time": "2022-06-21T09:45:44.945Z"
   },
   {
    "duration": 0,
    "start_time": "2022-06-21T09:45:44.946Z"
   },
   {
    "duration": 56,
    "start_time": "2022-06-21T09:46:39.304Z"
   },
   {
    "duration": 58,
    "start_time": "2022-06-21T09:47:18.656Z"
   },
   {
    "duration": 53,
    "start_time": "2022-06-21T09:47:25.485Z"
   },
   {
    "duration": 51,
    "start_time": "2022-06-21T09:47:51.679Z"
   },
   {
    "duration": 49,
    "start_time": "2022-06-21T09:48:58.540Z"
   },
   {
    "duration": 46,
    "start_time": "2022-06-21T09:49:07.912Z"
   },
   {
    "duration": 45,
    "start_time": "2022-06-21T09:49:38.299Z"
   },
   {
    "duration": 1127,
    "start_time": "2022-06-21T09:50:07.937Z"
   },
   {
    "duration": 95,
    "start_time": "2022-06-21T09:50:09.066Z"
   },
   {
    "duration": 14,
    "start_time": "2022-06-21T09:50:09.163Z"
   },
   {
    "duration": 61,
    "start_time": "2022-06-21T09:50:09.180Z"
   },
   {
    "duration": 29,
    "start_time": "2022-06-21T09:50:09.243Z"
   },
   {
    "duration": 47,
    "start_time": "2022-06-21T09:50:09.278Z"
   },
   {
    "duration": 32,
    "start_time": "2022-06-21T09:50:09.328Z"
   },
   {
    "duration": 35,
    "start_time": "2022-06-21T09:50:09.362Z"
   },
   {
    "duration": 23,
    "start_time": "2022-06-21T09:50:09.399Z"
   },
   {
    "duration": 11,
    "start_time": "2022-06-21T09:50:09.425Z"
   },
   {
    "duration": 25,
    "start_time": "2022-06-21T09:50:09.438Z"
   },
   {
    "duration": 33,
    "start_time": "2022-06-21T09:50:09.465Z"
   },
   {
    "duration": 24,
    "start_time": "2022-06-21T09:50:09.500Z"
   },
   {
    "duration": 18,
    "start_time": "2022-06-21T09:50:09.526Z"
   },
   {
    "duration": 9,
    "start_time": "2022-06-21T09:50:09.546Z"
   },
   {
    "duration": 78,
    "start_time": "2022-06-21T09:50:09.556Z"
   },
   {
    "duration": 4,
    "start_time": "2022-06-21T09:50:09.635Z"
   },
   {
    "duration": 39,
    "start_time": "2022-06-21T09:50:09.641Z"
   },
   {
    "duration": 174,
    "start_time": "2022-06-21T09:50:09.682Z"
   },
   {
    "duration": 23,
    "start_time": "2022-06-21T09:50:09.857Z"
   },
   {
    "duration": 249,
    "start_time": "2022-06-21T09:50:09.882Z"
   },
   {
    "duration": 7,
    "start_time": "2022-06-21T09:50:10.133Z"
   },
   {
    "duration": 18,
    "start_time": "2022-06-21T09:50:10.142Z"
   },
   {
    "duration": 144,
    "start_time": "2022-06-21T09:50:10.162Z"
   },
   {
    "duration": 1,
    "start_time": "2022-06-21T09:50:10.307Z"
   },
   {
    "duration": 0,
    "start_time": "2022-06-21T09:50:10.309Z"
   },
   {
    "duration": 0,
    "start_time": "2022-06-21T09:50:10.311Z"
   },
   {
    "duration": 1102,
    "start_time": "2022-06-21T09:52:09.379Z"
   },
   {
    "duration": 77,
    "start_time": "2022-06-21T09:52:10.483Z"
   },
   {
    "duration": 6,
    "start_time": "2022-06-21T09:52:10.562Z"
   },
   {
    "duration": 29,
    "start_time": "2022-06-21T09:52:10.570Z"
   },
   {
    "duration": 10,
    "start_time": "2022-06-21T09:52:10.601Z"
   },
   {
    "duration": 18,
    "start_time": "2022-06-21T09:52:10.613Z"
   },
   {
    "duration": 8,
    "start_time": "2022-06-21T09:52:10.634Z"
   },
   {
    "duration": 8,
    "start_time": "2022-06-21T09:52:10.668Z"
   },
   {
    "duration": 6,
    "start_time": "2022-06-21T09:52:10.678Z"
   },
   {
    "duration": 6,
    "start_time": "2022-06-21T09:52:10.687Z"
   },
   {
    "duration": 8,
    "start_time": "2022-06-21T09:52:10.694Z"
   },
   {
    "duration": 12,
    "start_time": "2022-06-21T09:52:10.703Z"
   },
   {
    "duration": 21,
    "start_time": "2022-06-21T09:52:10.716Z"
   },
   {
    "duration": 28,
    "start_time": "2022-06-21T09:52:10.739Z"
   },
   {
    "duration": 8,
    "start_time": "2022-06-21T09:52:10.769Z"
   },
   {
    "duration": 52,
    "start_time": "2022-06-21T09:52:10.779Z"
   },
   {
    "duration": 4,
    "start_time": "2022-06-21T09:52:10.833Z"
   },
   {
    "duration": 45,
    "start_time": "2022-06-21T09:52:10.839Z"
   },
   {
    "duration": 160,
    "start_time": "2022-06-21T09:52:10.886Z"
   },
   {
    "duration": 24,
    "start_time": "2022-06-21T09:52:11.048Z"
   },
   {
    "duration": 225,
    "start_time": "2022-06-21T09:52:11.073Z"
   },
   {
    "duration": 8,
    "start_time": "2022-06-21T09:52:11.299Z"
   },
   {
    "duration": 8,
    "start_time": "2022-06-21T09:52:11.309Z"
   },
   {
    "duration": 147,
    "start_time": "2022-06-21T09:52:11.318Z"
   },
   {
    "duration": 0,
    "start_time": "2022-06-21T09:52:11.467Z"
   },
   {
    "duration": 0,
    "start_time": "2022-06-21T09:52:11.469Z"
   },
   {
    "duration": 0,
    "start_time": "2022-06-21T09:52:11.469Z"
   },
   {
    "duration": 54,
    "start_time": "2022-06-21T09:52:23.020Z"
   },
   {
    "duration": 317,
    "start_time": "2022-06-21T09:52:29.785Z"
   },
   {
    "duration": 306,
    "start_time": "2022-06-21T09:52:40.502Z"
   },
   {
    "duration": 292,
    "start_time": "2022-06-21T09:52:46.265Z"
   },
   {
    "duration": 312,
    "start_time": "2022-06-21T09:53:07.403Z"
   },
   {
    "duration": 21,
    "start_time": "2022-06-21T09:55:01.083Z"
   },
   {
    "duration": 216,
    "start_time": "2022-06-21T09:58:13.924Z"
   },
   {
    "duration": 226,
    "start_time": "2022-06-21T09:58:18.380Z"
   },
   {
    "duration": 8,
    "start_time": "2022-06-21T10:00:09.823Z"
   },
   {
    "duration": 28,
    "start_time": "2022-06-21T10:00:21.583Z"
   },
   {
    "duration": 28,
    "start_time": "2022-06-21T10:00:45.485Z"
   },
   {
    "duration": 174,
    "start_time": "2022-06-21T10:00:46.118Z"
   },
   {
    "duration": 280,
    "start_time": "2022-06-21T10:01:06.392Z"
   },
   {
    "duration": 9,
    "start_time": "2022-06-21T10:01:39.590Z"
   },
   {
    "duration": 203,
    "start_time": "2022-06-21T10:01:48.508Z"
   },
   {
    "duration": 197,
    "start_time": "2022-06-21T10:02:16.024Z"
   },
   {
    "duration": 205,
    "start_time": "2022-06-21T10:02:24.011Z"
   },
   {
    "duration": 234,
    "start_time": "2022-06-21T10:02:28.920Z"
   },
   {
    "duration": 180,
    "start_time": "2022-06-21T10:02:43.825Z"
   },
   {
    "duration": 8,
    "start_time": "2022-06-21T10:03:51.728Z"
   },
   {
    "duration": 10,
    "start_time": "2022-06-21T10:08:23.429Z"
   },
   {
    "duration": 11,
    "start_time": "2022-06-21T10:08:37.584Z"
   },
   {
    "duration": 220,
    "start_time": "2022-06-21T10:09:01.481Z"
   },
   {
    "duration": 75,
    "start_time": "2022-06-21T10:09:40.222Z"
   },
   {
    "duration": 76,
    "start_time": "2022-06-21T10:10:00.079Z"
   },
   {
    "duration": 151,
    "start_time": "2022-06-21T10:10:12.844Z"
   },
   {
    "duration": 159,
    "start_time": "2022-06-21T10:10:32.529Z"
   },
   {
    "duration": 270,
    "start_time": "2022-06-21T10:10:42.145Z"
   },
   {
    "duration": 168,
    "start_time": "2022-06-21T10:10:55.146Z"
   },
   {
    "duration": 161,
    "start_time": "2022-06-21T10:11:00.822Z"
   },
   {
    "duration": 161,
    "start_time": "2022-06-21T10:11:04.254Z"
   },
   {
    "duration": 47,
    "start_time": "2022-06-21T10:11:26.081Z"
   },
   {
    "duration": 119,
    "start_time": "2022-06-21T10:11:31.102Z"
   },
   {
    "duration": 171,
    "start_time": "2022-06-21T10:12:00.413Z"
   },
   {
    "duration": 158,
    "start_time": "2022-06-21T10:12:06.004Z"
   },
   {
    "duration": 10,
    "start_time": "2022-06-21T10:15:59.378Z"
   },
   {
    "duration": 141,
    "start_time": "2022-06-21T10:16:06.108Z"
   },
   {
    "duration": 247,
    "start_time": "2022-06-21T10:18:10.511Z"
   },
   {
    "duration": 34,
    "start_time": "2022-06-21T10:18:46.513Z"
   },
   {
    "duration": 3,
    "start_time": "2022-06-21T10:19:00.878Z"
   },
   {
    "duration": 11,
    "start_time": "2022-06-21T10:22:23.667Z"
   },
   {
    "duration": 15,
    "start_time": "2022-06-21T10:25:08.065Z"
   },
   {
    "duration": 11,
    "start_time": "2022-06-21T10:26:21.010Z"
   },
   {
    "duration": 10,
    "start_time": "2022-06-21T10:26:26.942Z"
   },
   {
    "duration": 8,
    "start_time": "2022-06-21T10:26:39.717Z"
   },
   {
    "duration": 8,
    "start_time": "2022-06-21T10:26:56.899Z"
   },
   {
    "duration": 14,
    "start_time": "2022-06-21T10:27:02.808Z"
   },
   {
    "duration": 1038,
    "start_time": "2022-06-21T10:27:55.561Z"
   },
   {
    "duration": 867,
    "start_time": "2022-06-21T10:28:05.095Z"
   },
   {
    "duration": 13,
    "start_time": "2022-06-21T10:28:13.495Z"
   },
   {
    "duration": 145,
    "start_time": "2022-06-21T10:28:19.805Z"
   },
   {
    "duration": 230,
    "start_time": "2022-06-21T10:28:29.866Z"
   },
   {
    "duration": 132,
    "start_time": "2022-06-21T10:28:35.227Z"
   },
   {
    "duration": 10,
    "start_time": "2022-06-21T10:29:23.480Z"
   },
   {
    "duration": 152,
    "start_time": "2022-06-21T10:29:37.198Z"
   },
   {
    "duration": 4,
    "start_time": "2022-06-21T10:33:52.647Z"
   },
   {
    "duration": 7,
    "start_time": "2022-06-21T10:34:39.405Z"
   },
   {
    "duration": 17,
    "start_time": "2022-06-21T10:35:17.946Z"
   },
   {
    "duration": 17,
    "start_time": "2022-06-21T10:35:28.133Z"
   },
   {
    "duration": 159,
    "start_time": "2022-06-21T10:35:37.243Z"
   },
   {
    "duration": 192,
    "start_time": "2022-06-21T10:35:43.429Z"
   },
   {
    "duration": 172,
    "start_time": "2022-06-21T10:35:50.498Z"
   },
   {
    "duration": 11,
    "start_time": "2022-06-21T10:37:08.684Z"
   },
   {
    "duration": 14,
    "start_time": "2022-06-21T10:37:15.592Z"
   },
   {
    "duration": 454,
    "start_time": "2022-06-21T10:37:28.231Z"
   },
   {
    "duration": 416,
    "start_time": "2022-06-21T10:37:37.389Z"
   },
   {
    "duration": 382,
    "start_time": "2022-06-21T10:37:43.908Z"
   },
   {
    "duration": 324,
    "start_time": "2022-06-21T10:38:12.433Z"
   },
   {
    "duration": 404,
    "start_time": "2022-06-21T10:38:21.045Z"
   },
   {
    "duration": 1058,
    "start_time": "2022-06-21T10:38:55.603Z"
   },
   {
    "duration": 83,
    "start_time": "2022-06-21T10:38:56.662Z"
   },
   {
    "duration": 5,
    "start_time": "2022-06-21T10:38:56.746Z"
   },
   {
    "duration": 32,
    "start_time": "2022-06-21T10:38:56.753Z"
   },
   {
    "duration": 8,
    "start_time": "2022-06-21T10:38:56.787Z"
   },
   {
    "duration": 18,
    "start_time": "2022-06-21T10:38:56.796Z"
   },
   {
    "duration": 8,
    "start_time": "2022-06-21T10:38:56.815Z"
   },
   {
    "duration": 7,
    "start_time": "2022-06-21T10:38:56.824Z"
   },
   {
    "duration": 6,
    "start_time": "2022-06-21T10:38:56.832Z"
   },
   {
    "duration": 41,
    "start_time": "2022-06-21T10:38:56.840Z"
   },
   {
    "duration": 5,
    "start_time": "2022-06-21T10:38:56.883Z"
   },
   {
    "duration": 10,
    "start_time": "2022-06-21T10:38:56.889Z"
   },
   {
    "duration": 15,
    "start_time": "2022-06-21T10:38:56.901Z"
   },
   {
    "duration": 5,
    "start_time": "2022-06-21T10:38:56.917Z"
   },
   {
    "duration": 10,
    "start_time": "2022-06-21T10:38:56.923Z"
   },
   {
    "duration": 68,
    "start_time": "2022-06-21T10:38:56.934Z"
   },
   {
    "duration": 5,
    "start_time": "2022-06-21T10:38:57.003Z"
   },
   {
    "duration": 16,
    "start_time": "2022-06-21T10:38:57.009Z"
   },
   {
    "duration": 184,
    "start_time": "2022-06-21T10:38:57.026Z"
   },
   {
    "duration": 11,
    "start_time": "2022-06-21T10:38:57.212Z"
   },
   {
    "duration": 238,
    "start_time": "2022-06-21T10:38:57.225Z"
   },
   {
    "duration": 12,
    "start_time": "2022-06-21T10:38:57.467Z"
   },
   {
    "duration": 14,
    "start_time": "2022-06-21T10:38:57.481Z"
   },
   {
    "duration": 317,
    "start_time": "2022-06-21T10:38:57.497Z"
   },
   {
    "duration": 18,
    "start_time": "2022-06-21T10:38:57.815Z"
   },
   {
    "duration": 26,
    "start_time": "2022-06-21T10:38:57.835Z"
   },
   {
    "duration": 197,
    "start_time": "2022-06-21T10:38:57.862Z"
   },
   {
    "duration": 210,
    "start_time": "2022-06-21T10:38:58.062Z"
   },
   {
    "duration": 4,
    "start_time": "2022-06-21T10:38:58.283Z"
   },
   {
    "duration": 153,
    "start_time": "2022-06-21T10:38:58.289Z"
   },
   {
    "duration": 167,
    "start_time": "2022-06-21T10:38:58.444Z"
   },
   {
    "duration": 194,
    "start_time": "2022-06-21T10:38:58.613Z"
   },
   {
    "duration": 584,
    "start_time": "2022-06-21T10:38:58.808Z"
   },
   {
    "duration": 1115,
    "start_time": "2022-06-21T10:42:16.924Z"
   },
   {
    "duration": 90,
    "start_time": "2022-06-21T10:42:18.042Z"
   },
   {
    "duration": 6,
    "start_time": "2022-06-21T10:42:18.133Z"
   },
   {
    "duration": 42,
    "start_time": "2022-06-21T10:42:18.141Z"
   },
   {
    "duration": 10,
    "start_time": "2022-06-21T10:42:18.185Z"
   },
   {
    "duration": 23,
    "start_time": "2022-06-21T10:42:18.197Z"
   },
   {
    "duration": 9,
    "start_time": "2022-06-21T10:42:18.222Z"
   },
   {
    "duration": 7,
    "start_time": "2022-06-21T10:42:18.233Z"
   },
   {
    "duration": 7,
    "start_time": "2022-06-21T10:42:18.266Z"
   },
   {
    "duration": 6,
    "start_time": "2022-06-21T10:42:18.276Z"
   },
   {
    "duration": 6,
    "start_time": "2022-06-21T10:42:18.283Z"
   },
   {
    "duration": 12,
    "start_time": "2022-06-21T10:42:18.291Z"
   },
   {
    "duration": 17,
    "start_time": "2022-06-21T10:42:18.305Z"
   },
   {
    "duration": 6,
    "start_time": "2022-06-21T10:42:18.323Z"
   },
   {
    "duration": 42,
    "start_time": "2022-06-21T10:42:18.330Z"
   },
   {
    "duration": 60,
    "start_time": "2022-06-21T10:42:18.374Z"
   },
   {
    "duration": 5,
    "start_time": "2022-06-21T10:42:18.436Z"
   },
   {
    "duration": 44,
    "start_time": "2022-06-21T10:42:18.442Z"
   },
   {
    "duration": 185,
    "start_time": "2022-06-21T10:42:18.487Z"
   },
   {
    "duration": 13,
    "start_time": "2022-06-21T10:42:18.673Z"
   },
   {
    "duration": 277,
    "start_time": "2022-06-21T10:42:18.688Z"
   },
   {
    "duration": 11,
    "start_time": "2022-06-21T10:42:18.968Z"
   },
   {
    "duration": 11,
    "start_time": "2022-06-21T10:42:18.981Z"
   },
   {
    "duration": 359,
    "start_time": "2022-06-21T10:42:18.995Z"
   },
   {
    "duration": 21,
    "start_time": "2022-06-21T10:42:19.355Z"
   },
   {
    "duration": 34,
    "start_time": "2022-06-21T10:42:19.378Z"
   },
   {
    "duration": 212,
    "start_time": "2022-06-21T10:42:19.414Z"
   },
   {
    "duration": 218,
    "start_time": "2022-06-21T10:42:19.629Z"
   },
   {
    "duration": 2,
    "start_time": "2022-06-21T10:42:19.849Z"
   },
   {
    "duration": 149,
    "start_time": "2022-06-21T10:42:19.853Z"
   },
   {
    "duration": 158,
    "start_time": "2022-06-21T10:42:20.003Z"
   },
   {
    "duration": 212,
    "start_time": "2022-06-21T10:42:20.163Z"
   },
   {
    "duration": 504,
    "start_time": "2022-06-21T10:42:20.377Z"
   },
   {
    "duration": 3,
    "start_time": "2022-06-21T10:52:34.879Z"
   },
   {
    "duration": 77,
    "start_time": "2022-06-21T10:52:35.313Z"
   },
   {
    "duration": 6,
    "start_time": "2022-06-21T10:52:38.420Z"
   },
   {
    "duration": 37,
    "start_time": "2022-06-21T10:52:38.887Z"
   },
   {
    "duration": 9,
    "start_time": "2022-06-21T10:52:39.633Z"
   },
   {
    "duration": 964,
    "start_time": "2022-06-21T10:52:42.928Z"
   },
   {
    "duration": 77,
    "start_time": "2022-06-21T10:52:43.896Z"
   },
   {
    "duration": 5,
    "start_time": "2022-06-21T10:52:43.975Z"
   },
   {
    "duration": 33,
    "start_time": "2022-06-21T10:52:43.981Z"
   },
   {
    "duration": 9,
    "start_time": "2022-06-21T10:52:44.015Z"
   },
   {
    "duration": 17,
    "start_time": "2022-06-21T10:52:44.026Z"
   },
   {
    "duration": 29,
    "start_time": "2022-06-21T10:52:44.044Z"
   },
   {
    "duration": 8,
    "start_time": "2022-06-21T10:52:44.074Z"
   },
   {
    "duration": 18,
    "start_time": "2022-06-21T10:52:44.084Z"
   },
   {
    "duration": 4,
    "start_time": "2022-06-21T10:52:44.104Z"
   },
   {
    "duration": 9,
    "start_time": "2022-06-21T10:52:44.110Z"
   },
   {
    "duration": 10,
    "start_time": "2022-06-21T10:52:44.121Z"
   },
   {
    "duration": 14,
    "start_time": "2022-06-21T10:52:44.133Z"
   },
   {
    "duration": 6,
    "start_time": "2022-06-21T10:52:44.168Z"
   },
   {
    "duration": 9,
    "start_time": "2022-06-21T10:52:44.175Z"
   },
   {
    "duration": 47,
    "start_time": "2022-06-21T10:52:44.185Z"
   },
   {
    "duration": 5,
    "start_time": "2022-06-21T10:52:44.233Z"
   },
   {
    "duration": 40,
    "start_time": "2022-06-21T10:52:44.240Z"
   },
   {
    "duration": 158,
    "start_time": "2022-06-21T10:52:44.282Z"
   },
   {
    "duration": 12,
    "start_time": "2022-06-21T10:52:44.441Z"
   },
   {
    "duration": 241,
    "start_time": "2022-06-21T10:52:44.454Z"
   },
   {
    "duration": 8,
    "start_time": "2022-06-21T10:52:44.698Z"
   },
   {
    "duration": 4,
    "start_time": "2022-06-21T10:52:44.708Z"
   },
   {
    "duration": 295,
    "start_time": "2022-06-21T10:52:44.714Z"
   },
   {
    "duration": 17,
    "start_time": "2022-06-21T10:52:45.011Z"
   },
   {
    "duration": 31,
    "start_time": "2022-06-21T10:52:45.029Z"
   },
   {
    "duration": 184,
    "start_time": "2022-06-21T10:52:45.063Z"
   },
   {
    "duration": 197,
    "start_time": "2022-06-21T10:52:45.249Z"
   },
   {
    "duration": 2,
    "start_time": "2022-06-21T10:52:45.448Z"
   },
   {
    "duration": 136,
    "start_time": "2022-06-21T10:52:45.451Z"
   },
   {
    "duration": 149,
    "start_time": "2022-06-21T10:52:45.589Z"
   },
   {
    "duration": 180,
    "start_time": "2022-06-21T10:52:45.739Z"
   },
   {
    "duration": 449,
    "start_time": "2022-06-21T10:52:45.920Z"
   },
   {
    "duration": 201,
    "start_time": "2022-06-21T10:54:53.109Z"
   },
   {
    "duration": 109,
    "start_time": "2022-06-21T10:55:59.792Z"
   },
   {
    "duration": 1399,
    "start_time": "2022-06-21T11:00:34.138Z"
   },
   {
    "duration": 85,
    "start_time": "2022-06-21T11:00:35.539Z"
   },
   {
    "duration": 5,
    "start_time": "2022-06-21T11:00:35.628Z"
   },
   {
    "duration": 44,
    "start_time": "2022-06-21T11:00:35.634Z"
   },
   {
    "duration": 9,
    "start_time": "2022-06-21T11:00:35.681Z"
   },
   {
    "duration": 20,
    "start_time": "2022-06-21T11:00:35.691Z"
   },
   {
    "duration": 58,
    "start_time": "2022-06-21T11:00:35.713Z"
   },
   {
    "duration": 9,
    "start_time": "2022-06-21T11:00:35.772Z"
   },
   {
    "duration": 6,
    "start_time": "2022-06-21T11:00:35.785Z"
   },
   {
    "duration": 12,
    "start_time": "2022-06-21T11:00:35.793Z"
   },
   {
    "duration": 8,
    "start_time": "2022-06-21T11:00:35.806Z"
   },
   {
    "duration": 13,
    "start_time": "2022-06-21T11:00:35.816Z"
   },
   {
    "duration": 14,
    "start_time": "2022-06-21T11:00:35.830Z"
   },
   {
    "duration": 23,
    "start_time": "2022-06-21T11:00:35.846Z"
   },
   {
    "duration": 9,
    "start_time": "2022-06-21T11:00:35.871Z"
   },
   {
    "duration": 49,
    "start_time": "2022-06-21T11:00:35.882Z"
   },
   {
    "duration": 5,
    "start_time": "2022-06-21T11:00:35.932Z"
   },
   {
    "duration": 38,
    "start_time": "2022-06-21T11:00:35.939Z"
   },
   {
    "duration": 228,
    "start_time": "2022-06-21T11:00:35.979Z"
   },
   {
    "duration": 11,
    "start_time": "2022-06-21T11:00:36.208Z"
   },
   {
    "duration": 235,
    "start_time": "2022-06-21T11:00:36.221Z"
   },
   {
    "duration": 10,
    "start_time": "2022-06-21T11:00:36.458Z"
   },
   {
    "duration": 7,
    "start_time": "2022-06-21T11:00:36.470Z"
   },
   {
    "duration": 320,
    "start_time": "2022-06-21T11:00:36.478Z"
   },
   {
    "duration": 19,
    "start_time": "2022-06-21T11:00:36.800Z"
   },
   {
    "duration": 27,
    "start_time": "2022-06-21T11:00:36.821Z"
   },
   {
    "duration": 176,
    "start_time": "2022-06-21T11:00:36.852Z"
   },
   {
    "duration": 198,
    "start_time": "2022-06-21T11:00:37.030Z"
   },
   {
    "duration": 2,
    "start_time": "2022-06-21T11:00:37.230Z"
   },
   {
    "duration": 157,
    "start_time": "2022-06-21T11:00:37.234Z"
   },
   {
    "duration": 150,
    "start_time": "2022-06-21T11:00:37.393Z"
   },
   {
    "duration": 207,
    "start_time": "2022-06-21T11:00:37.545Z"
   },
   {
    "duration": 464,
    "start_time": "2022-06-21T11:00:37.754Z"
   },
   {
    "duration": 148,
    "start_time": "2022-06-21T11:00:55.878Z"
   },
   {
    "duration": 11,
    "start_time": "2022-06-21T11:03:27.741Z"
   },
   {
    "duration": 13,
    "start_time": "2022-06-21T11:04:38.077Z"
   },
   {
    "duration": 8,
    "start_time": "2022-06-21T11:04:51.910Z"
   },
   {
    "duration": 11,
    "start_time": "2022-06-21T11:04:57.871Z"
   },
   {
    "duration": 58,
    "start_time": "2022-06-21T11:06:19.336Z"
   },
   {
    "duration": 40,
    "start_time": "2022-06-21T11:09:09.705Z"
   },
   {
    "duration": 17,
    "start_time": "2022-06-21T11:09:11.347Z"
   },
   {
    "duration": 6,
    "start_time": "2022-06-21T11:09:12.608Z"
   },
   {
    "duration": 217,
    "start_time": "2022-06-21T11:09:13.128Z"
   },
   {
    "duration": 16,
    "start_time": "2022-06-21T11:09:27.231Z"
   },
   {
    "duration": 4,
    "start_time": "2022-06-21T11:09:28.309Z"
   },
   {
    "duration": 246,
    "start_time": "2022-06-21T11:09:28.665Z"
   },
   {
    "duration": 16,
    "start_time": "2022-06-21T11:09:37.604Z"
   },
   {
    "duration": 5,
    "start_time": "2022-06-21T11:09:38.148Z"
   },
   {
    "duration": 227,
    "start_time": "2022-06-21T11:09:38.349Z"
   },
   {
    "duration": 16,
    "start_time": "2022-06-21T11:09:57.467Z"
   },
   {
    "duration": 17,
    "start_time": "2022-06-21T11:10:12.586Z"
   },
   {
    "duration": 5,
    "start_time": "2022-06-21T11:10:13.353Z"
   },
   {
    "duration": 200,
    "start_time": "2022-06-21T11:10:13.595Z"
   },
   {
    "duration": 17,
    "start_time": "2022-06-21T11:10:29.980Z"
   },
   {
    "duration": 42,
    "start_time": "2022-06-21T11:11:21.088Z"
   },
   {
    "duration": 14,
    "start_time": "2022-06-21T11:11:21.489Z"
   },
   {
    "duration": 6,
    "start_time": "2022-06-21T11:11:21.978Z"
   },
   {
    "duration": 212,
    "start_time": "2022-06-21T11:11:22.204Z"
   },
   {
    "duration": 5,
    "start_time": "2022-06-21T11:11:29.223Z"
   },
   {
    "duration": 217,
    "start_time": "2022-06-21T11:11:29.811Z"
   },
   {
    "duration": 214,
    "start_time": "2022-06-21T11:11:39.437Z"
   },
   {
    "duration": 99,
    "start_time": "2022-06-21T11:14:38.074Z"
   },
   {
    "duration": 58,
    "start_time": "2022-06-21T11:14:55.776Z"
   },
   {
    "duration": 195,
    "start_time": "2022-06-21T11:15:19.273Z"
   },
   {
    "duration": 141,
    "start_time": "2022-06-21T11:15:20.034Z"
   },
   {
    "duration": 134,
    "start_time": "2022-06-21T11:15:27.838Z"
   },
   {
    "duration": 13,
    "start_time": "2022-06-21T11:16:42.870Z"
   },
   {
    "duration": 1516,
    "start_time": "2022-06-21T11:16:56.374Z"
   },
   {
    "duration": 1710,
    "start_time": "2022-06-21T11:17:14.288Z"
   },
   {
    "duration": 302,
    "start_time": "2022-06-21T11:17:47.255Z"
   },
   {
    "duration": 17,
    "start_time": "2022-06-21T11:19:13.463Z"
   },
   {
    "duration": 20,
    "start_time": "2022-06-21T11:19:46.594Z"
   },
   {
    "duration": 341,
    "start_time": "2022-06-21T11:19:50.891Z"
   },
   {
    "duration": 50,
    "start_time": "2022-06-21T11:19:56.740Z"
   },
   {
    "duration": 88,
    "start_time": "2022-06-21T11:20:03.116Z"
   },
   {
    "duration": 56,
    "start_time": "2022-06-21T11:20:06.478Z"
   },
   {
    "duration": 4,
    "start_time": "2022-06-21T11:20:51.430Z"
   },
   {
    "duration": 72,
    "start_time": "2022-06-21T11:20:51.848Z"
   },
   {
    "duration": 5,
    "start_time": "2022-06-21T11:20:52.585Z"
   },
   {
    "duration": 27,
    "start_time": "2022-06-21T11:20:52.730Z"
   },
   {
    "duration": 10,
    "start_time": "2022-06-21T11:20:52.984Z"
   },
   {
    "duration": 16,
    "start_time": "2022-06-21T11:20:53.136Z"
   },
   {
    "duration": 7,
    "start_time": "2022-06-21T11:20:53.441Z"
   },
   {
    "duration": 9,
    "start_time": "2022-06-21T11:20:53.587Z"
   },
   {
    "duration": 5,
    "start_time": "2022-06-21T11:20:53.746Z"
   },
   {
    "duration": 5,
    "start_time": "2022-06-21T11:20:53.916Z"
   },
   {
    "duration": 4,
    "start_time": "2022-06-21T11:20:54.074Z"
   },
   {
    "duration": 10,
    "start_time": "2022-06-21T11:20:54.332Z"
   },
   {
    "duration": 14,
    "start_time": "2022-06-21T11:20:54.804Z"
   },
   {
    "duration": 6,
    "start_time": "2022-06-21T11:20:54.971Z"
   },
   {
    "duration": 9,
    "start_time": "2022-06-21T11:20:55.151Z"
   },
   {
    "duration": 43,
    "start_time": "2022-06-21T11:20:55.295Z"
   },
   {
    "duration": 5,
    "start_time": "2022-06-21T11:20:55.629Z"
   },
   {
    "duration": 15,
    "start_time": "2022-06-21T11:20:55.805Z"
   },
   {
    "duration": 138,
    "start_time": "2022-06-21T11:20:56.454Z"
   },
   {
    "duration": 187,
    "start_time": "2022-06-21T11:20:56.626Z"
   },
   {
    "duration": 11,
    "start_time": "2022-06-21T11:20:57.249Z"
   },
   {
    "duration": 1168,
    "start_time": "2022-06-21T11:21:14.660Z"
   },
   {
    "duration": 77,
    "start_time": "2022-06-21T11:21:15.830Z"
   },
   {
    "duration": 5,
    "start_time": "2022-06-21T11:21:15.908Z"
   },
   {
    "duration": 28,
    "start_time": "2022-06-21T11:21:15.914Z"
   },
   {
    "duration": 8,
    "start_time": "2022-06-21T11:21:15.944Z"
   },
   {
    "duration": 25,
    "start_time": "2022-06-21T11:21:15.967Z"
   },
   {
    "duration": 11,
    "start_time": "2022-06-21T11:21:15.994Z"
   },
   {
    "duration": 6,
    "start_time": "2022-06-21T11:21:16.007Z"
   },
   {
    "duration": 5,
    "start_time": "2022-06-21T11:21:16.014Z"
   },
   {
    "duration": 5,
    "start_time": "2022-06-21T11:21:16.021Z"
   },
   {
    "duration": 5,
    "start_time": "2022-06-21T11:21:16.027Z"
   },
   {
    "duration": 14,
    "start_time": "2022-06-21T11:21:16.033Z"
   },
   {
    "duration": 25,
    "start_time": "2022-06-21T11:21:16.049Z"
   },
   {
    "duration": 5,
    "start_time": "2022-06-21T11:21:16.075Z"
   },
   {
    "duration": 96,
    "start_time": "2022-06-21T11:21:16.082Z"
   },
   {
    "duration": 0,
    "start_time": "2022-06-21T11:21:16.179Z"
   },
   {
    "duration": 0,
    "start_time": "2022-06-21T11:21:16.181Z"
   },
   {
    "duration": 0,
    "start_time": "2022-06-21T11:21:16.182Z"
   },
   {
    "duration": 0,
    "start_time": "2022-06-21T11:21:16.182Z"
   },
   {
    "duration": 0,
    "start_time": "2022-06-21T11:21:16.183Z"
   },
   {
    "duration": 0,
    "start_time": "2022-06-21T11:21:16.184Z"
   },
   {
    "duration": 0,
    "start_time": "2022-06-21T11:21:16.186Z"
   },
   {
    "duration": 1,
    "start_time": "2022-06-21T11:21:16.186Z"
   },
   {
    "duration": 0,
    "start_time": "2022-06-21T11:21:16.187Z"
   },
   {
    "duration": 0,
    "start_time": "2022-06-21T11:21:16.188Z"
   },
   {
    "duration": 0,
    "start_time": "2022-06-21T11:21:16.189Z"
   },
   {
    "duration": 0,
    "start_time": "2022-06-21T11:21:16.190Z"
   },
   {
    "duration": 0,
    "start_time": "2022-06-21T11:21:16.191Z"
   },
   {
    "duration": 1,
    "start_time": "2022-06-21T11:21:16.192Z"
   },
   {
    "duration": 0,
    "start_time": "2022-06-21T11:21:16.193Z"
   },
   {
    "duration": 0,
    "start_time": "2022-06-21T11:21:16.194Z"
   },
   {
    "duration": 0,
    "start_time": "2022-06-21T11:21:16.195Z"
   },
   {
    "duration": 0,
    "start_time": "2022-06-21T11:21:16.197Z"
   },
   {
    "duration": 0,
    "start_time": "2022-06-21T11:21:16.198Z"
   },
   {
    "duration": 0,
    "start_time": "2022-06-21T11:21:16.198Z"
   },
   {
    "duration": 0,
    "start_time": "2022-06-21T11:21:16.200Z"
   },
   {
    "duration": 1018,
    "start_time": "2022-06-21T11:21:55.987Z"
   },
   {
    "duration": 78,
    "start_time": "2022-06-21T11:21:57.007Z"
   },
   {
    "duration": 6,
    "start_time": "2022-06-21T11:21:57.087Z"
   },
   {
    "duration": 31,
    "start_time": "2022-06-21T11:21:57.095Z"
   },
   {
    "duration": 8,
    "start_time": "2022-06-21T11:21:57.127Z"
   },
   {
    "duration": 40,
    "start_time": "2022-06-21T11:21:57.136Z"
   },
   {
    "duration": 9,
    "start_time": "2022-06-21T11:21:57.177Z"
   },
   {
    "duration": 8,
    "start_time": "2022-06-21T11:21:57.188Z"
   },
   {
    "duration": 8,
    "start_time": "2022-06-21T11:21:57.198Z"
   },
   {
    "duration": 4,
    "start_time": "2022-06-21T11:21:57.209Z"
   },
   {
    "duration": 5,
    "start_time": "2022-06-21T11:21:57.215Z"
   },
   {
    "duration": 11,
    "start_time": "2022-06-21T11:21:57.221Z"
   },
   {
    "duration": 38,
    "start_time": "2022-06-21T11:21:57.234Z"
   },
   {
    "duration": 6,
    "start_time": "2022-06-21T11:21:57.274Z"
   },
   {
    "duration": 11,
    "start_time": "2022-06-21T11:21:57.281Z"
   },
   {
    "duration": 44,
    "start_time": "2022-06-21T11:21:57.293Z"
   },
   {
    "duration": 33,
    "start_time": "2022-06-21T11:21:57.338Z"
   },
   {
    "duration": 18,
    "start_time": "2022-06-21T11:21:57.372Z"
   },
   {
    "duration": 165,
    "start_time": "2022-06-21T11:21:57.392Z"
   },
   {
    "duration": 20,
    "start_time": "2022-06-21T11:21:57.559Z"
   },
   {
    "duration": 218,
    "start_time": "2022-06-21T11:21:57.581Z"
   },
   {
    "duration": 11,
    "start_time": "2022-06-21T11:21:57.801Z"
   },
   {
    "duration": 56,
    "start_time": "2022-06-21T11:21:57.814Z"
   },
   {
    "duration": 16,
    "start_time": "2022-06-21T11:21:57.872Z"
   },
   {
    "duration": 6,
    "start_time": "2022-06-21T11:21:57.890Z"
   },
   {
    "duration": 272,
    "start_time": "2022-06-21T11:21:57.898Z"
   },
   {
    "duration": 19,
    "start_time": "2022-06-21T11:21:58.172Z"
   },
   {
    "duration": 27,
    "start_time": "2022-06-21T11:21:58.195Z"
   },
   {
    "duration": 219,
    "start_time": "2022-06-21T11:21:58.224Z"
   },
   {
    "duration": 204,
    "start_time": "2022-06-21T11:21:58.445Z"
   },
   {
    "duration": 2,
    "start_time": "2022-06-21T11:21:58.651Z"
   },
   {
    "duration": 130,
    "start_time": "2022-06-21T11:21:58.654Z"
   },
   {
    "duration": 159,
    "start_time": "2022-06-21T11:21:58.786Z"
   },
   {
    "duration": 220,
    "start_time": "2022-06-21T11:21:58.948Z"
   },
   {
    "duration": 457,
    "start_time": "2022-06-21T11:21:59.170Z"
   },
   {
    "duration": 234,
    "start_time": "2022-06-21T11:22:42.557Z"
   },
   {
    "duration": 167,
    "start_time": "2022-06-21T11:24:11.568Z"
   },
   {
    "duration": 137,
    "start_time": "2022-06-21T11:24:16.972Z"
   },
   {
    "duration": 3,
    "start_time": "2022-06-21T11:34:51.477Z"
   },
   {
    "duration": 43,
    "start_time": "2022-06-21T11:34:54.479Z"
   },
   {
    "duration": 17,
    "start_time": "2022-06-21T11:34:55.495Z"
   },
   {
    "duration": 5,
    "start_time": "2022-06-21T11:34:55.872Z"
   },
   {
    "duration": 225,
    "start_time": "2022-06-21T11:34:56.472Z"
   },
   {
    "duration": 4,
    "start_time": "2022-06-21T11:35:11.725Z"
   },
   {
    "duration": 74,
    "start_time": "2022-06-21T11:35:11.903Z"
   },
   {
    "duration": 7,
    "start_time": "2022-06-21T11:35:12.595Z"
   },
   {
    "duration": 48,
    "start_time": "2022-06-21T11:35:12.784Z"
   },
   {
    "duration": 15,
    "start_time": "2022-06-21T11:35:13.134Z"
   },
   {
    "duration": 28,
    "start_time": "2022-06-21T11:35:13.310Z"
   },
   {
    "duration": 9,
    "start_time": "2022-06-21T11:35:13.693Z"
   },
   {
    "duration": 9,
    "start_time": "2022-06-21T11:35:13.838Z"
   },
   {
    "duration": 7,
    "start_time": "2022-06-21T11:35:13.998Z"
   },
   {
    "duration": 6,
    "start_time": "2022-06-21T11:35:14.178Z"
   },
   {
    "duration": 4,
    "start_time": "2022-06-21T11:35:14.343Z"
   },
   {
    "duration": 11,
    "start_time": "2022-06-21T11:35:14.510Z"
   },
   {
    "duration": 13,
    "start_time": "2022-06-21T11:35:14.875Z"
   },
   {
    "duration": 5,
    "start_time": "2022-06-21T11:35:15.048Z"
   },
   {
    "duration": 9,
    "start_time": "2022-06-21T11:35:15.243Z"
   },
   {
    "duration": 77,
    "start_time": "2022-06-21T11:35:15.433Z"
   },
   {
    "duration": 7,
    "start_time": "2022-06-21T11:35:15.809Z"
   },
   {
    "duration": 15,
    "start_time": "2022-06-21T11:35:15.993Z"
   },
   {
    "duration": 159,
    "start_time": "2022-06-21T11:35:16.547Z"
   },
   {
    "duration": 13,
    "start_time": "2022-06-21T11:35:17.332Z"
   },
   {
    "duration": 237,
    "start_time": "2022-06-21T11:35:17.539Z"
   },
   {
    "duration": 12,
    "start_time": "2022-06-21T11:35:17.778Z"
   },
   {
    "duration": 3,
    "start_time": "2022-06-21T11:35:18.178Z"
   },
   {
    "duration": 49,
    "start_time": "2022-06-21T11:35:18.372Z"
   },
   {
    "duration": 26,
    "start_time": "2022-06-21T11:35:18.805Z"
   },
   {
    "duration": 9,
    "start_time": "2022-06-21T11:35:19.080Z"
   },
   {
    "duration": 237,
    "start_time": "2022-06-21T11:35:19.342Z"
   },
   {
    "duration": 3,
    "start_time": "2022-06-21T11:37:17.005Z"
   },
   {
    "duration": 42,
    "start_time": "2022-06-21T11:37:17.397Z"
   },
   {
    "duration": 15,
    "start_time": "2022-06-21T11:37:17.822Z"
   },
   {
    "duration": 5,
    "start_time": "2022-06-21T11:37:18.038Z"
   },
   {
    "duration": 234,
    "start_time": "2022-06-21T11:37:18.310Z"
   },
   {
    "duration": 5,
    "start_time": "2022-06-21T11:38:49.205Z"
   },
   {
    "duration": 221,
    "start_time": "2022-06-21T11:38:49.724Z"
   },
   {
    "duration": 19,
    "start_time": "2022-06-21T11:42:03.184Z"
   },
   {
    "duration": 19,
    "start_time": "2022-06-21T11:42:06.730Z"
   },
   {
    "duration": 28,
    "start_time": "2022-06-21T11:42:24.073Z"
   },
   {
    "duration": 9,
    "start_time": "2022-06-21T11:42:29.703Z"
   },
   {
    "duration": 197,
    "start_time": "2022-06-21T11:42:30.821Z"
   },
   {
    "duration": 50,
    "start_time": "2022-06-21T11:43:15.926Z"
   },
   {
    "duration": 46,
    "start_time": "2022-06-21T11:43:25.981Z"
   },
   {
    "duration": 90,
    "start_time": "2022-06-21T11:43:32.774Z"
   },
   {
    "duration": 275,
    "start_time": "2022-06-21T11:43:42.195Z"
   },
   {
    "duration": 130,
    "start_time": "2022-06-21T11:44:17.715Z"
   },
   {
    "duration": 125,
    "start_time": "2022-06-21T11:44:24.511Z"
   },
   {
    "duration": 52,
    "start_time": "2022-06-21T11:46:01.084Z"
   },
   {
    "duration": 142,
    "start_time": "2022-06-21T11:46:11.073Z"
   },
   {
    "duration": 11,
    "start_time": "2022-06-21T11:47:09.439Z"
   },
   {
    "duration": 198,
    "start_time": "2022-06-21T11:47:46.277Z"
   },
   {
    "duration": 182,
    "start_time": "2022-06-21T11:48:09.138Z"
   },
   {
    "duration": 176,
    "start_time": "2022-06-21T11:48:15.906Z"
   },
   {
    "duration": 225,
    "start_time": "2022-06-21T11:48:42.930Z"
   },
   {
    "duration": 173,
    "start_time": "2022-06-21T11:48:47.682Z"
   },
   {
    "duration": 259,
    "start_time": "2022-06-21T11:49:56.053Z"
   },
   {
    "duration": 162,
    "start_time": "2022-06-21T11:50:07.021Z"
   },
   {
    "duration": 153,
    "start_time": "2022-06-21T11:50:14.388Z"
   },
   {
    "duration": 33,
    "start_time": "2022-06-21T11:50:24.912Z"
   },
   {
    "duration": 89,
    "start_time": "2022-06-21T11:52:13.945Z"
   },
   {
    "duration": 27,
    "start_time": "2022-06-21T11:52:20.686Z"
   },
   {
    "duration": 19,
    "start_time": "2022-06-21T11:52:34.224Z"
   },
   {
    "duration": 20,
    "start_time": "2022-06-21T11:52:39.857Z"
   },
   {
    "duration": 23,
    "start_time": "2022-06-21T11:52:45.444Z"
   },
   {
    "duration": 23,
    "start_time": "2022-06-21T11:52:58.618Z"
   },
   {
    "duration": 161,
    "start_time": "2022-06-21T11:52:59.106Z"
   },
   {
    "duration": 25,
    "start_time": "2022-06-21T11:53:12.640Z"
   },
   {
    "duration": 160,
    "start_time": "2022-06-21T11:53:13.214Z"
   },
   {
    "duration": 39,
    "start_time": "2022-06-21T11:53:13.695Z"
   },
   {
    "duration": 4,
    "start_time": "2022-06-21T11:54:01.207Z"
   },
   {
    "duration": 1025,
    "start_time": "2022-06-21T11:54:04.521Z"
   },
   {
    "duration": 85,
    "start_time": "2022-06-21T11:54:05.548Z"
   },
   {
    "duration": 5,
    "start_time": "2022-06-21T11:54:05.634Z"
   },
   {
    "duration": 29,
    "start_time": "2022-06-21T11:54:05.641Z"
   },
   {
    "duration": 8,
    "start_time": "2022-06-21T11:54:05.672Z"
   },
   {
    "duration": 17,
    "start_time": "2022-06-21T11:54:05.682Z"
   },
   {
    "duration": 9,
    "start_time": "2022-06-21T11:54:05.701Z"
   },
   {
    "duration": 7,
    "start_time": "2022-06-21T11:54:05.712Z"
   },
   {
    "duration": 5,
    "start_time": "2022-06-21T11:54:05.720Z"
   },
   {
    "duration": 4,
    "start_time": "2022-06-21T11:54:05.728Z"
   },
   {
    "duration": 34,
    "start_time": "2022-06-21T11:54:05.733Z"
   },
   {
    "duration": 9,
    "start_time": "2022-06-21T11:54:05.769Z"
   },
   {
    "duration": 15,
    "start_time": "2022-06-21T11:54:05.779Z"
   },
   {
    "duration": 5,
    "start_time": "2022-06-21T11:54:05.796Z"
   },
   {
    "duration": 17,
    "start_time": "2022-06-21T11:54:05.803Z"
   },
   {
    "duration": 62,
    "start_time": "2022-06-21T11:54:05.822Z"
   },
   {
    "duration": 4,
    "start_time": "2022-06-21T11:54:05.886Z"
   },
   {
    "duration": 20,
    "start_time": "2022-06-21T11:54:05.892Z"
   },
   {
    "duration": 159,
    "start_time": "2022-06-21T11:54:05.913Z"
   },
   {
    "duration": 11,
    "start_time": "2022-06-21T11:54:06.074Z"
   },
   {
    "duration": 222,
    "start_time": "2022-06-21T11:54:06.086Z"
   },
   {
    "duration": 11,
    "start_time": "2022-06-21T11:54:06.309Z"
   },
   {
    "duration": 14,
    "start_time": "2022-06-21T11:54:06.322Z"
   },
   {
    "duration": 46,
    "start_time": "2022-06-21T11:54:06.337Z"
   },
   {
    "duration": 16,
    "start_time": "2022-06-21T11:54:06.384Z"
   },
   {
    "duration": 5,
    "start_time": "2022-06-21T11:54:06.401Z"
   },
   {
    "duration": 255,
    "start_time": "2022-06-21T11:54:06.407Z"
   },
   {
    "duration": 17,
    "start_time": "2022-06-21T11:54:06.665Z"
   },
   {
    "duration": 7,
    "start_time": "2022-06-21T11:54:06.684Z"
   },
   {
    "duration": 126,
    "start_time": "2022-06-21T11:54:06.693Z"
   },
   {
    "duration": 100,
    "start_time": "2022-06-21T11:54:06.820Z"
   },
   {
    "duration": 0,
    "start_time": "2022-06-21T11:54:06.921Z"
   },
   {
    "duration": 0,
    "start_time": "2022-06-21T11:54:06.922Z"
   },
   {
    "duration": 0,
    "start_time": "2022-06-21T11:54:06.923Z"
   },
   {
    "duration": 0,
    "start_time": "2022-06-21T11:54:06.924Z"
   },
   {
    "duration": 152,
    "start_time": "2022-06-21T11:54:16.697Z"
   },
   {
    "duration": 134,
    "start_time": "2022-06-21T11:54:20.100Z"
   },
   {
    "duration": 17,
    "start_time": "2022-06-21T11:56:58.411Z"
   },
   {
    "duration": 7,
    "start_time": "2022-06-21T11:58:10.692Z"
   },
   {
    "duration": 119,
    "start_time": "2022-06-21T11:58:11.006Z"
   },
   {
    "duration": 1106,
    "start_time": "2022-06-21T11:58:21.941Z"
   },
   {
    "duration": 80,
    "start_time": "2022-06-21T11:58:23.049Z"
   },
   {
    "duration": 6,
    "start_time": "2022-06-21T11:58:23.130Z"
   },
   {
    "duration": 27,
    "start_time": "2022-06-21T11:58:23.137Z"
   },
   {
    "duration": 8,
    "start_time": "2022-06-21T11:58:23.166Z"
   },
   {
    "duration": 18,
    "start_time": "2022-06-21T11:58:23.176Z"
   },
   {
    "duration": 8,
    "start_time": "2022-06-21T11:58:23.196Z"
   },
   {
    "duration": 10,
    "start_time": "2022-06-21T11:58:23.205Z"
   },
   {
    "duration": 5,
    "start_time": "2022-06-21T11:58:23.216Z"
   },
   {
    "duration": 4,
    "start_time": "2022-06-21T11:58:23.224Z"
   },
   {
    "duration": 7,
    "start_time": "2022-06-21T11:58:23.229Z"
   },
   {
    "duration": 34,
    "start_time": "2022-06-21T11:58:23.237Z"
   },
   {
    "duration": 12,
    "start_time": "2022-06-21T11:58:23.273Z"
   },
   {
    "duration": 5,
    "start_time": "2022-06-21T11:58:23.287Z"
   },
   {
    "duration": 10,
    "start_time": "2022-06-21T11:58:23.293Z"
   },
   {
    "duration": 70,
    "start_time": "2022-06-21T11:58:23.305Z"
   },
   {
    "duration": 4,
    "start_time": "2022-06-21T11:58:23.377Z"
   },
   {
    "duration": 15,
    "start_time": "2022-06-21T11:58:23.383Z"
   },
   {
    "duration": 169,
    "start_time": "2022-06-21T11:58:23.400Z"
   },
   {
    "duration": 11,
    "start_time": "2022-06-21T11:58:23.570Z"
   },
   {
    "duration": 216,
    "start_time": "2022-06-21T11:58:23.582Z"
   },
   {
    "duration": 12,
    "start_time": "2022-06-21T11:58:23.799Z"
   },
   {
    "duration": 4,
    "start_time": "2022-06-21T11:58:23.812Z"
   },
   {
    "duration": 54,
    "start_time": "2022-06-21T11:58:23.818Z"
   },
   {
    "duration": 15,
    "start_time": "2022-06-21T11:58:23.873Z"
   },
   {
    "duration": 5,
    "start_time": "2022-06-21T11:58:23.889Z"
   },
   {
    "duration": 274,
    "start_time": "2022-06-21T11:58:23.896Z"
   },
   {
    "duration": 17,
    "start_time": "2022-06-21T11:58:24.173Z"
   },
   {
    "duration": 8,
    "start_time": "2022-06-21T11:58:24.191Z"
   },
   {
    "duration": 130,
    "start_time": "2022-06-21T11:58:24.201Z"
   },
   {
    "duration": 6,
    "start_time": "2022-06-21T11:58:24.332Z"
   },
   {
    "duration": 130,
    "start_time": "2022-06-21T11:58:24.339Z"
   },
   {
    "duration": 142,
    "start_time": "2022-06-21T11:58:24.471Z"
   },
   {
    "duration": 144,
    "start_time": "2022-06-21T11:58:24.616Z"
   },
   {
    "duration": 176,
    "start_time": "2022-06-21T11:58:24.762Z"
   },
   {
    "duration": 463,
    "start_time": "2022-06-21T11:58:24.940Z"
   },
   {
    "duration": 97,
    "start_time": "2022-06-21T11:59:38.203Z"
   },
   {
    "duration": 14,
    "start_time": "2022-06-21T11:59:38.687Z"
   },
   {
    "duration": 1111,
    "start_time": "2022-06-21T11:59:45.463Z"
   },
   {
    "duration": 83,
    "start_time": "2022-06-21T11:59:46.576Z"
   },
   {
    "duration": 6,
    "start_time": "2022-06-21T11:59:46.660Z"
   },
   {
    "duration": 34,
    "start_time": "2022-06-21T11:59:46.668Z"
   },
   {
    "duration": 9,
    "start_time": "2022-06-21T11:59:46.704Z"
   },
   {
    "duration": 31,
    "start_time": "2022-06-21T11:59:46.714Z"
   },
   {
    "duration": 10,
    "start_time": "2022-06-21T11:59:46.747Z"
   },
   {
    "duration": 15,
    "start_time": "2022-06-21T11:59:46.759Z"
   },
   {
    "duration": 6,
    "start_time": "2022-06-21T11:59:46.776Z"
   },
   {
    "duration": 12,
    "start_time": "2022-06-21T11:59:46.783Z"
   },
   {
    "duration": 7,
    "start_time": "2022-06-21T11:59:46.796Z"
   },
   {
    "duration": 15,
    "start_time": "2022-06-21T11:59:46.805Z"
   },
   {
    "duration": 15,
    "start_time": "2022-06-21T11:59:46.821Z"
   },
   {
    "duration": 5,
    "start_time": "2022-06-21T11:59:46.839Z"
   },
   {
    "duration": 23,
    "start_time": "2022-06-21T11:59:46.846Z"
   },
   {
    "duration": 58,
    "start_time": "2022-06-21T11:59:46.871Z"
   },
   {
    "duration": 5,
    "start_time": "2022-06-21T11:59:46.931Z"
   },
   {
    "duration": 31,
    "start_time": "2022-06-21T11:59:46.938Z"
   },
   {
    "duration": 181,
    "start_time": "2022-06-21T11:59:46.971Z"
   },
   {
    "duration": 15,
    "start_time": "2022-06-21T11:59:47.154Z"
   },
   {
    "duration": 242,
    "start_time": "2022-06-21T11:59:47.171Z"
   },
   {
    "duration": 12,
    "start_time": "2022-06-21T11:59:47.414Z"
   },
   {
    "duration": 3,
    "start_time": "2022-06-21T11:59:47.429Z"
   },
   {
    "duration": 57,
    "start_time": "2022-06-21T11:59:47.434Z"
   },
   {
    "duration": 17,
    "start_time": "2022-06-21T11:59:47.492Z"
   },
   {
    "duration": 6,
    "start_time": "2022-06-21T11:59:47.510Z"
   },
   {
    "duration": 276,
    "start_time": "2022-06-21T11:59:47.518Z"
   },
   {
    "duration": 19,
    "start_time": "2022-06-21T11:59:47.796Z"
   },
   {
    "duration": 9,
    "start_time": "2022-06-21T11:59:47.817Z"
   },
   {
    "duration": 127,
    "start_time": "2022-06-21T11:59:47.827Z"
   },
   {
    "duration": 93,
    "start_time": "2022-06-21T11:59:47.956Z"
   },
   {
    "duration": 0,
    "start_time": "2022-06-21T11:59:48.051Z"
   },
   {
    "duration": 0,
    "start_time": "2022-06-21T11:59:48.052Z"
   },
   {
    "duration": 0,
    "start_time": "2022-06-21T11:59:48.053Z"
   },
   {
    "duration": 0,
    "start_time": "2022-06-21T11:59:48.054Z"
   },
   {
    "duration": 0,
    "start_time": "2022-06-21T11:59:48.055Z"
   },
   {
    "duration": 9,
    "start_time": "2022-06-21T12:00:20.927Z"
   },
   {
    "duration": 9,
    "start_time": "2022-06-21T12:00:36.319Z"
   },
   {
    "duration": 10,
    "start_time": "2022-06-21T12:01:00.943Z"
   },
   {
    "duration": 1068,
    "start_time": "2022-06-21T12:01:17.687Z"
   },
   {
    "duration": 78,
    "start_time": "2022-06-21T12:01:18.757Z"
   },
   {
    "duration": 5,
    "start_time": "2022-06-21T12:01:18.836Z"
   },
   {
    "duration": 57,
    "start_time": "2022-06-21T12:01:18.842Z"
   },
   {
    "duration": 13,
    "start_time": "2022-06-21T12:01:18.902Z"
   },
   {
    "duration": 32,
    "start_time": "2022-06-21T12:01:18.917Z"
   },
   {
    "duration": 20,
    "start_time": "2022-06-21T12:01:18.951Z"
   },
   {
    "duration": 12,
    "start_time": "2022-06-21T12:01:18.973Z"
   },
   {
    "duration": 7,
    "start_time": "2022-06-21T12:01:18.988Z"
   },
   {
    "duration": 9,
    "start_time": "2022-06-21T12:01:18.998Z"
   },
   {
    "duration": 13,
    "start_time": "2022-06-21T12:01:19.009Z"
   },
   {
    "duration": 16,
    "start_time": "2022-06-21T12:01:19.024Z"
   },
   {
    "duration": 15,
    "start_time": "2022-06-21T12:01:19.042Z"
   },
   {
    "duration": 6,
    "start_time": "2022-06-21T12:01:19.069Z"
   },
   {
    "duration": 19,
    "start_time": "2022-06-21T12:01:19.077Z"
   },
   {
    "duration": 60,
    "start_time": "2022-06-21T12:01:19.098Z"
   },
   {
    "duration": 9,
    "start_time": "2022-06-21T12:01:19.159Z"
   },
   {
    "duration": 20,
    "start_time": "2022-06-21T12:01:19.170Z"
   },
   {
    "duration": 166,
    "start_time": "2022-06-21T12:01:19.192Z"
   },
   {
    "duration": 16,
    "start_time": "2022-06-21T12:01:19.360Z"
   },
   {
    "duration": 235,
    "start_time": "2022-06-21T12:01:19.378Z"
   },
   {
    "duration": 11,
    "start_time": "2022-06-21T12:01:19.615Z"
   },
   {
    "duration": 4,
    "start_time": "2022-06-21T12:01:19.628Z"
   },
   {
    "duration": 50,
    "start_time": "2022-06-21T12:01:19.634Z"
   },
   {
    "duration": 14,
    "start_time": "2022-06-21T12:01:19.686Z"
   },
   {
    "duration": 4,
    "start_time": "2022-06-21T12:01:19.702Z"
   },
   {
    "duration": 257,
    "start_time": "2022-06-21T12:01:19.708Z"
   },
   {
    "duration": 18,
    "start_time": "2022-06-21T12:01:19.967Z"
   },
   {
    "duration": 3,
    "start_time": "2022-06-21T12:01:19.986Z"
   },
   {
    "duration": 110,
    "start_time": "2022-06-21T12:01:19.990Z"
   },
   {
    "duration": 0,
    "start_time": "2022-06-21T12:01:20.102Z"
   },
   {
    "duration": 0,
    "start_time": "2022-06-21T12:01:20.103Z"
   },
   {
    "duration": 0,
    "start_time": "2022-06-21T12:01:20.104Z"
   },
   {
    "duration": 0,
    "start_time": "2022-06-21T12:01:20.105Z"
   },
   {
    "duration": 0,
    "start_time": "2022-06-21T12:01:20.106Z"
   },
   {
    "duration": 0,
    "start_time": "2022-06-21T12:01:20.107Z"
   },
   {
    "duration": 13,
    "start_time": "2022-06-21T12:02:14.471Z"
   },
   {
    "duration": 3,
    "start_time": "2022-06-21T12:02:17.387Z"
   },
   {
    "duration": 16,
    "start_time": "2022-06-21T12:02:17.891Z"
   },
   {
    "duration": 14,
    "start_time": "2022-06-21T12:02:50.423Z"
   },
   {
    "duration": 3,
    "start_time": "2022-06-21T12:03:37.170Z"
   },
   {
    "duration": 45,
    "start_time": "2022-06-21T12:03:37.552Z"
   },
   {
    "duration": 17,
    "start_time": "2022-06-21T12:03:38.090Z"
   },
   {
    "duration": 5,
    "start_time": "2022-06-21T12:03:38.330Z"
   },
   {
    "duration": 245,
    "start_time": "2022-06-21T12:03:38.547Z"
   },
   {
    "duration": 13,
    "start_time": "2022-06-21T12:03:43.247Z"
   },
   {
    "duration": 2,
    "start_time": "2022-06-21T12:03:44.400Z"
   },
   {
    "duration": 16,
    "start_time": "2022-06-21T12:03:44.871Z"
   },
   {
    "duration": 148,
    "start_time": "2022-06-21T12:04:15.717Z"
   },
   {
    "duration": 12,
    "start_time": "2022-06-21T12:04:16.628Z"
   },
   {
    "duration": 229,
    "start_time": "2022-06-21T12:04:16.813Z"
   },
   {
    "duration": 12,
    "start_time": "2022-06-21T12:04:17.119Z"
   },
   {
    "duration": 2,
    "start_time": "2022-06-21T12:04:17.782Z"
   },
   {
    "duration": 39,
    "start_time": "2022-06-21T12:04:18.539Z"
   },
   {
    "duration": 17,
    "start_time": "2022-06-21T12:04:19.655Z"
   },
   {
    "duration": 5,
    "start_time": "2022-06-21T12:04:20.190Z"
   },
   {
    "duration": 217,
    "start_time": "2022-06-21T12:04:20.488Z"
   },
   {
    "duration": 13,
    "start_time": "2022-06-21T12:04:23.342Z"
   },
   {
    "duration": 3,
    "start_time": "2022-06-21T12:04:24.326Z"
   },
   {
    "duration": 10,
    "start_time": "2022-06-21T12:04:46.691Z"
   },
   {
    "duration": 15,
    "start_time": "2022-06-21T12:04:47.153Z"
   },
   {
    "duration": 19,
    "start_time": "2022-06-21T12:05:06.969Z"
   },
   {
    "duration": 8,
    "start_time": "2022-06-21T12:05:07.814Z"
   },
   {
    "duration": 118,
    "start_time": "2022-06-21T12:05:08.119Z"
   },
   {
    "duration": 12,
    "start_time": "2022-06-21T12:05:12.625Z"
   },
   {
    "duration": 8,
    "start_time": "2022-06-21T12:05:17.842Z"
   },
   {
    "duration": 270,
    "start_time": "2022-06-21T12:05:18.743Z"
   },
   {
    "duration": 116,
    "start_time": "2022-06-21T12:05:29.239Z"
   },
   {
    "duration": 120,
    "start_time": "2022-06-21T12:05:37.018Z"
   },
   {
    "duration": 123,
    "start_time": "2022-06-21T12:05:37.619Z"
   },
   {
    "duration": 232,
    "start_time": "2022-06-21T12:05:38.882Z"
   },
   {
    "duration": 411,
    "start_time": "2022-06-21T12:05:39.605Z"
   },
   {
    "duration": 5,
    "start_time": "2022-06-21T12:12:47.193Z"
   },
   {
    "duration": 6,
    "start_time": "2022-06-21T12:12:55.571Z"
   },
   {
    "duration": 126,
    "start_time": "2022-06-21T12:13:04.676Z"
   },
   {
    "duration": 9,
    "start_time": "2022-06-21T12:13:05.383Z"
   },
   {
    "duration": 130,
    "start_time": "2022-06-21T12:13:05.978Z"
   },
   {
    "duration": 4,
    "start_time": "2022-06-22T06:26:27.018Z"
   },
   {
    "duration": 101,
    "start_time": "2022-06-22T06:26:27.313Z"
   },
   {
    "duration": 1704,
    "start_time": "2022-06-22T06:26:35.908Z"
   },
   {
    "duration": 231,
    "start_time": "2022-06-22T06:26:37.614Z"
   },
   {
    "duration": 14,
    "start_time": "2022-06-22T06:26:37.847Z"
   },
   {
    "duration": 121,
    "start_time": "2022-06-22T06:26:37.879Z"
   },
   {
    "duration": 39,
    "start_time": "2022-06-22T06:26:38.002Z"
   },
   {
    "duration": 43,
    "start_time": "2022-06-22T06:26:38.042Z"
   },
   {
    "duration": 76,
    "start_time": "2022-06-22T06:26:38.087Z"
   },
   {
    "duration": 149,
    "start_time": "2022-06-22T06:26:38.165Z"
   },
   {
    "duration": 10,
    "start_time": "2022-06-22T06:26:38.324Z"
   },
   {
    "duration": 13,
    "start_time": "2022-06-22T06:26:38.337Z"
   },
   {
    "duration": 84,
    "start_time": "2022-06-22T06:26:38.357Z"
   },
   {
    "duration": 89,
    "start_time": "2022-06-22T06:26:38.443Z"
   },
   {
    "duration": 24,
    "start_time": "2022-06-22T06:26:38.534Z"
   },
   {
    "duration": 8,
    "start_time": "2022-06-22T06:26:38.559Z"
   },
   {
    "duration": 61,
    "start_time": "2022-06-22T06:26:38.568Z"
   },
   {
    "duration": 77,
    "start_time": "2022-06-22T06:26:38.631Z"
   },
   {
    "duration": 11,
    "start_time": "2022-06-22T06:26:38.717Z"
   },
   {
    "duration": 32,
    "start_time": "2022-06-22T06:26:38.730Z"
   },
   {
    "duration": 251,
    "start_time": "2022-06-22T06:26:38.764Z"
   },
   {
    "duration": 13,
    "start_time": "2022-06-22T06:26:39.017Z"
   },
   {
    "duration": 279,
    "start_time": "2022-06-22T06:26:39.031Z"
   },
   {
    "duration": 14,
    "start_time": "2022-06-22T06:26:39.312Z"
   },
   {
    "duration": 5,
    "start_time": "2022-06-22T06:26:39.328Z"
   },
   {
    "duration": 65,
    "start_time": "2022-06-22T06:26:39.335Z"
   },
   {
    "duration": 55,
    "start_time": "2022-06-22T06:26:39.404Z"
   },
   {
    "duration": 23,
    "start_time": "2022-06-22T06:26:39.462Z"
   },
   {
    "duration": 479,
    "start_time": "2022-06-22T06:26:39.501Z"
   },
   {
    "duration": 34,
    "start_time": "2022-06-22T06:26:39.986Z"
   },
   {
    "duration": 9,
    "start_time": "2022-06-22T06:26:40.022Z"
   },
   {
    "duration": 160,
    "start_time": "2022-06-22T06:26:40.033Z"
   },
   {
    "duration": 2,
    "start_time": "2022-06-22T06:26:40.195Z"
   },
   {
    "duration": 245,
    "start_time": "2022-06-22T06:26:40.198Z"
   },
   {
    "duration": 0,
    "start_time": "2022-06-22T06:26:40.446Z"
   },
   {
    "duration": 0,
    "start_time": "2022-06-22T06:26:40.447Z"
   },
   {
    "duration": 0,
    "start_time": "2022-06-22T06:26:40.448Z"
   },
   {
    "duration": 0,
    "start_time": "2022-06-22T06:26:40.450Z"
   },
   {
    "duration": 0,
    "start_time": "2022-06-22T06:26:40.451Z"
   },
   {
    "duration": 6,
    "start_time": "2022-06-22T06:27:04.329Z"
   },
   {
    "duration": 163,
    "start_time": "2022-06-22T06:27:04.780Z"
   },
   {
    "duration": 322,
    "start_time": "2022-06-22T06:39:15.773Z"
   },
   {
    "duration": 6,
    "start_time": "2022-06-22T06:39:51.912Z"
   },
   {
    "duration": 231,
    "start_time": "2022-06-22T06:39:52.594Z"
   },
   {
    "duration": 5,
    "start_time": "2022-06-22T06:40:01.590Z"
   },
   {
    "duration": 298,
    "start_time": "2022-06-22T06:40:02.423Z"
   },
   {
    "duration": 17,
    "start_time": "2022-06-22T06:40:05.471Z"
   },
   {
    "duration": 5,
    "start_time": "2022-06-22T06:40:05.893Z"
   },
   {
    "duration": 313,
    "start_time": "2022-06-22T06:40:06.282Z"
   },
   {
    "duration": 12,
    "start_time": "2022-06-22T06:41:03.306Z"
   },
   {
    "duration": 4,
    "start_time": "2022-06-22T06:41:03.818Z"
   },
   {
    "duration": 229,
    "start_time": "2022-06-22T06:41:04.291Z"
   },
   {
    "duration": 10,
    "start_time": "2022-06-22T06:41:34.420Z"
   },
   {
    "duration": 5,
    "start_time": "2022-06-22T06:41:34.908Z"
   },
   {
    "duration": 206,
    "start_time": "2022-06-22T06:41:35.596Z"
   },
   {
    "duration": 14,
    "start_time": "2022-06-22T06:43:47.476Z"
   },
   {
    "duration": 5,
    "start_time": "2022-06-22T06:43:54.930Z"
   },
   {
    "duration": 5,
    "start_time": "2022-06-22T06:44:05.227Z"
   },
   {
    "duration": 227,
    "start_time": "2022-06-22T06:44:05.672Z"
   },
   {
    "duration": 1156,
    "start_time": "2022-06-22T06:44:19.511Z"
   },
   {
    "duration": 88,
    "start_time": "2022-06-22T06:44:20.669Z"
   },
   {
    "duration": 7,
    "start_time": "2022-06-22T06:44:20.761Z"
   },
   {
    "duration": 78,
    "start_time": "2022-06-22T06:44:20.769Z"
   },
   {
    "duration": 68,
    "start_time": "2022-06-22T06:44:20.849Z"
   },
   {
    "duration": 51,
    "start_time": "2022-06-22T06:44:20.919Z"
   },
   {
    "duration": 29,
    "start_time": "2022-06-22T06:44:20.976Z"
   },
   {
    "duration": 21,
    "start_time": "2022-06-22T06:44:21.008Z"
   },
   {
    "duration": 18,
    "start_time": "2022-06-22T06:44:21.031Z"
   },
   {
    "duration": 53,
    "start_time": "2022-06-22T06:44:21.050Z"
   },
   {
    "duration": 7,
    "start_time": "2022-06-22T06:44:21.105Z"
   },
   {
    "duration": 14,
    "start_time": "2022-06-22T06:44:21.113Z"
   },
   {
    "duration": 16,
    "start_time": "2022-06-22T06:44:21.129Z"
   },
   {
    "duration": 18,
    "start_time": "2022-06-22T06:44:21.147Z"
   },
   {
    "duration": 22,
    "start_time": "2022-06-22T06:44:21.173Z"
   },
   {
    "duration": 52,
    "start_time": "2022-06-22T06:44:21.197Z"
   },
   {
    "duration": 9,
    "start_time": "2022-06-22T06:44:21.252Z"
   },
   {
    "duration": 59,
    "start_time": "2022-06-22T06:44:21.263Z"
   },
   {
    "duration": 243,
    "start_time": "2022-06-22T06:44:21.323Z"
   },
   {
    "duration": 15,
    "start_time": "2022-06-22T06:44:21.567Z"
   },
   {
    "duration": 274,
    "start_time": "2022-06-22T06:44:21.584Z"
   },
   {
    "duration": 16,
    "start_time": "2022-06-22T06:44:21.860Z"
   },
   {
    "duration": 35,
    "start_time": "2022-06-22T06:44:21.877Z"
   },
   {
    "duration": 55,
    "start_time": "2022-06-22T06:44:21.914Z"
   },
   {
    "duration": 104,
    "start_time": "2022-06-22T06:44:21.971Z"
   },
   {
    "duration": 0,
    "start_time": "2022-06-22T06:44:22.077Z"
   },
   {
    "duration": 0,
    "start_time": "2022-06-22T06:44:22.078Z"
   },
   {
    "duration": 0,
    "start_time": "2022-06-22T06:44:22.079Z"
   },
   {
    "duration": 0,
    "start_time": "2022-06-22T06:44:22.080Z"
   },
   {
    "duration": 1,
    "start_time": "2022-06-22T06:44:22.080Z"
   },
   {
    "duration": 0,
    "start_time": "2022-06-22T06:44:22.081Z"
   },
   {
    "duration": 0,
    "start_time": "2022-06-22T06:44:22.083Z"
   },
   {
    "duration": 1,
    "start_time": "2022-06-22T06:44:22.083Z"
   },
   {
    "duration": 0,
    "start_time": "2022-06-22T06:44:22.088Z"
   },
   {
    "duration": 0,
    "start_time": "2022-06-22T06:44:22.088Z"
   },
   {
    "duration": 0,
    "start_time": "2022-06-22T06:44:22.089Z"
   },
   {
    "duration": 0,
    "start_time": "2022-06-22T06:44:22.090Z"
   },
   {
    "duration": 0,
    "start_time": "2022-06-22T06:44:22.091Z"
   },
   {
    "duration": 1,
    "start_time": "2022-06-22T06:44:22.091Z"
   },
   {
    "duration": 0,
    "start_time": "2022-06-22T06:44:22.092Z"
   },
   {
    "duration": 1179,
    "start_time": "2022-06-22T06:44:55.902Z"
   },
   {
    "duration": 91,
    "start_time": "2022-06-22T06:44:57.083Z"
   },
   {
    "duration": 8,
    "start_time": "2022-06-22T06:44:57.176Z"
   },
   {
    "duration": 50,
    "start_time": "2022-06-22T06:44:57.186Z"
   },
   {
    "duration": 19,
    "start_time": "2022-06-22T06:44:57.239Z"
   },
   {
    "duration": 29,
    "start_time": "2022-06-22T06:44:57.270Z"
   },
   {
    "duration": 9,
    "start_time": "2022-06-22T06:44:57.303Z"
   },
   {
    "duration": 6,
    "start_time": "2022-06-22T06:44:57.313Z"
   },
   {
    "duration": 5,
    "start_time": "2022-06-22T06:44:57.320Z"
   },
   {
    "duration": 5,
    "start_time": "2022-06-22T06:44:57.327Z"
   },
   {
    "duration": 5,
    "start_time": "2022-06-22T06:44:57.333Z"
   },
   {
    "duration": 9,
    "start_time": "2022-06-22T06:44:57.339Z"
   },
   {
    "duration": 36,
    "start_time": "2022-06-22T06:44:57.349Z"
   },
   {
    "duration": 19,
    "start_time": "2022-06-22T06:44:57.390Z"
   },
   {
    "duration": 8,
    "start_time": "2022-06-22T06:44:57.411Z"
   },
   {
    "duration": 43,
    "start_time": "2022-06-22T06:44:57.420Z"
   },
   {
    "duration": 5,
    "start_time": "2022-06-22T06:44:57.464Z"
   },
   {
    "duration": 59,
    "start_time": "2022-06-22T06:44:57.470Z"
   },
   {
    "duration": 175,
    "start_time": "2022-06-22T06:44:57.531Z"
   },
   {
    "duration": 10,
    "start_time": "2022-06-22T06:44:57.709Z"
   },
   {
    "duration": 217,
    "start_time": "2022-06-22T06:44:57.721Z"
   },
   {
    "duration": 13,
    "start_time": "2022-06-22T06:44:57.940Z"
   },
   {
    "duration": 49,
    "start_time": "2022-06-22T06:44:57.954Z"
   },
   {
    "duration": 38,
    "start_time": "2022-06-22T06:44:58.004Z"
   },
   {
    "duration": 136,
    "start_time": "2022-06-22T06:44:58.043Z"
   },
   {
    "duration": 0,
    "start_time": "2022-06-22T06:44:58.181Z"
   },
   {
    "duration": 0,
    "start_time": "2022-06-22T06:44:58.182Z"
   },
   {
    "duration": 0,
    "start_time": "2022-06-22T06:44:58.183Z"
   },
   {
    "duration": 0,
    "start_time": "2022-06-22T06:44:58.184Z"
   },
   {
    "duration": 0,
    "start_time": "2022-06-22T06:44:58.185Z"
   },
   {
    "duration": 0,
    "start_time": "2022-06-22T06:44:58.185Z"
   },
   {
    "duration": 0,
    "start_time": "2022-06-22T06:44:58.186Z"
   },
   {
    "duration": 0,
    "start_time": "2022-06-22T06:44:58.187Z"
   },
   {
    "duration": 0,
    "start_time": "2022-06-22T06:44:58.188Z"
   },
   {
    "duration": 0,
    "start_time": "2022-06-22T06:44:58.189Z"
   },
   {
    "duration": 1,
    "start_time": "2022-06-22T06:44:58.190Z"
   },
   {
    "duration": 0,
    "start_time": "2022-06-22T06:44:58.192Z"
   },
   {
    "duration": 0,
    "start_time": "2022-06-22T06:44:58.193Z"
   },
   {
    "duration": 0,
    "start_time": "2022-06-22T06:44:58.194Z"
   },
   {
    "duration": 0,
    "start_time": "2022-06-22T06:44:58.195Z"
   },
   {
    "duration": 28,
    "start_time": "2022-06-22T06:45:11.731Z"
   },
   {
    "duration": 264,
    "start_time": "2022-06-22T06:45:12.447Z"
   },
   {
    "duration": 20,
    "start_time": "2022-06-22T06:45:12.884Z"
   },
   {
    "duration": 10,
    "start_time": "2022-06-22T06:45:13.578Z"
   },
   {
    "duration": 300,
    "start_time": "2022-06-22T06:45:14.202Z"
   },
   {
    "duration": 14,
    "start_time": "2022-06-22T06:45:45.450Z"
   },
   {
    "duration": 6,
    "start_time": "2022-06-22T06:45:46.286Z"
   },
   {
    "duration": 306,
    "start_time": "2022-06-22T06:45:46.502Z"
   },
   {
    "duration": 27,
    "start_time": "2022-06-22T06:48:37.143Z"
   },
   {
    "duration": 5,
    "start_time": "2022-06-22T06:48:37.839Z"
   },
   {
    "duration": 226,
    "start_time": "2022-06-22T06:48:38.311Z"
   },
   {
    "duration": 43,
    "start_time": "2022-06-22T06:48:46.176Z"
   },
   {
    "duration": 12,
    "start_time": "2022-06-22T06:48:46.849Z"
   },
   {
    "duration": 239,
    "start_time": "2022-06-22T06:48:47.299Z"
   },
   {
    "duration": 20,
    "start_time": "2022-06-22T06:48:47.684Z"
   },
   {
    "duration": 6,
    "start_time": "2022-06-22T06:48:48.172Z"
   },
   {
    "duration": 303,
    "start_time": "2022-06-22T06:48:48.572Z"
   },
   {
    "duration": 23,
    "start_time": "2022-06-22T06:52:50.189Z"
   },
   {
    "duration": 5,
    "start_time": "2022-06-22T06:52:51.301Z"
   },
   {
    "duration": 2,
    "start_time": "2022-06-22T06:52:51.613Z"
   },
   {
    "duration": 24,
    "start_time": "2022-06-22T06:52:52.612Z"
   },
   {
    "duration": 5,
    "start_time": "2022-06-22T06:52:52.890Z"
   },
   {
    "duration": 13,
    "start_time": "2022-06-22T06:52:53.309Z"
   },
   {
    "duration": 4,
    "start_time": "2022-06-22T06:52:53.785Z"
   },
   {
    "duration": 246,
    "start_time": "2022-06-22T06:52:54.285Z"
   },
   {
    "duration": 22,
    "start_time": "2022-06-22T06:53:36.222Z"
   },
   {
    "duration": 240,
    "start_time": "2022-06-22T06:53:36.785Z"
   },
   {
    "duration": 22,
    "start_time": "2022-06-22T06:53:51.385Z"
   },
   {
    "duration": 232,
    "start_time": "2022-06-22T06:53:52.202Z"
   },
   {
    "duration": 8,
    "start_time": "2022-06-22T06:54:06.897Z"
   },
   {
    "duration": 22,
    "start_time": "2022-06-22T06:54:07.246Z"
   },
   {
    "duration": 7,
    "start_time": "2022-06-22T06:54:07.535Z"
   },
   {
    "duration": 260,
    "start_time": "2022-06-22T06:54:07.798Z"
   },
   {
    "duration": 25,
    "start_time": "2022-06-22T06:54:28.632Z"
   },
   {
    "duration": 8,
    "start_time": "2022-06-22T06:54:29.090Z"
   },
   {
    "duration": 259,
    "start_time": "2022-06-22T06:54:29.390Z"
   },
   {
    "duration": 1211,
    "start_time": "2022-06-22T06:54:37.017Z"
   },
   {
    "duration": 119,
    "start_time": "2022-06-22T06:54:38.230Z"
   },
   {
    "duration": 8,
    "start_time": "2022-06-22T06:54:38.350Z"
   },
   {
    "duration": 104,
    "start_time": "2022-06-22T06:54:38.361Z"
   },
   {
    "duration": 16,
    "start_time": "2022-06-22T06:54:38.467Z"
   },
   {
    "duration": 39,
    "start_time": "2022-06-22T06:54:38.484Z"
   },
   {
    "duration": 7,
    "start_time": "2022-06-22T06:54:38.528Z"
   },
   {
    "duration": 12,
    "start_time": "2022-06-22T06:54:38.536Z"
   },
   {
    "duration": 52,
    "start_time": "2022-06-22T06:54:38.550Z"
   },
   {
    "duration": 13,
    "start_time": "2022-06-22T06:54:38.606Z"
   },
   {
    "duration": 7,
    "start_time": "2022-06-22T06:54:38.620Z"
   },
   {
    "duration": 13,
    "start_time": "2022-06-22T06:54:38.628Z"
   },
   {
    "duration": 17,
    "start_time": "2022-06-22T06:54:38.643Z"
   },
   {
    "duration": 33,
    "start_time": "2022-06-22T06:54:38.662Z"
   },
   {
    "duration": 34,
    "start_time": "2022-06-22T06:54:38.699Z"
   },
   {
    "duration": 64,
    "start_time": "2022-06-22T06:54:38.735Z"
   },
   {
    "duration": 15,
    "start_time": "2022-06-22T06:54:38.806Z"
   },
   {
    "duration": 25,
    "start_time": "2022-06-22T06:54:38.823Z"
   },
   {
    "duration": 218,
    "start_time": "2022-06-22T06:54:38.849Z"
   },
   {
    "duration": 17,
    "start_time": "2022-06-22T06:54:39.073Z"
   },
   {
    "duration": 245,
    "start_time": "2022-06-22T06:54:39.097Z"
   },
   {
    "duration": 29,
    "start_time": "2022-06-22T06:54:39.344Z"
   },
   {
    "duration": 161,
    "start_time": "2022-06-22T06:54:39.376Z"
   },
   {
    "duration": 0,
    "start_time": "2022-06-22T06:54:39.539Z"
   },
   {
    "duration": 0,
    "start_time": "2022-06-22T06:54:39.540Z"
   },
   {
    "duration": 0,
    "start_time": "2022-06-22T06:54:39.541Z"
   },
   {
    "duration": 0,
    "start_time": "2022-06-22T06:54:39.542Z"
   },
   {
    "duration": 0,
    "start_time": "2022-06-22T06:54:39.543Z"
   },
   {
    "duration": 0,
    "start_time": "2022-06-22T06:54:39.544Z"
   },
   {
    "duration": 0,
    "start_time": "2022-06-22T06:54:39.545Z"
   },
   {
    "duration": 0,
    "start_time": "2022-06-22T06:54:39.546Z"
   },
   {
    "duration": 0,
    "start_time": "2022-06-22T06:54:39.546Z"
   },
   {
    "duration": 0,
    "start_time": "2022-06-22T06:54:39.547Z"
   },
   {
    "duration": 0,
    "start_time": "2022-06-22T06:54:39.550Z"
   },
   {
    "duration": 0,
    "start_time": "2022-06-22T06:54:39.551Z"
   },
   {
    "duration": 0,
    "start_time": "2022-06-22T06:54:39.552Z"
   },
   {
    "duration": 13,
    "start_time": "2022-06-22T06:54:56.909Z"
   },
   {
    "duration": 54,
    "start_time": "2022-06-22T06:54:57.539Z"
   },
   {
    "duration": 204,
    "start_time": "2022-06-22T06:54:58.101Z"
   },
   {
    "duration": 1329,
    "start_time": "2022-06-22T06:55:06.407Z"
   },
   {
    "duration": 133,
    "start_time": "2022-06-22T06:55:07.739Z"
   },
   {
    "duration": 4,
    "start_time": "2022-06-22T06:55:07.874Z"
   },
   {
    "duration": 87,
    "start_time": "2022-06-22T06:55:07.880Z"
   },
   {
    "duration": 68,
    "start_time": "2022-06-22T06:55:07.968Z"
   },
   {
    "duration": 58,
    "start_time": "2022-06-22T06:55:08.038Z"
   },
   {
    "duration": 41,
    "start_time": "2022-06-22T06:55:08.097Z"
   },
   {
    "duration": 14,
    "start_time": "2022-06-22T06:55:08.139Z"
   },
   {
    "duration": 70,
    "start_time": "2022-06-22T06:55:08.155Z"
   },
   {
    "duration": 7,
    "start_time": "2022-06-22T06:55:08.227Z"
   },
   {
    "duration": 7,
    "start_time": "2022-06-22T06:55:08.235Z"
   },
   {
    "duration": 82,
    "start_time": "2022-06-22T06:55:08.244Z"
   },
   {
    "duration": 12,
    "start_time": "2022-06-22T06:55:08.328Z"
   },
   {
    "duration": 5,
    "start_time": "2022-06-22T06:55:08.342Z"
   },
   {
    "duration": 77,
    "start_time": "2022-06-22T06:55:08.348Z"
   },
   {
    "duration": 110,
    "start_time": "2022-06-22T06:55:08.426Z"
   },
   {
    "duration": 10,
    "start_time": "2022-06-22T06:55:08.537Z"
   },
   {
    "duration": 94,
    "start_time": "2022-06-22T06:55:08.549Z"
   },
   {
    "duration": 263,
    "start_time": "2022-06-22T06:55:08.644Z"
   },
   {
    "duration": 16,
    "start_time": "2022-06-22T06:55:08.909Z"
   },
   {
    "duration": 258,
    "start_time": "2022-06-22T06:55:08.927Z"
   },
   {
    "duration": 24,
    "start_time": "2022-06-22T06:55:09.186Z"
   },
   {
    "duration": 181,
    "start_time": "2022-06-22T06:55:09.212Z"
   },
   {
    "duration": 0,
    "start_time": "2022-06-22T06:55:09.396Z"
   },
   {
    "duration": 0,
    "start_time": "2022-06-22T06:55:09.397Z"
   },
   {
    "duration": 0,
    "start_time": "2022-06-22T06:55:09.401Z"
   },
   {
    "duration": 0,
    "start_time": "2022-06-22T06:55:09.402Z"
   },
   {
    "duration": 0,
    "start_time": "2022-06-22T06:55:09.403Z"
   },
   {
    "duration": 0,
    "start_time": "2022-06-22T06:55:09.415Z"
   },
   {
    "duration": 0,
    "start_time": "2022-06-22T06:55:09.417Z"
   },
   {
    "duration": 0,
    "start_time": "2022-06-22T06:55:09.418Z"
   },
   {
    "duration": 0,
    "start_time": "2022-06-22T06:55:09.419Z"
   },
   {
    "duration": 0,
    "start_time": "2022-06-22T06:55:09.420Z"
   },
   {
    "duration": 0,
    "start_time": "2022-06-22T06:55:09.421Z"
   },
   {
    "duration": 0,
    "start_time": "2022-06-22T06:55:09.422Z"
   },
   {
    "duration": 0,
    "start_time": "2022-06-22T06:55:09.423Z"
   },
   {
    "duration": 2,
    "start_time": "2022-06-22T06:56:05.577Z"
   },
   {
    "duration": 12,
    "start_time": "2022-06-22T06:56:30.888Z"
   },
   {
    "duration": 9,
    "start_time": "2022-06-22T06:57:21.782Z"
   },
   {
    "duration": 15,
    "start_time": "2022-06-22T06:57:27.214Z"
   },
   {
    "duration": 148,
    "start_time": "2022-06-22T06:57:37.542Z"
   },
   {
    "duration": 17,
    "start_time": "2022-06-22T06:57:54.582Z"
   },
   {
    "duration": 136,
    "start_time": "2022-06-22T06:58:15.303Z"
   },
   {
    "duration": 1088,
    "start_time": "2022-06-22T06:58:20.573Z"
   },
   {
    "duration": 95,
    "start_time": "2022-06-22T06:58:21.662Z"
   },
   {
    "duration": 5,
    "start_time": "2022-06-22T06:58:21.758Z"
   },
   {
    "duration": 57,
    "start_time": "2022-06-22T06:58:21.767Z"
   },
   {
    "duration": 11,
    "start_time": "2022-06-22T06:58:21.825Z"
   },
   {
    "duration": 25,
    "start_time": "2022-06-22T06:58:21.838Z"
   },
   {
    "duration": 49,
    "start_time": "2022-06-22T06:58:21.864Z"
   },
   {
    "duration": 7,
    "start_time": "2022-06-22T06:58:21.914Z"
   },
   {
    "duration": 4,
    "start_time": "2022-06-22T06:58:21.923Z"
   },
   {
    "duration": 4,
    "start_time": "2022-06-22T06:58:21.930Z"
   },
   {
    "duration": 6,
    "start_time": "2022-06-22T06:58:21.936Z"
   },
   {
    "duration": 19,
    "start_time": "2022-06-22T06:58:21.943Z"
   },
   {
    "duration": 54,
    "start_time": "2022-06-22T06:58:21.964Z"
   },
   {
    "duration": 5,
    "start_time": "2022-06-22T06:58:22.020Z"
   },
   {
    "duration": 12,
    "start_time": "2022-06-22T06:58:22.026Z"
   },
   {
    "duration": 79,
    "start_time": "2022-06-22T06:58:22.040Z"
   },
   {
    "duration": 5,
    "start_time": "2022-06-22T06:58:22.120Z"
   },
   {
    "duration": 14,
    "start_time": "2022-06-22T06:58:22.126Z"
   },
   {
    "duration": 163,
    "start_time": "2022-06-22T06:58:22.141Z"
   },
   {
    "duration": 11,
    "start_time": "2022-06-22T06:58:22.306Z"
   },
   {
    "duration": 227,
    "start_time": "2022-06-22T06:58:22.318Z"
   },
   {
    "duration": 16,
    "start_time": "2022-06-22T06:58:22.546Z"
   },
   {
    "duration": 174,
    "start_time": "2022-06-22T06:58:22.569Z"
   },
   {
    "duration": 2,
    "start_time": "2022-06-22T06:58:22.745Z"
   },
   {
    "duration": 50,
    "start_time": "2022-06-22T06:58:22.748Z"
   },
   {
    "duration": 7,
    "start_time": "2022-06-22T06:58:22.799Z"
   },
   {
    "duration": 25,
    "start_time": "2022-06-22T06:58:22.807Z"
   },
   {
    "duration": 6,
    "start_time": "2022-06-22T06:58:22.836Z"
   },
   {
    "duration": 16,
    "start_time": "2022-06-22T06:58:22.844Z"
   },
   {
    "duration": 147,
    "start_time": "2022-06-22T06:58:22.867Z"
   },
   {
    "duration": 5,
    "start_time": "2022-06-22T06:58:23.016Z"
   },
   {
    "duration": 118,
    "start_time": "2022-06-22T06:58:23.022Z"
   },
   {
    "duration": 101,
    "start_time": "2022-06-22T06:58:23.141Z"
   },
   {
    "duration": 0,
    "start_time": "2022-06-22T06:58:23.243Z"
   },
   {
    "duration": 0,
    "start_time": "2022-06-22T06:58:23.245Z"
   },
   {
    "duration": 0,
    "start_time": "2022-06-22T06:58:23.250Z"
   },
   {
    "duration": 0,
    "start_time": "2022-06-22T06:58:23.251Z"
   },
   {
    "duration": 10,
    "start_time": "2022-06-22T06:58:56.145Z"
   },
   {
    "duration": 2,
    "start_time": "2022-06-22T06:59:01.641Z"
   },
   {
    "duration": 3,
    "start_time": "2022-06-22T06:59:01.865Z"
   },
   {
    "duration": 268,
    "start_time": "2022-06-22T06:59:05.841Z"
   },
   {
    "duration": 7,
    "start_time": "2022-06-22T06:59:10.685Z"
   },
   {
    "duration": 261,
    "start_time": "2022-06-22T06:59:10.949Z"
   },
   {
    "duration": 11,
    "start_time": "2022-06-22T06:59:28.310Z"
   },
   {
    "duration": 156,
    "start_time": "2022-06-22T06:59:38.047Z"
   },
   {
    "duration": 9,
    "start_time": "2022-06-22T06:59:38.807Z"
   },
   {
    "duration": 88,
    "start_time": "2022-06-22T07:00:31.696Z"
   },
   {
    "duration": 11,
    "start_time": "2022-06-22T07:02:17.386Z"
   },
   {
    "duration": 21,
    "start_time": "2022-06-22T07:02:21.773Z"
   },
   {
    "duration": 11,
    "start_time": "2022-06-22T07:02:30.778Z"
   },
   {
    "duration": 14,
    "start_time": "2022-06-22T07:02:38.442Z"
   },
   {
    "duration": 17,
    "start_time": "2022-06-22T07:04:07.704Z"
   },
   {
    "duration": 25,
    "start_time": "2022-06-22T07:04:14.463Z"
   },
   {
    "duration": 289,
    "start_time": "2022-06-22T07:04:24.819Z"
   },
   {
    "duration": 1085,
    "start_time": "2022-06-22T07:04:37.399Z"
   },
   {
    "duration": 97,
    "start_time": "2022-06-22T07:04:38.489Z"
   },
   {
    "duration": 5,
    "start_time": "2022-06-22T07:04:38.590Z"
   },
   {
    "duration": 29,
    "start_time": "2022-06-22T07:04:38.598Z"
   },
   {
    "duration": 26,
    "start_time": "2022-06-22T07:04:38.629Z"
   },
   {
    "duration": 20,
    "start_time": "2022-06-22T07:04:38.661Z"
   },
   {
    "duration": 17,
    "start_time": "2022-06-22T07:04:38.683Z"
   },
   {
    "duration": 12,
    "start_time": "2022-06-22T07:04:38.702Z"
   },
   {
    "duration": 8,
    "start_time": "2022-06-22T07:04:38.716Z"
   },
   {
    "duration": 4,
    "start_time": "2022-06-22T07:04:38.726Z"
   },
   {
    "duration": 10,
    "start_time": "2022-06-22T07:04:38.731Z"
   },
   {
    "duration": 18,
    "start_time": "2022-06-22T07:04:38.743Z"
   },
   {
    "duration": 33,
    "start_time": "2022-06-22T07:04:38.767Z"
   },
   {
    "duration": 5,
    "start_time": "2022-06-22T07:04:38.802Z"
   },
   {
    "duration": 9,
    "start_time": "2022-06-22T07:04:38.808Z"
   },
   {
    "duration": 53,
    "start_time": "2022-06-22T07:04:38.818Z"
   },
   {
    "duration": 7,
    "start_time": "2022-06-22T07:04:38.880Z"
   },
   {
    "duration": 18,
    "start_time": "2022-06-22T07:04:38.889Z"
   },
   {
    "duration": 151,
    "start_time": "2022-06-22T07:04:38.908Z"
   },
   {
    "duration": 19,
    "start_time": "2022-06-22T07:04:39.063Z"
   },
   {
    "duration": 218,
    "start_time": "2022-06-22T07:04:39.084Z"
   },
   {
    "duration": 11,
    "start_time": "2022-06-22T07:04:39.304Z"
   },
   {
    "duration": 17,
    "start_time": "2022-06-22T07:04:39.317Z"
   },
   {
    "duration": 253,
    "start_time": "2022-06-22T07:04:39.351Z"
   },
   {
    "duration": 111,
    "start_time": "2022-06-22T07:04:39.605Z"
   },
   {
    "duration": 0,
    "start_time": "2022-06-22T07:04:39.718Z"
   },
   {
    "duration": 0,
    "start_time": "2022-06-22T07:04:39.719Z"
   },
   {
    "duration": 0,
    "start_time": "2022-06-22T07:04:39.720Z"
   },
   {
    "duration": 0,
    "start_time": "2022-06-22T07:04:39.721Z"
   },
   {
    "duration": 0,
    "start_time": "2022-06-22T07:04:39.722Z"
   },
   {
    "duration": 0,
    "start_time": "2022-06-22T07:04:39.722Z"
   },
   {
    "duration": 0,
    "start_time": "2022-06-22T07:04:39.723Z"
   },
   {
    "duration": 0,
    "start_time": "2022-06-22T07:04:39.724Z"
   },
   {
    "duration": 0,
    "start_time": "2022-06-22T07:04:39.725Z"
   },
   {
    "duration": 0,
    "start_time": "2022-06-22T07:04:39.726Z"
   },
   {
    "duration": 0,
    "start_time": "2022-06-22T07:04:39.728Z"
   },
   {
    "duration": 0,
    "start_time": "2022-06-22T07:04:39.752Z"
   },
   {
    "duration": 0,
    "start_time": "2022-06-22T07:04:39.753Z"
   },
   {
    "duration": 260,
    "start_time": "2022-06-22T07:04:58.998Z"
   },
   {
    "duration": 253,
    "start_time": "2022-06-22T07:05:03.741Z"
   },
   {
    "duration": 239,
    "start_time": "2022-06-22T07:05:35.247Z"
   },
   {
    "duration": 241,
    "start_time": "2022-06-22T07:05:39.863Z"
   },
   {
    "duration": 16,
    "start_time": "2022-06-22T07:05:52.685Z"
   },
   {
    "duration": 5,
    "start_time": "2022-06-22T07:05:53.126Z"
   },
   {
    "duration": 8,
    "start_time": "2022-06-22T07:05:53.732Z"
   },
   {
    "duration": 111,
    "start_time": "2022-06-22T07:05:54.005Z"
   },
   {
    "duration": 6,
    "start_time": "2022-06-22T07:05:54.822Z"
   },
   {
    "duration": 183,
    "start_time": "2022-06-22T07:05:55.087Z"
   },
   {
    "duration": 8,
    "start_time": "2022-06-22T07:05:55.583Z"
   },
   {
    "duration": 5,
    "start_time": "2022-06-22T07:05:55.896Z"
   },
   {
    "duration": 137,
    "start_time": "2022-06-22T07:05:56.129Z"
   },
   {
    "duration": 182,
    "start_time": "2022-06-22T07:05:57.148Z"
   },
   {
    "duration": 373,
    "start_time": "2022-06-22T07:05:57.786Z"
   },
   {
    "duration": 211,
    "start_time": "2022-06-22T07:07:04.405Z"
   },
   {
    "duration": 15,
    "start_time": "2022-06-22T07:07:15.430Z"
   },
   {
    "duration": 20,
    "start_time": "2022-06-22T07:07:25.293Z"
   },
   {
    "duration": 24,
    "start_time": "2022-06-22T07:07:34.074Z"
   },
   {
    "duration": 17,
    "start_time": "2022-06-22T07:07:42.599Z"
   },
   {
    "duration": 9,
    "start_time": "2022-06-22T07:09:37.794Z"
   },
   {
    "duration": 1146,
    "start_time": "2022-06-22T07:09:52.797Z"
   },
   {
    "duration": 104,
    "start_time": "2022-06-22T07:09:53.944Z"
   },
   {
    "duration": 16,
    "start_time": "2022-06-22T07:09:54.050Z"
   },
   {
    "duration": 41,
    "start_time": "2022-06-22T07:09:54.068Z"
   },
   {
    "duration": 8,
    "start_time": "2022-06-22T07:09:54.111Z"
   },
   {
    "duration": 16,
    "start_time": "2022-06-22T07:09:54.121Z"
   },
   {
    "duration": 7,
    "start_time": "2022-06-22T07:09:54.139Z"
   },
   {
    "duration": 36,
    "start_time": "2022-06-22T07:09:54.148Z"
   },
   {
    "duration": 12,
    "start_time": "2022-06-22T07:09:54.185Z"
   },
   {
    "duration": 4,
    "start_time": "2022-06-22T07:09:54.199Z"
   },
   {
    "duration": 5,
    "start_time": "2022-06-22T07:09:54.205Z"
   },
   {
    "duration": 12,
    "start_time": "2022-06-22T07:09:54.212Z"
   },
   {
    "duration": 16,
    "start_time": "2022-06-22T07:09:54.226Z"
   },
   {
    "duration": 6,
    "start_time": "2022-06-22T07:09:54.243Z"
   },
   {
    "duration": 44,
    "start_time": "2022-06-22T07:09:54.250Z"
   },
   {
    "duration": 47,
    "start_time": "2022-06-22T07:09:54.295Z"
   },
   {
    "duration": 5,
    "start_time": "2022-06-22T07:09:54.343Z"
   },
   {
    "duration": 71,
    "start_time": "2022-06-22T07:09:54.350Z"
   },
   {
    "duration": 190,
    "start_time": "2022-06-22T07:09:54.423Z"
   },
   {
    "duration": 13,
    "start_time": "2022-06-22T07:09:54.616Z"
   },
   {
    "duration": 260,
    "start_time": "2022-06-22T07:09:54.631Z"
   },
   {
    "duration": 17,
    "start_time": "2022-06-22T07:09:54.893Z"
   },
   {
    "duration": 16,
    "start_time": "2022-06-22T07:09:54.912Z"
   },
   {
    "duration": 114,
    "start_time": "2022-06-22T07:09:54.930Z"
   },
   {
    "duration": 0,
    "start_time": "2022-06-22T07:09:55.046Z"
   },
   {
    "duration": 0,
    "start_time": "2022-06-22T07:09:55.047Z"
   },
   {
    "duration": 0,
    "start_time": "2022-06-22T07:09:55.050Z"
   },
   {
    "duration": 0,
    "start_time": "2022-06-22T07:09:55.051Z"
   },
   {
    "duration": 0,
    "start_time": "2022-06-22T07:09:55.052Z"
   },
   {
    "duration": 0,
    "start_time": "2022-06-22T07:09:55.053Z"
   },
   {
    "duration": 0,
    "start_time": "2022-06-22T07:09:55.053Z"
   },
   {
    "duration": 0,
    "start_time": "2022-06-22T07:09:55.054Z"
   },
   {
    "duration": 0,
    "start_time": "2022-06-22T07:09:55.055Z"
   },
   {
    "duration": 0,
    "start_time": "2022-06-22T07:09:55.067Z"
   },
   {
    "duration": 0,
    "start_time": "2022-06-22T07:09:55.068Z"
   },
   {
    "duration": 123,
    "start_time": "2022-06-22T07:11:50.493Z"
   },
   {
    "duration": 875,
    "start_time": "2022-06-22T07:20:44.767Z"
   },
   {
    "duration": 18,
    "start_time": "2022-06-22T07:20:50.296Z"
   },
   {
    "duration": 230,
    "start_time": "2022-06-22T07:21:15.329Z"
   },
   {
    "duration": 1397,
    "start_time": "2022-06-22T07:32:28.328Z"
   },
   {
    "duration": 23,
    "start_time": "2022-06-22T07:32:36.818Z"
   },
   {
    "duration": 12,
    "start_time": "2022-06-22T07:37:39.499Z"
   },
   {
    "duration": 12,
    "start_time": "2022-06-22T07:37:45.711Z"
   },
   {
    "duration": 32,
    "start_time": "2022-06-22T07:37:50.265Z"
   },
   {
    "duration": 1182,
    "start_time": "2022-06-22T07:37:56.339Z"
   },
   {
    "duration": 1470,
    "start_time": "2022-06-22T07:38:06.684Z"
   },
   {
    "duration": 1236,
    "start_time": "2022-06-22T07:38:16.719Z"
   },
   {
    "duration": 1477,
    "start_time": "2022-06-22T07:38:49.716Z"
   },
   {
    "duration": 11,
    "start_time": "2022-06-22T07:45:52.813Z"
   },
   {
    "duration": 21,
    "start_time": "2022-06-22T07:46:10.306Z"
   },
   {
    "duration": 25,
    "start_time": "2022-06-22T07:46:23.574Z"
   },
   {
    "duration": 1293,
    "start_time": "2022-06-22T07:46:39.439Z"
   },
   {
    "duration": 70,
    "start_time": "2022-06-22T07:47:10.747Z"
   },
   {
    "duration": 48,
    "start_time": "2022-06-22T07:48:29.077Z"
   },
   {
    "duration": 72,
    "start_time": "2022-06-22T07:48:35.335Z"
   },
   {
    "duration": 73,
    "start_time": "2022-06-22T07:48:42.445Z"
   },
   {
    "duration": 125,
    "start_time": "2022-06-22T07:49:22.178Z"
   },
   {
    "duration": 70,
    "start_time": "2022-06-22T07:49:29.820Z"
   },
   {
    "duration": 99,
    "start_time": "2022-06-22T07:49:44.976Z"
   },
   {
    "duration": 190,
    "start_time": "2022-06-22T07:52:33.587Z"
   },
   {
    "duration": 382,
    "start_time": "2022-06-22T07:52:58.660Z"
   },
   {
    "duration": 1665,
    "start_time": "2022-06-22T07:53:33.310Z"
   },
   {
    "duration": 158,
    "start_time": "2022-06-22T07:53:34.979Z"
   },
   {
    "duration": 18,
    "start_time": "2022-06-22T07:53:35.140Z"
   },
   {
    "duration": 113,
    "start_time": "2022-06-22T07:53:35.168Z"
   },
   {
    "duration": 26,
    "start_time": "2022-06-22T07:53:35.287Z"
   },
   {
    "duration": 40,
    "start_time": "2022-06-22T07:53:35.315Z"
   },
   {
    "duration": 81,
    "start_time": "2022-06-22T07:53:35.357Z"
   },
   {
    "duration": 76,
    "start_time": "2022-06-22T07:53:35.441Z"
   },
   {
    "duration": 8,
    "start_time": "2022-06-22T07:53:35.520Z"
   },
   {
    "duration": 17,
    "start_time": "2022-06-22T07:53:35.532Z"
   },
   {
    "duration": 64,
    "start_time": "2022-06-22T07:53:35.554Z"
   },
   {
    "duration": 39,
    "start_time": "2022-06-22T07:53:35.622Z"
   },
   {
    "duration": 77,
    "start_time": "2022-06-22T07:53:35.664Z"
   },
   {
    "duration": 18,
    "start_time": "2022-06-22T07:53:35.743Z"
   },
   {
    "duration": 48,
    "start_time": "2022-06-22T07:53:35.767Z"
   },
   {
    "duration": 98,
    "start_time": "2022-06-22T07:53:35.817Z"
   },
   {
    "duration": 7,
    "start_time": "2022-06-22T07:53:35.918Z"
   },
   {
    "duration": 51,
    "start_time": "2022-06-22T07:53:35.927Z"
   },
   {
    "duration": 254,
    "start_time": "2022-06-22T07:53:35.980Z"
   },
   {
    "duration": 22,
    "start_time": "2022-06-22T07:53:36.237Z"
   },
   {
    "duration": 341,
    "start_time": "2022-06-22T07:53:36.263Z"
   },
   {
    "duration": 21,
    "start_time": "2022-06-22T07:53:36.607Z"
   },
   {
    "duration": 349,
    "start_time": "2022-06-22T07:53:36.631Z"
   },
   {
    "duration": 29,
    "start_time": "2022-06-22T07:53:36.986Z"
   },
   {
    "duration": 10,
    "start_time": "2022-06-22T07:53:37.017Z"
   },
   {
    "duration": 24,
    "start_time": "2022-06-22T07:53:37.031Z"
   },
   {
    "duration": 206,
    "start_time": "2022-06-22T07:53:37.057Z"
   },
   {
    "duration": 334,
    "start_time": "2022-06-22T07:53:37.267Z"
   },
   {
    "duration": 1,
    "start_time": "2022-06-22T07:53:37.603Z"
   },
   {
    "duration": 0,
    "start_time": "2022-06-22T07:53:37.606Z"
   },
   {
    "duration": 0,
    "start_time": "2022-06-22T07:53:37.607Z"
   },
   {
    "duration": 0,
    "start_time": "2022-06-22T07:53:37.609Z"
   },
   {
    "duration": 0,
    "start_time": "2022-06-22T07:53:37.611Z"
   },
   {
    "duration": 0,
    "start_time": "2022-06-22T07:53:37.613Z"
   },
   {
    "duration": 0,
    "start_time": "2022-06-22T07:53:37.614Z"
   },
   {
    "duration": 16,
    "start_time": "2022-06-22T08:08:50.907Z"
   },
   {
    "duration": 17,
    "start_time": "2022-06-22T08:12:30.784Z"
   },
   {
    "duration": 18,
    "start_time": "2022-06-22T08:18:44.877Z"
   },
   {
    "duration": 21,
    "start_time": "2022-06-22T08:18:45.196Z"
   },
   {
    "duration": 26,
    "start_time": "2022-06-22T08:18:53.993Z"
   },
   {
    "duration": 802,
    "start_time": "2022-06-22T08:18:54.709Z"
   },
   {
    "duration": 923,
    "start_time": "2022-06-22T08:19:18.240Z"
   },
   {
    "duration": 25,
    "start_time": "2022-06-22T08:22:11.994Z"
   },
   {
    "duration": 779,
    "start_time": "2022-06-22T08:22:19.124Z"
   },
   {
    "duration": 686,
    "start_time": "2022-06-22T08:22:28.377Z"
   },
   {
    "duration": 306,
    "start_time": "2022-06-22T08:22:32.187Z"
   },
   {
    "duration": 240,
    "start_time": "2022-06-22T08:22:47.798Z"
   },
   {
    "duration": 17,
    "start_time": "2022-06-22T08:22:58.700Z"
   },
   {
    "duration": 1025,
    "start_time": "2022-06-22T08:23:08.181Z"
   },
   {
    "duration": 1599,
    "start_time": "2022-06-22T08:23:22.693Z"
   },
   {
    "duration": 146,
    "start_time": "2022-06-22T08:23:24.295Z"
   },
   {
    "duration": 12,
    "start_time": "2022-06-22T08:23:24.444Z"
   },
   {
    "duration": 130,
    "start_time": "2022-06-22T08:23:24.463Z"
   },
   {
    "duration": 16,
    "start_time": "2022-06-22T08:23:24.595Z"
   },
   {
    "duration": 50,
    "start_time": "2022-06-22T08:23:24.613Z"
   },
   {
    "duration": 56,
    "start_time": "2022-06-22T08:23:24.669Z"
   },
   {
    "duration": 53,
    "start_time": "2022-06-22T08:23:24.728Z"
   },
   {
    "duration": 32,
    "start_time": "2022-06-22T08:23:24.798Z"
   },
   {
    "duration": 59,
    "start_time": "2022-06-22T08:23:24.838Z"
   },
   {
    "duration": 27,
    "start_time": "2022-06-22T08:23:24.900Z"
   },
   {
    "duration": 94,
    "start_time": "2022-06-22T08:23:24.930Z"
   },
   {
    "duration": 54,
    "start_time": "2022-06-22T08:23:25.027Z"
   },
   {
    "duration": 22,
    "start_time": "2022-06-22T08:23:25.085Z"
   },
   {
    "duration": 23,
    "start_time": "2022-06-22T08:23:25.112Z"
   },
   {
    "duration": 123,
    "start_time": "2022-06-22T08:23:25.138Z"
   },
   {
    "duration": 10,
    "start_time": "2022-06-22T08:23:25.270Z"
   },
   {
    "duration": 48,
    "start_time": "2022-06-22T08:23:25.290Z"
   },
   {
    "duration": 238,
    "start_time": "2022-06-22T08:23:25.342Z"
   },
   {
    "duration": 18,
    "start_time": "2022-06-22T08:23:25.585Z"
   },
   {
    "duration": 435,
    "start_time": "2022-06-22T08:23:25.610Z"
   },
   {
    "duration": 35,
    "start_time": "2022-06-22T08:23:26.048Z"
   },
   {
    "duration": 40,
    "start_time": "2022-06-22T08:23:26.092Z"
   },
   {
    "duration": 735,
    "start_time": "2022-06-22T08:23:26.135Z"
   },
   {
    "duration": 30,
    "start_time": "2022-06-22T08:23:26.877Z"
   },
   {
    "duration": 10,
    "start_time": "2022-06-22T08:23:26.909Z"
   },
   {
    "duration": 20,
    "start_time": "2022-06-22T08:23:26.922Z"
   },
   {
    "duration": 234,
    "start_time": "2022-06-22T08:23:26.961Z"
   },
   {
    "duration": 208,
    "start_time": "2022-06-22T08:23:27.202Z"
   },
   {
    "duration": 0,
    "start_time": "2022-06-22T08:23:27.413Z"
   },
   {
    "duration": 0,
    "start_time": "2022-06-22T08:23:27.415Z"
   },
   {
    "duration": 0,
    "start_time": "2022-06-22T08:23:27.430Z"
   },
   {
    "duration": 0,
    "start_time": "2022-06-22T08:23:27.433Z"
   },
   {
    "duration": 0,
    "start_time": "2022-06-22T08:23:27.434Z"
   },
   {
    "duration": 0,
    "start_time": "2022-06-22T08:23:27.435Z"
   },
   {
    "duration": 0,
    "start_time": "2022-06-22T08:23:27.438Z"
   },
   {
    "duration": 0,
    "start_time": "2022-06-22T08:23:27.456Z"
   },
   {
    "duration": 0,
    "start_time": "2022-06-22T08:23:27.461Z"
   },
   {
    "duration": 0,
    "start_time": "2022-06-22T08:23:27.467Z"
   },
   {
    "duration": 0,
    "start_time": "2022-06-22T08:23:27.470Z"
   },
   {
    "duration": 0,
    "start_time": "2022-06-22T08:23:27.476Z"
   },
   {
    "duration": 0,
    "start_time": "2022-06-22T08:23:27.479Z"
   },
   {
    "duration": 0,
    "start_time": "2022-06-22T08:23:27.490Z"
   },
   {
    "duration": 0,
    "start_time": "2022-06-22T08:23:27.491Z"
   },
   {
    "duration": 0,
    "start_time": "2022-06-22T08:23:27.492Z"
   },
   {
    "duration": 0,
    "start_time": "2022-06-22T08:23:27.496Z"
   },
   {
    "duration": 0,
    "start_time": "2022-06-22T08:23:27.507Z"
   },
   {
    "duration": 335,
    "start_time": "2022-06-22T08:24:01.421Z"
   },
   {
    "duration": 25,
    "start_time": "2022-06-22T08:24:08.373Z"
   },
   {
    "duration": 271,
    "start_time": "2022-06-22T08:24:08.790Z"
   },
   {
    "duration": 16,
    "start_time": "2022-06-22T08:24:18.724Z"
   },
   {
    "duration": 39,
    "start_time": "2022-06-22T08:24:19.765Z"
   },
   {
    "duration": 967,
    "start_time": "2022-06-22T08:24:20.272Z"
   },
   {
    "duration": 1128,
    "start_time": "2022-06-22T08:24:54.706Z"
   },
   {
    "duration": 1268,
    "start_time": "2022-06-22T08:25:04.769Z"
   },
   {
    "duration": 1187,
    "start_time": "2022-06-22T08:25:17.487Z"
   },
   {
    "duration": 1225,
    "start_time": "2022-06-22T08:25:24.866Z"
   },
   {
    "duration": 1100,
    "start_time": "2022-06-22T08:25:45.053Z"
   },
   {
    "duration": 18,
    "start_time": "2022-06-22T08:25:50.996Z"
   },
   {
    "duration": 1367,
    "start_time": "2022-06-22T08:25:51.230Z"
   },
   {
    "duration": 17,
    "start_time": "2022-06-22T08:26:02.918Z"
   },
   {
    "duration": 1085,
    "start_time": "2022-06-22T08:26:03.291Z"
   },
   {
    "duration": 22,
    "start_time": "2022-06-22T08:26:10.580Z"
   },
   {
    "duration": 1270,
    "start_time": "2022-06-22T08:26:10.876Z"
   },
   {
    "duration": 24,
    "start_time": "2022-06-22T08:26:15.676Z"
   },
   {
    "duration": 8,
    "start_time": "2022-06-22T08:26:15.903Z"
   },
   {
    "duration": 22,
    "start_time": "2022-06-22T08:26:16.643Z"
   },
   {
    "duration": 172,
    "start_time": "2022-06-22T08:26:16.839Z"
   },
   {
    "duration": 16,
    "start_time": "2022-06-22T08:26:18.285Z"
   },
   {
    "duration": 20,
    "start_time": "2022-06-22T08:26:41.922Z"
   },
   {
    "duration": 21,
    "start_time": "2022-06-22T08:26:55.389Z"
   },
   {
    "duration": 32,
    "start_time": "2022-06-22T08:29:55.068Z"
   },
   {
    "duration": 42,
    "start_time": "2022-06-22T08:30:03.250Z"
   },
   {
    "duration": 21,
    "start_time": "2022-06-22T08:30:22.634Z"
   },
   {
    "duration": 17,
    "start_time": "2022-06-22T08:38:40.684Z"
   },
   {
    "duration": 14,
    "start_time": "2022-06-22T08:42:45.987Z"
   },
   {
    "duration": 17,
    "start_time": "2022-06-22T08:42:51.122Z"
   },
   {
    "duration": 22,
    "start_time": "2022-06-22T08:42:51.749Z"
   },
   {
    "duration": 50,
    "start_time": "2022-06-22T08:43:02.642Z"
   },
   {
    "duration": 18,
    "start_time": "2022-06-22T08:43:03.480Z"
   },
   {
    "duration": 13,
    "start_time": "2022-06-22T08:43:14.213Z"
   },
   {
    "duration": 55,
    "start_time": "2022-06-22T08:43:14.498Z"
   },
   {
    "duration": 127,
    "start_time": "2022-06-22T08:44:26.774Z"
   },
   {
    "duration": 1341,
    "start_time": "2022-06-22T08:44:37.134Z"
   },
   {
    "duration": 26,
    "start_time": "2022-06-22T08:47:35.881Z"
   },
   {
    "duration": 3,
    "start_time": "2022-06-22T08:48:47.021Z"
   },
   {
    "duration": 27,
    "start_time": "2022-06-22T08:48:48.022Z"
   },
   {
    "duration": 2094,
    "start_time": "2022-06-22T08:49:30.321Z"
   },
   {
    "duration": 71,
    "start_time": "2022-06-22T08:49:56.969Z"
   },
   {
    "duration": 74,
    "start_time": "2022-06-22T08:52:09.582Z"
   },
   {
    "duration": 510,
    "start_time": "2022-06-22T08:52:18.520Z"
   },
   {
    "duration": 532,
    "start_time": "2022-06-22T08:52:26.485Z"
   },
   {
    "duration": 290,
    "start_time": "2022-06-22T08:53:01.245Z"
   },
   {
    "duration": 214,
    "start_time": "2022-06-22T08:53:44.586Z"
   },
   {
    "duration": 315,
    "start_time": "2022-06-22T08:53:51.590Z"
   },
   {
    "duration": 289,
    "start_time": "2022-06-22T08:54:01.321Z"
   },
   {
    "duration": 271,
    "start_time": "2022-06-22T08:54:06.421Z"
   },
   {
    "duration": 362,
    "start_time": "2022-06-22T08:54:11.882Z"
   },
   {
    "duration": 445,
    "start_time": "2022-06-22T08:54:29.948Z"
   },
   {
    "duration": 22,
    "start_time": "2022-06-22T08:54:37.333Z"
   },
   {
    "duration": 338,
    "start_time": "2022-06-22T08:54:37.636Z"
   },
   {
    "duration": 5,
    "start_time": "2022-06-22T08:54:38.104Z"
   },
   {
    "duration": 373,
    "start_time": "2022-06-22T08:54:38.820Z"
   },
   {
    "duration": 22,
    "start_time": "2022-06-22T08:54:42.699Z"
   },
   {
    "duration": 7,
    "start_time": "2022-06-22T08:54:43.117Z"
   },
   {
    "duration": 10,
    "start_time": "2022-06-22T08:54:43.813Z"
   },
   {
    "duration": 176,
    "start_time": "2022-06-22T08:54:44.117Z"
   },
   {
    "duration": 21,
    "start_time": "2022-06-22T08:54:45.308Z"
   },
   {
    "duration": 209,
    "start_time": "2022-06-22T08:54:45.825Z"
   },
   {
    "duration": 42,
    "start_time": "2022-06-22T08:55:37.555Z"
   },
   {
    "duration": 6,
    "start_time": "2022-06-22T08:56:04.098Z"
   },
   {
    "duration": 16,
    "start_time": "2022-06-22T08:56:18.530Z"
   },
   {
    "duration": 322,
    "start_time": "2022-06-22T08:56:24.174Z"
   },
   {
    "duration": 433,
    "start_time": "2022-06-22T08:56:56.392Z"
   },
   {
    "duration": 186,
    "start_time": "2022-06-22T08:56:57.110Z"
   },
   {
    "duration": 414,
    "start_time": "2022-06-22T08:57:07.576Z"
   },
   {
    "duration": 452,
    "start_time": "2022-06-22T08:57:12.823Z"
   },
   {
    "duration": 427,
    "start_time": "2022-06-22T08:57:17.314Z"
   },
   {
    "duration": 513,
    "start_time": "2022-06-22T08:57:32.619Z"
   },
   {
    "duration": 376,
    "start_time": "2022-06-22T08:57:37.895Z"
   },
   {
    "duration": 482,
    "start_time": "2022-06-22T08:57:43.273Z"
   },
   {
    "duration": 338,
    "start_time": "2022-06-22T08:57:48.884Z"
   },
   {
    "duration": 369,
    "start_time": "2022-06-22T08:57:53.033Z"
   },
   {
    "duration": 515,
    "start_time": "2022-06-22T08:58:07.693Z"
   },
   {
    "duration": 271,
    "start_time": "2022-06-22T08:59:32.851Z"
   },
   {
    "duration": 34,
    "start_time": "2022-06-22T09:00:23.945Z"
   },
   {
    "duration": 26,
    "start_time": "2022-06-22T09:01:17.850Z"
   },
   {
    "duration": 200,
    "start_time": "2022-06-22T09:01:24.984Z"
   },
   {
    "duration": 372,
    "start_time": "2022-06-22T09:01:53.726Z"
   },
   {
    "duration": 9,
    "start_time": "2022-06-22T09:01:55.781Z"
   },
   {
    "duration": 11,
    "start_time": "2022-06-22T09:01:56.436Z"
   },
   {
    "duration": 206,
    "start_time": "2022-06-22T09:01:56.781Z"
   },
   {
    "duration": 373,
    "start_time": "2022-06-22T09:01:59.253Z"
   },
   {
    "duration": 86,
    "start_time": "2022-06-22T09:02:00.519Z"
   },
   {
    "duration": 174,
    "start_time": "2022-06-22T09:02:05.217Z"
   },
   {
    "duration": 166,
    "start_time": "2022-06-22T09:03:47.234Z"
   },
   {
    "duration": 167,
    "start_time": "2022-06-22T09:04:26.447Z"
   },
   {
    "duration": 182,
    "start_time": "2022-06-22T09:05:30.828Z"
   },
   {
    "duration": 253,
    "start_time": "2022-06-22T09:05:31.820Z"
   },
   {
    "duration": 246,
    "start_time": "2022-06-22T09:05:48.532Z"
   },
   {
    "duration": 364,
    "start_time": "2022-06-22T09:08:47.611Z"
   },
   {
    "duration": 482,
    "start_time": "2022-06-22T09:08:48.092Z"
   },
   {
    "duration": 13,
    "start_time": "2022-06-22T09:08:48.804Z"
   },
   {
    "duration": 13,
    "start_time": "2022-06-22T09:08:49.024Z"
   },
   {
    "duration": 31,
    "start_time": "2022-06-22T09:09:13.046Z"
   },
   {
    "duration": 398,
    "start_time": "2022-06-22T09:09:24.479Z"
   },
   {
    "duration": 310,
    "start_time": "2022-06-22T09:09:29.073Z"
   },
   {
    "duration": 1452,
    "start_time": "2022-06-22T09:10:50.909Z"
   },
   {
    "duration": 123,
    "start_time": "2022-06-22T09:10:52.365Z"
   },
   {
    "duration": 8,
    "start_time": "2022-06-22T09:10:52.491Z"
   },
   {
    "duration": 70,
    "start_time": "2022-06-22T09:10:52.502Z"
   },
   {
    "duration": 16,
    "start_time": "2022-06-22T09:10:52.575Z"
   },
   {
    "duration": 32,
    "start_time": "2022-06-22T09:10:52.595Z"
   },
   {
    "duration": 38,
    "start_time": "2022-06-22T09:10:52.630Z"
   },
   {
    "duration": 23,
    "start_time": "2022-06-22T09:10:52.670Z"
   },
   {
    "duration": 13,
    "start_time": "2022-06-22T09:10:52.697Z"
   },
   {
    "duration": 6,
    "start_time": "2022-06-22T09:10:52.715Z"
   },
   {
    "duration": 6,
    "start_time": "2022-06-22T09:10:52.724Z"
   },
   {
    "duration": 27,
    "start_time": "2022-06-22T09:10:52.732Z"
   },
   {
    "duration": 36,
    "start_time": "2022-06-22T09:10:52.760Z"
   },
   {
    "duration": 9,
    "start_time": "2022-06-22T09:10:52.798Z"
   },
   {
    "duration": 15,
    "start_time": "2022-06-22T09:10:52.810Z"
   },
   {
    "duration": 91,
    "start_time": "2022-06-22T09:10:52.828Z"
   },
   {
    "duration": 7,
    "start_time": "2022-06-22T09:10:52.922Z"
   },
   {
    "duration": 42,
    "start_time": "2022-06-22T09:10:52.932Z"
   },
   {
    "duration": 246,
    "start_time": "2022-06-22T09:10:52.977Z"
   },
   {
    "duration": 39,
    "start_time": "2022-06-22T09:10:53.225Z"
   },
   {
    "duration": 303,
    "start_time": "2022-06-22T09:10:53.271Z"
   },
   {
    "duration": 6,
    "start_time": "2022-06-22T09:10:53.576Z"
   },
   {
    "duration": 468,
    "start_time": "2022-06-22T09:10:53.584Z"
   },
   {
    "duration": 16,
    "start_time": "2022-06-22T09:10:54.061Z"
   },
   {
    "duration": 11,
    "start_time": "2022-06-22T09:10:54.080Z"
   },
   {
    "duration": 180,
    "start_time": "2022-06-22T09:10:54.094Z"
   },
   {
    "duration": 444,
    "start_time": "2022-06-22T09:10:54.277Z"
   },
   {
    "duration": 239,
    "start_time": "2022-06-22T09:10:54.727Z"
   },
   {
    "duration": 203,
    "start_time": "2022-06-22T09:10:54.971Z"
   },
   {
    "duration": 0,
    "start_time": "2022-06-22T09:10:55.177Z"
   },
   {
    "duration": 0,
    "start_time": "2022-06-22T09:10:55.179Z"
   },
   {
    "duration": 0,
    "start_time": "2022-06-22T09:10:55.181Z"
   },
   {
    "duration": 0,
    "start_time": "2022-06-22T09:10:55.182Z"
   },
   {
    "duration": 0,
    "start_time": "2022-06-22T09:10:55.183Z"
   },
   {
    "duration": 0,
    "start_time": "2022-06-22T09:10:55.184Z"
   },
   {
    "duration": 0,
    "start_time": "2022-06-22T09:10:55.187Z"
   },
   {
    "duration": 0,
    "start_time": "2022-06-22T09:10:55.189Z"
   },
   {
    "duration": 0,
    "start_time": "2022-06-22T09:10:55.190Z"
   },
   {
    "duration": 0,
    "start_time": "2022-06-22T09:10:55.193Z"
   },
   {
    "duration": 0,
    "start_time": "2022-06-22T09:10:55.195Z"
   },
   {
    "duration": 25,
    "start_time": "2022-06-22T09:12:04.518Z"
   },
   {
    "duration": 36,
    "start_time": "2022-06-22T09:12:20.286Z"
   },
   {
    "duration": 235,
    "start_time": "2022-06-22T09:12:38.214Z"
   },
   {
    "duration": 23,
    "start_time": "2022-06-22T09:19:46.687Z"
   },
   {
    "duration": 771,
    "start_time": "2022-06-22T09:19:53.643Z"
   },
   {
    "duration": 626,
    "start_time": "2022-06-22T09:20:08.977Z"
   },
   {
    "duration": 524,
    "start_time": "2022-06-22T09:20:13.973Z"
   },
   {
    "duration": 203,
    "start_time": "2022-06-22T09:20:18.848Z"
   },
   {
    "duration": 635,
    "start_time": "2022-06-22T09:20:36.124Z"
   },
   {
    "duration": 545,
    "start_time": "2022-06-22T09:20:43.124Z"
   },
   {
    "duration": 22,
    "start_time": "2022-06-22T09:23:05.843Z"
   },
   {
    "duration": 1370,
    "start_time": "2022-06-22T09:23:12.579Z"
   },
   {
    "duration": 15,
    "start_time": "2022-06-22T09:23:45.495Z"
   },
   {
    "duration": 4,
    "start_time": "2022-06-22T09:24:14.549Z"
   },
   {
    "duration": 27,
    "start_time": "2022-06-22T09:24:45.261Z"
   },
   {
    "duration": 39,
    "start_time": "2022-06-22T09:24:50.553Z"
   },
   {
    "duration": 16,
    "start_time": "2022-06-22T09:24:52.554Z"
   },
   {
    "duration": 4,
    "start_time": "2022-06-22T09:24:52.849Z"
   },
   {
    "duration": 33,
    "start_time": "2022-06-22T09:24:53.345Z"
   },
   {
    "duration": 937,
    "start_time": "2022-06-22T09:24:56.281Z"
   },
   {
    "duration": 13,
    "start_time": "2022-06-22T09:24:57.222Z"
   },
   {
    "duration": 3,
    "start_time": "2022-06-22T09:24:57.253Z"
   },
   {
    "duration": 30,
    "start_time": "2022-06-22T09:24:57.259Z"
   },
   {
    "duration": 17,
    "start_time": "2022-06-22T09:24:58.663Z"
   },
   {
    "duration": 27,
    "start_time": "2022-06-22T09:26:08.714Z"
   },
   {
    "duration": 979,
    "start_time": "2022-06-22T09:26:17.692Z"
   },
   {
    "duration": 802,
    "start_time": "2022-06-22T09:26:22.526Z"
   },
   {
    "duration": 24,
    "start_time": "2022-06-22T09:26:51.818Z"
   },
   {
    "duration": 22,
    "start_time": "2022-06-22T09:27:07.124Z"
   },
   {
    "duration": 236,
    "start_time": "2022-06-22T09:27:24.692Z"
   },
   {
    "duration": 743,
    "start_time": "2022-06-22T09:27:33.279Z"
   },
   {
    "duration": 16,
    "start_time": "2022-06-22T09:28:44.266Z"
   },
   {
    "duration": 62,
    "start_time": "2022-06-22T09:28:49.014Z"
   },
   {
    "duration": 62,
    "start_time": "2022-06-22T09:30:08.398Z"
   },
   {
    "duration": 34,
    "start_time": "2022-06-22T09:30:29.096Z"
   },
   {
    "duration": 44,
    "start_time": "2022-06-22T09:30:34.550Z"
   },
   {
    "duration": 191,
    "start_time": "2022-06-22T09:30:38.548Z"
   },
   {
    "duration": 1431,
    "start_time": "2022-06-22T09:31:11.299Z"
   },
   {
    "duration": 143,
    "start_time": "2022-06-22T09:31:12.733Z"
   },
   {
    "duration": 8,
    "start_time": "2022-06-22T09:31:12.878Z"
   },
   {
    "duration": 41,
    "start_time": "2022-06-22T09:31:12.889Z"
   },
   {
    "duration": 39,
    "start_time": "2022-06-22T09:31:12.933Z"
   },
   {
    "duration": 45,
    "start_time": "2022-06-22T09:31:12.977Z"
   },
   {
    "duration": 14,
    "start_time": "2022-06-22T09:31:13.025Z"
   },
   {
    "duration": 10,
    "start_time": "2022-06-22T09:31:13.050Z"
   },
   {
    "duration": 20,
    "start_time": "2022-06-22T09:31:13.071Z"
   },
   {
    "duration": 7,
    "start_time": "2022-06-22T09:31:13.094Z"
   },
   {
    "duration": 9,
    "start_time": "2022-06-22T09:31:13.104Z"
   },
   {
    "duration": 39,
    "start_time": "2022-06-22T09:31:13.116Z"
   },
   {
    "duration": 31,
    "start_time": "2022-06-22T09:31:13.157Z"
   },
   {
    "duration": 7,
    "start_time": "2022-06-22T09:31:13.192Z"
   },
   {
    "duration": 15,
    "start_time": "2022-06-22T09:31:13.201Z"
   },
   {
    "duration": 89,
    "start_time": "2022-06-22T09:31:13.219Z"
   },
   {
    "duration": 7,
    "start_time": "2022-06-22T09:31:13.311Z"
   },
   {
    "duration": 49,
    "start_time": "2022-06-22T09:31:13.321Z"
   },
   {
    "duration": 235,
    "start_time": "2022-06-22T09:31:13.371Z"
   },
   {
    "duration": 16,
    "start_time": "2022-06-22T09:31:13.608Z"
   },
   {
    "duration": 304,
    "start_time": "2022-06-22T09:31:13.626Z"
   },
   {
    "duration": 3,
    "start_time": "2022-06-22T09:31:13.932Z"
   },
   {
    "duration": 440,
    "start_time": "2022-06-22T09:31:13.951Z"
   },
   {
    "duration": 9,
    "start_time": "2022-06-22T09:31:14.401Z"
   },
   {
    "duration": 29,
    "start_time": "2022-06-22T09:31:14.413Z"
   },
   {
    "duration": 288,
    "start_time": "2022-06-22T09:31:14.445Z"
   },
   {
    "duration": 908,
    "start_time": "2022-06-22T09:31:14.735Z"
   },
   {
    "duration": 908,
    "start_time": "2022-06-22T09:31:15.656Z"
   },
   {
    "duration": 13,
    "start_time": "2022-06-22T09:31:16.574Z"
   },
   {
    "duration": 9,
    "start_time": "2022-06-22T09:31:16.591Z"
   },
   {
    "duration": 29,
    "start_time": "2022-06-22T09:31:16.603Z"
   },
   {
    "duration": 659,
    "start_time": "2022-06-22T09:31:16.652Z"
   },
   {
    "duration": 347,
    "start_time": "2022-06-22T09:31:17.313Z"
   },
   {
    "duration": 0,
    "start_time": "2022-06-22T09:31:17.666Z"
   },
   {
    "duration": 0,
    "start_time": "2022-06-22T09:31:17.667Z"
   },
   {
    "duration": 0,
    "start_time": "2022-06-22T09:31:17.669Z"
   },
   {
    "duration": 0,
    "start_time": "2022-06-22T09:31:17.670Z"
   },
   {
    "duration": 0,
    "start_time": "2022-06-22T09:31:17.671Z"
   },
   {
    "duration": 0,
    "start_time": "2022-06-22T09:31:17.674Z"
   },
   {
    "duration": 0,
    "start_time": "2022-06-22T09:31:17.676Z"
   },
   {
    "duration": 0,
    "start_time": "2022-06-22T09:31:17.678Z"
   },
   {
    "duration": 0,
    "start_time": "2022-06-22T09:31:17.680Z"
   },
   {
    "duration": 69,
    "start_time": "2022-06-22T09:31:37.634Z"
   },
   {
    "duration": 29,
    "start_time": "2022-06-22T09:31:59.375Z"
   },
   {
    "duration": 190,
    "start_time": "2022-06-22T09:45:41.320Z"
   },
   {
    "duration": 335,
    "start_time": "2022-06-22T09:45:48.871Z"
   },
   {
    "duration": 4,
    "start_time": "2022-06-22T18:42:35.210Z"
   },
   {
    "duration": 61,
    "start_time": "2022-06-22T18:42:36.910Z"
   },
   {
    "duration": 2,
    "start_time": "2022-06-22T18:42:40.580Z"
   },
   {
    "duration": 7,
    "start_time": "2022-06-22T18:42:43.320Z"
   },
   {
    "duration": 6,
    "start_time": "2022-06-22T18:44:48.259Z"
   },
   {
    "duration": 1437,
    "start_time": "2022-06-22T18:44:56.116Z"
   },
   {
    "duration": 125,
    "start_time": "2022-06-22T18:44:57.555Z"
   },
   {
    "duration": 5,
    "start_time": "2022-06-22T18:44:57.682Z"
   },
   {
    "duration": 31,
    "start_time": "2022-06-22T18:44:57.689Z"
   },
   {
    "duration": 14,
    "start_time": "2022-06-22T18:44:57.722Z"
   },
   {
    "duration": 27,
    "start_time": "2022-06-22T18:44:57.740Z"
   },
   {
    "duration": 8,
    "start_time": "2022-06-22T18:44:57.768Z"
   },
   {
    "duration": 9,
    "start_time": "2022-06-22T18:44:57.777Z"
   },
   {
    "duration": 8,
    "start_time": "2022-06-22T18:44:57.787Z"
   },
   {
    "duration": 7,
    "start_time": "2022-06-22T18:44:57.797Z"
   },
   {
    "duration": 9,
    "start_time": "2022-06-22T18:44:57.805Z"
   },
   {
    "duration": 21,
    "start_time": "2022-06-22T18:44:57.815Z"
   },
   {
    "duration": 17,
    "start_time": "2022-06-22T18:44:57.840Z"
   },
   {
    "duration": 6,
    "start_time": "2022-06-22T18:44:57.859Z"
   },
   {
    "duration": 9,
    "start_time": "2022-06-22T18:44:57.866Z"
   },
   {
    "duration": 73,
    "start_time": "2022-06-22T18:44:57.877Z"
   },
   {
    "duration": 5,
    "start_time": "2022-06-22T18:44:57.951Z"
   },
   {
    "duration": 26,
    "start_time": "2022-06-22T18:44:57.958Z"
   },
   {
    "duration": 179,
    "start_time": "2022-06-22T18:44:57.985Z"
   },
   {
    "duration": 12,
    "start_time": "2022-06-22T18:44:58.165Z"
   },
   {
    "duration": 248,
    "start_time": "2022-06-22T18:44:58.178Z"
   },
   {
    "duration": 4,
    "start_time": "2022-06-22T18:44:58.428Z"
   },
   {
    "duration": 335,
    "start_time": "2022-06-22T18:44:58.434Z"
   },
   {
    "duration": 6,
    "start_time": "2022-06-22T18:44:58.772Z"
   },
   {
    "duration": 11,
    "start_time": "2022-06-22T18:44:58.780Z"
   },
   {
    "duration": 126,
    "start_time": "2022-06-22T18:44:58.792Z"
   },
   {
    "duration": 542,
    "start_time": "2022-06-22T18:44:58.920Z"
   },
   {
    "duration": 5,
    "start_time": "2022-06-22T18:44:59.465Z"
   },
   {
    "duration": 8,
    "start_time": "2022-06-22T18:44:59.471Z"
   },
   {
    "duration": 11,
    "start_time": "2022-06-22T18:44:59.481Z"
   },
   {
    "duration": 495,
    "start_time": "2022-06-22T18:44:59.494Z"
   },
   {
    "duration": 288,
    "start_time": "2022-06-22T18:44:59.991Z"
   },
   {
    "duration": 120,
    "start_time": "2022-06-22T18:45:00.280Z"
   },
   {
    "duration": 0,
    "start_time": "2022-06-22T18:45:00.401Z"
   },
   {
    "duration": 0,
    "start_time": "2022-06-22T18:45:00.403Z"
   },
   {
    "duration": 0,
    "start_time": "2022-06-22T18:45:00.404Z"
   },
   {
    "duration": 0,
    "start_time": "2022-06-22T18:45:00.405Z"
   },
   {
    "duration": 0,
    "start_time": "2022-06-22T18:45:00.406Z"
   },
   {
    "duration": 0,
    "start_time": "2022-06-22T18:45:00.407Z"
   },
   {
    "duration": 0,
    "start_time": "2022-06-22T18:45:00.408Z"
   },
   {
    "duration": 0,
    "start_time": "2022-06-22T18:45:00.409Z"
   },
   {
    "duration": 4,
    "start_time": "2022-06-22T18:45:25.285Z"
   },
   {
    "duration": 5,
    "start_time": "2022-06-22T18:45:40.936Z"
   },
   {
    "duration": 7,
    "start_time": "2022-06-22T18:46:04.579Z"
   },
   {
    "duration": 5,
    "start_time": "2022-06-22T18:46:24.236Z"
   },
   {
    "duration": 23,
    "start_time": "2022-06-22T18:46:24.794Z"
   },
   {
    "duration": 6,
    "start_time": "2022-06-22T18:46:51.442Z"
   },
   {
    "duration": 335,
    "start_time": "2022-06-22T18:46:52.060Z"
   },
   {
    "duration": 5,
    "start_time": "2022-06-22T18:47:38.744Z"
   },
   {
    "duration": 283,
    "start_time": "2022-06-22T18:47:39.255Z"
   },
   {
    "duration": 5,
    "start_time": "2022-06-22T18:47:46.819Z"
   },
   {
    "duration": 339,
    "start_time": "2022-06-22T18:47:47.479Z"
   },
   {
    "duration": 4,
    "start_time": "2022-06-22T18:48:04.073Z"
   },
   {
    "duration": 304,
    "start_time": "2022-06-22T18:48:04.646Z"
   },
   {
    "duration": 11,
    "start_time": "2022-06-22T18:48:36.019Z"
   },
   {
    "duration": 8,
    "start_time": "2022-06-22T18:49:27.538Z"
   },
   {
    "duration": 324,
    "start_time": "2022-06-22T18:49:27.938Z"
   },
   {
    "duration": 8,
    "start_time": "2022-06-22T18:49:58.849Z"
   },
   {
    "duration": 13,
    "start_time": "2022-06-22T18:50:32.946Z"
   },
   {
    "duration": 5,
    "start_time": "2022-06-22T18:50:43.198Z"
   },
   {
    "duration": 12,
    "start_time": "2022-06-22T18:50:43.528Z"
   },
   {
    "duration": 13,
    "start_time": "2022-06-22T18:50:43.849Z"
   },
   {
    "duration": 1237,
    "start_time": "2022-06-22T18:54:04.177Z"
   },
   {
    "duration": 91,
    "start_time": "2022-06-22T18:54:05.416Z"
   },
   {
    "duration": 6,
    "start_time": "2022-06-22T18:54:05.509Z"
   },
   {
    "duration": 50,
    "start_time": "2022-06-22T18:54:05.516Z"
   },
   {
    "duration": 11,
    "start_time": "2022-06-22T18:54:05.569Z"
   },
   {
    "duration": 35,
    "start_time": "2022-06-22T18:54:05.581Z"
   },
   {
    "duration": 20,
    "start_time": "2022-06-22T18:54:05.618Z"
   },
   {
    "duration": 10,
    "start_time": "2022-06-22T18:54:05.641Z"
   },
   {
    "duration": 13,
    "start_time": "2022-06-22T18:54:05.653Z"
   },
   {
    "duration": 11,
    "start_time": "2022-06-22T18:54:05.667Z"
   },
   {
    "duration": 14,
    "start_time": "2022-06-22T18:54:05.679Z"
   },
   {
    "duration": 47,
    "start_time": "2022-06-22T18:54:05.694Z"
   },
   {
    "duration": 30,
    "start_time": "2022-06-22T18:54:05.743Z"
   },
   {
    "duration": 7,
    "start_time": "2022-06-22T18:54:05.776Z"
   },
   {
    "duration": 15,
    "start_time": "2022-06-22T18:54:05.785Z"
   },
   {
    "duration": 55,
    "start_time": "2022-06-22T18:54:05.801Z"
   },
   {
    "duration": 4,
    "start_time": "2022-06-22T18:54:05.858Z"
   },
   {
    "duration": 27,
    "start_time": "2022-06-22T18:54:05.863Z"
   },
   {
    "duration": 185,
    "start_time": "2022-06-22T18:54:05.891Z"
   },
   {
    "duration": 11,
    "start_time": "2022-06-22T18:54:06.078Z"
   },
   {
    "duration": 264,
    "start_time": "2022-06-22T18:54:06.091Z"
   },
   {
    "duration": 2,
    "start_time": "2022-06-22T18:54:06.357Z"
   },
   {
    "duration": 329,
    "start_time": "2022-06-22T18:54:06.360Z"
   },
   {
    "duration": 5,
    "start_time": "2022-06-22T18:54:06.691Z"
   },
   {
    "duration": 12,
    "start_time": "2022-06-22T18:54:06.698Z"
   },
   {
    "duration": 149,
    "start_time": "2022-06-22T18:54:06.711Z"
   },
   {
    "duration": 560,
    "start_time": "2022-06-22T18:54:06.862Z"
   },
   {
    "duration": 11,
    "start_time": "2022-06-22T18:54:07.423Z"
   },
   {
    "duration": 437,
    "start_time": "2022-06-22T18:54:07.437Z"
   },
   {
    "duration": 0,
    "start_time": "2022-06-22T18:54:07.876Z"
   },
   {
    "duration": 0,
    "start_time": "2022-06-22T18:54:07.877Z"
   },
   {
    "duration": 0,
    "start_time": "2022-06-22T18:54:07.878Z"
   },
   {
    "duration": 0,
    "start_time": "2022-06-22T18:54:07.879Z"
   },
   {
    "duration": 0,
    "start_time": "2022-06-22T18:54:07.880Z"
   },
   {
    "duration": 0,
    "start_time": "2022-06-22T18:54:07.881Z"
   },
   {
    "duration": 0,
    "start_time": "2022-06-22T18:54:07.882Z"
   },
   {
    "duration": 0,
    "start_time": "2022-06-22T18:54:07.883Z"
   },
   {
    "duration": 0,
    "start_time": "2022-06-22T18:54:07.884Z"
   },
   {
    "duration": 0,
    "start_time": "2022-06-22T18:54:07.886Z"
   },
   {
    "duration": 0,
    "start_time": "2022-06-22T18:54:07.886Z"
   },
   {
    "duration": 0,
    "start_time": "2022-06-22T18:54:07.888Z"
   },
   {
    "duration": 0,
    "start_time": "2022-06-22T18:54:07.888Z"
   },
   {
    "duration": 0,
    "start_time": "2022-06-22T18:54:07.890Z"
   },
   {
    "duration": 5,
    "start_time": "2022-06-22T18:55:31.780Z"
   },
   {
    "duration": 362,
    "start_time": "2022-06-22T18:55:32.493Z"
   },
   {
    "duration": 48,
    "start_time": "2022-06-22T18:55:45.476Z"
   },
   {
    "duration": 329,
    "start_time": "2022-06-22T18:55:45.777Z"
   },
   {
    "duration": 55,
    "start_time": "2022-06-22T18:55:51.510Z"
   },
   {
    "duration": 347,
    "start_time": "2022-06-22T18:55:52.096Z"
   },
   {
    "duration": 70,
    "start_time": "2022-06-22T18:56:00.940Z"
   },
   {
    "duration": 350,
    "start_time": "2022-06-22T18:56:01.444Z"
   },
   {
    "duration": 52,
    "start_time": "2022-06-22T18:56:06.501Z"
   },
   {
    "duration": 331,
    "start_time": "2022-06-22T18:56:07.142Z"
   },
   {
    "duration": 62,
    "start_time": "2022-06-22T18:56:11.284Z"
   },
   {
    "duration": 359,
    "start_time": "2022-06-22T18:56:11.922Z"
   },
   {
    "duration": 54,
    "start_time": "2022-06-22T18:56:15.742Z"
   },
   {
    "duration": 333,
    "start_time": "2022-06-22T18:56:16.144Z"
   },
   {
    "duration": 138,
    "start_time": "2022-06-22T19:03:16.170Z"
   },
   {
    "duration": 162,
    "start_time": "2022-06-22T19:03:28.518Z"
   },
   {
    "duration": 168,
    "start_time": "2022-06-22T19:03:34.224Z"
   },
   {
    "duration": 4,
    "start_time": "2022-06-22T19:04:44.119Z"
   },
   {
    "duration": 138,
    "start_time": "2022-06-22T19:04:45.168Z"
   },
   {
    "duration": 269,
    "start_time": "2022-06-22T19:04:49.288Z"
   },
   {
    "duration": 154,
    "start_time": "2022-06-22T19:04:50.381Z"
   },
   {
    "duration": 33,
    "start_time": "2022-06-22T19:05:39.649Z"
   },
   {
    "duration": 6,
    "start_time": "2022-06-22T19:06:42.168Z"
   },
   {
    "duration": 233,
    "start_time": "2022-06-22T19:06:42.773Z"
   },
   {
    "duration": 241,
    "start_time": "2022-06-22T19:06:45.771Z"
   },
   {
    "duration": 7,
    "start_time": "2022-06-22T19:06:53.612Z"
   },
   {
    "duration": 164,
    "start_time": "2022-06-22T19:06:54.314Z"
   },
   {
    "duration": 135,
    "start_time": "2022-06-22T19:07:05.209Z"
   },
   {
    "duration": 6,
    "start_time": "2022-06-22T19:07:07.867Z"
   },
   {
    "duration": 150,
    "start_time": "2022-06-22T19:07:08.292Z"
   },
   {
    "duration": 136,
    "start_time": "2022-06-22T19:07:45.311Z"
   },
   {
    "duration": 161,
    "start_time": "2022-06-22T19:11:31.481Z"
   },
   {
    "duration": 7,
    "start_time": "2022-06-22T19:11:34.075Z"
   },
   {
    "duration": 141,
    "start_time": "2022-06-22T19:11:34.440Z"
   },
   {
    "duration": 8,
    "start_time": "2022-06-22T19:16:34.265Z"
   },
   {
    "duration": 9,
    "start_time": "2022-06-22T19:16:53.368Z"
   },
   {
    "duration": 13,
    "start_time": "2022-06-22T19:17:10.020Z"
   },
   {
    "duration": 10,
    "start_time": "2022-06-22T19:17:18.785Z"
   },
   {
    "duration": 260,
    "start_time": "2022-06-22T19:17:40.773Z"
   },
   {
    "duration": 248,
    "start_time": "2022-06-22T19:17:46.910Z"
   },
   {
    "duration": 238,
    "start_time": "2022-06-22T19:17:57.164Z"
   },
   {
    "duration": 295,
    "start_time": "2022-06-22T19:18:30.985Z"
   },
   {
    "duration": 1169,
    "start_time": "2022-06-22T19:18:57.813Z"
   },
   {
    "duration": 79,
    "start_time": "2022-06-22T19:18:58.984Z"
   },
   {
    "duration": 6,
    "start_time": "2022-06-22T19:18:59.068Z"
   },
   {
    "duration": 31,
    "start_time": "2022-06-22T19:18:59.076Z"
   },
   {
    "duration": 25,
    "start_time": "2022-06-22T19:18:59.108Z"
   },
   {
    "duration": 23,
    "start_time": "2022-06-22T19:18:59.135Z"
   },
   {
    "duration": 8,
    "start_time": "2022-06-22T19:18:59.160Z"
   },
   {
    "duration": 33,
    "start_time": "2022-06-22T19:18:59.169Z"
   },
   {
    "duration": 8,
    "start_time": "2022-06-22T19:18:59.205Z"
   },
   {
    "duration": 6,
    "start_time": "2022-06-22T19:18:59.215Z"
   },
   {
    "duration": 6,
    "start_time": "2022-06-22T19:18:59.222Z"
   },
   {
    "duration": 19,
    "start_time": "2022-06-22T19:18:59.230Z"
   },
   {
    "duration": 18,
    "start_time": "2022-06-22T19:18:59.251Z"
   },
   {
    "duration": 6,
    "start_time": "2022-06-22T19:18:59.271Z"
   },
   {
    "duration": 12,
    "start_time": "2022-06-22T19:18:59.278Z"
   },
   {
    "duration": 63,
    "start_time": "2022-06-22T19:18:59.292Z"
   },
   {
    "duration": 5,
    "start_time": "2022-06-22T19:18:59.357Z"
   },
   {
    "duration": 17,
    "start_time": "2022-06-22T19:18:59.363Z"
   },
   {
    "duration": 170,
    "start_time": "2022-06-22T19:18:59.382Z"
   },
   {
    "duration": 11,
    "start_time": "2022-06-22T19:18:59.554Z"
   },
   {
    "duration": 218,
    "start_time": "2022-06-22T19:18:59.567Z"
   },
   {
    "duration": 2,
    "start_time": "2022-06-22T19:18:59.787Z"
   },
   {
    "duration": 294,
    "start_time": "2022-06-22T19:18:59.791Z"
   },
   {
    "duration": 8,
    "start_time": "2022-06-22T19:19:00.087Z"
   },
   {
    "duration": 23,
    "start_time": "2022-06-22T19:19:00.096Z"
   },
   {
    "duration": 116,
    "start_time": "2022-06-22T19:19:00.121Z"
   },
   {
    "duration": 519,
    "start_time": "2022-06-22T19:19:00.240Z"
   },
   {
    "duration": 8,
    "start_time": "2022-06-22T19:19:00.760Z"
   },
   {
    "duration": 13,
    "start_time": "2022-06-22T19:19:00.769Z"
   },
   {
    "duration": 22,
    "start_time": "2022-06-22T19:19:00.784Z"
   },
   {
    "duration": 277,
    "start_time": "2022-06-22T19:19:00.807Z"
   },
   {
    "duration": 301,
    "start_time": "2022-06-22T19:19:01.085Z"
   },
   {
    "duration": 3,
    "start_time": "2022-06-22T19:19:01.388Z"
   },
   {
    "duration": 36,
    "start_time": "2022-06-22T19:19:01.393Z"
   },
   {
    "duration": 13,
    "start_time": "2022-06-22T19:19:01.430Z"
   },
   {
    "duration": 26,
    "start_time": "2022-06-22T19:19:01.445Z"
   },
   {
    "duration": 470,
    "start_time": "2022-06-22T19:19:01.473Z"
   },
   {
    "duration": 257,
    "start_time": "2022-06-22T19:19:01.944Z"
   },
   {
    "duration": 101,
    "start_time": "2022-06-22T19:19:02.202Z"
   },
   {
    "duration": 0,
    "start_time": "2022-06-22T19:19:02.305Z"
   },
   {
    "duration": 0,
    "start_time": "2022-06-22T19:19:02.306Z"
   },
   {
    "duration": 0,
    "start_time": "2022-06-22T19:19:02.307Z"
   },
   {
    "duration": 0,
    "start_time": "2022-06-22T19:19:02.308Z"
   },
   {
    "duration": 0,
    "start_time": "2022-06-22T19:19:02.310Z"
   },
   {
    "duration": 0,
    "start_time": "2022-06-22T19:19:02.311Z"
   },
   {
    "duration": 0,
    "start_time": "2022-06-22T19:19:02.312Z"
   },
   {
    "duration": 0,
    "start_time": "2022-06-22T19:19:02.313Z"
   },
   {
    "duration": 6,
    "start_time": "2022-06-22T19:20:24.065Z"
   },
   {
    "duration": 8,
    "start_time": "2022-06-22T19:20:24.811Z"
   },
   {
    "duration": 12,
    "start_time": "2022-06-22T19:20:25.342Z"
   },
   {
    "duration": 10,
    "start_time": "2022-06-22T19:20:26.143Z"
   },
   {
    "duration": 276,
    "start_time": "2022-06-22T19:20:26.722Z"
   },
   {
    "duration": 285,
    "start_time": "2022-06-22T19:20:27.538Z"
   },
   {
    "duration": 3,
    "start_time": "2022-06-22T19:20:28.996Z"
   },
   {
    "duration": 193,
    "start_time": "2022-06-22T19:22:26.242Z"
   },
   {
    "duration": 303,
    "start_time": "2022-06-22T19:22:30.490Z"
   },
   {
    "duration": 176,
    "start_time": "2022-06-22T19:22:34.942Z"
   },
   {
    "duration": 12,
    "start_time": "2022-06-22T19:29:32.461Z"
   },
   {
    "duration": 4,
    "start_time": "2022-06-22T19:31:06.938Z"
   },
   {
    "duration": 7,
    "start_time": "2022-06-22T19:31:18.266Z"
   },
   {
    "duration": 13,
    "start_time": "2022-06-22T19:31:24.507Z"
   },
   {
    "duration": 176,
    "start_time": "2022-06-22T19:31:28.981Z"
   },
   {
    "duration": 200,
    "start_time": "2022-06-22T19:31:39.394Z"
   },
   {
    "duration": 1263,
    "start_time": "2022-06-22T19:32:04.623Z"
   },
   {
    "duration": 92,
    "start_time": "2022-06-22T19:32:05.888Z"
   },
   {
    "duration": 7,
    "start_time": "2022-06-22T19:32:05.982Z"
   },
   {
    "duration": 51,
    "start_time": "2022-06-22T19:32:05.991Z"
   },
   {
    "duration": 11,
    "start_time": "2022-06-22T19:32:06.044Z"
   },
   {
    "duration": 22,
    "start_time": "2022-06-22T19:32:06.056Z"
   },
   {
    "duration": 10,
    "start_time": "2022-06-22T19:32:06.079Z"
   },
   {
    "duration": 39,
    "start_time": "2022-06-22T19:32:06.091Z"
   },
   {
    "duration": 16,
    "start_time": "2022-06-22T19:32:06.144Z"
   },
   {
    "duration": 32,
    "start_time": "2022-06-22T19:32:06.164Z"
   },
   {
    "duration": 10,
    "start_time": "2022-06-22T19:32:06.198Z"
   },
   {
    "duration": 23,
    "start_time": "2022-06-22T19:32:06.210Z"
   },
   {
    "duration": 31,
    "start_time": "2022-06-22T19:32:06.240Z"
   },
   {
    "duration": 16,
    "start_time": "2022-06-22T19:32:06.273Z"
   },
   {
    "duration": 26,
    "start_time": "2022-06-22T19:32:06.291Z"
   },
   {
    "duration": 95,
    "start_time": "2022-06-22T19:32:06.319Z"
   },
   {
    "duration": 6,
    "start_time": "2022-06-22T19:32:06.416Z"
   },
   {
    "duration": 36,
    "start_time": "2022-06-22T19:32:06.423Z"
   },
   {
    "duration": 184,
    "start_time": "2022-06-22T19:32:06.461Z"
   },
   {
    "duration": 14,
    "start_time": "2022-06-22T19:32:06.647Z"
   },
   {
    "duration": 280,
    "start_time": "2022-06-22T19:32:06.663Z"
   },
   {
    "duration": 327,
    "start_time": "2022-06-22T19:32:06.946Z"
   },
   {
    "duration": 7,
    "start_time": "2022-06-22T19:32:07.275Z"
   },
   {
    "duration": 19,
    "start_time": "2022-06-22T19:32:07.283Z"
   },
   {
    "duration": 149,
    "start_time": "2022-06-22T19:32:07.303Z"
   },
   {
    "duration": 625,
    "start_time": "2022-06-22T19:32:07.453Z"
   },
   {
    "duration": 8,
    "start_time": "2022-06-22T19:32:08.080Z"
   },
   {
    "duration": 11,
    "start_time": "2022-06-22T19:32:08.091Z"
   },
   {
    "duration": 28,
    "start_time": "2022-06-22T19:32:08.104Z"
   },
   {
    "duration": 12,
    "start_time": "2022-06-22T19:32:08.137Z"
   },
   {
    "duration": 317,
    "start_time": "2022-06-22T19:32:08.151Z"
   },
   {
    "duration": 348,
    "start_time": "2022-06-22T19:32:08.471Z"
   },
   {
    "duration": 231,
    "start_time": "2022-06-22T19:32:08.821Z"
   },
   {
    "duration": 303,
    "start_time": "2022-06-22T19:32:09.054Z"
   },
   {
    "duration": 109,
    "start_time": "2022-06-22T19:32:09.359Z"
   },
   {
    "duration": 1,
    "start_time": "2022-06-22T19:32:09.469Z"
   },
   {
    "duration": 0,
    "start_time": "2022-06-22T19:32:09.471Z"
   },
   {
    "duration": 0,
    "start_time": "2022-06-22T19:32:09.472Z"
   },
   {
    "duration": 0,
    "start_time": "2022-06-22T19:32:09.474Z"
   },
   {
    "duration": 0,
    "start_time": "2022-06-22T19:32:09.475Z"
   },
   {
    "duration": 0,
    "start_time": "2022-06-22T19:32:09.476Z"
   },
   {
    "duration": 0,
    "start_time": "2022-06-22T19:32:09.477Z"
   },
   {
    "duration": 0,
    "start_time": "2022-06-22T19:32:09.478Z"
   },
   {
    "duration": 49,
    "start_time": "2022-06-22T19:33:58.491Z"
   },
   {
    "duration": 279,
    "start_time": "2022-06-22T19:33:59.397Z"
   },
   {
    "duration": 5,
    "start_time": "2022-06-22T19:34:04.366Z"
   },
   {
    "duration": 272,
    "start_time": "2022-06-22T19:34:06.189Z"
   },
   {
    "duration": 15,
    "start_time": "2022-06-22T19:34:35.939Z"
   },
   {
    "duration": 11,
    "start_time": "2022-06-22T19:37:16.818Z"
   },
   {
    "duration": 3,
    "start_time": "2022-06-22T19:37:31.346Z"
   },
   {
    "duration": 8,
    "start_time": "2022-06-22T19:37:34.068Z"
   },
   {
    "duration": 12,
    "start_time": "2022-06-22T19:37:44.151Z"
   },
   {
    "duration": 23,
    "start_time": "2022-06-22T19:38:45.825Z"
   },
   {
    "duration": 19,
    "start_time": "2022-06-22T19:39:17.147Z"
   },
   {
    "duration": 18,
    "start_time": "2022-06-22T19:39:21.390Z"
   },
   {
    "duration": 16,
    "start_time": "2022-06-22T19:39:35.799Z"
   },
   {
    "duration": 4,
    "start_time": "2022-06-22T19:40:22.893Z"
   },
   {
    "duration": 5,
    "start_time": "2022-06-22T19:40:45.309Z"
   },
   {
    "duration": 13,
    "start_time": "2022-06-22T19:40:59.139Z"
   },
   {
    "duration": 11,
    "start_time": "2022-06-22T19:41:23.582Z"
   },
   {
    "duration": 4,
    "start_time": "2022-06-22T19:41:25.667Z"
   },
   {
    "duration": 12,
    "start_time": "2022-06-22T19:41:26.195Z"
   },
   {
    "duration": 3,
    "start_time": "2022-06-22T19:47:27.759Z"
   },
   {
    "duration": 2,
    "start_time": "2022-06-22T19:47:30.510Z"
   },
   {
    "duration": 4,
    "start_time": "2022-06-22T19:47:30.919Z"
   },
   {
    "duration": 2,
    "start_time": "2022-06-22T19:49:04.213Z"
   },
   {
    "duration": 4,
    "start_time": "2022-06-22T19:49:04.791Z"
   },
   {
    "duration": 4,
    "start_time": "2022-06-22T19:49:05.208Z"
   },
   {
    "duration": 14,
    "start_time": "2022-06-22T19:49:05.673Z"
   },
   {
    "duration": 4,
    "start_time": "2022-06-22T19:49:14.480Z"
   },
   {
    "duration": 14,
    "start_time": "2022-06-22T19:49:14.753Z"
   },
   {
    "duration": 3,
    "start_time": "2022-06-22T19:49:18.294Z"
   },
   {
    "duration": 4,
    "start_time": "2022-06-22T19:49:18.849Z"
   },
   {
    "duration": 4,
    "start_time": "2022-06-22T19:49:19.342Z"
   },
   {
    "duration": 13,
    "start_time": "2022-06-22T19:49:19.839Z"
   },
   {
    "duration": 3,
    "start_time": "2022-06-22T19:49:31.784Z"
   },
   {
    "duration": 3,
    "start_time": "2022-06-22T19:49:33.288Z"
   },
   {
    "duration": 3,
    "start_time": "2022-06-22T19:49:33.488Z"
   },
   {
    "duration": 3,
    "start_time": "2022-06-22T19:49:33.696Z"
   },
   {
    "duration": 13,
    "start_time": "2022-06-22T19:49:34.042Z"
   },
   {
    "duration": 3,
    "start_time": "2022-06-22T19:50:46.142Z"
   },
   {
    "duration": 12,
    "start_time": "2022-06-22T19:50:46.561Z"
   },
   {
    "duration": 2,
    "start_time": "2022-06-22T19:50:48.514Z"
   },
   {
    "duration": 3,
    "start_time": "2022-06-22T19:50:48.753Z"
   },
   {
    "duration": 4,
    "start_time": "2022-06-22T19:50:48.992Z"
   },
   {
    "duration": 12,
    "start_time": "2022-06-22T19:50:49.199Z"
   },
   {
    "duration": 13,
    "start_time": "2022-06-22T19:51:41.196Z"
   },
   {
    "duration": 1275,
    "start_time": "2022-06-22T19:52:03.238Z"
   },
   {
    "duration": 124,
    "start_time": "2022-06-22T19:52:04.517Z"
   },
   {
    "duration": 10,
    "start_time": "2022-06-22T19:52:04.643Z"
   },
   {
    "duration": 63,
    "start_time": "2022-06-22T19:52:04.655Z"
   },
   {
    "duration": 26,
    "start_time": "2022-06-22T19:52:04.721Z"
   },
   {
    "duration": 33,
    "start_time": "2022-06-22T19:52:04.750Z"
   },
   {
    "duration": 22,
    "start_time": "2022-06-22T19:52:04.785Z"
   },
   {
    "duration": 44,
    "start_time": "2022-06-22T19:52:04.810Z"
   },
   {
    "duration": 21,
    "start_time": "2022-06-22T19:52:04.857Z"
   },
   {
    "duration": 11,
    "start_time": "2022-06-22T19:52:04.880Z"
   },
   {
    "duration": 15,
    "start_time": "2022-06-22T19:52:04.893Z"
   },
   {
    "duration": 13,
    "start_time": "2022-06-22T19:52:04.910Z"
   },
   {
    "duration": 21,
    "start_time": "2022-06-22T19:52:04.925Z"
   },
   {
    "duration": 7,
    "start_time": "2022-06-22T19:52:04.952Z"
   },
   {
    "duration": 13,
    "start_time": "2022-06-22T19:52:04.962Z"
   },
   {
    "duration": 81,
    "start_time": "2022-06-22T19:52:04.978Z"
   },
   {
    "duration": 7,
    "start_time": "2022-06-22T19:52:05.061Z"
   },
   {
    "duration": 30,
    "start_time": "2022-06-22T19:52:05.070Z"
   },
   {
    "duration": 260,
    "start_time": "2022-06-22T19:52:05.102Z"
   },
   {
    "duration": 12,
    "start_time": "2022-06-22T19:52:05.364Z"
   },
   {
    "duration": 275,
    "start_time": "2022-06-22T19:52:05.378Z"
   },
   {
    "duration": 334,
    "start_time": "2022-06-22T19:52:05.655Z"
   },
   {
    "duration": 8,
    "start_time": "2022-06-22T19:52:05.991Z"
   },
   {
    "duration": 23,
    "start_time": "2022-06-22T19:52:06.002Z"
   },
   {
    "duration": 154,
    "start_time": "2022-06-22T19:52:06.030Z"
   },
   {
    "duration": 567,
    "start_time": "2022-06-22T19:52:06.186Z"
   },
   {
    "duration": 6,
    "start_time": "2022-06-22T19:52:06.755Z"
   },
   {
    "duration": 11,
    "start_time": "2022-06-22T19:52:06.762Z"
   },
   {
    "duration": 14,
    "start_time": "2022-06-22T19:52:06.775Z"
   },
   {
    "duration": 12,
    "start_time": "2022-06-22T19:52:06.791Z"
   },
   {
    "duration": 300,
    "start_time": "2022-06-22T19:52:06.805Z"
   },
   {
    "duration": 304,
    "start_time": "2022-06-22T19:52:07.107Z"
   },
   {
    "duration": 198,
    "start_time": "2022-06-22T19:52:07.414Z"
   },
   {
    "duration": 29,
    "start_time": "2022-06-22T19:52:07.614Z"
   },
   {
    "duration": 23,
    "start_time": "2022-06-22T19:52:07.645Z"
   },
   {
    "duration": 48,
    "start_time": "2022-06-22T19:52:07.670Z"
   },
   {
    "duration": 0,
    "start_time": "2022-06-22T19:52:07.720Z"
   },
   {
    "duration": 0,
    "start_time": "2022-06-22T19:52:07.722Z"
   },
   {
    "duration": 14,
    "start_time": "2022-06-22T19:52:32.276Z"
   },
   {
    "duration": 32,
    "start_time": "2022-06-22T19:52:47.051Z"
   },
   {
    "duration": 22,
    "start_time": "2022-06-22T19:53:02.942Z"
   },
   {
    "duration": 896,
    "start_time": "2022-06-22T19:53:44.862Z"
   },
   {
    "duration": 228,
    "start_time": "2022-06-22T19:54:00.357Z"
   },
   {
    "duration": 16,
    "start_time": "2022-06-22T19:57:59.296Z"
   },
   {
    "duration": 394,
    "start_time": "2022-06-22T20:00:22.314Z"
   },
   {
    "duration": 416,
    "start_time": "2022-06-22T20:01:02.552Z"
   },
   {
    "duration": 380,
    "start_time": "2022-06-22T20:02:13.374Z"
   },
   {
    "duration": 10,
    "start_time": "2022-06-22T20:04:27.353Z"
   },
   {
    "duration": 15,
    "start_time": "2022-06-22T20:07:10.878Z"
   },
   {
    "duration": 15,
    "start_time": "2022-06-22T20:07:26.937Z"
   },
   {
    "duration": 14,
    "start_time": "2022-06-22T20:07:27.845Z"
   },
   {
    "duration": 8,
    "start_time": "2022-06-22T20:07:45.104Z"
   },
   {
    "duration": 11,
    "start_time": "2022-06-22T20:37:29.566Z"
   },
   {
    "duration": 14,
    "start_time": "2022-06-22T20:37:30.182Z"
   },
   {
    "duration": 13,
    "start_time": "2022-06-22T20:39:09.427Z"
   },
   {
    "duration": 21,
    "start_time": "2022-06-22T20:40:12.917Z"
   },
   {
    "duration": 501,
    "start_time": "2022-06-22T20:40:39.316Z"
   },
   {
    "duration": 13,
    "start_time": "2022-06-22T20:43:13.682Z"
   },
   {
    "duration": 277,
    "start_time": "2022-06-22T20:43:45.583Z"
   },
   {
    "duration": 1147,
    "start_time": "2022-06-22T20:43:55.413Z"
   },
   {
    "duration": 97,
    "start_time": "2022-06-22T20:43:56.562Z"
   },
   {
    "duration": 7,
    "start_time": "2022-06-22T20:43:56.661Z"
   },
   {
    "duration": 49,
    "start_time": "2022-06-22T20:43:56.670Z"
   },
   {
    "duration": 25,
    "start_time": "2022-06-22T20:43:56.721Z"
   },
   {
    "duration": 34,
    "start_time": "2022-06-22T20:43:56.747Z"
   },
   {
    "duration": 8,
    "start_time": "2022-06-22T20:43:56.783Z"
   },
   {
    "duration": 9,
    "start_time": "2022-06-22T20:43:56.793Z"
   },
   {
    "duration": 12,
    "start_time": "2022-06-22T20:43:56.803Z"
   },
   {
    "duration": 5,
    "start_time": "2022-06-22T20:43:56.817Z"
   },
   {
    "duration": 32,
    "start_time": "2022-06-22T20:43:56.823Z"
   },
   {
    "duration": 17,
    "start_time": "2022-06-22T20:43:56.857Z"
   },
   {
    "duration": 20,
    "start_time": "2022-06-22T20:43:56.877Z"
   },
   {
    "duration": 6,
    "start_time": "2022-06-22T20:43:56.898Z"
   },
   {
    "duration": 10,
    "start_time": "2022-06-22T20:43:56.905Z"
   },
   {
    "duration": 59,
    "start_time": "2022-06-22T20:43:56.917Z"
   },
   {
    "duration": 5,
    "start_time": "2022-06-22T20:43:56.977Z"
   },
   {
    "duration": 20,
    "start_time": "2022-06-22T20:43:56.983Z"
   },
   {
    "duration": 185,
    "start_time": "2022-06-22T20:43:57.005Z"
   },
   {
    "duration": 12,
    "start_time": "2022-06-22T20:43:57.192Z"
   },
   {
    "duration": 267,
    "start_time": "2022-06-22T20:43:57.205Z"
   },
   {
    "duration": 327,
    "start_time": "2022-06-22T20:43:57.474Z"
   },
   {
    "duration": 6,
    "start_time": "2022-06-22T20:43:57.803Z"
   },
   {
    "duration": 10,
    "start_time": "2022-06-22T20:43:57.811Z"
   },
   {
    "duration": 142,
    "start_time": "2022-06-22T20:43:57.823Z"
   },
   {
    "duration": 557,
    "start_time": "2022-06-22T20:43:57.966Z"
   },
   {
    "duration": 14,
    "start_time": "2022-06-22T20:43:58.525Z"
   },
   {
    "duration": 30,
    "start_time": "2022-06-22T20:43:58.546Z"
   },
   {
    "duration": 13,
    "start_time": "2022-06-22T20:43:58.577Z"
   },
   {
    "duration": 8,
    "start_time": "2022-06-22T20:43:58.591Z"
   },
   {
    "duration": 303,
    "start_time": "2022-06-22T20:43:58.601Z"
   },
   {
    "duration": 298,
    "start_time": "2022-06-22T20:43:58.905Z"
   },
   {
    "duration": 252,
    "start_time": "2022-06-22T20:43:59.205Z"
   },
   {
    "duration": 25,
    "start_time": "2022-06-22T20:43:59.460Z"
   },
   {
    "duration": 426,
    "start_time": "2022-06-22T20:43:59.487Z"
   },
   {
    "duration": 406,
    "start_time": "2022-06-22T20:43:59.915Z"
   },
   {
    "duration": 420,
    "start_time": "2022-06-22T20:44:00.325Z"
   },
   {
    "duration": 63,
    "start_time": "2022-06-22T20:44:00.747Z"
   },
   {
    "duration": 0,
    "start_time": "2022-06-22T20:44:00.812Z"
   },
   {
    "duration": 0,
    "start_time": "2022-06-22T20:44:00.813Z"
   },
   {
    "duration": 141,
    "start_time": "2022-06-22T20:45:05.994Z"
   },
   {
    "duration": 10,
    "start_time": "2022-06-22T20:47:07.569Z"
   },
   {
    "duration": 110,
    "start_time": "2022-06-22T20:47:41.746Z"
   },
   {
    "duration": 16,
    "start_time": "2022-06-22T20:48:50.342Z"
   },
   {
    "duration": 71,
    "start_time": "2022-06-22T20:48:52.295Z"
   },
   {
    "duration": 1249,
    "start_time": "2022-06-22T20:49:11.324Z"
   },
   {
    "duration": 89,
    "start_time": "2022-06-22T20:49:12.575Z"
   },
   {
    "duration": 7,
    "start_time": "2022-06-22T20:49:12.666Z"
   },
   {
    "duration": 36,
    "start_time": "2022-06-22T20:49:12.677Z"
   },
   {
    "duration": 29,
    "start_time": "2022-06-22T20:49:12.714Z"
   },
   {
    "duration": 43,
    "start_time": "2022-06-22T20:49:12.746Z"
   },
   {
    "duration": 11,
    "start_time": "2022-06-22T20:49:12.791Z"
   },
   {
    "duration": 14,
    "start_time": "2022-06-22T20:49:12.803Z"
   },
   {
    "duration": 15,
    "start_time": "2022-06-22T20:49:12.819Z"
   },
   {
    "duration": 31,
    "start_time": "2022-06-22T20:49:12.841Z"
   },
   {
    "duration": 12,
    "start_time": "2022-06-22T20:49:12.875Z"
   },
   {
    "duration": 12,
    "start_time": "2022-06-22T20:49:12.889Z"
   },
   {
    "duration": 60,
    "start_time": "2022-06-22T20:49:12.903Z"
   },
   {
    "duration": 5,
    "start_time": "2022-06-22T20:49:12.965Z"
   },
   {
    "duration": 10,
    "start_time": "2022-06-22T20:49:12.972Z"
   },
   {
    "duration": 66,
    "start_time": "2022-06-22T20:49:12.984Z"
   },
   {
    "duration": 6,
    "start_time": "2022-06-22T20:49:13.055Z"
   },
   {
    "duration": 18,
    "start_time": "2022-06-22T20:49:13.063Z"
   },
   {
    "duration": 169,
    "start_time": "2022-06-22T20:49:13.083Z"
   },
   {
    "duration": 16,
    "start_time": "2022-06-22T20:49:13.255Z"
   },
   {
    "duration": 231,
    "start_time": "2022-06-22T20:49:13.273Z"
   },
   {
    "duration": 312,
    "start_time": "2022-06-22T20:49:13.505Z"
   },
   {
    "duration": 6,
    "start_time": "2022-06-22T20:49:13.819Z"
   },
   {
    "duration": 42,
    "start_time": "2022-06-22T20:49:13.826Z"
   },
   {
    "duration": 122,
    "start_time": "2022-06-22T20:49:13.870Z"
   },
   {
    "duration": 615,
    "start_time": "2022-06-22T20:49:13.994Z"
   },
   {
    "duration": 14,
    "start_time": "2022-06-22T20:49:14.612Z"
   },
   {
    "duration": 47,
    "start_time": "2022-06-22T20:49:14.632Z"
   },
   {
    "duration": 29,
    "start_time": "2022-06-22T20:49:14.682Z"
   },
   {
    "duration": 46,
    "start_time": "2022-06-22T20:49:14.713Z"
   },
   {
    "duration": 330,
    "start_time": "2022-06-22T20:49:14.763Z"
   },
   {
    "duration": 311,
    "start_time": "2022-06-22T20:49:15.095Z"
   },
   {
    "duration": 202,
    "start_time": "2022-06-22T20:49:15.408Z"
   },
   {
    "duration": 31,
    "start_time": "2022-06-22T20:49:15.612Z"
   },
   {
    "duration": 424,
    "start_time": "2022-06-22T20:49:15.644Z"
   },
   {
    "duration": 400,
    "start_time": "2022-06-22T20:49:16.071Z"
   },
   {
    "duration": 430,
    "start_time": "2022-06-22T20:49:16.473Z"
   },
   {
    "duration": 10,
    "start_time": "2022-06-22T20:49:16.905Z"
   },
   {
    "duration": 39,
    "start_time": "2022-06-22T20:49:16.926Z"
   },
   {
    "duration": 10,
    "start_time": "2022-06-22T20:50:40.955Z"
   },
   {
    "duration": 10,
    "start_time": "2022-06-22T20:50:41.895Z"
   },
   {
    "duration": 9,
    "start_time": "2022-06-22T20:52:31.455Z"
   },
   {
    "duration": 1152,
    "start_time": "2022-06-22T20:57:14.759Z"
   },
   {
    "duration": 95,
    "start_time": "2022-06-22T20:57:15.913Z"
   },
   {
    "duration": 5,
    "start_time": "2022-06-22T20:57:16.010Z"
   },
   {
    "duration": 44,
    "start_time": "2022-06-22T20:57:16.017Z"
   },
   {
    "duration": 8,
    "start_time": "2022-06-22T20:57:16.063Z"
   },
   {
    "duration": 19,
    "start_time": "2022-06-22T20:57:16.073Z"
   },
   {
    "duration": 8,
    "start_time": "2022-06-22T20:57:16.094Z"
   },
   {
    "duration": 26,
    "start_time": "2022-06-22T20:57:16.103Z"
   },
   {
    "duration": 7,
    "start_time": "2022-06-22T20:57:16.131Z"
   },
   {
    "duration": 25,
    "start_time": "2022-06-22T20:57:16.146Z"
   },
   {
    "duration": 5,
    "start_time": "2022-06-22T20:57:16.173Z"
   },
   {
    "duration": 15,
    "start_time": "2022-06-22T20:57:16.180Z"
   },
   {
    "duration": 13,
    "start_time": "2022-06-22T20:57:16.197Z"
   },
   {
    "duration": 4,
    "start_time": "2022-06-22T20:57:16.211Z"
   },
   {
    "duration": 16,
    "start_time": "2022-06-22T20:57:16.217Z"
   },
   {
    "duration": 64,
    "start_time": "2022-06-22T20:57:16.234Z"
   },
   {
    "duration": 4,
    "start_time": "2022-06-22T20:57:16.300Z"
   },
   {
    "duration": 26,
    "start_time": "2022-06-22T20:57:16.305Z"
   },
   {
    "duration": 183,
    "start_time": "2022-06-22T20:57:16.332Z"
   },
   {
    "duration": 21,
    "start_time": "2022-06-22T20:57:16.517Z"
   },
   {
    "duration": 253,
    "start_time": "2022-06-22T20:57:16.541Z"
   },
   {
    "duration": 321,
    "start_time": "2022-06-22T20:57:16.796Z"
   },
   {
    "duration": 8,
    "start_time": "2022-06-22T20:57:17.119Z"
   },
   {
    "duration": 26,
    "start_time": "2022-06-22T20:57:17.136Z"
   },
   {
    "duration": 132,
    "start_time": "2022-06-22T20:57:17.164Z"
   },
   {
    "duration": 526,
    "start_time": "2022-06-22T20:57:17.297Z"
   },
   {
    "duration": 23,
    "start_time": "2022-06-22T20:57:17.825Z"
   },
   {
    "duration": 24,
    "start_time": "2022-06-22T20:57:17.854Z"
   },
   {
    "duration": 15,
    "start_time": "2022-06-22T20:57:17.883Z"
   },
   {
    "duration": 9,
    "start_time": "2022-06-22T20:57:17.899Z"
   },
   {
    "duration": 271,
    "start_time": "2022-06-22T20:57:17.910Z"
   },
   {
    "duration": 286,
    "start_time": "2022-06-22T20:57:18.183Z"
   },
   {
    "duration": 196,
    "start_time": "2022-06-22T20:57:18.470Z"
   },
   {
    "duration": 14,
    "start_time": "2022-06-22T20:57:18.667Z"
   },
   {
    "duration": 398,
    "start_time": "2022-06-22T20:57:18.682Z"
   },
   {
    "duration": 372,
    "start_time": "2022-06-22T20:57:19.082Z"
   },
   {
    "duration": 402,
    "start_time": "2022-06-22T20:57:19.455Z"
   },
   {
    "duration": 10,
    "start_time": "2022-06-22T20:57:19.858Z"
   },
   {
    "duration": 16,
    "start_time": "2022-06-22T20:57:19.869Z"
   },
   {
    "duration": 1079,
    "start_time": "2022-06-22T20:57:47.413Z"
   },
   {
    "duration": 85,
    "start_time": "2022-06-22T20:57:48.494Z"
   },
   {
    "duration": 5,
    "start_time": "2022-06-22T20:57:48.580Z"
   },
   {
    "duration": 33,
    "start_time": "2022-06-22T20:57:48.587Z"
   },
   {
    "duration": 17,
    "start_time": "2022-06-22T20:57:48.629Z"
   },
   {
    "duration": 32,
    "start_time": "2022-06-22T20:57:48.647Z"
   },
   {
    "duration": 8,
    "start_time": "2022-06-22T20:57:48.680Z"
   },
   {
    "duration": 9,
    "start_time": "2022-06-22T20:57:48.690Z"
   },
   {
    "duration": 8,
    "start_time": "2022-06-22T20:57:48.700Z"
   },
   {
    "duration": 5,
    "start_time": "2022-06-22T20:57:48.711Z"
   },
   {
    "duration": 16,
    "start_time": "2022-06-22T20:57:48.717Z"
   },
   {
    "duration": 28,
    "start_time": "2022-06-22T20:57:48.735Z"
   },
   {
    "duration": 14,
    "start_time": "2022-06-22T20:57:48.764Z"
   },
   {
    "duration": 5,
    "start_time": "2022-06-22T20:57:48.780Z"
   },
   {
    "duration": 10,
    "start_time": "2022-06-22T20:57:48.786Z"
   },
   {
    "duration": 76,
    "start_time": "2022-06-22T20:57:48.797Z"
   },
   {
    "duration": 4,
    "start_time": "2022-06-22T20:57:48.875Z"
   },
   {
    "duration": 22,
    "start_time": "2022-06-22T20:57:48.881Z"
   },
   {
    "duration": 180,
    "start_time": "2022-06-22T20:57:48.905Z"
   },
   {
    "duration": 12,
    "start_time": "2022-06-22T20:57:49.087Z"
   },
   {
    "duration": 264,
    "start_time": "2022-06-22T20:57:49.100Z"
   },
   {
    "duration": 335,
    "start_time": "2022-06-22T20:57:49.366Z"
   },
   {
    "duration": 6,
    "start_time": "2022-06-22T20:57:49.703Z"
   },
   {
    "duration": 14,
    "start_time": "2022-06-22T20:57:49.710Z"
   },
   {
    "duration": 161,
    "start_time": "2022-06-22T20:57:49.725Z"
   },
   {
    "duration": 107,
    "start_time": "2022-06-22T20:57:49.888Z"
   },
   {
    "duration": 0,
    "start_time": "2022-06-22T20:57:49.997Z"
   },
   {
    "duration": 0,
    "start_time": "2022-06-22T20:57:49.998Z"
   },
   {
    "duration": 0,
    "start_time": "2022-06-22T20:57:49.999Z"
   },
   {
    "duration": 0,
    "start_time": "2022-06-22T20:57:50.000Z"
   },
   {
    "duration": 0,
    "start_time": "2022-06-22T20:57:50.002Z"
   },
   {
    "duration": 0,
    "start_time": "2022-06-22T20:57:50.002Z"
   },
   {
    "duration": 0,
    "start_time": "2022-06-22T20:57:50.004Z"
   },
   {
    "duration": 0,
    "start_time": "2022-06-22T20:57:50.005Z"
   },
   {
    "duration": 0,
    "start_time": "2022-06-22T20:57:50.026Z"
   },
   {
    "duration": 0,
    "start_time": "2022-06-22T20:57:50.027Z"
   },
   {
    "duration": 0,
    "start_time": "2022-06-22T20:57:50.028Z"
   },
   {
    "duration": 0,
    "start_time": "2022-06-22T20:57:50.029Z"
   },
   {
    "duration": 0,
    "start_time": "2022-06-22T20:57:50.032Z"
   },
   {
    "duration": 1090,
    "start_time": "2022-06-22T20:58:11.078Z"
   },
   {
    "duration": 85,
    "start_time": "2022-06-22T20:58:12.170Z"
   },
   {
    "duration": 5,
    "start_time": "2022-06-22T20:58:12.257Z"
   },
   {
    "duration": 35,
    "start_time": "2022-06-22T20:58:12.264Z"
   },
   {
    "duration": 8,
    "start_time": "2022-06-22T20:58:12.300Z"
   },
   {
    "duration": 35,
    "start_time": "2022-06-22T20:58:12.309Z"
   },
   {
    "duration": 25,
    "start_time": "2022-06-22T20:58:12.346Z"
   },
   {
    "duration": 9,
    "start_time": "2022-06-22T20:58:12.372Z"
   },
   {
    "duration": 8,
    "start_time": "2022-06-22T20:58:12.383Z"
   },
   {
    "duration": 6,
    "start_time": "2022-06-22T20:58:12.393Z"
   },
   {
    "duration": 7,
    "start_time": "2022-06-22T20:58:12.400Z"
   },
   {
    "duration": 10,
    "start_time": "2022-06-22T20:58:12.409Z"
   },
   {
    "duration": 14,
    "start_time": "2022-06-22T20:58:12.420Z"
   },
   {
    "duration": 26,
    "start_time": "2022-06-22T20:58:12.435Z"
   },
   {
    "duration": 8,
    "start_time": "2022-06-22T20:58:12.463Z"
   },
   {
    "duration": 43,
    "start_time": "2022-06-22T20:58:12.472Z"
   },
   {
    "duration": 4,
    "start_time": "2022-06-22T20:58:12.516Z"
   },
   {
    "duration": 53,
    "start_time": "2022-06-22T20:58:12.522Z"
   },
   {
    "duration": 162,
    "start_time": "2022-06-22T20:58:12.577Z"
   },
   {
    "duration": 12,
    "start_time": "2022-06-22T20:58:12.750Z"
   },
   {
    "duration": 221,
    "start_time": "2022-06-22T20:58:12.764Z"
   },
   {
    "duration": 311,
    "start_time": "2022-06-22T20:58:12.986Z"
   },
   {
    "duration": 6,
    "start_time": "2022-06-22T20:58:13.298Z"
   },
   {
    "duration": 51,
    "start_time": "2022-06-22T20:58:13.305Z"
   },
   {
    "duration": 132,
    "start_time": "2022-06-22T20:58:13.357Z"
   },
   {
    "duration": 526,
    "start_time": "2022-06-22T20:58:13.491Z"
   },
   {
    "duration": 21,
    "start_time": "2022-06-22T20:58:14.020Z"
   },
   {
    "duration": 12,
    "start_time": "2022-06-22T20:58:14.051Z"
   },
   {
    "duration": 24,
    "start_time": "2022-06-22T20:58:14.065Z"
   },
   {
    "duration": 8,
    "start_time": "2022-06-22T20:58:14.091Z"
   },
   {
    "duration": 304,
    "start_time": "2022-06-22T20:58:14.101Z"
   },
   {
    "duration": 361,
    "start_time": "2022-06-22T20:58:14.407Z"
   },
   {
    "duration": 207,
    "start_time": "2022-06-22T20:58:14.770Z"
   },
   {
    "duration": 17,
    "start_time": "2022-06-22T20:58:14.979Z"
   },
   {
    "duration": 454,
    "start_time": "2022-06-22T20:58:14.998Z"
   },
   {
    "duration": 361,
    "start_time": "2022-06-22T20:58:15.453Z"
   },
   {
    "duration": 405,
    "start_time": "2022-06-22T20:58:15.816Z"
   },
   {
    "duration": 13,
    "start_time": "2022-06-22T20:58:16.223Z"
   },
   {
    "duration": 32,
    "start_time": "2022-06-22T20:58:16.238Z"
   },
   {
    "duration": 292,
    "start_time": "2022-06-22T21:00:40.472Z"
   },
   {
    "duration": 1161,
    "start_time": "2022-06-22T21:00:59.954Z"
   },
   {
    "duration": 101,
    "start_time": "2022-06-22T21:01:01.118Z"
   },
   {
    "duration": 14,
    "start_time": "2022-06-22T21:01:01.221Z"
   },
   {
    "duration": 115,
    "start_time": "2022-06-22T21:01:01.236Z"
   },
   {
    "duration": 14,
    "start_time": "2022-06-22T21:01:01.353Z"
   },
   {
    "duration": 73,
    "start_time": "2022-06-22T21:01:01.369Z"
   },
   {
    "duration": 24,
    "start_time": "2022-06-22T21:01:01.452Z"
   },
   {
    "duration": 97,
    "start_time": "2022-06-22T21:01:01.478Z"
   },
   {
    "duration": 29,
    "start_time": "2022-06-22T21:01:01.577Z"
   },
   {
    "duration": 52,
    "start_time": "2022-06-22T21:01:01.608Z"
   },
   {
    "duration": 109,
    "start_time": "2022-06-22T21:01:01.662Z"
   },
   {
    "duration": 38,
    "start_time": "2022-06-22T21:01:01.772Z"
   },
   {
    "duration": 83,
    "start_time": "2022-06-22T21:01:01.812Z"
   },
   {
    "duration": 153,
    "start_time": "2022-06-22T21:01:01.898Z"
   },
   {
    "duration": 52,
    "start_time": "2022-06-22T21:01:02.053Z"
   },
   {
    "duration": 59,
    "start_time": "2022-06-22T21:01:02.107Z"
   },
   {
    "duration": 54,
    "start_time": "2022-06-22T21:01:02.167Z"
   },
   {
    "duration": 160,
    "start_time": "2022-06-22T21:01:02.222Z"
   },
   {
    "duration": 176,
    "start_time": "2022-06-22T21:01:02.384Z"
   },
   {
    "duration": 11,
    "start_time": "2022-06-22T21:01:02.562Z"
   },
   {
    "duration": 262,
    "start_time": "2022-06-22T21:01:02.574Z"
   },
   {
    "duration": 315,
    "start_time": "2022-06-22T21:01:02.841Z"
   },
   {
    "duration": 6,
    "start_time": "2022-06-22T21:01:03.158Z"
   },
   {
    "duration": 17,
    "start_time": "2022-06-22T21:01:03.166Z"
   },
   {
    "duration": 127,
    "start_time": "2022-06-22T21:01:03.185Z"
   },
   {
    "duration": 653,
    "start_time": "2022-06-22T21:01:03.315Z"
   },
   {
    "duration": 7,
    "start_time": "2022-06-22T21:01:03.971Z"
   },
   {
    "duration": 17,
    "start_time": "2022-06-22T21:01:03.980Z"
   },
   {
    "duration": 19,
    "start_time": "2022-06-22T21:01:03.999Z"
   },
   {
    "duration": 44,
    "start_time": "2022-06-22T21:01:04.020Z"
   },
   {
    "duration": 311,
    "start_time": "2022-06-22T21:01:04.066Z"
   },
   {
    "duration": 361,
    "start_time": "2022-06-22T21:01:04.379Z"
   },
   {
    "duration": 235,
    "start_time": "2022-06-22T21:01:04.752Z"
   },
   {
    "duration": 17,
    "start_time": "2022-06-22T21:01:04.988Z"
   },
   {
    "duration": 475,
    "start_time": "2022-06-22T21:01:05.008Z"
   },
   {
    "duration": 414,
    "start_time": "2022-06-22T21:01:05.485Z"
   },
   {
    "duration": 472,
    "start_time": "2022-06-22T21:01:05.901Z"
   },
   {
    "duration": 13,
    "start_time": "2022-06-22T21:01:06.377Z"
   },
   {
    "duration": 15,
    "start_time": "2022-06-22T21:01:06.392Z"
   },
   {
    "duration": 163,
    "start_time": "2022-06-22T21:03:03.655Z"
   },
   {
    "duration": 323,
    "start_time": "2022-06-22T21:04:18.789Z"
   },
   {
    "duration": 1280,
    "start_time": "2022-06-22T21:04:28.872Z"
   },
   {
    "duration": 104,
    "start_time": "2022-06-22T21:04:30.154Z"
   },
   {
    "duration": 14,
    "start_time": "2022-06-22T21:04:30.259Z"
   },
   {
    "duration": 70,
    "start_time": "2022-06-22T21:04:30.276Z"
   },
   {
    "duration": 24,
    "start_time": "2022-06-22T21:04:30.348Z"
   },
   {
    "duration": 44,
    "start_time": "2022-06-22T21:04:30.374Z"
   },
   {
    "duration": 62,
    "start_time": "2022-06-22T21:04:30.420Z"
   },
   {
    "duration": 38,
    "start_time": "2022-06-22T21:04:30.484Z"
   },
   {
    "duration": 52,
    "start_time": "2022-06-22T21:04:30.524Z"
   },
   {
    "duration": 44,
    "start_time": "2022-06-22T21:04:30.578Z"
   },
   {
    "duration": 45,
    "start_time": "2022-06-22T21:04:30.623Z"
   },
   {
    "duration": 24,
    "start_time": "2022-06-22T21:04:30.669Z"
   },
   {
    "duration": 23,
    "start_time": "2022-06-22T21:04:30.695Z"
   },
   {
    "duration": 38,
    "start_time": "2022-06-22T21:04:30.720Z"
   },
   {
    "duration": 25,
    "start_time": "2022-06-22T21:04:30.760Z"
   },
   {
    "duration": 76,
    "start_time": "2022-06-22T21:04:30.787Z"
   },
   {
    "duration": 6,
    "start_time": "2022-06-22T21:04:30.864Z"
   },
   {
    "duration": 38,
    "start_time": "2022-06-22T21:04:30.871Z"
   },
   {
    "duration": 204,
    "start_time": "2022-06-22T21:04:30.911Z"
   },
   {
    "duration": 18,
    "start_time": "2022-06-22T21:04:31.117Z"
   },
   {
    "duration": 352,
    "start_time": "2022-06-22T21:04:31.143Z"
   },
   {
    "duration": 392,
    "start_time": "2022-06-22T21:04:31.497Z"
   },
   {
    "duration": 6,
    "start_time": "2022-06-22T21:04:31.891Z"
   },
   {
    "duration": 36,
    "start_time": "2022-06-22T21:04:31.899Z"
   },
   {
    "duration": 164,
    "start_time": "2022-06-22T21:04:31.936Z"
   },
   {
    "duration": 680,
    "start_time": "2022-06-22T21:04:32.101Z"
   },
   {
    "duration": 9,
    "start_time": "2022-06-22T21:04:32.785Z"
   },
   {
    "duration": 30,
    "start_time": "2022-06-22T21:04:32.798Z"
   },
   {
    "duration": 67,
    "start_time": "2022-06-22T21:04:32.833Z"
   },
   {
    "duration": 21,
    "start_time": "2022-06-22T21:04:32.903Z"
   },
   {
    "duration": 350,
    "start_time": "2022-06-22T21:04:32.928Z"
   },
   {
    "duration": 378,
    "start_time": "2022-06-22T21:04:33.281Z"
   },
   {
    "duration": 216,
    "start_time": "2022-06-22T21:04:33.661Z"
   },
   {
    "duration": 15,
    "start_time": "2022-06-22T21:04:33.879Z"
   },
   {
    "duration": 437,
    "start_time": "2022-06-22T21:04:33.896Z"
   },
   {
    "duration": 464,
    "start_time": "2022-06-22T21:04:34.334Z"
   },
   {
    "duration": 450,
    "start_time": "2022-06-22T21:04:34.800Z"
   },
   {
    "duration": 13,
    "start_time": "2022-06-22T21:04:35.251Z"
   },
   {
    "duration": 18,
    "start_time": "2022-06-22T21:04:35.266Z"
   },
   {
    "duration": 1602,
    "start_time": "2022-06-23T18:27:14.601Z"
   },
   {
    "duration": 189,
    "start_time": "2022-06-23T18:27:16.206Z"
   },
   {
    "duration": 6,
    "start_time": "2022-06-23T18:27:16.396Z"
   },
   {
    "duration": 58,
    "start_time": "2022-06-23T18:27:16.403Z"
   },
   {
    "duration": 19,
    "start_time": "2022-06-23T18:27:16.463Z"
   },
   {
    "duration": 24,
    "start_time": "2022-06-23T18:27:16.485Z"
   },
   {
    "duration": 13,
    "start_time": "2022-06-23T18:27:16.511Z"
   },
   {
    "duration": 46,
    "start_time": "2022-06-23T18:27:16.526Z"
   },
   {
    "duration": 10,
    "start_time": "2022-06-23T18:27:16.574Z"
   },
   {
    "duration": 7,
    "start_time": "2022-06-23T18:27:16.587Z"
   },
   {
    "duration": 11,
    "start_time": "2022-06-23T18:27:16.595Z"
   },
   {
    "duration": 29,
    "start_time": "2022-06-23T18:27:16.608Z"
   },
   {
    "duration": 53,
    "start_time": "2022-06-23T18:27:16.641Z"
   },
   {
    "duration": 6,
    "start_time": "2022-06-23T18:27:16.696Z"
   },
   {
    "duration": 15,
    "start_time": "2022-06-23T18:27:16.704Z"
   },
   {
    "duration": 93,
    "start_time": "2022-06-23T18:27:16.720Z"
   },
   {
    "duration": 5,
    "start_time": "2022-06-23T18:27:16.815Z"
   },
   {
    "duration": 62,
    "start_time": "2022-06-23T18:27:16.821Z"
   },
   {
    "duration": 204,
    "start_time": "2022-06-23T18:27:16.885Z"
   },
   {
    "duration": 16,
    "start_time": "2022-06-23T18:27:17.090Z"
   },
   {
    "duration": 296,
    "start_time": "2022-06-23T18:27:17.108Z"
   },
   {
    "duration": 337,
    "start_time": "2022-06-23T18:27:17.405Z"
   },
   {
    "duration": 7,
    "start_time": "2022-06-23T18:27:17.743Z"
   },
   {
    "duration": 13,
    "start_time": "2022-06-23T18:27:17.759Z"
   },
   {
    "duration": 134,
    "start_time": "2022-06-23T18:27:17.773Z"
   },
   {
    "duration": 622,
    "start_time": "2022-06-23T18:27:17.908Z"
   },
   {
    "duration": 9,
    "start_time": "2022-06-23T18:27:18.531Z"
   },
   {
    "duration": 31,
    "start_time": "2022-06-23T18:27:18.551Z"
   },
   {
    "duration": 18,
    "start_time": "2022-06-23T18:27:18.584Z"
   },
   {
    "duration": 10,
    "start_time": "2022-06-23T18:27:18.603Z"
   },
   {
    "duration": 301,
    "start_time": "2022-06-23T18:27:18.614Z"
   },
   {
    "duration": 318,
    "start_time": "2022-06-23T18:27:18.917Z"
   },
   {
    "duration": 217,
    "start_time": "2022-06-23T18:27:19.243Z"
   },
   {
    "duration": 16,
    "start_time": "2022-06-23T18:27:19.464Z"
   },
   {
    "duration": 437,
    "start_time": "2022-06-23T18:27:19.482Z"
   },
   {
    "duration": 446,
    "start_time": "2022-06-23T18:27:19.921Z"
   },
   {
    "duration": 447,
    "start_time": "2022-06-23T18:27:20.376Z"
   },
   {
    "duration": 14,
    "start_time": "2022-06-23T18:27:20.829Z"
   },
   {
    "duration": 52,
    "start_time": "2022-06-23T18:27:20.845Z"
   },
   {
    "duration": 13,
    "start_time": "2022-06-23T18:28:24.613Z"
   },
   {
    "duration": 19,
    "start_time": "2022-06-23T18:28:26.152Z"
   },
   {
    "duration": 1269,
    "start_time": "2022-06-23T18:28:51.920Z"
   },
   {
    "duration": 114,
    "start_time": "2022-06-23T18:28:53.191Z"
   },
   {
    "duration": 6,
    "start_time": "2022-06-23T18:28:53.306Z"
   },
   {
    "duration": 50,
    "start_time": "2022-06-23T18:28:53.313Z"
   },
   {
    "duration": 22,
    "start_time": "2022-06-23T18:28:53.365Z"
   },
   {
    "duration": 21,
    "start_time": "2022-06-23T18:28:53.389Z"
   },
   {
    "duration": 9,
    "start_time": "2022-06-23T18:28:53.412Z"
   },
   {
    "duration": 52,
    "start_time": "2022-06-23T18:28:53.423Z"
   },
   {
    "duration": 6,
    "start_time": "2022-06-23T18:28:53.477Z"
   },
   {
    "duration": 5,
    "start_time": "2022-06-23T18:28:53.484Z"
   },
   {
    "duration": 8,
    "start_time": "2022-06-23T18:28:53.491Z"
   },
   {
    "duration": 15,
    "start_time": "2022-06-23T18:28:53.501Z"
   },
   {
    "duration": 20,
    "start_time": "2022-06-23T18:28:53.517Z"
   },
   {
    "duration": 32,
    "start_time": "2022-06-23T18:28:53.541Z"
   },
   {
    "duration": 9,
    "start_time": "2022-06-23T18:28:53.575Z"
   },
   {
    "duration": 77,
    "start_time": "2022-06-23T18:28:53.585Z"
   },
   {
    "duration": 7,
    "start_time": "2022-06-23T18:28:53.669Z"
   },
   {
    "duration": 33,
    "start_time": "2022-06-23T18:28:53.677Z"
   },
   {
    "duration": 190,
    "start_time": "2022-06-23T18:28:53.712Z"
   },
   {
    "duration": 12,
    "start_time": "2022-06-23T18:28:53.904Z"
   },
   {
    "duration": 273,
    "start_time": "2022-06-23T18:28:53.918Z"
   },
   {
    "duration": 393,
    "start_time": "2022-06-23T18:28:54.193Z"
   },
   {
    "duration": 6,
    "start_time": "2022-06-23T18:28:54.588Z"
   },
   {
    "duration": 17,
    "start_time": "2022-06-23T18:28:54.596Z"
   },
   {
    "duration": 199,
    "start_time": "2022-06-23T18:28:54.616Z"
   },
   {
    "duration": 614,
    "start_time": "2022-06-23T18:28:54.817Z"
   },
   {
    "duration": 9,
    "start_time": "2022-06-23T18:28:55.435Z"
   },
   {
    "duration": 26,
    "start_time": "2022-06-23T18:28:55.446Z"
   },
   {
    "duration": 31,
    "start_time": "2022-06-23T18:28:55.474Z"
   },
   {
    "duration": 12,
    "start_time": "2022-06-23T18:28:55.506Z"
   },
   {
    "duration": 357,
    "start_time": "2022-06-23T18:28:55.519Z"
   },
   {
    "duration": 328,
    "start_time": "2022-06-23T18:28:55.878Z"
   },
   {
    "duration": 243,
    "start_time": "2022-06-23T18:28:56.208Z"
   },
   {
    "duration": 25,
    "start_time": "2022-06-23T18:28:56.454Z"
   },
   {
    "duration": 454,
    "start_time": "2022-06-23T18:28:56.481Z"
   },
   {
    "duration": 414,
    "start_time": "2022-06-23T18:28:56.936Z"
   },
   {
    "duration": 440,
    "start_time": "2022-06-23T18:28:57.352Z"
   },
   {
    "duration": 11,
    "start_time": "2022-06-23T18:28:57.793Z"
   },
   {
    "duration": 23,
    "start_time": "2022-06-23T18:28:57.805Z"
   },
   {
    "duration": 6,
    "start_time": "2022-06-23T18:38:57.553Z"
   },
   {
    "duration": 1338,
    "start_time": "2022-06-23T18:39:03.660Z"
   },
   {
    "duration": 106,
    "start_time": "2022-06-23T18:39:05.000Z"
   },
   {
    "duration": 5,
    "start_time": "2022-06-23T18:39:05.108Z"
   },
   {
    "duration": 68,
    "start_time": "2022-06-23T18:39:05.115Z"
   },
   {
    "duration": 10,
    "start_time": "2022-06-23T18:39:05.185Z"
   },
   {
    "duration": 22,
    "start_time": "2022-06-23T18:39:05.197Z"
   },
   {
    "duration": 11,
    "start_time": "2022-06-23T18:39:05.221Z"
   },
   {
    "duration": 38,
    "start_time": "2022-06-23T18:39:05.244Z"
   },
   {
    "duration": 7,
    "start_time": "2022-06-23T18:39:05.284Z"
   },
   {
    "duration": 8,
    "start_time": "2022-06-23T18:39:05.294Z"
   },
   {
    "duration": 9,
    "start_time": "2022-06-23T18:39:05.303Z"
   },
   {
    "duration": 13,
    "start_time": "2022-06-23T18:39:05.313Z"
   },
   {
    "duration": 37,
    "start_time": "2022-06-23T18:39:05.336Z"
   },
   {
    "duration": 6,
    "start_time": "2022-06-23T18:39:05.375Z"
   },
   {
    "duration": 21,
    "start_time": "2022-06-23T18:39:05.382Z"
   },
   {
    "duration": 62,
    "start_time": "2022-06-23T18:39:05.405Z"
   },
   {
    "duration": 5,
    "start_time": "2022-06-23T18:39:05.468Z"
   },
   {
    "duration": 25,
    "start_time": "2022-06-23T18:39:05.474Z"
   },
   {
    "duration": 201,
    "start_time": "2022-06-23T18:39:05.500Z"
   },
   {
    "duration": 25,
    "start_time": "2022-06-23T18:39:05.702Z"
   },
   {
    "duration": 269,
    "start_time": "2022-06-23T18:39:05.733Z"
   },
   {
    "duration": 381,
    "start_time": "2022-06-23T18:39:06.004Z"
   },
   {
    "duration": 6,
    "start_time": "2022-06-23T18:39:06.387Z"
   },
   {
    "duration": 11,
    "start_time": "2022-06-23T18:39:06.395Z"
   },
   {
    "duration": 150,
    "start_time": "2022-06-23T18:39:06.408Z"
   },
   {
    "duration": 641,
    "start_time": "2022-06-23T18:39:06.559Z"
   },
   {
    "duration": 7,
    "start_time": "2022-06-23T18:39:07.201Z"
   },
   {
    "duration": 25,
    "start_time": "2022-06-23T18:39:07.211Z"
   },
   {
    "duration": 60,
    "start_time": "2022-06-23T18:39:07.238Z"
   },
   {
    "duration": 19,
    "start_time": "2022-06-23T18:39:07.299Z"
   },
   {
    "duration": 338,
    "start_time": "2022-06-23T18:39:07.320Z"
   },
   {
    "duration": 340,
    "start_time": "2022-06-23T18:39:07.660Z"
   },
   {
    "duration": 222,
    "start_time": "2022-06-23T18:39:08.002Z"
   },
   {
    "duration": 37,
    "start_time": "2022-06-23T18:39:08.237Z"
   },
   {
    "duration": 454,
    "start_time": "2022-06-23T18:39:08.278Z"
   },
   {
    "duration": 441,
    "start_time": "2022-06-23T18:39:08.734Z"
   },
   {
    "duration": 491,
    "start_time": "2022-06-23T18:39:09.177Z"
   },
   {
    "duration": 12,
    "start_time": "2022-06-23T18:39:09.670Z"
   },
   {
    "duration": 13,
    "start_time": "2022-06-23T18:39:09.684Z"
   },
   {
    "duration": 99,
    "start_time": "2022-06-23T18:43:47.396Z"
   },
   {
    "duration": 411,
    "start_time": "2022-06-23T18:43:52.050Z"
   },
   {
    "duration": 4,
    "start_time": "2022-06-23T18:44:05.478Z"
   },
   {
    "duration": 10,
    "start_time": "2022-06-23T18:44:07.564Z"
   },
   {
    "duration": 1104,
    "start_time": "2022-06-23T18:44:25.509Z"
   },
   {
    "duration": 84,
    "start_time": "2022-06-23T18:44:26.615Z"
   },
   {
    "duration": 5,
    "start_time": "2022-06-23T18:44:26.700Z"
   },
   {
    "duration": 31,
    "start_time": "2022-06-23T18:44:26.707Z"
   },
   {
    "duration": 9,
    "start_time": "2022-06-23T18:44:26.740Z"
   },
   {
    "duration": 21,
    "start_time": "2022-06-23T18:44:26.750Z"
   },
   {
    "duration": 8,
    "start_time": "2022-06-23T18:44:26.772Z"
   },
   {
    "duration": 8,
    "start_time": "2022-06-23T18:44:26.782Z"
   },
   {
    "duration": 7,
    "start_time": "2022-06-23T18:44:26.791Z"
   },
   {
    "duration": 28,
    "start_time": "2022-06-23T18:44:26.800Z"
   },
   {
    "duration": 12,
    "start_time": "2022-06-23T18:44:26.830Z"
   },
   {
    "duration": 13,
    "start_time": "2022-06-23T18:44:26.843Z"
   },
   {
    "duration": 16,
    "start_time": "2022-06-23T18:44:26.857Z"
   },
   {
    "duration": 7,
    "start_time": "2022-06-23T18:44:26.874Z"
   },
   {
    "duration": 11,
    "start_time": "2022-06-23T18:44:26.882Z"
   },
   {
    "duration": 57,
    "start_time": "2022-06-23T18:44:26.895Z"
   },
   {
    "duration": 4,
    "start_time": "2022-06-23T18:44:26.954Z"
   },
   {
    "duration": 17,
    "start_time": "2022-06-23T18:44:26.959Z"
   },
   {
    "duration": 172,
    "start_time": "2022-06-23T18:44:26.978Z"
   },
   {
    "duration": 14,
    "start_time": "2022-06-23T18:44:27.152Z"
   },
   {
    "duration": 231,
    "start_time": "2022-06-23T18:44:27.168Z"
   },
   {
    "duration": 297,
    "start_time": "2022-06-23T18:44:27.400Z"
   },
   {
    "duration": 6,
    "start_time": "2022-06-23T18:44:27.699Z"
   },
   {
    "duration": 10,
    "start_time": "2022-06-23T18:44:27.706Z"
   },
   {
    "duration": 124,
    "start_time": "2022-06-23T18:44:27.718Z"
   },
   {
    "duration": 548,
    "start_time": "2022-06-23T18:44:27.844Z"
   },
   {
    "duration": 6,
    "start_time": "2022-06-23T18:44:28.394Z"
   },
   {
    "duration": 23,
    "start_time": "2022-06-23T18:44:28.403Z"
   },
   {
    "duration": 30,
    "start_time": "2022-06-23T18:44:28.428Z"
   },
   {
    "duration": 17,
    "start_time": "2022-06-23T18:44:28.460Z"
   },
   {
    "duration": 257,
    "start_time": "2022-06-23T18:44:28.479Z"
   },
   {
    "duration": 275,
    "start_time": "2022-06-23T18:44:28.738Z"
   },
   {
    "duration": 205,
    "start_time": "2022-06-23T18:44:29.014Z"
   },
   {
    "duration": 15,
    "start_time": "2022-06-23T18:44:29.226Z"
   },
   {
    "duration": 384,
    "start_time": "2022-06-23T18:44:29.243Z"
   },
   {
    "duration": 384,
    "start_time": "2022-06-23T18:44:29.629Z"
   },
   {
    "duration": 467,
    "start_time": "2022-06-23T18:44:30.015Z"
   },
   {
    "duration": 11,
    "start_time": "2022-06-23T18:44:30.484Z"
   },
   {
    "duration": 60,
    "start_time": "2022-06-23T18:44:30.497Z"
   },
   {
    "duration": 162,
    "start_time": "2022-06-23T18:51:27.752Z"
   },
   {
    "duration": 262,
    "start_time": "2022-06-23T18:51:46.382Z"
   },
   {
    "duration": 62,
    "start_time": "2022-06-23T19:01:24.862Z"
   },
   {
    "duration": 108,
    "start_time": "2022-06-23T19:06:05.806Z"
   },
   {
    "duration": 71,
    "start_time": "2022-06-23T19:06:34.605Z"
   },
   {
    "duration": 48,
    "start_time": "2022-06-23T19:06:38.866Z"
   },
   {
    "duration": 9,
    "start_time": "2022-06-23T19:06:42.732Z"
   },
   {
    "duration": 52,
    "start_time": "2022-06-23T19:06:43.557Z"
   },
   {
    "duration": 256,
    "start_time": "2022-06-23T19:06:48.049Z"
   },
   {
    "duration": 4,
    "start_time": "2022-06-23T19:06:57.587Z"
   },
   {
    "duration": 73,
    "start_time": "2022-06-23T19:06:57.691Z"
   },
   {
    "duration": 5,
    "start_time": "2022-06-23T19:06:58.364Z"
   },
   {
    "duration": 31,
    "start_time": "2022-06-23T19:06:58.533Z"
   },
   {
    "duration": 10,
    "start_time": "2022-06-23T19:06:58.901Z"
   },
   {
    "duration": 18,
    "start_time": "2022-06-23T19:06:59.284Z"
   },
   {
    "duration": 8,
    "start_time": "2022-06-23T19:06:59.414Z"
   },
   {
    "duration": 8,
    "start_time": "2022-06-23T19:06:59.682Z"
   },
   {
    "duration": 6,
    "start_time": "2022-06-23T19:06:59.768Z"
   },
   {
    "duration": 5,
    "start_time": "2022-06-23T19:06:59.935Z"
   },
   {
    "duration": 4,
    "start_time": "2022-06-23T19:07:00.106Z"
   },
   {
    "duration": 10,
    "start_time": "2022-06-23T19:07:00.342Z"
   },
   {
    "duration": 14,
    "start_time": "2022-06-23T19:07:00.727Z"
   },
   {
    "duration": 5,
    "start_time": "2022-06-23T19:07:00.838Z"
   },
   {
    "duration": 9,
    "start_time": "2022-06-23T19:07:01.033Z"
   },
   {
    "duration": 50,
    "start_time": "2022-06-23T19:07:01.384Z"
   },
   {
    "duration": 5,
    "start_time": "2022-06-23T19:07:01.618Z"
   },
   {
    "duration": 16,
    "start_time": "2022-06-23T19:07:01.818Z"
   },
   {
    "duration": 148,
    "start_time": "2022-06-23T19:07:02.431Z"
   },
   {
    "duration": 8,
    "start_time": "2022-06-23T19:07:02.964Z"
   },
   {
    "duration": 47,
    "start_time": "2022-06-23T19:07:03.155Z"
   },
   {
    "duration": 100,
    "start_time": "2022-06-23T19:07:03.482Z"
   },
   {
    "duration": 8,
    "start_time": "2022-06-23T19:07:17.882Z"
   },
   {
    "duration": 49,
    "start_time": "2022-06-23T19:07:18.738Z"
   },
   {
    "duration": 8,
    "start_time": "2022-06-23T19:07:32.690Z"
   },
   {
    "duration": 56,
    "start_time": "2022-06-23T19:07:38.422Z"
   },
   {
    "duration": 103,
    "start_time": "2022-06-23T19:07:39.199Z"
   },
   {
    "duration": 11,
    "start_time": "2022-06-23T19:07:46.465Z"
   },
   {
    "duration": 214,
    "start_time": "2022-06-23T19:07:52.751Z"
   },
   {
    "duration": 260,
    "start_time": "2022-06-23T19:08:02.730Z"
   },
   {
    "duration": 112,
    "start_time": "2022-06-23T19:09:05.455Z"
   },
   {
    "duration": 106,
    "start_time": "2022-06-23T19:09:22.722Z"
   },
   {
    "duration": 45,
    "start_time": "2022-06-23T19:10:25.962Z"
   },
   {
    "duration": 66,
    "start_time": "2022-06-23T19:10:52.747Z"
   },
   {
    "duration": 17,
    "start_time": "2022-06-23T19:11:18.194Z"
   },
   {
    "duration": 15,
    "start_time": "2022-06-23T19:11:29.483Z"
   },
   {
    "duration": 6,
    "start_time": "2022-06-23T19:12:47.436Z"
   },
   {
    "duration": 46,
    "start_time": "2022-06-23T19:12:50.929Z"
   },
   {
    "duration": 9,
    "start_time": "2022-06-23T19:13:02.711Z"
   },
   {
    "duration": 227,
    "start_time": "2022-06-23T19:13:18.246Z"
   },
   {
    "duration": 15,
    "start_time": "2022-06-23T19:13:39.717Z"
   },
   {
    "duration": 5,
    "start_time": "2022-06-23T19:13:40.021Z"
   },
   {
    "duration": 202,
    "start_time": "2022-06-23T19:13:40.307Z"
   },
   {
    "duration": 5,
    "start_time": "2022-06-23T19:13:48.565Z"
   },
   {
    "duration": 216,
    "start_time": "2022-06-23T19:13:48.892Z"
   },
   {
    "duration": 3,
    "start_time": "2022-06-23T19:14:09.641Z"
   },
   {
    "duration": 232,
    "start_time": "2022-06-23T19:14:09.929Z"
   },
   {
    "duration": 4,
    "start_time": "2022-06-23T19:14:24.994Z"
   },
   {
    "duration": 76,
    "start_time": "2022-06-23T19:14:25.130Z"
   },
   {
    "duration": 5,
    "start_time": "2022-06-23T19:14:25.924Z"
   },
   {
    "duration": 30,
    "start_time": "2022-06-23T19:14:26.090Z"
   },
   {
    "duration": 11,
    "start_time": "2022-06-23T19:14:26.500Z"
   },
   {
    "duration": 18,
    "start_time": "2022-06-23T19:14:26.688Z"
   },
   {
    "duration": 8,
    "start_time": "2022-06-23T19:14:27.035Z"
   },
   {
    "duration": 9,
    "start_time": "2022-06-23T19:14:27.208Z"
   },
   {
    "duration": 6,
    "start_time": "2022-06-23T19:14:27.399Z"
   },
   {
    "duration": 5,
    "start_time": "2022-06-23T19:14:27.593Z"
   },
   {
    "duration": 4,
    "start_time": "2022-06-23T19:14:27.741Z"
   },
   {
    "duration": 11,
    "start_time": "2022-06-23T19:14:27.918Z"
   },
   {
    "duration": 15,
    "start_time": "2022-06-23T19:14:28.262Z"
   },
   {
    "duration": 5,
    "start_time": "2022-06-23T19:14:28.440Z"
   },
   {
    "duration": 8,
    "start_time": "2022-06-23T19:14:28.615Z"
   },
   {
    "duration": 48,
    "start_time": "2022-06-23T19:14:28.808Z"
   },
   {
    "duration": 6,
    "start_time": "2022-06-23T19:14:29.158Z"
   },
   {
    "duration": 16,
    "start_time": "2022-06-23T19:14:29.340Z"
   },
   {
    "duration": 290,
    "start_time": "2022-06-23T19:14:29.892Z"
   },
   {
    "duration": 8,
    "start_time": "2022-06-23T19:14:30.409Z"
   },
   {
    "duration": 12,
    "start_time": "2022-06-23T19:14:30.621Z"
   },
   {
    "duration": 250,
    "start_time": "2022-06-23T19:14:30.804Z"
   },
   {
    "duration": 45,
    "start_time": "2022-06-23T19:14:31.540Z"
   },
   {
    "duration": 16,
    "start_time": "2022-06-23T19:14:31.948Z"
   },
   {
    "duration": 213,
    "start_time": "2022-06-23T19:14:32.391Z"
   },
   {
    "duration": 21,
    "start_time": "2022-06-23T19:15:28.216Z"
   },
   {
    "duration": 195,
    "start_time": "2022-06-23T19:15:28.586Z"
   },
   {
    "duration": 4,
    "start_time": "2022-06-23T19:15:43.410Z"
   },
   {
    "duration": 297,
    "start_time": "2022-06-23T19:15:44.398Z"
   },
   {
    "duration": 10,
    "start_time": "2022-06-23T19:16:17.132Z"
   },
   {
    "duration": 11,
    "start_time": "2022-06-23T19:16:34.409Z"
   },
   {
    "duration": 38,
    "start_time": "2022-06-23T19:18:10.066Z"
   },
   {
    "duration": 17,
    "start_time": "2022-06-23T19:18:10.645Z"
   },
   {
    "duration": 6,
    "start_time": "2022-06-23T19:18:10.881Z"
   },
   {
    "duration": 9,
    "start_time": "2022-06-23T19:18:11.102Z"
   },
   {
    "duration": 218,
    "start_time": "2022-06-23T19:18:17.468Z"
   },
   {
    "duration": 5,
    "start_time": "2022-06-23T19:23:37.018Z"
   },
   {
    "duration": 10,
    "start_time": "2022-06-23T19:23:38.035Z"
   },
   {
    "duration": 120,
    "start_time": "2022-06-23T19:23:38.475Z"
   },
   {
    "duration": 411,
    "start_time": "2022-06-23T19:26:33.625Z"
   },
   {
    "duration": 514,
    "start_time": "2022-06-23T19:26:53.000Z"
   },
   {
    "duration": 33,
    "start_time": "2022-06-23T19:28:18.980Z"
   },
   {
    "duration": 384,
    "start_time": "2022-06-23T19:29:05.733Z"
   },
   {
    "duration": 10,
    "start_time": "2022-06-23T19:30:35.359Z"
   },
   {
    "duration": 259,
    "start_time": "2022-06-23T19:30:40.199Z"
   },
   {
    "duration": 6,
    "start_time": "2022-06-23T19:31:52.223Z"
   },
   {
    "duration": 6,
    "start_time": "2022-06-23T19:32:00.700Z"
   },
   {
    "duration": 10,
    "start_time": "2022-06-23T19:32:01.101Z"
   },
   {
    "duration": 137,
    "start_time": "2022-06-23T19:32:01.274Z"
   },
   {
    "duration": 450,
    "start_time": "2022-06-23T19:32:45.238Z"
   },
   {
    "duration": 8,
    "start_time": "2022-06-23T19:41:57.391Z"
   },
   {
    "duration": 8,
    "start_time": "2022-06-23T19:41:58.009Z"
   },
   {
    "duration": 12,
    "start_time": "2022-06-23T19:41:58.665Z"
   },
   {
    "duration": 6,
    "start_time": "2022-06-23T19:42:17.742Z"
   },
   {
    "duration": 11,
    "start_time": "2022-06-23T19:42:18.124Z"
   },
   {
    "duration": 13,
    "start_time": "2022-06-23T19:42:18.774Z"
   },
   {
    "duration": 10,
    "start_time": "2022-06-23T19:42:19.856Z"
   },
   {
    "duration": 279,
    "start_time": "2022-06-23T19:42:21.871Z"
   },
   {
    "duration": 316,
    "start_time": "2022-06-23T19:42:30.867Z"
   },
   {
    "duration": 274,
    "start_time": "2022-06-23T19:45:20.660Z"
   },
   {
    "duration": 329,
    "start_time": "2022-06-23T19:45:21.597Z"
   },
   {
    "duration": 289,
    "start_time": "2022-06-23T19:45:51.650Z"
   },
   {
    "duration": 282,
    "start_time": "2022-06-23T19:45:52.489Z"
   },
   {
    "duration": 13,
    "start_time": "2022-06-23T19:52:12.493Z"
   },
   {
    "duration": 10,
    "start_time": "2022-06-23T19:52:13.032Z"
   },
   {
    "duration": 266,
    "start_time": "2022-06-23T19:52:13.837Z"
   },
   {
    "duration": 328,
    "start_time": "2022-06-23T19:52:14.136Z"
   },
   {
    "duration": 259,
    "start_time": "2022-06-23T19:52:22.490Z"
   },
   {
    "duration": 273,
    "start_time": "2022-06-23T19:52:23.047Z"
   },
   {
    "duration": 246,
    "start_time": "2022-06-23T19:57:57.795Z"
   },
   {
    "duration": 251,
    "start_time": "2022-06-23T19:57:58.683Z"
   },
   {
    "duration": 9,
    "start_time": "2022-06-23T19:58:05.999Z"
   },
   {
    "duration": 373,
    "start_time": "2022-06-23T19:58:06.729Z"
   },
   {
    "duration": 269,
    "start_time": "2022-06-23T19:58:07.123Z"
   },
   {
    "duration": 180,
    "start_time": "2022-06-23T19:59:00.000Z"
   },
   {
    "duration": 165,
    "start_time": "2022-06-23T19:59:22.317Z"
   },
   {
    "duration": 15,
    "start_time": "2022-06-23T20:02:08.625Z"
   },
   {
    "duration": 376,
    "start_time": "2022-06-23T20:02:15.569Z"
   },
   {
    "duration": 408,
    "start_time": "2022-06-23T20:02:25.338Z"
   },
   {
    "duration": 514,
    "start_time": "2022-06-23T20:02:54.386Z"
   },
   {
    "duration": 498,
    "start_time": "2022-06-23T20:03:03.909Z"
   },
   {
    "duration": 10,
    "start_time": "2022-06-23T20:03:07.828Z"
   },
   {
    "duration": 11,
    "start_time": "2022-06-23T20:03:09.091Z"
   },
   {
    "duration": 361,
    "start_time": "2022-06-23T20:06:34.616Z"
   },
   {
    "duration": 350,
    "start_time": "2022-06-23T20:06:35.480Z"
   },
   {
    "duration": 364,
    "start_time": "2022-06-23T20:08:40.862Z"
   },
   {
    "duration": 10,
    "start_time": "2022-06-23T20:13:35.258Z"
   },
   {
    "duration": 11,
    "start_time": "2022-06-23T20:13:37.014Z"
   },
   {
    "duration": 221,
    "start_time": "2022-06-23T20:16:08.608Z"
   },
   {
    "duration": 9,
    "start_time": "2022-06-23T20:16:56.991Z"
   },
   {
    "duration": 922,
    "start_time": "2022-06-23T20:17:02.857Z"
   },
   {
    "duration": 995,
    "start_time": "2022-06-23T20:17:07.866Z"
   },
   {
    "duration": 961,
    "start_time": "2022-06-23T20:17:11.756Z"
   },
   {
    "duration": 167,
    "start_time": "2022-06-23T20:17:18.151Z"
   },
   {
    "duration": 288,
    "start_time": "2022-06-23T20:17:24.514Z"
   },
   {
    "duration": 1315,
    "start_time": "2022-06-23T20:17:36.251Z"
   },
   {
    "duration": 85,
    "start_time": "2022-06-23T20:17:37.568Z"
   },
   {
    "duration": 6,
    "start_time": "2022-06-23T20:17:37.655Z"
   },
   {
    "duration": 40,
    "start_time": "2022-06-23T20:17:37.663Z"
   },
   {
    "duration": 10,
    "start_time": "2022-06-23T20:17:37.705Z"
   },
   {
    "duration": 19,
    "start_time": "2022-06-23T20:17:37.726Z"
   },
   {
    "duration": 9,
    "start_time": "2022-06-23T20:17:37.747Z"
   },
   {
    "duration": 16,
    "start_time": "2022-06-23T20:17:37.757Z"
   },
   {
    "duration": 11,
    "start_time": "2022-06-23T20:17:37.775Z"
   },
   {
    "duration": 36,
    "start_time": "2022-06-23T20:17:37.790Z"
   },
   {
    "duration": 5,
    "start_time": "2022-06-23T20:17:37.828Z"
   },
   {
    "duration": 18,
    "start_time": "2022-06-23T20:17:37.835Z"
   },
   {
    "duration": 21,
    "start_time": "2022-06-23T20:17:37.855Z"
   },
   {
    "duration": 7,
    "start_time": "2022-06-23T20:17:37.878Z"
   },
   {
    "duration": 12,
    "start_time": "2022-06-23T20:17:37.888Z"
   },
   {
    "duration": 68,
    "start_time": "2022-06-23T20:17:37.902Z"
   },
   {
    "duration": 7,
    "start_time": "2022-06-23T20:17:37.971Z"
   },
   {
    "duration": 22,
    "start_time": "2022-06-23T20:17:37.979Z"
   },
   {
    "duration": 199,
    "start_time": "2022-06-23T20:17:38.003Z"
   },
   {
    "duration": 9,
    "start_time": "2022-06-23T20:17:38.203Z"
   },
   {
    "duration": 20,
    "start_time": "2022-06-23T20:17:38.213Z"
   },
   {
    "duration": 246,
    "start_time": "2022-06-23T20:17:38.235Z"
   },
   {
    "duration": 58,
    "start_time": "2022-06-23T20:17:38.483Z"
   },
   {
    "duration": 14,
    "start_time": "2022-06-23T20:17:38.543Z"
   },
   {
    "duration": 5,
    "start_time": "2022-06-23T20:17:38.559Z"
   },
   {
    "duration": 264,
    "start_time": "2022-06-23T20:17:38.566Z"
   },
   {
    "duration": 6,
    "start_time": "2022-06-23T20:17:38.831Z"
   },
   {
    "duration": 15,
    "start_time": "2022-06-23T20:17:38.840Z"
   },
   {
    "duration": 131,
    "start_time": "2022-06-23T20:17:38.856Z"
   },
   {
    "duration": 586,
    "start_time": "2022-06-23T20:17:38.989Z"
   },
   {
    "duration": 7,
    "start_time": "2022-06-23T20:17:39.577Z"
   },
   {
    "duration": 11,
    "start_time": "2022-06-23T20:17:39.586Z"
   },
   {
    "duration": 27,
    "start_time": "2022-06-23T20:17:39.599Z"
   },
   {
    "duration": 11,
    "start_time": "2022-06-23T20:17:39.628Z"
   },
   {
    "duration": 291,
    "start_time": "2022-06-23T20:17:39.641Z"
   },
   {
    "duration": 308,
    "start_time": "2022-06-23T20:17:39.934Z"
   },
   {
    "duration": 207,
    "start_time": "2022-06-23T20:17:40.244Z"
   },
   {
    "duration": 396,
    "start_time": "2022-06-23T20:17:40.453Z"
   },
   {
    "duration": 435,
    "start_time": "2022-06-23T20:17:40.851Z"
   },
   {
    "duration": 391,
    "start_time": "2022-06-23T20:17:41.289Z"
   },
   {
    "duration": 10,
    "start_time": "2022-06-23T20:17:41.682Z"
   },
   {
    "duration": 35,
    "start_time": "2022-06-23T20:17:41.695Z"
   },
   {
    "duration": 11,
    "start_time": "2022-06-23T20:18:07.239Z"
   },
   {
    "duration": 10,
    "start_time": "2022-06-23T20:18:38.850Z"
   },
   {
    "duration": 11,
    "start_time": "2022-06-23T20:18:39.091Z"
   },
   {
    "duration": 251,
    "start_time": "2022-06-23T20:18:39.287Z"
   },
   {
    "duration": 151,
    "start_time": "2022-06-23T20:18:43.599Z"
   },
   {
    "duration": 15,
    "start_time": "2022-06-23T20:18:44.993Z"
   },
   {
    "duration": 5,
    "start_time": "2022-06-23T20:18:45.899Z"
   },
   {
    "duration": 6,
    "start_time": "2022-06-23T20:18:50.293Z"
   },
   {
    "duration": 239,
    "start_time": "2022-06-23T20:18:50.519Z"
   },
   {
    "duration": 6,
    "start_time": "2022-06-23T20:18:57.649Z"
   },
   {
    "duration": 9,
    "start_time": "2022-06-23T20:18:58.879Z"
   },
   {
    "duration": 117,
    "start_time": "2022-06-23T20:18:59.409Z"
   },
   {
    "duration": 383,
    "start_time": "2022-06-23T20:19:06.223Z"
   },
   {
    "duration": 8,
    "start_time": "2022-06-23T20:19:20.314Z"
   },
   {
    "duration": 9,
    "start_time": "2022-06-23T20:19:20.859Z"
   },
   {
    "duration": 11,
    "start_time": "2022-06-23T20:19:21.888Z"
   },
   {
    "duration": 9,
    "start_time": "2022-06-23T20:19:22.791Z"
   },
   {
    "duration": 284,
    "start_time": "2022-06-23T20:19:31.830Z"
   },
   {
    "duration": 277,
    "start_time": "2022-06-23T20:19:32.387Z"
   },
   {
    "duration": 201,
    "start_time": "2022-06-23T20:19:34.276Z"
   },
   {
    "duration": 366,
    "start_time": "2022-06-23T20:19:41.734Z"
   },
   {
    "duration": 483,
    "start_time": "2022-06-23T20:19:43.994Z"
   },
   {
    "duration": 363,
    "start_time": "2022-06-23T20:19:44.858Z"
   },
   {
    "duration": 9,
    "start_time": "2022-06-23T20:19:46.163Z"
   },
   {
    "duration": 11,
    "start_time": "2022-06-23T20:19:47.791Z"
   },
   {
    "duration": 10,
    "start_time": "2022-06-23T20:19:57.860Z"
   },
   {
    "duration": 12,
    "start_time": "2022-06-23T20:20:00.897Z"
   },
   {
    "duration": 10,
    "start_time": "2022-06-23T20:20:08.128Z"
   },
   {
    "duration": 12,
    "start_time": "2022-06-23T20:20:09.690Z"
   },
   {
    "duration": 7,
    "start_time": "2022-06-23T20:21:50.192Z"
   },
   {
    "duration": 16,
    "start_time": "2022-06-23T20:21:50.633Z"
   },
   {
    "duration": 11,
    "start_time": "2022-06-23T20:21:52.909Z"
   },
   {
    "duration": 9,
    "start_time": "2022-06-23T20:21:58.097Z"
   },
   {
    "duration": 11,
    "start_time": "2022-06-23T20:21:59.348Z"
   },
   {
    "duration": 8,
    "start_time": "2022-06-23T20:33:52.255Z"
   },
   {
    "duration": 101,
    "start_time": "2022-06-23T20:33:52.902Z"
   },
   {
    "duration": 9,
    "start_time": "2022-06-23T20:34:22.495Z"
   },
   {
    "duration": 6,
    "start_time": "2022-06-23T20:34:36.834Z"
   },
   {
    "duration": 10,
    "start_time": "2022-06-23T20:34:58.483Z"
   },
   {
    "duration": 706,
    "start_time": "2022-06-23T20:36:00.413Z"
   },
   {
    "duration": 8,
    "start_time": "2022-06-23T20:37:53.757Z"
   },
   {
    "duration": 16,
    "start_time": "2022-06-23T20:40:02.053Z"
   },
   {
    "duration": 15,
    "start_time": "2022-06-23T20:40:15.379Z"
   },
   {
    "duration": 10,
    "start_time": "2022-06-23T20:41:11.329Z"
   },
   {
    "duration": 14,
    "start_time": "2022-06-23T20:42:36.474Z"
   },
   {
    "duration": 1146,
    "start_time": "2022-06-23T20:43:02.508Z"
   },
   {
    "duration": 86,
    "start_time": "2022-06-23T20:43:03.656Z"
   },
   {
    "duration": 6,
    "start_time": "2022-06-23T20:43:03.748Z"
   },
   {
    "duration": 34,
    "start_time": "2022-06-23T20:43:03.756Z"
   },
   {
    "duration": 10,
    "start_time": "2022-06-23T20:43:03.792Z"
   },
   {
    "duration": 39,
    "start_time": "2022-06-23T20:43:03.804Z"
   },
   {
    "duration": 8,
    "start_time": "2022-06-23T20:43:03.845Z"
   },
   {
    "duration": 7,
    "start_time": "2022-06-23T20:43:03.855Z"
   },
   {
    "duration": 6,
    "start_time": "2022-06-23T20:43:03.865Z"
   },
   {
    "duration": 6,
    "start_time": "2022-06-23T20:43:03.872Z"
   },
   {
    "duration": 6,
    "start_time": "2022-06-23T20:43:03.879Z"
   },
   {
    "duration": 43,
    "start_time": "2022-06-23T20:43:03.886Z"
   },
   {
    "duration": 14,
    "start_time": "2022-06-23T20:43:03.931Z"
   },
   {
    "duration": 5,
    "start_time": "2022-06-23T20:43:03.946Z"
   },
   {
    "duration": 11,
    "start_time": "2022-06-23T20:43:03.953Z"
   },
   {
    "duration": 89,
    "start_time": "2022-06-23T20:43:03.966Z"
   },
   {
    "duration": 5,
    "start_time": "2022-06-23T20:43:04.057Z"
   },
   {
    "duration": 22,
    "start_time": "2022-06-23T20:43:04.063Z"
   },
   {
    "duration": 186,
    "start_time": "2022-06-23T20:43:04.087Z"
   },
   {
    "duration": 10,
    "start_time": "2022-06-23T20:43:04.275Z"
   },
   {
    "duration": 14,
    "start_time": "2022-06-23T20:43:04.286Z"
   },
   {
    "duration": 322,
    "start_time": "2022-06-23T20:43:04.301Z"
   },
   {
    "duration": 103,
    "start_time": "2022-06-23T20:43:04.626Z"
   },
   {
    "duration": 34,
    "start_time": "2022-06-23T20:43:04.733Z"
   },
   {
    "duration": 8,
    "start_time": "2022-06-23T20:43:04.771Z"
   },
   {
    "duration": 295,
    "start_time": "2022-06-23T20:43:04.782Z"
   },
   {
    "duration": 5,
    "start_time": "2022-06-23T20:43:05.082Z"
   },
   {
    "duration": 17,
    "start_time": "2022-06-23T20:43:05.088Z"
   },
   {
    "duration": 145,
    "start_time": "2022-06-23T20:43:05.107Z"
   },
   {
    "duration": 572,
    "start_time": "2022-06-23T20:43:05.254Z"
   },
   {
    "duration": 7,
    "start_time": "2022-06-23T20:43:05.828Z"
   },
   {
    "duration": 18,
    "start_time": "2022-06-23T20:43:05.837Z"
   },
   {
    "duration": 16,
    "start_time": "2022-06-23T20:43:05.857Z"
   },
   {
    "duration": 13,
    "start_time": "2022-06-23T20:43:05.874Z"
   },
   {
    "duration": 340,
    "start_time": "2022-06-23T20:43:05.889Z"
   },
   {
    "duration": 291,
    "start_time": "2022-06-23T20:43:06.231Z"
   },
   {
    "duration": 183,
    "start_time": "2022-06-23T20:43:06.526Z"
   },
   {
    "duration": 398,
    "start_time": "2022-06-23T20:43:06.711Z"
   },
   {
    "duration": 429,
    "start_time": "2022-06-23T20:43:07.111Z"
   },
   {
    "duration": 411,
    "start_time": "2022-06-23T20:43:07.541Z"
   },
   {
    "duration": 15,
    "start_time": "2022-06-23T20:43:07.954Z"
   },
   {
    "duration": 13,
    "start_time": "2022-06-23T20:43:07.971Z"
   },
   {
    "duration": 13,
    "start_time": "2022-06-23T20:43:07.986Z"
   },
   {
    "duration": 1139,
    "start_time": "2022-06-23T20:44:12.194Z"
   },
   {
    "duration": 85,
    "start_time": "2022-06-23T20:44:13.335Z"
   },
   {
    "duration": 5,
    "start_time": "2022-06-23T20:44:13.422Z"
   },
   {
    "duration": 32,
    "start_time": "2022-06-23T20:44:13.429Z"
   },
   {
    "duration": 10,
    "start_time": "2022-06-23T20:44:13.464Z"
   },
   {
    "duration": 20,
    "start_time": "2022-06-23T20:44:13.475Z"
   },
   {
    "duration": 30,
    "start_time": "2022-06-23T20:44:13.497Z"
   },
   {
    "duration": 9,
    "start_time": "2022-06-23T20:44:13.529Z"
   },
   {
    "duration": 8,
    "start_time": "2022-06-23T20:44:13.539Z"
   },
   {
    "duration": 6,
    "start_time": "2022-06-23T20:44:13.548Z"
   },
   {
    "duration": 6,
    "start_time": "2022-06-23T20:44:13.555Z"
   },
   {
    "duration": 11,
    "start_time": "2022-06-23T20:44:13.562Z"
   },
   {
    "duration": 13,
    "start_time": "2022-06-23T20:44:13.574Z"
   },
   {
    "duration": 4,
    "start_time": "2022-06-23T20:44:13.590Z"
   },
   {
    "duration": 36,
    "start_time": "2022-06-23T20:44:13.595Z"
   },
   {
    "duration": 46,
    "start_time": "2022-06-23T20:44:13.633Z"
   },
   {
    "duration": 5,
    "start_time": "2022-06-23T20:44:13.681Z"
   },
   {
    "duration": 39,
    "start_time": "2022-06-23T20:44:13.687Z"
   },
   {
    "duration": 176,
    "start_time": "2022-06-23T20:44:13.728Z"
   },
   {
    "duration": 23,
    "start_time": "2022-06-23T20:44:13.906Z"
   },
   {
    "duration": 11,
    "start_time": "2022-06-23T20:44:13.931Z"
   },
   {
    "duration": 233,
    "start_time": "2022-06-23T20:44:13.943Z"
   },
   {
    "duration": 52,
    "start_time": "2022-06-23T20:44:14.178Z"
   },
   {
    "duration": 17,
    "start_time": "2022-06-23T20:44:14.232Z"
   },
   {
    "duration": 5,
    "start_time": "2022-06-23T20:44:14.250Z"
   },
   {
    "duration": 297,
    "start_time": "2022-06-23T20:44:14.256Z"
   },
   {
    "duration": 7,
    "start_time": "2022-06-23T20:44:14.556Z"
   },
   {
    "duration": 35,
    "start_time": "2022-06-23T20:44:14.565Z"
   },
   {
    "duration": 145,
    "start_time": "2022-06-23T20:44:14.602Z"
   },
   {
    "duration": 530,
    "start_time": "2022-06-23T20:44:14.748Z"
   },
   {
    "duration": 7,
    "start_time": "2022-06-23T20:44:15.280Z"
   },
   {
    "duration": 25,
    "start_time": "2022-06-23T20:44:15.289Z"
   },
   {
    "duration": 11,
    "start_time": "2022-06-23T20:44:15.316Z"
   },
   {
    "duration": 12,
    "start_time": "2022-06-23T20:44:15.329Z"
   },
   {
    "duration": 286,
    "start_time": "2022-06-23T20:44:15.343Z"
   },
   {
    "duration": 274,
    "start_time": "2022-06-23T20:44:15.631Z"
   },
   {
    "duration": 185,
    "start_time": "2022-06-23T20:44:15.907Z"
   },
   {
    "duration": 428,
    "start_time": "2022-06-23T20:44:16.094Z"
   },
   {
    "duration": 379,
    "start_time": "2022-06-23T20:44:16.525Z"
   },
   {
    "duration": 372,
    "start_time": "2022-06-23T20:44:16.905Z"
   },
   {
    "duration": 14,
    "start_time": "2022-06-23T20:44:17.281Z"
   },
   {
    "duration": 30,
    "start_time": "2022-06-23T20:44:17.297Z"
   },
   {
    "duration": 14,
    "start_time": "2022-06-23T20:44:17.329Z"
   },
   {
    "duration": 8,
    "start_time": "2022-06-23T21:10:51.118Z"
   },
   {
    "duration": 6,
    "start_time": "2022-06-23T21:10:51.639Z"
   },
   {
    "duration": 4,
    "start_time": "2022-06-23T21:10:52.099Z"
   },
   {
    "duration": 11,
    "start_time": "2022-06-23T21:10:52.848Z"
   },
   {
    "duration": 21,
    "start_time": "2022-06-23T21:10:54.503Z"
   },
   {
    "duration": 5,
    "start_time": "2022-06-23T21:10:54.947Z"
   },
   {
    "duration": 5,
    "start_time": "2022-06-23T21:11:21.918Z"
   },
   {
    "duration": 50,
    "start_time": "2022-06-23T21:11:22.223Z"
   },
   {
    "duration": 4,
    "start_time": "2022-06-23T21:11:23.008Z"
   },
   {
    "duration": 17,
    "start_time": "2022-06-23T21:11:24.024Z"
   },
   {
    "duration": 184,
    "start_time": "2022-06-23T21:11:31.108Z"
   },
   {
    "duration": 11,
    "start_time": "2022-06-23T21:11:31.903Z"
   },
   {
    "duration": 12,
    "start_time": "2022-06-23T21:11:32.112Z"
   },
   {
    "duration": 327,
    "start_time": "2022-06-23T21:11:32.311Z"
   },
   {
    "duration": 44,
    "start_time": "2022-06-23T21:11:33.529Z"
   },
   {
    "duration": 16,
    "start_time": "2022-06-23T21:11:34.234Z"
   },
   {
    "duration": 6,
    "start_time": "2022-06-23T21:11:34.563Z"
   },
   {
    "duration": 220,
    "start_time": "2022-06-23T21:11:35.083Z"
   },
   {
    "duration": 125,
    "start_time": "2022-06-23T21:12:04.389Z"
   },
   {
    "duration": 210,
    "start_time": "2022-06-23T21:12:09.783Z"
   },
   {
    "duration": 17,
    "start_time": "2022-06-23T21:12:32.303Z"
   },
   {
    "duration": 45,
    "start_time": "2022-06-23T21:12:37.833Z"
   },
   {
    "duration": 14,
    "start_time": "2022-06-23T21:12:40.810Z"
   },
   {
    "duration": 6,
    "start_time": "2022-06-23T21:12:41.242Z"
   },
   {
    "duration": 208,
    "start_time": "2022-06-23T21:12:41.738Z"
   },
   {
    "duration": 61,
    "start_time": "2022-06-23T21:13:06.583Z"
   },
   {
    "duration": 16,
    "start_time": "2022-06-23T21:13:07.200Z"
   },
   {
    "duration": 7,
    "start_time": "2022-06-23T21:13:07.430Z"
   },
   {
    "duration": 201,
    "start_time": "2022-06-23T21:13:08.050Z"
   },
   {
    "duration": 54,
    "start_time": "2022-06-23T21:13:18.992Z"
   },
   {
    "duration": 16,
    "start_time": "2022-06-23T21:13:25.198Z"
   },
   {
    "duration": 6,
    "start_time": "2022-06-23T21:13:26.512Z"
   },
   {
    "duration": 210,
    "start_time": "2022-06-23T21:13:27.285Z"
   },
   {
    "duration": 1161,
    "start_time": "2022-06-23T21:14:24.176Z"
   },
   {
    "duration": 81,
    "start_time": "2022-06-23T21:14:25.339Z"
   },
   {
    "duration": 5,
    "start_time": "2022-06-23T21:14:25.421Z"
   },
   {
    "duration": 38,
    "start_time": "2022-06-23T21:14:25.428Z"
   },
   {
    "duration": 9,
    "start_time": "2022-06-23T21:14:25.467Z"
   },
   {
    "duration": 27,
    "start_time": "2022-06-23T21:14:25.477Z"
   },
   {
    "duration": 26,
    "start_time": "2022-06-23T21:14:25.510Z"
   },
   {
    "duration": 10,
    "start_time": "2022-06-23T21:14:25.539Z"
   },
   {
    "duration": 27,
    "start_time": "2022-06-23T21:14:25.551Z"
   },
   {
    "duration": 6,
    "start_time": "2022-06-23T21:14:25.583Z"
   },
   {
    "duration": 10,
    "start_time": "2022-06-23T21:14:25.591Z"
   },
   {
    "duration": 13,
    "start_time": "2022-06-23T21:14:25.603Z"
   },
   {
    "duration": 28,
    "start_time": "2022-06-23T21:14:25.617Z"
   },
   {
    "duration": 7,
    "start_time": "2022-06-23T21:14:25.647Z"
   },
   {
    "duration": 21,
    "start_time": "2022-06-23T21:14:25.656Z"
   },
   {
    "duration": 73,
    "start_time": "2022-06-23T21:14:25.679Z"
   },
   {
    "duration": 5,
    "start_time": "2022-06-23T21:14:25.753Z"
   },
   {
    "duration": 19,
    "start_time": "2022-06-23T21:14:25.760Z"
   },
   {
    "duration": 174,
    "start_time": "2022-06-23T21:14:25.781Z"
   },
   {
    "duration": 11,
    "start_time": "2022-06-23T21:14:25.956Z"
   },
   {
    "duration": 11,
    "start_time": "2022-06-23T21:14:25.968Z"
   },
   {
    "duration": 239,
    "start_time": "2022-06-23T21:14:25.980Z"
   },
   {
    "duration": 56,
    "start_time": "2022-06-23T21:14:26.221Z"
   },
   {
    "duration": 14,
    "start_time": "2022-06-23T21:14:26.278Z"
   },
   {
    "duration": 5,
    "start_time": "2022-06-23T21:14:26.294Z"
   },
   {
    "duration": 261,
    "start_time": "2022-06-23T21:14:26.300Z"
   },
   {
    "duration": 5,
    "start_time": "2022-06-23T21:14:26.563Z"
   },
   {
    "duration": 10,
    "start_time": "2022-06-23T21:14:26.571Z"
   },
   {
    "duration": 114,
    "start_time": "2022-06-23T21:14:26.583Z"
   },
   {
    "duration": 503,
    "start_time": "2022-06-23T21:14:26.699Z"
   },
   {
    "duration": 8,
    "start_time": "2022-06-23T21:14:27.203Z"
   },
   {
    "duration": 17,
    "start_time": "2022-06-23T21:14:27.212Z"
   },
   {
    "duration": 18,
    "start_time": "2022-06-23T21:14:27.230Z"
   },
   {
    "duration": 18,
    "start_time": "2022-06-23T21:14:27.250Z"
   },
   {
    "duration": 314,
    "start_time": "2022-06-23T21:14:27.270Z"
   },
   {
    "duration": 308,
    "start_time": "2022-06-23T21:14:27.585Z"
   },
   {
    "duration": 182,
    "start_time": "2022-06-23T21:14:27.895Z"
   },
   {
    "duration": 415,
    "start_time": "2022-06-23T21:14:28.079Z"
   },
   {
    "duration": 382,
    "start_time": "2022-06-23T21:14:28.495Z"
   },
   {
    "duration": 396,
    "start_time": "2022-06-23T21:14:28.878Z"
   },
   {
    "duration": 14,
    "start_time": "2022-06-23T21:14:29.276Z"
   },
   {
    "duration": 13,
    "start_time": "2022-06-23T21:14:29.292Z"
   },
   {
    "duration": 26,
    "start_time": "2022-06-23T21:14:29.307Z"
   },
   {
    "duration": 5,
    "start_time": "2022-06-23T21:14:52.808Z"
   },
   {
    "duration": 246,
    "start_time": "2022-06-23T21:14:53.113Z"
   },
   {
    "duration": 6,
    "start_time": "2022-06-23T21:15:00.577Z"
   },
   {
    "duration": 356,
    "start_time": "2022-06-23T21:15:00.801Z"
   },
   {
    "duration": 14,
    "start_time": "2022-06-23T21:18:56.557Z"
   },
   {
    "duration": 11,
    "start_time": "2022-06-23T21:19:04.009Z"
   },
   {
    "duration": 17,
    "start_time": "2022-06-23T21:19:05.207Z"
   },
   {
    "duration": 8,
    "start_time": "2022-06-23T21:20:46.604Z"
   },
   {
    "duration": 482,
    "start_time": "2022-06-23T21:20:54.333Z"
   },
   {
    "duration": 353,
    "start_time": "2022-06-23T21:20:55.093Z"
   },
   {
    "duration": 22,
    "start_time": "2022-06-23T21:20:56.573Z"
   },
   {
    "duration": 11,
    "start_time": "2022-06-23T21:20:57.015Z"
   },
   {
    "duration": 14,
    "start_time": "2022-06-23T21:20:57.692Z"
   },
   {
    "duration": 11,
    "start_time": "2022-06-23T21:21:00.815Z"
   },
   {
    "duration": 12,
    "start_time": "2022-06-23T21:21:06.305Z"
   },
   {
    "duration": 8,
    "start_time": "2022-06-23T21:21:50.769Z"
   },
   {
    "duration": 12,
    "start_time": "2022-06-23T21:21:51.051Z"
   },
   {
    "duration": 15,
    "start_time": "2022-06-23T21:21:51.570Z"
   },
   {
    "duration": 301,
    "start_time": "2022-06-23T21:21:52.116Z"
   },
   {
    "duration": 264,
    "start_time": "2022-06-23T21:21:52.934Z"
   },
   {
    "duration": 178,
    "start_time": "2022-06-23T21:21:54.769Z"
   },
   {
    "duration": 53,
    "start_time": "2022-06-23T21:23:21.408Z"
   },
   {
    "duration": 17,
    "start_time": "2022-06-23T21:23:22.175Z"
   },
   {
    "duration": 59,
    "start_time": "2022-06-23T21:23:30.761Z"
   },
   {
    "duration": 13,
    "start_time": "2022-06-23T21:23:36.579Z"
   },
   {
    "duration": 5,
    "start_time": "2022-06-23T21:23:38.064Z"
   },
   {
    "duration": 204,
    "start_time": "2022-06-23T21:23:38.686Z"
   },
   {
    "duration": 1205,
    "start_time": "2022-06-23T21:23:54.198Z"
   },
   {
    "duration": 84,
    "start_time": "2022-06-23T21:23:55.404Z"
   },
   {
    "duration": 5,
    "start_time": "2022-06-23T21:23:55.490Z"
   },
   {
    "duration": 34,
    "start_time": "2022-06-23T21:23:55.497Z"
   },
   {
    "duration": 14,
    "start_time": "2022-06-23T21:23:55.532Z"
   },
   {
    "duration": 24,
    "start_time": "2022-06-23T21:23:55.548Z"
   },
   {
    "duration": 10,
    "start_time": "2022-06-23T21:23:55.573Z"
   },
   {
    "duration": 12,
    "start_time": "2022-06-23T21:23:55.585Z"
   },
   {
    "duration": 6,
    "start_time": "2022-06-23T21:23:55.599Z"
   },
   {
    "duration": 9,
    "start_time": "2022-06-23T21:23:55.608Z"
   },
   {
    "duration": 4,
    "start_time": "2022-06-23T21:23:55.626Z"
   },
   {
    "duration": 14,
    "start_time": "2022-06-23T21:23:55.632Z"
   },
   {
    "duration": 12,
    "start_time": "2022-06-23T21:23:55.648Z"
   },
   {
    "duration": 5,
    "start_time": "2022-06-23T21:23:55.662Z"
   },
   {
    "duration": 14,
    "start_time": "2022-06-23T21:23:55.668Z"
   },
   {
    "duration": 68,
    "start_time": "2022-06-23T21:23:55.684Z"
   },
   {
    "duration": 5,
    "start_time": "2022-06-23T21:23:55.753Z"
   },
   {
    "duration": 17,
    "start_time": "2022-06-23T21:23:55.760Z"
   },
   {
    "duration": 185,
    "start_time": "2022-06-23T21:23:55.779Z"
   },
   {
    "duration": 12,
    "start_time": "2022-06-23T21:23:55.966Z"
   },
   {
    "duration": 13,
    "start_time": "2022-06-23T21:23:55.980Z"
   },
   {
    "duration": 239,
    "start_time": "2022-06-23T21:23:55.995Z"
   },
   {
    "duration": 52,
    "start_time": "2022-06-23T21:23:56.235Z"
   },
   {
    "duration": 19,
    "start_time": "2022-06-23T21:23:56.289Z"
   },
   {
    "duration": 6,
    "start_time": "2022-06-23T21:23:56.326Z"
   },
   {
    "duration": 243,
    "start_time": "2022-06-23T21:23:56.334Z"
   },
   {
    "duration": 5,
    "start_time": "2022-06-23T21:23:56.579Z"
   },
   {
    "duration": 12,
    "start_time": "2022-06-23T21:23:56.587Z"
   },
   {
    "duration": 120,
    "start_time": "2022-06-23T21:23:56.601Z"
   },
   {
    "duration": 499,
    "start_time": "2022-06-23T21:23:56.722Z"
   },
   {
    "duration": 7,
    "start_time": "2022-06-23T21:23:57.223Z"
   },
   {
    "duration": 16,
    "start_time": "2022-06-23T21:23:57.231Z"
   },
   {
    "duration": 15,
    "start_time": "2022-06-23T21:23:57.249Z"
   },
   {
    "duration": 10,
    "start_time": "2022-06-23T21:23:57.266Z"
   },
   {
    "duration": 265,
    "start_time": "2022-06-23T21:23:57.277Z"
   },
   {
    "duration": 273,
    "start_time": "2022-06-23T21:23:57.544Z"
   },
   {
    "duration": 213,
    "start_time": "2022-06-23T21:23:57.819Z"
   },
   {
    "duration": 375,
    "start_time": "2022-06-23T21:23:58.033Z"
   },
   {
    "duration": 377,
    "start_time": "2022-06-23T21:23:58.409Z"
   },
   {
    "duration": 370,
    "start_time": "2022-06-23T21:23:58.787Z"
   },
   {
    "duration": 16,
    "start_time": "2022-06-23T21:23:59.159Z"
   },
   {
    "duration": 11,
    "start_time": "2022-06-23T21:23:59.177Z"
   },
   {
    "duration": 15,
    "start_time": "2022-06-23T21:23:59.189Z"
   },
   {
    "duration": 11,
    "start_time": "2022-06-23T21:27:26.468Z"
   },
   {
    "duration": 18,
    "start_time": "2022-06-23T21:27:27.658Z"
   },
   {
    "duration": 13,
    "start_time": "2022-06-23T21:27:37.303Z"
   },
   {
    "duration": 13,
    "start_time": "2022-06-23T21:30:25.985Z"
   },
   {
    "duration": 16,
    "start_time": "2022-06-23T21:30:27.025Z"
   },
   {
    "duration": 14,
    "start_time": "2022-06-23T21:31:00.946Z"
   },
   {
    "duration": 11,
    "start_time": "2022-06-23T21:31:01.234Z"
   },
   {
    "duration": 5,
    "start_time": "2022-06-23T21:31:47.945Z"
   },
   {
    "duration": 226,
    "start_time": "2022-06-23T21:31:48.305Z"
   },
   {
    "duration": 1216,
    "start_time": "2022-06-23T21:32:06.343Z"
   },
   {
    "duration": 129,
    "start_time": "2022-06-23T21:32:07.562Z"
   },
   {
    "duration": 5,
    "start_time": "2022-06-23T21:32:07.693Z"
   },
   {
    "duration": 48,
    "start_time": "2022-06-23T21:32:07.701Z"
   },
   {
    "duration": 11,
    "start_time": "2022-06-23T21:32:07.750Z"
   },
   {
    "duration": 34,
    "start_time": "2022-06-23T21:32:07.763Z"
   },
   {
    "duration": 31,
    "start_time": "2022-06-23T21:32:07.800Z"
   },
   {
    "duration": 10,
    "start_time": "2022-06-23T21:32:07.833Z"
   },
   {
    "duration": 11,
    "start_time": "2022-06-23T21:32:07.845Z"
   },
   {
    "duration": 12,
    "start_time": "2022-06-23T21:32:07.859Z"
   },
   {
    "duration": 7,
    "start_time": "2022-06-23T21:32:07.873Z"
   },
   {
    "duration": 18,
    "start_time": "2022-06-23T21:32:07.882Z"
   },
   {
    "duration": 30,
    "start_time": "2022-06-23T21:32:07.902Z"
   },
   {
    "duration": 6,
    "start_time": "2022-06-23T21:32:07.933Z"
   },
   {
    "duration": 12,
    "start_time": "2022-06-23T21:32:07.940Z"
   },
   {
    "duration": 73,
    "start_time": "2022-06-23T21:32:07.954Z"
   },
   {
    "duration": 6,
    "start_time": "2022-06-23T21:32:08.029Z"
   },
   {
    "duration": 28,
    "start_time": "2022-06-23T21:32:08.037Z"
   },
   {
    "duration": 199,
    "start_time": "2022-06-23T21:32:08.068Z"
   },
   {
    "duration": 12,
    "start_time": "2022-06-23T21:32:08.269Z"
   },
   {
    "duration": 15,
    "start_time": "2022-06-23T21:32:08.283Z"
   },
   {
    "duration": 263,
    "start_time": "2022-06-23T21:32:08.300Z"
   },
   {
    "duration": 67,
    "start_time": "2022-06-23T21:32:08.565Z"
   },
   {
    "duration": 17,
    "start_time": "2022-06-23T21:32:08.634Z"
   },
   {
    "duration": 6,
    "start_time": "2022-06-23T21:32:08.653Z"
   },
   {
    "duration": 293,
    "start_time": "2022-06-23T21:32:08.661Z"
   },
   {
    "duration": 6,
    "start_time": "2022-06-23T21:32:08.957Z"
   },
   {
    "duration": 31,
    "start_time": "2022-06-23T21:32:08.968Z"
   },
   {
    "duration": 166,
    "start_time": "2022-06-23T21:32:09.001Z"
   },
   {
    "duration": 726,
    "start_time": "2022-06-23T21:32:09.170Z"
   },
   {
    "duration": 10,
    "start_time": "2022-06-23T21:32:09.899Z"
   },
   {
    "duration": 29,
    "start_time": "2022-06-23T21:32:09.912Z"
   },
   {
    "duration": 35,
    "start_time": "2022-06-23T21:32:09.942Z"
   },
   {
    "duration": 37,
    "start_time": "2022-06-23T21:32:09.979Z"
   },
   {
    "duration": 284,
    "start_time": "2022-06-23T21:32:10.019Z"
   },
   {
    "duration": 332,
    "start_time": "2022-06-23T21:32:10.305Z"
   },
   {
    "duration": 238,
    "start_time": "2022-06-23T21:32:10.640Z"
   },
   {
    "duration": 434,
    "start_time": "2022-06-23T21:32:10.881Z"
   },
   {
    "duration": 445,
    "start_time": "2022-06-23T21:32:11.317Z"
   },
   {
    "duration": 434,
    "start_time": "2022-06-23T21:32:11.764Z"
   },
   {
    "duration": 15,
    "start_time": "2022-06-23T21:32:12.200Z"
   },
   {
    "duration": 32,
    "start_time": "2022-06-23T21:32:12.226Z"
   },
   {
    "duration": 44,
    "start_time": "2022-06-23T21:32:12.260Z"
   },
   {
    "duration": 137,
    "start_time": "2022-06-23T21:39:43.458Z"
   },
   {
    "duration": 17,
    "start_time": "2022-06-23T21:40:06.693Z"
   },
   {
    "duration": 16,
    "start_time": "2022-06-23T21:40:12.943Z"
   },
   {
    "duration": 23,
    "start_time": "2022-06-23T21:40:22.215Z"
   },
   {
    "duration": 17,
    "start_time": "2022-06-23T21:40:27.304Z"
   },
   {
    "duration": 24,
    "start_time": "2022-06-23T21:40:32.706Z"
   },
   {
    "duration": 18,
    "start_time": "2022-06-23T21:40:54.690Z"
   },
   {
    "duration": 24,
    "start_time": "2022-06-23T21:41:23.422Z"
   },
   {
    "duration": 26,
    "start_time": "2022-06-23T21:41:31.033Z"
   },
   {
    "duration": 5,
    "start_time": "2022-06-23T21:41:55.413Z"
   },
   {
    "duration": 9,
    "start_time": "2022-06-23T21:41:56.206Z"
   },
   {
    "duration": 140,
    "start_time": "2022-06-23T21:41:56.510Z"
   },
   {
    "duration": 70,
    "start_time": "2022-06-24T07:37:17.576Z"
   },
   {
    "duration": 1372,
    "start_time": "2022-06-24T07:37:33.304Z"
   },
   {
    "duration": 214,
    "start_time": "2022-06-24T07:37:34.678Z"
   },
   {
    "duration": 4,
    "start_time": "2022-06-24T07:37:34.893Z"
   },
   {
    "duration": 42,
    "start_time": "2022-06-24T07:37:34.899Z"
   },
   {
    "duration": 9,
    "start_time": "2022-06-24T07:37:34.942Z"
   },
   {
    "duration": 16,
    "start_time": "2022-06-24T07:37:34.952Z"
   },
   {
    "duration": 7,
    "start_time": "2022-06-24T07:37:34.970Z"
   },
   {
    "duration": 9,
    "start_time": "2022-06-24T07:37:34.978Z"
   },
   {
    "duration": 5,
    "start_time": "2022-06-24T07:37:34.988Z"
   },
   {
    "duration": 5,
    "start_time": "2022-06-24T07:37:34.996Z"
   },
   {
    "duration": 8,
    "start_time": "2022-06-24T07:37:35.002Z"
   },
   {
    "duration": 28,
    "start_time": "2022-06-24T07:37:35.012Z"
   },
   {
    "duration": 15,
    "start_time": "2022-06-24T07:37:35.042Z"
   },
   {
    "duration": 15,
    "start_time": "2022-06-24T07:37:35.059Z"
   },
   {
    "duration": 4,
    "start_time": "2022-06-24T07:37:35.076Z"
   },
   {
    "duration": 7,
    "start_time": "2022-06-24T07:37:35.082Z"
   },
   {
    "duration": 63,
    "start_time": "2022-06-24T07:37:35.091Z"
   },
   {
    "duration": 4,
    "start_time": "2022-06-24T07:37:35.156Z"
   },
   {
    "duration": 18,
    "start_time": "2022-06-24T07:37:35.161Z"
   },
   {
    "duration": 182,
    "start_time": "2022-06-24T07:37:35.180Z"
   },
   {
    "duration": 10,
    "start_time": "2022-06-24T07:37:35.364Z"
   },
   {
    "duration": 15,
    "start_time": "2022-06-24T07:37:35.375Z"
   },
   {
    "duration": 242,
    "start_time": "2022-06-24T07:37:35.392Z"
   },
   {
    "duration": 55,
    "start_time": "2022-06-24T07:37:35.636Z"
   },
   {
    "duration": 14,
    "start_time": "2022-06-24T07:37:35.693Z"
   },
   {
    "duration": 29,
    "start_time": "2022-06-24T07:37:35.708Z"
   },
   {
    "duration": 256,
    "start_time": "2022-06-24T07:37:35.739Z"
   },
   {
    "duration": 6,
    "start_time": "2022-06-24T07:37:35.998Z"
   },
   {
    "duration": 10,
    "start_time": "2022-06-24T07:37:36.005Z"
   },
   {
    "duration": 135,
    "start_time": "2022-06-24T07:37:36.017Z"
   },
   {
    "duration": 604,
    "start_time": "2022-06-24T07:37:36.154Z"
   },
   {
    "duration": 8,
    "start_time": "2022-06-24T07:37:36.760Z"
   },
   {
    "duration": 31,
    "start_time": "2022-06-24T07:37:36.770Z"
   },
   {
    "duration": 23,
    "start_time": "2022-06-24T07:37:36.803Z"
   },
   {
    "duration": 21,
    "start_time": "2022-06-24T07:37:36.828Z"
   },
   {
    "duration": 283,
    "start_time": "2022-06-24T07:37:36.850Z"
   },
   {
    "duration": 296,
    "start_time": "2022-06-24T07:37:37.139Z"
   },
   {
    "duration": 207,
    "start_time": "2022-06-24T07:37:37.437Z"
   },
   {
    "duration": 439,
    "start_time": "2022-06-24T07:37:37.646Z"
   },
   {
    "duration": 435,
    "start_time": "2022-06-24T07:37:38.087Z"
   },
   {
    "duration": 456,
    "start_time": "2022-06-24T07:37:38.528Z"
   },
   {
    "duration": 9,
    "start_time": "2022-06-24T07:37:38.986Z"
   },
   {
    "duration": 13,
    "start_time": "2022-06-24T07:37:38.997Z"
   },
   {
    "duration": 6,
    "start_time": "2022-06-24T07:38:41.253Z"
   },
   {
    "duration": 1183,
    "start_time": "2022-06-24T07:38:47.036Z"
   },
   {
    "duration": 83,
    "start_time": "2022-06-24T07:38:48.221Z"
   },
   {
    "duration": 5,
    "start_time": "2022-06-24T07:38:48.305Z"
   },
   {
    "duration": 44,
    "start_time": "2022-06-24T07:38:48.312Z"
   },
   {
    "duration": 12,
    "start_time": "2022-06-24T07:38:48.359Z"
   },
   {
    "duration": 17,
    "start_time": "2022-06-24T07:38:48.373Z"
   },
   {
    "duration": 48,
    "start_time": "2022-06-24T07:38:48.391Z"
   },
   {
    "duration": 12,
    "start_time": "2022-06-24T07:38:48.441Z"
   },
   {
    "duration": 5,
    "start_time": "2022-06-24T07:38:48.455Z"
   },
   {
    "duration": 8,
    "start_time": "2022-06-24T07:38:48.461Z"
   },
   {
    "duration": 11,
    "start_time": "2022-06-24T07:38:48.470Z"
   },
   {
    "duration": 6,
    "start_time": "2022-06-24T07:38:48.482Z"
   },
   {
    "duration": 7,
    "start_time": "2022-06-24T07:38:48.490Z"
   },
   {
    "duration": 9,
    "start_time": "2022-06-24T07:38:48.500Z"
   },
   {
    "duration": 13,
    "start_time": "2022-06-24T07:38:48.510Z"
   },
   {
    "duration": 8,
    "start_time": "2022-06-24T07:38:48.525Z"
   },
   {
    "duration": 10,
    "start_time": "2022-06-24T07:38:48.539Z"
   },
   {
    "duration": 55,
    "start_time": "2022-06-24T07:38:48.551Z"
   },
   {
    "duration": 5,
    "start_time": "2022-06-24T07:38:48.607Z"
   },
   {
    "duration": 26,
    "start_time": "2022-06-24T07:38:48.613Z"
   },
   {
    "duration": 214,
    "start_time": "2022-06-24T07:38:48.641Z"
   },
   {
    "duration": 12,
    "start_time": "2022-06-24T07:38:48.857Z"
   },
   {
    "duration": 70,
    "start_time": "2022-06-24T07:38:48.871Z"
   },
   {
    "duration": 326,
    "start_time": "2022-06-24T07:38:48.950Z"
   },
   {
    "duration": 70,
    "start_time": "2022-06-24T07:38:49.278Z"
   },
   {
    "duration": 15,
    "start_time": "2022-06-24T07:38:49.350Z"
   },
   {
    "duration": 5,
    "start_time": "2022-06-24T07:38:49.367Z"
   },
   {
    "duration": 402,
    "start_time": "2022-06-24T07:38:49.373Z"
   },
   {
    "duration": 5,
    "start_time": "2022-06-24T07:38:49.777Z"
   },
   {
    "duration": 12,
    "start_time": "2022-06-24T07:38:49.784Z"
   },
   {
    "duration": 165,
    "start_time": "2022-06-24T07:38:49.798Z"
   },
   {
    "duration": 612,
    "start_time": "2022-06-24T07:38:49.964Z"
   },
   {
    "duration": 9,
    "start_time": "2022-06-24T07:38:50.578Z"
   },
   {
    "duration": 19,
    "start_time": "2022-06-24T07:38:50.589Z"
   },
   {
    "duration": 23,
    "start_time": "2022-06-24T07:38:50.610Z"
   },
   {
    "duration": 20,
    "start_time": "2022-06-24T07:38:50.635Z"
   },
   {
    "duration": 313,
    "start_time": "2022-06-24T07:38:50.657Z"
   },
   {
    "duration": 371,
    "start_time": "2022-06-24T07:38:50.972Z"
   },
   {
    "duration": 204,
    "start_time": "2022-06-24T07:38:51.347Z"
   },
   {
    "duration": 403,
    "start_time": "2022-06-24T07:38:51.553Z"
   },
   {
    "duration": 457,
    "start_time": "2022-06-24T07:38:51.960Z"
   },
   {
    "duration": 404,
    "start_time": "2022-06-24T07:38:52.426Z"
   },
   {
    "duration": 12,
    "start_time": "2022-06-24T07:38:52.839Z"
   },
   {
    "duration": 11,
    "start_time": "2022-06-24T07:38:52.853Z"
   },
   {
    "duration": 36,
    "start_time": "2022-06-24T08:22:05.938Z"
   },
   {
    "duration": 18,
    "start_time": "2022-06-24T08:22:07.184Z"
   },
   {
    "duration": 6,
    "start_time": "2022-06-24T08:22:43.611Z"
   },
   {
    "duration": 11,
    "start_time": "2022-06-24T08:22:45.914Z"
   },
   {
    "duration": 6,
    "start_time": "2022-06-24T08:22:50.923Z"
   },
   {
    "duration": 15,
    "start_time": "2022-06-24T08:22:51.171Z"
   },
   {
    "duration": 1633,
    "start_time": "2022-06-24T08:23:07.043Z"
   },
   {
    "duration": 0,
    "start_time": "2022-06-24T08:23:08.678Z"
   },
   {
    "duration": 6,
    "start_time": "2022-06-24T08:23:21.651Z"
   },
   {
    "duration": 11,
    "start_time": "2022-06-24T08:23:22.103Z"
   },
   {
    "duration": 12,
    "start_time": "2022-06-24T08:23:35.291Z"
   },
   {
    "duration": 13,
    "start_time": "2022-06-24T08:23:35.967Z"
   },
   {
    "duration": 1218,
    "start_time": "2022-06-24T08:29:21.999Z"
   },
   {
    "duration": 86,
    "start_time": "2022-06-24T08:29:23.219Z"
   },
   {
    "duration": 7,
    "start_time": "2022-06-24T08:29:23.307Z"
   },
   {
    "duration": 66,
    "start_time": "2022-06-24T08:29:23.317Z"
   },
   {
    "duration": 13,
    "start_time": "2022-06-24T08:29:23.385Z"
   },
   {
    "duration": 32,
    "start_time": "2022-06-24T08:29:23.401Z"
   },
   {
    "duration": 13,
    "start_time": "2022-06-24T08:29:23.435Z"
   },
   {
    "duration": 21,
    "start_time": "2022-06-24T08:29:23.450Z"
   },
   {
    "duration": 16,
    "start_time": "2022-06-24T08:29:23.473Z"
   },
   {
    "duration": 13,
    "start_time": "2022-06-24T08:29:23.493Z"
   },
   {
    "duration": 14,
    "start_time": "2022-06-24T08:29:23.508Z"
   },
   {
    "duration": 23,
    "start_time": "2022-06-24T08:29:23.524Z"
   },
   {
    "duration": 22,
    "start_time": "2022-06-24T08:29:23.549Z"
   },
   {
    "duration": 21,
    "start_time": "2022-06-24T08:29:23.573Z"
   },
   {
    "duration": 31,
    "start_time": "2022-06-24T08:29:23.596Z"
   },
   {
    "duration": 18,
    "start_time": "2022-06-24T08:29:23.638Z"
   },
   {
    "duration": 81,
    "start_time": "2022-06-24T08:29:23.658Z"
   },
   {
    "duration": 5,
    "start_time": "2022-06-24T08:29:23.748Z"
   },
   {
    "duration": 50,
    "start_time": "2022-06-24T08:29:23.755Z"
   },
   {
    "duration": 231,
    "start_time": "2022-06-24T08:29:23.807Z"
   },
   {
    "duration": 16,
    "start_time": "2022-06-24T08:29:24.039Z"
   },
   {
    "duration": 44,
    "start_time": "2022-06-24T08:29:24.057Z"
   },
   {
    "duration": 262,
    "start_time": "2022-06-24T08:29:24.102Z"
   },
   {
    "duration": 74,
    "start_time": "2022-06-24T08:29:24.366Z"
   },
   {
    "duration": 16,
    "start_time": "2022-06-24T08:29:24.442Z"
   },
   {
    "duration": 10,
    "start_time": "2022-06-24T08:29:24.460Z"
   },
   {
    "duration": 375,
    "start_time": "2022-06-24T08:29:24.472Z"
   },
   {
    "duration": 7,
    "start_time": "2022-06-24T08:29:24.852Z"
   },
   {
    "duration": 11,
    "start_time": "2022-06-24T08:29:24.860Z"
   },
   {
    "duration": 133,
    "start_time": "2022-06-24T08:29:24.873Z"
   },
   {
    "duration": 752,
    "start_time": "2022-06-24T08:29:25.009Z"
   },
   {
    "duration": 8,
    "start_time": "2022-06-24T08:29:25.763Z"
   },
   {
    "duration": 29,
    "start_time": "2022-06-24T08:29:25.773Z"
   },
   {
    "duration": 24,
    "start_time": "2022-06-24T08:29:25.804Z"
   },
   {
    "duration": 35,
    "start_time": "2022-06-24T08:29:25.833Z"
   },
   {
    "duration": 375,
    "start_time": "2022-06-24T08:29:25.870Z"
   },
   {
    "duration": 413,
    "start_time": "2022-06-24T08:29:26.247Z"
   },
   {
    "duration": 309,
    "start_time": "2022-06-24T08:29:26.663Z"
   },
   {
    "duration": 568,
    "start_time": "2022-06-24T08:29:26.975Z"
   },
   {
    "duration": 387,
    "start_time": "2022-06-24T08:29:27.545Z"
   },
   {
    "duration": 383,
    "start_time": "2022-06-24T08:29:27.933Z"
   },
   {
    "duration": 18,
    "start_time": "2022-06-24T08:29:28.318Z"
   },
   {
    "duration": 31,
    "start_time": "2022-06-24T08:29:28.340Z"
   },
   {
    "duration": 1312,
    "start_time": "2022-06-24T08:30:08.147Z"
   },
   {
    "duration": 98,
    "start_time": "2022-06-24T08:30:09.461Z"
   },
   {
    "duration": 6,
    "start_time": "2022-06-24T08:30:09.560Z"
   },
   {
    "duration": 65,
    "start_time": "2022-06-24T08:30:09.568Z"
   },
   {
    "duration": 12,
    "start_time": "2022-06-24T08:30:09.635Z"
   },
   {
    "duration": 32,
    "start_time": "2022-06-24T08:30:09.649Z"
   },
   {
    "duration": 12,
    "start_time": "2022-06-24T08:30:09.683Z"
   },
   {
    "duration": 33,
    "start_time": "2022-06-24T08:30:09.697Z"
   },
   {
    "duration": 8,
    "start_time": "2022-06-24T08:30:09.738Z"
   },
   {
    "duration": 11,
    "start_time": "2022-06-24T08:30:09.748Z"
   },
   {
    "duration": 15,
    "start_time": "2022-06-24T08:30:09.760Z"
   },
   {
    "duration": 10,
    "start_time": "2022-06-24T08:30:09.777Z"
   },
   {
    "duration": 9,
    "start_time": "2022-06-24T08:30:09.790Z"
   },
   {
    "duration": 14,
    "start_time": "2022-06-24T08:30:09.802Z"
   },
   {
    "duration": 13,
    "start_time": "2022-06-24T08:30:09.817Z"
   },
   {
    "duration": 28,
    "start_time": "2022-06-24T08:30:09.832Z"
   },
   {
    "duration": 49,
    "start_time": "2022-06-24T08:30:09.862Z"
   },
   {
    "duration": 6,
    "start_time": "2022-06-24T08:30:09.912Z"
   },
   {
    "duration": 30,
    "start_time": "2022-06-24T08:30:09.920Z"
   },
   {
    "duration": 200,
    "start_time": "2022-06-24T08:30:09.952Z"
   },
   {
    "duration": 12,
    "start_time": "2022-06-24T08:30:10.153Z"
   },
   {
    "duration": 13,
    "start_time": "2022-06-24T08:30:10.167Z"
   },
   {
    "duration": 267,
    "start_time": "2022-06-24T08:30:10.182Z"
   },
   {
    "duration": 80,
    "start_time": "2022-06-24T08:30:10.451Z"
   },
   {
    "duration": 19,
    "start_time": "2022-06-24T08:30:10.533Z"
   },
   {
    "duration": 6,
    "start_time": "2022-06-24T08:30:10.555Z"
   },
   {
    "duration": 312,
    "start_time": "2022-06-24T08:30:10.563Z"
   },
   {
    "duration": 6,
    "start_time": "2022-06-24T08:30:10.877Z"
   },
   {
    "duration": 18,
    "start_time": "2022-06-24T08:30:10.884Z"
   },
   {
    "duration": 140,
    "start_time": "2022-06-24T08:30:10.905Z"
   },
   {
    "duration": 532,
    "start_time": "2022-06-24T08:30:11.048Z"
   },
   {
    "duration": 8,
    "start_time": "2022-06-24T08:30:11.581Z"
   },
   {
    "duration": 21,
    "start_time": "2022-06-24T08:30:11.590Z"
   },
   {
    "duration": 47,
    "start_time": "2022-06-24T08:30:11.614Z"
   },
   {
    "duration": 16,
    "start_time": "2022-06-24T08:30:11.664Z"
   },
   {
    "duration": 404,
    "start_time": "2022-06-24T08:30:11.682Z"
   },
   {
    "duration": 300,
    "start_time": "2022-06-24T08:30:12.087Z"
   },
   {
    "duration": 201,
    "start_time": "2022-06-24T08:30:12.389Z"
   },
   {
    "duration": 442,
    "start_time": "2022-06-24T08:30:12.591Z"
   },
   {
    "duration": 518,
    "start_time": "2022-06-24T08:30:13.038Z"
   },
   {
    "duration": 460,
    "start_time": "2022-06-24T08:30:13.561Z"
   },
   {
    "duration": 13,
    "start_time": "2022-06-24T08:30:14.031Z"
   },
   {
    "duration": 31,
    "start_time": "2022-06-24T08:30:14.045Z"
   },
   {
    "duration": 9,
    "start_time": "2022-06-24T08:34:09.679Z"
   },
   {
    "duration": 20,
    "start_time": "2022-06-24T08:34:11.312Z"
   },
   {
    "duration": 1163,
    "start_time": "2022-06-24T08:34:23.275Z"
   },
   {
    "duration": 79,
    "start_time": "2022-06-24T08:34:24.440Z"
   },
   {
    "duration": 9,
    "start_time": "2022-06-24T08:34:24.521Z"
   },
   {
    "duration": 46,
    "start_time": "2022-06-24T08:34:24.536Z"
   },
   {
    "duration": 9,
    "start_time": "2022-06-24T08:34:24.586Z"
   },
   {
    "duration": 26,
    "start_time": "2022-06-24T08:34:24.597Z"
   },
   {
    "duration": 10,
    "start_time": "2022-06-24T08:34:24.628Z"
   },
   {
    "duration": 23,
    "start_time": "2022-06-24T08:34:24.640Z"
   },
   {
    "duration": 12,
    "start_time": "2022-06-24T08:34:24.665Z"
   },
   {
    "duration": 5,
    "start_time": "2022-06-24T08:34:24.679Z"
   },
   {
    "duration": 12,
    "start_time": "2022-06-24T08:34:24.686Z"
   },
   {
    "duration": 5,
    "start_time": "2022-06-24T08:34:24.700Z"
   },
   {
    "duration": 17,
    "start_time": "2022-06-24T08:34:24.707Z"
   },
   {
    "duration": 30,
    "start_time": "2022-06-24T08:34:24.728Z"
   },
   {
    "duration": 5,
    "start_time": "2022-06-24T08:34:24.763Z"
   },
   {
    "duration": 16,
    "start_time": "2022-06-24T08:34:24.770Z"
   },
   {
    "duration": 76,
    "start_time": "2022-06-24T08:34:24.788Z"
   },
   {
    "duration": 7,
    "start_time": "2022-06-24T08:34:24.866Z"
   },
   {
    "duration": 35,
    "start_time": "2022-06-24T08:34:24.877Z"
   },
   {
    "duration": 178,
    "start_time": "2022-06-24T08:34:24.914Z"
   },
   {
    "duration": 14,
    "start_time": "2022-06-24T08:34:25.094Z"
   },
   {
    "duration": 28,
    "start_time": "2022-06-24T08:34:25.110Z"
   },
   {
    "duration": 239,
    "start_time": "2022-06-24T08:34:25.140Z"
   },
   {
    "duration": 74,
    "start_time": "2022-06-24T08:34:25.381Z"
   },
   {
    "duration": 17,
    "start_time": "2022-06-24T08:34:25.457Z"
   },
   {
    "duration": 5,
    "start_time": "2022-06-24T08:34:25.476Z"
   },
   {
    "duration": 292,
    "start_time": "2022-06-24T08:34:25.483Z"
   },
   {
    "duration": 7,
    "start_time": "2022-06-24T08:34:25.777Z"
   },
   {
    "duration": 13,
    "start_time": "2022-06-24T08:34:25.785Z"
   },
   {
    "duration": 122,
    "start_time": "2022-06-24T08:34:25.799Z"
   },
   {
    "duration": 556,
    "start_time": "2022-06-24T08:34:25.925Z"
   },
   {
    "duration": 15,
    "start_time": "2022-06-24T08:34:26.483Z"
   },
   {
    "duration": 35,
    "start_time": "2022-06-24T08:34:26.500Z"
   },
   {
    "duration": 36,
    "start_time": "2022-06-24T08:34:26.537Z"
   },
   {
    "duration": 28,
    "start_time": "2022-06-24T08:34:26.574Z"
   },
   {
    "duration": 399,
    "start_time": "2022-06-24T08:34:26.604Z"
   },
   {
    "duration": 311,
    "start_time": "2022-06-24T08:34:27.006Z"
   },
   {
    "duration": 223,
    "start_time": "2022-06-24T08:34:27.319Z"
   },
   {
    "duration": 449,
    "start_time": "2022-06-24T08:34:27.546Z"
   },
   {
    "duration": 431,
    "start_time": "2022-06-24T08:34:27.998Z"
   },
   {
    "duration": 438,
    "start_time": "2022-06-24T08:34:28.437Z"
   },
   {
    "duration": 13,
    "start_time": "2022-06-24T08:34:28.877Z"
   },
   {
    "duration": 28,
    "start_time": "2022-06-24T08:34:28.892Z"
   },
   {
    "duration": 29,
    "start_time": "2022-06-24T08:35:56.993Z"
   },
   {
    "duration": 8,
    "start_time": "2022-06-24T08:36:20.315Z"
   },
   {
    "duration": 165,
    "start_time": "2022-06-24T08:37:28.214Z"
   },
   {
    "duration": 11,
    "start_time": "2022-06-24T08:37:34.205Z"
   },
   {
    "duration": 12,
    "start_time": "2022-06-24T08:39:34.448Z"
   },
   {
    "duration": 10,
    "start_time": "2022-06-24T08:39:35.846Z"
   },
   {
    "duration": 11,
    "start_time": "2022-06-24T08:42:55.781Z"
   },
   {
    "duration": 9,
    "start_time": "2022-06-24T08:43:08.969Z"
   },
   {
    "duration": 1301,
    "start_time": "2022-06-24T08:43:17.892Z"
   },
   {
    "duration": 89,
    "start_time": "2022-06-24T08:43:19.195Z"
   },
   {
    "duration": 6,
    "start_time": "2022-06-24T08:43:19.286Z"
   },
   {
    "duration": 47,
    "start_time": "2022-06-24T08:43:19.294Z"
   },
   {
    "duration": 19,
    "start_time": "2022-06-24T08:43:19.343Z"
   },
   {
    "duration": 20,
    "start_time": "2022-06-24T08:43:19.364Z"
   },
   {
    "duration": 7,
    "start_time": "2022-06-24T08:43:19.386Z"
   },
   {
    "duration": 20,
    "start_time": "2022-06-24T08:43:19.395Z"
   },
   {
    "duration": 48,
    "start_time": "2022-06-24T08:43:19.417Z"
   },
   {
    "duration": 125,
    "start_time": "2022-06-24T08:43:19.468Z"
   },
   {
    "duration": 0,
    "start_time": "2022-06-24T08:43:19.595Z"
   },
   {
    "duration": 0,
    "start_time": "2022-06-24T08:43:19.596Z"
   },
   {
    "duration": 0,
    "start_time": "2022-06-24T08:43:19.597Z"
   },
   {
    "duration": 0,
    "start_time": "2022-06-24T08:43:19.599Z"
   },
   {
    "duration": 0,
    "start_time": "2022-06-24T08:43:19.600Z"
   },
   {
    "duration": 0,
    "start_time": "2022-06-24T08:43:19.602Z"
   },
   {
    "duration": 0,
    "start_time": "2022-06-24T08:43:19.603Z"
   },
   {
    "duration": 0,
    "start_time": "2022-06-24T08:43:19.604Z"
   },
   {
    "duration": 0,
    "start_time": "2022-06-24T08:43:19.606Z"
   },
   {
    "duration": 0,
    "start_time": "2022-06-24T08:43:19.607Z"
   },
   {
    "duration": 0,
    "start_time": "2022-06-24T08:43:19.625Z"
   },
   {
    "duration": 0,
    "start_time": "2022-06-24T08:43:19.626Z"
   },
   {
    "duration": 0,
    "start_time": "2022-06-24T08:43:19.627Z"
   },
   {
    "duration": 0,
    "start_time": "2022-06-24T08:43:19.628Z"
   },
   {
    "duration": 0,
    "start_time": "2022-06-24T08:43:19.628Z"
   },
   {
    "duration": 0,
    "start_time": "2022-06-24T08:43:19.631Z"
   },
   {
    "duration": 0,
    "start_time": "2022-06-24T08:43:19.632Z"
   },
   {
    "duration": 0,
    "start_time": "2022-06-24T08:43:19.633Z"
   },
   {
    "duration": 0,
    "start_time": "2022-06-24T08:43:19.634Z"
   },
   {
    "duration": 0,
    "start_time": "2022-06-24T08:43:19.635Z"
   },
   {
    "duration": 0,
    "start_time": "2022-06-24T08:43:19.636Z"
   },
   {
    "duration": 0,
    "start_time": "2022-06-24T08:43:19.637Z"
   },
   {
    "duration": 0,
    "start_time": "2022-06-24T08:43:19.638Z"
   },
   {
    "duration": 0,
    "start_time": "2022-06-24T08:43:19.639Z"
   },
   {
    "duration": 0,
    "start_time": "2022-06-24T08:43:19.640Z"
   },
   {
    "duration": 0,
    "start_time": "2022-06-24T08:43:19.641Z"
   },
   {
    "duration": 0,
    "start_time": "2022-06-24T08:43:19.642Z"
   },
   {
    "duration": 0,
    "start_time": "2022-06-24T08:43:19.643Z"
   },
   {
    "duration": 0,
    "start_time": "2022-06-24T08:43:19.644Z"
   },
   {
    "duration": 0,
    "start_time": "2022-06-24T08:43:19.645Z"
   },
   {
    "duration": 0,
    "start_time": "2022-06-24T08:43:19.646Z"
   },
   {
    "duration": 0,
    "start_time": "2022-06-24T08:43:19.647Z"
   },
   {
    "duration": 1,
    "start_time": "2022-06-24T08:43:19.648Z"
   },
   {
    "duration": 0,
    "start_time": "2022-06-24T08:43:19.650Z"
   },
   {
    "duration": 1188,
    "start_time": "2022-06-24T08:43:44.418Z"
   },
   {
    "duration": 96,
    "start_time": "2022-06-24T08:43:45.610Z"
   },
   {
    "duration": 5,
    "start_time": "2022-06-24T08:43:45.708Z"
   },
   {
    "duration": 45,
    "start_time": "2022-06-24T08:43:45.714Z"
   },
   {
    "duration": 13,
    "start_time": "2022-06-24T08:43:45.767Z"
   },
   {
    "duration": 20,
    "start_time": "2022-06-24T08:43:45.783Z"
   },
   {
    "duration": 24,
    "start_time": "2022-06-24T08:43:45.804Z"
   },
   {
    "duration": 9,
    "start_time": "2022-06-24T08:43:45.830Z"
   },
   {
    "duration": 28,
    "start_time": "2022-06-24T08:43:45.841Z"
   },
   {
    "duration": 11,
    "start_time": "2022-06-24T08:43:45.871Z"
   },
   {
    "duration": 2,
    "start_time": "2022-06-24T08:43:45.883Z"
   },
   {
    "duration": 8,
    "start_time": "2022-06-24T08:43:45.887Z"
   },
   {
    "duration": 11,
    "start_time": "2022-06-24T08:43:45.896Z"
   },
   {
    "duration": 14,
    "start_time": "2022-06-24T08:43:45.909Z"
   },
   {
    "duration": 48,
    "start_time": "2022-06-24T08:43:45.925Z"
   },
   {
    "duration": 5,
    "start_time": "2022-06-24T08:43:45.975Z"
   },
   {
    "duration": 7,
    "start_time": "2022-06-24T08:43:45.981Z"
   },
   {
    "duration": 51,
    "start_time": "2022-06-24T08:43:45.989Z"
   },
   {
    "duration": 11,
    "start_time": "2022-06-24T08:43:46.042Z"
   },
   {
    "duration": 26,
    "start_time": "2022-06-24T08:43:46.055Z"
   },
   {
    "duration": 184,
    "start_time": "2022-06-24T08:43:46.083Z"
   },
   {
    "duration": 10,
    "start_time": "2022-06-24T08:43:46.268Z"
   },
   {
    "duration": 10,
    "start_time": "2022-06-24T08:43:46.279Z"
   },
   {
    "duration": 299,
    "start_time": "2022-06-24T08:43:46.291Z"
   },
   {
    "duration": 78,
    "start_time": "2022-06-24T08:43:46.592Z"
   },
   {
    "duration": 23,
    "start_time": "2022-06-24T08:43:46.675Z"
   },
   {
    "duration": 61,
    "start_time": "2022-06-24T08:43:46.700Z"
   },
   {
    "duration": 349,
    "start_time": "2022-06-24T08:43:46.766Z"
   },
   {
    "duration": 6,
    "start_time": "2022-06-24T08:43:47.117Z"
   },
   {
    "duration": 47,
    "start_time": "2022-06-24T08:43:47.125Z"
   },
   {
    "duration": 182,
    "start_time": "2022-06-24T08:43:47.174Z"
   },
   {
    "duration": 579,
    "start_time": "2022-06-24T08:43:47.359Z"
   },
   {
    "duration": 9,
    "start_time": "2022-06-24T08:43:47.940Z"
   },
   {
    "duration": 24,
    "start_time": "2022-06-24T08:43:47.951Z"
   },
   {
    "duration": 12,
    "start_time": "2022-06-24T08:43:47.977Z"
   },
   {
    "duration": 10,
    "start_time": "2022-06-24T08:43:47.990Z"
   },
   {
    "duration": 320,
    "start_time": "2022-06-24T08:43:48.001Z"
   },
   {
    "duration": 408,
    "start_time": "2022-06-24T08:43:48.322Z"
   },
   {
    "duration": 254,
    "start_time": "2022-06-24T08:43:48.732Z"
   },
   {
    "duration": 475,
    "start_time": "2022-06-24T08:43:48.988Z"
   },
   {
    "duration": 418,
    "start_time": "2022-06-24T08:43:49.465Z"
   },
   {
    "duration": 454,
    "start_time": "2022-06-24T08:43:49.886Z"
   },
   {
    "duration": 124,
    "start_time": "2022-06-24T08:43:50.342Z"
   },
   {
    "duration": 0,
    "start_time": "2022-06-24T08:43:50.469Z"
   },
   {
    "duration": 18,
    "start_time": "2022-06-24T08:44:15.201Z"
   },
   {
    "duration": 1242,
    "start_time": "2022-06-24T08:44:36.772Z"
   },
   {
    "duration": 97,
    "start_time": "2022-06-24T08:44:38.017Z"
   },
   {
    "duration": 5,
    "start_time": "2022-06-24T08:44:38.116Z"
   },
   {
    "duration": 80,
    "start_time": "2022-06-24T08:44:38.124Z"
   },
   {
    "duration": 10,
    "start_time": "2022-06-24T08:44:38.206Z"
   },
   {
    "duration": 58,
    "start_time": "2022-06-24T08:44:38.218Z"
   },
   {
    "duration": 9,
    "start_time": "2022-06-24T08:44:38.279Z"
   },
   {
    "duration": 16,
    "start_time": "2022-06-24T08:44:38.290Z"
   },
   {
    "duration": 9,
    "start_time": "2022-06-24T08:44:38.308Z"
   },
   {
    "duration": 13,
    "start_time": "2022-06-24T08:44:38.319Z"
   },
   {
    "duration": 37,
    "start_time": "2022-06-24T08:44:38.334Z"
   },
   {
    "duration": 4,
    "start_time": "2022-06-24T08:44:38.374Z"
   },
   {
    "duration": 5,
    "start_time": "2022-06-24T08:44:38.380Z"
   },
   {
    "duration": 14,
    "start_time": "2022-06-24T08:44:38.390Z"
   },
   {
    "duration": 16,
    "start_time": "2022-06-24T08:44:38.406Z"
   },
   {
    "duration": 6,
    "start_time": "2022-06-24T08:44:38.424Z"
   },
   {
    "duration": 33,
    "start_time": "2022-06-24T08:44:38.432Z"
   },
   {
    "duration": 50,
    "start_time": "2022-06-24T08:44:38.467Z"
   },
   {
    "duration": 5,
    "start_time": "2022-06-24T08:44:38.519Z"
   },
   {
    "duration": 52,
    "start_time": "2022-06-24T08:44:38.526Z"
   },
   {
    "duration": 198,
    "start_time": "2022-06-24T08:44:38.580Z"
   },
   {
    "duration": 12,
    "start_time": "2022-06-24T08:44:38.780Z"
   },
   {
    "duration": 18,
    "start_time": "2022-06-24T08:44:38.794Z"
   },
   {
    "duration": 271,
    "start_time": "2022-06-24T08:44:38.829Z"
   },
   {
    "duration": 71,
    "start_time": "2022-06-24T08:44:39.101Z"
   },
   {
    "duration": 17,
    "start_time": "2022-06-24T08:44:39.173Z"
   },
   {
    "duration": 5,
    "start_time": "2022-06-24T08:44:39.192Z"
   },
   {
    "duration": 304,
    "start_time": "2022-06-24T08:44:39.199Z"
   },
   {
    "duration": 6,
    "start_time": "2022-06-24T08:44:39.505Z"
   },
   {
    "duration": 12,
    "start_time": "2022-06-24T08:44:39.513Z"
   },
   {
    "duration": 161,
    "start_time": "2022-06-24T08:44:39.530Z"
   },
   {
    "duration": 601,
    "start_time": "2022-06-24T08:44:39.694Z"
   },
   {
    "duration": 9,
    "start_time": "2022-06-24T08:44:40.298Z"
   },
   {
    "duration": 25,
    "start_time": "2022-06-24T08:44:40.309Z"
   },
   {
    "duration": 31,
    "start_time": "2022-06-24T08:44:40.342Z"
   },
   {
    "duration": 10,
    "start_time": "2022-06-24T08:44:40.375Z"
   },
   {
    "duration": 298,
    "start_time": "2022-06-24T08:44:40.386Z"
   },
   {
    "duration": 368,
    "start_time": "2022-06-24T08:44:40.686Z"
   },
   {
    "duration": 195,
    "start_time": "2022-06-24T08:44:41.058Z"
   },
   {
    "duration": 459,
    "start_time": "2022-06-24T08:44:41.255Z"
   },
   {
    "duration": 439,
    "start_time": "2022-06-24T08:44:41.717Z"
   },
   {
    "duration": 456,
    "start_time": "2022-06-24T08:44:42.157Z"
   },
   {
    "duration": 137,
    "start_time": "2022-06-24T08:44:42.615Z"
   },
   {
    "duration": 0,
    "start_time": "2022-06-24T08:44:42.758Z"
   },
   {
    "duration": 8,
    "start_time": "2022-06-24T08:45:27.171Z"
   },
   {
    "duration": 14,
    "start_time": "2022-06-24T08:45:28.777Z"
   },
   {
    "duration": 1284,
    "start_time": "2022-06-24T08:45:56.829Z"
   },
   {
    "duration": 137,
    "start_time": "2022-06-24T08:45:58.115Z"
   },
   {
    "duration": 7,
    "start_time": "2022-06-24T08:45:58.254Z"
   },
   {
    "duration": 82,
    "start_time": "2022-06-24T08:45:58.263Z"
   },
   {
    "duration": 60,
    "start_time": "2022-06-24T08:45:58.348Z"
   },
   {
    "duration": 26,
    "start_time": "2022-06-24T08:45:58.410Z"
   },
   {
    "duration": 27,
    "start_time": "2022-06-24T08:45:58.438Z"
   },
   {
    "duration": 33,
    "start_time": "2022-06-24T08:45:58.467Z"
   },
   {
    "duration": 7,
    "start_time": "2022-06-24T08:45:58.502Z"
   },
   {
    "duration": 8,
    "start_time": "2022-06-24T08:45:58.510Z"
   },
   {
    "duration": 7,
    "start_time": "2022-06-24T08:45:58.520Z"
   },
   {
    "duration": 51,
    "start_time": "2022-06-24T08:45:58.530Z"
   },
   {
    "duration": 6,
    "start_time": "2022-06-24T08:45:58.584Z"
   },
   {
    "duration": 10,
    "start_time": "2022-06-24T08:45:58.595Z"
   },
   {
    "duration": 41,
    "start_time": "2022-06-24T08:45:58.606Z"
   },
   {
    "duration": 21,
    "start_time": "2022-06-24T08:45:58.656Z"
   },
   {
    "duration": 13,
    "start_time": "2022-06-24T08:45:58.684Z"
   },
   {
    "duration": 114,
    "start_time": "2022-06-24T08:45:58.699Z"
   },
   {
    "duration": 21,
    "start_time": "2022-06-24T08:45:58.816Z"
   },
   {
    "duration": 61,
    "start_time": "2022-06-24T08:45:58.843Z"
   },
   {
    "duration": 248,
    "start_time": "2022-06-24T08:45:58.906Z"
   },
   {
    "duration": 21,
    "start_time": "2022-06-24T08:45:59.156Z"
   },
   {
    "duration": 23,
    "start_time": "2022-06-24T08:45:59.179Z"
   },
   {
    "duration": 279,
    "start_time": "2022-06-24T08:45:59.204Z"
   },
   {
    "duration": 104,
    "start_time": "2022-06-24T08:45:59.486Z"
   },
   {
    "duration": 22,
    "start_time": "2022-06-24T08:45:59.592Z"
   },
   {
    "duration": 13,
    "start_time": "2022-06-24T08:45:59.616Z"
   },
   {
    "duration": 312,
    "start_time": "2022-06-24T08:45:59.631Z"
   },
   {
    "duration": 5,
    "start_time": "2022-06-24T08:45:59.945Z"
   },
   {
    "duration": 26,
    "start_time": "2022-06-24T08:45:59.952Z"
   },
   {
    "duration": 167,
    "start_time": "2022-06-24T08:45:59.980Z"
   },
   {
    "duration": 629,
    "start_time": "2022-06-24T08:46:00.149Z"
   },
   {
    "duration": 8,
    "start_time": "2022-06-24T08:46:00.780Z"
   },
   {
    "duration": 22,
    "start_time": "2022-06-24T08:46:00.790Z"
   },
   {
    "duration": 26,
    "start_time": "2022-06-24T08:46:00.814Z"
   },
   {
    "duration": 36,
    "start_time": "2022-06-24T08:46:00.841Z"
   },
   {
    "duration": 320,
    "start_time": "2022-06-24T08:46:00.878Z"
   },
   {
    "duration": 320,
    "start_time": "2022-06-24T08:46:01.200Z"
   },
   {
    "duration": 218,
    "start_time": "2022-06-24T08:46:01.525Z"
   },
   {
    "duration": 477,
    "start_time": "2022-06-24T08:46:01.744Z"
   },
   {
    "duration": 458,
    "start_time": "2022-06-24T08:46:02.224Z"
   },
   {
    "duration": 459,
    "start_time": "2022-06-24T08:46:02.684Z"
   },
   {
    "duration": 10,
    "start_time": "2022-06-24T08:46:03.144Z"
   },
   {
    "duration": 30,
    "start_time": "2022-06-24T08:46:03.156Z"
   },
   {
    "duration": 1399,
    "start_time": "2022-06-24T08:46:40.553Z"
   },
   {
    "duration": 117,
    "start_time": "2022-06-24T08:46:41.955Z"
   },
   {
    "duration": 6,
    "start_time": "2022-06-24T08:46:42.075Z"
   },
   {
    "duration": 34,
    "start_time": "2022-06-24T08:46:42.083Z"
   },
   {
    "duration": 15,
    "start_time": "2022-06-24T08:46:42.119Z"
   },
   {
    "duration": 46,
    "start_time": "2022-06-24T08:46:42.136Z"
   },
   {
    "duration": 10,
    "start_time": "2022-06-24T08:46:42.183Z"
   },
   {
    "duration": 10,
    "start_time": "2022-06-24T08:46:42.195Z"
   },
   {
    "duration": 6,
    "start_time": "2022-06-24T08:46:42.206Z"
   },
   {
    "duration": 5,
    "start_time": "2022-06-24T08:46:42.214Z"
   },
   {
    "duration": 33,
    "start_time": "2022-06-24T08:46:42.221Z"
   },
   {
    "duration": 14,
    "start_time": "2022-06-24T08:46:42.256Z"
   },
   {
    "duration": 8,
    "start_time": "2022-06-24T08:46:42.272Z"
   },
   {
    "duration": 12,
    "start_time": "2022-06-24T08:46:42.283Z"
   },
   {
    "duration": 15,
    "start_time": "2022-06-24T08:46:42.297Z"
   },
   {
    "duration": 6,
    "start_time": "2022-06-24T08:46:42.315Z"
   },
   {
    "duration": 52,
    "start_time": "2022-06-24T08:46:42.323Z"
   },
   {
    "duration": 61,
    "start_time": "2022-06-24T08:46:42.376Z"
   },
   {
    "duration": 7,
    "start_time": "2022-06-24T08:46:42.441Z"
   },
   {
    "duration": 43,
    "start_time": "2022-06-24T08:46:42.450Z"
   },
   {
    "duration": 197,
    "start_time": "2022-06-24T08:46:42.495Z"
   },
   {
    "duration": 12,
    "start_time": "2022-06-24T08:46:42.695Z"
   },
   {
    "duration": 41,
    "start_time": "2022-06-24T08:46:42.709Z"
   },
   {
    "duration": 299,
    "start_time": "2022-06-24T08:46:42.754Z"
   },
   {
    "duration": 64,
    "start_time": "2022-06-24T08:46:43.055Z"
   },
   {
    "duration": 17,
    "start_time": "2022-06-24T08:46:43.126Z"
   },
   {
    "duration": 33,
    "start_time": "2022-06-24T08:46:43.145Z"
   },
   {
    "duration": 319,
    "start_time": "2022-06-24T08:46:43.183Z"
   },
   {
    "duration": 5,
    "start_time": "2022-06-24T08:46:43.505Z"
   },
   {
    "duration": 31,
    "start_time": "2022-06-24T08:46:43.512Z"
   },
   {
    "duration": 175,
    "start_time": "2022-06-24T08:46:43.547Z"
   },
   {
    "duration": 725,
    "start_time": "2022-06-24T08:46:43.724Z"
   },
   {
    "duration": 10,
    "start_time": "2022-06-24T08:46:44.454Z"
   },
   {
    "duration": 20,
    "start_time": "2022-06-24T08:46:44.469Z"
   },
   {
    "duration": 17,
    "start_time": "2022-06-24T08:46:44.491Z"
   },
   {
    "duration": 17,
    "start_time": "2022-06-24T08:46:44.510Z"
   },
   {
    "duration": 399,
    "start_time": "2022-06-24T08:46:44.530Z"
   },
   {
    "duration": 385,
    "start_time": "2022-06-24T08:46:44.931Z"
   },
   {
    "duration": 241,
    "start_time": "2022-06-24T08:46:45.319Z"
   },
   {
    "duration": 537,
    "start_time": "2022-06-24T08:46:45.562Z"
   },
   {
    "duration": 488,
    "start_time": "2022-06-24T08:46:46.104Z"
   },
   {
    "duration": 537,
    "start_time": "2022-06-24T08:46:46.594Z"
   },
   {
    "duration": 15,
    "start_time": "2022-06-24T08:46:47.137Z"
   },
   {
    "duration": 60,
    "start_time": "2022-06-24T08:46:47.160Z"
   },
   {
    "duration": 107,
    "start_time": "2022-06-24T08:58:24.187Z"
   },
   {
    "duration": 65,
    "start_time": "2022-06-24T08:58:30.795Z"
   },
   {
    "duration": 17,
    "start_time": "2022-06-24T08:58:31.572Z"
   },
   {
    "duration": 6,
    "start_time": "2022-06-24T08:58:31.843Z"
   },
   {
    "duration": 233,
    "start_time": "2022-06-24T08:58:32.397Z"
   },
   {
    "duration": 1311,
    "start_time": "2022-06-24T08:58:44.849Z"
   },
   {
    "duration": 89,
    "start_time": "2022-06-24T08:58:46.162Z"
   },
   {
    "duration": 6,
    "start_time": "2022-06-24T08:58:46.253Z"
   },
   {
    "duration": 33,
    "start_time": "2022-06-24T08:58:46.261Z"
   },
   {
    "duration": 34,
    "start_time": "2022-06-24T08:58:46.296Z"
   },
   {
    "duration": 27,
    "start_time": "2022-06-24T08:58:46.332Z"
   },
   {
    "duration": 10,
    "start_time": "2022-06-24T08:58:46.361Z"
   },
   {
    "duration": 10,
    "start_time": "2022-06-24T08:58:46.374Z"
   },
   {
    "duration": 7,
    "start_time": "2022-06-24T08:58:46.386Z"
   },
   {
    "duration": 5,
    "start_time": "2022-06-24T08:58:46.395Z"
   },
   {
    "duration": 14,
    "start_time": "2022-06-24T08:58:46.425Z"
   },
   {
    "duration": 13,
    "start_time": "2022-06-24T08:58:46.441Z"
   },
   {
    "duration": 11,
    "start_time": "2022-06-24T08:58:46.456Z"
   },
   {
    "duration": 14,
    "start_time": "2022-06-24T08:58:46.468Z"
   },
   {
    "duration": 6,
    "start_time": "2022-06-24T08:58:46.484Z"
   },
   {
    "duration": 8,
    "start_time": "2022-06-24T08:58:46.492Z"
   },
   {
    "duration": 82,
    "start_time": "2022-06-24T08:58:46.502Z"
   },
   {
    "duration": 5,
    "start_time": "2022-06-24T08:58:46.586Z"
   },
   {
    "duration": 51,
    "start_time": "2022-06-24T08:58:46.593Z"
   },
   {
    "duration": 238,
    "start_time": "2022-06-24T08:58:46.649Z"
   },
   {
    "duration": 12,
    "start_time": "2022-06-24T08:58:46.889Z"
   },
   {
    "duration": 41,
    "start_time": "2022-06-24T08:58:46.904Z"
   },
   {
    "duration": 252,
    "start_time": "2022-06-24T08:58:46.952Z"
   },
   {
    "duration": 68,
    "start_time": "2022-06-24T08:58:47.206Z"
   },
   {
    "duration": 16,
    "start_time": "2022-06-24T08:58:47.276Z"
   },
   {
    "duration": 7,
    "start_time": "2022-06-24T08:58:47.295Z"
   },
   {
    "duration": 303,
    "start_time": "2022-06-24T08:58:47.304Z"
   },
   {
    "duration": 6,
    "start_time": "2022-06-24T08:58:47.609Z"
   },
   {
    "duration": 15,
    "start_time": "2022-06-24T08:58:47.616Z"
   },
   {
    "duration": 138,
    "start_time": "2022-06-24T08:58:47.633Z"
   },
   {
    "duration": 620,
    "start_time": "2022-06-24T08:58:47.772Z"
   },
   {
    "duration": 8,
    "start_time": "2022-06-24T08:58:48.395Z"
   },
   {
    "duration": 32,
    "start_time": "2022-06-24T08:58:48.405Z"
   },
   {
    "duration": 15,
    "start_time": "2022-06-24T08:58:48.445Z"
   },
   {
    "duration": 14,
    "start_time": "2022-06-24T08:58:48.461Z"
   },
   {
    "duration": 382,
    "start_time": "2022-06-24T08:58:48.477Z"
   },
   {
    "duration": 357,
    "start_time": "2022-06-24T08:58:48.860Z"
   },
   {
    "duration": 233,
    "start_time": "2022-06-24T08:58:49.219Z"
   },
   {
    "duration": 657,
    "start_time": "2022-06-24T08:58:49.454Z"
   },
   {
    "duration": 444,
    "start_time": "2022-06-24T08:58:50.113Z"
   },
   {
    "duration": 459,
    "start_time": "2022-06-24T08:58:50.558Z"
   },
   {
    "duration": 13,
    "start_time": "2022-06-24T08:58:51.030Z"
   },
   {
    "duration": 28,
    "start_time": "2022-06-24T08:58:51.045Z"
   },
   {
    "duration": 8,
    "start_time": "2022-06-24T08:59:28.242Z"
   },
   {
    "duration": 10,
    "start_time": "2022-06-24T08:59:28.408Z"
   },
   {
    "duration": 12,
    "start_time": "2022-06-24T08:59:28.586Z"
   },
   {
    "duration": 12,
    "start_time": "2022-06-24T08:59:29.002Z"
   },
   {
    "duration": 282,
    "start_time": "2022-06-24T08:59:29.419Z"
   },
   {
    "duration": 403,
    "start_time": "2022-06-24T08:59:30.493Z"
   },
   {
    "duration": 8,
    "start_time": "2022-06-24T08:59:47.266Z"
   },
   {
    "duration": 11,
    "start_time": "2022-06-24T08:59:47.565Z"
   },
   {
    "duration": 12,
    "start_time": "2022-06-24T08:59:47.770Z"
   },
   {
    "duration": 11,
    "start_time": "2022-06-24T08:59:50.434Z"
   },
   {
    "duration": 293,
    "start_time": "2022-06-24T08:59:51.470Z"
   },
   {
    "duration": 330,
    "start_time": "2022-06-24T08:59:51.866Z"
   },
   {
    "duration": 1217,
    "start_time": "2022-06-24T08:59:59.393Z"
   },
   {
    "duration": 93,
    "start_time": "2022-06-24T09:00:00.612Z"
   },
   {
    "duration": 6,
    "start_time": "2022-06-24T09:00:00.707Z"
   },
   {
    "duration": 71,
    "start_time": "2022-06-24T09:00:00.715Z"
   },
   {
    "duration": 12,
    "start_time": "2022-06-24T09:00:00.788Z"
   },
   {
    "duration": 20,
    "start_time": "2022-06-24T09:00:00.802Z"
   },
   {
    "duration": 18,
    "start_time": "2022-06-24T09:00:00.823Z"
   },
   {
    "duration": 21,
    "start_time": "2022-06-24T09:00:00.843Z"
   },
   {
    "duration": 25,
    "start_time": "2022-06-24T09:00:00.865Z"
   },
   {
    "duration": 48,
    "start_time": "2022-06-24T09:00:00.893Z"
   },
   {
    "duration": 37,
    "start_time": "2022-06-24T09:00:00.943Z"
   },
   {
    "duration": 36,
    "start_time": "2022-06-24T09:00:00.982Z"
   },
   {
    "duration": 64,
    "start_time": "2022-06-24T09:00:01.020Z"
   },
   {
    "duration": 39,
    "start_time": "2022-06-24T09:00:01.085Z"
   },
   {
    "duration": 115,
    "start_time": "2022-06-24T09:00:01.131Z"
   },
   {
    "duration": 32,
    "start_time": "2022-06-24T09:00:01.248Z"
   },
   {
    "duration": 138,
    "start_time": "2022-06-24T09:00:01.282Z"
   },
   {
    "duration": 9,
    "start_time": "2022-06-24T09:00:01.422Z"
   },
   {
    "duration": 67,
    "start_time": "2022-06-24T09:00:01.433Z"
   },
   {
    "duration": 199,
    "start_time": "2022-06-24T09:00:01.502Z"
   },
   {
    "duration": 11,
    "start_time": "2022-06-24T09:00:01.703Z"
   },
   {
    "duration": 34,
    "start_time": "2022-06-24T09:00:01.727Z"
   },
   {
    "duration": 245,
    "start_time": "2022-06-24T09:00:01.763Z"
   },
   {
    "duration": 60,
    "start_time": "2022-06-24T09:00:02.010Z"
   },
   {
    "duration": 23,
    "start_time": "2022-06-24T09:00:02.071Z"
   },
   {
    "duration": 54,
    "start_time": "2022-06-24T09:00:02.096Z"
   },
   {
    "duration": 299,
    "start_time": "2022-06-24T09:00:02.152Z"
   },
   {
    "duration": 6,
    "start_time": "2022-06-24T09:00:02.454Z"
   },
   {
    "duration": 32,
    "start_time": "2022-06-24T09:00:02.462Z"
   },
   {
    "duration": 161,
    "start_time": "2022-06-24T09:00:02.496Z"
   },
   {
    "duration": 590,
    "start_time": "2022-06-24T09:00:02.659Z"
   },
   {
    "duration": 6,
    "start_time": "2022-06-24T09:00:03.251Z"
   },
   {
    "duration": 55,
    "start_time": "2022-06-24T09:00:03.259Z"
   },
   {
    "duration": 39,
    "start_time": "2022-06-24T09:00:03.316Z"
   },
   {
    "duration": 27,
    "start_time": "2022-06-24T09:00:03.357Z"
   },
   {
    "duration": 388,
    "start_time": "2022-06-24T09:00:03.386Z"
   },
   {
    "duration": 318,
    "start_time": "2022-06-24T09:00:03.776Z"
   },
   {
    "duration": 195,
    "start_time": "2022-06-24T09:00:04.095Z"
   },
   {
    "duration": 410,
    "start_time": "2022-06-24T09:00:04.292Z"
   },
   {
    "duration": 412,
    "start_time": "2022-06-24T09:00:04.704Z"
   },
   {
    "duration": 379,
    "start_time": "2022-06-24T09:00:05.118Z"
   },
   {
    "duration": 8,
    "start_time": "2022-06-24T09:00:05.499Z"
   },
   {
    "duration": 56,
    "start_time": "2022-06-24T09:00:05.509Z"
   },
   {
    "duration": 8,
    "start_time": "2022-06-24T09:00:28.465Z"
   },
   {
    "duration": 9,
    "start_time": "2022-06-24T09:02:25.551Z"
   },
   {
    "duration": 11,
    "start_time": "2022-06-24T09:02:41.369Z"
   },
   {
    "duration": 5,
    "start_time": "2022-06-24T09:03:21.142Z"
   },
   {
    "duration": 54,
    "start_time": "2022-06-24T09:03:21.415Z"
   },
   {
    "duration": 1129,
    "start_time": "2022-06-24T09:03:32.880Z"
   },
   {
    "duration": 93,
    "start_time": "2022-06-24T09:03:34.011Z"
   },
   {
    "duration": 6,
    "start_time": "2022-06-24T09:03:34.105Z"
   },
   {
    "duration": 34,
    "start_time": "2022-06-24T09:03:34.113Z"
   },
   {
    "duration": 10,
    "start_time": "2022-06-24T09:03:34.149Z"
   },
   {
    "duration": 18,
    "start_time": "2022-06-24T09:03:34.162Z"
   },
   {
    "duration": 9,
    "start_time": "2022-06-24T09:03:34.181Z"
   },
   {
    "duration": 9,
    "start_time": "2022-06-24T09:03:34.191Z"
   },
   {
    "duration": 24,
    "start_time": "2022-06-24T09:03:34.202Z"
   },
   {
    "duration": 22,
    "start_time": "2022-06-24T09:03:34.233Z"
   },
   {
    "duration": 7,
    "start_time": "2022-06-24T09:03:34.257Z"
   },
   {
    "duration": 5,
    "start_time": "2022-06-24T09:03:34.266Z"
   },
   {
    "duration": 11,
    "start_time": "2022-06-24T09:03:34.272Z"
   },
   {
    "duration": 13,
    "start_time": "2022-06-24T09:03:34.284Z"
   },
   {
    "duration": 5,
    "start_time": "2022-06-24T09:03:34.299Z"
   },
   {
    "duration": 9,
    "start_time": "2022-06-24T09:03:34.305Z"
   },
   {
    "duration": 48,
    "start_time": "2022-06-24T09:03:34.328Z"
   },
   {
    "duration": 5,
    "start_time": "2022-06-24T09:03:34.378Z"
   },
   {
    "duration": 22,
    "start_time": "2022-06-24T09:03:34.385Z"
   },
   {
    "duration": 177,
    "start_time": "2022-06-24T09:03:34.409Z"
   },
   {
    "duration": 11,
    "start_time": "2022-06-24T09:03:34.587Z"
   },
   {
    "duration": 10,
    "start_time": "2022-06-24T09:03:34.599Z"
   },
   {
    "duration": 241,
    "start_time": "2022-06-24T09:03:34.624Z"
   },
   {
    "duration": 62,
    "start_time": "2022-06-24T09:03:34.866Z"
   },
   {
    "duration": 17,
    "start_time": "2022-06-24T09:03:34.933Z"
   },
   {
    "duration": 7,
    "start_time": "2022-06-24T09:03:34.951Z"
   },
   {
    "duration": 260,
    "start_time": "2022-06-24T09:03:34.959Z"
   },
   {
    "duration": 5,
    "start_time": "2022-06-24T09:03:35.223Z"
   },
   {
    "duration": 9,
    "start_time": "2022-06-24T09:03:35.229Z"
   },
   {
    "duration": 154,
    "start_time": "2022-06-24T09:03:35.240Z"
   },
   {
    "duration": 557,
    "start_time": "2022-06-24T09:03:35.395Z"
   },
   {
    "duration": 9,
    "start_time": "2022-06-24T09:03:35.954Z"
   },
   {
    "duration": 14,
    "start_time": "2022-06-24T09:03:35.964Z"
   },
   {
    "duration": 14,
    "start_time": "2022-06-24T09:03:35.980Z"
   },
   {
    "duration": 10,
    "start_time": "2022-06-24T09:03:35.997Z"
   },
   {
    "duration": 274,
    "start_time": "2022-06-24T09:03:36.025Z"
   },
   {
    "duration": 323,
    "start_time": "2022-06-24T09:03:36.301Z"
   },
   {
    "duration": 219,
    "start_time": "2022-06-24T09:03:36.630Z"
   },
   {
    "duration": 389,
    "start_time": "2022-06-24T09:03:36.850Z"
   },
   {
    "duration": 411,
    "start_time": "2022-06-24T09:03:37.241Z"
   },
   {
    "duration": 367,
    "start_time": "2022-06-24T09:03:37.654Z"
   },
   {
    "duration": 18,
    "start_time": "2022-06-24T09:03:38.023Z"
   },
   {
    "duration": 15,
    "start_time": "2022-06-24T09:03:38.042Z"
   },
   {
    "duration": 9,
    "start_time": "2022-06-24T09:05:00.965Z"
   },
   {
    "duration": 14,
    "start_time": "2022-06-24T09:06:38.923Z"
   },
   {
    "duration": 10,
    "start_time": "2022-06-24T09:06:40.301Z"
   },
   {
    "duration": 8,
    "start_time": "2022-06-24T09:06:45.920Z"
   },
   {
    "duration": 11,
    "start_time": "2022-06-24T09:06:46.983Z"
   },
   {
    "duration": 5,
    "start_time": "2022-06-24T09:08:15.806Z"
   },
   {
    "duration": 3,
    "start_time": "2022-06-24T09:08:22.299Z"
   },
   {
    "duration": 4,
    "start_time": "2022-06-24T09:08:23.182Z"
   },
   {
    "duration": 4,
    "start_time": "2022-06-24T09:08:23.397Z"
   },
   {
    "duration": 8,
    "start_time": "2022-06-24T09:08:23.667Z"
   },
   {
    "duration": 20,
    "start_time": "2022-06-24T09:08:24.723Z"
   },
   {
    "duration": 4,
    "start_time": "2022-06-24T09:08:24.910Z"
   },
   {
    "duration": 1197,
    "start_time": "2022-06-24T09:08:31.587Z"
   },
   {
    "duration": 88,
    "start_time": "2022-06-24T09:08:32.787Z"
   },
   {
    "duration": 6,
    "start_time": "2022-06-24T09:08:32.876Z"
   },
   {
    "duration": 38,
    "start_time": "2022-06-24T09:08:32.884Z"
   },
   {
    "duration": 40,
    "start_time": "2022-06-24T09:08:32.924Z"
   },
   {
    "duration": 36,
    "start_time": "2022-06-24T09:08:32.966Z"
   },
   {
    "duration": 8,
    "start_time": "2022-06-24T09:08:33.003Z"
   },
   {
    "duration": 8,
    "start_time": "2022-06-24T09:08:33.013Z"
   },
   {
    "duration": 27,
    "start_time": "2022-06-24T09:08:33.023Z"
   },
   {
    "duration": 20,
    "start_time": "2022-06-24T09:08:33.057Z"
   },
   {
    "duration": 12,
    "start_time": "2022-06-24T09:08:33.079Z"
   },
   {
    "duration": 7,
    "start_time": "2022-06-24T09:08:33.095Z"
   },
   {
    "duration": 16,
    "start_time": "2022-06-24T09:08:33.103Z"
   },
   {
    "duration": 27,
    "start_time": "2022-06-24T09:08:33.121Z"
   },
   {
    "duration": 22,
    "start_time": "2022-06-24T09:08:33.152Z"
   },
   {
    "duration": 8,
    "start_time": "2022-06-24T09:08:33.176Z"
   },
   {
    "duration": 63,
    "start_time": "2022-06-24T09:08:33.186Z"
   },
   {
    "duration": 15,
    "start_time": "2022-06-24T09:08:33.250Z"
   },
   {
    "duration": 25,
    "start_time": "2022-06-24T09:08:33.270Z"
   },
   {
    "duration": 181,
    "start_time": "2022-06-24T09:08:33.296Z"
   },
   {
    "duration": 10,
    "start_time": "2022-06-24T09:08:33.479Z"
   },
   {
    "duration": 10,
    "start_time": "2022-06-24T09:08:33.491Z"
   },
   {
    "duration": 275,
    "start_time": "2022-06-24T09:08:33.503Z"
   },
   {
    "duration": 65,
    "start_time": "2022-06-24T09:08:33.780Z"
   },
   {
    "duration": 19,
    "start_time": "2022-06-24T09:08:33.860Z"
   },
   {
    "duration": 7,
    "start_time": "2022-06-24T09:08:33.880Z"
   },
   {
    "duration": 303,
    "start_time": "2022-06-24T09:08:33.888Z"
   },
   {
    "duration": 5,
    "start_time": "2022-06-24T09:08:34.194Z"
   },
   {
    "duration": 14,
    "start_time": "2022-06-24T09:08:34.201Z"
   },
   {
    "duration": 139,
    "start_time": "2022-06-24T09:08:34.216Z"
   },
   {
    "duration": 569,
    "start_time": "2022-06-24T09:08:34.360Z"
   },
   {
    "duration": 10,
    "start_time": "2022-06-24T09:08:34.931Z"
   },
   {
    "duration": 33,
    "start_time": "2022-06-24T09:08:34.942Z"
   },
   {
    "duration": 12,
    "start_time": "2022-06-24T09:08:34.976Z"
   },
   {
    "duration": 15,
    "start_time": "2022-06-24T09:08:34.989Z"
   },
   {
    "duration": 365,
    "start_time": "2022-06-24T09:08:35.005Z"
   },
   {
    "duration": 353,
    "start_time": "2022-06-24T09:08:35.371Z"
   },
   {
    "duration": 200,
    "start_time": "2022-06-24T09:08:35.730Z"
   },
   {
    "duration": 457,
    "start_time": "2022-06-24T09:08:35.931Z"
   },
   {
    "duration": 520,
    "start_time": "2022-06-24T09:08:36.390Z"
   },
   {
    "duration": 446,
    "start_time": "2022-06-24T09:08:36.912Z"
   },
   {
    "duration": 11,
    "start_time": "2022-06-24T09:08:37.364Z"
   },
   {
    "duration": 16,
    "start_time": "2022-06-24T09:08:37.378Z"
   },
   {
    "duration": 19,
    "start_time": "2022-06-24T09:09:07.335Z"
   },
   {
    "duration": 11,
    "start_time": "2022-06-24T09:09:08.311Z"
   },
   {
    "duration": 18,
    "start_time": "2022-06-24T09:09:10.542Z"
   },
   {
    "duration": 50,
    "start_time": "2022-06-24T09:09:44.796Z"
   },
   {
    "duration": 7,
    "start_time": "2022-06-24T09:09:45.326Z"
   },
   {
    "duration": 3,
    "start_time": "2022-06-24T09:09:45.680Z"
   },
   {
    "duration": 9,
    "start_time": "2022-06-24T09:09:45.894Z"
   },
   {
    "duration": 1253,
    "start_time": "2022-06-24T09:09:53.205Z"
   },
   {
    "duration": 88,
    "start_time": "2022-06-24T09:09:54.464Z"
   },
   {
    "duration": 7,
    "start_time": "2022-06-24T09:09:54.554Z"
   },
   {
    "duration": 34,
    "start_time": "2022-06-24T09:09:54.563Z"
   },
   {
    "duration": 10,
    "start_time": "2022-06-24T09:09:54.599Z"
   },
   {
    "duration": 35,
    "start_time": "2022-06-24T09:09:54.611Z"
   },
   {
    "duration": 25,
    "start_time": "2022-06-24T09:09:54.648Z"
   },
   {
    "duration": 8,
    "start_time": "2022-06-24T09:09:54.675Z"
   },
   {
    "duration": 7,
    "start_time": "2022-06-24T09:09:54.685Z"
   },
   {
    "duration": 115,
    "start_time": "2022-06-24T09:09:54.695Z"
   },
   {
    "duration": 4,
    "start_time": "2022-06-24T09:09:54.812Z"
   },
   {
    "duration": 4,
    "start_time": "2022-06-24T09:09:54.818Z"
   },
   {
    "duration": 44,
    "start_time": "2022-06-24T09:09:54.824Z"
   },
   {
    "duration": 15,
    "start_time": "2022-06-24T09:09:54.870Z"
   },
   {
    "duration": 4,
    "start_time": "2022-06-24T09:09:54.887Z"
   },
   {
    "duration": 13,
    "start_time": "2022-06-24T09:09:54.892Z"
   },
   {
    "duration": 72,
    "start_time": "2022-06-24T09:09:54.907Z"
   },
   {
    "duration": 5,
    "start_time": "2022-06-24T09:09:54.981Z"
   },
   {
    "duration": 33,
    "start_time": "2022-06-24T09:09:54.988Z"
   },
   {
    "duration": 202,
    "start_time": "2022-06-24T09:09:55.022Z"
   },
   {
    "duration": 14,
    "start_time": "2022-06-24T09:09:55.225Z"
   },
   {
    "duration": 42,
    "start_time": "2022-06-24T09:09:55.241Z"
   },
   {
    "duration": 236,
    "start_time": "2022-06-24T09:09:55.284Z"
   },
   {
    "duration": 68,
    "start_time": "2022-06-24T09:09:55.525Z"
   },
   {
    "duration": 18,
    "start_time": "2022-06-24T09:09:55.595Z"
   },
   {
    "duration": 45,
    "start_time": "2022-06-24T09:09:55.615Z"
   },
   {
    "duration": 283,
    "start_time": "2022-06-24T09:09:55.662Z"
   },
   {
    "duration": 9,
    "start_time": "2022-06-24T09:09:55.955Z"
   },
   {
    "duration": 14,
    "start_time": "2022-06-24T09:09:55.966Z"
   },
   {
    "duration": 140,
    "start_time": "2022-06-24T09:09:55.982Z"
   },
   {
    "duration": 656,
    "start_time": "2022-06-24T09:09:56.126Z"
   },
   {
    "duration": 8,
    "start_time": "2022-06-24T09:09:56.784Z"
   },
   {
    "duration": 77,
    "start_time": "2022-06-24T09:09:56.794Z"
   },
   {
    "duration": 25,
    "start_time": "2022-06-24T09:09:56.877Z"
   },
   {
    "duration": 17,
    "start_time": "2022-06-24T09:09:56.905Z"
   },
   {
    "duration": 365,
    "start_time": "2022-06-24T09:09:56.924Z"
   },
   {
    "duration": 333,
    "start_time": "2022-06-24T09:09:57.291Z"
   },
   {
    "duration": 188,
    "start_time": "2022-06-24T09:09:57.634Z"
   },
   {
    "duration": 414,
    "start_time": "2022-06-24T09:09:57.824Z"
   },
   {
    "duration": 403,
    "start_time": "2022-06-24T09:09:58.240Z"
   },
   {
    "duration": 412,
    "start_time": "2022-06-24T09:09:58.644Z"
   },
   {
    "duration": 10,
    "start_time": "2022-06-24T09:09:59.061Z"
   },
   {
    "duration": 13,
    "start_time": "2022-06-24T09:09:59.073Z"
   },
   {
    "duration": 9,
    "start_time": "2022-06-24T09:10:22.223Z"
   },
   {
    "duration": 5,
    "start_time": "2022-06-24T09:10:22.805Z"
   },
   {
    "duration": 4,
    "start_time": "2022-06-24T09:10:23.189Z"
   },
   {
    "duration": 8,
    "start_time": "2022-06-24T09:10:23.687Z"
   },
   {
    "duration": 19,
    "start_time": "2022-06-24T09:10:24.942Z"
   },
   {
    "duration": 5,
    "start_time": "2022-06-24T09:10:25.374Z"
   },
   {
    "duration": 6,
    "start_time": "2022-06-24T09:10:26.573Z"
   },
   {
    "duration": 85,
    "start_time": "2022-06-24T09:10:26.886Z"
   },
   {
    "duration": 14,
    "start_time": "2022-06-24T09:10:38.745Z"
   },
   {
    "duration": 16,
    "start_time": "2022-06-24T09:10:39.452Z"
   },
   {
    "duration": 10,
    "start_time": "2022-06-24T09:12:19.189Z"
   },
   {
    "duration": 1877,
    "start_time": "2022-06-24T09:12:52.775Z"
   },
   {
    "duration": 11,
    "start_time": "2022-06-24T09:13:18.214Z"
   },
   {
    "duration": 10,
    "start_time": "2022-06-24T09:13:23.488Z"
   },
   {
    "duration": 1802,
    "start_time": "2022-06-24T09:14:59.472Z"
   },
   {
    "duration": 1822,
    "start_time": "2022-06-24T09:15:12.319Z"
   },
   {
    "duration": 14,
    "start_time": "2022-06-24T09:16:22.810Z"
   },
   {
    "duration": 1189,
    "start_time": "2022-06-24T09:16:29.699Z"
   },
   {
    "duration": 87,
    "start_time": "2022-06-24T09:16:30.890Z"
   },
   {
    "duration": 6,
    "start_time": "2022-06-24T09:16:30.979Z"
   },
   {
    "duration": 46,
    "start_time": "2022-06-24T09:16:30.987Z"
   },
   {
    "duration": 10,
    "start_time": "2022-06-24T09:16:31.040Z"
   },
   {
    "duration": 22,
    "start_time": "2022-06-24T09:16:31.052Z"
   },
   {
    "duration": 9,
    "start_time": "2022-06-24T09:16:31.076Z"
   },
   {
    "duration": 12,
    "start_time": "2022-06-24T09:16:31.086Z"
   },
   {
    "duration": 15,
    "start_time": "2022-06-24T09:16:31.099Z"
   },
   {
    "duration": 16,
    "start_time": "2022-06-24T09:16:31.117Z"
   },
   {
    "duration": 14,
    "start_time": "2022-06-24T09:16:31.143Z"
   },
   {
    "duration": 6,
    "start_time": "2022-06-24T09:16:31.158Z"
   },
   {
    "duration": 19,
    "start_time": "2022-06-24T09:16:31.165Z"
   },
   {
    "duration": 14,
    "start_time": "2022-06-24T09:16:31.185Z"
   },
   {
    "duration": 8,
    "start_time": "2022-06-24T09:16:31.200Z"
   },
   {
    "duration": 34,
    "start_time": "2022-06-24T09:16:31.210Z"
   },
   {
    "duration": 57,
    "start_time": "2022-06-24T09:16:31.246Z"
   },
   {
    "duration": 4,
    "start_time": "2022-06-24T09:16:31.305Z"
   },
   {
    "duration": 24,
    "start_time": "2022-06-24T09:16:31.311Z"
   },
   {
    "duration": 182,
    "start_time": "2022-06-24T09:16:31.337Z"
   },
   {
    "duration": 12,
    "start_time": "2022-06-24T09:16:31.525Z"
   },
   {
    "duration": 15,
    "start_time": "2022-06-24T09:16:31.544Z"
   },
   {
    "duration": 245,
    "start_time": "2022-06-24T09:16:31.561Z"
   },
   {
    "duration": 79,
    "start_time": "2022-06-24T09:16:31.808Z"
   },
   {
    "duration": 15,
    "start_time": "2022-06-24T09:16:31.889Z"
   },
   {
    "duration": 6,
    "start_time": "2022-06-24T09:16:31.905Z"
   },
   {
    "duration": 298,
    "start_time": "2022-06-24T09:16:31.913Z"
   },
   {
    "duration": 5,
    "start_time": "2022-06-24T09:16:32.214Z"
   },
   {
    "duration": 32,
    "start_time": "2022-06-24T09:16:32.220Z"
   },
   {
    "duration": 152,
    "start_time": "2022-06-24T09:16:32.254Z"
   },
   {
    "duration": 568,
    "start_time": "2022-06-24T09:16:32.409Z"
   },
   {
    "duration": 11,
    "start_time": "2022-06-24T09:16:32.979Z"
   },
   {
    "duration": 11,
    "start_time": "2022-06-24T09:16:32.992Z"
   },
   {
    "duration": 35,
    "start_time": "2022-06-24T09:16:33.005Z"
   },
   {
    "duration": 17,
    "start_time": "2022-06-24T09:16:33.042Z"
   },
   {
    "duration": 304,
    "start_time": "2022-06-24T09:16:33.060Z"
   },
   {
    "duration": 319,
    "start_time": "2022-06-24T09:16:33.367Z"
   },
   {
    "duration": 223,
    "start_time": "2022-06-24T09:16:33.688Z"
   },
   {
    "duration": 504,
    "start_time": "2022-06-24T09:16:33.913Z"
   },
   {
    "duration": 458,
    "start_time": "2022-06-24T09:16:34.418Z"
   },
   {
    "duration": 401,
    "start_time": "2022-06-24T09:16:34.877Z"
   },
   {
    "duration": 12,
    "start_time": "2022-06-24T09:16:35.280Z"
   },
   {
    "duration": 61,
    "start_time": "2022-06-24T09:16:35.294Z"
   },
   {
    "duration": 1111,
    "start_time": "2022-06-24T09:18:37.200Z"
   },
   {
    "duration": 13,
    "start_time": "2022-06-24T09:20:04.248Z"
   },
   {
    "duration": 15,
    "start_time": "2022-06-24T09:20:08.883Z"
   },
   {
    "duration": 12,
    "start_time": "2022-06-24T09:20:09.783Z"
   },
   {
    "duration": 1266,
    "start_time": "2022-06-24T09:20:39.829Z"
   },
   {
    "duration": 101,
    "start_time": "2022-06-24T09:20:41.097Z"
   },
   {
    "duration": 5,
    "start_time": "2022-06-24T09:20:41.200Z"
   },
   {
    "duration": 52,
    "start_time": "2022-06-24T09:20:41.207Z"
   },
   {
    "duration": 8,
    "start_time": "2022-06-24T09:20:41.261Z"
   },
   {
    "duration": 19,
    "start_time": "2022-06-24T09:20:41.271Z"
   },
   {
    "duration": 11,
    "start_time": "2022-06-24T09:20:41.292Z"
   },
   {
    "duration": 9,
    "start_time": "2022-06-24T09:20:41.325Z"
   },
   {
    "duration": 17,
    "start_time": "2022-06-24T09:20:41.338Z"
   },
   {
    "duration": 6,
    "start_time": "2022-06-24T09:20:41.359Z"
   },
   {
    "duration": 8,
    "start_time": "2022-06-24T09:20:41.367Z"
   },
   {
    "duration": 6,
    "start_time": "2022-06-24T09:20:41.376Z"
   },
   {
    "duration": 15,
    "start_time": "2022-06-24T09:20:41.384Z"
   },
   {
    "duration": 15,
    "start_time": "2022-06-24T09:20:41.401Z"
   },
   {
    "duration": 5,
    "start_time": "2022-06-24T09:20:41.426Z"
   },
   {
    "duration": 7,
    "start_time": "2022-06-24T09:20:41.433Z"
   },
   {
    "duration": 56,
    "start_time": "2022-06-24T09:20:41.442Z"
   },
   {
    "duration": 4,
    "start_time": "2022-06-24T09:20:41.500Z"
   },
   {
    "duration": 33,
    "start_time": "2022-06-24T09:20:41.506Z"
   },
   {
    "duration": 213,
    "start_time": "2022-06-24T09:20:41.541Z"
   },
   {
    "duration": 11,
    "start_time": "2022-06-24T09:20:41.756Z"
   },
   {
    "duration": 13,
    "start_time": "2022-06-24T09:20:41.769Z"
   },
   {
    "duration": 294,
    "start_time": "2022-06-24T09:20:41.784Z"
   },
   {
    "duration": 67,
    "start_time": "2022-06-24T09:20:42.080Z"
   },
   {
    "duration": 15,
    "start_time": "2022-06-24T09:20:42.149Z"
   },
   {
    "duration": 5,
    "start_time": "2022-06-24T09:20:42.166Z"
   },
   {
    "duration": 310,
    "start_time": "2022-06-24T09:20:42.173Z"
   },
   {
    "duration": 6,
    "start_time": "2022-06-24T09:20:42.489Z"
   },
   {
    "duration": 16,
    "start_time": "2022-06-24T09:20:42.497Z"
   },
   {
    "duration": 193,
    "start_time": "2022-06-24T09:20:42.515Z"
   },
   {
    "duration": 589,
    "start_time": "2022-06-24T09:20:42.711Z"
   },
   {
    "duration": 8,
    "start_time": "2022-06-24T09:20:43.303Z"
   },
   {
    "duration": 17,
    "start_time": "2022-06-24T09:20:43.313Z"
   },
   {
    "duration": 29,
    "start_time": "2022-06-24T09:20:43.332Z"
   },
   {
    "duration": 11,
    "start_time": "2022-06-24T09:20:43.363Z"
   },
   {
    "duration": 381,
    "start_time": "2022-06-24T09:20:43.376Z"
   },
   {
    "duration": 399,
    "start_time": "2022-06-24T09:20:43.760Z"
   },
   {
    "duration": 276,
    "start_time": "2022-06-24T09:20:44.162Z"
   },
   {
    "duration": 474,
    "start_time": "2022-06-24T09:20:44.448Z"
   },
   {
    "duration": 429,
    "start_time": "2022-06-24T09:20:44.924Z"
   },
   {
    "duration": 412,
    "start_time": "2022-06-24T09:20:45.355Z"
   },
   {
    "duration": 11,
    "start_time": "2022-06-24T09:20:45.769Z"
   },
   {
    "duration": 37,
    "start_time": "2022-06-24T09:20:45.781Z"
   },
   {
    "duration": 11,
    "start_time": "2022-06-24T09:25:26.288Z"
   },
   {
    "duration": 1222,
    "start_time": "2022-06-24T09:25:39.311Z"
   },
   {
    "duration": 117,
    "start_time": "2022-06-24T09:25:40.535Z"
   },
   {
    "duration": 6,
    "start_time": "2022-06-24T09:25:40.654Z"
   },
   {
    "duration": 51,
    "start_time": "2022-06-24T09:25:40.663Z"
   },
   {
    "duration": 20,
    "start_time": "2022-06-24T09:25:40.716Z"
   },
   {
    "duration": 30,
    "start_time": "2022-06-24T09:25:40.738Z"
   },
   {
    "duration": 14,
    "start_time": "2022-06-24T09:25:40.770Z"
   },
   {
    "duration": 39,
    "start_time": "2022-06-24T09:25:40.787Z"
   },
   {
    "duration": 7,
    "start_time": "2022-06-24T09:25:40.828Z"
   },
   {
    "duration": 8,
    "start_time": "2022-06-24T09:25:40.839Z"
   },
   {
    "duration": 11,
    "start_time": "2022-06-24T09:25:40.849Z"
   },
   {
    "duration": 21,
    "start_time": "2022-06-24T09:25:40.862Z"
   },
   {
    "duration": 10,
    "start_time": "2022-06-24T09:25:40.885Z"
   },
   {
    "duration": 15,
    "start_time": "2022-06-24T09:25:40.897Z"
   },
   {
    "duration": 16,
    "start_time": "2022-06-24T09:25:40.914Z"
   },
   {
    "duration": 22,
    "start_time": "2022-06-24T09:25:40.937Z"
   },
   {
    "duration": 74,
    "start_time": "2022-06-24T09:25:40.962Z"
   },
   {
    "duration": 7,
    "start_time": "2022-06-24T09:25:41.037Z"
   },
   {
    "duration": 28,
    "start_time": "2022-06-24T09:25:41.046Z"
   },
   {
    "duration": 220,
    "start_time": "2022-06-24T09:25:41.077Z"
   },
   {
    "duration": 11,
    "start_time": "2022-06-24T09:25:41.299Z"
   },
   {
    "duration": 29,
    "start_time": "2022-06-24T09:25:41.312Z"
   },
   {
    "duration": 254,
    "start_time": "2022-06-24T09:25:41.347Z"
   },
   {
    "duration": 89,
    "start_time": "2022-06-24T09:25:41.603Z"
   },
   {
    "duration": 18,
    "start_time": "2022-06-24T09:25:41.695Z"
   },
   {
    "duration": 35,
    "start_time": "2022-06-24T09:25:41.716Z"
   },
   {
    "duration": 286,
    "start_time": "2022-06-24T09:25:41.753Z"
   },
   {
    "duration": 10,
    "start_time": "2022-06-24T09:25:42.043Z"
   },
   {
    "duration": 13,
    "start_time": "2022-06-24T09:25:42.055Z"
   },
   {
    "duration": 145,
    "start_time": "2022-06-24T09:25:42.071Z"
   },
   {
    "duration": 590,
    "start_time": "2022-06-24T09:25:42.218Z"
   },
   {
    "duration": 24,
    "start_time": "2022-06-24T09:25:42.811Z"
   },
   {
    "duration": 28,
    "start_time": "2022-06-24T09:25:42.836Z"
   },
   {
    "duration": 17,
    "start_time": "2022-06-24T09:25:42.866Z"
   },
   {
    "duration": 12,
    "start_time": "2022-06-24T09:25:42.885Z"
   },
   {
    "duration": 310,
    "start_time": "2022-06-24T09:25:42.899Z"
   },
   {
    "duration": 327,
    "start_time": "2022-06-24T09:25:43.211Z"
   },
   {
    "duration": 229,
    "start_time": "2022-06-24T09:25:43.540Z"
   },
   {
    "duration": 500,
    "start_time": "2022-06-24T09:25:43.775Z"
   },
   {
    "duration": 452,
    "start_time": "2022-06-24T09:25:44.277Z"
   },
   {
    "duration": 529,
    "start_time": "2022-06-24T09:25:44.734Z"
   },
   {
    "duration": 13,
    "start_time": "2022-06-24T09:25:45.265Z"
   },
   {
    "duration": 17,
    "start_time": "2022-06-24T09:25:45.280Z"
   },
   {
    "duration": 22,
    "start_time": "2022-06-24T09:29:49.145Z"
   },
   {
    "duration": 26,
    "start_time": "2022-06-24T09:31:05.335Z"
   },
   {
    "duration": 18,
    "start_time": "2022-06-24T09:31:06.122Z"
   },
   {
    "duration": 103,
    "start_time": "2022-06-24T09:31:07.182Z"
   },
   {
    "duration": 17,
    "start_time": "2022-06-24T09:32:18.476Z"
   },
   {
    "duration": 6,
    "start_time": "2022-06-24T09:32:57.147Z"
   },
   {
    "duration": 14,
    "start_time": "2022-06-24T09:32:59.313Z"
   },
   {
    "duration": 23,
    "start_time": "2022-06-24T09:33:03.434Z"
   },
   {
    "duration": 6,
    "start_time": "2022-06-24T09:33:03.663Z"
   },
   {
    "duration": 25,
    "start_time": "2022-06-24T09:33:03.915Z"
   },
   {
    "duration": 5,
    "start_time": "2022-06-24T09:33:04.383Z"
   },
   {
    "duration": 14,
    "start_time": "2022-06-24T09:33:31.091Z"
   },
   {
    "duration": 1258,
    "start_time": "2022-06-24T09:34:14.311Z"
   },
   {
    "duration": 88,
    "start_time": "2022-06-24T09:34:15.571Z"
   },
   {
    "duration": 6,
    "start_time": "2022-06-24T09:34:15.660Z"
   },
   {
    "duration": 27,
    "start_time": "2022-06-24T09:34:15.668Z"
   },
   {
    "duration": 9,
    "start_time": "2022-06-24T09:34:15.697Z"
   },
   {
    "duration": 30,
    "start_time": "2022-06-24T09:34:15.727Z"
   },
   {
    "duration": 8,
    "start_time": "2022-06-24T09:34:15.758Z"
   },
   {
    "duration": 8,
    "start_time": "2022-06-24T09:34:15.768Z"
   },
   {
    "duration": 5,
    "start_time": "2022-06-24T09:34:15.778Z"
   },
   {
    "duration": 5,
    "start_time": "2022-06-24T09:34:15.786Z"
   },
   {
    "duration": 6,
    "start_time": "2022-06-24T09:34:15.793Z"
   },
   {
    "duration": 4,
    "start_time": "2022-06-24T09:34:15.801Z"
   },
   {
    "duration": 29,
    "start_time": "2022-06-24T09:34:15.807Z"
   },
   {
    "duration": 29,
    "start_time": "2022-06-24T09:34:15.839Z"
   },
   {
    "duration": 5,
    "start_time": "2022-06-24T09:34:15.870Z"
   },
   {
    "duration": 13,
    "start_time": "2022-06-24T09:34:15.877Z"
   },
   {
    "duration": 75,
    "start_time": "2022-06-24T09:34:15.892Z"
   },
   {
    "duration": 5,
    "start_time": "2022-06-24T09:34:15.969Z"
   },
   {
    "duration": 23,
    "start_time": "2022-06-24T09:34:15.975Z"
   },
   {
    "duration": 183,
    "start_time": "2022-06-24T09:34:15.999Z"
   },
   {
    "duration": 11,
    "start_time": "2022-06-24T09:34:16.184Z"
   },
   {
    "duration": 36,
    "start_time": "2022-06-24T09:34:16.196Z"
   },
   {
    "duration": 279,
    "start_time": "2022-06-24T09:34:16.238Z"
   },
   {
    "duration": 84,
    "start_time": "2022-06-24T09:34:16.527Z"
   },
   {
    "duration": 28,
    "start_time": "2022-06-24T09:34:16.614Z"
   },
   {
    "duration": 43,
    "start_time": "2022-06-24T09:34:16.644Z"
   },
   {
    "duration": 346,
    "start_time": "2022-06-24T09:34:16.689Z"
   },
   {
    "duration": 5,
    "start_time": "2022-06-24T09:34:17.040Z"
   },
   {
    "duration": 13,
    "start_time": "2022-06-24T09:34:17.047Z"
   },
   {
    "duration": 135,
    "start_time": "2022-06-24T09:34:17.062Z"
   },
   {
    "duration": 535,
    "start_time": "2022-06-24T09:34:17.199Z"
   },
   {
    "duration": 9,
    "start_time": "2022-06-24T09:34:17.736Z"
   },
   {
    "duration": 11,
    "start_time": "2022-06-24T09:34:17.746Z"
   },
   {
    "duration": 10,
    "start_time": "2022-06-24T09:34:17.759Z"
   },
   {
    "duration": 10,
    "start_time": "2022-06-24T09:34:17.771Z"
   },
   {
    "duration": 298,
    "start_time": "2022-06-24T09:34:17.782Z"
   },
   {
    "duration": 280,
    "start_time": "2022-06-24T09:34:18.082Z"
   },
   {
    "duration": 192,
    "start_time": "2022-06-24T09:34:18.364Z"
   },
   {
    "duration": 452,
    "start_time": "2022-06-24T09:34:18.558Z"
   },
   {
    "duration": 407,
    "start_time": "2022-06-24T09:34:19.012Z"
   },
   {
    "duration": 381,
    "start_time": "2022-06-24T09:34:19.420Z"
   },
   {
    "duration": 11,
    "start_time": "2022-06-24T09:34:19.802Z"
   },
   {
    "duration": 12,
    "start_time": "2022-06-24T09:34:19.830Z"
   },
   {
    "duration": 1260,
    "start_time": "2022-06-25T05:59:24.350Z"
   },
   {
    "duration": 124,
    "start_time": "2022-06-25T05:59:25.612Z"
   },
   {
    "duration": 5,
    "start_time": "2022-06-25T05:59:25.738Z"
   },
   {
    "duration": 35,
    "start_time": "2022-06-25T05:59:25.745Z"
   },
   {
    "duration": 8,
    "start_time": "2022-06-25T05:59:25.782Z"
   },
   {
    "duration": 27,
    "start_time": "2022-06-25T05:59:25.792Z"
   },
   {
    "duration": 11,
    "start_time": "2022-06-25T05:59:25.821Z"
   },
   {
    "duration": 23,
    "start_time": "2022-06-25T05:59:25.833Z"
   },
   {
    "duration": 21,
    "start_time": "2022-06-25T05:59:25.858Z"
   },
   {
    "duration": 15,
    "start_time": "2022-06-25T05:59:25.882Z"
   },
   {
    "duration": 14,
    "start_time": "2022-06-25T05:59:25.899Z"
   },
   {
    "duration": 14,
    "start_time": "2022-06-25T05:59:25.914Z"
   },
   {
    "duration": 15,
    "start_time": "2022-06-25T05:59:25.930Z"
   },
   {
    "duration": 23,
    "start_time": "2022-06-25T05:59:25.946Z"
   },
   {
    "duration": 14,
    "start_time": "2022-06-25T05:59:25.971Z"
   },
   {
    "duration": 11,
    "start_time": "2022-06-25T05:59:25.986Z"
   },
   {
    "duration": 45,
    "start_time": "2022-06-25T05:59:25.999Z"
   },
   {
    "duration": 4,
    "start_time": "2022-06-25T05:59:26.046Z"
   },
   {
    "duration": 19,
    "start_time": "2022-06-25T05:59:26.051Z"
   },
   {
    "duration": 185,
    "start_time": "2022-06-25T05:59:26.071Z"
   },
   {
    "duration": 12,
    "start_time": "2022-06-25T05:59:26.258Z"
   },
   {
    "duration": 25,
    "start_time": "2022-06-25T05:59:26.272Z"
   },
   {
    "duration": 269,
    "start_time": "2022-06-25T05:59:26.299Z"
   },
   {
    "duration": 62,
    "start_time": "2022-06-25T05:59:26.570Z"
   },
   {
    "duration": 15,
    "start_time": "2022-06-25T05:59:26.634Z"
   },
   {
    "duration": 18,
    "start_time": "2022-06-25T05:59:26.650Z"
   },
   {
    "duration": 274,
    "start_time": "2022-06-25T05:59:26.669Z"
   },
   {
    "duration": 5,
    "start_time": "2022-06-25T05:59:26.946Z"
   },
   {
    "duration": 14,
    "start_time": "2022-06-25T05:59:26.952Z"
   },
   {
    "duration": 119,
    "start_time": "2022-06-25T05:59:26.968Z"
   },
   {
    "duration": 496,
    "start_time": "2022-06-25T05:59:27.088Z"
   },
   {
    "duration": 7,
    "start_time": "2022-06-25T05:59:27.586Z"
   },
   {
    "duration": 10,
    "start_time": "2022-06-25T05:59:27.594Z"
   },
   {
    "duration": 23,
    "start_time": "2022-06-25T05:59:27.605Z"
   },
   {
    "duration": 9,
    "start_time": "2022-06-25T05:59:27.630Z"
   },
   {
    "duration": 264,
    "start_time": "2022-06-25T05:59:27.640Z"
   },
   {
    "duration": 264,
    "start_time": "2022-06-25T05:59:27.906Z"
   },
   {
    "duration": 182,
    "start_time": "2022-06-25T05:59:28.172Z"
   },
   {
    "duration": 375,
    "start_time": "2022-06-25T05:59:28.355Z"
   },
   {
    "duration": 365,
    "start_time": "2022-06-25T05:59:28.732Z"
   },
   {
    "duration": 374,
    "start_time": "2022-06-25T05:59:29.098Z"
   },
   {
    "duration": 11,
    "start_time": "2022-06-25T05:59:29.474Z"
   },
   {
    "duration": 9,
    "start_time": "2022-06-25T05:59:29.487Z"
   },
   {
    "duration": 12,
    "start_time": "2022-06-25T06:27:12.669Z"
   },
   {
    "duration": 69,
    "start_time": "2022-06-25T15:41:19.054Z"
   },
   {
    "duration": 9,
    "start_time": "2022-06-25T15:41:22.702Z"
   },
   {
    "duration": 1350,
    "start_time": "2022-06-25T15:41:27.453Z"
   },
   {
    "duration": 120,
    "start_time": "2022-06-25T15:41:28.805Z"
   },
   {
    "duration": 108,
    "start_time": "2022-06-25T15:41:28.927Z"
   },
   {
    "duration": 26,
    "start_time": "2022-06-25T15:41:34.491Z"
   },
   {
    "duration": 17,
    "start_time": "2022-06-25T15:50:17.866Z"
   },
   {
    "duration": 4,
    "start_time": "2022-06-25T15:51:17.851Z"
   },
   {
    "duration": 12,
    "start_time": "2022-06-25T15:51:23.291Z"
   },
   {
    "duration": 13,
    "start_time": "2022-06-25T15:51:35.951Z"
   },
   {
    "duration": 3,
    "start_time": "2022-06-25T15:51:58.602Z"
   },
   {
    "duration": 79,
    "start_time": "2022-06-25T15:51:58.915Z"
   },
   {
    "duration": 20,
    "start_time": "2022-06-25T15:51:59.256Z"
   },
   {
    "duration": 6,
    "start_time": "2022-06-25T15:52:01.533Z"
   },
   {
    "duration": 22,
    "start_time": "2022-06-25T15:52:02.053Z"
   },
   {
    "duration": 3,
    "start_time": "2022-06-25T15:52:11.010Z"
   },
   {
    "duration": 29,
    "start_time": "2022-06-25T15:52:11.365Z"
   },
   {
    "duration": 7,
    "start_time": "2022-06-25T15:52:28.522Z"
   },
   {
    "duration": 38,
    "start_time": "2022-06-25T15:54:32.303Z"
   },
   {
    "duration": 24,
    "start_time": "2022-06-25T15:58:07.338Z"
   },
   {
    "duration": 10,
    "start_time": "2022-06-25T15:58:08.506Z"
   },
   {
    "duration": 18,
    "start_time": "2022-06-25T15:58:09.478Z"
   },
   {
    "duration": 17,
    "start_time": "2022-06-25T15:58:20.506Z"
   },
   {
    "duration": 2,
    "start_time": "2022-06-25T15:58:51.551Z"
   },
   {
    "duration": 14,
    "start_time": "2022-06-25T16:13:41.348Z"
   },
   {
    "duration": 18,
    "start_time": "2022-06-25T16:13:45.546Z"
   },
   {
    "duration": 23,
    "start_time": "2022-06-25T16:13:58.238Z"
   },
   {
    "duration": 14,
    "start_time": "2022-06-25T16:15:06.317Z"
   },
   {
    "duration": 5,
    "start_time": "2022-06-25T16:15:11.294Z"
   },
   {
    "duration": 12,
    "start_time": "2022-06-25T16:15:14.863Z"
   },
   {
    "duration": 2,
    "start_time": "2022-06-25T16:17:23.780Z"
   },
   {
    "duration": 9,
    "start_time": "2022-06-25T16:17:24.171Z"
   },
   {
    "duration": 6,
    "start_time": "2022-06-25T16:17:24.602Z"
   },
   {
    "duration": 9,
    "start_time": "2022-06-25T16:17:25.049Z"
   },
   {
    "duration": 6,
    "start_time": "2022-06-25T16:17:56.370Z"
   },
   {
    "duration": 12,
    "start_time": "2022-06-25T16:18:09.265Z"
   },
   {
    "duration": 5,
    "start_time": "2022-06-25T16:18:15.867Z"
   },
   {
    "duration": 24,
    "start_time": "2022-06-25T16:18:23.567Z"
   },
   {
    "duration": 20,
    "start_time": "2022-06-25T16:19:44.718Z"
   },
   {
    "duration": 9,
    "start_time": "2022-06-25T16:20:08.365Z"
   },
   {
    "duration": 9,
    "start_time": "2022-06-25T16:20:13.210Z"
   },
   {
    "duration": 3,
    "start_time": "2022-06-25T16:20:47.419Z"
   },
   {
    "duration": 95,
    "start_time": "2022-06-25T16:20:47.710Z"
   },
   {
    "duration": 17,
    "start_time": "2022-06-25T16:20:48.096Z"
   },
   {
    "duration": 79,
    "start_time": "2022-06-25T16:20:49.372Z"
   },
   {
    "duration": 4,
    "start_time": "2022-06-25T16:20:49.572Z"
   },
   {
    "duration": 30,
    "start_time": "2022-06-25T16:20:49.780Z"
   },
   {
    "duration": 32,
    "start_time": "2022-06-25T16:20:49.980Z"
   },
   {
    "duration": 2,
    "start_time": "2022-06-25T16:20:59.203Z"
   },
   {
    "duration": 4,
    "start_time": "2022-06-25T16:20:59.970Z"
   },
   {
    "duration": 33,
    "start_time": "2022-06-25T16:21:00.385Z"
   },
   {
    "duration": 34,
    "start_time": "2022-06-25T16:21:00.851Z"
   },
   {
    "duration": 11,
    "start_time": "2022-06-25T16:21:01.786Z"
   },
   {
    "duration": 8,
    "start_time": "2022-06-25T16:21:03.446Z"
   },
   {
    "duration": 8,
    "start_time": "2022-06-25T16:21:03.695Z"
   },
   {
    "duration": 1308,
    "start_time": "2022-06-25T16:21:04.011Z"
   },
   {
    "duration": 0,
    "start_time": "2022-06-25T16:21:05.321Z"
   },
   {
    "duration": 47,
    "start_time": "2022-06-25T16:21:06.704Z"
   },
   {
    "duration": 3,
    "start_time": "2022-06-25T16:23:48.569Z"
   },
   {
    "duration": 22,
    "start_time": "2022-06-25T16:23:49.077Z"
   },
   {
    "duration": 21,
    "start_time": "2022-06-25T16:23:52.339Z"
   },
   {
    "duration": 9,
    "start_time": "2022-06-25T16:24:16.703Z"
   },
   {
    "duration": 11,
    "start_time": "2022-06-25T16:25:29.029Z"
   },
   {
    "duration": 7,
    "start_time": "2022-06-25T16:25:29.468Z"
   },
   {
    "duration": 1314,
    "start_time": "2022-06-25T16:25:29.770Z"
   },
   {
    "duration": 0,
    "start_time": "2022-06-25T16:25:31.085Z"
   },
   {
    "duration": 55,
    "start_time": "2022-06-25T16:25:31.508Z"
   },
   {
    "duration": 10,
    "start_time": "2022-06-25T16:25:35.256Z"
   },
   {
    "duration": 4,
    "start_time": "2022-06-25T16:28:01.200Z"
   },
   {
    "duration": 5,
    "start_time": "2022-06-25T16:28:04.405Z"
   },
   {
    "duration": 3,
    "start_time": "2022-06-25T16:28:05.106Z"
   },
   {
    "duration": 13,
    "start_time": "2022-06-25T16:28:05.603Z"
   },
   {
    "duration": 11,
    "start_time": "2022-06-25T16:28:21.951Z"
   },
   {
    "duration": 14,
    "start_time": "2022-06-25T16:28:23.355Z"
   },
   {
    "duration": 17,
    "start_time": "2022-06-25T16:28:23.746Z"
   },
   {
    "duration": 7,
    "start_time": "2022-06-25T16:28:25.908Z"
   },
   {
    "duration": 17,
    "start_time": "2022-06-25T16:28:26.749Z"
   },
   {
    "duration": 4,
    "start_time": "2022-06-25T16:28:27.153Z"
   },
   {
    "duration": 10,
    "start_time": "2022-06-25T16:28:27.696Z"
   },
   {
    "duration": 14,
    "start_time": "2022-06-25T16:30:37.771Z"
   },
   {
    "duration": 6,
    "start_time": "2022-06-25T16:30:38.079Z"
   },
   {
    "duration": 15,
    "start_time": "2022-06-25T16:30:38.346Z"
   },
   {
    "duration": 53,
    "start_time": "2022-06-25T16:30:38.756Z"
   },
   {
    "duration": 21,
    "start_time": "2022-06-25T16:33:35.622Z"
   },
   {
    "duration": 20,
    "start_time": "2022-06-25T16:33:35.854Z"
   },
   {
    "duration": 231,
    "start_time": "2022-06-25T16:33:37.246Z"
   },
   {
    "duration": 19,
    "start_time": "2022-06-25T16:35:17.146Z"
   },
   {
    "duration": 16,
    "start_time": "2022-06-25T16:35:17.561Z"
   },
   {
    "duration": 278,
    "start_time": "2022-06-25T16:35:17.783Z"
   },
   {
    "duration": 60,
    "start_time": "2022-06-25T16:35:26.367Z"
   },
   {
    "duration": 15,
    "start_time": "2022-06-25T16:35:26.804Z"
   },
   {
    "duration": 11,
    "start_time": "2022-06-25T16:35:27.048Z"
   },
   {
    "duration": 313,
    "start_time": "2022-06-25T16:35:27.258Z"
   },
   {
    "duration": 55,
    "start_time": "2022-06-25T16:37:31.261Z"
   },
   {
    "duration": 100,
    "start_time": "2022-06-25T16:39:02.947Z"
   },
   {
    "duration": 18,
    "start_time": "2022-06-25T16:39:21.568Z"
   },
   {
    "duration": 6,
    "start_time": "2022-06-25T16:39:22.009Z"
   },
   {
    "duration": 264,
    "start_time": "2022-06-25T16:39:22.247Z"
   },
   {
    "duration": 84,
    "start_time": "2022-06-25T16:42:25.721Z"
   },
   {
    "duration": 30,
    "start_time": "2022-06-25T16:42:26.723Z"
   },
   {
    "duration": 6,
    "start_time": "2022-06-25T16:42:26.967Z"
   },
   {
    "duration": 270,
    "start_time": "2022-06-25T16:42:27.247Z"
   },
   {
    "duration": 84,
    "start_time": "2022-06-25T16:45:39.931Z"
   },
   {
    "duration": 32,
    "start_time": "2022-06-25T16:45:40.909Z"
   },
   {
    "duration": 9,
    "start_time": "2022-06-25T16:45:40.971Z"
   },
   {
    "duration": 267,
    "start_time": "2022-06-25T16:45:41.767Z"
   },
   {
    "duration": 3,
    "start_time": "2022-06-25T16:46:01.108Z"
   },
   {
    "duration": 6,
    "start_time": "2022-06-25T16:46:01.304Z"
   },
   {
    "duration": 304,
    "start_time": "2022-06-25T16:46:01.551Z"
   },
   {
    "duration": 5,
    "start_time": "2022-06-25T16:46:23.707Z"
   },
   {
    "duration": 9,
    "start_time": "2022-06-25T16:46:24.283Z"
   },
   {
    "duration": 165,
    "start_time": "2022-06-25T16:46:24.718Z"
   },
   {
    "duration": 15,
    "start_time": "2022-06-25T16:47:34.972Z"
   },
   {
    "duration": 21,
    "start_time": "2022-06-25T16:47:39.677Z"
   },
   {
    "duration": 51,
    "start_time": "2022-06-25T16:48:51.863Z"
   },
   {
    "duration": 3,
    "start_time": "2022-06-25T16:49:18.560Z"
   },
   {
    "duration": 176,
    "start_time": "2022-06-25T16:49:18.919Z"
   },
   {
    "duration": 15,
    "start_time": "2022-06-25T16:49:19.097Z"
   },
   {
    "duration": 10,
    "start_time": "2022-06-25T16:49:19.303Z"
   },
   {
    "duration": 2,
    "start_time": "2022-06-25T16:49:29.164Z"
   },
   {
    "duration": 4,
    "start_time": "2022-06-25T16:49:29.366Z"
   },
   {
    "duration": 3,
    "start_time": "2022-06-25T16:49:29.565Z"
   },
   {
    "duration": 20,
    "start_time": "2022-06-25T16:49:29.757Z"
   },
   {
    "duration": 11,
    "start_time": "2022-06-25T16:49:31.255Z"
   },
   {
    "duration": 8,
    "start_time": "2022-06-25T16:49:32.986Z"
   },
   {
    "duration": 9,
    "start_time": "2022-06-25T16:49:33.457Z"
   },
   {
    "duration": 15,
    "start_time": "2022-06-25T16:49:33.724Z"
   },
   {
    "duration": 7,
    "start_time": "2022-06-25T16:49:33.961Z"
   },
   {
    "duration": 23,
    "start_time": "2022-06-25T16:49:34.254Z"
   },
   {
    "duration": 5,
    "start_time": "2022-06-25T16:49:34.956Z"
   },
   {
    "duration": 5,
    "start_time": "2022-06-25T16:49:35.668Z"
   },
   {
    "duration": 7,
    "start_time": "2022-06-25T16:49:35.938Z"
   },
   {
    "duration": 11,
    "start_time": "2022-06-25T16:49:36.209Z"
   },
   {
    "duration": 20,
    "start_time": "2022-06-25T16:49:37.461Z"
   },
   {
    "duration": 5,
    "start_time": "2022-06-25T16:49:37.715Z"
   },
   {
    "duration": 6,
    "start_time": "2022-06-25T16:49:38.064Z"
   },
   {
    "duration": 45,
    "start_time": "2022-06-25T16:49:38.649Z"
   },
   {
    "duration": 5,
    "start_time": "2022-06-25T16:49:39.813Z"
   },
   {
    "duration": 15,
    "start_time": "2022-06-25T16:49:40.037Z"
   },
   {
    "duration": 160,
    "start_time": "2022-06-25T16:49:41.275Z"
   },
   {
    "duration": 8,
    "start_time": "2022-06-25T16:49:43.012Z"
   },
   {
    "duration": 12,
    "start_time": "2022-06-25T16:49:43.751Z"
   },
   {
    "duration": 219,
    "start_time": "2022-06-25T16:49:44.159Z"
   },
   {
    "duration": 54,
    "start_time": "2022-06-25T16:49:46.160Z"
   },
   {
    "duration": 60,
    "start_time": "2022-06-25T16:49:46.578Z"
   },
   {
    "duration": 3,
    "start_time": "2022-06-25T16:49:47.709Z"
   },
   {
    "duration": 7,
    "start_time": "2022-06-25T16:49:48.124Z"
   },
   {
    "duration": 227,
    "start_time": "2022-06-25T16:49:48.476Z"
   },
   {
    "duration": 53,
    "start_time": "2022-06-25T16:51:04.840Z"
   },
   {
    "duration": 60,
    "start_time": "2022-06-25T16:51:05.109Z"
   },
   {
    "duration": 57,
    "start_time": "2022-06-25T16:51:26.818Z"
   },
   {
    "duration": 95,
    "start_time": "2022-06-25T16:51:44.308Z"
   },
   {
    "duration": 17,
    "start_time": "2022-06-25T16:56:00.804Z"
   },
   {
    "duration": 80,
    "start_time": "2022-06-25T16:56:48.710Z"
   },
   {
    "duration": 414,
    "start_time": "2022-06-25T16:56:54.445Z"
   },
   {
    "duration": 65,
    "start_time": "2022-06-25T16:57:22.573Z"
   },
   {
    "duration": 11,
    "start_time": "2022-06-25T16:57:33.601Z"
   },
   {
    "duration": 18,
    "start_time": "2022-06-25T16:57:38.421Z"
   },
   {
    "duration": 3,
    "start_time": "2022-06-25T16:57:42.500Z"
   },
   {
    "duration": 2,
    "start_time": "2022-06-25T16:57:53.740Z"
   },
   {
    "duration": 2,
    "start_time": "2022-06-25T16:57:54.040Z"
   },
   {
    "duration": 570,
    "start_time": "2022-06-25T16:57:54.287Z"
   },
   {
    "duration": 32,
    "start_time": "2022-06-25T17:00:13.536Z"
   },
   {
    "duration": 10,
    "start_time": "2022-06-25T17:00:58.998Z"
   },
   {
    "duration": 31,
    "start_time": "2022-06-25T17:00:59.708Z"
   },
   {
    "duration": 19,
    "start_time": "2022-06-25T17:01:19.574Z"
   },
   {
    "duration": 38,
    "start_time": "2022-06-25T17:01:24.446Z"
   },
   {
    "duration": 526,
    "start_time": "2022-06-25T17:02:46.980Z"
   },
   {
    "duration": 10,
    "start_time": "2022-06-25T17:03:09.021Z"
   },
   {
    "duration": 7,
    "start_time": "2022-06-25T17:03:10.643Z"
   },
   {
    "duration": 10,
    "start_time": "2022-06-25T17:03:11.474Z"
   },
   {
    "duration": 152,
    "start_time": "2022-06-25T17:03:11.918Z"
   },
   {
    "duration": 584,
    "start_time": "2022-06-25T17:03:13.119Z"
   },
   {
    "duration": 9,
    "start_time": "2022-06-25T17:03:14.653Z"
   },
   {
    "duration": 11,
    "start_time": "2022-06-25T17:03:14.859Z"
   },
   {
    "duration": 14,
    "start_time": "2022-06-25T17:03:15.072Z"
   },
   {
    "duration": 21,
    "start_time": "2022-06-25T17:03:15.821Z"
   },
   {
    "duration": 278,
    "start_time": "2022-06-25T17:03:16.483Z"
   },
   {
    "duration": 317,
    "start_time": "2022-06-25T17:03:17.223Z"
   },
   {
    "duration": 46,
    "start_time": "2022-06-25T17:03:52.875Z"
   },
   {
    "duration": 70,
    "start_time": "2022-06-25T17:04:03.942Z"
   },
   {
    "duration": 54,
    "start_time": "2022-06-25T17:04:07.565Z"
   },
   {
    "duration": 288,
    "start_time": "2022-06-25T17:04:17.552Z"
   },
   {
    "duration": 55,
    "start_time": "2022-06-25T17:04:28.189Z"
   },
   {
    "duration": 658,
    "start_time": "2022-06-25T17:04:38.246Z"
   },
   {
    "duration": 556,
    "start_time": "2022-06-25T17:04:52.284Z"
   },
   {
    "duration": 77,
    "start_time": "2022-06-25T17:05:01.252Z"
   },
   {
    "duration": 72,
    "start_time": "2022-06-25T17:05:04.021Z"
   },
   {
    "duration": 83,
    "start_time": "2022-06-25T17:05:15.025Z"
   },
   {
    "duration": 566,
    "start_time": "2022-06-25T17:06:08.731Z"
   },
   {
    "duration": 517,
    "start_time": "2022-06-25T17:06:17.536Z"
   },
   {
    "duration": 6,
    "start_time": "2022-06-25T17:08:53.507Z"
   },
   {
    "duration": 64,
    "start_time": "2022-06-25T17:08:53.762Z"
   },
   {
    "duration": 644,
    "start_time": "2022-06-25T17:08:54.015Z"
   },
   {
    "duration": 3,
    "start_time": "2022-06-25T17:08:54.661Z"
   },
   {
    "duration": 17,
    "start_time": "2022-06-25T17:09:08.344Z"
   },
   {
    "duration": 53,
    "start_time": "2022-06-25T17:09:08.552Z"
   },
   {
    "duration": 565,
    "start_time": "2022-06-25T17:09:08.753Z"
   },
   {
    "duration": 3,
    "start_time": "2022-06-25T17:10:30.967Z"
   },
   {
    "duration": 34,
    "start_time": "2022-06-25T17:10:31.618Z"
   },
   {
    "duration": 581,
    "start_time": "2022-06-25T17:10:32.417Z"
   },
   {
    "duration": 2,
    "start_time": "2022-06-25T17:10:56.449Z"
   },
   {
    "duration": 526,
    "start_time": "2022-06-25T17:10:57.945Z"
   },
   {
    "duration": 6,
    "start_time": "2022-06-25T17:11:22.020Z"
   },
   {
    "duration": 84,
    "start_time": "2022-06-25T17:11:22.155Z"
   },
   {
    "duration": 31,
    "start_time": "2022-06-25T17:11:22.316Z"
   },
   {
    "duration": 2,
    "start_time": "2022-06-25T17:11:23.240Z"
   },
   {
    "duration": 3,
    "start_time": "2022-06-25T17:11:23.418Z"
   },
   {
    "duration": 3,
    "start_time": "2022-06-25T17:11:23.564Z"
   },
   {
    "duration": 21,
    "start_time": "2022-06-25T17:11:23.737Z"
   },
   {
    "duration": 9,
    "start_time": "2022-06-25T17:11:24.252Z"
   },
   {
    "duration": 9,
    "start_time": "2022-06-25T17:11:25.236Z"
   },
   {
    "duration": 16,
    "start_time": "2022-06-25T17:11:25.422Z"
   },
   {
    "duration": 6,
    "start_time": "2022-06-25T17:11:25.765Z"
   },
   {
    "duration": 8,
    "start_time": "2022-06-25T17:11:25.948Z"
   },
   {
    "duration": 23,
    "start_time": "2022-06-25T17:11:26.143Z"
   },
   {
    "duration": 7,
    "start_time": "2022-06-25T17:11:26.541Z"
   },
   {
    "duration": 7,
    "start_time": "2022-06-25T17:11:26.912Z"
   },
   {
    "duration": 5,
    "start_time": "2022-06-25T17:11:27.082Z"
   },
   {
    "duration": 9,
    "start_time": "2022-06-25T17:11:27.271Z"
   },
   {
    "duration": 14,
    "start_time": "2022-06-25T17:11:28.048Z"
   },
   {
    "duration": 6,
    "start_time": "2022-06-25T17:11:28.240Z"
   },
   {
    "duration": 8,
    "start_time": "2022-06-25T17:11:28.436Z"
   },
   {
    "duration": 47,
    "start_time": "2022-06-25T17:11:28.836Z"
   },
   {
    "duration": 5,
    "start_time": "2022-06-25T17:11:29.637Z"
   },
   {
    "duration": 16,
    "start_time": "2022-06-25T17:11:29.838Z"
   },
   {
    "duration": 175,
    "start_time": "2022-06-25T17:11:30.618Z"
   },
   {
    "duration": 9,
    "start_time": "2022-06-25T17:11:31.682Z"
   },
   {
    "duration": 11,
    "start_time": "2022-06-25T17:11:32.084Z"
   },
   {
    "duration": 235,
    "start_time": "2022-06-25T17:11:32.268Z"
   },
   {
    "duration": 4,
    "start_time": "2022-06-25T17:11:33.078Z"
   },
   {
    "duration": 2,
    "start_time": "2022-06-25T17:11:33.279Z"
   },
   {
    "duration": 641,
    "start_time": "2022-06-25T17:11:33.479Z"
   },
   {
    "duration": 15,
    "start_time": "2022-06-25T17:11:45.284Z"
   },
   {
    "duration": 38,
    "start_time": "2022-06-25T17:11:58.414Z"
   },
   {
    "duration": 557,
    "start_time": "2022-06-25T17:11:59.650Z"
   },
   {
    "duration": 6,
    "start_time": "2022-06-25T17:13:47.371Z"
   },
   {
    "duration": 1077,
    "start_time": "2022-06-25T17:14:11.521Z"
   },
   {
    "duration": 6,
    "start_time": "2022-06-25T17:14:17.079Z"
   },
   {
    "duration": 3,
    "start_time": "2022-06-25T17:14:23.911Z"
   },
   {
    "duration": 109,
    "start_time": "2022-06-25T17:14:24.044Z"
   },
   {
    "duration": 26,
    "start_time": "2022-06-25T17:14:24.160Z"
   },
   {
    "duration": 3,
    "start_time": "2022-06-25T17:14:25.044Z"
   },
   {
    "duration": 5,
    "start_time": "2022-06-25T17:14:25.213Z"
   },
   {
    "duration": 3,
    "start_time": "2022-06-25T17:14:25.356Z"
   },
   {
    "duration": 34,
    "start_time": "2022-06-25T17:14:25.515Z"
   },
   {
    "duration": 21,
    "start_time": "2022-06-25T17:14:31.751Z"
   },
   {
    "duration": 10,
    "start_time": "2022-06-25T17:14:32.246Z"
   },
   {
    "duration": 12,
    "start_time": "2022-06-25T17:14:33.322Z"
   },
   {
    "duration": 17,
    "start_time": "2022-06-25T17:14:33.511Z"
   },
   {
    "duration": 6,
    "start_time": "2022-06-25T17:14:33.675Z"
   },
   {
    "duration": 7,
    "start_time": "2022-06-25T17:14:33.914Z"
   },
   {
    "duration": 33,
    "start_time": "2022-06-25T17:14:34.315Z"
   },
   {
    "duration": 11,
    "start_time": "2022-06-25T17:14:34.732Z"
   },
   {
    "duration": 7,
    "start_time": "2022-06-25T17:14:35.174Z"
   },
   {
    "duration": 5,
    "start_time": "2022-06-25T17:14:35.474Z"
   },
   {
    "duration": 15,
    "start_time": "2022-06-25T17:14:35.715Z"
   },
   {
    "duration": 23,
    "start_time": "2022-06-25T17:14:36.723Z"
   },
   {
    "duration": 8,
    "start_time": "2022-06-25T17:14:36.944Z"
   },
   {
    "duration": 7,
    "start_time": "2022-06-25T17:14:37.149Z"
   },
   {
    "duration": 58,
    "start_time": "2022-06-25T17:14:37.617Z"
   },
   {
    "duration": 5,
    "start_time": "2022-06-25T17:14:38.574Z"
   },
   {
    "duration": 21,
    "start_time": "2022-06-25T17:14:38.814Z"
   },
   {
    "duration": 167,
    "start_time": "2022-06-25T17:14:40.015Z"
   },
   {
    "duration": 10,
    "start_time": "2022-06-25T17:14:41.149Z"
   },
   {
    "duration": 19,
    "start_time": "2022-06-25T17:14:41.621Z"
   },
   {
    "duration": 243,
    "start_time": "2022-06-25T17:14:41.923Z"
   },
   {
    "duration": 7,
    "start_time": "2022-06-25T17:14:42.885Z"
   },
   {
    "duration": 7,
    "start_time": "2022-06-25T17:15:07.454Z"
   },
   {
    "duration": 518,
    "start_time": "2022-06-25T17:15:43.887Z"
   },
   {
    "duration": 14,
    "start_time": "2022-06-25T17:16:02.438Z"
   },
   {
    "duration": 12,
    "start_time": "2022-06-25T17:16:24.950Z"
   },
   {
    "duration": 12,
    "start_time": "2022-06-25T17:18:41.848Z"
   },
   {
    "duration": 15,
    "start_time": "2022-06-25T17:19:02.546Z"
   },
   {
    "duration": 998,
    "start_time": "2022-06-25T17:19:15.511Z"
   },
   {
    "duration": 834,
    "start_time": "2022-06-25T17:19:33.653Z"
   },
   {
    "duration": 1179,
    "start_time": "2022-06-25T17:19:43.877Z"
   },
   {
    "duration": 85,
    "start_time": "2022-06-25T17:19:45.058Z"
   },
   {
    "duration": 17,
    "start_time": "2022-06-25T17:19:45.144Z"
   },
   {
    "duration": 4,
    "start_time": "2022-06-25T17:19:45.162Z"
   },
   {
    "duration": 22,
    "start_time": "2022-06-25T17:19:45.167Z"
   },
   {
    "duration": 9,
    "start_time": "2022-06-25T17:19:45.191Z"
   },
   {
    "duration": 36,
    "start_time": "2022-06-25T17:19:45.202Z"
   },
   {
    "duration": 8,
    "start_time": "2022-06-25T17:19:45.241Z"
   },
   {
    "duration": 7,
    "start_time": "2022-06-25T17:19:45.251Z"
   },
   {
    "duration": 10,
    "start_time": "2022-06-25T17:19:45.261Z"
   },
   {
    "duration": 66,
    "start_time": "2022-06-25T17:19:45.273Z"
   },
   {
    "duration": 5,
    "start_time": "2022-06-25T17:19:45.341Z"
   },
   {
    "duration": 10,
    "start_time": "2022-06-25T17:19:45.348Z"
   },
   {
    "duration": 8,
    "start_time": "2022-06-25T17:19:45.359Z"
   },
   {
    "duration": 17,
    "start_time": "2022-06-25T17:19:45.368Z"
   },
   {
    "duration": 13,
    "start_time": "2022-06-25T17:19:45.387Z"
   },
   {
    "duration": 5,
    "start_time": "2022-06-25T17:19:45.402Z"
   },
   {
    "duration": 20,
    "start_time": "2022-06-25T17:19:45.409Z"
   },
   {
    "duration": 63,
    "start_time": "2022-06-25T17:19:45.431Z"
   },
   {
    "duration": 5,
    "start_time": "2022-06-25T17:19:45.496Z"
   },
   {
    "duration": 32,
    "start_time": "2022-06-25T17:19:45.503Z"
   },
   {
    "duration": 202,
    "start_time": "2022-06-25T17:19:45.536Z"
   },
   {
    "duration": 15,
    "start_time": "2022-06-25T17:19:45.741Z"
   },
   {
    "duration": 14,
    "start_time": "2022-06-25T17:19:45.758Z"
   },
   {
    "duration": 269,
    "start_time": "2022-06-25T17:19:45.774Z"
   },
   {
    "duration": 6,
    "start_time": "2022-06-25T17:19:46.045Z"
   },
   {
    "duration": 1157,
    "start_time": "2022-06-25T17:19:46.052Z"
   },
   {
    "duration": 0,
    "start_time": "2022-06-25T17:19:47.211Z"
   },
   {
    "duration": 0,
    "start_time": "2022-06-25T17:19:47.213Z"
   },
   {
    "duration": 0,
    "start_time": "2022-06-25T17:19:47.214Z"
   },
   {
    "duration": 0,
    "start_time": "2022-06-25T17:19:47.215Z"
   },
   {
    "duration": 0,
    "start_time": "2022-06-25T17:19:47.216Z"
   },
   {
    "duration": 0,
    "start_time": "2022-06-25T17:19:47.217Z"
   },
   {
    "duration": 0,
    "start_time": "2022-06-25T17:19:47.219Z"
   },
   {
    "duration": 0,
    "start_time": "2022-06-25T17:19:47.219Z"
   },
   {
    "duration": 0,
    "start_time": "2022-06-25T17:19:47.220Z"
   },
   {
    "duration": 0,
    "start_time": "2022-06-25T17:19:47.222Z"
   },
   {
    "duration": 0,
    "start_time": "2022-06-25T17:19:47.223Z"
   },
   {
    "duration": 0,
    "start_time": "2022-06-25T17:19:47.223Z"
   },
   {
    "duration": 0,
    "start_time": "2022-06-25T17:19:47.224Z"
   },
   {
    "duration": 0,
    "start_time": "2022-06-25T17:19:47.226Z"
   },
   {
    "duration": 0,
    "start_time": "2022-06-25T17:19:47.227Z"
   },
   {
    "duration": 0,
    "start_time": "2022-06-25T17:19:47.227Z"
   },
   {
    "duration": 6,
    "start_time": "2022-06-25T17:20:18.563Z"
   },
   {
    "duration": 11,
    "start_time": "2022-06-25T17:20:23.999Z"
   },
   {
    "duration": 5,
    "start_time": "2022-06-25T17:20:34.165Z"
   },
   {
    "duration": 11,
    "start_time": "2022-06-25T17:21:21.875Z"
   },
   {
    "duration": 32,
    "start_time": "2022-06-25T17:21:46.756Z"
   },
   {
    "duration": 22,
    "start_time": "2022-06-25T17:21:57.555Z"
   },
   {
    "duration": 32,
    "start_time": "2022-06-25T17:22:07.632Z"
   },
   {
    "duration": 31,
    "start_time": "2022-06-25T17:22:17.562Z"
   },
   {
    "duration": 305,
    "start_time": "2022-06-25T17:22:41.445Z"
   },
   {
    "duration": 30,
    "start_time": "2022-06-25T17:23:30.959Z"
   },
   {
    "duration": 4,
    "start_time": "2022-06-25T17:24:05.415Z"
   },
   {
    "duration": 4,
    "start_time": "2022-06-25T17:24:23.599Z"
   },
   {
    "duration": 7,
    "start_time": "2022-06-25T17:24:31.041Z"
   },
   {
    "duration": 67,
    "start_time": "2022-06-25T17:24:51.887Z"
   },
   {
    "duration": 58,
    "start_time": "2022-06-25T17:24:54.838Z"
   },
   {
    "duration": 13,
    "start_time": "2022-06-25T17:24:59.006Z"
   },
   {
    "duration": 18,
    "start_time": "2022-06-25T17:25:02.741Z"
   },
   {
    "duration": 20,
    "start_time": "2022-06-25T17:25:19.520Z"
   },
   {
    "duration": 34,
    "start_time": "2022-06-25T17:25:34.115Z"
   },
   {
    "duration": 3,
    "start_time": "2022-06-25T17:27:32.042Z"
   },
   {
    "duration": 9,
    "start_time": "2022-06-25T17:29:57.744Z"
   },
   {
    "duration": 20,
    "start_time": "2022-06-25T17:30:19.521Z"
   },
   {
    "duration": 3,
    "start_time": "2022-06-25T17:30:25.568Z"
   },
   {
    "duration": 9,
    "start_time": "2022-06-25T17:30:25.856Z"
   },
   {
    "duration": 9,
    "start_time": "2022-06-25T17:30:32.049Z"
   },
   {
    "duration": 6,
    "start_time": "2022-06-25T17:30:38.961Z"
   },
   {
    "duration": 3,
    "start_time": "2022-06-25T17:30:39.701Z"
   },
   {
    "duration": 16,
    "start_time": "2022-06-25T17:30:40.022Z"
   },
   {
    "duration": 9,
    "start_time": "2022-06-25T17:31:06.598Z"
   },
   {
    "duration": 5,
    "start_time": "2022-06-25T17:31:12.595Z"
   },
   {
    "duration": 2,
    "start_time": "2022-06-25T17:31:13.272Z"
   },
   {
    "duration": 6,
    "start_time": "2022-06-25T17:36:13.642Z"
   },
   {
    "duration": 7,
    "start_time": "2022-06-25T17:37:03.965Z"
   },
   {
    "duration": 27,
    "start_time": "2022-06-25T17:37:11.540Z"
   },
   {
    "duration": 379,
    "start_time": "2022-06-25T17:37:47.943Z"
   },
   {
    "duration": 42,
    "start_time": "2022-06-25T17:38:21.900Z"
   },
   {
    "duration": 12,
    "start_time": "2022-06-25T17:38:40.389Z"
   },
   {
    "duration": 42,
    "start_time": "2022-06-25T17:39:00.901Z"
   },
   {
    "duration": 120,
    "start_time": "2022-06-25T17:39:08.658Z"
   },
   {
    "duration": 375,
    "start_time": "2022-06-25T17:39:21.419Z"
   },
   {
    "duration": 7,
    "start_time": "2022-06-25T17:39:34.494Z"
   },
   {
    "duration": 30,
    "start_time": "2022-06-25T17:40:59.275Z"
   },
   {
    "duration": 48,
    "start_time": "2022-06-25T17:41:25.029Z"
   },
   {
    "duration": 5,
    "start_time": "2022-06-25T17:41:28.457Z"
   },
   {
    "duration": 32,
    "start_time": "2022-06-25T17:41:29.355Z"
   },
   {
    "duration": 7,
    "start_time": "2022-06-25T17:41:36.184Z"
   },
   {
    "duration": 3,
    "start_time": "2022-06-25T17:41:49.836Z"
   },
   {
    "duration": 127,
    "start_time": "2022-06-25T17:41:50.410Z"
   },
   {
    "duration": 535,
    "start_time": "2022-06-25T17:42:06.762Z"
   },
   {
    "duration": 7,
    "start_time": "2022-06-25T17:43:07.887Z"
   },
   {
    "duration": 10,
    "start_time": "2022-06-25T17:43:08.408Z"
   },
   {
    "duration": 11,
    "start_time": "2022-06-25T17:43:08.701Z"
   },
   {
    "duration": 10,
    "start_time": "2022-06-25T17:43:15.692Z"
   },
   {
    "duration": 265,
    "start_time": "2022-06-25T17:43:16.302Z"
   },
   {
    "duration": 291,
    "start_time": "2022-06-25T17:43:16.637Z"
   },
   {
    "duration": 186,
    "start_time": "2022-06-25T17:43:18.214Z"
   },
   {
    "duration": 373,
    "start_time": "2022-06-25T17:43:47.041Z"
   },
   {
    "duration": 482,
    "start_time": "2022-06-25T17:43:48.354Z"
   },
   {
    "duration": 26,
    "start_time": "2022-06-25T17:43:49.503Z"
   },
   {
    "duration": 382,
    "start_time": "2022-06-25T17:44:33.002Z"
   },
   {
    "duration": 15,
    "start_time": "2022-06-25T17:44:50.135Z"
   },
   {
    "duration": 21,
    "start_time": "2022-06-25T17:45:01.718Z"
   },
   {
    "duration": 32,
    "start_time": "2022-06-25T17:46:32.847Z"
   },
   {
    "duration": 26,
    "start_time": "2022-06-25T17:46:39.419Z"
   },
   {
    "duration": 22,
    "start_time": "2022-06-25T17:46:53.117Z"
   },
   {
    "duration": 15,
    "start_time": "2022-06-25T17:47:00.126Z"
   },
   {
    "duration": 1247,
    "start_time": "2022-06-25T17:47:07.005Z"
   },
   {
    "duration": 87,
    "start_time": "2022-06-25T17:47:08.254Z"
   },
   {
    "duration": 17,
    "start_time": "2022-06-25T17:47:08.342Z"
   },
   {
    "duration": 3,
    "start_time": "2022-06-25T17:47:08.361Z"
   },
   {
    "duration": 21,
    "start_time": "2022-06-25T17:47:08.366Z"
   },
   {
    "duration": 39,
    "start_time": "2022-06-25T17:47:08.389Z"
   },
   {
    "duration": 11,
    "start_time": "2022-06-25T17:47:08.430Z"
   },
   {
    "duration": 26,
    "start_time": "2022-06-25T17:47:08.443Z"
   },
   {
    "duration": 12,
    "start_time": "2022-06-25T17:47:08.471Z"
   },
   {
    "duration": 11,
    "start_time": "2022-06-25T17:47:08.484Z"
   },
   {
    "duration": 32,
    "start_time": "2022-06-25T17:47:08.497Z"
   },
   {
    "duration": 16,
    "start_time": "2022-06-25T17:47:08.532Z"
   },
   {
    "duration": 8,
    "start_time": "2022-06-25T17:47:08.549Z"
   },
   {
    "duration": 8,
    "start_time": "2022-06-25T17:47:08.559Z"
   },
   {
    "duration": 13,
    "start_time": "2022-06-25T17:47:08.568Z"
   },
   {
    "duration": 21,
    "start_time": "2022-06-25T17:47:08.583Z"
   },
   {
    "duration": 7,
    "start_time": "2022-06-25T17:47:08.606Z"
   },
   {
    "duration": 9,
    "start_time": "2022-06-25T17:47:08.615Z"
   },
   {
    "duration": 71,
    "start_time": "2022-06-25T17:47:08.633Z"
   },
   {
    "duration": 5,
    "start_time": "2022-06-25T17:47:08.706Z"
   },
   {
    "duration": 26,
    "start_time": "2022-06-25T17:47:08.712Z"
   },
   {
    "duration": 173,
    "start_time": "2022-06-25T17:47:08.740Z"
   },
   {
    "duration": 23,
    "start_time": "2022-06-25T17:47:08.916Z"
   },
   {
    "duration": 28,
    "start_time": "2022-06-25T17:47:08.943Z"
   },
   {
    "duration": 279,
    "start_time": "2022-06-25T17:47:08.972Z"
   },
   {
    "duration": 6,
    "start_time": "2022-06-25T17:47:09.253Z"
   },
   {
    "duration": 14,
    "start_time": "2022-06-25T17:47:09.261Z"
   },
   {
    "duration": 54,
    "start_time": "2022-06-25T17:47:09.277Z"
   },
   {
    "duration": 324,
    "start_time": "2022-06-25T17:47:09.334Z"
   },
   {
    "duration": 5,
    "start_time": "2022-06-25T17:47:09.660Z"
   },
   {
    "duration": 31,
    "start_time": "2022-06-25T17:47:09.667Z"
   },
   {
    "duration": 31,
    "start_time": "2022-06-25T17:47:09.700Z"
   },
   {
    "duration": 130,
    "start_time": "2022-06-25T17:47:09.734Z"
   },
   {
    "duration": 547,
    "start_time": "2022-06-25T17:47:09.866Z"
   },
   {
    "duration": 11,
    "start_time": "2022-06-25T17:47:10.415Z"
   },
   {
    "duration": 26,
    "start_time": "2022-06-25T17:47:10.428Z"
   },
   {
    "duration": 15,
    "start_time": "2022-06-25T17:47:10.456Z"
   },
   {
    "duration": 15,
    "start_time": "2022-06-25T17:47:10.473Z"
   },
   {
    "duration": 294,
    "start_time": "2022-06-25T17:47:10.490Z"
   },
   {
    "duration": 303,
    "start_time": "2022-06-25T17:47:10.787Z"
   },
   {
    "duration": 201,
    "start_time": "2022-06-25T17:47:11.095Z"
   },
   {
    "duration": 397,
    "start_time": "2022-06-25T17:47:11.298Z"
   },
   {
    "duration": 422,
    "start_time": "2022-06-25T17:47:11.696Z"
   },
   {
    "duration": 382,
    "start_time": "2022-06-25T17:47:12.119Z"
   },
   {
    "duration": 9,
    "start_time": "2022-06-25T17:47:12.502Z"
   },
   {
    "duration": 17,
    "start_time": "2022-06-25T17:47:12.527Z"
   },
   {
    "duration": 11,
    "start_time": "2022-06-25T17:47:39.209Z"
   },
   {
    "duration": 97,
    "start_time": "2022-06-25T18:13:49.520Z"
   },
   {
    "duration": 10,
    "start_time": "2022-06-25T18:16:08.512Z"
   },
   {
    "duration": 1177,
    "start_time": "2022-06-25T18:16:37.627Z"
   },
   {
    "duration": 90,
    "start_time": "2022-06-25T18:16:38.805Z"
   },
   {
    "duration": 16,
    "start_time": "2022-06-25T18:16:38.897Z"
   },
   {
    "duration": 4,
    "start_time": "2022-06-25T18:16:38.915Z"
   },
   {
    "duration": 47,
    "start_time": "2022-06-25T18:16:38.924Z"
   },
   {
    "duration": 14,
    "start_time": "2022-06-25T18:16:38.973Z"
   },
   {
    "duration": 12,
    "start_time": "2022-06-25T18:16:38.990Z"
   },
   {
    "duration": 13,
    "start_time": "2022-06-25T18:16:39.004Z"
   },
   {
    "duration": 11,
    "start_time": "2022-06-25T18:16:39.019Z"
   },
   {
    "duration": 15,
    "start_time": "2022-06-25T18:16:39.034Z"
   },
   {
    "duration": 25,
    "start_time": "2022-06-25T18:16:39.051Z"
   },
   {
    "duration": 5,
    "start_time": "2022-06-25T18:16:39.077Z"
   },
   {
    "duration": 6,
    "start_time": "2022-06-25T18:16:39.084Z"
   },
   {
    "duration": 8,
    "start_time": "2022-06-25T18:16:39.093Z"
   },
   {
    "duration": 18,
    "start_time": "2022-06-25T18:16:39.102Z"
   },
   {
    "duration": 21,
    "start_time": "2022-06-25T18:16:39.125Z"
   },
   {
    "duration": 6,
    "start_time": "2022-06-25T18:16:39.148Z"
   },
   {
    "duration": 8,
    "start_time": "2022-06-25T18:16:39.156Z"
   },
   {
    "duration": 74,
    "start_time": "2022-06-25T18:16:39.165Z"
   },
   {
    "duration": 6,
    "start_time": "2022-06-25T18:16:39.240Z"
   },
   {
    "duration": 19,
    "start_time": "2022-06-25T18:16:39.248Z"
   },
   {
    "duration": 189,
    "start_time": "2022-06-25T18:16:39.268Z"
   },
   {
    "duration": 11,
    "start_time": "2022-06-25T18:16:39.458Z"
   },
   {
    "duration": 12,
    "start_time": "2022-06-25T18:16:39.471Z"
   },
   {
    "duration": 264,
    "start_time": "2022-06-25T18:16:39.484Z"
   },
   {
    "duration": 6,
    "start_time": "2022-06-25T18:16:39.750Z"
   },
   {
    "duration": 7,
    "start_time": "2022-06-25T18:16:39.757Z"
   },
   {
    "duration": 30,
    "start_time": "2022-06-25T18:16:39.765Z"
   },
   {
    "duration": 360,
    "start_time": "2022-06-25T18:16:39.796Z"
   },
   {
    "duration": 5,
    "start_time": "2022-06-25T18:16:40.158Z"
   },
   {
    "duration": 8,
    "start_time": "2022-06-25T18:16:40.164Z"
   },
   {
    "duration": 5,
    "start_time": "2022-06-25T18:16:40.174Z"
   },
   {
    "duration": 150,
    "start_time": "2022-06-25T18:16:40.180Z"
   },
   {
    "duration": 547,
    "start_time": "2022-06-25T18:16:40.331Z"
   },
   {
    "duration": 6,
    "start_time": "2022-06-25T18:16:40.880Z"
   },
   {
    "duration": 8,
    "start_time": "2022-06-25T18:16:40.889Z"
   },
   {
    "duration": 30,
    "start_time": "2022-06-25T18:16:40.899Z"
   },
   {
    "duration": 18,
    "start_time": "2022-06-25T18:16:40.930Z"
   },
   {
    "duration": 320,
    "start_time": "2022-06-25T18:16:40.949Z"
   },
   {
    "duration": 348,
    "start_time": "2022-06-25T18:16:41.272Z"
   },
   {
    "duration": 209,
    "start_time": "2022-06-25T18:16:41.635Z"
   },
   {
    "duration": 435,
    "start_time": "2022-06-25T18:16:41.846Z"
   },
   {
    "duration": 479,
    "start_time": "2022-06-25T18:16:42.283Z"
   },
   {
    "duration": 418,
    "start_time": "2022-06-25T18:16:42.765Z"
   },
   {
    "duration": 9,
    "start_time": "2022-06-25T18:16:43.185Z"
   },
   {
    "duration": 9,
    "start_time": "2022-06-25T18:16:43.196Z"
   },
   {
    "duration": 116,
    "start_time": "2022-06-25T18:17:18.424Z"
   },
   {
    "duration": 58,
    "start_time": "2022-06-25T18:18:03.008Z"
   },
   {
    "duration": 54,
    "start_time": "2022-06-25T18:18:17.054Z"
   },
   {
    "duration": 49,
    "start_time": "2022-06-25T18:18:55.753Z"
   },
   {
    "duration": 9,
    "start_time": "2022-06-25T18:19:03.307Z"
   },
   {
    "duration": 8,
    "start_time": "2022-06-25T18:19:07.500Z"
   },
   {
    "duration": 11,
    "start_time": "2022-06-25T18:19:14.151Z"
   },
   {
    "duration": 23,
    "start_time": "2022-06-25T18:20:58.238Z"
   },
   {
    "duration": 21,
    "start_time": "2022-06-25T18:20:58.925Z"
   },
   {
    "duration": 374,
    "start_time": "2022-06-25T18:20:59.121Z"
   },
   {
    "duration": 6,
    "start_time": "2022-06-25T18:21:06.200Z"
   },
   {
    "duration": 2,
    "start_time": "2022-06-25T18:21:08.012Z"
   },
   {
    "duration": 40,
    "start_time": "2022-06-25T18:21:08.715Z"
   },
   {
    "duration": 348,
    "start_time": "2022-06-25T18:21:09.220Z"
   },
   {
    "duration": 5,
    "start_time": "2022-06-25T18:21:10.908Z"
   },
   {
    "duration": 9,
    "start_time": "2022-06-25T18:21:11.627Z"
   },
   {
    "duration": 3,
    "start_time": "2022-06-25T18:21:11.912Z"
   },
   {
    "duration": 123,
    "start_time": "2022-06-25T18:21:12.378Z"
   },
   {
    "duration": 382,
    "start_time": "2022-06-25T18:21:15.223Z"
   },
   {
    "duration": 8,
    "start_time": "2022-06-25T18:21:16.967Z"
   },
   {
    "duration": 26,
    "start_time": "2022-06-25T18:21:17.212Z"
   },
   {
    "duration": 10,
    "start_time": "2022-06-25T18:21:17.449Z"
   },
   {
    "duration": 9,
    "start_time": "2022-06-25T18:21:20.273Z"
   },
   {
    "duration": 284,
    "start_time": "2022-06-25T18:21:20.715Z"
   },
   {
    "duration": 303,
    "start_time": "2022-06-25T18:21:21.001Z"
   },
   {
    "duration": 190,
    "start_time": "2022-06-25T18:21:22.022Z"
   },
   {
    "duration": 532,
    "start_time": "2022-06-25T18:21:23.924Z"
   },
   {
    "duration": 403,
    "start_time": "2022-06-25T18:21:24.567Z"
   },
   {
    "duration": 391,
    "start_time": "2022-06-25T18:21:25.258Z"
   },
   {
    "duration": 10,
    "start_time": "2022-06-25T18:21:27.147Z"
   },
   {
    "duration": 9,
    "start_time": "2022-06-25T18:21:29.400Z"
   },
   {
    "duration": 50,
    "start_time": "2022-06-25T18:21:43.552Z"
   },
   {
    "duration": 20,
    "start_time": "2022-06-25T18:23:08.343Z"
   },
   {
    "duration": 11,
    "start_time": "2022-06-25T18:25:52.279Z"
   },
   {
    "duration": 9,
    "start_time": "2022-06-25T18:26:00.864Z"
   },
   {
    "duration": 9,
    "start_time": "2022-06-25T18:26:08.807Z"
   },
   {
    "duration": 21,
    "start_time": "2022-06-25T18:26:11.118Z"
   },
   {
    "duration": 13,
    "start_time": "2022-06-25T18:26:26.303Z"
   },
   {
    "duration": 16,
    "start_time": "2022-06-25T18:26:37.219Z"
   },
   {
    "duration": 5,
    "start_time": "2022-06-25T18:27:11.407Z"
   },
   {
    "duration": 10,
    "start_time": "2022-06-25T18:27:30.907Z"
   },
   {
    "duration": 9,
    "start_time": "2022-06-25T18:27:34.715Z"
   },
   {
    "duration": 11,
    "start_time": "2022-06-25T18:27:40.249Z"
   },
   {
    "duration": 11,
    "start_time": "2022-06-25T18:27:42.209Z"
   },
   {
    "duration": 20,
    "start_time": "2022-06-25T18:27:45.032Z"
   },
   {
    "duration": 381,
    "start_time": "2022-06-25T18:27:50.474Z"
   },
   {
    "duration": 9,
    "start_time": "2022-06-25T18:27:52.069Z"
   },
   {
    "duration": 7,
    "start_time": "2022-06-25T18:27:53.756Z"
   },
   {
    "duration": 15,
    "start_time": "2022-06-25T18:34:40.022Z"
   },
   {
    "duration": 9,
    "start_time": "2022-06-25T18:35:11.915Z"
   },
   {
    "duration": 12,
    "start_time": "2022-06-25T18:36:21.468Z"
   },
   {
    "duration": 13,
    "start_time": "2022-06-25T18:36:22.012Z"
   },
   {
    "duration": 6,
    "start_time": "2022-06-25T18:36:23.159Z"
   },
   {
    "duration": 6,
    "start_time": "2022-06-25T18:36:23.414Z"
   },
   {
    "duration": 12,
    "start_time": "2022-06-25T18:36:23.701Z"
   },
   {
    "duration": 4,
    "start_time": "2022-06-25T18:36:24.264Z"
   },
   {
    "duration": 45,
    "start_time": "2022-06-25T21:10:10.277Z"
   },
   {
    "duration": 1398,
    "start_time": "2022-06-25T21:10:16.935Z"
   },
   {
    "duration": 121,
    "start_time": "2022-06-25T21:10:18.336Z"
   },
   {
    "duration": 23,
    "start_time": "2022-06-25T21:10:18.458Z"
   },
   {
    "duration": 9,
    "start_time": "2022-06-25T21:10:18.483Z"
   },
   {
    "duration": 5,
    "start_time": "2022-06-25T21:10:18.495Z"
   },
   {
    "duration": 59,
    "start_time": "2022-06-25T21:10:18.503Z"
   },
   {
    "duration": 18,
    "start_time": "2022-06-25T21:10:18.569Z"
   },
   {
    "duration": 10,
    "start_time": "2022-06-25T21:10:18.589Z"
   },
   {
    "duration": 9,
    "start_time": "2022-06-25T21:10:18.600Z"
   },
   {
    "duration": 6,
    "start_time": "2022-06-25T21:10:18.612Z"
   },
   {
    "duration": 3,
    "start_time": "2022-06-25T21:10:18.620Z"
   },
   {
    "duration": 5,
    "start_time": "2022-06-25T21:10:18.624Z"
   },
   {
    "duration": 7,
    "start_time": "2022-06-25T21:10:18.631Z"
   },
   {
    "duration": 36,
    "start_time": "2022-06-25T21:10:18.639Z"
   },
   {
    "duration": 5,
    "start_time": "2022-06-25T21:10:18.676Z"
   },
   {
    "duration": 11,
    "start_time": "2022-06-25T21:10:18.683Z"
   },
   {
    "duration": 13,
    "start_time": "2022-06-25T21:10:18.696Z"
   },
   {
    "duration": 6,
    "start_time": "2022-06-25T21:10:18.711Z"
   },
   {
    "duration": 9,
    "start_time": "2022-06-25T21:10:18.718Z"
   },
   {
    "duration": 75,
    "start_time": "2022-06-25T21:10:18.728Z"
   },
   {
    "duration": 4,
    "start_time": "2022-06-25T21:10:18.805Z"
   },
   {
    "duration": 17,
    "start_time": "2022-06-25T21:10:18.811Z"
   },
   {
    "duration": 186,
    "start_time": "2022-06-25T21:10:18.830Z"
   },
   {
    "duration": 21,
    "start_time": "2022-06-25T21:10:19.018Z"
   },
   {
    "duration": 23,
    "start_time": "2022-06-25T21:10:19.041Z"
   },
   {
    "duration": 208,
    "start_time": "2022-06-25T21:10:19.066Z"
   },
   {
    "duration": 5,
    "start_time": "2022-06-25T21:10:19.276Z"
   },
   {
    "duration": 9,
    "start_time": "2022-06-25T21:10:19.284Z"
   },
   {
    "duration": 29,
    "start_time": "2022-06-25T21:10:19.294Z"
   },
   {
    "duration": 313,
    "start_time": "2022-06-25T21:10:19.325Z"
   },
   {
    "duration": 3,
    "start_time": "2022-06-25T21:10:19.640Z"
   },
   {
    "duration": 20,
    "start_time": "2022-06-25T21:10:19.645Z"
   },
   {
    "duration": 16,
    "start_time": "2022-06-25T21:10:19.667Z"
   },
   {
    "duration": 114,
    "start_time": "2022-06-25T21:10:19.685Z"
   },
   {
    "duration": 539,
    "start_time": "2022-06-25T21:10:19.801Z"
   },
   {
    "duration": 5,
    "start_time": "2022-06-25T21:10:20.342Z"
   },
   {
    "duration": 23,
    "start_time": "2022-06-25T21:10:20.349Z"
   },
   {
    "duration": 12,
    "start_time": "2022-06-25T21:10:20.375Z"
   },
   {
    "duration": 20,
    "start_time": "2022-06-25T21:10:20.389Z"
   },
   {
    "duration": 269,
    "start_time": "2022-06-25T21:10:20.411Z"
   },
   {
    "duration": 322,
    "start_time": "2022-06-25T21:10:20.682Z"
   },
   {
    "duration": 182,
    "start_time": "2022-06-25T21:10:21.006Z"
   },
   {
    "duration": 388,
    "start_time": "2022-06-25T21:10:21.189Z"
   },
   {
    "duration": 370,
    "start_time": "2022-06-25T21:10:21.579Z"
   },
   {
    "duration": 353,
    "start_time": "2022-06-25T21:10:21.951Z"
   },
   {
    "duration": 8,
    "start_time": "2022-06-25T21:10:22.306Z"
   },
   {
    "duration": 17,
    "start_time": "2022-06-25T21:10:22.316Z"
   },
   {
    "duration": 98,
    "start_time": "2022-06-25T21:11:12.105Z"
   },
   {
    "duration": 5,
    "start_time": "2022-06-25T21:11:18.347Z"
   },
   {
    "duration": 1204,
    "start_time": "2022-06-25T21:11:54.835Z"
   },
   {
    "duration": 86,
    "start_time": "2022-06-25T21:11:56.041Z"
   },
   {
    "duration": 18,
    "start_time": "2022-06-25T21:11:56.129Z"
   },
   {
    "duration": 18,
    "start_time": "2022-06-25T21:11:56.150Z"
   },
   {
    "duration": 16,
    "start_time": "2022-06-25T21:11:56.170Z"
   },
   {
    "duration": 34,
    "start_time": "2022-06-25T21:11:56.188Z"
   },
   {
    "duration": 12,
    "start_time": "2022-06-25T21:11:56.224Z"
   },
   {
    "duration": 17,
    "start_time": "2022-06-25T21:11:56.238Z"
   },
   {
    "duration": 18,
    "start_time": "2022-06-25T21:11:56.256Z"
   },
   {
    "duration": 7,
    "start_time": "2022-06-25T21:11:56.277Z"
   },
   {
    "duration": 13,
    "start_time": "2022-06-25T21:11:56.286Z"
   },
   {
    "duration": 4,
    "start_time": "2022-06-25T21:11:56.300Z"
   },
   {
    "duration": 5,
    "start_time": "2022-06-25T21:11:56.306Z"
   },
   {
    "duration": 9,
    "start_time": "2022-06-25T21:11:56.313Z"
   },
   {
    "duration": 5,
    "start_time": "2022-06-25T21:11:56.324Z"
   },
   {
    "duration": 5,
    "start_time": "2022-06-25T21:11:56.331Z"
   },
   {
    "duration": 12,
    "start_time": "2022-06-25T21:11:56.337Z"
   },
   {
    "duration": 29,
    "start_time": "2022-06-25T21:11:56.350Z"
   },
   {
    "duration": 5,
    "start_time": "2022-06-25T21:11:56.380Z"
   },
   {
    "duration": 7,
    "start_time": "2022-06-25T21:11:56.387Z"
   },
   {
    "duration": 68,
    "start_time": "2022-06-25T21:11:56.396Z"
   },
   {
    "duration": 8,
    "start_time": "2022-06-25T21:11:56.471Z"
   },
   {
    "duration": 25,
    "start_time": "2022-06-25T21:11:56.481Z"
   },
   {
    "duration": 185,
    "start_time": "2022-06-25T21:11:56.507Z"
   },
   {
    "duration": 22,
    "start_time": "2022-06-25T21:11:56.694Z"
   },
   {
    "duration": 10,
    "start_time": "2022-06-25T21:11:56.717Z"
   },
   {
    "duration": 221,
    "start_time": "2022-06-25T21:11:56.729Z"
   },
   {
    "duration": 25,
    "start_time": "2022-06-25T21:11:56.953Z"
   },
   {
    "duration": 3,
    "start_time": "2022-06-25T21:11:56.979Z"
   },
   {
    "duration": 28,
    "start_time": "2022-06-25T21:11:56.984Z"
   },
   {
    "duration": 452,
    "start_time": "2022-06-25T21:11:57.013Z"
   },
   {
    "duration": 10,
    "start_time": "2022-06-25T21:11:57.468Z"
   },
   {
    "duration": 24,
    "start_time": "2022-06-25T21:11:57.480Z"
   },
   {
    "duration": 20,
    "start_time": "2022-06-25T21:11:57.506Z"
   },
   {
    "duration": 141,
    "start_time": "2022-06-25T21:11:57.529Z"
   },
   {
    "duration": 553,
    "start_time": "2022-06-25T21:11:57.674Z"
   },
   {
    "duration": 12,
    "start_time": "2022-06-25T21:11:58.229Z"
   },
   {
    "duration": 26,
    "start_time": "2022-06-25T21:11:58.243Z"
   },
   {
    "duration": 33,
    "start_time": "2022-06-25T21:11:58.270Z"
   },
   {
    "duration": 21,
    "start_time": "2022-06-25T21:11:58.305Z"
   },
   {
    "duration": 336,
    "start_time": "2022-06-25T21:11:58.327Z"
   },
   {
    "duration": 366,
    "start_time": "2022-06-25T21:11:58.666Z"
   },
   {
    "duration": 206,
    "start_time": "2022-06-25T21:11:59.034Z"
   },
   {
    "duration": 440,
    "start_time": "2022-06-25T21:11:59.243Z"
   },
   {
    "duration": 493,
    "start_time": "2022-06-25T21:11:59.685Z"
   },
   {
    "duration": 413,
    "start_time": "2022-06-25T21:12:00.180Z"
   },
   {
    "duration": 8,
    "start_time": "2022-06-25T21:12:00.595Z"
   },
   {
    "duration": 30,
    "start_time": "2022-06-25T21:12:00.605Z"
   },
   {
    "duration": 122,
    "start_time": "2022-06-25T21:14:57.442Z"
   },
   {
    "duration": 4,
    "start_time": "2022-06-25T21:15:04.080Z"
   },
   {
    "duration": 3,
    "start_time": "2022-06-25T21:15:05.689Z"
   },
   {
    "duration": 3,
    "start_time": "2022-06-25T21:15:07.096Z"
   },
   {
    "duration": 15,
    "start_time": "2022-06-25T21:15:07.398Z"
   },
   {
    "duration": 15,
    "start_time": "2022-06-25T21:15:08.768Z"
   },
   {
    "duration": 4,
    "start_time": "2022-06-25T21:15:08.972Z"
   },
   {
    "duration": 4,
    "start_time": "2022-06-25T21:15:09.173Z"
   },
   {
    "duration": 49,
    "start_time": "2022-06-25T21:15:09.996Z"
   },
   {
    "duration": 5,
    "start_time": "2022-06-25T21:15:10.953Z"
   },
   {
    "duration": 23,
    "start_time": "2022-06-25T21:15:11.478Z"
   },
   {
    "duration": 263,
    "start_time": "2022-06-25T21:15:12.300Z"
   },
   {
    "duration": 17,
    "start_time": "2022-06-25T21:15:13.391Z"
   },
   {
    "duration": 16,
    "start_time": "2022-06-25T21:15:13.809Z"
   },
   {
    "duration": 216,
    "start_time": "2022-06-25T21:15:14.240Z"
   },
   {
    "duration": 1178,
    "start_time": "2022-06-25T21:15:27.004Z"
   },
   {
    "duration": 77,
    "start_time": "2022-06-25T21:15:28.184Z"
   },
   {
    "duration": 19,
    "start_time": "2022-06-25T21:15:28.263Z"
   },
   {
    "duration": 9,
    "start_time": "2022-06-25T21:15:28.284Z"
   },
   {
    "duration": 6,
    "start_time": "2022-06-25T21:15:28.294Z"
   },
   {
    "duration": 19,
    "start_time": "2022-06-25T21:15:28.302Z"
   },
   {
    "duration": 13,
    "start_time": "2022-06-25T21:15:28.323Z"
   },
   {
    "duration": 31,
    "start_time": "2022-06-25T21:15:28.337Z"
   },
   {
    "duration": 8,
    "start_time": "2022-06-25T21:15:28.373Z"
   },
   {
    "duration": 4,
    "start_time": "2022-06-25T21:15:28.386Z"
   },
   {
    "duration": 9,
    "start_time": "2022-06-25T21:15:28.392Z"
   },
   {
    "duration": 2,
    "start_time": "2022-06-25T21:15:28.403Z"
   },
   {
    "duration": 5,
    "start_time": "2022-06-25T21:15:28.407Z"
   },
   {
    "duration": 7,
    "start_time": "2022-06-25T21:15:28.414Z"
   },
   {
    "duration": 10,
    "start_time": "2022-06-25T21:15:28.423Z"
   },
   {
    "duration": 38,
    "start_time": "2022-06-25T21:15:28.435Z"
   },
   {
    "duration": 4,
    "start_time": "2022-06-25T21:15:28.475Z"
   },
   {
    "duration": 15,
    "start_time": "2022-06-25T21:15:28.481Z"
   },
   {
    "duration": 14,
    "start_time": "2022-06-25T21:15:28.498Z"
   },
   {
    "duration": 6,
    "start_time": "2022-06-25T21:15:28.513Z"
   },
   {
    "duration": 10,
    "start_time": "2022-06-25T21:15:28.521Z"
   },
   {
    "duration": 68,
    "start_time": "2022-06-25T21:15:28.533Z"
   },
   {
    "duration": 5,
    "start_time": "2022-06-25T21:15:28.603Z"
   },
   {
    "duration": 21,
    "start_time": "2022-06-25T21:15:28.609Z"
   },
   {
    "duration": 178,
    "start_time": "2022-06-25T21:15:28.632Z"
   },
   {
    "duration": 19,
    "start_time": "2022-06-25T21:15:28.812Z"
   },
   {
    "duration": 68,
    "start_time": "2022-06-25T21:15:28.832Z"
   },
   {
    "duration": 219,
    "start_time": "2022-06-25T21:15:28.903Z"
   },
   {
    "duration": 5,
    "start_time": "2022-06-25T21:15:29.124Z"
   },
   {
    "duration": 8,
    "start_time": "2022-06-25T21:15:29.130Z"
   },
   {
    "duration": 39,
    "start_time": "2022-06-25T21:15:29.139Z"
   },
   {
    "duration": 310,
    "start_time": "2022-06-25T21:15:29.180Z"
   },
   {
    "duration": 5,
    "start_time": "2022-06-25T21:15:29.492Z"
   },
   {
    "duration": 10,
    "start_time": "2022-06-25T21:15:29.498Z"
   },
   {
    "duration": 7,
    "start_time": "2022-06-25T21:15:29.509Z"
   },
   {
    "duration": 125,
    "start_time": "2022-06-25T21:15:29.518Z"
   },
   {
    "duration": 510,
    "start_time": "2022-06-25T21:15:29.644Z"
   },
   {
    "duration": 14,
    "start_time": "2022-06-25T21:15:30.158Z"
   },
   {
    "duration": 15,
    "start_time": "2022-06-25T21:15:30.176Z"
   },
   {
    "duration": 20,
    "start_time": "2022-06-25T21:15:30.192Z"
   },
   {
    "duration": 9,
    "start_time": "2022-06-25T21:15:30.214Z"
   },
   {
    "duration": 274,
    "start_time": "2022-06-25T21:15:30.225Z"
   },
   {
    "duration": 309,
    "start_time": "2022-06-25T21:15:30.501Z"
   },
   {
    "duration": 204,
    "start_time": "2022-06-25T21:15:30.812Z"
   },
   {
    "duration": 386,
    "start_time": "2022-06-25T21:15:31.017Z"
   },
   {
    "duration": 389,
    "start_time": "2022-06-25T21:15:31.405Z"
   },
   {
    "duration": 373,
    "start_time": "2022-06-25T21:15:31.796Z"
   },
   {
    "duration": 9,
    "start_time": "2022-06-25T21:15:32.176Z"
   },
   {
    "duration": 9,
    "start_time": "2022-06-25T21:15:32.187Z"
   },
   {
    "duration": 11,
    "start_time": "2022-06-25T21:16:53.041Z"
   },
   {
    "duration": 11,
    "start_time": "2022-06-25T21:16:56.068Z"
   },
   {
    "duration": 6,
    "start_time": "2022-06-25T21:17:20.528Z"
   },
   {
    "duration": 100,
    "start_time": "2022-06-25T21:17:29.134Z"
   },
   {
    "duration": 12,
    "start_time": "2022-06-25T21:17:33.134Z"
   },
   {
    "duration": 12,
    "start_time": "2022-06-25T21:18:40.328Z"
   },
   {
    "duration": 8,
    "start_time": "2022-06-25T21:18:48.246Z"
   },
   {
    "duration": 10,
    "start_time": "2022-06-25T21:19:08.724Z"
   },
   {
    "duration": 21,
    "start_time": "2022-06-25T21:22:06.550Z"
   },
   {
    "duration": 15,
    "start_time": "2022-06-25T21:22:07.601Z"
   },
   {
    "duration": 317,
    "start_time": "2022-06-25T21:22:08.347Z"
   },
   {
    "duration": 7,
    "start_time": "2022-06-25T21:23:10.815Z"
   },
   {
    "duration": 9,
    "start_time": "2022-06-25T21:23:22.476Z"
   },
   {
    "duration": 10,
    "start_time": "2022-06-25T21:23:45.470Z"
   },
   {
    "duration": 3,
    "start_time": "2022-06-25T21:24:24.113Z"
   },
   {
    "duration": 8,
    "start_time": "2022-06-25T21:24:24.928Z"
   },
   {
    "duration": 1200,
    "start_time": "2022-06-25T21:24:50.195Z"
   },
   {
    "duration": 89,
    "start_time": "2022-06-25T21:24:51.397Z"
   },
   {
    "duration": 17,
    "start_time": "2022-06-25T21:24:51.487Z"
   },
   {
    "duration": 10,
    "start_time": "2022-06-25T21:24:51.506Z"
   },
   {
    "duration": 7,
    "start_time": "2022-06-25T21:24:51.517Z"
   },
   {
    "duration": 36,
    "start_time": "2022-06-25T21:24:51.526Z"
   },
   {
    "duration": 21,
    "start_time": "2022-06-25T21:24:51.569Z"
   },
   {
    "duration": 18,
    "start_time": "2022-06-25T21:24:51.592Z"
   },
   {
    "duration": 7,
    "start_time": "2022-06-25T21:24:51.612Z"
   },
   {
    "duration": 9,
    "start_time": "2022-06-25T21:24:51.623Z"
   },
   {
    "duration": 8,
    "start_time": "2022-06-25T21:24:51.634Z"
   },
   {
    "duration": 6,
    "start_time": "2022-06-25T21:24:51.644Z"
   },
   {
    "duration": 40,
    "start_time": "2022-06-25T21:24:51.651Z"
   },
   {
    "duration": 25,
    "start_time": "2022-06-25T21:24:51.693Z"
   },
   {
    "duration": 5,
    "start_time": "2022-06-25T21:24:51.720Z"
   },
   {
    "duration": 13,
    "start_time": "2022-06-25T21:24:51.727Z"
   },
   {
    "duration": 59,
    "start_time": "2022-06-25T21:24:51.742Z"
   },
   {
    "duration": 6,
    "start_time": "2022-06-25T21:24:51.804Z"
   },
   {
    "duration": 18,
    "start_time": "2022-06-25T21:24:51.811Z"
   },
   {
    "duration": 205,
    "start_time": "2022-06-25T21:24:51.831Z"
   },
   {
    "duration": 32,
    "start_time": "2022-06-25T21:24:52.038Z"
   },
   {
    "duration": 12,
    "start_time": "2022-06-25T21:24:52.072Z"
   },
   {
    "duration": 230,
    "start_time": "2022-06-25T21:24:52.086Z"
   },
   {
    "duration": 3,
    "start_time": "2022-06-25T21:24:52.318Z"
   },
   {
    "duration": 43,
    "start_time": "2022-06-25T21:24:52.323Z"
   },
   {
    "duration": 126,
    "start_time": "2022-06-25T21:24:52.368Z"
   },
   {
    "duration": 0,
    "start_time": "2022-06-25T21:24:52.497Z"
   },
   {
    "duration": 0,
    "start_time": "2022-06-25T21:24:52.499Z"
   },
   {
    "duration": 0,
    "start_time": "2022-06-25T21:24:52.500Z"
   },
   {
    "duration": 0,
    "start_time": "2022-06-25T21:24:52.502Z"
   },
   {
    "duration": 0,
    "start_time": "2022-06-25T21:24:52.504Z"
   },
   {
    "duration": 0,
    "start_time": "2022-06-25T21:24:52.505Z"
   },
   {
    "duration": 0,
    "start_time": "2022-06-25T21:24:52.507Z"
   },
   {
    "duration": 0,
    "start_time": "2022-06-25T21:24:52.508Z"
   },
   {
    "duration": 0,
    "start_time": "2022-06-25T21:24:52.509Z"
   },
   {
    "duration": 0,
    "start_time": "2022-06-25T21:24:52.510Z"
   },
   {
    "duration": 1,
    "start_time": "2022-06-25T21:24:52.511Z"
   },
   {
    "duration": 0,
    "start_time": "2022-06-25T21:24:52.513Z"
   },
   {
    "duration": 0,
    "start_time": "2022-06-25T21:24:52.514Z"
   },
   {
    "duration": 0,
    "start_time": "2022-06-25T21:24:52.515Z"
   },
   {
    "duration": 0,
    "start_time": "2022-06-25T21:24:52.516Z"
   },
   {
    "duration": 0,
    "start_time": "2022-06-25T21:24:52.517Z"
   },
   {
    "duration": 0,
    "start_time": "2022-06-25T21:24:52.518Z"
   },
   {
    "duration": 33,
    "start_time": "2022-06-25T21:25:36.300Z"
   },
   {
    "duration": 325,
    "start_time": "2022-06-25T21:25:47.853Z"
   },
   {
    "duration": 403,
    "start_time": "2022-06-25T21:26:09.422Z"
   },
   {
    "duration": 5,
    "start_time": "2022-06-25T21:26:31.951Z"
   },
   {
    "duration": 33,
    "start_time": "2022-06-25T21:26:52.247Z"
   },
   {
    "duration": 153,
    "start_time": "2022-06-25T21:27:13.313Z"
   },
   {
    "duration": 609,
    "start_time": "2022-06-25T21:28:32.839Z"
   },
   {
    "duration": 6,
    "start_time": "2022-06-25T21:30:40.451Z"
   },
   {
    "duration": 3,
    "start_time": "2022-06-25T21:30:54.393Z"
   },
   {
    "duration": 9,
    "start_time": "2022-06-25T21:30:55.092Z"
   },
   {
    "duration": 12,
    "start_time": "2022-06-25T21:31:07.218Z"
   },
   {
    "duration": 11,
    "start_time": "2022-06-25T21:31:16.599Z"
   },
   {
    "duration": 293,
    "start_time": "2022-06-25T21:31:20.477Z"
   },
   {
    "duration": 282,
    "start_time": "2022-06-25T21:31:22.409Z"
   },
   {
    "duration": 212,
    "start_time": "2022-06-25T21:31:37.643Z"
   },
   {
    "duration": 378,
    "start_time": "2022-06-25T21:32:14.031Z"
   },
   {
    "duration": 434,
    "start_time": "2022-06-25T21:32:43.852Z"
   },
   {
    "duration": 488,
    "start_time": "2022-06-25T21:33:19.633Z"
   },
   {
    "duration": 9,
    "start_time": "2022-06-25T21:33:42.447Z"
   },
   {
    "duration": 10,
    "start_time": "2022-06-25T21:33:48.076Z"
   },
   {
    "duration": 16,
    "start_time": "2022-06-25T21:34:07.604Z"
   },
   {
    "duration": 7,
    "start_time": "2022-06-25T21:34:19.783Z"
   },
   {
    "duration": 10,
    "start_time": "2022-06-25T21:34:30.786Z"
   },
   {
    "duration": 1054,
    "start_time": "2022-06-25T21:34:45.880Z"
   },
   {
    "duration": 84,
    "start_time": "2022-06-25T21:34:46.936Z"
   },
   {
    "duration": 15,
    "start_time": "2022-06-25T21:34:47.021Z"
   },
   {
    "duration": 9,
    "start_time": "2022-06-25T21:34:47.038Z"
   },
   {
    "duration": 16,
    "start_time": "2022-06-25T21:34:47.059Z"
   },
   {
    "duration": 30,
    "start_time": "2022-06-25T21:34:47.076Z"
   },
   {
    "duration": 17,
    "start_time": "2022-06-25T21:34:47.108Z"
   },
   {
    "duration": 17,
    "start_time": "2022-06-25T21:34:47.127Z"
   },
   {
    "duration": 32,
    "start_time": "2022-06-25T21:34:47.145Z"
   },
   {
    "duration": 17,
    "start_time": "2022-06-25T21:34:47.183Z"
   },
   {
    "duration": 16,
    "start_time": "2022-06-25T21:34:47.203Z"
   },
   {
    "duration": 12,
    "start_time": "2022-06-25T21:34:47.221Z"
   },
   {
    "duration": 19,
    "start_time": "2022-06-25T21:34:47.235Z"
   },
   {
    "duration": 41,
    "start_time": "2022-06-25T21:34:47.256Z"
   },
   {
    "duration": 12,
    "start_time": "2022-06-25T21:34:47.299Z"
   },
   {
    "duration": 34,
    "start_time": "2022-06-25T21:34:47.312Z"
   },
   {
    "duration": 79,
    "start_time": "2022-06-25T21:34:47.349Z"
   },
   {
    "duration": 8,
    "start_time": "2022-06-25T21:34:47.430Z"
   },
   {
    "duration": 39,
    "start_time": "2022-06-25T21:34:47.440Z"
   },
   {
    "duration": 199,
    "start_time": "2022-06-25T21:34:47.482Z"
   },
   {
    "duration": 22,
    "start_time": "2022-06-25T21:34:47.682Z"
   },
   {
    "duration": 14,
    "start_time": "2022-06-25T21:34:47.705Z"
   },
   {
    "duration": 225,
    "start_time": "2022-06-25T21:34:47.720Z"
   },
   {
    "duration": 3,
    "start_time": "2022-06-25T21:34:47.947Z"
   },
   {
    "duration": 42,
    "start_time": "2022-06-25T21:34:47.952Z"
   },
   {
    "duration": 340,
    "start_time": "2022-06-25T21:34:47.996Z"
   },
   {
    "duration": 5,
    "start_time": "2022-06-25T21:34:48.337Z"
   },
   {
    "duration": 51,
    "start_time": "2022-06-25T21:34:48.345Z"
   },
   {
    "duration": 10,
    "start_time": "2022-06-25T21:34:48.398Z"
   },
   {
    "duration": 167,
    "start_time": "2022-06-25T21:34:48.410Z"
   },
   {
    "duration": 606,
    "start_time": "2022-06-25T21:34:48.579Z"
   },
   {
    "duration": 3,
    "start_time": "2022-06-25T21:34:49.189Z"
   },
   {
    "duration": 15,
    "start_time": "2022-06-25T21:34:49.193Z"
   },
   {
    "duration": 17,
    "start_time": "2022-06-25T21:34:49.209Z"
   },
   {
    "duration": 10,
    "start_time": "2022-06-25T21:34:49.228Z"
   },
   {
    "duration": 338,
    "start_time": "2022-06-25T21:34:49.240Z"
   },
   {
    "duration": 306,
    "start_time": "2022-06-25T21:34:49.580Z"
   },
   {
    "duration": 201,
    "start_time": "2022-06-25T21:34:49.888Z"
   },
   {
    "duration": 393,
    "start_time": "2022-06-25T21:34:50.091Z"
   },
   {
    "duration": 411,
    "start_time": "2022-06-25T21:34:50.486Z"
   },
   {
    "duration": 391,
    "start_time": "2022-06-25T21:34:50.899Z"
   },
   {
    "duration": 8,
    "start_time": "2022-06-25T21:34:51.292Z"
   },
   {
    "duration": 17,
    "start_time": "2022-06-25T21:34:51.301Z"
   },
   {
    "duration": 14,
    "start_time": "2022-06-25T21:36:39.717Z"
   },
   {
    "duration": 11,
    "start_time": "2022-06-25T21:36:40.362Z"
   },
   {
    "duration": 211,
    "start_time": "2022-06-25T21:39:05.592Z"
   },
   {
    "duration": 77,
    "start_time": "2022-06-25T21:43:09.889Z"
   },
   {
    "duration": 29,
    "start_time": "2022-06-25T21:43:24.281Z"
   },
   {
    "duration": 1120,
    "start_time": "2022-06-25T21:43:43.977Z"
   },
   {
    "duration": 83,
    "start_time": "2022-06-25T21:43:45.099Z"
   },
   {
    "duration": 15,
    "start_time": "2022-06-25T21:43:45.184Z"
   },
   {
    "duration": 8,
    "start_time": "2022-06-25T21:43:45.201Z"
   },
   {
    "duration": 3,
    "start_time": "2022-06-25T21:43:45.211Z"
   },
   {
    "duration": 19,
    "start_time": "2022-06-25T21:43:45.216Z"
   },
   {
    "duration": 18,
    "start_time": "2022-06-25T21:43:45.259Z"
   },
   {
    "duration": 10,
    "start_time": "2022-06-25T21:43:45.279Z"
   },
   {
    "duration": 6,
    "start_time": "2022-06-25T21:43:45.291Z"
   },
   {
    "duration": 6,
    "start_time": "2022-06-25T21:43:45.299Z"
   },
   {
    "duration": 11,
    "start_time": "2022-06-25T21:43:45.306Z"
   },
   {
    "duration": 9,
    "start_time": "2022-06-25T21:43:45.319Z"
   },
   {
    "duration": 35,
    "start_time": "2022-06-25T21:43:45.330Z"
   },
   {
    "duration": 20,
    "start_time": "2022-06-25T21:43:45.371Z"
   },
   {
    "duration": 6,
    "start_time": "2022-06-25T21:43:45.393Z"
   },
   {
    "duration": 11,
    "start_time": "2022-06-25T21:43:45.400Z"
   },
   {
    "duration": 62,
    "start_time": "2022-06-25T21:43:45.412Z"
   },
   {
    "duration": 5,
    "start_time": "2022-06-25T21:43:45.477Z"
   },
   {
    "duration": 16,
    "start_time": "2022-06-25T21:43:45.483Z"
   },
   {
    "duration": 177,
    "start_time": "2022-06-25T21:43:45.501Z"
   },
   {
    "duration": 22,
    "start_time": "2022-06-25T21:43:45.679Z"
   },
   {
    "duration": 9,
    "start_time": "2022-06-25T21:43:45.703Z"
   },
   {
    "duration": 216,
    "start_time": "2022-06-25T21:43:45.714Z"
   },
   {
    "duration": 39,
    "start_time": "2022-06-25T21:43:45.932Z"
   },
   {
    "duration": 356,
    "start_time": "2022-06-25T21:43:45.974Z"
   },
   {
    "duration": 131,
    "start_time": "2022-06-25T21:43:46.331Z"
   },
   {
    "duration": 0,
    "start_time": "2022-06-25T21:43:46.464Z"
   },
   {
    "duration": 0,
    "start_time": "2022-06-25T21:43:46.464Z"
   },
   {
    "duration": 0,
    "start_time": "2022-06-25T21:43:46.465Z"
   },
   {
    "duration": 0,
    "start_time": "2022-06-25T21:43:46.466Z"
   },
   {
    "duration": 0,
    "start_time": "2022-06-25T21:43:46.466Z"
   },
   {
    "duration": 0,
    "start_time": "2022-06-25T21:43:46.468Z"
   },
   {
    "duration": 0,
    "start_time": "2022-06-25T21:43:46.469Z"
   },
   {
    "duration": 0,
    "start_time": "2022-06-25T21:43:46.470Z"
   },
   {
    "duration": 0,
    "start_time": "2022-06-25T21:43:46.475Z"
   },
   {
    "duration": 0,
    "start_time": "2022-06-25T21:43:46.479Z"
   },
   {
    "duration": 0,
    "start_time": "2022-06-25T21:43:46.480Z"
   },
   {
    "duration": 0,
    "start_time": "2022-06-25T21:43:46.482Z"
   },
   {
    "duration": 0,
    "start_time": "2022-06-25T21:43:46.483Z"
   },
   {
    "duration": 0,
    "start_time": "2022-06-25T21:43:46.485Z"
   },
   {
    "duration": 0,
    "start_time": "2022-06-25T21:43:46.486Z"
   },
   {
    "duration": 0,
    "start_time": "2022-06-25T21:43:46.487Z"
   },
   {
    "duration": 0,
    "start_time": "2022-06-25T21:43:46.489Z"
   },
   {
    "duration": 5,
    "start_time": "2022-06-25T21:46:07.045Z"
   },
   {
    "duration": 4,
    "start_time": "2022-06-25T21:47:15.130Z"
   },
   {
    "duration": 1193,
    "start_time": "2022-06-25T21:47:21.916Z"
   },
   {
    "duration": 87,
    "start_time": "2022-06-25T21:47:23.112Z"
   },
   {
    "duration": 18,
    "start_time": "2022-06-25T21:47:23.201Z"
   },
   {
    "duration": 9,
    "start_time": "2022-06-25T21:47:23.221Z"
   },
   {
    "duration": 9,
    "start_time": "2022-06-25T21:47:23.232Z"
   },
   {
    "duration": 40,
    "start_time": "2022-06-25T21:47:23.243Z"
   },
   {
    "duration": 16,
    "start_time": "2022-06-25T21:47:23.285Z"
   },
   {
    "duration": 6,
    "start_time": "2022-06-25T21:47:23.302Z"
   },
   {
    "duration": 7,
    "start_time": "2022-06-25T21:47:23.310Z"
   },
   {
    "duration": 9,
    "start_time": "2022-06-25T21:47:23.320Z"
   },
   {
    "duration": 13,
    "start_time": "2022-06-25T21:47:23.331Z"
   },
   {
    "duration": 21,
    "start_time": "2022-06-25T21:47:23.346Z"
   },
   {
    "duration": 19,
    "start_time": "2022-06-25T21:47:23.370Z"
   },
   {
    "duration": 14,
    "start_time": "2022-06-25T21:47:23.390Z"
   },
   {
    "duration": 7,
    "start_time": "2022-06-25T21:47:23.405Z"
   },
   {
    "duration": 16,
    "start_time": "2022-06-25T21:47:23.413Z"
   },
   {
    "duration": 67,
    "start_time": "2022-06-25T21:47:23.431Z"
   },
   {
    "duration": 6,
    "start_time": "2022-06-25T21:47:23.500Z"
   },
   {
    "duration": 16,
    "start_time": "2022-06-25T21:47:23.508Z"
   },
   {
    "duration": 196,
    "start_time": "2022-06-25T21:47:23.526Z"
   },
   {
    "duration": 23,
    "start_time": "2022-06-25T21:47:23.724Z"
   },
   {
    "duration": 25,
    "start_time": "2022-06-25T21:47:23.749Z"
   },
   {
    "duration": 216,
    "start_time": "2022-06-25T21:47:23.776Z"
   },
   {
    "duration": 28,
    "start_time": "2022-06-25T21:47:23.994Z"
   },
   {
    "duration": 366,
    "start_time": "2022-06-25T21:47:24.023Z"
   },
   {
    "duration": 4,
    "start_time": "2022-06-25T21:47:24.391Z"
   },
   {
    "duration": 25,
    "start_time": "2022-06-25T21:47:24.398Z"
   },
   {
    "duration": 2,
    "start_time": "2022-06-25T21:47:24.427Z"
   },
   {
    "duration": 166,
    "start_time": "2022-06-25T21:47:24.431Z"
   },
   {
    "duration": 597,
    "start_time": "2022-06-25T21:47:24.599Z"
   },
   {
    "duration": 3,
    "start_time": "2022-06-25T21:47:25.198Z"
   },
   {
    "duration": 12,
    "start_time": "2022-06-25T21:47:25.203Z"
   },
   {
    "duration": 15,
    "start_time": "2022-06-25T21:47:25.217Z"
   },
   {
    "duration": 38,
    "start_time": "2022-06-25T21:47:25.234Z"
   },
   {
    "duration": 300,
    "start_time": "2022-06-25T21:47:25.273Z"
   },
   {
    "duration": 302,
    "start_time": "2022-06-25T21:47:25.577Z"
   },
   {
    "duration": 191,
    "start_time": "2022-06-25T21:47:25.880Z"
   },
   {
    "duration": 354,
    "start_time": "2022-06-25T21:47:26.074Z"
   },
   {
    "duration": 384,
    "start_time": "2022-06-25T21:47:26.430Z"
   },
   {
    "duration": 456,
    "start_time": "2022-06-25T21:47:26.816Z"
   },
   {
    "duration": 213,
    "start_time": "2022-06-25T21:47:27.276Z"
   },
   {
    "duration": 0,
    "start_time": "2022-06-25T21:47:27.492Z"
   },
   {
    "duration": 0,
    "start_time": "2022-06-25T21:47:27.494Z"
   },
   {
    "duration": 8,
    "start_time": "2022-06-25T21:48:20.681Z"
   },
   {
    "duration": 12,
    "start_time": "2022-06-25T21:48:21.240Z"
   },
   {
    "duration": 8,
    "start_time": "2022-06-25T21:48:34.109Z"
   },
   {
    "duration": 4,
    "start_time": "2022-06-25T21:48:34.488Z"
   },
   {
    "duration": 9,
    "start_time": "2022-06-25T21:48:36.451Z"
   },
   {
    "duration": 10,
    "start_time": "2022-06-25T21:48:36.917Z"
   },
   {
    "duration": 8,
    "start_time": "2022-06-25T21:48:43.895Z"
   },
   {
    "duration": 21,
    "start_time": "2022-06-25T21:48:44.151Z"
   },
   {
    "duration": 6,
    "start_time": "2022-06-25T21:48:52.973Z"
   },
   {
    "duration": 11,
    "start_time": "2022-06-25T21:48:55.002Z"
   },
   {
    "duration": 11,
    "start_time": "2022-06-25T21:48:55.257Z"
   },
   {
    "duration": 1106,
    "start_time": "2022-06-25T21:49:03.289Z"
   },
   {
    "duration": 83,
    "start_time": "2022-06-25T21:49:04.397Z"
   },
   {
    "duration": 15,
    "start_time": "2022-06-25T21:49:04.482Z"
   },
   {
    "duration": 9,
    "start_time": "2022-06-25T21:49:04.499Z"
   },
   {
    "duration": 6,
    "start_time": "2022-06-25T21:49:04.510Z"
   },
   {
    "duration": 55,
    "start_time": "2022-06-25T21:49:04.517Z"
   },
   {
    "duration": 14,
    "start_time": "2022-06-25T21:49:04.573Z"
   },
   {
    "duration": 10,
    "start_time": "2022-06-25T21:49:04.589Z"
   },
   {
    "duration": 9,
    "start_time": "2022-06-25T21:49:04.601Z"
   },
   {
    "duration": 6,
    "start_time": "2022-06-25T21:49:04.613Z"
   },
   {
    "duration": 6,
    "start_time": "2022-06-25T21:49:04.620Z"
   },
   {
    "duration": 5,
    "start_time": "2022-06-25T21:49:04.627Z"
   },
   {
    "duration": 28,
    "start_time": "2022-06-25T21:49:04.633Z"
   },
   {
    "duration": 21,
    "start_time": "2022-06-25T21:49:04.665Z"
   },
   {
    "duration": 4,
    "start_time": "2022-06-25T21:49:04.688Z"
   },
   {
    "duration": 8,
    "start_time": "2022-06-25T21:49:04.693Z"
   },
   {
    "duration": 65,
    "start_time": "2022-06-25T21:49:04.703Z"
   },
   {
    "duration": 7,
    "start_time": "2022-06-25T21:49:04.771Z"
   },
   {
    "duration": 18,
    "start_time": "2022-06-25T21:49:04.779Z"
   },
   {
    "duration": 175,
    "start_time": "2022-06-25T21:49:04.798Z"
   },
   {
    "duration": 23,
    "start_time": "2022-06-25T21:49:04.975Z"
   },
   {
    "duration": 11,
    "start_time": "2022-06-25T21:49:05.000Z"
   },
   {
    "duration": 218,
    "start_time": "2022-06-25T21:49:05.013Z"
   },
   {
    "duration": 44,
    "start_time": "2022-06-25T21:49:05.233Z"
   },
   {
    "duration": 324,
    "start_time": "2022-06-25T21:49:05.279Z"
   },
   {
    "duration": 5,
    "start_time": "2022-06-25T21:49:05.604Z"
   },
   {
    "duration": 35,
    "start_time": "2022-06-25T21:49:05.610Z"
   },
   {
    "duration": 11,
    "start_time": "2022-06-25T21:49:05.649Z"
   },
   {
    "duration": 141,
    "start_time": "2022-06-25T21:49:05.666Z"
   },
   {
    "duration": 582,
    "start_time": "2022-06-25T21:49:05.808Z"
   },
   {
    "duration": 2,
    "start_time": "2022-06-25T21:49:06.392Z"
   },
   {
    "duration": 9,
    "start_time": "2022-06-25T21:49:06.396Z"
   },
   {
    "duration": 12,
    "start_time": "2022-06-25T21:49:06.407Z"
   },
   {
    "duration": 16,
    "start_time": "2022-06-25T21:49:06.421Z"
   },
   {
    "duration": 292,
    "start_time": "2022-06-25T21:49:06.439Z"
   },
   {
    "duration": 294,
    "start_time": "2022-06-25T21:49:06.733Z"
   },
   {
    "duration": 209,
    "start_time": "2022-06-25T21:49:07.028Z"
   },
   {
    "duration": 484,
    "start_time": "2022-06-25T21:49:07.239Z"
   },
   {
    "duration": 388,
    "start_time": "2022-06-25T21:49:07.725Z"
   },
   {
    "duration": 378,
    "start_time": "2022-06-25T21:49:08.115Z"
   },
   {
    "duration": 8,
    "start_time": "2022-06-25T21:49:08.495Z"
   },
   {
    "duration": 8,
    "start_time": "2022-06-25T21:49:08.505Z"
   },
   {
    "duration": 12,
    "start_time": "2022-06-25T21:49:08.514Z"
   },
   {
    "duration": 9,
    "start_time": "2022-06-25T21:49:08.528Z"
   },
   {
    "duration": 4,
    "start_time": "2022-06-25T21:49:43.325Z"
   },
   {
    "duration": 1135,
    "start_time": "2022-06-25T21:49:48.449Z"
   },
   {
    "duration": 86,
    "start_time": "2022-06-25T21:49:49.586Z"
   },
   {
    "duration": 15,
    "start_time": "2022-06-25T21:49:49.674Z"
   },
   {
    "duration": 9,
    "start_time": "2022-06-25T21:49:49.691Z"
   },
   {
    "duration": 6,
    "start_time": "2022-06-25T21:49:49.701Z"
   },
   {
    "duration": 22,
    "start_time": "2022-06-25T21:49:49.708Z"
   },
   {
    "duration": 38,
    "start_time": "2022-06-25T21:49:49.732Z"
   },
   {
    "duration": 10,
    "start_time": "2022-06-25T21:49:49.772Z"
   },
   {
    "duration": 7,
    "start_time": "2022-06-25T21:49:49.784Z"
   },
   {
    "duration": 5,
    "start_time": "2022-06-25T21:49:49.793Z"
   },
   {
    "duration": 6,
    "start_time": "2022-06-25T21:49:49.800Z"
   },
   {
    "duration": 6,
    "start_time": "2022-06-25T21:49:49.808Z"
   },
   {
    "duration": 11,
    "start_time": "2022-06-25T21:49:49.816Z"
   },
   {
    "duration": 33,
    "start_time": "2022-06-25T21:49:49.829Z"
   },
   {
    "duration": 10,
    "start_time": "2022-06-25T21:49:49.863Z"
   },
   {
    "duration": 8,
    "start_time": "2022-06-25T21:49:49.875Z"
   },
   {
    "duration": 51,
    "start_time": "2022-06-25T21:49:49.885Z"
   },
   {
    "duration": 6,
    "start_time": "2022-06-25T21:49:49.938Z"
   },
   {
    "duration": 32,
    "start_time": "2022-06-25T21:49:49.945Z"
   },
   {
    "duration": 169,
    "start_time": "2022-06-25T21:49:49.978Z"
   },
   {
    "duration": 24,
    "start_time": "2022-06-25T21:49:50.149Z"
   },
   {
    "duration": 9,
    "start_time": "2022-06-25T21:49:50.175Z"
   },
   {
    "duration": 208,
    "start_time": "2022-06-25T21:49:50.185Z"
   },
   {
    "duration": 24,
    "start_time": "2022-06-25T21:49:50.395Z"
   },
   {
    "duration": 354,
    "start_time": "2022-06-25T21:49:50.420Z"
   },
   {
    "duration": 4,
    "start_time": "2022-06-25T21:49:50.776Z"
   },
   {
    "duration": 27,
    "start_time": "2022-06-25T21:49:50.781Z"
   },
   {
    "duration": 2,
    "start_time": "2022-06-25T21:49:50.811Z"
   },
   {
    "duration": 151,
    "start_time": "2022-06-25T21:49:50.814Z"
   },
   {
    "duration": 568,
    "start_time": "2022-06-25T21:49:50.967Z"
   },
   {
    "duration": 2,
    "start_time": "2022-06-25T21:49:51.537Z"
   },
   {
    "duration": 30,
    "start_time": "2022-06-25T21:49:51.541Z"
   },
   {
    "duration": 9,
    "start_time": "2022-06-25T21:49:51.573Z"
   },
   {
    "duration": 18,
    "start_time": "2022-06-25T21:49:51.584Z"
   },
   {
    "duration": 275,
    "start_time": "2022-06-25T21:49:51.603Z"
   },
   {
    "duration": 307,
    "start_time": "2022-06-25T21:49:51.880Z"
   },
   {
    "duration": 194,
    "start_time": "2022-06-25T21:49:52.189Z"
   },
   {
    "duration": 406,
    "start_time": "2022-06-25T21:49:52.385Z"
   },
   {
    "duration": 414,
    "start_time": "2022-06-25T21:49:52.792Z"
   },
   {
    "duration": 377,
    "start_time": "2022-06-25T21:49:53.208Z"
   },
   {
    "duration": 7,
    "start_time": "2022-06-25T21:49:53.587Z"
   },
   {
    "duration": 7,
    "start_time": "2022-06-25T21:49:53.596Z"
   },
   {
    "duration": 11,
    "start_time": "2022-06-25T21:49:53.605Z"
   },
   {
    "duration": 7,
    "start_time": "2022-06-25T21:49:53.617Z"
   },
   {
    "duration": 10,
    "start_time": "2022-06-25T21:50:03.756Z"
   },
   {
    "duration": 4,
    "start_time": "2022-06-25T21:50:04.022Z"
   },
   {
    "duration": 9,
    "start_time": "2022-06-25T21:50:05.486Z"
   },
   {
    "duration": 5,
    "start_time": "2022-06-25T21:50:06.014Z"
   },
   {
    "duration": 9,
    "start_time": "2022-06-25T21:50:13.473Z"
   },
   {
    "duration": 4,
    "start_time": "2022-06-25T21:50:13.886Z"
   },
   {
    "duration": 7,
    "start_time": "2022-06-25T21:52:26.811Z"
   },
   {
    "duration": 6,
    "start_time": "2022-06-25T21:52:27.420Z"
   },
   {
    "duration": 102,
    "start_time": "2022-06-25T21:53:11.428Z"
   },
   {
    "duration": 13,
    "start_time": "2022-06-25T21:53:11.958Z"
   },
   {
    "duration": 6,
    "start_time": "2022-06-25T21:53:21.007Z"
   },
   {
    "duration": 4,
    "start_time": "2022-06-25T21:53:22.024Z"
   },
   {
    "duration": 6,
    "start_time": "2022-06-25T21:53:40.786Z"
   },
   {
    "duration": 66,
    "start_time": "2022-06-25T21:54:17.104Z"
   },
   {
    "duration": 1110,
    "start_time": "2022-06-25T21:55:41.627Z"
   },
   {
    "duration": 84,
    "start_time": "2022-06-25T21:55:42.739Z"
   },
   {
    "duration": 15,
    "start_time": "2022-06-25T21:55:42.824Z"
   },
   {
    "duration": 8,
    "start_time": "2022-06-25T21:55:42.841Z"
   },
   {
    "duration": 5,
    "start_time": "2022-06-25T21:55:42.873Z"
   },
   {
    "duration": 27,
    "start_time": "2022-06-25T21:55:42.879Z"
   },
   {
    "duration": 18,
    "start_time": "2022-06-25T21:55:42.908Z"
   },
   {
    "duration": 13,
    "start_time": "2022-06-25T21:55:42.928Z"
   },
   {
    "duration": 7,
    "start_time": "2022-06-25T21:55:42.943Z"
   },
   {
    "duration": 12,
    "start_time": "2022-06-25T21:55:42.952Z"
   },
   {
    "duration": 20,
    "start_time": "2022-06-25T21:55:42.966Z"
   },
   {
    "duration": 5,
    "start_time": "2022-06-25T21:55:42.988Z"
   },
   {
    "duration": 15,
    "start_time": "2022-06-25T21:55:42.994Z"
   },
   {
    "duration": 17,
    "start_time": "2022-06-25T21:55:43.011Z"
   },
   {
    "duration": 15,
    "start_time": "2022-06-25T21:55:43.030Z"
   },
   {
    "duration": 20,
    "start_time": "2022-06-25T21:55:43.047Z"
   },
   {
    "duration": 58,
    "start_time": "2022-06-25T21:55:43.076Z"
   },
   {
    "duration": 5,
    "start_time": "2022-06-25T21:55:43.136Z"
   },
   {
    "duration": 21,
    "start_time": "2022-06-25T21:55:43.143Z"
   },
   {
    "duration": 173,
    "start_time": "2022-06-25T21:55:43.166Z"
   },
   {
    "duration": 34,
    "start_time": "2022-06-25T21:55:43.341Z"
   },
   {
    "duration": 11,
    "start_time": "2022-06-25T21:55:43.377Z"
   },
   {
    "duration": 208,
    "start_time": "2022-06-25T21:55:43.390Z"
   },
   {
    "duration": 24,
    "start_time": "2022-06-25T21:55:43.601Z"
   },
   {
    "duration": 374,
    "start_time": "2022-06-25T21:55:43.627Z"
   },
   {
    "duration": 5,
    "start_time": "2022-06-25T21:55:44.003Z"
   },
   {
    "duration": 26,
    "start_time": "2022-06-25T21:55:44.010Z"
   },
   {
    "duration": 8,
    "start_time": "2022-06-25T21:55:44.058Z"
   },
   {
    "duration": 145,
    "start_time": "2022-06-25T21:55:44.068Z"
   },
   {
    "duration": 579,
    "start_time": "2022-06-25T21:55:44.215Z"
   },
   {
    "duration": 3,
    "start_time": "2022-06-25T21:55:44.796Z"
   },
   {
    "duration": 14,
    "start_time": "2022-06-25T21:55:44.800Z"
   },
   {
    "duration": 11,
    "start_time": "2022-06-25T21:55:44.815Z"
   },
   {
    "duration": 10,
    "start_time": "2022-06-25T21:55:44.830Z"
   },
   {
    "duration": 290,
    "start_time": "2022-06-25T21:55:44.842Z"
   },
   {
    "duration": 271,
    "start_time": "2022-06-25T21:55:45.133Z"
   },
   {
    "duration": 188,
    "start_time": "2022-06-25T21:55:45.406Z"
   },
   {
    "duration": 403,
    "start_time": "2022-06-25T21:55:45.596Z"
   },
   {
    "duration": 392,
    "start_time": "2022-06-25T21:55:46.001Z"
   },
   {
    "duration": 404,
    "start_time": "2022-06-25T21:55:46.395Z"
   },
   {
    "duration": 7,
    "start_time": "2022-06-25T21:55:46.801Z"
   },
   {
    "duration": 11,
    "start_time": "2022-06-25T21:55:46.809Z"
   },
   {
    "duration": 9,
    "start_time": "2022-06-25T21:55:46.822Z"
   },
   {
    "duration": 7,
    "start_time": "2022-06-25T21:55:46.833Z"
   },
   {
    "duration": 391,
    "start_time": "2022-06-25T21:57:05.632Z"
   },
   {
    "duration": 284,
    "start_time": "2022-06-25T21:57:53.942Z"
   },
   {
    "duration": 277,
    "start_time": "2022-06-25T21:58:04.873Z"
   },
   {
    "duration": 293,
    "start_time": "2022-06-25T21:58:24.409Z"
   },
   {
    "duration": 115,
    "start_time": "2022-06-25T21:58:36.361Z"
   },
   {
    "duration": 15,
    "start_time": "2022-06-25T21:58:46.620Z"
   },
   {
    "duration": 1193,
    "start_time": "2022-06-25T21:58:58.658Z"
   },
   {
    "duration": 82,
    "start_time": "2022-06-25T21:58:59.855Z"
   },
   {
    "duration": 15,
    "start_time": "2022-06-25T21:58:59.939Z"
   },
   {
    "duration": 19,
    "start_time": "2022-06-25T21:58:59.956Z"
   },
   {
    "duration": 9,
    "start_time": "2022-06-25T21:58:59.976Z"
   },
   {
    "duration": 22,
    "start_time": "2022-06-25T21:58:59.987Z"
   },
   {
    "duration": 14,
    "start_time": "2022-06-25T21:59:00.011Z"
   },
   {
    "duration": 9,
    "start_time": "2022-06-25T21:59:00.027Z"
   },
   {
    "duration": 7,
    "start_time": "2022-06-25T21:59:00.037Z"
   },
   {
    "duration": 14,
    "start_time": "2022-06-25T21:59:00.060Z"
   },
   {
    "duration": 18,
    "start_time": "2022-06-25T21:59:00.075Z"
   },
   {
    "duration": 11,
    "start_time": "2022-06-25T21:59:00.095Z"
   },
   {
    "duration": 15,
    "start_time": "2022-06-25T21:59:00.107Z"
   },
   {
    "duration": 15,
    "start_time": "2022-06-25T21:59:00.123Z"
   },
   {
    "duration": 13,
    "start_time": "2022-06-25T21:59:00.139Z"
   },
   {
    "duration": 25,
    "start_time": "2022-06-25T21:59:00.154Z"
   },
   {
    "duration": 53,
    "start_time": "2022-06-25T21:59:00.180Z"
   },
   {
    "duration": 5,
    "start_time": "2022-06-25T21:59:00.235Z"
   },
   {
    "duration": 25,
    "start_time": "2022-06-25T21:59:00.241Z"
   },
   {
    "duration": 184,
    "start_time": "2022-06-25T21:59:00.267Z"
   },
   {
    "duration": 39,
    "start_time": "2022-06-25T21:59:00.453Z"
   },
   {
    "duration": 18,
    "start_time": "2022-06-25T21:59:00.494Z"
   },
   {
    "duration": 218,
    "start_time": "2022-06-25T21:59:00.513Z"
   },
   {
    "duration": 42,
    "start_time": "2022-06-25T21:59:00.733Z"
   },
   {
    "duration": 112,
    "start_time": "2022-06-25T21:59:00.777Z"
   },
   {
    "duration": 0,
    "start_time": "2022-06-25T21:59:00.892Z"
   },
   {
    "duration": 0,
    "start_time": "2022-06-25T21:59:00.894Z"
   },
   {
    "duration": 0,
    "start_time": "2022-06-25T21:59:00.895Z"
   },
   {
    "duration": 0,
    "start_time": "2022-06-25T21:59:00.897Z"
   },
   {
    "duration": 0,
    "start_time": "2022-06-25T21:59:00.898Z"
   },
   {
    "duration": 0,
    "start_time": "2022-06-25T21:59:00.900Z"
   },
   {
    "duration": 1,
    "start_time": "2022-06-25T21:59:00.901Z"
   },
   {
    "duration": 0,
    "start_time": "2022-06-25T21:59:00.903Z"
   },
   {
    "duration": 0,
    "start_time": "2022-06-25T21:59:00.905Z"
   },
   {
    "duration": 0,
    "start_time": "2022-06-25T21:59:00.906Z"
   },
   {
    "duration": 0,
    "start_time": "2022-06-25T21:59:00.907Z"
   },
   {
    "duration": 0,
    "start_time": "2022-06-25T21:59:00.909Z"
   },
   {
    "duration": 0,
    "start_time": "2022-06-25T21:59:00.910Z"
   },
   {
    "duration": 0,
    "start_time": "2022-06-25T21:59:00.912Z"
   },
   {
    "duration": 0,
    "start_time": "2022-06-25T21:59:00.914Z"
   },
   {
    "duration": 0,
    "start_time": "2022-06-25T21:59:00.915Z"
   },
   {
    "duration": 0,
    "start_time": "2022-06-25T21:59:00.916Z"
   },
   {
    "duration": 0,
    "start_time": "2022-06-25T21:59:00.918Z"
   },
   {
    "duration": 0,
    "start_time": "2022-06-25T21:59:00.960Z"
   },
   {
    "duration": 60,
    "start_time": "2022-06-25T21:59:12.912Z"
   },
   {
    "duration": 68,
    "start_time": "2022-06-25T21:59:19.813Z"
   },
   {
    "duration": 23,
    "start_time": "2022-06-25T21:59:23.656Z"
   },
   {
    "duration": 21,
    "start_time": "2022-06-25T21:59:30.471Z"
   },
   {
    "duration": 13,
    "start_time": "2022-06-25T21:59:49.913Z"
   },
   {
    "duration": 27,
    "start_time": "2022-06-25T21:59:58.776Z"
   },
   {
    "duration": 3,
    "start_time": "2022-06-25T22:02:14.626Z"
   },
   {
    "duration": 10,
    "start_time": "2022-06-25T22:02:15.241Z"
   },
   {
    "duration": 23,
    "start_time": "2022-06-25T22:02:16.035Z"
   },
   {
    "duration": 167,
    "start_time": "2022-06-25T22:02:26.019Z"
   },
   {
    "duration": 145,
    "start_time": "2022-06-25T22:02:42.573Z"
   },
   {
    "duration": 30,
    "start_time": "2022-06-25T22:02:43.362Z"
   },
   {
    "duration": 1579,
    "start_time": "2022-06-25T22:02:58.251Z"
   },
   {
    "duration": 0,
    "start_time": "2022-06-25T22:02:59.832Z"
   },
   {
    "duration": 1140,
    "start_time": "2022-06-25T22:03:26.790Z"
   },
   {
    "duration": 0,
    "start_time": "2022-06-25T22:03:27.932Z"
   },
   {
    "duration": 914,
    "start_time": "2022-06-25T22:03:58.510Z"
   },
   {
    "duration": 0,
    "start_time": "2022-06-25T22:03:59.426Z"
   },
   {
    "duration": 29,
    "start_time": "2022-06-25T22:04:31.800Z"
   },
   {
    "duration": 24,
    "start_time": "2022-06-25T22:04:32.320Z"
   },
   {
    "duration": 1689,
    "start_time": "2022-06-25T22:04:45.447Z"
   },
   {
    "duration": 0,
    "start_time": "2022-06-25T22:04:47.138Z"
   },
   {
    "duration": 1623,
    "start_time": "2022-06-25T22:05:03.605Z"
   },
   {
    "duration": 0,
    "start_time": "2022-06-25T22:05:05.230Z"
   },
   {
    "duration": 31,
    "start_time": "2022-06-25T22:10:57.050Z"
   },
   {
    "duration": 301,
    "start_time": "2022-06-25T22:11:12.200Z"
   },
   {
    "duration": 323,
    "start_time": "2022-06-25T22:11:20.321Z"
   },
   {
    "duration": 1126,
    "start_time": "2022-06-25T22:11:28.229Z"
   },
   {
    "duration": 93,
    "start_time": "2022-06-25T22:11:29.357Z"
   },
   {
    "duration": 22,
    "start_time": "2022-06-25T22:11:29.453Z"
   },
   {
    "duration": 16,
    "start_time": "2022-06-25T22:11:29.477Z"
   },
   {
    "duration": 5,
    "start_time": "2022-06-25T22:11:29.495Z"
   },
   {
    "duration": 31,
    "start_time": "2022-06-25T22:11:29.502Z"
   },
   {
    "duration": 14,
    "start_time": "2022-06-25T22:11:29.535Z"
   },
   {
    "duration": 12,
    "start_time": "2022-06-25T22:11:29.560Z"
   },
   {
    "duration": 8,
    "start_time": "2022-06-25T22:11:29.577Z"
   },
   {
    "duration": 6,
    "start_time": "2022-06-25T22:11:29.587Z"
   },
   {
    "duration": 9,
    "start_time": "2022-06-25T22:11:29.594Z"
   },
   {
    "duration": 9,
    "start_time": "2022-06-25T22:11:29.605Z"
   },
   {
    "duration": 12,
    "start_time": "2022-06-25T22:11:29.615Z"
   },
   {
    "duration": 15,
    "start_time": "2022-06-25T22:11:29.629Z"
   },
   {
    "duration": 25,
    "start_time": "2022-06-25T22:11:29.646Z"
   },
   {
    "duration": 13,
    "start_time": "2022-06-25T22:11:29.673Z"
   },
   {
    "duration": 53,
    "start_time": "2022-06-25T22:11:29.688Z"
   },
   {
    "duration": 6,
    "start_time": "2022-06-25T22:11:29.742Z"
   },
   {
    "duration": 23,
    "start_time": "2022-06-25T22:11:29.749Z"
   },
   {
    "duration": 156,
    "start_time": "2022-06-25T22:11:29.774Z"
   },
   {
    "duration": 34,
    "start_time": "2022-06-25T22:11:29.932Z"
   },
   {
    "duration": 11,
    "start_time": "2022-06-25T22:11:29.968Z"
   },
   {
    "duration": 213,
    "start_time": "2022-06-25T22:11:29.980Z"
   },
   {
    "duration": 24,
    "start_time": "2022-06-25T22:11:30.195Z"
   },
   {
    "duration": 363,
    "start_time": "2022-06-25T22:11:30.220Z"
   },
   {
    "duration": 4,
    "start_time": "2022-06-25T22:11:30.585Z"
   },
   {
    "duration": 39,
    "start_time": "2022-06-25T22:11:30.591Z"
   },
   {
    "duration": 6,
    "start_time": "2022-06-25T22:11:30.633Z"
   },
   {
    "duration": 172,
    "start_time": "2022-06-25T22:11:30.640Z"
   },
   {
    "duration": 562,
    "start_time": "2022-06-25T22:11:30.814Z"
   },
   {
    "duration": 3,
    "start_time": "2022-06-25T22:11:31.377Z"
   },
   {
    "duration": 28,
    "start_time": "2022-06-25T22:11:31.381Z"
   },
   {
    "duration": 16,
    "start_time": "2022-06-25T22:11:31.411Z"
   },
   {
    "duration": 12,
    "start_time": "2022-06-25T22:11:31.428Z"
   },
   {
    "duration": 286,
    "start_time": "2022-06-25T22:11:31.441Z"
   },
   {
    "duration": 281,
    "start_time": "2022-06-25T22:11:31.728Z"
   },
   {
    "duration": 183,
    "start_time": "2022-06-25T22:11:32.010Z"
   },
   {
    "duration": 381,
    "start_time": "2022-06-25T22:11:32.195Z"
   },
   {
    "duration": 370,
    "start_time": "2022-06-25T22:11:32.578Z"
   },
   {
    "duration": 408,
    "start_time": "2022-06-25T22:11:32.950Z"
   },
   {
    "duration": 6,
    "start_time": "2022-06-25T22:11:33.367Z"
   },
   {
    "duration": 8,
    "start_time": "2022-06-25T22:11:33.375Z"
   },
   {
    "duration": 11,
    "start_time": "2022-06-25T22:11:33.385Z"
   },
   {
    "duration": 6,
    "start_time": "2022-06-25T22:11:33.398Z"
   },
   {
    "duration": 356,
    "start_time": "2022-06-25T22:12:17.426Z"
   },
   {
    "duration": 1176,
    "start_time": "2022-06-25T22:12:25.263Z"
   },
   {
    "duration": 91,
    "start_time": "2022-06-25T22:12:26.442Z"
   },
   {
    "duration": 15,
    "start_time": "2022-06-25T22:12:26.534Z"
   },
   {
    "duration": 21,
    "start_time": "2022-06-25T22:12:26.551Z"
   },
   {
    "duration": 5,
    "start_time": "2022-06-25T22:12:26.573Z"
   },
   {
    "duration": 23,
    "start_time": "2022-06-25T22:12:26.579Z"
   },
   {
    "duration": 18,
    "start_time": "2022-06-25T22:12:26.603Z"
   },
   {
    "duration": 10,
    "start_time": "2022-06-25T22:12:26.623Z"
   },
   {
    "duration": 7,
    "start_time": "2022-06-25T22:12:26.635Z"
   },
   {
    "duration": 7,
    "start_time": "2022-06-25T22:12:26.644Z"
   },
   {
    "duration": 19,
    "start_time": "2022-06-25T22:12:26.652Z"
   },
   {
    "duration": 23,
    "start_time": "2022-06-25T22:12:26.673Z"
   },
   {
    "duration": 11,
    "start_time": "2022-06-25T22:12:26.698Z"
   },
   {
    "duration": 19,
    "start_time": "2022-06-25T22:12:26.711Z"
   },
   {
    "duration": 6,
    "start_time": "2022-06-25T22:12:26.732Z"
   },
   {
    "duration": 17,
    "start_time": "2022-06-25T22:12:26.740Z"
   },
   {
    "duration": 63,
    "start_time": "2022-06-25T22:12:26.759Z"
   },
   {
    "duration": 5,
    "start_time": "2022-06-25T22:12:26.824Z"
   },
   {
    "duration": 14,
    "start_time": "2022-06-25T22:12:26.831Z"
   },
   {
    "duration": 166,
    "start_time": "2022-06-25T22:12:26.846Z"
   },
   {
    "duration": 21,
    "start_time": "2022-06-25T22:12:27.013Z"
   },
   {
    "duration": 9,
    "start_time": "2022-06-25T22:12:27.036Z"
   },
   {
    "duration": 238,
    "start_time": "2022-06-25T22:12:27.067Z"
   },
   {
    "duration": 31,
    "start_time": "2022-06-25T22:12:27.306Z"
   },
   {
    "duration": 374,
    "start_time": "2022-06-25T22:12:27.339Z"
   },
   {
    "duration": 4,
    "start_time": "2022-06-25T22:12:27.715Z"
   },
   {
    "duration": 51,
    "start_time": "2022-06-25T22:12:27.720Z"
   },
   {
    "duration": 3,
    "start_time": "2022-06-25T22:12:27.774Z"
   },
   {
    "duration": 128,
    "start_time": "2022-06-25T22:12:27.778Z"
   },
   {
    "duration": 545,
    "start_time": "2022-06-25T22:12:27.908Z"
   },
   {
    "duration": 13,
    "start_time": "2022-06-25T22:12:28.459Z"
   },
   {
    "duration": 10,
    "start_time": "2022-06-25T22:12:28.473Z"
   },
   {
    "duration": 16,
    "start_time": "2022-06-25T22:12:28.485Z"
   },
   {
    "duration": 14,
    "start_time": "2022-06-25T22:12:28.503Z"
   },
   {
    "duration": 270,
    "start_time": "2022-06-25T22:12:28.519Z"
   },
   {
    "duration": 290,
    "start_time": "2022-06-25T22:12:28.790Z"
   },
   {
    "duration": 192,
    "start_time": "2022-06-25T22:12:29.082Z"
   },
   {
    "duration": 359,
    "start_time": "2022-06-25T22:12:29.275Z"
   },
   {
    "duration": 371,
    "start_time": "2022-06-25T22:12:29.636Z"
   },
   {
    "duration": 382,
    "start_time": "2022-06-25T22:12:30.009Z"
   },
   {
    "duration": 6,
    "start_time": "2022-06-25T22:12:30.393Z"
   },
   {
    "duration": 21,
    "start_time": "2022-06-25T22:12:30.401Z"
   },
   {
    "duration": 10,
    "start_time": "2022-06-25T22:12:30.423Z"
   },
   {
    "duration": 11,
    "start_time": "2022-06-25T22:12:30.435Z"
   },
   {
    "duration": 134,
    "start_time": "2022-06-26T10:54:43.524Z"
   },
   {
    "duration": 1242,
    "start_time": "2022-06-27T08:35:42.486Z"
   },
   {
    "duration": 102,
    "start_time": "2022-06-27T08:35:43.730Z"
   },
   {
    "duration": 14,
    "start_time": "2022-06-27T08:35:43.834Z"
   },
   {
    "duration": 12,
    "start_time": "2022-06-27T08:35:43.850Z"
   },
   {
    "duration": 5,
    "start_time": "2022-06-27T08:35:43.863Z"
   },
   {
    "duration": 21,
    "start_time": "2022-06-27T08:35:43.869Z"
   },
   {
    "duration": 13,
    "start_time": "2022-06-27T08:35:43.892Z"
   },
   {
    "duration": 20,
    "start_time": "2022-06-27T08:35:43.907Z"
   },
   {
    "duration": 10,
    "start_time": "2022-06-27T08:35:43.928Z"
   },
   {
    "duration": 8,
    "start_time": "2022-06-27T08:35:43.941Z"
   },
   {
    "duration": 7,
    "start_time": "2022-06-27T08:35:43.950Z"
   },
   {
    "duration": 6,
    "start_time": "2022-06-27T08:35:43.958Z"
   },
   {
    "duration": 12,
    "start_time": "2022-06-27T08:35:43.966Z"
   },
   {
    "duration": 15,
    "start_time": "2022-06-27T08:35:43.979Z"
   },
   {
    "duration": 30,
    "start_time": "2022-06-27T08:35:43.996Z"
   },
   {
    "duration": 6,
    "start_time": "2022-06-27T08:35:44.028Z"
   },
   {
    "duration": 55,
    "start_time": "2022-06-27T08:35:44.035Z"
   },
   {
    "duration": 5,
    "start_time": "2022-06-27T08:35:44.091Z"
   },
   {
    "duration": 29,
    "start_time": "2022-06-27T08:35:44.098Z"
   },
   {
    "duration": 190,
    "start_time": "2022-06-27T08:35:44.129Z"
   },
   {
    "duration": 20,
    "start_time": "2022-06-27T08:35:44.320Z"
   },
   {
    "duration": 20,
    "start_time": "2022-06-27T08:35:44.342Z"
   },
   {
    "duration": 199,
    "start_time": "2022-06-27T08:35:44.364Z"
   },
   {
    "duration": 24,
    "start_time": "2022-06-27T08:35:44.564Z"
   },
   {
    "duration": 335,
    "start_time": "2022-06-27T08:35:44.589Z"
   },
   {
    "duration": 5,
    "start_time": "2022-06-27T08:35:44.926Z"
   },
   {
    "duration": 28,
    "start_time": "2022-06-27T08:35:44.932Z"
   },
   {
    "duration": 11,
    "start_time": "2022-06-27T08:35:44.963Z"
   },
   {
    "duration": 148,
    "start_time": "2022-06-27T08:35:44.976Z"
   },
   {
    "duration": 567,
    "start_time": "2022-06-27T08:35:45.125Z"
   },
   {
    "duration": 7,
    "start_time": "2022-06-27T08:35:45.694Z"
   },
   {
    "duration": 21,
    "start_time": "2022-06-27T08:35:45.702Z"
   },
   {
    "duration": 19,
    "start_time": "2022-06-27T08:35:45.727Z"
   },
   {
    "duration": 302,
    "start_time": "2022-06-27T08:35:45.748Z"
   },
   {
    "duration": 307,
    "start_time": "2022-06-27T08:35:46.052Z"
   },
   {
    "duration": 180,
    "start_time": "2022-06-27T08:35:46.360Z"
   },
   {
    "duration": 387,
    "start_time": "2022-06-27T08:35:46.542Z"
   },
   {
    "duration": 401,
    "start_time": "2022-06-27T08:35:46.931Z"
   },
   {
    "duration": 414,
    "start_time": "2022-06-27T08:35:47.334Z"
   },
   {
    "duration": 7,
    "start_time": "2022-06-27T08:35:47.750Z"
   },
   {
    "duration": 8,
    "start_time": "2022-06-27T08:35:47.758Z"
   },
   {
    "duration": 10,
    "start_time": "2022-06-27T08:35:47.768Z"
   },
   {
    "duration": 11,
    "start_time": "2022-06-27T08:35:47.780Z"
   },
   {
    "duration": 24,
    "start_time": "2022-06-27T08:36:32.287Z"
   },
   {
    "duration": 431,
    "start_time": "2022-06-27T08:36:33.040Z"
   },
   {
    "duration": 6,
    "start_time": "2022-06-27T08:36:38.944Z"
   },
   {
    "duration": 5,
    "start_time": "2022-06-27T08:36:39.206Z"
   },
   {
    "duration": 7,
    "start_time": "2022-06-27T08:36:41.255Z"
   },
   {
    "duration": 4,
    "start_time": "2022-06-27T08:36:41.763Z"
   },
   {
    "duration": 1060,
    "start_time": "2022-06-27T08:36:53.452Z"
   },
   {
    "duration": 69,
    "start_time": "2022-06-27T08:36:54.513Z"
   },
   {
    "duration": 16,
    "start_time": "2022-06-27T08:36:54.584Z"
   },
   {
    "duration": 8,
    "start_time": "2022-06-27T08:36:54.602Z"
   },
   {
    "duration": 3,
    "start_time": "2022-06-27T08:36:54.627Z"
   },
   {
    "duration": 33,
    "start_time": "2022-06-27T08:36:54.631Z"
   },
   {
    "duration": 14,
    "start_time": "2022-06-27T08:36:54.666Z"
   },
   {
    "duration": 6,
    "start_time": "2022-06-27T08:36:54.682Z"
   },
   {
    "duration": 8,
    "start_time": "2022-06-27T08:36:54.690Z"
   },
   {
    "duration": 13,
    "start_time": "2022-06-27T08:36:54.700Z"
   },
   {
    "duration": 15,
    "start_time": "2022-06-27T08:36:54.714Z"
   },
   {
    "duration": 7,
    "start_time": "2022-06-27T08:36:54.731Z"
   },
   {
    "duration": 20,
    "start_time": "2022-06-27T08:36:54.739Z"
   },
   {
    "duration": 17,
    "start_time": "2022-06-27T08:36:54.761Z"
   },
   {
    "duration": 9,
    "start_time": "2022-06-27T08:36:54.779Z"
   },
   {
    "duration": 11,
    "start_time": "2022-06-27T08:36:54.790Z"
   },
   {
    "duration": 50,
    "start_time": "2022-06-27T08:36:54.802Z"
   },
   {
    "duration": 6,
    "start_time": "2022-06-27T08:36:54.854Z"
   },
   {
    "duration": 20,
    "start_time": "2022-06-27T08:36:54.861Z"
   },
   {
    "duration": 187,
    "start_time": "2022-06-27T08:36:54.883Z"
   },
   {
    "duration": 23,
    "start_time": "2022-06-27T08:36:55.072Z"
   },
   {
    "duration": 12,
    "start_time": "2022-06-27T08:36:55.097Z"
   },
   {
    "duration": 219,
    "start_time": "2022-06-27T08:36:55.127Z"
   },
   {
    "duration": 24,
    "start_time": "2022-06-27T08:36:55.349Z"
   },
   {
    "duration": 369,
    "start_time": "2022-06-27T08:36:55.375Z"
   },
   {
    "duration": 5,
    "start_time": "2022-06-27T08:36:55.746Z"
   },
   {
    "duration": 49,
    "start_time": "2022-06-27T08:36:55.753Z"
   },
   {
    "duration": 35,
    "start_time": "2022-06-27T08:36:55.806Z"
   },
   {
    "duration": 158,
    "start_time": "2022-06-27T08:36:55.844Z"
   },
   {
    "duration": 559,
    "start_time": "2022-06-27T08:36:56.004Z"
   },
   {
    "duration": 7,
    "start_time": "2022-06-27T08:36:56.565Z"
   },
   {
    "duration": 17,
    "start_time": "2022-06-27T08:36:56.573Z"
   },
   {
    "duration": 10,
    "start_time": "2022-06-27T08:36:56.592Z"
   },
   {
    "duration": 297,
    "start_time": "2022-06-27T08:36:56.603Z"
   },
   {
    "duration": 277,
    "start_time": "2022-06-27T08:36:56.902Z"
   },
   {
    "duration": 186,
    "start_time": "2022-06-27T08:36:57.181Z"
   },
   {
    "duration": 397,
    "start_time": "2022-06-27T08:36:57.368Z"
   },
   {
    "duration": 403,
    "start_time": "2022-06-27T08:36:57.766Z"
   },
   {
    "duration": 24,
    "start_time": "2022-06-27T08:36:58.171Z"
   },
   {
    "duration": 396,
    "start_time": "2022-06-27T08:36:58.196Z"
   },
   {
    "duration": 7,
    "start_time": "2022-06-27T08:36:58.594Z"
   },
   {
    "duration": 12,
    "start_time": "2022-06-27T08:36:58.602Z"
   },
   {
    "duration": 15,
    "start_time": "2022-06-27T08:36:58.616Z"
   },
   {
    "duration": 11,
    "start_time": "2022-06-27T08:36:58.633Z"
   },
   {
    "duration": 286,
    "start_time": "2022-06-27T08:38:31.685Z"
   },
   {
    "duration": 457,
    "start_time": "2022-06-27T08:38:32.504Z"
   },
   {
    "duration": 7,
    "start_time": "2022-06-27T08:38:38.195Z"
   },
   {
    "duration": 4,
    "start_time": "2022-06-27T08:38:38.428Z"
   },
   {
    "duration": 239,
    "start_time": "2022-06-27T08:38:51.568Z"
   },
   {
    "duration": 218,
    "start_time": "2022-06-27T08:38:58.234Z"
   },
   {
    "duration": 368,
    "start_time": "2022-06-27T08:38:58.965Z"
   },
   {
    "duration": 9,
    "start_time": "2022-06-27T08:43:10.651Z"
   },
   {
    "duration": 398,
    "start_time": "2022-06-27T08:43:11.192Z"
   },
   {
    "duration": 8,
    "start_time": "2022-06-27T08:43:20.131Z"
   },
   {
    "duration": 248,
    "start_time": "2022-06-27T08:43:29.902Z"
   },
   {
    "duration": 354,
    "start_time": "2022-06-27T08:43:30.614Z"
   },
   {
    "duration": 4,
    "start_time": "2022-06-27T08:43:48.050Z"
   },
   {
    "duration": 379,
    "start_time": "2022-06-27T08:43:51.753Z"
   },
   {
    "duration": 7,
    "start_time": "2022-06-27T08:44:45.071Z"
   },
   {
    "duration": 5,
    "start_time": "2022-06-27T08:44:45.416Z"
   },
   {
    "duration": 7,
    "start_time": "2022-06-27T08:44:47.177Z"
   },
   {
    "duration": 4,
    "start_time": "2022-06-27T08:44:47.660Z"
   },
   {
    "duration": 1121,
    "start_time": "2022-06-27T08:45:28.112Z"
   },
   {
    "duration": 68,
    "start_time": "2022-06-27T08:45:29.234Z"
   },
   {
    "duration": 15,
    "start_time": "2022-06-27T08:45:29.304Z"
   },
   {
    "duration": 13,
    "start_time": "2022-06-27T08:45:29.321Z"
   },
   {
    "duration": 4,
    "start_time": "2022-06-27T08:45:29.335Z"
   },
   {
    "duration": 21,
    "start_time": "2022-06-27T08:45:29.341Z"
   },
   {
    "duration": 13,
    "start_time": "2022-06-27T08:45:29.364Z"
   },
   {
    "duration": 12,
    "start_time": "2022-06-27T08:45:29.379Z"
   },
   {
    "duration": 6,
    "start_time": "2022-06-27T08:45:29.392Z"
   },
   {
    "duration": 30,
    "start_time": "2022-06-27T08:45:29.400Z"
   },
   {
    "duration": 8,
    "start_time": "2022-06-27T08:45:29.431Z"
   },
   {
    "duration": 7,
    "start_time": "2022-06-27T08:45:29.440Z"
   },
   {
    "duration": 13,
    "start_time": "2022-06-27T08:45:29.449Z"
   },
   {
    "duration": 15,
    "start_time": "2022-06-27T08:45:29.464Z"
   },
   {
    "duration": 5,
    "start_time": "2022-06-27T08:45:29.482Z"
   },
   {
    "duration": 12,
    "start_time": "2022-06-27T08:45:29.489Z"
   },
   {
    "duration": 73,
    "start_time": "2022-06-27T08:45:29.502Z"
   },
   {
    "duration": 6,
    "start_time": "2022-06-27T08:45:29.576Z"
   },
   {
    "duration": 21,
    "start_time": "2022-06-27T08:45:29.584Z"
   },
   {
    "duration": 169,
    "start_time": "2022-06-27T08:45:29.606Z"
   },
   {
    "duration": 20,
    "start_time": "2022-06-27T08:45:29.776Z"
   },
   {
    "duration": 9,
    "start_time": "2022-06-27T08:45:29.798Z"
   },
   {
    "duration": 225,
    "start_time": "2022-06-27T08:45:29.809Z"
   },
   {
    "duration": 26,
    "start_time": "2022-06-27T08:45:30.036Z"
   },
   {
    "duration": 340,
    "start_time": "2022-06-27T08:45:30.063Z"
   },
   {
    "duration": 5,
    "start_time": "2022-06-27T08:45:30.405Z"
   },
   {
    "duration": 36,
    "start_time": "2022-06-27T08:45:30.411Z"
   },
   {
    "duration": 128,
    "start_time": "2022-06-27T08:45:30.450Z"
   },
   {
    "duration": 241,
    "start_time": "2022-06-27T08:45:30.580Z"
   },
   {
    "duration": 580,
    "start_time": "2022-06-27T08:45:30.826Z"
   },
   {
    "duration": 7,
    "start_time": "2022-06-27T08:45:31.407Z"
   },
   {
    "duration": 18,
    "start_time": "2022-06-27T08:45:31.416Z"
   },
   {
    "duration": 23,
    "start_time": "2022-06-27T08:45:31.436Z"
   },
   {
    "duration": 333,
    "start_time": "2022-06-27T08:45:31.461Z"
   },
   {
    "duration": 277,
    "start_time": "2022-06-27T08:45:31.795Z"
   },
   {
    "duration": 175,
    "start_time": "2022-06-27T08:45:32.074Z"
   },
   {
    "duration": 370,
    "start_time": "2022-06-27T08:45:32.250Z"
   },
   {
    "duration": 387,
    "start_time": "2022-06-27T08:45:32.626Z"
   },
   {
    "duration": 12,
    "start_time": "2022-06-27T08:45:33.014Z"
   },
   {
    "duration": 379,
    "start_time": "2022-06-27T08:45:33.028Z"
   },
   {
    "duration": 7,
    "start_time": "2022-06-27T08:45:33.409Z"
   },
   {
    "duration": 5,
    "start_time": "2022-06-27T08:45:33.427Z"
   },
   {
    "duration": 9,
    "start_time": "2022-06-27T08:45:33.434Z"
   },
   {
    "duration": 6,
    "start_time": "2022-06-27T08:45:33.445Z"
   },
   {
    "duration": 303,
    "start_time": "2022-06-27T08:46:17.285Z"
   },
   {
    "duration": 490,
    "start_time": "2022-06-27T08:46:17.928Z"
   },
   {
    "duration": 50,
    "start_time": "2022-06-27T08:46:26.921Z"
   },
   {
    "duration": 383,
    "start_time": "2022-06-27T08:46:27.477Z"
   },
   {
    "duration": 225,
    "start_time": "2022-06-27T08:46:32.044Z"
   },
   {
    "duration": 367,
    "start_time": "2022-06-27T08:46:32.645Z"
   },
   {
    "duration": 266,
    "start_time": "2022-06-27T08:46:49.434Z"
   },
   {
    "duration": 214,
    "start_time": "2022-06-27T08:46:57.628Z"
   },
   {
    "duration": 1092,
    "start_time": "2022-06-27T08:49:42.779Z"
   },
   {
    "duration": 71,
    "start_time": "2022-06-27T08:49:43.873Z"
   },
   {
    "duration": 17,
    "start_time": "2022-06-27T08:49:43.946Z"
   },
   {
    "duration": 10,
    "start_time": "2022-06-27T08:49:43.966Z"
   },
   {
    "duration": 7,
    "start_time": "2022-06-27T08:49:43.977Z"
   },
   {
    "duration": 43,
    "start_time": "2022-06-27T08:49:43.985Z"
   },
   {
    "duration": 14,
    "start_time": "2022-06-27T08:49:44.030Z"
   },
   {
    "duration": 8,
    "start_time": "2022-06-27T08:49:44.045Z"
   },
   {
    "duration": 10,
    "start_time": "2022-06-27T08:49:44.054Z"
   },
   {
    "duration": 4,
    "start_time": "2022-06-27T08:49:44.066Z"
   },
   {
    "duration": 6,
    "start_time": "2022-06-27T08:49:44.072Z"
   },
   {
    "duration": 8,
    "start_time": "2022-06-27T08:49:44.079Z"
   },
   {
    "duration": 14,
    "start_time": "2022-06-27T08:49:44.089Z"
   },
   {
    "duration": 27,
    "start_time": "2022-06-27T08:49:44.105Z"
   },
   {
    "duration": 9,
    "start_time": "2022-06-27T08:49:44.134Z"
   },
   {
    "duration": 11,
    "start_time": "2022-06-27T08:49:44.144Z"
   },
   {
    "duration": 49,
    "start_time": "2022-06-27T08:49:44.156Z"
   },
   {
    "duration": 19,
    "start_time": "2022-06-27T08:49:44.207Z"
   },
   {
    "duration": 13,
    "start_time": "2022-06-27T08:49:44.228Z"
   },
   {
    "duration": 175,
    "start_time": "2022-06-27T08:49:44.243Z"
   },
   {
    "duration": 26,
    "start_time": "2022-06-27T08:49:44.426Z"
   },
   {
    "duration": 10,
    "start_time": "2022-06-27T08:49:44.455Z"
   },
   {
    "duration": 215,
    "start_time": "2022-06-27T08:49:44.467Z"
   },
   {
    "duration": 25,
    "start_time": "2022-06-27T08:49:44.684Z"
   },
   {
    "duration": 346,
    "start_time": "2022-06-27T08:49:44.710Z"
   },
   {
    "duration": 5,
    "start_time": "2022-06-27T08:49:45.058Z"
   },
   {
    "duration": 34,
    "start_time": "2022-06-27T08:49:45.064Z"
   },
   {
    "duration": 25,
    "start_time": "2022-06-27T08:49:45.102Z"
   },
   {
    "duration": 169,
    "start_time": "2022-06-27T08:49:45.129Z"
   },
   {
    "duration": 578,
    "start_time": "2022-06-27T08:49:45.299Z"
   },
   {
    "duration": 9,
    "start_time": "2022-06-27T08:49:45.879Z"
   },
   {
    "duration": 18,
    "start_time": "2022-06-27T08:49:45.889Z"
   },
   {
    "duration": 13,
    "start_time": "2022-06-27T08:49:45.909Z"
   },
   {
    "duration": 268,
    "start_time": "2022-06-27T08:49:45.926Z"
   },
   {
    "duration": 276,
    "start_time": "2022-06-27T08:49:46.196Z"
   },
   {
    "duration": 176,
    "start_time": "2022-06-27T08:49:46.473Z"
   },
   {
    "duration": 353,
    "start_time": "2022-06-27T08:49:46.651Z"
   },
   {
    "duration": 368,
    "start_time": "2022-06-27T08:49:47.005Z"
   },
   {
    "duration": 382,
    "start_time": "2022-06-27T08:49:47.375Z"
   },
   {
    "duration": 6,
    "start_time": "2022-06-27T08:49:47.759Z"
   },
   {
    "duration": 9,
    "start_time": "2022-06-27T08:49:47.766Z"
   },
   {
    "duration": 13,
    "start_time": "2022-06-27T08:49:47.776Z"
   },
   {
    "duration": 8,
    "start_time": "2022-06-27T08:49:47.790Z"
   },
   {
    "duration": 1097,
    "start_time": "2022-06-27T08:54:34.326Z"
   },
   {
    "duration": 71,
    "start_time": "2022-06-27T08:54:35.425Z"
   },
   {
    "duration": 17,
    "start_time": "2022-06-27T08:54:35.498Z"
   },
   {
    "duration": 9,
    "start_time": "2022-06-27T08:54:35.528Z"
   },
   {
    "duration": 3,
    "start_time": "2022-06-27T08:54:35.539Z"
   },
   {
    "duration": 23,
    "start_time": "2022-06-27T08:54:35.544Z"
   },
   {
    "duration": 12,
    "start_time": "2022-06-27T08:54:35.569Z"
   },
   {
    "duration": 10,
    "start_time": "2022-06-27T08:54:35.583Z"
   },
   {
    "duration": 9,
    "start_time": "2022-06-27T08:54:35.594Z"
   },
   {
    "duration": 5,
    "start_time": "2022-06-27T08:54:35.626Z"
   },
   {
    "duration": 11,
    "start_time": "2022-06-27T08:54:35.633Z"
   },
   {
    "duration": 12,
    "start_time": "2022-06-27T08:54:35.646Z"
   },
   {
    "duration": 29,
    "start_time": "2022-06-27T08:54:35.660Z"
   },
   {
    "duration": 21,
    "start_time": "2022-06-27T08:54:35.691Z"
   },
   {
    "duration": 7,
    "start_time": "2022-06-27T08:54:35.714Z"
   },
   {
    "duration": 11,
    "start_time": "2022-06-27T08:54:35.723Z"
   },
   {
    "duration": 54,
    "start_time": "2022-06-27T08:54:35.736Z"
   },
   {
    "duration": 6,
    "start_time": "2022-06-27T08:54:35.791Z"
   },
   {
    "duration": 14,
    "start_time": "2022-06-27T08:54:35.798Z"
   },
   {
    "duration": 180,
    "start_time": "2022-06-27T08:54:35.814Z"
   },
   {
    "duration": 18,
    "start_time": "2022-06-27T08:54:35.995Z"
   },
   {
    "duration": 20,
    "start_time": "2022-06-27T08:54:36.014Z"
   },
   {
    "duration": 217,
    "start_time": "2022-06-27T08:54:36.035Z"
   },
   {
    "duration": 33,
    "start_time": "2022-06-27T08:54:36.254Z"
   },
   {
    "duration": 361,
    "start_time": "2022-06-27T08:54:36.289Z"
   },
   {
    "duration": 5,
    "start_time": "2022-06-27T08:54:36.652Z"
   },
   {
    "duration": 30,
    "start_time": "2022-06-27T08:54:36.658Z"
   },
   {
    "duration": 7,
    "start_time": "2022-06-27T08:54:36.692Z"
   },
   {
    "duration": 155,
    "start_time": "2022-06-27T08:54:36.701Z"
   },
   {
    "duration": 562,
    "start_time": "2022-06-27T08:54:36.857Z"
   },
   {
    "duration": 9,
    "start_time": "2022-06-27T08:54:37.421Z"
   },
   {
    "duration": 14,
    "start_time": "2022-06-27T08:54:37.432Z"
   },
   {
    "duration": 13,
    "start_time": "2022-06-27T08:54:37.447Z"
   },
   {
    "duration": 275,
    "start_time": "2022-06-27T08:54:37.462Z"
   },
   {
    "duration": 264,
    "start_time": "2022-06-27T08:54:37.739Z"
   },
   {
    "duration": 174,
    "start_time": "2022-06-27T08:54:38.005Z"
   },
   {
    "duration": 361,
    "start_time": "2022-06-27T08:54:38.181Z"
   },
   {
    "duration": 374,
    "start_time": "2022-06-27T08:54:38.544Z"
   },
   {
    "duration": 393,
    "start_time": "2022-06-27T08:54:38.920Z"
   },
   {
    "duration": 7,
    "start_time": "2022-06-27T08:54:39.315Z"
   },
   {
    "duration": 11,
    "start_time": "2022-06-27T08:54:39.324Z"
   },
   {
    "duration": 9,
    "start_time": "2022-06-27T08:54:39.337Z"
   },
   {
    "duration": 10,
    "start_time": "2022-06-27T08:54:39.348Z"
   },
   {
    "duration": 1455,
    "start_time": "2022-06-27T11:01:27.808Z"
   },
   {
    "duration": 121,
    "start_time": "2022-06-27T11:01:29.265Z"
   },
   {
    "duration": 25,
    "start_time": "2022-06-27T11:01:29.388Z"
   },
   {
    "duration": 13,
    "start_time": "2022-06-27T11:01:29.415Z"
   },
   {
    "duration": 18,
    "start_time": "2022-06-27T11:01:29.431Z"
   },
   {
    "duration": 21,
    "start_time": "2022-06-27T11:01:29.451Z"
   },
   {
    "duration": 14,
    "start_time": "2022-06-27T11:01:29.474Z"
   },
   {
    "duration": 10,
    "start_time": "2022-06-27T11:01:29.490Z"
   },
   {
    "duration": 17,
    "start_time": "2022-06-27T11:01:29.502Z"
   },
   {
    "duration": 32,
    "start_time": "2022-06-27T11:01:29.522Z"
   },
   {
    "duration": 6,
    "start_time": "2022-06-27T11:01:29.556Z"
   },
   {
    "duration": 6,
    "start_time": "2022-06-27T11:01:29.564Z"
   },
   {
    "duration": 15,
    "start_time": "2022-06-27T11:01:29.572Z"
   },
   {
    "duration": 14,
    "start_time": "2022-06-27T11:01:29.590Z"
   },
   {
    "duration": 6,
    "start_time": "2022-06-27T11:01:29.606Z"
   },
   {
    "duration": 42,
    "start_time": "2022-06-27T11:01:29.614Z"
   },
   {
    "duration": 53,
    "start_time": "2022-06-27T11:01:29.658Z"
   },
   {
    "duration": 8,
    "start_time": "2022-06-27T11:01:29.713Z"
   },
   {
    "duration": 35,
    "start_time": "2022-06-27T11:01:29.723Z"
   },
   {
    "duration": 191,
    "start_time": "2022-06-27T11:01:29.759Z"
   },
   {
    "duration": 21,
    "start_time": "2022-06-27T11:01:29.952Z"
   },
   {
    "duration": 11,
    "start_time": "2022-06-27T11:01:29.975Z"
   },
   {
    "duration": 258,
    "start_time": "2022-06-27T11:01:29.988Z"
   },
   {
    "duration": 40,
    "start_time": "2022-06-27T11:01:30.248Z"
   },
   {
    "duration": 405,
    "start_time": "2022-06-27T11:01:30.291Z"
   },
   {
    "duration": 4,
    "start_time": "2022-06-27T11:01:30.699Z"
   },
   {
    "duration": 45,
    "start_time": "2022-06-27T11:01:30.705Z"
   },
   {
    "duration": 16,
    "start_time": "2022-06-27T11:01:30.752Z"
   },
   {
    "duration": 206,
    "start_time": "2022-06-27T11:01:30.770Z"
   },
   {
    "duration": 661,
    "start_time": "2022-06-27T11:01:30.978Z"
   },
   {
    "duration": 9,
    "start_time": "2022-06-27T11:01:31.641Z"
   },
   {
    "duration": 79,
    "start_time": "2022-06-27T11:01:31.653Z"
   },
   {
    "duration": 28,
    "start_time": "2022-06-27T11:01:31.735Z"
   },
   {
    "duration": 345,
    "start_time": "2022-06-27T11:01:31.765Z"
   },
   {
    "duration": 335,
    "start_time": "2022-06-27T11:01:32.112Z"
   },
   {
    "duration": 243,
    "start_time": "2022-06-27T11:01:32.450Z"
   },
   {
    "duration": 566,
    "start_time": "2022-06-27T11:01:32.696Z"
   },
   {
    "duration": 474,
    "start_time": "2022-06-27T11:01:33.265Z"
   },
   {
    "duration": 438,
    "start_time": "2022-06-27T11:01:33.742Z"
   },
   {
    "duration": 7,
    "start_time": "2022-06-27T11:01:34.181Z"
   },
   {
    "duration": 8,
    "start_time": "2022-06-27T11:01:34.193Z"
   },
   {
    "duration": 28,
    "start_time": "2022-06-27T11:01:34.204Z"
   },
   {
    "duration": 17,
    "start_time": "2022-06-27T11:01:34.236Z"
   },
   {
    "duration": 11,
    "start_time": "2022-06-27T11:02:02.949Z"
   },
   {
    "duration": 5,
    "start_time": "2022-06-27T11:02:50.760Z"
   },
   {
    "duration": 16,
    "start_time": "2022-06-27T11:03:12.496Z"
   },
   {
    "duration": 1134,
    "start_time": "2022-06-28T06:40:24.367Z"
   },
   {
    "duration": 198,
    "start_time": "2022-06-28T06:40:25.503Z"
   },
   {
    "duration": 21,
    "start_time": "2022-06-28T06:40:25.703Z"
   },
   {
    "duration": 10,
    "start_time": "2022-06-28T06:40:26.380Z"
   },
   {
    "duration": 3,
    "start_time": "2022-06-28T06:40:30.833Z"
   },
   {
    "duration": 30,
    "start_time": "2022-06-28T06:40:31.168Z"
   },
   {
    "duration": 13,
    "start_time": "2022-06-28T06:40:34.371Z"
   },
   {
    "duration": 9,
    "start_time": "2022-06-28T06:40:34.648Z"
   },
   {
    "duration": 5,
    "start_time": "2022-06-28T06:40:45.930Z"
   },
   {
    "duration": 7,
    "start_time": "2022-06-28T06:40:53.803Z"
   },
   {
    "duration": 7,
    "start_time": "2022-06-28T06:40:54.499Z"
   },
   {
    "duration": 6,
    "start_time": "2022-06-28T06:40:56.840Z"
   },
   {
    "duration": 3,
    "start_time": "2022-06-28T06:40:57.973Z"
   },
   {
    "duration": 13,
    "start_time": "2022-06-28T06:40:58.238Z"
   },
   {
    "duration": 7,
    "start_time": "2022-06-28T06:40:58.483Z"
   },
   {
    "duration": 14,
    "start_time": "2022-06-28T06:40:58.881Z"
   },
   {
    "duration": 13,
    "start_time": "2022-06-28T06:41:01.269Z"
   },
   {
    "duration": 6,
    "start_time": "2022-06-28T06:41:04.931Z"
   },
   {
    "duration": 7,
    "start_time": "2022-06-28T06:41:06.232Z"
   },
   {
    "duration": 65,
    "start_time": "2022-06-28T06:41:08.612Z"
   },
   {
    "duration": 6,
    "start_time": "2022-06-28T06:41:10.096Z"
   },
   {
    "duration": 14,
    "start_time": "2022-06-28T06:41:10.304Z"
   },
   {
    "duration": 153,
    "start_time": "2022-06-28T06:41:12.089Z"
   },
   {
    "duration": 21,
    "start_time": "2022-06-28T06:41:16.748Z"
   },
   {
    "duration": 4,
    "start_time": "2022-06-28T06:41:25.154Z"
   },
   {
    "duration": 1283,
    "start_time": "2022-06-28T06:42:03.607Z"
   },
   {
    "duration": 87,
    "start_time": "2022-06-28T06:42:04.892Z"
   },
   {
    "duration": 15,
    "start_time": "2022-06-28T06:42:04.981Z"
   },
   {
    "duration": 9,
    "start_time": "2022-06-28T06:42:04.998Z"
   },
   {
    "duration": 6,
    "start_time": "2022-06-28T06:42:05.009Z"
   },
   {
    "duration": 28,
    "start_time": "2022-06-28T06:42:05.016Z"
   },
   {
    "duration": 15,
    "start_time": "2022-06-28T06:42:05.045Z"
   },
   {
    "duration": 8,
    "start_time": "2022-06-28T06:42:05.061Z"
   },
   {
    "duration": 61,
    "start_time": "2022-06-28T06:42:05.072Z"
   },
   {
    "duration": 5,
    "start_time": "2022-06-28T06:42:05.137Z"
   },
   {
    "duration": 8,
    "start_time": "2022-06-28T06:42:05.143Z"
   },
   {
    "duration": 6,
    "start_time": "2022-06-28T06:42:05.153Z"
   },
   {
    "duration": 12,
    "start_time": "2022-06-28T06:42:05.161Z"
   },
   {
    "duration": 59,
    "start_time": "2022-06-28T06:42:05.174Z"
   },
   {
    "duration": 15,
    "start_time": "2022-06-28T06:42:05.234Z"
   },
   {
    "duration": 16,
    "start_time": "2022-06-28T06:42:05.251Z"
   },
   {
    "duration": 61,
    "start_time": "2022-06-28T06:42:05.269Z"
   },
   {
    "duration": 8,
    "start_time": "2022-06-28T06:42:05.332Z"
   },
   {
    "duration": 50,
    "start_time": "2022-06-28T06:42:05.342Z"
   },
   {
    "duration": 5,
    "start_time": "2022-06-28T06:42:05.394Z"
   },
   {
    "duration": 30,
    "start_time": "2022-06-28T06:42:05.401Z"
   },
   {
    "duration": 305,
    "start_time": "2022-06-28T06:42:05.433Z"
   },
   {
    "duration": 18,
    "start_time": "2022-06-28T06:42:05.739Z"
   },
   {
    "duration": 9,
    "start_time": "2022-06-28T06:42:05.758Z"
   },
   {
    "duration": 215,
    "start_time": "2022-06-28T06:42:05.769Z"
   },
   {
    "duration": 34,
    "start_time": "2022-06-28T06:42:05.986Z"
   },
   {
    "duration": 421,
    "start_time": "2022-06-28T06:42:06.030Z"
   },
   {
    "duration": 4,
    "start_time": "2022-06-28T06:42:06.454Z"
   },
   {
    "duration": 27,
    "start_time": "2022-06-28T06:42:06.459Z"
   },
   {
    "duration": 3,
    "start_time": "2022-06-28T06:42:06.488Z"
   },
   {
    "duration": 153,
    "start_time": "2022-06-28T06:42:06.492Z"
   },
   {
    "duration": 555,
    "start_time": "2022-06-28T06:42:06.647Z"
   },
   {
    "duration": 20,
    "start_time": "2022-06-28T06:42:07.203Z"
   },
   {
    "duration": 11,
    "start_time": "2022-06-28T06:42:07.225Z"
   },
   {
    "duration": 15,
    "start_time": "2022-06-28T06:42:07.238Z"
   },
   {
    "duration": 308,
    "start_time": "2022-06-28T06:42:07.254Z"
   },
   {
    "duration": 288,
    "start_time": "2022-06-28T06:42:07.564Z"
   },
   {
    "duration": 176,
    "start_time": "2022-06-28T06:42:07.854Z"
   },
   {
    "duration": 400,
    "start_time": "2022-06-28T06:42:08.032Z"
   },
   {
    "duration": 388,
    "start_time": "2022-06-28T06:42:08.434Z"
   },
   {
    "duration": 386,
    "start_time": "2022-06-28T06:42:08.824Z"
   },
   {
    "duration": 8,
    "start_time": "2022-06-28T06:42:09.212Z"
   },
   {
    "duration": 5,
    "start_time": "2022-06-28T06:42:09.229Z"
   },
   {
    "duration": 10,
    "start_time": "2022-06-28T06:42:09.236Z"
   },
   {
    "duration": 7,
    "start_time": "2022-06-28T06:42:09.248Z"
   },
   {
    "duration": 1126,
    "start_time": "2022-06-28T06:42:21.118Z"
   },
   {
    "duration": 73,
    "start_time": "2022-06-28T06:42:22.246Z"
   },
   {
    "duration": 15,
    "start_time": "2022-06-28T06:42:22.321Z"
   },
   {
    "duration": 13,
    "start_time": "2022-06-28T06:42:22.339Z"
   },
   {
    "duration": 4,
    "start_time": "2022-06-28T06:42:23.460Z"
   },
   {
    "duration": 20,
    "start_time": "2022-06-28T06:42:23.642Z"
   },
   {
    "duration": 14,
    "start_time": "2022-06-28T06:42:24.876Z"
   },
   {
    "duration": 6,
    "start_time": "2022-06-28T06:42:25.089Z"
   },
   {
    "duration": 5,
    "start_time": "2022-06-28T06:42:25.508Z"
   },
   {
    "duration": 5,
    "start_time": "2022-06-28T06:42:25.873Z"
   },
   {
    "duration": 5,
    "start_time": "2022-06-28T06:42:26.453Z"
   },
   {
    "duration": 3,
    "start_time": "2022-06-28T06:42:26.640Z"
   },
   {
    "duration": 11,
    "start_time": "2022-06-28T06:42:26.900Z"
   },
   {
    "duration": 9,
    "start_time": "2022-06-28T06:42:27.050Z"
   },
   {
    "duration": 14,
    "start_time": "2022-06-28T06:42:27.299Z"
   },
   {
    "duration": 22,
    "start_time": "2022-06-28T06:42:28.909Z"
   },
   {
    "duration": 6,
    "start_time": "2022-06-28T06:42:29.535Z"
   },
   {
    "duration": 8,
    "start_time": "2022-06-28T06:42:29.799Z"
   },
   {
    "duration": 65,
    "start_time": "2022-06-28T06:42:30.338Z"
   },
   {
    "duration": 8,
    "start_time": "2022-06-28T06:42:33.063Z"
   },
   {
    "duration": 16,
    "start_time": "2022-06-28T06:42:33.676Z"
   },
   {
    "duration": 174,
    "start_time": "2022-06-28T06:42:38.819Z"
   },
   {
    "duration": 5,
    "start_time": "2022-06-28T06:42:46.198Z"
   }
  ],
  "kernelspec": {
   "display_name": "Python 3 (ipykernel)",
   "language": "python",
   "name": "python3"
  },
  "language_info": {
   "codemirror_mode": {
    "name": "ipython",
    "version": 3
   },
   "file_extension": ".py",
   "mimetype": "text/x-python",
   "name": "python",
   "nbconvert_exporter": "python",
   "pygments_lexer": "ipython3",
   "version": "3.9.5"
  },
  "toc": {
   "base_numbering": 1,
   "nav_menu": {},
   "number_sections": true,
   "sideBar": true,
   "skip_h1_title": true,
   "title_cell": "Table of Contents",
   "title_sidebar": "Contents",
   "toc_cell": false,
   "toc_position": {},
   "toc_section_display": true,
   "toc_window_display": false
  }
 },
 "nbformat": 4,
 "nbformat_minor": 2
}
