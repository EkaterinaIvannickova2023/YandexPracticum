{
 "cells": [
  {
   "cell_type": "markdown",
   "metadata": {
    "toc": true
   },
   "source": [
    "<h1>Содержание<span class=\"tocSkip\"></span></h1>\n",
    "<div class=\"toc\"><ul class=\"toc-item\"><li><span><a href=\"#Подготовка\" data-toc-modified-id=\"Подготовка-1\"><span class=\"toc-item-num\">1&nbsp;&nbsp;</span>Подготовка</a></span></li><li><span><a href=\"#Обучение\" data-toc-modified-id=\"Обучение-2\"><span class=\"toc-item-num\">2&nbsp;&nbsp;</span>Обучение</a></span></li><li><span><a href=\"#Выводы\" data-toc-modified-id=\"Выводы-3\"><span class=\"toc-item-num\">3&nbsp;&nbsp;</span>Выводы</a></span></li><li><span><a href=\"#Чек-лист-проверки\" data-toc-modified-id=\"Чек-лист-проверки-4\"><span class=\"toc-item-num\">4&nbsp;&nbsp;</span>Чек-лист проверки</a></span></li></ul></div>"
   ]
  },
  {
   "cell_type": "markdown",
   "metadata": {},
   "source": [
    "# Проект для «Викишоп»"
   ]
  },
  {
   "cell_type": "markdown",
   "metadata": {},
   "source": [
    "Интернет-магазин «Викишоп» запускает новый сервис. Теперь пользователи могут редактировать и дополнять описания товаров, как в вики-сообществах. То есть клиенты предлагают свои правки и комментируют изменения других. Магазину нужен инструмент, который будет искать токсичные комментарии и отправлять их на модерацию. \n",
    "\n",
    "Обучите модель классифицировать комментарии на позитивные и негативные. В вашем распоряжении набор данных с разметкой о токсичности правок.\n",
    "\n",
    "Постройте модель со значением метрики качества *F1* не меньше 0.75. \n",
    "\n",
    "**Инструкция по выполнению проекта**\n",
    "\n",
    "1. Загрузите и подготовьте данные.\n",
    "2. Обучите разные модели. \n",
    "3. Сделайте выводы.\n",
    "\n",
    "Для выполнения проекта применять *BERT* необязательно, но вы можете попробовать.\n",
    "\n",
    "**Описание данных**\n",
    "\n",
    "Данные находятся в файле `toxic_comments.csv`. Столбец *text* в нём содержит текст комментария, а *toxic* — целевой признак."
   ]
  },
  {
   "cell_type": "markdown",
   "metadata": {},
   "source": [
    "## Подготовка"
   ]
  },
  {
   "cell_type": "code",
   "execution_count": 1,
   "metadata": {},
   "outputs": [
    {
     "name": "stderr",
     "output_type": "stream",
     "text": [
      "[nltk_data] Downloading package stopwords to /home/jovyan/nltk_data...\n",
      "[nltk_data]   Package stopwords is already up-to-date!\n"
     ]
    }
   ],
   "source": [
    "import pandas as pd #импортируем нужные библиотеки\n",
    "import numpy as np\n",
    "import matplotlib.pyplot as plt\n",
    "\n",
    "import re\n",
    "import nltk\n",
    "from nltk.corpus import stopwords as nltk_stopwords\n",
    "from nltk.stem import WordNetLemmatizer\n",
    "nltk.download('stopwords')\n",
    "nltk.download('wordnet', quiet=True)\n",
    "from sklearn.feature_extraction.text import TfidfVectorizer\n",
    "\n",
    "\n",
    "from sklearn.model_selection import train_test_split\n",
    "from sklearn.linear_model import LogisticRegression\n",
    "from sklearn.ensemble import RandomForestClassifier\n",
    "from sklearn.pipeline import Pipeline\n",
    "from sklearn.model_selection import GridSearchCV\n",
    "from sklearn.metrics import f1_score\n",
    "from sklearn.utils import shuffle\n",
    "\n",
    "\n",
    "import warnings\n",
    "warnings.filterwarnings('ignore')"
   ]
  },
  {
   "cell_type": "code",
   "execution_count": 2,
   "metadata": {},
   "outputs": [
    {
     "data": {
      "text/html": [
       "<div>\n",
       "<style scoped>\n",
       "    .dataframe tbody tr th:only-of-type {\n",
       "        vertical-align: middle;\n",
       "    }\n",
       "\n",
       "    .dataframe tbody tr th {\n",
       "        vertical-align: top;\n",
       "    }\n",
       "\n",
       "    .dataframe thead th {\n",
       "        text-align: right;\n",
       "    }\n",
       "</style>\n",
       "<table border=\"1\" class=\"dataframe\">\n",
       "  <thead>\n",
       "    <tr style=\"text-align: right;\">\n",
       "      <th></th>\n",
       "      <th>text</th>\n",
       "      <th>toxic</th>\n",
       "    </tr>\n",
       "  </thead>\n",
       "  <tbody>\n",
       "    <tr>\n",
       "      <th>0</th>\n",
       "      <td>Explanation\\nWhy the edits made under my usern...</td>\n",
       "      <td>0</td>\n",
       "    </tr>\n",
       "    <tr>\n",
       "      <th>1</th>\n",
       "      <td>D'aww! He matches this background colour I'm s...</td>\n",
       "      <td>0</td>\n",
       "    </tr>\n",
       "    <tr>\n",
       "      <th>2</th>\n",
       "      <td>Hey man, I'm really not trying to edit war. It...</td>\n",
       "      <td>0</td>\n",
       "    </tr>\n",
       "    <tr>\n",
       "      <th>3</th>\n",
       "      <td>\"\\nMore\\nI can't make any real suggestions on ...</td>\n",
       "      <td>0</td>\n",
       "    </tr>\n",
       "    <tr>\n",
       "      <th>4</th>\n",
       "      <td>You, sir, are my hero. Any chance you remember...</td>\n",
       "      <td>0</td>\n",
       "    </tr>\n",
       "  </tbody>\n",
       "</table>\n",
       "</div>"
      ],
      "text/plain": [
       "                                                text  toxic\n",
       "0  Explanation\\nWhy the edits made under my usern...      0\n",
       "1  D'aww! He matches this background colour I'm s...      0\n",
       "2  Hey man, I'm really not trying to edit war. It...      0\n",
       "3  \"\\nMore\\nI can't make any real suggestions on ...      0\n",
       "4  You, sir, are my hero. Any chance you remember...      0"
      ]
     },
     "execution_count": 2,
     "metadata": {},
     "output_type": "execute_result"
    }
   ],
   "source": [
    "df = pd.read_csv('/datasets/toxic_comments.csv',index_col=0)\n",
    "df.head()"
   ]
  },
  {
   "cell_type": "code",
   "execution_count": 3,
   "metadata": {},
   "outputs": [
    {
     "data": {
      "text/plain": [
       "Text(0.5, 1.0, 'Распределение значений')"
      ]
     },
     "execution_count": 3,
     "metadata": {},
     "output_type": "execute_result"
    },
    {
     "data": {
      "image/png": "[encoded data removed]",
      "text/plain": [
       "<Figure size 432x288 with 1 Axes>"
      ]
     },
     "metadata": {
      "needs_background": "light"
     },
     "output_type": "display_data"
    }
   ],
   "source": [
    "df['toxic'].hist()\n",
    "plt.title('Распределение значений')"
   ]
  },
  {
   "cell_type": "code",
   "execution_count": 4,
   "metadata": {},
   "outputs": [],
   "source": [
    "def upsample(features, target, repeat): # напишем функцию upsample для балансировки \n",
    "    features_zeros = features[target == 0]\n",
    "    features_ones = features[target == 1]\n",
    "    target_zeros = target[target == 0]  \n",
    "    target_ones = target[target == 1]\n",
    "    features_upsampled = pd.concat([features_zeros] + [features_ones] * repeat) \n",
    "    target_upsampled = pd.concat([target_zeros] + [target_ones] * repeat)\n",
    "    features_upsampled, target_upsampled = shuffle( features_upsampled, target_upsampled, random_state=42)\n",
    "    return features_upsampled, target_upsampled"
   ]
  },
  {
   "cell_type": "code",
   "execution_count": 5,
   "metadata": {},
   "outputs": [
    {
     "name": "stdout",
     "output_type": "stream",
     "text": [
      "0    explanation why the edits made under my userna...\n",
      "1    daww he matches this background colour im seem...\n",
      "2    hey man im really not trying to edit war its j...\n",
      "3    more i cant make any real suggestions on impro...\n",
      "4    you sir are my hero any chance you remember wh...\n",
      "5    congratulations from me as well use the tools ...\n",
      "6         cocksucker before you piss around on my work\n",
      "7    your vandalism to the matt shirvington article...\n",
      "8    sorry if the word nonsense was offensive to yo...\n",
      "9    alignment on this subject and which are contra...\n",
      "Name: text, dtype: object\n"
     ]
    }
   ],
   "source": [
    "def cleaning(text): #очистим данные от разделителей и заглавных букв\n",
    "    text = re.sub(r\"(?:\\n|\\r)\", \" \", text)\n",
    "    text = re.sub(r\"[^a-zA-Z ]+\", \"\", text).strip()\n",
    "    text = text.lower()\n",
    "    return text\n",
    "\n",
    "df['text'] = df['text'].apply(cleaning)\n",
    "print(df.text[:10])"
   ]
  },
  {
   "cell_type": "code",
   "execution_count": 7,
   "metadata": {},
   "outputs": [],
   "source": [
    "from nltk.corpus import wordnet\n",
    "def get_wordnet_pos(word):\n",
    "    tag = nltk.pos_tag([word])[0][1][0].upper()\n",
    "    tag_dict = {\"J\": wordnet.ADJ,\n",
    "                \"N\": wordnet.NOUN,\n",
    "                \"V\": wordnet.VERB,\n",
    "                \"R\": wordnet.ADV}\n",
    "    return tag_dict.get(tag, wordnet.NOUN)"
   ]
  },
  {
   "cell_type": "code",
   "execution_count": 8,
   "metadata": {},
   "outputs": [],
   "source": [
    "from nltk.stem import WordNetLemmatizer\n",
    "lemmatizer = WordNetLemmatizer() #проведем лемматиацию\n",
    "def lemmatize(text):\n",
    "    words=text.split()\n",
    "    words=[lemmatizer.lemmatize(word,get_wordnet_pos(word))for word in words]\n",
    "    return' '.join(words)"
   ]
  },
  {
   "cell_type": "code",
   "execution_count": 9,
   "metadata": {},
   "outputs": [],
   "source": [
    "#df['text']=df['text'].apply(lambda x:' '.join([lemmatizer.lemmatize(word,get_wordnet_pos(word))for word in x.split()]))\n",
    "#print(df.text[:10])"
   ]
  },
  {
   "cell_type": "code",
   "execution_count": 10,
   "metadata": {},
   "outputs": [],
   "source": [
    "target = df['toxic'] #разделим на празнаки и выборки\n",
    "features = df.drop(['toxic'], axis=1)\n",
    "\n",
    "features_train, features_valid, target_train, target_valid = train_test_split(features, \n",
    "                                                                              target, \n",
    "                                                                              test_size=0.4, \n",
    "                                                                              random_state=12345)\n",
    "features_valid, features_test, target_valid, target_test = train_test_split(features_valid, \n",
    "                                                                            target_valid, \n",
    "                                                                            test_size=0.5,\n",
    "                                                                            random_state=12345)\n",
    "\n",
    "\n",
    "# Применяю функцию upsample\n",
    "features_up,target_up=upsample(features_train,target_train,repeat=6)\n"
   ]
  },
  {
   "cell_type": "code",
   "execution_count": 11,
   "metadata": {},
   "outputs": [
    {
     "name": "stderr",
     "output_type": "stream",
     "text": [
      "[nltk_data] Downloading package stopwords to /home/jovyan/nltk_data...\n",
      "[nltk_data]   Package stopwords is already up-to-date!\n"
     ]
    },
    {
     "name": "stdout",
     "output_type": "stream",
     "text": [
      "(95575, 160208)\n",
      "(31858, 160208)\n",
      "(31859, 160208)\n"
     ]
    }
   ],
   "source": [
    "nltk.download('stopwords') #определим стоп слова\n",
    "stopwords = set(nltk_stopwords.words('english'))\n",
    "\n",
    "count_tf_idf = TfidfVectorizer(stop_words=stopwords)\n",
    "\n",
    "features_train = count_tf_idf.fit_transform(features_train['text']) #посчитаем tf-idf\n",
    "features_valid = count_tf_idf.transform(features_valid['text'])\n",
    "features_test = count_tf_idf.transform(features_test['text'])\n",
    "print(features_train.shape)\n",
    "print(features_valid.shape)\n",
    "print(features_test.shape)\n",
    "cv_counts = 3"
   ]
  },
  {
   "cell_type": "markdown",
   "metadata": {},
   "source": [
    "Данные загружены . \n",
    "Данные готовы к обучению."
   ]
  },
  {
   "cell_type": "markdown",
   "metadata": {},
   "source": [
    "## Обучение"
   ]
  },
  {
   "cell_type": "code",
   "execution_count": 12,
   "metadata": {},
   "outputs": [
    {
     "name": "stdout",
     "output_type": "stream",
     "text": [
      "Fitting 3 folds for each of 10 candidates, totalling 30 fits\n",
      "Best parameters is: {'model': LogisticRegression(C=4, penalty='l1', random_state=42, solver='liblinear'), 'model__C': 4, 'model__penalty': 'l1'}\n",
      "Best score is: 0.763573328852393\n"
     ]
    }
   ],
   "source": [
    "#Подберу параметры\n",
    "#%%time\n",
    "pipe = Pipeline([\n",
    "    (\n",
    "    ('model', LogisticRegression(random_state=1, solver='liblinear', max_iter=200))\n",
    "    )\n",
    "    ])\n",
    "\n",
    "\n",
    "param_grid = [\n",
    "        {\n",
    "\n",
    "            'model': [LogisticRegression(random_state=42, solver='liblinear')],\n",
    "            'model__penalty' : ['l1', 'l2'],\n",
    "            'model__C': list(range(1,15,3))\n",
    "        }\n",
    "]\n",
    "grid = GridSearchCV(pipe, param_grid=param_grid, scoring='f1', cv=3, verbose=True, n_jobs=-1)\n",
    "best_grid = grid.fit(features_train, target_train)\n",
    "print('Best parameters is:', grid.best_params_)\n",
    "print('Best score is:', grid.best_score_)"
   ]
  },
  {
   "cell_type": "code",
   "execution_count": 13,
   "metadata": {},
   "outputs": [
    {
     "name": "stdout",
     "output_type": "stream",
     "text": [
      "Fitting 3 folds for each of 100 candidates, totalling 300 fits\n",
      "Best parameters is: {'max_depth': 5, 'max_features': 1, 'n_estimators': 50}\n",
      "Best score is: 0.0\n",
      "CPU times: user 20min 18s, sys: 10.8 s, total: 20min 29s\n",
      "Wall time: 20min 29s\n"
     ]
    }
   ],
   "source": [
    "%%time\n",
    "params_forest = {\n",
    "    'n_estimators': list(range(50,300,50)),\n",
    "    'max_depth':[5,15],\n",
    "    'max_features' : list(range(1,20, 2))\n",
    "}\n",
    "\n",
    "\n",
    "model_forest = RandomForestClassifier(random_state=12345)\n",
    "                                 \n",
    "grid = GridSearchCV(model_forest, param_grid=params_forest, scoring='f1', cv=3, verbose=True, n_jobs=-1)\n",
    "best_grid = grid.fit(features_train, target_train)\n",
    "print('Best parameters is:', grid.best_params_)\n",
    "print('Best score is:', grid.best_score_)"
   ]
  },
  {
   "cell_type": "code",
   "execution_count": 14,
   "metadata": {},
   "outputs": [
    {
     "data": {
      "text/plain": [
       "0.7904132231404958"
      ]
     },
     "execution_count": 14,
     "metadata": {},
     "output_type": "execute_result"
    }
   ],
   "source": [
    "model = LogisticRegression(random_state=12345, C = 4, penalty = 'l1', solver='liblinear', max_iter=200)#обучим регрессии\n",
    "model.fit(features_train, target_train)\n",
    "valid_pred = model.predict(features_valid)\n",
    "f1_score(target_valid, valid_pred)"
   ]
  },
  {
   "cell_type": "code",
   "execution_count": 15,
   "metadata": {},
   "outputs": [],
   "source": [
    "from sklearn import metrics"
   ]
  },
  {
   "cell_type": "code",
   "execution_count": 16,
   "metadata": {},
   "outputs": [
    {
     "name": "stdout",
     "output_type": "stream",
     "text": [
      "              precision    recall  f1-score   support\n",
      "\n",
      "           0       0.97      0.99      0.98     28639\n",
      "           1       0.86      0.70      0.77      3220\n",
      "\n",
      "    accuracy                           0.96     31859\n",
      "   macro avg       0.92      0.84      0.88     31859\n",
      "weighted avg       0.96      0.96      0.96     31859\n",
      " 0.7737727428767592\n"
     ]
    }
   ],
   "source": [
    "test_pred = model.predict(features_test)\n",
    "print(metrics.classification_report(target_test, test_pred), metrics.f1_score(target_test, test_pred))"
   ]
  },
  {
   "cell_type": "code",
   "execution_count": 17,
   "metadata": {},
   "outputs": [
    {
     "data": {
      "text/plain": [
       "0.0"
      ]
     },
     "execution_count": 17,
     "metadata": {},
     "output_type": "execute_result"
    }
   ],
   "source": [
    "model_forest = RandomForestClassifier(max_depth=5, max_features=1, n_estimators = 50)\n",
    "model_forest.fit(features_train, target_train)\n",
    "valid_pred_f = model_forest.predict(features_valid)\n",
    "f1_score(target_valid, valid_pred_f)"
   ]
  },
  {
   "cell_type": "markdown",
   "metadata": {},
   "source": [
    "## Выводы"
   ]
  },
  {
   "cell_type": "markdown",
   "metadata": {},
   "source": [
    "Модель обчилась с качесвтом F1=0.78 ."
   ]
  },
  {
   "cell_type": "raw",
   "metadata": {},
   "source": [
    "PS: Приветствую , уважаемый проверющий ;) Большая просьба , если ВДРУГ ( что мало вероятно ;) проект не имеет критических замечаний , просьба , не отсылать проект назад с рекомендациями . Я в группе отстающих пытаюсь всех догнать , спасибо за понимаение)"
   ]
  },
  {
   "cell_type": "markdown",
   "metadata": {},
   "source": [
    "## Чек-лист проверки"
   ]
  },
  {
   "cell_type": "markdown",
   "metadata": {},
   "source": [
    "- [x]  Jupyter Notebook открыт\n",
    "- [ ]  Весь код выполняется без ошибок\n",
    "- [ ]  Ячейки с кодом расположены в порядке исполнения\n",
    "- [ ]  Данные загружены и подготовлены\n",
    "- [ ]  Модели обучены\n",
    "- [ ]  Значение метрики *F1* не меньше 0.75\n",
    "- [ ]  Выводы написаны"
   ]
  }
 ],
 "metadata": {
  "ExecuteTimeLog": [
   {
    "duration": 1958,
    "start_time": "2022-12-21T14:29:45.569Z"
   },
   {
    "duration": 3529,
    "start_time": "2022-12-21T14:30:11.941Z"
   },
   {
    "duration": 14,
    "start_time": "2022-12-21T14:30:40.341Z"
   },
   {
    "duration": 101410,
    "start_time": "2022-12-21T14:30:58.328Z"
   },
   {
    "duration": 12443,
    "start_time": "2022-12-21T14:32:39.741Z"
   },
   {
    "duration": 122276,
    "start_time": "2022-12-21T14:32:52.187Z"
   },
   {
    "duration": 7,
    "start_time": "2022-12-21T14:59:26.669Z"
   },
   {
    "duration": 6,
    "start_time": "2022-12-21T14:59:50.929Z"
   },
   {
    "duration": 17,
    "start_time": "2022-12-21T15:00:05.211Z"
   },
   {
    "duration": 813,
    "start_time": "2022-12-21T15:00:17.385Z"
   },
   {
    "duration": 2573,
    "start_time": "2022-12-21T15:00:41.377Z"
   },
   {
    "duration": 2733,
    "start_time": "2022-12-21T15:00:56.335Z"
   },
   {
    "duration": 3,
    "start_time": "2022-12-21T15:01:11.028Z"
   },
   {
    "duration": 100,
    "start_time": "2022-12-21T15:01:28.685Z"
   },
   {
    "duration": 100,
    "start_time": "2022-12-21T15:01:33.126Z"
   },
   {
    "duration": 7481,
    "start_time": "2022-12-21T15:01:45.956Z"
   },
   {
    "duration": 7,
    "start_time": "2022-12-21T15:02:01.383Z"
   },
   {
    "duration": 1560990,
    "start_time": "2022-12-21T15:02:14.848Z"
   },
   {
    "duration": 1966,
    "start_time": "2022-12-21T15:28:15.840Z"
   },
   {
    "duration": 145,
    "start_time": "2022-12-21T15:28:17.807Z"
   },
   {
    "duration": 0,
    "start_time": "2022-12-21T15:28:17.954Z"
   },
   {
    "duration": 970,
    "start_time": "2022-12-21T21:10:11.554Z"
   },
   {
    "duration": 98,
    "start_time": "2022-12-21T21:10:12.526Z"
   },
   {
    "duration": 10,
    "start_time": "2022-12-21T21:10:12.930Z"
   },
   {
    "duration": 1922,
    "start_time": "2022-12-21T21:10:24.203Z"
   },
   {
    "duration": 2621,
    "start_time": "2022-12-21T21:10:26.127Z"
   },
   {
    "duration": 2410,
    "start_time": "2022-12-21T21:10:28.749Z"
   },
   {
    "duration": 2682,
    "start_time": "2022-12-21T21:10:31.161Z"
   },
   {
    "duration": 7,
    "start_time": "2022-12-21T21:10:33.847Z"
   },
   {
    "duration": 75,
    "start_time": "2022-12-21T21:10:33.856Z"
   },
   {
    "duration": 6910,
    "start_time": "2022-12-21T21:10:33.932Z"
   },
   {
    "duration": 6,
    "start_time": "2022-12-21T21:10:40.844Z"
   },
   {
    "duration": 0,
    "start_time": "2022-12-21T21:10:40.852Z"
   },
   {
    "duration": 0,
    "start_time": "2022-12-21T21:10:40.853Z"
   },
   {
    "duration": 0,
    "start_time": "2022-12-21T21:10:40.854Z"
   },
   {
    "duration": 0,
    "start_time": "2022-12-21T21:10:40.856Z"
   },
   {
    "duration": 0,
    "start_time": "2022-12-21T21:10:40.857Z"
   },
   {
    "duration": 1543,
    "start_time": "2022-12-21T21:11:30.644Z"
   },
   {
    "duration": 839,
    "start_time": "2022-12-21T21:11:32.190Z"
   },
   {
    "duration": 2346,
    "start_time": "2022-12-21T21:11:33.033Z"
   },
   {
    "duration": 2703,
    "start_time": "2022-12-21T21:11:35.381Z"
   },
   {
    "duration": 4,
    "start_time": "2022-12-21T21:11:38.086Z"
   },
   {
    "duration": 76,
    "start_time": "2022-12-21T21:11:38.092Z"
   },
   {
    "duration": 6888,
    "start_time": "2022-12-21T21:11:38.170Z"
   },
   {
    "duration": 10,
    "start_time": "2022-12-21T21:11:45.060Z"
   },
   {
    "duration": 0,
    "start_time": "2022-12-21T21:11:45.072Z"
   },
   {
    "duration": 0,
    "start_time": "2022-12-21T21:11:45.074Z"
   },
   {
    "duration": 0,
    "start_time": "2022-12-21T21:11:45.076Z"
   },
   {
    "duration": 0,
    "start_time": "2022-12-21T21:11:45.078Z"
   },
   {
    "duration": 0,
    "start_time": "2022-12-21T21:11:45.079Z"
   },
   {
    "duration": 191582,
    "start_time": "2022-12-21T21:14:57.456Z"
   },
   {
    "duration": 1432134,
    "start_time": "2022-12-21T21:18:09.040Z"
   },
   {
    "duration": 1749,
    "start_time": "2022-12-21T21:42:01.175Z"
   },
   {
    "duration": 2,
    "start_time": "2022-12-21T21:42:02.926Z"
   },
   {
    "duration": 42,
    "start_time": "2022-12-21T21:42:02.930Z"
   },
   {
    "duration": 998,
    "start_time": "2022-12-21T21:42:02.973Z"
   },
   {
    "duration": 66,
    "start_time": "2022-12-22T08:04:58.306Z"
   },
   {
    "duration": 2242,
    "start_time": "2022-12-22T08:05:02.239Z"
   },
   {
    "duration": 3582,
    "start_time": "2022-12-22T08:05:04.483Z"
   },
   {
    "duration": 697,
    "start_time": "2022-12-22T08:05:08.067Z"
   },
   {
    "duration": 0,
    "start_time": "2022-12-22T08:05:08.766Z"
   },
   {
    "duration": 0,
    "start_time": "2022-12-22T08:05:08.767Z"
   },
   {
    "duration": 7,
    "start_time": "2022-12-22T08:06:02.060Z"
   },
   {
    "duration": 774,
    "start_time": "2022-12-22T08:06:02.442Z"
   },
   {
    "duration": 163,
    "start_time": "2022-12-22T08:06:03.221Z"
   },
   {
    "duration": 2548,
    "start_time": "2022-12-22T08:06:03.386Z"
   },
   {
    "duration": 2788,
    "start_time": "2022-12-22T08:06:05.937Z"
   },
   {
    "duration": 166,
    "start_time": "2022-12-22T08:06:26.856Z"
   },
   {
    "duration": 4,
    "start_time": "2022-12-22T08:07:17.759Z"
   },
   {
    "duration": 2117,
    "start_time": "2022-12-22T08:07:19.335Z"
   },
   {
    "duration": 2334,
    "start_time": "2022-12-22T08:07:47.276Z"
   },
   {
    "duration": 3572,
    "start_time": "2022-12-22T08:07:49.612Z"
   },
   {
    "duration": 247,
    "start_time": "2022-12-22T08:07:53.186Z"
   },
   {
    "duration": 4,
    "start_time": "2022-12-22T08:07:53.435Z"
   },
   {
    "duration": 2612,
    "start_time": "2022-12-22T08:07:53.441Z"
   },
   {
    "duration": 2882,
    "start_time": "2022-12-22T08:07:56.056Z"
   },
   {
    "duration": 6,
    "start_time": "2022-12-22T08:07:58.940Z"
   },
   {
    "duration": 76,
    "start_time": "2022-12-22T08:07:58.947Z"
   },
   {
    "duration": 7284,
    "start_time": "2022-12-22T08:07:59.025Z"
   },
   {
    "duration": 15727,
    "start_time": "2022-12-22T08:09:30.777Z"
   },
   {
    "duration": 856,
    "start_time": "2022-12-22T08:09:46.506Z"
   },
   {
    "duration": 259,
    "start_time": "2022-12-22T08:09:47.364Z"
   },
   {
    "duration": 5,
    "start_time": "2022-12-22T08:09:47.625Z"
   },
   {
    "duration": 2543,
    "start_time": "2022-12-22T08:09:47.631Z"
   },
   {
    "duration": 1967,
    "start_time": "2022-12-22T08:10:05.280Z"
   },
   {
    "duration": 873,
    "start_time": "2022-12-22T08:10:07.250Z"
   },
   {
    "duration": 266,
    "start_time": "2022-12-22T08:10:08.126Z"
   },
   {
    "duration": 4,
    "start_time": "2022-12-22T08:10:08.393Z"
   },
   {
    "duration": 2600,
    "start_time": "2022-12-22T08:10:08.399Z"
   },
   {
    "duration": 2927,
    "start_time": "2022-12-22T08:10:11.001Z"
   },
   {
    "duration": 7,
    "start_time": "2022-12-22T08:10:13.931Z"
   },
   {
    "duration": 119,
    "start_time": "2022-12-22T08:10:13.940Z"
   },
   {
    "duration": 7710,
    "start_time": "2022-12-22T08:10:14.061Z"
   },
   {
    "duration": 186118,
    "start_time": "2022-12-22T08:10:21.772Z"
   },
   {
    "duration": 1807,
    "start_time": "2022-12-22T08:18:49.157Z"
   },
   {
    "duration": 847,
    "start_time": "2022-12-22T08:18:50.966Z"
   },
   {
    "duration": 272,
    "start_time": "2022-12-22T08:18:51.815Z"
   },
   {
    "duration": 4,
    "start_time": "2022-12-22T08:18:52.089Z"
   },
   {
    "duration": 2549,
    "start_time": "2022-12-22T08:18:52.095Z"
   },
   {
    "duration": 2839,
    "start_time": "2022-12-22T08:18:54.645Z"
   },
   {
    "duration": 5,
    "start_time": "2022-12-22T08:18:57.486Z"
   },
   {
    "duration": 91,
    "start_time": "2022-12-22T08:18:57.493Z"
   },
   {
    "duration": 7307,
    "start_time": "2022-12-22T08:18:57.586Z"
   },
   {
    "duration": 1675,
    "start_time": "2022-12-22T08:21:32.262Z"
   },
   {
    "duration": 892,
    "start_time": "2022-12-22T08:21:33.940Z"
   },
   {
    "duration": 261,
    "start_time": "2022-12-22T08:21:34.833Z"
   },
   {
    "duration": 4,
    "start_time": "2022-12-22T08:21:35.096Z"
   },
   {
    "duration": 2486,
    "start_time": "2022-12-22T08:21:35.102Z"
   },
   {
    "duration": 2764,
    "start_time": "2022-12-22T08:21:37.589Z"
   },
   {
    "duration": 5,
    "start_time": "2022-12-22T08:21:40.355Z"
   },
   {
    "duration": 82,
    "start_time": "2022-12-22T08:21:40.361Z"
   },
   {
    "duration": 6861,
    "start_time": "2022-12-22T08:21:40.446Z"
   },
   {
    "duration": 1755,
    "start_time": "2022-12-22T08:22:46.998Z"
   },
   {
    "duration": 899,
    "start_time": "2022-12-22T08:22:48.755Z"
   },
   {
    "duration": 257,
    "start_time": "2022-12-22T08:22:49.656Z"
   },
   {
    "duration": 8,
    "start_time": "2022-12-22T08:22:49.914Z"
   },
   {
    "duration": 2488,
    "start_time": "2022-12-22T08:22:49.925Z"
   },
   {
    "duration": 2771,
    "start_time": "2022-12-22T08:22:52.422Z"
   },
   {
    "duration": 4,
    "start_time": "2022-12-22T08:22:55.195Z"
   },
   {
    "duration": 86,
    "start_time": "2022-12-22T08:22:55.201Z"
   },
   {
    "duration": 7293,
    "start_time": "2022-12-22T08:22:55.288Z"
   },
   {
    "duration": 185843,
    "start_time": "2022-12-22T08:23:02.583Z"
   },
   {
    "duration": 1689,
    "start_time": "2022-12-22T08:27:17.353Z"
   },
   {
    "duration": 873,
    "start_time": "2022-12-22T08:27:19.044Z"
   },
   {
    "duration": 266,
    "start_time": "2022-12-22T08:27:19.918Z"
   },
   {
    "duration": 4,
    "start_time": "2022-12-22T08:27:20.186Z"
   },
   {
    "duration": 2620,
    "start_time": "2022-12-22T08:27:20.192Z"
   },
   {
    "duration": 2922,
    "start_time": "2022-12-22T08:27:22.813Z"
   },
   {
    "duration": 68,
    "start_time": "2022-12-22T08:27:25.737Z"
   },
   {
    "duration": 193,
    "start_time": "2022-12-22T08:27:25.807Z"
   },
   {
    "duration": 0,
    "start_time": "2022-12-22T08:27:26.002Z"
   },
   {
    "duration": 0,
    "start_time": "2022-12-22T08:27:26.003Z"
   },
   {
    "duration": 0,
    "start_time": "2022-12-22T08:27:26.005Z"
   },
   {
    "duration": 0,
    "start_time": "2022-12-22T08:27:26.006Z"
   },
   {
    "duration": 0,
    "start_time": "2022-12-22T08:27:26.007Z"
   },
   {
    "duration": 0,
    "start_time": "2022-12-22T08:27:26.008Z"
   },
   {
    "duration": 0,
    "start_time": "2022-12-22T08:27:26.022Z"
   },
   {
    "duration": 0,
    "start_time": "2022-12-22T08:27:26.023Z"
   },
   {
    "duration": 32,
    "start_time": "2022-12-22T08:28:00.564Z"
   },
   {
    "duration": 10,
    "start_time": "2022-12-22T08:28:06.287Z"
   },
   {
    "duration": 3,
    "start_time": "2022-12-22T08:30:02.146Z"
   },
   {
    "duration": 19,
    "start_time": "2022-12-22T08:30:02.953Z"
   },
   {
    "duration": 33,
    "start_time": "2022-12-22T08:30:03.637Z"
   },
   {
    "duration": 46,
    "start_time": "2022-12-22T08:30:24.835Z"
   },
   {
    "duration": 6,
    "start_time": "2022-12-22T08:30:27.596Z"
   },
   {
    "duration": 7,
    "start_time": "2022-12-22T08:30:27.882Z"
   },
   {
    "duration": 2210,
    "start_time": "2022-12-22T08:30:31.772Z"
   },
   {
    "duration": 3567,
    "start_time": "2022-12-22T08:30:33.984Z"
   },
   {
    "duration": 238,
    "start_time": "2022-12-22T08:30:37.553Z"
   },
   {
    "duration": 3,
    "start_time": "2022-12-22T08:30:37.793Z"
   },
   {
    "duration": 2429,
    "start_time": "2022-12-22T08:30:37.798Z"
   },
   {
    "duration": 2782,
    "start_time": "2022-12-22T08:30:40.229Z"
   },
   {
    "duration": 4,
    "start_time": "2022-12-22T08:30:43.013Z"
   },
   {
    "duration": 50,
    "start_time": "2022-12-22T08:32:52.479Z"
   },
   {
    "duration": 6,
    "start_time": "2022-12-22T08:33:15.642Z"
   },
   {
    "duration": 7,
    "start_time": "2022-12-22T08:33:16.715Z"
   },
   {
    "duration": 6,
    "start_time": "2022-12-22T08:33:27.580Z"
   },
   {
    "duration": 8,
    "start_time": "2022-12-22T08:33:27.860Z"
   },
   {
    "duration": 2370,
    "start_time": "2022-12-22T08:33:38.503Z"
   },
   {
    "duration": 3634,
    "start_time": "2022-12-22T08:33:40.876Z"
   },
   {
    "duration": 254,
    "start_time": "2022-12-22T08:33:44.513Z"
   },
   {
    "duration": 5,
    "start_time": "2022-12-22T08:33:44.768Z"
   },
   {
    "duration": 2518,
    "start_time": "2022-12-22T08:33:44.775Z"
   },
   {
    "duration": 2834,
    "start_time": "2022-12-22T08:33:47.295Z"
   },
   {
    "duration": 8,
    "start_time": "2022-12-22T08:33:50.130Z"
   },
   {
    "duration": 1810,
    "start_time": "2022-12-22T08:33:50.140Z"
   },
   {
    "duration": 35,
    "start_time": "2022-12-22T08:33:51.951Z"
   },
   {
    "duration": 174,
    "start_time": "2022-12-22T08:33:51.988Z"
   },
   {
    "duration": 0,
    "start_time": "2022-12-22T08:33:52.164Z"
   },
   {
    "duration": 0,
    "start_time": "2022-12-22T08:33:52.165Z"
   },
   {
    "duration": 0,
    "start_time": "2022-12-22T08:33:52.167Z"
   },
   {
    "duration": 0,
    "start_time": "2022-12-22T08:33:52.168Z"
   },
   {
    "duration": 0,
    "start_time": "2022-12-22T08:33:52.169Z"
   },
   {
    "duration": 0,
    "start_time": "2022-12-22T08:33:52.170Z"
   },
   {
    "duration": 0,
    "start_time": "2022-12-22T08:33:52.171Z"
   },
   {
    "duration": 0,
    "start_time": "2022-12-22T08:33:52.172Z"
   },
   {
    "duration": 0,
    "start_time": "2022-12-22T08:33:52.173Z"
   },
   {
    "duration": 1831,
    "start_time": "2022-12-22T08:37:01.496Z"
   },
   {
    "duration": 936,
    "start_time": "2022-12-22T08:37:03.329Z"
   },
   {
    "duration": 287,
    "start_time": "2022-12-22T08:37:04.267Z"
   },
   {
    "duration": 4,
    "start_time": "2022-12-22T08:37:04.557Z"
   },
   {
    "duration": 2566,
    "start_time": "2022-12-22T08:37:04.562Z"
   },
   {
    "duration": 2859,
    "start_time": "2022-12-22T08:37:07.132Z"
   },
   {
    "duration": 3,
    "start_time": "2022-12-22T08:37:09.993Z"
   },
   {
    "duration": 1892,
    "start_time": "2022-12-22T08:37:09.998Z"
   },
   {
    "duration": 43,
    "start_time": "2022-12-22T08:37:11.892Z"
   },
   {
    "duration": 149,
    "start_time": "2022-12-22T08:37:11.941Z"
   },
   {
    "duration": 0,
    "start_time": "2022-12-22T08:37:12.092Z"
   },
   {
    "duration": 0,
    "start_time": "2022-12-22T08:37:12.093Z"
   },
   {
    "duration": 0,
    "start_time": "2022-12-22T08:37:12.094Z"
   },
   {
    "duration": 0,
    "start_time": "2022-12-22T08:37:12.095Z"
   },
   {
    "duration": 0,
    "start_time": "2022-12-22T08:37:12.097Z"
   },
   {
    "duration": 0,
    "start_time": "2022-12-22T08:37:12.098Z"
   },
   {
    "duration": 0,
    "start_time": "2022-12-22T08:37:12.098Z"
   },
   {
    "duration": 0,
    "start_time": "2022-12-22T08:37:12.099Z"
   },
   {
    "duration": 0,
    "start_time": "2022-12-22T08:37:12.100Z"
   },
   {
    "duration": 3,
    "start_time": "2022-12-22T08:40:23.834Z"
   },
   {
    "duration": 31,
    "start_time": "2022-12-22T08:40:24.661Z"
   },
   {
    "duration": 84,
    "start_time": "2022-12-22T08:40:25.502Z"
   },
   {
    "duration": 32,
    "start_time": "2022-12-22T08:40:30.539Z"
   },
   {
    "duration": 22501,
    "start_time": "2022-12-22T08:40:35.997Z"
   },
   {
    "duration": 861,
    "start_time": "2022-12-22T08:40:58.500Z"
   },
   {
    "duration": 250,
    "start_time": "2022-12-22T08:40:59.363Z"
   },
   {
    "duration": 5,
    "start_time": "2022-12-22T08:40:59.622Z"
   },
   {
    "duration": 2384,
    "start_time": "2022-12-22T08:40:59.628Z"
   },
   {
    "duration": 2738,
    "start_time": "2022-12-22T08:41:02.013Z"
   },
   {
    "duration": 3,
    "start_time": "2022-12-22T08:41:04.753Z"
   },
   {
    "duration": 10,
    "start_time": "2022-12-22T08:41:04.758Z"
   },
   {
    "duration": 55,
    "start_time": "2022-12-22T08:44:24.199Z"
   },
   {
    "duration": 7,
    "start_time": "2022-12-22T08:44:24.587Z"
   },
   {
    "duration": 2720,
    "start_time": "2022-12-22T08:44:28.233Z"
   },
   {
    "duration": 3569,
    "start_time": "2022-12-22T08:44:30.956Z"
   },
   {
    "duration": 251,
    "start_time": "2022-12-22T08:44:34.528Z"
   },
   {
    "duration": 3,
    "start_time": "2022-12-22T08:44:34.780Z"
   },
   {
    "duration": 181,
    "start_time": "2022-12-22T08:44:34.785Z"
   },
   {
    "duration": 0,
    "start_time": "2022-12-22T08:44:34.968Z"
   },
   {
    "duration": 0,
    "start_time": "2022-12-22T08:44:34.969Z"
   },
   {
    "duration": 0,
    "start_time": "2022-12-22T08:44:34.970Z"
   },
   {
    "duration": 0,
    "start_time": "2022-12-22T08:44:34.970Z"
   },
   {
    "duration": 0,
    "start_time": "2022-12-22T08:44:34.972Z"
   },
   {
    "duration": 0,
    "start_time": "2022-12-22T08:44:34.973Z"
   },
   {
    "duration": 0,
    "start_time": "2022-12-22T08:44:34.974Z"
   },
   {
    "duration": 0,
    "start_time": "2022-12-22T08:44:34.975Z"
   },
   {
    "duration": 0,
    "start_time": "2022-12-22T08:44:34.976Z"
   },
   {
    "duration": 0,
    "start_time": "2022-12-22T08:44:34.977Z"
   },
   {
    "duration": 0,
    "start_time": "2022-12-22T08:44:34.978Z"
   },
   {
    "duration": 0,
    "start_time": "2022-12-22T08:44:34.979Z"
   },
   {
    "duration": 0,
    "start_time": "2022-12-22T08:44:34.979Z"
   },
   {
    "duration": 0,
    "start_time": "2022-12-22T08:44:34.980Z"
   },
   {
    "duration": 0,
    "start_time": "2022-12-22T08:44:34.981Z"
   },
   {
    "duration": 29,
    "start_time": "2022-12-22T08:44:57.880Z"
   },
   {
    "duration": 4,
    "start_time": "2022-12-22T08:44:58.774Z"
   },
   {
    "duration": 113,
    "start_time": "2022-12-22T08:45:00.039Z"
   },
   {
    "duration": 112,
    "start_time": "2022-12-22T08:45:36.662Z"
   },
   {
    "duration": 74,
    "start_time": "2022-12-22T08:46:05.489Z"
   },
   {
    "duration": 39,
    "start_time": "2022-12-22T08:46:05.863Z"
   },
   {
    "duration": 1747,
    "start_time": "2022-12-22T08:46:10.015Z"
   },
   {
    "duration": 880,
    "start_time": "2022-12-22T08:46:11.764Z"
   },
   {
    "duration": 260,
    "start_time": "2022-12-22T08:46:12.646Z"
   },
   {
    "duration": 77,
    "start_time": "2022-12-22T08:46:12.908Z"
   },
   {
    "duration": 0,
    "start_time": "2022-12-22T08:46:12.987Z"
   },
   {
    "duration": 0,
    "start_time": "2022-12-22T08:46:12.988Z"
   },
   {
    "duration": 0,
    "start_time": "2022-12-22T08:46:12.989Z"
   },
   {
    "duration": 0,
    "start_time": "2022-12-22T08:46:12.991Z"
   },
   {
    "duration": 0,
    "start_time": "2022-12-22T08:46:12.991Z"
   },
   {
    "duration": 0,
    "start_time": "2022-12-22T08:46:12.993Z"
   },
   {
    "duration": 0,
    "start_time": "2022-12-22T08:46:12.993Z"
   },
   {
    "duration": 0,
    "start_time": "2022-12-22T08:46:12.995Z"
   },
   {
    "duration": 0,
    "start_time": "2022-12-22T08:46:12.996Z"
   },
   {
    "duration": 0,
    "start_time": "2022-12-22T08:46:12.996Z"
   },
   {
    "duration": 0,
    "start_time": "2022-12-22T08:46:12.997Z"
   },
   {
    "duration": 0,
    "start_time": "2022-12-22T08:46:12.999Z"
   },
   {
    "duration": 0,
    "start_time": "2022-12-22T08:46:13.000Z"
   },
   {
    "duration": 0,
    "start_time": "2022-12-22T08:46:13.001Z"
   },
   {
    "duration": 0,
    "start_time": "2022-12-22T08:46:13.002Z"
   },
   {
    "duration": 0,
    "start_time": "2022-12-22T08:46:13.003Z"
   },
   {
    "duration": 1874,
    "start_time": "2022-12-22T08:46:23.443Z"
   },
   {
    "duration": 871,
    "start_time": "2022-12-22T08:46:25.319Z"
   },
   {
    "duration": 255,
    "start_time": "2022-12-22T08:46:26.191Z"
   },
   {
    "duration": 5,
    "start_time": "2022-12-22T08:46:26.448Z"
   },
   {
    "duration": 41,
    "start_time": "2022-12-22T08:46:26.456Z"
   },
   {
    "duration": 5,
    "start_time": "2022-12-22T08:46:26.498Z"
   },
   {
    "duration": 110,
    "start_time": "2022-12-22T08:46:26.521Z"
   },
   {
    "duration": 2516,
    "start_time": "2022-12-22T08:46:26.633Z"
   },
   {
    "duration": 2919,
    "start_time": "2022-12-22T08:46:29.150Z"
   },
   {
    "duration": 4,
    "start_time": "2022-12-22T08:46:32.071Z"
   },
   {
    "duration": 11,
    "start_time": "2022-12-22T08:46:32.077Z"
   },
   {
    "duration": 157,
    "start_time": "2022-12-22T08:46:32.090Z"
   },
   {
    "duration": 0,
    "start_time": "2022-12-22T08:46:32.248Z"
   },
   {
    "duration": 0,
    "start_time": "2022-12-22T08:46:32.249Z"
   },
   {
    "duration": 0,
    "start_time": "2022-12-22T08:46:32.250Z"
   },
   {
    "duration": 0,
    "start_time": "2022-12-22T08:46:32.252Z"
   },
   {
    "duration": 0,
    "start_time": "2022-12-22T08:46:32.253Z"
   },
   {
    "duration": 0,
    "start_time": "2022-12-22T08:46:32.254Z"
   },
   {
    "duration": 0,
    "start_time": "2022-12-22T08:46:32.255Z"
   },
   {
    "duration": 0,
    "start_time": "2022-12-22T08:46:32.257Z"
   },
   {
    "duration": 13,
    "start_time": "2022-12-22T08:46:57.742Z"
   },
   {
    "duration": 6,
    "start_time": "2022-12-22T08:47:30.366Z"
   },
   {
    "duration": 19,
    "start_time": "2022-12-22T08:47:30.823Z"
   },
   {
    "duration": 18,
    "start_time": "2022-12-22T08:47:50.712Z"
   },
   {
    "duration": 1809,
    "start_time": "2022-12-22T08:48:14.121Z"
   },
   {
    "duration": 834,
    "start_time": "2022-12-22T08:48:15.932Z"
   },
   {
    "duration": 246,
    "start_time": "2022-12-22T08:48:16.768Z"
   },
   {
    "duration": 7,
    "start_time": "2022-12-22T08:48:17.016Z"
   },
   {
    "duration": 47,
    "start_time": "2022-12-22T08:48:17.024Z"
   },
   {
    "duration": 4,
    "start_time": "2022-12-22T08:48:17.073Z"
   },
   {
    "duration": 105,
    "start_time": "2022-12-22T08:48:17.078Z"
   },
   {
    "duration": 2424,
    "start_time": "2022-12-22T08:48:17.185Z"
   },
   {
    "duration": 2661,
    "start_time": "2022-12-22T08:48:19.611Z"
   },
   {
    "duration": 5,
    "start_time": "2022-12-22T08:48:22.274Z"
   },
   {
    "duration": 158,
    "start_time": "2022-12-22T08:48:22.280Z"
   },
   {
    "duration": 1,
    "start_time": "2022-12-22T08:48:22.440Z"
   },
   {
    "duration": 0,
    "start_time": "2022-12-22T08:48:22.442Z"
   },
   {
    "duration": 0,
    "start_time": "2022-12-22T08:48:22.444Z"
   },
   {
    "duration": 0,
    "start_time": "2022-12-22T08:48:22.446Z"
   },
   {
    "duration": 0,
    "start_time": "2022-12-22T08:48:22.447Z"
   },
   {
    "duration": 15,
    "start_time": "2022-12-22T08:50:39.963Z"
   },
   {
    "duration": 45,
    "start_time": "2022-12-22T08:50:46.650Z"
   },
   {
    "duration": 0,
    "start_time": "2022-12-22T08:50:46.697Z"
   },
   {
    "duration": 2411,
    "start_time": "2022-12-22T08:50:53.356Z"
   },
   {
    "duration": 3501,
    "start_time": "2022-12-22T08:50:55.769Z"
   },
   {
    "duration": 238,
    "start_time": "2022-12-22T08:50:59.271Z"
   },
   {
    "duration": 3,
    "start_time": "2022-12-22T08:50:59.512Z"
   },
   {
    "duration": 43,
    "start_time": "2022-12-22T08:50:59.524Z"
   },
   {
    "duration": 4,
    "start_time": "2022-12-22T08:50:59.569Z"
   },
   {
    "duration": 101,
    "start_time": "2022-12-22T08:50:59.574Z"
   },
   {
    "duration": 2475,
    "start_time": "2022-12-22T08:50:59.677Z"
   },
   {
    "duration": 2721,
    "start_time": "2022-12-22T08:51:02.154Z"
   },
   {
    "duration": 6,
    "start_time": "2022-12-22T08:51:04.877Z"
   },
   {
    "duration": 4,
    "start_time": "2022-12-22T08:51:04.885Z"
   },
   {
    "duration": 141,
    "start_time": "2022-12-22T08:51:04.890Z"
   },
   {
    "duration": 0,
    "start_time": "2022-12-22T08:51:05.033Z"
   },
   {
    "duration": 0,
    "start_time": "2022-12-22T08:51:05.035Z"
   },
   {
    "duration": 0,
    "start_time": "2022-12-22T08:51:05.037Z"
   },
   {
    "duration": 0,
    "start_time": "2022-12-22T08:51:05.038Z"
   },
   {
    "duration": 0,
    "start_time": "2022-12-22T08:51:05.040Z"
   },
   {
    "duration": 0,
    "start_time": "2022-12-22T08:51:05.041Z"
   },
   {
    "duration": 18,
    "start_time": "2022-12-22T08:51:41.924Z"
   },
   {
    "duration": 1751,
    "start_time": "2022-12-22T08:51:52.148Z"
   },
   {
    "duration": 881,
    "start_time": "2022-12-22T08:51:53.902Z"
   },
   {
    "duration": 295,
    "start_time": "2022-12-22T08:51:54.785Z"
   },
   {
    "duration": 3,
    "start_time": "2022-12-22T08:51:55.081Z"
   },
   {
    "duration": 52,
    "start_time": "2022-12-22T08:51:55.086Z"
   },
   {
    "duration": 3,
    "start_time": "2022-12-22T08:51:55.140Z"
   },
   {
    "duration": 108,
    "start_time": "2022-12-22T08:51:55.145Z"
   },
   {
    "duration": 2575,
    "start_time": "2022-12-22T08:51:55.254Z"
   },
   {
    "duration": 2712,
    "start_time": "2022-12-22T08:51:57.831Z"
   },
   {
    "duration": 6,
    "start_time": "2022-12-22T08:52:00.546Z"
   },
   {
    "duration": 31,
    "start_time": "2022-12-22T08:52:00.555Z"
   },
   {
    "duration": 172,
    "start_time": "2022-12-22T08:52:00.588Z"
   },
   {
    "duration": 0,
    "start_time": "2022-12-22T08:52:00.762Z"
   },
   {
    "duration": 0,
    "start_time": "2022-12-22T08:52:00.763Z"
   },
   {
    "duration": 0,
    "start_time": "2022-12-22T08:52:00.765Z"
   },
   {
    "duration": 0,
    "start_time": "2022-12-22T08:52:00.767Z"
   },
   {
    "duration": 0,
    "start_time": "2022-12-22T08:52:00.768Z"
   },
   {
    "duration": 0,
    "start_time": "2022-12-22T08:52:00.770Z"
   },
   {
    "duration": 15,
    "start_time": "2022-12-22T08:53:43.467Z"
   },
   {
    "duration": 1764,
    "start_time": "2022-12-22T08:53:49.453Z"
   },
   {
    "duration": 848,
    "start_time": "2022-12-22T08:53:51.219Z"
   },
   {
    "duration": 240,
    "start_time": "2022-12-22T08:53:52.068Z"
   },
   {
    "duration": 3,
    "start_time": "2022-12-22T08:53:52.310Z"
   },
   {
    "duration": 39,
    "start_time": "2022-12-22T08:53:52.321Z"
   },
   {
    "duration": 4,
    "start_time": "2022-12-22T08:53:52.362Z"
   },
   {
    "duration": 120,
    "start_time": "2022-12-22T08:53:52.368Z"
   },
   {
    "duration": 2448,
    "start_time": "2022-12-22T08:53:52.490Z"
   },
   {
    "duration": 2744,
    "start_time": "2022-12-22T08:53:54.944Z"
   },
   {
    "duration": 5,
    "start_time": "2022-12-22T08:53:57.691Z"
   },
   {
    "duration": 6,
    "start_time": "2022-12-22T08:53:57.697Z"
   },
   {
    "duration": 148,
    "start_time": "2022-12-22T08:53:57.705Z"
   },
   {
    "duration": 0,
    "start_time": "2022-12-22T08:53:57.855Z"
   },
   {
    "duration": 0,
    "start_time": "2022-12-22T08:53:57.857Z"
   },
   {
    "duration": 0,
    "start_time": "2022-12-22T08:53:57.858Z"
   },
   {
    "duration": 0,
    "start_time": "2022-12-22T08:53:57.859Z"
   },
   {
    "duration": 0,
    "start_time": "2022-12-22T08:53:57.860Z"
   },
   {
    "duration": 1807,
    "start_time": "2022-12-22T08:56:28.732Z"
   },
   {
    "duration": 845,
    "start_time": "2022-12-22T08:56:30.541Z"
   },
   {
    "duration": 271,
    "start_time": "2022-12-22T08:56:31.387Z"
   },
   {
    "duration": 4,
    "start_time": "2022-12-22T08:56:31.659Z"
   },
   {
    "duration": 42,
    "start_time": "2022-12-22T08:56:31.666Z"
   },
   {
    "duration": 4,
    "start_time": "2022-12-22T08:56:31.710Z"
   },
   {
    "duration": 97,
    "start_time": "2022-12-22T08:56:31.722Z"
   },
   {
    "duration": 2641,
    "start_time": "2022-12-22T08:56:31.822Z"
   },
   {
    "duration": 2835,
    "start_time": "2022-12-22T08:56:34.464Z"
   },
   {
    "duration": 4,
    "start_time": "2022-12-22T08:56:37.301Z"
   },
   {
    "duration": 5,
    "start_time": "2022-12-22T08:56:37.306Z"
   },
   {
    "duration": 169,
    "start_time": "2022-12-22T08:56:37.312Z"
   },
   {
    "duration": 0,
    "start_time": "2022-12-22T08:56:37.483Z"
   },
   {
    "duration": 0,
    "start_time": "2022-12-22T08:56:37.484Z"
   },
   {
    "duration": 0,
    "start_time": "2022-12-22T08:56:37.485Z"
   },
   {
    "duration": 0,
    "start_time": "2022-12-22T08:56:37.487Z"
   },
   {
    "duration": 0,
    "start_time": "2022-12-22T08:56:37.488Z"
   },
   {
    "duration": 13,
    "start_time": "2022-12-22T08:58:06.280Z"
   },
   {
    "duration": 15,
    "start_time": "2022-12-22T08:58:14.412Z"
   },
   {
    "duration": 1898,
    "start_time": "2022-12-22T08:58:18.300Z"
   },
   {
    "duration": 894,
    "start_time": "2022-12-22T08:58:20.200Z"
   },
   {
    "duration": 265,
    "start_time": "2022-12-22T08:58:21.096Z"
   },
   {
    "duration": 4,
    "start_time": "2022-12-22T08:58:21.363Z"
   },
   {
    "duration": 59,
    "start_time": "2022-12-22T08:58:21.369Z"
   },
   {
    "duration": 5,
    "start_time": "2022-12-22T08:58:21.430Z"
   },
   {
    "duration": 119,
    "start_time": "2022-12-22T08:58:21.436Z"
   },
   {
    "duration": 2577,
    "start_time": "2022-12-22T08:58:21.557Z"
   },
   {
    "duration": 2860,
    "start_time": "2022-12-22T08:58:24.136Z"
   },
   {
    "duration": 5,
    "start_time": "2022-12-22T08:58:26.998Z"
   },
   {
    "duration": 6,
    "start_time": "2022-12-22T08:58:27.004Z"
   },
   {
    "duration": 151,
    "start_time": "2022-12-22T08:58:27.022Z"
   },
   {
    "duration": 0,
    "start_time": "2022-12-22T08:58:27.175Z"
   },
   {
    "duration": 0,
    "start_time": "2022-12-22T08:58:27.177Z"
   },
   {
    "duration": 0,
    "start_time": "2022-12-22T08:58:27.178Z"
   },
   {
    "duration": 0,
    "start_time": "2022-12-22T08:58:27.180Z"
   },
   {
    "duration": 0,
    "start_time": "2022-12-22T08:58:27.181Z"
   },
   {
    "duration": 19,
    "start_time": "2022-12-22T08:59:11.709Z"
   },
   {
    "duration": 1806,
    "start_time": "2022-12-22T08:59:16.761Z"
   },
   {
    "duration": 878,
    "start_time": "2022-12-22T08:59:18.569Z"
   },
   {
    "duration": 245,
    "start_time": "2022-12-22T08:59:19.448Z"
   },
   {
    "duration": 3,
    "start_time": "2022-12-22T08:59:19.696Z"
   },
   {
    "duration": 48,
    "start_time": "2022-12-22T08:59:19.700Z"
   },
   {
    "duration": 4,
    "start_time": "2022-12-22T08:59:19.750Z"
   },
   {
    "duration": 109,
    "start_time": "2022-12-22T08:59:19.756Z"
   },
   {
    "duration": 2474,
    "start_time": "2022-12-22T08:59:19.867Z"
   },
   {
    "duration": 2745,
    "start_time": "2022-12-22T08:59:22.343Z"
   },
   {
    "duration": 5,
    "start_time": "2022-12-22T08:59:25.091Z"
   },
   {
    "duration": 8,
    "start_time": "2022-12-22T08:59:25.097Z"
   },
   {
    "duration": 154,
    "start_time": "2022-12-22T08:59:25.107Z"
   },
   {
    "duration": 0,
    "start_time": "2022-12-22T08:59:25.263Z"
   },
   {
    "duration": 0,
    "start_time": "2022-12-22T08:59:25.264Z"
   },
   {
    "duration": 0,
    "start_time": "2022-12-22T08:59:25.266Z"
   },
   {
    "duration": 0,
    "start_time": "2022-12-22T08:59:25.267Z"
   },
   {
    "duration": 0,
    "start_time": "2022-12-22T08:59:25.269Z"
   },
   {
    "duration": 934,
    "start_time": "2022-12-22T09:05:28.859Z"
   },
   {
    "duration": 934,
    "start_time": "2022-12-22T09:05:44.639Z"
   },
   {
    "duration": 14,
    "start_time": "2022-12-22T09:06:05.750Z"
   },
   {
    "duration": 1900,
    "start_time": "2022-12-22T09:06:17.567Z"
   },
   {
    "duration": 908,
    "start_time": "2022-12-22T09:06:19.469Z"
   },
   {
    "duration": 266,
    "start_time": "2022-12-22T09:06:20.378Z"
   },
   {
    "duration": 3,
    "start_time": "2022-12-22T09:06:20.646Z"
   },
   {
    "duration": 39,
    "start_time": "2022-12-22T09:06:20.651Z"
   },
   {
    "duration": 4,
    "start_time": "2022-12-22T09:06:20.692Z"
   },
   {
    "duration": 119,
    "start_time": "2022-12-22T09:06:20.697Z"
   },
   {
    "duration": 2530,
    "start_time": "2022-12-22T09:06:20.818Z"
   },
   {
    "duration": 2765,
    "start_time": "2022-12-22T09:06:23.350Z"
   },
   {
    "duration": 4,
    "start_time": "2022-12-22T09:06:26.122Z"
   },
   {
    "duration": 157,
    "start_time": "2022-12-22T09:06:26.128Z"
   },
   {
    "duration": 0,
    "start_time": "2022-12-22T09:06:26.287Z"
   },
   {
    "duration": 0,
    "start_time": "2022-12-22T09:06:26.288Z"
   },
   {
    "duration": 0,
    "start_time": "2022-12-22T09:06:26.289Z"
   },
   {
    "duration": 0,
    "start_time": "2022-12-22T09:06:26.290Z"
   },
   {
    "duration": 0,
    "start_time": "2022-12-22T09:06:26.291Z"
   },
   {
    "duration": 33,
    "start_time": "2022-12-22T09:08:06.207Z"
   },
   {
    "duration": 798,
    "start_time": "2022-12-22T09:08:06.408Z"
   },
   {
    "duration": 181,
    "start_time": "2022-12-22T09:08:07.208Z"
   },
   {
    "duration": 4,
    "start_time": "2022-12-22T09:08:07.391Z"
   },
   {
    "duration": 98,
    "start_time": "2022-12-22T09:08:07.396Z"
   },
   {
    "duration": 4,
    "start_time": "2022-12-22T09:08:07.496Z"
   },
   {
    "duration": 108,
    "start_time": "2022-12-22T09:08:07.502Z"
   },
   {
    "duration": 2519,
    "start_time": "2022-12-22T09:08:07.612Z"
   },
   {
    "duration": 2355,
    "start_time": "2022-12-22T09:08:19.932Z"
   },
   {
    "duration": 3608,
    "start_time": "2022-12-22T09:08:22.289Z"
   },
   {
    "duration": 255,
    "start_time": "2022-12-22T09:08:25.899Z"
   },
   {
    "duration": 3,
    "start_time": "2022-12-22T09:08:26.156Z"
   },
   {
    "duration": 68,
    "start_time": "2022-12-22T09:08:26.161Z"
   },
   {
    "duration": 10,
    "start_time": "2022-12-22T09:08:26.231Z"
   },
   {
    "duration": 113,
    "start_time": "2022-12-22T09:08:26.242Z"
   },
   {
    "duration": 2485,
    "start_time": "2022-12-22T09:08:26.357Z"
   },
   {
    "duration": 2811,
    "start_time": "2022-12-22T09:08:28.844Z"
   },
   {
    "duration": 9,
    "start_time": "2022-12-22T09:08:31.658Z"
   },
   {
    "duration": 140,
    "start_time": "2022-12-22T09:08:31.669Z"
   },
   {
    "duration": 0,
    "start_time": "2022-12-22T09:08:31.811Z"
   },
   {
    "duration": 0,
    "start_time": "2022-12-22T09:08:31.812Z"
   },
   {
    "duration": 0,
    "start_time": "2022-12-22T09:08:31.813Z"
   },
   {
    "duration": 0,
    "start_time": "2022-12-22T09:08:31.814Z"
   },
   {
    "duration": 3,
    "start_time": "2022-12-22T09:08:31.822Z"
   },
   {
    "duration": 13,
    "start_time": "2022-12-22T09:12:11.769Z"
   },
   {
    "duration": 2010,
    "start_time": "2022-12-22T09:13:01.602Z"
   },
   {
    "duration": 1000,
    "start_time": "2022-12-22T09:13:03.615Z"
   },
   {
    "duration": 276,
    "start_time": "2022-12-22T09:13:04.618Z"
   },
   {
    "duration": 4,
    "start_time": "2022-12-22T09:13:04.897Z"
   },
   {
    "duration": 76,
    "start_time": "2022-12-22T09:13:04.903Z"
   },
   {
    "duration": 6,
    "start_time": "2022-12-22T09:13:04.981Z"
   },
   {
    "duration": 121,
    "start_time": "2022-12-22T09:13:04.989Z"
   },
   {
    "duration": 2830,
    "start_time": "2022-12-22T09:13:05.111Z"
   },
   {
    "duration": 2898,
    "start_time": "2022-12-22T09:13:07.942Z"
   },
   {
    "duration": 6,
    "start_time": "2022-12-22T09:13:10.845Z"
   },
   {
    "duration": 218,
    "start_time": "2022-12-22T09:13:10.853Z"
   },
   {
    "duration": 0,
    "start_time": "2022-12-22T09:13:11.073Z"
   },
   {
    "duration": 0,
    "start_time": "2022-12-22T09:13:11.075Z"
   },
   {
    "duration": 0,
    "start_time": "2022-12-22T09:13:11.077Z"
   },
   {
    "duration": 0,
    "start_time": "2022-12-22T09:13:11.078Z"
   },
   {
    "duration": 0,
    "start_time": "2022-12-22T09:13:11.079Z"
   },
   {
    "duration": 1871,
    "start_time": "2022-12-22T09:15:31.058Z"
   },
   {
    "duration": 912,
    "start_time": "2022-12-22T09:15:32.935Z"
   },
   {
    "duration": 293,
    "start_time": "2022-12-22T09:15:33.849Z"
   },
   {
    "duration": 2808,
    "start_time": "2022-12-22T09:15:34.151Z"
   },
   {
    "duration": 2849,
    "start_time": "2022-12-22T09:15:36.961Z"
   },
   {
    "duration": 182,
    "start_time": "2022-12-22T09:15:39.812Z"
   },
   {
    "duration": 0,
    "start_time": "2022-12-22T09:15:39.996Z"
   },
   {
    "duration": 0,
    "start_time": "2022-12-22T09:15:39.997Z"
   },
   {
    "duration": 0,
    "start_time": "2022-12-22T09:15:39.998Z"
   },
   {
    "duration": 0,
    "start_time": "2022-12-22T09:15:39.999Z"
   },
   {
    "duration": 0,
    "start_time": "2022-12-22T09:15:40.000Z"
   },
   {
    "duration": 0,
    "start_time": "2022-12-22T09:15:40.001Z"
   },
   {
    "duration": 0,
    "start_time": "2022-12-22T09:15:40.002Z"
   },
   {
    "duration": 0,
    "start_time": "2022-12-22T09:15:40.003Z"
   },
   {
    "duration": 0,
    "start_time": "2022-12-22T09:15:40.005Z"
   },
   {
    "duration": 1309,
    "start_time": "2022-12-22T09:15:54.050Z"
   },
   {
    "duration": 3,
    "start_time": "2022-12-22T09:15:55.845Z"
   },
   {
    "duration": 3,
    "start_time": "2022-12-22T09:15:56.655Z"
   },
   {
    "duration": 8753,
    "start_time": "2022-12-22T09:16:15.902Z"
   },
   {
    "duration": 6,
    "start_time": "2022-12-22T09:16:32.078Z"
   },
   {
    "duration": 48,
    "start_time": "2022-12-22T09:16:33.303Z"
   },
   {
    "duration": 1726,
    "start_time": "2022-12-22T09:22:14.436Z"
   },
   {
    "duration": 885,
    "start_time": "2022-12-22T09:22:16.163Z"
   },
   {
    "duration": 270,
    "start_time": "2022-12-22T09:22:17.049Z"
   },
   {
    "duration": 13,
    "start_time": "2022-12-22T09:22:17.321Z"
   },
   {
    "duration": 2628,
    "start_time": "2022-12-22T09:22:17.335Z"
   },
   {
    "duration": 2859,
    "start_time": "2022-12-22T09:22:19.964Z"
   },
   {
    "duration": 7571,
    "start_time": "2022-12-22T09:22:22.827Z"
   },
   {
    "duration": 158,
    "start_time": "2022-12-22T09:22:30.399Z"
   },
   {
    "duration": 0,
    "start_time": "2022-12-22T09:22:30.559Z"
   },
   {
    "duration": 0,
    "start_time": "2022-12-22T09:22:30.561Z"
   },
   {
    "duration": 0,
    "start_time": "2022-12-22T09:22:30.563Z"
   },
   {
    "duration": 0,
    "start_time": "2022-12-22T09:22:30.564Z"
   },
   {
    "duration": 44,
    "start_time": "2022-12-22T09:22:35.897Z"
   },
   {
    "duration": 36,
    "start_time": "2022-12-22T09:22:50.435Z"
   },
   {
    "duration": 105,
    "start_time": "2022-12-22T09:23:43.043Z"
   },
   {
    "duration": 7689,
    "start_time": "2022-12-22T09:23:43.874Z"
   },
   {
    "duration": 1916,
    "start_time": "2022-12-22T09:24:13.560Z"
   },
   {
    "duration": 950,
    "start_time": "2022-12-22T09:24:15.478Z"
   },
   {
    "duration": 278,
    "start_time": "2022-12-22T09:24:16.435Z"
   },
   {
    "duration": 8,
    "start_time": "2022-12-22T09:24:16.717Z"
   },
   {
    "duration": 2716,
    "start_time": "2022-12-22T09:24:16.727Z"
   },
   {
    "duration": 2926,
    "start_time": "2022-12-22T09:24:19.446Z"
   },
   {
    "duration": 155,
    "start_time": "2022-12-22T09:24:22.375Z"
   },
   {
    "duration": 7485,
    "start_time": "2022-12-22T09:24:22.531Z"
   },
   {
    "duration": 131,
    "start_time": "2022-12-22T09:24:30.030Z"
   },
   {
    "duration": 0,
    "start_time": "2022-12-22T09:24:30.163Z"
   },
   {
    "duration": 0,
    "start_time": "2022-12-22T09:24:30.164Z"
   },
   {
    "duration": 0,
    "start_time": "2022-12-22T09:24:30.166Z"
   },
   {
    "duration": 0,
    "start_time": "2022-12-22T09:24:30.167Z"
   },
   {
    "duration": 152,
    "start_time": "2022-12-22T09:25:17.315Z"
   },
   {
    "duration": 10,
    "start_time": "2022-12-22T09:26:00.172Z"
   },
   {
    "duration": 159,
    "start_time": "2022-12-22T09:26:13.781Z"
   },
   {
    "duration": 322,
    "start_time": "2022-12-22T09:26:31.620Z"
   },
   {
    "duration": 13,
    "start_time": "2022-12-22T09:27:15.567Z"
   },
   {
    "duration": 193107,
    "start_time": "2022-12-22T09:27:21.412Z"
   },
   {
    "duration": 1732,
    "start_time": "2022-12-22T09:32:28.286Z"
   },
   {
    "duration": 896,
    "start_time": "2022-12-22T09:32:30.020Z"
   },
   {
    "duration": 246,
    "start_time": "2022-12-22T09:32:30.929Z"
   },
   {
    "duration": 5,
    "start_time": "2022-12-22T09:32:31.177Z"
   },
   {
    "duration": 2652,
    "start_time": "2022-12-22T09:32:31.185Z"
   },
   {
    "duration": 2925,
    "start_time": "2022-12-22T09:32:33.840Z"
   },
   {
    "duration": 138,
    "start_time": "2022-12-22T09:32:36.767Z"
   },
   {
    "duration": 7701,
    "start_time": "2022-12-22T09:32:36.907Z"
   },
   {
    "duration": 196208,
    "start_time": "2022-12-22T09:32:44.610Z"
   },
   {
    "duration": 1746,
    "start_time": "2022-12-22T09:46:26.140Z"
   },
   {
    "duration": 870,
    "start_time": "2022-12-22T09:46:27.889Z"
   },
   {
    "duration": 247,
    "start_time": "2022-12-22T09:46:28.760Z"
   },
   {
    "duration": 4,
    "start_time": "2022-12-22T09:46:29.009Z"
   },
   {
    "duration": 2644,
    "start_time": "2022-12-22T09:46:29.021Z"
   },
   {
    "duration": 2880,
    "start_time": "2022-12-22T09:46:31.668Z"
   },
   {
    "duration": 127,
    "start_time": "2022-12-22T09:46:34.550Z"
   },
   {
    "duration": 7270,
    "start_time": "2022-12-22T09:46:34.679Z"
   },
   {
    "duration": 192723,
    "start_time": "2022-12-22T09:46:41.950Z"
   },
   {
    "duration": 1361191,
    "start_time": "2022-12-22T09:49:54.675Z"
   },
   {
    "duration": 146,
    "start_time": "2022-12-22T10:12:35.868Z"
   },
   {
    "duration": 0,
    "start_time": "2022-12-22T10:12:36.016Z"
   },
   {
    "duration": 0,
    "start_time": "2022-12-22T10:12:36.026Z"
   },
   {
    "duration": 12,
    "start_time": "2022-12-22T10:16:59.411Z"
   },
   {
    "duration": 1556,
    "start_time": "2022-12-22T10:17:04.215Z"
   },
   {
    "duration": 21,
    "start_time": "2022-12-22T10:17:05.818Z"
   },
   {
    "duration": 3,
    "start_time": "2022-12-22T10:17:27.740Z"
   },
   {
    "duration": 54,
    "start_time": "2022-12-22T10:17:28.178Z"
   },
   {
    "duration": 919,
    "start_time": "2022-12-22T10:17:33.260Z"
   },
   {
    "duration": 53,
    "start_time": "2022-12-22T18:36:06.500Z"
   },
   {
    "duration": 3,
    "start_time": "2022-12-22T18:36:24.570Z"
   },
   {
    "duration": 1839,
    "start_time": "2022-12-22T18:36:39.308Z"
   },
   {
    "duration": 3721,
    "start_time": "2022-12-22T18:36:41.149Z"
   },
   {
    "duration": 295,
    "start_time": "2022-12-22T18:36:44.871Z"
   },
   {
    "duration": 4,
    "start_time": "2022-12-22T18:36:45.169Z"
   },
   {
    "duration": 2714,
    "start_time": "2022-12-22T18:36:45.174Z"
   },
   {
    "duration": 2345,
    "start_time": "2022-12-22T18:36:47.891Z"
   },
   {
    "duration": 0,
    "start_time": "2022-12-22T18:36:50.239Z"
   },
   {
    "duration": 0,
    "start_time": "2022-12-22T18:36:50.240Z"
   },
   {
    "duration": 0,
    "start_time": "2022-12-22T18:36:50.241Z"
   },
   {
    "duration": 0,
    "start_time": "2022-12-22T18:36:50.243Z"
   },
   {
    "duration": 0,
    "start_time": "2022-12-22T18:36:50.244Z"
   },
   {
    "duration": 0,
    "start_time": "2022-12-22T18:36:50.246Z"
   },
   {
    "duration": 0,
    "start_time": "2022-12-22T18:36:50.247Z"
   },
   {
    "duration": 0,
    "start_time": "2022-12-22T18:36:50.248Z"
   },
   {
    "duration": 0,
    "start_time": "2022-12-22T18:36:50.249Z"
   },
   {
    "duration": 11,
    "start_time": "2022-12-22T18:37:28.475Z"
   },
   {
    "duration": 796,
    "start_time": "2022-12-22T18:37:29.151Z"
   },
   {
    "duration": 174,
    "start_time": "2022-12-22T18:37:29.949Z"
   },
   {
    "duration": 4,
    "start_time": "2022-12-22T18:37:30.125Z"
   },
   {
    "duration": 2397,
    "start_time": "2022-12-22T18:37:31.089Z"
   },
   {
    "duration": 59,
    "start_time": "2022-12-22T18:38:11.734Z"
   },
   {
    "duration": 7,
    "start_time": "2022-12-22T18:38:13.207Z"
   },
   {
    "duration": 1774,
    "start_time": "2022-12-22T18:38:17.543Z"
   },
   {
    "duration": 3916,
    "start_time": "2022-12-22T18:38:19.319Z"
   },
   {
    "duration": 269,
    "start_time": "2022-12-22T18:38:23.236Z"
   },
   {
    "duration": 4,
    "start_time": "2022-12-22T18:38:23.508Z"
   },
   {
    "duration": 2804,
    "start_time": "2022-12-22T18:38:23.513Z"
   },
   {
    "duration": 4,
    "start_time": "2022-12-22T18:38:26.319Z"
   },
   {
    "duration": 2080,
    "start_time": "2022-12-22T18:38:26.324Z"
   },
   {
    "duration": 127,
    "start_time": "2022-12-22T18:38:28.405Z"
   },
   {
    "duration": 7398,
    "start_time": "2022-12-22T18:38:28.533Z"
   },
   {
    "duration": 1751,
    "start_time": "2022-12-22T18:39:30.267Z"
   },
   {
    "duration": 842,
    "start_time": "2022-12-22T18:39:32.020Z"
   },
   {
    "duration": 245,
    "start_time": "2022-12-22T18:39:32.864Z"
   },
   {
    "duration": 4,
    "start_time": "2022-12-22T18:39:33.111Z"
   },
   {
    "duration": 2704,
    "start_time": "2022-12-22T18:39:33.117Z"
   },
   {
    "duration": 6,
    "start_time": "2022-12-22T18:39:35.823Z"
   },
   {
    "duration": 2068,
    "start_time": "2022-12-22T18:39:35.831Z"
   },
   {
    "duration": 22,
    "start_time": "2022-12-22T18:39:37.901Z"
   },
   {
    "duration": 124,
    "start_time": "2022-12-22T18:39:37.925Z"
   },
   {
    "duration": 6965,
    "start_time": "2022-12-22T18:39:38.051Z"
   },
   {
    "duration": 1780,
    "start_time": "2022-12-22T18:40:17.710Z"
   },
   {
    "duration": 817,
    "start_time": "2022-12-22T18:40:19.492Z"
   },
   {
    "duration": 252,
    "start_time": "2022-12-22T18:40:20.311Z"
   },
   {
    "duration": 4,
    "start_time": "2022-12-22T18:40:20.565Z"
   },
   {
    "duration": 2367,
    "start_time": "2022-12-22T18:40:20.570Z"
   },
   {
    "duration": 4,
    "start_time": "2022-12-22T18:40:22.938Z"
   },
   {
    "duration": 2167,
    "start_time": "2022-12-22T18:40:22.944Z"
   },
   {
    "duration": 4,
    "start_time": "2022-12-22T18:40:25.113Z"
   },
   {
    "duration": 130,
    "start_time": "2022-12-22T18:40:25.118Z"
   },
   {
    "duration": 7097,
    "start_time": "2022-12-22T18:40:25.250Z"
   },
   {
    "duration": 196708,
    "start_time": "2022-12-22T18:40:32.348Z"
   },
   {
    "duration": 1828,
    "start_time": "2022-12-22T18:45:04.206Z"
   },
   {
    "duration": 827,
    "start_time": "2022-12-22T18:45:06.037Z"
   },
   {
    "duration": 255,
    "start_time": "2022-12-22T18:45:06.866Z"
   },
   {
    "duration": 4,
    "start_time": "2022-12-22T18:45:07.123Z"
   },
   {
    "duration": 2619,
    "start_time": "2022-12-22T18:45:07.129Z"
   },
   {
    "duration": 3,
    "start_time": "2022-12-22T18:45:09.750Z"
   },
   {
    "duration": 2289,
    "start_time": "2022-12-22T18:45:09.754Z"
   },
   {
    "duration": 0,
    "start_time": "2022-12-22T18:45:12.045Z"
   },
   {
    "duration": 0,
    "start_time": "2022-12-22T18:45:12.047Z"
   },
   {
    "duration": 0,
    "start_time": "2022-12-22T18:45:12.048Z"
   },
   {
    "duration": 0,
    "start_time": "2022-12-22T18:45:12.049Z"
   },
   {
    "duration": 0,
    "start_time": "2022-12-22T18:45:12.051Z"
   },
   {
    "duration": 0,
    "start_time": "2022-12-22T18:45:12.052Z"
   },
   {
    "duration": 0,
    "start_time": "2022-12-22T18:45:12.053Z"
   },
   {
    "duration": 0,
    "start_time": "2022-12-22T18:45:12.054Z"
   },
   {
    "duration": 0,
    "start_time": "2022-12-22T18:45:12.055Z"
   },
   {
    "duration": 1893,
    "start_time": "2022-12-22T18:46:16.442Z"
   },
   {
    "duration": 3724,
    "start_time": "2022-12-22T18:46:18.336Z"
   },
   {
    "duration": 244,
    "start_time": "2022-12-22T18:46:22.062Z"
   },
   {
    "duration": 4,
    "start_time": "2022-12-22T18:46:22.307Z"
   },
   {
    "duration": 2562,
    "start_time": "2022-12-22T18:46:22.313Z"
   },
   {
    "duration": 11,
    "start_time": "2022-12-22T18:46:24.886Z"
   },
   {
    "duration": 88319,
    "start_time": "2022-12-22T18:46:24.903Z"
   },
   {
    "duration": 4,
    "start_time": "2022-12-22T18:47:53.224Z"
   },
   {
    "duration": 112,
    "start_time": "2022-12-22T18:47:53.230Z"
   },
   {
    "duration": 6778,
    "start_time": "2022-12-22T18:47:53.344Z"
   },
   {
    "duration": 1937,
    "start_time": "2022-12-22T18:48:46.794Z"
   },
   {
    "duration": 876,
    "start_time": "2022-12-22T18:48:48.734Z"
   },
   {
    "duration": 239,
    "start_time": "2022-12-22T18:48:49.612Z"
   },
   {
    "duration": 4,
    "start_time": "2022-12-22T18:48:49.853Z"
   },
   {
    "duration": 2298,
    "start_time": "2022-12-22T18:48:49.859Z"
   },
   {
    "duration": 3,
    "start_time": "2022-12-22T18:48:52.159Z"
   },
   {
    "duration": 12,
    "start_time": "2022-12-22T18:48:52.164Z"
   },
   {
    "duration": 144,
    "start_time": "2022-12-22T18:48:52.178Z"
   },
   {
    "duration": 0,
    "start_time": "2022-12-22T18:48:52.324Z"
   },
   {
    "duration": 0,
    "start_time": "2022-12-22T18:48:52.325Z"
   },
   {
    "duration": 0,
    "start_time": "2022-12-22T18:48:52.327Z"
   },
   {
    "duration": 0,
    "start_time": "2022-12-22T18:48:52.328Z"
   },
   {
    "duration": 0,
    "start_time": "2022-12-22T18:48:52.329Z"
   },
   {
    "duration": 0,
    "start_time": "2022-12-22T18:48:52.330Z"
   },
   {
    "duration": 0,
    "start_time": "2022-12-22T18:48:52.331Z"
   },
   {
    "duration": 0,
    "start_time": "2022-12-22T18:48:52.332Z"
   },
   {
    "duration": 1841,
    "start_time": "2022-12-22T18:51:15.166Z"
   },
   {
    "duration": 882,
    "start_time": "2022-12-22T18:51:17.009Z"
   },
   {
    "duration": 240,
    "start_time": "2022-12-22T18:51:17.893Z"
   },
   {
    "duration": 4,
    "start_time": "2022-12-22T18:51:18.135Z"
   },
   {
    "duration": 2449,
    "start_time": "2022-12-22T18:51:18.140Z"
   },
   {
    "duration": 79249,
    "start_time": "2022-12-22T18:51:20.591Z"
   },
   {
    "duration": 2,
    "start_time": "2022-12-22T18:52:39.842Z"
   },
   {
    "duration": 111,
    "start_time": "2022-12-22T18:52:39.846Z"
   },
   {
    "duration": 7211,
    "start_time": "2022-12-22T18:52:39.959Z"
   },
   {
    "duration": 1934,
    "start_time": "2022-12-22T18:59:03.563Z"
   },
   {
    "duration": 926,
    "start_time": "2022-12-22T18:59:05.501Z"
   },
   {
    "duration": 277,
    "start_time": "2022-12-22T18:59:06.428Z"
   },
   {
    "duration": 5,
    "start_time": "2022-12-22T18:59:06.707Z"
   },
   {
    "duration": 2707,
    "start_time": "2022-12-22T18:59:06.714Z"
   },
   {
    "duration": 84452,
    "start_time": "2022-12-22T18:59:09.423Z"
   },
   {
    "duration": 10,
    "start_time": "2022-12-22T19:00:33.877Z"
   },
   {
    "duration": 144,
    "start_time": "2022-12-22T19:00:33.888Z"
   },
   {
    "duration": 7296,
    "start_time": "2022-12-22T19:00:34.034Z"
   },
   {
    "duration": 1864,
    "start_time": "2022-12-22T19:00:55.159Z"
   },
   {
    "duration": 948,
    "start_time": "2022-12-22T19:00:57.025Z"
   },
   {
    "duration": 269,
    "start_time": "2022-12-22T19:00:57.975Z"
   },
   {
    "duration": 4,
    "start_time": "2022-12-22T19:00:58.246Z"
   },
   {
    "duration": 2556,
    "start_time": "2022-12-22T19:00:58.251Z"
   },
   {
    "duration": 84523,
    "start_time": "2022-12-22T19:01:00.809Z"
   },
   {
    "duration": 2,
    "start_time": "2022-12-22T19:02:25.334Z"
   },
   {
    "duration": 103,
    "start_time": "2022-12-22T19:02:25.338Z"
   },
   {
    "duration": 7253,
    "start_time": "2022-12-22T19:02:25.442Z"
   },
   {
    "duration": 1844,
    "start_time": "2022-12-22T19:05:33.167Z"
   },
   {
    "duration": 857,
    "start_time": "2022-12-22T19:05:35.013Z"
   },
   {
    "duration": 254,
    "start_time": "2022-12-22T19:05:35.872Z"
   },
   {
    "duration": 5,
    "start_time": "2022-12-22T19:05:36.128Z"
   },
   {
    "duration": 2566,
    "start_time": "2022-12-22T19:05:36.134Z"
   },
   {
    "duration": 4,
    "start_time": "2022-12-22T19:05:38.705Z"
   },
   {
    "duration": 5,
    "start_time": "2022-12-22T19:05:38.711Z"
   },
   {
    "duration": 13,
    "start_time": "2022-12-22T19:05:38.717Z"
   },
   {
    "duration": 501,
    "start_time": "2022-12-22T19:05:38.731Z"
   },
   {
    "duration": 0,
    "start_time": "2022-12-22T19:05:39.234Z"
   },
   {
    "duration": 0,
    "start_time": "2022-12-22T19:05:39.235Z"
   },
   {
    "duration": 0,
    "start_time": "2022-12-22T19:05:39.236Z"
   },
   {
    "duration": 0,
    "start_time": "2022-12-22T19:05:39.237Z"
   },
   {
    "duration": 0,
    "start_time": "2022-12-22T19:05:39.238Z"
   },
   {
    "duration": 0,
    "start_time": "2022-12-22T19:05:39.239Z"
   },
   {
    "duration": 0,
    "start_time": "2022-12-22T19:05:39.240Z"
   },
   {
    "duration": 0,
    "start_time": "2022-12-22T19:05:39.241Z"
   },
   {
    "duration": 4,
    "start_time": "2022-12-22T19:06:50.157Z"
   },
   {
    "duration": 342,
    "start_time": "2022-12-22T19:06:50.331Z"
   },
   {
    "duration": 3,
    "start_time": "2022-12-22T19:07:48.307Z"
   },
   {
    "duration": 3,
    "start_time": "2022-12-22T19:07:48.572Z"
   },
   {
    "duration": 6,
    "start_time": "2022-12-22T19:07:49.188Z"
   },
   {
    "duration": 1715,
    "start_time": "2022-12-22T19:07:56.338Z"
   },
   {
    "duration": 816,
    "start_time": "2022-12-22T19:07:58.054Z"
   },
   {
    "duration": 272,
    "start_time": "2022-12-22T19:07:58.878Z"
   },
   {
    "duration": 4,
    "start_time": "2022-12-22T19:07:59.152Z"
   },
   {
    "duration": 2276,
    "start_time": "2022-12-22T19:07:59.157Z"
   },
   {
    "duration": 3,
    "start_time": "2022-12-22T19:08:01.436Z"
   },
   {
    "duration": 32,
    "start_time": "2022-12-22T19:08:01.440Z"
   },
   {
    "duration": 35,
    "start_time": "2022-12-22T19:08:01.474Z"
   },
   {
    "duration": 31981,
    "start_time": "2022-12-22T19:08:01.511Z"
   },
   {
    "duration": 95,
    "start_time": "2022-12-22T19:08:33.495Z"
   },
   {
    "duration": 7149,
    "start_time": "2022-12-22T19:08:33.592Z"
   },
   {
    "duration": 1811,
    "start_time": "2022-12-22T19:08:55.925Z"
   },
   {
    "duration": 814,
    "start_time": "2022-12-22T19:08:57.738Z"
   },
   {
    "duration": 265,
    "start_time": "2022-12-22T19:08:58.554Z"
   },
   {
    "duration": 5,
    "start_time": "2022-12-22T19:08:58.821Z"
   },
   {
    "duration": 2529,
    "start_time": "2022-12-22T19:08:58.827Z"
   },
   {
    "duration": 3,
    "start_time": "2022-12-22T19:09:01.358Z"
   },
   {
    "duration": 82,
    "start_time": "2022-12-22T19:09:01.362Z"
   },
   {
    "duration": 34288,
    "start_time": "2022-12-22T19:09:01.445Z"
   },
   {
    "duration": 119,
    "start_time": "2022-12-22T19:09:35.735Z"
   },
   {
    "duration": 6950,
    "start_time": "2022-12-22T19:09:35.856Z"
   },
   {
    "duration": 1734,
    "start_time": "2022-12-22T19:10:15.738Z"
   },
   {
    "duration": 840,
    "start_time": "2022-12-22T19:10:17.474Z"
   },
   {
    "duration": 248,
    "start_time": "2022-12-22T19:10:18.315Z"
   },
   {
    "duration": 4,
    "start_time": "2022-12-22T19:10:18.564Z"
   },
   {
    "duration": 2700,
    "start_time": "2022-12-22T19:10:18.569Z"
   },
   {
    "duration": 2,
    "start_time": "2022-12-22T19:10:21.271Z"
   },
   {
    "duration": 30,
    "start_time": "2022-12-22T19:10:21.278Z"
   },
   {
    "duration": 34238,
    "start_time": "2022-12-22T19:10:21.310Z"
   },
   {
    "duration": 109,
    "start_time": "2022-12-22T19:10:55.549Z"
   },
   {
    "duration": 7155,
    "start_time": "2022-12-22T19:10:55.661Z"
   },
   {
    "duration": 210917,
    "start_time": "2022-12-22T19:11:02.817Z"
   },
   {
    "duration": 1779,
    "start_time": "2022-12-22T19:15:39.014Z"
   },
   {
    "duration": 864,
    "start_time": "2022-12-22T19:15:40.798Z"
   },
   {
    "duration": 254,
    "start_time": "2022-12-22T19:15:41.664Z"
   },
   {
    "duration": 4,
    "start_time": "2022-12-22T19:15:41.920Z"
   },
   {
    "duration": 2619,
    "start_time": "2022-12-22T19:15:41.925Z"
   },
   {
    "duration": 3,
    "start_time": "2022-12-22T19:15:44.545Z"
   },
   {
    "duration": 5,
    "start_time": "2022-12-22T19:15:44.550Z"
   },
   {
    "duration": 35388,
    "start_time": "2022-12-22T19:15:44.557Z"
   },
   {
    "duration": 103,
    "start_time": "2022-12-22T19:16:19.947Z"
   },
   {
    "duration": 7361,
    "start_time": "2022-12-22T19:16:20.052Z"
   },
   {
    "duration": 215753,
    "start_time": "2022-12-22T19:16:27.415Z"
   },
   {
    "duration": 1257681,
    "start_time": "2022-12-22T19:20:03.170Z"
   },
   {
    "duration": 1634,
    "start_time": "2022-12-22T19:41:00.852Z"
   },
   {
    "duration": 7,
    "start_time": "2022-12-22T19:41:02.489Z"
   },
   {
    "duration": 53,
    "start_time": "2022-12-22T19:41:02.497Z"
   },
   {
    "duration": 924,
    "start_time": "2022-12-22T19:41:02.552Z"
   },
   {
    "duration": 1072,
    "start_time": "2022-12-22T20:52:17.739Z"
   },
   {
    "duration": 101,
    "start_time": "2022-12-22T20:52:18.813Z"
   },
   {
    "duration": 4,
    "start_time": "2022-12-22T20:58:41.813Z"
   },
   {
    "duration": 4,
    "start_time": "2022-12-22T20:58:42.312Z"
   },
   {
    "duration": 5,
    "start_time": "2022-12-22T20:59:25.071Z"
   },
   {
    "duration": 13,
    "start_time": "2022-12-22T20:59:25.768Z"
   },
   {
    "duration": 2013,
    "start_time": "2022-12-22T20:59:30.407Z"
   },
   {
    "duration": 2467,
    "start_time": "2022-12-22T20:59:32.423Z"
   },
   {
    "duration": 171,
    "start_time": "2022-12-22T20:59:34.892Z"
   },
   {
    "duration": 5,
    "start_time": "2022-12-22T20:59:35.065Z"
   },
   {
    "duration": 2640,
    "start_time": "2022-12-22T20:59:35.071Z"
   },
   {
    "duration": 3,
    "start_time": "2022-12-22T20:59:37.713Z"
   },
   {
    "duration": 30,
    "start_time": "2022-12-22T20:59:37.718Z"
   },
   {
    "duration": 12,
    "start_time": "2022-12-22T20:59:37.750Z"
   },
   {
    "duration": 30259,
    "start_time": "2022-12-22T20:59:37.763Z"
   },
   {
    "duration": 79,
    "start_time": "2022-12-22T21:00:08.025Z"
   },
   {
    "duration": 6474,
    "start_time": "2022-12-22T21:00:08.106Z"
   },
   {
    "duration": 1716,
    "start_time": "2022-12-22T21:01:24.255Z"
   },
   {
    "duration": 905,
    "start_time": "2022-12-22T21:01:25.973Z"
   },
   {
    "duration": 237,
    "start_time": "2022-12-22T21:01:26.879Z"
   },
   {
    "duration": 4,
    "start_time": "2022-12-22T21:01:27.118Z"
   },
   {
    "duration": 2472,
    "start_time": "2022-12-22T21:01:27.124Z"
   },
   {
    "duration": 3,
    "start_time": "2022-12-22T21:01:29.598Z"
   },
   {
    "duration": 15,
    "start_time": "2022-12-22T21:01:29.603Z"
   },
   {
    "duration": 14,
    "start_time": "2022-12-22T21:01:29.620Z"
   },
   {
    "duration": 29937,
    "start_time": "2022-12-22T21:01:29.636Z"
   },
   {
    "duration": 83,
    "start_time": "2022-12-22T21:01:59.575Z"
   },
   {
    "duration": 6250,
    "start_time": "2022-12-22T21:01:59.660Z"
   },
   {
    "duration": 1620,
    "start_time": "2022-12-22T21:03:42.934Z"
   },
   {
    "duration": 858,
    "start_time": "2022-12-22T21:03:44.556Z"
   },
   {
    "duration": 237,
    "start_time": "2022-12-22T21:03:45.416Z"
   },
   {
    "duration": 4,
    "start_time": "2022-12-22T21:03:45.655Z"
   },
   {
    "duration": 2431,
    "start_time": "2022-12-22T21:03:45.661Z"
   },
   {
    "duration": 3,
    "start_time": "2022-12-22T21:03:48.093Z"
   },
   {
    "duration": 11,
    "start_time": "2022-12-22T21:03:48.098Z"
   },
   {
    "duration": 5,
    "start_time": "2022-12-22T21:03:48.111Z"
   },
   {
    "duration": 28816,
    "start_time": "2022-12-22T21:03:48.117Z"
   },
   {
    "duration": 82,
    "start_time": "2022-12-22T21:04:16.936Z"
   },
   {
    "duration": 6504,
    "start_time": "2022-12-22T21:04:17.019Z"
   },
   {
    "duration": 1568,
    "start_time": "2022-12-22T21:05:24.982Z"
   },
   {
    "duration": 885,
    "start_time": "2022-12-22T21:05:26.552Z"
   },
   {
    "duration": 231,
    "start_time": "2022-12-22T21:05:27.439Z"
   },
   {
    "duration": 4,
    "start_time": "2022-12-22T21:05:27.673Z"
   },
   {
    "duration": 2356,
    "start_time": "2022-12-22T21:05:27.679Z"
   },
   {
    "duration": 2,
    "start_time": "2022-12-22T21:05:30.037Z"
   },
   {
    "duration": 32,
    "start_time": "2022-12-22T21:05:30.041Z"
   },
   {
    "duration": 26,
    "start_time": "2022-12-22T21:05:30.074Z"
   },
   {
    "duration": 350,
    "start_time": "2022-12-22T21:05:30.102Z"
   },
   {
    "duration": 0,
    "start_time": "2022-12-22T21:05:30.453Z"
   },
   {
    "duration": 0,
    "start_time": "2022-12-22T21:05:30.455Z"
   },
   {
    "duration": 0,
    "start_time": "2022-12-22T21:05:30.456Z"
   },
   {
    "duration": 0,
    "start_time": "2022-12-22T21:05:30.457Z"
   },
   {
    "duration": 0,
    "start_time": "2022-12-22T21:05:30.458Z"
   },
   {
    "duration": 0,
    "start_time": "2022-12-22T21:05:30.459Z"
   },
   {
    "duration": 0,
    "start_time": "2022-12-22T21:05:30.461Z"
   },
   {
    "duration": 0,
    "start_time": "2022-12-22T21:05:30.462Z"
   },
   {
    "duration": 229,
    "start_time": "2022-12-22T21:07:15.456Z"
   },
   {
    "duration": 1611,
    "start_time": "2022-12-22T21:07:24.723Z"
   },
   {
    "duration": 901,
    "start_time": "2022-12-22T21:07:26.336Z"
   },
   {
    "duration": 226,
    "start_time": "2022-12-22T21:07:27.238Z"
   },
   {
    "duration": 4,
    "start_time": "2022-12-22T21:07:27.466Z"
   },
   {
    "duration": 2382,
    "start_time": "2022-12-22T21:07:27.471Z"
   },
   {
    "duration": 2,
    "start_time": "2022-12-22T21:07:29.856Z"
   },
   {
    "duration": 10,
    "start_time": "2022-12-22T21:07:29.859Z"
   },
   {
    "duration": 14,
    "start_time": "2022-12-22T21:07:29.871Z"
   },
   {
    "duration": 348,
    "start_time": "2022-12-22T21:07:29.887Z"
   },
   {
    "duration": 0,
    "start_time": "2022-12-22T21:07:30.236Z"
   },
   {
    "duration": 0,
    "start_time": "2022-12-22T21:07:30.238Z"
   },
   {
    "duration": 0,
    "start_time": "2022-12-22T21:07:30.239Z"
   },
   {
    "duration": 0,
    "start_time": "2022-12-22T21:07:30.240Z"
   },
   {
    "duration": 0,
    "start_time": "2022-12-22T21:07:30.241Z"
   },
   {
    "duration": 0,
    "start_time": "2022-12-22T21:07:30.242Z"
   },
   {
    "duration": 0,
    "start_time": "2022-12-22T21:07:30.244Z"
   },
   {
    "duration": 0,
    "start_time": "2022-12-22T21:07:30.245Z"
   },
   {
    "duration": 0,
    "start_time": "2022-12-22T21:07:30.246Z"
   },
   {
    "duration": 1662,
    "start_time": "2022-12-22T21:09:28.940Z"
   },
   {
    "duration": 866,
    "start_time": "2022-12-22T21:09:30.605Z"
   },
   {
    "duration": 230,
    "start_time": "2022-12-22T21:09:31.473Z"
   },
   {
    "duration": 5,
    "start_time": "2022-12-22T21:09:31.706Z"
   },
   {
    "duration": 2479,
    "start_time": "2022-12-22T21:09:31.713Z"
   },
   {
    "duration": 3,
    "start_time": "2022-12-22T21:09:34.193Z"
   },
   {
    "duration": 29,
    "start_time": "2022-12-22T21:09:34.198Z"
   },
   {
    "duration": 16,
    "start_time": "2022-12-22T21:09:34.229Z"
   },
   {
    "duration": 12,
    "start_time": "2022-12-22T21:09:34.248Z"
   },
   {
    "duration": 328,
    "start_time": "2022-12-22T21:09:34.263Z"
   },
   {
    "duration": 0,
    "start_time": "2022-12-22T21:09:34.594Z"
   },
   {
    "duration": 0,
    "start_time": "2022-12-22T21:09:34.596Z"
   },
   {
    "duration": 0,
    "start_time": "2022-12-22T21:09:34.597Z"
   },
   {
    "duration": 0,
    "start_time": "2022-12-22T21:09:34.599Z"
   },
   {
    "duration": 0,
    "start_time": "2022-12-22T21:09:34.600Z"
   },
   {
    "duration": 0,
    "start_time": "2022-12-22T21:09:34.602Z"
   },
   {
    "duration": 0,
    "start_time": "2022-12-22T21:09:34.603Z"
   },
   {
    "duration": 0,
    "start_time": "2022-12-22T21:09:34.605Z"
   },
   {
    "duration": 0,
    "start_time": "2022-12-22T21:09:34.606Z"
   },
   {
    "duration": 6,
    "start_time": "2022-12-22T21:14:20.547Z"
   },
   {
    "duration": 12,
    "start_time": "2022-12-22T21:14:20.823Z"
   },
   {
    "duration": 2,
    "start_time": "2022-12-22T21:14:21.290Z"
   },
   {
    "duration": 1644,
    "start_time": "2022-12-22T21:14:26.667Z"
   },
   {
    "duration": 880,
    "start_time": "2022-12-22T21:14:28.313Z"
   },
   {
    "duration": 220,
    "start_time": "2022-12-22T21:14:29.195Z"
   },
   {
    "duration": 4,
    "start_time": "2022-12-22T21:14:29.417Z"
   },
   {
    "duration": 2396,
    "start_time": "2022-12-22T21:14:29.422Z"
   },
   {
    "duration": 2,
    "start_time": "2022-12-22T21:14:31.820Z"
   },
   {
    "duration": 26,
    "start_time": "2022-12-22T21:14:31.824Z"
   },
   {
    "duration": 120,
    "start_time": "2022-12-22T21:14:31.852Z"
   },
   {
    "duration": 0,
    "start_time": "2022-12-22T21:14:31.974Z"
   },
   {
    "duration": 0,
    "start_time": "2022-12-22T21:14:31.975Z"
   },
   {
    "duration": 0,
    "start_time": "2022-12-22T21:14:31.976Z"
   },
   {
    "duration": 0,
    "start_time": "2022-12-22T21:14:31.977Z"
   },
   {
    "duration": 0,
    "start_time": "2022-12-22T21:14:31.978Z"
   },
   {
    "duration": 0,
    "start_time": "2022-12-22T21:14:31.979Z"
   },
   {
    "duration": 0,
    "start_time": "2022-12-22T21:14:31.980Z"
   },
   {
    "duration": 0,
    "start_time": "2022-12-22T21:14:31.981Z"
   },
   {
    "duration": 0,
    "start_time": "2022-12-22T21:14:31.982Z"
   },
   {
    "duration": 0,
    "start_time": "2022-12-22T21:14:31.982Z"
   },
   {
    "duration": 9,
    "start_time": "2022-12-22T21:15:19.444Z"
   },
   {
    "duration": 4,
    "start_time": "2022-12-22T21:15:19.703Z"
   },
   {
    "duration": 12,
    "start_time": "2022-12-22T21:15:20.063Z"
   },
   {
    "duration": 11,
    "start_time": "2022-12-22T21:15:25.997Z"
   },
   {
    "duration": 4,
    "start_time": "2022-12-22T21:15:26.264Z"
   },
   {
    "duration": 10,
    "start_time": "2022-12-22T21:15:26.631Z"
   },
   {
    "duration": 1578,
    "start_time": "2022-12-22T21:16:05.438Z"
   },
   {
    "duration": 835,
    "start_time": "2022-12-22T21:16:07.018Z"
   },
   {
    "duration": 228,
    "start_time": "2022-12-22T21:16:07.854Z"
   },
   {
    "duration": 3,
    "start_time": "2022-12-22T21:16:08.084Z"
   },
   {
    "duration": 2370,
    "start_time": "2022-12-22T21:16:08.089Z"
   },
   {
    "duration": 2,
    "start_time": "2022-12-22T21:16:10.461Z"
   },
   {
    "duration": 130,
    "start_time": "2022-12-22T21:16:10.465Z"
   },
   {
    "duration": 0,
    "start_time": "2022-12-22T21:16:10.598Z"
   },
   {
    "duration": 0,
    "start_time": "2022-12-22T21:16:10.599Z"
   },
   {
    "duration": 0,
    "start_time": "2022-12-22T21:16:10.599Z"
   },
   {
    "duration": 0,
    "start_time": "2022-12-22T21:16:10.600Z"
   },
   {
    "duration": 0,
    "start_time": "2022-12-22T21:16:10.601Z"
   },
   {
    "duration": 0,
    "start_time": "2022-12-22T21:16:10.603Z"
   },
   {
    "duration": 0,
    "start_time": "2022-12-22T21:16:10.604Z"
   },
   {
    "duration": 0,
    "start_time": "2022-12-22T21:16:10.605Z"
   },
   {
    "duration": 0,
    "start_time": "2022-12-22T21:16:10.606Z"
   },
   {
    "duration": 0,
    "start_time": "2022-12-22T21:16:10.608Z"
   },
   {
    "duration": 0,
    "start_time": "2022-12-22T21:16:10.609Z"
   },
   {
    "duration": 0,
    "start_time": "2022-12-22T21:16:10.612Z"
   },
   {
    "duration": 1666,
    "start_time": "2022-12-22T21:16:50.137Z"
   },
   {
    "duration": 890,
    "start_time": "2022-12-22T21:16:51.805Z"
   },
   {
    "duration": 243,
    "start_time": "2022-12-22T21:16:52.697Z"
   },
   {
    "duration": 4,
    "start_time": "2022-12-22T21:16:52.943Z"
   },
   {
    "duration": 2287,
    "start_time": "2022-12-22T21:16:52.949Z"
   },
   {
    "duration": 3,
    "start_time": "2022-12-22T21:16:55.238Z"
   },
   {
    "duration": 10,
    "start_time": "2022-12-22T21:16:55.243Z"
   },
   {
    "duration": 12,
    "start_time": "2022-12-22T21:16:55.255Z"
   },
   {
    "duration": 6,
    "start_time": "2022-12-22T21:16:55.268Z"
   },
   {
    "duration": 314,
    "start_time": "2022-12-22T21:16:55.276Z"
   },
   {
    "duration": 0,
    "start_time": "2022-12-22T21:16:55.592Z"
   },
   {
    "duration": 0,
    "start_time": "2022-12-22T21:16:55.593Z"
   },
   {
    "duration": 0,
    "start_time": "2022-12-22T21:16:55.595Z"
   },
   {
    "duration": 0,
    "start_time": "2022-12-22T21:16:55.597Z"
   },
   {
    "duration": 0,
    "start_time": "2022-12-22T21:16:55.598Z"
   },
   {
    "duration": 0,
    "start_time": "2022-12-22T21:16:55.599Z"
   },
   {
    "duration": 0,
    "start_time": "2022-12-22T21:16:55.601Z"
   },
   {
    "duration": 0,
    "start_time": "2022-12-22T21:16:55.602Z"
   },
   {
    "duration": 1622,
    "start_time": "2022-12-22T21:18:05.795Z"
   },
   {
    "duration": 824,
    "start_time": "2022-12-22T21:18:07.419Z"
   },
   {
    "duration": 215,
    "start_time": "2022-12-22T21:18:08.244Z"
   },
   {
    "duration": 4,
    "start_time": "2022-12-22T21:18:08.461Z"
   },
   {
    "duration": 2303,
    "start_time": "2022-12-22T21:18:08.466Z"
   },
   {
    "duration": 3,
    "start_time": "2022-12-22T21:18:10.770Z"
   },
   {
    "duration": 6,
    "start_time": "2022-12-22T21:18:10.774Z"
   },
   {
    "duration": 8,
    "start_time": "2022-12-22T21:18:10.782Z"
   },
   {
    "duration": 6,
    "start_time": "2022-12-22T21:18:10.792Z"
   },
   {
    "duration": 1626,
    "start_time": "2022-12-22T21:19:48.173Z"
   },
   {
    "duration": 861,
    "start_time": "2022-12-22T21:19:49.801Z"
   },
   {
    "duration": 224,
    "start_time": "2022-12-22T21:19:50.663Z"
   },
   {
    "duration": 4,
    "start_time": "2022-12-22T21:19:50.889Z"
   },
   {
    "duration": 2440,
    "start_time": "2022-12-22T21:19:50.895Z"
   },
   {
    "duration": 3,
    "start_time": "2022-12-22T21:19:53.337Z"
   },
   {
    "duration": 34,
    "start_time": "2022-12-22T21:19:53.341Z"
   },
   {
    "duration": 36,
    "start_time": "2022-12-22T21:19:53.377Z"
   },
   {
    "duration": 19,
    "start_time": "2022-12-22T21:19:53.415Z"
   },
   {
    "duration": 4193,
    "start_time": "2022-12-22T21:25:20.472Z"
   },
   {
    "duration": 860,
    "start_time": "2022-12-22T21:25:24.667Z"
   },
   {
    "duration": 239,
    "start_time": "2022-12-22T21:25:25.529Z"
   },
   {
    "duration": 4,
    "start_time": "2022-12-22T21:25:25.771Z"
   },
   {
    "duration": 2444,
    "start_time": "2022-12-22T21:25:25.777Z"
   },
   {
    "duration": 3,
    "start_time": "2022-12-22T21:25:28.222Z"
   },
   {
    "duration": 15,
    "start_time": "2022-12-22T21:25:28.227Z"
   },
   {
    "duration": 55,
    "start_time": "2022-12-22T21:25:28.244Z"
   },
   {
    "duration": 20,
    "start_time": "2022-12-22T21:25:28.301Z"
   },
   {
    "duration": 1600,
    "start_time": "2022-12-22T21:26:45.263Z"
   },
   {
    "duration": 892,
    "start_time": "2022-12-22T21:26:46.865Z"
   },
   {
    "duration": 234,
    "start_time": "2022-12-22T21:26:47.759Z"
   },
   {
    "duration": 4,
    "start_time": "2022-12-22T21:26:47.996Z"
   },
   {
    "duration": 2557,
    "start_time": "2022-12-22T21:26:48.002Z"
   },
   {
    "duration": 4,
    "start_time": "2022-12-22T21:26:50.561Z"
   },
   {
    "duration": 18,
    "start_time": "2022-12-22T21:26:50.567Z"
   },
   {
    "duration": 27,
    "start_time": "2022-12-22T21:26:50.588Z"
   },
   {
    "duration": 32,
    "start_time": "2022-12-22T21:26:50.618Z"
   },
   {
    "duration": 1584,
    "start_time": "2022-12-22T21:36:14.119Z"
   },
   {
    "duration": 926,
    "start_time": "2022-12-22T21:36:15.706Z"
   },
   {
    "duration": 278,
    "start_time": "2022-12-22T21:36:16.635Z"
   },
   {
    "duration": 4,
    "start_time": "2022-12-22T21:36:16.915Z"
   },
   {
    "duration": 2460,
    "start_time": "2022-12-22T21:36:16.935Z"
   },
   {
    "duration": 2,
    "start_time": "2022-12-22T21:36:19.397Z"
   },
   {
    "duration": 6,
    "start_time": "2022-12-22T21:36:19.402Z"
   },
   {
    "duration": 6,
    "start_time": "2022-12-22T21:36:19.410Z"
   },
   {
    "duration": 2,
    "start_time": "2022-12-22T21:36:19.436Z"
   },
   {
    "duration": 1756,
    "start_time": "2022-12-22T21:36:46.557Z"
   },
   {
    "duration": 906,
    "start_time": "2022-12-22T21:36:48.316Z"
   },
   {
    "duration": 250,
    "start_time": "2022-12-22T21:36:49.224Z"
   },
   {
    "duration": 4,
    "start_time": "2022-12-22T21:36:49.477Z"
   },
   {
    "duration": 2486,
    "start_time": "2022-12-22T21:36:49.483Z"
   },
   {
    "duration": 3,
    "start_time": "2022-12-22T21:36:51.971Z"
   },
   {
    "duration": 14,
    "start_time": "2022-12-22T21:36:51.976Z"
   },
   {
    "duration": 24,
    "start_time": "2022-12-22T21:36:51.993Z"
   },
   {
    "duration": 1706,
    "start_time": "2022-12-22T21:39:48.029Z"
   },
   {
    "duration": 932,
    "start_time": "2022-12-22T21:39:49.737Z"
   },
   {
    "duration": 262,
    "start_time": "2022-12-22T21:39:50.670Z"
   },
   {
    "duration": 4,
    "start_time": "2022-12-22T21:39:50.936Z"
   },
   {
    "duration": 2540,
    "start_time": "2022-12-22T21:39:50.942Z"
   },
   {
    "duration": 2,
    "start_time": "2022-12-22T21:39:53.484Z"
   },
   {
    "duration": 32,
    "start_time": "2022-12-22T21:39:53.488Z"
   },
   {
    "duration": 20,
    "start_time": "2022-12-22T21:39:53.521Z"
   },
   {
    "duration": 46,
    "start_time": "2022-12-22T21:39:53.543Z"
   },
   {
    "duration": 0,
    "start_time": "2022-12-22T21:39:53.591Z"
   },
   {
    "duration": 0,
    "start_time": "2022-12-22T21:39:53.592Z"
   },
   {
    "duration": 0,
    "start_time": "2022-12-22T21:39:53.593Z"
   },
   {
    "duration": 0,
    "start_time": "2022-12-22T21:39:53.594Z"
   },
   {
    "duration": 1,
    "start_time": "2022-12-22T21:39:53.595Z"
   },
   {
    "duration": 0,
    "start_time": "2022-12-22T21:39:53.596Z"
   },
   {
    "duration": 1,
    "start_time": "2022-12-22T21:39:53.597Z"
   },
   {
    "duration": 1,
    "start_time": "2022-12-22T21:39:53.598Z"
   },
   {
    "duration": 0,
    "start_time": "2022-12-22T21:39:53.600Z"
   },
   {
    "duration": 0,
    "start_time": "2022-12-22T21:39:53.600Z"
   },
   {
    "duration": 136,
    "start_time": "2022-12-22T21:40:00.625Z"
   },
   {
    "duration": 126,
    "start_time": "2022-12-22T21:40:09.531Z"
   },
   {
    "duration": 1737,
    "start_time": "2022-12-22T21:45:41.512Z"
   },
   {
    "duration": 873,
    "start_time": "2022-12-22T21:45:43.251Z"
   },
   {
    "duration": 236,
    "start_time": "2022-12-22T21:45:44.125Z"
   },
   {
    "duration": 3,
    "start_time": "2022-12-22T21:45:44.363Z"
   },
   {
    "duration": 2368,
    "start_time": "2022-12-22T21:45:44.368Z"
   },
   {
    "duration": 3,
    "start_time": "2022-12-22T21:45:46.738Z"
   },
   {
    "duration": 27,
    "start_time": "2022-12-22T21:45:46.743Z"
   },
   {
    "duration": 22,
    "start_time": "2022-12-22T21:45:46.772Z"
   },
   {
    "duration": 132,
    "start_time": "2022-12-22T21:45:46.796Z"
   },
   {
    "duration": 0,
    "start_time": "2022-12-22T21:45:46.930Z"
   },
   {
    "duration": 0,
    "start_time": "2022-12-22T21:45:46.931Z"
   },
   {
    "duration": 0,
    "start_time": "2022-12-22T21:45:46.932Z"
   },
   {
    "duration": 0,
    "start_time": "2022-12-22T21:45:46.935Z"
   },
   {
    "duration": 0,
    "start_time": "2022-12-22T21:45:46.936Z"
   },
   {
    "duration": 0,
    "start_time": "2022-12-22T21:45:46.936Z"
   },
   {
    "duration": 0,
    "start_time": "2022-12-22T21:45:46.938Z"
   },
   {
    "duration": 0,
    "start_time": "2022-12-22T21:45:46.938Z"
   },
   {
    "duration": 0,
    "start_time": "2022-12-22T21:45:46.939Z"
   },
   {
    "duration": 10,
    "start_time": "2022-12-22T21:45:58.655Z"
   },
   {
    "duration": 10,
    "start_time": "2022-12-22T21:46:34.806Z"
   },
   {
    "duration": 2,
    "start_time": "2022-12-22T21:46:57.185Z"
   },
   {
    "duration": 4,
    "start_time": "2022-12-22T21:46:57.970Z"
   },
   {
    "duration": 3,
    "start_time": "2022-12-22T21:46:58.555Z"
   },
   {
    "duration": 125,
    "start_time": "2022-12-22T21:46:59.283Z"
   },
   {
    "duration": 1545,
    "start_time": "2022-12-22T21:47:27.675Z"
   },
   {
    "duration": 842,
    "start_time": "2022-12-22T21:47:29.222Z"
   },
   {
    "duration": 228,
    "start_time": "2022-12-22T21:47:30.065Z"
   },
   {
    "duration": 4,
    "start_time": "2022-12-22T21:47:30.295Z"
   },
   {
    "duration": 2455,
    "start_time": "2022-12-22T21:47:30.301Z"
   },
   {
    "duration": 2,
    "start_time": "2022-12-22T21:47:32.758Z"
   },
   {
    "duration": 29,
    "start_time": "2022-12-22T21:47:32.762Z"
   },
   {
    "duration": 16,
    "start_time": "2022-12-22T21:47:32.793Z"
   },
   {
    "duration": 14,
    "start_time": "2022-12-22T21:47:32.811Z"
   },
   {
    "duration": 236,
    "start_time": "2022-12-22T21:47:32.826Z"
   },
   {
    "duration": 0,
    "start_time": "2022-12-22T21:47:33.065Z"
   },
   {
    "duration": 0,
    "start_time": "2022-12-22T21:47:33.066Z"
   },
   {
    "duration": 0,
    "start_time": "2022-12-22T21:47:33.067Z"
   },
   {
    "duration": 0,
    "start_time": "2022-12-22T21:47:33.069Z"
   },
   {
    "duration": 0,
    "start_time": "2022-12-22T21:47:33.070Z"
   },
   {
    "duration": 0,
    "start_time": "2022-12-22T21:47:33.071Z"
   },
   {
    "duration": 0,
    "start_time": "2022-12-22T21:47:33.072Z"
   },
   {
    "duration": 0,
    "start_time": "2022-12-22T21:47:33.074Z"
   },
   {
    "duration": 0,
    "start_time": "2022-12-22T21:47:33.075Z"
   },
   {
    "duration": 3,
    "start_time": "2022-12-22T21:48:04.468Z"
   },
   {
    "duration": 19,
    "start_time": "2022-12-22T21:48:04.729Z"
   },
   {
    "duration": 1572,
    "start_time": "2022-12-22T21:48:08.623Z"
   },
   {
    "duration": 824,
    "start_time": "2022-12-22T21:48:10.197Z"
   },
   {
    "duration": 217,
    "start_time": "2022-12-22T21:48:11.023Z"
   },
   {
    "duration": 4,
    "start_time": "2022-12-22T21:48:11.242Z"
   },
   {
    "duration": 2407,
    "start_time": "2022-12-22T21:48:11.247Z"
   },
   {
    "duration": 3,
    "start_time": "2022-12-22T21:48:13.655Z"
   },
   {
    "duration": 21,
    "start_time": "2022-12-22T21:48:13.659Z"
   },
   {
    "duration": 32,
    "start_time": "2022-12-22T21:48:13.682Z"
   },
   {
    "duration": 24,
    "start_time": "2022-12-22T21:48:13.715Z"
   },
   {
    "duration": 246,
    "start_time": "2022-12-22T21:48:13.741Z"
   },
   {
    "duration": 0,
    "start_time": "2022-12-22T21:48:13.988Z"
   },
   {
    "duration": 0,
    "start_time": "2022-12-22T21:48:13.990Z"
   },
   {
    "duration": 0,
    "start_time": "2022-12-22T21:48:13.991Z"
   },
   {
    "duration": 0,
    "start_time": "2022-12-22T21:48:13.992Z"
   },
   {
    "duration": 0,
    "start_time": "2022-12-22T21:48:13.993Z"
   },
   {
    "duration": 0,
    "start_time": "2022-12-22T21:48:13.994Z"
   },
   {
    "duration": 0,
    "start_time": "2022-12-22T21:48:13.995Z"
   },
   {
    "duration": 0,
    "start_time": "2022-12-22T21:48:13.996Z"
   },
   {
    "duration": 0,
    "start_time": "2022-12-22T21:48:13.997Z"
   },
   {
    "duration": 3,
    "start_time": "2022-12-22T21:48:41.494Z"
   },
   {
    "duration": 4,
    "start_time": "2022-12-22T21:48:41.759Z"
   },
   {
    "duration": 20,
    "start_time": "2022-12-22T21:48:42.831Z"
   },
   {
    "duration": 1629,
    "start_time": "2022-12-22T21:48:45.693Z"
   },
   {
    "duration": 862,
    "start_time": "2022-12-22T21:48:47.325Z"
   },
   {
    "duration": 239,
    "start_time": "2022-12-22T21:48:48.189Z"
   },
   {
    "duration": 5,
    "start_time": "2022-12-22T21:48:48.435Z"
   },
   {
    "duration": 2490,
    "start_time": "2022-12-22T21:48:48.441Z"
   },
   {
    "duration": 5,
    "start_time": "2022-12-22T21:48:50.935Z"
   },
   {
    "duration": 12,
    "start_time": "2022-12-22T21:48:50.941Z"
   },
   {
    "duration": 16,
    "start_time": "2022-12-22T21:48:50.955Z"
   },
   {
    "duration": 31,
    "start_time": "2022-12-22T21:48:50.972Z"
   },
   {
    "duration": 262,
    "start_time": "2022-12-22T21:48:51.005Z"
   },
   {
    "duration": 0,
    "start_time": "2022-12-22T21:48:51.269Z"
   },
   {
    "duration": 0,
    "start_time": "2022-12-22T21:48:51.270Z"
   },
   {
    "duration": 0,
    "start_time": "2022-12-22T21:48:51.271Z"
   },
   {
    "duration": 0,
    "start_time": "2022-12-22T21:48:51.272Z"
   },
   {
    "duration": 0,
    "start_time": "2022-12-22T21:48:51.273Z"
   },
   {
    "duration": 0,
    "start_time": "2022-12-22T21:48:51.274Z"
   },
   {
    "duration": 0,
    "start_time": "2022-12-22T21:48:51.276Z"
   },
   {
    "duration": 0,
    "start_time": "2022-12-22T21:48:51.277Z"
   },
   {
    "duration": 0,
    "start_time": "2022-12-22T21:48:51.277Z"
   },
   {
    "duration": 9,
    "start_time": "2022-12-22T21:49:24.958Z"
   },
   {
    "duration": 1613,
    "start_time": "2022-12-22T21:49:30.877Z"
   },
   {
    "duration": 947,
    "start_time": "2022-12-22T21:49:32.492Z"
   },
   {
    "duration": 252,
    "start_time": "2022-12-22T21:49:33.441Z"
   },
   {
    "duration": 5,
    "start_time": "2022-12-22T21:49:33.695Z"
   },
   {
    "duration": 2471,
    "start_time": "2022-12-22T21:49:33.702Z"
   },
   {
    "duration": 2,
    "start_time": "2022-12-22T21:49:36.175Z"
   },
   {
    "duration": 20,
    "start_time": "2022-12-22T21:49:36.179Z"
   },
   {
    "duration": 51,
    "start_time": "2022-12-22T21:49:36.201Z"
   },
   {
    "duration": 47,
    "start_time": "2022-12-22T21:49:36.254Z"
   },
   {
    "duration": 130,
    "start_time": "2022-12-22T21:49:36.303Z"
   },
   {
    "duration": 0,
    "start_time": "2022-12-22T21:49:36.434Z"
   },
   {
    "duration": 0,
    "start_time": "2022-12-22T21:49:36.435Z"
   },
   {
    "duration": 0,
    "start_time": "2022-12-22T21:49:36.436Z"
   },
   {
    "duration": 0,
    "start_time": "2022-12-22T21:49:36.438Z"
   },
   {
    "duration": 0,
    "start_time": "2022-12-22T21:49:36.438Z"
   },
   {
    "duration": 0,
    "start_time": "2022-12-22T21:49:36.439Z"
   },
   {
    "duration": 0,
    "start_time": "2022-12-22T21:49:36.440Z"
   },
   {
    "duration": 0,
    "start_time": "2022-12-22T21:49:36.441Z"
   },
   {
    "duration": 0,
    "start_time": "2022-12-22T21:49:36.442Z"
   },
   {
    "duration": 0,
    "start_time": "2022-12-22T21:49:36.443Z"
   },
   {
    "duration": 4,
    "start_time": "2022-12-22T21:49:44.894Z"
   },
   {
    "duration": 1663,
    "start_time": "2022-12-22T21:50:08.247Z"
   },
   {
    "duration": 848,
    "start_time": "2022-12-22T21:50:09.912Z"
   },
   {
    "duration": 236,
    "start_time": "2022-12-22T21:50:10.761Z"
   },
   {
    "duration": 4,
    "start_time": "2022-12-22T21:50:10.999Z"
   },
   {
    "duration": 2429,
    "start_time": "2022-12-22T21:50:11.004Z"
   },
   {
    "duration": 2,
    "start_time": "2022-12-22T21:50:13.435Z"
   },
   {
    "duration": 8,
    "start_time": "2022-12-22T21:50:13.439Z"
   },
   {
    "duration": 18,
    "start_time": "2022-12-22T21:50:13.449Z"
   },
   {
    "duration": 122,
    "start_time": "2022-12-22T21:50:13.469Z"
   },
   {
    "duration": 0,
    "start_time": "2022-12-22T21:50:13.593Z"
   },
   {
    "duration": 0,
    "start_time": "2022-12-22T21:50:13.594Z"
   },
   {
    "duration": 0,
    "start_time": "2022-12-22T21:50:13.595Z"
   },
   {
    "duration": 0,
    "start_time": "2022-12-22T21:50:13.596Z"
   },
   {
    "duration": 0,
    "start_time": "2022-12-22T21:50:13.597Z"
   },
   {
    "duration": 0,
    "start_time": "2022-12-22T21:50:13.598Z"
   },
   {
    "duration": 0,
    "start_time": "2022-12-22T21:50:13.598Z"
   },
   {
    "duration": 0,
    "start_time": "2022-12-22T21:50:13.599Z"
   },
   {
    "duration": 0,
    "start_time": "2022-12-22T21:50:13.600Z"
   },
   {
    "duration": 1549,
    "start_time": "2022-12-22T21:51:29.267Z"
   },
   {
    "duration": 847,
    "start_time": "2022-12-22T21:51:30.817Z"
   },
   {
    "duration": 223,
    "start_time": "2022-12-22T21:51:31.665Z"
   },
   {
    "duration": 4,
    "start_time": "2022-12-22T21:51:31.890Z"
   },
   {
    "duration": 2449,
    "start_time": "2022-12-22T21:51:31.895Z"
   },
   {
    "duration": 2,
    "start_time": "2022-12-22T21:51:34.346Z"
   },
   {
    "duration": 10,
    "start_time": "2022-12-22T21:51:34.349Z"
   },
   {
    "duration": 13,
    "start_time": "2022-12-22T21:51:34.360Z"
   },
   {
    "duration": 3,
    "start_time": "2022-12-23T07:59:30.022Z"
   },
   {
    "duration": 1855,
    "start_time": "2022-12-23T07:59:34.509Z"
   },
   {
    "duration": 3134,
    "start_time": "2022-12-23T07:59:36.365Z"
   },
   {
    "duration": 213,
    "start_time": "2022-12-23T07:59:39.500Z"
   },
   {
    "duration": 4,
    "start_time": "2022-12-23T07:59:39.715Z"
   },
   {
    "duration": 2176,
    "start_time": "2022-12-23T07:59:39.720Z"
   },
   {
    "duration": 3,
    "start_time": "2022-12-23T07:59:41.898Z"
   },
   {
    "duration": 38,
    "start_time": "2022-12-23T07:59:41.903Z"
   },
   {
    "duration": 23,
    "start_time": "2022-12-23T07:59:41.942Z"
   },
   {
    "duration": 18,
    "start_time": "2022-12-23T07:59:41.966Z"
   },
   {
    "duration": 109,
    "start_time": "2022-12-23T07:59:41.987Z"
   },
   {
    "duration": 7025,
    "start_time": "2022-12-23T07:59:42.097Z"
   },
   {
    "duration": 190744,
    "start_time": "2022-12-23T07:59:49.124Z"
   },
   {
    "duration": 1229906,
    "start_time": "2022-12-23T08:02:59.870Z"
   },
   {
    "duration": 1497,
    "start_time": "2022-12-23T08:23:29.778Z"
   },
   {
    "duration": 3,
    "start_time": "2022-12-23T08:23:31.278Z"
   },
   {
    "duration": 91,
    "start_time": "2022-12-23T08:23:31.283Z"
   },
   {
    "duration": 888,
    "start_time": "2022-12-23T08:23:31.376Z"
   }
  ],
  "kernelspec": {
   "display_name": "Python 3 (ipykernel)",
   "language": "python",
   "name": "python3"
  },
  "language_info": {
   "codemirror_mode": {
    "name": "ipython",
    "version": 3
   },
   "file_extension": ".py",
   "mimetype": "text/x-python",
   "name": "python",
   "nbconvert_exporter": "python",
   "pygments_lexer": "ipython3",
   "version": "3.9.5"
  },
  "toc": {
   "base_numbering": 1,
   "nav_menu": {},
   "number_sections": true,
   "sideBar": true,
   "skip_h1_title": true,
   "title_cell": "Содержание",
   "title_sidebar": "Contents",
   "toc_cell": true,
   "toc_position": {
    "height": "calc(100% - 180px)",
    "left": "10px",
    "top": "150px",
    "width": "302.391px"
   },
   "toc_section_display": true,
   "toc_window_display": false
  }
 },
 "nbformat": 4,
 "nbformat_minor": 2
}
