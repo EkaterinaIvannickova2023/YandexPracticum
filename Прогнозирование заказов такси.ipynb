{
 "cells": [
  {
   "cell_type": "markdown",
   "metadata": {
    "toc": true
   },
   "source": [
    "<h1>Содержание<span class=\"tocSkip\"></span></h1>\n",
    "<div class=\"toc\"><ul class=\"toc-item\"><li><span><a href=\"#Подготовка\" data-toc-modified-id=\"Подготовка-1\"><span class=\"toc-item-num\">1&nbsp;&nbsp;</span>Подготовка</a></span></li><li><span><a href=\"#Анализ\" data-toc-modified-id=\"Анализ-2\"><span class=\"toc-item-num\">2&nbsp;&nbsp;</span>Анализ</a></span></li><li><span><a href=\"#Обучение\" data-toc-modified-id=\"Обучение-3\"><span class=\"toc-item-num\">3&nbsp;&nbsp;</span>Обучение</a></span></li><li><span><a href=\"#Чек-лист-проверки\" data-toc-modified-id=\"Чек-лист-проверки-4\"><span class=\"toc-item-num\">4&nbsp;&nbsp;</span>Чек-лист проверки</a></span></li></ul></div>"
   ]
  },
  {
   "cell_type": "markdown",
   "metadata": {},
   "source": [
    "#  Прогнозирование заказов такси"
   ]
  },
  {
   "cell_type": "markdown",
   "metadata": {},
   "source": [
    "Компания «Чётенькое такси» собрала исторические данные о заказах такси в аэропортах. Чтобы привлекать больше водителей в период пиковой нагрузки, нужно спрогнозировать количество заказов такси на следующий час. Постройте модель для такого предсказания.\n",
    "\n",
    "Значение метрики *RMSE* на тестовой выборке должно быть не больше 48.\n",
    "\n",
    "Вам нужно:\n",
    "\n",
    "1. Загрузить данные и выполнить их ресемплирование по одному часу.\n",
    "2. Проанализировать данные.\n",
    "3. Обучить разные модели с различными гиперпараметрами. Сделать тестовую выборку размером 10% от исходных данных.\n",
    "4. Проверить данные на тестовой выборке и сделать выводы.\n",
    "\n",
    "\n",
    "Данные лежат в файле `taxi.csv`. Количество заказов находится в столбце `num_orders` (от англ. *number of orders*, «число заказов»)."
   ]
  },
  {
   "cell_type": "markdown",
   "metadata": {},
   "source": [
    "## Подготовка"
   ]
  },
  {
   "cell_type": "code",
   "execution_count": 1,
   "metadata": {},
   "outputs": [],
   "source": [
    "import pandas as pd\n",
    "import numpy as np\n",
    "\n",
    "import matplotlib.pyplot as plt\n",
    "\n",
    "from statsmodels.tsa.seasonal import seasonal_decompose\n",
    "\n",
    "from sklearn.model_selection import train_test_split, GridSearchCV, RandomizedSearchCV\n",
    "from sklearn.metrics import mean_squared_error\n",
    "\n",
    "import lightgbm as lgb"
   ]
  },
  {
   "cell_type": "code",
   "execution_count": 2,
   "metadata": {},
   "outputs": [],
   "source": [
    "taxi = pd.read_csv('/datasets/taxi.csv', parse_dates=[0] ,index_col='datetime')"
   ]
  },
  {
   "cell_type": "code",
   "execution_count": 3,
   "metadata": {},
   "outputs": [
    {
     "data": {
      "text/html": [
       "<div>\n",
       "<style scoped>\n",
       "    .dataframe tbody tr th:only-of-type {\n",
       "        vertical-align: middle;\n",
       "    }\n",
       "\n",
       "    .dataframe tbody tr th {\n",
       "        vertical-align: top;\n",
       "    }\n",
       "\n",
       "    .dataframe thead th {\n",
       "        text-align: right;\n",
       "    }\n",
       "</style>\n",
       "<table border=\"1\" class=\"dataframe\">\n",
       "  <thead>\n",
       "    <tr style=\"text-align: right;\">\n",
       "      <th></th>\n",
       "      <th>num_orders</th>\n",
       "    </tr>\n",
       "    <tr>\n",
       "      <th>datetime</th>\n",
       "      <th></th>\n",
       "    </tr>\n",
       "  </thead>\n",
       "  <tbody>\n",
       "    <tr>\n",
       "      <th>2018-03-01 00:00:00</th>\n",
       "      <td>9</td>\n",
       "    </tr>\n",
       "    <tr>\n",
       "      <th>2018-03-01 00:10:00</th>\n",
       "      <td>14</td>\n",
       "    </tr>\n",
       "    <tr>\n",
       "      <th>2018-03-01 00:20:00</th>\n",
       "      <td>28</td>\n",
       "    </tr>\n",
       "    <tr>\n",
       "      <th>2018-03-01 00:30:00</th>\n",
       "      <td>20</td>\n",
       "    </tr>\n",
       "    <tr>\n",
       "      <th>2018-03-01 00:40:00</th>\n",
       "      <td>32</td>\n",
       "    </tr>\n",
       "  </tbody>\n",
       "</table>\n",
       "</div>"
      ],
      "text/plain": [
       "                     num_orders\n",
       "datetime                       \n",
       "2018-03-01 00:00:00           9\n",
       "2018-03-01 00:10:00          14\n",
       "2018-03-01 00:20:00          28\n",
       "2018-03-01 00:30:00          20\n",
       "2018-03-01 00:40:00          32"
      ]
     },
     "execution_count": 3,
     "metadata": {},
     "output_type": "execute_result"
    }
   ],
   "source": [
    "taxi.head()"
   ]
  },
  {
   "cell_type": "markdown",
   "metadata": {},
   "source": [
    "Данные загружены и изучены . В таблице данные заказов такси с марта по август 2018 года , имеется 2 столбца - число заказов такси 'num_orders' и время заказа такси. "
   ]
  },
  {
   "cell_type": "code",
   "execution_count": 4,
   "metadata": {},
   "outputs": [],
   "source": [
    "taxi.sort_index(inplace=True) #отсортируем признаки "
   ]
  },
  {
   "cell_type": "code",
   "execution_count": 5,
   "metadata": {},
   "outputs": [
    {
     "data": {
      "text/plain": [
       "True"
      ]
     },
     "execution_count": 5,
     "metadata": {},
     "output_type": "execute_result"
    }
   ],
   "source": [
    "taxi.index.is_monotonic "
   ]
  },
  {
   "cell_type": "code",
   "execution_count": 6,
   "metadata": {},
   "outputs": [
    {
     "data": {
      "text/html": [
       "<div>\n",
       "<style scoped>\n",
       "    .dataframe tbody tr th:only-of-type {\n",
       "        vertical-align: middle;\n",
       "    }\n",
       "\n",
       "    .dataframe tbody tr th {\n",
       "        vertical-align: top;\n",
       "    }\n",
       "\n",
       "    .dataframe thead th {\n",
       "        text-align: right;\n",
       "    }\n",
       "</style>\n",
       "<table border=\"1\" class=\"dataframe\">\n",
       "  <thead>\n",
       "    <tr style=\"text-align: right;\">\n",
       "      <th></th>\n",
       "      <th>num_orders</th>\n",
       "    </tr>\n",
       "    <tr>\n",
       "      <th>datetime</th>\n",
       "      <th></th>\n",
       "    </tr>\n",
       "  </thead>\n",
       "  <tbody>\n",
       "    <tr>\n",
       "      <th>2018-03-01 00:00:00</th>\n",
       "      <td>124</td>\n",
       "    </tr>\n",
       "    <tr>\n",
       "      <th>2018-03-01 01:00:00</th>\n",
       "      <td>85</td>\n",
       "    </tr>\n",
       "    <tr>\n",
       "      <th>2018-03-01 02:00:00</th>\n",
       "      <td>71</td>\n",
       "    </tr>\n",
       "    <tr>\n",
       "      <th>2018-03-01 03:00:00</th>\n",
       "      <td>66</td>\n",
       "    </tr>\n",
       "    <tr>\n",
       "      <th>2018-03-01 04:00:00</th>\n",
       "      <td>43</td>\n",
       "    </tr>\n",
       "  </tbody>\n",
       "</table>\n",
       "</div>"
      ],
      "text/plain": [
       "                     num_orders\n",
       "datetime                       \n",
       "2018-03-01 00:00:00         124\n",
       "2018-03-01 01:00:00          85\n",
       "2018-03-01 02:00:00          71\n",
       "2018-03-01 03:00:00          66\n",
       "2018-03-01 04:00:00          43"
      ]
     },
     "execution_count": 6,
     "metadata": {},
     "output_type": "execute_result"
    }
   ],
   "source": [
    "taxi = taxi.resample('1H').sum()\n",
    "taxi.head()#выполним ресемплирование по 1 часу"
   ]
  },
  {
   "cell_type": "markdown",
   "metadata": {},
   "source": [
    "## Анализ"
   ]
  },
  {
   "cell_type": "code",
   "execution_count": 7,
   "metadata": {},
   "outputs": [
    {
     "data": {
      "image/png": "[encoded data removed]",
      "text/plain": [
       "<Figure size 432x576 with 3 Axes>"
      ]
     },
     "metadata": {
      "needs_background": "light"
     },
     "output_type": "display_data"
    }
   ],
   "source": [
    "decomposed = seasonal_decompose(taxi) #построим гарфики,разложим временной ряд\n",
    "\n",
    "plt.figure(figsize=(6, 8))\n",
    "plt.subplot(311)\n",
    "decomposed.trend.plot(ax=plt.gca())\n",
    "plt.title('Trend')\n",
    "plt.subplot(312)\n",
    "decomposed.seasonal.plot(ax=plt.gca()) \n",
    "plt.title('Seasonality')\n",
    "plt.subplot(313)\n",
    "decomposed.resid.plot(ax=plt.gca())\n",
    "plt.title('Residuals')\n",
    "plt.tight_layout()"
   ]
  },
  {
   "cell_type": "markdown",
   "metadata": {},
   "source": [
    "Cреднее количество заказов увеличивается ближе к летнему сезону. Что касаемо сезонности -  Нельзя увидеть закономерности, если есть данные только за год."
   ]
  },
  {
   "cell_type": "code",
   "execution_count": 8,
   "metadata": {},
   "outputs": [
    {
     "data": {
      "image/png": "[encoded data removed]",
      "text/plain": [
       "<Figure size 432x288 with 1 Axes>"
      ]
     },
     "metadata": {
      "needs_background": "light"
     },
     "output_type": "display_data"
    },
    {
     "data": {
      "image/png": "[encoded data removed]",
      "text/plain": [
       "<Figure size 432x288 with 1 Axes>"
      ]
     },
     "metadata": {
      "needs_background": "light"
     },
     "output_type": "display_data"
    }
   ],
   "source": [
    "taxi.plot()\n",
    "plt.show()\n",
    "\n",
    "# Применим скользящее среднее\n",
    "\n",
    "taxi.rolling(300).mean().plot()\n",
    "plt.show()\n"
   ]
  },
  {
   "cell_type": "markdown",
   "metadata": {},
   "source": [
    "Среднее количество заказов такси к середине лета увиличевается в два раза , это можно обьяснить тем , что летом все люди в отпуске и больше гуляют , так же возможно из-за роста компании в целом ."
   ]
  },
  {
   "cell_type": "code",
   "execution_count": 9,
   "metadata": {},
   "outputs": [
    {
     "data": {
      "image/png": "[encoded data removed]",
      "text/plain": [
       "<Figure size 432x288 with 1 Axes>"
      ]
     },
     "metadata": {
      "needs_background": "light"
     },
     "output_type": "display_data"
    }
   ],
   "source": [
    "decomposed.seasonal['2018-05-01' : '2018-05-02'].plot(title='Seasonal');"
   ]
  },
  {
   "cell_type": "markdown",
   "metadata": {},
   "source": [
    "Среднее количество заказов такси имеет тенденцию увеличиватся в 12 ч. вечера и 18 ч вечера, а на спад идет с 2 ч. ночи до 6. ч утра ."
   ]
  },
  {
   "cell_type": "code",
   "execution_count": 10,
   "metadata": {},
   "outputs": [
    {
     "data": {
      "image/png": "[encoded data removed]",
      "text/plain": [
       "<Figure size 432x288 with 1 Axes>"
      ]
     },
     "metadata": {
      "needs_background": "light"
     },
     "output_type": "display_data"
    }
   ],
   "source": [
    "decomposed.seasonal['2018-04-01' : '2018-04-07'].plot(title='Seasonal');"
   ]
  },
  {
   "cell_type": "markdown",
   "metadata": {},
   "source": [
    "Если рассматривать график на среднее количесвто заказов такси в дневном цикле то гарфик достаточно равномерный. Разницы в дне недели особо нет ."
   ]
  },
  {
   "cell_type": "markdown",
   "metadata": {},
   "source": [
    "## Обучение"
   ]
  },
  {
   "cell_type": "code",
   "execution_count": 11,
   "metadata": {},
   "outputs": [],
   "source": [
    "def make_features(taxi, max_lag,rolling_mean_size): #функция для создания новых признаков \n",
    "\n",
    "    #taxi['year'] = taxi.index.year\n",
    "    #taxi['month'] = taxi.index.month\n",
    "    #taxi['day'] = taxi.index.day\n",
    "    taxi['dayofweek'] = taxi.index.dayofweek\n",
    "    taxi['hour'] = taxi.index.hour\n",
    "    \n",
    "    for lag in range(1, max_lag + 1):\n",
    "        taxi['lag_{}'.format(lag)] = taxi['num_orders'].shift(lag)\n",
    "    \n",
    "    \n",
    "    taxi['rolling_mean'] = taxi['num_orders'].shift().rolling(rolling_mean_size).mean()\n",
    "    \n",
    "    return taxi\n",
    "    \n",
    "taxi = make_features(taxi, 30, 30)    "
   ]
  },
  {
   "cell_type": "code",
   "execution_count": 12,
   "metadata": {},
   "outputs": [
    {
     "name": "stdout",
     "output_type": "stream",
     "text": [
      "(4416, 34)\n",
      "(4386, 34)\n"
     ]
    }
   ],
   "source": [
    "print(taxi.shape)\n",
    "taxi = taxi.dropna()\n",
    "print(taxi.shape)"
   ]
  },
  {
   "cell_type": "code",
   "execution_count": 13,
   "metadata": {},
   "outputs": [
    {
     "data": {
      "text/plain": [
       "((3947, 33), (439, 33), (3947,), (439,))"
      ]
     },
     "execution_count": 13,
     "metadata": {},
     "output_type": "execute_result"
    }
   ],
   "source": [
    "x_taxi = taxi.drop('num_orders', axis=1) #разбиваем данные\n",
    "y_taxi = taxi['num_orders']\n",
    "x_taxi_train, x_taxi_test, y_taxi_train, y_taxi_test = train_test_split(x_taxi, y_taxi, test_size=0.1 , shuffle=False)\n",
    "x_taxi_train.shape, x_taxi_test.shape, y_taxi_train.shape, y_taxi_test.shape"
   ]
  },
  {
   "cell_type": "code",
   "execution_count": 14,
   "metadata": {},
   "outputs": [
    {
     "data": {
      "text/html": [
       "<div>\n",
       "<style scoped>\n",
       "    .dataframe tbody tr th:only-of-type {\n",
       "        vertical-align: middle;\n",
       "    }\n",
       "\n",
       "    .dataframe tbody tr th {\n",
       "        vertical-align: top;\n",
       "    }\n",
       "\n",
       "    .dataframe thead th {\n",
       "        text-align: right;\n",
       "    }\n",
       "</style>\n",
       "<table border=\"1\" class=\"dataframe\">\n",
       "  <thead>\n",
       "    <tr style=\"text-align: right;\">\n",
       "      <th></th>\n",
       "      <th>dayofweek</th>\n",
       "      <th>hour</th>\n",
       "      <th>lag_1</th>\n",
       "      <th>lag_2</th>\n",
       "      <th>lag_3</th>\n",
       "      <th>lag_4</th>\n",
       "      <th>lag_5</th>\n",
       "      <th>lag_6</th>\n",
       "      <th>lag_7</th>\n",
       "      <th>lag_8</th>\n",
       "      <th>...</th>\n",
       "      <th>lag_22</th>\n",
       "      <th>lag_23</th>\n",
       "      <th>lag_24</th>\n",
       "      <th>lag_25</th>\n",
       "      <th>lag_26</th>\n",
       "      <th>lag_27</th>\n",
       "      <th>lag_28</th>\n",
       "      <th>lag_29</th>\n",
       "      <th>lag_30</th>\n",
       "      <th>rolling_mean</th>\n",
       "    </tr>\n",
       "    <tr>\n",
       "      <th>datetime</th>\n",
       "      <th></th>\n",
       "      <th></th>\n",
       "      <th></th>\n",
       "      <th></th>\n",
       "      <th></th>\n",
       "      <th></th>\n",
       "      <th></th>\n",
       "      <th></th>\n",
       "      <th></th>\n",
       "      <th></th>\n",
       "      <th></th>\n",
       "      <th></th>\n",
       "      <th></th>\n",
       "      <th></th>\n",
       "      <th></th>\n",
       "      <th></th>\n",
       "      <th></th>\n",
       "      <th></th>\n",
       "      <th></th>\n",
       "      <th></th>\n",
       "      <th></th>\n",
       "    </tr>\n",
       "  </thead>\n",
       "  <tbody>\n",
       "    <tr>\n",
       "      <th>2018-03-02 06:00:00</th>\n",
       "      <td>4</td>\n",
       "      <td>6</td>\n",
       "      <td>11.0</td>\n",
       "      <td>20.0</td>\n",
       "      <td>64.0</td>\n",
       "      <td>75.0</td>\n",
       "      <td>120.0</td>\n",
       "      <td>90.0</td>\n",
       "      <td>58.0</td>\n",
       "      <td>113.0</td>\n",
       "      <td>...</td>\n",
       "      <td>34.0</td>\n",
       "      <td>15.0</td>\n",
       "      <td>12.0</td>\n",
       "      <td>6.0</td>\n",
       "      <td>43.0</td>\n",
       "      <td>66.0</td>\n",
       "      <td>71.0</td>\n",
       "      <td>85.0</td>\n",
       "      <td>124.0</td>\n",
       "      <td>58.133333</td>\n",
       "    </tr>\n",
       "    <tr>\n",
       "      <th>2018-03-02 07:00:00</th>\n",
       "      <td>4</td>\n",
       "      <td>7</td>\n",
       "      <td>11.0</td>\n",
       "      <td>11.0</td>\n",
       "      <td>20.0</td>\n",
       "      <td>64.0</td>\n",
       "      <td>75.0</td>\n",
       "      <td>120.0</td>\n",
       "      <td>90.0</td>\n",
       "      <td>58.0</td>\n",
       "      <td>...</td>\n",
       "      <td>69.0</td>\n",
       "      <td>34.0</td>\n",
       "      <td>15.0</td>\n",
       "      <td>12.0</td>\n",
       "      <td>6.0</td>\n",
       "      <td>43.0</td>\n",
       "      <td>66.0</td>\n",
       "      <td>71.0</td>\n",
       "      <td>85.0</td>\n",
       "      <td>54.366667</td>\n",
       "    </tr>\n",
       "    <tr>\n",
       "      <th>2018-03-02 08:00:00</th>\n",
       "      <td>4</td>\n",
       "      <td>8</td>\n",
       "      <td>7.0</td>\n",
       "      <td>11.0</td>\n",
       "      <td>11.0</td>\n",
       "      <td>20.0</td>\n",
       "      <td>64.0</td>\n",
       "      <td>75.0</td>\n",
       "      <td>120.0</td>\n",
       "      <td>90.0</td>\n",
       "      <td>...</td>\n",
       "      <td>64.0</td>\n",
       "      <td>69.0</td>\n",
       "      <td>34.0</td>\n",
       "      <td>15.0</td>\n",
       "      <td>12.0</td>\n",
       "      <td>6.0</td>\n",
       "      <td>43.0</td>\n",
       "      <td>66.0</td>\n",
       "      <td>71.0</td>\n",
       "      <td>51.766667</td>\n",
       "    </tr>\n",
       "    <tr>\n",
       "      <th>2018-03-02 09:00:00</th>\n",
       "      <td>4</td>\n",
       "      <td>9</td>\n",
       "      <td>46.0</td>\n",
       "      <td>7.0</td>\n",
       "      <td>11.0</td>\n",
       "      <td>11.0</td>\n",
       "      <td>20.0</td>\n",
       "      <td>64.0</td>\n",
       "      <td>75.0</td>\n",
       "      <td>120.0</td>\n",
       "      <td>...</td>\n",
       "      <td>96.0</td>\n",
       "      <td>64.0</td>\n",
       "      <td>69.0</td>\n",
       "      <td>34.0</td>\n",
       "      <td>15.0</td>\n",
       "      <td>12.0</td>\n",
       "      <td>6.0</td>\n",
       "      <td>43.0</td>\n",
       "      <td>66.0</td>\n",
       "      <td>50.933333</td>\n",
       "    </tr>\n",
       "    <tr>\n",
       "      <th>2018-03-02 10:00:00</th>\n",
       "      <td>4</td>\n",
       "      <td>10</td>\n",
       "      <td>45.0</td>\n",
       "      <td>46.0</td>\n",
       "      <td>7.0</td>\n",
       "      <td>11.0</td>\n",
       "      <td>11.0</td>\n",
       "      <td>20.0</td>\n",
       "      <td>64.0</td>\n",
       "      <td>75.0</td>\n",
       "      <td>...</td>\n",
       "      <td>30.0</td>\n",
       "      <td>96.0</td>\n",
       "      <td>64.0</td>\n",
       "      <td>69.0</td>\n",
       "      <td>34.0</td>\n",
       "      <td>15.0</td>\n",
       "      <td>12.0</td>\n",
       "      <td>6.0</td>\n",
       "      <td>43.0</td>\n",
       "      <td>50.233333</td>\n",
       "    </tr>\n",
       "    <tr>\n",
       "      <th>...</th>\n",
       "      <td>...</td>\n",
       "      <td>...</td>\n",
       "      <td>...</td>\n",
       "      <td>...</td>\n",
       "      <td>...</td>\n",
       "      <td>...</td>\n",
       "      <td>...</td>\n",
       "      <td>...</td>\n",
       "      <td>...</td>\n",
       "      <td>...</td>\n",
       "      <td>...</td>\n",
       "      <td>...</td>\n",
       "      <td>...</td>\n",
       "      <td>...</td>\n",
       "      <td>...</td>\n",
       "      <td>...</td>\n",
       "      <td>...</td>\n",
       "      <td>...</td>\n",
       "      <td>...</td>\n",
       "      <td>...</td>\n",
       "      <td>...</td>\n",
       "    </tr>\n",
       "    <tr>\n",
       "      <th>2018-08-13 12:00:00</th>\n",
       "      <td>0</td>\n",
       "      <td>12</td>\n",
       "      <td>144.0</td>\n",
       "      <td>156.0</td>\n",
       "      <td>137.0</td>\n",
       "      <td>91.0</td>\n",
       "      <td>39.0</td>\n",
       "      <td>66.0</td>\n",
       "      <td>83.0</td>\n",
       "      <td>143.0</td>\n",
       "      <td>...</td>\n",
       "      <td>104.0</td>\n",
       "      <td>120.0</td>\n",
       "      <td>123.0</td>\n",
       "      <td>81.0</td>\n",
       "      <td>108.0</td>\n",
       "      <td>108.0</td>\n",
       "      <td>97.0</td>\n",
       "      <td>24.0</td>\n",
       "      <td>22.0</td>\n",
       "      <td>126.566667</td>\n",
       "    </tr>\n",
       "    <tr>\n",
       "      <th>2018-08-13 13:00:00</th>\n",
       "      <td>0</td>\n",
       "      <td>13</td>\n",
       "      <td>92.0</td>\n",
       "      <td>144.0</td>\n",
       "      <td>156.0</td>\n",
       "      <td>137.0</td>\n",
       "      <td>91.0</td>\n",
       "      <td>39.0</td>\n",
       "      <td>66.0</td>\n",
       "      <td>83.0</td>\n",
       "      <td>...</td>\n",
       "      <td>149.0</td>\n",
       "      <td>104.0</td>\n",
       "      <td>120.0</td>\n",
       "      <td>123.0</td>\n",
       "      <td>81.0</td>\n",
       "      <td>108.0</td>\n",
       "      <td>108.0</td>\n",
       "      <td>97.0</td>\n",
       "      <td>24.0</td>\n",
       "      <td>128.900000</td>\n",
       "    </tr>\n",
       "    <tr>\n",
       "      <th>2018-08-13 14:00:00</th>\n",
       "      <td>0</td>\n",
       "      <td>14</td>\n",
       "      <td>119.0</td>\n",
       "      <td>92.0</td>\n",
       "      <td>144.0</td>\n",
       "      <td>156.0</td>\n",
       "      <td>137.0</td>\n",
       "      <td>91.0</td>\n",
       "      <td>39.0</td>\n",
       "      <td>66.0</td>\n",
       "      <td>...</td>\n",
       "      <td>153.0</td>\n",
       "      <td>149.0</td>\n",
       "      <td>104.0</td>\n",
       "      <td>120.0</td>\n",
       "      <td>123.0</td>\n",
       "      <td>81.0</td>\n",
       "      <td>108.0</td>\n",
       "      <td>108.0</td>\n",
       "      <td>97.0</td>\n",
       "      <td>132.066667</td>\n",
       "    </tr>\n",
       "    <tr>\n",
       "      <th>2018-08-13 15:00:00</th>\n",
       "      <td>0</td>\n",
       "      <td>15</td>\n",
       "      <td>102.0</td>\n",
       "      <td>119.0</td>\n",
       "      <td>92.0</td>\n",
       "      <td>144.0</td>\n",
       "      <td>156.0</td>\n",
       "      <td>137.0</td>\n",
       "      <td>91.0</td>\n",
       "      <td>39.0</td>\n",
       "      <td>...</td>\n",
       "      <td>115.0</td>\n",
       "      <td>153.0</td>\n",
       "      <td>149.0</td>\n",
       "      <td>104.0</td>\n",
       "      <td>120.0</td>\n",
       "      <td>123.0</td>\n",
       "      <td>81.0</td>\n",
       "      <td>108.0</td>\n",
       "      <td>108.0</td>\n",
       "      <td>132.233333</td>\n",
       "    </tr>\n",
       "    <tr>\n",
       "      <th>2018-08-13 16:00:00</th>\n",
       "      <td>0</td>\n",
       "      <td>16</td>\n",
       "      <td>175.0</td>\n",
       "      <td>102.0</td>\n",
       "      <td>119.0</td>\n",
       "      <td>92.0</td>\n",
       "      <td>144.0</td>\n",
       "      <td>156.0</td>\n",
       "      <td>137.0</td>\n",
       "      <td>91.0</td>\n",
       "      <td>...</td>\n",
       "      <td>78.0</td>\n",
       "      <td>115.0</td>\n",
       "      <td>153.0</td>\n",
       "      <td>149.0</td>\n",
       "      <td>104.0</td>\n",
       "      <td>120.0</td>\n",
       "      <td>123.0</td>\n",
       "      <td>81.0</td>\n",
       "      <td>108.0</td>\n",
       "      <td>134.466667</td>\n",
       "    </tr>\n",
       "  </tbody>\n",
       "</table>\n",
       "<p>3947 rows × 33 columns</p>\n",
       "</div>"
      ],
      "text/plain": [
       "                     dayofweek  hour  lag_1  lag_2  lag_3  lag_4  lag_5  \\\n",
       "datetime                                                                  \n",
       "2018-03-02 06:00:00          4     6   11.0   20.0   64.0   75.0  120.0   \n",
       "2018-03-02 07:00:00          4     7   11.0   11.0   20.0   64.0   75.0   \n",
       "2018-03-02 08:00:00          4     8    7.0   11.0   11.0   20.0   64.0   \n",
       "2018-03-02 09:00:00          4     9   46.0    7.0   11.0   11.0   20.0   \n",
       "2018-03-02 10:00:00          4    10   45.0   46.0    7.0   11.0   11.0   \n",
       "...                        ...   ...    ...    ...    ...    ...    ...   \n",
       "2018-08-13 12:00:00          0    12  144.0  156.0  137.0   91.0   39.0   \n",
       "2018-08-13 13:00:00          0    13   92.0  144.0  156.0  137.0   91.0   \n",
       "2018-08-13 14:00:00          0    14  119.0   92.0  144.0  156.0  137.0   \n",
       "2018-08-13 15:00:00          0    15  102.0  119.0   92.0  144.0  156.0   \n",
       "2018-08-13 16:00:00          0    16  175.0  102.0  119.0   92.0  144.0   \n",
       "\n",
       "                     lag_6  lag_7  lag_8  ...  lag_22  lag_23  lag_24  lag_25  \\\n",
       "datetime                                  ...                                   \n",
       "2018-03-02 06:00:00   90.0   58.0  113.0  ...    34.0    15.0    12.0     6.0   \n",
       "2018-03-02 07:00:00  120.0   90.0   58.0  ...    69.0    34.0    15.0    12.0   \n",
       "2018-03-02 08:00:00   75.0  120.0   90.0  ...    64.0    69.0    34.0    15.0   \n",
       "2018-03-02 09:00:00   64.0   75.0  120.0  ...    96.0    64.0    69.0    34.0   \n",
       "2018-03-02 10:00:00   20.0   64.0   75.0  ...    30.0    96.0    64.0    69.0   \n",
       "...                    ...    ...    ...  ...     ...     ...     ...     ...   \n",
       "2018-08-13 12:00:00   66.0   83.0  143.0  ...   104.0   120.0   123.0    81.0   \n",
       "2018-08-13 13:00:00   39.0   66.0   83.0  ...   149.0   104.0   120.0   123.0   \n",
       "2018-08-13 14:00:00   91.0   39.0   66.0  ...   153.0   149.0   104.0   120.0   \n",
       "2018-08-13 15:00:00  137.0   91.0   39.0  ...   115.0   153.0   149.0   104.0   \n",
       "2018-08-13 16:00:00  156.0  137.0   91.0  ...    78.0   115.0   153.0   149.0   \n",
       "\n",
       "                     lag_26  lag_27  lag_28  lag_29  lag_30  rolling_mean  \n",
       "datetime                                                                   \n",
       "2018-03-02 06:00:00    43.0    66.0    71.0    85.0   124.0     58.133333  \n",
       "2018-03-02 07:00:00     6.0    43.0    66.0    71.0    85.0     54.366667  \n",
       "2018-03-02 08:00:00    12.0     6.0    43.0    66.0    71.0     51.766667  \n",
       "2018-03-02 09:00:00    15.0    12.0     6.0    43.0    66.0     50.933333  \n",
       "2018-03-02 10:00:00    34.0    15.0    12.0     6.0    43.0     50.233333  \n",
       "...                     ...     ...     ...     ...     ...           ...  \n",
       "2018-08-13 12:00:00   108.0   108.0    97.0    24.0    22.0    126.566667  \n",
       "2018-08-13 13:00:00    81.0   108.0   108.0    97.0    24.0    128.900000  \n",
       "2018-08-13 14:00:00   123.0    81.0   108.0   108.0    97.0    132.066667  \n",
       "2018-08-13 15:00:00   120.0   123.0    81.0   108.0   108.0    132.233333  \n",
       "2018-08-13 16:00:00   104.0   120.0   123.0    81.0   108.0    134.466667  \n",
       "\n",
       "[3947 rows x 33 columns]"
      ]
     },
     "execution_count": 14,
     "metadata": {},
     "output_type": "execute_result"
    }
   ],
   "source": [
    "x_taxi_train"
   ]
  },
  {
   "cell_type": "code",
   "execution_count": 15,
   "metadata": {},
   "outputs": [
    {
     "data": {
      "text/html": [
       "<div>\n",
       "<style scoped>\n",
       "    .dataframe tbody tr th:only-of-type {\n",
       "        vertical-align: middle;\n",
       "    }\n",
       "\n",
       "    .dataframe tbody tr th {\n",
       "        vertical-align: top;\n",
       "    }\n",
       "\n",
       "    .dataframe thead th {\n",
       "        text-align: right;\n",
       "    }\n",
       "</style>\n",
       "<table border=\"1\" class=\"dataframe\">\n",
       "  <thead>\n",
       "    <tr style=\"text-align: right;\">\n",
       "      <th></th>\n",
       "      <th>dayofweek</th>\n",
       "      <th>hour</th>\n",
       "      <th>lag_1</th>\n",
       "      <th>lag_2</th>\n",
       "      <th>lag_3</th>\n",
       "      <th>lag_4</th>\n",
       "      <th>lag_5</th>\n",
       "      <th>lag_6</th>\n",
       "      <th>lag_7</th>\n",
       "      <th>lag_8</th>\n",
       "      <th>...</th>\n",
       "      <th>lag_22</th>\n",
       "      <th>lag_23</th>\n",
       "      <th>lag_24</th>\n",
       "      <th>lag_25</th>\n",
       "      <th>lag_26</th>\n",
       "      <th>lag_27</th>\n",
       "      <th>lag_28</th>\n",
       "      <th>lag_29</th>\n",
       "      <th>lag_30</th>\n",
       "      <th>rolling_mean</th>\n",
       "    </tr>\n",
       "    <tr>\n",
       "      <th>datetime</th>\n",
       "      <th></th>\n",
       "      <th></th>\n",
       "      <th></th>\n",
       "      <th></th>\n",
       "      <th></th>\n",
       "      <th></th>\n",
       "      <th></th>\n",
       "      <th></th>\n",
       "      <th></th>\n",
       "      <th></th>\n",
       "      <th></th>\n",
       "      <th></th>\n",
       "      <th></th>\n",
       "      <th></th>\n",
       "      <th></th>\n",
       "      <th></th>\n",
       "      <th></th>\n",
       "      <th></th>\n",
       "      <th></th>\n",
       "      <th></th>\n",
       "      <th></th>\n",
       "    </tr>\n",
       "  </thead>\n",
       "  <tbody>\n",
       "    <tr>\n",
       "      <th>2018-08-13 17:00:00</th>\n",
       "      <td>0</td>\n",
       "      <td>17</td>\n",
       "      <td>144.0</td>\n",
       "      <td>175.0</td>\n",
       "      <td>102.0</td>\n",
       "      <td>119.0</td>\n",
       "      <td>92.0</td>\n",
       "      <td>144.0</td>\n",
       "      <td>156.0</td>\n",
       "      <td>137.0</td>\n",
       "      <td>...</td>\n",
       "      <td>82.0</td>\n",
       "      <td>78.0</td>\n",
       "      <td>115.0</td>\n",
       "      <td>153.0</td>\n",
       "      <td>149.0</td>\n",
       "      <td>104.0</td>\n",
       "      <td>120.0</td>\n",
       "      <td>123.0</td>\n",
       "      <td>81.0</td>\n",
       "      <td>135.666667</td>\n",
       "    </tr>\n",
       "    <tr>\n",
       "      <th>2018-08-13 18:00:00</th>\n",
       "      <td>0</td>\n",
       "      <td>18</td>\n",
       "      <td>152.0</td>\n",
       "      <td>144.0</td>\n",
       "      <td>175.0</td>\n",
       "      <td>102.0</td>\n",
       "      <td>119.0</td>\n",
       "      <td>92.0</td>\n",
       "      <td>144.0</td>\n",
       "      <td>156.0</td>\n",
       "      <td>...</td>\n",
       "      <td>98.0</td>\n",
       "      <td>82.0</td>\n",
       "      <td>78.0</td>\n",
       "      <td>115.0</td>\n",
       "      <td>153.0</td>\n",
       "      <td>149.0</td>\n",
       "      <td>104.0</td>\n",
       "      <td>120.0</td>\n",
       "      <td>123.0</td>\n",
       "      <td>138.033333</td>\n",
       "    </tr>\n",
       "    <tr>\n",
       "      <th>2018-08-13 19:00:00</th>\n",
       "      <td>0</td>\n",
       "      <td>19</td>\n",
       "      <td>104.0</td>\n",
       "      <td>152.0</td>\n",
       "      <td>144.0</td>\n",
       "      <td>175.0</td>\n",
       "      <td>102.0</td>\n",
       "      <td>119.0</td>\n",
       "      <td>92.0</td>\n",
       "      <td>144.0</td>\n",
       "      <td>...</td>\n",
       "      <td>135.0</td>\n",
       "      <td>98.0</td>\n",
       "      <td>82.0</td>\n",
       "      <td>78.0</td>\n",
       "      <td>115.0</td>\n",
       "      <td>153.0</td>\n",
       "      <td>149.0</td>\n",
       "      <td>104.0</td>\n",
       "      <td>120.0</td>\n",
       "      <td>137.400000</td>\n",
       "    </tr>\n",
       "    <tr>\n",
       "      <th>2018-08-13 20:00:00</th>\n",
       "      <td>0</td>\n",
       "      <td>20</td>\n",
       "      <td>91.0</td>\n",
       "      <td>104.0</td>\n",
       "      <td>152.0</td>\n",
       "      <td>144.0</td>\n",
       "      <td>175.0</td>\n",
       "      <td>102.0</td>\n",
       "      <td>119.0</td>\n",
       "      <td>92.0</td>\n",
       "      <td>...</td>\n",
       "      <td>118.0</td>\n",
       "      <td>135.0</td>\n",
       "      <td>98.0</td>\n",
       "      <td>82.0</td>\n",
       "      <td>78.0</td>\n",
       "      <td>115.0</td>\n",
       "      <td>153.0</td>\n",
       "      <td>149.0</td>\n",
       "      <td>104.0</td>\n",
       "      <td>136.433333</td>\n",
       "    </tr>\n",
       "    <tr>\n",
       "      <th>2018-08-13 21:00:00</th>\n",
       "      <td>0</td>\n",
       "      <td>21</td>\n",
       "      <td>82.0</td>\n",
       "      <td>91.0</td>\n",
       "      <td>104.0</td>\n",
       "      <td>152.0</td>\n",
       "      <td>144.0</td>\n",
       "      <td>175.0</td>\n",
       "      <td>102.0</td>\n",
       "      <td>119.0</td>\n",
       "      <td>...</td>\n",
       "      <td>185.0</td>\n",
       "      <td>118.0</td>\n",
       "      <td>135.0</td>\n",
       "      <td>98.0</td>\n",
       "      <td>82.0</td>\n",
       "      <td>78.0</td>\n",
       "      <td>115.0</td>\n",
       "      <td>153.0</td>\n",
       "      <td>149.0</td>\n",
       "      <td>135.700000</td>\n",
       "    </tr>\n",
       "    <tr>\n",
       "      <th>...</th>\n",
       "      <td>...</td>\n",
       "      <td>...</td>\n",
       "      <td>...</td>\n",
       "      <td>...</td>\n",
       "      <td>...</td>\n",
       "      <td>...</td>\n",
       "      <td>...</td>\n",
       "      <td>...</td>\n",
       "      <td>...</td>\n",
       "      <td>...</td>\n",
       "      <td>...</td>\n",
       "      <td>...</td>\n",
       "      <td>...</td>\n",
       "      <td>...</td>\n",
       "      <td>...</td>\n",
       "      <td>...</td>\n",
       "      <td>...</td>\n",
       "      <td>...</td>\n",
       "      <td>...</td>\n",
       "      <td>...</td>\n",
       "      <td>...</td>\n",
       "    </tr>\n",
       "    <tr>\n",
       "      <th>2018-08-31 19:00:00</th>\n",
       "      <td>4</td>\n",
       "      <td>19</td>\n",
       "      <td>207.0</td>\n",
       "      <td>217.0</td>\n",
       "      <td>197.0</td>\n",
       "      <td>116.0</td>\n",
       "      <td>133.0</td>\n",
       "      <td>166.0</td>\n",
       "      <td>136.0</td>\n",
       "      <td>167.0</td>\n",
       "      <td>...</td>\n",
       "      <td>198.0</td>\n",
       "      <td>142.0</td>\n",
       "      <td>72.0</td>\n",
       "      <td>177.0</td>\n",
       "      <td>342.0</td>\n",
       "      <td>254.0</td>\n",
       "      <td>156.0</td>\n",
       "      <td>91.0</td>\n",
       "      <td>154.0</td>\n",
       "      <td>171.033333</td>\n",
       "    </tr>\n",
       "    <tr>\n",
       "      <th>2018-08-31 20:00:00</th>\n",
       "      <td>4</td>\n",
       "      <td>20</td>\n",
       "      <td>136.0</td>\n",
       "      <td>207.0</td>\n",
       "      <td>217.0</td>\n",
       "      <td>197.0</td>\n",
       "      <td>116.0</td>\n",
       "      <td>133.0</td>\n",
       "      <td>166.0</td>\n",
       "      <td>136.0</td>\n",
       "      <td>...</td>\n",
       "      <td>158.0</td>\n",
       "      <td>198.0</td>\n",
       "      <td>142.0</td>\n",
       "      <td>72.0</td>\n",
       "      <td>177.0</td>\n",
       "      <td>342.0</td>\n",
       "      <td>254.0</td>\n",
       "      <td>156.0</td>\n",
       "      <td>91.0</td>\n",
       "      <td>170.433333</td>\n",
       "    </tr>\n",
       "    <tr>\n",
       "      <th>2018-08-31 21:00:00</th>\n",
       "      <td>4</td>\n",
       "      <td>21</td>\n",
       "      <td>154.0</td>\n",
       "      <td>136.0</td>\n",
       "      <td>207.0</td>\n",
       "      <td>217.0</td>\n",
       "      <td>197.0</td>\n",
       "      <td>116.0</td>\n",
       "      <td>133.0</td>\n",
       "      <td>166.0</td>\n",
       "      <td>...</td>\n",
       "      <td>246.0</td>\n",
       "      <td>158.0</td>\n",
       "      <td>198.0</td>\n",
       "      <td>142.0</td>\n",
       "      <td>72.0</td>\n",
       "      <td>177.0</td>\n",
       "      <td>342.0</td>\n",
       "      <td>254.0</td>\n",
       "      <td>156.0</td>\n",
       "      <td>172.533333</td>\n",
       "    </tr>\n",
       "    <tr>\n",
       "      <th>2018-08-31 22:00:00</th>\n",
       "      <td>4</td>\n",
       "      <td>22</td>\n",
       "      <td>159.0</td>\n",
       "      <td>154.0</td>\n",
       "      <td>136.0</td>\n",
       "      <td>207.0</td>\n",
       "      <td>217.0</td>\n",
       "      <td>197.0</td>\n",
       "      <td>116.0</td>\n",
       "      <td>133.0</td>\n",
       "      <td>...</td>\n",
       "      <td>276.0</td>\n",
       "      <td>246.0</td>\n",
       "      <td>158.0</td>\n",
       "      <td>198.0</td>\n",
       "      <td>142.0</td>\n",
       "      <td>72.0</td>\n",
       "      <td>177.0</td>\n",
       "      <td>342.0</td>\n",
       "      <td>254.0</td>\n",
       "      <td>172.633333</td>\n",
       "    </tr>\n",
       "    <tr>\n",
       "      <th>2018-08-31 23:00:00</th>\n",
       "      <td>4</td>\n",
       "      <td>23</td>\n",
       "      <td>223.0</td>\n",
       "      <td>159.0</td>\n",
       "      <td>154.0</td>\n",
       "      <td>136.0</td>\n",
       "      <td>207.0</td>\n",
       "      <td>217.0</td>\n",
       "      <td>197.0</td>\n",
       "      <td>116.0</td>\n",
       "      <td>...</td>\n",
       "      <td>194.0</td>\n",
       "      <td>276.0</td>\n",
       "      <td>246.0</td>\n",
       "      <td>158.0</td>\n",
       "      <td>198.0</td>\n",
       "      <td>142.0</td>\n",
       "      <td>72.0</td>\n",
       "      <td>177.0</td>\n",
       "      <td>342.0</td>\n",
       "      <td>171.600000</td>\n",
       "    </tr>\n",
       "  </tbody>\n",
       "</table>\n",
       "<p>439 rows × 33 columns</p>\n",
       "</div>"
      ],
      "text/plain": [
       "                     dayofweek  hour  lag_1  lag_2  lag_3  lag_4  lag_5  \\\n",
       "datetime                                                                  \n",
       "2018-08-13 17:00:00          0    17  144.0  175.0  102.0  119.0   92.0   \n",
       "2018-08-13 18:00:00          0    18  152.0  144.0  175.0  102.0  119.0   \n",
       "2018-08-13 19:00:00          0    19  104.0  152.0  144.0  175.0  102.0   \n",
       "2018-08-13 20:00:00          0    20   91.0  104.0  152.0  144.0  175.0   \n",
       "2018-08-13 21:00:00          0    21   82.0   91.0  104.0  152.0  144.0   \n",
       "...                        ...   ...    ...    ...    ...    ...    ...   \n",
       "2018-08-31 19:00:00          4    19  207.0  217.0  197.0  116.0  133.0   \n",
       "2018-08-31 20:00:00          4    20  136.0  207.0  217.0  197.0  116.0   \n",
       "2018-08-31 21:00:00          4    21  154.0  136.0  207.0  217.0  197.0   \n",
       "2018-08-31 22:00:00          4    22  159.0  154.0  136.0  207.0  217.0   \n",
       "2018-08-31 23:00:00          4    23  223.0  159.0  154.0  136.0  207.0   \n",
       "\n",
       "                     lag_6  lag_7  lag_8  ...  lag_22  lag_23  lag_24  lag_25  \\\n",
       "datetime                                  ...                                   \n",
       "2018-08-13 17:00:00  144.0  156.0  137.0  ...    82.0    78.0   115.0   153.0   \n",
       "2018-08-13 18:00:00   92.0  144.0  156.0  ...    98.0    82.0    78.0   115.0   \n",
       "2018-08-13 19:00:00  119.0   92.0  144.0  ...   135.0    98.0    82.0    78.0   \n",
       "2018-08-13 20:00:00  102.0  119.0   92.0  ...   118.0   135.0    98.0    82.0   \n",
       "2018-08-13 21:00:00  175.0  102.0  119.0  ...   185.0   118.0   135.0    98.0   \n",
       "...                    ...    ...    ...  ...     ...     ...     ...     ...   \n",
       "2018-08-31 19:00:00  166.0  136.0  167.0  ...   198.0   142.0    72.0   177.0   \n",
       "2018-08-31 20:00:00  133.0  166.0  136.0  ...   158.0   198.0   142.0    72.0   \n",
       "2018-08-31 21:00:00  116.0  133.0  166.0  ...   246.0   158.0   198.0   142.0   \n",
       "2018-08-31 22:00:00  197.0  116.0  133.0  ...   276.0   246.0   158.0   198.0   \n",
       "2018-08-31 23:00:00  217.0  197.0  116.0  ...   194.0   276.0   246.0   158.0   \n",
       "\n",
       "                     lag_26  lag_27  lag_28  lag_29  lag_30  rolling_mean  \n",
       "datetime                                                                   \n",
       "2018-08-13 17:00:00   149.0   104.0   120.0   123.0    81.0    135.666667  \n",
       "2018-08-13 18:00:00   153.0   149.0   104.0   120.0   123.0    138.033333  \n",
       "2018-08-13 19:00:00   115.0   153.0   149.0   104.0   120.0    137.400000  \n",
       "2018-08-13 20:00:00    78.0   115.0   153.0   149.0   104.0    136.433333  \n",
       "2018-08-13 21:00:00    82.0    78.0   115.0   153.0   149.0    135.700000  \n",
       "...                     ...     ...     ...     ...     ...           ...  \n",
       "2018-08-31 19:00:00   342.0   254.0   156.0    91.0   154.0    171.033333  \n",
       "2018-08-31 20:00:00   177.0   342.0   254.0   156.0    91.0    170.433333  \n",
       "2018-08-31 21:00:00    72.0   177.0   342.0   254.0   156.0    172.533333  \n",
       "2018-08-31 22:00:00   142.0    72.0   177.0   342.0   254.0    172.633333  \n",
       "2018-08-31 23:00:00   198.0   142.0    72.0   177.0   342.0    171.600000  \n",
       "\n",
       "[439 rows x 33 columns]"
      ]
     },
     "execution_count": 15,
     "metadata": {},
     "output_type": "execute_result"
    }
   ],
   "source": [
    "x_taxi_test"
   ]
  },
  {
   "cell_type": "markdown",
   "metadata": {},
   "source": [
    "Обучим модель"
   ]
  },
  {
   "cell_type": "code",
   "execution_count": 16,
   "metadata": {},
   "outputs": [],
   "source": [
    "from sklearn.model_selection import TimeSeriesSplit\n",
    "splits = TimeSeriesSplit(n_splits=8)"
   ]
  },
  {
   "cell_type": "code",
   "execution_count": null,
   "metadata": {},
   "outputs": [],
   "source": [
    "l = lgb.LGBMRegressor()\n",
    "\n",
    "params = {\n",
    "    'learning_rate' : [0.1, 0.25, 0.5],\n",
    "    'n_estimators' : range(200, 1201, 200),\n",
    "    'objective' : ['root_mean_squared_error']\n",
    "}\n",
    "\n",
    "\n",
    "     \n",
    "\n",
    "gs = GridSearchCV(l, param_grid=params, scoring='neg_root_mean_squared_error',n_jobs=-1, cv=splits, verbose=1)\n",
    "\n",
    "\n",
    "     \n",
    "\n",
    "gs.fit(x_taxi_train, y_taxi_train)\n",
    "gs.best_score_"
   ]
  },
  {
   "cell_type": "code",
   "execution_count": 18,
   "metadata": {},
   "outputs": [
    {
     "data": {
      "text/plain": [
       "LGBMRegressor(n_estimators=200, objective='root_mean_squared_error')"
      ]
     },
     "execution_count": 18,
     "metadata": {},
     "output_type": "execute_result"
    }
   ],
   "source": [
    "regr_best = gs.best_estimator_\n",
    "regr_best"
   ]
  },
  {
   "cell_type": "code",
   "execution_count": 19,
   "metadata": {},
   "outputs": [
    {
     "name": "stdout",
     "output_type": "stream",
     "text": [
      "Train_RMSE: 8\n",
      "Test_RMSE: 42\n"
     ]
    }
   ],
   "source": [
    "train_res= mean_squared_error(y_taxi_train, regr_best.predict(x_taxi_train), squared=False)\n",
    "test_res= mean_squared_error(y_taxi_test, regr_best.predict(x_taxi_test), squared=False)\n",
    "print('Train_RMSE:', round(train_res))\n",
    "print('Test_RMSE:', round(test_res)) "
   ]
  },
  {
   "cell_type": "markdown",
   "metadata": {},
   "source": [
    "В ходе выполнения работы  было проведено ресемплирование данных, созданы признаки и обучена модель . Добились результата RMSE 42 на тестовой выборке LGBMRegressor"
   ]
  },
  {
   "attachments": {
    "image.png": {
     "image/png": "[encoded data removed]"
    }
   },
   "cell_type": "markdown",
   "metadata": {},
   "source": [
    "![image.png](attachment:image.png)"
   ]
  },
  {
   "cell_type": "markdown",
   "metadata": {},
   "source": []
  },
  {
   "cell_type": "markdown",
   "metadata": {},
   "source": [
    "## Чек-лист проверки"
   ]
  },
  {
   "cell_type": "markdown",
   "metadata": {},
   "source": [
    "- [x]  Jupyter Notebook открыт\n",
    "- [ ]  Весь код выполняется без ошибок\n",
    "- [ ]  Ячейки с кодом расположены в порядке исполнения\n",
    "- [ ]  Данные загружены и подготовлены\n",
    "- [ ]  Данные проанализированы\n",
    "- [ ]  Модель обучена, гиперпараметры подобраны\n",
    "- [ ]  Качество моделей проверено, выводы сделаны\n",
    "- [ ]  Значение *RMSE* на тестовой выборке не больше 48"
   ]
  }
 ],
 "metadata": {
  "ExecuteTimeLog": [
   {
    "duration": 47,
    "start_time": "2022-12-13T08:42:49.624Z"
   },
   {
    "duration": 1631,
    "start_time": "2022-12-13T08:42:51.509Z"
   },
   {
    "duration": 168,
    "start_time": "2022-12-13T08:42:53.142Z"
   },
   {
    "duration": 12,
    "start_time": "2022-12-13T08:43:10.945Z"
   },
   {
    "duration": 3,
    "start_time": "2022-12-13T08:52:41.801Z"
   },
   {
    "duration": 47,
    "start_time": "2022-12-13T08:52:42.281Z"
   },
   {
    "duration": 10,
    "start_time": "2022-12-13T08:52:43.577Z"
   },
   {
    "duration": 7,
    "start_time": "2022-12-13T08:52:55.387Z"
   },
   {
    "duration": 72,
    "start_time": "2022-12-13T08:53:06.499Z"
   },
   {
    "duration": 4,
    "start_time": "2022-12-13T08:53:44.145Z"
   },
   {
    "duration": 3,
    "start_time": "2022-12-13T08:54:04.755Z"
   },
   {
    "duration": 12,
    "start_time": "2022-12-13T08:55:33.074Z"
   },
   {
    "duration": 24,
    "start_time": "2022-12-13T09:03:02.243Z"
   },
   {
    "duration": 3,
    "start_time": "2022-12-13T09:03:52.754Z"
   },
   {
    "duration": 47,
    "start_time": "2022-12-13T09:03:53.177Z"
   },
   {
    "duration": 6,
    "start_time": "2022-12-13T09:03:53.503Z"
   },
   {
    "duration": 3,
    "start_time": "2022-12-13T09:03:53.874Z"
   },
   {
    "duration": 4,
    "start_time": "2022-12-13T09:03:54.082Z"
   },
   {
    "duration": 10,
    "start_time": "2022-12-13T09:03:54.284Z"
   },
   {
    "duration": 724,
    "start_time": "2022-12-13T09:03:54.659Z"
   },
   {
    "duration": 297,
    "start_time": "2022-12-13T09:21:45.355Z"
   },
   {
    "duration": 404,
    "start_time": "2022-12-13T09:21:53.289Z"
   },
   {
    "duration": 463,
    "start_time": "2022-12-13T09:27:03.577Z"
   },
   {
    "duration": 16,
    "start_time": "2022-12-13T09:35:20.950Z"
   },
   {
    "duration": 8,
    "start_time": "2022-12-13T09:35:48.210Z"
   },
   {
    "duration": 8,
    "start_time": "2022-12-13T09:36:17.640Z"
   },
   {
    "duration": 14,
    "start_time": "2022-12-13T09:37:37.082Z"
   },
   {
    "duration": 8,
    "start_time": "2022-12-13T09:37:37.503Z"
   },
   {
    "duration": 8,
    "start_time": "2022-12-13T09:37:45.767Z"
   },
   {
    "duration": 9,
    "start_time": "2022-12-13T09:38:22.458Z"
   },
   {
    "duration": 1448,
    "start_time": "2022-12-13T09:39:14.798Z"
   },
   {
    "duration": 52,
    "start_time": "2022-12-13T09:39:16.248Z"
   },
   {
    "duration": 12,
    "start_time": "2022-12-13T09:39:16.302Z"
   },
   {
    "duration": 3,
    "start_time": "2022-12-13T09:39:16.317Z"
   },
   {
    "duration": 8,
    "start_time": "2022-12-13T09:39:16.322Z"
   },
   {
    "duration": 20,
    "start_time": "2022-12-13T09:39:16.331Z"
   },
   {
    "duration": 704,
    "start_time": "2022-12-13T09:39:16.353Z"
   },
   {
    "duration": 496,
    "start_time": "2022-12-13T09:39:17.059Z"
   },
   {
    "duration": 19,
    "start_time": "2022-12-13T09:39:17.558Z"
   },
   {
    "duration": 9,
    "start_time": "2022-12-13T09:39:17.580Z"
   },
   {
    "duration": 9,
    "start_time": "2022-12-13T09:39:17.591Z"
   },
   {
    "duration": 1425,
    "start_time": "2022-12-13T09:46:23.760Z"
   },
   {
    "duration": 48,
    "start_time": "2022-12-13T09:46:25.187Z"
   },
   {
    "duration": 13,
    "start_time": "2022-12-13T09:46:25.237Z"
   },
   {
    "duration": 3,
    "start_time": "2022-12-13T09:46:25.253Z"
   },
   {
    "duration": 6,
    "start_time": "2022-12-13T09:46:25.258Z"
   },
   {
    "duration": 13,
    "start_time": "2022-12-13T09:46:25.265Z"
   },
   {
    "duration": 781,
    "start_time": "2022-12-13T09:46:25.280Z"
   },
   {
    "duration": 505,
    "start_time": "2022-12-13T09:46:26.063Z"
   },
   {
    "duration": 16,
    "start_time": "2022-12-13T09:46:26.570Z"
   },
   {
    "duration": 8,
    "start_time": "2022-12-13T09:46:26.589Z"
   },
   {
    "duration": 9,
    "start_time": "2022-12-13T09:46:26.599Z"
   },
   {
    "duration": 152,
    "start_time": "2022-12-13T09:46:26.610Z"
   },
   {
    "duration": 0,
    "start_time": "2022-12-13T09:46:26.764Z"
   },
   {
    "duration": 0,
    "start_time": "2022-12-13T09:46:26.766Z"
   },
   {
    "duration": 1477,
    "start_time": "2022-12-13T09:47:43.424Z"
   },
   {
    "duration": 49,
    "start_time": "2022-12-13T09:47:44.902Z"
   },
   {
    "duration": 11,
    "start_time": "2022-12-13T09:47:44.953Z"
   },
   {
    "duration": 2,
    "start_time": "2022-12-13T09:47:44.966Z"
   },
   {
    "duration": 7,
    "start_time": "2022-12-13T09:47:44.970Z"
   },
   {
    "duration": 15,
    "start_time": "2022-12-13T09:47:44.978Z"
   },
   {
    "duration": 745,
    "start_time": "2022-12-13T09:47:44.995Z"
   },
   {
    "duration": 529,
    "start_time": "2022-12-13T09:47:45.742Z"
   },
   {
    "duration": 18,
    "start_time": "2022-12-13T09:47:46.273Z"
   },
   {
    "duration": 8,
    "start_time": "2022-12-13T09:47:46.293Z"
   },
   {
    "duration": 8,
    "start_time": "2022-12-13T09:47:46.303Z"
   },
   {
    "duration": 133,
    "start_time": "2022-12-13T09:47:46.337Z"
   },
   {
    "duration": 0,
    "start_time": "2022-12-13T09:47:46.472Z"
   },
   {
    "duration": 0,
    "start_time": "2022-12-13T09:47:46.474Z"
   },
   {
    "duration": 4,
    "start_time": "2022-12-13T09:48:27.801Z"
   },
   {
    "duration": 15,
    "start_time": "2022-12-13T09:48:28.450Z"
   },
   {
    "duration": 16,
    "start_time": "2022-12-13T09:49:39.337Z"
   },
   {
    "duration": 13,
    "start_time": "2022-12-13T09:52:23.839Z"
   },
   {
    "duration": 9,
    "start_time": "2022-12-13T09:52:42.979Z"
   },
   {
    "duration": 15,
    "start_time": "2022-12-13T09:52:53.497Z"
   },
   {
    "duration": 4,
    "start_time": "2022-12-13T09:52:53.954Z"
   },
   {
    "duration": 17,
    "start_time": "2022-12-13T09:53:53.464Z"
   },
   {
    "duration": 8,
    "start_time": "2022-12-13T09:55:05.157Z"
   },
   {
    "duration": 5,
    "start_time": "2022-12-13T09:56:03.640Z"
   },
   {
    "duration": 9,
    "start_time": "2022-12-13T09:56:05.322Z"
   },
   {
    "duration": 1539,
    "start_time": "2022-12-13T09:56:14.917Z"
   },
   {
    "duration": 48,
    "start_time": "2022-12-13T09:56:16.458Z"
   },
   {
    "duration": 12,
    "start_time": "2022-12-13T09:56:16.508Z"
   },
   {
    "duration": 3,
    "start_time": "2022-12-13T09:56:16.522Z"
   },
   {
    "duration": 8,
    "start_time": "2022-12-13T09:56:16.527Z"
   },
   {
    "duration": 16,
    "start_time": "2022-12-13T09:56:16.537Z"
   },
   {
    "duration": 717,
    "start_time": "2022-12-13T09:56:16.555Z"
   },
   {
    "duration": 499,
    "start_time": "2022-12-13T09:56:17.274Z"
   },
   {
    "duration": 18,
    "start_time": "2022-12-13T09:56:17.774Z"
   },
   {
    "duration": 8,
    "start_time": "2022-12-13T09:56:17.794Z"
   },
   {
    "duration": 10,
    "start_time": "2022-12-13T09:56:17.803Z"
   },
   {
    "duration": 4,
    "start_time": "2022-12-13T09:56:17.838Z"
   },
   {
    "duration": 145,
    "start_time": "2022-12-13T09:56:17.844Z"
   },
   {
    "duration": 0,
    "start_time": "2022-12-13T09:56:17.991Z"
   },
   {
    "duration": 0,
    "start_time": "2022-12-13T09:56:17.992Z"
   },
   {
    "duration": 15,
    "start_time": "2022-12-13T09:57:49.340Z"
   },
   {
    "duration": 17,
    "start_time": "2022-12-13T10:00:19.343Z"
   },
   {
    "duration": 16,
    "start_time": "2022-12-13T10:00:20.701Z"
   },
   {
    "duration": 1660,
    "start_time": "2022-12-13T10:00:25.289Z"
   },
   {
    "duration": 52,
    "start_time": "2022-12-13T10:00:26.951Z"
   },
   {
    "duration": 14,
    "start_time": "2022-12-13T10:00:27.005Z"
   },
   {
    "duration": 8,
    "start_time": "2022-12-13T10:00:27.022Z"
   },
   {
    "duration": 9,
    "start_time": "2022-12-13T10:00:27.032Z"
   },
   {
    "duration": 21,
    "start_time": "2022-12-13T10:00:27.043Z"
   },
   {
    "duration": 808,
    "start_time": "2022-12-13T10:00:27.066Z"
   },
   {
    "duration": 563,
    "start_time": "2022-12-13T10:00:27.877Z"
   },
   {
    "duration": 18,
    "start_time": "2022-12-13T10:00:28.442Z"
   },
   {
    "duration": 7,
    "start_time": "2022-12-13T10:00:28.463Z"
   },
   {
    "duration": 8,
    "start_time": "2022-12-13T10:00:28.472Z"
   },
   {
    "duration": 6,
    "start_time": "2022-12-13T10:00:28.482Z"
   },
   {
    "duration": 52,
    "start_time": "2022-12-13T10:00:28.489Z"
   },
   {
    "duration": 138,
    "start_time": "2022-12-13T10:00:28.543Z"
   },
   {
    "duration": 0,
    "start_time": "2022-12-13T10:00:28.683Z"
   },
   {
    "duration": 0,
    "start_time": "2022-12-13T10:00:28.685Z"
   },
   {
    "duration": 5,
    "start_time": "2022-12-13T10:03:06.539Z"
   },
   {
    "duration": 17,
    "start_time": "2022-12-13T10:03:09.127Z"
   },
   {
    "duration": 1463,
    "start_time": "2022-12-13T10:03:13.227Z"
   },
   {
    "duration": 49,
    "start_time": "2022-12-13T10:03:14.692Z"
   },
   {
    "duration": 12,
    "start_time": "2022-12-13T10:03:14.743Z"
   },
   {
    "duration": 5,
    "start_time": "2022-12-13T10:03:14.758Z"
   },
   {
    "duration": 11,
    "start_time": "2022-12-13T10:03:14.764Z"
   },
   {
    "duration": 16,
    "start_time": "2022-12-13T10:03:14.776Z"
   },
   {
    "duration": 767,
    "start_time": "2022-12-13T10:03:14.794Z"
   },
   {
    "duration": 514,
    "start_time": "2022-12-13T10:03:15.562Z"
   },
   {
    "duration": 16,
    "start_time": "2022-12-13T10:03:16.078Z"
   },
   {
    "duration": 8,
    "start_time": "2022-12-13T10:03:16.096Z"
   },
   {
    "duration": 15,
    "start_time": "2022-12-13T10:03:16.106Z"
   },
   {
    "duration": 5,
    "start_time": "2022-12-13T10:03:16.138Z"
   },
   {
    "duration": 5,
    "start_time": "2022-12-13T10:03:16.145Z"
   },
   {
    "duration": 134,
    "start_time": "2022-12-13T10:03:16.152Z"
   },
   {
    "duration": 0,
    "start_time": "2022-12-13T10:03:16.288Z"
   },
   {
    "duration": 0,
    "start_time": "2022-12-13T10:03:16.289Z"
   },
   {
    "duration": 14,
    "start_time": "2022-12-13T10:05:49.194Z"
   },
   {
    "duration": 12,
    "start_time": "2022-12-13T10:08:41.138Z"
   },
   {
    "duration": 1520,
    "start_time": "2022-12-13T10:08:58.450Z"
   },
   {
    "duration": 48,
    "start_time": "2022-12-13T10:08:59.972Z"
   },
   {
    "duration": 12,
    "start_time": "2022-12-13T10:09:00.021Z"
   },
   {
    "duration": 3,
    "start_time": "2022-12-13T10:09:00.036Z"
   },
   {
    "duration": 8,
    "start_time": "2022-12-13T10:09:00.041Z"
   },
   {
    "duration": 16,
    "start_time": "2022-12-13T10:09:00.051Z"
   },
   {
    "duration": 732,
    "start_time": "2022-12-13T10:09:00.068Z"
   },
   {
    "duration": 535,
    "start_time": "2022-12-13T10:09:00.802Z"
   },
   {
    "duration": 140,
    "start_time": "2022-12-13T10:09:01.339Z"
   },
   {
    "duration": 0,
    "start_time": "2022-12-13T10:09:01.481Z"
   },
   {
    "duration": 0,
    "start_time": "2022-12-13T10:09:01.482Z"
   },
   {
    "duration": 0,
    "start_time": "2022-12-13T10:09:01.484Z"
   },
   {
    "duration": 11,
    "start_time": "2022-12-13T10:10:07.006Z"
   },
   {
    "duration": 124,
    "start_time": "2022-12-13T10:15:27.975Z"
   },
   {
    "duration": 6,
    "start_time": "2022-12-13T10:15:32.020Z"
   },
   {
    "duration": 8,
    "start_time": "2022-12-13T10:15:32.529Z"
   },
   {
    "duration": 4,
    "start_time": "2022-12-13T10:15:33.323Z"
   },
   {
    "duration": 1476,
    "start_time": "2022-12-13T10:15:43.527Z"
   },
   {
    "duration": 55,
    "start_time": "2022-12-13T10:15:45.005Z"
   },
   {
    "duration": 12,
    "start_time": "2022-12-13T10:15:45.062Z"
   },
   {
    "duration": 3,
    "start_time": "2022-12-13T10:15:45.077Z"
   },
   {
    "duration": 13,
    "start_time": "2022-12-13T10:15:45.082Z"
   },
   {
    "duration": 26,
    "start_time": "2022-12-13T10:15:45.097Z"
   },
   {
    "duration": 779,
    "start_time": "2022-12-13T10:15:45.125Z"
   },
   {
    "duration": 513,
    "start_time": "2022-12-13T10:15:45.905Z"
   },
   {
    "duration": 129,
    "start_time": "2022-12-13T10:15:46.419Z"
   },
   {
    "duration": 0,
    "start_time": "2022-12-13T10:15:46.550Z"
   },
   {
    "duration": 0,
    "start_time": "2022-12-13T10:15:46.552Z"
   },
   {
    "duration": 0,
    "start_time": "2022-12-13T10:15:46.553Z"
   },
   {
    "duration": 12,
    "start_time": "2022-12-13T10:19:20.125Z"
   },
   {
    "duration": 12,
    "start_time": "2022-12-13T10:20:27.485Z"
   },
   {
    "duration": 5,
    "start_time": "2022-12-13T10:20:31.881Z"
   },
   {
    "duration": 10,
    "start_time": "2022-12-13T10:21:02.914Z"
   },
   {
    "duration": 6,
    "start_time": "2022-12-13T10:21:04.423Z"
   },
   {
    "duration": 8,
    "start_time": "2022-12-13T10:21:10.876Z"
   },
   {
    "duration": 4,
    "start_time": "2022-12-13T10:21:11.616Z"
   },
   {
    "duration": 10,
    "start_time": "2022-12-13T10:22:36.098Z"
   },
   {
    "duration": 10,
    "start_time": "2022-12-13T10:22:44.789Z"
   },
   {
    "duration": 18,
    "start_time": "2022-12-13T10:22:49.868Z"
   },
   {
    "duration": 14,
    "start_time": "2022-12-13T10:32:04.499Z"
   },
   {
    "duration": 10,
    "start_time": "2022-12-13T10:32:08.110Z"
   },
   {
    "duration": 16,
    "start_time": "2022-12-13T10:34:21.949Z"
   },
   {
    "duration": 1558,
    "start_time": "2022-12-13T10:34:28.712Z"
   },
   {
    "duration": 51,
    "start_time": "2022-12-13T10:34:30.272Z"
   },
   {
    "duration": 11,
    "start_time": "2022-12-13T10:34:30.325Z"
   },
   {
    "duration": 8,
    "start_time": "2022-12-13T10:34:30.339Z"
   },
   {
    "duration": 16,
    "start_time": "2022-12-13T10:34:30.349Z"
   },
   {
    "duration": 21,
    "start_time": "2022-12-13T10:34:30.367Z"
   },
   {
    "duration": 762,
    "start_time": "2022-12-13T10:34:30.390Z"
   },
   {
    "duration": 509,
    "start_time": "2022-12-13T10:34:31.153Z"
   },
   {
    "duration": 17,
    "start_time": "2022-12-13T10:34:31.664Z"
   },
   {
    "duration": 7,
    "start_time": "2022-12-13T10:34:31.684Z"
   },
   {
    "duration": 8,
    "start_time": "2022-12-13T10:34:31.693Z"
   },
   {
    "duration": 4,
    "start_time": "2022-12-13T10:34:31.703Z"
   },
   {
    "duration": 131,
    "start_time": "2022-12-13T10:34:31.737Z"
   },
   {
    "duration": 18,
    "start_time": "2022-12-13T10:35:19.565Z"
   },
   {
    "duration": 6,
    "start_time": "2022-12-13T10:35:20.326Z"
   },
   {
    "duration": 8,
    "start_time": "2022-12-13T10:35:20.495Z"
   },
   {
    "duration": 4,
    "start_time": "2022-12-13T10:35:20.652Z"
   },
   {
    "duration": 15,
    "start_time": "2022-12-13T10:35:21.141Z"
   },
   {
    "duration": 14,
    "start_time": "2022-12-13T10:35:46.282Z"
   },
   {
    "duration": 14,
    "start_time": "2022-12-13T10:36:29.034Z"
   },
   {
    "duration": 25,
    "start_time": "2022-12-13T10:36:43.888Z"
   },
   {
    "duration": 12,
    "start_time": "2022-12-13T10:36:45.256Z"
   },
   {
    "duration": 10,
    "start_time": "2022-12-13T10:36:46.205Z"
   },
   {
    "duration": 8,
    "start_time": "2022-12-13T10:36:46.606Z"
   },
   {
    "duration": 17,
    "start_time": "2022-12-13T10:36:47.110Z"
   },
   {
    "duration": 16,
    "start_time": "2022-12-13T10:37:05.479Z"
   },
   {
    "duration": 9,
    "start_time": "2022-12-13T10:37:07.098Z"
   },
   {
    "duration": 16,
    "start_time": "2022-12-13T10:37:07.351Z"
   },
   {
    "duration": 1506,
    "start_time": "2022-12-13T10:37:10.708Z"
   },
   {
    "duration": 49,
    "start_time": "2022-12-13T10:37:12.216Z"
   },
   {
    "duration": 11,
    "start_time": "2022-12-13T10:37:12.267Z"
   },
   {
    "duration": 3,
    "start_time": "2022-12-13T10:37:12.280Z"
   },
   {
    "duration": 9,
    "start_time": "2022-12-13T10:37:12.284Z"
   },
   {
    "duration": 26,
    "start_time": "2022-12-13T10:37:12.294Z"
   },
   {
    "duration": 744,
    "start_time": "2022-12-13T10:37:12.322Z"
   },
   {
    "duration": 526,
    "start_time": "2022-12-13T10:37:13.068Z"
   },
   {
    "duration": 30,
    "start_time": "2022-12-13T10:37:13.595Z"
   },
   {
    "duration": 13,
    "start_time": "2022-12-13T10:37:13.637Z"
   },
   {
    "duration": 10,
    "start_time": "2022-12-13T10:37:13.652Z"
   },
   {
    "duration": 142,
    "start_time": "2022-12-13T10:37:13.663Z"
   },
   {
    "duration": 506194,
    "start_time": "2022-12-13T10:37:49.644Z"
   },
   {
    "duration": 10,
    "start_time": "2022-12-13T10:49:46.289Z"
   },
   {
    "duration": 2,
    "start_time": "2022-12-13T10:49:54.774Z"
   },
   {
    "duration": 10,
    "start_time": "2022-12-13T10:50:33.500Z"
   },
   {
    "duration": 10,
    "start_time": "2022-12-13T10:50:38.083Z"
   },
   {
    "duration": 2,
    "start_time": "2022-12-13T10:50:43.299Z"
   },
   {
    "duration": 4,
    "start_time": "2022-12-13T10:51:23.154Z"
   },
   {
    "duration": 17,
    "start_time": "2022-12-13T10:53:13.095Z"
   },
   {
    "duration": 4,
    "start_time": "2022-12-13T10:54:00.746Z"
   },
   {
    "duration": 108,
    "start_time": "2022-12-13T10:54:26.837Z"
   },
   {
    "duration": 10,
    "start_time": "2022-12-13T10:54:53.404Z"
   },
   {
    "duration": 1538,
    "start_time": "2022-12-13T11:00:02.991Z"
   },
   {
    "duration": 55,
    "start_time": "2022-12-13T11:00:04.531Z"
   },
   {
    "duration": 13,
    "start_time": "2022-12-13T11:00:04.588Z"
   },
   {
    "duration": 6,
    "start_time": "2022-12-13T11:00:04.603Z"
   },
   {
    "duration": 9,
    "start_time": "2022-12-13T11:00:04.611Z"
   },
   {
    "duration": 16,
    "start_time": "2022-12-13T11:00:04.622Z"
   },
   {
    "duration": 711,
    "start_time": "2022-12-13T11:00:04.640Z"
   },
   {
    "duration": 548,
    "start_time": "2022-12-13T11:00:05.353Z"
   },
   {
    "duration": 48,
    "start_time": "2022-12-13T11:00:05.903Z"
   },
   {
    "duration": 15,
    "start_time": "2022-12-13T11:00:05.954Z"
   },
   {
    "duration": 11,
    "start_time": "2022-12-13T11:00:05.971Z"
   },
   {
    "duration": 1535,
    "start_time": "2022-12-13T11:04:48.506Z"
   },
   {
    "duration": 49,
    "start_time": "2022-12-13T11:04:50.043Z"
   },
   {
    "duration": 11,
    "start_time": "2022-12-13T11:04:50.094Z"
   },
   {
    "duration": 3,
    "start_time": "2022-12-13T11:04:50.107Z"
   },
   {
    "duration": 7,
    "start_time": "2022-12-13T11:04:50.111Z"
   },
   {
    "duration": 19,
    "start_time": "2022-12-13T11:04:50.119Z"
   },
   {
    "duration": 689,
    "start_time": "2022-12-13T11:04:50.140Z"
   },
   {
    "duration": 511,
    "start_time": "2022-12-13T11:04:50.831Z"
   },
   {
    "duration": 30,
    "start_time": "2022-12-13T11:04:51.343Z"
   },
   {
    "duration": 13,
    "start_time": "2022-12-13T11:04:51.376Z"
   },
   {
    "duration": 17,
    "start_time": "2022-12-13T11:04:51.391Z"
   },
   {
    "duration": 415339,
    "start_time": "2022-12-13T11:04:51.410Z"
   },
   {
    "duration": 4,
    "start_time": "2022-12-13T11:11:46.751Z"
   },
   {
    "duration": 184,
    "start_time": "2022-12-13T11:11:46.757Z"
   },
   {
    "duration": 1382,
    "start_time": "2022-12-13T11:19:16.536Z"
   },
   {
    "duration": 51,
    "start_time": "2022-12-13T11:19:17.919Z"
   },
   {
    "duration": 11,
    "start_time": "2022-12-13T11:19:17.972Z"
   },
   {
    "duration": 3,
    "start_time": "2022-12-13T11:19:17.985Z"
   },
   {
    "duration": 9,
    "start_time": "2022-12-13T11:19:17.989Z"
   },
   {
    "duration": 15,
    "start_time": "2022-12-13T11:19:17.999Z"
   },
   {
    "duration": 755,
    "start_time": "2022-12-13T11:19:18.016Z"
   },
   {
    "duration": 612,
    "start_time": "2022-12-13T11:19:18.773Z"
   },
   {
    "duration": 27,
    "start_time": "2022-12-13T11:19:19.387Z"
   },
   {
    "duration": 29,
    "start_time": "2022-12-13T11:19:19.417Z"
   },
   {
    "duration": 9,
    "start_time": "2022-12-13T11:19:19.448Z"
   },
   {
    "duration": 1582,
    "start_time": "2022-12-13T11:48:19.766Z"
   },
   {
    "duration": 55,
    "start_time": "2022-12-13T11:48:21.350Z"
   },
   {
    "duration": 11,
    "start_time": "2022-12-13T11:48:21.407Z"
   },
   {
    "duration": 3,
    "start_time": "2022-12-13T11:48:21.420Z"
   },
   {
    "duration": 6,
    "start_time": "2022-12-13T11:48:21.424Z"
   },
   {
    "duration": 21,
    "start_time": "2022-12-13T11:48:21.431Z"
   },
   {
    "duration": 764,
    "start_time": "2022-12-13T11:48:21.456Z"
   },
   {
    "duration": 556,
    "start_time": "2022-12-13T11:48:22.222Z"
   },
   {
    "duration": 28,
    "start_time": "2022-12-13T11:48:22.780Z"
   },
   {
    "duration": 32,
    "start_time": "2022-12-13T11:48:22.811Z"
   },
   {
    "duration": 15,
    "start_time": "2022-12-13T11:48:22.845Z"
   },
   {
    "duration": 1466,
    "start_time": "2022-12-13T12:10:04.554Z"
   },
   {
    "duration": 56,
    "start_time": "2022-12-13T12:10:06.022Z"
   },
   {
    "duration": 10,
    "start_time": "2022-12-13T12:10:06.080Z"
   },
   {
    "duration": 3,
    "start_time": "2022-12-13T12:10:06.091Z"
   },
   {
    "duration": 8,
    "start_time": "2022-12-13T12:10:06.096Z"
   },
   {
    "duration": 17,
    "start_time": "2022-12-13T12:10:06.105Z"
   },
   {
    "duration": 729,
    "start_time": "2022-12-13T12:10:06.124Z"
   },
   {
    "duration": 506,
    "start_time": "2022-12-13T12:10:06.855Z"
   },
   {
    "duration": 29,
    "start_time": "2022-12-13T12:10:07.364Z"
   },
   {
    "duration": 11,
    "start_time": "2022-12-13T12:10:07.396Z"
   },
   {
    "duration": 43,
    "start_time": "2022-12-13T12:10:07.409Z"
   },
   {
    "duration": 1512,
    "start_time": "2022-12-13T12:31:37.760Z"
   },
   {
    "duration": 50,
    "start_time": "2022-12-13T12:31:39.274Z"
   },
   {
    "duration": 11,
    "start_time": "2022-12-13T12:31:39.325Z"
   },
   {
    "duration": 16,
    "start_time": "2022-12-13T12:31:39.340Z"
   },
   {
    "duration": 10,
    "start_time": "2022-12-13T12:31:39.357Z"
   },
   {
    "duration": 16,
    "start_time": "2022-12-13T12:31:39.369Z"
   },
   {
    "duration": 775,
    "start_time": "2022-12-13T12:31:39.387Z"
   },
   {
    "duration": 519,
    "start_time": "2022-12-13T12:31:40.164Z"
   },
   {
    "duration": 29,
    "start_time": "2022-12-13T12:31:40.684Z"
   },
   {
    "duration": 33,
    "start_time": "2022-12-13T12:31:40.716Z"
   },
   {
    "duration": 12,
    "start_time": "2022-12-13T12:31:40.753Z"
   },
   {
    "duration": 1461,
    "start_time": "2022-12-13T12:43:35.923Z"
   },
   {
    "duration": 50,
    "start_time": "2022-12-13T12:43:37.386Z"
   },
   {
    "duration": 13,
    "start_time": "2022-12-13T12:43:37.441Z"
   },
   {
    "duration": 3,
    "start_time": "2022-12-13T12:43:37.456Z"
   },
   {
    "duration": 6,
    "start_time": "2022-12-13T12:43:37.461Z"
   },
   {
    "duration": 15,
    "start_time": "2022-12-13T12:43:37.468Z"
   },
   {
    "duration": 769,
    "start_time": "2022-12-13T12:43:37.485Z"
   },
   {
    "duration": 530,
    "start_time": "2022-12-13T12:43:38.255Z"
   },
   {
    "duration": 32,
    "start_time": "2022-12-13T12:43:38.787Z"
   },
   {
    "duration": 17,
    "start_time": "2022-12-13T12:43:38.839Z"
   },
   {
    "duration": 15,
    "start_time": "2022-12-13T12:43:38.858Z"
   },
   {
    "duration": 1457,
    "start_time": "2022-12-13T12:44:07.034Z"
   },
   {
    "duration": 51,
    "start_time": "2022-12-13T12:44:08.493Z"
   },
   {
    "duration": 12,
    "start_time": "2022-12-13T12:44:08.546Z"
   },
   {
    "duration": 5,
    "start_time": "2022-12-13T12:44:08.560Z"
   },
   {
    "duration": 6,
    "start_time": "2022-12-13T12:44:08.567Z"
   },
   {
    "duration": 14,
    "start_time": "2022-12-13T12:44:08.575Z"
   },
   {
    "duration": 812,
    "start_time": "2022-12-13T12:44:08.590Z"
   },
   {
    "duration": 536,
    "start_time": "2022-12-13T12:44:09.404Z"
   },
   {
    "duration": 33,
    "start_time": "2022-12-13T12:44:09.944Z"
   },
   {
    "duration": 11,
    "start_time": "2022-12-13T12:44:09.979Z"
   },
   {
    "duration": 9,
    "start_time": "2022-12-13T12:44:09.992Z"
   },
   {
    "duration": 148,
    "start_time": "2022-12-13T12:44:10.003Z"
   },
   {
    "duration": 0,
    "start_time": "2022-12-13T12:44:10.153Z"
   },
   {
    "duration": 0,
    "start_time": "2022-12-13T12:44:10.154Z"
   },
   {
    "duration": 1425,
    "start_time": "2022-12-13T12:44:43.100Z"
   },
   {
    "duration": 54,
    "start_time": "2022-12-13T12:44:44.527Z"
   },
   {
    "duration": 12,
    "start_time": "2022-12-13T12:44:44.582Z"
   },
   {
    "duration": 3,
    "start_time": "2022-12-13T12:44:44.597Z"
   },
   {
    "duration": 6,
    "start_time": "2022-12-13T12:44:44.601Z"
   },
   {
    "duration": 16,
    "start_time": "2022-12-13T12:44:44.608Z"
   },
   {
    "duration": 757,
    "start_time": "2022-12-13T12:44:44.626Z"
   },
   {
    "duration": 544,
    "start_time": "2022-12-13T12:44:45.385Z"
   },
   {
    "duration": 38,
    "start_time": "2022-12-13T12:44:45.931Z"
   },
   {
    "duration": 11,
    "start_time": "2022-12-13T12:44:45.972Z"
   },
   {
    "duration": 45,
    "start_time": "2022-12-13T12:44:45.985Z"
   },
   {
    "duration": 1459,
    "start_time": "2022-12-13T12:53:26.992Z"
   },
   {
    "duration": 50,
    "start_time": "2022-12-13T12:53:28.457Z"
   },
   {
    "duration": 12,
    "start_time": "2022-12-13T12:53:28.509Z"
   },
   {
    "duration": 3,
    "start_time": "2022-12-13T12:53:28.523Z"
   },
   {
    "duration": 7,
    "start_time": "2022-12-13T12:53:28.528Z"
   },
   {
    "duration": 32,
    "start_time": "2022-12-13T12:53:28.537Z"
   },
   {
    "duration": 816,
    "start_time": "2022-12-13T12:53:28.571Z"
   },
   {
    "duration": 576,
    "start_time": "2022-12-13T12:53:29.389Z"
   },
   {
    "duration": 30,
    "start_time": "2022-12-13T12:53:29.967Z"
   },
   {
    "duration": 11,
    "start_time": "2022-12-13T12:53:30.000Z"
   },
   {
    "duration": 11,
    "start_time": "2022-12-13T12:53:30.040Z"
   },
   {
    "duration": 1503,
    "start_time": "2022-12-13T13:07:33.135Z"
   },
   {
    "duration": 47,
    "start_time": "2022-12-13T13:07:34.651Z"
   },
   {
    "duration": 9,
    "start_time": "2022-12-13T13:07:34.700Z"
   },
   {
    "duration": 4,
    "start_time": "2022-12-13T13:07:34.711Z"
   },
   {
    "duration": 9,
    "start_time": "2022-12-13T13:07:34.716Z"
   },
   {
    "duration": 23,
    "start_time": "2022-12-13T13:07:34.727Z"
   },
   {
    "duration": 766,
    "start_time": "2022-12-13T13:07:34.752Z"
   },
   {
    "duration": 561,
    "start_time": "2022-12-13T13:07:35.520Z"
   },
   {
    "duration": 32,
    "start_time": "2022-12-13T13:07:36.083Z"
   },
   {
    "duration": 35,
    "start_time": "2022-12-13T13:07:36.118Z"
   },
   {
    "duration": 10,
    "start_time": "2022-12-13T13:07:36.155Z"
   },
   {
    "duration": 1495,
    "start_time": "2022-12-13T13:11:19.134Z"
   },
   {
    "duration": 58,
    "start_time": "2022-12-13T13:11:20.631Z"
   },
   {
    "duration": 11,
    "start_time": "2022-12-13T13:11:20.690Z"
   },
   {
    "duration": 5,
    "start_time": "2022-12-13T13:11:20.704Z"
   },
   {
    "duration": 6,
    "start_time": "2022-12-13T13:11:20.710Z"
   },
   {
    "duration": 15,
    "start_time": "2022-12-13T13:11:20.718Z"
   },
   {
    "duration": 778,
    "start_time": "2022-12-13T13:11:20.734Z"
   },
   {
    "duration": 563,
    "start_time": "2022-12-13T13:11:21.514Z"
   },
   {
    "duration": 29,
    "start_time": "2022-12-13T13:11:22.078Z"
   },
   {
    "duration": 32,
    "start_time": "2022-12-13T13:11:22.110Z"
   },
   {
    "duration": 15,
    "start_time": "2022-12-13T13:11:22.147Z"
   },
   {
    "duration": 134,
    "start_time": "2022-12-13T13:11:22.163Z"
   },
   {
    "duration": 0,
    "start_time": "2022-12-13T13:11:22.299Z"
   },
   {
    "duration": 0,
    "start_time": "2022-12-13T13:11:22.300Z"
   },
   {
    "duration": 0,
    "start_time": "2022-12-13T13:11:22.302Z"
   },
   {
    "duration": 1442,
    "start_time": "2022-12-13T13:11:55.654Z"
   },
   {
    "duration": 56,
    "start_time": "2022-12-13T13:11:57.098Z"
   },
   {
    "duration": 11,
    "start_time": "2022-12-13T13:11:57.155Z"
   },
   {
    "duration": 5,
    "start_time": "2022-12-13T13:11:57.168Z"
   },
   {
    "duration": 16,
    "start_time": "2022-12-13T13:11:57.174Z"
   },
   {
    "duration": 25,
    "start_time": "2022-12-13T13:11:57.192Z"
   },
   {
    "duration": 755,
    "start_time": "2022-12-13T13:11:57.218Z"
   },
   {
    "duration": 529,
    "start_time": "2022-12-13T13:11:57.975Z"
   },
   {
    "duration": 45,
    "start_time": "2022-12-13T13:11:58.506Z"
   },
   {
    "duration": 15,
    "start_time": "2022-12-13T13:11:58.554Z"
   },
   {
    "duration": 11,
    "start_time": "2022-12-13T13:11:58.571Z"
   },
   {
    "duration": 861,
    "start_time": "2022-12-13T13:11:58.584Z"
   },
   {
    "duration": 0,
    "start_time": "2022-12-13T13:11:59.451Z"
   },
   {
    "duration": 0,
    "start_time": "2022-12-13T13:11:59.452Z"
   },
   {
    "duration": 0,
    "start_time": "2022-12-13T13:11:59.454Z"
   },
   {
    "duration": 606,
    "start_time": "2022-12-13T13:12:34.258Z"
   },
   {
    "duration": 622,
    "start_time": "2022-12-13T13:12:43.884Z"
   },
   {
    "duration": 1520,
    "start_time": "2022-12-13T13:12:59.412Z"
   },
   {
    "duration": 61,
    "start_time": "2022-12-13T13:13:00.934Z"
   },
   {
    "duration": 10,
    "start_time": "2022-12-13T13:13:00.997Z"
   },
   {
    "duration": 7,
    "start_time": "2022-12-13T13:13:01.009Z"
   },
   {
    "duration": 11,
    "start_time": "2022-12-13T13:13:01.018Z"
   },
   {
    "duration": 37,
    "start_time": "2022-12-13T13:13:01.031Z"
   },
   {
    "duration": 790,
    "start_time": "2022-12-13T13:13:01.070Z"
   },
   {
    "duration": 515,
    "start_time": "2022-12-13T13:13:01.862Z"
   },
   {
    "duration": 29,
    "start_time": "2022-12-13T13:13:02.379Z"
   },
   {
    "duration": 29,
    "start_time": "2022-12-13T13:13:02.411Z"
   },
   {
    "duration": 12,
    "start_time": "2022-12-13T13:13:02.442Z"
   },
   {
    "duration": 756,
    "start_time": "2022-12-13T13:13:02.456Z"
   },
   {
    "duration": 0,
    "start_time": "2022-12-13T13:13:03.214Z"
   },
   {
    "duration": 0,
    "start_time": "2022-12-13T13:13:03.216Z"
   },
   {
    "duration": 0,
    "start_time": "2022-12-13T13:13:03.217Z"
   },
   {
    "duration": 9,
    "start_time": "2022-12-13T13:14:14.521Z"
   },
   {
    "duration": 1562,
    "start_time": "2022-12-13T13:14:48.024Z"
   },
   {
    "duration": 52,
    "start_time": "2022-12-13T13:14:49.588Z"
   },
   {
    "duration": 11,
    "start_time": "2022-12-13T13:14:49.650Z"
   },
   {
    "duration": 6,
    "start_time": "2022-12-13T13:14:49.663Z"
   },
   {
    "duration": 8,
    "start_time": "2022-12-13T13:14:49.670Z"
   },
   {
    "duration": 15,
    "start_time": "2022-12-13T13:14:49.680Z"
   },
   {
    "duration": 785,
    "start_time": "2022-12-13T13:14:49.697Z"
   },
   {
    "duration": 539,
    "start_time": "2022-12-13T13:14:50.483Z"
   },
   {
    "duration": 44,
    "start_time": "2022-12-13T13:14:51.024Z"
   },
   {
    "duration": 47,
    "start_time": "2022-12-13T13:14:51.070Z"
   },
   {
    "duration": 11,
    "start_time": "2022-12-13T13:14:51.119Z"
   },
   {
    "duration": 146,
    "start_time": "2022-12-13T13:14:51.131Z"
   },
   {
    "duration": 0,
    "start_time": "2022-12-13T13:14:51.280Z"
   },
   {
    "duration": 0,
    "start_time": "2022-12-13T13:14:51.281Z"
   },
   {
    "duration": 0,
    "start_time": "2022-12-13T13:14:51.282Z"
   },
   {
    "duration": 0,
    "start_time": "2022-12-13T13:14:51.283Z"
   },
   {
    "duration": 12,
    "start_time": "2022-12-13T13:16:41.490Z"
   },
   {
    "duration": 10,
    "start_time": "2022-12-13T13:16:45.303Z"
   },
   {
    "duration": 27,
    "start_time": "2022-12-13T13:16:46.124Z"
   },
   {
    "duration": 609,
    "start_time": "2022-12-13T13:16:46.614Z"
   },
   {
    "duration": 1502,
    "start_time": "2022-12-13T13:17:17.532Z"
   },
   {
    "duration": 57,
    "start_time": "2022-12-13T13:17:19.036Z"
   },
   {
    "duration": 13,
    "start_time": "2022-12-13T13:17:19.095Z"
   },
   {
    "duration": 4,
    "start_time": "2022-12-13T13:17:19.110Z"
   },
   {
    "duration": 7,
    "start_time": "2022-12-13T13:17:19.116Z"
   },
   {
    "duration": 26,
    "start_time": "2022-12-13T13:17:19.125Z"
   },
   {
    "duration": 770,
    "start_time": "2022-12-13T13:17:19.153Z"
   },
   {
    "duration": 527,
    "start_time": "2022-12-13T13:17:19.924Z"
   },
   {
    "duration": 29,
    "start_time": "2022-12-13T13:17:20.453Z"
   },
   {
    "duration": 12,
    "start_time": "2022-12-13T13:17:20.484Z"
   },
   {
    "duration": 10,
    "start_time": "2022-12-13T13:17:20.498Z"
   },
   {
    "duration": 1558,
    "start_time": "2022-12-13T13:19:05.801Z"
   },
   {
    "duration": 56,
    "start_time": "2022-12-13T13:19:07.362Z"
   },
   {
    "duration": 10,
    "start_time": "2022-12-13T13:19:07.423Z"
   },
   {
    "duration": 19,
    "start_time": "2022-12-13T13:19:07.436Z"
   },
   {
    "duration": 8,
    "start_time": "2022-12-13T13:19:07.457Z"
   },
   {
    "duration": 16,
    "start_time": "2022-12-13T13:19:07.467Z"
   },
   {
    "duration": 774,
    "start_time": "2022-12-13T13:19:07.484Z"
   },
   {
    "duration": 516,
    "start_time": "2022-12-13T13:19:08.259Z"
   },
   {
    "duration": 29,
    "start_time": "2022-12-13T13:19:08.777Z"
   },
   {
    "duration": 34,
    "start_time": "2022-12-13T13:19:08.808Z"
   },
   {
    "duration": 14,
    "start_time": "2022-12-13T13:19:08.844Z"
   },
   {
    "duration": 1467,
    "start_time": "2022-12-13T13:19:34.232Z"
   },
   {
    "duration": 54,
    "start_time": "2022-12-13T13:19:35.701Z"
   },
   {
    "duration": 14,
    "start_time": "2022-12-13T13:19:35.757Z"
   },
   {
    "duration": 7,
    "start_time": "2022-12-13T13:19:35.774Z"
   },
   {
    "duration": 14,
    "start_time": "2022-12-13T13:19:35.786Z"
   },
   {
    "duration": 23,
    "start_time": "2022-12-13T13:19:35.802Z"
   },
   {
    "duration": 744,
    "start_time": "2022-12-13T13:19:35.827Z"
   },
   {
    "duration": 515,
    "start_time": "2022-12-13T13:19:36.573Z"
   },
   {
    "duration": 29,
    "start_time": "2022-12-13T13:19:37.090Z"
   },
   {
    "duration": 28,
    "start_time": "2022-12-13T13:19:37.121Z"
   },
   {
    "duration": 11,
    "start_time": "2022-12-13T13:19:37.151Z"
   },
   {
    "duration": 1423,
    "start_time": "2022-12-13T13:25:39.435Z"
   },
   {
    "duration": 51,
    "start_time": "2022-12-13T13:25:40.860Z"
   },
   {
    "duration": 11,
    "start_time": "2022-12-13T13:25:40.913Z"
   },
   {
    "duration": 4,
    "start_time": "2022-12-13T13:25:40.927Z"
   },
   {
    "duration": 18,
    "start_time": "2022-12-13T13:25:40.932Z"
   },
   {
    "duration": 18,
    "start_time": "2022-12-13T13:25:40.951Z"
   },
   {
    "duration": 761,
    "start_time": "2022-12-13T13:25:40.971Z"
   },
   {
    "duration": 537,
    "start_time": "2022-12-13T13:25:41.737Z"
   },
   {
    "duration": 30,
    "start_time": "2022-12-13T13:25:42.275Z"
   },
   {
    "duration": 32,
    "start_time": "2022-12-13T13:25:42.308Z"
   },
   {
    "duration": 13,
    "start_time": "2022-12-13T13:25:42.342Z"
   },
   {
    "duration": 125,
    "start_time": "2022-12-13T13:25:42.357Z"
   },
   {
    "duration": 0,
    "start_time": "2022-12-13T13:25:42.484Z"
   },
   {
    "duration": 0,
    "start_time": "2022-12-13T13:25:42.485Z"
   },
   {
    "duration": 0,
    "start_time": "2022-12-13T13:25:42.486Z"
   },
   {
    "duration": 1640,
    "start_time": "2022-12-13T13:26:19.152Z"
   },
   {
    "duration": 56,
    "start_time": "2022-12-13T13:26:20.794Z"
   },
   {
    "duration": 9,
    "start_time": "2022-12-13T13:26:20.852Z"
   },
   {
    "duration": 4,
    "start_time": "2022-12-13T13:26:20.863Z"
   },
   {
    "duration": 12,
    "start_time": "2022-12-13T13:26:20.868Z"
   },
   {
    "duration": 27,
    "start_time": "2022-12-13T13:26:20.882Z"
   },
   {
    "duration": 753,
    "start_time": "2022-12-13T13:26:20.910Z"
   },
   {
    "duration": 536,
    "start_time": "2022-12-13T13:26:21.664Z"
   },
   {
    "duration": 42,
    "start_time": "2022-12-13T13:26:22.202Z"
   },
   {
    "duration": 15,
    "start_time": "2022-12-13T13:26:22.247Z"
   },
   {
    "duration": 10,
    "start_time": "2022-12-13T13:26:22.263Z"
   },
   {
    "duration": 225,
    "start_time": "2022-12-13T13:26:22.275Z"
   },
   {
    "duration": 0,
    "start_time": "2022-12-13T13:26:22.501Z"
   },
   {
    "duration": 0,
    "start_time": "2022-12-13T13:26:22.503Z"
   },
   {
    "duration": 0,
    "start_time": "2022-12-13T13:26:22.504Z"
   },
   {
    "duration": 1396,
    "start_time": "2022-12-13T13:26:49.612Z"
   },
   {
    "duration": 52,
    "start_time": "2022-12-13T13:26:51.010Z"
   },
   {
    "duration": 11,
    "start_time": "2022-12-13T13:26:51.063Z"
   },
   {
    "duration": 8,
    "start_time": "2022-12-13T13:26:51.076Z"
   },
   {
    "duration": 13,
    "start_time": "2022-12-13T13:26:51.086Z"
   },
   {
    "duration": 20,
    "start_time": "2022-12-13T13:26:51.100Z"
   },
   {
    "duration": 755,
    "start_time": "2022-12-13T13:26:51.122Z"
   },
   {
    "duration": 525,
    "start_time": "2022-12-13T13:26:51.880Z"
   },
   {
    "duration": 43,
    "start_time": "2022-12-13T13:26:52.406Z"
   },
   {
    "duration": 12,
    "start_time": "2022-12-13T13:26:52.454Z"
   },
   {
    "duration": 17,
    "start_time": "2022-12-13T13:26:52.468Z"
   },
   {
    "duration": 1444,
    "start_time": "2022-12-13T13:27:41.433Z"
   },
   {
    "duration": 50,
    "start_time": "2022-12-13T13:27:42.880Z"
   },
   {
    "duration": 13,
    "start_time": "2022-12-13T13:27:42.931Z"
   },
   {
    "duration": 10,
    "start_time": "2022-12-13T13:27:42.947Z"
   },
   {
    "duration": 7,
    "start_time": "2022-12-13T13:27:42.959Z"
   },
   {
    "duration": 14,
    "start_time": "2022-12-13T13:27:42.967Z"
   },
   {
    "duration": 781,
    "start_time": "2022-12-13T13:27:42.982Z"
   },
   {
    "duration": 541,
    "start_time": "2022-12-13T13:27:43.765Z"
   },
   {
    "duration": 46,
    "start_time": "2022-12-13T13:27:44.308Z"
   },
   {
    "duration": 11,
    "start_time": "2022-12-13T13:27:44.356Z"
   },
   {
    "duration": 15,
    "start_time": "2022-12-13T13:27:44.369Z"
   },
   {
    "duration": 122,
    "start_time": "2022-12-13T13:27:44.386Z"
   },
   {
    "duration": 0,
    "start_time": "2022-12-13T13:27:44.510Z"
   },
   {
    "duration": 0,
    "start_time": "2022-12-13T13:27:44.511Z"
   },
   {
    "duration": 1420,
    "start_time": "2022-12-13T13:28:00.904Z"
   },
   {
    "duration": 64,
    "start_time": "2022-12-13T13:28:02.326Z"
   },
   {
    "duration": 11,
    "start_time": "2022-12-13T13:28:02.392Z"
   },
   {
    "duration": 2,
    "start_time": "2022-12-13T13:28:02.405Z"
   },
   {
    "duration": 7,
    "start_time": "2022-12-13T13:28:02.410Z"
   },
   {
    "duration": 32,
    "start_time": "2022-12-13T13:28:02.419Z"
   },
   {
    "duration": 717,
    "start_time": "2022-12-13T13:28:02.454Z"
   },
   {
    "duration": 516,
    "start_time": "2022-12-13T13:28:03.173Z"
   },
   {
    "duration": 27,
    "start_time": "2022-12-13T13:28:03.690Z"
   },
   {
    "duration": 30,
    "start_time": "2022-12-13T13:28:03.719Z"
   },
   {
    "duration": 11,
    "start_time": "2022-12-13T13:28:03.752Z"
   },
   {
    "duration": 1378,
    "start_time": "2022-12-13T13:28:14.847Z"
   },
   {
    "duration": 61,
    "start_time": "2022-12-13T13:28:16.226Z"
   },
   {
    "duration": 11,
    "start_time": "2022-12-13T13:28:16.289Z"
   },
   {
    "duration": 3,
    "start_time": "2022-12-13T13:28:16.301Z"
   },
   {
    "duration": 9,
    "start_time": "2022-12-13T13:28:16.305Z"
   },
   {
    "duration": 17,
    "start_time": "2022-12-13T13:28:16.316Z"
   },
   {
    "duration": 738,
    "start_time": "2022-12-13T13:28:16.335Z"
   },
   {
    "duration": 530,
    "start_time": "2022-12-13T13:28:17.075Z"
   },
   {
    "duration": 43,
    "start_time": "2022-12-13T13:28:17.607Z"
   },
   {
    "duration": 11,
    "start_time": "2022-12-13T13:28:17.652Z"
   },
   {
    "duration": 9,
    "start_time": "2022-12-13T13:28:17.665Z"
   },
   {
    "duration": 1391,
    "start_time": "2022-12-13T14:04:26.694Z"
   },
   {
    "duration": 53,
    "start_time": "2022-12-13T14:04:28.087Z"
   },
   {
    "duration": 11,
    "start_time": "2022-12-13T14:04:28.151Z"
   },
   {
    "duration": 6,
    "start_time": "2022-12-13T14:04:28.164Z"
   },
   {
    "duration": 11,
    "start_time": "2022-12-13T14:04:28.171Z"
   },
   {
    "duration": 14,
    "start_time": "2022-12-13T14:04:28.184Z"
   },
   {
    "duration": 866,
    "start_time": "2022-12-13T14:04:28.200Z"
   },
   {
    "duration": 584,
    "start_time": "2022-12-13T14:04:29.068Z"
   },
   {
    "duration": 33,
    "start_time": "2022-12-13T14:04:29.656Z"
   },
   {
    "duration": 15,
    "start_time": "2022-12-13T14:04:29.691Z"
   },
   {
    "duration": 9,
    "start_time": "2022-12-13T14:04:29.707Z"
   },
   {
    "duration": 1447,
    "start_time": "2022-12-13T14:12:23.355Z"
   },
   {
    "duration": 50,
    "start_time": "2022-12-13T14:12:24.805Z"
   },
   {
    "duration": 10,
    "start_time": "2022-12-13T14:12:24.857Z"
   },
   {
    "duration": 5,
    "start_time": "2022-12-13T14:12:24.869Z"
   },
   {
    "duration": 16,
    "start_time": "2022-12-13T14:12:24.875Z"
   },
   {
    "duration": 23,
    "start_time": "2022-12-13T14:12:24.892Z"
   },
   {
    "duration": 793,
    "start_time": "2022-12-13T14:12:24.917Z"
   },
   {
    "duration": 545,
    "start_time": "2022-12-13T14:12:25.712Z"
   },
   {
    "duration": 30,
    "start_time": "2022-12-13T14:12:26.259Z"
   },
   {
    "duration": 11,
    "start_time": "2022-12-13T14:12:26.292Z"
   },
   {
    "duration": 10,
    "start_time": "2022-12-13T14:12:26.305Z"
   },
   {
    "duration": 1406,
    "start_time": "2022-12-13T14:13:07.368Z"
   },
   {
    "duration": 55,
    "start_time": "2022-12-13T14:13:08.776Z"
   },
   {
    "duration": 14,
    "start_time": "2022-12-13T14:13:08.833Z"
   },
   {
    "duration": 8,
    "start_time": "2022-12-13T14:13:08.849Z"
   },
   {
    "duration": 8,
    "start_time": "2022-12-13T14:13:08.859Z"
   },
   {
    "duration": 24,
    "start_time": "2022-12-13T14:13:08.870Z"
   },
   {
    "duration": 763,
    "start_time": "2022-12-13T14:13:08.896Z"
   },
   {
    "duration": 502,
    "start_time": "2022-12-13T14:13:09.661Z"
   },
   {
    "duration": 27,
    "start_time": "2022-12-13T14:13:10.165Z"
   },
   {
    "duration": 11,
    "start_time": "2022-12-13T14:13:10.194Z"
   },
   {
    "duration": 31,
    "start_time": "2022-12-13T14:13:10.207Z"
   },
   {
    "duration": 536907,
    "start_time": "2022-12-13T14:13:10.240Z"
   },
   {
    "duration": 5,
    "start_time": "2022-12-13T14:22:07.149Z"
   },
   {
    "duration": 193,
    "start_time": "2022-12-13T14:22:07.156Z"
   },
   {
    "duration": 2406,
    "start_time": "2022-12-14T06:18:27.470Z"
   },
   {
    "duration": 111,
    "start_time": "2022-12-14T06:18:29.878Z"
   },
   {
    "duration": 11,
    "start_time": "2022-12-14T06:18:52.252Z"
   },
   {
    "duration": 3,
    "start_time": "2022-12-14T06:18:53.111Z"
   },
   {
    "duration": 4,
    "start_time": "2022-12-14T06:18:53.396Z"
   },
   {
    "duration": 23,
    "start_time": "2022-12-14T06:18:53.933Z"
   },
   {
    "duration": 821,
    "start_time": "2022-12-14T06:19:48.142Z"
   },
   {
    "duration": 586,
    "start_time": "2022-12-14T06:19:50.889Z"
   },
   {
    "duration": 34,
    "start_time": "2022-12-14T06:21:23.417Z"
   },
   {
    "duration": 13,
    "start_time": "2022-12-14T06:25:03.871Z"
   },
   {
    "duration": 10,
    "start_time": "2022-12-14T06:25:04.471Z"
   },
   {
    "duration": 42,
    "start_time": "2022-12-14T06:25:20.160Z"
   },
   {
    "duration": 35,
    "start_time": "2022-12-14T06:25:20.682Z"
   },
   {
    "duration": 1421,
    "start_time": "2022-12-14T12:05:41.538Z"
   },
   {
    "duration": 187,
    "start_time": "2022-12-14T12:05:42.962Z"
   },
   {
    "duration": 9,
    "start_time": "2022-12-14T12:05:43.151Z"
   },
   {
    "duration": 29,
    "start_time": "2022-12-14T12:05:43.162Z"
   },
   {
    "duration": 3,
    "start_time": "2022-12-14T12:05:43.398Z"
   },
   {
    "duration": 12,
    "start_time": "2022-12-14T12:05:45.357Z"
   },
   {
    "duration": 709,
    "start_time": "2022-12-14T12:05:46.872Z"
   },
   {
    "duration": 488,
    "start_time": "2022-12-14T12:05:48.139Z"
   },
   {
    "duration": 164,
    "start_time": "2022-12-14T12:05:49.840Z"
   },
   {
    "duration": 134,
    "start_time": "2022-12-14T12:06:21.016Z"
   },
   {
    "duration": 106,
    "start_time": "2022-12-14T12:09:22.405Z"
   },
   {
    "duration": 130,
    "start_time": "2022-12-14T12:09:27.809Z"
   },
   {
    "duration": 1157,
    "start_time": "2022-12-14T12:10:30.660Z"
   },
   {
    "duration": 6,
    "start_time": "2022-12-14T12:22:39.659Z"
   },
   {
    "duration": 13,
    "start_time": "2022-12-14T12:23:31.051Z"
   },
   {
    "duration": 126,
    "start_time": "2022-12-14T12:31:26.902Z"
   },
   {
    "duration": 27,
    "start_time": "2022-12-14T12:35:39.813Z"
   },
   {
    "duration": 12,
    "start_time": "2022-12-14T12:38:47.370Z"
   },
   {
    "duration": 9,
    "start_time": "2022-12-14T12:38:48.743Z"
   },
   {
    "duration": 31,
    "start_time": "2022-12-14T12:38:51.585Z"
   },
   {
    "duration": 32,
    "start_time": "2022-12-14T12:38:52.521Z"
   },
   {
    "duration": 3,
    "start_time": "2022-12-14T12:42:25.696Z"
   },
   {
    "duration": 3,
    "start_time": "2022-12-14T12:42:52.201Z"
   },
   {
    "duration": 1297,
    "start_time": "2022-12-14T12:45:05.613Z"
   },
   {
    "duration": 48,
    "start_time": "2022-12-14T12:45:06.912Z"
   },
   {
    "duration": 10,
    "start_time": "2022-12-14T12:45:06.962Z"
   },
   {
    "duration": 4,
    "start_time": "2022-12-14T12:45:06.973Z"
   },
   {
    "duration": 6,
    "start_time": "2022-12-14T12:45:06.979Z"
   },
   {
    "duration": 20,
    "start_time": "2022-12-14T12:45:06.986Z"
   },
   {
    "duration": 674,
    "start_time": "2022-12-14T12:45:07.007Z"
   },
   {
    "duration": 451,
    "start_time": "2022-12-14T12:45:07.683Z"
   },
   {
    "duration": 136,
    "start_time": "2022-12-14T12:45:08.136Z"
   },
   {
    "duration": 131,
    "start_time": "2022-12-14T12:45:08.274Z"
   },
   {
    "duration": 23,
    "start_time": "2022-12-14T12:45:08.407Z"
   },
   {
    "duration": 11,
    "start_time": "2022-12-14T12:45:08.431Z"
   },
   {
    "duration": 9,
    "start_time": "2022-12-14T12:45:08.443Z"
   },
   {
    "duration": 32,
    "start_time": "2022-12-14T12:45:08.479Z"
   },
   {
    "duration": 30,
    "start_time": "2022-12-14T12:45:08.513Z"
   },
   {
    "duration": 3,
    "start_time": "2022-12-14T12:45:08.544Z"
   },
   {
    "duration": 1312,
    "start_time": "2022-12-14T12:47:09.259Z"
   },
   {
    "duration": 48,
    "start_time": "2022-12-14T12:47:10.573Z"
   },
   {
    "duration": 10,
    "start_time": "2022-12-14T12:47:10.622Z"
   },
   {
    "duration": 3,
    "start_time": "2022-12-14T12:47:10.634Z"
   },
   {
    "duration": 8,
    "start_time": "2022-12-14T12:47:10.638Z"
   },
   {
    "duration": 14,
    "start_time": "2022-12-14T12:47:10.647Z"
   },
   {
    "duration": 698,
    "start_time": "2022-12-14T12:47:10.663Z"
   },
   {
    "duration": 436,
    "start_time": "2022-12-14T12:47:11.362Z"
   },
   {
    "duration": 143,
    "start_time": "2022-12-14T12:47:11.800Z"
   },
   {
    "duration": 134,
    "start_time": "2022-12-14T12:47:11.946Z"
   },
   {
    "duration": 25,
    "start_time": "2022-12-14T12:47:12.081Z"
   },
   {
    "duration": 11,
    "start_time": "2022-12-14T12:47:12.107Z"
   },
   {
    "duration": 8,
    "start_time": "2022-12-14T12:47:12.120Z"
   },
   {
    "duration": 56,
    "start_time": "2022-12-14T12:47:12.129Z"
   },
   {
    "duration": 31,
    "start_time": "2022-12-14T12:47:12.186Z"
   },
   {
    "duration": 3,
    "start_time": "2022-12-14T12:47:12.218Z"
   },
   {
    "duration": 1447,
    "start_time": "2022-12-14T12:48:33.847Z"
   },
   {
    "duration": 52,
    "start_time": "2022-12-14T12:48:35.296Z"
   },
   {
    "duration": 10,
    "start_time": "2022-12-14T12:48:35.349Z"
   },
   {
    "duration": 2,
    "start_time": "2022-12-14T12:48:35.361Z"
   },
   {
    "duration": 7,
    "start_time": "2022-12-14T12:48:35.365Z"
   },
   {
    "duration": 25,
    "start_time": "2022-12-14T12:48:35.373Z"
   },
   {
    "duration": 638,
    "start_time": "2022-12-14T12:48:35.400Z"
   },
   {
    "duration": 442,
    "start_time": "2022-12-14T12:48:36.039Z"
   },
   {
    "duration": 144,
    "start_time": "2022-12-14T12:48:36.482Z"
   },
   {
    "duration": 129,
    "start_time": "2022-12-14T12:48:36.627Z"
   },
   {
    "duration": 32,
    "start_time": "2022-12-14T12:48:36.758Z"
   },
   {
    "duration": 11,
    "start_time": "2022-12-14T12:48:36.791Z"
   },
   {
    "duration": 9,
    "start_time": "2022-12-14T12:48:36.803Z"
   },
   {
    "duration": 33,
    "start_time": "2022-12-14T12:48:36.814Z"
   },
   {
    "duration": 51,
    "start_time": "2022-12-14T12:48:36.848Z"
   },
   {
    "duration": 3,
    "start_time": "2022-12-14T12:48:36.900Z"
   },
   {
    "duration": 431278,
    "start_time": "2022-12-14T12:48:36.905Z"
   },
   {
    "duration": 5,
    "start_time": "2022-12-14T12:55:48.184Z"
   },
   {
    "duration": 100,
    "start_time": "2022-12-14T12:55:48.190Z"
   },
   {
    "duration": 115,
    "start_time": "2022-12-14T13:05:17.293Z"
   },
   {
    "duration": 66,
    "start_time": "2022-12-14T13:05:41.487Z"
   },
   {
    "duration": 1413,
    "start_time": "2022-12-14T13:05:41.879Z"
   },
   {
    "duration": 8,
    "start_time": "2022-12-14T13:09:34.451Z"
   },
   {
    "duration": 16,
    "start_time": "2022-12-14T13:09:40.146Z"
   },
   {
    "duration": 14,
    "start_time": "2022-12-14T13:10:23.981Z"
   },
   {
    "duration": 9,
    "start_time": "2022-12-14T13:10:45.405Z"
   },
   {
    "duration": 15,
    "start_time": "2022-12-14T13:10:59.189Z"
   },
   {
    "duration": 12,
    "start_time": "2022-12-14T13:11:20.346Z"
   },
   {
    "duration": 1376,
    "start_time": "2022-12-14T13:11:29.264Z"
   },
   {
    "duration": 4301,
    "start_time": "2022-12-14T14:02:18.573Z"
   },
   {
    "duration": 55,
    "start_time": "2022-12-14T14:02:22.877Z"
   },
   {
    "duration": 13,
    "start_time": "2022-12-14T14:02:22.934Z"
   },
   {
    "duration": 23,
    "start_time": "2022-12-14T14:02:22.949Z"
   },
   {
    "duration": 46,
    "start_time": "2022-12-14T14:02:22.974Z"
   },
   {
    "duration": 34,
    "start_time": "2022-12-14T14:02:23.022Z"
   },
   {
    "duration": 819,
    "start_time": "2022-12-14T14:02:23.058Z"
   },
   {
    "duration": 559,
    "start_time": "2022-12-14T14:02:23.878Z"
   },
   {
    "duration": 211,
    "start_time": "2022-12-14T14:02:24.440Z"
   },
   {
    "duration": 183,
    "start_time": "2022-12-14T14:02:24.654Z"
   },
   {
    "duration": 33,
    "start_time": "2022-12-14T14:02:24.839Z"
   },
   {
    "duration": 13,
    "start_time": "2022-12-14T14:02:25.170Z"
   },
   {
    "duration": 11,
    "start_time": "2022-12-14T14:02:25.328Z"
   },
   {
    "duration": 37,
    "start_time": "2022-12-14T14:02:25.535Z"
   },
   {
    "duration": 37,
    "start_time": "2022-12-14T14:02:26.284Z"
   },
   {
    "duration": 3,
    "start_time": "2022-12-14T14:02:27.336Z"
   },
   {
    "duration": 575187,
    "start_time": "2022-12-14T14:02:27.843Z"
   }
  ],
  "kernelspec": {
   "display_name": "Python 3 (ipykernel)",
   "language": "python",
   "name": "python3"
  },
  "language_info": {
   "codemirror_mode": {
    "name": "ipython",
    "version": 3
   },
   "file_extension": ".py",
   "mimetype": "text/x-python",
   "name": "python",
   "nbconvert_exporter": "python",
   "pygments_lexer": "ipython3",
   "version": "3.9.5"
  },
  "toc": {
   "base_numbering": 1,
   "nav_menu": {},
   "number_sections": true,
   "sideBar": true,
   "skip_h1_title": true,
   "title_cell": "Содержание",
   "title_sidebar": "Contents",
   "toc_cell": true,
   "toc_position": {
    "height": "calc(100% - 180px)",
    "left": "10px",
    "top": "150px",
    "width": "165px"
   },
   "toc_section_display": true,
   "toc_window_display": true
  }
 },
 "nbformat": 4,
 "nbformat_minor": 2
}
