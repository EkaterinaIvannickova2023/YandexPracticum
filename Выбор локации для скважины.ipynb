{
 "cells": [
  {
   "cell_type": "markdown",
   "metadata": {},
   "source": [
    "# Выбор локации для скважины"
   ]
  },
  {
   "cell_type": "markdown",
   "metadata": {},
   "source": [
    "Допустим, вы работаете в добывающей компании «ГлавРосГосНефть». Нужно решить, где бурить новую скважину.\n",
    "\n",
    "Вам предоставлены пробы нефти в трёх регионах: в каждом 10 000 месторождений, где измерили качество нефти и объём её запасов. Постройте модель машинного обучения, которая поможет определить регион, где добыча принесёт наибольшую прибыль. Проанализируйте возможную прибыль и риски техникой *Bootstrap.*\n",
    "\n",
    "Шаги для выбора локации:\n",
    "\n",
    "- В избранном регионе ищут месторождения, для каждого определяют значения признаков;\n",
    "- Строят модель и оценивают объём запасов;\n",
    "- Выбирают месторождения с самым высокими оценками значений. Количество месторождений зависит от бюджета компании и стоимости разработки одной скважины;\n",
    "- Прибыль равна суммарной прибыли отобранных месторождений."
   ]
  },
  {
   "cell_type": "markdown",
   "metadata": {},
   "source": [
    "Описание данных:\n",
    "\n",
    "id — уникальный идентификатор скважины;\n",
    "\n",
    "\n",
    "f0, f1, f2 — три признака точек (неважно, что они означают, но сами признаки значимы);\n",
    "\n",
    "\n",
    "product — объём запасов в скважине (тыс. баррелей)."
   ]
  },
  {
   "cell_type": "markdown",
   "metadata": {},
   "source": [
    "Условия задачи:\n",
    "\n",
    "Для обучения модели подходит только линейная регрессия (остальные — недостаточно предсказуемые).\n",
    "\n",
    "При разведке региона исследуют 500 точек, из которых с помощью машинного обучения выбирают 200 лучших для разработки.\n",
    "\n",
    "Бюджет на разработку скважин в регионе — 10 млрд рублей.\n",
    "\n",
    "При нынешних ценах один баррель сырья приносит 450 рублей дохода. Доход с каждой единицы продукта составляет 450 тыс. рублей, поскольку объём указан в тысячах баррелей.\n",
    "\n",
    "После оценки рисков нужно оставить лишь те регионы, в которых вероятность убытков меньше 2.5%. Среди них выбирают регион с наибольшей средней прибылью.\n"
   ]
  },
  {
   "cell_type": "markdown",
   "metadata": {},
   "source": [
    "## Загрузка и подготовка данных"
   ]
  },
  {
   "cell_type": "code",
   "execution_count": 1,
   "metadata": {},
   "outputs": [],
   "source": [
    "import pandas as pd\n",
    "import matplotlib.pyplot as plt\n",
    "import numpy as np\n",
    "import seaborn as sns\n",
    "\n",
    "from sklearn.linear_model import LinearRegression\n",
    "from sklearn.model_selection import train_test_split\n",
    "from sklearn.metrics import mean_absolute_error, r2_score, mean_squared_error"
   ]
  },
  {
   "cell_type": "code",
   "execution_count": 2,
   "metadata": {},
   "outputs": [],
   "source": [
    "geo_0=pd.read_csv('/datasets/geo_data_0.csv') #загрузим данные\n",
    "geo_1=pd.read_csv('/datasets/geo_data_1.csv')\n",
    "geo_2=pd.read_csv('/datasets/geo_data_2.csv')"
   ]
  },
  {
   "cell_type": "code",
   "execution_count": 3,
   "metadata": {},
   "outputs": [
    {
     "name": "stdout",
     "output_type": "stream",
     "text": [
      "<class 'pandas.core.frame.DataFrame'>\n",
      "RangeIndex: 100000 entries, 0 to 99999\n",
      "Data columns (total 5 columns):\n",
      " #   Column   Non-Null Count   Dtype  \n",
      "---  ------   --------------   -----  \n",
      " 0   id       100000 non-null  object \n",
      " 1   f0       100000 non-null  float64\n",
      " 2   f1       100000 non-null  float64\n",
      " 3   f2       100000 non-null  float64\n",
      " 4   product  100000 non-null  float64\n",
      "dtypes: float64(4), object(1)\n",
      "memory usage: 3.8+ MB\n",
      "<class 'pandas.core.frame.DataFrame'>\n",
      "RangeIndex: 100000 entries, 0 to 99999\n",
      "Data columns (total 5 columns):\n",
      " #   Column   Non-Null Count   Dtype  \n",
      "---  ------   --------------   -----  \n",
      " 0   id       100000 non-null  object \n",
      " 1   f0       100000 non-null  float64\n",
      " 2   f1       100000 non-null  float64\n",
      " 3   f2       100000 non-null  float64\n",
      " 4   product  100000 non-null  float64\n",
      "dtypes: float64(4), object(1)\n",
      "memory usage: 3.8+ MB\n",
      "<class 'pandas.core.frame.DataFrame'>\n",
      "RangeIndex: 100000 entries, 0 to 99999\n",
      "Data columns (total 5 columns):\n",
      " #   Column   Non-Null Count   Dtype  \n",
      "---  ------   --------------   -----  \n",
      " 0   id       100000 non-null  object \n",
      " 1   f0       100000 non-null  float64\n",
      " 2   f1       100000 non-null  float64\n",
      " 3   f2       100000 non-null  float64\n",
      " 4   product  100000 non-null  float64\n",
      "dtypes: float64(4), object(1)\n",
      "memory usage: 3.8+ MB\n"
     ]
    }
   ],
   "source": [
    "geo_0.info() #изучим данные\n",
    "geo_1.info()\n",
    "geo_2.info()"
   ]
  },
  {
   "cell_type": "code",
   "execution_count": 4,
   "metadata": {},
   "outputs": [
    {
     "data": {
      "text/plain": [
       "0"
      ]
     },
     "execution_count": 4,
     "metadata": {},
     "output_type": "execute_result"
    }
   ],
   "source": [
    "geo_0.duplicated().sum() #проверим данные на дубликаты\n",
    "geo_1.duplicated().sum()\n",
    "geo_2.duplicated().sum()"
   ]
  },
  {
   "cell_type": "code",
   "execution_count": 5,
   "metadata": {},
   "outputs": [
    {
     "data": {
      "text/plain": [
       "id         0\n",
       "f0         0\n",
       "f1         0\n",
       "f2         0\n",
       "product    0\n",
       "dtype: int64"
      ]
     },
     "execution_count": 5,
     "metadata": {},
     "output_type": "execute_result"
    }
   ],
   "source": [
    "geo_0.isna().sum() #проверим данные на пропуски\n",
    "geo_1.isna().sum()\n",
    "geo_2.isna().sum()"
   ]
  },
  {
   "cell_type": "code",
   "execution_count": 6,
   "metadata": {},
   "outputs": [
    {
     "data": {
      "text/html": [
       "<div>\n",
       "<style scoped>\n",
       "    .dataframe tbody tr th:only-of-type {\n",
       "        vertical-align: middle;\n",
       "    }\n",
       "\n",
       "    .dataframe tbody tr th {\n",
       "        vertical-align: top;\n",
       "    }\n",
       "\n",
       "    .dataframe thead th {\n",
       "        text-align: right;\n",
       "    }\n",
       "</style>\n",
       "<table border=\"1\" class=\"dataframe\">\n",
       "  <thead>\n",
       "    <tr style=\"text-align: right;\">\n",
       "      <th></th>\n",
       "      <th>f0</th>\n",
       "      <th>f1</th>\n",
       "      <th>f2</th>\n",
       "      <th>product</th>\n",
       "    </tr>\n",
       "  </thead>\n",
       "  <tbody>\n",
       "    <tr>\n",
       "      <th>count</th>\n",
       "      <td>100000.000000</td>\n",
       "      <td>100000.000000</td>\n",
       "      <td>100000.000000</td>\n",
       "      <td>100000.000000</td>\n",
       "    </tr>\n",
       "    <tr>\n",
       "      <th>mean</th>\n",
       "      <td>0.002023</td>\n",
       "      <td>-0.002081</td>\n",
       "      <td>2.495128</td>\n",
       "      <td>95.000000</td>\n",
       "    </tr>\n",
       "    <tr>\n",
       "      <th>std</th>\n",
       "      <td>1.732045</td>\n",
       "      <td>1.730417</td>\n",
       "      <td>3.473445</td>\n",
       "      <td>44.749921</td>\n",
       "    </tr>\n",
       "    <tr>\n",
       "      <th>min</th>\n",
       "      <td>-8.760004</td>\n",
       "      <td>-7.084020</td>\n",
       "      <td>-11.970335</td>\n",
       "      <td>0.000000</td>\n",
       "    </tr>\n",
       "    <tr>\n",
       "      <th>25%</th>\n",
       "      <td>-1.162288</td>\n",
       "      <td>-1.174820</td>\n",
       "      <td>0.130359</td>\n",
       "      <td>59.450441</td>\n",
       "    </tr>\n",
       "    <tr>\n",
       "      <th>50%</th>\n",
       "      <td>0.009424</td>\n",
       "      <td>-0.009482</td>\n",
       "      <td>2.484236</td>\n",
       "      <td>94.925613</td>\n",
       "    </tr>\n",
       "    <tr>\n",
       "      <th>75%</th>\n",
       "      <td>1.158535</td>\n",
       "      <td>1.163678</td>\n",
       "      <td>4.858794</td>\n",
       "      <td>130.595027</td>\n",
       "    </tr>\n",
       "    <tr>\n",
       "      <th>max</th>\n",
       "      <td>7.238262</td>\n",
       "      <td>7.844801</td>\n",
       "      <td>16.739402</td>\n",
       "      <td>190.029838</td>\n",
       "    </tr>\n",
       "  </tbody>\n",
       "</table>\n",
       "</div>"
      ],
      "text/plain": [
       "                  f0             f1             f2        product\n",
       "count  100000.000000  100000.000000  100000.000000  100000.000000\n",
       "mean        0.002023      -0.002081       2.495128      95.000000\n",
       "std         1.732045       1.730417       3.473445      44.749921\n",
       "min        -8.760004      -7.084020     -11.970335       0.000000\n",
       "25%        -1.162288      -1.174820       0.130359      59.450441\n",
       "50%         0.009424      -0.009482       2.484236      94.925613\n",
       "75%         1.158535       1.163678       4.858794     130.595027\n",
       "max         7.238262       7.844801      16.739402     190.029838"
      ]
     },
     "execution_count": 6,
     "metadata": {},
     "output_type": "execute_result"
    }
   ],
   "source": [
    "geo_0.describe()  #проверим данные на значимые выбросы\n",
    "geo_1.describe()\n",
    "geo_2.describe()"
   ]
  },
  {
   "cell_type": "code",
   "execution_count": 7,
   "metadata": {},
   "outputs": [],
   "source": [
    "geo_0 = geo_0.drop('id', axis=1)    #удалим столбец id , он нам не понадобится для дальнейшего анализа\n",
    "geo_1 = geo_1.drop('id', axis=1)\n",
    "geo_2 = geo_2.drop('id', axis=1)"
   ]
  },
  {
   "cell_type": "markdown",
   "metadata": {},
   "source": [
    "Пропусков нет , дубликатов нет , типы данных верные, среднее близко к медианному значению , значит значительных выбросов нет."
   ]
  },
  {
   "cell_type": "markdown",
   "metadata": {},
   "source": [
    "## Обучение и проверка модели"
   ]
  },
  {
   "cell_type": "code",
   "execution_count": 8,
   "metadata": {},
   "outputs": [],
   "source": [
    "def region(geo_012): # функция для деления на выбоки, расчет среднего , рмсе\n",
    "    features = geo_012.drop(['product'],axis = 1) \n",
    "    target = geo_012['product']\n",
    "    \n",
    "    features_train, features_valid, target_train, target_valid = train_test_split(features, target, test_size = 0.25, random_state=12345)\n",
    "    model = LinearRegression(n_jobs=-1).fit(features_train, target_train) #делим на выборки , обучаем модель\n",
    "    predictions = model.predict(features_valid)\n",
    "    \n",
    "    mse = mean_squared_error(target_valid, predictions)\n",
    "    rmse = mse ** 0.5 #вычисляем rmse\n",
    "\n",
    "    mean = geo_012['product'].mean()\n",
    "    mean_pred = predictions.mean()#среднее\n",
    "    \n",
    "    target_valid = target_valid.reset_index(drop=True)\n",
    "    \n",
    "    return predictions, rmse, mean_pred, target_valid\n"
   ]
  },
  {
   "cell_type": "markdown",
   "metadata": {},
   "source": [
    "Регион 0"
   ]
  },
  {
   "cell_type": "code",
   "execution_count": 9,
   "metadata": {},
   "outputs": [
    {
     "name": "stdout",
     "output_type": "stream",
     "text": [
      "RMSE модели в регионе №0 = 37.579\n",
      "Средний запас предсказанного сырья в регионе №0 = 92.593 тыс. баррелей\n",
      "Реальный средний запас сырья в регионе №0 = 92.079 тыс. баррелей\n"
     ]
    }
   ],
   "source": [
    "predictions_0, rmse_0, mean_pred_0, target_valid_0 = region(geo_0)\n",
    "\n",
    "print('RMSE модели в регионе №0 = {:.3f}'.format(rmse_0))\n",
    "print('Средний запас предсказанного сырья в регионе №0 = {:.3f} тыс. баррелей'.format(mean_pred_0)) \n",
    "print('Реальный средний запас сырья в регионе №0 = {:.3f} тыс. баррелей'.format(target_valid_0.mean())) "
   ]
  },
  {
   "cell_type": "markdown",
   "metadata": {},
   "source": [
    "Регион 1"
   ]
  },
  {
   "cell_type": "code",
   "execution_count": 10,
   "metadata": {},
   "outputs": [
    {
     "name": "stdout",
     "output_type": "stream",
     "text": [
      "RMSE модели в регионе №0 = 0.893\n",
      "Средний запас предсказанного сырья в регионе №0 = 68.729 тыс. баррелей\n",
      "Реальный средний запас сырья в регионе №0 = 68.723 тыс. баррелей\n"
     ]
    }
   ],
   "source": [
    "predictions_1, rmse_1, mean_pred_1, target_valid_1 = region(geo_1)\n",
    "\n",
    "print('RMSE модели в регионе №0 = {:.3f}'.format(rmse_1))\n",
    "print('Средний запас предсказанного сырья в регионе №0 = {:.3f} тыс. баррелей'.format(mean_pred_1)) \n",
    "print('Реальный средний запас сырья в регионе №0 = {:.3f} тыс. баррелей'.format(target_valid_1.mean())) "
   ]
  },
  {
   "cell_type": "markdown",
   "metadata": {},
   "source": [
    "Регион 2"
   ]
  },
  {
   "cell_type": "code",
   "execution_count": 11,
   "metadata": {},
   "outputs": [
    {
     "name": "stdout",
     "output_type": "stream",
     "text": [
      "RMSE модели в регионе №0 = 40.030\n",
      "Средний запас предсказанного сырья в регионе №0 = 94.965 тыс. баррелей\n",
      "Реальный средний запас сырья в регионе №0 = 94.884 тыс. баррелей\n"
     ]
    }
   ],
   "source": [
    "predictions_2, rmse_2, mean_pred_2, target_valid_2 = region(geo_2)\n",
    "\n",
    "print('RMSE модели в регионе №0 = {:.3f}'.format(rmse_2))\n",
    "print('Средний запас предсказанного сырья в регионе №0 = {:.3f} тыс. баррелей'.format(mean_pred_2)) \n",
    "print('Реальный средний запас сырья в регионе №0 = {:.3f} тыс. баррелей'.format(target_valid_2.mean())) "
   ]
  },
  {
   "cell_type": "markdown",
   "metadata": {},
   "source": [
    "Самые богатые регионы по запасам : 0 регион , 2 регион, каждый имеет болеее 90 тыс. баррелей .\n",
    "    \n",
    "Все три модели показали близкие к истинным значениям , разница несколько сотых.\n",
    "\n",
    "RMSE регионов 0 , 2 примерно одинаковый .\n",
    "    \n",
    "RMSE региона 1 показал лучший резульат .    \n",
    "    "
   ]
  },
  {
   "cell_type": "markdown",
   "metadata": {},
   "source": [
    "## Подготовка к расчёту прибыли"
   ]
  },
  {
   "cell_type": "code",
   "execution_count": 12,
   "metadata": {},
   "outputs": [],
   "source": [
    "budjet=10000000000 #бюджет \n",
    "revenue_per_barrel=450000 #доход за 1 баррель сырья\n",
    "total_points=500 #точки для исследования\n",
    "points_for=200 #точки для разработки"
   ]
  },
  {
   "cell_type": "code",
   "execution_count": 13,
   "metadata": {},
   "outputs": [
    {
     "name": "stdout",
     "output_type": "stream",
     "text": [
      "Затраты на разработку 1 скважины 50000000.00 тыс. баррелей\n",
      "Необходимых объём сырья для безубыточной разработки новой скважины 111.11 тыс. баррелей \n"
     ]
    }
   ],
   "source": [
    "clean_budjet = budjet / points_for \n",
    "print('Затраты на разработку 1 скважины {:.2f} тыс. баррелей'.format(clean_budjet))#затраты на разработку 1 скважены\n",
    "product_volume = clean_budjet / revenue_per_barrel #необходимый обьем сырья для безубыточной разработки\n",
    "print('Необходимых объём сырья для безубыточной разработки новой скважины {:.2f} тыс. баррелей '.format(product_volume))"
   ]
  },
  {
   "cell_type": "markdown",
   "metadata": {},
   "source": [
    "Средний необходимых объём сырья для безубыточной разработки новой скважины = 111111.11 тыс. баррелей .\n",
    "\n",
    "\n",
    "Средний необходимый обьем сырья  на разрабоку 1 скважины = 50000000.00 тыс. баррелей .\n",
    "\n"
   ]
  },
  {
   "cell_type": "markdown",
   "metadata": {},
   "source": [
    "## Расчёт прибыли и рисков "
   ]
  },
  {
   "cell_type": "code",
   "execution_count": 14,
   "metadata": {},
   "outputs": [],
   "source": [
    "def revenue(target, probabilities, count): #функция для расчета прибыли по выбранным предсказаниям \n",
    "    probs_sorted = probabilities.sort_values(ascending=False)\n",
    "    selected = target[probs_sorted.index][:count]\n",
    "    return (revenue_per_barrel * selected.sum() - budjet)"
   ]
  },
  {
   "cell_type": "code",
   "execution_count": 15,
   "metadata": {},
   "outputs": [
    {
     "name": "stdout",
     "output_type": "stream",
     "text": [
      "Прибыль региона №0: 3320.83 млн. руб.\n",
      "Прибыль региона №1: 2415.09 млн. руб.\n",
      "Прибыль региона №2: 2710.35 млн. руб.\n"
     ]
    }
   ],
   "source": [
    "print('Прибыль региона №0: {:.2f} млн. руб.'.format(revenue(target_valid_0, pd.Series(predictions_0),200)/10**6))\n",
    "print('Прибыль региона №1: {:.2f} млн. руб.'.format(revenue(target_valid_1, pd.Series(predictions_1),200)/10**6))\n",
    "print('Прибыль региона №2: {:.2f} млн. руб.'.format(revenue(target_valid_2, pd.Series(predictions_2),200)/10**6))"
   ]
  },
  {
   "cell_type": "code",
   "execution_count": 16,
   "metadata": {},
   "outputs": [
    {
     "name": "stdout",
     "output_type": "stream",
     "text": [
      "Регион №0\n",
      "Средняя прибыль:425.939 млн. рублей\n",
      "Доверительный интервал среднего:(-102090094.83793654, 947976353.3583689)\n",
      "2.5%-квантиль:-102.090 млн. рублей\n",
      "Риск:6.00%\n",
      "\n",
      "\n",
      "Регион №1\n",
      "Средняя прибыль:518.259 млн. рублей\n",
      "Доверительный интервал среднего:(128123231.43308444, 953612982.0669085)\n",
      "2.5%-квантиль:128.123 млн. рублей\n",
      "Риск:0.30%\n",
      "\n",
      "\n",
      "Регион №2\n",
      "Средняя прибыль:420.194 млн. рублей\n",
      "Доверительный интервал среднего:(-115852609.16001143, 989629939.8445739)\n",
      "2.5%-квантиль:-115.853 млн. рублей\n",
      "Риск:6.20%\n",
      "\n",
      "\n"
     ]
    }
   ],
   "source": [
    "state = np.random.RandomState(12345)\n",
    "def bootstrap(target,probabilities, reg): # функция с bootstrap для поиска распределения прибыли\n",
    "    values = []\n",
    "    for i in range(1000): \n",
    "        target_subsample = target.sample(500, replace = True, random_state = state)\n",
    "        probs_subsample = probabilities[target_subsample.index] \n",
    "        values.append(revenue(target_subsample, probs_subsample, 200))\n",
    "\n",
    "    values = pd.Series(values)\n",
    "    low = values.quantile(0.025) #нижний квантиль\n",
    "    interval = (values.quantile(0.025), values.quantile(0.975)) #интервал среднего\n",
    "    mean = values.mean()\n",
    "    risk = (values < 0).mean() #риск\n",
    "    \n",
    "    \n",
    "    print(reg)\n",
    "    print('Средняя прибыль:{:.3f} млн. рублей'.format(mean/10**6))\n",
    "    print('Доверительный интервал среднего:{}'.format(interval))\n",
    "    print('2.5%-квантиль:{:.3f} млн. рублей'.format(low/10**6))\n",
    "    print('Риск:{:.2%}'.format(risk))\n",
    "    print('\\n')\n",
    "    \n",
    "bootstrap(target_valid_0, pd.Series(predictions_0), 'Регион №0')\n",
    "bootstrap(target_valid_1, pd.Series(predictions_1), 'Регион №1')\n",
    "bootstrap(target_valid_2, pd.Series(predictions_2), 'Регион №2')"
   ]
  },
  {
   "cell_type": "markdown",
   "metadata": {},
   "source": [
    "## Вывод "
   ]
  },
  {
   "cell_type": "markdown",
   "metadata": {},
   "source": [
    "В ходе работы построили модель машинного обучения, которая помогла нам выявить наилучший регион , где добыча принесет большую прибыль.\n",
    "\n",
    "Проанализировав возможую прибыль и риски техникой Bootstrap , выявили что наименьший риск убытка возникнет в 1 регионе ('geo_1') 0.30% , что подтверждает средний уровень прибыли 518 млн.руб.\n",
    "\n",
    "На втором месте регион 0('geo_0'), на третьем месте с минимальной средней прибылью регион 2('geo_2')"
   ]
  }
 ],
 "metadata": {
  "ExecuteTimeLog": [
   {
    "duration": 51,
    "start_time": "2022-08-08T09:19:08.612Z"
   },
   {
    "duration": 511,
    "start_time": "2022-08-08T09:19:16.274Z"
   },
   {
    "duration": 520,
    "start_time": "2022-08-08T09:19:16.789Z"
   },
   {
    "duration": 171,
    "start_time": "2022-08-08T09:20:20.462Z"
   },
   {
    "duration": 33,
    "start_time": "2022-08-08T09:20:20.829Z"
   },
   {
    "duration": 549,
    "start_time": "2022-08-08T09:20:21.166Z"
   },
   {
    "duration": 569,
    "start_time": "2022-08-08T09:20:25.938Z"
   },
   {
    "duration": 159,
    "start_time": "2022-08-08T09:20:27.913Z"
   },
   {
    "duration": 39,
    "start_time": "2022-08-08T09:21:01.272Z"
   },
   {
    "duration": 133,
    "start_time": "2022-08-08T09:21:51.514Z"
   },
   {
    "duration": 216,
    "start_time": "2022-08-08T09:22:55.098Z"
   },
   {
    "duration": 135,
    "start_time": "2022-08-08T09:23:08.577Z"
   },
   {
    "duration": 57,
    "start_time": "2022-08-09T14:23:25.523Z"
   },
   {
    "duration": 441,
    "start_time": "2022-08-09T14:23:30.154Z"
   },
   {
    "duration": 398,
    "start_time": "2022-08-09T14:23:30.597Z"
   },
   {
    "duration": 222,
    "start_time": "2022-08-09T14:23:30.997Z"
   },
   {
    "duration": 226,
    "start_time": "2022-08-09T14:23:31.221Z"
   },
   {
    "duration": 44,
    "start_time": "2022-08-09T14:23:31.449Z"
   },
   {
    "duration": 157,
    "start_time": "2022-08-09T14:23:31.495Z"
   },
   {
    "duration": 97,
    "start_time": "2022-08-09T14:23:31.654Z"
   },
   {
    "duration": 18,
    "start_time": "2022-08-09T14:26:24.842Z"
   },
   {
    "duration": 34,
    "start_time": "2022-08-09T14:27:19.138Z"
   },
   {
    "duration": 85,
    "start_time": "2022-08-09T14:27:23.039Z"
   },
   {
    "duration": 98,
    "start_time": "2022-08-09T14:27:56.974Z"
   },
   {
    "duration": 58,
    "start_time": "2022-08-09T14:28:35.155Z"
   },
   {
    "duration": 59,
    "start_time": "2022-08-09T14:28:35.474Z"
   },
   {
    "duration": 22,
    "start_time": "2022-08-09T14:28:44.152Z"
   },
   {
    "duration": 47,
    "start_time": "2022-08-09T14:28:44.690Z"
   },
   {
    "duration": 2,
    "start_time": "2022-08-09T14:29:05.544Z"
   },
   {
    "duration": 135,
    "start_time": "2022-08-09T14:29:05.771Z"
   },
   {
    "duration": 128,
    "start_time": "2022-08-09T14:29:05.970Z"
   },
   {
    "duration": 128,
    "start_time": "2022-08-09T14:29:06.175Z"
   },
   {
    "duration": 43,
    "start_time": "2022-08-09T14:29:06.333Z"
   },
   {
    "duration": 136,
    "start_time": "2022-08-09T14:29:06.525Z"
   },
   {
    "duration": 95,
    "start_time": "2022-08-09T14:29:06.732Z"
   },
   {
    "duration": 13,
    "start_time": "2022-08-09T14:29:06.925Z"
   },
   {
    "duration": 5,
    "start_time": "2022-08-09T14:32:36.244Z"
   },
   {
    "duration": 829,
    "start_time": "2022-08-09T14:35:21.922Z"
   },
   {
    "duration": 158,
    "start_time": "2022-08-09T14:35:22.753Z"
   },
   {
    "duration": 168,
    "start_time": "2022-08-09T14:35:22.914Z"
   },
   {
    "duration": 133,
    "start_time": "2022-08-09T14:35:23.085Z"
   },
   {
    "duration": 52,
    "start_time": "2022-08-09T14:35:23.220Z"
   },
   {
    "duration": 163,
    "start_time": "2022-08-09T14:35:23.274Z"
   },
   {
    "duration": 92,
    "start_time": "2022-08-09T14:35:23.439Z"
   },
   {
    "duration": 14,
    "start_time": "2022-08-09T14:35:23.610Z"
   },
   {
    "duration": 46,
    "start_time": "2022-08-09T14:35:24.123Z"
   },
   {
    "duration": 17,
    "start_time": "2022-08-09T14:36:23.231Z"
   },
   {
    "duration": 8,
    "start_time": "2022-08-09T14:36:23.617Z"
   },
   {
    "duration": 1117,
    "start_time": "2022-08-09T14:37:06.474Z"
   },
   {
    "duration": 142,
    "start_time": "2022-08-09T14:37:07.594Z"
   },
   {
    "duration": 137,
    "start_time": "2022-08-09T14:37:07.738Z"
   },
   {
    "duration": 130,
    "start_time": "2022-08-09T14:37:07.877Z"
   },
   {
    "duration": 37,
    "start_time": "2022-08-09T14:37:08.010Z"
   },
   {
    "duration": 154,
    "start_time": "2022-08-09T14:37:08.048Z"
   },
   {
    "duration": 107,
    "start_time": "2022-08-09T14:37:08.204Z"
   },
   {
    "duration": 16,
    "start_time": "2022-08-09T14:37:08.313Z"
   },
   {
    "duration": 112,
    "start_time": "2022-08-09T14:37:08.330Z"
   },
   {
    "duration": 0,
    "start_time": "2022-08-09T14:37:08.444Z"
   },
   {
    "duration": 4,
    "start_time": "2022-08-09T14:40:51.873Z"
   },
   {
    "duration": 4,
    "start_time": "2022-08-09T14:41:20.178Z"
   },
   {
    "duration": 7,
    "start_time": "2022-08-09T14:45:15.979Z"
   },
   {
    "duration": 11,
    "start_time": "2022-08-09T14:45:52.712Z"
   },
   {
    "duration": 4,
    "start_time": "2022-08-09T14:45:54.879Z"
   },
   {
    "duration": 20,
    "start_time": "2022-08-09T14:45:55.458Z"
   },
   {
    "duration": 3,
    "start_time": "2022-08-09T14:46:13.831Z"
   },
   {
    "duration": 8,
    "start_time": "2022-08-09T14:46:14.128Z"
   },
   {
    "duration": 4,
    "start_time": "2022-08-09T14:46:14.570Z"
   },
   {
    "duration": 11,
    "start_time": "2022-08-09T14:46:15.041Z"
   },
   {
    "duration": 14,
    "start_time": "2022-08-09T14:46:44.781Z"
   },
   {
    "duration": 4,
    "start_time": "2022-08-09T14:46:49.952Z"
   },
   {
    "duration": 15,
    "start_time": "2022-08-09T14:46:50.584Z"
   },
   {
    "duration": 4,
    "start_time": "2022-08-09T14:47:06.173Z"
   },
   {
    "duration": 39,
    "start_time": "2022-08-09T14:47:06.615Z"
   },
   {
    "duration": 37,
    "start_time": "2022-08-09T14:47:13.535Z"
   },
   {
    "duration": 7,
    "start_time": "2022-08-09T14:47:16.074Z"
   },
   {
    "duration": 17,
    "start_time": "2022-08-09T14:47:25.162Z"
   },
   {
    "duration": 1073,
    "start_time": "2022-08-09T14:48:08.484Z"
   },
   {
    "duration": 148,
    "start_time": "2022-08-09T14:48:09.559Z"
   },
   {
    "duration": 118,
    "start_time": "2022-08-09T14:48:09.709Z"
   },
   {
    "duration": 123,
    "start_time": "2022-08-09T14:48:09.829Z"
   },
   {
    "duration": 43,
    "start_time": "2022-08-09T14:48:09.953Z"
   },
   {
    "duration": 140,
    "start_time": "2022-08-09T14:48:09.998Z"
   },
   {
    "duration": 101,
    "start_time": "2022-08-09T14:48:10.141Z"
   },
   {
    "duration": 22,
    "start_time": "2022-08-09T14:48:10.244Z"
   },
   {
    "duration": 16,
    "start_time": "2022-08-09T14:48:10.268Z"
   },
   {
    "duration": 57,
    "start_time": "2022-08-09T14:48:10.287Z"
   },
   {
    "duration": 4,
    "start_time": "2022-08-09T14:48:10.346Z"
   },
   {
    "duration": 155,
    "start_time": "2022-08-09T14:48:10.352Z"
   },
   {
    "duration": 1144,
    "start_time": "2022-08-09T14:49:28.882Z"
   },
   {
    "duration": 160,
    "start_time": "2022-08-09T14:49:30.029Z"
   },
   {
    "duration": 132,
    "start_time": "2022-08-09T14:49:30.192Z"
   },
   {
    "duration": 126,
    "start_time": "2022-08-09T14:49:30.326Z"
   },
   {
    "duration": 47,
    "start_time": "2022-08-09T14:49:30.454Z"
   },
   {
    "duration": 165,
    "start_time": "2022-08-09T14:49:30.503Z"
   },
   {
    "duration": 104,
    "start_time": "2022-08-09T14:49:30.673Z"
   },
   {
    "duration": 16,
    "start_time": "2022-08-09T14:49:30.780Z"
   },
   {
    "duration": 75,
    "start_time": "2022-08-09T14:49:30.798Z"
   },
   {
    "duration": 119,
    "start_time": "2022-08-09T14:49:30.875Z"
   },
   {
    "duration": 5,
    "start_time": "2022-08-09T14:49:30.996Z"
   },
   {
    "duration": 198,
    "start_time": "2022-08-09T14:49:31.003Z"
   },
   {
    "duration": 456,
    "start_time": "2022-08-09T14:50:12.698Z"
   },
   {
    "duration": 0,
    "start_time": "2022-08-09T14:50:13.157Z"
   },
   {
    "duration": 1,
    "start_time": "2022-08-09T14:50:13.162Z"
   },
   {
    "duration": 0,
    "start_time": "2022-08-09T14:50:13.165Z"
   },
   {
    "duration": 0,
    "start_time": "2022-08-09T14:50:13.166Z"
   },
   {
    "duration": 0,
    "start_time": "2022-08-09T14:50:13.167Z"
   },
   {
    "duration": 0,
    "start_time": "2022-08-09T14:50:13.168Z"
   },
   {
    "duration": 0,
    "start_time": "2022-08-09T14:50:13.170Z"
   },
   {
    "duration": 0,
    "start_time": "2022-08-09T14:50:13.171Z"
   },
   {
    "duration": 0,
    "start_time": "2022-08-09T14:50:13.172Z"
   },
   {
    "duration": 0,
    "start_time": "2022-08-09T14:50:13.174Z"
   },
   {
    "duration": 0,
    "start_time": "2022-08-09T14:50:13.175Z"
   },
   {
    "duration": 50,
    "start_time": "2022-08-09T14:50:32.487Z"
   },
   {
    "duration": 728,
    "start_time": "2022-08-09T14:50:37.048Z"
   },
   {
    "duration": 147,
    "start_time": "2022-08-09T14:50:38.040Z"
   },
   {
    "duration": 131,
    "start_time": "2022-08-09T14:50:38.256Z"
   },
   {
    "duration": 132,
    "start_time": "2022-08-09T14:50:38.449Z"
   },
   {
    "duration": 35,
    "start_time": "2022-08-09T14:50:38.592Z"
   },
   {
    "duration": 139,
    "start_time": "2022-08-09T14:50:38.737Z"
   },
   {
    "duration": 97,
    "start_time": "2022-08-09T14:50:39.333Z"
   },
   {
    "duration": 15,
    "start_time": "2022-08-09T14:50:39.516Z"
   },
   {
    "duration": 3,
    "start_time": "2022-08-09T14:50:40.202Z"
   },
   {
    "duration": 33,
    "start_time": "2022-08-09T14:50:40.574Z"
   },
   {
    "duration": 3,
    "start_time": "2022-08-09T14:50:41.005Z"
   },
   {
    "duration": 54,
    "start_time": "2022-08-09T14:50:41.270Z"
   },
   {
    "duration": 11,
    "start_time": "2022-08-09T14:54:26.571Z"
   },
   {
    "duration": 5,
    "start_time": "2022-08-09T14:55:02.930Z"
   },
   {
    "duration": 20,
    "start_time": "2022-08-09T14:55:03.738Z"
   },
   {
    "duration": 6,
    "start_time": "2022-08-09T15:00:58.836Z"
   },
   {
    "duration": 3,
    "start_time": "2022-08-09T15:01:25.741Z"
   },
   {
    "duration": 13,
    "start_time": "2022-08-09T15:27:33.282Z"
   },
   {
    "duration": 360,
    "start_time": "2022-08-09T15:34:45.678Z"
   },
   {
    "duration": 33,
    "start_time": "2022-08-09T15:34:46.558Z"
   },
   {
    "duration": 127,
    "start_time": "2022-08-09T15:34:50.031Z"
   },
   {
    "duration": 85,
    "start_time": "2022-08-09T15:34:52.348Z"
   },
   {
    "duration": 12,
    "start_time": "2022-08-09T15:34:54.230Z"
   },
   {
    "duration": 10,
    "start_time": "2022-08-09T15:36:03.377Z"
   },
   {
    "duration": 88,
    "start_time": "2022-08-09T15:36:04.388Z"
   },
   {
    "duration": 21,
    "start_time": "2022-08-09T15:36:05.195Z"
   },
   {
    "duration": 4,
    "start_time": "2022-08-09T15:36:11.061Z"
   },
   {
    "duration": 436,
    "start_time": "2022-08-09T15:36:11.319Z"
   },
   {
    "duration": 39,
    "start_time": "2022-08-09T15:36:11.758Z"
   },
   {
    "duration": 116,
    "start_time": "2022-08-09T15:36:11.873Z"
   },
   {
    "duration": 29,
    "start_time": "2022-08-09T15:36:12.159Z"
   },
   {
    "duration": 82,
    "start_time": "2022-08-09T15:36:12.401Z"
   },
   {
    "duration": 13,
    "start_time": "2022-08-09T15:36:12.647Z"
   },
   {
    "duration": 4,
    "start_time": "2022-08-09T15:37:49.602Z"
   },
   {
    "duration": 32,
    "start_time": "2022-08-09T15:38:00.910Z"
   },
   {
    "duration": 4,
    "start_time": "2022-08-09T15:38:23.821Z"
   },
   {
    "duration": 3,
    "start_time": "2022-08-09T15:39:09.233Z"
   },
   {
    "duration": 353,
    "start_time": "2022-08-09T15:39:10.010Z"
   },
   {
    "duration": 37,
    "start_time": "2022-08-09T15:39:10.366Z"
   },
   {
    "duration": 118,
    "start_time": "2022-08-09T15:39:10.550Z"
   },
   {
    "duration": 21,
    "start_time": "2022-08-09T15:39:10.723Z"
   },
   {
    "duration": 86,
    "start_time": "2022-08-09T15:39:10.883Z"
   },
   {
    "duration": 12,
    "start_time": "2022-08-09T15:39:11.035Z"
   },
   {
    "duration": 4,
    "start_time": "2022-08-09T15:39:11.675Z"
   },
   {
    "duration": 25,
    "start_time": "2022-08-09T15:39:11.835Z"
   },
   {
    "duration": 3,
    "start_time": "2022-08-09T15:39:11.972Z"
   },
   {
    "duration": 20,
    "start_time": "2022-08-09T15:39:12.116Z"
   },
   {
    "duration": 5,
    "start_time": "2022-08-09T15:39:12.278Z"
   },
   {
    "duration": 6,
    "start_time": "2022-08-09T15:39:25.421Z"
   },
   {
    "duration": 9,
    "start_time": "2022-08-09T15:40:29.025Z"
   },
   {
    "duration": 4,
    "start_time": "2022-08-09T15:40:50.469Z"
   },
   {
    "duration": 4,
    "start_time": "2022-08-09T15:41:05.976Z"
   },
   {
    "duration": 4,
    "start_time": "2022-08-09T15:48:09.454Z"
   },
   {
    "duration": 26,
    "start_time": "2022-08-09T15:48:09.727Z"
   },
   {
    "duration": 9,
    "start_time": "2022-08-09T15:48:50.053Z"
   },
   {
    "duration": 21,
    "start_time": "2022-08-09T15:48:50.470Z"
   },
   {
    "duration": 10,
    "start_time": "2022-08-09T15:49:10.070Z"
   },
   {
    "duration": 21,
    "start_time": "2022-08-09T15:49:10.881Z"
   },
   {
    "duration": 11,
    "start_time": "2022-08-09T15:49:25.759Z"
   },
   {
    "duration": 19,
    "start_time": "2022-08-09T15:49:26.609Z"
   },
   {
    "duration": 3,
    "start_time": "2022-08-09T15:50:24.864Z"
   },
   {
    "duration": 62,
    "start_time": "2022-08-09T15:50:26.659Z"
   },
   {
    "duration": 4,
    "start_time": "2022-08-09T15:50:29.958Z"
   },
   {
    "duration": 11,
    "start_time": "2022-08-09T15:50:30.220Z"
   },
   {
    "duration": 20,
    "start_time": "2022-08-09T15:50:30.676Z"
   },
   {
    "duration": 4,
    "start_time": "2022-08-09T15:50:44.953Z"
   },
   {
    "duration": 451,
    "start_time": "2022-08-09T15:50:45.176Z"
   },
   {
    "duration": 38,
    "start_time": "2022-08-09T15:50:45.629Z"
   },
   {
    "duration": 116,
    "start_time": "2022-08-09T15:50:45.970Z"
   },
   {
    "duration": 20,
    "start_time": "2022-08-09T15:50:46.395Z"
   },
   {
    "duration": 82,
    "start_time": "2022-08-09T15:50:46.741Z"
   },
   {
    "duration": 13,
    "start_time": "2022-08-09T15:50:47.064Z"
   },
   {
    "duration": 3,
    "start_time": "2022-08-09T15:50:48.633Z"
   },
   {
    "duration": 4,
    "start_time": "2022-08-09T15:50:48.929Z"
   },
   {
    "duration": 11,
    "start_time": "2022-08-09T15:51:45.108Z"
   },
   {
    "duration": 20,
    "start_time": "2022-08-09T15:51:54.281Z"
   },
   {
    "duration": 568,
    "start_time": "2022-08-09T15:52:27.306Z"
   },
   {
    "duration": 354,
    "start_time": "2022-08-09T15:52:27.876Z"
   },
   {
    "duration": 36,
    "start_time": "2022-08-09T15:52:28.232Z"
   },
   {
    "duration": 127,
    "start_time": "2022-08-09T15:52:28.270Z"
   },
   {
    "duration": 19,
    "start_time": "2022-08-09T15:52:28.398Z"
   },
   {
    "duration": 92,
    "start_time": "2022-08-09T15:52:28.419Z"
   },
   {
    "duration": 13,
    "start_time": "2022-08-09T15:52:28.513Z"
   },
   {
    "duration": 3,
    "start_time": "2022-08-09T15:52:29.672Z"
   },
   {
    "duration": 26,
    "start_time": "2022-08-09T15:52:29.945Z"
   },
   {
    "duration": 5,
    "start_time": "2022-08-09T15:52:30.192Z"
   },
   {
    "duration": 32,
    "start_time": "2022-08-09T15:52:30.634Z"
   },
   {
    "duration": 4,
    "start_time": "2022-08-09T15:52:31.529Z"
   },
   {
    "duration": 12,
    "start_time": "2022-08-09T15:52:31.755Z"
   },
   {
    "duration": 10,
    "start_time": "2022-08-09T15:52:31.955Z"
   },
   {
    "duration": 10,
    "start_time": "2022-08-09T15:52:32.187Z"
   },
   {
    "duration": 9,
    "start_time": "2022-08-09T15:52:32.443Z"
   },
   {
    "duration": 10,
    "start_time": "2022-08-09T15:52:32.708Z"
   },
   {
    "duration": 3,
    "start_time": "2022-08-09T15:52:33.148Z"
   },
   {
    "duration": 12,
    "start_time": "2022-08-09T15:52:33.380Z"
   },
   {
    "duration": 6,
    "start_time": "2022-08-09T15:52:33.612Z"
   },
   {
    "duration": 10,
    "start_time": "2022-08-09T15:52:33.805Z"
   },
   {
    "duration": 9,
    "start_time": "2022-08-09T15:52:34.021Z"
   },
   {
    "duration": 10,
    "start_time": "2022-08-09T15:52:34.212Z"
   },
   {
    "duration": 9,
    "start_time": "2022-08-09T15:52:57.622Z"
   },
   {
    "duration": 3,
    "start_time": "2022-08-09T15:53:22.446Z"
   },
   {
    "duration": 22,
    "start_time": "2022-08-09T15:53:23.129Z"
   },
   {
    "duration": 20,
    "start_time": "2022-08-09T15:53:38.837Z"
   },
   {
    "duration": 12,
    "start_time": "2022-08-09T15:55:35.707Z"
   },
   {
    "duration": 4,
    "start_time": "2022-08-09T15:59:29.213Z"
   },
   {
    "duration": 4,
    "start_time": "2022-08-09T15:59:29.486Z"
   },
   {
    "duration": 11,
    "start_time": "2022-08-09T15:59:29.742Z"
   },
   {
    "duration": 7,
    "start_time": "2022-08-09T15:59:33.278Z"
   },
   {
    "duration": 364,
    "start_time": "2022-08-09T15:59:33.454Z"
   },
   {
    "duration": 38,
    "start_time": "2022-08-09T15:59:33.820Z"
   },
   {
    "duration": 124,
    "start_time": "2022-08-09T15:59:33.859Z"
   },
   {
    "duration": 19,
    "start_time": "2022-08-09T15:59:33.984Z"
   },
   {
    "duration": 82,
    "start_time": "2022-08-09T15:59:34.171Z"
   },
   {
    "duration": 14,
    "start_time": "2022-08-09T15:59:34.332Z"
   },
   {
    "duration": 4,
    "start_time": "2022-08-09T15:59:35.192Z"
   },
   {
    "duration": 5,
    "start_time": "2022-08-09T15:59:35.376Z"
   },
   {
    "duration": 11,
    "start_time": "2022-08-09T15:59:35.560Z"
   },
   {
    "duration": 20,
    "start_time": "2022-08-09T15:59:53.978Z"
   },
   {
    "duration": 6,
    "start_time": "2022-08-09T16:00:24.289Z"
   },
   {
    "duration": 29,
    "start_time": "2022-08-09T16:01:02.801Z"
   },
   {
    "duration": 12,
    "start_time": "2022-08-09T16:02:21.375Z"
   },
   {
    "duration": 22,
    "start_time": "2022-08-09T16:02:21.998Z"
   },
   {
    "duration": 10,
    "start_time": "2022-08-09T16:02:54.067Z"
   },
   {
    "duration": 21,
    "start_time": "2022-08-09T16:02:54.853Z"
   },
   {
    "duration": 12,
    "start_time": "2022-08-09T16:03:06.250Z"
   },
   {
    "duration": 28,
    "start_time": "2022-08-09T16:03:06.950Z"
   },
   {
    "duration": 10,
    "start_time": "2022-08-09T16:03:32.356Z"
   },
   {
    "duration": 10,
    "start_time": "2022-08-09T16:03:38.279Z"
   },
   {
    "duration": 30,
    "start_time": "2022-08-09T16:03:38.798Z"
   },
   {
    "duration": 6,
    "start_time": "2022-08-09T16:04:24.180Z"
   },
   {
    "duration": 4,
    "start_time": "2022-08-09T16:04:28.101Z"
   },
   {
    "duration": 4,
    "start_time": "2022-08-09T16:04:28.381Z"
   },
   {
    "duration": 6,
    "start_time": "2022-08-09T16:04:28.606Z"
   },
   {
    "duration": 10,
    "start_time": "2022-08-09T16:05:48.790Z"
   },
   {
    "duration": 14,
    "start_time": "2022-08-09T16:06:18.777Z"
   },
   {
    "duration": 6,
    "start_time": "2022-08-09T16:06:20.201Z"
   },
   {
    "duration": 3,
    "start_time": "2022-08-09T16:06:21.836Z"
   },
   {
    "duration": 13,
    "start_time": "2022-08-09T16:06:27.687Z"
   },
   {
    "duration": 10,
    "start_time": "2022-08-09T16:06:31.957Z"
   },
   {
    "duration": 13,
    "start_time": "2022-08-09T16:06:32.372Z"
   },
   {
    "duration": 9,
    "start_time": "2022-08-09T16:06:32.612Z"
   },
   {
    "duration": 9,
    "start_time": "2022-08-09T16:06:32.788Z"
   },
   {
    "duration": 4,
    "start_time": "2022-08-09T16:06:33.269Z"
   },
   {
    "duration": 14,
    "start_time": "2022-08-09T16:06:33.470Z"
   },
   {
    "duration": 7,
    "start_time": "2022-08-09T16:06:33.839Z"
   },
   {
    "duration": 15,
    "start_time": "2022-08-09T16:06:34.064Z"
   },
   {
    "duration": 16,
    "start_time": "2022-08-09T16:06:34.263Z"
   },
   {
    "duration": 10,
    "start_time": "2022-08-09T16:06:34.704Z"
   },
   {
    "duration": 4,
    "start_time": "2022-08-09T16:06:48.014Z"
   },
   {
    "duration": 380,
    "start_time": "2022-08-09T16:06:48.229Z"
   },
   {
    "duration": 35,
    "start_time": "2022-08-09T16:06:48.611Z"
   },
   {
    "duration": 140,
    "start_time": "2022-08-09T16:06:48.676Z"
   },
   {
    "duration": 21,
    "start_time": "2022-08-09T16:06:48.859Z"
   },
   {
    "duration": 87,
    "start_time": "2022-08-09T16:06:49.040Z"
   },
   {
    "duration": 14,
    "start_time": "2022-08-09T16:06:49.195Z"
   },
   {
    "duration": 5,
    "start_time": "2022-08-09T16:06:49.872Z"
   },
   {
    "duration": 5,
    "start_time": "2022-08-09T16:06:50.105Z"
   },
   {
    "duration": 12,
    "start_time": "2022-08-09T16:06:50.319Z"
   },
   {
    "duration": 24,
    "start_time": "2022-08-09T16:07:30.985Z"
   },
   {
    "duration": 10,
    "start_time": "2022-08-09T16:09:54.503Z"
   },
   {
    "duration": 29,
    "start_time": "2022-08-09T16:10:30.576Z"
   },
   {
    "duration": 4,
    "start_time": "2022-08-09T16:10:56.182Z"
   },
   {
    "duration": 21,
    "start_time": "2022-08-09T16:11:02.281Z"
   },
   {
    "duration": 21,
    "start_time": "2022-08-09T16:11:26.111Z"
   },
   {
    "duration": 4,
    "start_time": "2022-08-09T16:14:11.810Z"
   },
   {
    "duration": 358,
    "start_time": "2022-08-09T16:14:12.024Z"
   },
   {
    "duration": 37,
    "start_time": "2022-08-09T16:14:12.578Z"
   },
   {
    "duration": 123,
    "start_time": "2022-08-09T16:14:12.778Z"
   },
   {
    "duration": 20,
    "start_time": "2022-08-09T16:14:12.971Z"
   },
   {
    "duration": 91,
    "start_time": "2022-08-09T16:14:13.149Z"
   },
   {
    "duration": 14,
    "start_time": "2022-08-09T16:14:13.315Z"
   },
   {
    "duration": 3,
    "start_time": "2022-08-09T16:14:14.148Z"
   },
   {
    "duration": 26,
    "start_time": "2022-08-09T16:14:14.332Z"
   },
   {
    "duration": 4,
    "start_time": "2022-08-09T16:14:14.525Z"
   },
   {
    "duration": 21,
    "start_time": "2022-08-09T16:14:14.734Z"
   },
   {
    "duration": 31,
    "start_time": "2022-08-09T16:19:00.804Z"
   },
   {
    "duration": 4,
    "start_time": "2022-08-09T16:19:01.413Z"
   },
   {
    "duration": 4,
    "start_time": "2022-08-09T16:21:06.555Z"
   },
   {
    "duration": 20,
    "start_time": "2022-08-09T16:21:18.989Z"
   },
   {
    "duration": 30,
    "start_time": "2022-08-09T16:23:15.241Z"
   },
   {
    "duration": 4,
    "start_time": "2022-08-09T16:23:15.705Z"
   },
   {
    "duration": 5,
    "start_time": "2022-08-09T16:23:16.190Z"
   },
   {
    "duration": 4,
    "start_time": "2022-08-09T16:23:30.887Z"
   },
   {
    "duration": 4,
    "start_time": "2022-08-09T16:26:53.034Z"
   },
   {
    "duration": 27,
    "start_time": "2022-08-09T16:26:53.282Z"
   },
   {
    "duration": 4,
    "start_time": "2022-08-09T16:26:53.578Z"
   },
   {
    "duration": 9,
    "start_time": "2022-08-10T06:20:06.909Z"
   },
   {
    "duration": 4,
    "start_time": "2022-08-10T06:28:26.276Z"
   },
   {
    "duration": 1099,
    "start_time": "2022-08-10T06:28:32.658Z"
   },
   {
    "duration": 705,
    "start_time": "2022-08-10T06:28:33.759Z"
   },
   {
    "duration": 32,
    "start_time": "2022-08-10T06:28:34.466Z"
   },
   {
    "duration": 114,
    "start_time": "2022-08-10T06:28:34.500Z"
   },
   {
    "duration": 18,
    "start_time": "2022-08-10T06:28:34.616Z"
   },
   {
    "duration": 85,
    "start_time": "2022-08-10T06:28:35.278Z"
   },
   {
    "duration": 14,
    "start_time": "2022-08-10T06:28:35.732Z"
   },
   {
    "duration": 4,
    "start_time": "2022-08-10T06:28:38.058Z"
   },
   {
    "duration": 116,
    "start_time": "2022-08-10T06:32:33.728Z"
   },
   {
    "duration": 479,
    "start_time": "2022-08-10T06:33:26.260Z"
   },
   {
    "duration": 368,
    "start_time": "2022-08-10T06:33:26.792Z"
   },
   {
    "duration": 33,
    "start_time": "2022-08-10T06:33:27.162Z"
   },
   {
    "duration": 109,
    "start_time": "2022-08-10T06:33:27.279Z"
   },
   {
    "duration": 19,
    "start_time": "2022-08-10T06:33:27.560Z"
   },
   {
    "duration": 108,
    "start_time": "2022-08-10T06:33:27.811Z"
   },
   {
    "duration": 12,
    "start_time": "2022-08-10T06:33:28.148Z"
   },
   {
    "duration": 4,
    "start_time": "2022-08-10T06:33:29.034Z"
   },
   {
    "duration": 38,
    "start_time": "2022-08-10T06:33:29.251Z"
   },
   {
    "duration": 4,
    "start_time": "2022-08-10T06:33:59.399Z"
   },
   {
    "duration": 40,
    "start_time": "2022-08-10T06:33:59.871Z"
   },
   {
    "duration": 13,
    "start_time": "2022-08-10T06:36:22.604Z"
   },
   {
    "duration": 29,
    "start_time": "2022-08-10T06:36:42.093Z"
   },
   {
    "duration": 19,
    "start_time": "2022-08-10T06:36:50.546Z"
   },
   {
    "duration": 55,
    "start_time": "2022-08-10T06:36:57.057Z"
   },
   {
    "duration": 4,
    "start_time": "2022-08-10T06:37:53.656Z"
   },
   {
    "duration": 24,
    "start_time": "2022-08-10T06:37:54.136Z"
   },
   {
    "duration": 27,
    "start_time": "2022-08-10T06:38:39.487Z"
   },
   {
    "duration": 26,
    "start_time": "2022-08-10T06:39:05.984Z"
   },
   {
    "duration": 51,
    "start_time": "2022-08-10T06:39:25.875Z"
   },
   {
    "duration": 4,
    "start_time": "2022-08-10T06:40:44.368Z"
   },
   {
    "duration": 32,
    "start_time": "2022-08-10T06:40:45.479Z"
   },
   {
    "duration": 43,
    "start_time": "2022-08-10T06:40:56.404Z"
   },
   {
    "duration": 47,
    "start_time": "2022-08-10T06:41:00.087Z"
   },
   {
    "duration": 28,
    "start_time": "2022-08-10T06:41:04.182Z"
   },
   {
    "duration": 126,
    "start_time": "2022-08-10T06:44:25.685Z"
   },
   {
    "duration": 64,
    "start_time": "2022-08-10T06:44:26.551Z"
   },
   {
    "duration": 50,
    "start_time": "2022-08-10T06:44:31.963Z"
   },
   {
    "duration": 4,
    "start_time": "2022-08-10T06:51:41.175Z"
   },
   {
    "duration": 362,
    "start_time": "2022-08-10T06:51:41.367Z"
   },
   {
    "duration": 33,
    "start_time": "2022-08-10T06:51:41.731Z"
   },
   {
    "duration": 124,
    "start_time": "2022-08-10T06:51:41.766Z"
   },
   {
    "duration": 19,
    "start_time": "2022-08-10T06:51:41.958Z"
   },
   {
    "duration": 83,
    "start_time": "2022-08-10T06:51:42.176Z"
   },
   {
    "duration": 13,
    "start_time": "2022-08-10T06:51:42.391Z"
   },
   {
    "duration": 6,
    "start_time": "2022-08-10T06:51:43.130Z"
   },
   {
    "duration": 30,
    "start_time": "2022-08-10T06:51:43.482Z"
   },
   {
    "duration": 24,
    "start_time": "2022-08-10T06:51:43.922Z"
   },
   {
    "duration": 24,
    "start_time": "2022-08-10T06:51:44.453Z"
   },
   {
    "duration": 3,
    "start_time": "2022-08-10T06:58:01.089Z"
   },
   {
    "duration": 9,
    "start_time": "2022-08-10T07:09:53.454Z"
   },
   {
    "duration": 4,
    "start_time": "2022-08-10T07:10:01.285Z"
   },
   {
    "duration": 4,
    "start_time": "2022-08-10T07:11:02.046Z"
   },
   {
    "duration": 3,
    "start_time": "2022-08-10T07:20:03.374Z"
   },
   {
    "duration": 321,
    "start_time": "2022-08-10T07:20:03.574Z"
   },
   {
    "duration": 31,
    "start_time": "2022-08-10T07:20:03.990Z"
   },
   {
    "duration": 103,
    "start_time": "2022-08-10T07:20:04.224Z"
   },
   {
    "duration": 19,
    "start_time": "2022-08-10T07:20:04.471Z"
   },
   {
    "duration": 79,
    "start_time": "2022-08-10T07:20:04.679Z"
   },
   {
    "duration": 12,
    "start_time": "2022-08-10T07:20:04.886Z"
   },
   {
    "duration": 4,
    "start_time": "2022-08-10T07:20:05.663Z"
   },
   {
    "duration": 22,
    "start_time": "2022-08-10T07:20:06.073Z"
   },
   {
    "duration": 20,
    "start_time": "2022-08-10T07:20:06.600Z"
   },
   {
    "duration": 21,
    "start_time": "2022-08-10T07:20:07.081Z"
   },
   {
    "duration": 3,
    "start_time": "2022-08-10T07:20:08.309Z"
   },
   {
    "duration": 4,
    "start_time": "2022-08-10T07:20:08.795Z"
   },
   {
    "duration": 2,
    "start_time": "2022-08-10T07:36:47.651Z"
   },
   {
    "duration": 2,
    "start_time": "2022-08-10T07:36:48.003Z"
   },
   {
    "duration": 5,
    "start_time": "2022-08-10T07:38:44.267Z"
   },
   {
    "duration": 4,
    "start_time": "2022-08-10T07:42:20.490Z"
   },
   {
    "duration": 3,
    "start_time": "2022-08-10T07:43:30.605Z"
   },
   {
    "duration": 8,
    "start_time": "2022-08-10T07:43:30.965Z"
   },
   {
    "duration": 50,
    "start_time": "2022-08-10T07:43:31.246Z"
   },
   {
    "duration": 1332,
    "start_time": "2022-08-10T07:44:35.209Z"
   },
   {
    "duration": 352,
    "start_time": "2022-08-10T07:44:36.543Z"
   },
   {
    "duration": 33,
    "start_time": "2022-08-10T07:44:36.897Z"
   },
   {
    "duration": 131,
    "start_time": "2022-08-10T07:44:36.932Z"
   },
   {
    "duration": 19,
    "start_time": "2022-08-10T07:44:37.064Z"
   },
   {
    "duration": 104,
    "start_time": "2022-08-10T07:44:37.085Z"
   },
   {
    "duration": 14,
    "start_time": "2022-08-10T07:44:37.190Z"
   },
   {
    "duration": 5,
    "start_time": "2022-08-10T07:44:37.210Z"
   },
   {
    "duration": 94,
    "start_time": "2022-08-10T07:44:37.216Z"
   },
   {
    "duration": 123,
    "start_time": "2022-08-10T07:44:37.315Z"
   },
   {
    "duration": 121,
    "start_time": "2022-08-10T07:44:37.513Z"
   },
   {
    "duration": 75,
    "start_time": "2022-08-10T07:44:37.638Z"
   },
   {
    "duration": 100,
    "start_time": "2022-08-10T07:44:37.717Z"
   },
   {
    "duration": 6,
    "start_time": "2022-08-10T07:44:37.818Z"
   },
   {
    "duration": 118,
    "start_time": "2022-08-10T07:44:37.825Z"
   },
   {
    "duration": 0,
    "start_time": "2022-08-10T07:44:37.944Z"
   },
   {
    "duration": 0,
    "start_time": "2022-08-10T07:44:37.946Z"
   },
   {
    "duration": 0,
    "start_time": "2022-08-10T07:44:37.947Z"
   },
   {
    "duration": 0,
    "start_time": "2022-08-10T07:44:37.948Z"
   },
   {
    "duration": 4,
    "start_time": "2022-08-10T08:26:45.124Z"
   },
   {
    "duration": 20,
    "start_time": "2022-08-10T08:27:40.078Z"
   },
   {
    "duration": 3,
    "start_time": "2022-08-10T08:32:39.542Z"
   },
   {
    "duration": 13,
    "start_time": "2022-08-10T08:32:41.762Z"
   },
   {
    "duration": 14,
    "start_time": "2022-08-10T08:36:09.857Z"
   },
   {
    "duration": 21,
    "start_time": "2022-08-10T08:36:10.533Z"
   },
   {
    "duration": 3,
    "start_time": "2022-08-10T08:36:16.157Z"
   },
   {
    "duration": 12,
    "start_time": "2022-08-10T08:36:16.478Z"
   },
   {
    "duration": 3,
    "start_time": "2022-08-10T08:41:06.231Z"
   },
   {
    "duration": 18,
    "start_time": "2022-08-10T08:41:25.954Z"
   },
   {
    "duration": 3381,
    "start_time": "2022-08-10T08:42:22.435Z"
   },
   {
    "duration": 1407,
    "start_time": "2022-08-10T08:46:00.234Z"
   },
   {
    "duration": 400,
    "start_time": "2022-08-10T08:46:01.643Z"
   },
   {
    "duration": 34,
    "start_time": "2022-08-10T08:46:02.045Z"
   },
   {
    "duration": 131,
    "start_time": "2022-08-10T08:46:02.081Z"
   },
   {
    "duration": 19,
    "start_time": "2022-08-10T08:46:02.214Z"
   },
   {
    "duration": 105,
    "start_time": "2022-08-10T08:46:02.234Z"
   },
   {
    "duration": 16,
    "start_time": "2022-08-10T08:46:02.341Z"
   },
   {
    "duration": 27,
    "start_time": "2022-08-10T08:46:02.359Z"
   },
   {
    "duration": 125,
    "start_time": "2022-08-10T08:46:02.388Z"
   },
   {
    "duration": 127,
    "start_time": "2022-08-10T08:46:02.518Z"
   },
   {
    "duration": 176,
    "start_time": "2022-08-10T08:46:02.648Z"
   },
   {
    "duration": 86,
    "start_time": "2022-08-10T08:46:02.826Z"
   },
   {
    "duration": 103,
    "start_time": "2022-08-10T08:46:02.915Z"
   },
   {
    "duration": 10,
    "start_time": "2022-08-10T08:46:03.020Z"
   },
   {
    "duration": 26,
    "start_time": "2022-08-10T08:46:03.032Z"
   },
   {
    "duration": 3305,
    "start_time": "2022-08-10T08:46:03.060Z"
   },
   {
    "duration": 117,
    "start_time": "2022-08-10T08:51:30.596Z"
   },
   {
    "duration": 25,
    "start_time": "2022-08-10T08:51:53.065Z"
   },
   {
    "duration": 15,
    "start_time": "2022-08-10T08:52:05.487Z"
   },
   {
    "duration": 3454,
    "start_time": "2022-08-10T08:52:06.380Z"
   },
   {
    "duration": 1547,
    "start_time": "2022-08-10T08:52:35.389Z"
   },
   {
    "duration": 358,
    "start_time": "2022-08-10T08:52:36.938Z"
   },
   {
    "duration": 39,
    "start_time": "2022-08-10T08:52:37.298Z"
   },
   {
    "duration": 131,
    "start_time": "2022-08-10T08:52:37.339Z"
   },
   {
    "duration": 20,
    "start_time": "2022-08-10T08:52:37.471Z"
   },
   {
    "duration": 95,
    "start_time": "2022-08-10T08:52:37.492Z"
   },
   {
    "duration": 23,
    "start_time": "2022-08-10T08:52:37.588Z"
   },
   {
    "duration": 11,
    "start_time": "2022-08-10T08:52:37.613Z"
   },
   {
    "duration": 38,
    "start_time": "2022-08-10T08:52:37.625Z"
   },
   {
    "duration": 112,
    "start_time": "2022-08-10T08:52:37.713Z"
   },
   {
    "duration": 198,
    "start_time": "2022-08-10T08:52:37.826Z"
   },
   {
    "duration": 86,
    "start_time": "2022-08-10T08:52:38.026Z"
   },
   {
    "duration": 98,
    "start_time": "2022-08-10T08:52:38.115Z"
   },
   {
    "duration": 144,
    "start_time": "2022-08-10T08:52:38.215Z"
   },
   {
    "duration": 0,
    "start_time": "2022-08-10T08:52:38.361Z"
   },
   {
    "duration": 15,
    "start_time": "2022-08-10T08:53:48.605Z"
   },
   {
    "duration": 14,
    "start_time": "2022-08-10T08:54:07.647Z"
   },
   {
    "duration": 3,
    "start_time": "2022-08-10T08:54:16.388Z"
   },
   {
    "duration": 14,
    "start_time": "2022-08-10T08:54:20.764Z"
   },
   {
    "duration": 3,
    "start_time": "2022-08-10T08:55:16.642Z"
   },
   {
    "duration": 13,
    "start_time": "2022-08-10T08:55:17.317Z"
   },
   {
    "duration": 3,
    "start_time": "2022-08-10T08:58:10.118Z"
   },
   {
    "duration": 13,
    "start_time": "2022-08-10T08:58:10.484Z"
   },
   {
    "duration": 81,
    "start_time": "2022-08-10T09:04:52.092Z"
   },
   {
    "duration": 133,
    "start_time": "2022-08-10T17:35:18.967Z"
   },
   {
    "duration": 1592,
    "start_time": "2022-08-10T17:35:32.381Z"
   },
   {
    "duration": 748,
    "start_time": "2022-08-10T17:35:33.975Z"
   },
   {
    "duration": 32,
    "start_time": "2022-08-10T17:35:34.727Z"
   },
   {
    "duration": 123,
    "start_time": "2022-08-10T17:35:34.761Z"
   },
   {
    "duration": 25,
    "start_time": "2022-08-10T17:35:34.886Z"
   },
   {
    "duration": 91,
    "start_time": "2022-08-10T17:35:34.912Z"
   },
   {
    "duration": 17,
    "start_time": "2022-08-10T17:35:35.005Z"
   },
   {
    "duration": 6,
    "start_time": "2022-08-10T17:35:35.023Z"
   },
   {
    "duration": 74,
    "start_time": "2022-08-10T17:35:35.031Z"
   },
   {
    "duration": 117,
    "start_time": "2022-08-10T17:35:35.107Z"
   },
   {
    "duration": 187,
    "start_time": "2022-08-10T17:35:35.226Z"
   },
   {
    "duration": 86,
    "start_time": "2022-08-10T17:35:35.414Z"
   },
   {
    "duration": 100,
    "start_time": "2022-08-10T17:35:35.502Z"
   },
   {
    "duration": 94,
    "start_time": "2022-08-10T17:35:35.604Z"
   },
   {
    "duration": 3,
    "start_time": "2022-08-10T17:42:05.540Z"
   },
   {
    "duration": 4,
    "start_time": "2022-08-10T17:48:46.576Z"
   },
   {
    "duration": 120,
    "start_time": "2022-08-10T17:49:11.399Z"
   },
   {
    "duration": 6,
    "start_time": "2022-08-10T17:52:57.929Z"
   },
   {
    "duration": 15,
    "start_time": "2022-08-10T17:53:04.288Z"
   },
   {
    "duration": 6,
    "start_time": "2022-08-10T17:53:42.015Z"
   },
   {
    "duration": 3856,
    "start_time": "2022-08-10T17:53:42.528Z"
   },
   {
    "duration": 10,
    "start_time": "2022-08-10T17:53:50.003Z"
   },
   {
    "duration": 1372,
    "start_time": "2022-08-10T17:54:56.075Z"
   },
   {
    "duration": 341,
    "start_time": "2022-08-10T17:54:57.449Z"
   },
   {
    "duration": 30,
    "start_time": "2022-08-10T17:54:57.792Z"
   },
   {
    "duration": 116,
    "start_time": "2022-08-10T17:54:57.824Z"
   },
   {
    "duration": 17,
    "start_time": "2022-08-10T17:54:57.942Z"
   },
   {
    "duration": 91,
    "start_time": "2022-08-10T17:54:57.960Z"
   },
   {
    "duration": 16,
    "start_time": "2022-08-10T17:54:58.053Z"
   },
   {
    "duration": 8,
    "start_time": "2022-08-10T17:54:58.071Z"
   },
   {
    "duration": 41,
    "start_time": "2022-08-10T17:54:58.080Z"
   },
   {
    "duration": 193,
    "start_time": "2022-08-10T17:54:58.123Z"
   },
   {
    "duration": 200,
    "start_time": "2022-08-10T17:54:58.317Z"
   },
   {
    "duration": 81,
    "start_time": "2022-08-10T17:54:58.519Z"
   },
   {
    "duration": 100,
    "start_time": "2022-08-10T17:54:58.604Z"
   },
   {
    "duration": 7,
    "start_time": "2022-08-10T17:54:58.706Z"
   },
   {
    "duration": 8,
    "start_time": "2022-08-10T17:54:58.715Z"
   },
   {
    "duration": 3925,
    "start_time": "2022-08-10T17:54:58.724Z"
   },
   {
    "duration": 8,
    "start_time": "2022-08-10T17:55:02.651Z"
   },
   {
    "duration": 5,
    "start_time": "2022-08-10T17:56:49.330Z"
   },
   {
    "duration": 3,
    "start_time": "2022-08-10T18:02:05.541Z"
   },
   {
    "duration": 5,
    "start_time": "2022-08-10T18:02:06.269Z"
   },
   {
    "duration": 3974,
    "start_time": "2022-08-10T18:02:06.588Z"
   },
   {
    "duration": 9,
    "start_time": "2022-08-10T18:02:10.564Z"
   },
   {
    "duration": 9,
    "start_time": "2022-08-10T18:09:47.228Z"
   },
   {
    "duration": 1478,
    "start_time": "2022-08-10T18:11:45.852Z"
   },
   {
    "duration": 362,
    "start_time": "2022-08-10T18:11:47.332Z"
   },
   {
    "duration": 36,
    "start_time": "2022-08-10T18:11:47.696Z"
   },
   {
    "duration": 159,
    "start_time": "2022-08-10T18:11:47.734Z"
   },
   {
    "duration": 21,
    "start_time": "2022-08-10T18:11:47.895Z"
   },
   {
    "duration": 106,
    "start_time": "2022-08-10T18:11:47.918Z"
   },
   {
    "duration": 17,
    "start_time": "2022-08-10T18:11:48.026Z"
   },
   {
    "duration": 13,
    "start_time": "2022-08-10T18:11:48.045Z"
   },
   {
    "duration": 45,
    "start_time": "2022-08-10T18:11:48.059Z"
   },
   {
    "duration": 201,
    "start_time": "2022-08-10T18:11:48.107Z"
   },
   {
    "duration": 233,
    "start_time": "2022-08-10T18:11:48.310Z"
   },
   {
    "duration": 57,
    "start_time": "2022-08-10T18:11:48.544Z"
   },
   {
    "duration": 119,
    "start_time": "2022-08-10T18:11:48.603Z"
   },
   {
    "duration": 20,
    "start_time": "2022-08-10T18:11:48.724Z"
   },
   {
    "duration": 10,
    "start_time": "2022-08-10T18:11:48.745Z"
   },
   {
    "duration": 3980,
    "start_time": "2022-08-10T18:11:48.756Z"
   },
   {
    "duration": 9,
    "start_time": "2022-08-10T18:11:52.738Z"
   },
   {
    "duration": 5,
    "start_time": "2022-08-10T18:13:03.797Z"
   },
   {
    "duration": 99,
    "start_time": "2022-08-10T18:13:04.464Z"
   },
   {
    "duration": 5,
    "start_time": "2022-08-10T18:13:14.476Z"
   },
   {
    "duration": 3784,
    "start_time": "2022-08-10T18:13:14.879Z"
   },
   {
    "duration": 9,
    "start_time": "2022-08-10T18:13:19.509Z"
   },
   {
    "duration": 5,
    "start_time": "2022-08-10T18:14:11.954Z"
   },
   {
    "duration": 3731,
    "start_time": "2022-08-10T18:14:13.772Z"
   },
   {
    "duration": 10,
    "start_time": "2022-08-10T18:14:18.328Z"
   },
   {
    "duration": 1296,
    "start_time": "2022-08-10T18:17:52.754Z"
   },
   {
    "duration": 357,
    "start_time": "2022-08-10T18:17:54.052Z"
   },
   {
    "duration": 33,
    "start_time": "2022-08-10T18:17:54.410Z"
   },
   {
    "duration": 149,
    "start_time": "2022-08-10T18:17:54.445Z"
   },
   {
    "duration": 18,
    "start_time": "2022-08-10T18:17:54.601Z"
   },
   {
    "duration": 97,
    "start_time": "2022-08-10T18:17:54.621Z"
   },
   {
    "duration": 27,
    "start_time": "2022-08-10T18:17:54.719Z"
   },
   {
    "duration": 16,
    "start_time": "2022-08-10T18:17:54.748Z"
   },
   {
    "duration": 36,
    "start_time": "2022-08-10T18:17:54.765Z"
   },
   {
    "duration": 209,
    "start_time": "2022-08-10T18:17:54.802Z"
   },
   {
    "duration": 116,
    "start_time": "2022-08-10T18:17:55.105Z"
   },
   {
    "duration": 6,
    "start_time": "2022-08-10T18:17:55.300Z"
   },
   {
    "duration": 104,
    "start_time": "2022-08-10T18:17:55.309Z"
   },
   {
    "duration": 6,
    "start_time": "2022-08-10T18:17:55.415Z"
   },
   {
    "duration": 7,
    "start_time": "2022-08-10T18:17:55.422Z"
   },
   {
    "duration": 3820,
    "start_time": "2022-08-10T18:17:55.430Z"
   },
   {
    "duration": 8,
    "start_time": "2022-08-10T18:17:59.251Z"
   },
   {
    "duration": 3914,
    "start_time": "2022-08-10T18:18:39.353Z"
   },
   {
    "duration": 4,
    "start_time": "2022-08-10T18:25:38.278Z"
   },
   {
    "duration": 99,
    "start_time": "2022-08-10T18:34:15.952Z"
   },
   {
    "duration": 11,
    "start_time": "2022-08-10T18:34:55.569Z"
   },
   {
    "duration": 12,
    "start_time": "2022-08-10T18:35:25.832Z"
   },
   {
    "duration": 12,
    "start_time": "2022-08-10T18:35:38.948Z"
   },
   {
    "duration": 11,
    "start_time": "2022-08-10T18:35:51.159Z"
   },
   {
    "duration": 12,
    "start_time": "2022-08-10T18:36:26.143Z"
   },
   {
    "duration": 13,
    "start_time": "2022-08-10T18:37:06.032Z"
   },
   {
    "duration": 12,
    "start_time": "2022-08-10T18:37:16.127Z"
   },
   {
    "duration": 12,
    "start_time": "2022-08-10T18:37:33.153Z"
   },
   {
    "duration": 12,
    "start_time": "2022-08-10T18:37:45.102Z"
   },
   {
    "duration": 3,
    "start_time": "2022-08-10T18:38:12.053Z"
   },
   {
    "duration": 5,
    "start_time": "2022-08-10T18:38:12.525Z"
   },
   {
    "duration": 3883,
    "start_time": "2022-08-10T18:38:13.041Z"
   },
   {
    "duration": 4,
    "start_time": "2022-08-10T18:38:16.926Z"
   },
   {
    "duration": 7,
    "start_time": "2022-08-10T18:38:16.931Z"
   },
   {
    "duration": 4,
    "start_time": "2022-08-10T18:43:46.070Z"
   },
   {
    "duration": 128,
    "start_time": "2022-08-10T18:43:48.073Z"
   },
   {
    "duration": 5,
    "start_time": "2022-08-10T18:44:04.195Z"
   },
   {
    "duration": 59,
    "start_time": "2022-08-10T18:44:05.245Z"
   },
   {
    "duration": 5,
    "start_time": "2022-08-10T18:44:27.187Z"
   },
   {
    "duration": 32,
    "start_time": "2022-08-10T18:44:28.169Z"
   },
   {
    "duration": 5,
    "start_time": "2022-08-10T18:44:58.664Z"
   },
   {
    "duration": 32,
    "start_time": "2022-08-10T18:44:59.458Z"
   },
   {
    "duration": 4,
    "start_time": "2022-08-10T18:45:16.723Z"
   },
   {
    "duration": 31,
    "start_time": "2022-08-10T18:45:17.802Z"
   },
   {
    "duration": 1328,
    "start_time": "2022-08-10T18:46:32.830Z"
   },
   {
    "duration": 349,
    "start_time": "2022-08-10T18:46:34.160Z"
   },
   {
    "duration": 31,
    "start_time": "2022-08-10T18:46:34.511Z"
   },
   {
    "duration": 126,
    "start_time": "2022-08-10T18:46:34.544Z"
   },
   {
    "duration": 29,
    "start_time": "2022-08-10T18:46:34.671Z"
   },
   {
    "duration": 77,
    "start_time": "2022-08-10T18:46:34.702Z"
   },
   {
    "duration": 26,
    "start_time": "2022-08-10T18:46:34.780Z"
   },
   {
    "duration": 7,
    "start_time": "2022-08-10T18:46:34.808Z"
   },
   {
    "duration": 125,
    "start_time": "2022-08-10T18:46:34.817Z"
   },
   {
    "duration": 0,
    "start_time": "2022-08-10T18:46:34.944Z"
   },
   {
    "duration": 0,
    "start_time": "2022-08-10T18:46:34.946Z"
   },
   {
    "duration": 0,
    "start_time": "2022-08-10T18:46:34.947Z"
   },
   {
    "duration": 0,
    "start_time": "2022-08-10T18:46:34.947Z"
   },
   {
    "duration": 0,
    "start_time": "2022-08-10T18:46:34.950Z"
   },
   {
    "duration": 0,
    "start_time": "2022-08-10T18:46:34.951Z"
   },
   {
    "duration": 0,
    "start_time": "2022-08-10T18:46:34.952Z"
   },
   {
    "duration": 0,
    "start_time": "2022-08-10T18:46:34.952Z"
   },
   {
    "duration": 6,
    "start_time": "2022-08-10T18:47:00.009Z"
   },
   {
    "duration": 34,
    "start_time": "2022-08-10T18:47:00.610Z"
   },
   {
    "duration": 1218,
    "start_time": "2022-08-10T18:47:53.957Z"
   },
   {
    "duration": 343,
    "start_time": "2022-08-10T18:47:55.177Z"
   },
   {
    "duration": 31,
    "start_time": "2022-08-10T18:47:55.522Z"
   },
   {
    "duration": 124,
    "start_time": "2022-08-10T18:47:55.555Z"
   },
   {
    "duration": 24,
    "start_time": "2022-08-10T18:47:55.680Z"
   },
   {
    "duration": 80,
    "start_time": "2022-08-10T18:47:55.706Z"
   },
   {
    "duration": 25,
    "start_time": "2022-08-10T18:47:55.787Z"
   },
   {
    "duration": 6,
    "start_time": "2022-08-10T18:47:55.814Z"
   },
   {
    "duration": 126,
    "start_time": "2022-08-10T18:47:55.821Z"
   },
   {
    "duration": 0,
    "start_time": "2022-08-10T18:47:55.949Z"
   },
   {
    "duration": 0,
    "start_time": "2022-08-10T18:47:55.951Z"
   },
   {
    "duration": 0,
    "start_time": "2022-08-10T18:47:55.952Z"
   },
   {
    "duration": 0,
    "start_time": "2022-08-10T18:47:55.952Z"
   },
   {
    "duration": 0,
    "start_time": "2022-08-10T18:47:55.953Z"
   },
   {
    "duration": 0,
    "start_time": "2022-08-10T18:47:55.954Z"
   },
   {
    "duration": 0,
    "start_time": "2022-08-10T18:47:55.955Z"
   },
   {
    "duration": 0,
    "start_time": "2022-08-10T18:47:55.956Z"
   },
   {
    "duration": 4,
    "start_time": "2022-08-10T18:51:50.848Z"
   },
   {
    "duration": 31,
    "start_time": "2022-08-10T18:51:51.716Z"
   },
   {
    "duration": 5,
    "start_time": "2022-08-10T18:53:26.832Z"
   },
   {
    "duration": 116,
    "start_time": "2022-08-10T18:53:27.586Z"
   },
   {
    "duration": 33,
    "start_time": "2022-08-10T18:53:29.410Z"
   },
   {
    "duration": 28,
    "start_time": "2022-08-10T18:53:31.856Z"
   },
   {
    "duration": 3,
    "start_time": "2022-08-10T18:53:33.755Z"
   },
   {
    "duration": 4,
    "start_time": "2022-08-10T18:53:33.987Z"
   },
   {
    "duration": 3,
    "start_time": "2022-08-10T18:53:35.846Z"
   },
   {
    "duration": 5,
    "start_time": "2022-08-10T18:53:36.094Z"
   },
   {
    "duration": 3640,
    "start_time": "2022-08-10T18:53:36.759Z"
   },
   {
    "duration": 4,
    "start_time": "2022-08-10T18:53:40.401Z"
   },
   {
    "duration": 12,
    "start_time": "2022-08-10T18:54:27.919Z"
   },
   {
    "duration": 15,
    "start_time": "2022-08-10T18:55:06.465Z"
   },
   {
    "duration": 15,
    "start_time": "2022-08-10T18:55:16.253Z"
   },
   {
    "duration": 14,
    "start_time": "2022-08-10T18:55:18.800Z"
   },
   {
    "duration": 1272,
    "start_time": "2022-08-10T18:55:32.752Z"
   },
   {
    "duration": 336,
    "start_time": "2022-08-10T18:55:34.026Z"
   },
   {
    "duration": 40,
    "start_time": "2022-08-10T18:55:34.363Z"
   },
   {
    "duration": 131,
    "start_time": "2022-08-10T18:55:34.405Z"
   },
   {
    "duration": 17,
    "start_time": "2022-08-10T18:55:34.537Z"
   },
   {
    "duration": 93,
    "start_time": "2022-08-10T18:55:34.556Z"
   },
   {
    "duration": 16,
    "start_time": "2022-08-10T18:55:34.650Z"
   },
   {
    "duration": 31,
    "start_time": "2022-08-10T18:55:34.667Z"
   },
   {
    "duration": 40,
    "start_time": "2022-08-10T18:55:34.699Z"
   },
   {
    "duration": 186,
    "start_time": "2022-08-10T18:55:34.741Z"
   },
   {
    "duration": 190,
    "start_time": "2022-08-10T18:55:34.929Z"
   },
   {
    "duration": 81,
    "start_time": "2022-08-10T18:55:35.121Z"
   },
   {
    "duration": 103,
    "start_time": "2022-08-10T18:55:35.205Z"
   },
   {
    "duration": 17,
    "start_time": "2022-08-10T18:55:35.310Z"
   },
   {
    "duration": 4,
    "start_time": "2022-08-10T19:00:15.763Z"
   },
   {
    "duration": 17,
    "start_time": "2022-08-10T19:00:36.653Z"
   },
   {
    "duration": 3,
    "start_time": "2022-08-10T19:00:41.405Z"
   },
   {
    "duration": 17,
    "start_time": "2022-08-10T19:00:41.745Z"
   },
   {
    "duration": 3656,
    "start_time": "2022-08-10T19:00:56.927Z"
   },
   {
    "duration": 1283,
    "start_time": "2022-08-10T19:02:15.805Z"
   },
   {
    "duration": 341,
    "start_time": "2022-08-10T19:02:17.090Z"
   },
   {
    "duration": 32,
    "start_time": "2022-08-10T19:02:17.433Z"
   },
   {
    "duration": 127,
    "start_time": "2022-08-10T19:02:17.467Z"
   },
   {
    "duration": 24,
    "start_time": "2022-08-10T19:02:17.596Z"
   },
   {
    "duration": 104,
    "start_time": "2022-08-10T19:02:17.622Z"
   },
   {
    "duration": 16,
    "start_time": "2022-08-10T19:02:17.728Z"
   },
   {
    "duration": 5,
    "start_time": "2022-08-10T19:02:17.746Z"
   },
   {
    "duration": 51,
    "start_time": "2022-08-10T19:02:17.753Z"
   },
   {
    "duration": 195,
    "start_time": "2022-08-10T19:02:17.806Z"
   },
   {
    "duration": 114,
    "start_time": "2022-08-10T19:02:18.002Z"
   },
   {
    "duration": 3,
    "start_time": "2022-08-10T19:02:18.118Z"
   },
   {
    "duration": 103,
    "start_time": "2022-08-10T19:02:18.202Z"
   },
   {
    "duration": 6,
    "start_time": "2022-08-10T19:02:18.307Z"
   },
   {
    "duration": 22,
    "start_time": "2022-08-10T19:02:18.314Z"
   },
   {
    "duration": 3663,
    "start_time": "2022-08-10T19:02:18.338Z"
   },
   {
    "duration": 4,
    "start_time": "2022-08-10T19:03:49.203Z"
   },
   {
    "duration": 28,
    "start_time": "2022-08-10T19:03:50.758Z"
   },
   {
    "duration": 30,
    "start_time": "2022-08-10T19:04:18.336Z"
   },
   {
    "duration": 30,
    "start_time": "2022-08-10T19:04:18.934Z"
   },
   {
    "duration": 3,
    "start_time": "2022-08-10T19:04:20.559Z"
   },
   {
    "duration": 3,
    "start_time": "2022-08-10T19:05:17.721Z"
   },
   {
    "duration": 4,
    "start_time": "2022-08-10T19:05:18.250Z"
   },
   {
    "duration": 3,
    "start_time": "2022-08-10T19:05:23.256Z"
   },
   {
    "duration": 17,
    "start_time": "2022-08-10T19:05:23.800Z"
   },
   {
    "duration": 3607,
    "start_time": "2022-08-10T19:05:30.920Z"
   },
   {
    "duration": 4,
    "start_time": "2022-08-10T19:16:51.482Z"
   },
   {
    "duration": 17,
    "start_time": "2022-08-10T19:16:51.922Z"
   },
   {
    "duration": 3545,
    "start_time": "2022-08-10T19:18:33.625Z"
   },
   {
    "duration": 3583,
    "start_time": "2022-08-10T19:32:29.555Z"
   },
   {
    "duration": 3526,
    "start_time": "2022-08-10T19:38:12.349Z"
   },
   {
    "duration": 3719,
    "start_time": "2022-08-10T19:38:30.248Z"
   },
   {
    "duration": 3591,
    "start_time": "2022-08-10T19:38:47.150Z"
   },
   {
    "duration": 1268,
    "start_time": "2022-08-10T19:39:02.245Z"
   },
   {
    "duration": 371,
    "start_time": "2022-08-10T19:39:03.515Z"
   },
   {
    "duration": 42,
    "start_time": "2022-08-10T19:39:03.888Z"
   },
   {
    "duration": 139,
    "start_time": "2022-08-10T19:39:03.932Z"
   },
   {
    "duration": 29,
    "start_time": "2022-08-10T19:39:04.073Z"
   },
   {
    "duration": 101,
    "start_time": "2022-08-10T19:39:04.104Z"
   },
   {
    "duration": 17,
    "start_time": "2022-08-10T19:39:04.207Z"
   },
   {
    "duration": 6,
    "start_time": "2022-08-10T19:39:04.226Z"
   },
   {
    "duration": 168,
    "start_time": "2022-08-10T19:39:04.233Z"
   },
   {
    "duration": 101,
    "start_time": "2022-08-10T19:39:04.403Z"
   },
   {
    "duration": 114,
    "start_time": "2022-08-10T19:39:04.506Z"
   },
   {
    "duration": 4,
    "start_time": "2022-08-10T19:39:04.699Z"
   },
   {
    "duration": 100,
    "start_time": "2022-08-10T19:39:04.705Z"
   },
   {
    "duration": 6,
    "start_time": "2022-08-10T19:39:04.806Z"
   },
   {
    "duration": 33,
    "start_time": "2022-08-10T19:39:04.814Z"
   },
   {
    "duration": 3601,
    "start_time": "2022-08-10T19:39:04.849Z"
   },
   {
    "duration": 3,
    "start_time": "2022-08-10T19:39:48.855Z"
   },
   {
    "duration": 1284,
    "start_time": "2022-08-10T19:39:53.406Z"
   },
   {
    "duration": 358,
    "start_time": "2022-08-10T19:39:54.692Z"
   },
   {
    "duration": 33,
    "start_time": "2022-08-10T19:39:55.052Z"
   },
   {
    "duration": 126,
    "start_time": "2022-08-10T19:39:55.087Z"
   },
   {
    "duration": 18,
    "start_time": "2022-08-10T19:39:55.215Z"
   },
   {
    "duration": 98,
    "start_time": "2022-08-10T19:39:55.234Z"
   },
   {
    "duration": 16,
    "start_time": "2022-08-10T19:39:55.334Z"
   },
   {
    "duration": 7,
    "start_time": "2022-08-10T19:39:55.352Z"
   },
   {
    "duration": 50,
    "start_time": "2022-08-10T19:39:55.361Z"
   },
   {
    "duration": 205,
    "start_time": "2022-08-10T19:39:55.414Z"
   },
   {
    "duration": 192,
    "start_time": "2022-08-10T19:39:55.621Z"
   },
   {
    "duration": 86,
    "start_time": "2022-08-10T19:39:55.815Z"
   },
   {
    "duration": 107,
    "start_time": "2022-08-10T19:39:55.903Z"
   },
   {
    "duration": 12,
    "start_time": "2022-08-10T19:39:56.011Z"
   },
   {
    "duration": 22,
    "start_time": "2022-08-10T19:39:56.025Z"
   },
   {
    "duration": 3579,
    "start_time": "2022-08-10T19:39:56.048Z"
   },
   {
    "duration": 1795,
    "start_time": "2022-08-10T19:55:40.865Z"
   },
   {
    "duration": 1013,
    "start_time": "2022-08-10T19:55:42.662Z"
   },
   {
    "duration": 41,
    "start_time": "2022-08-10T19:55:43.677Z"
   },
   {
    "duration": 143,
    "start_time": "2022-08-10T19:55:43.720Z"
   },
   {
    "duration": 21,
    "start_time": "2022-08-10T19:55:43.865Z"
   },
   {
    "duration": 113,
    "start_time": "2022-08-10T19:55:43.909Z"
   },
   {
    "duration": 20,
    "start_time": "2022-08-10T19:55:44.024Z"
   },
   {
    "duration": 5,
    "start_time": "2022-08-10T19:55:44.045Z"
   },
   {
    "duration": 95,
    "start_time": "2022-08-10T19:55:44.052Z"
   },
   {
    "duration": 94,
    "start_time": "2022-08-10T19:55:44.218Z"
   },
   {
    "duration": 144,
    "start_time": "2022-08-10T19:55:44.317Z"
   },
   {
    "duration": 45,
    "start_time": "2022-08-10T19:55:44.464Z"
   },
   {
    "duration": 118,
    "start_time": "2022-08-10T19:55:44.520Z"
   },
   {
    "duration": 12,
    "start_time": "2022-08-10T19:55:44.640Z"
   },
   {
    "duration": 26,
    "start_time": "2022-08-10T19:55:44.653Z"
   },
   {
    "duration": 3952,
    "start_time": "2022-08-10T19:55:44.681Z"
   },
   {
    "duration": 81,
    "start_time": "2022-08-10T22:02:05.512Z"
   }
  ],
  "kernelspec": {
   "display_name": "Python 3 (ipykernel)",
   "language": "python",
   "name": "python3"
  },
  "language_info": {
   "codemirror_mode": {
    "name": "ipython",
    "version": 3
   },
   "file_extension": ".py",
   "mimetype": "text/x-python",
   "name": "python",
   "nbconvert_exporter": "python",
   "pygments_lexer": "ipython3",
   "version": "3.9.5"
  },
  "toc": {
   "base_numbering": 1,
   "nav_menu": {},
   "number_sections": true,
   "sideBar": true,
   "skip_h1_title": true,
   "title_cell": "Table of Contents",
   "title_sidebar": "Contents",
   "toc_cell": false,
   "toc_position": {},
   "toc_section_display": true,
   "toc_window_display": false
  }
 },
 "nbformat": 4,
 "nbformat_minor": 2
}
